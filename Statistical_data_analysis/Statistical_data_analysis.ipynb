{
 "cells": [
  {
   "cell_type": "markdown",
   "metadata": {},
   "source": [
    "# Определение перспективного тарифа для телеком-компании\n",
    "\n",
    "Вы аналитик компании «Мегалайн» — федерального оператора сотовой связи. Клиентам предлагают два тарифных плана: «Смарт» и «Ультра». Чтобы скорректировать рекламный бюджет, коммерческий департамент хочет понять, какой тариф приносит больше денег.\n",
    "\n",
    "Вам предстоит сделать предварительный анализ тарифов на небольшой выборке клиентов. В вашем распоряжении данные 500 пользователей «Мегалайна»: кто они, откуда, каким тарифом пользуются, сколько звонков и сообщений каждый отправил за 2018 год. Нужно проанализировать поведение клиентов и сделать вывод — какой тариф лучше.\n",
    "\n",
    "Описание тарифов:\n",
    "\n",
    "Тариф «Смарт»\n",
    "* Ежемесячная плата: 550 рублей\n",
    "* Включено 500 минут разговора, 50 сообщений и 15 Гб интернет-трафика\n",
    "* Стоимость услуг сверх тарифного пакета:\n",
    "* минута разговора: 3 рубля\n",
    "* сообщение: 3 рубля\n",
    "* 1 Гб интернет-трафика: 200 рублей\n",
    "\n",
    "Тариф «Ультра»\n",
    "* Ежемесячная плата: 1950 рублей\n",
    "* Включено 3000 минут разговора, 1000 сообщений и 30 Гб интернет-трафика\n",
    "* Стоимость услуг сверх тарифного пакета:\n",
    "* минута разговора: 1 рубль\n",
    "* сообщение: 1 рубль\n",
    "* 1 Гб интернет-трафика: 150 рублей\n",
    "\n",
    "Примечание:\n",
    "«Мегалайн» всегда округляет секунды до минут, а мегабайты — до гигабайт. Каждый звонок округляется отдельно: даже если он длился всего 1 секунду, будет засчитан как 1 минута.\n",
    "Для веб-трафика отдельные сессии не считаются. Вместо этого общая сумма за месяц округляется в бо́льшую сторону. Если абонент использует 1025 мегабайт в этом месяце, с него возьмут плату за 2 гигабайта."
   ]
  },
  {
   "cell_type": "markdown",
   "metadata": {},
   "source": [
    "## Импорт библиотек и загрузка данных"
   ]
  },
  {
   "cell_type": "code",
   "execution_count": 1,
   "metadata": {},
   "outputs": [],
   "source": [
    "import pandas as pd\n",
    "import numpy as np\n",
    "import matplotlib.pyplot as plt\n",
    "from scipy import stats as st\n"
   ]
  },
  {
   "cell_type": "code",
   "execution_count": 2,
   "metadata": {},
   "outputs": [],
   "source": [
    "calls = pd.read_csv('/datasets/calls.csv')\n",
    "internet = pd.read_csv('/datasets/internet.csv')\n",
    "messages = pd.read_csv('/datasets/messages.csv')\n",
    "tariffs = pd.read_csv('/datasets/tariffs.csv')\n",
    "users = pd.read_csv('/datasets/users.csv')"
   ]
  },
  {
   "cell_type": "markdown",
   "metadata": {},
   "source": [
    "## Подготовка данных"
   ]
  },
  {
   "cell_type": "markdown",
   "metadata": {},
   "source": [
    "### Приведение данных к нужным типам и исправление ошибок"
   ]
  },
  {
   "cell_type": "markdown",
   "metadata": {},
   "source": [
    "#### Датасет со звонками"
   ]
  },
  {
   "cell_type": "code",
   "execution_count": 3,
   "metadata": {},
   "outputs": [
    {
     "data": {
      "text/html": [
       "<div>\n",
       "<style scoped>\n",
       "    .dataframe tbody tr th:only-of-type {\n",
       "        vertical-align: middle;\n",
       "    }\n",
       "\n",
       "    .dataframe tbody tr th {\n",
       "        vertical-align: top;\n",
       "    }\n",
       "\n",
       "    .dataframe thead th {\n",
       "        text-align: right;\n",
       "    }\n",
       "</style>\n",
       "<table border=\"1\" class=\"dataframe\">\n",
       "  <thead>\n",
       "    <tr style=\"text-align: right;\">\n",
       "      <th></th>\n",
       "      <th>id</th>\n",
       "      <th>call_date</th>\n",
       "      <th>duration</th>\n",
       "      <th>user_id</th>\n",
       "    </tr>\n",
       "  </thead>\n",
       "  <tbody>\n",
       "    <tr>\n",
       "      <th>0</th>\n",
       "      <td>1000_0</td>\n",
       "      <td>2018-07-25</td>\n",
       "      <td>0.00</td>\n",
       "      <td>1000</td>\n",
       "    </tr>\n",
       "    <tr>\n",
       "      <th>1</th>\n",
       "      <td>1000_1</td>\n",
       "      <td>2018-08-17</td>\n",
       "      <td>0.00</td>\n",
       "      <td>1000</td>\n",
       "    </tr>\n",
       "    <tr>\n",
       "      <th>2</th>\n",
       "      <td>1000_2</td>\n",
       "      <td>2018-06-11</td>\n",
       "      <td>2.85</td>\n",
       "      <td>1000</td>\n",
       "    </tr>\n",
       "    <tr>\n",
       "      <th>3</th>\n",
       "      <td>1000_3</td>\n",
       "      <td>2018-09-21</td>\n",
       "      <td>13.80</td>\n",
       "      <td>1000</td>\n",
       "    </tr>\n",
       "    <tr>\n",
       "      <th>4</th>\n",
       "      <td>1000_4</td>\n",
       "      <td>2018-12-15</td>\n",
       "      <td>5.18</td>\n",
       "      <td>1000</td>\n",
       "    </tr>\n",
       "  </tbody>\n",
       "</table>\n",
       "</div>"
      ],
      "text/plain": [
       "       id   call_date  duration  user_id\n",
       "0  1000_0  2018-07-25      0.00     1000\n",
       "1  1000_1  2018-08-17      0.00     1000\n",
       "2  1000_2  2018-06-11      2.85     1000\n",
       "3  1000_3  2018-09-21     13.80     1000\n",
       "4  1000_4  2018-12-15      5.18     1000"
      ]
     },
     "execution_count": 3,
     "metadata": {},
     "output_type": "execute_result"
    }
   ],
   "source": [
    "calls.head()"
   ]
  },
  {
   "cell_type": "code",
   "execution_count": 4,
   "metadata": {},
   "outputs": [
    {
     "data": {
      "text/html": [
       "<div>\n",
       "<style scoped>\n",
       "    .dataframe tbody tr th:only-of-type {\n",
       "        vertical-align: middle;\n",
       "    }\n",
       "\n",
       "    .dataframe tbody tr th {\n",
       "        vertical-align: top;\n",
       "    }\n",
       "\n",
       "    .dataframe thead th {\n",
       "        text-align: right;\n",
       "    }\n",
       "</style>\n",
       "<table border=\"1\" class=\"dataframe\">\n",
       "  <thead>\n",
       "    <tr style=\"text-align: right;\">\n",
       "      <th></th>\n",
       "      <th>duration</th>\n",
       "      <th>user_id</th>\n",
       "    </tr>\n",
       "  </thead>\n",
       "  <tbody>\n",
       "    <tr>\n",
       "      <th>count</th>\n",
       "      <td>202607.000000</td>\n",
       "      <td>202607.000000</td>\n",
       "    </tr>\n",
       "    <tr>\n",
       "      <th>mean</th>\n",
       "      <td>6.755887</td>\n",
       "      <td>1253.940619</td>\n",
       "    </tr>\n",
       "    <tr>\n",
       "      <th>std</th>\n",
       "      <td>5.843365</td>\n",
       "      <td>144.722751</td>\n",
       "    </tr>\n",
       "    <tr>\n",
       "      <th>min</th>\n",
       "      <td>0.000000</td>\n",
       "      <td>1000.000000</td>\n",
       "    </tr>\n",
       "    <tr>\n",
       "      <th>25%</th>\n",
       "      <td>1.300000</td>\n",
       "      <td>1126.000000</td>\n",
       "    </tr>\n",
       "    <tr>\n",
       "      <th>50%</th>\n",
       "      <td>6.000000</td>\n",
       "      <td>1260.000000</td>\n",
       "    </tr>\n",
       "    <tr>\n",
       "      <th>75%</th>\n",
       "      <td>10.700000</td>\n",
       "      <td>1379.000000</td>\n",
       "    </tr>\n",
       "    <tr>\n",
       "      <th>max</th>\n",
       "      <td>38.000000</td>\n",
       "      <td>1499.000000</td>\n",
       "    </tr>\n",
       "  </tbody>\n",
       "</table>\n",
       "</div>"
      ],
      "text/plain": [
       "            duration        user_id\n",
       "count  202607.000000  202607.000000\n",
       "mean        6.755887    1253.940619\n",
       "std         5.843365     144.722751\n",
       "min         0.000000    1000.000000\n",
       "25%         1.300000    1126.000000\n",
       "50%         6.000000    1260.000000\n",
       "75%        10.700000    1379.000000\n",
       "max        38.000000    1499.000000"
      ]
     },
     "execution_count": 4,
     "metadata": {},
     "output_type": "execute_result"
    }
   ],
   "source": [
    "calls.describe()"
   ]
  },
  {
   "cell_type": "markdown",
   "metadata": {},
   "source": [
    "Минимальный звонок 0 минут (пропущенные звонки), максимальный - 38 минут. Аномально долгих звонков не выялено, в среднем звонок длится около 7 минут."
   ]
  },
  {
   "cell_type": "code",
   "execution_count": 5,
   "metadata": {},
   "outputs": [
    {
     "name": "stdout",
     "output_type": "stream",
     "text": [
      "<class 'pandas.core.frame.DataFrame'>\n",
      "RangeIndex: 202607 entries, 0 to 202606\n",
      "Data columns (total 4 columns):\n",
      " #   Column     Non-Null Count   Dtype  \n",
      "---  ------     --------------   -----  \n",
      " 0   id         202607 non-null  object \n",
      " 1   call_date  202607 non-null  object \n",
      " 2   duration   202607 non-null  float64\n",
      " 3   user_id    202607 non-null  int64  \n",
      "dtypes: float64(1), int64(1), object(2)\n",
      "memory usage: 6.2+ MB\n"
     ]
    }
   ],
   "source": [
    "calls.info()"
   ]
  },
  {
   "cell_type": "markdown",
   "metadata": {},
   "source": [
    "Видим, что в датасете нет пропусков.\n",
    "Необходимо привести столбец `call_date` к типу дата, а также округлить значения из столбца `duration` в большую сторону, т.к. это сказано в примечании к проекту. При округлении получим целые значения, так что приведем  данные к целочисленному типу. Не будем удалять звонки с нулевой продолжительностью, т.к. так обозначаются пропущенные звонки."
   ]
  },
  {
   "cell_type": "code",
   "execution_count": 6,
   "metadata": {},
   "outputs": [],
   "source": [
    "calls['call_date'] = pd.to_datetime(calls['call_date'], format='%Y-%m-%d')"
   ]
  },
  {
   "cell_type": "code",
   "execution_count": 7,
   "metadata": {},
   "outputs": [],
   "source": [
    "calls['duration'] = np.ceil(calls['duration']).astype('int')"
   ]
  },
  {
   "cell_type": "code",
   "execution_count": 8,
   "metadata": {},
   "outputs": [
    {
     "name": "stdout",
     "output_type": "stream",
     "text": [
      "<class 'pandas.core.frame.DataFrame'>\n",
      "RangeIndex: 202607 entries, 0 to 202606\n",
      "Data columns (total 4 columns):\n",
      " #   Column     Non-Null Count   Dtype         \n",
      "---  ------     --------------   -----         \n",
      " 0   id         202607 non-null  object        \n",
      " 1   call_date  202607 non-null  datetime64[ns]\n",
      " 2   duration   202607 non-null  int64         \n",
      " 3   user_id    202607 non-null  int64         \n",
      "dtypes: datetime64[ns](1), int64(2), object(1)\n",
      "memory usage: 6.2+ MB\n"
     ]
    },
    {
     "data": {
      "text/html": [
       "<div>\n",
       "<style scoped>\n",
       "    .dataframe tbody tr th:only-of-type {\n",
       "        vertical-align: middle;\n",
       "    }\n",
       "\n",
       "    .dataframe tbody tr th {\n",
       "        vertical-align: top;\n",
       "    }\n",
       "\n",
       "    .dataframe thead th {\n",
       "        text-align: right;\n",
       "    }\n",
       "</style>\n",
       "<table border=\"1\" class=\"dataframe\">\n",
       "  <thead>\n",
       "    <tr style=\"text-align: right;\">\n",
       "      <th></th>\n",
       "      <th>id</th>\n",
       "      <th>call_date</th>\n",
       "      <th>duration</th>\n",
       "      <th>user_id</th>\n",
       "    </tr>\n",
       "  </thead>\n",
       "  <tbody>\n",
       "    <tr>\n",
       "      <th>0</th>\n",
       "      <td>1000_0</td>\n",
       "      <td>2018-07-25</td>\n",
       "      <td>0</td>\n",
       "      <td>1000</td>\n",
       "    </tr>\n",
       "    <tr>\n",
       "      <th>1</th>\n",
       "      <td>1000_1</td>\n",
       "      <td>2018-08-17</td>\n",
       "      <td>0</td>\n",
       "      <td>1000</td>\n",
       "    </tr>\n",
       "    <tr>\n",
       "      <th>2</th>\n",
       "      <td>1000_2</td>\n",
       "      <td>2018-06-11</td>\n",
       "      <td>3</td>\n",
       "      <td>1000</td>\n",
       "    </tr>\n",
       "    <tr>\n",
       "      <th>3</th>\n",
       "      <td>1000_3</td>\n",
       "      <td>2018-09-21</td>\n",
       "      <td>14</td>\n",
       "      <td>1000</td>\n",
       "    </tr>\n",
       "    <tr>\n",
       "      <th>4</th>\n",
       "      <td>1000_4</td>\n",
       "      <td>2018-12-15</td>\n",
       "      <td>6</td>\n",
       "      <td>1000</td>\n",
       "    </tr>\n",
       "  </tbody>\n",
       "</table>\n",
       "</div>"
      ],
      "text/plain": [
       "       id  call_date  duration  user_id\n",
       "0  1000_0 2018-07-25         0     1000\n",
       "1  1000_1 2018-08-17         0     1000\n",
       "2  1000_2 2018-06-11         3     1000\n",
       "3  1000_3 2018-09-21        14     1000\n",
       "4  1000_4 2018-12-15         6     1000"
      ]
     },
     "metadata": {},
     "output_type": "display_data"
    },
    {
     "data": {
      "text/plain": [
       "None"
      ]
     },
     "metadata": {},
     "output_type": "display_data"
    }
   ],
   "source": [
    "display(calls.head(), calls.info())"
   ]
  },
  {
   "cell_type": "markdown",
   "metadata": {},
   "source": [
    "#### Датасет с интернетом"
   ]
  },
  {
   "cell_type": "code",
   "execution_count": 9,
   "metadata": {},
   "outputs": [
    {
     "data": {
      "text/html": [
       "<div>\n",
       "<style scoped>\n",
       "    .dataframe tbody tr th:only-of-type {\n",
       "        vertical-align: middle;\n",
       "    }\n",
       "\n",
       "    .dataframe tbody tr th {\n",
       "        vertical-align: top;\n",
       "    }\n",
       "\n",
       "    .dataframe thead th {\n",
       "        text-align: right;\n",
       "    }\n",
       "</style>\n",
       "<table border=\"1\" class=\"dataframe\">\n",
       "  <thead>\n",
       "    <tr style=\"text-align: right;\">\n",
       "      <th></th>\n",
       "      <th>Unnamed: 0</th>\n",
       "      <th>id</th>\n",
       "      <th>mb_used</th>\n",
       "      <th>session_date</th>\n",
       "      <th>user_id</th>\n",
       "    </tr>\n",
       "  </thead>\n",
       "  <tbody>\n",
       "    <tr>\n",
       "      <th>0</th>\n",
       "      <td>0</td>\n",
       "      <td>1000_0</td>\n",
       "      <td>112.95</td>\n",
       "      <td>2018-11-25</td>\n",
       "      <td>1000</td>\n",
       "    </tr>\n",
       "    <tr>\n",
       "      <th>1</th>\n",
       "      <td>1</td>\n",
       "      <td>1000_1</td>\n",
       "      <td>1052.81</td>\n",
       "      <td>2018-09-07</td>\n",
       "      <td>1000</td>\n",
       "    </tr>\n",
       "    <tr>\n",
       "      <th>2</th>\n",
       "      <td>2</td>\n",
       "      <td>1000_2</td>\n",
       "      <td>1197.26</td>\n",
       "      <td>2018-06-25</td>\n",
       "      <td>1000</td>\n",
       "    </tr>\n",
       "    <tr>\n",
       "      <th>3</th>\n",
       "      <td>3</td>\n",
       "      <td>1000_3</td>\n",
       "      <td>550.27</td>\n",
       "      <td>2018-08-22</td>\n",
       "      <td>1000</td>\n",
       "    </tr>\n",
       "    <tr>\n",
       "      <th>4</th>\n",
       "      <td>4</td>\n",
       "      <td>1000_4</td>\n",
       "      <td>302.56</td>\n",
       "      <td>2018-09-24</td>\n",
       "      <td>1000</td>\n",
       "    </tr>\n",
       "  </tbody>\n",
       "</table>\n",
       "</div>"
      ],
      "text/plain": [
       "   Unnamed: 0      id  mb_used session_date  user_id\n",
       "0           0  1000_0   112.95   2018-11-25     1000\n",
       "1           1  1000_1  1052.81   2018-09-07     1000\n",
       "2           2  1000_2  1197.26   2018-06-25     1000\n",
       "3           3  1000_3   550.27   2018-08-22     1000\n",
       "4           4  1000_4   302.56   2018-09-24     1000"
      ]
     },
     "execution_count": 9,
     "metadata": {},
     "output_type": "execute_result"
    }
   ],
   "source": [
    "internet.head()"
   ]
  },
  {
   "cell_type": "code",
   "execution_count": 10,
   "metadata": {},
   "outputs": [
    {
     "data": {
      "text/html": [
       "<div>\n",
       "<style scoped>\n",
       "    .dataframe tbody tr th:only-of-type {\n",
       "        vertical-align: middle;\n",
       "    }\n",
       "\n",
       "    .dataframe tbody tr th {\n",
       "        vertical-align: top;\n",
       "    }\n",
       "\n",
       "    .dataframe thead th {\n",
       "        text-align: right;\n",
       "    }\n",
       "</style>\n",
       "<table border=\"1\" class=\"dataframe\">\n",
       "  <thead>\n",
       "    <tr style=\"text-align: right;\">\n",
       "      <th></th>\n",
       "      <th>Unnamed: 0</th>\n",
       "      <th>mb_used</th>\n",
       "      <th>user_id</th>\n",
       "    </tr>\n",
       "  </thead>\n",
       "  <tbody>\n",
       "    <tr>\n",
       "      <th>count</th>\n",
       "      <td>149396.000000</td>\n",
       "      <td>149396.000000</td>\n",
       "      <td>149396.000000</td>\n",
       "    </tr>\n",
       "    <tr>\n",
       "      <th>mean</th>\n",
       "      <td>74697.500000</td>\n",
       "      <td>370.192426</td>\n",
       "      <td>1252.099842</td>\n",
       "    </tr>\n",
       "    <tr>\n",
       "      <th>std</th>\n",
       "      <td>43127.054745</td>\n",
       "      <td>278.300951</td>\n",
       "      <td>144.050823</td>\n",
       "    </tr>\n",
       "    <tr>\n",
       "      <th>min</th>\n",
       "      <td>0.000000</td>\n",
       "      <td>0.000000</td>\n",
       "      <td>1000.000000</td>\n",
       "    </tr>\n",
       "    <tr>\n",
       "      <th>25%</th>\n",
       "      <td>37348.750000</td>\n",
       "      <td>138.187500</td>\n",
       "      <td>1130.000000</td>\n",
       "    </tr>\n",
       "    <tr>\n",
       "      <th>50%</th>\n",
       "      <td>74697.500000</td>\n",
       "      <td>348.015000</td>\n",
       "      <td>1251.000000</td>\n",
       "    </tr>\n",
       "    <tr>\n",
       "      <th>75%</th>\n",
       "      <td>112046.250000</td>\n",
       "      <td>559.552500</td>\n",
       "      <td>1380.000000</td>\n",
       "    </tr>\n",
       "    <tr>\n",
       "      <th>max</th>\n",
       "      <td>149395.000000</td>\n",
       "      <td>1724.830000</td>\n",
       "      <td>1499.000000</td>\n",
       "    </tr>\n",
       "  </tbody>\n",
       "</table>\n",
       "</div>"
      ],
      "text/plain": [
       "          Unnamed: 0        mb_used        user_id\n",
       "count  149396.000000  149396.000000  149396.000000\n",
       "mean    74697.500000     370.192426    1252.099842\n",
       "std     43127.054745     278.300951     144.050823\n",
       "min         0.000000       0.000000    1000.000000\n",
       "25%     37348.750000     138.187500    1130.000000\n",
       "50%     74697.500000     348.015000    1251.000000\n",
       "75%    112046.250000     559.552500    1380.000000\n",
       "max    149395.000000    1724.830000    1499.000000"
      ]
     },
     "execution_count": 10,
     "metadata": {},
     "output_type": "execute_result"
    }
   ],
   "source": [
    "internet.describe()"
   ]
  },
  {
   "cell_type": "markdown",
   "metadata": {},
   "source": [
    "Минимальная сессия в интернете составила 0 мб, это является аномалией, т.к. какая-то часть от мегабайта должна быть израсходована при загрузке страницы. Максимальная сессия составляет 1724 мб, что не является аномалией, такое количество трафика можно израсходовать, напрмер, смотря видео. В среднем клиенты расходовали 370 мб. за сессию."
   ]
  },
  {
   "cell_type": "code",
   "execution_count": 11,
   "metadata": {},
   "outputs": [
    {
     "data": {
      "text/plain": [
       "<AxesSubplot:>"
      ]
     },
     "execution_count": 11,
     "metadata": {},
     "output_type": "execute_result"
    },
    {
     "data": {
      "image/png": "[encoded data removed]",
      "text/plain": [
       "<Figure size 432x288 with 1 Axes>"
      ]
     },
     "metadata": {
      "needs_background": "light"
     },
     "output_type": "display_data"
    }
   ],
   "source": [
    "internet['mb_used'].hist(bins=30)"
   ]
  },
  {
   "cell_type": "code",
   "execution_count": 12,
   "metadata": {},
   "outputs": [
    {
     "data": {
      "text/plain": [
       "19598"
      ]
     },
     "execution_count": 12,
     "metadata": {},
     "output_type": "execute_result"
    }
   ],
   "source": [
    "len(internet.query('mb_used == 0'))"
   ]
  },
  {
   "cell_type": "code",
   "execution_count": 13,
   "metadata": {},
   "outputs": [],
   "source": [
    "internet = internet.query('mb_used != 0')"
   ]
  },
  {
   "cell_type": "code",
   "execution_count": 14,
   "metadata": {},
   "outputs": [
    {
     "name": "stdout",
     "output_type": "stream",
     "text": [
      "<class 'pandas.core.frame.DataFrame'>\n",
      "Int64Index: 129798 entries, 0 to 149395\n",
      "Data columns (total 5 columns):\n",
      " #   Column        Non-Null Count   Dtype  \n",
      "---  ------        --------------   -----  \n",
      " 0   Unnamed: 0    129798 non-null  int64  \n",
      " 1   id            129798 non-null  object \n",
      " 2   mb_used       129798 non-null  float64\n",
      " 3   session_date  129798 non-null  object \n",
      " 4   user_id       129798 non-null  int64  \n",
      "dtypes: float64(1), int64(2), object(2)\n",
      "memory usage: 5.9+ MB\n"
     ]
    }
   ],
   "source": [
    "internet.info()"
   ]
  },
  {
   "cell_type": "markdown",
   "metadata": {},
   "source": [
    "В таблице нет пропусков. Видим, что необходимо привести столбец `session_date` к формату даты."
   ]
  },
  {
   "cell_type": "code",
   "execution_count": 15,
   "metadata": {},
   "outputs": [],
   "source": [
    "internet['session_date'] = pd.to_datetime(internet['session_date'], format='%Y-%m-%d')"
   ]
  },
  {
   "cell_type": "code",
   "execution_count": 16,
   "metadata": {},
   "outputs": [
    {
     "name": "stdout",
     "output_type": "stream",
     "text": [
      "<class 'pandas.core.frame.DataFrame'>\n",
      "Int64Index: 129798 entries, 0 to 149395\n",
      "Data columns (total 5 columns):\n",
      " #   Column        Non-Null Count   Dtype         \n",
      "---  ------        --------------   -----         \n",
      " 0   Unnamed: 0    129798 non-null  int64         \n",
      " 1   id            129798 non-null  object        \n",
      " 2   mb_used       129798 non-null  float64       \n",
      " 3   session_date  129798 non-null  datetime64[ns]\n",
      " 4   user_id       129798 non-null  int64         \n",
      "dtypes: datetime64[ns](1), float64(1), int64(2), object(1)\n",
      "memory usage: 5.9+ MB\n"
     ]
    }
   ],
   "source": [
    "internet.info()"
   ]
  },
  {
   "cell_type": "markdown",
   "metadata": {},
   "source": [
    "#### Датасет с сообщениями"
   ]
  },
  {
   "cell_type": "code",
   "execution_count": 17,
   "metadata": {},
   "outputs": [
    {
     "data": {
      "text/html": [
       "<div>\n",
       "<style scoped>\n",
       "    .dataframe tbody tr th:only-of-type {\n",
       "        vertical-align: middle;\n",
       "    }\n",
       "\n",
       "    .dataframe tbody tr th {\n",
       "        vertical-align: top;\n",
       "    }\n",
       "\n",
       "    .dataframe thead th {\n",
       "        text-align: right;\n",
       "    }\n",
       "</style>\n",
       "<table border=\"1\" class=\"dataframe\">\n",
       "  <thead>\n",
       "    <tr style=\"text-align: right;\">\n",
       "      <th></th>\n",
       "      <th>id</th>\n",
       "      <th>message_date</th>\n",
       "      <th>user_id</th>\n",
       "    </tr>\n",
       "  </thead>\n",
       "  <tbody>\n",
       "    <tr>\n",
       "      <th>0</th>\n",
       "      <td>1000_0</td>\n",
       "      <td>2018-06-27</td>\n",
       "      <td>1000</td>\n",
       "    </tr>\n",
       "    <tr>\n",
       "      <th>1</th>\n",
       "      <td>1000_1</td>\n",
       "      <td>2018-10-08</td>\n",
       "      <td>1000</td>\n",
       "    </tr>\n",
       "    <tr>\n",
       "      <th>2</th>\n",
       "      <td>1000_2</td>\n",
       "      <td>2018-08-04</td>\n",
       "      <td>1000</td>\n",
       "    </tr>\n",
       "    <tr>\n",
       "      <th>3</th>\n",
       "      <td>1000_3</td>\n",
       "      <td>2018-06-16</td>\n",
       "      <td>1000</td>\n",
       "    </tr>\n",
       "    <tr>\n",
       "      <th>4</th>\n",
       "      <td>1000_4</td>\n",
       "      <td>2018-12-05</td>\n",
       "      <td>1000</td>\n",
       "    </tr>\n",
       "  </tbody>\n",
       "</table>\n",
       "</div>"
      ],
      "text/plain": [
       "       id message_date  user_id\n",
       "0  1000_0   2018-06-27     1000\n",
       "1  1000_1   2018-10-08     1000\n",
       "2  1000_2   2018-08-04     1000\n",
       "3  1000_3   2018-06-16     1000\n",
       "4  1000_4   2018-12-05     1000"
      ]
     },
     "execution_count": 17,
     "metadata": {},
     "output_type": "execute_result"
    }
   ],
   "source": [
    "messages.head()"
   ]
  },
  {
   "cell_type": "code",
   "execution_count": 18,
   "metadata": {},
   "outputs": [
    {
     "name": "stdout",
     "output_type": "stream",
     "text": [
      "<class 'pandas.core.frame.DataFrame'>\n",
      "RangeIndex: 123036 entries, 0 to 123035\n",
      "Data columns (total 3 columns):\n",
      " #   Column        Non-Null Count   Dtype \n",
      "---  ------        --------------   ----- \n",
      " 0   id            123036 non-null  object\n",
      " 1   message_date  123036 non-null  object\n",
      " 2   user_id       123036 non-null  int64 \n",
      "dtypes: int64(1), object(2)\n",
      "memory usage: 2.8+ MB\n"
     ]
    }
   ],
   "source": [
    "messages.info()"
   ]
  },
  {
   "cell_type": "markdown",
   "metadata": {},
   "source": [
    "Пропусков нет, столбец `message_date` приводим к формату даты."
   ]
  },
  {
   "cell_type": "code",
   "execution_count": 19,
   "metadata": {},
   "outputs": [],
   "source": [
    "messages['message_date'] = pd.to_datetime(messages['message_date'], format='%Y-%m-%d')"
   ]
  },
  {
   "cell_type": "code",
   "execution_count": 20,
   "metadata": {},
   "outputs": [
    {
     "name": "stdout",
     "output_type": "stream",
     "text": [
      "<class 'pandas.core.frame.DataFrame'>\n",
      "RangeIndex: 123036 entries, 0 to 123035\n",
      "Data columns (total 3 columns):\n",
      " #   Column        Non-Null Count   Dtype         \n",
      "---  ------        --------------   -----         \n",
      " 0   id            123036 non-null  object        \n",
      " 1   message_date  123036 non-null  datetime64[ns]\n",
      " 2   user_id       123036 non-null  int64         \n",
      "dtypes: datetime64[ns](1), int64(1), object(1)\n",
      "memory usage: 2.8+ MB\n"
     ]
    }
   ],
   "source": [
    "messages.info()"
   ]
  },
  {
   "cell_type": "markdown",
   "metadata": {},
   "source": [
    "#### Датасет с тарифами"
   ]
  },
  {
   "cell_type": "code",
   "execution_count": 21,
   "metadata": {},
   "outputs": [
    {
     "data": {
      "text/html": [
       "<div>\n",
       "<style scoped>\n",
       "    .dataframe tbody tr th:only-of-type {\n",
       "        vertical-align: middle;\n",
       "    }\n",
       "\n",
       "    .dataframe tbody tr th {\n",
       "        vertical-align: top;\n",
       "    }\n",
       "\n",
       "    .dataframe thead th {\n",
       "        text-align: right;\n",
       "    }\n",
       "</style>\n",
       "<table border=\"1\" class=\"dataframe\">\n",
       "  <thead>\n",
       "    <tr style=\"text-align: right;\">\n",
       "      <th></th>\n",
       "      <th>messages_included</th>\n",
       "      <th>mb_per_month_included</th>\n",
       "      <th>minutes_included</th>\n",
       "      <th>rub_monthly_fee</th>\n",
       "      <th>rub_per_gb</th>\n",
       "      <th>rub_per_message</th>\n",
       "      <th>rub_per_minute</th>\n",
       "      <th>tariff_name</th>\n",
       "    </tr>\n",
       "  </thead>\n",
       "  <tbody>\n",
       "    <tr>\n",
       "      <th>0</th>\n",
       "      <td>50</td>\n",
       "      <td>15360</td>\n",
       "      <td>500</td>\n",
       "      <td>550</td>\n",
       "      <td>200</td>\n",
       "      <td>3</td>\n",
       "      <td>3</td>\n",
       "      <td>smart</td>\n",
       "    </tr>\n",
       "    <tr>\n",
       "      <th>1</th>\n",
       "      <td>1000</td>\n",
       "      <td>30720</td>\n",
       "      <td>3000</td>\n",
       "      <td>1950</td>\n",
       "      <td>150</td>\n",
       "      <td>1</td>\n",
       "      <td>1</td>\n",
       "      <td>ultra</td>\n",
       "    </tr>\n",
       "  </tbody>\n",
       "</table>\n",
       "</div>"
      ],
      "text/plain": [
       "   messages_included  mb_per_month_included  minutes_included  \\\n",
       "0                 50                  15360               500   \n",
       "1               1000                  30720              3000   \n",
       "\n",
       "   rub_monthly_fee  rub_per_gb  rub_per_message  rub_per_minute tariff_name  \n",
       "0              550         200                3               3       smart  \n",
       "1             1950         150                1               1       ultra  "
      ]
     },
     "execution_count": 21,
     "metadata": {},
     "output_type": "execute_result"
    }
   ],
   "source": [
    "tariffs.head()"
   ]
  },
  {
   "cell_type": "code",
   "execution_count": 22,
   "metadata": {},
   "outputs": [],
   "source": [
    "tariffs = tariffs.rename(columns={'tariff_name': 'tariff'})"
   ]
  },
  {
   "cell_type": "markdown",
   "metadata": {},
   "source": [
    "Работая над пунктом 2.2.4, увидела необходимость присоеденить к общей таблице датасет с тарифами. Для этого нужно, чтобы столбцы назывались одинаково."
   ]
  },
  {
   "cell_type": "code",
   "execution_count": 23,
   "metadata": {},
   "outputs": [
    {
     "name": "stdout",
     "output_type": "stream",
     "text": [
      "<class 'pandas.core.frame.DataFrame'>\n",
      "RangeIndex: 2 entries, 0 to 1\n",
      "Data columns (total 8 columns):\n",
      " #   Column                 Non-Null Count  Dtype \n",
      "---  ------                 --------------  ----- \n",
      " 0   messages_included      2 non-null      int64 \n",
      " 1   mb_per_month_included  2 non-null      int64 \n",
      " 2   minutes_included       2 non-null      int64 \n",
      " 3   rub_monthly_fee        2 non-null      int64 \n",
      " 4   rub_per_gb             2 non-null      int64 \n",
      " 5   rub_per_message        2 non-null      int64 \n",
      " 6   rub_per_minute         2 non-null      int64 \n",
      " 7   tariff                 2 non-null      object\n",
      "dtypes: int64(7), object(1)\n",
      "memory usage: 256.0+ bytes\n"
     ]
    }
   ],
   "source": [
    "tariffs.info()"
   ]
  },
  {
   "cell_type": "markdown",
   "metadata": {},
   "source": [
    "Таблица отображает текстовое описание тарифов. Менять ничего не будем."
   ]
  },
  {
   "cell_type": "markdown",
   "metadata": {},
   "source": [
    "#### Датасет с пользователями"
   ]
  },
  {
   "cell_type": "code",
   "execution_count": 24,
   "metadata": {},
   "outputs": [
    {
     "data": {
      "text/html": [
       "<div>\n",
       "<style scoped>\n",
       "    .dataframe tbody tr th:only-of-type {\n",
       "        vertical-align: middle;\n",
       "    }\n",
       "\n",
       "    .dataframe tbody tr th {\n",
       "        vertical-align: top;\n",
       "    }\n",
       "\n",
       "    .dataframe thead th {\n",
       "        text-align: right;\n",
       "    }\n",
       "</style>\n",
       "<table border=\"1\" class=\"dataframe\">\n",
       "  <thead>\n",
       "    <tr style=\"text-align: right;\">\n",
       "      <th></th>\n",
       "      <th>user_id</th>\n",
       "      <th>age</th>\n",
       "      <th>churn_date</th>\n",
       "      <th>city</th>\n",
       "      <th>first_name</th>\n",
       "      <th>last_name</th>\n",
       "      <th>reg_date</th>\n",
       "      <th>tariff</th>\n",
       "    </tr>\n",
       "  </thead>\n",
       "  <tbody>\n",
       "    <tr>\n",
       "      <th>0</th>\n",
       "      <td>1000</td>\n",
       "      <td>52</td>\n",
       "      <td>NaN</td>\n",
       "      <td>Краснодар</td>\n",
       "      <td>Рафаил</td>\n",
       "      <td>Верещагин</td>\n",
       "      <td>2018-05-25</td>\n",
       "      <td>ultra</td>\n",
       "    </tr>\n",
       "    <tr>\n",
       "      <th>1</th>\n",
       "      <td>1001</td>\n",
       "      <td>41</td>\n",
       "      <td>NaN</td>\n",
       "      <td>Москва</td>\n",
       "      <td>Иван</td>\n",
       "      <td>Ежов</td>\n",
       "      <td>2018-11-01</td>\n",
       "      <td>smart</td>\n",
       "    </tr>\n",
       "    <tr>\n",
       "      <th>2</th>\n",
       "      <td>1002</td>\n",
       "      <td>59</td>\n",
       "      <td>NaN</td>\n",
       "      <td>Стерлитамак</td>\n",
       "      <td>Евгений</td>\n",
       "      <td>Абрамович</td>\n",
       "      <td>2018-06-17</td>\n",
       "      <td>smart</td>\n",
       "    </tr>\n",
       "    <tr>\n",
       "      <th>3</th>\n",
       "      <td>1003</td>\n",
       "      <td>23</td>\n",
       "      <td>NaN</td>\n",
       "      <td>Москва</td>\n",
       "      <td>Белла</td>\n",
       "      <td>Белякова</td>\n",
       "      <td>2018-08-17</td>\n",
       "      <td>ultra</td>\n",
       "    </tr>\n",
       "    <tr>\n",
       "      <th>4</th>\n",
       "      <td>1004</td>\n",
       "      <td>68</td>\n",
       "      <td>NaN</td>\n",
       "      <td>Новокузнецк</td>\n",
       "      <td>Татьяна</td>\n",
       "      <td>Авдеенко</td>\n",
       "      <td>2018-05-14</td>\n",
       "      <td>ultra</td>\n",
       "    </tr>\n",
       "  </tbody>\n",
       "</table>\n",
       "</div>"
      ],
      "text/plain": [
       "   user_id  age churn_date         city first_name  last_name    reg_date  \\\n",
       "0     1000   52        NaN    Краснодар     Рафаил  Верещагин  2018-05-25   \n",
       "1     1001   41        NaN       Москва       Иван       Ежов  2018-11-01   \n",
       "2     1002   59        NaN  Стерлитамак    Евгений  Абрамович  2018-06-17   \n",
       "3     1003   23        NaN       Москва      Белла   Белякова  2018-08-17   \n",
       "4     1004   68        NaN  Новокузнецк    Татьяна   Авдеенко  2018-05-14   \n",
       "\n",
       "  tariff  \n",
       "0  ultra  \n",
       "1  smart  \n",
       "2  smart  \n",
       "3  ultra  \n",
       "4  ultra  "
      ]
     },
     "execution_count": 24,
     "metadata": {},
     "output_type": "execute_result"
    }
   ],
   "source": [
    "users.head()"
   ]
  },
  {
   "cell_type": "code",
   "execution_count": 25,
   "metadata": {},
   "outputs": [
    {
     "name": "stdout",
     "output_type": "stream",
     "text": [
      "<class 'pandas.core.frame.DataFrame'>\n",
      "RangeIndex: 500 entries, 0 to 499\n",
      "Data columns (total 8 columns):\n",
      " #   Column      Non-Null Count  Dtype \n",
      "---  ------      --------------  ----- \n",
      " 0   user_id     500 non-null    int64 \n",
      " 1   age         500 non-null    int64 \n",
      " 2   churn_date  38 non-null     object\n",
      " 3   city        500 non-null    object\n",
      " 4   first_name  500 non-null    object\n",
      " 5   last_name   500 non-null    object\n",
      " 6   reg_date    500 non-null    object\n",
      " 7   tariff      500 non-null    object\n",
      "dtypes: int64(2), object(6)\n",
      "memory usage: 31.4+ KB\n"
     ]
    }
   ],
   "source": [
    "users.info()"
   ]
  },
  {
   "cell_type": "markdown",
   "metadata": {},
   "source": [
    "Видим пропуски в столбце `churn_date`. Согласно описанию данных в этом столбце содержится дата прекращения пользования тарифом (если значение пропущено, то тариф ещё действовал на момент выгрузки данных). Значит 38 клиентов из выборки перестали пользоваться тарифом. Заполнять пропуски не будем. Приведем столбцы `churn_date` и `reg_date` к формату даты."
   ]
  },
  {
   "cell_type": "code",
   "execution_count": 26,
   "metadata": {},
   "outputs": [],
   "source": [
    "users['churn_date'] = pd.to_datetime(users['churn_date'], format='%Y-%m-%d')\n",
    "users['reg_date'] = pd.to_datetime(users['reg_date'], format='%Y-%m-%d')"
   ]
  },
  {
   "cell_type": "code",
   "execution_count": 27,
   "metadata": {},
   "outputs": [
    {
     "name": "stdout",
     "output_type": "stream",
     "text": [
      "<class 'pandas.core.frame.DataFrame'>\n",
      "RangeIndex: 500 entries, 0 to 499\n",
      "Data columns (total 8 columns):\n",
      " #   Column      Non-Null Count  Dtype         \n",
      "---  ------      --------------  -----         \n",
      " 0   user_id     500 non-null    int64         \n",
      " 1   age         500 non-null    int64         \n",
      " 2   churn_date  38 non-null     datetime64[ns]\n",
      " 3   city        500 non-null    object        \n",
      " 4   first_name  500 non-null    object        \n",
      " 5   last_name   500 non-null    object        \n",
      " 6   reg_date    500 non-null    datetime64[ns]\n",
      " 7   tariff      500 non-null    object        \n",
      "dtypes: datetime64[ns](2), int64(2), object(4)\n",
      "memory usage: 31.4+ KB\n"
     ]
    }
   ],
   "source": [
    "users.info()"
   ]
  },
  {
   "cell_type": "markdown",
   "metadata": {},
   "source": [
    "### Расчет показателей по месяцам"
   ]
  },
  {
   "cell_type": "markdown",
   "metadata": {},
   "source": [
    "#### Количество сделанных звонков и израсходованных минут разговора"
   ]
  },
  {
   "cell_type": "code",
   "execution_count": 28,
   "metadata": {},
   "outputs": [
    {
     "data": {
      "text/html": [
       "<div>\n",
       "<style scoped>\n",
       "    .dataframe tbody tr th:only-of-type {\n",
       "        vertical-align: middle;\n",
       "    }\n",
       "\n",
       "    .dataframe tbody tr th {\n",
       "        vertical-align: top;\n",
       "    }\n",
       "\n",
       "    .dataframe thead th {\n",
       "        text-align: right;\n",
       "    }\n",
       "</style>\n",
       "<table border=\"1\" class=\"dataframe\">\n",
       "  <thead>\n",
       "    <tr style=\"text-align: right;\">\n",
       "      <th></th>\n",
       "      <th>id</th>\n",
       "      <th>call_date</th>\n",
       "      <th>duration</th>\n",
       "      <th>user_id</th>\n",
       "      <th>month</th>\n",
       "    </tr>\n",
       "  </thead>\n",
       "  <tbody>\n",
       "    <tr>\n",
       "      <th>0</th>\n",
       "      <td>1000_0</td>\n",
       "      <td>2018-07-25</td>\n",
       "      <td>0</td>\n",
       "      <td>1000</td>\n",
       "      <td>7</td>\n",
       "    </tr>\n",
       "    <tr>\n",
       "      <th>1</th>\n",
       "      <td>1000_1</td>\n",
       "      <td>2018-08-17</td>\n",
       "      <td>0</td>\n",
       "      <td>1000</td>\n",
       "      <td>8</td>\n",
       "    </tr>\n",
       "    <tr>\n",
       "      <th>2</th>\n",
       "      <td>1000_2</td>\n",
       "      <td>2018-06-11</td>\n",
       "      <td>3</td>\n",
       "      <td>1000</td>\n",
       "      <td>6</td>\n",
       "    </tr>\n",
       "    <tr>\n",
       "      <th>3</th>\n",
       "      <td>1000_3</td>\n",
       "      <td>2018-09-21</td>\n",
       "      <td>14</td>\n",
       "      <td>1000</td>\n",
       "      <td>9</td>\n",
       "    </tr>\n",
       "    <tr>\n",
       "      <th>4</th>\n",
       "      <td>1000_4</td>\n",
       "      <td>2018-12-15</td>\n",
       "      <td>6</td>\n",
       "      <td>1000</td>\n",
       "      <td>12</td>\n",
       "    </tr>\n",
       "  </tbody>\n",
       "</table>\n",
       "</div>"
      ],
      "text/plain": [
       "       id  call_date  duration  user_id  month\n",
       "0  1000_0 2018-07-25         0     1000      7\n",
       "1  1000_1 2018-08-17         0     1000      8\n",
       "2  1000_2 2018-06-11         3     1000      6\n",
       "3  1000_3 2018-09-21        14     1000      9\n",
       "4  1000_4 2018-12-15         6     1000     12"
      ]
     },
     "execution_count": 28,
     "metadata": {},
     "output_type": "execute_result"
    }
   ],
   "source": [
    "calls['month'] = calls['call_date'].dt.month\n",
    "calls.head()"
   ]
  },
  {
   "cell_type": "code",
   "execution_count": 29,
   "metadata": {},
   "outputs": [
    {
     "data": {
      "text/html": [
       "<div>\n",
       "<style scoped>\n",
       "    .dataframe tbody tr th:only-of-type {\n",
       "        vertical-align: middle;\n",
       "    }\n",
       "\n",
       "    .dataframe tbody tr th {\n",
       "        vertical-align: top;\n",
       "    }\n",
       "\n",
       "    .dataframe thead th {\n",
       "        text-align: right;\n",
       "    }\n",
       "</style>\n",
       "<table border=\"1\" class=\"dataframe\">\n",
       "  <thead>\n",
       "    <tr style=\"text-align: right;\">\n",
       "      <th></th>\n",
       "      <th>user_id</th>\n",
       "      <th>month</th>\n",
       "      <th>id</th>\n",
       "      <th>duration</th>\n",
       "    </tr>\n",
       "  </thead>\n",
       "  <tbody>\n",
       "    <tr>\n",
       "      <th>0</th>\n",
       "      <td>1000</td>\n",
       "      <td>5</td>\n",
       "      <td>22</td>\n",
       "      <td>159</td>\n",
       "    </tr>\n",
       "    <tr>\n",
       "      <th>1</th>\n",
       "      <td>1000</td>\n",
       "      <td>6</td>\n",
       "      <td>43</td>\n",
       "      <td>172</td>\n",
       "    </tr>\n",
       "    <tr>\n",
       "      <th>2</th>\n",
       "      <td>1000</td>\n",
       "      <td>7</td>\n",
       "      <td>47</td>\n",
       "      <td>340</td>\n",
       "    </tr>\n",
       "    <tr>\n",
       "      <th>3</th>\n",
       "      <td>1000</td>\n",
       "      <td>8</td>\n",
       "      <td>52</td>\n",
       "      <td>408</td>\n",
       "    </tr>\n",
       "    <tr>\n",
       "      <th>4</th>\n",
       "      <td>1000</td>\n",
       "      <td>9</td>\n",
       "      <td>58</td>\n",
       "      <td>466</td>\n",
       "    </tr>\n",
       "  </tbody>\n",
       "</table>\n",
       "</div>"
      ],
      "text/plain": [
       "   user_id  month  id  duration\n",
       "0     1000      5  22       159\n",
       "1     1000      6  43       172\n",
       "2     1000      7  47       340\n",
       "3     1000      8  52       408\n",
       "4     1000      9  58       466"
      ]
     },
     "execution_count": 29,
     "metadata": {},
     "output_type": "execute_result"
    }
   ],
   "source": [
    "calls_total = calls.groupby(['user_id', 'month']).agg({'id': 'count', 'duration': 'sum'}).reset_index()\n",
    "calls_total.head()"
   ]
  },
  {
   "cell_type": "code",
   "execution_count": 30,
   "metadata": {},
   "outputs": [
    {
     "data": {
      "text/html": [
       "<div>\n",
       "<style scoped>\n",
       "    .dataframe tbody tr th:only-of-type {\n",
       "        vertical-align: middle;\n",
       "    }\n",
       "\n",
       "    .dataframe tbody tr th {\n",
       "        vertical-align: top;\n",
       "    }\n",
       "\n",
       "    .dataframe thead th {\n",
       "        text-align: right;\n",
       "    }\n",
       "</style>\n",
       "<table border=\"1\" class=\"dataframe\">\n",
       "  <thead>\n",
       "    <tr style=\"text-align: right;\">\n",
       "      <th></th>\n",
       "      <th>user_id</th>\n",
       "      <th>month</th>\n",
       "      <th>calls_per_month</th>\n",
       "      <th>total_duration</th>\n",
       "    </tr>\n",
       "  </thead>\n",
       "  <tbody>\n",
       "    <tr>\n",
       "      <th>0</th>\n",
       "      <td>1000</td>\n",
       "      <td>5</td>\n",
       "      <td>22</td>\n",
       "      <td>159</td>\n",
       "    </tr>\n",
       "    <tr>\n",
       "      <th>1</th>\n",
       "      <td>1000</td>\n",
       "      <td>6</td>\n",
       "      <td>43</td>\n",
       "      <td>172</td>\n",
       "    </tr>\n",
       "    <tr>\n",
       "      <th>2</th>\n",
       "      <td>1000</td>\n",
       "      <td>7</td>\n",
       "      <td>47</td>\n",
       "      <td>340</td>\n",
       "    </tr>\n",
       "    <tr>\n",
       "      <th>3</th>\n",
       "      <td>1000</td>\n",
       "      <td>8</td>\n",
       "      <td>52</td>\n",
       "      <td>408</td>\n",
       "    </tr>\n",
       "    <tr>\n",
       "      <th>4</th>\n",
       "      <td>1000</td>\n",
       "      <td>9</td>\n",
       "      <td>58</td>\n",
       "      <td>466</td>\n",
       "    </tr>\n",
       "  </tbody>\n",
       "</table>\n",
       "</div>"
      ],
      "text/plain": [
       "   user_id  month  calls_per_month  total_duration\n",
       "0     1000      5               22             159\n",
       "1     1000      6               43             172\n",
       "2     1000      7               47             340\n",
       "3     1000      8               52             408\n",
       "4     1000      9               58             466"
      ]
     },
     "execution_count": 30,
     "metadata": {},
     "output_type": "execute_result"
    }
   ],
   "source": [
    "calls_total = calls_total.rename(columns={'id': 'calls_per_month', 'duration': 'total_duration'})\n",
    "calls_total.head()"
   ]
  },
  {
   "cell_type": "markdown",
   "metadata": {},
   "source": [
    "#### Количество отправленных сообщений"
   ]
  },
  {
   "cell_type": "code",
   "execution_count": 31,
   "metadata": {},
   "outputs": [
    {
     "data": {
      "text/html": [
       "<div>\n",
       "<style scoped>\n",
       "    .dataframe tbody tr th:only-of-type {\n",
       "        vertical-align: middle;\n",
       "    }\n",
       "\n",
       "    .dataframe tbody tr th {\n",
       "        vertical-align: top;\n",
       "    }\n",
       "\n",
       "    .dataframe thead th {\n",
       "        text-align: right;\n",
       "    }\n",
       "</style>\n",
       "<table border=\"1\" class=\"dataframe\">\n",
       "  <thead>\n",
       "    <tr style=\"text-align: right;\">\n",
       "      <th></th>\n",
       "      <th>id</th>\n",
       "      <th>message_date</th>\n",
       "      <th>user_id</th>\n",
       "      <th>month</th>\n",
       "    </tr>\n",
       "  </thead>\n",
       "  <tbody>\n",
       "    <tr>\n",
       "      <th>0</th>\n",
       "      <td>1000_0</td>\n",
       "      <td>2018-06-27</td>\n",
       "      <td>1000</td>\n",
       "      <td>6</td>\n",
       "    </tr>\n",
       "    <tr>\n",
       "      <th>1</th>\n",
       "      <td>1000_1</td>\n",
       "      <td>2018-10-08</td>\n",
       "      <td>1000</td>\n",
       "      <td>10</td>\n",
       "    </tr>\n",
       "    <tr>\n",
       "      <th>2</th>\n",
       "      <td>1000_2</td>\n",
       "      <td>2018-08-04</td>\n",
       "      <td>1000</td>\n",
       "      <td>8</td>\n",
       "    </tr>\n",
       "    <tr>\n",
       "      <th>3</th>\n",
       "      <td>1000_3</td>\n",
       "      <td>2018-06-16</td>\n",
       "      <td>1000</td>\n",
       "      <td>6</td>\n",
       "    </tr>\n",
       "    <tr>\n",
       "      <th>4</th>\n",
       "      <td>1000_4</td>\n",
       "      <td>2018-12-05</td>\n",
       "      <td>1000</td>\n",
       "      <td>12</td>\n",
       "    </tr>\n",
       "  </tbody>\n",
       "</table>\n",
       "</div>"
      ],
      "text/plain": [
       "       id message_date  user_id  month\n",
       "0  1000_0   2018-06-27     1000      6\n",
       "1  1000_1   2018-10-08     1000     10\n",
       "2  1000_2   2018-08-04     1000      8\n",
       "3  1000_3   2018-06-16     1000      6\n",
       "4  1000_4   2018-12-05     1000     12"
      ]
     },
     "execution_count": 31,
     "metadata": {},
     "output_type": "execute_result"
    }
   ],
   "source": [
    "messages['month'] = messages['message_date'].dt.month\n",
    "messages.head()"
   ]
  },
  {
   "cell_type": "code",
   "execution_count": 32,
   "metadata": {},
   "outputs": [
    {
     "data": {
      "text/html": [
       "<div>\n",
       "<style scoped>\n",
       "    .dataframe tbody tr th:only-of-type {\n",
       "        vertical-align: middle;\n",
       "    }\n",
       "\n",
       "    .dataframe tbody tr th {\n",
       "        vertical-align: top;\n",
       "    }\n",
       "\n",
       "    .dataframe thead th {\n",
       "        text-align: right;\n",
       "    }\n",
       "</style>\n",
       "<table border=\"1\" class=\"dataframe\">\n",
       "  <thead>\n",
       "    <tr style=\"text-align: right;\">\n",
       "      <th></th>\n",
       "      <th>user_id</th>\n",
       "      <th>month</th>\n",
       "      <th>messages_per_month</th>\n",
       "    </tr>\n",
       "  </thead>\n",
       "  <tbody>\n",
       "    <tr>\n",
       "      <th>0</th>\n",
       "      <td>1000</td>\n",
       "      <td>5</td>\n",
       "      <td>22</td>\n",
       "    </tr>\n",
       "    <tr>\n",
       "      <th>1</th>\n",
       "      <td>1000</td>\n",
       "      <td>6</td>\n",
       "      <td>60</td>\n",
       "    </tr>\n",
       "    <tr>\n",
       "      <th>2</th>\n",
       "      <td>1000</td>\n",
       "      <td>7</td>\n",
       "      <td>75</td>\n",
       "    </tr>\n",
       "    <tr>\n",
       "      <th>3</th>\n",
       "      <td>1000</td>\n",
       "      <td>8</td>\n",
       "      <td>81</td>\n",
       "    </tr>\n",
       "    <tr>\n",
       "      <th>4</th>\n",
       "      <td>1000</td>\n",
       "      <td>9</td>\n",
       "      <td>57</td>\n",
       "    </tr>\n",
       "  </tbody>\n",
       "</table>\n",
       "</div>"
      ],
      "text/plain": [
       "   user_id  month  messages_per_month\n",
       "0     1000      5                  22\n",
       "1     1000      6                  60\n",
       "2     1000      7                  75\n",
       "3     1000      8                  81\n",
       "4     1000      9                  57"
      ]
     },
     "execution_count": 32,
     "metadata": {},
     "output_type": "execute_result"
    }
   ],
   "source": [
    "messages_total = (\n",
    "    messages\n",
    "    .groupby(['user_id', 'month'])\n",
    "    .agg({'id': 'count'})\n",
    "    .reset_index()\n",
    "    .rename(columns={'id': 'messages_per_month'})\n",
    ")\n",
    "messages_total.head()"
   ]
  },
  {
   "cell_type": "markdown",
   "metadata": {},
   "source": [
    "#### Объем израсходованного интернет-трафика"
   ]
  },
  {
   "cell_type": "code",
   "execution_count": 33,
   "metadata": {},
   "outputs": [
    {
     "data": {
      "text/html": [
       "<div>\n",
       "<style scoped>\n",
       "    .dataframe tbody tr th:only-of-type {\n",
       "        vertical-align: middle;\n",
       "    }\n",
       "\n",
       "    .dataframe tbody tr th {\n",
       "        vertical-align: top;\n",
       "    }\n",
       "\n",
       "    .dataframe thead th {\n",
       "        text-align: right;\n",
       "    }\n",
       "</style>\n",
       "<table border=\"1\" class=\"dataframe\">\n",
       "  <thead>\n",
       "    <tr style=\"text-align: right;\">\n",
       "      <th></th>\n",
       "      <th>Unnamed: 0</th>\n",
       "      <th>id</th>\n",
       "      <th>mb_used</th>\n",
       "      <th>session_date</th>\n",
       "      <th>user_id</th>\n",
       "      <th>month</th>\n",
       "    </tr>\n",
       "  </thead>\n",
       "  <tbody>\n",
       "    <tr>\n",
       "      <th>0</th>\n",
       "      <td>0</td>\n",
       "      <td>1000_0</td>\n",
       "      <td>112.95</td>\n",
       "      <td>2018-11-25</td>\n",
       "      <td>1000</td>\n",
       "      <td>11</td>\n",
       "    </tr>\n",
       "    <tr>\n",
       "      <th>1</th>\n",
       "      <td>1</td>\n",
       "      <td>1000_1</td>\n",
       "      <td>1052.81</td>\n",
       "      <td>2018-09-07</td>\n",
       "      <td>1000</td>\n",
       "      <td>9</td>\n",
       "    </tr>\n",
       "    <tr>\n",
       "      <th>2</th>\n",
       "      <td>2</td>\n",
       "      <td>1000_2</td>\n",
       "      <td>1197.26</td>\n",
       "      <td>2018-06-25</td>\n",
       "      <td>1000</td>\n",
       "      <td>6</td>\n",
       "    </tr>\n",
       "    <tr>\n",
       "      <th>3</th>\n",
       "      <td>3</td>\n",
       "      <td>1000_3</td>\n",
       "      <td>550.27</td>\n",
       "      <td>2018-08-22</td>\n",
       "      <td>1000</td>\n",
       "      <td>8</td>\n",
       "    </tr>\n",
       "    <tr>\n",
       "      <th>4</th>\n",
       "      <td>4</td>\n",
       "      <td>1000_4</td>\n",
       "      <td>302.56</td>\n",
       "      <td>2018-09-24</td>\n",
       "      <td>1000</td>\n",
       "      <td>9</td>\n",
       "    </tr>\n",
       "  </tbody>\n",
       "</table>\n",
       "</div>"
      ],
      "text/plain": [
       "   Unnamed: 0      id  mb_used session_date  user_id  month\n",
       "0           0  1000_0   112.95   2018-11-25     1000     11\n",
       "1           1  1000_1  1052.81   2018-09-07     1000      9\n",
       "2           2  1000_2  1197.26   2018-06-25     1000      6\n",
       "3           3  1000_3   550.27   2018-08-22     1000      8\n",
       "4           4  1000_4   302.56   2018-09-24     1000      9"
      ]
     },
     "execution_count": 33,
     "metadata": {},
     "output_type": "execute_result"
    }
   ],
   "source": [
    "internet['month'] = internet['session_date'].dt.month\n",
    "internet.head()"
   ]
  },
  {
   "cell_type": "code",
   "execution_count": 34,
   "metadata": {},
   "outputs": [
    {
     "data": {
      "text/html": [
       "<div>\n",
       "<style scoped>\n",
       "    .dataframe tbody tr th:only-of-type {\n",
       "        vertical-align: middle;\n",
       "    }\n",
       "\n",
       "    .dataframe tbody tr th {\n",
       "        vertical-align: top;\n",
       "    }\n",
       "\n",
       "    .dataframe thead th {\n",
       "        text-align: right;\n",
       "    }\n",
       "</style>\n",
       "<table border=\"1\" class=\"dataframe\">\n",
       "  <thead>\n",
       "    <tr style=\"text-align: right;\">\n",
       "      <th></th>\n",
       "      <th>user_id</th>\n",
       "      <th>month</th>\n",
       "      <th>mb_per_month</th>\n",
       "    </tr>\n",
       "  </thead>\n",
       "  <tbody>\n",
       "    <tr>\n",
       "      <th>0</th>\n",
       "      <td>1000</td>\n",
       "      <td>5</td>\n",
       "      <td>2253.49</td>\n",
       "    </tr>\n",
       "    <tr>\n",
       "      <th>1</th>\n",
       "      <td>1000</td>\n",
       "      <td>6</td>\n",
       "      <td>23233.77</td>\n",
       "    </tr>\n",
       "    <tr>\n",
       "      <th>2</th>\n",
       "      <td>1000</td>\n",
       "      <td>7</td>\n",
       "      <td>14003.64</td>\n",
       "    </tr>\n",
       "    <tr>\n",
       "      <th>3</th>\n",
       "      <td>1000</td>\n",
       "      <td>8</td>\n",
       "      <td>14055.93</td>\n",
       "    </tr>\n",
       "    <tr>\n",
       "      <th>4</th>\n",
       "      <td>1000</td>\n",
       "      <td>9</td>\n",
       "      <td>14568.91</td>\n",
       "    </tr>\n",
       "  </tbody>\n",
       "</table>\n",
       "</div>"
      ],
      "text/plain": [
       "   user_id  month  mb_per_month\n",
       "0     1000      5       2253.49\n",
       "1     1000      6      23233.77\n",
       "2     1000      7      14003.64\n",
       "3     1000      8      14055.93\n",
       "4     1000      9      14568.91"
      ]
     },
     "execution_count": 34,
     "metadata": {},
     "output_type": "execute_result"
    }
   ],
   "source": [
    "internet_total = (\n",
    "    internet\n",
    "    .groupby(['user_id', 'month'])\n",
    "    .agg({'mb_used': 'sum'})\n",
    "    .reset_index()\n",
    "    .rename(columns={'mb_used': 'mb_per_month'})\n",
    ")\n",
    "internet_total.head()"
   ]
  },
  {
   "cell_type": "markdown",
   "metadata": {},
   "source": [
    "#### Помесячная выручка с каждого пользователя"
   ]
  },
  {
   "cell_type": "code",
   "execution_count": 35,
   "metadata": {},
   "outputs": [
    {
     "data": {
      "text/html": [
       "<div>\n",
       "<style scoped>\n",
       "    .dataframe tbody tr th:only-of-type {\n",
       "        vertical-align: middle;\n",
       "    }\n",
       "\n",
       "    .dataframe tbody tr th {\n",
       "        vertical-align: top;\n",
       "    }\n",
       "\n",
       "    .dataframe thead th {\n",
       "        text-align: right;\n",
       "    }\n",
       "</style>\n",
       "<table border=\"1\" class=\"dataframe\">\n",
       "  <thead>\n",
       "    <tr style=\"text-align: right;\">\n",
       "      <th></th>\n",
       "      <th>user_id</th>\n",
       "      <th>month</th>\n",
       "      <th>calls_per_month</th>\n",
       "      <th>total_duration</th>\n",
       "      <th>messages_per_month</th>\n",
       "    </tr>\n",
       "  </thead>\n",
       "  <tbody>\n",
       "    <tr>\n",
       "      <th>0</th>\n",
       "      <td>1000</td>\n",
       "      <td>5</td>\n",
       "      <td>22.0</td>\n",
       "      <td>159.0</td>\n",
       "      <td>22.0</td>\n",
       "    </tr>\n",
       "    <tr>\n",
       "      <th>1</th>\n",
       "      <td>1000</td>\n",
       "      <td>6</td>\n",
       "      <td>43.0</td>\n",
       "      <td>172.0</td>\n",
       "      <td>60.0</td>\n",
       "    </tr>\n",
       "    <tr>\n",
       "      <th>2</th>\n",
       "      <td>1000</td>\n",
       "      <td>7</td>\n",
       "      <td>47.0</td>\n",
       "      <td>340.0</td>\n",
       "      <td>75.0</td>\n",
       "    </tr>\n",
       "    <tr>\n",
       "      <th>3</th>\n",
       "      <td>1000</td>\n",
       "      <td>8</td>\n",
       "      <td>52.0</td>\n",
       "      <td>408.0</td>\n",
       "      <td>81.0</td>\n",
       "    </tr>\n",
       "    <tr>\n",
       "      <th>4</th>\n",
       "      <td>1000</td>\n",
       "      <td>9</td>\n",
       "      <td>58.0</td>\n",
       "      <td>466.0</td>\n",
       "      <td>57.0</td>\n",
       "    </tr>\n",
       "  </tbody>\n",
       "</table>\n",
       "</div>"
      ],
      "text/plain": [
       "   user_id  month  calls_per_month  total_duration  messages_per_month\n",
       "0     1000      5             22.0           159.0                22.0\n",
       "1     1000      6             43.0           172.0                60.0\n",
       "2     1000      7             47.0           340.0                75.0\n",
       "3     1000      8             52.0           408.0                81.0\n",
       "4     1000      9             58.0           466.0                57.0"
      ]
     },
     "execution_count": 35,
     "metadata": {},
     "output_type": "execute_result"
    }
   ],
   "source": [
    "# поочередно присоеденим к датасету со сгруппированными звонками\n",
    "# датасеты с сообщениями и интернетом\n",
    "data_total = calls_total.merge(messages_total, on=['user_id', 'month'], how='outer')\n",
    "data_total.head()"
   ]
  },
  {
   "cell_type": "code",
   "execution_count": 36,
   "metadata": {},
   "outputs": [
    {
     "data": {
      "text/html": [
       "<div>\n",
       "<style scoped>\n",
       "    .dataframe tbody tr th:only-of-type {\n",
       "        vertical-align: middle;\n",
       "    }\n",
       "\n",
       "    .dataframe tbody tr th {\n",
       "        vertical-align: top;\n",
       "    }\n",
       "\n",
       "    .dataframe thead th {\n",
       "        text-align: right;\n",
       "    }\n",
       "</style>\n",
       "<table border=\"1\" class=\"dataframe\">\n",
       "  <thead>\n",
       "    <tr style=\"text-align: right;\">\n",
       "      <th></th>\n",
       "      <th>user_id</th>\n",
       "      <th>month</th>\n",
       "      <th>calls_per_month</th>\n",
       "      <th>total_duration</th>\n",
       "      <th>messages_per_month</th>\n",
       "      <th>mb_per_month</th>\n",
       "    </tr>\n",
       "  </thead>\n",
       "  <tbody>\n",
       "    <tr>\n",
       "      <th>0</th>\n",
       "      <td>1000</td>\n",
       "      <td>5</td>\n",
       "      <td>22.0</td>\n",
       "      <td>159.0</td>\n",
       "      <td>22.0</td>\n",
       "      <td>2253.49</td>\n",
       "    </tr>\n",
       "    <tr>\n",
       "      <th>1</th>\n",
       "      <td>1000</td>\n",
       "      <td>6</td>\n",
       "      <td>43.0</td>\n",
       "      <td>172.0</td>\n",
       "      <td>60.0</td>\n",
       "      <td>23233.77</td>\n",
       "    </tr>\n",
       "    <tr>\n",
       "      <th>2</th>\n",
       "      <td>1000</td>\n",
       "      <td>7</td>\n",
       "      <td>47.0</td>\n",
       "      <td>340.0</td>\n",
       "      <td>75.0</td>\n",
       "      <td>14003.64</td>\n",
       "    </tr>\n",
       "    <tr>\n",
       "      <th>3</th>\n",
       "      <td>1000</td>\n",
       "      <td>8</td>\n",
       "      <td>52.0</td>\n",
       "      <td>408.0</td>\n",
       "      <td>81.0</td>\n",
       "      <td>14055.93</td>\n",
       "    </tr>\n",
       "    <tr>\n",
       "      <th>4</th>\n",
       "      <td>1000</td>\n",
       "      <td>9</td>\n",
       "      <td>58.0</td>\n",
       "      <td>466.0</td>\n",
       "      <td>57.0</td>\n",
       "      <td>14568.91</td>\n",
       "    </tr>\n",
       "  </tbody>\n",
       "</table>\n",
       "</div>"
      ],
      "text/plain": [
       "   user_id  month  calls_per_month  total_duration  messages_per_month  \\\n",
       "0     1000      5             22.0           159.0                22.0   \n",
       "1     1000      6             43.0           172.0                60.0   \n",
       "2     1000      7             47.0           340.0                75.0   \n",
       "3     1000      8             52.0           408.0                81.0   \n",
       "4     1000      9             58.0           466.0                57.0   \n",
       "\n",
       "   mb_per_month  \n",
       "0       2253.49  \n",
       "1      23233.77  \n",
       "2      14003.64  \n",
       "3      14055.93  \n",
       "4      14568.91  "
      ]
     },
     "execution_count": 36,
     "metadata": {},
     "output_type": "execute_result"
    }
   ],
   "source": [
    "data_total = data_total.merge(internet_total, on=['user_id', 'month'], how='outer')\n",
    "data_total.head()"
   ]
  },
  {
   "cell_type": "code",
   "execution_count": 37,
   "metadata": {},
   "outputs": [
    {
     "data": {
      "text/html": [
       "<div>\n",
       "<style scoped>\n",
       "    .dataframe tbody tr th:only-of-type {\n",
       "        vertical-align: middle;\n",
       "    }\n",
       "\n",
       "    .dataframe tbody tr th {\n",
       "        vertical-align: top;\n",
       "    }\n",
       "\n",
       "    .dataframe thead th {\n",
       "        text-align: right;\n",
       "    }\n",
       "</style>\n",
       "<table border=\"1\" class=\"dataframe\">\n",
       "  <thead>\n",
       "    <tr style=\"text-align: right;\">\n",
       "      <th></th>\n",
       "      <th>user_id</th>\n",
       "      <th>month</th>\n",
       "      <th>calls_per_month</th>\n",
       "      <th>total_duration</th>\n",
       "      <th>messages_per_month</th>\n",
       "      <th>mb_per_month</th>\n",
       "      <th>age</th>\n",
       "      <th>churn_date</th>\n",
       "      <th>city</th>\n",
       "      <th>first_name</th>\n",
       "      <th>last_name</th>\n",
       "      <th>reg_date</th>\n",
       "      <th>tariff</th>\n",
       "    </tr>\n",
       "  </thead>\n",
       "  <tbody>\n",
       "    <tr>\n",
       "      <th>0</th>\n",
       "      <td>1000</td>\n",
       "      <td>5.0</td>\n",
       "      <td>22.0</td>\n",
       "      <td>159.0</td>\n",
       "      <td>22.0</td>\n",
       "      <td>2253.49</td>\n",
       "      <td>52</td>\n",
       "      <td>NaT</td>\n",
       "      <td>Краснодар</td>\n",
       "      <td>Рафаил</td>\n",
       "      <td>Верещагин</td>\n",
       "      <td>2018-05-25</td>\n",
       "      <td>ultra</td>\n",
       "    </tr>\n",
       "    <tr>\n",
       "      <th>1</th>\n",
       "      <td>1000</td>\n",
       "      <td>6.0</td>\n",
       "      <td>43.0</td>\n",
       "      <td>172.0</td>\n",
       "      <td>60.0</td>\n",
       "      <td>23233.77</td>\n",
       "      <td>52</td>\n",
       "      <td>NaT</td>\n",
       "      <td>Краснодар</td>\n",
       "      <td>Рафаил</td>\n",
       "      <td>Верещагин</td>\n",
       "      <td>2018-05-25</td>\n",
       "      <td>ultra</td>\n",
       "    </tr>\n",
       "    <tr>\n",
       "      <th>2</th>\n",
       "      <td>1000</td>\n",
       "      <td>7.0</td>\n",
       "      <td>47.0</td>\n",
       "      <td>340.0</td>\n",
       "      <td>75.0</td>\n",
       "      <td>14003.64</td>\n",
       "      <td>52</td>\n",
       "      <td>NaT</td>\n",
       "      <td>Краснодар</td>\n",
       "      <td>Рафаил</td>\n",
       "      <td>Верещагин</td>\n",
       "      <td>2018-05-25</td>\n",
       "      <td>ultra</td>\n",
       "    </tr>\n",
       "    <tr>\n",
       "      <th>3</th>\n",
       "      <td>1000</td>\n",
       "      <td>8.0</td>\n",
       "      <td>52.0</td>\n",
       "      <td>408.0</td>\n",
       "      <td>81.0</td>\n",
       "      <td>14055.93</td>\n",
       "      <td>52</td>\n",
       "      <td>NaT</td>\n",
       "      <td>Краснодар</td>\n",
       "      <td>Рафаил</td>\n",
       "      <td>Верещагин</td>\n",
       "      <td>2018-05-25</td>\n",
       "      <td>ultra</td>\n",
       "    </tr>\n",
       "    <tr>\n",
       "      <th>4</th>\n",
       "      <td>1000</td>\n",
       "      <td>9.0</td>\n",
       "      <td>58.0</td>\n",
       "      <td>466.0</td>\n",
       "      <td>57.0</td>\n",
       "      <td>14568.91</td>\n",
       "      <td>52</td>\n",
       "      <td>NaT</td>\n",
       "      <td>Краснодар</td>\n",
       "      <td>Рафаил</td>\n",
       "      <td>Верещагин</td>\n",
       "      <td>2018-05-25</td>\n",
       "      <td>ultra</td>\n",
       "    </tr>\n",
       "  </tbody>\n",
       "</table>\n",
       "</div>"
      ],
      "text/plain": [
       "   user_id  month  calls_per_month  total_duration  messages_per_month  \\\n",
       "0     1000    5.0             22.0           159.0                22.0   \n",
       "1     1000    6.0             43.0           172.0                60.0   \n",
       "2     1000    7.0             47.0           340.0                75.0   \n",
       "3     1000    8.0             52.0           408.0                81.0   \n",
       "4     1000    9.0             58.0           466.0                57.0   \n",
       "\n",
       "   mb_per_month  age churn_date       city first_name  last_name   reg_date  \\\n",
       "0       2253.49   52        NaT  Краснодар     Рафаил  Верещагин 2018-05-25   \n",
       "1      23233.77   52        NaT  Краснодар     Рафаил  Верещагин 2018-05-25   \n",
       "2      14003.64   52        NaT  Краснодар     Рафаил  Верещагин 2018-05-25   \n",
       "3      14055.93   52        NaT  Краснодар     Рафаил  Верещагин 2018-05-25   \n",
       "4      14568.91   52        NaT  Краснодар     Рафаил  Верещагин 2018-05-25   \n",
       "\n",
       "  tariff  \n",
       "0  ultra  \n",
       "1  ultra  \n",
       "2  ultra  \n",
       "3  ultra  \n",
       "4  ultra  "
      ]
     },
     "execution_count": 37,
     "metadata": {},
     "output_type": "execute_result"
    }
   ],
   "source": [
    "# а также присоеденим датасет с пользователями, чтобы \n",
    "# на основании него просоеденить информацию по тарифу\n",
    "data_total = data_total.merge(users, on='user_id', how='outer')\n",
    "data_total.head()"
   ]
  },
  {
   "cell_type": "code",
   "execution_count": 38,
   "metadata": {},
   "outputs": [
    {
     "data": {
      "text/html": [
       "<div>\n",
       "<style scoped>\n",
       "    .dataframe tbody tr th:only-of-type {\n",
       "        vertical-align: middle;\n",
       "    }\n",
       "\n",
       "    .dataframe tbody tr th {\n",
       "        vertical-align: top;\n",
       "    }\n",
       "\n",
       "    .dataframe thead th {\n",
       "        text-align: right;\n",
       "    }\n",
       "</style>\n",
       "<table border=\"1\" class=\"dataframe\">\n",
       "  <thead>\n",
       "    <tr style=\"text-align: right;\">\n",
       "      <th></th>\n",
       "      <th>user_id</th>\n",
       "      <th>month</th>\n",
       "      <th>calls_per_month</th>\n",
       "      <th>total_duration</th>\n",
       "      <th>messages_per_month</th>\n",
       "      <th>mb_per_month</th>\n",
       "      <th>age</th>\n",
       "      <th>churn_date</th>\n",
       "      <th>city</th>\n",
       "      <th>first_name</th>\n",
       "      <th>last_name</th>\n",
       "      <th>reg_date</th>\n",
       "      <th>tariff</th>\n",
       "      <th>messages_included</th>\n",
       "      <th>mb_per_month_included</th>\n",
       "      <th>minutes_included</th>\n",
       "      <th>rub_monthly_fee</th>\n",
       "      <th>rub_per_gb</th>\n",
       "      <th>rub_per_message</th>\n",
       "      <th>rub_per_minute</th>\n",
       "    </tr>\n",
       "  </thead>\n",
       "  <tbody>\n",
       "    <tr>\n",
       "      <th>0</th>\n",
       "      <td>1000</td>\n",
       "      <td>5.0</td>\n",
       "      <td>22.0</td>\n",
       "      <td>159.0</td>\n",
       "      <td>22.0</td>\n",
       "      <td>2253.49</td>\n",
       "      <td>52</td>\n",
       "      <td>NaT</td>\n",
       "      <td>Краснодар</td>\n",
       "      <td>Рафаил</td>\n",
       "      <td>Верещагин</td>\n",
       "      <td>2018-05-25</td>\n",
       "      <td>ultra</td>\n",
       "      <td>1000</td>\n",
       "      <td>30720</td>\n",
       "      <td>3000</td>\n",
       "      <td>1950</td>\n",
       "      <td>150</td>\n",
       "      <td>1</td>\n",
       "      <td>1</td>\n",
       "    </tr>\n",
       "    <tr>\n",
       "      <th>1</th>\n",
       "      <td>1000</td>\n",
       "      <td>6.0</td>\n",
       "      <td>43.0</td>\n",
       "      <td>172.0</td>\n",
       "      <td>60.0</td>\n",
       "      <td>23233.77</td>\n",
       "      <td>52</td>\n",
       "      <td>NaT</td>\n",
       "      <td>Краснодар</td>\n",
       "      <td>Рафаил</td>\n",
       "      <td>Верещагин</td>\n",
       "      <td>2018-05-25</td>\n",
       "      <td>ultra</td>\n",
       "      <td>1000</td>\n",
       "      <td>30720</td>\n",
       "      <td>3000</td>\n",
       "      <td>1950</td>\n",
       "      <td>150</td>\n",
       "      <td>1</td>\n",
       "      <td>1</td>\n",
       "    </tr>\n",
       "    <tr>\n",
       "      <th>2</th>\n",
       "      <td>1000</td>\n",
       "      <td>7.0</td>\n",
       "      <td>47.0</td>\n",
       "      <td>340.0</td>\n",
       "      <td>75.0</td>\n",
       "      <td>14003.64</td>\n",
       "      <td>52</td>\n",
       "      <td>NaT</td>\n",
       "      <td>Краснодар</td>\n",
       "      <td>Рафаил</td>\n",
       "      <td>Верещагин</td>\n",
       "      <td>2018-05-25</td>\n",
       "      <td>ultra</td>\n",
       "      <td>1000</td>\n",
       "      <td>30720</td>\n",
       "      <td>3000</td>\n",
       "      <td>1950</td>\n",
       "      <td>150</td>\n",
       "      <td>1</td>\n",
       "      <td>1</td>\n",
       "    </tr>\n",
       "    <tr>\n",
       "      <th>3</th>\n",
       "      <td>1000</td>\n",
       "      <td>8.0</td>\n",
       "      <td>52.0</td>\n",
       "      <td>408.0</td>\n",
       "      <td>81.0</td>\n",
       "      <td>14055.93</td>\n",
       "      <td>52</td>\n",
       "      <td>NaT</td>\n",
       "      <td>Краснодар</td>\n",
       "      <td>Рафаил</td>\n",
       "      <td>Верещагин</td>\n",
       "      <td>2018-05-25</td>\n",
       "      <td>ultra</td>\n",
       "      <td>1000</td>\n",
       "      <td>30720</td>\n",
       "      <td>3000</td>\n",
       "      <td>1950</td>\n",
       "      <td>150</td>\n",
       "      <td>1</td>\n",
       "      <td>1</td>\n",
       "    </tr>\n",
       "    <tr>\n",
       "      <th>4</th>\n",
       "      <td>1000</td>\n",
       "      <td>9.0</td>\n",
       "      <td>58.0</td>\n",
       "      <td>466.0</td>\n",
       "      <td>57.0</td>\n",
       "      <td>14568.91</td>\n",
       "      <td>52</td>\n",
       "      <td>NaT</td>\n",
       "      <td>Краснодар</td>\n",
       "      <td>Рафаил</td>\n",
       "      <td>Верещагин</td>\n",
       "      <td>2018-05-25</td>\n",
       "      <td>ultra</td>\n",
       "      <td>1000</td>\n",
       "      <td>30720</td>\n",
       "      <td>3000</td>\n",
       "      <td>1950</td>\n",
       "      <td>150</td>\n",
       "      <td>1</td>\n",
       "      <td>1</td>\n",
       "    </tr>\n",
       "  </tbody>\n",
       "</table>\n",
       "</div>"
      ],
      "text/plain": [
       "   user_id  month  calls_per_month  total_duration  messages_per_month  \\\n",
       "0     1000    5.0             22.0           159.0                22.0   \n",
       "1     1000    6.0             43.0           172.0                60.0   \n",
       "2     1000    7.0             47.0           340.0                75.0   \n",
       "3     1000    8.0             52.0           408.0                81.0   \n",
       "4     1000    9.0             58.0           466.0                57.0   \n",
       "\n",
       "   mb_per_month  age churn_date       city first_name  last_name   reg_date  \\\n",
       "0       2253.49   52        NaT  Краснодар     Рафаил  Верещагин 2018-05-25   \n",
       "1      23233.77   52        NaT  Краснодар     Рафаил  Верещагин 2018-05-25   \n",
       "2      14003.64   52        NaT  Краснодар     Рафаил  Верещагин 2018-05-25   \n",
       "3      14055.93   52        NaT  Краснодар     Рафаил  Верещагин 2018-05-25   \n",
       "4      14568.91   52        NaT  Краснодар     Рафаил  Верещагин 2018-05-25   \n",
       "\n",
       "  tariff  messages_included  mb_per_month_included  minutes_included  \\\n",
       "0  ultra               1000                  30720              3000   \n",
       "1  ultra               1000                  30720              3000   \n",
       "2  ultra               1000                  30720              3000   \n",
       "3  ultra               1000                  30720              3000   \n",
       "4  ultra               1000                  30720              3000   \n",
       "\n",
       "   rub_monthly_fee  rub_per_gb  rub_per_message  rub_per_minute  \n",
       "0             1950         150                1               1  \n",
       "1             1950         150                1               1  \n",
       "2             1950         150                1               1  \n",
       "3             1950         150                1               1  \n",
       "4             1950         150                1               1  "
      ]
     },
     "execution_count": 38,
     "metadata": {},
     "output_type": "execute_result"
    }
   ],
   "source": [
    "data_total = data_total.merge(tariffs, on='tariff', how='outer')\n",
    "data_total.head()"
   ]
  },
  {
   "cell_type": "code",
   "execution_count": 39,
   "metadata": {},
   "outputs": [
    {
     "name": "stdout",
     "output_type": "stream",
     "text": [
      "<class 'pandas.core.frame.DataFrame'>\n",
      "Int64Index: 3216 entries, 0 to 3215\n",
      "Data columns (total 20 columns):\n",
      " #   Column                 Non-Null Count  Dtype         \n",
      "---  ------                 --------------  -----         \n",
      " 0   user_id                3216 non-null   int64         \n",
      " 1   month                  3214 non-null   float64       \n",
      " 2   calls_per_month        3174 non-null   float64       \n",
      " 3   total_duration         3174 non-null   float64       \n",
      " 4   messages_per_month     2717 non-null   float64       \n",
      " 5   mb_per_month           3201 non-null   float64       \n",
      " 6   age                    3216 non-null   int64         \n",
      " 7   churn_date             189 non-null    datetime64[ns]\n",
      " 8   city                   3216 non-null   object        \n",
      " 9   first_name             3216 non-null   object        \n",
      " 10  last_name              3216 non-null   object        \n",
      " 11  reg_date               3216 non-null   datetime64[ns]\n",
      " 12  tariff                 3216 non-null   object        \n",
      " 13  messages_included      3216 non-null   int64         \n",
      " 14  mb_per_month_included  3216 non-null   int64         \n",
      " 15  minutes_included       3216 non-null   int64         \n",
      " 16  rub_monthly_fee        3216 non-null   int64         \n",
      " 17  rub_per_gb             3216 non-null   int64         \n",
      " 18  rub_per_message        3216 non-null   int64         \n",
      " 19  rub_per_minute         3216 non-null   int64         \n",
      "dtypes: datetime64[ns](2), float64(5), int64(9), object(4)\n",
      "memory usage: 527.6+ KB\n"
     ]
    }
   ],
   "source": [
    "# посмотрим на получившуюся таблицу\n",
    "data_total.info()"
   ]
  },
  {
   "cell_type": "code",
   "execution_count": 40,
   "metadata": {},
   "outputs": [
    {
     "data": {
      "text/html": [
       "<div>\n",
       "<style scoped>\n",
       "    .dataframe tbody tr th:only-of-type {\n",
       "        vertical-align: middle;\n",
       "    }\n",
       "\n",
       "    .dataframe tbody tr th {\n",
       "        vertical-align: top;\n",
       "    }\n",
       "\n",
       "    .dataframe thead th {\n",
       "        text-align: right;\n",
       "    }\n",
       "</style>\n",
       "<table border=\"1\" class=\"dataframe\">\n",
       "  <thead>\n",
       "    <tr style=\"text-align: right;\">\n",
       "      <th></th>\n",
       "      <th>user_id</th>\n",
       "      <th>month</th>\n",
       "      <th>calls_per_month</th>\n",
       "      <th>total_duration</th>\n",
       "      <th>messages_per_month</th>\n",
       "      <th>mb_per_month</th>\n",
       "      <th>age</th>\n",
       "      <th>churn_date</th>\n",
       "      <th>city</th>\n",
       "      <th>first_name</th>\n",
       "      <th>last_name</th>\n",
       "      <th>reg_date</th>\n",
       "      <th>tariff</th>\n",
       "      <th>messages_included</th>\n",
       "      <th>mb_per_month_included</th>\n",
       "      <th>minutes_included</th>\n",
       "      <th>rub_monthly_fee</th>\n",
       "      <th>rub_per_gb</th>\n",
       "      <th>rub_per_message</th>\n",
       "      <th>rub_per_minute</th>\n",
       "    </tr>\n",
       "  </thead>\n",
       "  <tbody>\n",
       "    <tr>\n",
       "      <th>985</th>\n",
       "      <td>1128</td>\n",
       "      <td>NaN</td>\n",
       "      <td>NaN</td>\n",
       "      <td>NaN</td>\n",
       "      <td>NaN</td>\n",
       "      <td>NaN</td>\n",
       "      <td>51</td>\n",
       "      <td>2018-12-23</td>\n",
       "      <td>Волжский</td>\n",
       "      <td>Ксения</td>\n",
       "      <td>Агаева</td>\n",
       "      <td>2018-12-15</td>\n",
       "      <td>ultra</td>\n",
       "      <td>1000</td>\n",
       "      <td>30720</td>\n",
       "      <td>3000</td>\n",
       "      <td>1950</td>\n",
       "      <td>150</td>\n",
       "      <td>1</td>\n",
       "      <td>1</td>\n",
       "    </tr>\n",
       "    <tr>\n",
       "      <th>3215</th>\n",
       "      <td>1371</td>\n",
       "      <td>NaN</td>\n",
       "      <td>NaN</td>\n",
       "      <td>NaN</td>\n",
       "      <td>NaN</td>\n",
       "      <td>NaN</td>\n",
       "      <td>50</td>\n",
       "      <td>2018-12-30</td>\n",
       "      <td>Омск</td>\n",
       "      <td>Ириней</td>\n",
       "      <td>Трофимов</td>\n",
       "      <td>2018-12-25</td>\n",
       "      <td>smart</td>\n",
       "      <td>50</td>\n",
       "      <td>15360</td>\n",
       "      <td>500</td>\n",
       "      <td>550</td>\n",
       "      <td>200</td>\n",
       "      <td>3</td>\n",
       "      <td>3</td>\n",
       "    </tr>\n",
       "  </tbody>\n",
       "</table>\n",
       "</div>"
      ],
      "text/plain": [
       "      user_id  month  calls_per_month  total_duration  messages_per_month  \\\n",
       "985      1128    NaN              NaN             NaN                 NaN   \n",
       "3215     1371    NaN              NaN             NaN                 NaN   \n",
       "\n",
       "      mb_per_month  age churn_date      city first_name last_name   reg_date  \\\n",
       "985            NaN   51 2018-12-23  Волжский     Ксения    Агаева 2018-12-15   \n",
       "3215           NaN   50 2018-12-30      Омск     Ириней  Трофимов 2018-12-25   \n",
       "\n",
       "     tariff  messages_included  mb_per_month_included  minutes_included  \\\n",
       "985   ultra               1000                  30720              3000   \n",
       "3215  smart                 50                  15360               500   \n",
       "\n",
       "      rub_monthly_fee  rub_per_gb  rub_per_message  rub_per_minute  \n",
       "985              1950         150                1               1  \n",
       "3215              550         200                3               3  "
      ]
     },
     "execution_count": 40,
     "metadata": {},
     "output_type": "execute_result"
    }
   ],
   "source": [
    "# посмтотрим, почему появились пропуски\n",
    "data_total[data_total['month'].isna() == True]"
   ]
  },
  {
   "cell_type": "code",
   "execution_count": 41,
   "metadata": {},
   "outputs": [
    {
     "data": {
      "text/html": [
       "<div>\n",
       "<style scoped>\n",
       "    .dataframe tbody tr th:only-of-type {\n",
       "        vertical-align: middle;\n",
       "    }\n",
       "\n",
       "    .dataframe tbody tr th {\n",
       "        vertical-align: top;\n",
       "    }\n",
       "\n",
       "    .dataframe thead th {\n",
       "        text-align: right;\n",
       "    }\n",
       "</style>\n",
       "<table border=\"1\" class=\"dataframe\">\n",
       "  <thead>\n",
       "    <tr style=\"text-align: right;\">\n",
       "      <th></th>\n",
       "      <th>reg_date</th>\n",
       "      <th>churn_date</th>\n",
       "    </tr>\n",
       "  </thead>\n",
       "  <tbody>\n",
       "    <tr>\n",
       "      <th>985</th>\n",
       "      <td>2018-12-15</td>\n",
       "      <td>2018-12-23</td>\n",
       "    </tr>\n",
       "    <tr>\n",
       "      <th>3215</th>\n",
       "      <td>2018-12-25</td>\n",
       "      <td>2018-12-30</td>\n",
       "    </tr>\n",
       "  </tbody>\n",
       "</table>\n",
       "</div>"
      ],
      "text/plain": [
       "       reg_date churn_date\n",
       "985  2018-12-15 2018-12-23\n",
       "3215 2018-12-25 2018-12-30"
      ]
     },
     "execution_count": 41,
     "metadata": {},
     "output_type": "execute_result"
    }
   ],
   "source": [
    "data_total[data_total['month'].isna() == True][['reg_date', 'churn_date']]"
   ]
  },
  {
   "cell_type": "markdown",
   "metadata": {},
   "source": [
    "Видим такую ситуацию, когда клиент заплатил за тариф и в том же месяце отказался от его использования, при этом не потратив ничего из включенных в тариф лимитов. Стоит заполнить пропуски и указать месяц подключения/отключения тарифа, т.к. клиент всё-таки заплатил и эти данные могут быть учтены для анализа помесячной выручки. Видим, что в обоих случаях это был декабрь."
   ]
  },
  {
   "cell_type": "code",
   "execution_count": 42,
   "metadata": {},
   "outputs": [],
   "source": [
    "data_total['month'] = data_total['month'].fillna(12)"
   ]
  },
  {
   "cell_type": "code",
   "execution_count": 43,
   "metadata": {},
   "outputs": [
    {
     "name": "stdout",
     "output_type": "stream",
     "text": [
      "<class 'pandas.core.frame.DataFrame'>\n",
      "Int64Index: 3216 entries, 0 to 3215\n",
      "Data columns (total 20 columns):\n",
      " #   Column                 Non-Null Count  Dtype         \n",
      "---  ------                 --------------  -----         \n",
      " 0   user_id                3216 non-null   int64         \n",
      " 1   month                  3216 non-null   float64       \n",
      " 2   calls_per_month        3174 non-null   float64       \n",
      " 3   total_duration         3174 non-null   float64       \n",
      " 4   messages_per_month     2717 non-null   float64       \n",
      " 5   mb_per_month           3201 non-null   float64       \n",
      " 6   age                    3216 non-null   int64         \n",
      " 7   churn_date             189 non-null    datetime64[ns]\n",
      " 8   city                   3216 non-null   object        \n",
      " 9   first_name             3216 non-null   object        \n",
      " 10  last_name              3216 non-null   object        \n",
      " 11  reg_date               3216 non-null   datetime64[ns]\n",
      " 12  tariff                 3216 non-null   object        \n",
      " 13  messages_included      3216 non-null   int64         \n",
      " 14  mb_per_month_included  3216 non-null   int64         \n",
      " 15  minutes_included       3216 non-null   int64         \n",
      " 16  rub_monthly_fee        3216 non-null   int64         \n",
      " 17  rub_per_gb             3216 non-null   int64         \n",
      " 18  rub_per_message        3216 non-null   int64         \n",
      " 19  rub_per_minute         3216 non-null   int64         \n",
      "dtypes: datetime64[ns](2), float64(5), int64(9), object(4)\n",
      "memory usage: 527.6+ KB\n"
     ]
    }
   ],
   "source": [
    "data_total.info()"
   ]
  },
  {
   "cell_type": "markdown",
   "metadata": {},
   "source": [
    "Видим, что имеются пропуски. Ситуация, когда клиент никому не звонил, не выходил в интернет или не писал смс теоретически возможна. Например, клиент пользовался другой сим картой для звонков или интернетом через wi-fi, смс вообще теряют популярность т.к. распростронены мессенджеры. Удалять пропуски не будем, заменим пропущенные значения на 0."
   ]
  },
  {
   "cell_type": "code",
   "execution_count": 44,
   "metadata": {},
   "outputs": [],
   "source": [
    "data_total[['calls_per_month', 'total_duration', 'messages_per_month', 'mb_per_month']] = (\n",
    "data_total[['calls_per_month', 'total_duration', 'messages_per_month', 'mb_per_month']].fillna(0)\n",
    ")"
   ]
  },
  {
   "cell_type": "code",
   "execution_count": 45,
   "metadata": {},
   "outputs": [
    {
     "data": {
      "text/plain": [
       "user_id                     0\n",
       "month                       0\n",
       "calls_per_month             0\n",
       "total_duration              0\n",
       "messages_per_month          0\n",
       "mb_per_month                0\n",
       "age                         0\n",
       "churn_date               3027\n",
       "city                        0\n",
       "first_name                  0\n",
       "last_name                   0\n",
       "reg_date                    0\n",
       "tariff                      0\n",
       "messages_included           0\n",
       "mb_per_month_included       0\n",
       "minutes_included            0\n",
       "rub_monthly_fee             0\n",
       "rub_per_gb                  0\n",
       "rub_per_message             0\n",
       "rub_per_minute              0\n",
       "dtype: int64"
      ]
     },
     "execution_count": 45,
     "metadata": {},
     "output_type": "execute_result"
    }
   ],
   "source": [
    "data_total.isna().sum()"
   ]
  },
  {
   "cell_type": "code",
   "execution_count": 46,
   "metadata": {},
   "outputs": [],
   "source": [
    "# создадим функцию, которая вычтет бесплатный лимит из суммарного количества звонков,\n",
    "# сообщений и интернет-трафика; остаток умножет на значение из тарифного плана \n",
    "# при условии, что этот остаток больше 0\n",
    "def tariff_excess(row):\n",
    "    calls = (row['total_duration'] - row['minutes_included']) * row['rub_per_minute']\n",
    "    messages = (row['messages_per_month'] - row['messages_included']) * row['rub_per_message']\n",
    "    gb = np.ceil((row['mb_per_month'] - row['mb_per_month_included']) / 1024) * row['rub_per_gb']\n",
    "    total = 0\n",
    "    for i in [calls, messages, gb]:\n",
    "        if i > 0:\n",
    "            total += i\n",
    "    return total        "
   ]
  },
  {
   "cell_type": "markdown",
   "metadata": {},
   "source": [
    "Исходя из примечания к заданию, для веб-трафика отдельные сессии не считаются. Вместо этого общая сумма за месяц округляется в бо́льшую сторону."
   ]
  },
  {
   "cell_type": "code",
   "execution_count": 47,
   "metadata": {},
   "outputs": [
    {
     "data": {
      "text/html": [
       "<div>\n",
       "<style scoped>\n",
       "    .dataframe tbody tr th:only-of-type {\n",
       "        vertical-align: middle;\n",
       "    }\n",
       "\n",
       "    .dataframe tbody tr th {\n",
       "        vertical-align: top;\n",
       "    }\n",
       "\n",
       "    .dataframe thead th {\n",
       "        text-align: right;\n",
       "    }\n",
       "</style>\n",
       "<table border=\"1\" class=\"dataframe\">\n",
       "  <thead>\n",
       "    <tr style=\"text-align: right;\">\n",
       "      <th></th>\n",
       "      <th>user_id</th>\n",
       "      <th>month</th>\n",
       "      <th>calls_per_month</th>\n",
       "      <th>total_duration</th>\n",
       "      <th>messages_per_month</th>\n",
       "      <th>mb_per_month</th>\n",
       "      <th>age</th>\n",
       "      <th>churn_date</th>\n",
       "      <th>city</th>\n",
       "      <th>first_name</th>\n",
       "      <th>...</th>\n",
       "      <th>reg_date</th>\n",
       "      <th>tariff</th>\n",
       "      <th>messages_included</th>\n",
       "      <th>mb_per_month_included</th>\n",
       "      <th>minutes_included</th>\n",
       "      <th>rub_monthly_fee</th>\n",
       "      <th>rub_per_gb</th>\n",
       "      <th>rub_per_message</th>\n",
       "      <th>rub_per_minute</th>\n",
       "      <th>tariff_excess</th>\n",
       "    </tr>\n",
       "  </thead>\n",
       "  <tbody>\n",
       "    <tr>\n",
       "      <th>3211</th>\n",
       "      <td>1489</td>\n",
       "      <td>9.0</td>\n",
       "      <td>0.0</td>\n",
       "      <td>0.0</td>\n",
       "      <td>32.0</td>\n",
       "      <td>17206.30</td>\n",
       "      <td>35</td>\n",
       "      <td>NaT</td>\n",
       "      <td>Санкт-Петербург</td>\n",
       "      <td>Павел</td>\n",
       "      <td>...</td>\n",
       "      <td>2018-08-15</td>\n",
       "      <td>smart</td>\n",
       "      <td>50</td>\n",
       "      <td>15360</td>\n",
       "      <td>500</td>\n",
       "      <td>550</td>\n",
       "      <td>200</td>\n",
       "      <td>3</td>\n",
       "      <td>3</td>\n",
       "      <td>400.0</td>\n",
       "    </tr>\n",
       "    <tr>\n",
       "      <th>3212</th>\n",
       "      <td>1489</td>\n",
       "      <td>10.0</td>\n",
       "      <td>0.0</td>\n",
       "      <td>0.0</td>\n",
       "      <td>21.0</td>\n",
       "      <td>19559.44</td>\n",
       "      <td>35</td>\n",
       "      <td>NaT</td>\n",
       "      <td>Санкт-Петербург</td>\n",
       "      <td>Павел</td>\n",
       "      <td>...</td>\n",
       "      <td>2018-08-15</td>\n",
       "      <td>smart</td>\n",
       "      <td>50</td>\n",
       "      <td>15360</td>\n",
       "      <td>500</td>\n",
       "      <td>550</td>\n",
       "      <td>200</td>\n",
       "      <td>3</td>\n",
       "      <td>3</td>\n",
       "      <td>1000.0</td>\n",
       "    </tr>\n",
       "    <tr>\n",
       "      <th>3213</th>\n",
       "      <td>1489</td>\n",
       "      <td>11.0</td>\n",
       "      <td>0.0</td>\n",
       "      <td>0.0</td>\n",
       "      <td>20.0</td>\n",
       "      <td>17491.56</td>\n",
       "      <td>35</td>\n",
       "      <td>NaT</td>\n",
       "      <td>Санкт-Петербург</td>\n",
       "      <td>Павел</td>\n",
       "      <td>...</td>\n",
       "      <td>2018-08-15</td>\n",
       "      <td>smart</td>\n",
       "      <td>50</td>\n",
       "      <td>15360</td>\n",
       "      <td>500</td>\n",
       "      <td>550</td>\n",
       "      <td>200</td>\n",
       "      <td>3</td>\n",
       "      <td>3</td>\n",
       "      <td>600.0</td>\n",
       "    </tr>\n",
       "    <tr>\n",
       "      <th>3214</th>\n",
       "      <td>1489</td>\n",
       "      <td>12.0</td>\n",
       "      <td>0.0</td>\n",
       "      <td>0.0</td>\n",
       "      <td>35.0</td>\n",
       "      <td>17322.51</td>\n",
       "      <td>35</td>\n",
       "      <td>NaT</td>\n",
       "      <td>Санкт-Петербург</td>\n",
       "      <td>Павел</td>\n",
       "      <td>...</td>\n",
       "      <td>2018-08-15</td>\n",
       "      <td>smart</td>\n",
       "      <td>50</td>\n",
       "      <td>15360</td>\n",
       "      <td>500</td>\n",
       "      <td>550</td>\n",
       "      <td>200</td>\n",
       "      <td>3</td>\n",
       "      <td>3</td>\n",
       "      <td>400.0</td>\n",
       "    </tr>\n",
       "    <tr>\n",
       "      <th>3215</th>\n",
       "      <td>1371</td>\n",
       "      <td>12.0</td>\n",
       "      <td>0.0</td>\n",
       "      <td>0.0</td>\n",
       "      <td>0.0</td>\n",
       "      <td>0.00</td>\n",
       "      <td>50</td>\n",
       "      <td>2018-12-30</td>\n",
       "      <td>Омск</td>\n",
       "      <td>Ириней</td>\n",
       "      <td>...</td>\n",
       "      <td>2018-12-25</td>\n",
       "      <td>smart</td>\n",
       "      <td>50</td>\n",
       "      <td>15360</td>\n",
       "      <td>500</td>\n",
       "      <td>550</td>\n",
       "      <td>200</td>\n",
       "      <td>3</td>\n",
       "      <td>3</td>\n",
       "      <td>0.0</td>\n",
       "    </tr>\n",
       "  </tbody>\n",
       "</table>\n",
       "<p>5 rows × 21 columns</p>\n",
       "</div>"
      ],
      "text/plain": [
       "      user_id  month  calls_per_month  total_duration  messages_per_month  \\\n",
       "3211     1489    9.0              0.0             0.0                32.0   \n",
       "3212     1489   10.0              0.0             0.0                21.0   \n",
       "3213     1489   11.0              0.0             0.0                20.0   \n",
       "3214     1489   12.0              0.0             0.0                35.0   \n",
       "3215     1371   12.0              0.0             0.0                 0.0   \n",
       "\n",
       "      mb_per_month  age churn_date             city first_name  ...  \\\n",
       "3211      17206.30   35        NaT  Санкт-Петербург      Павел  ...   \n",
       "3212      19559.44   35        NaT  Санкт-Петербург      Павел  ...   \n",
       "3213      17491.56   35        NaT  Санкт-Петербург      Павел  ...   \n",
       "3214      17322.51   35        NaT  Санкт-Петербург      Павел  ...   \n",
       "3215          0.00   50 2018-12-30             Омск     Ириней  ...   \n",
       "\n",
       "       reg_date tariff messages_included  mb_per_month_included  \\\n",
       "3211 2018-08-15  smart                50                  15360   \n",
       "3212 2018-08-15  smart                50                  15360   \n",
       "3213 2018-08-15  smart                50                  15360   \n",
       "3214 2018-08-15  smart                50                  15360   \n",
       "3215 2018-12-25  smart                50                  15360   \n",
       "\n",
       "      minutes_included  rub_monthly_fee  rub_per_gb  rub_per_message  \\\n",
       "3211               500              550         200                3   \n",
       "3212               500              550         200                3   \n",
       "3213               500              550         200                3   \n",
       "3214               500              550         200                3   \n",
       "3215               500              550         200                3   \n",
       "\n",
       "      rub_per_minute  tariff_excess  \n",
       "3211               3          400.0  \n",
       "3212               3         1000.0  \n",
       "3213               3          600.0  \n",
       "3214               3          400.0  \n",
       "3215               3            0.0  \n",
       "\n",
       "[5 rows x 21 columns]"
      ]
     },
     "execution_count": 47,
     "metadata": {},
     "output_type": "execute_result"
    }
   ],
   "source": [
    "data_total['tariff_excess'] = data_total.apply(tariff_excess, axis=1)\n",
    "data_total.tail()"
   ]
  },
  {
   "cell_type": "markdown",
   "metadata": {},
   "source": [
    "Клиент с сентября по декабрь превышал лимит по гигабайтам, соответствующая стоимость превышения отображена в последнем столбце."
   ]
  },
  {
   "cell_type": "code",
   "execution_count": 48,
   "metadata": {},
   "outputs": [
    {
     "data": {
      "text/html": [
       "<div>\n",
       "<style scoped>\n",
       "    .dataframe tbody tr th:only-of-type {\n",
       "        vertical-align: middle;\n",
       "    }\n",
       "\n",
       "    .dataframe tbody tr th {\n",
       "        vertical-align: top;\n",
       "    }\n",
       "\n",
       "    .dataframe thead th {\n",
       "        text-align: right;\n",
       "    }\n",
       "</style>\n",
       "<table border=\"1\" class=\"dataframe\">\n",
       "  <thead>\n",
       "    <tr style=\"text-align: right;\">\n",
       "      <th></th>\n",
       "      <th>user_id</th>\n",
       "      <th>month</th>\n",
       "      <th>calls_per_month</th>\n",
       "      <th>total_duration</th>\n",
       "      <th>messages_per_month</th>\n",
       "      <th>mb_per_month</th>\n",
       "      <th>age</th>\n",
       "      <th>churn_date</th>\n",
       "      <th>city</th>\n",
       "      <th>first_name</th>\n",
       "      <th>...</th>\n",
       "      <th>tariff</th>\n",
       "      <th>messages_included</th>\n",
       "      <th>mb_per_month_included</th>\n",
       "      <th>minutes_included</th>\n",
       "      <th>rub_monthly_fee</th>\n",
       "      <th>rub_per_gb</th>\n",
       "      <th>rub_per_message</th>\n",
       "      <th>rub_per_minute</th>\n",
       "      <th>tariff_excess</th>\n",
       "      <th>total_cost</th>\n",
       "    </tr>\n",
       "  </thead>\n",
       "  <tbody>\n",
       "    <tr>\n",
       "      <th>3211</th>\n",
       "      <td>1489</td>\n",
       "      <td>9.0</td>\n",
       "      <td>0.0</td>\n",
       "      <td>0.0</td>\n",
       "      <td>32.0</td>\n",
       "      <td>17206.30</td>\n",
       "      <td>35</td>\n",
       "      <td>NaT</td>\n",
       "      <td>Санкт-Петербург</td>\n",
       "      <td>Павел</td>\n",
       "      <td>...</td>\n",
       "      <td>smart</td>\n",
       "      <td>50</td>\n",
       "      <td>15360</td>\n",
       "      <td>500</td>\n",
       "      <td>550</td>\n",
       "      <td>200</td>\n",
       "      <td>3</td>\n",
       "      <td>3</td>\n",
       "      <td>400.0</td>\n",
       "      <td>950.0</td>\n",
       "    </tr>\n",
       "    <tr>\n",
       "      <th>3212</th>\n",
       "      <td>1489</td>\n",
       "      <td>10.0</td>\n",
       "      <td>0.0</td>\n",
       "      <td>0.0</td>\n",
       "      <td>21.0</td>\n",
       "      <td>19559.44</td>\n",
       "      <td>35</td>\n",
       "      <td>NaT</td>\n",
       "      <td>Санкт-Петербург</td>\n",
       "      <td>Павел</td>\n",
       "      <td>...</td>\n",
       "      <td>smart</td>\n",
       "      <td>50</td>\n",
       "      <td>15360</td>\n",
       "      <td>500</td>\n",
       "      <td>550</td>\n",
       "      <td>200</td>\n",
       "      <td>3</td>\n",
       "      <td>3</td>\n",
       "      <td>1000.0</td>\n",
       "      <td>1550.0</td>\n",
       "    </tr>\n",
       "    <tr>\n",
       "      <th>3213</th>\n",
       "      <td>1489</td>\n",
       "      <td>11.0</td>\n",
       "      <td>0.0</td>\n",
       "      <td>0.0</td>\n",
       "      <td>20.0</td>\n",
       "      <td>17491.56</td>\n",
       "      <td>35</td>\n",
       "      <td>NaT</td>\n",
       "      <td>Санкт-Петербург</td>\n",
       "      <td>Павел</td>\n",
       "      <td>...</td>\n",
       "      <td>smart</td>\n",
       "      <td>50</td>\n",
       "      <td>15360</td>\n",
       "      <td>500</td>\n",
       "      <td>550</td>\n",
       "      <td>200</td>\n",
       "      <td>3</td>\n",
       "      <td>3</td>\n",
       "      <td>600.0</td>\n",
       "      <td>1150.0</td>\n",
       "    </tr>\n",
       "    <tr>\n",
       "      <th>3214</th>\n",
       "      <td>1489</td>\n",
       "      <td>12.0</td>\n",
       "      <td>0.0</td>\n",
       "      <td>0.0</td>\n",
       "      <td>35.0</td>\n",
       "      <td>17322.51</td>\n",
       "      <td>35</td>\n",
       "      <td>NaT</td>\n",
       "      <td>Санкт-Петербург</td>\n",
       "      <td>Павел</td>\n",
       "      <td>...</td>\n",
       "      <td>smart</td>\n",
       "      <td>50</td>\n",
       "      <td>15360</td>\n",
       "      <td>500</td>\n",
       "      <td>550</td>\n",
       "      <td>200</td>\n",
       "      <td>3</td>\n",
       "      <td>3</td>\n",
       "      <td>400.0</td>\n",
       "      <td>950.0</td>\n",
       "    </tr>\n",
       "    <tr>\n",
       "      <th>3215</th>\n",
       "      <td>1371</td>\n",
       "      <td>12.0</td>\n",
       "      <td>0.0</td>\n",
       "      <td>0.0</td>\n",
       "      <td>0.0</td>\n",
       "      <td>0.00</td>\n",
       "      <td>50</td>\n",
       "      <td>2018-12-30</td>\n",
       "      <td>Омск</td>\n",
       "      <td>Ириней</td>\n",
       "      <td>...</td>\n",
       "      <td>smart</td>\n",
       "      <td>50</td>\n",
       "      <td>15360</td>\n",
       "      <td>500</td>\n",
       "      <td>550</td>\n",
       "      <td>200</td>\n",
       "      <td>3</td>\n",
       "      <td>3</td>\n",
       "      <td>0.0</td>\n",
       "      <td>550.0</td>\n",
       "    </tr>\n",
       "  </tbody>\n",
       "</table>\n",
       "<p>5 rows × 22 columns</p>\n",
       "</div>"
      ],
      "text/plain": [
       "      user_id  month  calls_per_month  total_duration  messages_per_month  \\\n",
       "3211     1489    9.0              0.0             0.0                32.0   \n",
       "3212     1489   10.0              0.0             0.0                21.0   \n",
       "3213     1489   11.0              0.0             0.0                20.0   \n",
       "3214     1489   12.0              0.0             0.0                35.0   \n",
       "3215     1371   12.0              0.0             0.0                 0.0   \n",
       "\n",
       "      mb_per_month  age churn_date             city first_name  ... tariff  \\\n",
       "3211      17206.30   35        NaT  Санкт-Петербург      Павел  ...  smart   \n",
       "3212      19559.44   35        NaT  Санкт-Петербург      Павел  ...  smart   \n",
       "3213      17491.56   35        NaT  Санкт-Петербург      Павел  ...  smart   \n",
       "3214      17322.51   35        NaT  Санкт-Петербург      Павел  ...  smart   \n",
       "3215          0.00   50 2018-12-30             Омск     Ириней  ...  smart   \n",
       "\n",
       "     messages_included mb_per_month_included  minutes_included  \\\n",
       "3211                50                 15360               500   \n",
       "3212                50                 15360               500   \n",
       "3213                50                 15360               500   \n",
       "3214                50                 15360               500   \n",
       "3215                50                 15360               500   \n",
       "\n",
       "      rub_monthly_fee  rub_per_gb  rub_per_message  rub_per_minute  \\\n",
       "3211              550         200                3               3   \n",
       "3212              550         200                3               3   \n",
       "3213              550         200                3               3   \n",
       "3214              550         200                3               3   \n",
       "3215              550         200                3               3   \n",
       "\n",
       "      tariff_excess  total_cost  \n",
       "3211          400.0       950.0  \n",
       "3212         1000.0      1550.0  \n",
       "3213          600.0      1150.0  \n",
       "3214          400.0       950.0  \n",
       "3215            0.0       550.0  \n",
       "\n",
       "[5 rows x 22 columns]"
      ]
     },
     "execution_count": 48,
     "metadata": {},
     "output_type": "execute_result"
    }
   ],
   "source": [
    "# прибавим абонентскую плату, соответствующую тарифному плану\n",
    "data_total['total_cost'] = data_total['tariff_excess'] + data_total['rub_monthly_fee']\n",
    "data_total.tail()"
   ]
  },
  {
   "cell_type": "code",
   "execution_count": 49,
   "metadata": {},
   "outputs": [
    {
     "data": {
      "text/plain": [
       "<AxesSubplot:xlabel='month'>"
      ]
     },
     "execution_count": 49,
     "metadata": {},
     "output_type": "execute_result"
    },
    {
     "data": {
      "image/png": "[encoded data removed]",
      "text/plain": [
       "<Figure size 432x288 with 1 Axes>"
      ]
     },
     "metadata": {
      "needs_background": "light"
     },
     "output_type": "display_data"
    }
   ],
   "source": [
    "(data_total.\n",
    " pivot_table(index='month', columns='tariff', values='total_cost', aggfunc='sum')\n",
    ".plot(kind='bar')\n",
    ")"
   ]
  },
  {
   "cell_type": "markdown",
   "metadata": {},
   "source": [
    "График помесячной выручки показывает устойчивый рост."
   ]
  },
  {
   "cell_type": "markdown",
   "metadata": {},
   "source": [
    "### Вывод"
   ]
  },
  {
   "cell_type": "markdown",
   "metadata": {},
   "source": [
    "Была произведена подготовка данных для будущего анализа в два этапа. На певом этапе были изучены датасеты, приведены столбцы к нужным типам данных, удалены аномалии. На втором этапе были произведены необходимые расчеты и сформирована общая таблица, на которой будет основываться дальнейший анализ."
   ]
  },
  {
   "cell_type": "markdown",
   "metadata": {},
   "source": [
    "## Анализ данных"
   ]
  },
  {
   "cell_type": "markdown",
   "metadata": {},
   "source": [
    "### Анализ поведения клиентов в зависимости от тарифного плана"
   ]
  },
  {
   "cell_type": "code",
   "execution_count": 50,
   "metadata": {},
   "outputs": [
    {
     "data": {
      "text/plain": [
       "<AxesSubplot:ylabel='tariff'>"
      ]
     },
     "execution_count": 50,
     "metadata": {},
     "output_type": "execute_result"
    },
    {
     "data": {
      "image/png": "[encoded data removed]",
      "text/plain": [
       "<Figure size 432x288 with 1 Axes>"
      ]
     },
     "metadata": {},
     "output_type": "display_data"
    }
   ],
   "source": [
    "data_total['tariff'].value_counts().plot(kind='pie', autopct='%.1f')"
   ]
  },
  {
   "cell_type": "markdown",
   "metadata": {},
   "source": [
    "Видим, что большинство клиентов в выборке используют тарифный план \"Смарт\"."
   ]
  },
  {
   "cell_type": "code",
   "execution_count": 51,
   "metadata": {},
   "outputs": [
    {
     "data": {
      "text/html": [
       "<div>\n",
       "<style scoped>\n",
       "    .dataframe tbody tr th:only-of-type {\n",
       "        vertical-align: middle;\n",
       "    }\n",
       "\n",
       "    .dataframe tbody tr th {\n",
       "        vertical-align: top;\n",
       "    }\n",
       "\n",
       "    .dataframe thead th {\n",
       "        text-align: right;\n",
       "    }\n",
       "</style>\n",
       "<table border=\"1\" class=\"dataframe\">\n",
       "  <thead>\n",
       "    <tr style=\"text-align: right;\">\n",
       "      <th></th>\n",
       "      <th>tariff_excess</th>\n",
       "      <th>total_cost</th>\n",
       "    </tr>\n",
       "  </thead>\n",
       "  <tbody>\n",
       "    <tr>\n",
       "      <th>count</th>\n",
       "      <td>2230.000000</td>\n",
       "      <td>2230.000000</td>\n",
       "    </tr>\n",
       "    <tr>\n",
       "      <th>mean</th>\n",
       "      <td>739.641704</td>\n",
       "      <td>1289.641704</td>\n",
       "    </tr>\n",
       "    <tr>\n",
       "      <th>std</th>\n",
       "      <td>818.370799</td>\n",
       "      <td>818.370799</td>\n",
       "    </tr>\n",
       "    <tr>\n",
       "      <th>min</th>\n",
       "      <td>0.000000</td>\n",
       "      <td>550.000000</td>\n",
       "    </tr>\n",
       "    <tr>\n",
       "      <th>25%</th>\n",
       "      <td>0.000000</td>\n",
       "      <td>550.000000</td>\n",
       "    </tr>\n",
       "    <tr>\n",
       "      <th>50%</th>\n",
       "      <td>471.000000</td>\n",
       "      <td>1021.000000</td>\n",
       "    </tr>\n",
       "    <tr>\n",
       "      <th>75%</th>\n",
       "      <td>1200.000000</td>\n",
       "      <td>1750.000000</td>\n",
       "    </tr>\n",
       "    <tr>\n",
       "      <th>max</th>\n",
       "      <td>6220.000000</td>\n",
       "      <td>6770.000000</td>\n",
       "    </tr>\n",
       "  </tbody>\n",
       "</table>\n",
       "</div>"
      ],
      "text/plain": [
       "       tariff_excess   total_cost\n",
       "count    2230.000000  2230.000000\n",
       "mean      739.641704  1289.641704\n",
       "std       818.370799   818.370799\n",
       "min         0.000000   550.000000\n",
       "25%         0.000000   550.000000\n",
       "50%       471.000000  1021.000000\n",
       "75%      1200.000000  1750.000000\n",
       "max      6220.000000  6770.000000"
      ]
     },
     "execution_count": 51,
     "metadata": {},
     "output_type": "execute_result"
    }
   ],
   "source": [
    "data_total[data_total['tariff'] == 'smart'][['tariff_excess', 'total_cost']].describe()"
   ]
  },
  {
   "cell_type": "markdown",
   "metadata": {},
   "source": [
    "В среднем клиенты превышают тарифный план \"Смарт\" на 740 руб. Есть такие клиенты, которые укладываются в тариф, а есть те, кто платят сверху более 6000 руб. Средняя выручка по тарифу \"Смарт\" составляет 1290 руб."
   ]
  },
  {
   "cell_type": "code",
   "execution_count": 52,
   "metadata": {},
   "outputs": [
    {
     "data": {
      "text/html": [
       "<div>\n",
       "<style scoped>\n",
       "    .dataframe tbody tr th:only-of-type {\n",
       "        vertical-align: middle;\n",
       "    }\n",
       "\n",
       "    .dataframe tbody tr th {\n",
       "        vertical-align: top;\n",
       "    }\n",
       "\n",
       "    .dataframe thead th {\n",
       "        text-align: right;\n",
       "    }\n",
       "</style>\n",
       "<table border=\"1\" class=\"dataframe\">\n",
       "  <thead>\n",
       "    <tr style=\"text-align: right;\">\n",
       "      <th></th>\n",
       "      <th>tariff_excess</th>\n",
       "      <th>total_cost</th>\n",
       "    </tr>\n",
       "  </thead>\n",
       "  <tbody>\n",
       "    <tr>\n",
       "      <th>count</th>\n",
       "      <td>986.000000</td>\n",
       "      <td>986.000000</td>\n",
       "    </tr>\n",
       "    <tr>\n",
       "      <th>mean</th>\n",
       "      <td>120.030426</td>\n",
       "      <td>2070.030426</td>\n",
       "    </tr>\n",
       "    <tr>\n",
       "      <th>std</th>\n",
       "      <td>376.015578</td>\n",
       "      <td>376.015578</td>\n",
       "    </tr>\n",
       "    <tr>\n",
       "      <th>min</th>\n",
       "      <td>0.000000</td>\n",
       "      <td>1950.000000</td>\n",
       "    </tr>\n",
       "    <tr>\n",
       "      <th>25%</th>\n",
       "      <td>0.000000</td>\n",
       "      <td>1950.000000</td>\n",
       "    </tr>\n",
       "    <tr>\n",
       "      <th>50%</th>\n",
       "      <td>0.000000</td>\n",
       "      <td>1950.000000</td>\n",
       "    </tr>\n",
       "    <tr>\n",
       "      <th>75%</th>\n",
       "      <td>0.000000</td>\n",
       "      <td>1950.000000</td>\n",
       "    </tr>\n",
       "    <tr>\n",
       "      <th>max</th>\n",
       "      <td>2850.000000</td>\n",
       "      <td>4800.000000</td>\n",
       "    </tr>\n",
       "  </tbody>\n",
       "</table>\n",
       "</div>"
      ],
      "text/plain": [
       "       tariff_excess   total_cost\n",
       "count     986.000000   986.000000\n",
       "mean      120.030426  2070.030426\n",
       "std       376.015578   376.015578\n",
       "min         0.000000  1950.000000\n",
       "25%         0.000000  1950.000000\n",
       "50%         0.000000  1950.000000\n",
       "75%         0.000000  1950.000000\n",
       "max      2850.000000  4800.000000"
      ]
     },
     "execution_count": 52,
     "metadata": {},
     "output_type": "execute_result"
    }
   ],
   "source": [
    "data_total[data_total['tariff'] == 'ultra'][['tariff_excess', 'total_cost']].describe()"
   ]
  },
  {
   "cell_type": "markdown",
   "metadata": {},
   "source": [
    "Для тарифного плана \"Ультра\" среднее превышение уже намного мемньше и составляет около 120 руб. Максимальное превышение составило 2850 руб. Средняя выручка по тарифу \"Ультра\" составляет 2070 руб."
   ]
  },
  {
   "cell_type": "code",
   "execution_count": 53,
   "metadata": {},
   "outputs": [
    {
     "data": {
      "text/plain": [
       "<AxesSubplot:>"
      ]
     },
     "execution_count": 53,
     "metadata": {},
     "output_type": "execute_result"
    },
    {
     "data": {
      "image/png": "[encoded data removed]",
      "text/plain": [
       "<Figure size 432x288 with 1 Axes>"
      ]
     },
     "metadata": {
      "needs_background": "light"
     },
     "output_type": "display_data"
    }
   ],
   "source": [
    "data_total[data_total['tariff'] == 'smart']['total_cost'].hist(bins=50)"
   ]
  },
  {
   "cell_type": "markdown",
   "metadata": {},
   "source": [
    "Видим, что около 700 клиентов из 2229 укладываются в тарифный план \"Смарт\" и платят фиксированную сумму 550 руб. Остальные клиенты превышают тарифный план, но чем больше сумма, тем меньше клиентов. После отметки в 3000 руб. встречается совсем мало клиентов."
   ]
  },
  {
   "cell_type": "code",
   "execution_count": 54,
   "metadata": {},
   "outputs": [
    {
     "data": {
      "text/plain": [
       "<AxesSubplot:>"
      ]
     },
     "execution_count": 54,
     "metadata": {},
     "output_type": "execute_result"
    },
    {
     "data": {
      "image/png": "[encoded data removed]",
      "text/plain": [
       "<Figure size 432x288 with 1 Axes>"
      ]
     },
     "metadata": {
      "needs_background": "light"
     },
     "output_type": "display_data"
    }
   ],
   "source": [
    "data_total[data_total['tariff'] == 'ultra']['total_cost'].hist(bins=50)"
   ]
  },
  {
   "cell_type": "markdown",
   "metadata": {},
   "source": [
    "Здесь уже видим, что большинство клиентов (около 850 клиентов из 985) укладываются в тарифный план \"Ультра\". Есть клиенты, которые превышают тарифный план, но их немного, всего несколько десятков клиентов платят от 2000 руб. до 4000 руб. за тариф."
   ]
  },
  {
   "cell_type": "code",
   "execution_count": 55,
   "metadata": {},
   "outputs": [
    {
     "data": {
      "text/plain": [
       "tariff\n",
       "smart    AxesSubplot(0.125,0.125;0.775x0.755)\n",
       "ultra    AxesSubplot(0.125,0.125;0.775x0.755)\n",
       "Name: total_cost, dtype: object"
      ]
     },
     "execution_count": 55,
     "metadata": {},
     "output_type": "execute_result"
    },
    {
     "data": {
      "image/png": "[encoded data removed]",
      "text/plain": [
       "<Figure size 864x432 with 1 Axes>"
      ]
     },
     "metadata": {
      "needs_background": "light"
     },
     "output_type": "display_data"
    }
   ],
   "source": [
    "plt.xlim(0, 4000)\n",
    "data_total.groupby('tariff')['total_cost'].plot(kind='hist', bins=50, figsize=(12, 6), legend=True, alpha=0.7)"
   ]
  },
  {
   "cell_type": "markdown",
   "metadata": {},
   "source": [
    "### Расчеты и построение гистрограмм для каждого тарифного плана"
   ]
  },
  {
   "cell_type": "markdown",
   "metadata": {},
   "source": [
    "#### Минуты разговора"
   ]
  },
  {
   "cell_type": "code",
   "execution_count": 56,
   "metadata": {},
   "outputs": [
    {
     "data": {
      "text/html": [
       "<div>\n",
       "<style scoped>\n",
       "    .dataframe tbody tr th:only-of-type {\n",
       "        vertical-align: middle;\n",
       "    }\n",
       "\n",
       "    .dataframe tbody tr th {\n",
       "        vertical-align: top;\n",
       "    }\n",
       "\n",
       "    .dataframe thead tr th {\n",
       "        text-align: left;\n",
       "    }\n",
       "\n",
       "    .dataframe thead tr:last-of-type th {\n",
       "        text-align: right;\n",
       "    }\n",
       "</style>\n",
       "<table border=\"1\" class=\"dataframe\">\n",
       "  <thead>\n",
       "    <tr>\n",
       "      <th></th>\n",
       "      <th colspan=\"3\" halign=\"left\">total_duration</th>\n",
       "    </tr>\n",
       "    <tr>\n",
       "      <th></th>\n",
       "      <th>mean</th>\n",
       "      <th>var</th>\n",
       "      <th>std</th>\n",
       "    </tr>\n",
       "    <tr>\n",
       "      <th>tariff</th>\n",
       "      <th></th>\n",
       "      <th></th>\n",
       "      <th></th>\n",
       "    </tr>\n",
       "  </thead>\n",
       "  <tbody>\n",
       "    <tr>\n",
       "      <th>smart</th>\n",
       "      <td>417.747534</td>\n",
       "      <td>36281.393836</td>\n",
       "      <td>190.476754</td>\n",
       "    </tr>\n",
       "    <tr>\n",
       "      <th>ultra</th>\n",
       "      <td>526.089249</td>\n",
       "      <td>101052.493549</td>\n",
       "      <td>317.887549</td>\n",
       "    </tr>\n",
       "  </tbody>\n",
       "</table>\n",
       "</div>"
      ],
      "text/plain": [
       "       total_duration                           \n",
       "                 mean            var         std\n",
       "tariff                                          \n",
       "smart      417.747534   36281.393836  190.476754\n",
       "ultra      526.089249  101052.493549  317.887549"
      ]
     },
     "execution_count": 56,
     "metadata": {},
     "output_type": "execute_result"
    }
   ],
   "source": [
    "# посчитаем среднее, дисперсию и стандартное отклонение\n",
    "data_total.groupby('tariff').agg({'total_duration': ['mean', 'var', 'std']})"
   ]
  },
  {
   "cell_type": "markdown",
   "metadata": {},
   "source": [
    "В среднем, пользователи тарифа \"Смарт\" выговаривают около 418 минут, что укладывается в тарифный план, а пользователи тарифа \"Ультра\" - около 527 минут. Для тарифа \"Ультра\" значения продолжительности звонков разбросаны сильнее, чем для тарифа \"Смарт\"."
   ]
  },
  {
   "cell_type": "code",
   "execution_count": 57,
   "metadata": {
    "scrolled": true
   },
   "outputs": [
    {
     "data": {
      "text/plain": [
       "<AxesSubplot:>"
      ]
     },
     "execution_count": 57,
     "metadata": {},
     "output_type": "execute_result"
    },
    {
     "data": {
      "image/png": "[encoded data removed]",
      "text/plain": [
       "<Figure size 432x288 with 1 Axes>"
      ]
     },
     "metadata": {
      "needs_background": "light"
     },
     "output_type": "display_data"
    }
   ],
   "source": [
    "data_total[data_total['tariff'] == 'smart']['total_duration'].hist(bins=30)"
   ]
  },
  {
   "cell_type": "code",
   "execution_count": 58,
   "metadata": {},
   "outputs": [
    {
     "data": {
      "text/plain": [
       "<AxesSubplot:>"
      ]
     },
     "execution_count": 58,
     "metadata": {},
     "output_type": "execute_result"
    },
    {
     "data": {
      "image/png": "[encoded data removed]",
      "text/plain": [
       "<Figure size 432x288 with 1 Axes>"
      ]
     },
     "metadata": {
      "needs_background": "light"
     },
     "output_type": "display_data"
    }
   ],
   "source": [
    "data_total[data_total['tariff'] == 'ultra']['total_duration'].hist(bins=30)"
   ]
  },
  {
   "cell_type": "markdown",
   "metadata": {},
   "source": [
    "Видим распределение, близкое к нормальному. Второй график со смещением вправо. На обоих тарифах пики приходятся на значение около 500 минут."
   ]
  },
  {
   "cell_type": "markdown",
   "metadata": {},
   "source": [
    "#### Сообщения"
   ]
  },
  {
   "cell_type": "code",
   "execution_count": 59,
   "metadata": {},
   "outputs": [
    {
     "data": {
      "text/html": [
       "<div>\n",
       "<style scoped>\n",
       "    .dataframe tbody tr th:only-of-type {\n",
       "        vertical-align: middle;\n",
       "    }\n",
       "\n",
       "    .dataframe tbody tr th {\n",
       "        vertical-align: top;\n",
       "    }\n",
       "\n",
       "    .dataframe thead tr th {\n",
       "        text-align: left;\n",
       "    }\n",
       "\n",
       "    .dataframe thead tr:last-of-type th {\n",
       "        text-align: right;\n",
       "    }\n",
       "</style>\n",
       "<table border=\"1\" class=\"dataframe\">\n",
       "  <thead>\n",
       "    <tr>\n",
       "      <th></th>\n",
       "      <th colspan=\"3\" halign=\"left\">messages_per_month</th>\n",
       "    </tr>\n",
       "    <tr>\n",
       "      <th></th>\n",
       "      <th>mean</th>\n",
       "      <th>var</th>\n",
       "      <th>std</th>\n",
       "    </tr>\n",
       "    <tr>\n",
       "      <th>tariff</th>\n",
       "      <th></th>\n",
       "      <th></th>\n",
       "      <th></th>\n",
       "    </tr>\n",
       "  </thead>\n",
       "  <tbody>\n",
       "    <tr>\n",
       "      <th>smart</th>\n",
       "      <td>33.369058</td>\n",
       "      <td>796.955256</td>\n",
       "      <td>28.230396</td>\n",
       "    </tr>\n",
       "    <tr>\n",
       "      <th>ultra</th>\n",
       "      <td>49.313387</td>\n",
       "      <td>2285.417425</td>\n",
       "      <td>47.806040</td>\n",
       "    </tr>\n",
       "  </tbody>\n",
       "</table>\n",
       "</div>"
      ],
      "text/plain": [
       "       messages_per_month                        \n",
       "                     mean          var        std\n",
       "tariff                                           \n",
       "smart           33.369058   796.955256  28.230396\n",
       "ultra           49.313387  2285.417425  47.806040"
      ]
     },
     "execution_count": 59,
     "metadata": {},
     "output_type": "execute_result"
    }
   ],
   "source": [
    "# посчитаем среднее, дисперсию и стандартное отклонение\n",
    "data_total.groupby('tariff').agg({'messages_per_month': ['mean', 'var', 'std']})"
   ]
  },
  {
   "cell_type": "markdown",
   "metadata": {},
   "source": [
    "В среднем, клиенты с тарифом \"Смарт\" расходуют около 33 сообщений и укладываются в абоненткую плату, а с тарифом \"Ультра\" - около 49 сообщений. Мера разброса значений для тарифа \"Ультра\" выше."
   ]
  },
  {
   "cell_type": "code",
   "execution_count": 60,
   "metadata": {},
   "outputs": [
    {
     "data": {
      "text/plain": [
       "<AxesSubplot:>"
      ]
     },
     "execution_count": 60,
     "metadata": {},
     "output_type": "execute_result"
    },
    {
     "data": {
      "image/png": "[encoded data removed]",
      "text/plain": [
       "<Figure size 432x288 with 1 Axes>"
      ]
     },
     "metadata": {
      "needs_background": "light"
     },
     "output_type": "display_data"
    }
   ],
   "source": [
    "data_total[data_total['tariff'] == 'smart']['messages_per_month'].hist(bins=30)"
   ]
  },
  {
   "cell_type": "code",
   "execution_count": 61,
   "metadata": {},
   "outputs": [
    {
     "data": {
      "text/plain": [
       "<AxesSubplot:>"
      ]
     },
     "execution_count": 61,
     "metadata": {},
     "output_type": "execute_result"
    },
    {
     "data": {
      "image/png": "[encoded data removed]",
      "text/plain": [
       "<Figure size 432x288 with 1 Axes>"
      ]
     },
     "metadata": {
      "needs_background": "light"
     },
     "output_type": "display_data"
    }
   ],
   "source": [
    "data_total[data_total['tariff'] == 'ultra']['messages_per_month'].hist(bins=30)"
   ]
  },
  {
   "cell_type": "markdown",
   "metadata": {},
   "source": [
    "Видим распределение Пуассона. Пиковые значения приходятся на нули. Доказывает предположение, что смс теряют популярность. И все же несколько сотен клиентов тарифа \"Смарт\" умудряются превысить лимит в 50 сообщений."
   ]
  },
  {
   "cell_type": "markdown",
   "metadata": {},
   "source": [
    "#### Интернет"
   ]
  },
  {
   "cell_type": "code",
   "execution_count": 62,
   "metadata": {},
   "outputs": [
    {
     "data": {
      "text/html": [
       "<div>\n",
       "<style scoped>\n",
       "    .dataframe tbody tr th:only-of-type {\n",
       "        vertical-align: middle;\n",
       "    }\n",
       "\n",
       "    .dataframe tbody tr th {\n",
       "        vertical-align: top;\n",
       "    }\n",
       "\n",
       "    .dataframe thead tr th {\n",
       "        text-align: left;\n",
       "    }\n",
       "\n",
       "    .dataframe thead tr:last-of-type th {\n",
       "        text-align: right;\n",
       "    }\n",
       "</style>\n",
       "<table border=\"1\" class=\"dataframe\">\n",
       "  <thead>\n",
       "    <tr>\n",
       "      <th></th>\n",
       "      <th colspan=\"3\" halign=\"left\">mb_per_month</th>\n",
       "    </tr>\n",
       "    <tr>\n",
       "      <th></th>\n",
       "      <th>mean</th>\n",
       "      <th>var</th>\n",
       "      <th>std</th>\n",
       "    </tr>\n",
       "    <tr>\n",
       "      <th>tariff</th>\n",
       "      <th></th>\n",
       "      <th></th>\n",
       "      <th></th>\n",
       "    </tr>\n",
       "  </thead>\n",
       "  <tbody>\n",
       "    <tr>\n",
       "      <th>smart</th>\n",
       "      <td>16201.118655</td>\n",
       "      <td>3.456484e+07</td>\n",
       "      <td>5879.187315</td>\n",
       "    </tr>\n",
       "    <tr>\n",
       "      <th>ultra</th>\n",
       "      <td>19449.059970</td>\n",
       "      <td>1.020321e+08</td>\n",
       "      <td>10101.095459</td>\n",
       "    </tr>\n",
       "  </tbody>\n",
       "</table>\n",
       "</div>"
      ],
      "text/plain": [
       "        mb_per_month                            \n",
       "                mean           var           std\n",
       "tariff                                          \n",
       "smart   16201.118655  3.456484e+07   5879.187315\n",
       "ultra   19449.059970  1.020321e+08  10101.095459"
      ]
     },
     "execution_count": 62,
     "metadata": {},
     "output_type": "execute_result"
    }
   ],
   "source": [
    "# посчитаем среднее, дисперсию и стандартное отклонение\n",
    "data_total.groupby('tariff').agg({'mb_per_month': ['mean', 'var', 'std']})"
   ]
  },
  {
   "cell_type": "markdown",
   "metadata": {},
   "source": [
    "У пользователей тарифа \"Смарт\" уходит в среднем 15,8 гб. в месяц, что превышает тарифный план. Пользователи тарифа \"Ультра\" расходуют в среднем 19 гб. в месяц. Разброс значений у \"Ультры\" также выше."
   ]
  },
  {
   "cell_type": "code",
   "execution_count": 63,
   "metadata": {},
   "outputs": [
    {
     "data": {
      "text/plain": [
       "<AxesSubplot:>"
      ]
     },
     "execution_count": 63,
     "metadata": {},
     "output_type": "execute_result"
    },
    {
     "data": {
      "image/png": "[encoded data removed]",
      "text/plain": [
       "<Figure size 432x288 with 1 Axes>"
      ]
     },
     "metadata": {
      "needs_background": "light"
     },
     "output_type": "display_data"
    }
   ],
   "source": [
    "data_total[data_total['tariff'] == 'smart']['mb_per_month'].hist(bins=30)"
   ]
  },
  {
   "cell_type": "code",
   "execution_count": 64,
   "metadata": {},
   "outputs": [
    {
     "data": {
      "text/plain": [
       "<AxesSubplot:>"
      ]
     },
     "execution_count": 64,
     "metadata": {},
     "output_type": "execute_result"
    },
    {
     "data": {
      "image/png": "[encoded data removed]",
      "text/plain": [
       "<Figure size 432x288 with 1 Axes>"
      ]
     },
     "metadata": {
      "needs_background": "light"
     },
     "output_type": "display_data"
    }
   ],
   "source": [
    "data_total[data_total['tariff'] == 'ultra']['mb_per_month'].hist(bins=30)"
   ]
  },
  {
   "cell_type": "markdown",
   "metadata": {},
   "source": [
    "Видим нормальные распределения. На первом графике пик приходится на 15-16 тыс. мб. На втором графике несколько пиков, самый высокий приходится на 20 тыс. мб. Второй график также смещен вправо."
   ]
  },
  {
   "cell_type": "markdown",
   "metadata": {},
   "source": [
    "## Проверка гипотез"
   ]
  },
  {
   "cell_type": "markdown",
   "metadata": {},
   "source": [
    "### Cредняя выручка пользователей тарифов «Ультра» и «Смарт» различаются"
   ]
  },
  {
   "cell_type": "code",
   "execution_count": 65,
   "metadata": {},
   "outputs": [
    {
     "data": {
      "text/plain": [
       "986"
      ]
     },
     "execution_count": 65,
     "metadata": {},
     "output_type": "execute_result"
    }
   ],
   "source": [
    "ultra = data_total[data_total['tariff'] == 'ultra']\n",
    "ultra = ultra['total_cost']\n",
    "len(ultra)"
   ]
  },
  {
   "cell_type": "code",
   "execution_count": 66,
   "metadata": {},
   "outputs": [
    {
     "data": {
      "text/plain": [
       "2230"
      ]
     },
     "execution_count": 66,
     "metadata": {},
     "output_type": "execute_result"
    }
   ],
   "source": [
    "smart = data_total[data_total['tariff'] == 'smart']\n",
    "smart = smart['total_cost']\n",
    "len(smart)"
   ]
  },
  {
   "cell_type": "markdown",
   "metadata": {},
   "source": [
    "У нас имеются две достаточно большие выборки, а значит выборочные средние распределены нормально. Достаточно большими считаются выборки более 30 элементов.  Будем проверять гипотезу о равенстве средних двух генеральных совокупностей, при условии, что выборки не зависят друг от друга. Т.к. выборки разного размера, предроложим, что дисперсии генеральных совокупностей не равны. Для проверки будем применять t-тест.\n",
    "Нулевая гипотеза всегда содержит знак равенства. Сформулируем нулевую и альтернативную гипотезу:\n",
    "* H0: Средняя выручка пользавателей тарифа \"Ультра\" равна средней выручке пользователей тарифа \"Смарт\";\n",
    "* H1: Средняя выручка пользавателей тарифа \"Ультра\" не равна средней выручке пользователей тарифа \"Смарт\"."
   ]
  },
  {
   "cell_type": "code",
   "execution_count": 67,
   "metadata": {},
   "outputs": [],
   "source": [
    "# зададим критический уровень значимости\n",
    "alpha = 0.05"
   ]
  },
  {
   "cell_type": "code",
   "execution_count": 68,
   "metadata": {},
   "outputs": [],
   "source": [
    "results = st.ttest_ind(ultra, smart, equal_var = False)"
   ]
  },
  {
   "cell_type": "code",
   "execution_count": 69,
   "metadata": {},
   "outputs": [
    {
     "name": "stdout",
     "output_type": "stream",
     "text": [
      "p-значение: 1.927011394420941e-250\n",
      "Отвергаем нулевую гипотезу\n"
     ]
    }
   ],
   "source": [
    "print('p-значение:', results.pvalue)\n",
    "\n",
    "if (results.pvalue < alpha):\n",
    "    print(\"Отвергаем нулевую гипотезу\")\n",
    "else:\n",
    "    print(\"Не получилось отвергнуть нулевую гипотезу\")"
   ]
  },
  {
   "cell_type": "markdown",
   "metadata": {},
   "source": [
    "Проверка показала, что выручка по двум тарифам различается."
   ]
  },
  {
   "cell_type": "markdown",
   "metadata": {},
   "source": [
    "### Cредняя выручка пользователей из Москвы отличается от выручки пользователей из других регионов"
   ]
  },
  {
   "cell_type": "code",
   "execution_count": 70,
   "metadata": {},
   "outputs": [
    {
     "data": {
      "text/plain": [
       "Москва             611\n",
       "Санкт-Петербург    270\n",
       "Новосибирск         98\n",
       "Уфа                 95\n",
       "Краснодар           86\n",
       "                  ... \n",
       "Нижневартовск        6\n",
       "Сургут               6\n",
       "Химки                5\n",
       "Кемерово             5\n",
       "Иваново              2\n",
       "Name: city, Length: 76, dtype: int64"
      ]
     },
     "execution_count": 70,
     "metadata": {},
     "output_type": "execute_result"
    }
   ],
   "source": [
    "data_total['city'].value_counts()"
   ]
  },
  {
   "cell_type": "code",
   "execution_count": 71,
   "metadata": {},
   "outputs": [
    {
     "data": {
      "text/plain": [
       "611"
      ]
     },
     "execution_count": 71,
     "metadata": {},
     "output_type": "execute_result"
    }
   ],
   "source": [
    "moscow = data_total[data_total['city'] == 'Москва']\n",
    "moscow = moscow['total_cost']\n",
    "len(moscow)"
   ]
  },
  {
   "cell_type": "code",
   "execution_count": 72,
   "metadata": {},
   "outputs": [
    {
     "data": {
      "text/plain": [
       "2605"
      ]
     },
     "execution_count": 72,
     "metadata": {},
     "output_type": "execute_result"
    }
   ],
   "source": [
    "other_cities = data_total[data_total['city'] != 'Москва']\n",
    "other_cities = other_cities['total_cost']\n",
    "len(other_cities)"
   ]
  },
  {
   "cell_type": "markdown",
   "metadata": {},
   "source": [
    "Будем также проверять гипотезу о равенстве средних. Сформулируем нулевую и альтернативную гипотезы:\n",
    "* H0: Средняя выручка пользователей из Москвы равна средней выручке пользователей из других регионов;\n",
    "* H1: Средняя выручка пользователей из Москвы не равна средней выручке пользователей из других регионов."
   ]
  },
  {
   "cell_type": "code",
   "execution_count": 73,
   "metadata": {},
   "outputs": [],
   "source": [
    "results_2 = st.ttest_ind(moscow, other_cities, equal_var = False)"
   ]
  },
  {
   "cell_type": "code",
   "execution_count": 74,
   "metadata": {},
   "outputs": [
    {
     "name": "stdout",
     "output_type": "stream",
     "text": [
      "p-значение: 0.5216952110000278\n",
      "Не получилось отвергнуть нулевую гипотезу\n"
     ]
    }
   ],
   "source": [
    "# оставим критический уровень значимости прежним\n",
    "print('p-значение:', results_2.pvalue)\n",
    "\n",
    "if (results_2.pvalue < alpha):\n",
    "    print(\"Отвергаем нулевую гипотезу\")\n",
    "else:\n",
    "    print(\"Не получилось отвергнуть нулевую гипотезу\")"
   ]
  },
  {
   "cell_type": "markdown",
   "metadata": {},
   "source": [
    "Значимых отличий выручки между Москвой и другими регионами нет."
   ]
  },
  {
   "cell_type": "markdown",
   "metadata": {},
   "source": [
    "## Общий вывод"
   ]
  },
  {
   "cell_type": "markdown",
   "metadata": {},
   "source": [
    "Было проведено исследование по определению перспективного тарифного плана на основании выборки в 500 пользователей. В ходе исследования было выявлено, что большинство клиентов, а именно 69,4 % используют тарифный план \"Смарт\", а остальные 30,6 % являются пользователями тарифа \"Ультра\". Средняя месячная выручка с тарифа \"Смарт\" составляет 1290 руб., а с тарифа \"Ультра\" - 2070 руб.\n",
    "\n",
    "Средний пользователь тарифа \"Смарт\" тратит около 418 минут разговора, 33 сообщений и 15,8 гб. интернета в месяц. Исходя из этого, средний пользователь тарифа \"Смарт\" не вписывается в тарифный план по количеству включенных гигабайт. В среднем пользователи этого тарифа доплачивают около 740 руб. сверху.\n",
    "\n",
    "Средний пользователь тарифа \"Ультра\" расходует около 527 минут, 49 сообщений и 19 гб. в месяц. Из этого следует, что средний пользователь вписывается в тарифный план, но у него остается большой запас неизрасходованных минут, сообщений и гигабайт.\n",
    "\n",
    "Для всей генеральной совокупности можно сделать вывод, что средние выручки пользователей тарифов \"Смарт\" и \"Ультра\" существенно отличаются. Что касается территориального расположения, то средняя выручка пользователей из Москвы не имеет значимых отличий от средней выручки пользователей из регионов.\n",
    "\n",
    "Исходя из результатов, полученных при анализе, для среднего клиента тариф \"Смарт\" является более оптимальным, нежели тариф \"Ультра\". Для средних пользователей обоих тарифов, количество минут, смс и гигабайт не сильно отличаются, тогда как абонентская плата различаеся в 3.5 раза. Рекомендуется доработать тариф \"Смарт\", а именно увеличить количество включенных гигабайт, но при этом повысить стоимость тарифа в разумных пределах. Или, как вариант, создать новый тариф, который будет удовлетворять потребность пользователей в интернете, но не будет таким дорогим, как \"Ультра\"."
   ]
  }
 ],
 "metadata": {
  "ExecuteTimeLog": [
   {
    "duration": 139,
    "start_time": "2022-03-08T18:10:32.482Z"
   },
   {
    "duration": 306,
    "start_time": "2022-03-08T18:10:49.791Z"
   },
   {
    "duration": 579,
    "start_time": "2022-03-08T18:10:58.862Z"
   },
   {
    "duration": 148,
    "start_time": "2022-03-08T18:10:59.572Z"
   },
   {
    "duration": 141,
    "start_time": "2022-03-08T18:11:13.233Z"
   },
   {
    "duration": 138,
    "start_time": "2022-03-08T18:17:20.079Z"
   },
   {
    "duration": 84,
    "start_time": "2022-03-08T18:18:05.866Z"
   },
   {
    "duration": 16,
    "start_time": "2022-03-08T18:19:18.689Z"
   },
   {
    "duration": 26,
    "start_time": "2022-03-08T18:21:31.060Z"
   },
   {
    "duration": 1462,
    "start_time": "2022-03-09T09:53:04.082Z"
   },
   {
    "duration": 767,
    "start_time": "2022-03-09T09:53:08.552Z"
   },
   {
    "duration": 421,
    "start_time": "2022-03-09T09:53:09.428Z"
   },
   {
    "duration": 13,
    "start_time": "2022-03-09T10:00:26.878Z"
   },
   {
    "duration": 18,
    "start_time": "2022-03-09T10:00:36.340Z"
   },
   {
    "duration": 27,
    "start_time": "2022-03-09T10:28:00.748Z"
   },
   {
    "duration": 3882,
    "start_time": "2022-03-09T10:32:54.091Z"
   },
   {
    "duration": 289,
    "start_time": "2022-03-09T10:33:33.896Z"
   },
   {
    "duration": 299,
    "start_time": "2022-03-09T10:34:20.940Z"
   },
   {
    "duration": 323,
    "start_time": "2022-03-09T10:46:01.608Z"
   },
   {
    "duration": 2,
    "start_time": "2022-03-09T10:46:45.846Z"
   },
   {
    "duration": 400,
    "start_time": "2022-03-09T10:46:47.261Z"
   },
   {
    "duration": 7,
    "start_time": "2022-03-09T10:46:48.785Z"
   },
   {
    "duration": 18,
    "start_time": "2022-03-09T10:46:49.853Z"
   },
   {
    "duration": 25,
    "start_time": "2022-03-09T10:46:53.917Z"
   },
   {
    "duration": 289,
    "start_time": "2022-03-09T10:46:54.940Z"
   },
   {
    "duration": 302,
    "start_time": "2022-03-09T10:47:04.203Z"
   },
   {
    "duration": 316,
    "start_time": "2022-03-09T10:50:42.005Z"
   },
   {
    "duration": 4,
    "start_time": "2022-03-09T10:52:32.829Z"
   },
   {
    "duration": 3,
    "start_time": "2022-03-09T10:52:59.036Z"
   },
   {
    "duration": 394,
    "start_time": "2022-03-09T10:53:04.853Z"
   },
   {
    "duration": 7,
    "start_time": "2022-03-09T10:53:07.005Z"
   },
   {
    "duration": 18,
    "start_time": "2022-03-09T10:53:07.994Z"
   },
   {
    "duration": 23,
    "start_time": "2022-03-09T10:53:12.279Z"
   },
   {
    "duration": 56,
    "start_time": "2022-03-09T10:53:13.197Z"
   },
   {
    "duration": 44,
    "start_time": "2022-03-09T10:55:14.555Z"
   },
   {
    "duration": 7,
    "start_time": "2022-03-09T10:55:26.860Z"
   },
   {
    "duration": 18,
    "start_time": "2022-03-09T10:56:04.174Z"
   },
   {
    "duration": 18,
    "start_time": "2022-03-09T10:56:35.092Z"
   },
   {
    "duration": 306,
    "start_time": "2022-03-09T11:05:47.769Z"
   },
   {
    "duration": 2,
    "start_time": "2022-03-09T11:06:14.720Z"
   },
   {
    "duration": 368,
    "start_time": "2022-03-09T11:06:16.171Z"
   },
   {
    "duration": 8,
    "start_time": "2022-03-09T11:06:19.252Z"
   },
   {
    "duration": 18,
    "start_time": "2022-03-09T11:06:19.587Z"
   },
   {
    "duration": 24,
    "start_time": "2022-03-09T11:06:25.663Z"
   },
   {
    "duration": 291,
    "start_time": "2022-03-09T11:06:27.259Z"
   },
   {
    "duration": 60,
    "start_time": "2022-03-09T11:06:32.242Z"
   },
   {
    "duration": 20,
    "start_time": "2022-03-09T11:06:35.726Z"
   },
   {
    "duration": 4,
    "start_time": "2022-03-09T11:06:46.883Z"
   },
   {
    "duration": 2,
    "start_time": "2022-03-09T11:07:19.280Z"
   },
   {
    "duration": 362,
    "start_time": "2022-03-09T11:07:19.284Z"
   },
   {
    "duration": 5,
    "start_time": "2022-03-09T11:07:19.648Z"
   },
   {
    "duration": 20,
    "start_time": "2022-03-09T11:07:19.655Z"
   },
   {
    "duration": 22,
    "start_time": "2022-03-09T11:07:19.676Z"
   },
   {
    "duration": 56,
    "start_time": "2022-03-09T11:07:19.700Z"
   },
   {
    "duration": 20,
    "start_time": "2022-03-09T11:07:19.758Z"
   },
   {
    "duration": 8,
    "start_time": "2022-03-09T11:11:31.017Z"
   },
   {
    "duration": 16,
    "start_time": "2022-03-09T11:11:42.339Z"
   },
   {
    "duration": 17,
    "start_time": "2022-03-09T11:59:24.656Z"
   },
   {
    "duration": 12,
    "start_time": "2022-03-09T11:59:36.425Z"
   },
   {
    "duration": 6,
    "start_time": "2022-03-09T12:01:32.118Z"
   },
   {
    "duration": 12,
    "start_time": "2022-03-09T12:01:50.704Z"
   },
   {
    "duration": 15,
    "start_time": "2022-03-09T12:05:41.022Z"
   },
   {
    "duration": 12,
    "start_time": "2022-03-09T12:05:48.914Z"
   },
   {
    "duration": 2,
    "start_time": "2022-03-09T12:06:24.169Z"
   },
   {
    "duration": 7,
    "start_time": "2022-03-09T12:06:53.905Z"
   },
   {
    "duration": 6,
    "start_time": "2022-03-09T12:07:33.753Z"
   },
   {
    "duration": 94,
    "start_time": "2022-03-09T12:09:20.364Z"
   },
   {
    "duration": 10,
    "start_time": "2022-03-09T12:12:08.396Z"
   },
   {
    "duration": 5,
    "start_time": "2022-03-09T12:12:17.843Z"
   },
   {
    "duration": 307,
    "start_time": "2022-03-09T12:22:10.565Z"
   },
   {
    "duration": 5,
    "start_time": "2022-03-09T12:22:38.771Z"
   },
   {
    "duration": 6,
    "start_time": "2022-03-09T12:23:32.776Z"
   },
   {
    "duration": 7,
    "start_time": "2022-03-09T12:23:40.808Z"
   },
   {
    "duration": 326,
    "start_time": "2022-03-09T12:48:00.490Z"
   },
   {
    "duration": 620,
    "start_time": "2022-03-09T12:48:25.977Z"
   },
   {
    "duration": 373,
    "start_time": "2022-03-09T12:48:26.599Z"
   },
   {
    "duration": 13,
    "start_time": "2022-03-09T12:48:26.974Z"
   },
   {
    "duration": 22,
    "start_time": "2022-03-09T12:48:26.988Z"
   },
   {
    "duration": 29,
    "start_time": "2022-03-09T12:48:27.012Z"
   },
   {
    "duration": 99,
    "start_time": "2022-03-09T12:48:27.043Z"
   },
   {
    "duration": 32,
    "start_time": "2022-03-09T12:48:27.144Z"
   },
   {
    "duration": 9,
    "start_time": "2022-03-09T12:48:27.178Z"
   },
   {
    "duration": 28,
    "start_time": "2022-03-09T12:48:27.190Z"
   },
   {
    "duration": 17,
    "start_time": "2022-03-09T12:48:27.220Z"
   },
   {
    "duration": 10,
    "start_time": "2022-03-09T12:48:27.239Z"
   },
   {
    "duration": 8,
    "start_time": "2022-03-09T12:48:27.251Z"
   },
   {
    "duration": 16,
    "start_time": "2022-03-09T12:48:27.261Z"
   },
   {
    "duration": 34,
    "start_time": "2022-03-09T12:48:27.278Z"
   },
   {
    "duration": 10,
    "start_time": "2022-03-09T12:48:27.313Z"
   },
   {
    "duration": 7,
    "start_time": "2022-03-09T12:48:27.325Z"
   },
   {
    "duration": 5,
    "start_time": "2022-03-09T12:48:27.334Z"
   },
   {
    "duration": 10,
    "start_time": "2022-03-09T12:48:27.340Z"
   },
   {
    "duration": 7,
    "start_time": "2022-03-09T12:48:27.351Z"
   },
   {
    "duration": 6,
    "start_time": "2022-03-09T12:48:27.360Z"
   },
   {
    "duration": 38,
    "start_time": "2022-03-09T12:48:27.368Z"
   },
   {
    "duration": 371,
    "start_time": "2022-03-09T12:48:27.408Z"
   },
   {
    "duration": 299,
    "start_time": "2022-03-09T12:49:47.450Z"
   },
   {
    "duration": 423,
    "start_time": "2022-03-09T12:50:46.776Z"
   },
   {
    "duration": 33,
    "start_time": "2022-03-09T12:51:18.571Z"
   },
   {
    "duration": 498,
    "start_time": "2022-03-09T13:03:01.350Z"
   },
   {
    "duration": 26,
    "start_time": "2022-03-09T13:03:18.609Z"
   },
   {
    "duration": 444,
    "start_time": "2022-03-09T13:03:19.854Z"
   },
   {
    "duration": 44,
    "start_time": "2022-03-09T13:04:10.327Z"
   },
   {
    "duration": 29,
    "start_time": "2022-03-09T13:04:20.560Z"
   },
   {
    "duration": 27,
    "start_time": "2022-03-09T13:05:21.591Z"
   },
   {
    "duration": 34,
    "start_time": "2022-03-09T13:07:21.162Z"
   },
   {
    "duration": 10,
    "start_time": "2022-03-09T13:12:01.678Z"
   },
   {
    "duration": 8,
    "start_time": "2022-03-09T13:12:12.434Z"
   },
   {
    "duration": 12,
    "start_time": "2022-03-09T13:12:31.956Z"
   },
   {
    "duration": 13,
    "start_time": "2022-03-09T13:59:21.661Z"
   },
   {
    "duration": 25,
    "start_time": "2022-03-09T13:59:37.105Z"
   },
   {
    "duration": 8,
    "start_time": "2022-03-09T13:59:44.919Z"
   },
   {
    "duration": 18,
    "start_time": "2022-03-09T14:01:17.647Z"
   },
   {
    "duration": 9,
    "start_time": "2022-03-09T14:08:23.411Z"
   },
   {
    "duration": 588,
    "start_time": "2022-03-09T14:08:35.079Z"
   },
   {
    "duration": 408,
    "start_time": "2022-03-09T14:08:35.669Z"
   },
   {
    "duration": 13,
    "start_time": "2022-03-09T14:08:36.079Z"
   },
   {
    "duration": 22,
    "start_time": "2022-03-09T14:08:36.093Z"
   },
   {
    "duration": 29,
    "start_time": "2022-03-09T14:08:36.117Z"
   },
   {
    "duration": 69,
    "start_time": "2022-03-09T14:08:36.148Z"
   },
   {
    "duration": 35,
    "start_time": "2022-03-09T14:08:36.219Z"
   },
   {
    "duration": 10,
    "start_time": "2022-03-09T14:08:36.256Z"
   },
   {
    "duration": 45,
    "start_time": "2022-03-09T14:08:36.268Z"
   },
   {
    "duration": 27,
    "start_time": "2022-03-09T14:08:36.316Z"
   },
   {
    "duration": 11,
    "start_time": "2022-03-09T14:08:36.344Z"
   },
   {
    "duration": 7,
    "start_time": "2022-03-09T14:08:36.356Z"
   },
   {
    "duration": 16,
    "start_time": "2022-03-09T14:08:36.364Z"
   },
   {
    "duration": 44,
    "start_time": "2022-03-09T14:08:36.381Z"
   },
   {
    "duration": 9,
    "start_time": "2022-03-09T14:08:36.426Z"
   },
   {
    "duration": 7,
    "start_time": "2022-03-09T14:08:36.436Z"
   },
   {
    "duration": 9,
    "start_time": "2022-03-09T14:08:36.444Z"
   },
   {
    "duration": 10,
    "start_time": "2022-03-09T14:08:36.455Z"
   },
   {
    "duration": 6,
    "start_time": "2022-03-09T14:08:36.467Z"
   },
   {
    "duration": 31,
    "start_time": "2022-03-09T14:08:36.475Z"
   },
   {
    "duration": 8,
    "start_time": "2022-03-09T14:08:36.508Z"
   },
   {
    "duration": 29,
    "start_time": "2022-03-09T14:08:36.519Z"
   },
   {
    "duration": 32,
    "start_time": "2022-03-09T14:08:36.549Z"
   },
   {
    "duration": 28,
    "start_time": "2022-03-09T14:08:36.582Z"
   },
   {
    "duration": 22,
    "start_time": "2022-03-09T14:08:36.611Z"
   },
   {
    "duration": 20,
    "start_time": "2022-03-09T14:08:36.634Z"
   },
   {
    "duration": 14,
    "start_time": "2022-03-09T14:09:20.866Z"
   },
   {
    "duration": 18,
    "start_time": "2022-03-09T14:09:35.386Z"
   },
   {
    "duration": 18,
    "start_time": "2022-03-09T14:12:59.643Z"
   },
   {
    "duration": 16,
    "start_time": "2022-03-09T14:18:25.023Z"
   },
   {
    "duration": 20,
    "start_time": "2022-03-09T14:18:37.793Z"
   },
   {
    "duration": 21,
    "start_time": "2022-03-09T14:30:56.802Z"
   },
   {
    "duration": 7,
    "start_time": "2022-03-09T14:45:27.770Z"
   },
   {
    "duration": 9,
    "start_time": "2022-03-09T14:45:47.619Z"
   },
   {
    "duration": 9,
    "start_time": "2022-03-09T14:46:48.960Z"
   },
   {
    "duration": 2,
    "start_time": "2022-03-09T14:47:52.791Z"
   },
   {
    "duration": 106,
    "start_time": "2022-03-14T12:24:42.090Z"
   },
   {
    "duration": 681,
    "start_time": "2022-03-14T12:51:58.224Z"
   },
   {
    "duration": 4,
    "start_time": "2022-03-14T12:53:51.019Z"
   },
   {
    "duration": 398,
    "start_time": "2022-03-14T13:11:52.958Z"
   },
   {
    "duration": 4,
    "start_time": "2022-03-14T13:12:00.762Z"
   },
   {
    "duration": 508,
    "start_time": "2022-03-14T13:12:00.770Z"
   },
   {
    "duration": 23,
    "start_time": "2022-03-14T13:12:01.281Z"
   },
   {
    "duration": 35,
    "start_time": "2022-03-14T13:12:01.307Z"
   },
   {
    "duration": 59,
    "start_time": "2022-03-14T13:12:01.344Z"
   },
   {
    "duration": 109,
    "start_time": "2022-03-14T13:12:01.406Z"
   },
   {
    "duration": 35,
    "start_time": "2022-03-14T13:12:01.518Z"
   },
   {
    "duration": 33,
    "start_time": "2022-03-14T13:12:01.557Z"
   },
   {
    "duration": 47,
    "start_time": "2022-03-14T13:12:01.593Z"
   },
   {
    "duration": 36,
    "start_time": "2022-03-14T13:12:01.642Z"
   },
   {
    "duration": 17,
    "start_time": "2022-03-14T13:12:01.680Z"
   },
   {
    "duration": 22,
    "start_time": "2022-03-14T13:12:01.700Z"
   },
   {
    "duration": 68,
    "start_time": "2022-03-14T13:12:01.724Z"
   },
   {
    "duration": 38,
    "start_time": "2022-03-14T13:12:01.796Z"
   },
   {
    "duration": 20,
    "start_time": "2022-03-14T13:12:01.837Z"
   },
   {
    "duration": 36,
    "start_time": "2022-03-14T13:12:01.859Z"
   },
   {
    "duration": 28,
    "start_time": "2022-03-14T13:12:01.898Z"
   },
   {
    "duration": 34,
    "start_time": "2022-03-14T13:12:01.929Z"
   },
   {
    "duration": 23,
    "start_time": "2022-03-14T13:12:01.967Z"
   },
   {
    "duration": 25,
    "start_time": "2022-03-14T13:12:01.992Z"
   },
   {
    "duration": 22,
    "start_time": "2022-03-14T13:12:02.019Z"
   },
   {
    "duration": 51,
    "start_time": "2022-03-14T13:12:02.044Z"
   },
   {
    "duration": 47,
    "start_time": "2022-03-14T13:12:02.097Z"
   },
   {
    "duration": 12,
    "start_time": "2022-03-14T13:12:02.146Z"
   },
   {
    "duration": 29,
    "start_time": "2022-03-14T13:12:02.183Z"
   },
   {
    "duration": 27,
    "start_time": "2022-03-14T13:12:02.215Z"
   },
   {
    "duration": 56,
    "start_time": "2022-03-14T13:12:02.244Z"
   },
   {
    "duration": 29,
    "start_time": "2022-03-14T13:12:02.303Z"
   },
   {
    "duration": 23,
    "start_time": "2022-03-14T13:12:02.334Z"
   },
   {
    "duration": 31,
    "start_time": "2022-03-14T13:12:02.360Z"
   },
   {
    "duration": 33,
    "start_time": "2022-03-14T13:12:55.885Z"
   },
   {
    "duration": 48,
    "start_time": "2022-03-14T13:13:09.551Z"
   },
   {
    "duration": 47,
    "start_time": "2022-03-14T13:16:28.522Z"
   },
   {
    "duration": 11,
    "start_time": "2022-03-14T13:16:59.927Z"
   },
   {
    "duration": 24,
    "start_time": "2022-03-14T13:17:55.339Z"
   },
   {
    "duration": 21,
    "start_time": "2022-03-14T13:18:13.918Z"
   },
   {
    "duration": 25,
    "start_time": "2022-03-14T13:21:28.773Z"
   },
   {
    "duration": 21,
    "start_time": "2022-03-14T13:23:18.090Z"
   },
   {
    "duration": 26,
    "start_time": "2022-03-14T13:23:23.736Z"
   },
   {
    "duration": 44,
    "start_time": "2022-03-14T13:26:37.775Z"
   },
   {
    "duration": 47,
    "start_time": "2022-03-14T13:31:00.475Z"
   },
   {
    "duration": 95,
    "start_time": "2022-03-14T13:43:51.656Z"
   },
   {
    "duration": 15,
    "start_time": "2022-03-14T13:44:16.442Z"
   },
   {
    "duration": 18,
    "start_time": "2022-03-14T13:44:39.126Z"
   },
   {
    "duration": 13,
    "start_time": "2022-03-14T13:45:00.846Z"
   },
   {
    "duration": 105,
    "start_time": "2022-03-14T13:48:21.111Z"
   },
   {
    "duration": 308,
    "start_time": "2022-03-14T13:48:28.616Z"
   },
   {
    "duration": 16,
    "start_time": "2022-03-14T13:48:49.127Z"
   },
   {
    "duration": 473,
    "start_time": "2022-03-14T14:10:32.079Z"
   },
   {
    "duration": 537,
    "start_time": "2022-03-14T14:10:39.312Z"
   },
   {
    "duration": 378,
    "start_time": "2022-03-14T14:16:07.088Z"
   },
   {
    "duration": 16,
    "start_time": "2022-03-14T14:17:25.073Z"
   },
   {
    "duration": 17,
    "start_time": "2022-03-14T14:17:26.092Z"
   },
   {
    "duration": 736,
    "start_time": "2022-03-14T14:17:48.415Z"
   },
   {
    "duration": 485,
    "start_time": "2022-03-14T14:17:49.154Z"
   },
   {
    "duration": 23,
    "start_time": "2022-03-14T14:17:49.642Z"
   },
   {
    "duration": 44,
    "start_time": "2022-03-14T14:17:49.668Z"
   },
   {
    "duration": 27,
    "start_time": "2022-03-14T14:17:49.715Z"
   },
   {
    "duration": 62,
    "start_time": "2022-03-14T14:17:49.744Z"
   },
   {
    "duration": 102,
    "start_time": "2022-03-14T14:17:49.809Z"
   },
   {
    "duration": 33,
    "start_time": "2022-03-14T14:17:49.916Z"
   },
   {
    "duration": 32,
    "start_time": "2022-03-14T14:17:49.952Z"
   },
   {
    "duration": 40,
    "start_time": "2022-03-14T14:17:49.986Z"
   },
   {
    "duration": 476,
    "start_time": "2022-03-14T14:17:50.029Z"
   },
   {
    "duration": 19,
    "start_time": "2022-03-14T14:17:50.507Z"
   },
   {
    "duration": 16,
    "start_time": "2022-03-14T14:17:50.529Z"
   },
   {
    "duration": 45,
    "start_time": "2022-03-14T14:17:50.547Z"
   },
   {
    "duration": 26,
    "start_time": "2022-03-14T14:17:50.595Z"
   },
   {
    "duration": 17,
    "start_time": "2022-03-14T14:17:50.624Z"
   },
   {
    "duration": 44,
    "start_time": "2022-03-14T14:17:50.644Z"
   },
   {
    "duration": 21,
    "start_time": "2022-03-14T14:17:50.691Z"
   },
   {
    "duration": 25,
    "start_time": "2022-03-14T14:17:50.715Z"
   },
   {
    "duration": 45,
    "start_time": "2022-03-14T14:17:50.742Z"
   },
   {
    "duration": 13,
    "start_time": "2022-03-14T14:17:50.790Z"
   },
   {
    "duration": 11,
    "start_time": "2022-03-14T14:17:50.806Z"
   },
   {
    "duration": 14,
    "start_time": "2022-03-14T14:17:50.824Z"
   },
   {
    "duration": 10,
    "start_time": "2022-03-14T14:17:50.884Z"
   },
   {
    "duration": 20,
    "start_time": "2022-03-14T14:17:50.896Z"
   },
   {
    "duration": 17,
    "start_time": "2022-03-14T14:17:50.918Z"
   },
   {
    "duration": 62,
    "start_time": "2022-03-14T14:17:50.938Z"
   },
   {
    "duration": 48,
    "start_time": "2022-03-14T14:17:51.003Z"
   },
   {
    "duration": 40,
    "start_time": "2022-03-14T14:17:51.054Z"
   },
   {
    "duration": 30,
    "start_time": "2022-03-14T14:17:51.097Z"
   },
   {
    "duration": 54,
    "start_time": "2022-03-14T14:17:51.130Z"
   },
   {
    "duration": 33,
    "start_time": "2022-03-14T14:17:51.187Z"
   },
   {
    "duration": 59,
    "start_time": "2022-03-14T14:17:51.223Z"
   },
   {
    "duration": 15,
    "start_time": "2022-03-14T14:17:51.284Z"
   },
   {
    "duration": 19,
    "start_time": "2022-03-14T14:17:51.302Z"
   },
   {
    "duration": 23,
    "start_time": "2022-03-14T14:17:51.323Z"
   },
   {
    "duration": 10,
    "start_time": "2022-03-14T14:18:40.972Z"
   },
   {
    "duration": 771,
    "start_time": "2022-03-14T14:20:00.953Z"
   },
   {
    "duration": 467,
    "start_time": "2022-03-14T14:20:01.727Z"
   },
   {
    "duration": 22,
    "start_time": "2022-03-14T14:20:02.197Z"
   },
   {
    "duration": 37,
    "start_time": "2022-03-14T14:20:02.222Z"
   },
   {
    "duration": 44,
    "start_time": "2022-03-14T14:20:02.261Z"
   },
   {
    "duration": 55,
    "start_time": "2022-03-14T14:20:02.307Z"
   },
   {
    "duration": 108,
    "start_time": "2022-03-14T14:20:02.364Z"
   },
   {
    "duration": 45,
    "start_time": "2022-03-14T14:20:02.485Z"
   },
   {
    "duration": 48,
    "start_time": "2022-03-14T14:20:02.534Z"
   },
   {
    "duration": 52,
    "start_time": "2022-03-14T14:20:02.585Z"
   },
   {
    "duration": 493,
    "start_time": "2022-03-14T14:20:02.640Z"
   },
   {
    "duration": 12,
    "start_time": "2022-03-14T14:20:03.135Z"
   },
   {
    "duration": 7,
    "start_time": "2022-03-14T14:20:03.149Z"
   },
   {
    "duration": 41,
    "start_time": "2022-03-14T14:20:03.158Z"
   },
   {
    "duration": 29,
    "start_time": "2022-03-14T14:20:03.201Z"
   },
   {
    "duration": 17,
    "start_time": "2022-03-14T14:20:03.233Z"
   },
   {
    "duration": 39,
    "start_time": "2022-03-14T14:20:03.252Z"
   },
   {
    "duration": 28,
    "start_time": "2022-03-14T14:20:03.293Z"
   },
   {
    "duration": 28,
    "start_time": "2022-03-14T14:20:03.324Z"
   },
   {
    "duration": 33,
    "start_time": "2022-03-14T14:20:03.355Z"
   },
   {
    "duration": 15,
    "start_time": "2022-03-14T14:20:03.391Z"
   },
   {
    "duration": 13,
    "start_time": "2022-03-14T14:20:03.409Z"
   },
   {
    "duration": 16,
    "start_time": "2022-03-14T14:20:03.427Z"
   },
   {
    "duration": 40,
    "start_time": "2022-03-14T14:20:03.446Z"
   },
   {
    "duration": 11,
    "start_time": "2022-03-14T14:20:03.488Z"
   },
   {
    "duration": 12,
    "start_time": "2022-03-14T14:20:03.502Z"
   },
   {
    "duration": 72,
    "start_time": "2022-03-14T14:20:03.517Z"
   },
   {
    "duration": 48,
    "start_time": "2022-03-14T14:20:03.592Z"
   },
   {
    "duration": 13,
    "start_time": "2022-03-14T14:20:03.642Z"
   },
   {
    "duration": 29,
    "start_time": "2022-03-14T14:20:03.683Z"
   },
   {
    "duration": 31,
    "start_time": "2022-03-14T14:20:03.715Z"
   },
   {
    "duration": 61,
    "start_time": "2022-03-14T14:20:03.749Z"
   },
   {
    "duration": 31,
    "start_time": "2022-03-14T14:20:03.814Z"
   },
   {
    "duration": 47,
    "start_time": "2022-03-14T14:20:03.848Z"
   },
   {
    "duration": 40,
    "start_time": "2022-03-14T14:20:03.897Z"
   },
   {
    "duration": 26,
    "start_time": "2022-03-14T14:20:03.940Z"
   },
   {
    "duration": 22,
    "start_time": "2022-03-14T14:20:03.968Z"
   },
   {
    "duration": 15,
    "start_time": "2022-03-14T14:21:19.106Z"
   },
   {
    "duration": 801,
    "start_time": "2022-03-14T14:21:25.605Z"
   },
   {
    "duration": 505,
    "start_time": "2022-03-14T14:21:26.408Z"
   },
   {
    "duration": 22,
    "start_time": "2022-03-14T14:21:26.917Z"
   },
   {
    "duration": 51,
    "start_time": "2022-03-14T14:21:26.942Z"
   },
   {
    "duration": 27,
    "start_time": "2022-03-14T14:21:26.996Z"
   },
   {
    "duration": 65,
    "start_time": "2022-03-14T14:21:27.026Z"
   },
   {
    "duration": 114,
    "start_time": "2022-03-14T14:21:27.093Z"
   },
   {
    "duration": 35,
    "start_time": "2022-03-14T14:21:27.212Z"
   },
   {
    "duration": 40,
    "start_time": "2022-03-14T14:21:27.251Z"
   },
   {
    "duration": 38,
    "start_time": "2022-03-14T14:21:27.294Z"
   },
   {
    "duration": 527,
    "start_time": "2022-03-14T14:21:27.335Z"
   },
   {
    "duration": 26,
    "start_time": "2022-03-14T14:21:27.866Z"
   },
   {
    "duration": 16,
    "start_time": "2022-03-14T14:21:27.894Z"
   },
   {
    "duration": 22,
    "start_time": "2022-03-14T14:21:27.912Z"
   },
   {
    "duration": 63,
    "start_time": "2022-03-14T14:21:27.936Z"
   },
   {
    "duration": 15,
    "start_time": "2022-03-14T14:21:28.002Z"
   },
   {
    "duration": 14,
    "start_time": "2022-03-14T14:21:28.020Z"
   },
   {
    "duration": 46,
    "start_time": "2022-03-14T14:21:28.036Z"
   },
   {
    "duration": 25,
    "start_time": "2022-03-14T14:21:28.085Z"
   },
   {
    "duration": 14,
    "start_time": "2022-03-14T14:21:28.113Z"
   },
   {
    "duration": 18,
    "start_time": "2022-03-14T14:21:28.130Z"
   },
   {
    "duration": 38,
    "start_time": "2022-03-14T14:21:28.151Z"
   },
   {
    "duration": 29,
    "start_time": "2022-03-14T14:21:28.194Z"
   },
   {
    "duration": 15,
    "start_time": "2022-03-14T14:21:28.226Z"
   },
   {
    "duration": 27,
    "start_time": "2022-03-14T14:21:28.244Z"
   },
   {
    "duration": 23,
    "start_time": "2022-03-14T14:21:28.274Z"
   },
   {
    "duration": 49,
    "start_time": "2022-03-14T14:21:28.300Z"
   },
   {
    "duration": 50,
    "start_time": "2022-03-14T14:21:28.352Z"
   },
   {
    "duration": 12,
    "start_time": "2022-03-14T14:21:28.405Z"
   },
   {
    "duration": 34,
    "start_time": "2022-03-14T14:21:28.420Z"
   },
   {
    "duration": 49,
    "start_time": "2022-03-14T14:21:28.456Z"
   },
   {
    "duration": 30,
    "start_time": "2022-03-14T14:21:28.507Z"
   },
   {
    "duration": 63,
    "start_time": "2022-03-14T14:21:28.539Z"
   },
   {
    "duration": 16,
    "start_time": "2022-03-14T14:21:28.604Z"
   },
   {
    "duration": 31,
    "start_time": "2022-03-14T14:21:28.622Z"
   },
   {
    "duration": 40,
    "start_time": "2022-03-14T14:21:28.655Z"
   },
   {
    "duration": 9,
    "start_time": "2022-03-14T14:21:28.697Z"
   },
   {
    "duration": 762,
    "start_time": "2022-03-14T17:21:47.282Z"
   },
   {
    "duration": 509,
    "start_time": "2022-03-14T17:21:48.046Z"
   },
   {
    "duration": 19,
    "start_time": "2022-03-14T17:21:48.558Z"
   },
   {
    "duration": 49,
    "start_time": "2022-03-14T17:21:48.579Z"
   },
   {
    "duration": 21,
    "start_time": "2022-03-14T17:21:48.629Z"
   },
   {
    "duration": 40,
    "start_time": "2022-03-14T17:21:48.651Z"
   },
   {
    "duration": 73,
    "start_time": "2022-03-14T17:21:48.693Z"
   },
   {
    "duration": 37,
    "start_time": "2022-03-14T17:21:48.769Z"
   },
   {
    "duration": 8,
    "start_time": "2022-03-14T17:21:48.808Z"
   },
   {
    "duration": 53,
    "start_time": "2022-03-14T17:21:48.818Z"
   },
   {
    "duration": 413,
    "start_time": "2022-03-14T17:21:48.873Z"
   },
   {
    "duration": 15,
    "start_time": "2022-03-14T17:21:49.289Z"
   },
   {
    "duration": 14,
    "start_time": "2022-03-14T17:21:49.306Z"
   },
   {
    "duration": 25,
    "start_time": "2022-03-14T17:21:49.322Z"
   },
   {
    "duration": 28,
    "start_time": "2022-03-14T17:21:49.349Z"
   },
   {
    "duration": 11,
    "start_time": "2022-03-14T17:21:49.402Z"
   },
   {
    "duration": 20,
    "start_time": "2022-03-14T17:21:49.415Z"
   },
   {
    "duration": 27,
    "start_time": "2022-03-14T17:21:49.436Z"
   },
   {
    "duration": 17,
    "start_time": "2022-03-14T17:21:49.465Z"
   },
   {
    "duration": 20,
    "start_time": "2022-03-14T17:21:49.484Z"
   },
   {
    "duration": 16,
    "start_time": "2022-03-14T17:21:49.506Z"
   },
   {
    "duration": 24,
    "start_time": "2022-03-14T17:21:49.524Z"
   },
   {
    "duration": 19,
    "start_time": "2022-03-14T17:21:49.552Z"
   },
   {
    "duration": 29,
    "start_time": "2022-03-14T17:21:49.574Z"
   },
   {
    "duration": 17,
    "start_time": "2022-03-14T17:21:49.605Z"
   },
   {
    "duration": 26,
    "start_time": "2022-03-14T17:21:49.624Z"
   },
   {
    "duration": 34,
    "start_time": "2022-03-14T17:21:49.652Z"
   },
   {
    "duration": 31,
    "start_time": "2022-03-14T17:21:49.688Z"
   },
   {
    "duration": 8,
    "start_time": "2022-03-14T17:21:49.720Z"
   },
   {
    "duration": 26,
    "start_time": "2022-03-14T17:21:49.729Z"
   },
   {
    "duration": 22,
    "start_time": "2022-03-14T17:21:49.757Z"
   },
   {
    "duration": 37,
    "start_time": "2022-03-14T17:21:49.781Z"
   },
   {
    "duration": 24,
    "start_time": "2022-03-14T17:21:49.820Z"
   },
   {
    "duration": 20,
    "start_time": "2022-03-14T17:21:49.845Z"
   },
   {
    "duration": 16,
    "start_time": "2022-03-14T17:21:49.867Z"
   },
   {
    "duration": 22,
    "start_time": "2022-03-14T17:21:49.885Z"
   },
   {
    "duration": 9,
    "start_time": "2022-03-14T17:24:19.261Z"
   },
   {
    "duration": 26,
    "start_time": "2022-03-14T17:24:30.718Z"
   },
   {
    "duration": 27,
    "start_time": "2022-03-14T17:29:56.900Z"
   },
   {
    "duration": 28,
    "start_time": "2022-03-14T17:30:41.203Z"
   },
   {
    "duration": 33,
    "start_time": "2022-03-14T17:30:55.819Z"
   },
   {
    "duration": 558,
    "start_time": "2022-03-14T17:33:17.102Z"
   },
   {
    "duration": 368,
    "start_time": "2022-03-14T17:33:17.662Z"
   },
   {
    "duration": 14,
    "start_time": "2022-03-14T17:33:18.032Z"
   },
   {
    "duration": 26,
    "start_time": "2022-03-14T17:33:18.048Z"
   },
   {
    "duration": 18,
    "start_time": "2022-03-14T17:33:18.075Z"
   },
   {
    "duration": 26,
    "start_time": "2022-03-14T17:33:18.094Z"
   },
   {
    "duration": 62,
    "start_time": "2022-03-14T17:33:18.121Z"
   },
   {
    "duration": 35,
    "start_time": "2022-03-14T17:33:18.186Z"
   },
   {
    "duration": 7,
    "start_time": "2022-03-14T17:33:18.223Z"
   },
   {
    "duration": 25,
    "start_time": "2022-03-14T17:33:18.232Z"
   },
   {
    "duration": 283,
    "start_time": "2022-03-14T17:33:18.258Z"
   },
   {
    "duration": 9,
    "start_time": "2022-03-14T17:33:18.543Z"
   },
   {
    "duration": 10,
    "start_time": "2022-03-14T17:33:18.554Z"
   },
   {
    "duration": 14,
    "start_time": "2022-03-14T17:33:18.565Z"
   },
   {
    "duration": 18,
    "start_time": "2022-03-14T17:33:18.602Z"
   },
   {
    "duration": 10,
    "start_time": "2022-03-14T17:33:18.622Z"
   },
   {
    "duration": 7,
    "start_time": "2022-03-14T17:33:18.634Z"
   },
   {
    "duration": 14,
    "start_time": "2022-03-14T17:33:18.643Z"
   },
   {
    "duration": 46,
    "start_time": "2022-03-14T17:33:18.659Z"
   },
   {
    "duration": 9,
    "start_time": "2022-03-14T17:33:18.707Z"
   },
   {
    "duration": 6,
    "start_time": "2022-03-14T17:33:18.718Z"
   },
   {
    "duration": 12,
    "start_time": "2022-03-14T17:33:18.726Z"
   },
   {
    "duration": 8,
    "start_time": "2022-03-14T17:33:18.742Z"
   },
   {
    "duration": 6,
    "start_time": "2022-03-14T17:33:18.751Z"
   },
   {
    "duration": 8,
    "start_time": "2022-03-14T17:33:18.759Z"
   },
   {
    "duration": 11,
    "start_time": "2022-03-14T17:33:18.801Z"
   },
   {
    "duration": 26,
    "start_time": "2022-03-14T17:33:18.814Z"
   },
   {
    "duration": 30,
    "start_time": "2022-03-14T17:33:18.841Z"
   },
   {
    "duration": 34,
    "start_time": "2022-03-14T17:33:18.872Z"
   },
   {
    "duration": 18,
    "start_time": "2022-03-14T17:33:18.908Z"
   },
   {
    "duration": 18,
    "start_time": "2022-03-14T17:33:18.928Z"
   },
   {
    "duration": 19,
    "start_time": "2022-03-14T17:33:18.948Z"
   },
   {
    "duration": 39,
    "start_time": "2022-03-14T17:33:18.969Z"
   },
   {
    "duration": 14,
    "start_time": "2022-03-14T17:33:19.010Z"
   },
   {
    "duration": 11,
    "start_time": "2022-03-14T17:33:19.026Z"
   },
   {
    "duration": 17,
    "start_time": "2022-03-14T17:33:19.038Z"
   },
   {
    "duration": 6,
    "start_time": "2022-03-14T17:33:19.057Z"
   },
   {
    "duration": 370,
    "start_time": "2022-03-14T17:37:49.272Z"
   },
   {
    "duration": 321,
    "start_time": "2022-03-14T17:38:24.660Z"
   },
   {
    "duration": 326,
    "start_time": "2022-03-14T17:38:35.799Z"
   },
   {
    "duration": 540,
    "start_time": "2022-03-14T17:38:43.448Z"
   },
   {
    "duration": 372,
    "start_time": "2022-03-14T17:38:43.990Z"
   },
   {
    "duration": 95,
    "start_time": "2022-03-14T17:38:44.364Z"
   },
   {
    "duration": 304,
    "start_time": "2022-03-14T17:38:44.460Z"
   },
   {
    "duration": 239,
    "start_time": "2022-03-14T17:38:44.766Z"
   },
   {
    "duration": 397,
    "start_time": "2022-03-14T17:38:45.007Z"
   },
   {
    "duration": 393,
    "start_time": "2022-03-14T17:38:45.406Z"
   },
   {
    "duration": 253,
    "start_time": "2022-03-14T17:38:45.802Z"
   },
   {
    "duration": 157,
    "start_time": "2022-03-14T17:38:46.057Z"
   },
   {
    "duration": 359,
    "start_time": "2022-03-14T17:38:46.216Z"
   },
   {
    "duration": 565,
    "start_time": "2022-03-14T17:38:46.577Z"
   },
   {
    "duration": 16,
    "start_time": "2022-03-14T17:38:47.144Z"
   },
   {
    "duration": 438,
    "start_time": "2022-03-14T17:38:47.161Z"
   },
   {
    "duration": 870,
    "start_time": "2022-03-14T17:38:47.600Z"
   },
   {
    "duration": 718,
    "start_time": "2022-03-14T17:38:48.472Z"
   },
   {
    "duration": 274,
    "start_time": "2022-03-14T17:38:49.191Z"
   },
   {
    "duration": 188,
    "start_time": "2022-03-14T17:38:49.467Z"
   },
   {
    "duration": 128,
    "start_time": "2022-03-14T17:38:49.656Z"
   },
   {
    "duration": 375,
    "start_time": "2022-03-14T17:38:49.786Z"
   },
   {
    "duration": 342,
    "start_time": "2022-03-14T17:38:50.162Z"
   },
   {
    "duration": 289,
    "start_time": "2022-03-14T17:38:50.506Z"
   },
   {
    "duration": 344,
    "start_time": "2022-03-14T17:38:50.797Z"
   },
   {
    "duration": 179,
    "start_time": "2022-03-14T17:38:51.144Z"
   },
   {
    "duration": 233,
    "start_time": "2022-03-14T17:38:51.325Z"
   },
   {
    "duration": 163,
    "start_time": "2022-03-14T17:38:51.560Z"
   },
   {
    "duration": 125,
    "start_time": "2022-03-14T17:38:51.725Z"
   },
   {
    "duration": 247,
    "start_time": "2022-03-14T17:38:51.852Z"
   },
   {
    "duration": 207,
    "start_time": "2022-03-14T17:38:52.101Z"
   },
   {
    "duration": 279,
    "start_time": "2022-03-14T17:38:52.310Z"
   },
   {
    "duration": 199,
    "start_time": "2022-03-14T17:38:52.590Z"
   },
   {
    "duration": 202,
    "start_time": "2022-03-14T17:38:52.790Z"
   },
   {
    "duration": 499,
    "start_time": "2022-03-14T17:38:52.994Z"
   },
   {
    "duration": 181,
    "start_time": "2022-03-14T17:38:53.495Z"
   },
   {
    "duration": 302,
    "start_time": "2022-03-14T17:38:53.678Z"
   },
   {
    "duration": 181,
    "start_time": "2022-03-14T17:38:53.982Z"
   },
   {
    "duration": 247,
    "start_time": "2022-03-14T17:38:54.164Z"
   },
   {
    "duration": 549,
    "start_time": "2022-03-14T17:38:54.413Z"
   },
   {
    "duration": 4240,
    "start_time": "2022-03-14T17:38:50.724Z"
   },
   {
    "duration": 603,
    "start_time": "2022-03-15T10:40:05.211Z"
   },
   {
    "duration": 730,
    "start_time": "2022-03-15T10:40:16.800Z"
   },
   {
    "duration": 476,
    "start_time": "2022-03-15T10:40:17.532Z"
   },
   {
    "duration": 16,
    "start_time": "2022-03-15T10:40:18.010Z"
   },
   {
    "duration": 38,
    "start_time": "2022-03-15T10:40:18.028Z"
   },
   {
    "duration": 22,
    "start_time": "2022-03-15T10:40:18.068Z"
   },
   {
    "duration": 54,
    "start_time": "2022-03-15T10:40:18.092Z"
   },
   {
    "duration": 77,
    "start_time": "2022-03-15T10:40:18.148Z"
   },
   {
    "duration": 38,
    "start_time": "2022-03-15T10:40:18.228Z"
   },
   {
    "duration": 9,
    "start_time": "2022-03-15T10:40:18.269Z"
   },
   {
    "duration": 63,
    "start_time": "2022-03-15T10:40:18.280Z"
   },
   {
    "duration": 373,
    "start_time": "2022-03-15T10:40:18.348Z"
   },
   {
    "duration": 20,
    "start_time": "2022-03-15T10:40:18.723Z"
   },
   {
    "duration": 22,
    "start_time": "2022-03-15T10:40:18.746Z"
   },
   {
    "duration": 20,
    "start_time": "2022-03-15T10:40:18.770Z"
   },
   {
    "duration": 23,
    "start_time": "2022-03-15T10:40:18.792Z"
   },
   {
    "duration": 27,
    "start_time": "2022-03-15T10:40:18.816Z"
   },
   {
    "duration": 21,
    "start_time": "2022-03-15T10:40:18.846Z"
   },
   {
    "duration": 26,
    "start_time": "2022-03-15T10:40:18.869Z"
   },
   {
    "duration": 28,
    "start_time": "2022-03-15T10:40:18.897Z"
   },
   {
    "duration": 23,
    "start_time": "2022-03-15T10:40:18.926Z"
   },
   {
    "duration": 10,
    "start_time": "2022-03-15T10:40:18.951Z"
   },
   {
    "duration": 1753,
    "start_time": "2022-03-15T10:40:18.963Z"
   },
   {
    "duration": 5269,
    "start_time": "2022-03-15T10:40:15.450Z"
   },
   {
    "duration": 5266,
    "start_time": "2022-03-15T10:40:15.454Z"
   },
   {
    "duration": 5262,
    "start_time": "2022-03-15T10:40:15.459Z"
   },
   {
    "duration": 5260,
    "start_time": "2022-03-15T10:40:15.462Z"
   },
   {
    "duration": 5256,
    "start_time": "2022-03-15T10:40:15.467Z"
   },
   {
    "duration": 5253,
    "start_time": "2022-03-15T10:40:15.471Z"
   },
   {
    "duration": 5250,
    "start_time": "2022-03-15T10:40:15.475Z"
   },
   {
    "duration": 5248,
    "start_time": "2022-03-15T10:40:15.478Z"
   },
   {
    "duration": 5246,
    "start_time": "2022-03-15T10:40:15.482Z"
   },
   {
    "duration": 5243,
    "start_time": "2022-03-15T10:40:15.486Z"
   },
   {
    "duration": 5240,
    "start_time": "2022-03-15T10:40:15.490Z"
   },
   {
    "duration": 5240,
    "start_time": "2022-03-15T10:40:15.493Z"
   },
   {
    "duration": 5239,
    "start_time": "2022-03-15T10:40:15.496Z"
   },
   {
    "duration": 5237,
    "start_time": "2022-03-15T10:40:15.499Z"
   },
   {
    "duration": 5234,
    "start_time": "2022-03-15T10:40:15.504Z"
   },
   {
    "duration": 5232,
    "start_time": "2022-03-15T10:40:15.507Z"
   },
   {
    "duration": 5235,
    "start_time": "2022-03-15T10:40:15.510Z"
   },
   {
    "duration": 5,
    "start_time": "2022-03-15T10:42:51.917Z"
   },
   {
    "duration": 7,
    "start_time": "2022-03-15T10:42:53.660Z"
   },
   {
    "duration": 612,
    "start_time": "2022-03-15T10:43:03.774Z"
   },
   {
    "duration": 457,
    "start_time": "2022-03-15T10:43:04.388Z"
   },
   {
    "duration": 18,
    "start_time": "2022-03-15T10:43:04.848Z"
   },
   {
    "duration": 37,
    "start_time": "2022-03-15T10:43:04.869Z"
   },
   {
    "duration": 42,
    "start_time": "2022-03-15T10:43:04.908Z"
   },
   {
    "duration": 36,
    "start_time": "2022-03-15T10:43:04.952Z"
   },
   {
    "duration": 96,
    "start_time": "2022-03-15T10:43:04.990Z"
   },
   {
    "duration": 27,
    "start_time": "2022-03-15T10:43:05.090Z"
   },
   {
    "duration": 20,
    "start_time": "2022-03-15T10:43:05.119Z"
   },
   {
    "duration": 43,
    "start_time": "2022-03-15T10:43:05.140Z"
   },
   {
    "duration": 369,
    "start_time": "2022-03-15T10:43:05.184Z"
   },
   {
    "duration": 10,
    "start_time": "2022-03-15T10:43:05.555Z"
   },
   {
    "duration": 12,
    "start_time": "2022-03-15T10:43:05.567Z"
   },
   {
    "duration": 18,
    "start_time": "2022-03-15T10:43:05.581Z"
   },
   {
    "duration": 50,
    "start_time": "2022-03-15T10:43:05.601Z"
   },
   {
    "duration": 13,
    "start_time": "2022-03-15T10:43:05.653Z"
   },
   {
    "duration": 29,
    "start_time": "2022-03-15T10:43:05.668Z"
   },
   {
    "duration": 21,
    "start_time": "2022-03-15T10:43:05.699Z"
   },
   {
    "duration": 25,
    "start_time": "2022-03-15T10:43:05.722Z"
   },
   {
    "duration": 12,
    "start_time": "2022-03-15T10:43:05.749Z"
   },
   {
    "duration": 10,
    "start_time": "2022-03-15T10:43:05.762Z"
   },
   {
    "duration": 9,
    "start_time": "2022-03-15T10:43:05.773Z"
   },
   {
    "duration": 12,
    "start_time": "2022-03-15T10:43:05.786Z"
   },
   {
    "duration": 39,
    "start_time": "2022-03-15T10:43:05.801Z"
   },
   {
    "duration": 23,
    "start_time": "2022-03-15T10:43:05.842Z"
   },
   {
    "duration": 16,
    "start_time": "2022-03-15T10:43:05.867Z"
   },
   {
    "duration": 13,
    "start_time": "2022-03-15T10:43:05.885Z"
   },
   {
    "duration": 37,
    "start_time": "2022-03-15T10:43:05.900Z"
   },
   {
    "duration": 42,
    "start_time": "2022-03-15T10:43:05.940Z"
   },
   {
    "duration": 11,
    "start_time": "2022-03-15T10:43:05.984Z"
   },
   {
    "duration": 58,
    "start_time": "2022-03-15T10:43:05.997Z"
   },
   {
    "duration": 26,
    "start_time": "2022-03-15T10:43:06.057Z"
   },
   {
    "duration": 24,
    "start_time": "2022-03-15T10:43:06.085Z"
   },
   {
    "duration": 39,
    "start_time": "2022-03-15T10:43:06.112Z"
   },
   {
    "duration": 17,
    "start_time": "2022-03-15T10:43:06.153Z"
   },
   {
    "duration": 18,
    "start_time": "2022-03-15T10:43:06.171Z"
   },
   {
    "duration": 55,
    "start_time": "2022-03-15T10:43:06.191Z"
   },
   {
    "duration": 24,
    "start_time": "2022-03-15T10:43:06.248Z"
   },
   {
    "duration": 10,
    "start_time": "2022-03-15T10:43:06.274Z"
   },
   {
    "duration": 28,
    "start_time": "2022-03-15T10:45:12.682Z"
   },
   {
    "duration": 11,
    "start_time": "2022-03-15T10:45:14.465Z"
   },
   {
    "duration": 28,
    "start_time": "2022-03-15T10:45:28.083Z"
   },
   {
    "duration": 27,
    "start_time": "2022-03-15T10:45:42.956Z"
   },
   {
    "duration": 667,
    "start_time": "2022-03-15T10:45:56.855Z"
   },
   {
    "duration": 450,
    "start_time": "2022-03-15T10:45:57.524Z"
   },
   {
    "duration": 16,
    "start_time": "2022-03-15T10:45:57.976Z"
   },
   {
    "duration": 34,
    "start_time": "2022-03-15T10:45:57.994Z"
   },
   {
    "duration": 24,
    "start_time": "2022-03-15T10:45:58.030Z"
   },
   {
    "duration": 35,
    "start_time": "2022-03-15T10:45:58.056Z"
   },
   {
    "duration": 98,
    "start_time": "2022-03-15T10:45:58.093Z"
   },
   {
    "duration": 27,
    "start_time": "2022-03-15T10:45:58.193Z"
   },
   {
    "duration": 10,
    "start_time": "2022-03-15T10:45:58.232Z"
   },
   {
    "duration": 33,
    "start_time": "2022-03-15T10:45:58.243Z"
   },
   {
    "duration": 373,
    "start_time": "2022-03-15T10:45:58.278Z"
   },
   {
    "duration": 11,
    "start_time": "2022-03-15T10:45:58.653Z"
   },
   {
    "duration": 12,
    "start_time": "2022-03-15T10:45:58.666Z"
   },
   {
    "duration": 18,
    "start_time": "2022-03-15T10:45:58.680Z"
   },
   {
    "duration": 46,
    "start_time": "2022-03-15T10:45:58.700Z"
   },
   {
    "duration": 13,
    "start_time": "2022-03-15T10:45:58.748Z"
   },
   {
    "duration": 8,
    "start_time": "2022-03-15T10:45:58.763Z"
   },
   {
    "duration": 18,
    "start_time": "2022-03-15T10:45:58.772Z"
   },
   {
    "duration": 49,
    "start_time": "2022-03-15T10:45:58.792Z"
   },
   {
    "duration": 11,
    "start_time": "2022-03-15T10:45:58.843Z"
   },
   {
    "duration": 10,
    "start_time": "2022-03-15T10:45:58.856Z"
   },
   {
    "duration": 7,
    "start_time": "2022-03-15T10:45:58.868Z"
   },
   {
    "duration": 9,
    "start_time": "2022-03-15T10:45:58.880Z"
   },
   {
    "duration": 42,
    "start_time": "2022-03-15T10:45:58.891Z"
   },
   {
    "duration": 7,
    "start_time": "2022-03-15T10:45:58.935Z"
   },
   {
    "duration": 13,
    "start_time": "2022-03-15T10:45:58.944Z"
   },
   {
    "duration": 17,
    "start_time": "2022-03-15T10:45:58.959Z"
   },
   {
    "duration": 42,
    "start_time": "2022-03-15T10:45:58.978Z"
   },
   {
    "duration": 48,
    "start_time": "2022-03-15T10:45:59.022Z"
   },
   {
    "duration": 9,
    "start_time": "2022-03-15T10:45:59.071Z"
   },
   {
    "duration": 51,
    "start_time": "2022-03-15T10:45:59.082Z"
   },
   {
    "duration": 22,
    "start_time": "2022-03-15T10:45:59.135Z"
   },
   {
    "duration": 24,
    "start_time": "2022-03-15T10:45:59.158Z"
   },
   {
    "duration": 19,
    "start_time": "2022-03-15T10:45:59.184Z"
   },
   {
    "duration": 16,
    "start_time": "2022-03-15T10:45:59.232Z"
   },
   {
    "duration": 16,
    "start_time": "2022-03-15T10:45:59.250Z"
   },
   {
    "duration": 21,
    "start_time": "2022-03-15T10:45:59.268Z"
   },
   {
    "duration": 59,
    "start_time": "2022-03-15T10:45:59.291Z"
   },
   {
    "duration": 10,
    "start_time": "2022-03-15T10:45:59.352Z"
   },
   {
    "duration": 624,
    "start_time": "2022-03-15T10:49:58.671Z"
   },
   {
    "duration": 516,
    "start_time": "2022-03-15T10:49:59.297Z"
   },
   {
    "duration": 17,
    "start_time": "2022-03-15T10:49:59.816Z"
   },
   {
    "duration": 51,
    "start_time": "2022-03-15T10:49:59.836Z"
   },
   {
    "duration": 23,
    "start_time": "2022-03-15T10:49:59.889Z"
   },
   {
    "duration": 52,
    "start_time": "2022-03-15T10:49:59.914Z"
   },
   {
    "duration": 102,
    "start_time": "2022-03-15T10:49:59.968Z"
   },
   {
    "duration": 28,
    "start_time": "2022-03-15T10:50:00.073Z"
   },
   {
    "duration": 33,
    "start_time": "2022-03-15T10:50:00.103Z"
   },
   {
    "duration": 38,
    "start_time": "2022-03-15T10:50:00.142Z"
   },
   {
    "duration": 379,
    "start_time": "2022-03-15T10:50:00.182Z"
   },
   {
    "duration": 11,
    "start_time": "2022-03-15T10:50:00.563Z"
   },
   {
    "duration": 15,
    "start_time": "2022-03-15T10:50:00.575Z"
   },
   {
    "duration": 42,
    "start_time": "2022-03-15T10:50:00.592Z"
   },
   {
    "duration": 29,
    "start_time": "2022-03-15T10:50:00.636Z"
   },
   {
    "duration": 15,
    "start_time": "2022-03-15T10:50:00.667Z"
   },
   {
    "duration": 9,
    "start_time": "2022-03-15T10:50:00.684Z"
   },
   {
    "duration": 48,
    "start_time": "2022-03-15T10:50:00.695Z"
   },
   {
    "duration": 42,
    "start_time": "2022-03-15T10:50:00.745Z"
   },
   {
    "duration": 12,
    "start_time": "2022-03-15T10:50:00.789Z"
   },
   {
    "duration": 12,
    "start_time": "2022-03-15T10:50:00.803Z"
   },
   {
    "duration": 8,
    "start_time": "2022-03-15T10:50:00.817Z"
   },
   {
    "duration": 25,
    "start_time": "2022-03-15T10:50:00.830Z"
   },
   {
    "duration": 18,
    "start_time": "2022-03-15T10:50:00.857Z"
   },
   {
    "duration": 22,
    "start_time": "2022-03-15T10:50:00.877Z"
   },
   {
    "duration": 19,
    "start_time": "2022-03-15T10:50:00.901Z"
   },
   {
    "duration": 18,
    "start_time": "2022-03-15T10:50:00.921Z"
   },
   {
    "duration": 46,
    "start_time": "2022-03-15T10:50:00.941Z"
   },
   {
    "duration": 38,
    "start_time": "2022-03-15T10:50:00.989Z"
   },
   {
    "duration": 20,
    "start_time": "2022-03-15T10:50:01.029Z"
   },
   {
    "duration": 36,
    "start_time": "2022-03-15T10:50:01.052Z"
   },
   {
    "duration": 24,
    "start_time": "2022-03-15T10:50:01.090Z"
   },
   {
    "duration": 40,
    "start_time": "2022-03-15T10:50:01.116Z"
   },
   {
    "duration": 21,
    "start_time": "2022-03-15T10:50:01.158Z"
   },
   {
    "duration": 14,
    "start_time": "2022-03-15T10:50:01.181Z"
   },
   {
    "duration": 52,
    "start_time": "2022-03-15T10:50:01.197Z"
   },
   {
    "duration": 18,
    "start_time": "2022-03-15T10:50:01.252Z"
   },
   {
    "duration": 27,
    "start_time": "2022-03-15T10:50:01.272Z"
   },
   {
    "duration": 38,
    "start_time": "2022-03-15T10:50:01.301Z"
   },
   {
    "duration": 671,
    "start_time": "2022-03-15T10:50:50.323Z"
   },
   {
    "duration": 506,
    "start_time": "2022-03-15T10:50:50.996Z"
   },
   {
    "duration": 25,
    "start_time": "2022-03-15T10:50:51.505Z"
   },
   {
    "duration": 44,
    "start_time": "2022-03-15T10:50:51.532Z"
   },
   {
    "duration": 27,
    "start_time": "2022-03-15T10:50:51.579Z"
   },
   {
    "duration": 75,
    "start_time": "2022-03-15T10:50:51.608Z"
   },
   {
    "duration": 94,
    "start_time": "2022-03-15T10:50:51.687Z"
   },
   {
    "duration": 29,
    "start_time": "2022-03-15T10:50:51.785Z"
   },
   {
    "duration": 21,
    "start_time": "2022-03-15T10:50:51.816Z"
   },
   {
    "duration": 44,
    "start_time": "2022-03-15T10:50:51.839Z"
   },
   {
    "duration": 383,
    "start_time": "2022-03-15T10:50:51.885Z"
   },
   {
    "duration": 11,
    "start_time": "2022-03-15T10:50:52.269Z"
   },
   {
    "duration": 12,
    "start_time": "2022-03-15T10:50:52.281Z"
   },
   {
    "duration": 45,
    "start_time": "2022-03-15T10:50:52.295Z"
   },
   {
    "duration": 26,
    "start_time": "2022-03-15T10:50:52.342Z"
   },
   {
    "duration": 14,
    "start_time": "2022-03-15T10:50:52.371Z"
   },
   {
    "duration": 9,
    "start_time": "2022-03-15T10:50:52.388Z"
   },
   {
    "duration": 53,
    "start_time": "2022-03-15T10:50:52.399Z"
   },
   {
    "duration": 20,
    "start_time": "2022-03-15T10:50:52.454Z"
   },
   {
    "duration": 11,
    "start_time": "2022-03-15T10:50:52.476Z"
   },
   {
    "duration": 11,
    "start_time": "2022-03-15T10:50:52.489Z"
   },
   {
    "duration": 34,
    "start_time": "2022-03-15T10:50:52.502Z"
   },
   {
    "duration": 13,
    "start_time": "2022-03-15T10:50:52.541Z"
   },
   {
    "duration": 12,
    "start_time": "2022-03-15T10:50:52.557Z"
   },
   {
    "duration": 9,
    "start_time": "2022-03-15T10:50:52.570Z"
   },
   {
    "duration": 11,
    "start_time": "2022-03-15T10:50:52.581Z"
   },
   {
    "duration": 39,
    "start_time": "2022-03-15T10:50:52.594Z"
   },
   {
    "duration": 52,
    "start_time": "2022-03-15T10:50:52.635Z"
   },
   {
    "duration": 38,
    "start_time": "2022-03-15T10:50:52.690Z"
   },
   {
    "duration": 18,
    "start_time": "2022-03-15T10:50:52.731Z"
   },
   {
    "duration": 31,
    "start_time": "2022-03-15T10:50:52.752Z"
   },
   {
    "duration": 24,
    "start_time": "2022-03-15T10:50:52.785Z"
   },
   {
    "duration": 44,
    "start_time": "2022-03-15T10:50:52.811Z"
   },
   {
    "duration": 22,
    "start_time": "2022-03-15T10:50:52.856Z"
   },
   {
    "duration": 14,
    "start_time": "2022-03-15T10:50:52.880Z"
   },
   {
    "duration": 54,
    "start_time": "2022-03-15T10:50:52.896Z"
   },
   {
    "duration": 21,
    "start_time": "2022-03-15T10:50:52.952Z"
   },
   {
    "duration": 24,
    "start_time": "2022-03-15T10:50:52.975Z"
   },
   {
    "duration": 42,
    "start_time": "2022-03-15T10:50:53.001Z"
   },
   {
    "duration": 657,
    "start_time": "2022-03-15T10:51:37.625Z"
   },
   {
    "duration": 486,
    "start_time": "2022-03-15T10:51:38.285Z"
   },
   {
    "duration": 20,
    "start_time": "2022-03-15T10:51:38.773Z"
   },
   {
    "duration": 48,
    "start_time": "2022-03-15T10:51:38.795Z"
   },
   {
    "duration": 33,
    "start_time": "2022-03-15T10:51:38.845Z"
   },
   {
    "duration": 36,
    "start_time": "2022-03-15T10:51:38.880Z"
   },
   {
    "duration": 93,
    "start_time": "2022-03-15T10:51:38.918Z"
   },
   {
    "duration": 47,
    "start_time": "2022-03-15T10:51:39.015Z"
   },
   {
    "duration": 11,
    "start_time": "2022-03-15T10:51:39.065Z"
   },
   {
    "duration": 62,
    "start_time": "2022-03-15T10:51:39.078Z"
   },
   {
    "duration": 364,
    "start_time": "2022-03-15T10:51:39.142Z"
   },
   {
    "duration": 11,
    "start_time": "2022-03-15T10:51:39.508Z"
   },
   {
    "duration": 26,
    "start_time": "2022-03-15T10:51:39.520Z"
   },
   {
    "duration": 18,
    "start_time": "2022-03-15T10:51:39.548Z"
   },
   {
    "duration": 23,
    "start_time": "2022-03-15T10:51:39.568Z"
   },
   {
    "duration": 13,
    "start_time": "2022-03-15T10:51:39.593Z"
   },
   {
    "duration": 14,
    "start_time": "2022-03-15T10:51:39.635Z"
   },
   {
    "duration": 17,
    "start_time": "2022-03-15T10:51:39.651Z"
   },
   {
    "duration": 23,
    "start_time": "2022-03-15T10:51:39.670Z"
   },
   {
    "duration": 38,
    "start_time": "2022-03-15T10:51:39.695Z"
   },
   {
    "duration": 15,
    "start_time": "2022-03-15T10:51:39.738Z"
   },
   {
    "duration": 11,
    "start_time": "2022-03-15T10:51:39.755Z"
   },
   {
    "duration": 8,
    "start_time": "2022-03-15T10:51:39.770Z"
   },
   {
    "duration": 13,
    "start_time": "2022-03-15T10:51:39.781Z"
   },
   {
    "duration": 9,
    "start_time": "2022-03-15T10:51:39.796Z"
   },
   {
    "duration": 10,
    "start_time": "2022-03-15T10:51:39.835Z"
   },
   {
    "duration": 15,
    "start_time": "2022-03-15T10:51:39.847Z"
   },
   {
    "duration": 33,
    "start_time": "2022-03-15T10:51:39.864Z"
   },
   {
    "duration": 59,
    "start_time": "2022-03-15T10:51:39.899Z"
   },
   {
    "duration": 9,
    "start_time": "2022-03-15T10:51:39.960Z"
   },
   {
    "duration": 24,
    "start_time": "2022-03-15T10:51:39.970Z"
   },
   {
    "duration": 56,
    "start_time": "2022-03-15T10:51:39.996Z"
   },
   {
    "duration": 24,
    "start_time": "2022-03-15T10:51:40.054Z"
   },
   {
    "duration": 21,
    "start_time": "2022-03-15T10:51:40.080Z"
   },
   {
    "duration": 37,
    "start_time": "2022-03-15T10:51:40.103Z"
   },
   {
    "duration": 18,
    "start_time": "2022-03-15T10:51:40.142Z"
   },
   {
    "duration": 15,
    "start_time": "2022-03-15T10:51:40.163Z"
   },
   {
    "duration": 51,
    "start_time": "2022-03-15T10:51:40.180Z"
   },
   {
    "duration": 12,
    "start_time": "2022-03-15T10:51:40.240Z"
   },
   {
    "duration": 3792,
    "start_time": "2022-03-15T11:03:51.012Z"
   },
   {
    "duration": 6,
    "start_time": "2022-03-15T11:04:16.922Z"
   },
   {
    "duration": 84,
    "start_time": "2022-03-15T11:04:35.921Z"
   },
   {
    "duration": 75,
    "start_time": "2022-03-15T11:04:52.045Z"
   },
   {
    "duration": 6,
    "start_time": "2022-03-15T11:04:58.472Z"
   },
   {
    "duration": 7,
    "start_time": "2022-03-15T11:05:33.202Z"
   },
   {
    "duration": 5,
    "start_time": "2022-03-15T11:33:04.732Z"
   },
   {
    "duration": 920,
    "start_time": "2022-03-15T11:35:02.571Z"
   },
   {
    "duration": 93,
    "start_time": "2022-03-15T11:36:52.351Z"
   },
   {
    "duration": 559,
    "start_time": "2022-03-15T11:36:54.073Z"
   },
   {
    "duration": 5,
    "start_time": "2022-03-15T11:37:08.868Z"
   },
   {
    "duration": 231,
    "start_time": "2022-03-15T11:37:13.667Z"
   },
   {
    "duration": 268,
    "start_time": "2022-03-15T11:37:38.530Z"
   },
   {
    "duration": 309,
    "start_time": "2022-03-15T11:39:10.284Z"
   },
   {
    "duration": 5,
    "start_time": "2022-03-15T11:43:10.277Z"
   },
   {
    "duration": 260,
    "start_time": "2022-03-15T11:43:12.345Z"
   },
   {
    "duration": 289,
    "start_time": "2022-03-15T11:46:30.307Z"
   },
   {
    "duration": 275,
    "start_time": "2022-03-15T11:47:07.611Z"
   },
   {
    "duration": 4,
    "start_time": "2022-03-15T11:49:58.673Z"
   },
   {
    "duration": 691,
    "start_time": "2022-03-15T11:50:05.498Z"
   },
   {
    "duration": 507,
    "start_time": "2022-03-15T11:50:06.192Z"
   },
   {
    "duration": 17,
    "start_time": "2022-03-15T11:50:06.702Z"
   },
   {
    "duration": 35,
    "start_time": "2022-03-15T11:50:06.722Z"
   },
   {
    "duration": 22,
    "start_time": "2022-03-15T11:50:06.759Z"
   },
   {
    "duration": 57,
    "start_time": "2022-03-15T11:50:06.782Z"
   },
   {
    "duration": 406,
    "start_time": "2022-03-15T11:50:06.841Z"
   },
   {
    "duration": 5545,
    "start_time": "2022-03-15T11:50:01.705Z"
   },
   {
    "duration": 5540,
    "start_time": "2022-03-15T11:50:01.711Z"
   },
   {
    "duration": 5538,
    "start_time": "2022-03-15T11:50:01.715Z"
   },
   {
    "duration": 5531,
    "start_time": "2022-03-15T11:50:01.723Z"
   },
   {
    "duration": 5526,
    "start_time": "2022-03-15T11:50:01.729Z"
   },
   {
    "duration": 5521,
    "start_time": "2022-03-15T11:50:01.735Z"
   },
   {
    "duration": 5518,
    "start_time": "2022-03-15T11:50:01.739Z"
   },
   {
    "duration": 5515,
    "start_time": "2022-03-15T11:50:01.744Z"
   },
   {
    "duration": 5512,
    "start_time": "2022-03-15T11:50:01.748Z"
   },
   {
    "duration": 5497,
    "start_time": "2022-03-15T11:50:01.764Z"
   },
   {
    "duration": 5490,
    "start_time": "2022-03-15T11:50:01.772Z"
   },
   {
    "duration": 5485,
    "start_time": "2022-03-15T11:50:01.778Z"
   },
   {
    "duration": 5481,
    "start_time": "2022-03-15T11:50:01.783Z"
   },
   {
    "duration": 5475,
    "start_time": "2022-03-15T11:50:01.789Z"
   },
   {
    "duration": 5473,
    "start_time": "2022-03-15T11:50:01.793Z"
   },
   {
    "duration": 5470,
    "start_time": "2022-03-15T11:50:01.797Z"
   },
   {
    "duration": 5467,
    "start_time": "2022-03-15T11:50:01.801Z"
   },
   {
    "duration": 5464,
    "start_time": "2022-03-15T11:50:01.805Z"
   },
   {
    "duration": 5460,
    "start_time": "2022-03-15T11:50:01.810Z"
   },
   {
    "duration": 5457,
    "start_time": "2022-03-15T11:50:01.814Z"
   },
   {
    "duration": 5453,
    "start_time": "2022-03-15T11:50:01.819Z"
   },
   {
    "duration": 5449,
    "start_time": "2022-03-15T11:50:01.824Z"
   },
   {
    "duration": 5446,
    "start_time": "2022-03-15T11:50:01.828Z"
   },
   {
    "duration": 5440,
    "start_time": "2022-03-15T11:50:01.834Z"
   },
   {
    "duration": 5437,
    "start_time": "2022-03-15T11:50:01.838Z"
   },
   {
    "duration": 5432,
    "start_time": "2022-03-15T11:50:01.844Z"
   },
   {
    "duration": 5429,
    "start_time": "2022-03-15T11:50:01.848Z"
   },
   {
    "duration": 5425,
    "start_time": "2022-03-15T11:50:01.853Z"
   },
   {
    "duration": 5422,
    "start_time": "2022-03-15T11:50:01.857Z"
   },
   {
    "duration": 5419,
    "start_time": "2022-03-15T11:50:01.861Z"
   },
   {
    "duration": 5405,
    "start_time": "2022-03-15T11:50:01.876Z"
   },
   {
    "duration": 5402,
    "start_time": "2022-03-15T11:50:01.881Z"
   },
   {
    "duration": 5399,
    "start_time": "2022-03-15T11:50:01.885Z"
   },
   {
    "duration": 5395,
    "start_time": "2022-03-15T11:50:01.890Z"
   },
   {
    "duration": 5392,
    "start_time": "2022-03-15T11:50:01.894Z"
   },
   {
    "duration": 5433,
    "start_time": "2022-03-15T11:50:01.898Z"
   },
   {
    "duration": 8,
    "start_time": "2022-03-15T11:50:46.197Z"
   },
   {
    "duration": 33,
    "start_time": "2022-03-15T11:50:50.448Z"
   },
   {
    "duration": 670,
    "start_time": "2022-03-15T11:51:05.666Z"
   },
   {
    "duration": 496,
    "start_time": "2022-03-15T11:51:06.339Z"
   },
   {
    "duration": 25,
    "start_time": "2022-03-15T11:51:06.840Z"
   },
   {
    "duration": 34,
    "start_time": "2022-03-15T11:51:06.867Z"
   },
   {
    "duration": 52,
    "start_time": "2022-03-15T11:51:06.903Z"
   },
   {
    "duration": 41,
    "start_time": "2022-03-15T11:51:06.957Z"
   },
   {
    "duration": 6,
    "start_time": "2022-03-15T11:51:07.000Z"
   },
   {
    "duration": 52,
    "start_time": "2022-03-15T11:51:07.009Z"
   },
   {
    "duration": 10,
    "start_time": "2022-03-15T11:51:07.063Z"
   },
   {
    "duration": 35,
    "start_time": "2022-03-15T11:51:07.075Z"
   },
   {
    "duration": 400,
    "start_time": "2022-03-15T11:51:07.112Z"
   },
   {
    "duration": 22,
    "start_time": "2022-03-15T11:51:07.514Z"
   },
   {
    "duration": 16,
    "start_time": "2022-03-15T11:51:07.538Z"
   },
   {
    "duration": 17,
    "start_time": "2022-03-15T11:51:07.555Z"
   },
   {
    "duration": 23,
    "start_time": "2022-03-15T11:51:07.574Z"
   },
   {
    "duration": 45,
    "start_time": "2022-03-15T11:51:07.599Z"
   },
   {
    "duration": 9,
    "start_time": "2022-03-15T11:51:07.645Z"
   },
   {
    "duration": 29,
    "start_time": "2022-03-15T11:51:07.657Z"
   },
   {
    "duration": 53,
    "start_time": "2022-03-15T11:51:07.688Z"
   },
   {
    "duration": 13,
    "start_time": "2022-03-15T11:51:07.745Z"
   },
   {
    "duration": 8,
    "start_time": "2022-03-15T11:51:07.760Z"
   },
   {
    "duration": 6,
    "start_time": "2022-03-15T11:51:07.770Z"
   },
   {
    "duration": 8,
    "start_time": "2022-03-15T11:51:07.780Z"
   },
   {
    "duration": 12,
    "start_time": "2022-03-15T11:51:07.791Z"
   },
   {
    "duration": 11,
    "start_time": "2022-03-15T11:51:07.834Z"
   },
   {
    "duration": 16,
    "start_time": "2022-03-15T11:51:07.848Z"
   },
   {
    "duration": 14,
    "start_time": "2022-03-15T11:51:07.866Z"
   },
   {
    "duration": 53,
    "start_time": "2022-03-15T11:51:07.882Z"
   },
   {
    "duration": 41,
    "start_time": "2022-03-15T11:51:07.941Z"
   },
   {
    "duration": 12,
    "start_time": "2022-03-15T11:51:07.985Z"
   },
   {
    "duration": 43,
    "start_time": "2022-03-15T11:51:07.999Z"
   },
   {
    "duration": 40,
    "start_time": "2022-03-15T11:51:08.044Z"
   },
   {
    "duration": 25,
    "start_time": "2022-03-15T11:51:08.085Z"
   },
   {
    "duration": 27,
    "start_time": "2022-03-15T11:51:08.135Z"
   },
   {
    "duration": 14,
    "start_time": "2022-03-15T11:51:08.164Z"
   },
   {
    "duration": 13,
    "start_time": "2022-03-15T11:51:08.180Z"
   },
   {
    "duration": 54,
    "start_time": "2022-03-15T11:51:08.195Z"
   },
   {
    "duration": 24,
    "start_time": "2022-03-15T11:51:08.251Z"
   },
   {
    "duration": 9,
    "start_time": "2022-03-15T11:51:08.277Z"
   },
   {
    "duration": 5,
    "start_time": "2022-03-15T11:51:08.288Z"
   },
   {
    "duration": 9,
    "start_time": "2022-03-15T11:51:08.295Z"
   },
   {
    "duration": 28,
    "start_time": "2022-03-15T11:51:08.306Z"
   },
   {
    "duration": 290,
    "start_time": "2022-03-15T11:51:08.336Z"
   },
   {
    "duration": 26,
    "start_time": "2022-03-15T12:04:29.220Z"
   },
   {
    "duration": 24,
    "start_time": "2022-03-15T12:05:51.994Z"
   },
   {
    "duration": 18,
    "start_time": "2022-03-15T12:26:53.327Z"
   },
   {
    "duration": 7,
    "start_time": "2022-03-15T12:38:51.114Z"
   },
   {
    "duration": 9,
    "start_time": "2022-03-15T12:44:42.665Z"
   },
   {
    "duration": 382,
    "start_time": "2022-03-15T12:53:12.165Z"
   },
   {
    "duration": 673,
    "start_time": "2022-03-15T12:53:49.180Z"
   },
   {
    "duration": 514,
    "start_time": "2022-03-15T12:53:49.855Z"
   },
   {
    "duration": 16,
    "start_time": "2022-03-15T12:53:50.371Z"
   },
   {
    "duration": 36,
    "start_time": "2022-03-15T12:53:50.390Z"
   },
   {
    "duration": 35,
    "start_time": "2022-03-15T12:53:50.428Z"
   },
   {
    "duration": 58,
    "start_time": "2022-03-15T12:53:50.466Z"
   },
   {
    "duration": 7,
    "start_time": "2022-03-15T12:53:50.526Z"
   },
   {
    "duration": 52,
    "start_time": "2022-03-15T12:53:50.538Z"
   },
   {
    "duration": 10,
    "start_time": "2022-03-15T12:53:50.592Z"
   },
   {
    "duration": 51,
    "start_time": "2022-03-15T12:53:50.604Z"
   },
   {
    "duration": 391,
    "start_time": "2022-03-15T12:53:50.657Z"
   },
   {
    "duration": 15,
    "start_time": "2022-03-15T12:53:51.051Z"
   },
   {
    "duration": 14,
    "start_time": "2022-03-15T12:53:51.068Z"
   },
   {
    "duration": 19,
    "start_time": "2022-03-15T12:53:51.084Z"
   },
   {
    "duration": 31,
    "start_time": "2022-03-15T12:53:51.132Z"
   },
   {
    "duration": 14,
    "start_time": "2022-03-15T12:53:51.164Z"
   },
   {
    "duration": 10,
    "start_time": "2022-03-15T12:53:51.180Z"
   },
   {
    "duration": 63,
    "start_time": "2022-03-15T12:53:51.192Z"
   },
   {
    "duration": 27,
    "start_time": "2022-03-15T12:53:51.257Z"
   },
   {
    "duration": 13,
    "start_time": "2022-03-15T12:53:51.286Z"
   },
   {
    "duration": 33,
    "start_time": "2022-03-15T12:53:51.301Z"
   },
   {
    "duration": 7,
    "start_time": "2022-03-15T12:53:51.336Z"
   },
   {
    "duration": 16,
    "start_time": "2022-03-15T12:53:51.349Z"
   },
   {
    "duration": 15,
    "start_time": "2022-03-15T12:53:51.368Z"
   },
   {
    "duration": 11,
    "start_time": "2022-03-15T12:53:51.385Z"
   },
   {
    "duration": 35,
    "start_time": "2022-03-15T12:53:51.399Z"
   },
   {
    "duration": 30,
    "start_time": "2022-03-15T12:53:51.437Z"
   },
   {
    "duration": 38,
    "start_time": "2022-03-15T12:53:51.470Z"
   },
   {
    "duration": 62,
    "start_time": "2022-03-15T12:53:51.510Z"
   },
   {
    "duration": 9,
    "start_time": "2022-03-15T12:53:51.573Z"
   },
   {
    "duration": 22,
    "start_time": "2022-03-15T12:53:51.584Z"
   },
   {
    "duration": 56,
    "start_time": "2022-03-15T12:53:51.608Z"
   },
   {
    "duration": 25,
    "start_time": "2022-03-15T12:53:51.665Z"
   },
   {
    "duration": 47,
    "start_time": "2022-03-15T12:53:51.692Z"
   },
   {
    "duration": 19,
    "start_time": "2022-03-15T12:53:51.742Z"
   },
   {
    "duration": 17,
    "start_time": "2022-03-15T12:53:51.764Z"
   },
   {
    "duration": 21,
    "start_time": "2022-03-15T12:53:51.783Z"
   },
   {
    "duration": 54,
    "start_time": "2022-03-15T12:53:51.807Z"
   },
   {
    "duration": 10,
    "start_time": "2022-03-15T12:53:51.863Z"
   },
   {
    "duration": 10,
    "start_time": "2022-03-15T12:53:51.875Z"
   },
   {
    "duration": 9,
    "start_time": "2022-03-15T12:53:51.887Z"
   },
   {
    "duration": 34,
    "start_time": "2022-03-15T12:53:51.898Z"
   },
   {
    "duration": 297,
    "start_time": "2022-03-15T12:53:51.934Z"
   },
   {
    "duration": 30,
    "start_time": "2022-03-15T12:53:52.234Z"
   },
   {
    "duration": 18,
    "start_time": "2022-03-15T12:53:52.266Z"
   },
   {
    "duration": 9,
    "start_time": "2022-03-15T12:53:52.286Z"
   },
   {
    "duration": 385,
    "start_time": "2022-03-15T12:53:52.297Z"
   },
   {
    "duration": 345,
    "start_time": "2022-03-15T12:54:59.962Z"
   },
   {
    "duration": 403,
    "start_time": "2022-03-15T12:56:14.396Z"
   },
   {
    "duration": 3,
    "start_time": "2022-03-15T13:15:24.734Z"
   },
   {
    "duration": 14,
    "start_time": "2022-03-15T13:28:30.284Z"
   },
   {
    "duration": 258,
    "start_time": "2022-03-15T13:34:44.704Z"
   },
   {
    "duration": 282,
    "start_time": "2022-03-15T13:34:52.084Z"
   },
   {
    "duration": 333,
    "start_time": "2022-03-15T13:35:46.659Z"
   },
   {
    "duration": 752,
    "start_time": "2022-03-15T13:35:56.419Z"
   },
   {
    "duration": 449,
    "start_time": "2022-03-15T13:35:57.173Z"
   },
   {
    "duration": 17,
    "start_time": "2022-03-15T13:35:57.624Z"
   },
   {
    "duration": 33,
    "start_time": "2022-03-15T13:35:57.643Z"
   },
   {
    "duration": 22,
    "start_time": "2022-03-15T13:35:57.678Z"
   },
   {
    "duration": 54,
    "start_time": "2022-03-15T13:35:57.702Z"
   },
   {
    "duration": 6,
    "start_time": "2022-03-15T13:35:57.758Z"
   },
   {
    "duration": 32,
    "start_time": "2022-03-15T13:35:57.767Z"
   },
   {
    "duration": 31,
    "start_time": "2022-03-15T13:35:57.802Z"
   },
   {
    "duration": 33,
    "start_time": "2022-03-15T13:35:57.835Z"
   },
   {
    "duration": 364,
    "start_time": "2022-03-15T13:35:57.869Z"
   },
   {
    "duration": 11,
    "start_time": "2022-03-15T13:35:58.235Z"
   },
   {
    "duration": 12,
    "start_time": "2022-03-15T13:35:58.248Z"
   },
   {
    "duration": 17,
    "start_time": "2022-03-15T13:35:58.262Z"
   },
   {
    "duration": 51,
    "start_time": "2022-03-15T13:35:58.282Z"
   },
   {
    "duration": 13,
    "start_time": "2022-03-15T13:35:58.335Z"
   },
   {
    "duration": 8,
    "start_time": "2022-03-15T13:35:58.350Z"
   },
   {
    "duration": 18,
    "start_time": "2022-03-15T13:35:58.360Z"
   },
   {
    "duration": 19,
    "start_time": "2022-03-15T13:35:58.380Z"
   },
   {
    "duration": 42,
    "start_time": "2022-03-15T13:35:58.401Z"
   },
   {
    "duration": 10,
    "start_time": "2022-03-15T13:35:58.445Z"
   },
   {
    "duration": 5,
    "start_time": "2022-03-15T13:35:58.458Z"
   },
   {
    "duration": 8,
    "start_time": "2022-03-15T13:35:58.467Z"
   },
   {
    "duration": 13,
    "start_time": "2022-03-15T13:35:58.478Z"
   },
   {
    "duration": 45,
    "start_time": "2022-03-15T13:35:58.495Z"
   },
   {
    "duration": 9,
    "start_time": "2022-03-15T13:35:58.542Z"
   },
   {
    "duration": 14,
    "start_time": "2022-03-15T13:35:58.553Z"
   },
   {
    "duration": 37,
    "start_time": "2022-03-15T13:35:58.569Z"
   },
   {
    "duration": 45,
    "start_time": "2022-03-15T13:35:58.633Z"
   },
   {
    "duration": 10,
    "start_time": "2022-03-15T13:35:58.680Z"
   },
   {
    "duration": 53,
    "start_time": "2022-03-15T13:35:58.691Z"
   },
   {
    "duration": 29,
    "start_time": "2022-03-15T13:35:58.745Z"
   },
   {
    "duration": 25,
    "start_time": "2022-03-15T13:35:58.775Z"
   },
   {
    "duration": 46,
    "start_time": "2022-03-15T13:35:58.803Z"
   },
   {
    "duration": 17,
    "start_time": "2022-03-15T13:35:58.851Z"
   },
   {
    "duration": 18,
    "start_time": "2022-03-15T13:35:58.870Z"
   },
   {
    "duration": 65,
    "start_time": "2022-03-15T13:35:58.890Z"
   },
   {
    "duration": 23,
    "start_time": "2022-03-15T13:35:58.957Z"
   },
   {
    "duration": 9,
    "start_time": "2022-03-15T13:35:58.982Z"
   },
   {
    "duration": 6,
    "start_time": "2022-03-15T13:35:58.993Z"
   },
   {
    "duration": 36,
    "start_time": "2022-03-15T13:35:59.000Z"
   },
   {
    "duration": 10,
    "start_time": "2022-03-15T13:35:59.038Z"
   },
   {
    "duration": 289,
    "start_time": "2022-03-15T13:35:59.051Z"
   },
   {
    "duration": 21,
    "start_time": "2022-03-15T13:35:59.342Z"
   },
   {
    "duration": 16,
    "start_time": "2022-03-15T13:35:59.365Z"
   },
   {
    "duration": 10,
    "start_time": "2022-03-15T13:35:59.383Z"
   },
   {
    "duration": 336,
    "start_time": "2022-03-15T13:35:59.395Z"
   },
   {
    "duration": 382,
    "start_time": "2022-03-15T13:35:59.733Z"
   },
   {
    "duration": 169,
    "start_time": "2022-03-15T13:36:00.118Z"
   },
   {
    "duration": 127,
    "start_time": "2022-03-15T13:36:43.214Z"
   },
   {
    "duration": 18,
    "start_time": "2022-03-15T13:42:51.077Z"
   },
   {
    "duration": 15,
    "start_time": "2022-03-15T13:43:34.721Z"
   },
   {
    "duration": 308,
    "start_time": "2022-03-15T13:48:36.630Z"
   },
   {
    "duration": 299,
    "start_time": "2022-03-15T13:50:31.510Z"
   },
   {
    "duration": 252,
    "start_time": "2022-03-15T13:51:10.248Z"
   },
   {
    "duration": 315,
    "start_time": "2022-03-15T13:51:17.469Z"
   },
   {
    "duration": 2,
    "start_time": "2022-03-15T14:00:45.307Z"
   },
   {
    "duration": 14,
    "start_time": "2022-03-15T14:01:42.706Z"
   },
   {
    "duration": 303,
    "start_time": "2022-03-15T14:02:31.843Z"
   },
   {
    "duration": 237,
    "start_time": "2022-03-15T14:03:54.517Z"
   },
   {
    "duration": 277,
    "start_time": "2022-03-15T14:07:05.212Z"
   },
   {
    "duration": 2322,
    "start_time": "2022-03-15T14:07:15.198Z"
   },
   {
    "duration": 248,
    "start_time": "2022-03-15T14:07:29.372Z"
   },
   {
    "duration": 15,
    "start_time": "2022-03-15T14:13:24.059Z"
   },
   {
    "duration": 274,
    "start_time": "2022-03-15T14:14:26.289Z"
   },
   {
    "duration": 270,
    "start_time": "2022-03-15T14:15:05.456Z"
   },
   {
    "duration": 303,
    "start_time": "2022-03-16T13:05:55.259Z"
   },
   {
    "duration": 145,
    "start_time": "2022-03-16T13:07:04.012Z"
   },
   {
    "duration": 904,
    "start_time": "2022-03-16T13:07:12.031Z"
   },
   {
    "duration": 747,
    "start_time": "2022-03-16T13:07:12.939Z"
   },
   {
    "duration": 30,
    "start_time": "2022-03-16T13:07:13.689Z"
   },
   {
    "duration": 80,
    "start_time": "2022-03-16T13:07:13.722Z"
   },
   {
    "duration": 48,
    "start_time": "2022-03-16T13:07:13.805Z"
   },
   {
    "duration": 70,
    "start_time": "2022-03-16T13:07:13.856Z"
   },
   {
    "duration": 24,
    "start_time": "2022-03-16T13:07:13.929Z"
   },
   {
    "duration": 34,
    "start_time": "2022-03-16T13:07:13.959Z"
   },
   {
    "duration": 12,
    "start_time": "2022-03-16T13:07:13.996Z"
   },
   {
    "duration": 88,
    "start_time": "2022-03-16T13:07:14.011Z"
   },
   {
    "duration": 784,
    "start_time": "2022-03-16T13:07:14.103Z"
   },
   {
    "duration": 13,
    "start_time": "2022-03-16T13:07:14.889Z"
   },
   {
    "duration": 26,
    "start_time": "2022-03-16T13:07:14.905Z"
   },
   {
    "duration": 31,
    "start_time": "2022-03-16T13:07:14.952Z"
   },
   {
    "duration": 65,
    "start_time": "2022-03-16T13:07:14.986Z"
   },
   {
    "duration": 23,
    "start_time": "2022-03-16T13:07:15.054Z"
   },
   {
    "duration": 13,
    "start_time": "2022-03-16T13:07:15.080Z"
   },
   {
    "duration": 58,
    "start_time": "2022-03-16T13:07:15.096Z"
   },
   {
    "duration": 35,
    "start_time": "2022-03-16T13:07:15.157Z"
   },
   {
    "duration": 19,
    "start_time": "2022-03-16T13:07:15.195Z"
   },
   {
    "duration": 37,
    "start_time": "2022-03-16T13:07:15.217Z"
   },
   {
    "duration": 7,
    "start_time": "2022-03-16T13:07:15.256Z"
   },
   {
    "duration": 10,
    "start_time": "2022-03-16T13:07:15.269Z"
   },
   {
    "duration": 16,
    "start_time": "2022-03-16T13:07:15.283Z"
   },
   {
    "duration": 61,
    "start_time": "2022-03-16T13:07:15.302Z"
   },
   {
    "duration": 21,
    "start_time": "2022-03-16T13:07:15.367Z"
   },
   {
    "duration": 11,
    "start_time": "2022-03-16T13:07:15.390Z"
   },
   {
    "duration": 83,
    "start_time": "2022-03-16T13:07:15.404Z"
   },
   {
    "duration": 87,
    "start_time": "2022-03-16T13:07:15.491Z"
   },
   {
    "duration": 17,
    "start_time": "2022-03-16T13:07:15.580Z"
   },
   {
    "duration": 35,
    "start_time": "2022-03-16T13:07:15.599Z"
   },
   {
    "duration": 49,
    "start_time": "2022-03-16T13:07:15.651Z"
   },
   {
    "duration": 66,
    "start_time": "2022-03-16T13:07:15.703Z"
   },
   {
    "duration": 37,
    "start_time": "2022-03-16T13:07:15.772Z"
   },
   {
    "duration": 44,
    "start_time": "2022-03-16T13:07:15.814Z"
   },
   {
    "duration": 27,
    "start_time": "2022-03-16T13:07:15.861Z"
   },
   {
    "duration": 36,
    "start_time": "2022-03-16T13:07:15.891Z"
   },
   {
    "duration": 68,
    "start_time": "2022-03-16T13:07:15.930Z"
   },
   {
    "duration": 17,
    "start_time": "2022-03-16T13:07:16.001Z"
   },
   {
    "duration": 44,
    "start_time": "2022-03-16T13:07:16.021Z"
   },
   {
    "duration": 32,
    "start_time": "2022-03-16T13:07:16.068Z"
   },
   {
    "duration": 28,
    "start_time": "2022-03-16T13:07:16.102Z"
   },
   {
    "duration": 537,
    "start_time": "2022-03-16T13:07:16.133Z"
   },
   {
    "duration": 35,
    "start_time": "2022-03-16T13:07:16.673Z"
   },
   {
    "duration": 58,
    "start_time": "2022-03-16T13:07:16.711Z"
   },
   {
    "duration": 15,
    "start_time": "2022-03-16T13:07:16.772Z"
   },
   {
    "duration": 540,
    "start_time": "2022-03-16T13:07:16.790Z"
   },
   {
    "duration": 729,
    "start_time": "2022-03-16T13:07:17.333Z"
   },
   {
    "duration": 29,
    "start_time": "2022-03-16T13:07:18.066Z"
   },
   {
    "duration": 599,
    "start_time": "2022-03-16T13:07:18.099Z"
   },
   {
    "duration": 606,
    "start_time": "2022-03-16T13:07:18.702Z"
   },
   {
    "duration": 43,
    "start_time": "2022-03-16T13:07:19.312Z"
   },
   {
    "duration": 598,
    "start_time": "2022-03-16T13:07:19.359Z"
   },
   {
    "duration": 370,
    "start_time": "2022-03-16T13:07:19.960Z"
   },
   {
    "duration": 35,
    "start_time": "2022-03-16T13:07:20.333Z"
   },
   {
    "duration": 419,
    "start_time": "2022-03-16T13:07:20.372Z"
   },
   {
    "duration": 450,
    "start_time": "2022-03-16T13:07:20.793Z"
   },
   {
    "duration": 588,
    "start_time": "2022-03-16T13:07:21.251Z"
   },
   {
    "duration": 1973,
    "start_time": "2022-03-16T13:07:19.870Z"
   },
   {
    "duration": 9,
    "start_time": "2022-03-16T13:09:11.252Z"
   },
   {
    "duration": 9,
    "start_time": "2022-03-16T13:10:16.781Z"
   },
   {
    "duration": 187,
    "start_time": "2022-03-16T13:57:51.701Z"
   },
   {
    "duration": 1253,
    "start_time": "2022-03-16T13:58:02.577Z"
   },
   {
    "duration": 518,
    "start_time": "2022-03-16T13:58:03.833Z"
   },
   {
    "duration": 26,
    "start_time": "2022-03-16T13:58:04.354Z"
   },
   {
    "duration": 71,
    "start_time": "2022-03-16T13:58:04.384Z"
   },
   {
    "duration": 31,
    "start_time": "2022-03-16T13:58:04.459Z"
   },
   {
    "duration": 66,
    "start_time": "2022-03-16T13:58:04.493Z"
   },
   {
    "duration": 8,
    "start_time": "2022-03-16T13:58:04.562Z"
   },
   {
    "duration": 42,
    "start_time": "2022-03-16T13:58:04.575Z"
   },
   {
    "duration": 33,
    "start_time": "2022-03-16T13:58:04.620Z"
   },
   {
    "duration": 49,
    "start_time": "2022-03-16T13:58:04.655Z"
   },
   {
    "duration": 664,
    "start_time": "2022-03-16T13:58:04.707Z"
   },
   {
    "duration": 13,
    "start_time": "2022-03-16T13:58:05.375Z"
   },
   {
    "duration": 17,
    "start_time": "2022-03-16T13:58:05.391Z"
   },
   {
    "duration": 63,
    "start_time": "2022-03-16T13:58:05.410Z"
   },
   {
    "duration": 36,
    "start_time": "2022-03-16T13:58:05.475Z"
   },
   {
    "duration": 16,
    "start_time": "2022-03-16T13:58:05.514Z"
   },
   {
    "duration": 14,
    "start_time": "2022-03-16T13:58:05.553Z"
   },
   {
    "duration": 27,
    "start_time": "2022-03-16T13:58:05.570Z"
   },
   {
    "duration": 57,
    "start_time": "2022-03-16T13:58:05.600Z"
   },
   {
    "duration": 17,
    "start_time": "2022-03-16T13:58:05.659Z"
   },
   {
    "duration": 14,
    "start_time": "2022-03-16T13:58:05.679Z"
   },
   {
    "duration": 7,
    "start_time": "2022-03-16T13:58:05.695Z"
   },
   {
    "duration": 9,
    "start_time": "2022-03-16T13:58:05.708Z"
   },
   {
    "duration": 46,
    "start_time": "2022-03-16T13:58:05.721Z"
   },
   {
    "duration": 16,
    "start_time": "2022-03-16T13:58:05.771Z"
   },
   {
    "duration": 12,
    "start_time": "2022-03-16T13:58:05.790Z"
   },
   {
    "duration": 13,
    "start_time": "2022-03-16T13:58:05.804Z"
   },
   {
    "duration": 43,
    "start_time": "2022-03-16T13:58:05.852Z"
   },
   {
    "duration": 80,
    "start_time": "2022-03-16T13:58:05.898Z"
   },
   {
    "duration": 12,
    "start_time": "2022-03-16T13:58:05.980Z"
   },
   {
    "duration": 32,
    "start_time": "2022-03-16T13:58:05.995Z"
   },
   {
    "duration": 55,
    "start_time": "2022-03-16T13:58:06.030Z"
   },
   {
    "duration": 63,
    "start_time": "2022-03-16T13:58:06.088Z"
   },
   {
    "duration": 38,
    "start_time": "2022-03-16T13:58:06.155Z"
   },
   {
    "duration": 29,
    "start_time": "2022-03-16T13:58:06.197Z"
   },
   {
    "duration": 25,
    "start_time": "2022-03-16T13:58:06.252Z"
   },
   {
    "duration": 28,
    "start_time": "2022-03-16T13:58:06.280Z"
   },
   {
    "duration": 68,
    "start_time": "2022-03-16T13:58:06.310Z"
   },
   {
    "duration": 16,
    "start_time": "2022-03-16T13:58:06.382Z"
   },
   {
    "duration": 7,
    "start_time": "2022-03-16T13:58:06.402Z"
   },
   {
    "duration": 46,
    "start_time": "2022-03-16T13:58:06.412Z"
   },
   {
    "duration": 5,
    "start_time": "2022-03-16T13:58:06.462Z"
   },
   {
    "duration": 432,
    "start_time": "2022-03-16T13:58:06.470Z"
   },
   {
    "duration": 49,
    "start_time": "2022-03-16T13:58:06.904Z"
   },
   {
    "duration": 27,
    "start_time": "2022-03-16T13:58:06.955Z"
   },
   {
    "duration": 7,
    "start_time": "2022-03-16T13:58:06.985Z"
   },
   {
    "duration": 460,
    "start_time": "2022-03-16T13:58:06.995Z"
   },
   {
    "duration": 579,
    "start_time": "2022-03-16T13:58:07.458Z"
   },
   {
    "duration": 31,
    "start_time": "2022-03-16T13:58:08.040Z"
   },
   {
    "duration": 374,
    "start_time": "2022-03-16T13:58:08.073Z"
   },
   {
    "duration": 508,
    "start_time": "2022-03-16T13:58:08.450Z"
   },
   {
    "duration": 24,
    "start_time": "2022-03-16T13:58:08.961Z"
   },
   {
    "duration": 438,
    "start_time": "2022-03-16T13:58:08.988Z"
   },
   {
    "duration": 461,
    "start_time": "2022-03-16T13:58:09.429Z"
   },
   {
    "duration": 20,
    "start_time": "2022-03-16T13:58:09.892Z"
   },
   {
    "duration": 497,
    "start_time": "2022-03-16T13:58:09.914Z"
   },
   {
    "duration": 453,
    "start_time": "2022-03-16T13:58:10.415Z"
   },
   {
    "duration": 7,
    "start_time": "2022-03-16T13:58:10.872Z"
   },
   {
    "duration": 9,
    "start_time": "2022-03-16T13:58:10.882Z"
   },
   {
    "duration": 3,
    "start_time": "2022-03-16T13:58:10.893Z"
   },
   {
    "duration": 597,
    "start_time": "2022-03-16T13:58:10.898Z"
   },
   {
    "duration": 695,
    "start_time": "2022-03-16T14:00:26.947Z"
   },
   {
    "duration": 550,
    "start_time": "2022-03-16T14:01:38.693Z"
   },
   {
    "duration": 10,
    "start_time": "2022-03-16T14:06:33.972Z"
   },
   {
    "duration": 8,
    "start_time": "2022-03-16T14:06:55.030Z"
   },
   {
    "duration": 8,
    "start_time": "2022-03-16T14:07:44.737Z"
   },
   {
    "duration": 6,
    "start_time": "2022-03-16T14:08:25.895Z"
   },
   {
    "duration": 3,
    "start_time": "2022-03-16T14:20:10.712Z"
   },
   {
    "duration": 5,
    "start_time": "2022-03-16T14:20:11.823Z"
   },
   {
    "duration": 5,
    "start_time": "2022-03-16T14:20:12.725Z"
   },
   {
    "duration": 11,
    "start_time": "2022-03-16T14:26:01.572Z"
   },
   {
    "duration": 10,
    "start_time": "2022-03-16T14:27:00.716Z"
   },
   {
    "duration": 10,
    "start_time": "2022-03-16T14:29:52.405Z"
   },
   {
    "duration": 8,
    "start_time": "2022-03-16T14:34:58.301Z"
   },
   {
    "duration": 9,
    "start_time": "2022-03-16T14:34:59.493Z"
   },
   {
    "duration": 5,
    "start_time": "2022-03-16T14:47:55.809Z"
   },
   {
    "duration": 6,
    "start_time": "2022-03-16T14:49:28.238Z"
   },
   {
    "duration": 49,
    "start_time": "2022-03-16T14:52:28.121Z"
   },
   {
    "duration": 327,
    "start_time": "2022-03-16T14:59:28.227Z"
   },
   {
    "duration": 357,
    "start_time": "2022-03-16T14:59:43.275Z"
   },
   {
    "duration": 5,
    "start_time": "2022-03-16T15:06:46.749Z"
   },
   {
    "duration": 6,
    "start_time": "2022-03-16T15:06:48.638Z"
   },
   {
    "duration": 7,
    "start_time": "2022-03-16T15:07:32.861Z"
   },
   {
    "duration": 7,
    "start_time": "2022-03-16T15:07:33.976Z"
   },
   {
    "duration": 26,
    "start_time": "2022-03-16T15:29:23.283Z"
   },
   {
    "duration": 25,
    "start_time": "2022-03-16T15:30:55.956Z"
   },
   {
    "duration": 303,
    "start_time": "2022-03-16T15:58:25.225Z"
   },
   {
    "duration": 215,
    "start_time": "2022-03-16T15:58:48.130Z"
   },
   {
    "duration": 107,
    "start_time": "2022-03-16T15:59:02.934Z"
   },
   {
    "duration": 124,
    "start_time": "2022-03-16T16:50:07.129Z"
   },
   {
    "duration": 350,
    "start_time": "2022-03-16T19:07:02.206Z"
   },
   {
    "duration": 1188,
    "start_time": "2022-03-16T19:07:16.418Z"
   },
   {
    "duration": 524,
    "start_time": "2022-03-16T19:07:17.608Z"
   },
   {
    "duration": 21,
    "start_time": "2022-03-16T19:07:18.135Z"
   },
   {
    "duration": 45,
    "start_time": "2022-03-16T19:07:18.159Z"
   },
   {
    "duration": 26,
    "start_time": "2022-03-16T19:07:18.207Z"
   },
   {
    "duration": 64,
    "start_time": "2022-03-16T19:07:18.235Z"
   },
   {
    "duration": 7,
    "start_time": "2022-03-16T19:07:18.301Z"
   },
   {
    "duration": 35,
    "start_time": "2022-03-16T19:07:18.312Z"
   },
   {
    "duration": 39,
    "start_time": "2022-03-16T19:07:18.350Z"
   },
   {
    "duration": 42,
    "start_time": "2022-03-16T19:07:18.391Z"
   },
   {
    "duration": 546,
    "start_time": "2022-03-16T19:07:18.435Z"
   },
   {
    "duration": 14,
    "start_time": "2022-03-16T19:07:18.984Z"
   },
   {
    "duration": 17,
    "start_time": "2022-03-16T19:07:19.001Z"
   },
   {
    "duration": 24,
    "start_time": "2022-03-16T19:07:19.021Z"
   },
   {
    "duration": 69,
    "start_time": "2022-03-16T19:07:19.048Z"
   },
   {
    "duration": 25,
    "start_time": "2022-03-16T19:07:19.119Z"
   },
   {
    "duration": 40,
    "start_time": "2022-03-16T19:07:19.147Z"
   },
   {
    "duration": 31,
    "start_time": "2022-03-16T19:07:19.190Z"
   },
   {
    "duration": 63,
    "start_time": "2022-03-16T19:07:19.224Z"
   },
   {
    "duration": 15,
    "start_time": "2022-03-16T19:07:19.289Z"
   },
   {
    "duration": 15,
    "start_time": "2022-03-16T19:07:19.307Z"
   },
   {
    "duration": 8,
    "start_time": "2022-03-16T19:07:19.324Z"
   },
   {
    "duration": 9,
    "start_time": "2022-03-16T19:07:19.338Z"
   },
   {
    "duration": 44,
    "start_time": "2022-03-16T19:07:19.350Z"
   },
   {
    "duration": 13,
    "start_time": "2022-03-16T19:07:19.396Z"
   },
   {
    "duration": 9,
    "start_time": "2022-03-16T19:07:19.412Z"
   },
   {
    "duration": 9,
    "start_time": "2022-03-16T19:07:19.423Z"
   },
   {
    "duration": 82,
    "start_time": "2022-03-16T19:07:19.435Z"
   },
   {
    "duration": 69,
    "start_time": "2022-03-16T19:07:19.519Z"
   },
   {
    "duration": 12,
    "start_time": "2022-03-16T19:07:19.591Z"
   },
   {
    "duration": 30,
    "start_time": "2022-03-16T19:07:19.605Z"
   },
   {
    "duration": 67,
    "start_time": "2022-03-16T19:07:19.637Z"
   },
   {
    "duration": 32,
    "start_time": "2022-03-16T19:07:19.706Z"
   },
   {
    "duration": 47,
    "start_time": "2022-03-16T19:07:19.741Z"
   },
   {
    "duration": 21,
    "start_time": "2022-03-16T19:07:19.791Z"
   },
   {
    "duration": 22,
    "start_time": "2022-03-16T19:07:19.815Z"
   },
   {
    "duration": 67,
    "start_time": "2022-03-16T19:07:19.840Z"
   },
   {
    "duration": 34,
    "start_time": "2022-03-16T19:07:19.910Z"
   },
   {
    "duration": 42,
    "start_time": "2022-03-16T19:07:19.946Z"
   },
   {
    "duration": 7,
    "start_time": "2022-03-16T19:07:19.991Z"
   },
   {
    "duration": 9,
    "start_time": "2022-03-16T19:07:20.001Z"
   },
   {
    "duration": 8,
    "start_time": "2022-03-16T19:07:20.012Z"
   },
   {
    "duration": 444,
    "start_time": "2022-03-16T19:07:20.023Z"
   },
   {
    "duration": 57,
    "start_time": "2022-03-16T19:07:20.470Z"
   },
   {
    "duration": 189,
    "start_time": "2022-03-16T19:07:20.530Z"
   },
   {
    "duration": 36,
    "start_time": "2022-03-16T19:07:20.723Z"
   },
   {
    "duration": 56,
    "start_time": "2022-03-16T19:07:20.762Z"
   },
   {
    "duration": 850,
    "start_time": "2022-03-16T19:07:20.821Z"
   },
   {
    "duration": 3421,
    "start_time": "2022-03-16T19:07:18.254Z"
   },
   {
    "duration": 3423,
    "start_time": "2022-03-16T19:07:18.263Z"
   },
   {
    "duration": 3416,
    "start_time": "2022-03-16T19:07:18.272Z"
   },
   {
    "duration": 3411,
    "start_time": "2022-03-16T19:07:18.279Z"
   },
   {
    "duration": 3406,
    "start_time": "2022-03-16T19:07:18.286Z"
   },
   {
    "duration": 3400,
    "start_time": "2022-03-16T19:07:18.294Z"
   },
   {
    "duration": 3386,
    "start_time": "2022-03-16T19:07:18.311Z"
   },
   {
    "duration": 3379,
    "start_time": "2022-03-16T19:07:18.320Z"
   },
   {
    "duration": 3374,
    "start_time": "2022-03-16T19:07:18.327Z"
   },
   {
    "duration": 3367,
    "start_time": "2022-03-16T19:07:18.337Z"
   },
   {
    "duration": 3359,
    "start_time": "2022-03-16T19:07:18.347Z"
   },
   {
    "duration": 3350,
    "start_time": "2022-03-16T19:07:18.359Z"
   },
   {
    "duration": 3342,
    "start_time": "2022-03-16T19:07:18.369Z"
   },
   {
    "duration": 3334,
    "start_time": "2022-03-16T19:07:18.378Z"
   },
   {
    "duration": 3330,
    "start_time": "2022-03-16T19:07:18.384Z"
   },
   {
    "duration": 3314,
    "start_time": "2022-03-16T19:07:18.401Z"
   },
   {
    "duration": 3308,
    "start_time": "2022-03-16T19:07:18.409Z"
   },
   {
    "duration": 3301,
    "start_time": "2022-03-16T19:07:18.417Z"
   },
   {
    "duration": 3295,
    "start_time": "2022-03-16T19:07:18.425Z"
   },
   {
    "duration": 3287,
    "start_time": "2022-03-16T19:07:18.434Z"
   },
   {
    "duration": 516,
    "start_time": "2022-03-16T19:07:51.492Z"
   },
   {
    "duration": 1248,
    "start_time": "2022-03-16T20:33:08.053Z"
   },
   {
    "duration": 521,
    "start_time": "2022-03-16T20:33:09.304Z"
   },
   {
    "duration": 20,
    "start_time": "2022-03-16T20:33:09.828Z"
   },
   {
    "duration": 46,
    "start_time": "2022-03-16T20:33:09.851Z"
   },
   {
    "duration": 28,
    "start_time": "2022-03-16T20:33:09.900Z"
   },
   {
    "duration": 62,
    "start_time": "2022-03-16T20:33:09.931Z"
   },
   {
    "duration": 9,
    "start_time": "2022-03-16T20:33:09.996Z"
   },
   {
    "duration": 35,
    "start_time": "2022-03-16T20:33:10.011Z"
   },
   {
    "duration": 47,
    "start_time": "2022-03-16T20:33:10.051Z"
   },
   {
    "duration": 40,
    "start_time": "2022-03-16T20:33:10.101Z"
   },
   {
    "duration": 548,
    "start_time": "2022-03-16T20:33:10.144Z"
   },
   {
    "duration": 14,
    "start_time": "2022-03-16T20:33:10.695Z"
   },
   {
    "duration": 16,
    "start_time": "2022-03-16T20:33:10.711Z"
   },
   {
    "duration": 21,
    "start_time": "2022-03-16T20:33:10.729Z"
   },
   {
    "duration": 61,
    "start_time": "2022-03-16T20:33:10.752Z"
   },
   {
    "duration": 17,
    "start_time": "2022-03-16T20:33:10.815Z"
   },
   {
    "duration": 10,
    "start_time": "2022-03-16T20:33:10.835Z"
   },
   {
    "duration": 52,
    "start_time": "2022-03-16T20:33:10.848Z"
   },
   {
    "duration": 23,
    "start_time": "2022-03-16T20:33:10.903Z"
   },
   {
    "duration": 15,
    "start_time": "2022-03-16T20:33:10.929Z"
   },
   {
    "duration": 43,
    "start_time": "2022-03-16T20:33:10.946Z"
   },
   {
    "duration": 8,
    "start_time": "2022-03-16T20:33:10.991Z"
   },
   {
    "duration": 10,
    "start_time": "2022-03-16T20:33:11.005Z"
   },
   {
    "duration": 15,
    "start_time": "2022-03-16T20:33:11.019Z"
   },
   {
    "duration": 51,
    "start_time": "2022-03-16T20:33:11.036Z"
   },
   {
    "duration": 16,
    "start_time": "2022-03-16T20:33:11.090Z"
   },
   {
    "duration": 15,
    "start_time": "2022-03-16T20:33:11.108Z"
   },
   {
    "duration": 43,
    "start_time": "2022-03-16T20:33:11.125Z"
   },
   {
    "duration": 62,
    "start_time": "2022-03-16T20:33:11.170Z"
   },
   {
    "duration": 12,
    "start_time": "2022-03-16T20:33:11.234Z"
   },
   {
    "duration": 57,
    "start_time": "2022-03-16T20:33:11.249Z"
   },
   {
    "duration": 40,
    "start_time": "2022-03-16T20:33:11.308Z"
   },
   {
    "duration": 51,
    "start_time": "2022-03-16T20:33:11.350Z"
   },
   {
    "duration": 27,
    "start_time": "2022-03-16T20:33:11.404Z"
   },
   {
    "duration": 22,
    "start_time": "2022-03-16T20:33:11.433Z"
   },
   {
    "duration": 50,
    "start_time": "2022-03-16T20:33:11.457Z"
   },
   {
    "duration": 28,
    "start_time": "2022-03-16T20:33:11.509Z"
   },
   {
    "duration": 61,
    "start_time": "2022-03-16T20:33:11.540Z"
   },
   {
    "duration": 14,
    "start_time": "2022-03-16T20:33:11.604Z"
   },
   {
    "duration": 9,
    "start_time": "2022-03-16T20:33:11.621Z"
   },
   {
    "duration": 12,
    "start_time": "2022-03-16T20:33:11.632Z"
   },
   {
    "duration": 45,
    "start_time": "2022-03-16T20:33:11.647Z"
   },
   {
    "duration": 411,
    "start_time": "2022-03-16T20:33:11.695Z"
   },
   {
    "duration": 33,
    "start_time": "2022-03-16T20:33:12.109Z"
   },
   {
    "duration": 151,
    "start_time": "2022-03-16T20:33:12.145Z"
   },
   {
    "duration": 28,
    "start_time": "2022-03-16T20:33:12.299Z"
   },
   {
    "duration": 57,
    "start_time": "2022-03-16T20:33:12.329Z"
   },
   {
    "duration": 619,
    "start_time": "2022-03-16T20:33:12.390Z"
   },
   {
    "duration": 450,
    "start_time": "2022-03-16T20:33:13.012Z"
   },
   {
    "duration": 27,
    "start_time": "2022-03-16T20:33:13.464Z"
   },
   {
    "duration": 409,
    "start_time": "2022-03-16T20:33:13.493Z"
   },
   {
    "duration": 473,
    "start_time": "2022-03-16T20:33:13.904Z"
   },
   {
    "duration": 25,
    "start_time": "2022-03-16T20:33:14.388Z"
   },
   {
    "duration": 406,
    "start_time": "2022-03-16T20:33:14.416Z"
   },
   {
    "duration": 365,
    "start_time": "2022-03-16T20:33:14.824Z"
   },
   {
    "duration": 20,
    "start_time": "2022-03-16T20:33:15.192Z"
   },
   {
    "duration": 474,
    "start_time": "2022-03-16T20:33:15.215Z"
   },
   {
    "duration": 379,
    "start_time": "2022-03-16T20:33:15.692Z"
   },
   {
    "duration": 14,
    "start_time": "2022-03-16T20:33:16.074Z"
   },
   {
    "duration": 15,
    "start_time": "2022-03-16T20:33:16.090Z"
   },
   {
    "duration": 7,
    "start_time": "2022-03-16T20:33:16.108Z"
   },
   {
    "duration": 8,
    "start_time": "2022-03-16T20:33:16.118Z"
   },
   {
    "duration": 8,
    "start_time": "2022-03-16T20:33:16.128Z"
   },
   {
    "duration": 53,
    "start_time": "2022-03-16T20:33:16.139Z"
   },
   {
    "duration": 16,
    "start_time": "2022-03-16T20:33:16.195Z"
   },
   {
    "duration": 11,
    "start_time": "2022-03-16T20:33:16.214Z"
   },
   {
    "duration": 5,
    "start_time": "2022-03-16T20:33:16.228Z"
   },
   {
    "duration": 5,
    "start_time": "2022-03-16T20:33:16.240Z"
   },
   {
    "duration": 4,
    "start_time": "2022-03-27T15:04:08.177Z"
   },
   {
    "duration": 1141,
    "start_time": "2022-03-27T16:14:05.899Z"
   },
   {
    "duration": 563,
    "start_time": "2022-03-27T16:14:07.044Z"
   },
   {
    "duration": 24,
    "start_time": "2022-03-27T16:14:07.610Z"
   },
   {
    "duration": 43,
    "start_time": "2022-03-27T16:14:07.637Z"
   },
   {
    "duration": 38,
    "start_time": "2022-03-27T16:14:07.684Z"
   },
   {
    "duration": 81,
    "start_time": "2022-03-27T16:14:07.725Z"
   },
   {
    "duration": 7,
    "start_time": "2022-03-27T16:14:07.808Z"
   },
   {
    "duration": 60,
    "start_time": "2022-03-27T16:14:07.817Z"
   },
   {
    "duration": 12,
    "start_time": "2022-03-27T16:14:07.879Z"
   },
   {
    "duration": 51,
    "start_time": "2022-03-27T16:14:07.893Z"
   },
   {
    "duration": 751,
    "start_time": "2022-03-27T16:14:07.946Z"
   },
   {
    "duration": 20,
    "start_time": "2022-03-27T16:14:08.700Z"
   },
   {
    "duration": 26,
    "start_time": "2022-03-27T16:14:08.723Z"
   },
   {
    "duration": 30,
    "start_time": "2022-03-27T16:14:08.779Z"
   },
   {
    "duration": 39,
    "start_time": "2022-03-27T16:14:08.812Z"
   },
   {
    "duration": 30,
    "start_time": "2022-03-27T16:14:08.874Z"
   },
   {
    "duration": 26,
    "start_time": "2022-03-27T16:14:08.907Z"
   },
   {
    "duration": 66,
    "start_time": "2022-03-27T16:14:08.936Z"
   },
   {
    "duration": 35,
    "start_time": "2022-03-27T16:14:09.005Z"
   },
   {
    "duration": 40,
    "start_time": "2022-03-27T16:14:09.043Z"
   },
   {
    "duration": 14,
    "start_time": "2022-03-27T16:14:09.086Z"
   },
   {
    "duration": 10,
    "start_time": "2022-03-27T16:14:09.107Z"
   },
   {
    "duration": 30,
    "start_time": "2022-03-27T16:14:09.120Z"
   },
   {
    "duration": 16,
    "start_time": "2022-03-27T16:14:09.175Z"
   },
   {
    "duration": 37,
    "start_time": "2022-03-27T16:14:09.194Z"
   },
   {
    "duration": 34,
    "start_time": "2022-03-27T16:14:09.234Z"
   },
   {
    "duration": 25,
    "start_time": "2022-03-27T16:14:09.270Z"
   },
   {
    "duration": 77,
    "start_time": "2022-03-27T16:14:09.298Z"
   },
   {
    "duration": 50,
    "start_time": "2022-03-27T16:14:09.379Z"
   },
   {
    "duration": 12,
    "start_time": "2022-03-27T16:14:09.431Z"
   },
   {
    "duration": 65,
    "start_time": "2022-03-27T16:14:09.446Z"
   },
   {
    "duration": 68,
    "start_time": "2022-03-27T16:14:09.513Z"
   },
   {
    "duration": 35,
    "start_time": "2022-03-27T16:14:09.584Z"
   },
   {
    "duration": 56,
    "start_time": "2022-03-27T16:14:09.622Z"
   },
   {
    "duration": 30,
    "start_time": "2022-03-27T16:14:09.681Z"
   },
   {
    "duration": 25,
    "start_time": "2022-03-27T16:14:09.714Z"
   },
   {
    "duration": 69,
    "start_time": "2022-03-27T16:14:09.742Z"
   },
   {
    "duration": 33,
    "start_time": "2022-03-27T16:14:09.814Z"
   },
   {
    "duration": 34,
    "start_time": "2022-03-27T16:14:09.875Z"
   },
   {
    "duration": 6,
    "start_time": "2022-03-27T16:14:09.912Z"
   },
   {
    "duration": 14,
    "start_time": "2022-03-27T16:14:09.924Z"
   },
   {
    "duration": 36,
    "start_time": "2022-03-27T16:14:09.940Z"
   },
   {
    "duration": 7,
    "start_time": "2022-03-27T16:14:09.978Z"
   },
   {
    "duration": 423,
    "start_time": "2022-03-27T16:14:09.988Z"
   },
   {
    "duration": 64,
    "start_time": "2022-03-27T16:14:10.415Z"
   },
   {
    "duration": 167,
    "start_time": "2022-03-27T16:14:10.483Z"
   },
   {
    "duration": 39,
    "start_time": "2022-03-27T16:14:10.652Z"
   },
   {
    "duration": 25,
    "start_time": "2022-03-27T16:14:10.693Z"
   },
   {
    "duration": 333,
    "start_time": "2022-03-27T16:14:10.720Z"
   },
   {
    "duration": 318,
    "start_time": "2022-03-27T16:14:11.056Z"
   },
   {
    "duration": 20,
    "start_time": "2022-03-27T16:14:11.376Z"
   },
   {
    "duration": 285,
    "start_time": "2022-03-27T16:14:11.399Z"
   },
   {
    "duration": 290,
    "start_time": "2022-03-27T16:14:11.687Z"
   },
   {
    "duration": 22,
    "start_time": "2022-03-27T16:14:11.980Z"
   },
   {
    "duration": 297,
    "start_time": "2022-03-27T16:14:12.004Z"
   },
   {
    "duration": 251,
    "start_time": "2022-03-27T16:14:12.303Z"
   },
   {
    "duration": 30,
    "start_time": "2022-03-27T16:14:12.556Z"
   },
   {
    "duration": 263,
    "start_time": "2022-03-27T16:14:12.589Z"
   },
   {
    "duration": 354,
    "start_time": "2022-03-27T16:14:12.854Z"
   },
   {
    "duration": 9,
    "start_time": "2022-03-27T16:14:13.210Z"
   },
   {
    "duration": 16,
    "start_time": "2022-03-27T16:14:13.221Z"
   },
   {
    "duration": 33,
    "start_time": "2022-03-27T16:14:13.240Z"
   },
   {
    "duration": 11,
    "start_time": "2022-03-27T16:14:13.275Z"
   },
   {
    "duration": 20,
    "start_time": "2022-03-27T16:14:13.290Z"
   },
   {
    "duration": 20,
    "start_time": "2022-03-27T16:14:13.312Z"
   },
   {
    "duration": 12,
    "start_time": "2022-03-27T16:14:13.334Z"
   },
   {
    "duration": 19,
    "start_time": "2022-03-27T16:14:13.349Z"
   },
   {
    "duration": 15,
    "start_time": "2022-03-27T16:14:13.370Z"
   },
   {
    "duration": 20,
    "start_time": "2022-03-27T16:14:13.387Z"
   },
   {
    "duration": 123,
    "start_time": "2022-03-28T14:29:42.983Z"
   },
   {
    "duration": 65,
    "start_time": "2022-03-28T14:46:31.203Z"
   },
   {
    "duration": 1641,
    "start_time": "2022-03-28T14:47:44.124Z"
   },
   {
    "duration": 449,
    "start_time": "2022-03-28T14:47:45.768Z"
   },
   {
    "duration": 17,
    "start_time": "2022-03-28T14:47:46.219Z"
   },
   {
    "duration": 61,
    "start_time": "2022-03-28T14:47:46.239Z"
   },
   {
    "duration": 36,
    "start_time": "2022-03-28T14:47:46.302Z"
   },
   {
    "duration": 71,
    "start_time": "2022-03-28T14:47:46.341Z"
   },
   {
    "duration": 7,
    "start_time": "2022-03-28T14:47:46.414Z"
   },
   {
    "duration": 59,
    "start_time": "2022-03-28T14:47:46.423Z"
   },
   {
    "duration": 13,
    "start_time": "2022-03-28T14:47:46.484Z"
   },
   {
    "duration": 51,
    "start_time": "2022-03-28T14:47:46.500Z"
   },
   {
    "duration": 294,
    "start_time": "2022-03-28T14:47:46.553Z"
   },
   {
    "duration": 15,
    "start_time": "2022-03-28T14:47:46.849Z"
   },
   {
    "duration": 26,
    "start_time": "2022-03-28T14:47:46.868Z"
   },
   {
    "duration": 28,
    "start_time": "2022-03-28T14:47:46.897Z"
   },
   {
    "duration": 60,
    "start_time": "2022-03-28T14:47:46.928Z"
   },
   {
    "duration": 22,
    "start_time": "2022-03-28T14:47:46.990Z"
   },
   {
    "duration": 9,
    "start_time": "2022-03-28T14:47:47.015Z"
   },
   {
    "duration": 26,
    "start_time": "2022-03-28T14:47:47.026Z"
   },
   {
    "duration": 26,
    "start_time": "2022-03-28T14:47:47.082Z"
   },
   {
    "duration": 20,
    "start_time": "2022-03-28T14:47:47.110Z"
   },
   {
    "duration": 11,
    "start_time": "2022-03-28T14:47:47.132Z"
   },
   {
    "duration": 40,
    "start_time": "2022-03-28T14:47:47.144Z"
   },
   {
    "duration": 24,
    "start_time": "2022-03-28T14:47:47.186Z"
   },
   {
    "duration": 21,
    "start_time": "2022-03-28T14:47:47.212Z"
   },
   {
    "duration": 19,
    "start_time": "2022-03-28T14:47:47.236Z"
   },
   {
    "duration": 12,
    "start_time": "2022-03-28T14:47:47.257Z"
   },
   {
    "duration": 15,
    "start_time": "2022-03-28T14:47:47.282Z"
   },
   {
    "duration": 43,
    "start_time": "2022-03-28T14:47:47.304Z"
   },
   {
    "duration": 62,
    "start_time": "2022-03-28T14:47:47.349Z"
   },
   {
    "duration": 11,
    "start_time": "2022-03-28T14:47:47.413Z"
   },
   {
    "duration": 31,
    "start_time": "2022-03-28T14:47:47.427Z"
   },
   {
    "duration": 45,
    "start_time": "2022-03-28T14:47:47.461Z"
   },
   {
    "duration": 30,
    "start_time": "2022-03-28T14:47:47.509Z"
   },
   {
    "duration": 49,
    "start_time": "2022-03-28T14:47:47.541Z"
   },
   {
    "duration": 23,
    "start_time": "2022-03-28T14:47:47.592Z"
   },
   {
    "duration": 21,
    "start_time": "2022-03-28T14:47:47.617Z"
   },
   {
    "duration": 59,
    "start_time": "2022-03-28T14:47:47.639Z"
   },
   {
    "duration": 31,
    "start_time": "2022-03-28T14:47:47.700Z"
   },
   {
    "duration": 20,
    "start_time": "2022-03-28T14:47:47.733Z"
   },
   {
    "duration": 6,
    "start_time": "2022-03-28T14:47:47.782Z"
   },
   {
    "duration": 24,
    "start_time": "2022-03-28T14:47:47.790Z"
   },
   {
    "duration": 11,
    "start_time": "2022-03-28T14:47:47.816Z"
   },
   {
    "duration": 7,
    "start_time": "2022-03-28T14:47:47.829Z"
   },
   {
    "duration": 49,
    "start_time": "2022-03-28T14:47:47.838Z"
   },
   {
    "duration": 6,
    "start_time": "2022-03-28T14:47:47.890Z"
   },
   {
    "duration": 12,
    "start_time": "2022-03-28T14:47:47.898Z"
   },
   {
    "duration": 5,
    "start_time": "2022-03-28T14:47:47.913Z"
   },
   {
    "duration": 236,
    "start_time": "2022-03-28T14:47:47.920Z"
   },
   {
    "duration": 47,
    "start_time": "2022-03-28T14:47:48.158Z"
   },
   {
    "duration": 315,
    "start_time": "2022-03-28T14:47:48.208Z"
   },
   {
    "duration": 121,
    "start_time": "2022-03-28T14:47:48.526Z"
   },
   {
    "duration": 38,
    "start_time": "2022-03-28T14:47:48.650Z"
   },
   {
    "duration": 22,
    "start_time": "2022-03-28T14:47:48.691Z"
   },
   {
    "duration": 331,
    "start_time": "2022-03-28T14:47:48.715Z"
   },
   {
    "duration": 292,
    "start_time": "2022-03-28T14:47:49.048Z"
   },
   {
    "duration": 544,
    "start_time": "2022-03-28T14:47:49.343Z"
   },
   {
    "duration": 21,
    "start_time": "2022-03-28T14:47:49.890Z"
   },
   {
    "duration": 337,
    "start_time": "2022-03-28T14:47:49.914Z"
   },
   {
    "duration": 275,
    "start_time": "2022-03-28T14:47:50.253Z"
   },
   {
    "duration": 20,
    "start_time": "2022-03-28T14:47:50.530Z"
   },
   {
    "duration": 289,
    "start_time": "2022-03-28T14:47:50.552Z"
   },
   {
    "duration": 243,
    "start_time": "2022-03-28T14:47:50.844Z"
   },
   {
    "duration": 19,
    "start_time": "2022-03-28T14:47:51.090Z"
   },
   {
    "duration": 270,
    "start_time": "2022-03-28T14:47:51.112Z"
   },
   {
    "duration": 260,
    "start_time": "2022-03-28T14:47:51.384Z"
   },
   {
    "duration": 9,
    "start_time": "2022-03-28T14:47:51.647Z"
   },
   {
    "duration": 27,
    "start_time": "2022-03-28T14:47:51.659Z"
   },
   {
    "duration": 10,
    "start_time": "2022-03-28T14:47:51.688Z"
   },
   {
    "duration": 7,
    "start_time": "2022-03-28T14:47:51.700Z"
   },
   {
    "duration": 10,
    "start_time": "2022-03-28T14:47:51.709Z"
   },
   {
    "duration": 11,
    "start_time": "2022-03-28T14:47:51.721Z"
   },
   {
    "duration": 8,
    "start_time": "2022-03-28T14:47:51.734Z"
   },
   {
    "duration": 41,
    "start_time": "2022-03-28T14:47:51.744Z"
   },
   {
    "duration": 4,
    "start_time": "2022-03-28T14:47:51.787Z"
   },
   {
    "duration": 8,
    "start_time": "2022-03-28T14:47:51.794Z"
   },
   {
    "duration": 1166,
    "start_time": "2023-02-06T10:44:07.909Z"
   },
   {
    "duration": 1028,
    "start_time": "2023-02-06T10:44:09.081Z"
   },
   {
    "duration": 14,
    "start_time": "2023-02-06T10:44:10.111Z"
   },
   {
    "duration": 33,
    "start_time": "2023-02-06T10:44:10.127Z"
   },
   {
    "duration": 30,
    "start_time": "2023-02-06T10:44:10.162Z"
   },
   {
    "duration": 32,
    "start_time": "2023-02-06T10:44:10.193Z"
   },
   {
    "duration": 4,
    "start_time": "2023-02-06T10:44:10.227Z"
   },
   {
    "duration": 42,
    "start_time": "2023-02-06T10:44:10.233Z"
   },
   {
    "duration": 13,
    "start_time": "2023-02-06T10:44:10.277Z"
   },
   {
    "duration": 29,
    "start_time": "2023-02-06T10:44:10.293Z"
   },
   {
    "duration": 244,
    "start_time": "2023-02-06T10:44:10.323Z"
   },
   {
    "duration": 14,
    "start_time": "2023-02-06T10:44:10.569Z"
   },
   {
    "duration": 14,
    "start_time": "2023-02-06T10:44:10.585Z"
   },
   {
    "duration": 21,
    "start_time": "2023-02-06T10:44:10.601Z"
   },
   {
    "duration": 60,
    "start_time": "2023-02-06T10:44:10.624Z"
   },
   {
    "duration": 28,
    "start_time": "2023-02-06T10:44:10.687Z"
   },
   {
    "duration": 10,
    "start_time": "2023-02-06T10:44:10.717Z"
   },
   {
    "duration": 41,
    "start_time": "2023-02-06T10:44:10.729Z"
   },
   {
    "duration": 35,
    "start_time": "2023-02-06T10:44:10.773Z"
   },
   {
    "duration": 18,
    "start_time": "2023-02-06T10:44:10.810Z"
   },
   {
    "duration": 25,
    "start_time": "2023-02-06T10:44:10.830Z"
   },
   {
    "duration": 4,
    "start_time": "2023-02-06T10:44:10.857Z"
   },
   {
    "duration": 26,
    "start_time": "2023-02-06T10:44:10.864Z"
   },
   {
    "duration": 16,
    "start_time": "2023-02-06T10:44:10.892Z"
   },
   {
    "duration": 12,
    "start_time": "2023-02-06T10:44:10.909Z"
   },
   {
    "duration": 7,
    "start_time": "2023-02-06T10:44:10.923Z"
   },
   {
    "duration": 25,
    "start_time": "2023-02-06T10:44:10.931Z"
   },
   {
    "duration": 34,
    "start_time": "2023-02-06T10:44:10.962Z"
   },
   {
    "duration": 35,
    "start_time": "2023-02-06T10:44:10.997Z"
   },
   {
    "duration": 9,
    "start_time": "2023-02-06T10:44:11.053Z"
   },
   {
    "duration": 38,
    "start_time": "2023-02-06T10:44:11.064Z"
   },
   {
    "duration": 26,
    "start_time": "2023-02-06T10:44:11.104Z"
   },
   {
    "duration": 43,
    "start_time": "2023-02-06T10:44:11.132Z"
   },
   {
    "duration": 22,
    "start_time": "2023-02-06T10:44:11.177Z"
   },
   {
    "duration": 15,
    "start_time": "2023-02-06T10:44:11.201Z"
   },
   {
    "duration": 54,
    "start_time": "2023-02-06T10:44:11.218Z"
   },
   {
    "duration": 20,
    "start_time": "2023-02-06T10:44:11.274Z"
   },
   {
    "duration": 20,
    "start_time": "2023-02-06T10:44:11.297Z"
   },
   {
    "duration": 40,
    "start_time": "2023-02-06T10:44:11.319Z"
   },
   {
    "duration": 30,
    "start_time": "2023-02-06T10:44:11.362Z"
   },
   {
    "duration": 10,
    "start_time": "2023-02-06T10:44:11.394Z"
   },
   {
    "duration": 10,
    "start_time": "2023-02-06T10:44:11.406Z"
   },
   {
    "duration": 20,
    "start_time": "2023-02-06T10:44:11.418Z"
   },
   {
    "duration": 15,
    "start_time": "2023-02-06T10:44:11.441Z"
   },
   {
    "duration": 48,
    "start_time": "2023-02-06T10:44:11.458Z"
   },
   {
    "duration": 17,
    "start_time": "2023-02-06T10:44:11.509Z"
   },
   {
    "duration": 204,
    "start_time": "2023-02-06T10:44:11.528Z"
   },
   {
    "duration": 43,
    "start_time": "2023-02-06T10:44:11.734Z"
   },
   {
    "duration": 232,
    "start_time": "2023-02-06T10:44:11.779Z"
   },
   {
    "duration": 97,
    "start_time": "2023-02-06T10:44:12.013Z"
   },
   {
    "duration": 17,
    "start_time": "2023-02-06T10:44:12.112Z"
   },
   {
    "duration": 38,
    "start_time": "2023-02-06T10:44:12.130Z"
   },
   {
    "duration": 241,
    "start_time": "2023-02-06T10:44:12.170Z"
   },
   {
    "duration": 220,
    "start_time": "2023-02-06T10:44:12.413Z"
   },
   {
    "duration": 381,
    "start_time": "2023-02-06T10:44:12.635Z"
   },
   {
    "duration": 54,
    "start_time": "2023-02-06T10:44:13.019Z"
   },
   {
    "duration": 301,
    "start_time": "2023-02-06T10:44:13.076Z"
   },
   {
    "duration": 230,
    "start_time": "2023-02-06T10:44:13.380Z"
   },
   {
    "duration": 13,
    "start_time": "2023-02-06T10:44:13.612Z"
   },
   {
    "duration": 196,
    "start_time": "2023-02-06T10:44:13.627Z"
   },
   {
    "duration": 159,
    "start_time": "2023-02-06T10:44:13.825Z"
   },
   {
    "duration": 12,
    "start_time": "2023-02-06T10:44:13.986Z"
   },
   {
    "duration": 189,
    "start_time": "2023-02-06T10:44:14.000Z"
   },
   {
    "duration": 171,
    "start_time": "2023-02-06T10:44:14.191Z"
   },
   {
    "duration": 7,
    "start_time": "2023-02-06T10:44:14.364Z"
   },
   {
    "duration": 9,
    "start_time": "2023-02-06T10:44:14.373Z"
   },
   {
    "duration": 19,
    "start_time": "2023-02-06T10:44:14.384Z"
   },
   {
    "duration": 6,
    "start_time": "2023-02-06T10:44:14.405Z"
   },
   {
    "duration": 6,
    "start_time": "2023-02-06T10:44:14.413Z"
   },
   {
    "duration": 11,
    "start_time": "2023-02-06T10:44:14.421Z"
   },
   {
    "duration": 9,
    "start_time": "2023-02-06T10:44:14.455Z"
   },
   {
    "duration": 19,
    "start_time": "2023-02-06T10:44:14.466Z"
   },
   {
    "duration": 11,
    "start_time": "2023-02-06T10:44:14.487Z"
   },
   {
    "duration": 6,
    "start_time": "2023-02-06T10:44:14.499Z"
   }
  ],
  "kernelspec": {
   "display_name": "Python 3 (ipykernel)",
   "language": "python",
   "name": "python3"
  },
  "language_info": {
   "codemirror_mode": {
    "name": "ipython",
    "version": 3
   },
   "file_extension": ".py",
   "mimetype": "text/x-python",
   "name": "python",
   "nbconvert_exporter": "python",
   "pygments_lexer": "ipython3",
   "version": "3.9.5"
  },
  "toc": {
   "base_numbering": "1",
   "nav_menu": {},
   "number_sections": true,
   "sideBar": true,
   "skip_h1_title": true,
   "title_cell": "Содержание",
   "title_sidebar": "Contents",
   "toc_cell": true,
   "toc_position": {
    "height": "calc(100% - 180px)",
    "left": "10px",
    "top": "150px",
    "width": "188.825px"
   },
   "toc_section_display": true,
   "toc_window_display": true
  }
 },
 "nbformat": 4,
 "nbformat_minor": 2
}
