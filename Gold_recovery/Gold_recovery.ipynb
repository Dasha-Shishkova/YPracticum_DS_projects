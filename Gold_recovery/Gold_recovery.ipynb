{
 "cells": [
  {
   "cell_type": "markdown",
   "metadata": {},
   "source": [
    "## Подготовка данных"
   ]
  },
  {
   "cell_type": "markdown",
   "metadata": {},
   "source": [
    "### Загрузка и изучение данных"
   ]
  },
  {
   "cell_type": "code",
   "execution_count": 1,
   "metadata": {},
   "outputs": [],
   "source": [
    "import pandas as pd\n",
    "from sklearn.metrics import mean_absolute_error\n",
    "import numpy as np\n",
    "import matplotlib.pyplot as plt\n",
    "import warnings\n",
    "from pandas.core.common import SettingWithCopyWarning\n",
    "\n",
    "warnings.simplefilter(action=\"ignore\", category=SettingWithCopyWarning)\n",
    "from sklearn.metrics import make_scorer\n",
    "from sklearn.tree import DecisionTreeRegressor\n",
    "from sklearn.ensemble import RandomForestRegressor\n",
    "from sklearn.linear_model import LinearRegression\n",
    "from sklearn.model_selection import cross_val_score\n",
    "from sklearn.model_selection import GridSearchCV\n",
    "from sklearn.dummy import DummyRegressor\n",
    "from catboost import CatBoostRegressor"
   ]
  },
  {
   "cell_type": "code",
   "execution_count": 2,
   "metadata": {},
   "outputs": [],
   "source": [
    "train = pd.read_csv('/datasets/gold_recovery_train_new.csv')\n",
    "test = pd.read_csv('/datasets/gold_recovery_test_new.csv')\n",
    "full = pd.read_csv('/datasets/gold_recovery_full_new.csv')"
   ]
  },
  {
   "cell_type": "code",
   "execution_count": 3,
   "metadata": {},
   "outputs": [
    {
     "data": {
      "text/html": [
       "<div>\n",
       "<style scoped>\n",
       "    .dataframe tbody tr th:only-of-type {\n",
       "        vertical-align: middle;\n",
       "    }\n",
       "\n",
       "    .dataframe tbody tr th {\n",
       "        vertical-align: top;\n",
       "    }\n",
       "\n",
       "    .dataframe thead th {\n",
       "        text-align: right;\n",
       "    }\n",
       "</style>\n",
       "<table border=\"1\" class=\"dataframe\">\n",
       "  <thead>\n",
       "    <tr style=\"text-align: right;\">\n",
       "      <th></th>\n",
       "      <th>date</th>\n",
       "      <th>final.output.concentrate_ag</th>\n",
       "      <th>final.output.concentrate_pb</th>\n",
       "      <th>final.output.concentrate_sol</th>\n",
       "      <th>final.output.concentrate_au</th>\n",
       "      <th>final.output.recovery</th>\n",
       "      <th>final.output.tail_ag</th>\n",
       "      <th>final.output.tail_pb</th>\n",
       "      <th>final.output.tail_sol</th>\n",
       "      <th>final.output.tail_au</th>\n",
       "      <th>...</th>\n",
       "      <th>secondary_cleaner.state.floatbank4_a_air</th>\n",
       "      <th>secondary_cleaner.state.floatbank4_a_level</th>\n",
       "      <th>secondary_cleaner.state.floatbank4_b_air</th>\n",
       "      <th>secondary_cleaner.state.floatbank4_b_level</th>\n",
       "      <th>secondary_cleaner.state.floatbank5_a_air</th>\n",
       "      <th>secondary_cleaner.state.floatbank5_a_level</th>\n",
       "      <th>secondary_cleaner.state.floatbank5_b_air</th>\n",
       "      <th>secondary_cleaner.state.floatbank5_b_level</th>\n",
       "      <th>secondary_cleaner.state.floatbank6_a_air</th>\n",
       "      <th>secondary_cleaner.state.floatbank6_a_level</th>\n",
       "    </tr>\n",
       "  </thead>\n",
       "  <tbody>\n",
       "    <tr>\n",
       "      <th>0</th>\n",
       "      <td>2016-01-15 00:00:00</td>\n",
       "      <td>6.055403</td>\n",
       "      <td>9.889648</td>\n",
       "      <td>5.507324</td>\n",
       "      <td>42.192020</td>\n",
       "      <td>70.541216</td>\n",
       "      <td>10.411962</td>\n",
       "      <td>0.895447</td>\n",
       "      <td>16.904297</td>\n",
       "      <td>2.143149</td>\n",
       "      <td>...</td>\n",
       "      <td>14.016835</td>\n",
       "      <td>-502.488007</td>\n",
       "      <td>12.099931</td>\n",
       "      <td>-504.715942</td>\n",
       "      <td>9.925633</td>\n",
       "      <td>-498.310211</td>\n",
       "      <td>8.079666</td>\n",
       "      <td>-500.470978</td>\n",
       "      <td>14.151341</td>\n",
       "      <td>-605.841980</td>\n",
       "    </tr>\n",
       "    <tr>\n",
       "      <th>1</th>\n",
       "      <td>2016-01-15 01:00:00</td>\n",
       "      <td>6.029369</td>\n",
       "      <td>9.968944</td>\n",
       "      <td>5.257781</td>\n",
       "      <td>42.701629</td>\n",
       "      <td>69.266198</td>\n",
       "      <td>10.462676</td>\n",
       "      <td>0.927452</td>\n",
       "      <td>16.634514</td>\n",
       "      <td>2.224930</td>\n",
       "      <td>...</td>\n",
       "      <td>13.992281</td>\n",
       "      <td>-505.503262</td>\n",
       "      <td>11.950531</td>\n",
       "      <td>-501.331529</td>\n",
       "      <td>10.039245</td>\n",
       "      <td>-500.169983</td>\n",
       "      <td>7.984757</td>\n",
       "      <td>-500.582168</td>\n",
       "      <td>13.998353</td>\n",
       "      <td>-599.787184</td>\n",
       "    </tr>\n",
       "    <tr>\n",
       "      <th>2</th>\n",
       "      <td>2016-01-15 02:00:00</td>\n",
       "      <td>6.055926</td>\n",
       "      <td>10.213995</td>\n",
       "      <td>5.383759</td>\n",
       "      <td>42.657501</td>\n",
       "      <td>68.116445</td>\n",
       "      <td>10.507046</td>\n",
       "      <td>0.953716</td>\n",
       "      <td>16.208849</td>\n",
       "      <td>2.257889</td>\n",
       "      <td>...</td>\n",
       "      <td>14.015015</td>\n",
       "      <td>-502.520901</td>\n",
       "      <td>11.912783</td>\n",
       "      <td>-501.133383</td>\n",
       "      <td>10.070913</td>\n",
       "      <td>-500.129135</td>\n",
       "      <td>8.013877</td>\n",
       "      <td>-500.517572</td>\n",
       "      <td>14.028663</td>\n",
       "      <td>-601.427363</td>\n",
       "    </tr>\n",
       "    <tr>\n",
       "      <th>3</th>\n",
       "      <td>2016-01-15 03:00:00</td>\n",
       "      <td>6.047977</td>\n",
       "      <td>9.977019</td>\n",
       "      <td>4.858634</td>\n",
       "      <td>42.689819</td>\n",
       "      <td>68.347543</td>\n",
       "      <td>10.422762</td>\n",
       "      <td>0.883763</td>\n",
       "      <td>16.532835</td>\n",
       "      <td>2.146849</td>\n",
       "      <td>...</td>\n",
       "      <td>14.036510</td>\n",
       "      <td>-500.857308</td>\n",
       "      <td>11.999550</td>\n",
       "      <td>-501.193686</td>\n",
       "      <td>9.970366</td>\n",
       "      <td>-499.201640</td>\n",
       "      <td>7.977324</td>\n",
       "      <td>-500.255908</td>\n",
       "      <td>14.005551</td>\n",
       "      <td>-599.996129</td>\n",
       "    </tr>\n",
       "    <tr>\n",
       "      <th>4</th>\n",
       "      <td>2016-01-15 04:00:00</td>\n",
       "      <td>6.148599</td>\n",
       "      <td>10.142511</td>\n",
       "      <td>4.939416</td>\n",
       "      <td>42.774141</td>\n",
       "      <td>66.927016</td>\n",
       "      <td>10.360302</td>\n",
       "      <td>0.792826</td>\n",
       "      <td>16.525686</td>\n",
       "      <td>2.055292</td>\n",
       "      <td>...</td>\n",
       "      <td>14.027298</td>\n",
       "      <td>-499.838632</td>\n",
       "      <td>11.953070</td>\n",
       "      <td>-501.053894</td>\n",
       "      <td>9.925709</td>\n",
       "      <td>-501.686727</td>\n",
       "      <td>7.894242</td>\n",
       "      <td>-500.356035</td>\n",
       "      <td>13.996647</td>\n",
       "      <td>-601.496691</td>\n",
       "    </tr>\n",
       "  </tbody>\n",
       "</table>\n",
       "<p>5 rows × 87 columns</p>\n",
       "</div>"
      ],
      "text/plain": [
       "                  date  final.output.concentrate_ag  \\\n",
       "0  2016-01-15 00:00:00                     6.055403   \n",
       "1  2016-01-15 01:00:00                     6.029369   \n",
       "2  2016-01-15 02:00:00                     6.055926   \n",
       "3  2016-01-15 03:00:00                     6.047977   \n",
       "4  2016-01-15 04:00:00                     6.148599   \n",
       "\n",
       "   final.output.concentrate_pb  final.output.concentrate_sol  \\\n",
       "0                     9.889648                      5.507324   \n",
       "1                     9.968944                      5.257781   \n",
       "2                    10.213995                      5.383759   \n",
       "3                     9.977019                      4.858634   \n",
       "4                    10.142511                      4.939416   \n",
       "\n",
       "   final.output.concentrate_au  final.output.recovery  final.output.tail_ag  \\\n",
       "0                    42.192020              70.541216             10.411962   \n",
       "1                    42.701629              69.266198             10.462676   \n",
       "2                    42.657501              68.116445             10.507046   \n",
       "3                    42.689819              68.347543             10.422762   \n",
       "4                    42.774141              66.927016             10.360302   \n",
       "\n",
       "   final.output.tail_pb  final.output.tail_sol  final.output.tail_au  ...  \\\n",
       "0              0.895447              16.904297              2.143149  ...   \n",
       "1              0.927452              16.634514              2.224930  ...   \n",
       "2              0.953716              16.208849              2.257889  ...   \n",
       "3              0.883763              16.532835              2.146849  ...   \n",
       "4              0.792826              16.525686              2.055292  ...   \n",
       "\n",
       "   secondary_cleaner.state.floatbank4_a_air  \\\n",
       "0                                 14.016835   \n",
       "1                                 13.992281   \n",
       "2                                 14.015015   \n",
       "3                                 14.036510   \n",
       "4                                 14.027298   \n",
       "\n",
       "   secondary_cleaner.state.floatbank4_a_level  \\\n",
       "0                                 -502.488007   \n",
       "1                                 -505.503262   \n",
       "2                                 -502.520901   \n",
       "3                                 -500.857308   \n",
       "4                                 -499.838632   \n",
       "\n",
       "   secondary_cleaner.state.floatbank4_b_air  \\\n",
       "0                                 12.099931   \n",
       "1                                 11.950531   \n",
       "2                                 11.912783   \n",
       "3                                 11.999550   \n",
       "4                                 11.953070   \n",
       "\n",
       "   secondary_cleaner.state.floatbank4_b_level  \\\n",
       "0                                 -504.715942   \n",
       "1                                 -501.331529   \n",
       "2                                 -501.133383   \n",
       "3                                 -501.193686   \n",
       "4                                 -501.053894   \n",
       "\n",
       "   secondary_cleaner.state.floatbank5_a_air  \\\n",
       "0                                  9.925633   \n",
       "1                                 10.039245   \n",
       "2                                 10.070913   \n",
       "3                                  9.970366   \n",
       "4                                  9.925709   \n",
       "\n",
       "   secondary_cleaner.state.floatbank5_a_level  \\\n",
       "0                                 -498.310211   \n",
       "1                                 -500.169983   \n",
       "2                                 -500.129135   \n",
       "3                                 -499.201640   \n",
       "4                                 -501.686727   \n",
       "\n",
       "   secondary_cleaner.state.floatbank5_b_air  \\\n",
       "0                                  8.079666   \n",
       "1                                  7.984757   \n",
       "2                                  8.013877   \n",
       "3                                  7.977324   \n",
       "4                                  7.894242   \n",
       "\n",
       "   secondary_cleaner.state.floatbank5_b_level  \\\n",
       "0                                 -500.470978   \n",
       "1                                 -500.582168   \n",
       "2                                 -500.517572   \n",
       "3                                 -500.255908   \n",
       "4                                 -500.356035   \n",
       "\n",
       "   secondary_cleaner.state.floatbank6_a_air  \\\n",
       "0                                 14.151341   \n",
       "1                                 13.998353   \n",
       "2                                 14.028663   \n",
       "3                                 14.005551   \n",
       "4                                 13.996647   \n",
       "\n",
       "   secondary_cleaner.state.floatbank6_a_level  \n",
       "0                                 -605.841980  \n",
       "1                                 -599.787184  \n",
       "2                                 -601.427363  \n",
       "3                                 -599.996129  \n",
       "4                                 -601.496691  \n",
       "\n",
       "[5 rows x 87 columns]"
      ]
     },
     "execution_count": 3,
     "metadata": {},
     "output_type": "execute_result"
    }
   ],
   "source": [
    "train.head()"
   ]
  },
  {
   "cell_type": "code",
   "execution_count": 4,
   "metadata": {},
   "outputs": [
    {
     "data": {
      "text/html": [
       "<div>\n",
       "<style scoped>\n",
       "    .dataframe tbody tr th:only-of-type {\n",
       "        vertical-align: middle;\n",
       "    }\n",
       "\n",
       "    .dataframe tbody tr th {\n",
       "        vertical-align: top;\n",
       "    }\n",
       "\n",
       "    .dataframe thead th {\n",
       "        text-align: right;\n",
       "    }\n",
       "</style>\n",
       "<table border=\"1\" class=\"dataframe\">\n",
       "  <thead>\n",
       "    <tr style=\"text-align: right;\">\n",
       "      <th></th>\n",
       "      <th>date</th>\n",
       "      <th>primary_cleaner.input.sulfate</th>\n",
       "      <th>primary_cleaner.input.depressant</th>\n",
       "      <th>primary_cleaner.input.feed_size</th>\n",
       "      <th>primary_cleaner.input.xanthate</th>\n",
       "      <th>primary_cleaner.state.floatbank8_a_air</th>\n",
       "      <th>primary_cleaner.state.floatbank8_a_level</th>\n",
       "      <th>primary_cleaner.state.floatbank8_b_air</th>\n",
       "      <th>primary_cleaner.state.floatbank8_b_level</th>\n",
       "      <th>primary_cleaner.state.floatbank8_c_air</th>\n",
       "      <th>...</th>\n",
       "      <th>secondary_cleaner.state.floatbank4_a_air</th>\n",
       "      <th>secondary_cleaner.state.floatbank4_a_level</th>\n",
       "      <th>secondary_cleaner.state.floatbank4_b_air</th>\n",
       "      <th>secondary_cleaner.state.floatbank4_b_level</th>\n",
       "      <th>secondary_cleaner.state.floatbank5_a_air</th>\n",
       "      <th>secondary_cleaner.state.floatbank5_a_level</th>\n",
       "      <th>secondary_cleaner.state.floatbank5_b_air</th>\n",
       "      <th>secondary_cleaner.state.floatbank5_b_level</th>\n",
       "      <th>secondary_cleaner.state.floatbank6_a_air</th>\n",
       "      <th>secondary_cleaner.state.floatbank6_a_level</th>\n",
       "    </tr>\n",
       "  </thead>\n",
       "  <tbody>\n",
       "    <tr>\n",
       "      <th>0</th>\n",
       "      <td>2016-09-01 00:59:59</td>\n",
       "      <td>210.800909</td>\n",
       "      <td>14.993118</td>\n",
       "      <td>8.080000</td>\n",
       "      <td>1.005021</td>\n",
       "      <td>1398.981301</td>\n",
       "      <td>-500.225577</td>\n",
       "      <td>1399.144926</td>\n",
       "      <td>-499.919735</td>\n",
       "      <td>1400.102998</td>\n",
       "      <td>...</td>\n",
       "      <td>12.023554</td>\n",
       "      <td>-497.795834</td>\n",
       "      <td>8.016656</td>\n",
       "      <td>-501.289139</td>\n",
       "      <td>7.946562</td>\n",
       "      <td>-432.317850</td>\n",
       "      <td>4.872511</td>\n",
       "      <td>-500.037437</td>\n",
       "      <td>26.705889</td>\n",
       "      <td>-499.709414</td>\n",
       "    </tr>\n",
       "    <tr>\n",
       "      <th>1</th>\n",
       "      <td>2016-09-01 01:59:59</td>\n",
       "      <td>215.392455</td>\n",
       "      <td>14.987471</td>\n",
       "      <td>8.080000</td>\n",
       "      <td>0.990469</td>\n",
       "      <td>1398.777912</td>\n",
       "      <td>-500.057435</td>\n",
       "      <td>1398.055362</td>\n",
       "      <td>-499.778182</td>\n",
       "      <td>1396.151033</td>\n",
       "      <td>...</td>\n",
       "      <td>12.058140</td>\n",
       "      <td>-498.695773</td>\n",
       "      <td>8.130979</td>\n",
       "      <td>-499.634209</td>\n",
       "      <td>7.958270</td>\n",
       "      <td>-525.839648</td>\n",
       "      <td>4.878850</td>\n",
       "      <td>-500.162375</td>\n",
       "      <td>25.019940</td>\n",
       "      <td>-499.819438</td>\n",
       "    </tr>\n",
       "    <tr>\n",
       "      <th>2</th>\n",
       "      <td>2016-09-01 02:59:59</td>\n",
       "      <td>215.259946</td>\n",
       "      <td>12.884934</td>\n",
       "      <td>7.786667</td>\n",
       "      <td>0.996043</td>\n",
       "      <td>1398.493666</td>\n",
       "      <td>-500.868360</td>\n",
       "      <td>1398.860436</td>\n",
       "      <td>-499.764529</td>\n",
       "      <td>1398.075709</td>\n",
       "      <td>...</td>\n",
       "      <td>11.962366</td>\n",
       "      <td>-498.767484</td>\n",
       "      <td>8.096893</td>\n",
       "      <td>-500.827423</td>\n",
       "      <td>8.071056</td>\n",
       "      <td>-500.801673</td>\n",
       "      <td>4.905125</td>\n",
       "      <td>-499.828510</td>\n",
       "      <td>24.994862</td>\n",
       "      <td>-500.622559</td>\n",
       "    </tr>\n",
       "    <tr>\n",
       "      <th>3</th>\n",
       "      <td>2016-09-01 03:59:59</td>\n",
       "      <td>215.336236</td>\n",
       "      <td>12.006805</td>\n",
       "      <td>7.640000</td>\n",
       "      <td>0.863514</td>\n",
       "      <td>1399.618111</td>\n",
       "      <td>-498.863574</td>\n",
       "      <td>1397.440120</td>\n",
       "      <td>-499.211024</td>\n",
       "      <td>1400.129303</td>\n",
       "      <td>...</td>\n",
       "      <td>12.033091</td>\n",
       "      <td>-498.350935</td>\n",
       "      <td>8.074946</td>\n",
       "      <td>-499.474407</td>\n",
       "      <td>7.897085</td>\n",
       "      <td>-500.868509</td>\n",
       "      <td>4.931400</td>\n",
       "      <td>-499.963623</td>\n",
       "      <td>24.948919</td>\n",
       "      <td>-498.709987</td>\n",
       "    </tr>\n",
       "    <tr>\n",
       "      <th>4</th>\n",
       "      <td>2016-09-01 04:59:59</td>\n",
       "      <td>199.099327</td>\n",
       "      <td>10.682530</td>\n",
       "      <td>7.530000</td>\n",
       "      <td>0.805575</td>\n",
       "      <td>1401.268123</td>\n",
       "      <td>-500.808305</td>\n",
       "      <td>1398.128818</td>\n",
       "      <td>-499.504543</td>\n",
       "      <td>1402.172226</td>\n",
       "      <td>...</td>\n",
       "      <td>12.025367</td>\n",
       "      <td>-500.786497</td>\n",
       "      <td>8.054678</td>\n",
       "      <td>-500.397500</td>\n",
       "      <td>8.107890</td>\n",
       "      <td>-509.526725</td>\n",
       "      <td>4.957674</td>\n",
       "      <td>-500.360026</td>\n",
       "      <td>25.003331</td>\n",
       "      <td>-500.856333</td>\n",
       "    </tr>\n",
       "  </tbody>\n",
       "</table>\n",
       "<p>5 rows × 53 columns</p>\n",
       "</div>"
      ],
      "text/plain": [
       "                  date  primary_cleaner.input.sulfate  \\\n",
       "0  2016-09-01 00:59:59                     210.800909   \n",
       "1  2016-09-01 01:59:59                     215.392455   \n",
       "2  2016-09-01 02:59:59                     215.259946   \n",
       "3  2016-09-01 03:59:59                     215.336236   \n",
       "4  2016-09-01 04:59:59                     199.099327   \n",
       "\n",
       "   primary_cleaner.input.depressant  primary_cleaner.input.feed_size  \\\n",
       "0                         14.993118                         8.080000   \n",
       "1                         14.987471                         8.080000   \n",
       "2                         12.884934                         7.786667   \n",
       "3                         12.006805                         7.640000   \n",
       "4                         10.682530                         7.530000   \n",
       "\n",
       "   primary_cleaner.input.xanthate  primary_cleaner.state.floatbank8_a_air  \\\n",
       "0                        1.005021                             1398.981301   \n",
       "1                        0.990469                             1398.777912   \n",
       "2                        0.996043                             1398.493666   \n",
       "3                        0.863514                             1399.618111   \n",
       "4                        0.805575                             1401.268123   \n",
       "\n",
       "   primary_cleaner.state.floatbank8_a_level  \\\n",
       "0                               -500.225577   \n",
       "1                               -500.057435   \n",
       "2                               -500.868360   \n",
       "3                               -498.863574   \n",
       "4                               -500.808305   \n",
       "\n",
       "   primary_cleaner.state.floatbank8_b_air  \\\n",
       "0                             1399.144926   \n",
       "1                             1398.055362   \n",
       "2                             1398.860436   \n",
       "3                             1397.440120   \n",
       "4                             1398.128818   \n",
       "\n",
       "   primary_cleaner.state.floatbank8_b_level  \\\n",
       "0                               -499.919735   \n",
       "1                               -499.778182   \n",
       "2                               -499.764529   \n",
       "3                               -499.211024   \n",
       "4                               -499.504543   \n",
       "\n",
       "   primary_cleaner.state.floatbank8_c_air  ...  \\\n",
       "0                             1400.102998  ...   \n",
       "1                             1396.151033  ...   \n",
       "2                             1398.075709  ...   \n",
       "3                             1400.129303  ...   \n",
       "4                             1402.172226  ...   \n",
       "\n",
       "   secondary_cleaner.state.floatbank4_a_air  \\\n",
       "0                                 12.023554   \n",
       "1                                 12.058140   \n",
       "2                                 11.962366   \n",
       "3                                 12.033091   \n",
       "4                                 12.025367   \n",
       "\n",
       "   secondary_cleaner.state.floatbank4_a_level  \\\n",
       "0                                 -497.795834   \n",
       "1                                 -498.695773   \n",
       "2                                 -498.767484   \n",
       "3                                 -498.350935   \n",
       "4                                 -500.786497   \n",
       "\n",
       "   secondary_cleaner.state.floatbank4_b_air  \\\n",
       "0                                  8.016656   \n",
       "1                                  8.130979   \n",
       "2                                  8.096893   \n",
       "3                                  8.074946   \n",
       "4                                  8.054678   \n",
       "\n",
       "   secondary_cleaner.state.floatbank4_b_level  \\\n",
       "0                                 -501.289139   \n",
       "1                                 -499.634209   \n",
       "2                                 -500.827423   \n",
       "3                                 -499.474407   \n",
       "4                                 -500.397500   \n",
       "\n",
       "   secondary_cleaner.state.floatbank5_a_air  \\\n",
       "0                                  7.946562   \n",
       "1                                  7.958270   \n",
       "2                                  8.071056   \n",
       "3                                  7.897085   \n",
       "4                                  8.107890   \n",
       "\n",
       "   secondary_cleaner.state.floatbank5_a_level  \\\n",
       "0                                 -432.317850   \n",
       "1                                 -525.839648   \n",
       "2                                 -500.801673   \n",
       "3                                 -500.868509   \n",
       "4                                 -509.526725   \n",
       "\n",
       "   secondary_cleaner.state.floatbank5_b_air  \\\n",
       "0                                  4.872511   \n",
       "1                                  4.878850   \n",
       "2                                  4.905125   \n",
       "3                                  4.931400   \n",
       "4                                  4.957674   \n",
       "\n",
       "   secondary_cleaner.state.floatbank5_b_level  \\\n",
       "0                                 -500.037437   \n",
       "1                                 -500.162375   \n",
       "2                                 -499.828510   \n",
       "3                                 -499.963623   \n",
       "4                                 -500.360026   \n",
       "\n",
       "   secondary_cleaner.state.floatbank6_a_air  \\\n",
       "0                                 26.705889   \n",
       "1                                 25.019940   \n",
       "2                                 24.994862   \n",
       "3                                 24.948919   \n",
       "4                                 25.003331   \n",
       "\n",
       "   secondary_cleaner.state.floatbank6_a_level  \n",
       "0                                 -499.709414  \n",
       "1                                 -499.819438  \n",
       "2                                 -500.622559  \n",
       "3                                 -498.709987  \n",
       "4                                 -500.856333  \n",
       "\n",
       "[5 rows x 53 columns]"
      ]
     },
     "execution_count": 4,
     "metadata": {},
     "output_type": "execute_result"
    }
   ],
   "source": [
    "test.head()"
   ]
  },
  {
   "cell_type": "code",
   "execution_count": 5,
   "metadata": {},
   "outputs": [
    {
     "data": {
      "text/html": [
       "<div>\n",
       "<style scoped>\n",
       "    .dataframe tbody tr th:only-of-type {\n",
       "        vertical-align: middle;\n",
       "    }\n",
       "\n",
       "    .dataframe tbody tr th {\n",
       "        vertical-align: top;\n",
       "    }\n",
       "\n",
       "    .dataframe thead th {\n",
       "        text-align: right;\n",
       "    }\n",
       "</style>\n",
       "<table border=\"1\" class=\"dataframe\">\n",
       "  <thead>\n",
       "    <tr style=\"text-align: right;\">\n",
       "      <th></th>\n",
       "      <th>date</th>\n",
       "      <th>final.output.concentrate_ag</th>\n",
       "      <th>final.output.concentrate_pb</th>\n",
       "      <th>final.output.concentrate_sol</th>\n",
       "      <th>final.output.concentrate_au</th>\n",
       "      <th>final.output.recovery</th>\n",
       "      <th>final.output.tail_ag</th>\n",
       "      <th>final.output.tail_pb</th>\n",
       "      <th>final.output.tail_sol</th>\n",
       "      <th>final.output.tail_au</th>\n",
       "      <th>...</th>\n",
       "      <th>secondary_cleaner.state.floatbank4_a_air</th>\n",
       "      <th>secondary_cleaner.state.floatbank4_a_level</th>\n",
       "      <th>secondary_cleaner.state.floatbank4_b_air</th>\n",
       "      <th>secondary_cleaner.state.floatbank4_b_level</th>\n",
       "      <th>secondary_cleaner.state.floatbank5_a_air</th>\n",
       "      <th>secondary_cleaner.state.floatbank5_a_level</th>\n",
       "      <th>secondary_cleaner.state.floatbank5_b_air</th>\n",
       "      <th>secondary_cleaner.state.floatbank5_b_level</th>\n",
       "      <th>secondary_cleaner.state.floatbank6_a_air</th>\n",
       "      <th>secondary_cleaner.state.floatbank6_a_level</th>\n",
       "    </tr>\n",
       "  </thead>\n",
       "  <tbody>\n",
       "    <tr>\n",
       "      <th>0</th>\n",
       "      <td>2016-01-15 00:00:00</td>\n",
       "      <td>6.055403</td>\n",
       "      <td>9.889648</td>\n",
       "      <td>5.507324</td>\n",
       "      <td>42.192020</td>\n",
       "      <td>70.541216</td>\n",
       "      <td>10.411962</td>\n",
       "      <td>0.895447</td>\n",
       "      <td>16.904297</td>\n",
       "      <td>2.143149</td>\n",
       "      <td>...</td>\n",
       "      <td>14.016835</td>\n",
       "      <td>-502.488007</td>\n",
       "      <td>12.099931</td>\n",
       "      <td>-504.715942</td>\n",
       "      <td>9.925633</td>\n",
       "      <td>-498.310211</td>\n",
       "      <td>8.079666</td>\n",
       "      <td>-500.470978</td>\n",
       "      <td>14.151341</td>\n",
       "      <td>-605.841980</td>\n",
       "    </tr>\n",
       "    <tr>\n",
       "      <th>1</th>\n",
       "      <td>2016-01-15 01:00:00</td>\n",
       "      <td>6.029369</td>\n",
       "      <td>9.968944</td>\n",
       "      <td>5.257781</td>\n",
       "      <td>42.701629</td>\n",
       "      <td>69.266198</td>\n",
       "      <td>10.462676</td>\n",
       "      <td>0.927452</td>\n",
       "      <td>16.634514</td>\n",
       "      <td>2.224930</td>\n",
       "      <td>...</td>\n",
       "      <td>13.992281</td>\n",
       "      <td>-505.503262</td>\n",
       "      <td>11.950531</td>\n",
       "      <td>-501.331529</td>\n",
       "      <td>10.039245</td>\n",
       "      <td>-500.169983</td>\n",
       "      <td>7.984757</td>\n",
       "      <td>-500.582168</td>\n",
       "      <td>13.998353</td>\n",
       "      <td>-599.787184</td>\n",
       "    </tr>\n",
       "    <tr>\n",
       "      <th>2</th>\n",
       "      <td>2016-01-15 02:00:00</td>\n",
       "      <td>6.055926</td>\n",
       "      <td>10.213995</td>\n",
       "      <td>5.383759</td>\n",
       "      <td>42.657501</td>\n",
       "      <td>68.116445</td>\n",
       "      <td>10.507046</td>\n",
       "      <td>0.953716</td>\n",
       "      <td>16.208849</td>\n",
       "      <td>2.257889</td>\n",
       "      <td>...</td>\n",
       "      <td>14.015015</td>\n",
       "      <td>-502.520901</td>\n",
       "      <td>11.912783</td>\n",
       "      <td>-501.133383</td>\n",
       "      <td>10.070913</td>\n",
       "      <td>-500.129135</td>\n",
       "      <td>8.013877</td>\n",
       "      <td>-500.517572</td>\n",
       "      <td>14.028663</td>\n",
       "      <td>-601.427363</td>\n",
       "    </tr>\n",
       "    <tr>\n",
       "      <th>3</th>\n",
       "      <td>2016-01-15 03:00:00</td>\n",
       "      <td>6.047977</td>\n",
       "      <td>9.977019</td>\n",
       "      <td>4.858634</td>\n",
       "      <td>42.689819</td>\n",
       "      <td>68.347543</td>\n",
       "      <td>10.422762</td>\n",
       "      <td>0.883763</td>\n",
       "      <td>16.532835</td>\n",
       "      <td>2.146849</td>\n",
       "      <td>...</td>\n",
       "      <td>14.036510</td>\n",
       "      <td>-500.857308</td>\n",
       "      <td>11.999550</td>\n",
       "      <td>-501.193686</td>\n",
       "      <td>9.970366</td>\n",
       "      <td>-499.201640</td>\n",
       "      <td>7.977324</td>\n",
       "      <td>-500.255908</td>\n",
       "      <td>14.005551</td>\n",
       "      <td>-599.996129</td>\n",
       "    </tr>\n",
       "    <tr>\n",
       "      <th>4</th>\n",
       "      <td>2016-01-15 04:00:00</td>\n",
       "      <td>6.148599</td>\n",
       "      <td>10.142511</td>\n",
       "      <td>4.939416</td>\n",
       "      <td>42.774141</td>\n",
       "      <td>66.927016</td>\n",
       "      <td>10.360302</td>\n",
       "      <td>0.792826</td>\n",
       "      <td>16.525686</td>\n",
       "      <td>2.055292</td>\n",
       "      <td>...</td>\n",
       "      <td>14.027298</td>\n",
       "      <td>-499.838632</td>\n",
       "      <td>11.953070</td>\n",
       "      <td>-501.053894</td>\n",
       "      <td>9.925709</td>\n",
       "      <td>-501.686727</td>\n",
       "      <td>7.894242</td>\n",
       "      <td>-500.356035</td>\n",
       "      <td>13.996647</td>\n",
       "      <td>-601.496691</td>\n",
       "    </tr>\n",
       "  </tbody>\n",
       "</table>\n",
       "<p>5 rows × 87 columns</p>\n",
       "</div>"
      ],
      "text/plain": [
       "                  date  final.output.concentrate_ag  \\\n",
       "0  2016-01-15 00:00:00                     6.055403   \n",
       "1  2016-01-15 01:00:00                     6.029369   \n",
       "2  2016-01-15 02:00:00                     6.055926   \n",
       "3  2016-01-15 03:00:00                     6.047977   \n",
       "4  2016-01-15 04:00:00                     6.148599   \n",
       "\n",
       "   final.output.concentrate_pb  final.output.concentrate_sol  \\\n",
       "0                     9.889648                      5.507324   \n",
       "1                     9.968944                      5.257781   \n",
       "2                    10.213995                      5.383759   \n",
       "3                     9.977019                      4.858634   \n",
       "4                    10.142511                      4.939416   \n",
       "\n",
       "   final.output.concentrate_au  final.output.recovery  final.output.tail_ag  \\\n",
       "0                    42.192020              70.541216             10.411962   \n",
       "1                    42.701629              69.266198             10.462676   \n",
       "2                    42.657501              68.116445             10.507046   \n",
       "3                    42.689819              68.347543             10.422762   \n",
       "4                    42.774141              66.927016             10.360302   \n",
       "\n",
       "   final.output.tail_pb  final.output.tail_sol  final.output.tail_au  ...  \\\n",
       "0              0.895447              16.904297              2.143149  ...   \n",
       "1              0.927452              16.634514              2.224930  ...   \n",
       "2              0.953716              16.208849              2.257889  ...   \n",
       "3              0.883763              16.532835              2.146849  ...   \n",
       "4              0.792826              16.525686              2.055292  ...   \n",
       "\n",
       "   secondary_cleaner.state.floatbank4_a_air  \\\n",
       "0                                 14.016835   \n",
       "1                                 13.992281   \n",
       "2                                 14.015015   \n",
       "3                                 14.036510   \n",
       "4                                 14.027298   \n",
       "\n",
       "   secondary_cleaner.state.floatbank4_a_level  \\\n",
       "0                                 -502.488007   \n",
       "1                                 -505.503262   \n",
       "2                                 -502.520901   \n",
       "3                                 -500.857308   \n",
       "4                                 -499.838632   \n",
       "\n",
       "   secondary_cleaner.state.floatbank4_b_air  \\\n",
       "0                                 12.099931   \n",
       "1                                 11.950531   \n",
       "2                                 11.912783   \n",
       "3                                 11.999550   \n",
       "4                                 11.953070   \n",
       "\n",
       "   secondary_cleaner.state.floatbank4_b_level  \\\n",
       "0                                 -504.715942   \n",
       "1                                 -501.331529   \n",
       "2                                 -501.133383   \n",
       "3                                 -501.193686   \n",
       "4                                 -501.053894   \n",
       "\n",
       "   secondary_cleaner.state.floatbank5_a_air  \\\n",
       "0                                  9.925633   \n",
       "1                                 10.039245   \n",
       "2                                 10.070913   \n",
       "3                                  9.970366   \n",
       "4                                  9.925709   \n",
       "\n",
       "   secondary_cleaner.state.floatbank5_a_level  \\\n",
       "0                                 -498.310211   \n",
       "1                                 -500.169983   \n",
       "2                                 -500.129135   \n",
       "3                                 -499.201640   \n",
       "4                                 -501.686727   \n",
       "\n",
       "   secondary_cleaner.state.floatbank5_b_air  \\\n",
       "0                                  8.079666   \n",
       "1                                  7.984757   \n",
       "2                                  8.013877   \n",
       "3                                  7.977324   \n",
       "4                                  7.894242   \n",
       "\n",
       "   secondary_cleaner.state.floatbank5_b_level  \\\n",
       "0                                 -500.470978   \n",
       "1                                 -500.582168   \n",
       "2                                 -500.517572   \n",
       "3                                 -500.255908   \n",
       "4                                 -500.356035   \n",
       "\n",
       "   secondary_cleaner.state.floatbank6_a_air  \\\n",
       "0                                 14.151341   \n",
       "1                                 13.998353   \n",
       "2                                 14.028663   \n",
       "3                                 14.005551   \n",
       "4                                 13.996647   \n",
       "\n",
       "   secondary_cleaner.state.floatbank6_a_level  \n",
       "0                                 -605.841980  \n",
       "1                                 -599.787184  \n",
       "2                                 -601.427363  \n",
       "3                                 -599.996129  \n",
       "4                                 -601.496691  \n",
       "\n",
       "[5 rows x 87 columns]"
      ]
     },
     "execution_count": 5,
     "metadata": {},
     "output_type": "execute_result"
    }
   ],
   "source": [
    "full.head()"
   ]
  },
  {
   "cell_type": "code",
   "execution_count": 6,
   "metadata": {
    "scrolled": true
   },
   "outputs": [
    {
     "name": "stdout",
     "output_type": "stream",
     "text": [
      "<class 'pandas.core.frame.DataFrame'>\n",
      "RangeIndex: 14149 entries, 0 to 14148\n",
      "Data columns (total 87 columns):\n",
      " #   Column                                              Non-Null Count  Dtype  \n",
      "---  ------                                              --------------  -----  \n",
      " 0   date                                                14149 non-null  object \n",
      " 1   final.output.concentrate_ag                         14148 non-null  float64\n",
      " 2   final.output.concentrate_pb                         14148 non-null  float64\n",
      " 3   final.output.concentrate_sol                        13938 non-null  float64\n",
      " 4   final.output.concentrate_au                         14149 non-null  float64\n",
      " 5   final.output.recovery                               14149 non-null  float64\n",
      " 6   final.output.tail_ag                                14149 non-null  float64\n",
      " 7   final.output.tail_pb                                14049 non-null  float64\n",
      " 8   final.output.tail_sol                               14144 non-null  float64\n",
      " 9   final.output.tail_au                                14149 non-null  float64\n",
      " 10  primary_cleaner.input.sulfate                       14129 non-null  float64\n",
      " 11  primary_cleaner.input.depressant                    14117 non-null  float64\n",
      " 12  primary_cleaner.input.feed_size                     14149 non-null  float64\n",
      " 13  primary_cleaner.input.xanthate                      14049 non-null  float64\n",
      " 14  primary_cleaner.output.concentrate_ag               14149 non-null  float64\n",
      " 15  primary_cleaner.output.concentrate_pb               14063 non-null  float64\n",
      " 16  primary_cleaner.output.concentrate_sol              13863 non-null  float64\n",
      " 17  primary_cleaner.output.concentrate_au               14149 non-null  float64\n",
      " 18  primary_cleaner.output.tail_ag                      14148 non-null  float64\n",
      " 19  primary_cleaner.output.tail_pb                      14134 non-null  float64\n",
      " 20  primary_cleaner.output.tail_sol                     14103 non-null  float64\n",
      " 21  primary_cleaner.output.tail_au                      14149 non-null  float64\n",
      " 22  primary_cleaner.state.floatbank8_a_air              14145 non-null  float64\n",
      " 23  primary_cleaner.state.floatbank8_a_level            14148 non-null  float64\n",
      " 24  primary_cleaner.state.floatbank8_b_air              14145 non-null  float64\n",
      " 25  primary_cleaner.state.floatbank8_b_level            14148 non-null  float64\n",
      " 26  primary_cleaner.state.floatbank8_c_air              14147 non-null  float64\n",
      " 27  primary_cleaner.state.floatbank8_c_level            14148 non-null  float64\n",
      " 28  primary_cleaner.state.floatbank8_d_air              14146 non-null  float64\n",
      " 29  primary_cleaner.state.floatbank8_d_level            14148 non-null  float64\n",
      " 30  rougher.calculation.sulfate_to_au_concentrate       14148 non-null  float64\n",
      " 31  rougher.calculation.floatbank10_sulfate_to_au_feed  14148 non-null  float64\n",
      " 32  rougher.calculation.floatbank11_sulfate_to_au_feed  14148 non-null  float64\n",
      " 33  rougher.calculation.au_pb_ratio                     14149 non-null  float64\n",
      " 34  rougher.input.feed_ag                               14149 non-null  float64\n",
      " 35  rougher.input.feed_pb                               14049 non-null  float64\n",
      " 36  rougher.input.feed_rate                             14141 non-null  float64\n",
      " 37  rougher.input.feed_size                             14005 non-null  float64\n",
      " 38  rougher.input.feed_sol                              14071 non-null  float64\n",
      " 39  rougher.input.feed_au                               14149 non-null  float64\n",
      " 40  rougher.input.floatbank10_sulfate                   14120 non-null  float64\n",
      " 41  rougher.input.floatbank10_xanthate                  14141 non-null  float64\n",
      " 42  rougher.input.floatbank11_sulfate                   14113 non-null  float64\n",
      " 43  rougher.input.floatbank11_xanthate                  13721 non-null  float64\n",
      " 44  rougher.output.concentrate_ag                       14149 non-null  float64\n",
      " 45  rougher.output.concentrate_pb                       14149 non-null  float64\n",
      " 46  rougher.output.concentrate_sol                      14127 non-null  float64\n",
      " 47  rougher.output.concentrate_au                       14149 non-null  float64\n",
      " 48  rougher.output.recovery                             14149 non-null  float64\n",
      " 49  rougher.output.tail_ag                              14148 non-null  float64\n",
      " 50  rougher.output.tail_pb                              14149 non-null  float64\n",
      " 51  rougher.output.tail_sol                             14149 non-null  float64\n",
      " 52  rougher.output.tail_au                              14149 non-null  float64\n",
      " 53  rougher.state.floatbank10_a_air                     14148 non-null  float64\n",
      " 54  rougher.state.floatbank10_a_level                   14148 non-null  float64\n",
      " 55  rougher.state.floatbank10_b_air                     14148 non-null  float64\n",
      " 56  rougher.state.floatbank10_b_level                   14148 non-null  float64\n",
      " 57  rougher.state.floatbank10_c_air                     14148 non-null  float64\n",
      " 58  rougher.state.floatbank10_c_level                   14148 non-null  float64\n",
      " 59  rougher.state.floatbank10_d_air                     14149 non-null  float64\n",
      " 60  rougher.state.floatbank10_d_level                   14149 non-null  float64\n",
      " 61  rougher.state.floatbank10_e_air                     13713 non-null  float64\n",
      " 62  rougher.state.floatbank10_e_level                   14149 non-null  float64\n",
      " 63  rougher.state.floatbank10_f_air                     14149 non-null  float64\n",
      " 64  rougher.state.floatbank10_f_level                   14149 non-null  float64\n",
      " 65  secondary_cleaner.output.tail_ag                    14147 non-null  float64\n",
      " 66  secondary_cleaner.output.tail_pb                    14139 non-null  float64\n",
      " 67  secondary_cleaner.output.tail_sol                   12544 non-null  float64\n",
      " 68  secondary_cleaner.output.tail_au                    14149 non-null  float64\n",
      " 69  secondary_cleaner.state.floatbank2_a_air            13932 non-null  float64\n",
      " 70  secondary_cleaner.state.floatbank2_a_level          14148 non-null  float64\n",
      " 71  secondary_cleaner.state.floatbank2_b_air            14128 non-null  float64\n",
      " 72  secondary_cleaner.state.floatbank2_b_level          14148 non-null  float64\n",
      " 73  secondary_cleaner.state.floatbank3_a_air            14145 non-null  float64\n",
      " 74  secondary_cleaner.state.floatbank3_a_level          14148 non-null  float64\n",
      " 75  secondary_cleaner.state.floatbank3_b_air            14148 non-null  float64\n",
      " 76  secondary_cleaner.state.floatbank3_b_level          14148 non-null  float64\n",
      " 77  secondary_cleaner.state.floatbank4_a_air            14143 non-null  float64\n",
      " 78  secondary_cleaner.state.floatbank4_a_level          14148 non-null  float64\n",
      " 79  secondary_cleaner.state.floatbank4_b_air            14148 non-null  float64\n",
      " 80  secondary_cleaner.state.floatbank4_b_level          14148 non-null  float64\n",
      " 81  secondary_cleaner.state.floatbank5_a_air            14148 non-null  float64\n",
      " 82  secondary_cleaner.state.floatbank5_a_level          14148 non-null  float64\n",
      " 83  secondary_cleaner.state.floatbank5_b_air            14148 non-null  float64\n",
      " 84  secondary_cleaner.state.floatbank5_b_level          14148 non-null  float64\n",
      " 85  secondary_cleaner.state.floatbank6_a_air            14147 non-null  float64\n",
      " 86  secondary_cleaner.state.floatbank6_a_level          14148 non-null  float64\n",
      "dtypes: float64(86), object(1)\n",
      "memory usage: 9.4+ MB\n"
     ]
    }
   ],
   "source": [
    "train.info()"
   ]
  },
  {
   "cell_type": "code",
   "execution_count": 7,
   "metadata": {
    "scrolled": true
   },
   "outputs": [
    {
     "name": "stdout",
     "output_type": "stream",
     "text": [
      "<class 'pandas.core.frame.DataFrame'>\n",
      "RangeIndex: 5290 entries, 0 to 5289\n",
      "Data columns (total 53 columns):\n",
      " #   Column                                      Non-Null Count  Dtype  \n",
      "---  ------                                      --------------  -----  \n",
      " 0   date                                        5290 non-null   object \n",
      " 1   primary_cleaner.input.sulfate               5286 non-null   float64\n",
      " 2   primary_cleaner.input.depressant            5285 non-null   float64\n",
      " 3   primary_cleaner.input.feed_size             5290 non-null   float64\n",
      " 4   primary_cleaner.input.xanthate              5286 non-null   float64\n",
      " 5   primary_cleaner.state.floatbank8_a_air      5290 non-null   float64\n",
      " 6   primary_cleaner.state.floatbank8_a_level    5290 non-null   float64\n",
      " 7   primary_cleaner.state.floatbank8_b_air      5290 non-null   float64\n",
      " 8   primary_cleaner.state.floatbank8_b_level    5290 non-null   float64\n",
      " 9   primary_cleaner.state.floatbank8_c_air      5290 non-null   float64\n",
      " 10  primary_cleaner.state.floatbank8_c_level    5290 non-null   float64\n",
      " 11  primary_cleaner.state.floatbank8_d_air      5290 non-null   float64\n",
      " 12  primary_cleaner.state.floatbank8_d_level    5290 non-null   float64\n",
      " 13  rougher.input.feed_ag                       5290 non-null   float64\n",
      " 14  rougher.input.feed_pb                       5290 non-null   float64\n",
      " 15  rougher.input.feed_rate                     5287 non-null   float64\n",
      " 16  rougher.input.feed_size                     5289 non-null   float64\n",
      " 17  rougher.input.feed_sol                      5269 non-null   float64\n",
      " 18  rougher.input.feed_au                       5290 non-null   float64\n",
      " 19  rougher.input.floatbank10_sulfate           5285 non-null   float64\n",
      " 20  rougher.input.floatbank10_xanthate          5290 non-null   float64\n",
      " 21  rougher.input.floatbank11_sulfate           5282 non-null   float64\n",
      " 22  rougher.input.floatbank11_xanthate          5265 non-null   float64\n",
      " 23  rougher.state.floatbank10_a_air             5290 non-null   float64\n",
      " 24  rougher.state.floatbank10_a_level           5290 non-null   float64\n",
      " 25  rougher.state.floatbank10_b_air             5290 non-null   float64\n",
      " 26  rougher.state.floatbank10_b_level           5290 non-null   float64\n",
      " 27  rougher.state.floatbank10_c_air             5290 non-null   float64\n",
      " 28  rougher.state.floatbank10_c_level           5290 non-null   float64\n",
      " 29  rougher.state.floatbank10_d_air             5290 non-null   float64\n",
      " 30  rougher.state.floatbank10_d_level           5290 non-null   float64\n",
      " 31  rougher.state.floatbank10_e_air             5290 non-null   float64\n",
      " 32  rougher.state.floatbank10_e_level           5290 non-null   float64\n",
      " 33  rougher.state.floatbank10_f_air             5290 non-null   float64\n",
      " 34  rougher.state.floatbank10_f_level           5290 non-null   float64\n",
      " 35  secondary_cleaner.state.floatbank2_a_air    5287 non-null   float64\n",
      " 36  secondary_cleaner.state.floatbank2_a_level  5290 non-null   float64\n",
      " 37  secondary_cleaner.state.floatbank2_b_air    5288 non-null   float64\n",
      " 38  secondary_cleaner.state.floatbank2_b_level  5290 non-null   float64\n",
      " 39  secondary_cleaner.state.floatbank3_a_air    5281 non-null   float64\n",
      " 40  secondary_cleaner.state.floatbank3_a_level  5290 non-null   float64\n",
      " 41  secondary_cleaner.state.floatbank3_b_air    5290 non-null   float64\n",
      " 42  secondary_cleaner.state.floatbank3_b_level  5290 non-null   float64\n",
      " 43  secondary_cleaner.state.floatbank4_a_air    5290 non-null   float64\n",
      " 44  secondary_cleaner.state.floatbank4_a_level  5290 non-null   float64\n",
      " 45  secondary_cleaner.state.floatbank4_b_air    5290 non-null   float64\n",
      " 46  secondary_cleaner.state.floatbank4_b_level  5290 non-null   float64\n",
      " 47  secondary_cleaner.state.floatbank5_a_air    5290 non-null   float64\n",
      " 48  secondary_cleaner.state.floatbank5_a_level  5290 non-null   float64\n",
      " 49  secondary_cleaner.state.floatbank5_b_air    5290 non-null   float64\n",
      " 50  secondary_cleaner.state.floatbank5_b_level  5290 non-null   float64\n",
      " 51  secondary_cleaner.state.floatbank6_a_air    5290 non-null   float64\n",
      " 52  secondary_cleaner.state.floatbank6_a_level  5290 non-null   float64\n",
      "dtypes: float64(52), object(1)\n",
      "memory usage: 2.1+ MB\n"
     ]
    }
   ],
   "source": [
    "test.info()"
   ]
  },
  {
   "cell_type": "code",
   "execution_count": 8,
   "metadata": {
    "scrolled": true
   },
   "outputs": [
    {
     "name": "stdout",
     "output_type": "stream",
     "text": [
      "<class 'pandas.core.frame.DataFrame'>\n",
      "RangeIndex: 19439 entries, 0 to 19438\n",
      "Data columns (total 87 columns):\n",
      " #   Column                                              Non-Null Count  Dtype  \n",
      "---  ------                                              --------------  -----  \n",
      " 0   date                                                19439 non-null  object \n",
      " 1   final.output.concentrate_ag                         19438 non-null  float64\n",
      " 2   final.output.concentrate_pb                         19438 non-null  float64\n",
      " 3   final.output.concentrate_sol                        19228 non-null  float64\n",
      " 4   final.output.concentrate_au                         19439 non-null  float64\n",
      " 5   final.output.recovery                               19439 non-null  float64\n",
      " 6   final.output.tail_ag                                19438 non-null  float64\n",
      " 7   final.output.tail_pb                                19338 non-null  float64\n",
      " 8   final.output.tail_sol                               19433 non-null  float64\n",
      " 9   final.output.tail_au                                19439 non-null  float64\n",
      " 10  primary_cleaner.input.sulfate                       19415 non-null  float64\n",
      " 11  primary_cleaner.input.depressant                    19402 non-null  float64\n",
      " 12  primary_cleaner.input.feed_size                     19439 non-null  float64\n",
      " 13  primary_cleaner.input.xanthate                      19335 non-null  float64\n",
      " 14  primary_cleaner.output.concentrate_ag               19439 non-null  float64\n",
      " 15  primary_cleaner.output.concentrate_pb               19323 non-null  float64\n",
      " 16  primary_cleaner.output.concentrate_sol              19069 non-null  float64\n",
      " 17  primary_cleaner.output.concentrate_au               19439 non-null  float64\n",
      " 18  primary_cleaner.output.tail_ag                      19435 non-null  float64\n",
      " 19  primary_cleaner.output.tail_pb                      19418 non-null  float64\n",
      " 20  primary_cleaner.output.tail_sol                     19377 non-null  float64\n",
      " 21  primary_cleaner.output.tail_au                      19439 non-null  float64\n",
      " 22  primary_cleaner.state.floatbank8_a_air              19435 non-null  float64\n",
      " 23  primary_cleaner.state.floatbank8_a_level            19438 non-null  float64\n",
      " 24  primary_cleaner.state.floatbank8_b_air              19435 non-null  float64\n",
      " 25  primary_cleaner.state.floatbank8_b_level            19438 non-null  float64\n",
      " 26  primary_cleaner.state.floatbank8_c_air              19437 non-null  float64\n",
      " 27  primary_cleaner.state.floatbank8_c_level            19438 non-null  float64\n",
      " 28  primary_cleaner.state.floatbank8_d_air              19436 non-null  float64\n",
      " 29  primary_cleaner.state.floatbank8_d_level            19438 non-null  float64\n",
      " 30  rougher.calculation.sulfate_to_au_concentrate       19437 non-null  float64\n",
      " 31  rougher.calculation.floatbank10_sulfate_to_au_feed  19437 non-null  float64\n",
      " 32  rougher.calculation.floatbank11_sulfate_to_au_feed  19437 non-null  float64\n",
      " 33  rougher.calculation.au_pb_ratio                     19439 non-null  float64\n",
      " 34  rougher.input.feed_ag                               19439 non-null  float64\n",
      " 35  rougher.input.feed_pb                               19339 non-null  float64\n",
      " 36  rougher.input.feed_rate                             19428 non-null  float64\n",
      " 37  rougher.input.feed_size                             19294 non-null  float64\n",
      " 38  rougher.input.feed_sol                              19340 non-null  float64\n",
      " 39  rougher.input.feed_au                               19439 non-null  float64\n",
      " 40  rougher.input.floatbank10_sulfate                   19405 non-null  float64\n",
      " 41  rougher.input.floatbank10_xanthate                  19431 non-null  float64\n",
      " 42  rougher.input.floatbank11_sulfate                   19395 non-null  float64\n",
      " 43  rougher.input.floatbank11_xanthate                  18986 non-null  float64\n",
      " 44  rougher.output.concentrate_ag                       19439 non-null  float64\n",
      " 45  rougher.output.concentrate_pb                       19439 non-null  float64\n",
      " 46  rougher.output.concentrate_sol                      19416 non-null  float64\n",
      " 47  rougher.output.concentrate_au                       19439 non-null  float64\n",
      " 48  rougher.output.recovery                             19439 non-null  float64\n",
      " 49  rougher.output.tail_ag                              19438 non-null  float64\n",
      " 50  rougher.output.tail_pb                              19439 non-null  float64\n",
      " 51  rougher.output.tail_sol                             19439 non-null  float64\n",
      " 52  rougher.output.tail_au                              19439 non-null  float64\n",
      " 53  rougher.state.floatbank10_a_air                     19438 non-null  float64\n",
      " 54  rougher.state.floatbank10_a_level                   19438 non-null  float64\n",
      " 55  rougher.state.floatbank10_b_air                     19438 non-null  float64\n",
      " 56  rougher.state.floatbank10_b_level                   19438 non-null  float64\n",
      " 57  rougher.state.floatbank10_c_air                     19438 non-null  float64\n",
      " 58  rougher.state.floatbank10_c_level                   19438 non-null  float64\n",
      " 59  rougher.state.floatbank10_d_air                     19439 non-null  float64\n",
      " 60  rougher.state.floatbank10_d_level                   19439 non-null  float64\n",
      " 61  rougher.state.floatbank10_e_air                     19003 non-null  float64\n",
      " 62  rougher.state.floatbank10_e_level                   19439 non-null  float64\n",
      " 63  rougher.state.floatbank10_f_air                     19439 non-null  float64\n",
      " 64  rougher.state.floatbank10_f_level                   19439 non-null  float64\n",
      " 65  secondary_cleaner.output.tail_ag                    19437 non-null  float64\n",
      " 66  secondary_cleaner.output.tail_pb                    19427 non-null  float64\n",
      " 67  secondary_cleaner.output.tail_sol                   17691 non-null  float64\n",
      " 68  secondary_cleaner.output.tail_au                    19439 non-null  float64\n",
      " 69  secondary_cleaner.state.floatbank2_a_air            19219 non-null  float64\n",
      " 70  secondary_cleaner.state.floatbank2_a_level          19438 non-null  float64\n",
      " 71  secondary_cleaner.state.floatbank2_b_air            19416 non-null  float64\n",
      " 72  secondary_cleaner.state.floatbank2_b_level          19438 non-null  float64\n",
      " 73  secondary_cleaner.state.floatbank3_a_air            19426 non-null  float64\n",
      " 74  secondary_cleaner.state.floatbank3_a_level          19438 non-null  float64\n",
      " 75  secondary_cleaner.state.floatbank3_b_air            19438 non-null  float64\n",
      " 76  secondary_cleaner.state.floatbank3_b_level          19438 non-null  float64\n",
      " 77  secondary_cleaner.state.floatbank4_a_air            19433 non-null  float64\n",
      " 78  secondary_cleaner.state.floatbank4_a_level          19438 non-null  float64\n",
      " 79  secondary_cleaner.state.floatbank4_b_air            19438 non-null  float64\n",
      " 80  secondary_cleaner.state.floatbank4_b_level          19438 non-null  float64\n",
      " 81  secondary_cleaner.state.floatbank5_a_air            19438 non-null  float64\n",
      " 82  secondary_cleaner.state.floatbank5_a_level          19438 non-null  float64\n",
      " 83  secondary_cleaner.state.floatbank5_b_air            19438 non-null  float64\n",
      " 84  secondary_cleaner.state.floatbank5_b_level          19438 non-null  float64\n",
      " 85  secondary_cleaner.state.floatbank6_a_air            19437 non-null  float64\n",
      " 86  secondary_cleaner.state.floatbank6_a_level          19438 non-null  float64\n",
      "dtypes: float64(86), object(1)\n",
      "memory usage: 12.9+ MB\n"
     ]
    }
   ],
   "source": [
    "full.info()"
   ]
  },
  {
   "cell_type": "code",
   "execution_count": 9,
   "metadata": {},
   "outputs": [
    {
     "data": {
      "text/plain": [
       "((19439, 87), (14149, 87), (5290, 53))"
      ]
     },
     "execution_count": 9,
     "metadata": {},
     "output_type": "execute_result"
    }
   ],
   "source": [
    "full.shape, train.shape, test.shape"
   ]
  },
  {
   "cell_type": "markdown",
   "metadata": {},
   "source": [
    "Изучив данные, можно сказать, что у нас имеется полный датасет с признаками, а также этот же датасет разбитый на обучающую и тестовую выборки в соотношении примерно 73:27, записанный в отдельные датасеты. В тестовой выборке отсутствуют 34 признака, среди которых есть целевые. Все признаки являются вещественными числами. Целевыми признаками являются столбцы 'final.output.recovery' и 'rougher.output.recovery'. Столбец date имеет тип данных object и не является значимым признаком для обучения модели."
   ]
  },
  {
   "cell_type": "markdown",
   "metadata": {},
   "source": [
    "### Проверка расчета эффективности обогащения"
   ]
  },
  {
   "cell_type": "code",
   "execution_count": 10,
   "metadata": {},
   "outputs": [
    {
     "data": {
      "text/plain": [
       "0    87.107763\n",
       "1    86.843261\n",
       "2    86.842308\n",
       "3    87.226430\n",
       "4    86.688794\n",
       "dtype: float64"
      ]
     },
     "metadata": {},
     "output_type": "display_data"
    },
    {
     "data": {
      "text/plain": [
       "0    87.107763\n",
       "1    86.843261\n",
       "2    86.842308\n",
       "3    87.226430\n",
       "4    86.688794\n",
       "Name: rougher.output.recovery, dtype: float64"
      ]
     },
     "metadata": {},
     "output_type": "display_data"
    },
    {
     "name": "stdout",
     "output_type": "stream",
     "text": [
      "MAE =  9.73512347450521e-15\n"
     ]
    }
   ],
   "source": [
    "# C — доля золота в концентрате после флотации/очистки\n",
    "c = train['rougher.output.concentrate_au']\n",
    "# F — доля золота в сырье/концентрате до флотации/очистки\n",
    "f = train['rougher.input.feed_au']\n",
    "# T — доля золота в отвальных хвостах после флотации/очистки\n",
    "t = train['rougher.output.tail_au']\n",
    "\n",
    "control_recovery = ((c * (f - t)) / (f * (c - t))) * 100\n",
    "display(control_recovery.head(), train['rougher.output.recovery'].head())\n",
    "print('MAE = ', mean_absolute_error(train['rougher.output.recovery'], control_recovery))"
   ]
  },
  {
   "cell_type": "markdown",
   "metadata": {},
   "source": [
    "Видим, что эффективность обогащения рассчитана правильно. Средняя абсолютная ошибка незначительна, значения разнятся лишь на 15 знаке после запятой."
   ]
  },
  {
   "cell_type": "markdown",
   "metadata": {},
   "source": [
    "### Анализ празнаков, недоступных в тестовой выборке"
   ]
  },
  {
   "cell_type": "code",
   "execution_count": 11,
   "metadata": {
    "scrolled": true
   },
   "outputs": [
    {
     "name": "stdout",
     "output_type": "stream",
     "text": [
      "34\n"
     ]
    },
    {
     "data": {
      "text/plain": [
       "['final.output.concentrate_ag',\n",
       " 'final.output.concentrate_pb',\n",
       " 'final.output.concentrate_sol',\n",
       " 'final.output.concentrate_au',\n",
       " 'final.output.recovery',\n",
       " 'final.output.tail_ag',\n",
       " 'final.output.tail_pb',\n",
       " 'final.output.tail_sol',\n",
       " 'final.output.tail_au',\n",
       " 'primary_cleaner.output.concentrate_ag',\n",
       " 'primary_cleaner.output.concentrate_pb',\n",
       " 'primary_cleaner.output.concentrate_sol',\n",
       " 'primary_cleaner.output.concentrate_au',\n",
       " 'primary_cleaner.output.tail_ag',\n",
       " 'primary_cleaner.output.tail_pb',\n",
       " 'primary_cleaner.output.tail_sol',\n",
       " 'primary_cleaner.output.tail_au',\n",
       " 'rougher.calculation.sulfate_to_au_concentrate',\n",
       " 'rougher.calculation.floatbank10_sulfate_to_au_feed',\n",
       " 'rougher.calculation.floatbank11_sulfate_to_au_feed',\n",
       " 'rougher.calculation.au_pb_ratio',\n",
       " 'rougher.output.concentrate_ag',\n",
       " 'rougher.output.concentrate_pb',\n",
       " 'rougher.output.concentrate_sol',\n",
       " 'rougher.output.concentrate_au',\n",
       " 'rougher.output.recovery',\n",
       " 'rougher.output.tail_ag',\n",
       " 'rougher.output.tail_pb',\n",
       " 'rougher.output.tail_sol',\n",
       " 'rougher.output.tail_au',\n",
       " 'secondary_cleaner.output.tail_ag',\n",
       " 'secondary_cleaner.output.tail_pb',\n",
       " 'secondary_cleaner.output.tail_sol',\n",
       " 'secondary_cleaner.output.tail_au']"
      ]
     },
     "execution_count": 11,
     "metadata": {},
     "output_type": "execute_result"
    }
   ],
   "source": [
    "# получим список пропущенных в тестовой выборке столбцов\n",
    "list_columns = []\n",
    "for i in train.columns:\n",
    "    if i not in test.columns:\n",
    "        list_columns.append(i)\n",
    "\n",
    "print(len(list_columns))\n",
    "list_columns"
   ]
  },
  {
   "cell_type": "markdown",
   "metadata": {},
   "source": [
    "Пропущено 34 признака, 30 их которых являются параметрами продукта и 4 - расчетными характеристиками. Причина отсутвия некоторых параметров, как сказано в описании проекта, связана с тем, что они замеряются и/или рассчитываются значительно позже. Эти признаки необходимо удалить из обучающей выборки, за исключением целевых признаков, потому что иначе мы не сможем провести тест."
   ]
  },
  {
   "cell_type": "markdown",
   "metadata": {},
   "source": [
    "### Предобработка данных"
   ]
  },
  {
   "cell_type": "code",
   "execution_count": 12,
   "metadata": {},
   "outputs": [
    {
     "data": {
      "text/plain": [
       "32"
      ]
     },
     "execution_count": 12,
     "metadata": {},
     "output_type": "execute_result"
    }
   ],
   "source": [
    "# подготовим список столбцов, которые небходимо удалить из тренировочной выборки\n",
    "\n",
    "list_columns.remove('final.output.recovery')\n",
    "list_columns.remove('rougher.output.recovery')\n",
    "len(list_columns)"
   ]
  },
  {
   "cell_type": "code",
   "execution_count": 13,
   "metadata": {},
   "outputs": [
    {
     "name": "stdout",
     "output_type": "stream",
     "text": [
      "(14149, 87)\n",
      "(14149, 55)\n"
     ]
    }
   ],
   "source": [
    "# удалим столбцы и проверим оставшееся количество столбцов в тренировочной выборке\n",
    "\n",
    "print(train.shape)\n",
    "train = train.drop(list_columns, axis=1)\n",
    "print(train.shape)"
   ]
  },
  {
   "cell_type": "code",
   "execution_count": 14,
   "metadata": {},
   "outputs": [
    {
     "name": "stdout",
     "output_type": "stream",
     "text": [
      "(5290, 53)\n",
      "(5290, 55)\n"
     ]
    }
   ],
   "source": [
    "# вытащим из полного датасета целевой признак для тестовой выборки\n",
    "# путем объединения датасетов\n",
    "\n",
    "print(test.shape)\n",
    "test = test.merge(full[['date', 'rougher.output.recovery', 'final.output.recovery']], left_on = 'date', right_on = 'date', how='left')\n",
    "print(test.shape)"
   ]
  },
  {
   "cell_type": "code",
   "execution_count": 15,
   "metadata": {},
   "outputs": [
    {
     "data": {
      "text/html": [
       "<div>\n",
       "<style scoped>\n",
       "    .dataframe tbody tr th:only-of-type {\n",
       "        vertical-align: middle;\n",
       "    }\n",
       "\n",
       "    .dataframe tbody tr th {\n",
       "        vertical-align: top;\n",
       "    }\n",
       "\n",
       "    .dataframe thead th {\n",
       "        text-align: right;\n",
       "    }\n",
       "</style>\n",
       "<table border=\"1\" class=\"dataframe\">\n",
       "  <thead>\n",
       "    <tr style=\"text-align: right;\">\n",
       "      <th></th>\n",
       "      <th>date</th>\n",
       "      <th>primary_cleaner.input.sulfate</th>\n",
       "      <th>primary_cleaner.input.depressant</th>\n",
       "      <th>primary_cleaner.input.feed_size</th>\n",
       "      <th>primary_cleaner.input.xanthate</th>\n",
       "      <th>primary_cleaner.state.floatbank8_a_air</th>\n",
       "      <th>primary_cleaner.state.floatbank8_a_level</th>\n",
       "      <th>primary_cleaner.state.floatbank8_b_air</th>\n",
       "      <th>primary_cleaner.state.floatbank8_b_level</th>\n",
       "      <th>primary_cleaner.state.floatbank8_c_air</th>\n",
       "      <th>...</th>\n",
       "      <th>secondary_cleaner.state.floatbank4_b_air</th>\n",
       "      <th>secondary_cleaner.state.floatbank4_b_level</th>\n",
       "      <th>secondary_cleaner.state.floatbank5_a_air</th>\n",
       "      <th>secondary_cleaner.state.floatbank5_a_level</th>\n",
       "      <th>secondary_cleaner.state.floatbank5_b_air</th>\n",
       "      <th>secondary_cleaner.state.floatbank5_b_level</th>\n",
       "      <th>secondary_cleaner.state.floatbank6_a_air</th>\n",
       "      <th>secondary_cleaner.state.floatbank6_a_level</th>\n",
       "      <th>rougher.output.recovery</th>\n",
       "      <th>final.output.recovery</th>\n",
       "    </tr>\n",
       "  </thead>\n",
       "  <tbody>\n",
       "    <tr>\n",
       "      <th>5287</th>\n",
       "      <td>2017-12-31 21:59:59</td>\n",
       "      <td>171.135718</td>\n",
       "      <td>15.993669</td>\n",
       "      <td>8.07</td>\n",
       "      <td>1.165996</td>\n",
       "      <td>1498.836182</td>\n",
       "      <td>-501.770403</td>\n",
       "      <td>1499.572353</td>\n",
       "      <td>-495.516347</td>\n",
       "      <td>1502.749213</td>\n",
       "      <td>...</td>\n",
       "      <td>15.101425</td>\n",
       "      <td>-499.936252</td>\n",
       "      <td>10.989181</td>\n",
       "      <td>-498.347898</td>\n",
       "      <td>9.020944</td>\n",
       "      <td>-500.040448</td>\n",
       "      <td>8.982038</td>\n",
       "      <td>-497.789882</td>\n",
       "      <td>93.018138</td>\n",
       "      <td>67.092759</td>\n",
       "    </tr>\n",
       "    <tr>\n",
       "      <th>5288</th>\n",
       "      <td>2017-12-31 22:59:59</td>\n",
       "      <td>179.697158</td>\n",
       "      <td>15.438979</td>\n",
       "      <td>8.07</td>\n",
       "      <td>1.501068</td>\n",
       "      <td>1498.466243</td>\n",
       "      <td>-500.483984</td>\n",
       "      <td>1497.986986</td>\n",
       "      <td>-519.200340</td>\n",
       "      <td>1496.569047</td>\n",
       "      <td>...</td>\n",
       "      <td>15.026853</td>\n",
       "      <td>-499.723143</td>\n",
       "      <td>11.011607</td>\n",
       "      <td>-499.985046</td>\n",
       "      <td>9.009783</td>\n",
       "      <td>-499.937902</td>\n",
       "      <td>9.012660</td>\n",
       "      <td>-500.154284</td>\n",
       "      <td>92.599042</td>\n",
       "      <td>68.061186</td>\n",
       "    </tr>\n",
       "    <tr>\n",
       "      <th>5289</th>\n",
       "      <td>2017-12-31 23:59:59</td>\n",
       "      <td>181.556856</td>\n",
       "      <td>14.995850</td>\n",
       "      <td>8.07</td>\n",
       "      <td>1.623454</td>\n",
       "      <td>1498.096303</td>\n",
       "      <td>-499.796922</td>\n",
       "      <td>1501.743791</td>\n",
       "      <td>-505.146931</td>\n",
       "      <td>1499.535978</td>\n",
       "      <td>...</td>\n",
       "      <td>14.914199</td>\n",
       "      <td>-499.948518</td>\n",
       "      <td>10.986607</td>\n",
       "      <td>-500.658027</td>\n",
       "      <td>8.989497</td>\n",
       "      <td>-500.337588</td>\n",
       "      <td>8.988632</td>\n",
       "      <td>-500.764937</td>\n",
       "      <td>91.177695</td>\n",
       "      <td>71.699976</td>\n",
       "    </tr>\n",
       "  </tbody>\n",
       "</table>\n",
       "<p>3 rows × 55 columns</p>\n",
       "</div>"
      ],
      "text/plain": [
       "                     date  primary_cleaner.input.sulfate  \\\n",
       "5287  2017-12-31 21:59:59                     171.135718   \n",
       "5288  2017-12-31 22:59:59                     179.697158   \n",
       "5289  2017-12-31 23:59:59                     181.556856   \n",
       "\n",
       "      primary_cleaner.input.depressant  primary_cleaner.input.feed_size  \\\n",
       "5287                         15.993669                             8.07   \n",
       "5288                         15.438979                             8.07   \n",
       "5289                         14.995850                             8.07   \n",
       "\n",
       "      primary_cleaner.input.xanthate  primary_cleaner.state.floatbank8_a_air  \\\n",
       "5287                        1.165996                             1498.836182   \n",
       "5288                        1.501068                             1498.466243   \n",
       "5289                        1.623454                             1498.096303   \n",
       "\n",
       "      primary_cleaner.state.floatbank8_a_level  \\\n",
       "5287                               -501.770403   \n",
       "5288                               -500.483984   \n",
       "5289                               -499.796922   \n",
       "\n",
       "      primary_cleaner.state.floatbank8_b_air  \\\n",
       "5287                             1499.572353   \n",
       "5288                             1497.986986   \n",
       "5289                             1501.743791   \n",
       "\n",
       "      primary_cleaner.state.floatbank8_b_level  \\\n",
       "5287                               -495.516347   \n",
       "5288                               -519.200340   \n",
       "5289                               -505.146931   \n",
       "\n",
       "      primary_cleaner.state.floatbank8_c_air  ...  \\\n",
       "5287                             1502.749213  ...   \n",
       "5288                             1496.569047  ...   \n",
       "5289                             1499.535978  ...   \n",
       "\n",
       "      secondary_cleaner.state.floatbank4_b_air  \\\n",
       "5287                                 15.101425   \n",
       "5288                                 15.026853   \n",
       "5289                                 14.914199   \n",
       "\n",
       "      secondary_cleaner.state.floatbank4_b_level  \\\n",
       "5287                                 -499.936252   \n",
       "5288                                 -499.723143   \n",
       "5289                                 -499.948518   \n",
       "\n",
       "      secondary_cleaner.state.floatbank5_a_air  \\\n",
       "5287                                 10.989181   \n",
       "5288                                 11.011607   \n",
       "5289                                 10.986607   \n",
       "\n",
       "      secondary_cleaner.state.floatbank5_a_level  \\\n",
       "5287                                 -498.347898   \n",
       "5288                                 -499.985046   \n",
       "5289                                 -500.658027   \n",
       "\n",
       "      secondary_cleaner.state.floatbank5_b_air  \\\n",
       "5287                                  9.020944   \n",
       "5288                                  9.009783   \n",
       "5289                                  8.989497   \n",
       "\n",
       "      secondary_cleaner.state.floatbank5_b_level  \\\n",
       "5287                                 -500.040448   \n",
       "5288                                 -499.937902   \n",
       "5289                                 -500.337588   \n",
       "\n",
       "      secondary_cleaner.state.floatbank6_a_air  \\\n",
       "5287                                  8.982038   \n",
       "5288                                  9.012660   \n",
       "5289                                  8.988632   \n",
       "\n",
       "      secondary_cleaner.state.floatbank6_a_level  rougher.output.recovery  \\\n",
       "5287                                 -497.789882                93.018138   \n",
       "5288                                 -500.154284                92.599042   \n",
       "5289                                 -500.764937                91.177695   \n",
       "\n",
       "      final.output.recovery  \n",
       "5287              67.092759  \n",
       "5288              68.061186  \n",
       "5289              71.699976  \n",
       "\n",
       "[3 rows x 55 columns]"
      ]
     },
     "execution_count": 15,
     "metadata": {},
     "output_type": "execute_result"
    }
   ],
   "source": [
    "test.tail(3)"
   ]
  },
  {
   "cell_type": "code",
   "execution_count": 16,
   "metadata": {
    "scrolled": true
   },
   "outputs": [
    {
     "data": {
      "text/plain": [
       "rougher.state.floatbank10_e_air               436\n",
       "rougher.input.floatbank11_xanthate            428\n",
       "secondary_cleaner.state.floatbank2_a_air      217\n",
       "rougher.input.feed_size                       144\n",
       "rougher.input.feed_pb                         100\n",
       "primary_cleaner.input.xanthate                100\n",
       "rougher.input.feed_sol                         78\n",
       "rougher.input.floatbank11_sulfate              36\n",
       "primary_cleaner.input.depressant               32\n",
       "rougher.input.floatbank10_sulfate              29\n",
       "secondary_cleaner.state.floatbank2_b_air       21\n",
       "primary_cleaner.input.sulfate                  20\n",
       "rougher.input.feed_rate                         8\n",
       "rougher.input.floatbank10_xanthate              8\n",
       "secondary_cleaner.state.floatbank4_a_air        6\n",
       "secondary_cleaner.state.floatbank3_a_air        4\n",
       "primary_cleaner.state.floatbank8_b_air          4\n",
       "primary_cleaner.state.floatbank8_a_air          4\n",
       "primary_cleaner.state.floatbank8_d_air          3\n",
       "primary_cleaner.state.floatbank8_c_air          2\n",
       "secondary_cleaner.state.floatbank6_a_air        2\n",
       "secondary_cleaner.state.floatbank3_b_level      1\n",
       "secondary_cleaner.state.floatbank3_a_level      1\n",
       "secondary_cleaner.state.floatbank2_b_level      1\n",
       "secondary_cleaner.state.floatbank2_a_level      1\n",
       "secondary_cleaner.state.floatbank3_b_air        1\n",
       "secondary_cleaner.state.floatbank4_b_air        1\n",
       "secondary_cleaner.state.floatbank4_a_level      1\n",
       "secondary_cleaner.state.floatbank4_b_level      1\n",
       "secondary_cleaner.state.floatbank5_a_air        1\n",
       "secondary_cleaner.state.floatbank5_a_level      1\n",
       "secondary_cleaner.state.floatbank5_b_air        1\n",
       "secondary_cleaner.state.floatbank5_b_level      1\n",
       "rougher.state.floatbank10_b_air                 1\n",
       "secondary_cleaner.state.floatbank6_a_level      1\n",
       "rougher.state.floatbank10_a_air                 1\n",
       "primary_cleaner.state.floatbank8_a_level        1\n",
       "primary_cleaner.state.floatbank8_b_level        1\n",
       "rougher.state.floatbank10_c_level               1\n",
       "rougher.state.floatbank10_c_air                 1\n",
       "rougher.state.floatbank10_b_level               1\n",
       "primary_cleaner.state.floatbank8_c_level        1\n",
       "rougher.state.floatbank10_a_level               1\n",
       "primary_cleaner.state.floatbank8_d_level        1\n",
       "rougher.input.feed_au                           0\n",
       "primary_cleaner.input.feed_size                 0\n",
       "rougher.input.feed_ag                           0\n",
       "rougher.state.floatbank10_f_air                 0\n",
       "rougher.output.recovery                         0\n",
       "rougher.state.floatbank10_f_level               0\n",
       "final.output.recovery                           0\n",
       "rougher.state.floatbank10_d_air                 0\n",
       "rougher.state.floatbank10_d_level               0\n",
       "rougher.state.floatbank10_e_level               0\n",
       "date                                            0\n",
       "dtype: int64"
      ]
     },
     "execution_count": 16,
     "metadata": {},
     "output_type": "execute_result"
    }
   ],
   "source": [
    "train.isna().sum().sort_values(ascending=False)"
   ]
  },
  {
   "cell_type": "code",
   "execution_count": 17,
   "metadata": {
    "scrolled": true
   },
   "outputs": [
    {
     "data": {
      "text/plain": [
       "rougher.input.floatbank11_xanthate            25\n",
       "rougher.input.feed_sol                        21\n",
       "secondary_cleaner.state.floatbank3_a_air       9\n",
       "rougher.input.floatbank11_sulfate              8\n",
       "primary_cleaner.input.depressant               5\n",
       "rougher.input.floatbank10_sulfate              5\n",
       "primary_cleaner.input.xanthate                 4\n",
       "primary_cleaner.input.sulfate                  4\n",
       "secondary_cleaner.state.floatbank2_a_air       3\n",
       "rougher.input.feed_rate                        3\n",
       "secondary_cleaner.state.floatbank2_b_air       2\n",
       "rougher.input.feed_size                        1\n",
       "secondary_cleaner.state.floatbank3_a_level     0\n",
       "secondary_cleaner.state.floatbank3_b_level     0\n",
       "secondary_cleaner.state.floatbank3_b_air       0\n",
       "secondary_cleaner.state.floatbank2_a_level     0\n",
       "rougher.state.floatbank10_f_level              0\n",
       "secondary_cleaner.state.floatbank2_b_level     0\n",
       "date                                           0\n",
       "rougher.state.floatbank10_e_level              0\n",
       "secondary_cleaner.state.floatbank4_a_air       0\n",
       "secondary_cleaner.state.floatbank4_a_level     0\n",
       "secondary_cleaner.state.floatbank4_b_air       0\n",
       "secondary_cleaner.state.floatbank4_b_level     0\n",
       "secondary_cleaner.state.floatbank5_a_air       0\n",
       "secondary_cleaner.state.floatbank5_a_level     0\n",
       "secondary_cleaner.state.floatbank5_b_air       0\n",
       "secondary_cleaner.state.floatbank5_b_level     0\n",
       "secondary_cleaner.state.floatbank6_a_air       0\n",
       "secondary_cleaner.state.floatbank6_a_level     0\n",
       "rougher.output.recovery                        0\n",
       "rougher.state.floatbank10_f_air                0\n",
       "rougher.state.floatbank10_c_air                0\n",
       "rougher.state.floatbank10_e_air                0\n",
       "rougher.state.floatbank10_d_level              0\n",
       "primary_cleaner.input.feed_size                0\n",
       "primary_cleaner.state.floatbank8_a_air         0\n",
       "primary_cleaner.state.floatbank8_a_level       0\n",
       "primary_cleaner.state.floatbank8_b_air         0\n",
       "primary_cleaner.state.floatbank8_b_level       0\n",
       "primary_cleaner.state.floatbank8_c_air         0\n",
       "primary_cleaner.state.floatbank8_c_level       0\n",
       "primary_cleaner.state.floatbank8_d_air         0\n",
       "primary_cleaner.state.floatbank8_d_level       0\n",
       "rougher.input.feed_ag                          0\n",
       "rougher.input.feed_pb                          0\n",
       "rougher.input.feed_au                          0\n",
       "rougher.input.floatbank10_xanthate             0\n",
       "rougher.state.floatbank10_a_air                0\n",
       "rougher.state.floatbank10_a_level              0\n",
       "rougher.state.floatbank10_b_air                0\n",
       "rougher.state.floatbank10_b_level              0\n",
       "rougher.state.floatbank10_c_level              0\n",
       "rougher.state.floatbank10_d_air                0\n",
       "final.output.recovery                          0\n",
       "dtype: int64"
      ]
     },
     "execution_count": 17,
     "metadata": {},
     "output_type": "execute_result"
    }
   ],
   "source": [
    "test.isna().sum().sort_values(ascending=False)"
   ]
  },
  {
   "cell_type": "markdown",
   "metadata": {},
   "source": [
    "Имеется некоторое количество пропусков, причина появления которых неизвестна. Можно предположить ошибки в датчиках, которые передают данные. Чтобы не исказить данные, применим метод форвардной заливки для заполнения пропусков для всех трех датасетов."
   ]
  },
  {
   "cell_type": "code",
   "execution_count": 18,
   "metadata": {},
   "outputs": [],
   "source": [
    "# заполним пропуски предыдущим известным значением\n",
    "full = full.fillna(method='ffill')\n",
    "train = train.fillna(method='ffill')\n",
    "test = test.fillna(method='ffill')"
   ]
  },
  {
   "cell_type": "code",
   "execution_count": 19,
   "metadata": {},
   "outputs": [
    {
     "data": {
      "text/plain": [
       "(0, 0, 0)"
      ]
     },
     "execution_count": 19,
     "metadata": {},
     "output_type": "execute_result"
    }
   ],
   "source": [
    "full.isna().sum().sum(), train.isna().sum().sum(), test.isna().sum().sum()"
   ]
  },
  {
   "cell_type": "markdown",
   "metadata": {},
   "source": [
    "## Анализ данных"
   ]
  },
  {
   "cell_type": "markdown",
   "metadata": {},
   "source": [
    "### Анализ изменения концентрации металлов на различных этапах очистки"
   ]
  },
  {
   "cell_type": "code",
   "execution_count": 20,
   "metadata": {},
   "outputs": [
    {
     "name": "stdout",
     "output_type": "stream",
     "text": [
      "Концентрация золота:\n",
      "до флотации =\n",
      "8.27\n",
      "после флотации =\n",
      "19.77\n",
      "после первой очистки =\n",
      "32.12\n",
      "после второй очистки = \n",
      "44.08\n",
      "\n",
      "Концентрация серебра:\n",
      "до флотации =\n",
      "8.79\n",
      "после флотации =\n",
      "11.99\n",
      "после первой очистки =\n",
      "8.44\n",
      "после второй очистки =\n",
      "5.17\n",
      "\n",
      "Концентрация свинца:\n",
      "до флотации =\n",
      "3.59\n",
      "после флотации =\n",
      "7.61\n",
      "после первой очистки =\n",
      "9.81\n",
      "после второй очистки =\n",
      "9.98\n"
     ]
    }
   ],
   "source": [
    "# проанализируем, как изменялась концентрация золота, серебра и свинца \n",
    "# до флотации, после флотации, после перивичной очистки и после вторичной очистки\n",
    "\n",
    "print('Концентрация золота:')\n",
    "print('до флотации =', full['rougher.input.feed_au'].mean().round(2), \n",
    "      'после флотации =', full['rougher.output.concentrate_au'].mean().round(2),\n",
    "      'после первой очистки =', full['primary_cleaner.output.concentrate_au'].mean().round(2),\n",
    "      'после второй очистки = ', full['final.output.concentrate_au'].mean().round(2), sep=\"\\n\"\n",
    "    )\n",
    "\n",
    "print()\n",
    "print('Концентрация серебра:')\n",
    "print('до флотации =', full['rougher.input.feed_ag'].mean().round(2), \n",
    "      'после флотации =', full['rougher.output.concentrate_ag'].mean().round(2),\n",
    "      'после первой очистки =', full['primary_cleaner.output.concentrate_ag'].mean().round(2),\n",
    "      'после второй очистки =', full['final.output.concentrate_ag'].mean().round(2), sep=\"\\n\"\n",
    "    )\n",
    "\n",
    "print()\n",
    "print('Концентрация свинца:')\n",
    "print('до флотации =', full['rougher.input.feed_pb'].mean().round(2), \n",
    "      'после флотации =', full['rougher.output.concentrate_pb'].mean().round(2),\n",
    "      'после первой очистки =', full['primary_cleaner.output.concentrate_pb'].mean().round(2),\n",
    "      'после второй очистки =', full['final.output.concentrate_pb'].mean().round(2), sep=\"\\n\"\n",
    "    )"
   ]
  },
  {
   "cell_type": "markdown",
   "metadata": {},
   "source": [
    "Можно заметить, что средняя концентрация золота и свинца растет, а средняя концентрация серебра после флотации, с каждой последующей обработкой падает."
   ]
  },
  {
   "cell_type": "markdown",
   "metadata": {},
   "source": [
    "### Сравнение распределения размеров гранул сырья на обучающей и тестовой выборках"
   ]
  },
  {
   "cell_type": "code",
   "execution_count": 21,
   "metadata": {},
   "outputs": [
    {
     "data": {
      "text/plain": [
       "<AxesSubplot:ylabel='Density'>"
      ]
     },
     "execution_count": 21,
     "metadata": {},
     "output_type": "execute_result"
    },
    {
     "data": {
      "image/png": "[encoded data removed]",
      "text/plain": [
       "<Figure size 720x504 with 1 Axes>"
      ]
     },
     "metadata": {
      "needs_background": "light"
     },
     "output_type": "display_data"
    }
   ],
   "source": [
    "# построим график плотности распределения размера гранул сырья при флотации\n",
    "pd.Series(train['rougher.input.feed_size']).plot(kind='density', bw_method=0.01, alpha=0.7, figsize=(10, 7))\n",
    "pd.Series(test['rougher.input.feed_size']).plot(kind='density', bw_method=0.01, alpha=0.7, figsize=(10, 7))\n"
   ]
  },
  {
   "cell_type": "code",
   "execution_count": 22,
   "metadata": {},
   "outputs": [
    {
     "data": {
      "text/plain": [
       "<AxesSubplot:ylabel='Density'>"
      ]
     },
     "execution_count": 22,
     "metadata": {},
     "output_type": "execute_result"
    },
    {
     "data": {
      "image/png": "[encoded data removed]",
      "text/plain": [
       "<Figure size 720x504 with 1 Axes>"
      ]
     },
     "metadata": {
      "needs_background": "light"
     },
     "output_type": "display_data"
    }
   ],
   "source": [
    "# построим график плотности распределения размера гранул сырья при первичной очистке\n",
    "pd.Series(train['primary_cleaner.input.feed_size']).plot(kind='density', bw_method=0.01, alpha=0.7, figsize=(10, 7))\n",
    "pd.Series(test['primary_cleaner.input.feed_size']).plot(kind='density', bw_method=0.01, alpha=0.7, figsize=(10, 7))"
   ]
  },
  {
   "cell_type": "markdown",
   "metadata": {},
   "source": [
    "Как видим, распределение размеров гранул на обучающей и тестовой выборках не имеют кардинальных различий."
   ]
  },
  {
   "cell_type": "markdown",
   "metadata": {},
   "source": [
    "### Исследование суммарной концентрации всех веществ на разных стадиях"
   ]
  },
  {
   "cell_type": "code",
   "execution_count": 23,
   "metadata": {},
   "outputs": [
    {
     "data": {
      "text/plain": [
       "0                final.output.concentrate_ag\n",
       "1                final.output.concentrate_pb\n",
       "2               final.output.concentrate_sol\n",
       "3                final.output.concentrate_au\n",
       "4      primary_cleaner.output.concentrate_ag\n",
       "5      primary_cleaner.output.concentrate_pb\n",
       "6     primary_cleaner.output.concentrate_sol\n",
       "7      primary_cleaner.output.concentrate_au\n",
       "8              rougher.output.concentrate_ag\n",
       "9              rougher.output.concentrate_pb\n",
       "10            rougher.output.concentrate_sol\n",
       "11             rougher.output.concentrate_au\n",
       "dtype: object"
      ]
     },
     "execution_count": 23,
     "metadata": {},
     "output_type": "execute_result"
    }
   ],
   "source": [
    "concentrate_col = []\n",
    "for i in full.columns:\n",
    "    if 'concentrate_' in i:\n",
    "        concentrate_col.append(i)\n",
    "        \n",
    "concentrate_col = pd.Series(concentrate_col)\n",
    "concentrate_col"
   ]
  },
  {
   "cell_type": "code",
   "execution_count": 24,
   "metadata": {},
   "outputs": [
    {
     "data": {
      "text/html": [
       "<div>\n",
       "<style scoped>\n",
       "    .dataframe tbody tr th:only-of-type {\n",
       "        vertical-align: middle;\n",
       "    }\n",
       "\n",
       "    .dataframe tbody tr th {\n",
       "        vertical-align: top;\n",
       "    }\n",
       "\n",
       "    .dataframe thead th {\n",
       "        text-align: right;\n",
       "    }\n",
       "</style>\n",
       "<table border=\"1\" class=\"dataframe\">\n",
       "  <thead>\n",
       "    <tr style=\"text-align: right;\">\n",
       "      <th></th>\n",
       "      <th>final.output.concentrate_ag</th>\n",
       "      <th>final.output.concentrate_pb</th>\n",
       "      <th>final.output.concentrate_sol</th>\n",
       "      <th>final.output.concentrate_au</th>\n",
       "      <th>primary_cleaner.output.concentrate_ag</th>\n",
       "      <th>primary_cleaner.output.concentrate_pb</th>\n",
       "      <th>primary_cleaner.output.concentrate_sol</th>\n",
       "      <th>primary_cleaner.output.concentrate_au</th>\n",
       "      <th>rougher.output.concentrate_ag</th>\n",
       "      <th>rougher.output.concentrate_pb</th>\n",
       "      <th>rougher.output.concentrate_sol</th>\n",
       "      <th>rougher.output.concentrate_au</th>\n",
       "    </tr>\n",
       "  </thead>\n",
       "  <tbody>\n",
       "    <tr>\n",
       "      <th>0</th>\n",
       "      <td>6.055403</td>\n",
       "      <td>9.889648</td>\n",
       "      <td>5.507324</td>\n",
       "      <td>42.192020</td>\n",
       "      <td>8.547551</td>\n",
       "      <td>10.389648</td>\n",
       "      <td>19.529297</td>\n",
       "      <td>34.174427</td>\n",
       "      <td>11.500771</td>\n",
       "      <td>7.101074</td>\n",
       "      <td>28.029297</td>\n",
       "      <td>19.793808</td>\n",
       "    </tr>\n",
       "    <tr>\n",
       "      <th>1</th>\n",
       "      <td>6.029369</td>\n",
       "      <td>9.968944</td>\n",
       "      <td>5.257781</td>\n",
       "      <td>42.701629</td>\n",
       "      <td>8.558743</td>\n",
       "      <td>10.497069</td>\n",
       "      <td>19.369147</td>\n",
       "      <td>34.118526</td>\n",
       "      <td>11.615865</td>\n",
       "      <td>7.278807</td>\n",
       "      <td>28.067063</td>\n",
       "      <td>20.050975</td>\n",
       "    </tr>\n",
       "    <tr>\n",
       "      <th>2</th>\n",
       "      <td>6.055926</td>\n",
       "      <td>10.213995</td>\n",
       "      <td>5.383759</td>\n",
       "      <td>42.657501</td>\n",
       "      <td>8.603505</td>\n",
       "      <td>10.354494</td>\n",
       "      <td>19.167579</td>\n",
       "      <td>33.969464</td>\n",
       "      <td>11.695753</td>\n",
       "      <td>7.216833</td>\n",
       "      <td>27.454037</td>\n",
       "      <td>19.737170</td>\n",
       "    </tr>\n",
       "    <tr>\n",
       "      <th>3</th>\n",
       "      <td>6.047977</td>\n",
       "      <td>9.977019</td>\n",
       "      <td>4.858634</td>\n",
       "      <td>42.689819</td>\n",
       "      <td>7.221879</td>\n",
       "      <td>8.496563</td>\n",
       "      <td>15.978538</td>\n",
       "      <td>28.260743</td>\n",
       "      <td>11.915047</td>\n",
       "      <td>7.175616</td>\n",
       "      <td>27.341277</td>\n",
       "      <td>19.320810</td>\n",
       "    </tr>\n",
       "    <tr>\n",
       "      <th>4</th>\n",
       "      <td>6.148599</td>\n",
       "      <td>10.142511</td>\n",
       "      <td>4.939416</td>\n",
       "      <td>42.774141</td>\n",
       "      <td>9.089428</td>\n",
       "      <td>9.986786</td>\n",
       "      <td>19.199864</td>\n",
       "      <td>33.044932</td>\n",
       "      <td>12.411054</td>\n",
       "      <td>7.240205</td>\n",
       "      <td>27.041023</td>\n",
       "      <td>19.216101</td>\n",
       "    </tr>\n",
       "  </tbody>\n",
       "</table>\n",
       "</div>"
      ],
      "text/plain": [
       "   final.output.concentrate_ag  final.output.concentrate_pb  \\\n",
       "0                     6.055403                     9.889648   \n",
       "1                     6.029369                     9.968944   \n",
       "2                     6.055926                    10.213995   \n",
       "3                     6.047977                     9.977019   \n",
       "4                     6.148599                    10.142511   \n",
       "\n",
       "   final.output.concentrate_sol  final.output.concentrate_au  \\\n",
       "0                      5.507324                    42.192020   \n",
       "1                      5.257781                    42.701629   \n",
       "2                      5.383759                    42.657501   \n",
       "3                      4.858634                    42.689819   \n",
       "4                      4.939416                    42.774141   \n",
       "\n",
       "   primary_cleaner.output.concentrate_ag  \\\n",
       "0                               8.547551   \n",
       "1                               8.558743   \n",
       "2                               8.603505   \n",
       "3                               7.221879   \n",
       "4                               9.089428   \n",
       "\n",
       "   primary_cleaner.output.concentrate_pb  \\\n",
       "0                              10.389648   \n",
       "1                              10.497069   \n",
       "2                              10.354494   \n",
       "3                               8.496563   \n",
       "4                               9.986786   \n",
       "\n",
       "   primary_cleaner.output.concentrate_sol  \\\n",
       "0                               19.529297   \n",
       "1                               19.369147   \n",
       "2                               19.167579   \n",
       "3                               15.978538   \n",
       "4                               19.199864   \n",
       "\n",
       "   primary_cleaner.output.concentrate_au  rougher.output.concentrate_ag  \\\n",
       "0                              34.174427                      11.500771   \n",
       "1                              34.118526                      11.615865   \n",
       "2                              33.969464                      11.695753   \n",
       "3                              28.260743                      11.915047   \n",
       "4                              33.044932                      12.411054   \n",
       "\n",
       "   rougher.output.concentrate_pb  rougher.output.concentrate_sol  \\\n",
       "0                       7.101074                       28.029297   \n",
       "1                       7.278807                       28.067063   \n",
       "2                       7.216833                       27.454037   \n",
       "3                       7.175616                       27.341277   \n",
       "4                       7.240205                       27.041023   \n",
       "\n",
       "   rougher.output.concentrate_au  \n",
       "0                      19.793808  \n",
       "1                      20.050975  \n",
       "2                      19.737170  \n",
       "3                      19.320810  \n",
       "4                      19.216101  "
      ]
     },
     "execution_count": 24,
     "metadata": {},
     "output_type": "execute_result"
    }
   ],
   "source": [
    "concentrate = full[concentrate_col]\n",
    "concentrate.head()"
   ]
  },
  {
   "cell_type": "code",
   "execution_count": 25,
   "metadata": {},
   "outputs": [
    {
     "data": {
      "text/html": [
       "<div>\n",
       "<style scoped>\n",
       "    .dataframe tbody tr th:only-of-type {\n",
       "        vertical-align: middle;\n",
       "    }\n",
       "\n",
       "    .dataframe tbody tr th {\n",
       "        vertical-align: top;\n",
       "    }\n",
       "\n",
       "    .dataframe thead th {\n",
       "        text-align: right;\n",
       "    }\n",
       "</style>\n",
       "<table border=\"1\" class=\"dataframe\">\n",
       "  <thead>\n",
       "    <tr style=\"text-align: right;\">\n",
       "      <th></th>\n",
       "      <th>rougher</th>\n",
       "      <th>primary_cleaner</th>\n",
       "      <th>final</th>\n",
       "    </tr>\n",
       "  </thead>\n",
       "  <tbody>\n",
       "    <tr>\n",
       "      <th>0</th>\n",
       "      <td>66.424950</td>\n",
       "      <td>72.640924</td>\n",
       "      <td>63.644396</td>\n",
       "    </tr>\n",
       "    <tr>\n",
       "      <th>1</th>\n",
       "      <td>67.012710</td>\n",
       "      <td>72.543485</td>\n",
       "      <td>63.957723</td>\n",
       "    </tr>\n",
       "    <tr>\n",
       "      <th>2</th>\n",
       "      <td>66.103793</td>\n",
       "      <td>72.095042</td>\n",
       "      <td>64.311180</td>\n",
       "    </tr>\n",
       "    <tr>\n",
       "      <th>3</th>\n",
       "      <td>65.752751</td>\n",
       "      <td>59.957723</td>\n",
       "      <td>63.573449</td>\n",
       "    </tr>\n",
       "    <tr>\n",
       "      <th>4</th>\n",
       "      <td>65.908382</td>\n",
       "      <td>71.321010</td>\n",
       "      <td>64.004667</td>\n",
       "    </tr>\n",
       "  </tbody>\n",
       "</table>\n",
       "</div>"
      ],
      "text/plain": [
       "     rougher  primary_cleaner      final\n",
       "0  66.424950        72.640924  63.644396\n",
       "1  67.012710        72.543485  63.957723\n",
       "2  66.103793        72.095042  64.311180\n",
       "3  65.752751        59.957723  63.573449\n",
       "4  65.908382        71.321010  64.004667"
      ]
     },
     "execution_count": 25,
     "metadata": {},
     "output_type": "execute_result"
    }
   ],
   "source": [
    "concentrate['rougher'] = (concentrate['rougher.output.concentrate_ag'] + \n",
    "                         concentrate['rougher.output.concentrate_pb'] +\n",
    "                         concentrate['rougher.output.concentrate_sol'] + \n",
    "                         concentrate['rougher.output.concentrate_au'])\n",
    "\n",
    "concentrate['primary_cleaner'] = (concentrate['primary_cleaner.output.concentrate_ag'] + \n",
    "                                concentrate['primary_cleaner.output.concentrate_pb'] +\n",
    "                                concentrate['primary_cleaner.output.concentrate_sol'] + \n",
    "                                concentrate['primary_cleaner.output.concentrate_au'])\n",
    "\n",
    "concentrate['final'] = (concentrate['final.output.concentrate_ag'] +\n",
    "                      concentrate['final.output.concentrate_pb'] + \n",
    "                      concentrate['final.output.concentrate_sol'] + \n",
    "                      concentrate['final.output.concentrate_au'])\n",
    "\n",
    "concentrate = concentrate[['rougher', 'primary_cleaner', 'final']]\n",
    "\n",
    "concentrate.head()"
   ]
  },
  {
   "cell_type": "code",
   "execution_count": 26,
   "metadata": {},
   "outputs": [
    {
     "data": {
      "text/plain": [
       "0.000000     394\n",
       "41.115844     11\n",
       "72.423889      6\n",
       "67.824055      6\n",
       "0.040000       5\n",
       "Name: rougher, dtype: int64"
      ]
     },
     "execution_count": 26,
     "metadata": {},
     "output_type": "execute_result"
    }
   ],
   "source": [
    "concentrate['rougher'].value_counts().head()"
   ]
  },
  {
   "cell_type": "code",
   "execution_count": 27,
   "metadata": {},
   "outputs": [
    {
     "data": {
      "text/plain": [
       "0.040000     117\n",
       "0.000000     108\n",
       "62.032338      6\n",
       "63.823562      5\n",
       "59.095131      5\n",
       "Name: primary_cleaner, dtype: int64"
      ]
     },
     "execution_count": 27,
     "metadata": {},
     "output_type": "execute_result"
    }
   ],
   "source": [
    "concentrate['primary_cleaner'].value_counts().head()"
   ]
  },
  {
   "cell_type": "code",
   "execution_count": 28,
   "metadata": {},
   "outputs": [
    {
     "data": {
      "text/plain": [
       "0.000000     98\n",
       "64.690452    11\n",
       "74.112068     7\n",
       "69.425969     6\n",
       "68.805134     5\n",
       "Name: final, dtype: int64"
      ]
     },
     "execution_count": 28,
     "metadata": {},
     "output_type": "execute_result"
    }
   ],
   "source": [
    "concentrate['final'].value_counts().head()"
   ]
  },
  {
   "cell_type": "code",
   "execution_count": 29,
   "metadata": {},
   "outputs": [
    {
     "data": {
      "text/plain": [
       "Text(0.5, 1.0, 'Суммарная концентрация веществ на этапе флотации')"
      ]
     },
     "execution_count": 29,
     "metadata": {},
     "output_type": "execute_result"
    },
    {
     "data": {
      "image/png": "[encoded data removed]",
      "text/plain": [
       "<Figure size 864x432 with 1 Axes>"
      ]
     },
     "metadata": {
      "needs_background": "light"
     },
     "output_type": "display_data"
    }
   ],
   "source": [
    "# посмотрим суммарное распределение на этапе флотации\n",
    "concentrate['rougher'].hist(bins = 50, figsize = (12, 6))\n",
    "plt.title('Суммарная концентрация веществ на этапе флотации')"
   ]
  },
  {
   "cell_type": "code",
   "execution_count": 30,
   "metadata": {},
   "outputs": [
    {
     "data": {
      "text/plain": [
       "Text(0.5, 1.0, 'Суммарная концентрация веществ на этапе первичной очистки')"
      ]
     },
     "execution_count": 30,
     "metadata": {},
     "output_type": "execute_result"
    },
    {
     "data": {
      "image/png": "[encoded data removed]",
      "text/plain": [
       "<Figure size 864x432 with 1 Axes>"
      ]
     },
     "metadata": {
      "needs_background": "light"
     },
     "output_type": "display_data"
    }
   ],
   "source": [
    "# посмотрим суммарное распределение на этапе первичной очистки \n",
    "concentrate['primary_cleaner'].hist(bins = 50, figsize = (12, 6))\n",
    "plt.title('Суммарная концентрация веществ на этапе первичной очистки')"
   ]
  },
  {
   "cell_type": "code",
   "execution_count": 31,
   "metadata": {},
   "outputs": [
    {
     "data": {
      "text/plain": [
       "Text(0.5, 1.0, 'Суммарная концентрация веществ на финальном этапе')"
      ]
     },
     "execution_count": 31,
     "metadata": {},
     "output_type": "execute_result"
    },
    {
     "data": {
      "image/png": "[encoded data removed]",
      "text/plain": [
       "<Figure size 864x432 with 1 Axes>"
      ]
     },
     "metadata": {
      "needs_background": "light"
     },
     "output_type": "display_data"
    }
   ],
   "source": [
    "# посмотрим суммарное распределение на финальном этапе\n",
    "concentrate['final'].hist(bins = 50, figsize = (12, 6))\n",
    "plt.title('Суммарная концентрация веществ на финальном этапе')"
   ]
  },
  {
   "cell_type": "markdown",
   "metadata": {},
   "source": [
    "График с каждым этапом становится более узким, разброс значений уменьшается. На финальном этапе концентрация составляет около 70.\n",
    "На всех трех графиках видим пики около нулевой отметки. Это является аномалией поэтому необходимо удалить строки, где концентрация веществ менее 1, из полной, обучающей и тестовой выборок."
   ]
  },
  {
   "cell_type": "code",
   "execution_count": 32,
   "metadata": {},
   "outputs": [
    {
     "data": {
      "text/plain": [
       "717"
      ]
     },
     "execution_count": 32,
     "metadata": {},
     "output_type": "execute_result"
    }
   ],
   "source": [
    "# создадим список индексов строк, которые нужно удалить\n",
    "index_for_drop = list(concentrate.query('rougher < 1 or primary_cleaner < 1 or final < 1').index)\n",
    "len(index_for_drop)"
   ]
  },
  {
   "cell_type": "code",
   "execution_count": 33,
   "metadata": {},
   "outputs": [
    {
     "data": {
      "text/plain": [
       "(18722, 87)"
      ]
     },
     "execution_count": 33,
     "metadata": {},
     "output_type": "execute_result"
    }
   ],
   "source": [
    "full = full.drop(index_for_drop, errors='ignore')\n",
    "full.shape"
   ]
  },
  {
   "cell_type": "code",
   "execution_count": 34,
   "metadata": {},
   "outputs": [
    {
     "data": {
      "text/plain": [
       "(13725, 55)"
      ]
     },
     "execution_count": 34,
     "metadata": {},
     "output_type": "execute_result"
    }
   ],
   "source": [
    "train = train.drop(index_for_drop, errors='ignore')\n",
    "train.shape"
   ]
  },
  {
   "cell_type": "code",
   "execution_count": 35,
   "metadata": {},
   "outputs": [],
   "source": [
    "#test = test.drop(index_for_drop, errors='ignore')\n",
    "#test.shape"
   ]
  },
  {
   "cell_type": "markdown",
   "metadata": {},
   "source": [
    "## Модель"
   ]
  },
  {
   "cell_type": "markdown",
   "metadata": {},
   "source": [
    "### Функция для вычисления итоговой sMAPE"
   ]
  },
  {
   "cell_type": "code",
   "execution_count": 36,
   "metadata": {},
   "outputs": [],
   "source": [
    "# функция для вычисления sMAPE\n",
    "def smape(true, pred):\n",
    "    error = abs(true - pred)\n",
    "    scale = (abs(true) + abs(pred)) / 2\n",
    "    return (error / scale).mean() * 100"
   ]
  },
  {
   "cell_type": "code",
   "execution_count": 37,
   "metadata": {},
   "outputs": [],
   "source": [
    "# функция для вычисления итоговой sMAPE\n",
    "def final_smape(rougher, final):\n",
    "    return 0.25 * rougher + 0.75 * final"
   ]
  },
  {
   "cell_type": "code",
   "execution_count": 38,
   "metadata": {},
   "outputs": [],
   "source": [
    "# создадим свой скорер, который будем использовать при кроссвалидации \n",
    "my_scorer = make_scorer(smape, greater_is_better=False)"
   ]
  },
  {
   "cell_type": "markdown",
   "metadata": {},
   "source": [
    "### Обучение моделей и выбор лучшей модели"
   ]
  },
  {
   "cell_type": "code",
   "execution_count": 39,
   "metadata": {},
   "outputs": [],
   "source": [
    "# подготовим признаки обучающей выборки\n",
    "features_train = train.drop(['date', 'rougher.output.recovery', 'final.output.recovery'], axis=1)\n",
    "target_train = train[['rougher.output.recovery', 'final.output.recovery']]"
   ]
  },
  {
   "cell_type": "code",
   "execution_count": 40,
   "metadata": {},
   "outputs": [],
   "source": [
    "# разделим целевой признак для двух этапов\n",
    "target_train_rougher = target_train['rougher.output.recovery']\n",
    "target_train_final = target_train['final.output.recovery']"
   ]
  },
  {
   "cell_type": "code",
   "execution_count": 41,
   "metadata": {},
   "outputs": [
    {
     "data": {
      "text/plain": [
       "((13725, 52), (13725,), (13725,))"
      ]
     },
     "execution_count": 41,
     "metadata": {},
     "output_type": "execute_result"
    }
   ],
   "source": [
    "features_train.shape, target_train_rougher.shape, target_train_final.shape"
   ]
  },
  {
   "cell_type": "code",
   "execution_count": 42,
   "metadata": {},
   "outputs": [],
   "source": [
    "# подготовим признаки тестовой выборки\n",
    "features_test = test.drop(['date', 'rougher.output.recovery', 'final.output.recovery'], axis=1)\n",
    "target_test = test[['rougher.output.recovery', 'final.output.recovery']]"
   ]
  },
  {
   "cell_type": "code",
   "execution_count": 43,
   "metadata": {},
   "outputs": [],
   "source": [
    "target_test_rougher = target_test['rougher.output.recovery']\n",
    "target_test_final = target_test['final.output.recovery']"
   ]
  },
  {
   "cell_type": "code",
   "execution_count": 44,
   "metadata": {},
   "outputs": [
    {
     "data": {
      "text/plain": [
       "((5290, 52), (5290,), (5290,))"
      ]
     },
     "execution_count": 44,
     "metadata": {},
     "output_type": "execute_result"
    }
   ],
   "source": [
    "features_test.shape, target_test_rougher.shape, target_test_final.shape"
   ]
  },
  {
   "cell_type": "code",
   "execution_count": 45,
   "metadata": {},
   "outputs": [
    {
     "data": {
      "text/html": [
       "<div>\n",
       "<style scoped>\n",
       "    .dataframe tbody tr th:only-of-type {\n",
       "        vertical-align: middle;\n",
       "    }\n",
       "\n",
       "    .dataframe tbody tr th {\n",
       "        vertical-align: top;\n",
       "    }\n",
       "\n",
       "    .dataframe thead th {\n",
       "        text-align: right;\n",
       "    }\n",
       "</style>\n",
       "<table border=\"1\" class=\"dataframe\">\n",
       "  <thead>\n",
       "    <tr style=\"text-align: right;\">\n",
       "      <th></th>\n",
       "      <th>rougher.output.recovery</th>\n",
       "      <th>final.output.recovery</th>\n",
       "    </tr>\n",
       "  </thead>\n",
       "  <tbody>\n",
       "    <tr>\n",
       "      <th>5287</th>\n",
       "      <td>93.018138</td>\n",
       "      <td>67.092759</td>\n",
       "    </tr>\n",
       "    <tr>\n",
       "      <th>5288</th>\n",
       "      <td>92.599042</td>\n",
       "      <td>68.061186</td>\n",
       "    </tr>\n",
       "    <tr>\n",
       "      <th>5289</th>\n",
       "      <td>91.177695</td>\n",
       "      <td>71.699976</td>\n",
       "    </tr>\n",
       "  </tbody>\n",
       "</table>\n",
       "</div>"
      ],
      "text/plain": [
       "      rougher.output.recovery  final.output.recovery\n",
       "5287                93.018138              67.092759\n",
       "5288                92.599042              68.061186\n",
       "5289                91.177695              71.699976"
      ]
     },
     "execution_count": 45,
     "metadata": {},
     "output_type": "execute_result"
    }
   ],
   "source": [
    "target_test.tail(3)"
   ]
  },
  {
   "cell_type": "code",
   "execution_count": 46,
   "metadata": {},
   "outputs": [
    {
     "data": {
      "text/plain": [
       "Index(['primary_cleaner.input.sulfate', 'primary_cleaner.input.depressant',\n",
       "       'primary_cleaner.input.feed_size', 'primary_cleaner.input.xanthate',\n",
       "       'primary_cleaner.state.floatbank8_a_air',\n",
       "       'primary_cleaner.state.floatbank8_a_level',\n",
       "       'primary_cleaner.state.floatbank8_b_air',\n",
       "       'primary_cleaner.state.floatbank8_b_level',\n",
       "       'primary_cleaner.state.floatbank8_c_air',\n",
       "       'primary_cleaner.state.floatbank8_c_level',\n",
       "       'primary_cleaner.state.floatbank8_d_air',\n",
       "       'primary_cleaner.state.floatbank8_d_level', 'rougher.input.feed_ag',\n",
       "       'rougher.input.feed_pb', 'rougher.input.feed_rate',\n",
       "       'rougher.input.feed_size', 'rougher.input.feed_sol',\n",
       "       'rougher.input.feed_au', 'rougher.input.floatbank10_sulfate',\n",
       "       'rougher.input.floatbank10_xanthate',\n",
       "       'rougher.input.floatbank11_sulfate',\n",
       "       'rougher.input.floatbank11_xanthate', 'rougher.state.floatbank10_a_air',\n",
       "       'rougher.state.floatbank10_a_level', 'rougher.state.floatbank10_b_air',\n",
       "       'rougher.state.floatbank10_b_level', 'rougher.state.floatbank10_c_air',\n",
       "       'rougher.state.floatbank10_c_level', 'rougher.state.floatbank10_d_air',\n",
       "       'rougher.state.floatbank10_d_level', 'rougher.state.floatbank10_e_air',\n",
       "       'rougher.state.floatbank10_e_level', 'rougher.state.floatbank10_f_air',\n",
       "       'rougher.state.floatbank10_f_level',\n",
       "       'secondary_cleaner.state.floatbank2_a_air',\n",
       "       'secondary_cleaner.state.floatbank2_a_level',\n",
       "       'secondary_cleaner.state.floatbank2_b_air',\n",
       "       'secondary_cleaner.state.floatbank2_b_level',\n",
       "       'secondary_cleaner.state.floatbank3_a_air',\n",
       "       'secondary_cleaner.state.floatbank3_a_level',\n",
       "       'secondary_cleaner.state.floatbank3_b_air',\n",
       "       'secondary_cleaner.state.floatbank3_b_level',\n",
       "       'secondary_cleaner.state.floatbank4_a_air',\n",
       "       'secondary_cleaner.state.floatbank4_a_level',\n",
       "       'secondary_cleaner.state.floatbank4_b_air',\n",
       "       'secondary_cleaner.state.floatbank4_b_level',\n",
       "       'secondary_cleaner.state.floatbank5_a_air',\n",
       "       'secondary_cleaner.state.floatbank5_a_level',\n",
       "       'secondary_cleaner.state.floatbank5_b_air',\n",
       "       'secondary_cleaner.state.floatbank5_b_level',\n",
       "       'secondary_cleaner.state.floatbank6_a_air',\n",
       "       'secondary_cleaner.state.floatbank6_a_level'],\n",
       "      dtype='object')"
      ]
     },
     "execution_count": 46,
     "metadata": {},
     "output_type": "execute_result"
    }
   ],
   "source": [
    "features_test.columns"
   ]
  },
  {
   "cell_type": "markdown",
   "metadata": {},
   "source": [
    "#### Линейная регрессия"
   ]
  },
  {
   "cell_type": "code",
   "execution_count": 47,
   "metadata": {},
   "outputs": [
    {
     "name": "stdout",
     "output_type": "stream",
     "text": [
      "Результат модели Линейная регрессия -12.219574044403355\n"
     ]
    }
   ],
   "source": [
    "# посмотрим какую метрику будет выдавать модель на стандартных гиперпараметрах\n",
    "model_lr = LinearRegression()\n",
    "score_lr_rougher = cross_val_score(model_lr, features_train, target_train_rougher, cv=5, scoring=my_scorer).mean()\n",
    "score_lr_final = cross_val_score(model_lr, features_train, target_train_final, cv=5, scoring=my_scorer).mean()\n",
    "score_lr = final_smape(score_lr_rougher, score_lr_final)\n",
    "print('Результат модели Линейная регрессия', score_lr)"
   ]
  },
  {
   "cell_type": "markdown",
   "metadata": {},
   "source": [
    "У линейной регрессии немного гиперпараметров, которые можно перебрать. Возьмем полученную метрику в качестве ориентира и сравним с другими моделями."
   ]
  },
  {
   "cell_type": "markdown",
   "metadata": {},
   "source": [
    "#### Решающее дерево"
   ]
  },
  {
   "cell_type": "code",
   "execution_count": 48,
   "metadata": {},
   "outputs": [
    {
     "name": "stdout",
     "output_type": "stream",
     "text": [
      "Результат модели Решающее дерево -20.546854650851927\n"
     ]
    }
   ],
   "source": [
    "# стандартные гиперпараметры\n",
    "model_dt = DecisionTreeRegressor(random_state=12345)\n",
    "score_dt_rougher = cross_val_score(model_dt, features_train, target_train_rougher, cv=5, scoring=my_scorer).mean()\n",
    "score_dt_final = cross_val_score(model_dt, features_train, target_train_final, cv=5, scoring=my_scorer).mean()\n",
    "score_dt = final_smape(score_dt_rougher, score_dt_final)\n",
    "print('Результат модели Решающее дерево', score_dt)"
   ]
  },
  {
   "cell_type": "code",
   "execution_count": 49,
   "metadata": {},
   "outputs": [
    {
     "name": "stdout",
     "output_type": "stream",
     "text": [
      "CPU times: user 39.1 s, sys: 298 ms, total: 39.4 s\n",
      "Wall time: 40.4 s\n"
     ]
    },
    {
     "data": {
      "text/plain": [
       "GridSearchCV(cv=5, estimator=DecisionTreeRegressor(),\n",
       "             param_grid={'max_depth': range(1, 13)})"
      ]
     },
     "execution_count": 49,
     "metadata": {},
     "output_type": "execute_result"
    }
   ],
   "source": [
    "%%time\n",
    "# применим поиск по сетке\n",
    "# обьявим модель без параметров\n",
    "model_dt = DecisionTreeRegressor()\n",
    "\n",
    "# создадим словарь, в который вписываем параметры, которые будем прогонять GridSearch’ем\n",
    "parametrs = {'max_depth': range (1,13)}\n",
    "\n",
    "# запустим обучение\n",
    "grid_dt_rougher = GridSearchCV(model_dt, parametrs, cv=5)\n",
    "grid_dt_final = GridSearchCV(model_dt, parametrs, cv=5)\n",
    "grid_dt_rougher.fit(features_train, target_train_rougher)\n",
    "grid_dt_final.fit(features_train, target_train_rougher)"
   ]
  },
  {
   "cell_type": "code",
   "execution_count": 50,
   "metadata": {},
   "outputs": [
    {
     "data": {
      "text/plain": [
       "({'max_depth': 5}, {'max_depth': 5})"
      ]
     },
     "execution_count": 50,
     "metadata": {},
     "output_type": "execute_result"
    }
   ],
   "source": [
    "# выведем лучшие гиперпараметры\n",
    "grid_dt_rougher.best_params_, grid_dt_final.best_params_"
   ]
  },
  {
   "cell_type": "code",
   "execution_count": 51,
   "metadata": {},
   "outputs": [
    {
     "name": "stdout",
     "output_type": "stream",
     "text": [
      "Результат модели Решающее дерево после подбора гиперпараметров -11.716036929428752\n"
     ]
    }
   ],
   "source": [
    "# инициализируем модель с лучшими параметрами\n",
    "model_dt = DecisionTreeRegressor(random_state=12345, max_depth = 5)\n",
    "score_dt_rougher = cross_val_score(model_dt, features_train, target_train_rougher, cv=5, scoring=my_scorer).mean()\n",
    "score_dt_final = cross_val_score(model_dt, features_train, target_train_final, cv=5, scoring=my_scorer).mean()\n",
    "score_dt = final_smape(score_dt_rougher, score_dt_final)\n",
    "print('Результат модели Решающее дерево после подбора гиперпараметров', score_dt)"
   ]
  },
  {
   "cell_type": "markdown",
   "metadata": {},
   "source": [
    "Получили метрику чуть лучше, чем у Линейной регрессии и намного лучше, чем у Решающего дерева на стандартных гиперпараметрах."
   ]
  },
  {
   "cell_type": "markdown",
   "metadata": {},
   "source": [
    "#### Случайный лес"
   ]
  },
  {
   "cell_type": "code",
   "execution_count": 52,
   "metadata": {},
   "outputs": [
    {
     "name": "stdout",
     "output_type": "stream",
     "text": [
      "Результат-1 модели Случайный лес -11.668349676733229\n",
      "Результат-2 модели Случайный лес -11.668349676733229\n"
     ]
    }
   ],
   "source": [
    "# стандартные гиперпараметры\n",
    "#model_rf = RandomForestRegressor(random_state=12345)\n",
    "#score_rf_rougher = cross_val_score(model_rf, features_train, target_train_rougher, cv=5, scoring=my_scorer).mean()\n",
    "#score_rf_final = cross_val_score(model_rf, features_train, target_train_final, cv=5, scoring=my_scorer).mean()\n",
    "#score_rf = final_smape(score_rf_rougher, score_rf_final)\n",
    "#print('Результат модели Случайный лес', score_rf)\n",
    "\n",
    "\n",
    "print('Результат-1 модели Случайный лес', -11.668349676733229)\n",
    "print('Результат-2 модели Случайный лес', -11.668349676733229)"
   ]
  },
  {
   "cell_type": "code",
   "execution_count": 53,
   "metadata": {},
   "outputs": [],
   "source": [
    "# снова применим поиск по сетке параметров\n",
    "#model_rf = RandomForestRegressor()\n",
    "#parametrs = {'n_estimators': [1, 100], 'max_depth': [1, 12]}\n",
    "#grid_rf_rougher = GridSearchCV(model_rf, parametrs, cv=5)\n",
    "#grid_rf_final = GridSearchCV(model_rf, parametrs, cv=5)\n",
    "#grid_rf_rougher.fit(features_train, target_train_rougher)\n",
    "#grid_rf_final.fit(features_train, target_train_rougher)"
   ]
  },
  {
   "cell_type": "code",
   "execution_count": 54,
   "metadata": {},
   "outputs": [],
   "source": [
    "# получили гиперпараметры: глубина 12, количество деревьев 100\n",
    "\n",
    "#grid_rf_rougher.best_params_, grid_rf_final.best_params_"
   ]
  },
  {
   "cell_type": "code",
   "execution_count": 55,
   "metadata": {},
   "outputs": [
    {
     "name": "stdout",
     "output_type": "stream",
     "text": [
      "Результат-1 модели Случайный лес после подбора гиперпараметров -11.355497868380732\n",
      "Результат-2 модели Случайный лес после подбора гиперпараметров -11.355497868380732\n"
     ]
    }
   ],
   "source": [
    "# инициализируем модель с лучшими параметрами\n",
    "#model_rf = RandomForestRegressor(random_state=12345, max_depth = 12, n_estimators = 100)\n",
    "#score_rf_rougher = cross_val_score(model_rf, features_train, target_train_rougher, cv=5, scoring=my_scorer).mean()\n",
    "#score_rf_final = cross_val_score(model_rf, features_train, target_train_final, cv=5, scoring=my_scorer).mean()\n",
    "#score_rf = final_smape(score_rf_rougher, score_rf_final)\n",
    "#print('Результат модели Случайный лес после подбора гиперпараметров', score_rf)\n",
    "\n",
    "print('Результат-1 модели Случайный лес после подбора гиперпараметров', -11.355497868380732)\n",
    "print('Результат-2 модели Случайный лес после подбора гиперпараметров', -11.355497868380732)"
   ]
  },
  {
   "cell_type": "markdown",
   "metadata": {},
   "source": [
    "Модель случайный лес показала на данный момент лучшую метрику, но все же улучшение незначительное."
   ]
  },
  {
   "cell_type": "markdown",
   "metadata": {},
   "source": [
    "#### CatBoostRegressor"
   ]
  },
  {
   "cell_type": "code",
   "execution_count": 56,
   "metadata": {},
   "outputs": [
    {
     "name": "stdout",
     "output_type": "stream",
     "text": [
      "Learning rate set to 0.061931\n",
      "0:\tlearn: 13.8375714\ttotal: 68.5ms\tremaining: 1m 8s\n",
      "1:\tlearn: 13.5984351\ttotal: 83.7ms\tremaining: 41.8s\n",
      "2:\tlearn: 13.3765622\ttotal: 98.9ms\tremaining: 32.9s\n",
      "3:\tlearn: 13.1741388\ttotal: 114ms\tremaining: 28.5s\n",
      "4:\tlearn: 12.9808794\ttotal: 131ms\tremaining: 26s\n",
      "5:\tlearn: 12.7493443\ttotal: 145ms\tremaining: 24.1s\n",
      "6:\tlearn: 12.5849963\ttotal: 161ms\tremaining: 22.8s\n",
      "7:\tlearn: 12.4237386\ttotal: 176ms\tremaining: 21.8s\n",
      "8:\tlearn: 12.2728910\ttotal: 191ms\tremaining: 21.1s\n",
      "9:\tlearn: 12.1453141\ttotal: 206ms\tremaining: 20.4s\n",
      "10:\tlearn: 11.9912620\ttotal: 221ms\tremaining: 19.9s\n",
      "11:\tlearn: 11.8834268\ttotal: 236ms\tremaining: 19.5s\n",
      "12:\tlearn: 11.7588124\ttotal: 251ms\tremaining: 19.1s\n",
      "13:\tlearn: 11.6510651\ttotal: 265ms\tremaining: 18.7s\n",
      "14:\tlearn: 11.5205362\ttotal: 283ms\tremaining: 18.6s\n",
      "15:\tlearn: 11.4028474\ttotal: 297ms\tremaining: 18.3s\n",
      "16:\tlearn: 11.2948524\ttotal: 312ms\tremaining: 18s\n",
      "17:\tlearn: 11.2014934\ttotal: 327ms\tremaining: 17.8s\n",
      "18:\tlearn: 11.1236764\ttotal: 342ms\tremaining: 17.7s\n",
      "19:\tlearn: 11.0502210\ttotal: 356ms\tremaining: 17.5s\n",
      "20:\tlearn: 10.9749298\ttotal: 371ms\tremaining: 17.3s\n",
      "21:\tlearn: 10.8891936\ttotal: 386ms\tremaining: 17.2s\n",
      "22:\tlearn: 10.8042977\ttotal: 402ms\tremaining: 17.1s\n",
      "23:\tlearn: 10.7552501\ttotal: 417ms\tremaining: 16.9s\n",
      "24:\tlearn: 10.6869761\ttotal: 432ms\tremaining: 16.9s\n",
      "25:\tlearn: 10.6177198\ttotal: 447ms\tremaining: 16.7s\n",
      "26:\tlearn: 10.5523514\ttotal: 462ms\tremaining: 16.6s\n",
      "27:\tlearn: 10.5036061\ttotal: 477ms\tremaining: 16.6s\n",
      "28:\tlearn: 10.4601126\ttotal: 494ms\tremaining: 16.5s\n",
      "29:\tlearn: 10.3923416\ttotal: 510ms\tremaining: 16.5s\n",
      "30:\tlearn: 10.3604976\ttotal: 526ms\tremaining: 16.4s\n",
      "31:\tlearn: 10.3179833\ttotal: 541ms\tremaining: 16.4s\n",
      "32:\tlearn: 10.2663099\ttotal: 557ms\tremaining: 16.3s\n",
      "33:\tlearn: 10.2346626\ttotal: 572ms\tremaining: 16.2s\n",
      "34:\tlearn: 10.1901370\ttotal: 587ms\tremaining: 16.2s\n",
      "35:\tlearn: 10.1583406\ttotal: 601ms\tremaining: 16.1s\n",
      "36:\tlearn: 10.1184047\ttotal: 617ms\tremaining: 16.1s\n",
      "37:\tlearn: 10.0666162\ttotal: 633ms\tremaining: 16s\n",
      "38:\tlearn: 10.0428553\ttotal: 649ms\tremaining: 16s\n",
      "39:\tlearn: 10.0194426\ttotal: 674ms\tremaining: 16.2s\n",
      "40:\tlearn: 9.9845067\ttotal: 694ms\tremaining: 16.2s\n",
      "41:\tlearn: 9.9613354\ttotal: 714ms\tremaining: 16.3s\n",
      "42:\tlearn: 9.9302801\ttotal: 731ms\tremaining: 16.3s\n",
      "43:\tlearn: 9.8982743\ttotal: 749ms\tremaining: 16.3s\n",
      "44:\tlearn: 9.8825152\ttotal: 770ms\tremaining: 16.3s\n",
      "45:\tlearn: 9.8251608\ttotal: 791ms\tremaining: 16.4s\n",
      "46:\tlearn: 9.8037508\ttotal: 813ms\tremaining: 16.5s\n",
      "47:\tlearn: 9.7852625\ttotal: 833ms\tremaining: 16.5s\n",
      "48:\tlearn: 9.7286551\ttotal: 855ms\tremaining: 16.6s\n",
      "49:\tlearn: 9.7115930\ttotal: 874ms\tremaining: 16.6s\n",
      "50:\tlearn: 9.6922747\ttotal: 892ms\tremaining: 16.6s\n",
      "51:\tlearn: 9.6575429\ttotal: 909ms\tremaining: 16.6s\n",
      "52:\tlearn: 9.6390746\ttotal: 926ms\tremaining: 16.6s\n",
      "53:\tlearn: 9.6256839\ttotal: 941ms\tremaining: 16.5s\n",
      "54:\tlearn: 9.5902878\ttotal: 959ms\tremaining: 16.5s\n",
      "55:\tlearn: 9.5703564\ttotal: 975ms\tremaining: 16.4s\n",
      "56:\tlearn: 9.5526473\ttotal: 990ms\tremaining: 16.4s\n",
      "57:\tlearn: 9.5072656\ttotal: 1s\tremaining: 16.3s\n",
      "58:\tlearn: 9.4638673\ttotal: 1.02s\tremaining: 16.3s\n",
      "59:\tlearn: 9.4516383\ttotal: 1.03s\tremaining: 16.2s\n",
      "60:\tlearn: 9.4329692\ttotal: 1.05s\tremaining: 16.2s\n",
      "61:\tlearn: 9.4146028\ttotal: 1.06s\tremaining: 16.1s\n",
      "62:\tlearn: 9.3901032\ttotal: 1.08s\tremaining: 16.1s\n",
      "63:\tlearn: 9.3546178\ttotal: 1.09s\tremaining: 16s\n",
      "64:\tlearn: 9.3407671\ttotal: 1.11s\tremaining: 16s\n",
      "65:\tlearn: 9.3066789\ttotal: 1.13s\tremaining: 16.1s\n",
      "66:\tlearn: 9.2534528\ttotal: 1.16s\tremaining: 16.1s\n",
      "67:\tlearn: 9.2387632\ttotal: 1.17s\tremaining: 16.1s\n",
      "68:\tlearn: 9.2284777\ttotal: 1.19s\tremaining: 16.1s\n",
      "69:\tlearn: 9.2121882\ttotal: 1.21s\tremaining: 16.1s\n",
      "70:\tlearn: 9.1904139\ttotal: 1.23s\tremaining: 16.1s\n",
      "71:\tlearn: 9.1791717\ttotal: 1.24s\tremaining: 16s\n",
      "72:\tlearn: 9.1459390\ttotal: 1.26s\tremaining: 16s\n",
      "73:\tlearn: 9.1318415\ttotal: 1.28s\tremaining: 16s\n",
      "74:\tlearn: 9.0992832\ttotal: 1.29s\tremaining: 15.9s\n",
      "75:\tlearn: 9.0759929\ttotal: 1.31s\tremaining: 15.9s\n",
      "76:\tlearn: 9.0628549\ttotal: 1.32s\tremaining: 15.8s\n",
      "77:\tlearn: 9.0356611\ttotal: 1.34s\tremaining: 15.8s\n",
      "78:\tlearn: 9.0194190\ttotal: 1.36s\tremaining: 15.8s\n",
      "79:\tlearn: 9.0115612\ttotal: 1.37s\tremaining: 15.8s\n",
      "80:\tlearn: 8.9999458\ttotal: 1.39s\tremaining: 15.7s\n",
      "81:\tlearn: 8.9927002\ttotal: 1.4s\tremaining: 15.7s\n",
      "82:\tlearn: 8.9823397\ttotal: 1.42s\tremaining: 15.6s\n",
      "83:\tlearn: 8.9626736\ttotal: 1.43s\tremaining: 15.6s\n",
      "84:\tlearn: 8.9545790\ttotal: 1.45s\tremaining: 15.6s\n",
      "85:\tlearn: 8.9408150\ttotal: 1.46s\tremaining: 15.6s\n",
      "86:\tlearn: 8.9218864\ttotal: 1.48s\tremaining: 15.5s\n",
      "87:\tlearn: 8.9059093\ttotal: 1.49s\tremaining: 15.5s\n",
      "88:\tlearn: 8.8864327\ttotal: 1.51s\tremaining: 15.4s\n",
      "89:\tlearn: 8.8723808\ttotal: 1.52s\tremaining: 15.4s\n",
      "90:\tlearn: 8.8624356\ttotal: 1.54s\tremaining: 15.4s\n",
      "91:\tlearn: 8.8544930\ttotal: 1.56s\tremaining: 15.4s\n",
      "92:\tlearn: 8.8336499\ttotal: 1.57s\tremaining: 15.4s\n",
      "93:\tlearn: 8.8235085\ttotal: 1.59s\tremaining: 15.3s\n",
      "94:\tlearn: 8.8079185\ttotal: 1.61s\tremaining: 15.3s\n",
      "95:\tlearn: 8.7996529\ttotal: 1.63s\tremaining: 15.3s\n",
      "96:\tlearn: 8.7616418\ttotal: 1.64s\tremaining: 15.3s\n",
      "97:\tlearn: 8.7433802\ttotal: 1.66s\tremaining: 15.3s\n",
      "98:\tlearn: 8.7131147\ttotal: 1.67s\tremaining: 15.2s\n",
      "99:\tlearn: 8.7056895\ttotal: 1.69s\tremaining: 15.2s\n",
      "100:\tlearn: 8.6734676\ttotal: 1.71s\tremaining: 15.2s\n",
      "101:\tlearn: 8.6511102\ttotal: 1.72s\tremaining: 15.2s\n",
      "102:\tlearn: 8.6327634\ttotal: 1.74s\tremaining: 15.2s\n",
      "103:\tlearn: 8.6146216\ttotal: 1.76s\tremaining: 15.2s\n",
      "104:\tlearn: 8.6005564\ttotal: 1.78s\tremaining: 15.1s\n",
      "105:\tlearn: 8.5826283\ttotal: 1.79s\tremaining: 15.1s\n",
      "106:\tlearn: 8.5758379\ttotal: 1.81s\tremaining: 15.1s\n",
      "107:\tlearn: 8.5479464\ttotal: 1.82s\tremaining: 15.1s\n",
      "108:\tlearn: 8.5375588\ttotal: 1.84s\tremaining: 15s\n",
      "109:\tlearn: 8.5145991\ttotal: 1.85s\tremaining: 15s\n",
      "110:\tlearn: 8.5022166\ttotal: 1.87s\tremaining: 15s\n",
      "111:\tlearn: 8.4908169\ttotal: 1.89s\tremaining: 14.9s\n",
      "112:\tlearn: 8.4819234\ttotal: 1.9s\tremaining: 14.9s\n",
      "113:\tlearn: 8.4602467\ttotal: 1.92s\tremaining: 14.9s\n",
      "114:\tlearn: 8.4521083\ttotal: 1.93s\tremaining: 14.9s\n",
      "115:\tlearn: 8.4437827\ttotal: 1.95s\tremaining: 14.9s\n",
      "116:\tlearn: 8.4323443\ttotal: 1.97s\tremaining: 14.8s\n",
      "117:\tlearn: 8.4222756\ttotal: 1.98s\tremaining: 14.8s\n",
      "118:\tlearn: 8.4006240\ttotal: 2s\tremaining: 14.8s\n",
      "119:\tlearn: 8.3844948\ttotal: 2.01s\tremaining: 14.7s\n",
      "120:\tlearn: 8.3776780\ttotal: 2.03s\tremaining: 14.7s\n",
      "121:\tlearn: 8.3447651\ttotal: 2.04s\tremaining: 14.7s\n",
      "122:\tlearn: 8.3348025\ttotal: 2.06s\tremaining: 14.7s\n",
      "123:\tlearn: 8.3287272\ttotal: 2.07s\tremaining: 14.6s\n",
      "124:\tlearn: 8.3185229\ttotal: 2.09s\tremaining: 14.6s\n",
      "125:\tlearn: 8.3073619\ttotal: 2.1s\tremaining: 14.6s\n",
      "126:\tlearn: 8.2992828\ttotal: 2.12s\tremaining: 14.6s\n",
      "127:\tlearn: 8.2876680\ttotal: 2.14s\tremaining: 14.6s\n",
      "128:\tlearn: 8.2633567\ttotal: 2.15s\tremaining: 14.5s\n",
      "129:\tlearn: 8.2417053\ttotal: 2.17s\tremaining: 14.5s\n",
      "130:\tlearn: 8.2353761\ttotal: 2.18s\tremaining: 14.5s\n",
      "131:\tlearn: 8.2218138\ttotal: 2.2s\tremaining: 14.5s\n",
      "132:\tlearn: 8.2164279\ttotal: 2.21s\tremaining: 14.4s\n",
      "133:\tlearn: 8.2080680\ttotal: 2.23s\tremaining: 14.4s\n",
      "134:\tlearn: 8.2004845\ttotal: 2.25s\tremaining: 14.4s\n",
      "135:\tlearn: 8.1852452\ttotal: 2.26s\tremaining: 14.4s\n",
      "136:\tlearn: 8.1798116\ttotal: 2.27s\tremaining: 14.3s\n",
      "137:\tlearn: 8.1597062\ttotal: 2.29s\tremaining: 14.3s\n",
      "138:\tlearn: 8.1499238\ttotal: 2.3s\tremaining: 14.3s\n",
      "139:\tlearn: 8.1389633\ttotal: 2.32s\tremaining: 14.2s\n",
      "140:\tlearn: 8.1312438\ttotal: 2.33s\tremaining: 14.2s\n",
      "141:\tlearn: 8.1173489\ttotal: 2.35s\tremaining: 14.2s\n",
      "142:\tlearn: 8.1039428\ttotal: 2.36s\tremaining: 14.2s\n",
      "143:\tlearn: 8.0977260\ttotal: 2.38s\tremaining: 14.1s\n",
      "144:\tlearn: 8.0883309\ttotal: 2.39s\tremaining: 14.1s\n",
      "145:\tlearn: 8.0776350\ttotal: 2.41s\tremaining: 14.1s\n",
      "146:\tlearn: 8.0688814\ttotal: 2.42s\tremaining: 14.1s\n",
      "147:\tlearn: 8.0559331\ttotal: 2.44s\tremaining: 14s\n",
      "148:\tlearn: 8.0440186\ttotal: 2.45s\tremaining: 14s\n",
      "149:\tlearn: 8.0373741\ttotal: 2.47s\tremaining: 14s\n",
      "150:\tlearn: 8.0276588\ttotal: 2.48s\tremaining: 14s\n",
      "151:\tlearn: 8.0134112\ttotal: 2.5s\tremaining: 13.9s\n",
      "152:\tlearn: 8.0022874\ttotal: 2.52s\tremaining: 13.9s\n",
      "153:\tlearn: 7.9975570\ttotal: 2.53s\tremaining: 13.9s\n",
      "154:\tlearn: 7.9920581\ttotal: 2.54s\tremaining: 13.9s\n",
      "155:\tlearn: 7.9848213\ttotal: 2.56s\tremaining: 13.8s\n",
      "156:\tlearn: 7.9777127\ttotal: 2.57s\tremaining: 13.8s\n",
      "157:\tlearn: 7.9596357\ttotal: 2.59s\tremaining: 13.8s\n",
      "158:\tlearn: 7.9541190\ttotal: 2.6s\tremaining: 13.8s\n",
      "159:\tlearn: 7.9430853\ttotal: 2.62s\tremaining: 13.7s\n",
      "160:\tlearn: 7.9219785\ttotal: 2.63s\tremaining: 13.7s\n",
      "161:\tlearn: 7.9134294\ttotal: 2.65s\tremaining: 13.7s\n",
      "162:\tlearn: 7.9039572\ttotal: 2.66s\tremaining: 13.7s\n",
      "163:\tlearn: 7.8966899\ttotal: 2.68s\tremaining: 13.7s\n",
      "164:\tlearn: 7.8864938\ttotal: 2.69s\tremaining: 13.6s\n",
      "165:\tlearn: 7.8792742\ttotal: 2.71s\tremaining: 13.6s\n",
      "166:\tlearn: 7.8703788\ttotal: 2.72s\tremaining: 13.6s\n",
      "167:\tlearn: 7.8641145\ttotal: 2.74s\tremaining: 13.6s\n",
      "168:\tlearn: 7.8476451\ttotal: 2.75s\tremaining: 13.5s\n",
      "169:\tlearn: 7.8382478\ttotal: 2.77s\tremaining: 13.5s\n",
      "170:\tlearn: 7.8243498\ttotal: 2.79s\tremaining: 13.5s\n",
      "171:\tlearn: 7.8049962\ttotal: 2.8s\tremaining: 13.5s\n",
      "172:\tlearn: 7.7938513\ttotal: 2.82s\tremaining: 13.5s\n",
      "173:\tlearn: 7.7816559\ttotal: 2.84s\tremaining: 13.5s\n",
      "174:\tlearn: 7.7722447\ttotal: 2.85s\tremaining: 13.4s\n",
      "175:\tlearn: 7.7672554\ttotal: 2.87s\tremaining: 13.4s\n",
      "176:\tlearn: 7.7566697\ttotal: 2.88s\tremaining: 13.4s\n",
      "177:\tlearn: 7.7485839\ttotal: 2.9s\tremaining: 13.4s\n",
      "178:\tlearn: 7.7388549\ttotal: 2.91s\tremaining: 13.4s\n",
      "179:\tlearn: 7.7249293\ttotal: 2.93s\tremaining: 13.3s\n",
      "180:\tlearn: 7.7140802\ttotal: 2.94s\tremaining: 13.3s\n",
      "181:\tlearn: 7.7024977\ttotal: 2.96s\tremaining: 13.3s\n",
      "182:\tlearn: 7.6970192\ttotal: 2.98s\tremaining: 13.3s\n",
      "183:\tlearn: 7.6865204\ttotal: 2.99s\tremaining: 13.3s\n",
      "184:\tlearn: 7.6723480\ttotal: 3.01s\tremaining: 13.3s\n",
      "185:\tlearn: 7.6563413\ttotal: 3.03s\tremaining: 13.3s\n",
      "186:\tlearn: 7.6426685\ttotal: 3.04s\tremaining: 13.2s\n",
      "187:\tlearn: 7.6349112\ttotal: 3.06s\tremaining: 13.2s\n",
      "188:\tlearn: 7.6101446\ttotal: 3.09s\tremaining: 13.2s\n",
      "189:\tlearn: 7.6010214\ttotal: 3.11s\tremaining: 13.3s\n",
      "190:\tlearn: 7.5931664\ttotal: 3.12s\tremaining: 13.2s\n",
      "191:\tlearn: 7.5783317\ttotal: 3.14s\tremaining: 13.2s\n",
      "192:\tlearn: 7.5699774\ttotal: 3.16s\tremaining: 13.2s\n",
      "193:\tlearn: 7.5546583\ttotal: 3.17s\tremaining: 13.2s\n",
      "194:\tlearn: 7.5324448\ttotal: 3.19s\tremaining: 13.2s\n",
      "195:\tlearn: 7.5272417\ttotal: 3.21s\tremaining: 13.2s\n",
      "196:\tlearn: 7.5182916\ttotal: 3.22s\tremaining: 13.1s\n",
      "197:\tlearn: 7.5068365\ttotal: 3.24s\tremaining: 13.1s\n",
      "198:\tlearn: 7.4970020\ttotal: 3.25s\tremaining: 13.1s\n",
      "199:\tlearn: 7.4810853\ttotal: 3.27s\tremaining: 13.1s\n",
      "200:\tlearn: 7.4737816\ttotal: 3.28s\tremaining: 13s\n",
      "201:\tlearn: 7.4630452\ttotal: 3.3s\tremaining: 13s\n",
      "202:\tlearn: 7.4520554\ttotal: 3.31s\tremaining: 13s\n",
      "203:\tlearn: 7.4425947\ttotal: 3.33s\tremaining: 13s\n",
      "204:\tlearn: 7.4315035\ttotal: 3.34s\tremaining: 13s\n",
      "205:\tlearn: 7.4121231\ttotal: 3.36s\tremaining: 12.9s\n",
      "206:\tlearn: 7.4010060\ttotal: 3.38s\tremaining: 12.9s\n",
      "207:\tlearn: 7.3868127\ttotal: 3.39s\tremaining: 12.9s\n",
      "208:\tlearn: 7.3724163\ttotal: 3.41s\tremaining: 12.9s\n",
      "209:\tlearn: 7.3676988\ttotal: 3.42s\tremaining: 12.9s\n",
      "210:\tlearn: 7.3626556\ttotal: 3.44s\tremaining: 12.9s\n",
      "211:\tlearn: 7.3517674\ttotal: 3.46s\tremaining: 12.8s\n",
      "212:\tlearn: 7.3436613\ttotal: 3.47s\tremaining: 12.8s\n",
      "213:\tlearn: 7.3368631\ttotal: 3.49s\tremaining: 12.8s\n",
      "214:\tlearn: 7.3280584\ttotal: 3.5s\tremaining: 12.8s\n",
      "215:\tlearn: 7.3198644\ttotal: 3.52s\tremaining: 12.8s\n",
      "216:\tlearn: 7.3138380\ttotal: 3.54s\tremaining: 12.8s\n",
      "217:\tlearn: 7.2996187\ttotal: 3.55s\tremaining: 12.7s\n",
      "218:\tlearn: 7.2919197\ttotal: 3.57s\tremaining: 12.7s\n",
      "219:\tlearn: 7.2823149\ttotal: 3.59s\tremaining: 12.7s\n",
      "220:\tlearn: 7.2727730\ttotal: 3.6s\tremaining: 12.7s\n",
      "221:\tlearn: 7.2549741\ttotal: 3.62s\tremaining: 12.7s\n",
      "222:\tlearn: 7.2484789\ttotal: 3.64s\tremaining: 12.7s\n",
      "223:\tlearn: 7.2372776\ttotal: 3.65s\tremaining: 12.7s\n",
      "224:\tlearn: 7.2303006\ttotal: 3.67s\tremaining: 12.6s\n",
      "225:\tlearn: 7.2219961\ttotal: 3.69s\tremaining: 12.6s\n",
      "226:\tlearn: 7.2151044\ttotal: 3.7s\tremaining: 12.6s\n",
      "227:\tlearn: 7.1990178\ttotal: 3.72s\tremaining: 12.6s\n",
      "228:\tlearn: 7.1922063\ttotal: 3.73s\tremaining: 12.6s\n",
      "229:\tlearn: 7.1852149\ttotal: 3.75s\tremaining: 12.6s\n",
      "230:\tlearn: 7.1747590\ttotal: 3.77s\tremaining: 12.5s\n",
      "231:\tlearn: 7.1684510\ttotal: 3.78s\tremaining: 12.5s\n",
      "232:\tlearn: 7.1572289\ttotal: 3.8s\tremaining: 12.5s\n",
      "233:\tlearn: 7.1497264\ttotal: 3.82s\tremaining: 12.5s\n",
      "234:\tlearn: 7.1469105\ttotal: 3.84s\tremaining: 12.5s\n",
      "235:\tlearn: 7.1409945\ttotal: 3.86s\tremaining: 12.5s\n",
      "236:\tlearn: 7.1362520\ttotal: 3.88s\tremaining: 12.5s\n",
      "237:\tlearn: 7.1276553\ttotal: 3.89s\tremaining: 12.5s\n",
      "238:\tlearn: 7.1174449\ttotal: 3.91s\tremaining: 12.4s\n",
      "239:\tlearn: 7.1108757\ttotal: 3.92s\tremaining: 12.4s\n",
      "240:\tlearn: 7.0998266\ttotal: 3.94s\tremaining: 12.4s\n",
      "241:\tlearn: 7.0823826\ttotal: 3.95s\tremaining: 12.4s\n",
      "242:\tlearn: 7.0740906\ttotal: 3.97s\tremaining: 12.4s\n",
      "243:\tlearn: 7.0667639\ttotal: 3.98s\tremaining: 12.3s\n",
      "244:\tlearn: 7.0570545\ttotal: 4s\tremaining: 12.3s\n",
      "245:\tlearn: 7.0474946\ttotal: 4.01s\tremaining: 12.3s\n",
      "246:\tlearn: 7.0410500\ttotal: 4.03s\tremaining: 12.3s\n",
      "247:\tlearn: 7.0286578\ttotal: 4.04s\tremaining: 12.3s\n",
      "248:\tlearn: 7.0165692\ttotal: 4.06s\tremaining: 12.2s\n",
      "249:\tlearn: 7.0092021\ttotal: 4.07s\tremaining: 12.2s\n",
      "250:\tlearn: 7.0010516\ttotal: 4.09s\tremaining: 12.2s\n",
      "251:\tlearn: 6.9890556\ttotal: 4.11s\tremaining: 12.2s\n",
      "252:\tlearn: 6.9760565\ttotal: 4.12s\tremaining: 12.2s\n",
      "253:\tlearn: 6.9705058\ttotal: 4.14s\tremaining: 12.2s\n",
      "254:\tlearn: 6.9660077\ttotal: 4.15s\tremaining: 12.1s\n",
      "255:\tlearn: 6.9533568\ttotal: 4.17s\tremaining: 12.1s\n",
      "256:\tlearn: 6.9510732\ttotal: 4.18s\tremaining: 12.1s\n",
      "257:\tlearn: 6.9454256\ttotal: 4.2s\tremaining: 12.1s\n",
      "258:\tlearn: 6.9385310\ttotal: 4.21s\tremaining: 12.1s\n",
      "259:\tlearn: 6.9261340\ttotal: 4.23s\tremaining: 12s\n",
      "260:\tlearn: 6.9190230\ttotal: 4.24s\tremaining: 12s\n",
      "261:\tlearn: 6.9099763\ttotal: 4.26s\tremaining: 12s\n",
      "262:\tlearn: 6.8989479\ttotal: 4.27s\tremaining: 12s\n",
      "263:\tlearn: 6.8881737\ttotal: 4.29s\tremaining: 12s\n",
      "264:\tlearn: 6.8813299\ttotal: 4.3s\tremaining: 11.9s\n",
      "265:\tlearn: 6.8715130\ttotal: 4.32s\tremaining: 11.9s\n",
      "266:\tlearn: 6.8613056\ttotal: 4.33s\tremaining: 11.9s\n",
      "267:\tlearn: 6.8491599\ttotal: 4.35s\tremaining: 11.9s\n",
      "268:\tlearn: 6.8420480\ttotal: 4.36s\tremaining: 11.9s\n",
      "269:\tlearn: 6.8389839\ttotal: 4.38s\tremaining: 11.8s\n",
      "270:\tlearn: 6.8237694\ttotal: 4.39s\tremaining: 11.8s\n",
      "271:\tlearn: 6.8146608\ttotal: 4.41s\tremaining: 11.8s\n",
      "272:\tlearn: 6.8096123\ttotal: 4.42s\tremaining: 11.8s\n",
      "273:\tlearn: 6.8018126\ttotal: 4.43s\tremaining: 11.8s\n",
      "274:\tlearn: 6.7937007\ttotal: 4.45s\tremaining: 11.7s\n",
      "275:\tlearn: 6.7842628\ttotal: 4.46s\tremaining: 11.7s\n",
      "276:\tlearn: 6.7783192\ttotal: 4.48s\tremaining: 11.7s\n",
      "277:\tlearn: 6.7732906\ttotal: 4.49s\tremaining: 11.7s\n",
      "278:\tlearn: 6.7703969\ttotal: 4.51s\tremaining: 11.7s\n",
      "279:\tlearn: 6.7621176\ttotal: 4.53s\tremaining: 11.6s\n",
      "280:\tlearn: 6.7542216\ttotal: 4.54s\tremaining: 11.6s\n",
      "281:\tlearn: 6.7502060\ttotal: 4.56s\tremaining: 11.6s\n",
      "282:\tlearn: 6.7416143\ttotal: 4.58s\tremaining: 11.6s\n",
      "283:\tlearn: 6.7302126\ttotal: 4.59s\tremaining: 11.6s\n",
      "284:\tlearn: 6.7172819\ttotal: 4.61s\tremaining: 11.6s\n",
      "285:\tlearn: 6.7148288\ttotal: 4.62s\tremaining: 11.5s\n",
      "286:\tlearn: 6.7057640\ttotal: 4.64s\tremaining: 11.5s\n",
      "287:\tlearn: 6.7006858\ttotal: 4.65s\tremaining: 11.5s\n",
      "288:\tlearn: 6.6930654\ttotal: 4.67s\tremaining: 11.5s\n",
      "289:\tlearn: 6.6862731\ttotal: 4.68s\tremaining: 11.5s\n",
      "290:\tlearn: 6.6802403\ttotal: 4.7s\tremaining: 11.5s\n",
      "291:\tlearn: 6.6729349\ttotal: 4.72s\tremaining: 11.4s\n",
      "292:\tlearn: 6.6592422\ttotal: 4.74s\tremaining: 11.4s\n",
      "293:\tlearn: 6.6546260\ttotal: 4.75s\tremaining: 11.4s\n",
      "294:\tlearn: 6.6518289\ttotal: 4.77s\tremaining: 11.4s\n",
      "295:\tlearn: 6.6465518\ttotal: 4.78s\tremaining: 11.4s\n",
      "296:\tlearn: 6.6394889\ttotal: 4.8s\tremaining: 11.4s\n",
      "297:\tlearn: 6.6330657\ttotal: 4.81s\tremaining: 11.3s\n",
      "298:\tlearn: 6.6240900\ttotal: 4.83s\tremaining: 11.3s\n",
      "299:\tlearn: 6.6121644\ttotal: 4.84s\tremaining: 11.3s\n",
      "300:\tlearn: 6.6068351\ttotal: 4.86s\tremaining: 11.3s\n",
      "301:\tlearn: 6.5984982\ttotal: 4.88s\tremaining: 11.3s\n",
      "302:\tlearn: 6.5896769\ttotal: 4.89s\tremaining: 11.3s\n",
      "303:\tlearn: 6.5872686\ttotal: 4.91s\tremaining: 11.2s\n",
      "304:\tlearn: 6.5778482\ttotal: 4.92s\tremaining: 11.2s\n",
      "305:\tlearn: 6.5762335\ttotal: 4.94s\tremaining: 11.2s\n",
      "306:\tlearn: 6.5702872\ttotal: 4.96s\tremaining: 11.2s\n",
      "307:\tlearn: 6.5629199\ttotal: 4.99s\tremaining: 11.2s\n",
      "308:\tlearn: 6.5535114\ttotal: 5s\tremaining: 11.2s\n",
      "309:\tlearn: 6.5477162\ttotal: 5.02s\tremaining: 11.2s\n",
      "310:\tlearn: 6.5454393\ttotal: 5.04s\tremaining: 11.2s\n",
      "311:\tlearn: 6.5404092\ttotal: 5.06s\tremaining: 11.1s\n",
      "312:\tlearn: 6.5369090\ttotal: 5.07s\tremaining: 11.1s\n",
      "313:\tlearn: 6.5316539\ttotal: 5.09s\tremaining: 11.1s\n",
      "314:\tlearn: 6.5251127\ttotal: 5.11s\tremaining: 11.1s\n",
      "315:\tlearn: 6.5206473\ttotal: 5.13s\tremaining: 11.1s\n",
      "316:\tlearn: 6.5173752\ttotal: 5.14s\tremaining: 11.1s\n",
      "317:\tlearn: 6.5076867\ttotal: 5.16s\tremaining: 11.1s\n",
      "318:\tlearn: 6.5000250\ttotal: 5.17s\tremaining: 11s\n",
      "319:\tlearn: 6.4926845\ttotal: 5.19s\tremaining: 11s\n",
      "320:\tlearn: 6.4824092\ttotal: 5.2s\tremaining: 11s\n",
      "321:\tlearn: 6.4695576\ttotal: 5.22s\tremaining: 11s\n",
      "322:\tlearn: 6.4597963\ttotal: 5.24s\tremaining: 11s\n",
      "323:\tlearn: 6.4550007\ttotal: 5.25s\tremaining: 11s\n",
      "324:\tlearn: 6.4487364\ttotal: 5.26s\tremaining: 10.9s\n",
      "325:\tlearn: 6.4424919\ttotal: 5.28s\tremaining: 10.9s\n",
      "326:\tlearn: 6.4399226\ttotal: 5.29s\tremaining: 10.9s\n",
      "327:\tlearn: 6.4344991\ttotal: 5.31s\tremaining: 10.9s\n",
      "328:\tlearn: 6.4306710\ttotal: 5.33s\tremaining: 10.9s\n",
      "329:\tlearn: 6.4259070\ttotal: 5.34s\tremaining: 10.8s\n",
      "330:\tlearn: 6.4200433\ttotal: 5.36s\tremaining: 10.8s\n",
      "331:\tlearn: 6.4154811\ttotal: 5.37s\tremaining: 10.8s\n",
      "332:\tlearn: 6.4098589\ttotal: 5.39s\tremaining: 10.8s\n",
      "333:\tlearn: 6.4040509\ttotal: 5.4s\tremaining: 10.8s\n",
      "334:\tlearn: 6.3961604\ttotal: 5.42s\tremaining: 10.8s\n",
      "335:\tlearn: 6.3901663\ttotal: 5.43s\tremaining: 10.7s\n",
      "336:\tlearn: 6.3790148\ttotal: 5.45s\tremaining: 10.7s\n",
      "337:\tlearn: 6.3754458\ttotal: 5.46s\tremaining: 10.7s\n",
      "338:\tlearn: 6.3698414\ttotal: 5.47s\tremaining: 10.7s\n",
      "339:\tlearn: 6.3656920\ttotal: 5.49s\tremaining: 10.7s\n",
      "340:\tlearn: 6.3556327\ttotal: 5.5s\tremaining: 10.6s\n",
      "341:\tlearn: 6.3462899\ttotal: 5.52s\tremaining: 10.6s\n",
      "342:\tlearn: 6.3422440\ttotal: 5.53s\tremaining: 10.6s\n",
      "343:\tlearn: 6.3339259\ttotal: 5.55s\tremaining: 10.6s\n",
      "344:\tlearn: 6.3272392\ttotal: 5.57s\tremaining: 10.6s\n",
      "345:\tlearn: 6.3215067\ttotal: 5.58s\tremaining: 10.6s\n",
      "346:\tlearn: 6.3171689\ttotal: 5.6s\tremaining: 10.5s\n",
      "347:\tlearn: 6.3136376\ttotal: 5.62s\tremaining: 10.5s\n",
      "348:\tlearn: 6.3053678\ttotal: 5.63s\tremaining: 10.5s\n",
      "349:\tlearn: 6.3000224\ttotal: 5.65s\tremaining: 10.5s\n",
      "350:\tlearn: 6.2949417\ttotal: 5.66s\tremaining: 10.5s\n",
      "351:\tlearn: 6.2899876\ttotal: 5.68s\tremaining: 10.5s\n",
      "352:\tlearn: 6.2844260\ttotal: 5.69s\tremaining: 10.4s\n",
      "353:\tlearn: 6.2786834\ttotal: 5.71s\tremaining: 10.4s\n",
      "354:\tlearn: 6.2700915\ttotal: 5.72s\tremaining: 10.4s\n",
      "355:\tlearn: 6.2679853\ttotal: 5.74s\tremaining: 10.4s\n",
      "356:\tlearn: 6.2609810\ttotal: 5.76s\tremaining: 10.4s\n",
      "357:\tlearn: 6.2507498\ttotal: 5.77s\tremaining: 10.4s\n",
      "358:\tlearn: 6.2453083\ttotal: 5.79s\tremaining: 10.3s\n",
      "359:\tlearn: 6.2355064\ttotal: 5.8s\tremaining: 10.3s\n",
      "360:\tlearn: 6.2325085\ttotal: 5.82s\tremaining: 10.3s\n",
      "361:\tlearn: 6.2293997\ttotal: 5.83s\tremaining: 10.3s\n",
      "362:\tlearn: 6.2181806\ttotal: 5.85s\tremaining: 10.3s\n",
      "363:\tlearn: 6.2137092\ttotal: 5.87s\tremaining: 10.3s\n",
      "364:\tlearn: 6.2075568\ttotal: 5.88s\tremaining: 10.2s\n",
      "365:\tlearn: 6.2032030\ttotal: 5.9s\tremaining: 10.2s\n",
      "366:\tlearn: 6.1998785\ttotal: 5.92s\tremaining: 10.2s\n",
      "367:\tlearn: 6.1882808\ttotal: 5.94s\tremaining: 10.2s\n",
      "368:\tlearn: 6.1832267\ttotal: 5.95s\tremaining: 10.2s\n",
      "369:\tlearn: 6.1766471\ttotal: 5.97s\tremaining: 10.2s\n",
      "370:\tlearn: 6.1724761\ttotal: 5.99s\tremaining: 10.2s\n",
      "371:\tlearn: 6.1564230\ttotal: 6s\tremaining: 10.1s\n",
      "372:\tlearn: 6.1536836\ttotal: 6.02s\tremaining: 10.1s\n",
      "373:\tlearn: 6.1491255\ttotal: 6.03s\tremaining: 10.1s\n",
      "374:\tlearn: 6.1425705\ttotal: 6.05s\tremaining: 10.1s\n",
      "375:\tlearn: 6.1383620\ttotal: 6.06s\tremaining: 10.1s\n",
      "376:\tlearn: 6.1344579\ttotal: 6.08s\tremaining: 10s\n",
      "377:\tlearn: 6.1284881\ttotal: 6.09s\tremaining: 10s\n",
      "378:\tlearn: 6.1254375\ttotal: 6.11s\tremaining: 10s\n",
      "379:\tlearn: 6.1172612\ttotal: 6.14s\tremaining: 10s\n",
      "380:\tlearn: 6.1099202\ttotal: 6.16s\tremaining: 10s\n",
      "381:\tlearn: 6.1056113\ttotal: 6.18s\tremaining: 10s\n",
      "382:\tlearn: 6.0998644\ttotal: 6.21s\tremaining: 10s\n",
      "383:\tlearn: 6.0936133\ttotal: 6.23s\tremaining: 9.99s\n",
      "384:\tlearn: 6.0826179\ttotal: 6.25s\tremaining: 9.98s\n",
      "385:\tlearn: 6.0694514\ttotal: 6.26s\tremaining: 9.96s\n",
      "386:\tlearn: 6.0625222\ttotal: 6.28s\tremaining: 9.95s\n",
      "387:\tlearn: 6.0571521\ttotal: 6.29s\tremaining: 9.93s\n",
      "388:\tlearn: 6.0481299\ttotal: 6.31s\tremaining: 9.91s\n",
      "389:\tlearn: 6.0416047\ttotal: 6.33s\tremaining: 9.9s\n",
      "390:\tlearn: 6.0237283\ttotal: 6.34s\tremaining: 9.88s\n",
      "391:\tlearn: 6.0146252\ttotal: 6.36s\tremaining: 9.86s\n",
      "392:\tlearn: 6.0121217\ttotal: 6.38s\tremaining: 9.85s\n",
      "393:\tlearn: 6.0086348\ttotal: 6.39s\tremaining: 9.83s\n",
      "394:\tlearn: 5.9967005\ttotal: 6.41s\tremaining: 9.81s\n",
      "395:\tlearn: 5.9851055\ttotal: 6.42s\tremaining: 9.8s\n",
      "396:\tlearn: 5.9814901\ttotal: 6.44s\tremaining: 9.78s\n",
      "397:\tlearn: 5.9781651\ttotal: 6.46s\tremaining: 9.77s\n",
      "398:\tlearn: 5.9736951\ttotal: 6.47s\tremaining: 9.75s\n",
      "399:\tlearn: 5.9593145\ttotal: 6.49s\tremaining: 9.73s\n",
      "400:\tlearn: 5.9544804\ttotal: 6.5s\tremaining: 9.71s\n",
      "401:\tlearn: 5.9502972\ttotal: 6.52s\tremaining: 9.7s\n",
      "402:\tlearn: 5.9466296\ttotal: 6.53s\tremaining: 9.68s\n",
      "403:\tlearn: 5.9440053\ttotal: 6.55s\tremaining: 9.66s\n",
      "404:\tlearn: 5.9413542\ttotal: 6.56s\tremaining: 9.64s\n",
      "405:\tlearn: 5.9374565\ttotal: 6.58s\tremaining: 9.63s\n",
      "406:\tlearn: 5.9289052\ttotal: 6.6s\tremaining: 9.61s\n",
      "407:\tlearn: 5.9242952\ttotal: 6.61s\tremaining: 9.6s\n",
      "408:\tlearn: 5.9146170\ttotal: 6.63s\tremaining: 9.58s\n",
      "409:\tlearn: 5.9105523\ttotal: 6.65s\tremaining: 9.56s\n",
      "410:\tlearn: 5.9069056\ttotal: 6.66s\tremaining: 9.54s\n",
      "411:\tlearn: 5.9003186\ttotal: 6.68s\tremaining: 9.53s\n",
      "412:\tlearn: 5.8976552\ttotal: 6.69s\tremaining: 9.51s\n",
      "413:\tlearn: 5.8938686\ttotal: 6.71s\tremaining: 9.49s\n",
      "414:\tlearn: 5.8881585\ttotal: 6.72s\tremaining: 9.47s\n",
      "415:\tlearn: 5.8846181\ttotal: 6.74s\tremaining: 9.46s\n",
      "416:\tlearn: 5.8803238\ttotal: 6.75s\tremaining: 9.44s\n",
      "417:\tlearn: 5.8760780\ttotal: 6.77s\tremaining: 9.43s\n",
      "418:\tlearn: 5.8705238\ttotal: 6.78s\tremaining: 9.41s\n",
      "419:\tlearn: 5.8673422\ttotal: 6.8s\tremaining: 9.39s\n",
      "420:\tlearn: 5.8606833\ttotal: 6.82s\tremaining: 9.37s\n",
      "421:\tlearn: 5.8491986\ttotal: 6.83s\tremaining: 9.36s\n",
      "422:\tlearn: 5.8462959\ttotal: 6.84s\tremaining: 9.34s\n",
      "423:\tlearn: 5.8391168\ttotal: 6.86s\tremaining: 9.32s\n",
      "424:\tlearn: 5.8346918\ttotal: 6.88s\tremaining: 9.3s\n",
      "425:\tlearn: 5.8291351\ttotal: 6.89s\tremaining: 9.29s\n",
      "426:\tlearn: 5.8255248\ttotal: 6.91s\tremaining: 9.27s\n",
      "427:\tlearn: 5.8220521\ttotal: 6.93s\tremaining: 9.26s\n",
      "428:\tlearn: 5.8160950\ttotal: 6.94s\tremaining: 9.24s\n",
      "429:\tlearn: 5.8124918\ttotal: 6.96s\tremaining: 9.22s\n",
      "430:\tlearn: 5.8083900\ttotal: 6.97s\tremaining: 9.2s\n",
      "431:\tlearn: 5.8044463\ttotal: 6.99s\tremaining: 9.19s\n",
      "432:\tlearn: 5.8015214\ttotal: 7s\tremaining: 9.17s\n",
      "433:\tlearn: 5.7960816\ttotal: 7.02s\tremaining: 9.15s\n",
      "434:\tlearn: 5.7929643\ttotal: 7.03s\tremaining: 9.13s\n",
      "435:\tlearn: 5.7885043\ttotal: 7.04s\tremaining: 9.11s\n",
      "436:\tlearn: 5.7769556\ttotal: 7.06s\tremaining: 9.1s\n",
      "437:\tlearn: 5.7708429\ttotal: 7.08s\tremaining: 9.08s\n",
      "438:\tlearn: 5.7691864\ttotal: 7.09s\tremaining: 9.06s\n",
      "439:\tlearn: 5.7592589\ttotal: 7.11s\tremaining: 9.05s\n",
      "440:\tlearn: 5.7535202\ttotal: 7.13s\tremaining: 9.03s\n",
      "441:\tlearn: 5.7432530\ttotal: 7.14s\tremaining: 9.02s\n",
      "442:\tlearn: 5.7372928\ttotal: 7.16s\tremaining: 9s\n",
      "443:\tlearn: 5.7346757\ttotal: 7.17s\tremaining: 8.98s\n",
      "444:\tlearn: 5.7304141\ttotal: 7.19s\tremaining: 8.96s\n",
      "445:\tlearn: 5.7281899\ttotal: 7.2s\tremaining: 8.95s\n",
      "446:\tlearn: 5.7206877\ttotal: 7.22s\tremaining: 8.93s\n",
      "447:\tlearn: 5.7196763\ttotal: 7.24s\tremaining: 8.92s\n",
      "448:\tlearn: 5.7108205\ttotal: 7.25s\tremaining: 8.9s\n",
      "449:\tlearn: 5.6973846\ttotal: 7.27s\tremaining: 8.88s\n",
      "450:\tlearn: 5.6923793\ttotal: 7.29s\tremaining: 8.87s\n",
      "451:\tlearn: 5.6892541\ttotal: 7.3s\tremaining: 8.85s\n",
      "452:\tlearn: 5.6806438\ttotal: 7.32s\tremaining: 8.83s\n",
      "453:\tlearn: 5.6784347\ttotal: 7.33s\tremaining: 8.81s\n",
      "454:\tlearn: 5.6720889\ttotal: 7.34s\tremaining: 8.8s\n",
      "455:\tlearn: 5.6671199\ttotal: 7.36s\tremaining: 8.78s\n",
      "456:\tlearn: 5.6656910\ttotal: 7.38s\tremaining: 8.76s\n",
      "457:\tlearn: 5.6619012\ttotal: 7.39s\tremaining: 8.75s\n",
      "458:\tlearn: 5.6589431\ttotal: 7.41s\tremaining: 8.73s\n",
      "459:\tlearn: 5.6549965\ttotal: 7.42s\tremaining: 8.72s\n",
      "460:\tlearn: 5.6498921\ttotal: 7.44s\tremaining: 8.7s\n",
      "461:\tlearn: 5.6438321\ttotal: 7.46s\tremaining: 8.68s\n",
      "462:\tlearn: 5.6379561\ttotal: 7.47s\tremaining: 8.66s\n",
      "463:\tlearn: 5.6274266\ttotal: 7.48s\tremaining: 8.64s\n",
      "464:\tlearn: 5.6257172\ttotal: 7.5s\tremaining: 8.63s\n",
      "465:\tlearn: 5.6205661\ttotal: 7.51s\tremaining: 8.61s\n",
      "466:\tlearn: 5.6150409\ttotal: 7.53s\tremaining: 8.59s\n",
      "467:\tlearn: 5.6125060\ttotal: 7.54s\tremaining: 8.57s\n",
      "468:\tlearn: 5.6059997\ttotal: 7.56s\tremaining: 8.56s\n",
      "469:\tlearn: 5.6009397\ttotal: 7.58s\tremaining: 8.54s\n",
      "470:\tlearn: 5.5983011\ttotal: 7.59s\tremaining: 8.53s\n",
      "471:\tlearn: 5.5945483\ttotal: 7.61s\tremaining: 8.51s\n",
      "472:\tlearn: 5.5909660\ttotal: 7.62s\tremaining: 8.49s\n",
      "473:\tlearn: 5.5855535\ttotal: 7.64s\tremaining: 8.48s\n",
      "474:\tlearn: 5.5824944\ttotal: 7.65s\tremaining: 8.46s\n",
      "475:\tlearn: 5.5791767\ttotal: 7.67s\tremaining: 8.44s\n",
      "476:\tlearn: 5.5752097\ttotal: 7.68s\tremaining: 8.42s\n",
      "477:\tlearn: 5.5726385\ttotal: 7.7s\tremaining: 8.41s\n",
      "478:\tlearn: 5.5690242\ttotal: 7.71s\tremaining: 8.39s\n",
      "479:\tlearn: 5.5656019\ttotal: 7.73s\tremaining: 8.37s\n",
      "480:\tlearn: 5.5612226\ttotal: 7.74s\tremaining: 8.35s\n",
      "481:\tlearn: 5.5569192\ttotal: 7.76s\tremaining: 8.34s\n",
      "482:\tlearn: 5.5539989\ttotal: 7.77s\tremaining: 8.32s\n",
      "483:\tlearn: 5.5507470\ttotal: 7.79s\tremaining: 8.3s\n",
      "484:\tlearn: 5.5377260\ttotal: 7.8s\tremaining: 8.28s\n",
      "485:\tlearn: 5.5288043\ttotal: 7.82s\tremaining: 8.27s\n",
      "486:\tlearn: 5.5170354\ttotal: 7.83s\tremaining: 8.25s\n",
      "487:\tlearn: 5.5080608\ttotal: 7.85s\tremaining: 8.24s\n",
      "488:\tlearn: 5.5055270\ttotal: 7.87s\tremaining: 8.22s\n",
      "489:\tlearn: 5.5027939\ttotal: 7.88s\tremaining: 8.2s\n",
      "490:\tlearn: 5.4997530\ttotal: 7.89s\tremaining: 8.18s\n",
      "491:\tlearn: 5.4955398\ttotal: 7.91s\tremaining: 8.17s\n",
      "492:\tlearn: 5.4893605\ttotal: 7.93s\tremaining: 8.15s\n",
      "493:\tlearn: 5.4842251\ttotal: 7.94s\tremaining: 8.13s\n",
      "494:\tlearn: 5.4796077\ttotal: 7.96s\tremaining: 8.12s\n",
      "495:\tlearn: 5.4639113\ttotal: 7.97s\tremaining: 8.1s\n",
      "496:\tlearn: 5.4573548\ttotal: 7.99s\tremaining: 8.08s\n",
      "497:\tlearn: 5.4530065\ttotal: 8s\tremaining: 8.07s\n",
      "498:\tlearn: 5.4420149\ttotal: 8.02s\tremaining: 8.05s\n",
      "499:\tlearn: 5.4390525\ttotal: 8.03s\tremaining: 8.03s\n",
      "500:\tlearn: 5.4375514\ttotal: 8.05s\tremaining: 8.01s\n",
      "501:\tlearn: 5.4344806\ttotal: 8.06s\tremaining: 8s\n",
      "502:\tlearn: 5.4317104\ttotal: 8.08s\tremaining: 7.98s\n",
      "503:\tlearn: 5.4292290\ttotal: 8.09s\tremaining: 7.96s\n",
      "504:\tlearn: 5.4248695\ttotal: 8.11s\tremaining: 7.95s\n",
      "505:\tlearn: 5.4223900\ttotal: 8.12s\tremaining: 7.93s\n",
      "506:\tlearn: 5.4192202\ttotal: 8.13s\tremaining: 7.91s\n",
      "507:\tlearn: 5.4143754\ttotal: 8.15s\tremaining: 7.89s\n",
      "508:\tlearn: 5.4068979\ttotal: 8.16s\tremaining: 7.87s\n",
      "509:\tlearn: 5.4055219\ttotal: 8.18s\tremaining: 7.86s\n",
      "510:\tlearn: 5.3983348\ttotal: 8.19s\tremaining: 7.84s\n",
      "511:\tlearn: 5.3954057\ttotal: 8.21s\tremaining: 7.82s\n",
      "512:\tlearn: 5.3913894\ttotal: 8.22s\tremaining: 7.81s\n",
      "513:\tlearn: 5.3895553\ttotal: 8.24s\tremaining: 7.79s\n",
      "514:\tlearn: 5.3870846\ttotal: 8.25s\tremaining: 7.77s\n",
      "515:\tlearn: 5.3819639\ttotal: 8.27s\tremaining: 7.75s\n",
      "516:\tlearn: 5.3763193\ttotal: 8.28s\tremaining: 7.74s\n",
      "517:\tlearn: 5.3721876\ttotal: 8.29s\tremaining: 7.72s\n",
      "518:\tlearn: 5.3643476\ttotal: 8.31s\tremaining: 7.7s\n",
      "519:\tlearn: 5.3537489\ttotal: 8.32s\tremaining: 7.68s\n",
      "520:\tlearn: 5.3489610\ttotal: 8.34s\tremaining: 7.67s\n",
      "521:\tlearn: 5.3456810\ttotal: 8.35s\tremaining: 7.65s\n",
      "522:\tlearn: 5.3335145\ttotal: 8.37s\tremaining: 7.63s\n",
      "523:\tlearn: 5.3311892\ttotal: 8.38s\tremaining: 7.62s\n",
      "524:\tlearn: 5.3289190\ttotal: 8.4s\tremaining: 7.6s\n",
      "525:\tlearn: 5.3256107\ttotal: 8.41s\tremaining: 7.58s\n",
      "526:\tlearn: 5.3227272\ttotal: 8.43s\tremaining: 7.56s\n",
      "527:\tlearn: 5.3202056\ttotal: 8.44s\tremaining: 7.54s\n",
      "528:\tlearn: 5.3175232\ttotal: 8.45s\tremaining: 7.53s\n",
      "529:\tlearn: 5.3137591\ttotal: 8.47s\tremaining: 7.51s\n",
      "530:\tlearn: 5.3100712\ttotal: 8.48s\tremaining: 7.49s\n",
      "531:\tlearn: 5.3044757\ttotal: 8.5s\tremaining: 7.48s\n",
      "532:\tlearn: 5.2953050\ttotal: 8.51s\tremaining: 7.46s\n",
      "533:\tlearn: 5.2891690\ttotal: 8.53s\tremaining: 7.44s\n",
      "534:\tlearn: 5.2841099\ttotal: 8.54s\tremaining: 7.43s\n",
      "535:\tlearn: 5.2815470\ttotal: 8.56s\tremaining: 7.41s\n",
      "536:\tlearn: 5.2756404\ttotal: 8.57s\tremaining: 7.39s\n",
      "537:\tlearn: 5.2727650\ttotal: 8.59s\tremaining: 7.38s\n",
      "538:\tlearn: 5.2700253\ttotal: 8.61s\tremaining: 7.36s\n",
      "539:\tlearn: 5.2682769\ttotal: 8.62s\tremaining: 7.34s\n",
      "540:\tlearn: 5.2600282\ttotal: 8.63s\tremaining: 7.33s\n",
      "541:\tlearn: 5.2565741\ttotal: 8.65s\tremaining: 7.31s\n",
      "542:\tlearn: 5.2513642\ttotal: 8.66s\tremaining: 7.29s\n",
      "543:\tlearn: 5.2441840\ttotal: 8.68s\tremaining: 7.27s\n",
      "544:\tlearn: 5.2397131\ttotal: 8.69s\tremaining: 7.26s\n",
      "545:\tlearn: 5.2306368\ttotal: 8.71s\tremaining: 7.24s\n",
      "546:\tlearn: 5.2185741\ttotal: 8.72s\tremaining: 7.22s\n",
      "547:\tlearn: 5.2151116\ttotal: 8.74s\tremaining: 7.21s\n",
      "548:\tlearn: 5.2098826\ttotal: 8.75s\tremaining: 7.19s\n",
      "549:\tlearn: 5.2068793\ttotal: 8.77s\tremaining: 7.17s\n",
      "550:\tlearn: 5.2013572\ttotal: 8.79s\tremaining: 7.16s\n",
      "551:\tlearn: 5.1911091\ttotal: 8.8s\tremaining: 7.14s\n",
      "552:\tlearn: 5.1877670\ttotal: 8.81s\tremaining: 7.13s\n",
      "553:\tlearn: 5.1838154\ttotal: 8.83s\tremaining: 7.11s\n",
      "554:\tlearn: 5.1802282\ttotal: 8.85s\tremaining: 7.09s\n",
      "555:\tlearn: 5.1779947\ttotal: 8.86s\tremaining: 7.08s\n",
      "556:\tlearn: 5.1754861\ttotal: 8.88s\tremaining: 7.06s\n",
      "557:\tlearn: 5.1724453\ttotal: 8.9s\tremaining: 7.05s\n",
      "558:\tlearn: 5.1663854\ttotal: 8.92s\tremaining: 7.04s\n",
      "559:\tlearn: 5.1647974\ttotal: 8.94s\tremaining: 7.02s\n",
      "560:\tlearn: 5.1626073\ttotal: 8.95s\tremaining: 7.01s\n",
      "561:\tlearn: 5.1580272\ttotal: 8.97s\tremaining: 6.99s\n",
      "562:\tlearn: 5.1550287\ttotal: 8.99s\tremaining: 6.97s\n",
      "563:\tlearn: 5.1463782\ttotal: 9s\tremaining: 6.96s\n",
      "564:\tlearn: 5.1425955\ttotal: 9.02s\tremaining: 6.94s\n",
      "565:\tlearn: 5.1360946\ttotal: 9.03s\tremaining: 6.93s\n",
      "566:\tlearn: 5.1335524\ttotal: 9.05s\tremaining: 6.91s\n",
      "567:\tlearn: 5.1316574\ttotal: 9.06s\tremaining: 6.89s\n",
      "568:\tlearn: 5.1293130\ttotal: 9.08s\tremaining: 6.88s\n",
      "569:\tlearn: 5.1257769\ttotal: 9.1s\tremaining: 6.87s\n",
      "570:\tlearn: 5.1181054\ttotal: 9.12s\tremaining: 6.85s\n",
      "571:\tlearn: 5.1146733\ttotal: 9.14s\tremaining: 6.84s\n",
      "572:\tlearn: 5.1116957\ttotal: 9.15s\tremaining: 6.82s\n",
      "573:\tlearn: 5.1078976\ttotal: 9.17s\tremaining: 6.8s\n",
      "574:\tlearn: 5.1010583\ttotal: 9.19s\tremaining: 6.79s\n",
      "575:\tlearn: 5.0955051\ttotal: 9.2s\tremaining: 6.77s\n",
      "576:\tlearn: 5.0928164\ttotal: 9.22s\tremaining: 6.76s\n",
      "577:\tlearn: 5.0897105\ttotal: 9.23s\tremaining: 6.74s\n",
      "578:\tlearn: 5.0811357\ttotal: 9.25s\tremaining: 6.72s\n",
      "579:\tlearn: 5.0764365\ttotal: 9.26s\tremaining: 6.71s\n",
      "580:\tlearn: 5.0719319\ttotal: 9.28s\tremaining: 6.69s\n",
      "581:\tlearn: 5.0646023\ttotal: 9.29s\tremaining: 6.68s\n",
      "582:\tlearn: 5.0620639\ttotal: 9.31s\tremaining: 6.66s\n",
      "583:\tlearn: 5.0537238\ttotal: 9.32s\tremaining: 6.64s\n",
      "584:\tlearn: 5.0466699\ttotal: 9.34s\tremaining: 6.63s\n",
      "585:\tlearn: 5.0416913\ttotal: 9.35s\tremaining: 6.61s\n",
      "586:\tlearn: 5.0344950\ttotal: 9.37s\tremaining: 6.59s\n",
      "587:\tlearn: 5.0325893\ttotal: 9.39s\tremaining: 6.58s\n",
      "588:\tlearn: 5.0264131\ttotal: 9.41s\tremaining: 6.57s\n",
      "589:\tlearn: 5.0153957\ttotal: 9.42s\tremaining: 6.55s\n",
      "590:\tlearn: 5.0100188\ttotal: 9.44s\tremaining: 6.53s\n",
      "591:\tlearn: 5.0060379\ttotal: 9.46s\tremaining: 6.52s\n",
      "592:\tlearn: 4.9984113\ttotal: 9.47s\tremaining: 6.5s\n",
      "593:\tlearn: 4.9948062\ttotal: 9.49s\tremaining: 6.49s\n",
      "594:\tlearn: 4.9882236\ttotal: 9.5s\tremaining: 6.47s\n",
      "595:\tlearn: 4.9865633\ttotal: 9.52s\tremaining: 6.45s\n",
      "596:\tlearn: 4.9749868\ttotal: 9.53s\tremaining: 6.44s\n",
      "597:\tlearn: 4.9735356\ttotal: 9.55s\tremaining: 6.42s\n",
      "598:\tlearn: 4.9708355\ttotal: 9.57s\tremaining: 6.4s\n",
      "599:\tlearn: 4.9687877\ttotal: 9.58s\tremaining: 6.39s\n",
      "600:\tlearn: 4.9651121\ttotal: 9.6s\tremaining: 6.37s\n",
      "601:\tlearn: 4.9618512\ttotal: 9.61s\tremaining: 6.35s\n",
      "602:\tlearn: 4.9571596\ttotal: 9.63s\tremaining: 6.34s\n",
      "603:\tlearn: 4.9504179\ttotal: 9.64s\tremaining: 6.32s\n",
      "604:\tlearn: 4.9480128\ttotal: 9.66s\tremaining: 6.3s\n",
      "605:\tlearn: 4.9434400\ttotal: 9.67s\tremaining: 6.29s\n",
      "606:\tlearn: 4.9406992\ttotal: 9.69s\tremaining: 6.27s\n",
      "607:\tlearn: 4.9386477\ttotal: 9.7s\tremaining: 6.26s\n",
      "608:\tlearn: 4.9319041\ttotal: 9.72s\tremaining: 6.24s\n",
      "609:\tlearn: 4.9291607\ttotal: 9.73s\tremaining: 6.22s\n",
      "610:\tlearn: 4.9242369\ttotal: 9.75s\tremaining: 6.21s\n",
      "611:\tlearn: 4.9203936\ttotal: 9.77s\tremaining: 6.19s\n",
      "612:\tlearn: 4.9182830\ttotal: 9.78s\tremaining: 6.17s\n",
      "613:\tlearn: 4.9132974\ttotal: 9.8s\tremaining: 6.16s\n",
      "614:\tlearn: 4.9113949\ttotal: 9.81s\tremaining: 6.14s\n",
      "615:\tlearn: 4.9079500\ttotal: 9.83s\tremaining: 6.13s\n",
      "616:\tlearn: 4.9016527\ttotal: 9.85s\tremaining: 6.11s\n",
      "617:\tlearn: 4.8915256\ttotal: 9.86s\tremaining: 6.1s\n",
      "618:\tlearn: 4.8889262\ttotal: 9.88s\tremaining: 6.08s\n",
      "619:\tlearn: 4.8858012\ttotal: 9.9s\tremaining: 6.07s\n",
      "620:\tlearn: 4.8846040\ttotal: 9.91s\tremaining: 6.05s\n",
      "621:\tlearn: 4.8776508\ttotal: 9.93s\tremaining: 6.03s\n",
      "622:\tlearn: 4.8750297\ttotal: 9.94s\tremaining: 6.01s\n",
      "623:\tlearn: 4.8731662\ttotal: 9.96s\tremaining: 6s\n",
      "624:\tlearn: 4.8689481\ttotal: 9.97s\tremaining: 5.98s\n",
      "625:\tlearn: 4.8653875\ttotal: 9.98s\tremaining: 5.96s\n",
      "626:\tlearn: 4.8634809\ttotal: 10s\tremaining: 5.95s\n",
      "627:\tlearn: 4.8562076\ttotal: 10s\tremaining: 5.93s\n",
      "628:\tlearn: 4.8530236\ttotal: 10s\tremaining: 5.92s\n",
      "629:\tlearn: 4.8495751\ttotal: 10s\tremaining: 5.9s\n",
      "630:\tlearn: 4.8469855\ttotal: 10.1s\tremaining: 5.88s\n",
      "631:\tlearn: 4.8451907\ttotal: 10.1s\tremaining: 5.87s\n",
      "632:\tlearn: 4.8362891\ttotal: 10.1s\tremaining: 5.85s\n",
      "633:\tlearn: 4.8331843\ttotal: 10.1s\tremaining: 5.83s\n",
      "634:\tlearn: 4.8308025\ttotal: 10.1s\tremaining: 5.82s\n",
      "635:\tlearn: 4.8277066\ttotal: 10.1s\tremaining: 5.8s\n",
      "636:\tlearn: 4.8259669\ttotal: 10.1s\tremaining: 5.78s\n",
      "637:\tlearn: 4.8226139\ttotal: 10.2s\tremaining: 5.77s\n",
      "638:\tlearn: 4.8171152\ttotal: 10.2s\tremaining: 5.75s\n",
      "639:\tlearn: 4.8140283\ttotal: 10.2s\tremaining: 5.73s\n",
      "640:\tlearn: 4.8087422\ttotal: 10.2s\tremaining: 5.72s\n",
      "641:\tlearn: 4.8062402\ttotal: 10.2s\tremaining: 5.7s\n",
      "642:\tlearn: 4.8019342\ttotal: 10.2s\tremaining: 5.69s\n",
      "643:\tlearn: 4.8007634\ttotal: 10.3s\tremaining: 5.67s\n",
      "644:\tlearn: 4.7982299\ttotal: 10.3s\tremaining: 5.65s\n",
      "645:\tlearn: 4.7956181\ttotal: 10.3s\tremaining: 5.64s\n",
      "646:\tlearn: 4.7937425\ttotal: 10.3s\tremaining: 5.62s\n",
      "647:\tlearn: 4.7917282\ttotal: 10.3s\tremaining: 5.61s\n",
      "648:\tlearn: 4.7895507\ttotal: 10.3s\tremaining: 5.6s\n",
      "649:\tlearn: 4.7832926\ttotal: 10.4s\tremaining: 5.58s\n",
      "650:\tlearn: 4.7809140\ttotal: 10.4s\tremaining: 5.57s\n",
      "651:\tlearn: 4.7788611\ttotal: 10.4s\tremaining: 5.56s\n",
      "652:\tlearn: 4.7732007\ttotal: 10.4s\tremaining: 5.54s\n",
      "653:\tlearn: 4.7707751\ttotal: 10.4s\tremaining: 5.53s\n",
      "654:\tlearn: 4.7632258\ttotal: 10.5s\tremaining: 5.51s\n",
      "655:\tlearn: 4.7593344\ttotal: 10.5s\tremaining: 5.5s\n",
      "656:\tlearn: 4.7542787\ttotal: 10.5s\tremaining: 5.49s\n",
      "657:\tlearn: 4.7521547\ttotal: 10.5s\tremaining: 5.47s\n",
      "658:\tlearn: 4.7462698\ttotal: 10.6s\tremaining: 5.46s\n",
      "659:\tlearn: 4.7434505\ttotal: 10.6s\tremaining: 5.45s\n",
      "660:\tlearn: 4.7396165\ttotal: 10.6s\tremaining: 5.43s\n",
      "661:\tlearn: 4.7382113\ttotal: 10.6s\tremaining: 5.42s\n",
      "662:\tlearn: 4.7351015\ttotal: 10.6s\tremaining: 5.4s\n",
      "663:\tlearn: 4.7267380\ttotal: 10.6s\tremaining: 5.38s\n",
      "664:\tlearn: 4.7232978\ttotal: 10.7s\tremaining: 5.37s\n",
      "665:\tlearn: 4.7203079\ttotal: 10.7s\tremaining: 5.35s\n",
      "666:\tlearn: 4.7176340\ttotal: 10.7s\tremaining: 5.33s\n",
      "667:\tlearn: 4.7144079\ttotal: 10.7s\tremaining: 5.32s\n",
      "668:\tlearn: 4.7103860\ttotal: 10.7s\tremaining: 5.3s\n",
      "669:\tlearn: 4.7059796\ttotal: 10.7s\tremaining: 5.29s\n",
      "670:\tlearn: 4.7049694\ttotal: 10.7s\tremaining: 5.27s\n",
      "671:\tlearn: 4.7006081\ttotal: 10.8s\tremaining: 5.25s\n",
      "672:\tlearn: 4.6987128\ttotal: 10.8s\tremaining: 5.24s\n",
      "673:\tlearn: 4.6960122\ttotal: 10.8s\tremaining: 5.22s\n",
      "674:\tlearn: 4.6938145\ttotal: 10.8s\tremaining: 5.21s\n",
      "675:\tlearn: 4.6922686\ttotal: 10.8s\tremaining: 5.19s\n",
      "676:\tlearn: 4.6888181\ttotal: 10.8s\tremaining: 5.17s\n",
      "677:\tlearn: 4.6853507\ttotal: 10.9s\tremaining: 5.16s\n",
      "678:\tlearn: 4.6811928\ttotal: 10.9s\tremaining: 5.14s\n",
      "679:\tlearn: 4.6750226\ttotal: 10.9s\tremaining: 5.12s\n",
      "680:\tlearn: 4.6711782\ttotal: 10.9s\tremaining: 5.11s\n",
      "681:\tlearn: 4.6661876\ttotal: 10.9s\tremaining: 5.09s\n",
      "682:\tlearn: 4.6645524\ttotal: 10.9s\tremaining: 5.08s\n",
      "683:\tlearn: 4.6618963\ttotal: 10.9s\tremaining: 5.06s\n",
      "684:\tlearn: 4.6592678\ttotal: 11s\tremaining: 5.04s\n",
      "685:\tlearn: 4.6572851\ttotal: 11s\tremaining: 5.03s\n",
      "686:\tlearn: 4.6534828\ttotal: 11s\tremaining: 5.01s\n",
      "687:\tlearn: 4.6500835\ttotal: 11s\tremaining: 4.99s\n",
      "688:\tlearn: 4.6446862\ttotal: 11s\tremaining: 4.98s\n",
      "689:\tlearn: 4.6431584\ttotal: 11s\tremaining: 4.96s\n",
      "690:\tlearn: 4.6382490\ttotal: 11.1s\tremaining: 4.95s\n",
      "691:\tlearn: 4.6333350\ttotal: 11.1s\tremaining: 4.93s\n",
      "692:\tlearn: 4.6259756\ttotal: 11.1s\tremaining: 4.91s\n",
      "693:\tlearn: 4.6228923\ttotal: 11.1s\tremaining: 4.9s\n",
      "694:\tlearn: 4.6155310\ttotal: 11.1s\tremaining: 4.88s\n",
      "695:\tlearn: 4.6135454\ttotal: 11.1s\tremaining: 4.86s\n",
      "696:\tlearn: 4.6110558\ttotal: 11.2s\tremaining: 4.85s\n",
      "697:\tlearn: 4.6073008\ttotal: 11.2s\tremaining: 4.83s\n",
      "698:\tlearn: 4.6064443\ttotal: 11.2s\tremaining: 4.82s\n",
      "699:\tlearn: 4.6049768\ttotal: 11.2s\tremaining: 4.8s\n",
      "700:\tlearn: 4.6034165\ttotal: 11.2s\tremaining: 4.79s\n",
      "701:\tlearn: 4.6010285\ttotal: 11.2s\tremaining: 4.77s\n",
      "702:\tlearn: 4.5986206\ttotal: 11.3s\tremaining: 4.75s\n",
      "703:\tlearn: 4.5970148\ttotal: 11.3s\tremaining: 4.74s\n",
      "704:\tlearn: 4.5937635\ttotal: 11.3s\tremaining: 4.72s\n",
      "705:\tlearn: 4.5912921\ttotal: 11.3s\tremaining: 4.71s\n",
      "706:\tlearn: 4.5874636\ttotal: 11.3s\tremaining: 4.69s\n",
      "707:\tlearn: 4.5847692\ttotal: 11.3s\tremaining: 4.68s\n",
      "708:\tlearn: 4.5816017\ttotal: 11.4s\tremaining: 4.66s\n",
      "709:\tlearn: 4.5776997\ttotal: 11.4s\tremaining: 4.65s\n",
      "710:\tlearn: 4.5718287\ttotal: 11.4s\tremaining: 4.63s\n",
      "711:\tlearn: 4.5682071\ttotal: 11.4s\tremaining: 4.62s\n",
      "712:\tlearn: 4.5651720\ttotal: 11.4s\tremaining: 4.6s\n",
      "713:\tlearn: 4.5625139\ttotal: 11.4s\tremaining: 4.58s\n",
      "714:\tlearn: 4.5608333\ttotal: 11.5s\tremaining: 4.57s\n",
      "715:\tlearn: 4.5596595\ttotal: 11.5s\tremaining: 4.55s\n",
      "716:\tlearn: 4.5583613\ttotal: 11.5s\tremaining: 4.54s\n",
      "717:\tlearn: 4.5574775\ttotal: 11.5s\tremaining: 4.52s\n",
      "718:\tlearn: 4.5546747\ttotal: 11.5s\tremaining: 4.51s\n",
      "719:\tlearn: 4.5525958\ttotal: 11.5s\tremaining: 4.49s\n",
      "720:\tlearn: 4.5486325\ttotal: 11.6s\tremaining: 4.47s\n",
      "721:\tlearn: 4.5447114\ttotal: 11.6s\tremaining: 4.46s\n",
      "722:\tlearn: 4.5427804\ttotal: 11.6s\tremaining: 4.44s\n",
      "723:\tlearn: 4.5368942\ttotal: 11.6s\tremaining: 4.43s\n",
      "724:\tlearn: 4.5347103\ttotal: 11.6s\tremaining: 4.41s\n",
      "725:\tlearn: 4.5296631\ttotal: 11.6s\tremaining: 4.39s\n",
      "726:\tlearn: 4.5262128\ttotal: 11.7s\tremaining: 4.38s\n",
      "727:\tlearn: 4.5254758\ttotal: 11.7s\tremaining: 4.36s\n",
      "728:\tlearn: 4.5226561\ttotal: 11.7s\tremaining: 4.35s\n",
      "729:\tlearn: 4.5197274\ttotal: 11.7s\tremaining: 4.33s\n",
      "730:\tlearn: 4.5187930\ttotal: 11.7s\tremaining: 4.32s\n",
      "731:\tlearn: 4.5158422\ttotal: 11.8s\tremaining: 4.3s\n",
      "732:\tlearn: 4.5131136\ttotal: 11.8s\tremaining: 4.29s\n",
      "733:\tlearn: 4.5116842\ttotal: 11.8s\tremaining: 4.27s\n",
      "734:\tlearn: 4.5090006\ttotal: 11.8s\tremaining: 4.26s\n",
      "735:\tlearn: 4.5074311\ttotal: 11.8s\tremaining: 4.24s\n",
      "736:\tlearn: 4.5057467\ttotal: 11.8s\tremaining: 4.22s\n",
      "737:\tlearn: 4.4991317\ttotal: 11.9s\tremaining: 4.21s\n",
      "738:\tlearn: 4.4940878\ttotal: 11.9s\tremaining: 4.19s\n",
      "739:\tlearn: 4.4895476\ttotal: 11.9s\tremaining: 4.18s\n",
      "740:\tlearn: 4.4872879\ttotal: 11.9s\tremaining: 4.16s\n",
      "741:\tlearn: 4.4859490\ttotal: 11.9s\tremaining: 4.15s\n",
      "742:\tlearn: 4.4849048\ttotal: 11.9s\tremaining: 4.13s\n",
      "743:\tlearn: 4.4836997\ttotal: 12s\tremaining: 4.12s\n",
      "744:\tlearn: 4.4786160\ttotal: 12s\tremaining: 4.1s\n",
      "745:\tlearn: 4.4744540\ttotal: 12s\tremaining: 4.08s\n",
      "746:\tlearn: 4.4717879\ttotal: 12s\tremaining: 4.07s\n",
      "747:\tlearn: 4.4648177\ttotal: 12s\tremaining: 4.05s\n",
      "748:\tlearn: 4.4619066\ttotal: 12s\tremaining: 4.04s\n",
      "749:\tlearn: 4.4591906\ttotal: 12.1s\tremaining: 4.02s\n",
      "750:\tlearn: 4.4551555\ttotal: 12.1s\tremaining: 4s\n",
      "751:\tlearn: 4.4538159\ttotal: 12.1s\tremaining: 3.99s\n",
      "752:\tlearn: 4.4527096\ttotal: 12.1s\tremaining: 3.97s\n",
      "753:\tlearn: 4.4506469\ttotal: 12.1s\tremaining: 3.96s\n",
      "754:\tlearn: 4.4448141\ttotal: 12.1s\tremaining: 3.94s\n",
      "755:\tlearn: 4.4408170\ttotal: 12.2s\tremaining: 3.92s\n",
      "756:\tlearn: 4.4354088\ttotal: 12.2s\tremaining: 3.91s\n",
      "757:\tlearn: 4.4340102\ttotal: 12.2s\tremaining: 3.89s\n",
      "758:\tlearn: 4.4322660\ttotal: 12.2s\tremaining: 3.88s\n",
      "759:\tlearn: 4.4282641\ttotal: 12.2s\tremaining: 3.86s\n",
      "760:\tlearn: 4.4246140\ttotal: 12.2s\tremaining: 3.85s\n",
      "761:\tlearn: 4.4233797\ttotal: 12.3s\tremaining: 3.83s\n",
      "762:\tlearn: 4.4215640\ttotal: 12.3s\tremaining: 3.81s\n",
      "763:\tlearn: 4.4205576\ttotal: 12.3s\tremaining: 3.8s\n",
      "764:\tlearn: 4.4178853\ttotal: 12.3s\tremaining: 3.78s\n",
      "765:\tlearn: 4.4150644\ttotal: 12.3s\tremaining: 3.77s\n",
      "766:\tlearn: 4.4091186\ttotal: 12.3s\tremaining: 3.75s\n",
      "767:\tlearn: 4.4059985\ttotal: 12.4s\tremaining: 3.73s\n",
      "768:\tlearn: 4.4043004\ttotal: 12.4s\tremaining: 3.72s\n",
      "769:\tlearn: 4.4025856\ttotal: 12.4s\tremaining: 3.7s\n",
      "770:\tlearn: 4.3975937\ttotal: 12.4s\tremaining: 3.69s\n",
      "771:\tlearn: 4.3928922\ttotal: 12.4s\tremaining: 3.67s\n",
      "772:\tlearn: 4.3867149\ttotal: 12.5s\tremaining: 3.66s\n",
      "773:\tlearn: 4.3843964\ttotal: 12.5s\tremaining: 3.64s\n",
      "774:\tlearn: 4.3820456\ttotal: 12.5s\tremaining: 3.63s\n",
      "775:\tlearn: 4.3801813\ttotal: 12.5s\tremaining: 3.61s\n",
      "776:\tlearn: 4.3766038\ttotal: 12.5s\tremaining: 3.59s\n",
      "777:\tlearn: 4.3715414\ttotal: 12.6s\tremaining: 3.58s\n",
      "778:\tlearn: 4.3660930\ttotal: 12.6s\tremaining: 3.57s\n",
      "779:\tlearn: 4.3649072\ttotal: 12.6s\tremaining: 3.55s\n",
      "780:\tlearn: 4.3613580\ttotal: 12.6s\tremaining: 3.53s\n",
      "781:\tlearn: 4.3600816\ttotal: 12.6s\tremaining: 3.52s\n",
      "782:\tlearn: 4.3564554\ttotal: 12.6s\tremaining: 3.5s\n",
      "783:\tlearn: 4.3539408\ttotal: 12.7s\tremaining: 3.49s\n",
      "784:\tlearn: 4.3447572\ttotal: 12.7s\tremaining: 3.47s\n",
      "785:\tlearn: 4.3436518\ttotal: 12.7s\tremaining: 3.46s\n",
      "786:\tlearn: 4.3417456\ttotal: 12.7s\tremaining: 3.44s\n",
      "787:\tlearn: 4.3382728\ttotal: 12.7s\tremaining: 3.42s\n",
      "788:\tlearn: 4.3360505\ttotal: 12.8s\tremaining: 3.41s\n",
      "789:\tlearn: 4.3341858\ttotal: 12.8s\tremaining: 3.4s\n",
      "790:\tlearn: 4.3308764\ttotal: 12.8s\tremaining: 3.38s\n",
      "791:\tlearn: 4.3289629\ttotal: 12.8s\tremaining: 3.36s\n",
      "792:\tlearn: 4.3274156\ttotal: 12.8s\tremaining: 3.35s\n",
      "793:\tlearn: 4.3261181\ttotal: 12.8s\tremaining: 3.33s\n",
      "794:\tlearn: 4.3251135\ttotal: 12.9s\tremaining: 3.31s\n",
      "795:\tlearn: 4.3203077\ttotal: 12.9s\tremaining: 3.3s\n",
      "796:\tlearn: 4.3180564\ttotal: 12.9s\tremaining: 3.28s\n",
      "797:\tlearn: 4.3154856\ttotal: 12.9s\tremaining: 3.27s\n",
      "798:\tlearn: 4.3144531\ttotal: 12.9s\tremaining: 3.25s\n",
      "799:\tlearn: 4.3092284\ttotal: 12.9s\tremaining: 3.24s\n",
      "800:\tlearn: 4.3075310\ttotal: 13s\tremaining: 3.22s\n",
      "801:\tlearn: 4.3031871\ttotal: 13s\tremaining: 3.2s\n",
      "802:\tlearn: 4.3000601\ttotal: 13s\tremaining: 3.19s\n",
      "803:\tlearn: 4.2960994\ttotal: 13s\tremaining: 3.17s\n",
      "804:\tlearn: 4.2947588\ttotal: 13s\tremaining: 3.15s\n",
      "805:\tlearn: 4.2925540\ttotal: 13s\tremaining: 3.14s\n",
      "806:\tlearn: 4.2876009\ttotal: 13.1s\tremaining: 3.12s\n",
      "807:\tlearn: 4.2844493\ttotal: 13.1s\tremaining: 3.11s\n",
      "808:\tlearn: 4.2817742\ttotal: 13.1s\tremaining: 3.09s\n",
      "809:\tlearn: 4.2807475\ttotal: 13.1s\tremaining: 3.08s\n",
      "810:\tlearn: 4.2763329\ttotal: 13.1s\tremaining: 3.06s\n",
      "811:\tlearn: 4.2728327\ttotal: 13.2s\tremaining: 3.04s\n",
      "812:\tlearn: 4.2665318\ttotal: 13.2s\tremaining: 3.03s\n",
      "813:\tlearn: 4.2650036\ttotal: 13.2s\tremaining: 3.01s\n",
      "814:\tlearn: 4.2637350\ttotal: 13.2s\tremaining: 3s\n",
      "815:\tlearn: 4.2613318\ttotal: 13.2s\tremaining: 2.98s\n",
      "816:\tlearn: 4.2603101\ttotal: 13.2s\tremaining: 2.96s\n",
      "817:\tlearn: 4.2582640\ttotal: 13.3s\tremaining: 2.95s\n",
      "818:\tlearn: 4.2565990\ttotal: 13.3s\tremaining: 2.93s\n",
      "819:\tlearn: 4.2530622\ttotal: 13.3s\tremaining: 2.92s\n",
      "820:\tlearn: 4.2504514\ttotal: 13.3s\tremaining: 2.9s\n",
      "821:\tlearn: 4.2483363\ttotal: 13.3s\tremaining: 2.88s\n",
      "822:\tlearn: 4.2463610\ttotal: 13.3s\tremaining: 2.87s\n",
      "823:\tlearn: 4.2447600\ttotal: 13.4s\tremaining: 2.85s\n",
      "824:\tlearn: 4.2417540\ttotal: 13.4s\tremaining: 2.84s\n",
      "825:\tlearn: 4.2356271\ttotal: 13.4s\tremaining: 2.82s\n",
      "826:\tlearn: 4.2341979\ttotal: 13.4s\tremaining: 2.81s\n",
      "827:\tlearn: 4.2328371\ttotal: 13.4s\tremaining: 2.79s\n",
      "828:\tlearn: 4.2296571\ttotal: 13.5s\tremaining: 2.77s\n",
      "829:\tlearn: 4.2266563\ttotal: 13.5s\tremaining: 2.76s\n",
      "830:\tlearn: 4.2208116\ttotal: 13.5s\tremaining: 2.75s\n",
      "831:\tlearn: 4.2184771\ttotal: 13.5s\tremaining: 2.73s\n",
      "832:\tlearn: 4.2166272\ttotal: 13.6s\tremaining: 2.72s\n",
      "833:\tlearn: 4.2157684\ttotal: 13.6s\tremaining: 2.7s\n",
      "834:\tlearn: 4.2130784\ttotal: 13.6s\tremaining: 2.69s\n",
      "835:\tlearn: 4.2092958\ttotal: 13.6s\tremaining: 2.67s\n",
      "836:\tlearn: 4.2038649\ttotal: 13.6s\tremaining: 2.65s\n",
      "837:\tlearn: 4.2018771\ttotal: 13.6s\tremaining: 2.64s\n",
      "838:\tlearn: 4.1994650\ttotal: 13.7s\tremaining: 2.62s\n",
      "839:\tlearn: 4.1920949\ttotal: 13.7s\tremaining: 2.6s\n",
      "840:\tlearn: 4.1863084\ttotal: 13.7s\tremaining: 2.59s\n",
      "841:\tlearn: 4.1845369\ttotal: 13.7s\tremaining: 2.57s\n",
      "842:\tlearn: 4.1822317\ttotal: 13.7s\tremaining: 2.56s\n",
      "843:\tlearn: 4.1813689\ttotal: 13.7s\tremaining: 2.54s\n",
      "844:\tlearn: 4.1799223\ttotal: 13.8s\tremaining: 2.52s\n",
      "845:\tlearn: 4.1780765\ttotal: 13.8s\tremaining: 2.51s\n",
      "846:\tlearn: 4.1760615\ttotal: 13.8s\tremaining: 2.49s\n",
      "847:\tlearn: 4.1730893\ttotal: 13.8s\tremaining: 2.48s\n",
      "848:\tlearn: 4.1705620\ttotal: 13.8s\tremaining: 2.46s\n",
      "849:\tlearn: 4.1669553\ttotal: 13.9s\tremaining: 2.44s\n",
      "850:\tlearn: 4.1627296\ttotal: 13.9s\tremaining: 2.43s\n",
      "851:\tlearn: 4.1602773\ttotal: 13.9s\tremaining: 2.41s\n",
      "852:\tlearn: 4.1560669\ttotal: 13.9s\tremaining: 2.4s\n",
      "853:\tlearn: 4.1521524\ttotal: 13.9s\tremaining: 2.38s\n",
      "854:\tlearn: 4.1495255\ttotal: 13.9s\tremaining: 2.37s\n",
      "855:\tlearn: 4.1429944\ttotal: 14s\tremaining: 2.35s\n",
      "856:\tlearn: 4.1396339\ttotal: 14s\tremaining: 2.33s\n",
      "857:\tlearn: 4.1367851\ttotal: 14s\tremaining: 2.32s\n",
      "858:\tlearn: 4.1299493\ttotal: 14s\tremaining: 2.3s\n",
      "859:\tlearn: 4.1286953\ttotal: 14s\tremaining: 2.28s\n",
      "860:\tlearn: 4.1252121\ttotal: 14s\tremaining: 2.27s\n",
      "861:\tlearn: 4.1228827\ttotal: 14.1s\tremaining: 2.25s\n",
      "862:\tlearn: 4.1205584\ttotal: 14.1s\tremaining: 2.23s\n",
      "863:\tlearn: 4.1190359\ttotal: 14.1s\tremaining: 2.22s\n",
      "864:\tlearn: 4.1178443\ttotal: 14.1s\tremaining: 2.2s\n",
      "865:\tlearn: 4.1144731\ttotal: 14.1s\tremaining: 2.19s\n",
      "866:\tlearn: 4.1119339\ttotal: 14.1s\tremaining: 2.17s\n",
      "867:\tlearn: 4.1091155\ttotal: 14.2s\tremaining: 2.15s\n",
      "868:\tlearn: 4.1031050\ttotal: 14.2s\tremaining: 2.14s\n",
      "869:\tlearn: 4.0998512\ttotal: 14.2s\tremaining: 2.12s\n",
      "870:\tlearn: 4.0958669\ttotal: 14.2s\tremaining: 2.1s\n",
      "871:\tlearn: 4.0925396\ttotal: 14.2s\tremaining: 2.09s\n",
      "872:\tlearn: 4.0878911\ttotal: 14.3s\tremaining: 2.07s\n",
      "873:\tlearn: 4.0852969\ttotal: 14.3s\tremaining: 2.06s\n",
      "874:\tlearn: 4.0772262\ttotal: 14.3s\tremaining: 2.04s\n",
      "875:\tlearn: 4.0750646\ttotal: 14.3s\tremaining: 2.02s\n",
      "876:\tlearn: 4.0720806\ttotal: 14.3s\tremaining: 2.01s\n",
      "877:\tlearn: 4.0711818\ttotal: 14.3s\tremaining: 1.99s\n",
      "878:\tlearn: 4.0682377\ttotal: 14.4s\tremaining: 1.98s\n",
      "879:\tlearn: 4.0643309\ttotal: 14.4s\tremaining: 1.96s\n",
      "880:\tlearn: 4.0598667\ttotal: 14.4s\tremaining: 1.94s\n",
      "881:\tlearn: 4.0575605\ttotal: 14.4s\tremaining: 1.93s\n",
      "882:\tlearn: 4.0556229\ttotal: 14.4s\tremaining: 1.91s\n",
      "883:\tlearn: 4.0525019\ttotal: 14.4s\tremaining: 1.89s\n",
      "884:\tlearn: 4.0483032\ttotal: 14.5s\tremaining: 1.88s\n",
      "885:\tlearn: 4.0451126\ttotal: 14.5s\tremaining: 1.86s\n",
      "886:\tlearn: 4.0425089\ttotal: 14.5s\tremaining: 1.84s\n",
      "887:\tlearn: 4.0393956\ttotal: 14.5s\tremaining: 1.83s\n",
      "888:\tlearn: 4.0365658\ttotal: 14.5s\tremaining: 1.81s\n",
      "889:\tlearn: 4.0342954\ttotal: 14.5s\tremaining: 1.8s\n",
      "890:\tlearn: 4.0295598\ttotal: 14.6s\tremaining: 1.78s\n",
      "891:\tlearn: 4.0244459\ttotal: 14.6s\tremaining: 1.76s\n",
      "892:\tlearn: 4.0215500\ttotal: 14.6s\tremaining: 1.75s\n",
      "893:\tlearn: 4.0205201\ttotal: 14.6s\tremaining: 1.73s\n",
      "894:\tlearn: 4.0195453\ttotal: 14.6s\tremaining: 1.72s\n",
      "895:\tlearn: 4.0183836\ttotal: 14.6s\tremaining: 1.7s\n",
      "896:\tlearn: 4.0147148\ttotal: 14.7s\tremaining: 1.68s\n",
      "897:\tlearn: 4.0135564\ttotal: 14.7s\tremaining: 1.67s\n",
      "898:\tlearn: 4.0124670\ttotal: 14.7s\tremaining: 1.65s\n",
      "899:\tlearn: 4.0107879\ttotal: 14.7s\tremaining: 1.63s\n",
      "900:\tlearn: 4.0065079\ttotal: 14.7s\tremaining: 1.62s\n",
      "901:\tlearn: 4.0039322\ttotal: 14.7s\tremaining: 1.6s\n",
      "902:\tlearn: 4.0020013\ttotal: 14.7s\tremaining: 1.58s\n",
      "903:\tlearn: 4.0009400\ttotal: 14.8s\tremaining: 1.57s\n",
      "904:\tlearn: 3.9984140\ttotal: 14.8s\tremaining: 1.55s\n",
      "905:\tlearn: 3.9941183\ttotal: 14.8s\tremaining: 1.54s\n",
      "906:\tlearn: 3.9922416\ttotal: 14.8s\tremaining: 1.52s\n",
      "907:\tlearn: 3.9899225\ttotal: 14.8s\tremaining: 1.5s\n",
      "908:\tlearn: 3.9871851\ttotal: 14.9s\tremaining: 1.49s\n",
      "909:\tlearn: 3.9834296\ttotal: 14.9s\tremaining: 1.47s\n",
      "910:\tlearn: 3.9807077\ttotal: 14.9s\tremaining: 1.45s\n",
      "911:\tlearn: 3.9789297\ttotal: 14.9s\tremaining: 1.44s\n",
      "912:\tlearn: 3.9771010\ttotal: 14.9s\tremaining: 1.42s\n",
      "913:\tlearn: 3.9747282\ttotal: 14.9s\tremaining: 1.41s\n",
      "914:\tlearn: 3.9734408\ttotal: 14.9s\tremaining: 1.39s\n",
      "915:\tlearn: 3.9718738\ttotal: 15s\tremaining: 1.37s\n",
      "916:\tlearn: 3.9698754\ttotal: 15s\tremaining: 1.35s\n",
      "917:\tlearn: 3.9661513\ttotal: 15s\tremaining: 1.34s\n",
      "918:\tlearn: 3.9622747\ttotal: 15s\tremaining: 1.32s\n",
      "919:\tlearn: 3.9603924\ttotal: 15s\tremaining: 1.31s\n",
      "920:\tlearn: 3.9582519\ttotal: 15s\tremaining: 1.29s\n",
      "921:\tlearn: 3.9552808\ttotal: 15.1s\tremaining: 1.27s\n",
      "922:\tlearn: 3.9527026\ttotal: 15.1s\tremaining: 1.26s\n",
      "923:\tlearn: 3.9510686\ttotal: 15.1s\tremaining: 1.24s\n",
      "924:\tlearn: 3.9487097\ttotal: 15.1s\tremaining: 1.22s\n",
      "925:\tlearn: 3.9468967\ttotal: 15.1s\tremaining: 1.21s\n",
      "926:\tlearn: 3.9437422\ttotal: 15.1s\tremaining: 1.19s\n",
      "927:\tlearn: 3.9430153\ttotal: 15.1s\tremaining: 1.18s\n",
      "928:\tlearn: 3.9423985\ttotal: 15.2s\tremaining: 1.16s\n",
      "929:\tlearn: 3.9386687\ttotal: 15.2s\tremaining: 1.14s\n",
      "930:\tlearn: 3.9359332\ttotal: 15.2s\tremaining: 1.13s\n",
      "931:\tlearn: 3.9344412\ttotal: 15.2s\tremaining: 1.11s\n",
      "932:\tlearn: 3.9320339\ttotal: 15.2s\tremaining: 1.09s\n",
      "933:\tlearn: 3.9306411\ttotal: 15.2s\tremaining: 1.08s\n",
      "934:\tlearn: 3.9292172\ttotal: 15.3s\tremaining: 1.06s\n",
      "935:\tlearn: 3.9276837\ttotal: 15.3s\tremaining: 1.04s\n",
      "936:\tlearn: 3.9240883\ttotal: 15.3s\tremaining: 1.03s\n",
      "937:\tlearn: 3.9225570\ttotal: 15.3s\tremaining: 1.01s\n",
      "938:\tlearn: 3.9214554\ttotal: 15.3s\tremaining: 995ms\n",
      "939:\tlearn: 3.9207584\ttotal: 15.3s\tremaining: 978ms\n",
      "940:\tlearn: 3.9198701\ttotal: 15.3s\tremaining: 962ms\n",
      "941:\tlearn: 3.9180307\ttotal: 15.4s\tremaining: 946ms\n",
      "942:\tlearn: 3.9146943\ttotal: 15.4s\tremaining: 930ms\n",
      "943:\tlearn: 3.9135632\ttotal: 15.4s\tremaining: 913ms\n",
      "944:\tlearn: 3.9107395\ttotal: 15.4s\tremaining: 897ms\n",
      "945:\tlearn: 3.9072487\ttotal: 15.4s\tremaining: 881ms\n",
      "946:\tlearn: 3.9058306\ttotal: 15.5s\tremaining: 865ms\n",
      "947:\tlearn: 3.9045216\ttotal: 15.5s\tremaining: 849ms\n",
      "948:\tlearn: 3.9030340\ttotal: 15.5s\tremaining: 832ms\n",
      "949:\tlearn: 3.8982635\ttotal: 15.5s\tremaining: 816ms\n",
      "950:\tlearn: 3.8963426\ttotal: 15.5s\tremaining: 800ms\n",
      "951:\tlearn: 3.8942496\ttotal: 15.5s\tremaining: 783ms\n",
      "952:\tlearn: 3.8929919\ttotal: 15.6s\tremaining: 767ms\n",
      "953:\tlearn: 3.8914577\ttotal: 15.6s\tremaining: 751ms\n",
      "954:\tlearn: 3.8885851\ttotal: 15.6s\tremaining: 734ms\n",
      "955:\tlearn: 3.8861079\ttotal: 15.6s\tremaining: 718ms\n",
      "956:\tlearn: 3.8855533\ttotal: 15.6s\tremaining: 702ms\n",
      "957:\tlearn: 3.8800953\ttotal: 15.6s\tremaining: 685ms\n",
      "958:\tlearn: 3.8771895\ttotal: 15.6s\tremaining: 669ms\n",
      "959:\tlearn: 3.8763165\ttotal: 15.7s\tremaining: 653ms\n",
      "960:\tlearn: 3.8750072\ttotal: 15.7s\tremaining: 636ms\n",
      "961:\tlearn: 3.8710338\ttotal: 15.7s\tremaining: 620ms\n",
      "962:\tlearn: 3.8704290\ttotal: 15.7s\tremaining: 603ms\n",
      "963:\tlearn: 3.8685663\ttotal: 15.7s\tremaining: 587ms\n",
      "964:\tlearn: 3.8665012\ttotal: 15.7s\tremaining: 571ms\n",
      "965:\tlearn: 3.8650942\ttotal: 15.8s\tremaining: 555ms\n",
      "966:\tlearn: 3.8634850\ttotal: 15.8s\tremaining: 539ms\n",
      "967:\tlearn: 3.8618743\ttotal: 15.8s\tremaining: 522ms\n",
      "968:\tlearn: 3.8566100\ttotal: 15.8s\tremaining: 506ms\n",
      "969:\tlearn: 3.8543336\ttotal: 15.8s\tremaining: 490ms\n",
      "970:\tlearn: 3.8491425\ttotal: 15.8s\tremaining: 473ms\n",
      "971:\tlearn: 3.8466607\ttotal: 15.9s\tremaining: 457ms\n",
      "972:\tlearn: 3.8442730\ttotal: 15.9s\tremaining: 441ms\n",
      "973:\tlearn: 3.8425089\ttotal: 15.9s\tremaining: 424ms\n",
      "974:\tlearn: 3.8399772\ttotal: 15.9s\tremaining: 408ms\n",
      "975:\tlearn: 3.8393145\ttotal: 15.9s\tremaining: 392ms\n",
      "976:\tlearn: 3.8379797\ttotal: 15.9s\tremaining: 375ms\n",
      "977:\tlearn: 3.8336735\ttotal: 16s\tremaining: 359ms\n",
      "978:\tlearn: 3.8321894\ttotal: 16s\tremaining: 343ms\n",
      "979:\tlearn: 3.8300645\ttotal: 16s\tremaining: 327ms\n",
      "980:\tlearn: 3.8281820\ttotal: 16s\tremaining: 310ms\n",
      "981:\tlearn: 3.8260789\ttotal: 16s\tremaining: 294ms\n",
      "982:\tlearn: 3.8225054\ttotal: 16s\tremaining: 278ms\n",
      "983:\tlearn: 3.8201213\ttotal: 16.1s\tremaining: 261ms\n",
      "984:\tlearn: 3.8176298\ttotal: 16.1s\tremaining: 245ms\n",
      "985:\tlearn: 3.8161977\ttotal: 16.1s\tremaining: 229ms\n",
      "986:\tlearn: 3.8139503\ttotal: 16.1s\tremaining: 212ms\n",
      "987:\tlearn: 3.8109375\ttotal: 16.1s\tremaining: 196ms\n",
      "988:\tlearn: 3.8089752\ttotal: 16.2s\tremaining: 180ms\n",
      "989:\tlearn: 3.8068920\ttotal: 16.2s\tremaining: 163ms\n",
      "990:\tlearn: 3.8045322\ttotal: 16.2s\tremaining: 147ms\n",
      "991:\tlearn: 3.8019857\ttotal: 16.2s\tremaining: 131ms\n",
      "992:\tlearn: 3.8014683\ttotal: 16.2s\tremaining: 114ms\n",
      "993:\tlearn: 3.8000600\ttotal: 16.2s\tremaining: 98ms\n",
      "994:\tlearn: 3.7981050\ttotal: 16.3s\tremaining: 81.7ms\n",
      "995:\tlearn: 3.7962770\ttotal: 16.3s\tremaining: 65.3ms\n",
      "996:\tlearn: 3.7946084\ttotal: 16.3s\tremaining: 49ms\n",
      "997:\tlearn: 3.7922911\ttotal: 16.3s\tremaining: 32.7ms\n",
      "998:\tlearn: 3.7903213\ttotal: 16.3s\tremaining: 16.3ms\n",
      "999:\tlearn: 3.7889111\ttotal: 16.3s\tremaining: 0us\n"
     ]
    },
    {
     "data": {
      "text/plain": [
       "6.457981724300968"
      ]
     },
     "execution_count": 56,
     "metadata": {},
     "output_type": "execute_result"
    }
   ],
   "source": [
    "# попробуем применить градиентный бустинг\n",
    "# получим метрику для первого целевого признака\n",
    "model_cb_rougher = CatBoostRegressor(random_state=12345)\n",
    "model_cb_rougher.fit(features_train, target_train_rougher)\n",
    "model_cb_rougher_pred = model_cb_rougher.predict(features_train)\n",
    "model_cb_rougher_smape = smape(target_train_rougher, model_cb_rougher_pred)\n",
    "model_cb_rougher_smape"
   ]
  },
  {
   "cell_type": "code",
   "execution_count": 57,
   "metadata": {},
   "outputs": [
    {
     "name": "stdout",
     "output_type": "stream",
     "text": [
      "Learning rate set to 0.061931\n",
      "0:\tlearn: 9.7877860\ttotal: 16.9ms\tremaining: 16.9s\n",
      "1:\tlearn: 9.6283090\ttotal: 32.3ms\tremaining: 16.1s\n",
      "2:\tlearn: 9.4788747\ttotal: 48.2ms\tremaining: 16s\n",
      "3:\tlearn: 9.3324820\ttotal: 64.2ms\tremaining: 16s\n",
      "4:\tlearn: 9.1981234\ttotal: 79.5ms\tremaining: 15.8s\n",
      "5:\tlearn: 9.0839399\ttotal: 95.4ms\tremaining: 15.8s\n",
      "6:\tlearn: 8.9687749\ttotal: 112ms\tremaining: 15.9s\n",
      "7:\tlearn: 8.8617167\ttotal: 132ms\tremaining: 16.4s\n",
      "8:\tlearn: 8.7661714\ttotal: 149ms\tremaining: 16.4s\n",
      "9:\tlearn: 8.6794184\ttotal: 165ms\tremaining: 16.3s\n",
      "10:\tlearn: 8.6029765\ttotal: 182ms\tremaining: 16.3s\n",
      "11:\tlearn: 8.5309591\ttotal: 197ms\tremaining: 16.2s\n",
      "12:\tlearn: 8.4678300\ttotal: 213ms\tremaining: 16.2s\n",
      "13:\tlearn: 8.3990410\ttotal: 229ms\tremaining: 16.1s\n",
      "14:\tlearn: 8.3334200\ttotal: 246ms\tremaining: 16.1s\n",
      "15:\tlearn: 8.2813815\ttotal: 262ms\tremaining: 16.1s\n",
      "16:\tlearn: 8.2229344\ttotal: 277ms\tremaining: 16s\n",
      "17:\tlearn: 8.1701427\ttotal: 293ms\tremaining: 16s\n",
      "18:\tlearn: 8.1207390\ttotal: 310ms\tremaining: 16s\n",
      "19:\tlearn: 8.0773305\ttotal: 327ms\tremaining: 16s\n",
      "20:\tlearn: 8.0402789\ttotal: 343ms\tremaining: 16s\n",
      "21:\tlearn: 7.9998914\ttotal: 359ms\tremaining: 16s\n",
      "22:\tlearn: 7.9556287\ttotal: 377ms\tremaining: 16s\n",
      "23:\tlearn: 7.9183023\ttotal: 392ms\tremaining: 16s\n",
      "24:\tlearn: 7.8827516\ttotal: 408ms\tremaining: 15.9s\n",
      "25:\tlearn: 7.8473765\ttotal: 424ms\tremaining: 15.9s\n",
      "26:\tlearn: 7.8116276\ttotal: 440ms\tremaining: 15.9s\n",
      "27:\tlearn: 7.7815240\ttotal: 458ms\tremaining: 15.9s\n",
      "28:\tlearn: 7.7528567\ttotal: 474ms\tremaining: 15.9s\n",
      "29:\tlearn: 7.7252476\ttotal: 493ms\tremaining: 15.9s\n",
      "30:\tlearn: 7.6967342\ttotal: 509ms\tremaining: 15.9s\n",
      "31:\tlearn: 7.6744862\ttotal: 524ms\tremaining: 15.8s\n",
      "32:\tlearn: 7.6494047\ttotal: 540ms\tremaining: 15.8s\n",
      "33:\tlearn: 7.6230092\ttotal: 555ms\tremaining: 15.8s\n",
      "34:\tlearn: 7.6017079\ttotal: 570ms\tremaining: 15.7s\n",
      "35:\tlearn: 7.5791103\ttotal: 586ms\tremaining: 15.7s\n",
      "36:\tlearn: 7.5577458\ttotal: 602ms\tremaining: 15.7s\n",
      "37:\tlearn: 7.5378342\ttotal: 618ms\tremaining: 15.6s\n",
      "38:\tlearn: 7.5182042\ttotal: 632ms\tremaining: 15.6s\n",
      "39:\tlearn: 7.5017001\ttotal: 649ms\tremaining: 15.6s\n",
      "40:\tlearn: 7.4835601\ttotal: 663ms\tremaining: 15.5s\n",
      "41:\tlearn: 7.4688618\ttotal: 677ms\tremaining: 15.4s\n",
      "42:\tlearn: 7.4448461\ttotal: 695ms\tremaining: 15.5s\n",
      "43:\tlearn: 7.4267289\ttotal: 710ms\tremaining: 15.4s\n",
      "44:\tlearn: 7.4126435\ttotal: 724ms\tremaining: 15.4s\n",
      "45:\tlearn: 7.3999001\ttotal: 739ms\tremaining: 15.3s\n",
      "46:\tlearn: 7.3820839\ttotal: 754ms\tremaining: 15.3s\n",
      "47:\tlearn: 7.3660264\ttotal: 770ms\tremaining: 15.3s\n",
      "48:\tlearn: 7.3488818\ttotal: 786ms\tremaining: 15.3s\n",
      "49:\tlearn: 7.3371626\ttotal: 802ms\tremaining: 15.2s\n",
      "50:\tlearn: 7.3182284\ttotal: 819ms\tremaining: 15.2s\n",
      "51:\tlearn: 7.3054067\ttotal: 834ms\tremaining: 15.2s\n",
      "52:\tlearn: 7.2932856\ttotal: 849ms\tremaining: 15.2s\n",
      "53:\tlearn: 7.2795241\ttotal: 864ms\tremaining: 15.1s\n",
      "54:\tlearn: 7.2657041\ttotal: 879ms\tremaining: 15.1s\n",
      "55:\tlearn: 7.2470189\ttotal: 895ms\tremaining: 15.1s\n",
      "56:\tlearn: 7.2318986\ttotal: 910ms\tremaining: 15.1s\n",
      "57:\tlearn: 7.2212844\ttotal: 925ms\tremaining: 15s\n",
      "58:\tlearn: 7.2122207\ttotal: 939ms\tremaining: 15s\n",
      "59:\tlearn: 7.1997413\ttotal: 954ms\tremaining: 14.9s\n",
      "60:\tlearn: 7.1878958\ttotal: 969ms\tremaining: 14.9s\n",
      "61:\tlearn: 7.1742257\ttotal: 983ms\tremaining: 14.9s\n",
      "62:\tlearn: 7.1630275\ttotal: 998ms\tremaining: 14.8s\n",
      "63:\tlearn: 7.1479440\ttotal: 1.01s\tremaining: 14.8s\n",
      "64:\tlearn: 7.1331323\ttotal: 1.03s\tremaining: 14.8s\n",
      "65:\tlearn: 7.1209263\ttotal: 1.04s\tremaining: 14.8s\n",
      "66:\tlearn: 7.1107080\ttotal: 1.06s\tremaining: 14.7s\n",
      "67:\tlearn: 7.0993329\ttotal: 1.07s\tremaining: 14.7s\n",
      "68:\tlearn: 7.0895575\ttotal: 1.09s\tremaining: 14.7s\n",
      "69:\tlearn: 7.0773627\ttotal: 1.1s\tremaining: 14.7s\n",
      "70:\tlearn: 7.0626542\ttotal: 1.12s\tremaining: 14.6s\n",
      "71:\tlearn: 7.0507689\ttotal: 1.13s\tremaining: 14.6s\n",
      "72:\tlearn: 7.0418283\ttotal: 1.15s\tremaining: 14.6s\n",
      "73:\tlearn: 7.0340056\ttotal: 1.17s\tremaining: 14.6s\n",
      "74:\tlearn: 7.0215197\ttotal: 1.18s\tremaining: 14.6s\n",
      "75:\tlearn: 7.0115017\ttotal: 1.2s\tremaining: 14.5s\n",
      "76:\tlearn: 7.0019244\ttotal: 1.21s\tremaining: 14.5s\n",
      "77:\tlearn: 6.9940719\ttotal: 1.23s\tremaining: 14.5s\n",
      "78:\tlearn: 6.9845017\ttotal: 1.24s\tremaining: 14.5s\n",
      "79:\tlearn: 6.9714498\ttotal: 1.26s\tremaining: 14.4s\n",
      "80:\tlearn: 6.9621006\ttotal: 1.27s\tremaining: 14.4s\n",
      "81:\tlearn: 6.9517705\ttotal: 1.28s\tremaining: 14.4s\n",
      "82:\tlearn: 6.9419457\ttotal: 1.3s\tremaining: 14.4s\n",
      "83:\tlearn: 6.9317097\ttotal: 1.31s\tremaining: 14.3s\n",
      "84:\tlearn: 6.9239654\ttotal: 1.33s\tremaining: 14.3s\n",
      "85:\tlearn: 6.9185321\ttotal: 1.34s\tremaining: 14.3s\n",
      "86:\tlearn: 6.9081673\ttotal: 1.36s\tremaining: 14.3s\n",
      "87:\tlearn: 6.8998797\ttotal: 1.38s\tremaining: 14.3s\n",
      "88:\tlearn: 6.8904236\ttotal: 1.39s\tremaining: 14.2s\n",
      "89:\tlearn: 6.8834501\ttotal: 1.41s\tremaining: 14.2s\n",
      "90:\tlearn: 6.8757377\ttotal: 1.42s\tremaining: 14.2s\n",
      "91:\tlearn: 6.8640407\ttotal: 1.44s\tremaining: 14.2s\n",
      "92:\tlearn: 6.8546054\ttotal: 1.45s\tremaining: 14.2s\n",
      "93:\tlearn: 6.8456332\ttotal: 1.47s\tremaining: 14.2s\n",
      "94:\tlearn: 6.8355018\ttotal: 1.48s\tremaining: 14.1s\n",
      "95:\tlearn: 6.8270416\ttotal: 1.5s\tremaining: 14.1s\n",
      "96:\tlearn: 6.8195034\ttotal: 1.52s\tremaining: 14.1s\n",
      "97:\tlearn: 6.8100236\ttotal: 1.53s\tremaining: 14.1s\n",
      "98:\tlearn: 6.8030565\ttotal: 1.55s\tremaining: 14.1s\n",
      "99:\tlearn: 6.7946821\ttotal: 1.57s\tremaining: 14.1s\n",
      "100:\tlearn: 6.7848648\ttotal: 1.59s\tremaining: 14.1s\n",
      "101:\tlearn: 6.7768977\ttotal: 1.6s\tremaining: 14.1s\n",
      "102:\tlearn: 6.7716547\ttotal: 1.62s\tremaining: 14.1s\n",
      "103:\tlearn: 6.7593362\ttotal: 1.64s\tremaining: 14.1s\n",
      "104:\tlearn: 6.7510096\ttotal: 1.66s\tremaining: 14.1s\n",
      "105:\tlearn: 6.7452627\ttotal: 1.67s\tremaining: 14.1s\n",
      "106:\tlearn: 6.7374869\ttotal: 1.69s\tremaining: 14.1s\n",
      "107:\tlearn: 6.7302552\ttotal: 1.7s\tremaining: 14.1s\n",
      "108:\tlearn: 6.7225914\ttotal: 1.72s\tremaining: 14s\n",
      "109:\tlearn: 6.7175684\ttotal: 1.73s\tremaining: 14s\n",
      "110:\tlearn: 6.7079771\ttotal: 1.75s\tremaining: 14s\n",
      "111:\tlearn: 6.6987887\ttotal: 1.76s\tremaining: 14s\n",
      "112:\tlearn: 6.6887104\ttotal: 1.78s\tremaining: 14s\n",
      "113:\tlearn: 6.6812885\ttotal: 1.79s\tremaining: 13.9s\n",
      "114:\tlearn: 6.6734381\ttotal: 1.81s\tremaining: 13.9s\n",
      "115:\tlearn: 6.6671807\ttotal: 1.82s\tremaining: 13.9s\n",
      "116:\tlearn: 6.6598301\ttotal: 1.84s\tremaining: 13.9s\n",
      "117:\tlearn: 6.6498796\ttotal: 1.85s\tremaining: 13.9s\n",
      "118:\tlearn: 6.6428366\ttotal: 1.87s\tremaining: 13.8s\n",
      "119:\tlearn: 6.6358687\ttotal: 1.88s\tremaining: 13.8s\n",
      "120:\tlearn: 6.6310886\ttotal: 1.9s\tremaining: 13.8s\n",
      "121:\tlearn: 6.6262187\ttotal: 1.91s\tremaining: 13.7s\n",
      "122:\tlearn: 6.6201417\ttotal: 1.92s\tremaining: 13.7s\n",
      "123:\tlearn: 6.6144768\ttotal: 1.94s\tremaining: 13.7s\n",
      "124:\tlearn: 6.6079935\ttotal: 1.95s\tremaining: 13.7s\n",
      "125:\tlearn: 6.6014680\ttotal: 1.97s\tremaining: 13.6s\n",
      "126:\tlearn: 6.5979827\ttotal: 1.98s\tremaining: 13.6s\n",
      "127:\tlearn: 6.5930310\ttotal: 2s\tremaining: 13.6s\n",
      "128:\tlearn: 6.5853886\ttotal: 2.01s\tremaining: 13.6s\n",
      "129:\tlearn: 6.5743066\ttotal: 2.02s\tremaining: 13.5s\n",
      "130:\tlearn: 6.5680408\ttotal: 2.04s\tremaining: 13.5s\n",
      "131:\tlearn: 6.5615856\ttotal: 2.05s\tremaining: 13.5s\n",
      "132:\tlearn: 6.5496064\ttotal: 2.07s\tremaining: 13.5s\n",
      "133:\tlearn: 6.5407220\ttotal: 2.09s\tremaining: 13.5s\n",
      "134:\tlearn: 6.5332553\ttotal: 2.1s\tremaining: 13.5s\n",
      "135:\tlearn: 6.5263611\ttotal: 2.12s\tremaining: 13.5s\n",
      "136:\tlearn: 6.5172793\ttotal: 2.14s\tremaining: 13.5s\n",
      "137:\tlearn: 6.5112370\ttotal: 2.15s\tremaining: 13.5s\n",
      "138:\tlearn: 6.5061447\ttotal: 2.17s\tremaining: 13.4s\n",
      "139:\tlearn: 6.4995690\ttotal: 2.19s\tremaining: 13.4s\n",
      "140:\tlearn: 6.4918139\ttotal: 2.2s\tremaining: 13.4s\n",
      "141:\tlearn: 6.4850864\ttotal: 2.21s\tremaining: 13.4s\n",
      "142:\tlearn: 6.4783793\ttotal: 2.23s\tremaining: 13.4s\n",
      "143:\tlearn: 6.4717329\ttotal: 2.25s\tremaining: 13.3s\n",
      "144:\tlearn: 6.4664047\ttotal: 2.26s\tremaining: 13.3s\n",
      "145:\tlearn: 6.4607232\ttotal: 2.28s\tremaining: 13.3s\n",
      "146:\tlearn: 6.4558094\ttotal: 2.29s\tremaining: 13.3s\n",
      "147:\tlearn: 6.4479288\ttotal: 2.31s\tremaining: 13.3s\n",
      "148:\tlearn: 6.4429940\ttotal: 2.32s\tremaining: 13.3s\n",
      "149:\tlearn: 6.4364974\ttotal: 2.34s\tremaining: 13.3s\n",
      "150:\tlearn: 6.4291965\ttotal: 2.35s\tremaining: 13.2s\n",
      "151:\tlearn: 6.4249272\ttotal: 2.37s\tremaining: 13.2s\n",
      "152:\tlearn: 6.4181985\ttotal: 2.38s\tremaining: 13.2s\n",
      "153:\tlearn: 6.4128352\ttotal: 2.4s\tremaining: 13.2s\n",
      "154:\tlearn: 6.4052982\ttotal: 2.41s\tremaining: 13.2s\n",
      "155:\tlearn: 6.4013469\ttotal: 2.43s\tremaining: 13.1s\n",
      "156:\tlearn: 6.3942857\ttotal: 2.44s\tremaining: 13.1s\n",
      "157:\tlearn: 6.3872068\ttotal: 2.46s\tremaining: 13.1s\n",
      "158:\tlearn: 6.3793868\ttotal: 2.47s\tremaining: 13.1s\n",
      "159:\tlearn: 6.3707431\ttotal: 2.49s\tremaining: 13.1s\n",
      "160:\tlearn: 6.3638106\ttotal: 2.5s\tremaining: 13.1s\n",
      "161:\tlearn: 6.3548539\ttotal: 2.52s\tremaining: 13s\n",
      "162:\tlearn: 6.3463990\ttotal: 2.54s\tremaining: 13s\n",
      "163:\tlearn: 6.3432680\ttotal: 2.55s\tremaining: 13s\n",
      "164:\tlearn: 6.3343418\ttotal: 2.57s\tremaining: 13s\n",
      "165:\tlearn: 6.3282148\ttotal: 2.58s\tremaining: 13s\n",
      "166:\tlearn: 6.3216680\ttotal: 2.6s\tremaining: 13s\n",
      "167:\tlearn: 6.3155214\ttotal: 2.61s\tremaining: 12.9s\n",
      "168:\tlearn: 6.3102589\ttotal: 2.63s\tremaining: 12.9s\n",
      "169:\tlearn: 6.3049004\ttotal: 2.64s\tremaining: 12.9s\n",
      "170:\tlearn: 6.3005237\ttotal: 2.65s\tremaining: 12.9s\n",
      "171:\tlearn: 6.2948335\ttotal: 2.67s\tremaining: 12.9s\n",
      "172:\tlearn: 6.2867518\ttotal: 2.69s\tremaining: 12.8s\n",
      "173:\tlearn: 6.2801333\ttotal: 2.7s\tremaining: 12.8s\n",
      "174:\tlearn: 6.2740416\ttotal: 2.71s\tremaining: 12.8s\n",
      "175:\tlearn: 6.2664875\ttotal: 2.73s\tremaining: 12.8s\n",
      "176:\tlearn: 6.2594536\ttotal: 2.75s\tremaining: 12.8s\n",
      "177:\tlearn: 6.2533075\ttotal: 2.76s\tremaining: 12.8s\n",
      "178:\tlearn: 6.2483949\ttotal: 2.78s\tremaining: 12.7s\n",
      "179:\tlearn: 6.2411437\ttotal: 2.8s\tremaining: 12.7s\n",
      "180:\tlearn: 6.2358645\ttotal: 2.81s\tremaining: 12.7s\n",
      "181:\tlearn: 6.2293026\ttotal: 2.83s\tremaining: 12.7s\n",
      "182:\tlearn: 6.2231966\ttotal: 2.84s\tremaining: 12.7s\n",
      "183:\tlearn: 6.2150528\ttotal: 2.85s\tremaining: 12.7s\n",
      "184:\tlearn: 6.2085656\ttotal: 2.87s\tremaining: 12.6s\n",
      "185:\tlearn: 6.2045594\ttotal: 2.89s\tremaining: 12.6s\n",
      "186:\tlearn: 6.1996544\ttotal: 2.9s\tremaining: 12.6s\n",
      "187:\tlearn: 6.1933038\ttotal: 2.92s\tremaining: 12.6s\n",
      "188:\tlearn: 6.1885171\ttotal: 2.94s\tremaining: 12.6s\n",
      "189:\tlearn: 6.1861196\ttotal: 2.95s\tremaining: 12.6s\n",
      "190:\tlearn: 6.1815399\ttotal: 2.96s\tremaining: 12.6s\n",
      "191:\tlearn: 6.1762789\ttotal: 2.98s\tremaining: 12.6s\n",
      "192:\tlearn: 6.1692222\ttotal: 3s\tremaining: 12.5s\n",
      "193:\tlearn: 6.1611257\ttotal: 3.02s\tremaining: 12.5s\n",
      "194:\tlearn: 6.1527026\ttotal: 3.04s\tremaining: 12.6s\n",
      "195:\tlearn: 6.1456831\ttotal: 3.06s\tremaining: 12.6s\n",
      "196:\tlearn: 6.1404939\ttotal: 3.08s\tremaining: 12.6s\n",
      "197:\tlearn: 6.1346068\ttotal: 3.1s\tremaining: 12.6s\n",
      "198:\tlearn: 6.1291265\ttotal: 3.12s\tremaining: 12.6s\n",
      "199:\tlearn: 6.1259936\ttotal: 3.14s\tremaining: 12.5s\n",
      "200:\tlearn: 6.1216185\ttotal: 3.15s\tremaining: 12.5s\n",
      "201:\tlearn: 6.1153916\ttotal: 3.17s\tremaining: 12.5s\n",
      "202:\tlearn: 6.1108901\ttotal: 3.19s\tremaining: 12.5s\n",
      "203:\tlearn: 6.1039663\ttotal: 3.21s\tremaining: 12.5s\n",
      "204:\tlearn: 6.0973817\ttotal: 3.23s\tremaining: 12.5s\n",
      "205:\tlearn: 6.0944572\ttotal: 3.25s\tremaining: 12.5s\n",
      "206:\tlearn: 6.0885617\ttotal: 3.27s\tremaining: 12.5s\n",
      "207:\tlearn: 6.0821465\ttotal: 3.28s\tremaining: 12.5s\n",
      "208:\tlearn: 6.0750473\ttotal: 3.3s\tremaining: 12.5s\n",
      "209:\tlearn: 6.0685237\ttotal: 3.31s\tremaining: 12.5s\n",
      "210:\tlearn: 6.0639712\ttotal: 3.33s\tremaining: 12.4s\n",
      "211:\tlearn: 6.0583206\ttotal: 3.34s\tremaining: 12.4s\n",
      "212:\tlearn: 6.0525541\ttotal: 3.36s\tremaining: 12.4s\n",
      "213:\tlearn: 6.0456969\ttotal: 3.37s\tremaining: 12.4s\n",
      "214:\tlearn: 6.0423300\ttotal: 3.39s\tremaining: 12.4s\n",
      "215:\tlearn: 6.0360217\ttotal: 3.4s\tremaining: 12.4s\n",
      "216:\tlearn: 6.0289206\ttotal: 3.42s\tremaining: 12.3s\n",
      "217:\tlearn: 6.0235055\ttotal: 3.43s\tremaining: 12.3s\n",
      "218:\tlearn: 6.0175158\ttotal: 3.45s\tremaining: 12.3s\n",
      "219:\tlearn: 6.0128863\ttotal: 3.46s\tremaining: 12.3s\n",
      "220:\tlearn: 6.0072578\ttotal: 3.48s\tremaining: 12.3s\n",
      "221:\tlearn: 6.0013711\ttotal: 3.5s\tremaining: 12.3s\n",
      "222:\tlearn: 5.9986152\ttotal: 3.51s\tremaining: 12.2s\n",
      "223:\tlearn: 5.9938260\ttotal: 3.52s\tremaining: 12.2s\n",
      "224:\tlearn: 5.9903407\ttotal: 3.54s\tremaining: 12.2s\n",
      "225:\tlearn: 5.9834950\ttotal: 3.55s\tremaining: 12.2s\n",
      "226:\tlearn: 5.9786375\ttotal: 3.57s\tremaining: 12.2s\n",
      "227:\tlearn: 5.9730483\ttotal: 3.58s\tremaining: 12.1s\n",
      "228:\tlearn: 5.9650343\ttotal: 3.6s\tremaining: 12.1s\n",
      "229:\tlearn: 5.9607762\ttotal: 3.61s\tremaining: 12.1s\n",
      "230:\tlearn: 5.9540164\ttotal: 3.63s\tremaining: 12.1s\n",
      "231:\tlearn: 5.9499855\ttotal: 3.64s\tremaining: 12.1s\n",
      "232:\tlearn: 5.9451305\ttotal: 3.66s\tremaining: 12s\n",
      "233:\tlearn: 5.9408323\ttotal: 3.67s\tremaining: 12s\n",
      "234:\tlearn: 5.9332374\ttotal: 3.69s\tremaining: 12s\n",
      "235:\tlearn: 5.9286754\ttotal: 3.7s\tremaining: 12s\n",
      "236:\tlearn: 5.9229909\ttotal: 3.72s\tremaining: 12s\n",
      "237:\tlearn: 5.9196981\ttotal: 3.74s\tremaining: 12s\n",
      "238:\tlearn: 5.9145609\ttotal: 3.75s\tremaining: 11.9s\n",
      "239:\tlearn: 5.9092635\ttotal: 3.77s\tremaining: 11.9s\n",
      "240:\tlearn: 5.9036747\ttotal: 3.78s\tremaining: 11.9s\n",
      "241:\tlearn: 5.8975287\ttotal: 3.8s\tremaining: 11.9s\n",
      "242:\tlearn: 5.8926864\ttotal: 3.81s\tremaining: 11.9s\n",
      "243:\tlearn: 5.8877021\ttotal: 3.83s\tremaining: 11.9s\n",
      "244:\tlearn: 5.8838857\ttotal: 3.84s\tremaining: 11.8s\n",
      "245:\tlearn: 5.8800389\ttotal: 3.85s\tremaining: 11.8s\n",
      "246:\tlearn: 5.8752368\ttotal: 3.87s\tremaining: 11.8s\n",
      "247:\tlearn: 5.8681326\ttotal: 3.89s\tremaining: 11.8s\n",
      "248:\tlearn: 5.8644609\ttotal: 3.9s\tremaining: 11.8s\n",
      "249:\tlearn: 5.8603514\ttotal: 3.92s\tremaining: 11.8s\n",
      "250:\tlearn: 5.8561726\ttotal: 3.94s\tremaining: 11.8s\n",
      "251:\tlearn: 5.8490924\ttotal: 3.96s\tremaining: 11.7s\n",
      "252:\tlearn: 5.8435195\ttotal: 3.97s\tremaining: 11.7s\n",
      "253:\tlearn: 5.8366706\ttotal: 3.99s\tremaining: 11.7s\n",
      "254:\tlearn: 5.8301961\ttotal: 4.01s\tremaining: 11.7s\n",
      "255:\tlearn: 5.8232252\ttotal: 4.02s\tremaining: 11.7s\n",
      "256:\tlearn: 5.8168507\ttotal: 4.04s\tremaining: 11.7s\n",
      "257:\tlearn: 5.8124314\ttotal: 4.06s\tremaining: 11.7s\n",
      "258:\tlearn: 5.8071688\ttotal: 4.08s\tremaining: 11.7s\n",
      "259:\tlearn: 5.8025206\ttotal: 4.1s\tremaining: 11.7s\n",
      "260:\tlearn: 5.8002248\ttotal: 4.12s\tremaining: 11.7s\n",
      "261:\tlearn: 5.7958354\ttotal: 4.14s\tremaining: 11.7s\n",
      "262:\tlearn: 5.7914904\ttotal: 4.16s\tremaining: 11.7s\n",
      "263:\tlearn: 5.7864198\ttotal: 4.18s\tremaining: 11.7s\n",
      "264:\tlearn: 5.7815287\ttotal: 4.2s\tremaining: 11.6s\n",
      "265:\tlearn: 5.7780837\ttotal: 4.21s\tremaining: 11.6s\n",
      "266:\tlearn: 5.7753106\ttotal: 4.23s\tremaining: 11.6s\n",
      "267:\tlearn: 5.7729819\ttotal: 4.25s\tremaining: 11.6s\n",
      "268:\tlearn: 5.7693695\ttotal: 4.27s\tremaining: 11.6s\n",
      "269:\tlearn: 5.7657588\ttotal: 4.28s\tremaining: 11.6s\n",
      "270:\tlearn: 5.7626712\ttotal: 4.3s\tremaining: 11.6s\n",
      "271:\tlearn: 5.7584086\ttotal: 4.32s\tremaining: 11.6s\n",
      "272:\tlearn: 5.7548997\ttotal: 4.33s\tremaining: 11.5s\n",
      "273:\tlearn: 5.7506187\ttotal: 4.35s\tremaining: 11.5s\n",
      "274:\tlearn: 5.7454898\ttotal: 4.37s\tremaining: 11.5s\n",
      "275:\tlearn: 5.7417801\ttotal: 4.38s\tremaining: 11.5s\n",
      "276:\tlearn: 5.7371066\ttotal: 4.39s\tremaining: 11.5s\n",
      "277:\tlearn: 5.7343207\ttotal: 4.41s\tremaining: 11.5s\n",
      "278:\tlearn: 5.7294745\ttotal: 4.42s\tremaining: 11.4s\n",
      "279:\tlearn: 5.7250489\ttotal: 4.44s\tremaining: 11.4s\n",
      "280:\tlearn: 5.7210669\ttotal: 4.46s\tremaining: 11.4s\n",
      "281:\tlearn: 5.7188260\ttotal: 4.47s\tremaining: 11.4s\n",
      "282:\tlearn: 5.7141785\ttotal: 4.49s\tremaining: 11.4s\n",
      "283:\tlearn: 5.7096720\ttotal: 4.5s\tremaining: 11.4s\n",
      "284:\tlearn: 5.7029150\ttotal: 4.52s\tremaining: 11.3s\n",
      "285:\tlearn: 5.6992987\ttotal: 4.53s\tremaining: 11.3s\n",
      "286:\tlearn: 5.6952504\ttotal: 4.55s\tremaining: 11.3s\n",
      "287:\tlearn: 5.6906157\ttotal: 4.56s\tremaining: 11.3s\n",
      "288:\tlearn: 5.6850781\ttotal: 4.58s\tremaining: 11.3s\n",
      "289:\tlearn: 5.6800151\ttotal: 4.59s\tremaining: 11.2s\n",
      "290:\tlearn: 5.6750414\ttotal: 4.61s\tremaining: 11.2s\n",
      "291:\tlearn: 5.6708287\ttotal: 4.62s\tremaining: 11.2s\n",
      "292:\tlearn: 5.6658467\ttotal: 4.64s\tremaining: 11.2s\n",
      "293:\tlearn: 5.6603512\ttotal: 4.66s\tremaining: 11.2s\n",
      "294:\tlearn: 5.6556778\ttotal: 4.67s\tremaining: 11.2s\n",
      "295:\tlearn: 5.6495856\ttotal: 4.68s\tremaining: 11.1s\n",
      "296:\tlearn: 5.6468753\ttotal: 4.7s\tremaining: 11.1s\n",
      "297:\tlearn: 5.6402256\ttotal: 4.71s\tremaining: 11.1s\n",
      "298:\tlearn: 5.6367509\ttotal: 4.73s\tremaining: 11.1s\n",
      "299:\tlearn: 5.6334913\ttotal: 4.75s\tremaining: 11.1s\n",
      "300:\tlearn: 5.6289471\ttotal: 4.76s\tremaining: 11.1s\n",
      "301:\tlearn: 5.6255018\ttotal: 4.78s\tremaining: 11s\n",
      "302:\tlearn: 5.6217105\ttotal: 4.79s\tremaining: 11s\n",
      "303:\tlearn: 5.6175804\ttotal: 4.81s\tremaining: 11s\n",
      "304:\tlearn: 5.6129743\ttotal: 4.82s\tremaining: 11s\n",
      "305:\tlearn: 5.6091501\ttotal: 4.83s\tremaining: 11s\n",
      "306:\tlearn: 5.6044293\ttotal: 4.85s\tremaining: 10.9s\n",
      "307:\tlearn: 5.5999565\ttotal: 4.86s\tremaining: 10.9s\n",
      "308:\tlearn: 5.5970352\ttotal: 4.88s\tremaining: 10.9s\n",
      "309:\tlearn: 5.5933895\ttotal: 4.89s\tremaining: 10.9s\n",
      "310:\tlearn: 5.5882528\ttotal: 4.91s\tremaining: 10.9s\n",
      "311:\tlearn: 5.5842796\ttotal: 4.93s\tremaining: 10.9s\n",
      "312:\tlearn: 5.5792944\ttotal: 4.94s\tremaining: 10.9s\n",
      "313:\tlearn: 5.5740635\ttotal: 4.96s\tremaining: 10.8s\n",
      "314:\tlearn: 5.5706778\ttotal: 4.98s\tremaining: 10.8s\n",
      "315:\tlearn: 5.5683912\ttotal: 4.99s\tremaining: 10.8s\n",
      "316:\tlearn: 5.5640184\ttotal: 5.01s\tremaining: 10.8s\n",
      "317:\tlearn: 5.5597242\ttotal: 5.02s\tremaining: 10.8s\n",
      "318:\tlearn: 5.5561462\ttotal: 5.04s\tremaining: 10.8s\n",
      "319:\tlearn: 5.5510228\ttotal: 5.05s\tremaining: 10.7s\n",
      "320:\tlearn: 5.5491810\ttotal: 5.07s\tremaining: 10.7s\n",
      "321:\tlearn: 5.5453570\ttotal: 5.09s\tremaining: 10.7s\n",
      "322:\tlearn: 5.5415524\ttotal: 5.11s\tremaining: 10.7s\n",
      "323:\tlearn: 5.5381534\ttotal: 5.13s\tremaining: 10.7s\n",
      "324:\tlearn: 5.5339883\ttotal: 5.14s\tremaining: 10.7s\n",
      "325:\tlearn: 5.5298105\ttotal: 5.16s\tremaining: 10.7s\n",
      "326:\tlearn: 5.5246359\ttotal: 5.17s\tremaining: 10.6s\n",
      "327:\tlearn: 5.5193186\ttotal: 5.19s\tremaining: 10.6s\n",
      "328:\tlearn: 5.5160850\ttotal: 5.2s\tremaining: 10.6s\n",
      "329:\tlearn: 5.5132155\ttotal: 5.22s\tremaining: 10.6s\n",
      "330:\tlearn: 5.5076256\ttotal: 5.23s\tremaining: 10.6s\n",
      "331:\tlearn: 5.5042352\ttotal: 5.25s\tremaining: 10.6s\n",
      "332:\tlearn: 5.4985249\ttotal: 5.26s\tremaining: 10.5s\n",
      "333:\tlearn: 5.4946123\ttotal: 5.28s\tremaining: 10.5s\n",
      "334:\tlearn: 5.4926306\ttotal: 5.29s\tremaining: 10.5s\n",
      "335:\tlearn: 5.4904893\ttotal: 5.31s\tremaining: 10.5s\n",
      "336:\tlearn: 5.4878780\ttotal: 5.33s\tremaining: 10.5s\n",
      "337:\tlearn: 5.4830624\ttotal: 5.34s\tremaining: 10.5s\n",
      "338:\tlearn: 5.4793926\ttotal: 5.36s\tremaining: 10.4s\n",
      "339:\tlearn: 5.4749832\ttotal: 5.38s\tremaining: 10.4s\n",
      "340:\tlearn: 5.4701802\ttotal: 5.39s\tremaining: 10.4s\n",
      "341:\tlearn: 5.4659041\ttotal: 5.41s\tremaining: 10.4s\n",
      "342:\tlearn: 5.4624165\ttotal: 5.43s\tremaining: 10.4s\n",
      "343:\tlearn: 5.4577758\ttotal: 5.45s\tremaining: 10.4s\n",
      "344:\tlearn: 5.4540304\ttotal: 5.46s\tremaining: 10.4s\n",
      "345:\tlearn: 5.4526931\ttotal: 5.48s\tremaining: 10.4s\n",
      "346:\tlearn: 5.4493019\ttotal: 5.5s\tremaining: 10.3s\n",
      "347:\tlearn: 5.4467293\ttotal: 5.51s\tremaining: 10.3s\n",
      "348:\tlearn: 5.4410370\ttotal: 5.53s\tremaining: 10.3s\n",
      "349:\tlearn: 5.4359960\ttotal: 5.55s\tremaining: 10.3s\n",
      "350:\tlearn: 5.4307694\ttotal: 5.56s\tremaining: 10.3s\n",
      "351:\tlearn: 5.4265805\ttotal: 5.58s\tremaining: 10.3s\n",
      "352:\tlearn: 5.4223849\ttotal: 5.59s\tremaining: 10.3s\n",
      "353:\tlearn: 5.4182955\ttotal: 5.61s\tremaining: 10.2s\n",
      "354:\tlearn: 5.4141769\ttotal: 5.63s\tremaining: 10.2s\n",
      "355:\tlearn: 5.4109499\ttotal: 5.64s\tremaining: 10.2s\n",
      "356:\tlearn: 5.4056724\ttotal: 5.66s\tremaining: 10.2s\n",
      "357:\tlearn: 5.4021745\ttotal: 5.67s\tremaining: 10.2s\n",
      "358:\tlearn: 5.3990497\ttotal: 5.69s\tremaining: 10.2s\n",
      "359:\tlearn: 5.3958130\ttotal: 5.7s\tremaining: 10.1s\n",
      "360:\tlearn: 5.3934362\ttotal: 5.72s\tremaining: 10.1s\n",
      "361:\tlearn: 5.3902700\ttotal: 5.73s\tremaining: 10.1s\n",
      "362:\tlearn: 5.3848320\ttotal: 5.75s\tremaining: 10.1s\n",
      "363:\tlearn: 5.3797649\ttotal: 5.76s\tremaining: 10.1s\n",
      "364:\tlearn: 5.3737352\ttotal: 5.78s\tremaining: 10s\n",
      "365:\tlearn: 5.3691350\ttotal: 5.79s\tremaining: 10s\n",
      "366:\tlearn: 5.3635009\ttotal: 5.81s\tremaining: 10s\n",
      "367:\tlearn: 5.3603245\ttotal: 5.82s\tremaining: 10s\n",
      "368:\tlearn: 5.3571242\ttotal: 5.84s\tremaining: 9.98s\n",
      "369:\tlearn: 5.3543298\ttotal: 5.85s\tremaining: 9.96s\n",
      "370:\tlearn: 5.3511729\ttotal: 5.87s\tremaining: 9.95s\n",
      "371:\tlearn: 5.3474020\ttotal: 5.88s\tremaining: 9.93s\n",
      "372:\tlearn: 5.3434985\ttotal: 5.9s\tremaining: 9.92s\n",
      "373:\tlearn: 5.3381401\ttotal: 5.92s\tremaining: 9.9s\n",
      "374:\tlearn: 5.3355257\ttotal: 5.93s\tremaining: 9.89s\n",
      "375:\tlearn: 5.3313647\ttotal: 5.95s\tremaining: 9.87s\n",
      "376:\tlearn: 5.3278491\ttotal: 5.97s\tremaining: 9.86s\n",
      "377:\tlearn: 5.3253016\ttotal: 5.98s\tremaining: 9.84s\n",
      "378:\tlearn: 5.3217321\ttotal: 6s\tremaining: 9.83s\n",
      "379:\tlearn: 5.3164624\ttotal: 6.01s\tremaining: 9.81s\n",
      "380:\tlearn: 5.3133917\ttotal: 6.03s\tremaining: 9.79s\n",
      "381:\tlearn: 5.3112877\ttotal: 6.04s\tremaining: 9.78s\n",
      "382:\tlearn: 5.3082528\ttotal: 6.06s\tremaining: 9.76s\n",
      "383:\tlearn: 5.3045726\ttotal: 6.08s\tremaining: 9.75s\n",
      "384:\tlearn: 5.3015344\ttotal: 6.09s\tremaining: 9.74s\n",
      "385:\tlearn: 5.2972865\ttotal: 6.11s\tremaining: 9.72s\n",
      "386:\tlearn: 5.2944156\ttotal: 6.13s\tremaining: 9.71s\n",
      "387:\tlearn: 5.2906163\ttotal: 6.15s\tremaining: 9.7s\n",
      "388:\tlearn: 5.2876096\ttotal: 6.17s\tremaining: 9.69s\n",
      "389:\tlearn: 5.2844286\ttotal: 6.18s\tremaining: 9.67s\n",
      "390:\tlearn: 5.2795167\ttotal: 6.2s\tremaining: 9.65s\n",
      "391:\tlearn: 5.2764612\ttotal: 6.21s\tremaining: 9.64s\n",
      "392:\tlearn: 5.2729706\ttotal: 6.23s\tremaining: 9.62s\n",
      "393:\tlearn: 5.2682086\ttotal: 6.24s\tremaining: 9.6s\n",
      "394:\tlearn: 5.2652441\ttotal: 6.26s\tremaining: 9.59s\n",
      "395:\tlearn: 5.2613991\ttotal: 6.27s\tremaining: 9.57s\n",
      "396:\tlearn: 5.2582801\ttotal: 6.29s\tremaining: 9.55s\n",
      "397:\tlearn: 5.2547102\ttotal: 6.3s\tremaining: 9.54s\n",
      "398:\tlearn: 5.2513772\ttotal: 6.33s\tremaining: 9.53s\n",
      "399:\tlearn: 5.2477749\ttotal: 6.34s\tremaining: 9.51s\n",
      "400:\tlearn: 5.2444411\ttotal: 6.36s\tremaining: 9.49s\n",
      "401:\tlearn: 5.2413674\ttotal: 6.37s\tremaining: 9.48s\n",
      "402:\tlearn: 5.2382265\ttotal: 6.39s\tremaining: 9.46s\n",
      "403:\tlearn: 5.2360896\ttotal: 6.4s\tremaining: 9.44s\n",
      "404:\tlearn: 5.2327647\ttotal: 6.42s\tremaining: 9.43s\n",
      "405:\tlearn: 5.2302970\ttotal: 6.43s\tremaining: 9.41s\n",
      "406:\tlearn: 5.2283918\ttotal: 6.45s\tremaining: 9.39s\n",
      "407:\tlearn: 5.2251152\ttotal: 6.47s\tremaining: 9.38s\n",
      "408:\tlearn: 5.2214613\ttotal: 6.48s\tremaining: 9.37s\n",
      "409:\tlearn: 5.2168995\ttotal: 6.5s\tremaining: 9.35s\n",
      "410:\tlearn: 5.2127965\ttotal: 6.51s\tremaining: 9.34s\n",
      "411:\tlearn: 5.2086082\ttotal: 6.53s\tremaining: 9.32s\n",
      "412:\tlearn: 5.2071215\ttotal: 6.55s\tremaining: 9.3s\n",
      "413:\tlearn: 5.2036765\ttotal: 6.56s\tremaining: 9.29s\n",
      "414:\tlearn: 5.2020191\ttotal: 6.58s\tremaining: 9.27s\n",
      "415:\tlearn: 5.1974261\ttotal: 6.59s\tremaining: 9.26s\n",
      "416:\tlearn: 5.1923383\ttotal: 6.61s\tremaining: 9.24s\n",
      "417:\tlearn: 5.1899306\ttotal: 6.62s\tremaining: 9.22s\n",
      "418:\tlearn: 5.1872899\ttotal: 6.64s\tremaining: 9.2s\n",
      "419:\tlearn: 5.1828317\ttotal: 6.65s\tremaining: 9.19s\n",
      "420:\tlearn: 5.1808362\ttotal: 6.67s\tremaining: 9.17s\n",
      "421:\tlearn: 5.1784003\ttotal: 6.68s\tremaining: 9.15s\n",
      "422:\tlearn: 5.1722023\ttotal: 6.7s\tremaining: 9.14s\n",
      "423:\tlearn: 5.1685630\ttotal: 6.71s\tremaining: 9.12s\n",
      "424:\tlearn: 5.1655590\ttotal: 6.73s\tremaining: 9.11s\n",
      "425:\tlearn: 5.1625635\ttotal: 6.75s\tremaining: 9.09s\n",
      "426:\tlearn: 5.1594468\ttotal: 6.76s\tremaining: 9.07s\n",
      "427:\tlearn: 5.1559016\ttotal: 6.78s\tremaining: 9.06s\n",
      "428:\tlearn: 5.1527655\ttotal: 6.79s\tremaining: 9.04s\n",
      "429:\tlearn: 5.1491774\ttotal: 6.81s\tremaining: 9.02s\n",
      "430:\tlearn: 5.1469708\ttotal: 6.82s\tremaining: 9.01s\n",
      "431:\tlearn: 5.1442609\ttotal: 6.84s\tremaining: 8.99s\n",
      "432:\tlearn: 5.1410303\ttotal: 6.85s\tremaining: 8.97s\n",
      "433:\tlearn: 5.1396351\ttotal: 6.87s\tremaining: 8.95s\n",
      "434:\tlearn: 5.1360470\ttotal: 6.88s\tremaining: 8.94s\n",
      "435:\tlearn: 5.1331466\ttotal: 6.89s\tremaining: 8.92s\n",
      "436:\tlearn: 5.1306933\ttotal: 6.91s\tremaining: 8.9s\n",
      "437:\tlearn: 5.1273185\ttotal: 6.92s\tremaining: 8.88s\n",
      "438:\tlearn: 5.1250328\ttotal: 6.94s\tremaining: 8.87s\n",
      "439:\tlearn: 5.1216370\ttotal: 6.95s\tremaining: 8.85s\n",
      "440:\tlearn: 5.1168500\ttotal: 6.97s\tremaining: 8.83s\n",
      "441:\tlearn: 5.1149720\ttotal: 6.98s\tremaining: 8.82s\n",
      "442:\tlearn: 5.1118089\ttotal: 7s\tremaining: 8.8s\n",
      "443:\tlearn: 5.1081030\ttotal: 7.01s\tremaining: 8.78s\n",
      "444:\tlearn: 5.1057542\ttotal: 7.03s\tremaining: 8.76s\n",
      "445:\tlearn: 5.1029792\ttotal: 7.04s\tremaining: 8.75s\n",
      "446:\tlearn: 5.0995177\ttotal: 7.06s\tremaining: 8.73s\n",
      "447:\tlearn: 5.0981882\ttotal: 7.07s\tremaining: 8.71s\n",
      "448:\tlearn: 5.0956208\ttotal: 7.09s\tremaining: 8.7s\n",
      "449:\tlearn: 5.0904847\ttotal: 7.11s\tremaining: 8.69s\n",
      "450:\tlearn: 5.0885533\ttotal: 7.12s\tremaining: 8.67s\n",
      "451:\tlearn: 5.0854879\ttotal: 7.14s\tremaining: 8.65s\n",
      "452:\tlearn: 5.0843446\ttotal: 7.15s\tremaining: 8.63s\n",
      "453:\tlearn: 5.0811570\ttotal: 7.16s\tremaining: 8.62s\n",
      "454:\tlearn: 5.0782396\ttotal: 7.18s\tremaining: 8.6s\n",
      "455:\tlearn: 5.0726312\ttotal: 7.19s\tremaining: 8.58s\n",
      "456:\tlearn: 5.0692124\ttotal: 7.21s\tremaining: 8.56s\n",
      "457:\tlearn: 5.0652126\ttotal: 7.22s\tremaining: 8.55s\n",
      "458:\tlearn: 5.0622518\ttotal: 7.24s\tremaining: 8.53s\n",
      "459:\tlearn: 5.0611746\ttotal: 7.25s\tremaining: 8.51s\n",
      "460:\tlearn: 5.0574494\ttotal: 7.26s\tremaining: 8.49s\n",
      "461:\tlearn: 5.0545440\ttotal: 7.28s\tremaining: 8.48s\n",
      "462:\tlearn: 5.0507024\ttotal: 7.3s\tremaining: 8.47s\n",
      "463:\tlearn: 5.0486762\ttotal: 7.32s\tremaining: 8.45s\n",
      "464:\tlearn: 5.0447447\ttotal: 7.33s\tremaining: 8.44s\n",
      "465:\tlearn: 5.0422930\ttotal: 7.35s\tremaining: 8.42s\n",
      "466:\tlearn: 5.0395300\ttotal: 7.36s\tremaining: 8.4s\n",
      "467:\tlearn: 5.0366030\ttotal: 7.38s\tremaining: 8.39s\n",
      "468:\tlearn: 5.0324491\ttotal: 7.4s\tremaining: 8.37s\n",
      "469:\tlearn: 5.0291518\ttotal: 7.41s\tremaining: 8.36s\n",
      "470:\tlearn: 5.0265542\ttotal: 7.43s\tremaining: 8.34s\n",
      "471:\tlearn: 5.0237100\ttotal: 7.44s\tremaining: 8.32s\n",
      "472:\tlearn: 5.0198456\ttotal: 7.46s\tremaining: 8.31s\n",
      "473:\tlearn: 5.0166537\ttotal: 7.47s\tremaining: 8.29s\n",
      "474:\tlearn: 5.0140575\ttotal: 7.49s\tremaining: 8.27s\n",
      "475:\tlearn: 5.0111668\ttotal: 7.5s\tremaining: 8.26s\n",
      "476:\tlearn: 5.0089079\ttotal: 7.51s\tremaining: 8.24s\n",
      "477:\tlearn: 5.0049307\ttotal: 7.53s\tremaining: 8.22s\n",
      "478:\tlearn: 5.0025353\ttotal: 7.54s\tremaining: 8.21s\n",
      "479:\tlearn: 4.9976189\ttotal: 7.56s\tremaining: 8.19s\n",
      "480:\tlearn: 4.9948628\ttotal: 7.57s\tremaining: 8.17s\n",
      "481:\tlearn: 4.9916956\ttotal: 7.59s\tremaining: 8.15s\n",
      "482:\tlearn: 4.9897978\ttotal: 7.6s\tremaining: 8.14s\n",
      "483:\tlearn: 4.9868781\ttotal: 7.62s\tremaining: 8.12s\n",
      "484:\tlearn: 4.9833167\ttotal: 7.63s\tremaining: 8.11s\n",
      "485:\tlearn: 4.9800832\ttotal: 7.65s\tremaining: 8.09s\n",
      "486:\tlearn: 4.9776055\ttotal: 7.66s\tremaining: 8.07s\n",
      "487:\tlearn: 4.9744355\ttotal: 7.68s\tremaining: 8.05s\n",
      "488:\tlearn: 4.9710211\ttotal: 7.69s\tremaining: 8.04s\n",
      "489:\tlearn: 4.9687859\ttotal: 7.71s\tremaining: 8.02s\n",
      "490:\tlearn: 4.9672966\ttotal: 7.72s\tremaining: 8.01s\n",
      "491:\tlearn: 4.9638158\ttotal: 7.74s\tremaining: 7.99s\n",
      "492:\tlearn: 4.9606908\ttotal: 7.75s\tremaining: 7.97s\n",
      "493:\tlearn: 4.9570161\ttotal: 7.77s\tremaining: 7.96s\n",
      "494:\tlearn: 4.9538231\ttotal: 7.78s\tremaining: 7.94s\n",
      "495:\tlearn: 4.9506526\ttotal: 7.79s\tremaining: 7.92s\n",
      "496:\tlearn: 4.9479894\ttotal: 7.81s\tremaining: 7.91s\n",
      "497:\tlearn: 4.9443228\ttotal: 7.83s\tremaining: 7.89s\n",
      "498:\tlearn: 4.9423077\ttotal: 7.84s\tremaining: 7.88s\n",
      "499:\tlearn: 4.9401630\ttotal: 7.86s\tremaining: 7.86s\n",
      "500:\tlearn: 4.9380562\ttotal: 7.88s\tremaining: 7.85s\n",
      "501:\tlearn: 4.9333548\ttotal: 7.9s\tremaining: 7.83s\n",
      "502:\tlearn: 4.9295467\ttotal: 7.91s\tremaining: 7.82s\n",
      "503:\tlearn: 4.9260971\ttotal: 7.93s\tremaining: 7.8s\n",
      "504:\tlearn: 4.9231149\ttotal: 7.95s\tremaining: 7.79s\n",
      "505:\tlearn: 4.9203667\ttotal: 7.96s\tremaining: 7.77s\n",
      "506:\tlearn: 4.9178810\ttotal: 7.98s\tremaining: 7.76s\n",
      "507:\tlearn: 4.9160928\ttotal: 7.99s\tremaining: 7.74s\n",
      "508:\tlearn: 4.9119025\ttotal: 8.01s\tremaining: 7.72s\n",
      "509:\tlearn: 4.9093903\ttotal: 8.02s\tremaining: 7.71s\n",
      "510:\tlearn: 4.9079455\ttotal: 8.04s\tremaining: 7.69s\n",
      "511:\tlearn: 4.9048493\ttotal: 8.06s\tremaining: 7.68s\n",
      "512:\tlearn: 4.9018976\ttotal: 8.07s\tremaining: 7.66s\n",
      "513:\tlearn: 4.9000768\ttotal: 8.09s\tremaining: 7.65s\n",
      "514:\tlearn: 4.8973927\ttotal: 8.11s\tremaining: 7.64s\n",
      "515:\tlearn: 4.8944197\ttotal: 8.13s\tremaining: 7.62s\n",
      "516:\tlearn: 4.8922838\ttotal: 8.14s\tremaining: 7.61s\n",
      "517:\tlearn: 4.8887363\ttotal: 8.16s\tremaining: 7.59s\n",
      "518:\tlearn: 4.8854660\ttotal: 8.18s\tremaining: 7.58s\n",
      "519:\tlearn: 4.8832010\ttotal: 8.19s\tremaining: 7.56s\n",
      "520:\tlearn: 4.8804641\ttotal: 8.21s\tremaining: 7.54s\n",
      "521:\tlearn: 4.8785039\ttotal: 8.22s\tremaining: 7.53s\n",
      "522:\tlearn: 4.8766347\ttotal: 8.23s\tremaining: 7.51s\n",
      "523:\tlearn: 4.8736144\ttotal: 8.25s\tremaining: 7.49s\n",
      "524:\tlearn: 4.8710185\ttotal: 8.27s\tremaining: 7.48s\n",
      "525:\tlearn: 4.8681411\ttotal: 8.28s\tremaining: 7.46s\n",
      "526:\tlearn: 4.8663673\ttotal: 8.3s\tremaining: 7.45s\n",
      "527:\tlearn: 4.8632565\ttotal: 8.31s\tremaining: 7.43s\n",
      "528:\tlearn: 4.8594641\ttotal: 8.33s\tremaining: 7.42s\n",
      "529:\tlearn: 4.8572273\ttotal: 8.35s\tremaining: 7.4s\n",
      "530:\tlearn: 4.8527780\ttotal: 8.36s\tremaining: 7.39s\n",
      "531:\tlearn: 4.8499697\ttotal: 8.38s\tremaining: 7.37s\n",
      "532:\tlearn: 4.8485070\ttotal: 8.39s\tremaining: 7.35s\n",
      "533:\tlearn: 4.8466403\ttotal: 8.41s\tremaining: 7.34s\n",
      "534:\tlearn: 4.8444528\ttotal: 8.42s\tremaining: 7.32s\n",
      "535:\tlearn: 4.8396363\ttotal: 8.44s\tremaining: 7.31s\n",
      "536:\tlearn: 4.8375361\ttotal: 8.45s\tremaining: 7.29s\n",
      "537:\tlearn: 4.8344486\ttotal: 8.47s\tremaining: 7.27s\n",
      "538:\tlearn: 4.8311031\ttotal: 8.49s\tremaining: 7.26s\n",
      "539:\tlearn: 4.8290917\ttotal: 8.5s\tremaining: 7.24s\n",
      "540:\tlearn: 4.8277806\ttotal: 8.52s\tremaining: 7.23s\n",
      "541:\tlearn: 4.8245545\ttotal: 8.53s\tremaining: 7.21s\n",
      "542:\tlearn: 4.8219527\ttotal: 8.55s\tremaining: 7.19s\n",
      "543:\tlearn: 4.8198528\ttotal: 8.56s\tremaining: 7.18s\n",
      "544:\tlearn: 4.8171171\ttotal: 8.58s\tremaining: 7.16s\n",
      "545:\tlearn: 4.8134746\ttotal: 8.6s\tremaining: 7.15s\n",
      "546:\tlearn: 4.8114219\ttotal: 8.61s\tremaining: 7.13s\n",
      "547:\tlearn: 4.8060615\ttotal: 8.63s\tremaining: 7.12s\n",
      "548:\tlearn: 4.8038633\ttotal: 8.64s\tremaining: 7.1s\n",
      "549:\tlearn: 4.8007865\ttotal: 8.66s\tremaining: 7.09s\n",
      "550:\tlearn: 4.7974089\ttotal: 8.68s\tremaining: 7.07s\n",
      "551:\tlearn: 4.7950749\ttotal: 8.69s\tremaining: 7.06s\n",
      "552:\tlearn: 4.7913940\ttotal: 8.71s\tremaining: 7.04s\n",
      "553:\tlearn: 4.7897943\ttotal: 8.73s\tremaining: 7.03s\n",
      "554:\tlearn: 4.7867196\ttotal: 8.74s\tremaining: 7.01s\n",
      "555:\tlearn: 4.7847000\ttotal: 8.76s\tremaining: 7s\n",
      "556:\tlearn: 4.7819539\ttotal: 8.78s\tremaining: 6.98s\n",
      "557:\tlearn: 4.7800046\ttotal: 8.8s\tremaining: 6.97s\n",
      "558:\tlearn: 4.7774342\ttotal: 8.81s\tremaining: 6.95s\n",
      "559:\tlearn: 4.7751948\ttotal: 8.83s\tremaining: 6.94s\n",
      "560:\tlearn: 4.7730926\ttotal: 8.85s\tremaining: 6.92s\n",
      "561:\tlearn: 4.7704479\ttotal: 8.86s\tremaining: 6.91s\n",
      "562:\tlearn: 4.7678008\ttotal: 8.88s\tremaining: 6.89s\n",
      "563:\tlearn: 4.7658480\ttotal: 8.89s\tremaining: 6.88s\n",
      "564:\tlearn: 4.7628502\ttotal: 8.91s\tremaining: 6.86s\n",
      "565:\tlearn: 4.7612023\ttotal: 8.93s\tremaining: 6.85s\n",
      "566:\tlearn: 4.7587328\ttotal: 8.95s\tremaining: 6.84s\n",
      "567:\tlearn: 4.7556028\ttotal: 8.97s\tremaining: 6.82s\n",
      "568:\tlearn: 4.7525489\ttotal: 8.99s\tremaining: 6.81s\n",
      "569:\tlearn: 4.7504973\ttotal: 9.01s\tremaining: 6.79s\n",
      "570:\tlearn: 4.7481785\ttotal: 9.02s\tremaining: 6.78s\n",
      "571:\tlearn: 4.7461454\ttotal: 9.04s\tremaining: 6.76s\n",
      "572:\tlearn: 4.7402455\ttotal: 9.06s\tremaining: 6.75s\n",
      "573:\tlearn: 4.7383900\ttotal: 9.08s\tremaining: 6.74s\n",
      "574:\tlearn: 4.7358982\ttotal: 9.1s\tremaining: 6.72s\n",
      "575:\tlearn: 4.7330451\ttotal: 9.11s\tremaining: 6.71s\n",
      "576:\tlearn: 4.7307937\ttotal: 9.13s\tremaining: 6.69s\n",
      "577:\tlearn: 4.7286130\ttotal: 9.14s\tremaining: 6.68s\n",
      "578:\tlearn: 4.7273121\ttotal: 9.16s\tremaining: 6.66s\n",
      "579:\tlearn: 4.7250236\ttotal: 9.18s\tremaining: 6.64s\n",
      "580:\tlearn: 4.7222134\ttotal: 9.19s\tremaining: 6.63s\n",
      "581:\tlearn: 4.7207163\ttotal: 9.21s\tremaining: 6.61s\n",
      "582:\tlearn: 4.7192957\ttotal: 9.22s\tremaining: 6.6s\n",
      "583:\tlearn: 4.7174981\ttotal: 9.24s\tremaining: 6.58s\n",
      "584:\tlearn: 4.7141312\ttotal: 9.26s\tremaining: 6.57s\n",
      "585:\tlearn: 4.7110032\ttotal: 9.27s\tremaining: 6.55s\n",
      "586:\tlearn: 4.7080534\ttotal: 9.29s\tremaining: 6.53s\n",
      "587:\tlearn: 4.7062493\ttotal: 9.3s\tremaining: 6.52s\n",
      "588:\tlearn: 4.7033345\ttotal: 9.32s\tremaining: 6.5s\n",
      "589:\tlearn: 4.7020947\ttotal: 9.34s\tremaining: 6.49s\n",
      "590:\tlearn: 4.7006369\ttotal: 9.35s\tremaining: 6.47s\n",
      "591:\tlearn: 4.6988780\ttotal: 9.37s\tremaining: 6.46s\n",
      "592:\tlearn: 4.6959206\ttotal: 9.38s\tremaining: 6.44s\n",
      "593:\tlearn: 4.6944342\ttotal: 9.4s\tremaining: 6.42s\n",
      "594:\tlearn: 4.6924497\ttotal: 9.42s\tremaining: 6.41s\n",
      "595:\tlearn: 4.6908938\ttotal: 9.43s\tremaining: 6.39s\n",
      "596:\tlearn: 4.6891549\ttotal: 9.45s\tremaining: 6.38s\n",
      "597:\tlearn: 4.6868623\ttotal: 9.47s\tremaining: 6.36s\n",
      "598:\tlearn: 4.6843459\ttotal: 9.48s\tremaining: 6.35s\n",
      "599:\tlearn: 4.6817219\ttotal: 9.5s\tremaining: 6.33s\n",
      "600:\tlearn: 4.6800043\ttotal: 9.51s\tremaining: 6.32s\n",
      "601:\tlearn: 4.6772669\ttotal: 9.53s\tremaining: 6.3s\n",
      "602:\tlearn: 4.6748737\ttotal: 9.54s\tremaining: 6.28s\n",
      "603:\tlearn: 4.6727603\ttotal: 9.56s\tremaining: 6.27s\n",
      "604:\tlearn: 4.6717696\ttotal: 9.58s\tremaining: 6.25s\n",
      "605:\tlearn: 4.6688156\ttotal: 9.59s\tremaining: 6.24s\n",
      "606:\tlearn: 4.6673292\ttotal: 9.61s\tremaining: 6.22s\n",
      "607:\tlearn: 4.6658731\ttotal: 9.63s\tremaining: 6.21s\n",
      "608:\tlearn: 4.6628606\ttotal: 9.64s\tremaining: 6.19s\n",
      "609:\tlearn: 4.6602417\ttotal: 9.66s\tremaining: 6.17s\n",
      "610:\tlearn: 4.6576563\ttotal: 9.67s\tremaining: 6.16s\n",
      "611:\tlearn: 4.6560126\ttotal: 9.69s\tremaining: 6.14s\n",
      "612:\tlearn: 4.6531535\ttotal: 9.71s\tremaining: 6.13s\n",
      "613:\tlearn: 4.6517540\ttotal: 9.72s\tremaining: 6.11s\n",
      "614:\tlearn: 4.6499129\ttotal: 9.74s\tremaining: 6.1s\n",
      "615:\tlearn: 4.6488479\ttotal: 9.76s\tremaining: 6.08s\n",
      "616:\tlearn: 4.6464365\ttotal: 9.77s\tremaining: 6.07s\n",
      "617:\tlearn: 4.6445126\ttotal: 9.79s\tremaining: 6.05s\n",
      "618:\tlearn: 4.6398409\ttotal: 9.8s\tremaining: 6.03s\n",
      "619:\tlearn: 4.6384968\ttotal: 9.82s\tremaining: 6.02s\n",
      "620:\tlearn: 4.6370474\ttotal: 9.83s\tremaining: 6s\n",
      "621:\tlearn: 4.6345832\ttotal: 9.85s\tremaining: 5.98s\n",
      "622:\tlearn: 4.6320314\ttotal: 9.86s\tremaining: 5.97s\n",
      "623:\tlearn: 4.6303319\ttotal: 9.88s\tremaining: 5.95s\n",
      "624:\tlearn: 4.6279044\ttotal: 9.89s\tremaining: 5.94s\n",
      "625:\tlearn: 4.6255385\ttotal: 9.91s\tremaining: 5.92s\n",
      "626:\tlearn: 4.6234962\ttotal: 9.93s\tremaining: 5.91s\n",
      "627:\tlearn: 4.6224621\ttotal: 9.95s\tremaining: 5.89s\n",
      "628:\tlearn: 4.6211825\ttotal: 9.96s\tremaining: 5.88s\n",
      "629:\tlearn: 4.6183710\ttotal: 9.98s\tremaining: 5.86s\n",
      "630:\tlearn: 4.6163160\ttotal: 9.99s\tremaining: 5.84s\n",
      "631:\tlearn: 4.6126943\ttotal: 10s\tremaining: 5.83s\n",
      "632:\tlearn: 4.6107501\ttotal: 10s\tremaining: 5.81s\n",
      "633:\tlearn: 4.6073004\ttotal: 10s\tremaining: 5.8s\n",
      "634:\tlearn: 4.6048174\ttotal: 10.1s\tremaining: 5.78s\n",
      "635:\tlearn: 4.6026587\ttotal: 10.1s\tremaining: 5.77s\n",
      "636:\tlearn: 4.6000582\ttotal: 10.1s\tremaining: 5.75s\n",
      "637:\tlearn: 4.5972069\ttotal: 10.1s\tremaining: 5.74s\n",
      "638:\tlearn: 4.5932385\ttotal: 10.1s\tremaining: 5.72s\n",
      "639:\tlearn: 4.5902642\ttotal: 10.1s\tremaining: 5.71s\n",
      "640:\tlearn: 4.5877751\ttotal: 10.2s\tremaining: 5.69s\n",
      "641:\tlearn: 4.5852990\ttotal: 10.2s\tremaining: 5.67s\n",
      "642:\tlearn: 4.5829649\ttotal: 10.2s\tremaining: 5.66s\n",
      "643:\tlearn: 4.5808170\ttotal: 10.2s\tremaining: 5.64s\n",
      "644:\tlearn: 4.5797080\ttotal: 10.2s\tremaining: 5.63s\n",
      "645:\tlearn: 4.5769412\ttotal: 10.2s\tremaining: 5.61s\n",
      "646:\tlearn: 4.5741668\ttotal: 10.3s\tremaining: 5.59s\n",
      "647:\tlearn: 4.5718706\ttotal: 10.3s\tremaining: 5.58s\n",
      "648:\tlearn: 4.5703285\ttotal: 10.3s\tremaining: 5.56s\n",
      "649:\tlearn: 4.5676180\ttotal: 10.3s\tremaining: 5.54s\n",
      "650:\tlearn: 4.5645907\ttotal: 10.3s\tremaining: 5.53s\n",
      "651:\tlearn: 4.5631370\ttotal: 10.3s\tremaining: 5.51s\n",
      "652:\tlearn: 4.5601729\ttotal: 10.3s\tremaining: 5.5s\n",
      "653:\tlearn: 4.5588971\ttotal: 10.4s\tremaining: 5.48s\n",
      "654:\tlearn: 4.5572692\ttotal: 10.4s\tremaining: 5.46s\n",
      "655:\tlearn: 4.5564061\ttotal: 10.4s\tremaining: 5.45s\n",
      "656:\tlearn: 4.5528534\ttotal: 10.4s\tremaining: 5.43s\n",
      "657:\tlearn: 4.5510854\ttotal: 10.4s\tremaining: 5.42s\n",
      "658:\tlearn: 4.5495459\ttotal: 10.4s\tremaining: 5.4s\n",
      "659:\tlearn: 4.5474324\ttotal: 10.5s\tremaining: 5.38s\n",
      "660:\tlearn: 4.5454059\ttotal: 10.5s\tremaining: 5.37s\n",
      "661:\tlearn: 4.5434131\ttotal: 10.5s\tremaining: 5.35s\n",
      "662:\tlearn: 4.5413345\ttotal: 10.5s\tremaining: 5.34s\n",
      "663:\tlearn: 4.5401819\ttotal: 10.5s\tremaining: 5.32s\n",
      "664:\tlearn: 4.5387412\ttotal: 10.5s\tremaining: 5.3s\n",
      "665:\tlearn: 4.5368054\ttotal: 10.5s\tremaining: 5.29s\n",
      "666:\tlearn: 4.5334540\ttotal: 10.6s\tremaining: 5.27s\n",
      "667:\tlearn: 4.5315734\ttotal: 10.6s\tremaining: 5.26s\n",
      "668:\tlearn: 4.5298965\ttotal: 10.6s\tremaining: 5.24s\n",
      "669:\tlearn: 4.5283558\ttotal: 10.6s\tremaining: 5.22s\n",
      "670:\tlearn: 4.5258500\ttotal: 10.6s\tremaining: 5.21s\n",
      "671:\tlearn: 4.5241315\ttotal: 10.6s\tremaining: 5.19s\n",
      "672:\tlearn: 4.5223805\ttotal: 10.7s\tremaining: 5.18s\n",
      "673:\tlearn: 4.5202765\ttotal: 10.7s\tremaining: 5.16s\n",
      "674:\tlearn: 4.5195099\ttotal: 10.7s\tremaining: 5.14s\n",
      "675:\tlearn: 4.5173434\ttotal: 10.7s\tremaining: 5.13s\n",
      "676:\tlearn: 4.5154792\ttotal: 10.7s\tremaining: 5.12s\n",
      "677:\tlearn: 4.5133615\ttotal: 10.7s\tremaining: 5.1s\n",
      "678:\tlearn: 4.5106096\ttotal: 10.8s\tremaining: 5.09s\n",
      "679:\tlearn: 4.5083454\ttotal: 10.8s\tremaining: 5.08s\n",
      "680:\tlearn: 4.5060887\ttotal: 10.8s\tremaining: 5.06s\n",
      "681:\tlearn: 4.5039626\ttotal: 10.8s\tremaining: 5.04s\n",
      "682:\tlearn: 4.5019902\ttotal: 10.8s\tremaining: 5.03s\n",
      "683:\tlearn: 4.5010661\ttotal: 10.9s\tremaining: 5.01s\n",
      "684:\tlearn: 4.4985937\ttotal: 10.9s\tremaining: 5s\n",
      "685:\tlearn: 4.4967009\ttotal: 10.9s\tremaining: 4.98s\n",
      "686:\tlearn: 4.4927185\ttotal: 10.9s\tremaining: 4.97s\n",
      "687:\tlearn: 4.4912277\ttotal: 10.9s\tremaining: 4.95s\n",
      "688:\tlearn: 4.4896476\ttotal: 10.9s\tremaining: 4.94s\n",
      "689:\tlearn: 4.4881348\ttotal: 11s\tremaining: 4.92s\n",
      "690:\tlearn: 4.4873618\ttotal: 11s\tremaining: 4.91s\n",
      "691:\tlearn: 4.4849791\ttotal: 11s\tremaining: 4.89s\n",
      "692:\tlearn: 4.4817574\ttotal: 11s\tremaining: 4.88s\n",
      "693:\tlearn: 4.4796545\ttotal: 11s\tremaining: 4.86s\n",
      "694:\tlearn: 4.4772461\ttotal: 11s\tremaining: 4.84s\n",
      "695:\tlearn: 4.4750012\ttotal: 11s\tremaining: 4.83s\n",
      "696:\tlearn: 4.4727827\ttotal: 11.1s\tremaining: 4.81s\n",
      "697:\tlearn: 4.4699416\ttotal: 11.1s\tremaining: 4.79s\n",
      "698:\tlearn: 4.4673741\ttotal: 11.1s\tremaining: 4.78s\n",
      "699:\tlearn: 4.4657186\ttotal: 11.1s\tremaining: 4.76s\n",
      "700:\tlearn: 4.4640233\ttotal: 11.1s\tremaining: 4.75s\n",
      "701:\tlearn: 4.4625417\ttotal: 11.2s\tremaining: 4.73s\n",
      "702:\tlearn: 4.4611033\ttotal: 11.2s\tremaining: 4.72s\n",
      "703:\tlearn: 4.4593877\ttotal: 11.2s\tremaining: 4.71s\n",
      "704:\tlearn: 4.4567872\ttotal: 11.2s\tremaining: 4.69s\n",
      "705:\tlearn: 4.4547507\ttotal: 11.2s\tremaining: 4.68s\n",
      "706:\tlearn: 4.4538124\ttotal: 11.2s\tremaining: 4.66s\n",
      "707:\tlearn: 4.4516380\ttotal: 11.3s\tremaining: 4.64s\n",
      "708:\tlearn: 4.4496635\ttotal: 11.3s\tremaining: 4.63s\n",
      "709:\tlearn: 4.4462919\ttotal: 11.3s\tremaining: 4.61s\n",
      "710:\tlearn: 4.4433799\ttotal: 11.3s\tremaining: 4.6s\n",
      "711:\tlearn: 4.4416004\ttotal: 11.3s\tremaining: 4.58s\n",
      "712:\tlearn: 4.4393819\ttotal: 11.3s\tremaining: 4.56s\n",
      "713:\tlearn: 4.4370834\ttotal: 11.4s\tremaining: 4.55s\n",
      "714:\tlearn: 4.4353405\ttotal: 11.4s\tremaining: 4.53s\n",
      "715:\tlearn: 4.4337650\ttotal: 11.4s\tremaining: 4.52s\n",
      "716:\tlearn: 4.4319094\ttotal: 11.4s\tremaining: 4.5s\n",
      "717:\tlearn: 4.4299631\ttotal: 11.4s\tremaining: 4.48s\n",
      "718:\tlearn: 4.4289603\ttotal: 11.4s\tremaining: 4.47s\n",
      "719:\tlearn: 4.4271360\ttotal: 11.4s\tremaining: 4.45s\n",
      "720:\tlearn: 4.4240300\ttotal: 11.5s\tremaining: 4.43s\n",
      "721:\tlearn: 4.4214329\ttotal: 11.5s\tremaining: 4.42s\n",
      "722:\tlearn: 4.4194454\ttotal: 11.5s\tremaining: 4.4s\n",
      "723:\tlearn: 4.4186372\ttotal: 11.5s\tremaining: 4.39s\n",
      "724:\tlearn: 4.4155582\ttotal: 11.5s\tremaining: 4.37s\n",
      "725:\tlearn: 4.4133340\ttotal: 11.5s\tremaining: 4.36s\n",
      "726:\tlearn: 4.4113313\ttotal: 11.6s\tremaining: 4.34s\n",
      "727:\tlearn: 4.4085099\ttotal: 11.6s\tremaining: 4.32s\n",
      "728:\tlearn: 4.4068123\ttotal: 11.6s\tremaining: 4.31s\n",
      "729:\tlearn: 4.4048278\ttotal: 11.6s\tremaining: 4.29s\n",
      "730:\tlearn: 4.4025644\ttotal: 11.6s\tremaining: 4.27s\n",
      "731:\tlearn: 4.3998823\ttotal: 11.6s\tremaining: 4.26s\n",
      "732:\tlearn: 4.3976808\ttotal: 11.6s\tremaining: 4.24s\n",
      "733:\tlearn: 4.3954170\ttotal: 11.7s\tremaining: 4.22s\n",
      "734:\tlearn: 4.3940788\ttotal: 11.7s\tremaining: 4.21s\n",
      "735:\tlearn: 4.3923678\ttotal: 11.7s\tremaining: 4.19s\n",
      "736:\tlearn: 4.3899369\ttotal: 11.7s\tremaining: 4.18s\n",
      "737:\tlearn: 4.3878008\ttotal: 11.7s\tremaining: 4.16s\n",
      "738:\tlearn: 4.3855624\ttotal: 11.7s\tremaining: 4.15s\n",
      "739:\tlearn: 4.3838572\ttotal: 11.8s\tremaining: 4.13s\n",
      "740:\tlearn: 4.3825233\ttotal: 11.8s\tremaining: 4.11s\n",
      "741:\tlearn: 4.3802704\ttotal: 11.8s\tremaining: 4.1s\n",
      "742:\tlearn: 4.3795338\ttotal: 11.8s\tremaining: 4.08s\n",
      "743:\tlearn: 4.3774740\ttotal: 11.8s\tremaining: 4.07s\n",
      "744:\tlearn: 4.3761244\ttotal: 11.8s\tremaining: 4.05s\n",
      "745:\tlearn: 4.3735737\ttotal: 11.8s\tremaining: 4.03s\n",
      "746:\tlearn: 4.3716400\ttotal: 11.9s\tremaining: 4.02s\n",
      "747:\tlearn: 4.3698407\ttotal: 11.9s\tremaining: 4s\n",
      "748:\tlearn: 4.3681785\ttotal: 11.9s\tremaining: 3.98s\n",
      "749:\tlearn: 4.3657384\ttotal: 11.9s\tremaining: 3.97s\n",
      "750:\tlearn: 4.3638909\ttotal: 11.9s\tremaining: 3.95s\n",
      "751:\tlearn: 4.3617005\ttotal: 11.9s\tremaining: 3.94s\n",
      "752:\tlearn: 4.3588045\ttotal: 11.9s\tremaining: 3.92s\n",
      "753:\tlearn: 4.3574921\ttotal: 12s\tremaining: 3.9s\n",
      "754:\tlearn: 4.3564929\ttotal: 12s\tremaining: 3.89s\n",
      "755:\tlearn: 4.3553754\ttotal: 12s\tremaining: 3.87s\n",
      "756:\tlearn: 4.3536753\ttotal: 12s\tremaining: 3.85s\n",
      "757:\tlearn: 4.3528543\ttotal: 12s\tremaining: 3.84s\n",
      "758:\tlearn: 4.3507288\ttotal: 12s\tremaining: 3.82s\n",
      "759:\tlearn: 4.3487136\ttotal: 12s\tremaining: 3.81s\n",
      "760:\tlearn: 4.3452247\ttotal: 12.1s\tremaining: 3.79s\n",
      "761:\tlearn: 4.3431398\ttotal: 12.1s\tremaining: 3.77s\n",
      "762:\tlearn: 4.3415246\ttotal: 12.1s\tremaining: 3.76s\n",
      "763:\tlearn: 4.3400826\ttotal: 12.1s\tremaining: 3.74s\n",
      "764:\tlearn: 4.3379195\ttotal: 12.1s\tremaining: 3.73s\n",
      "765:\tlearn: 4.3358711\ttotal: 12.1s\tremaining: 3.71s\n",
      "766:\tlearn: 4.3336990\ttotal: 12.2s\tremaining: 3.69s\n",
      "767:\tlearn: 4.3317418\ttotal: 12.2s\tremaining: 3.68s\n",
      "768:\tlearn: 4.3303907\ttotal: 12.2s\tremaining: 3.66s\n",
      "769:\tlearn: 4.3286334\ttotal: 12.2s\tremaining: 3.64s\n",
      "770:\tlearn: 4.3268666\ttotal: 12.2s\tremaining: 3.63s\n",
      "771:\tlearn: 4.3239156\ttotal: 12.2s\tremaining: 3.61s\n",
      "772:\tlearn: 4.3215501\ttotal: 12.2s\tremaining: 3.6s\n",
      "773:\tlearn: 4.3187728\ttotal: 12.3s\tremaining: 3.58s\n",
      "774:\tlearn: 4.3161167\ttotal: 12.3s\tremaining: 3.56s\n",
      "775:\tlearn: 4.3144086\ttotal: 12.3s\tremaining: 3.55s\n",
      "776:\tlearn: 4.3113968\ttotal: 12.3s\tremaining: 3.53s\n",
      "777:\tlearn: 4.3088131\ttotal: 12.3s\tremaining: 3.52s\n",
      "778:\tlearn: 4.3077530\ttotal: 12.3s\tremaining: 3.5s\n",
      "779:\tlearn: 4.3058602\ttotal: 12.4s\tremaining: 3.48s\n",
      "780:\tlearn: 4.3036741\ttotal: 12.4s\tremaining: 3.47s\n",
      "781:\tlearn: 4.3028236\ttotal: 12.4s\tremaining: 3.45s\n",
      "782:\tlearn: 4.3016908\ttotal: 12.4s\tremaining: 3.44s\n",
      "783:\tlearn: 4.3010380\ttotal: 12.4s\tremaining: 3.42s\n",
      "784:\tlearn: 4.2988944\ttotal: 12.4s\tremaining: 3.4s\n",
      "785:\tlearn: 4.2973363\ttotal: 12.4s\tremaining: 3.39s\n",
      "786:\tlearn: 4.2957132\ttotal: 12.5s\tremaining: 3.37s\n",
      "787:\tlearn: 4.2930816\ttotal: 12.5s\tremaining: 3.36s\n",
      "788:\tlearn: 4.2900693\ttotal: 12.5s\tremaining: 3.34s\n",
      "789:\tlearn: 4.2873790\ttotal: 12.5s\tremaining: 3.32s\n",
      "790:\tlearn: 4.2854511\ttotal: 12.5s\tremaining: 3.31s\n",
      "791:\tlearn: 4.2826367\ttotal: 12.5s\tremaining: 3.29s\n",
      "792:\tlearn: 4.2812654\ttotal: 12.6s\tremaining: 3.28s\n",
      "793:\tlearn: 4.2789045\ttotal: 12.6s\tremaining: 3.26s\n",
      "794:\tlearn: 4.2767349\ttotal: 12.6s\tremaining: 3.24s\n",
      "795:\tlearn: 4.2741989\ttotal: 12.6s\tremaining: 3.23s\n",
      "796:\tlearn: 4.2723763\ttotal: 12.6s\tremaining: 3.21s\n",
      "797:\tlearn: 4.2699006\ttotal: 12.6s\tremaining: 3.2s\n",
      "798:\tlearn: 4.2672762\ttotal: 12.7s\tremaining: 3.18s\n",
      "799:\tlearn: 4.2661004\ttotal: 12.7s\tremaining: 3.17s\n",
      "800:\tlearn: 4.2636520\ttotal: 12.7s\tremaining: 3.16s\n",
      "801:\tlearn: 4.2630083\ttotal: 12.7s\tremaining: 3.14s\n",
      "802:\tlearn: 4.2608288\ttotal: 12.7s\tremaining: 3.13s\n",
      "803:\tlearn: 4.2584662\ttotal: 12.8s\tremaining: 3.11s\n",
      "804:\tlearn: 4.2575845\ttotal: 12.8s\tremaining: 3.1s\n",
      "805:\tlearn: 4.2555431\ttotal: 12.8s\tremaining: 3.08s\n",
      "806:\tlearn: 4.2535270\ttotal: 12.8s\tremaining: 3.07s\n",
      "807:\tlearn: 4.2512583\ttotal: 12.8s\tremaining: 3.05s\n",
      "808:\tlearn: 4.2492904\ttotal: 12.9s\tremaining: 3.04s\n",
      "809:\tlearn: 4.2467279\ttotal: 12.9s\tremaining: 3.02s\n",
      "810:\tlearn: 4.2452224\ttotal: 12.9s\tremaining: 3s\n",
      "811:\tlearn: 4.2439832\ttotal: 12.9s\tremaining: 2.99s\n",
      "812:\tlearn: 4.2414220\ttotal: 12.9s\tremaining: 2.97s\n",
      "813:\tlearn: 4.2402354\ttotal: 12.9s\tremaining: 2.96s\n",
      "814:\tlearn: 4.2359648\ttotal: 13s\tremaining: 2.94s\n",
      "815:\tlearn: 4.2346683\ttotal: 13s\tremaining: 2.92s\n",
      "816:\tlearn: 4.2340667\ttotal: 13s\tremaining: 2.91s\n",
      "817:\tlearn: 4.2312502\ttotal: 13s\tremaining: 2.89s\n",
      "818:\tlearn: 4.2295326\ttotal: 13s\tremaining: 2.88s\n",
      "819:\tlearn: 4.2279353\ttotal: 13s\tremaining: 2.86s\n",
      "820:\tlearn: 4.2265370\ttotal: 13.1s\tremaining: 2.85s\n",
      "821:\tlearn: 4.2243896\ttotal: 13.1s\tremaining: 2.83s\n",
      "822:\tlearn: 4.2216591\ttotal: 13.1s\tremaining: 2.82s\n",
      "823:\tlearn: 4.2199738\ttotal: 13.1s\tremaining: 2.8s\n",
      "824:\tlearn: 4.2178637\ttotal: 13.1s\tremaining: 2.78s\n",
      "825:\tlearn: 4.2171964\ttotal: 13.1s\tremaining: 2.77s\n",
      "826:\tlearn: 4.2157282\ttotal: 13.2s\tremaining: 2.75s\n",
      "827:\tlearn: 4.2134381\ttotal: 13.2s\tremaining: 2.74s\n",
      "828:\tlearn: 4.2114835\ttotal: 13.2s\tremaining: 2.72s\n",
      "829:\tlearn: 4.2091403\ttotal: 13.2s\tremaining: 2.71s\n",
      "830:\tlearn: 4.2055131\ttotal: 13.2s\tremaining: 2.69s\n",
      "831:\tlearn: 4.2030958\ttotal: 13.3s\tremaining: 2.68s\n",
      "832:\tlearn: 4.2015957\ttotal: 13.3s\tremaining: 2.66s\n",
      "833:\tlearn: 4.1999555\ttotal: 13.3s\tremaining: 2.64s\n",
      "834:\tlearn: 4.1984891\ttotal: 13.3s\tremaining: 2.63s\n",
      "835:\tlearn: 4.1961734\ttotal: 13.3s\tremaining: 2.61s\n",
      "836:\tlearn: 4.1932215\ttotal: 13.3s\tremaining: 2.6s\n",
      "837:\tlearn: 4.1912655\ttotal: 13.4s\tremaining: 2.58s\n",
      "838:\tlearn: 4.1882857\ttotal: 13.4s\tremaining: 2.57s\n",
      "839:\tlearn: 4.1862060\ttotal: 13.4s\tremaining: 2.55s\n",
      "840:\tlearn: 4.1847813\ttotal: 13.4s\tremaining: 2.54s\n",
      "841:\tlearn: 4.1822390\ttotal: 13.4s\tremaining: 2.52s\n",
      "842:\tlearn: 4.1803245\ttotal: 13.5s\tremaining: 2.51s\n",
      "843:\tlearn: 4.1791673\ttotal: 13.5s\tremaining: 2.49s\n",
      "844:\tlearn: 4.1770234\ttotal: 13.5s\tremaining: 2.48s\n",
      "845:\tlearn: 4.1750825\ttotal: 13.5s\tremaining: 2.46s\n",
      "846:\tlearn: 4.1737848\ttotal: 13.5s\tremaining: 2.45s\n",
      "847:\tlearn: 4.1721186\ttotal: 13.6s\tremaining: 2.43s\n",
      "848:\tlearn: 4.1707984\ttotal: 13.6s\tremaining: 2.42s\n",
      "849:\tlearn: 4.1685218\ttotal: 13.6s\tremaining: 2.4s\n",
      "850:\tlearn: 4.1672053\ttotal: 13.6s\tremaining: 2.38s\n",
      "851:\tlearn: 4.1653026\ttotal: 13.6s\tremaining: 2.37s\n",
      "852:\tlearn: 4.1621038\ttotal: 13.7s\tremaining: 2.35s\n",
      "853:\tlearn: 4.1607235\ttotal: 13.7s\tremaining: 2.34s\n",
      "854:\tlearn: 4.1589735\ttotal: 13.7s\tremaining: 2.32s\n",
      "855:\tlearn: 4.1567435\ttotal: 13.7s\tremaining: 2.31s\n",
      "856:\tlearn: 4.1552475\ttotal: 13.7s\tremaining: 2.29s\n",
      "857:\tlearn: 4.1510424\ttotal: 13.8s\tremaining: 2.28s\n",
      "858:\tlearn: 4.1495335\ttotal: 13.8s\tremaining: 2.26s\n",
      "859:\tlearn: 4.1472254\ttotal: 13.8s\tremaining: 2.25s\n",
      "860:\tlearn: 4.1451222\ttotal: 13.8s\tremaining: 2.23s\n",
      "861:\tlearn: 4.1429039\ttotal: 13.8s\tremaining: 2.21s\n",
      "862:\tlearn: 4.1412444\ttotal: 13.8s\tremaining: 2.2s\n",
      "863:\tlearn: 4.1392767\ttotal: 13.9s\tremaining: 2.18s\n",
      "864:\tlearn: 4.1383338\ttotal: 13.9s\tremaining: 2.17s\n",
      "865:\tlearn: 4.1352490\ttotal: 13.9s\tremaining: 2.15s\n",
      "866:\tlearn: 4.1341703\ttotal: 13.9s\tremaining: 2.13s\n",
      "867:\tlearn: 4.1323964\ttotal: 13.9s\tremaining: 2.12s\n",
      "868:\tlearn: 4.1304479\ttotal: 13.9s\tremaining: 2.1s\n",
      "869:\tlearn: 4.1278111\ttotal: 14s\tremaining: 2.08s\n",
      "870:\tlearn: 4.1265170\ttotal: 14s\tremaining: 2.07s\n",
      "871:\tlearn: 4.1252691\ttotal: 14s\tremaining: 2.05s\n",
      "872:\tlearn: 4.1231271\ttotal: 14s\tremaining: 2.04s\n",
      "873:\tlearn: 4.1212022\ttotal: 14s\tremaining: 2.02s\n",
      "874:\tlearn: 4.1192085\ttotal: 14s\tremaining: 2.01s\n",
      "875:\tlearn: 4.1163810\ttotal: 14.1s\tremaining: 1.99s\n",
      "876:\tlearn: 4.1141016\ttotal: 14.1s\tremaining: 1.98s\n",
      "877:\tlearn: 4.1117151\ttotal: 14.1s\tremaining: 1.96s\n",
      "878:\tlearn: 4.1099882\ttotal: 14.1s\tremaining: 1.94s\n",
      "879:\tlearn: 4.1084064\ttotal: 14.1s\tremaining: 1.93s\n",
      "880:\tlearn: 4.1063883\ttotal: 14.2s\tremaining: 1.91s\n",
      "881:\tlearn: 4.1037361\ttotal: 14.2s\tremaining: 1.9s\n",
      "882:\tlearn: 4.1020017\ttotal: 14.2s\tremaining: 1.88s\n",
      "883:\tlearn: 4.0995116\ttotal: 14.2s\tremaining: 1.87s\n",
      "884:\tlearn: 4.0974808\ttotal: 14.2s\tremaining: 1.85s\n",
      "885:\tlearn: 4.0962431\ttotal: 14.3s\tremaining: 1.83s\n",
      "886:\tlearn: 4.0941149\ttotal: 14.3s\tremaining: 1.82s\n",
      "887:\tlearn: 4.0905681\ttotal: 14.3s\tremaining: 1.8s\n",
      "888:\tlearn: 4.0884704\ttotal: 14.3s\tremaining: 1.79s\n",
      "889:\tlearn: 4.0872095\ttotal: 14.3s\tremaining: 1.77s\n",
      "890:\tlearn: 4.0858624\ttotal: 14.3s\tremaining: 1.75s\n",
      "891:\tlearn: 4.0841317\ttotal: 14.4s\tremaining: 1.74s\n",
      "892:\tlearn: 4.0819223\ttotal: 14.4s\tremaining: 1.72s\n",
      "893:\tlearn: 4.0807089\ttotal: 14.4s\tremaining: 1.71s\n",
      "894:\tlearn: 4.0787860\ttotal: 14.4s\tremaining: 1.69s\n",
      "895:\tlearn: 4.0770881\ttotal: 14.4s\tremaining: 1.67s\n",
      "896:\tlearn: 4.0754548\ttotal: 14.4s\tremaining: 1.66s\n",
      "897:\tlearn: 4.0735620\ttotal: 14.5s\tremaining: 1.64s\n",
      "898:\tlearn: 4.0717005\ttotal: 14.5s\tremaining: 1.63s\n",
      "899:\tlearn: 4.0692063\ttotal: 14.5s\tremaining: 1.61s\n",
      "900:\tlearn: 4.0664196\ttotal: 14.5s\tremaining: 1.59s\n",
      "901:\tlearn: 4.0634740\ttotal: 14.5s\tremaining: 1.58s\n",
      "902:\tlearn: 4.0609100\ttotal: 14.6s\tremaining: 1.56s\n",
      "903:\tlearn: 4.0592449\ttotal: 14.6s\tremaining: 1.55s\n",
      "904:\tlearn: 4.0574749\ttotal: 14.6s\tremaining: 1.53s\n",
      "905:\tlearn: 4.0558983\ttotal: 14.6s\tremaining: 1.51s\n",
      "906:\tlearn: 4.0538384\ttotal: 14.6s\tremaining: 1.5s\n",
      "907:\tlearn: 4.0526139\ttotal: 14.6s\tremaining: 1.48s\n",
      "908:\tlearn: 4.0510395\ttotal: 14.7s\tremaining: 1.47s\n",
      "909:\tlearn: 4.0489962\ttotal: 14.7s\tremaining: 1.45s\n",
      "910:\tlearn: 4.0469207\ttotal: 14.7s\tremaining: 1.44s\n",
      "911:\tlearn: 4.0453815\ttotal: 14.7s\tremaining: 1.42s\n",
      "912:\tlearn: 4.0431713\ttotal: 14.7s\tremaining: 1.4s\n",
      "913:\tlearn: 4.0409572\ttotal: 14.7s\tremaining: 1.39s\n",
      "914:\tlearn: 4.0397831\ttotal: 14.8s\tremaining: 1.37s\n",
      "915:\tlearn: 4.0383746\ttotal: 14.8s\tremaining: 1.35s\n",
      "916:\tlearn: 4.0360608\ttotal: 14.8s\tremaining: 1.34s\n",
      "917:\tlearn: 4.0345414\ttotal: 14.8s\tremaining: 1.32s\n",
      "918:\tlearn: 4.0329345\ttotal: 14.8s\tremaining: 1.3s\n",
      "919:\tlearn: 4.0305861\ttotal: 14.8s\tremaining: 1.29s\n",
      "920:\tlearn: 4.0283270\ttotal: 14.8s\tremaining: 1.27s\n",
      "921:\tlearn: 4.0263533\ttotal: 14.9s\tremaining: 1.26s\n",
      "922:\tlearn: 4.0243990\ttotal: 14.9s\tremaining: 1.24s\n",
      "923:\tlearn: 4.0229904\ttotal: 14.9s\tremaining: 1.23s\n",
      "924:\tlearn: 4.0219422\ttotal: 14.9s\tremaining: 1.21s\n",
      "925:\tlearn: 4.0200193\ttotal: 14.9s\tremaining: 1.19s\n",
      "926:\tlearn: 4.0183866\ttotal: 14.9s\tremaining: 1.18s\n",
      "927:\tlearn: 4.0162832\ttotal: 15s\tremaining: 1.16s\n",
      "928:\tlearn: 4.0139388\ttotal: 15s\tremaining: 1.15s\n",
      "929:\tlearn: 4.0120025\ttotal: 15s\tremaining: 1.13s\n",
      "930:\tlearn: 4.0102899\ttotal: 15s\tremaining: 1.11s\n",
      "931:\tlearn: 4.0086951\ttotal: 15s\tremaining: 1.1s\n",
      "932:\tlearn: 4.0076266\ttotal: 15.1s\tremaining: 1.08s\n",
      "933:\tlearn: 4.0058363\ttotal: 15.1s\tremaining: 1.06s\n",
      "934:\tlearn: 4.0043614\ttotal: 15.1s\tremaining: 1.05s\n",
      "935:\tlearn: 4.0027733\ttotal: 15.1s\tremaining: 1.03s\n",
      "936:\tlearn: 3.9997599\ttotal: 15.1s\tremaining: 1.02s\n",
      "937:\tlearn: 3.9976489\ttotal: 15.1s\tremaining: 1s\n",
      "938:\tlearn: 3.9961768\ttotal: 15.1s\tremaining: 984ms\n",
      "939:\tlearn: 3.9950542\ttotal: 15.2s\tremaining: 968ms\n",
      "940:\tlearn: 3.9928879\ttotal: 15.2s\tremaining: 952ms\n",
      "941:\tlearn: 3.9912685\ttotal: 15.2s\tremaining: 936ms\n",
      "942:\tlearn: 3.9900832\ttotal: 15.2s\tremaining: 920ms\n",
      "943:\tlearn: 3.9882864\ttotal: 15.2s\tremaining: 903ms\n",
      "944:\tlearn: 3.9870170\ttotal: 15.2s\tremaining: 887ms\n",
      "945:\tlearn: 3.9856544\ttotal: 15.3s\tremaining: 871ms\n",
      "946:\tlearn: 3.9838738\ttotal: 15.3s\tremaining: 855ms\n",
      "947:\tlearn: 3.9820401\ttotal: 15.3s\tremaining: 839ms\n",
      "948:\tlearn: 3.9810311\ttotal: 15.3s\tremaining: 823ms\n",
      "949:\tlearn: 3.9793268\ttotal: 15.3s\tremaining: 806ms\n",
      "950:\tlearn: 3.9780144\ttotal: 15.3s\tremaining: 790ms\n",
      "951:\tlearn: 3.9758908\ttotal: 15.4s\tremaining: 774ms\n",
      "952:\tlearn: 3.9730479\ttotal: 15.4s\tremaining: 758ms\n",
      "953:\tlearn: 3.9710763\ttotal: 15.4s\tremaining: 742ms\n",
      "954:\tlearn: 3.9694734\ttotal: 15.4s\tremaining: 726ms\n",
      "955:\tlearn: 3.9684193\ttotal: 15.4s\tremaining: 710ms\n",
      "956:\tlearn: 3.9670396\ttotal: 15.4s\tremaining: 694ms\n",
      "957:\tlearn: 3.9657163\ttotal: 15.5s\tremaining: 677ms\n",
      "958:\tlearn: 3.9641245\ttotal: 15.5s\tremaining: 661ms\n",
      "959:\tlearn: 3.9622179\ttotal: 15.5s\tremaining: 645ms\n",
      "960:\tlearn: 3.9606745\ttotal: 15.5s\tremaining: 629ms\n",
      "961:\tlearn: 3.9590704\ttotal: 15.5s\tremaining: 613ms\n",
      "962:\tlearn: 3.9571301\ttotal: 15.5s\tremaining: 597ms\n",
      "963:\tlearn: 3.9552927\ttotal: 15.6s\tremaining: 581ms\n",
      "964:\tlearn: 3.9535992\ttotal: 15.6s\tremaining: 565ms\n",
      "965:\tlearn: 3.9503621\ttotal: 15.6s\tremaining: 549ms\n",
      "966:\tlearn: 3.9485148\ttotal: 15.6s\tremaining: 532ms\n",
      "967:\tlearn: 3.9477429\ttotal: 15.6s\tremaining: 516ms\n",
      "968:\tlearn: 3.9459439\ttotal: 15.6s\tremaining: 500ms\n",
      "969:\tlearn: 3.9442789\ttotal: 15.6s\tremaining: 484ms\n",
      "970:\tlearn: 3.9406893\ttotal: 15.7s\tremaining: 468ms\n",
      "971:\tlearn: 3.9384446\ttotal: 15.7s\tremaining: 452ms\n",
      "972:\tlearn: 3.9375006\ttotal: 15.7s\tremaining: 436ms\n",
      "973:\tlearn: 3.9363653\ttotal: 15.7s\tremaining: 420ms\n",
      "974:\tlearn: 3.9340505\ttotal: 15.7s\tremaining: 404ms\n",
      "975:\tlearn: 3.9321630\ttotal: 15.8s\tremaining: 388ms\n",
      "976:\tlearn: 3.9305194\ttotal: 15.8s\tremaining: 372ms\n",
      "977:\tlearn: 3.9292289\ttotal: 15.8s\tremaining: 355ms\n",
      "978:\tlearn: 3.9280556\ttotal: 15.8s\tremaining: 339ms\n",
      "979:\tlearn: 3.9267237\ttotal: 15.8s\tremaining: 323ms\n",
      "980:\tlearn: 3.9250837\ttotal: 15.8s\tremaining: 307ms\n",
      "981:\tlearn: 3.9236849\ttotal: 15.9s\tremaining: 291ms\n",
      "982:\tlearn: 3.9230519\ttotal: 15.9s\tremaining: 275ms\n",
      "983:\tlearn: 3.9211069\ttotal: 15.9s\tremaining: 258ms\n",
      "984:\tlearn: 3.9195354\ttotal: 15.9s\tremaining: 242ms\n",
      "985:\tlearn: 3.9188322\ttotal: 15.9s\tremaining: 226ms\n",
      "986:\tlearn: 3.9178769\ttotal: 15.9s\tremaining: 210ms\n",
      "987:\tlearn: 3.9166447\ttotal: 16s\tremaining: 194ms\n",
      "988:\tlearn: 3.9156418\ttotal: 16s\tremaining: 178ms\n",
      "989:\tlearn: 3.9151240\ttotal: 16s\tremaining: 161ms\n",
      "990:\tlearn: 3.9136660\ttotal: 16s\tremaining: 145ms\n",
      "991:\tlearn: 3.9119506\ttotal: 16s\tremaining: 129ms\n",
      "992:\tlearn: 3.9102529\ttotal: 16s\tremaining: 113ms\n",
      "993:\tlearn: 3.9090188\ttotal: 16.1s\tremaining: 96.9ms\n",
      "994:\tlearn: 3.9076111\ttotal: 16.1s\tremaining: 80.7ms\n",
      "995:\tlearn: 3.9042022\ttotal: 16.1s\tremaining: 64.6ms\n",
      "996:\tlearn: 3.9027056\ttotal: 16.1s\tremaining: 48.5ms\n",
      "997:\tlearn: 3.9000367\ttotal: 16.1s\tremaining: 32.3ms\n",
      "998:\tlearn: 3.8984715\ttotal: 16.1s\tremaining: 16.2ms\n",
      "999:\tlearn: 3.8965807\ttotal: 16.2s\tremaining: 0us\n"
     ]
    },
    {
     "data": {
      "text/plain": [
       "4.767087858142787"
      ]
     },
     "execution_count": 57,
     "metadata": {},
     "output_type": "execute_result"
    }
   ],
   "source": [
    "# получим метрику для второго целевого признака\n",
    "model_cb_final = CatBoostRegressor(random_state=12345)\n",
    "model_cb_final.fit(features_train, target_train_final)\n",
    "model_cb_final_pred = model_cb_final.predict(features_train)\n",
    "model_cb_final_smape = smape(target_train_final, model_cb_final_pred)\n",
    "model_cb_final_smape"
   ]
  },
  {
   "cell_type": "code",
   "execution_count": 58,
   "metadata": {},
   "outputs": [
    {
     "name": "stdout",
     "output_type": "stream",
     "text": [
      "Результат модели CatBoostRegressor 5.189811324682332\n"
     ]
    }
   ],
   "source": [
    "# получим финальную метрику\n",
    "model_cb_smape_final = final_smape(model_cb_rougher_smape, model_cb_final_smape)\n",
    "print('Результат модели CatBoostRegressor', model_cb_smape_final)"
   ]
  },
  {
   "cell_type": "markdown",
   "metadata": {},
   "source": [
    "Как видим, модель CatBoostRegressor показала значительно лучший результат даже на стандартных гиперпараметрах. Выберем ее как лучшую модель."
   ]
  },
  {
   "cell_type": "markdown",
   "metadata": {},
   "source": [
    "#### Проверка лучшей модели на тестовой выборке"
   ]
  },
  {
   "cell_type": "code",
   "execution_count": 59,
   "metadata": {},
   "outputs": [
    {
     "name": "stdout",
     "output_type": "stream",
     "text": [
      "Результат лучшей модели 9.911055407628876\n"
     ]
    }
   ],
   "source": [
    "cb_rougher_pred = model_cb_rougher.predict(features_test)\n",
    "cb_final_pred = model_cb_final.predict(features_test)\n",
    "cb_rougher_smape = smape(target_test_rougher, cb_rougher_pred)\n",
    "cb_final_smape = smape(target_test_final, cb_final_pred)\n",
    "cb_smape = final_smape(cb_rougher_smape, cb_final_smape)\n",
    "print('Результат лучшей модели', cb_smape)"
   ]
  },
  {
   "cell_type": "markdown",
   "metadata": {},
   "source": [
    "### Константная модель"
   ]
  },
  {
   "cell_type": "code",
   "execution_count": 60,
   "metadata": {},
   "outputs": [
    {
     "name": "stdout",
     "output_type": "stream",
     "text": [
      "Результат константной модели 9.511609999702376\n"
     ]
    }
   ],
   "source": [
    "# инициализируем константную модель и получим для нее метрику\n",
    "dummy_regressor_rougher = DummyRegressor(strategy='median')\n",
    "dummy_regressor_final = DummyRegressor(strategy='median')\n",
    "dummy_regressor_rougher.fit(features_train, target_train_rougher)\n",
    "dummy_regressor_final.fit(features_train, target_train_final)\n",
    "dummy_regressor_rougher_pred = dummy_regressor_rougher.predict(features_test)\n",
    "dummy_regressor_final_pred = dummy_regressor_final.predict(features_test)\n",
    "base_smape = final_smape(smape(target_test_rougher, dummy_regressor_rougher_pred), smape(target_test_final, dummy_regressor_final_pred))\n",
    "print('Результат константной модели', base_smape)"
   ]
  },
  {
   "cell_type": "markdown",
   "metadata": {},
   "source": [
    "## Вывод"
   ]
  },
  {
   "cell_type": "markdown",
   "metadata": {},
   "source": [
    "Была произведена работа с целью предсказания коэффициента восстановления золота из золотосодержащей руды. На этапе предобработки были заполнены пропуски предыдущим известным значением, а также удалены или добавлены некоторые столбцы в тренировочную и тестовую выборки.\n",
    "\n",
    "Далее был произведен аналих данных, в ходе которого выяснили, что средняя концентрация золота и свинца с каждым последующим этапом растет, а вот средняя концентрация серебра после этапа флотации снижается. Также убедились, что размер гранул сырья в тестовой и тренировочно выборке не имеют кардинальных различий. Были выявлены аномалии в виде нулей в суммарной концентрации веществ, затем аномалии были удалены.\n",
    "\n",
    "Далее были обучены несколько моделей: линейная регрессия, решающее дерево, случаный лес и CatBoostRegressor. Для моделей решающее дерево и случайный лес был произведен поиск по сетке гиперпараметров, с целью подобрать оптимальные. Качество моделей было проверено с помощью кроссвалидации. Метрикой качества является sMAPE. Лучший результат показала модель CatBoostRegressor. При проверке лучшей модели на тестовой выборке получили результат sMAPE = 9.91."
   ]
  }
 ],
 "metadata": {
  "ExecuteTimeLog": [
   {
    "duration": 450,
    "start_time": "2022-04-20T07:27:16.104Z"
   },
   {
    "duration": 686,
    "start_time": "2022-04-20T07:29:20.688Z"
   },
   {
    "duration": 26,
    "start_time": "2022-04-20T07:29:39.536Z"
   },
   {
    "duration": 19,
    "start_time": "2022-04-20T07:30:00.572Z"
   },
   {
    "duration": 20,
    "start_time": "2022-04-20T07:30:18.332Z"
   },
   {
    "duration": 18,
    "start_time": "2022-04-20T07:56:37.776Z"
   },
   {
    "duration": 14,
    "start_time": "2022-04-20T07:57:32.014Z"
   },
   {
    "duration": 18,
    "start_time": "2022-04-20T07:59:19.159Z"
   },
   {
    "duration": 65,
    "start_time": "2022-04-20T08:54:32.037Z"
   },
   {
    "duration": 8,
    "start_time": "2022-04-20T08:54:41.420Z"
   },
   {
    "duration": 8,
    "start_time": "2022-04-20T08:54:58.511Z"
   },
   {
    "duration": 7,
    "start_time": "2022-04-20T08:55:17.637Z"
   },
   {
    "duration": 9,
    "start_time": "2022-04-20T08:56:18.702Z"
   },
   {
    "duration": 5,
    "start_time": "2022-04-20T08:57:47.990Z"
   },
   {
    "duration": 9,
    "start_time": "2022-04-20T08:57:58.238Z"
   },
   {
    "duration": 14,
    "start_time": "2022-04-20T09:00:00.497Z"
   },
   {
    "duration": 15,
    "start_time": "2022-04-20T09:00:41.581Z"
   },
   {
    "duration": 9,
    "start_time": "2022-04-20T09:03:29.477Z"
   },
   {
    "duration": 8,
    "start_time": "2022-04-20T09:03:40.047Z"
   },
   {
    "duration": 9,
    "start_time": "2022-04-20T09:03:54.865Z"
   },
   {
    "duration": 999,
    "start_time": "2022-04-20T09:10:14.934Z"
   },
   {
    "duration": 13,
    "start_time": "2022-04-20T09:13:31.767Z"
   },
   {
    "duration": 13,
    "start_time": "2022-04-20T09:14:02.063Z"
   },
   {
    "duration": 278,
    "start_time": "2022-04-20T09:14:28.629Z"
   },
   {
    "duration": 10,
    "start_time": "2022-04-20T09:14:36.716Z"
   },
   {
    "duration": 46,
    "start_time": "2022-04-22T16:22:59.260Z"
   },
   {
    "duration": 1214,
    "start_time": "2022-04-22T16:23:25.254Z"
   },
   {
    "duration": 644,
    "start_time": "2022-04-22T16:23:26.470Z"
   },
   {
    "duration": 25,
    "start_time": "2022-04-22T16:23:27.116Z"
   },
   {
    "duration": 24,
    "start_time": "2022-04-22T16:23:27.143Z"
   },
   {
    "duration": 32,
    "start_time": "2022-04-22T16:23:27.169Z"
   },
   {
    "duration": 38,
    "start_time": "2022-04-22T16:23:27.202Z"
   },
   {
    "duration": 11,
    "start_time": "2022-04-22T16:23:27.241Z"
   },
   {
    "duration": 26,
    "start_time": "2022-04-22T16:23:27.254Z"
   },
   {
    "duration": 13,
    "start_time": "2022-04-22T16:23:27.282Z"
   },
   {
    "duration": 99,
    "start_time": "2022-04-22T16:23:27.298Z"
   },
   {
    "duration": 10,
    "start_time": "2022-04-22T16:26:17.480Z"
   },
   {
    "duration": 3,
    "start_time": "2022-04-22T16:27:13.600Z"
   },
   {
    "duration": 8,
    "start_time": "2022-04-22T16:28:21.919Z"
   },
   {
    "duration": 4,
    "start_time": "2022-04-22T16:44:19.600Z"
   },
   {
    "duration": 8,
    "start_time": "2022-04-22T16:45:04.901Z"
   },
   {
    "duration": 9,
    "start_time": "2022-04-22T16:45:13.694Z"
   },
   {
    "duration": 9,
    "start_time": "2022-04-22T16:54:15.361Z"
   },
   {
    "duration": 9,
    "start_time": "2022-04-22T16:54:27.939Z"
   },
   {
    "duration": 8,
    "start_time": "2022-04-22T16:54:54.975Z"
   },
   {
    "duration": 156,
    "start_time": "2022-04-22T16:55:11.911Z"
   },
   {
    "duration": 177,
    "start_time": "2022-04-22T16:55:16.657Z"
   },
   {
    "duration": 3,
    "start_time": "2022-04-22T16:58:14.739Z"
   },
   {
    "duration": 5,
    "start_time": "2022-04-22T16:58:26.951Z"
   },
   {
    "duration": 5,
    "start_time": "2022-04-22T16:58:48.005Z"
   },
   {
    "duration": 5,
    "start_time": "2022-04-22T16:58:58.327Z"
   },
   {
    "duration": 8,
    "start_time": "2022-04-22T17:32:49.121Z"
   },
   {
    "duration": 7,
    "start_time": "2022-04-22T17:33:08.781Z"
   },
   {
    "duration": 9,
    "start_time": "2022-04-22T17:33:31.652Z"
   },
   {
    "duration": 9,
    "start_time": "2022-04-22T17:34:07.626Z"
   },
   {
    "duration": 9,
    "start_time": "2022-04-22T17:34:47.499Z"
   },
   {
    "duration": 8,
    "start_time": "2022-04-22T17:35:14.196Z"
   },
   {
    "duration": 8,
    "start_time": "2022-04-22T17:37:14.975Z"
   },
   {
    "duration": 10,
    "start_time": "2022-04-22T17:39:32.422Z"
   },
   {
    "duration": 6,
    "start_time": "2022-04-22T17:39:47.795Z"
   },
   {
    "duration": 1217,
    "start_time": "2022-04-22T17:43:58.863Z"
   },
   {
    "duration": 639,
    "start_time": "2022-04-22T17:44:00.082Z"
   },
   {
    "duration": 32,
    "start_time": "2022-04-22T17:44:00.723Z"
   },
   {
    "duration": 19,
    "start_time": "2022-04-22T17:44:00.757Z"
   },
   {
    "duration": 50,
    "start_time": "2022-04-22T17:44:00.777Z"
   },
   {
    "duration": 36,
    "start_time": "2022-04-22T17:44:00.829Z"
   },
   {
    "duration": 26,
    "start_time": "2022-04-22T17:44:00.867Z"
   },
   {
    "duration": 19,
    "start_time": "2022-04-22T17:44:00.895Z"
   },
   {
    "duration": 16,
    "start_time": "2022-04-22T17:44:00.916Z"
   },
   {
    "duration": 24,
    "start_time": "2022-04-22T17:44:00.934Z"
   },
   {
    "duration": 18,
    "start_time": "2022-04-22T17:44:00.959Z"
   },
   {
    "duration": 95,
    "start_time": "2022-04-22T17:44:31.422Z"
   },
   {
    "duration": 9,
    "start_time": "2022-04-22T17:44:41.459Z"
   },
   {
    "duration": 1289,
    "start_time": "2022-04-22T17:44:56.382Z"
   },
   {
    "duration": 637,
    "start_time": "2022-04-22T17:44:57.673Z"
   },
   {
    "duration": 27,
    "start_time": "2022-04-22T17:44:58.311Z"
   },
   {
    "duration": 30,
    "start_time": "2022-04-22T17:44:58.340Z"
   },
   {
    "duration": 22,
    "start_time": "2022-04-22T17:44:58.372Z"
   },
   {
    "duration": 16,
    "start_time": "2022-04-22T17:44:58.396Z"
   },
   {
    "duration": 12,
    "start_time": "2022-04-22T17:44:58.414Z"
   },
   {
    "duration": 42,
    "start_time": "2022-04-22T17:44:58.428Z"
   },
   {
    "duration": 16,
    "start_time": "2022-04-22T17:44:58.471Z"
   },
   {
    "duration": 5,
    "start_time": "2022-04-22T17:44:58.489Z"
   },
   {
    "duration": 8,
    "start_time": "2022-04-22T17:44:58.496Z"
   },
   {
    "duration": 1171,
    "start_time": "2022-04-24T15:32:11.275Z"
   },
   {
    "duration": 1269,
    "start_time": "2022-04-24T15:32:12.447Z"
   },
   {
    "duration": 25,
    "start_time": "2022-04-24T15:32:13.717Z"
   },
   {
    "duration": 18,
    "start_time": "2022-04-24T15:32:13.743Z"
   },
   {
    "duration": 20,
    "start_time": "2022-04-24T15:32:13.763Z"
   },
   {
    "duration": 16,
    "start_time": "2022-04-24T15:32:13.801Z"
   },
   {
    "duration": 14,
    "start_time": "2022-04-24T15:32:13.818Z"
   },
   {
    "duration": 22,
    "start_time": "2022-04-24T15:32:13.834Z"
   },
   {
    "duration": 17,
    "start_time": "2022-04-24T15:32:13.858Z"
   },
   {
    "duration": 6,
    "start_time": "2022-04-24T15:32:13.902Z"
   },
   {
    "duration": 6,
    "start_time": "2022-04-24T15:32:13.909Z"
   },
   {
    "duration": 8,
    "start_time": "2022-04-24T15:56:18.131Z"
   },
   {
    "duration": 92,
    "start_time": "2022-04-24T15:56:42.394Z"
   },
   {
    "duration": 1138,
    "start_time": "2022-04-24T15:56:58.219Z"
   },
   {
    "duration": 668,
    "start_time": "2022-04-24T15:56:59.359Z"
   },
   {
    "duration": 26,
    "start_time": "2022-04-24T15:57:00.029Z"
   },
   {
    "duration": 18,
    "start_time": "2022-04-24T15:57:00.057Z"
   },
   {
    "duration": 40,
    "start_time": "2022-04-24T15:57:00.076Z"
   },
   {
    "duration": 22,
    "start_time": "2022-04-24T15:57:00.117Z"
   },
   {
    "duration": 11,
    "start_time": "2022-04-24T15:57:00.140Z"
   },
   {
    "duration": 16,
    "start_time": "2022-04-24T15:57:00.152Z"
   },
   {
    "duration": 36,
    "start_time": "2022-04-24T15:57:00.170Z"
   },
   {
    "duration": 6,
    "start_time": "2022-04-24T15:57:00.208Z"
   },
   {
    "duration": 6,
    "start_time": "2022-04-24T15:57:00.216Z"
   },
   {
    "duration": 11,
    "start_time": "2022-04-24T15:57:00.224Z"
   },
   {
    "duration": 98,
    "start_time": "2022-04-24T15:58:43.463Z"
   },
   {
    "duration": 1156,
    "start_time": "2022-04-24T16:01:13.910Z"
   },
   {
    "duration": 633,
    "start_time": "2022-04-24T16:01:15.068Z"
   },
   {
    "duration": 24,
    "start_time": "2022-04-24T16:01:15.702Z"
   },
   {
    "duration": 22,
    "start_time": "2022-04-24T16:01:15.728Z"
   },
   {
    "duration": 28,
    "start_time": "2022-04-24T16:01:15.751Z"
   },
   {
    "duration": 26,
    "start_time": "2022-04-24T16:01:15.781Z"
   },
   {
    "duration": 10,
    "start_time": "2022-04-24T16:01:15.809Z"
   },
   {
    "duration": 23,
    "start_time": "2022-04-24T16:01:15.821Z"
   },
   {
    "duration": 12,
    "start_time": "2022-04-24T16:01:15.845Z"
   },
   {
    "duration": 10,
    "start_time": "2022-04-24T16:01:15.859Z"
   },
   {
    "duration": 5,
    "start_time": "2022-04-24T16:01:15.870Z"
   },
   {
    "duration": 31,
    "start_time": "2022-04-24T16:01:15.877Z"
   },
   {
    "duration": 92,
    "start_time": "2022-04-24T16:01:38.333Z"
   },
   {
    "duration": 1150,
    "start_time": "2022-04-24T16:01:47.284Z"
   },
   {
    "duration": 667,
    "start_time": "2022-04-24T16:01:48.436Z"
   },
   {
    "duration": 24,
    "start_time": "2022-04-24T16:01:49.105Z"
   },
   {
    "duration": 21,
    "start_time": "2022-04-24T16:01:49.131Z"
   },
   {
    "duration": 18,
    "start_time": "2022-04-24T16:01:49.154Z"
   },
   {
    "duration": 40,
    "start_time": "2022-04-24T16:01:49.174Z"
   },
   {
    "duration": 13,
    "start_time": "2022-04-24T16:01:49.216Z"
   },
   {
    "duration": 20,
    "start_time": "2022-04-24T16:01:49.231Z"
   },
   {
    "duration": 11,
    "start_time": "2022-04-24T16:01:49.253Z"
   },
   {
    "duration": 5,
    "start_time": "2022-04-24T16:01:49.266Z"
   },
   {
    "duration": 4,
    "start_time": "2022-04-24T16:01:49.300Z"
   },
   {
    "duration": 10,
    "start_time": "2022-04-24T16:01:49.306Z"
   },
   {
    "duration": 5,
    "start_time": "2022-04-24T16:03:07.719Z"
   },
   {
    "duration": 1246,
    "start_time": "2022-04-24T16:03:44.017Z"
   },
   {
    "duration": 682,
    "start_time": "2022-04-24T16:03:45.265Z"
   },
   {
    "duration": 27,
    "start_time": "2022-04-24T16:03:45.949Z"
   },
   {
    "duration": 35,
    "start_time": "2022-04-24T16:03:45.978Z"
   },
   {
    "duration": 21,
    "start_time": "2022-04-24T16:03:46.015Z"
   },
   {
    "duration": 18,
    "start_time": "2022-04-24T16:03:46.038Z"
   },
   {
    "duration": 14,
    "start_time": "2022-04-24T16:03:46.057Z"
   },
   {
    "duration": 65,
    "start_time": "2022-04-24T16:03:46.073Z"
   },
   {
    "duration": 4,
    "start_time": "2022-04-24T16:03:46.139Z"
   },
   {
    "duration": 15,
    "start_time": "2022-04-24T16:03:46.145Z"
   },
   {
    "duration": 6,
    "start_time": "2022-04-24T16:03:46.161Z"
   },
   {
    "duration": 9,
    "start_time": "2022-04-24T16:03:46.169Z"
   },
   {
    "duration": 25,
    "start_time": "2022-04-24T16:03:46.180Z"
   },
   {
    "duration": 97,
    "start_time": "2022-04-24T16:52:25.465Z"
   },
   {
    "duration": 12,
    "start_time": "2022-04-24T17:00:16.145Z"
   },
   {
    "duration": 7,
    "start_time": "2022-04-24T17:00:28.218Z"
   },
   {
    "duration": 7,
    "start_time": "2022-04-24T17:01:56.531Z"
   },
   {
    "duration": 8,
    "start_time": "2022-04-24T17:02:51.973Z"
   },
   {
    "duration": 8,
    "start_time": "2022-04-24T17:03:08.761Z"
   },
   {
    "duration": 7,
    "start_time": "2022-04-24T17:03:28.908Z"
   },
   {
    "duration": 7,
    "start_time": "2022-04-24T17:04:14.453Z"
   },
   {
    "duration": 21,
    "start_time": "2022-04-24T18:29:31.343Z"
   },
   {
    "duration": 5,
    "start_time": "2022-04-24T19:31:01.557Z"
   },
   {
    "duration": 9,
    "start_time": "2022-04-24T19:33:33.526Z"
   },
   {
    "duration": 658,
    "start_time": "2022-04-24T19:35:55.125Z"
   },
   {
    "duration": 115,
    "start_time": "2022-04-24T19:36:35.256Z"
   },
   {
    "duration": 23,
    "start_time": "2022-04-24T19:39:11.853Z"
   },
   {
    "duration": 10,
    "start_time": "2022-04-24T19:39:44.055Z"
   },
   {
    "duration": 5,
    "start_time": "2022-04-24T19:47:50.344Z"
   },
   {
    "duration": 5,
    "start_time": "2022-04-24T19:50:24.965Z"
   },
   {
    "duration": 190,
    "start_time": "2022-04-24T19:52:42.892Z"
   },
   {
    "duration": 206,
    "start_time": "2022-04-24T19:54:34.023Z"
   },
   {
    "duration": 175,
    "start_time": "2022-04-24T19:54:49.330Z"
   },
   {
    "duration": 190,
    "start_time": "2022-04-24T19:55:30.417Z"
   },
   {
    "duration": 183,
    "start_time": "2022-04-24T19:55:50.067Z"
   },
   {
    "duration": 207,
    "start_time": "2022-04-24T19:55:57.216Z"
   },
   {
    "duration": 6,
    "start_time": "2022-04-24T19:57:57.533Z"
   },
   {
    "duration": 6,
    "start_time": "2022-04-24T19:59:21.446Z"
   },
   {
    "duration": 6,
    "start_time": "2022-04-24T19:59:48.361Z"
   },
   {
    "duration": 9,
    "start_time": "2022-04-24T20:00:38.511Z"
   },
   {
    "duration": 8,
    "start_time": "2022-04-24T20:01:27.722Z"
   },
   {
    "duration": 12,
    "start_time": "2022-04-24T20:02:39.385Z"
   },
   {
    "duration": 75,
    "start_time": "2022-04-24T20:13:43.750Z"
   },
   {
    "duration": 12,
    "start_time": "2022-04-24T20:26:50.585Z"
   },
   {
    "duration": 9,
    "start_time": "2022-04-24T20:27:15.184Z"
   },
   {
    "duration": 382,
    "start_time": "2022-04-24T20:27:21.048Z"
   },
   {
    "duration": 8,
    "start_time": "2022-04-24T20:28:06.480Z"
   },
   {
    "duration": 2,
    "start_time": "2022-04-24T20:28:12.817Z"
   },
   {
    "duration": 315,
    "start_time": "2022-04-24T20:28:53.519Z"
   },
   {
    "duration": 335,
    "start_time": "2022-04-24T20:29:19.811Z"
   },
   {
    "duration": 8,
    "start_time": "2022-04-24T20:29:59.535Z"
   },
   {
    "duration": 8,
    "start_time": "2022-04-24T20:30:06.646Z"
   },
   {
    "duration": 8,
    "start_time": "2022-04-24T20:30:34.109Z"
   },
   {
    "duration": 8,
    "start_time": "2022-04-24T20:33:28.877Z"
   },
   {
    "duration": 3,
    "start_time": "2022-04-24T20:39:33.479Z"
   },
   {
    "duration": 160,
    "start_time": "2022-04-24T20:39:43.278Z"
   },
   {
    "duration": 100,
    "start_time": "2022-04-24T20:40:11.731Z"
   },
   {
    "duration": 108,
    "start_time": "2022-04-24T20:42:25.594Z"
   },
   {
    "duration": 101,
    "start_time": "2022-04-24T20:43:12.810Z"
   },
   {
    "duration": 111,
    "start_time": "2022-04-24T20:43:22.268Z"
   },
   {
    "duration": 171,
    "start_time": "2022-04-24T20:44:27.957Z"
   },
   {
    "duration": 487,
    "start_time": "2022-04-24T20:53:19.859Z"
   },
   {
    "duration": 168,
    "start_time": "2022-04-24T20:54:07.023Z"
   },
   {
    "duration": 621,
    "start_time": "2022-04-24T20:55:01.242Z"
   },
   {
    "duration": 569,
    "start_time": "2022-04-24T20:55:29.982Z"
   },
   {
    "duration": 520,
    "start_time": "2022-04-24T20:56:17.226Z"
   },
   {
    "duration": 414,
    "start_time": "2022-04-24T20:56:34.441Z"
   },
   {
    "duration": 391,
    "start_time": "2022-04-24T20:56:40.536Z"
   },
   {
    "duration": 107,
    "start_time": "2022-04-24T20:59:06.681Z"
   },
   {
    "duration": 9,
    "start_time": "2022-04-24T20:59:49.052Z"
   },
   {
    "duration": 117,
    "start_time": "2022-04-24T21:02:09.304Z"
   },
   {
    "duration": 1362,
    "start_time": "2022-04-24T21:02:56.225Z"
   },
   {
    "duration": 630,
    "start_time": "2022-04-24T21:02:57.589Z"
   },
   {
    "duration": 22,
    "start_time": "2022-04-24T21:02:58.221Z"
   },
   {
    "duration": 18,
    "start_time": "2022-04-24T21:02:58.245Z"
   },
   {
    "duration": 35,
    "start_time": "2022-04-24T21:02:58.266Z"
   },
   {
    "duration": 18,
    "start_time": "2022-04-24T21:02:58.303Z"
   },
   {
    "duration": 12,
    "start_time": "2022-04-24T21:02:58.323Z"
   },
   {
    "duration": 17,
    "start_time": "2022-04-24T21:02:58.337Z"
   },
   {
    "duration": 4,
    "start_time": "2022-04-24T21:02:58.356Z"
   },
   {
    "duration": 51,
    "start_time": "2022-04-24T21:02:58.362Z"
   },
   {
    "duration": 6,
    "start_time": "2022-04-24T21:02:58.414Z"
   },
   {
    "duration": 6,
    "start_time": "2022-04-24T21:02:58.422Z"
   },
   {
    "duration": 9,
    "start_time": "2022-04-24T21:02:58.429Z"
   },
   {
    "duration": 6,
    "start_time": "2022-04-24T21:02:58.440Z"
   },
   {
    "duration": 9,
    "start_time": "2022-04-24T21:02:58.447Z"
   },
   {
    "duration": 44,
    "start_time": "2022-04-24T21:02:58.457Z"
   },
   {
    "duration": 16,
    "start_time": "2022-04-24T21:02:58.503Z"
   },
   {
    "duration": 12,
    "start_time": "2022-04-24T21:02:58.520Z"
   },
   {
    "duration": 411,
    "start_time": "2022-04-24T21:02:58.533Z"
   },
   {
    "duration": 120,
    "start_time": "2022-04-24T21:02:58.946Z"
   },
   {
    "duration": 102,
    "start_time": "2022-04-24T21:03:41.912Z"
   },
   {
    "duration": 672,
    "start_time": "2022-04-24T21:05:25.478Z"
   },
   {
    "duration": 528,
    "start_time": "2022-04-24T21:05:49.378Z"
   },
   {
    "duration": 1591,
    "start_time": "2022-04-24T21:06:18.582Z"
   },
   {
    "duration": 910,
    "start_time": "2022-04-24T21:06:20.175Z"
   },
   {
    "duration": 32,
    "start_time": "2022-04-24T21:06:21.087Z"
   },
   {
    "duration": 30,
    "start_time": "2022-04-24T21:06:21.122Z"
   },
   {
    "duration": 45,
    "start_time": "2022-04-24T21:06:21.154Z"
   },
   {
    "duration": 22,
    "start_time": "2022-04-24T21:06:21.201Z"
   },
   {
    "duration": 15,
    "start_time": "2022-04-24T21:06:21.225Z"
   },
   {
    "duration": 16,
    "start_time": "2022-04-24T21:06:21.242Z"
   },
   {
    "duration": 3,
    "start_time": "2022-04-24T21:06:21.260Z"
   },
   {
    "duration": 42,
    "start_time": "2022-04-24T21:06:21.265Z"
   },
   {
    "duration": 4,
    "start_time": "2022-04-24T21:06:21.309Z"
   },
   {
    "duration": 7,
    "start_time": "2022-04-24T21:06:21.315Z"
   },
   {
    "duration": 7,
    "start_time": "2022-04-24T21:06:21.323Z"
   },
   {
    "duration": 9,
    "start_time": "2022-04-24T21:06:21.332Z"
   },
   {
    "duration": 8,
    "start_time": "2022-04-24T21:06:21.342Z"
   },
   {
    "duration": 7,
    "start_time": "2022-04-24T21:06:21.352Z"
   },
   {
    "duration": 52,
    "start_time": "2022-04-24T21:06:21.361Z"
   },
   {
    "duration": 14,
    "start_time": "2022-04-24T21:06:21.415Z"
   },
   {
    "duration": 408,
    "start_time": "2022-04-24T21:06:21.431Z"
   },
   {
    "duration": 474,
    "start_time": "2022-04-24T21:06:21.841Z"
   },
   {
    "duration": 124,
    "start_time": "2022-04-24T21:08:47.431Z"
   },
   {
    "duration": 388,
    "start_time": "2022-04-24T21:10:42.243Z"
   },
   {
    "duration": 482,
    "start_time": "2022-04-24T21:11:02.679Z"
   },
   {
    "duration": 403,
    "start_time": "2022-04-24T21:11:08.836Z"
   },
   {
    "duration": 480,
    "start_time": "2022-04-24T21:12:03.613Z"
   },
   {
    "duration": 401,
    "start_time": "2022-04-24T21:12:15.013Z"
   },
   {
    "duration": 408,
    "start_time": "2022-04-24T21:14:23.345Z"
   },
   {
    "duration": 156,
    "start_time": "2022-04-24T21:16:17.228Z"
   },
   {
    "duration": 498,
    "start_time": "2022-04-24T21:19:43.469Z"
   },
   {
    "duration": 539,
    "start_time": "2022-04-24T21:20:08.710Z"
   },
   {
    "duration": 484,
    "start_time": "2022-04-24T21:20:20.021Z"
   },
   {
    "duration": 504,
    "start_time": "2022-04-24T21:20:32.258Z"
   },
   {
    "duration": 512,
    "start_time": "2022-04-24T21:20:46.978Z"
   },
   {
    "duration": 502,
    "start_time": "2022-04-24T21:21:01.718Z"
   },
   {
    "duration": 496,
    "start_time": "2022-04-24T21:21:31.431Z"
   },
   {
    "duration": 554,
    "start_time": "2022-04-24T21:21:42.380Z"
   },
   {
    "duration": 469,
    "start_time": "2022-04-24T21:22:44.546Z"
   },
   {
    "duration": 529,
    "start_time": "2022-04-24T21:22:58.696Z"
   },
   {
    "duration": 508,
    "start_time": "2022-04-24T21:23:16.122Z"
   },
   {
    "duration": 10,
    "start_time": "2022-04-24T21:23:35.720Z"
   },
   {
    "duration": 677,
    "start_time": "2022-04-24T21:23:46.342Z"
   },
   {
    "duration": 490,
    "start_time": "2022-04-24T21:30:38.031Z"
   },
   {
    "duration": 541,
    "start_time": "2022-04-24T21:31:25.969Z"
   },
   {
    "duration": 503,
    "start_time": "2022-04-24T21:33:41.810Z"
   },
   {
    "duration": 509,
    "start_time": "2022-04-24T21:36:51.014Z"
   },
   {
    "duration": 552,
    "start_time": "2022-04-24T21:37:27.568Z"
   },
   {
    "duration": 518,
    "start_time": "2022-04-24T21:37:29.207Z"
   },
   {
    "duration": 1772,
    "start_time": "2022-04-26T16:11:11.899Z"
   },
   {
    "duration": 2154,
    "start_time": "2022-04-26T16:11:13.673Z"
   },
   {
    "duration": 24,
    "start_time": "2022-04-26T16:11:15.829Z"
   },
   {
    "duration": 19,
    "start_time": "2022-04-26T16:11:15.855Z"
   },
   {
    "duration": 21,
    "start_time": "2022-04-26T16:11:15.875Z"
   },
   {
    "duration": 19,
    "start_time": "2022-04-26T16:11:15.898Z"
   },
   {
    "duration": 11,
    "start_time": "2022-04-26T16:11:15.919Z"
   },
   {
    "duration": 37,
    "start_time": "2022-04-26T16:11:15.932Z"
   },
   {
    "duration": 5,
    "start_time": "2022-04-26T16:11:15.971Z"
   },
   {
    "duration": 23,
    "start_time": "2022-04-26T16:11:15.979Z"
   },
   {
    "duration": 6,
    "start_time": "2022-04-26T16:11:16.003Z"
   },
   {
    "duration": 6,
    "start_time": "2022-04-26T16:11:16.011Z"
   },
   {
    "duration": 40,
    "start_time": "2022-04-26T16:11:16.018Z"
   },
   {
    "duration": 13,
    "start_time": "2022-04-26T16:11:16.060Z"
   },
   {
    "duration": 19,
    "start_time": "2022-04-26T16:11:16.076Z"
   },
   {
    "duration": 8,
    "start_time": "2022-04-26T16:11:16.098Z"
   },
   {
    "duration": 21,
    "start_time": "2022-04-26T16:11:16.108Z"
   },
   {
    "duration": 34,
    "start_time": "2022-04-26T16:11:16.131Z"
   },
   {
    "duration": 636,
    "start_time": "2022-04-26T16:11:16.167Z"
   },
   {
    "duration": 589,
    "start_time": "2022-04-26T16:11:16.805Z"
   },
   {
    "duration": 3,
    "start_time": "2022-04-26T17:19:34.691Z"
   },
   {
    "duration": 5,
    "start_time": "2022-04-26T17:19:45.995Z"
   },
   {
    "duration": 111,
    "start_time": "2022-04-26T17:23:07.466Z"
   },
   {
    "duration": 5,
    "start_time": "2022-04-26T17:24:53.482Z"
   },
   {
    "duration": 6,
    "start_time": "2022-04-26T17:26:48.292Z"
   },
   {
    "duration": 5,
    "start_time": "2022-04-26T17:27:23.992Z"
   },
   {
    "duration": 5,
    "start_time": "2022-04-26T17:27:32.030Z"
   },
   {
    "duration": 4,
    "start_time": "2022-04-26T17:27:56.045Z"
   },
   {
    "duration": 1566,
    "start_time": "2022-04-26T17:28:03.829Z"
   },
   {
    "duration": 625,
    "start_time": "2022-04-26T17:28:05.397Z"
   },
   {
    "duration": 31,
    "start_time": "2022-04-26T17:28:06.024Z"
   },
   {
    "duration": 19,
    "start_time": "2022-04-26T17:28:06.058Z"
   },
   {
    "duration": 31,
    "start_time": "2022-04-26T17:28:06.078Z"
   },
   {
    "duration": 19,
    "start_time": "2022-04-26T17:28:06.110Z"
   },
   {
    "duration": 29,
    "start_time": "2022-04-26T17:28:06.131Z"
   },
   {
    "duration": 17,
    "start_time": "2022-04-26T17:28:06.162Z"
   },
   {
    "duration": 6,
    "start_time": "2022-04-26T17:28:06.180Z"
   },
   {
    "duration": 15,
    "start_time": "2022-04-26T17:28:06.188Z"
   },
   {
    "duration": 6,
    "start_time": "2022-04-26T17:28:06.205Z"
   },
   {
    "duration": 5,
    "start_time": "2022-04-26T17:28:06.212Z"
   },
   {
    "duration": 39,
    "start_time": "2022-04-26T17:28:06.219Z"
   },
   {
    "duration": 18,
    "start_time": "2022-04-26T17:28:06.260Z"
   },
   {
    "duration": 14,
    "start_time": "2022-04-26T17:28:06.279Z"
   },
   {
    "duration": 7,
    "start_time": "2022-04-26T17:28:06.295Z"
   },
   {
    "duration": 23,
    "start_time": "2022-04-26T17:28:06.304Z"
   },
   {
    "duration": 35,
    "start_time": "2022-04-26T17:28:06.329Z"
   },
   {
    "duration": 623,
    "start_time": "2022-04-26T17:28:06.366Z"
   },
   {
    "duration": 510,
    "start_time": "2022-04-26T17:28:06.991Z"
   },
   {
    "duration": 114,
    "start_time": "2022-04-26T17:28:07.502Z"
   },
   {
    "duration": 5,
    "start_time": "2022-04-26T17:28:20.570Z"
   },
   {
    "duration": 5,
    "start_time": "2022-04-26T17:28:38.402Z"
   },
   {
    "duration": 5,
    "start_time": "2022-04-26T17:29:14.802Z"
   },
   {
    "duration": 28,
    "start_time": "2022-04-26T17:29:23.513Z"
   },
   {
    "duration": 20,
    "start_time": "2022-04-26T17:37:08.767Z"
   },
   {
    "duration": 18,
    "start_time": "2022-04-26T17:46:54.194Z"
   },
   {
    "duration": 19,
    "start_time": "2022-04-26T17:47:39.558Z"
   },
   {
    "duration": 19,
    "start_time": "2022-04-26T17:47:41.249Z"
   },
   {
    "duration": 24,
    "start_time": "2022-04-26T17:49:02.670Z"
   },
   {
    "duration": 12,
    "start_time": "2022-04-26T17:50:33.369Z"
   },
   {
    "duration": 4,
    "start_time": "2022-04-26T17:50:58.192Z"
   },
   {
    "duration": 2346,
    "start_time": "2022-04-26T17:51:10.297Z"
   },
   {
    "duration": 1583,
    "start_time": "2022-04-26T17:51:25.686Z"
   },
   {
    "duration": 691,
    "start_time": "2022-04-26T17:51:27.271Z"
   },
   {
    "duration": 24,
    "start_time": "2022-04-26T17:51:27.964Z"
   },
   {
    "duration": 19,
    "start_time": "2022-04-26T17:51:27.991Z"
   },
   {
    "duration": 43,
    "start_time": "2022-04-26T17:51:28.012Z"
   },
   {
    "duration": 18,
    "start_time": "2022-04-26T17:51:28.057Z"
   },
   {
    "duration": 19,
    "start_time": "2022-04-26T17:51:28.077Z"
   },
   {
    "duration": 27,
    "start_time": "2022-04-26T17:51:28.099Z"
   },
   {
    "duration": 34,
    "start_time": "2022-04-26T17:51:28.128Z"
   },
   {
    "duration": 17,
    "start_time": "2022-04-26T17:51:28.164Z"
   },
   {
    "duration": 6,
    "start_time": "2022-04-26T17:51:28.183Z"
   },
   {
    "duration": 7,
    "start_time": "2022-04-26T17:51:28.191Z"
   },
   {
    "duration": 12,
    "start_time": "2022-04-26T17:51:28.200Z"
   },
   {
    "duration": 41,
    "start_time": "2022-04-26T17:51:28.214Z"
   },
   {
    "duration": 13,
    "start_time": "2022-04-26T17:51:28.257Z"
   },
   {
    "duration": 11,
    "start_time": "2022-04-26T17:51:28.272Z"
   },
   {
    "duration": 26,
    "start_time": "2022-04-26T17:51:28.285Z"
   },
   {
    "duration": 50,
    "start_time": "2022-04-26T17:51:28.313Z"
   },
   {
    "duration": 648,
    "start_time": "2022-04-26T17:51:28.366Z"
   },
   {
    "duration": 590,
    "start_time": "2022-04-26T17:51:29.016Z"
   },
   {
    "duration": 6,
    "start_time": "2022-04-26T17:51:29.608Z"
   },
   {
    "duration": 18,
    "start_time": "2022-04-26T17:51:29.616Z"
   },
   {
    "duration": 36,
    "start_time": "2022-04-26T17:51:29.636Z"
   },
   {
    "duration": 2616,
    "start_time": "2022-04-26T17:51:39.695Z"
   },
   {
    "duration": 1546,
    "start_time": "2022-04-26T17:51:51.461Z"
   },
   {
    "duration": 698,
    "start_time": "2022-04-26T17:51:53.009Z"
   },
   {
    "duration": 23,
    "start_time": "2022-04-26T17:51:53.710Z"
   },
   {
    "duration": 29,
    "start_time": "2022-04-26T17:51:53.735Z"
   },
   {
    "duration": 23,
    "start_time": "2022-04-26T17:51:53.766Z"
   },
   {
    "duration": 27,
    "start_time": "2022-04-26T17:51:53.790Z"
   },
   {
    "duration": 12,
    "start_time": "2022-04-26T17:51:53.818Z"
   },
   {
    "duration": 29,
    "start_time": "2022-04-26T17:51:53.831Z"
   },
   {
    "duration": 4,
    "start_time": "2022-04-26T17:51:53.862Z"
   },
   {
    "duration": 32,
    "start_time": "2022-04-26T17:51:53.869Z"
   },
   {
    "duration": 21,
    "start_time": "2022-04-26T17:51:53.903Z"
   },
   {
    "duration": 15,
    "start_time": "2022-04-26T17:51:53.925Z"
   },
   {
    "duration": 23,
    "start_time": "2022-04-26T17:51:53.942Z"
   },
   {
    "duration": 15,
    "start_time": "2022-04-26T17:51:53.967Z"
   },
   {
    "duration": 14,
    "start_time": "2022-04-26T17:51:53.983Z"
   },
   {
    "duration": 32,
    "start_time": "2022-04-26T17:51:53.998Z"
   },
   {
    "duration": 35,
    "start_time": "2022-04-26T17:51:54.031Z"
   },
   {
    "duration": 10,
    "start_time": "2022-04-26T17:51:54.068Z"
   },
   {
    "duration": 557,
    "start_time": "2022-04-26T17:51:54.080Z"
   },
   {
    "duration": 572,
    "start_time": "2022-04-26T17:51:54.639Z"
   },
   {
    "duration": 6,
    "start_time": "2022-04-26T17:51:55.213Z"
   },
   {
    "duration": 26,
    "start_time": "2022-04-26T17:51:55.220Z"
   },
   {
    "duration": 21,
    "start_time": "2022-04-26T17:51:55.255Z"
   },
   {
    "duration": 6,
    "start_time": "2022-04-26T17:53:44.630Z"
   },
   {
    "duration": 130,
    "start_time": "2022-04-26T17:53:54.031Z"
   },
   {
    "duration": 208,
    "start_time": "2022-04-26T17:55:28.130Z"
   },
   {
    "duration": 158,
    "start_time": "2022-04-26T17:55:40.641Z"
   },
   {
    "duration": 250,
    "start_time": "2022-04-26T17:56:11.516Z"
   },
   {
    "duration": 417,
    "start_time": "2022-04-26T17:56:41.085Z"
   },
   {
    "duration": 276,
    "start_time": "2022-04-26T17:56:48.431Z"
   },
   {
    "duration": 281,
    "start_time": "2022-04-26T17:57:49.422Z"
   },
   {
    "duration": 180,
    "start_time": "2022-04-26T18:05:10.516Z"
   },
   {
    "duration": 196,
    "start_time": "2022-04-26T18:10:03.208Z"
   },
   {
    "duration": 1697,
    "start_time": "2022-04-28T17:10:26.679Z"
   },
   {
    "duration": 654,
    "start_time": "2022-04-28T17:10:28.378Z"
   },
   {
    "duration": 24,
    "start_time": "2022-04-28T17:10:29.034Z"
   },
   {
    "duration": 33,
    "start_time": "2022-04-28T17:10:29.061Z"
   },
   {
    "duration": 19,
    "start_time": "2022-04-28T17:10:29.096Z"
   },
   {
    "duration": 20,
    "start_time": "2022-04-28T17:10:29.117Z"
   },
   {
    "duration": 15,
    "start_time": "2022-04-28T17:10:29.139Z"
   },
   {
    "duration": 42,
    "start_time": "2022-04-28T17:10:29.156Z"
   },
   {
    "duration": 6,
    "start_time": "2022-04-28T17:10:29.200Z"
   },
   {
    "duration": 15,
    "start_time": "2022-04-28T17:10:29.210Z"
   },
   {
    "duration": 6,
    "start_time": "2022-04-28T17:10:29.227Z"
   },
   {
    "duration": 8,
    "start_time": "2022-04-28T17:10:29.235Z"
   },
   {
    "duration": 48,
    "start_time": "2022-04-28T17:10:29.245Z"
   },
   {
    "duration": 8,
    "start_time": "2022-04-28T17:10:29.295Z"
   },
   {
    "duration": 11,
    "start_time": "2022-04-28T17:10:29.304Z"
   },
   {
    "duration": 7,
    "start_time": "2022-04-28T17:10:29.317Z"
   },
   {
    "duration": 18,
    "start_time": "2022-04-28T17:10:29.325Z"
   },
   {
    "duration": 51,
    "start_time": "2022-04-28T17:10:29.344Z"
   },
   {
    "duration": 695,
    "start_time": "2022-04-28T17:10:29.397Z"
   },
   {
    "duration": 584,
    "start_time": "2022-04-28T17:10:30.094Z"
   },
   {
    "duration": 12,
    "start_time": "2022-04-28T17:10:30.680Z"
   },
   {
    "duration": 14,
    "start_time": "2022-04-28T17:10:30.694Z"
   },
   {
    "duration": 30,
    "start_time": "2022-04-28T17:10:30.710Z"
   },
   {
    "duration": 197,
    "start_time": "2022-04-28T17:10:30.742Z"
   },
   {
    "duration": 222,
    "start_time": "2022-04-28T17:10:30.941Z"
   },
   {
    "duration": 222,
    "start_time": "2022-04-28T17:10:31.165Z"
   },
   {
    "duration": 8,
    "start_time": "2022-04-28T17:22:50.295Z"
   },
   {
    "duration": 26,
    "start_time": "2022-04-28T17:23:00.410Z"
   },
   {
    "duration": 8,
    "start_time": "2022-04-28T17:23:46.600Z"
   },
   {
    "duration": 7,
    "start_time": "2022-04-28T17:24:17.096Z"
   },
   {
    "duration": 7,
    "start_time": "2022-04-28T17:25:17.431Z"
   },
   {
    "duration": 8,
    "start_time": "2022-04-28T17:25:31.754Z"
   },
   {
    "duration": 6,
    "start_time": "2022-04-28T17:25:54.347Z"
   },
   {
    "duration": 3,
    "start_time": "2022-04-28T17:32:36.592Z"
   },
   {
    "duration": 365,
    "start_time": "2022-04-28T17:33:36.394Z"
   },
   {
    "duration": 188,
    "start_time": "2022-04-28T17:34:25.046Z"
   },
   {
    "duration": 172,
    "start_time": "2022-04-28T17:34:26.418Z"
   },
   {
    "duration": 195,
    "start_time": "2022-04-28T17:34:27.489Z"
   },
   {
    "duration": 168,
    "start_time": "2022-04-28T17:34:50.256Z"
   },
   {
    "duration": 170,
    "start_time": "2022-04-28T17:34:51.864Z"
   },
   {
    "duration": 177,
    "start_time": "2022-04-28T17:34:52.873Z"
   },
   {
    "duration": 1573,
    "start_time": "2022-04-28T17:35:00.075Z"
   },
   {
    "duration": 768,
    "start_time": "2022-04-28T17:35:01.650Z"
   },
   {
    "duration": 25,
    "start_time": "2022-04-28T17:35:02.419Z"
   },
   {
    "duration": 21,
    "start_time": "2022-04-28T17:35:02.447Z"
   },
   {
    "duration": 41,
    "start_time": "2022-04-28T17:35:02.469Z"
   },
   {
    "duration": 18,
    "start_time": "2022-04-28T17:35:02.512Z"
   },
   {
    "duration": 13,
    "start_time": "2022-04-28T17:35:02.532Z"
   },
   {
    "duration": 18,
    "start_time": "2022-04-28T17:35:02.547Z"
   },
   {
    "duration": 4,
    "start_time": "2022-04-28T17:35:02.593Z"
   },
   {
    "duration": 30,
    "start_time": "2022-04-28T17:35:02.601Z"
   },
   {
    "duration": 6,
    "start_time": "2022-04-28T17:35:02.633Z"
   },
   {
    "duration": 18,
    "start_time": "2022-04-28T17:35:02.640Z"
   },
   {
    "duration": 14,
    "start_time": "2022-04-28T17:35:02.660Z"
   },
   {
    "duration": 21,
    "start_time": "2022-04-28T17:35:02.677Z"
   },
   {
    "duration": 42,
    "start_time": "2022-04-28T17:35:02.700Z"
   },
   {
    "duration": 34,
    "start_time": "2022-04-28T17:35:02.744Z"
   },
   {
    "duration": 32,
    "start_time": "2022-04-28T17:35:02.780Z"
   },
   {
    "duration": 14,
    "start_time": "2022-04-28T17:35:02.814Z"
   },
   {
    "duration": 629,
    "start_time": "2022-04-28T17:35:02.830Z"
   },
   {
    "duration": 614,
    "start_time": "2022-04-28T17:35:03.462Z"
   },
   {
    "duration": 7,
    "start_time": "2022-04-28T17:35:04.078Z"
   },
   {
    "duration": 17,
    "start_time": "2022-04-28T17:35:04.094Z"
   },
   {
    "duration": 19,
    "start_time": "2022-04-28T17:35:04.113Z"
   },
   {
    "duration": 9,
    "start_time": "2022-04-28T17:35:04.134Z"
   },
   {
    "duration": 14,
    "start_time": "2022-04-28T17:35:04.144Z"
   },
   {
    "duration": 37,
    "start_time": "2022-04-28T17:35:04.160Z"
   },
   {
    "duration": 200,
    "start_time": "2022-04-28T17:35:04.199Z"
   },
   {
    "duration": 209,
    "start_time": "2022-04-28T17:35:04.403Z"
   },
   {
    "duration": 210,
    "start_time": "2022-04-28T17:35:04.614Z"
   },
   {
    "duration": 186,
    "start_time": "2022-04-28T17:35:04.827Z"
   },
   {
    "duration": 278,
    "start_time": "2022-04-28T17:35:05.015Z"
   },
   {
    "duration": 200,
    "start_time": "2022-04-28T17:35:05.295Z"
   },
   {
    "duration": 7,
    "start_time": "2022-04-28T17:39:04.051Z"
   },
   {
    "duration": 162,
    "start_time": "2022-04-28T17:39:05.249Z"
   },
   {
    "duration": 183,
    "start_time": "2022-04-28T17:39:06.610Z"
   },
   {
    "duration": 180,
    "start_time": "2022-04-28T17:39:08.001Z"
   },
   {
    "duration": 1891,
    "start_time": "2022-04-28T17:54:58.778Z"
   },
   {
    "duration": 677,
    "start_time": "2022-04-28T17:55:00.671Z"
   },
   {
    "duration": 26,
    "start_time": "2022-04-28T17:55:01.350Z"
   },
   {
    "duration": 30,
    "start_time": "2022-04-28T17:55:01.379Z"
   },
   {
    "duration": 34,
    "start_time": "2022-04-28T17:55:01.410Z"
   },
   {
    "duration": 31,
    "start_time": "2022-04-28T17:55:01.446Z"
   },
   {
    "duration": 15,
    "start_time": "2022-04-28T17:55:01.479Z"
   },
   {
    "duration": 34,
    "start_time": "2022-04-28T17:55:01.496Z"
   },
   {
    "duration": 5,
    "start_time": "2022-04-28T17:55:01.532Z"
   },
   {
    "duration": 20,
    "start_time": "2022-04-28T17:55:01.540Z"
   },
   {
    "duration": 16,
    "start_time": "2022-04-28T17:55:01.562Z"
   },
   {
    "duration": 18,
    "start_time": "2022-04-28T17:55:01.580Z"
   },
   {
    "duration": 13,
    "start_time": "2022-04-28T17:55:01.600Z"
   },
   {
    "duration": 17,
    "start_time": "2022-04-28T17:55:01.615Z"
   },
   {
    "duration": 24,
    "start_time": "2022-04-28T17:55:01.634Z"
   },
   {
    "duration": 10,
    "start_time": "2022-04-28T17:55:01.660Z"
   },
   {
    "duration": 25,
    "start_time": "2022-04-28T17:55:01.672Z"
   },
   {
    "duration": 13,
    "start_time": "2022-04-28T17:55:01.699Z"
   },
   {
    "duration": 570,
    "start_time": "2022-04-28T17:55:01.714Z"
   },
   {
    "duration": 575,
    "start_time": "2022-04-28T17:55:02.287Z"
   },
   {
    "duration": 6,
    "start_time": "2022-04-28T17:55:02.864Z"
   },
   {
    "duration": 28,
    "start_time": "2022-04-28T17:55:02.871Z"
   },
   {
    "duration": 20,
    "start_time": "2022-04-28T17:55:02.901Z"
   },
   {
    "duration": 8,
    "start_time": "2022-04-28T17:55:02.923Z"
   },
   {
    "duration": 11,
    "start_time": "2022-04-28T17:55:02.933Z"
   },
   {
    "duration": 11,
    "start_time": "2022-04-28T17:55:02.946Z"
   },
   {
    "duration": 220,
    "start_time": "2022-04-28T17:55:02.959Z"
   },
   {
    "duration": 203,
    "start_time": "2022-04-28T17:55:03.183Z"
   },
   {
    "duration": 204,
    "start_time": "2022-04-28T17:55:03.392Z"
   },
   {
    "duration": 2,
    "start_time": "2022-04-28T17:55:03.598Z"
   },
   {
    "duration": 7,
    "start_time": "2022-04-28T17:55:03.602Z"
   },
   {
    "duration": 186,
    "start_time": "2022-04-28T17:55:03.611Z"
   },
   {
    "duration": 410,
    "start_time": "2022-04-28T17:55:03.799Z"
   },
   {
    "duration": 198,
    "start_time": "2022-04-28T17:55:04.211Z"
   },
   {
    "duration": 131,
    "start_time": "2022-04-28T17:55:04.410Z"
   },
   {
    "duration": 4,
    "start_time": "2022-04-28T17:56:10.682Z"
   },
   {
    "duration": 13,
    "start_time": "2022-04-28T17:57:00.493Z"
   },
   {
    "duration": 6,
    "start_time": "2022-04-28T17:57:16.470Z"
   },
   {
    "duration": 167,
    "start_time": "2022-04-28T17:57:17.301Z"
   },
   {
    "duration": 285,
    "start_time": "2022-04-28T17:57:21.062Z"
   },
   {
    "duration": 284,
    "start_time": "2022-04-28T17:57:25.113Z"
   },
   {
    "duration": 2328,
    "start_time": "2022-04-28T18:00:46.651Z"
   },
   {
    "duration": 1508,
    "start_time": "2022-04-28T18:01:16.938Z"
   },
   {
    "duration": 692,
    "start_time": "2022-04-28T18:01:18.448Z"
   },
   {
    "duration": 25,
    "start_time": "2022-04-28T18:01:19.141Z"
   },
   {
    "duration": 34,
    "start_time": "2022-04-28T18:01:19.168Z"
   },
   {
    "duration": 24,
    "start_time": "2022-04-28T18:01:19.205Z"
   },
   {
    "duration": 20,
    "start_time": "2022-04-28T18:01:19.231Z"
   },
   {
    "duration": 39,
    "start_time": "2022-04-28T18:01:19.254Z"
   },
   {
    "duration": 23,
    "start_time": "2022-04-28T18:01:19.296Z"
   },
   {
    "duration": 5,
    "start_time": "2022-04-28T18:01:19.320Z"
   },
   {
    "duration": 15,
    "start_time": "2022-04-28T18:01:19.326Z"
   },
   {
    "duration": 5,
    "start_time": "2022-04-28T18:01:19.343Z"
   },
   {
    "duration": 8,
    "start_time": "2022-04-28T18:01:19.350Z"
   },
   {
    "duration": 38,
    "start_time": "2022-04-28T18:01:19.360Z"
   },
   {
    "duration": 9,
    "start_time": "2022-04-28T18:01:19.401Z"
   },
   {
    "duration": 12,
    "start_time": "2022-04-28T18:01:19.412Z"
   },
   {
    "duration": 8,
    "start_time": "2022-04-28T18:01:19.425Z"
   },
   {
    "duration": 22,
    "start_time": "2022-04-28T18:01:19.434Z"
   },
   {
    "duration": 49,
    "start_time": "2022-04-28T18:01:19.457Z"
   },
   {
    "duration": 579,
    "start_time": "2022-04-28T18:01:19.507Z"
   },
   {
    "duration": 602,
    "start_time": "2022-04-28T18:01:20.092Z"
   },
   {
    "duration": 9,
    "start_time": "2022-04-28T18:01:20.696Z"
   },
   {
    "duration": 33,
    "start_time": "2022-04-28T18:01:20.707Z"
   },
   {
    "duration": 22,
    "start_time": "2022-04-28T18:01:20.742Z"
   },
   {
    "duration": 11,
    "start_time": "2022-04-28T18:01:20.766Z"
   },
   {
    "duration": 19,
    "start_time": "2022-04-28T18:01:20.779Z"
   },
   {
    "duration": 9,
    "start_time": "2022-04-28T18:01:20.800Z"
   },
   {
    "duration": 209,
    "start_time": "2022-04-28T18:01:20.811Z"
   },
   {
    "duration": 222,
    "start_time": "2022-04-28T18:01:21.022Z"
   },
   {
    "duration": 225,
    "start_time": "2022-04-28T18:01:21.247Z"
   },
   {
    "duration": 7,
    "start_time": "2022-04-28T18:01:21.474Z"
   },
   {
    "duration": 187,
    "start_time": "2022-04-28T18:01:21.483Z"
   },
   {
    "duration": 292,
    "start_time": "2022-04-28T18:01:21.672Z"
   },
   {
    "duration": 205,
    "start_time": "2022-04-28T18:01:21.966Z"
   },
   {
    "duration": 2397,
    "start_time": "2022-04-28T18:01:22.173Z"
   },
   {
    "duration": 9,
    "start_time": "2022-04-28T18:07:23.063Z"
   },
   {
    "duration": 9,
    "start_time": "2022-04-28T18:07:32.472Z"
   },
   {
    "duration": 1491,
    "start_time": "2022-04-28T18:07:43.824Z"
   },
   {
    "duration": 658,
    "start_time": "2022-04-28T18:07:45.317Z"
   },
   {
    "duration": 30,
    "start_time": "2022-04-28T18:07:45.977Z"
   },
   {
    "duration": 21,
    "start_time": "2022-04-28T18:07:46.009Z"
   },
   {
    "duration": 25,
    "start_time": "2022-04-28T18:07:46.031Z"
   },
   {
    "duration": 37,
    "start_time": "2022-04-28T18:07:46.058Z"
   },
   {
    "duration": 14,
    "start_time": "2022-04-28T18:07:46.096Z"
   },
   {
    "duration": 18,
    "start_time": "2022-04-28T18:07:46.112Z"
   },
   {
    "duration": 6,
    "start_time": "2022-04-28T18:07:46.131Z"
   },
   {
    "duration": 13,
    "start_time": "2022-04-28T18:07:46.140Z"
   },
   {
    "duration": 41,
    "start_time": "2022-04-28T18:07:46.155Z"
   },
   {
    "duration": 7,
    "start_time": "2022-04-28T18:07:46.198Z"
   },
   {
    "duration": 9,
    "start_time": "2022-04-28T18:07:46.206Z"
   },
   {
    "duration": 9,
    "start_time": "2022-04-28T18:07:46.217Z"
   },
   {
    "duration": 12,
    "start_time": "2022-04-28T18:07:46.228Z"
   },
   {
    "duration": 9,
    "start_time": "2022-04-28T18:07:46.241Z"
   },
   {
    "duration": 58,
    "start_time": "2022-04-28T18:07:46.252Z"
   },
   {
    "duration": 16,
    "start_time": "2022-04-28T18:07:46.312Z"
   },
   {
    "duration": 620,
    "start_time": "2022-04-28T18:07:46.330Z"
   },
   {
    "duration": 607,
    "start_time": "2022-04-28T18:07:46.951Z"
   },
   {
    "duration": 5,
    "start_time": "2022-04-28T18:07:47.560Z"
   },
   {
    "duration": 27,
    "start_time": "2022-04-28T18:07:47.567Z"
   },
   {
    "duration": 19,
    "start_time": "2022-04-28T18:07:47.595Z"
   },
   {
    "duration": 7,
    "start_time": "2022-04-28T18:07:47.616Z"
   },
   {
    "duration": 7,
    "start_time": "2022-04-28T18:07:47.624Z"
   },
   {
    "duration": 7,
    "start_time": "2022-04-28T18:07:47.632Z"
   },
   {
    "duration": 224,
    "start_time": "2022-04-28T18:07:47.641Z"
   },
   {
    "duration": 202,
    "start_time": "2022-04-28T18:07:47.868Z"
   },
   {
    "duration": 200,
    "start_time": "2022-04-28T18:07:48.071Z"
   },
   {
    "duration": 6,
    "start_time": "2022-04-28T18:07:48.273Z"
   },
   {
    "duration": 248,
    "start_time": "2022-04-28T18:07:48.292Z"
   },
   {
    "duration": 210,
    "start_time": "2022-04-28T18:07:48.542Z"
   },
   {
    "duration": 200,
    "start_time": "2022-04-28T18:07:48.754Z"
   },
   {
    "duration": 18,
    "start_time": "2022-04-28T18:07:48.956Z"
   },
   {
    "duration": 105,
    "start_time": "2022-04-28T18:09:43.000Z"
   },
   {
    "duration": 1542,
    "start_time": "2022-04-28T18:09:50.084Z"
   },
   {
    "duration": 667,
    "start_time": "2022-04-28T18:09:51.629Z"
   },
   {
    "duration": 24,
    "start_time": "2022-04-28T18:09:52.298Z"
   },
   {
    "duration": 28,
    "start_time": "2022-04-28T18:09:52.324Z"
   },
   {
    "duration": 20,
    "start_time": "2022-04-28T18:09:52.354Z"
   },
   {
    "duration": 33,
    "start_time": "2022-04-28T18:09:52.375Z"
   },
   {
    "duration": 12,
    "start_time": "2022-04-28T18:09:52.410Z"
   },
   {
    "duration": 20,
    "start_time": "2022-04-28T18:09:52.423Z"
   },
   {
    "duration": 5,
    "start_time": "2022-04-28T18:09:52.445Z"
   },
   {
    "duration": 42,
    "start_time": "2022-04-28T18:09:52.452Z"
   },
   {
    "duration": 6,
    "start_time": "2022-04-28T18:09:52.495Z"
   },
   {
    "duration": 8,
    "start_time": "2022-04-28T18:09:52.503Z"
   },
   {
    "duration": 11,
    "start_time": "2022-04-28T18:09:52.513Z"
   },
   {
    "duration": 9,
    "start_time": "2022-04-28T18:09:52.526Z"
   },
   {
    "duration": 18,
    "start_time": "2022-04-28T18:09:52.536Z"
   },
   {
    "duration": 9,
    "start_time": "2022-04-28T18:09:52.556Z"
   },
   {
    "duration": 22,
    "start_time": "2022-04-28T18:09:52.593Z"
   },
   {
    "duration": 16,
    "start_time": "2022-04-28T18:09:52.617Z"
   },
   {
    "duration": 897,
    "start_time": "2022-04-28T18:09:52.636Z"
   },
   {
    "duration": 628,
    "start_time": "2022-04-28T18:09:53.534Z"
   },
   {
    "duration": 6,
    "start_time": "2022-04-28T18:09:54.164Z"
   },
   {
    "duration": 25,
    "start_time": "2022-04-28T18:09:54.172Z"
   },
   {
    "duration": 23,
    "start_time": "2022-04-28T18:09:54.198Z"
   },
   {
    "duration": 9,
    "start_time": "2022-04-28T18:09:54.222Z"
   },
   {
    "duration": 9,
    "start_time": "2022-04-28T18:09:54.233Z"
   },
   {
    "duration": 7,
    "start_time": "2022-04-28T18:09:54.244Z"
   },
   {
    "duration": 197,
    "start_time": "2022-04-28T18:09:54.252Z"
   },
   {
    "duration": 209,
    "start_time": "2022-04-28T18:09:54.454Z"
   },
   {
    "duration": 210,
    "start_time": "2022-04-28T18:09:54.665Z"
   },
   {
    "duration": 16,
    "start_time": "2022-04-28T18:09:54.878Z"
   },
   {
    "duration": 15,
    "start_time": "2022-04-28T18:10:45.982Z"
   },
   {
    "duration": 6,
    "start_time": "2022-04-28T18:11:10.129Z"
   },
   {
    "duration": 8,
    "start_time": "2022-04-28T18:11:54.216Z"
   },
   {
    "duration": 118,
    "start_time": "2022-04-28T18:13:22.847Z"
   },
   {
    "duration": 6,
    "start_time": "2022-04-28T18:13:49.748Z"
   },
   {
    "duration": 270,
    "start_time": "2022-04-28T18:14:05.502Z"
   },
   {
    "duration": 5,
    "start_time": "2022-04-28T18:15:29.727Z"
   },
   {
    "duration": 9,
    "start_time": "2022-04-28T18:17:19.103Z"
   },
   {
    "duration": 8,
    "start_time": "2022-04-28T18:17:36.086Z"
   },
   {
    "duration": 1559,
    "start_time": "2022-04-28T18:17:55.402Z"
   },
   {
    "duration": 689,
    "start_time": "2022-04-28T18:17:56.963Z"
   },
   {
    "duration": 26,
    "start_time": "2022-04-28T18:17:57.654Z"
   },
   {
    "duration": 21,
    "start_time": "2022-04-28T18:17:57.692Z"
   },
   {
    "duration": 26,
    "start_time": "2022-04-28T18:17:57.715Z"
   },
   {
    "duration": 27,
    "start_time": "2022-04-28T18:17:57.743Z"
   },
   {
    "duration": 34,
    "start_time": "2022-04-28T18:17:57.773Z"
   },
   {
    "duration": 24,
    "start_time": "2022-04-28T18:17:57.809Z"
   },
   {
    "duration": 5,
    "start_time": "2022-04-28T18:17:57.836Z"
   },
   {
    "duration": 47,
    "start_time": "2022-04-28T18:17:57.846Z"
   },
   {
    "duration": 6,
    "start_time": "2022-04-28T18:17:57.896Z"
   },
   {
    "duration": 6,
    "start_time": "2022-04-28T18:17:57.904Z"
   },
   {
    "duration": 10,
    "start_time": "2022-04-28T18:17:57.912Z"
   },
   {
    "duration": 9,
    "start_time": "2022-04-28T18:17:57.924Z"
   },
   {
    "duration": 14,
    "start_time": "2022-04-28T18:17:57.935Z"
   },
   {
    "duration": 49,
    "start_time": "2022-04-28T18:17:57.951Z"
   },
   {
    "duration": 22,
    "start_time": "2022-04-28T18:17:58.002Z"
   },
   {
    "duration": 15,
    "start_time": "2022-04-28T18:17:58.025Z"
   },
   {
    "duration": 635,
    "start_time": "2022-04-28T18:17:58.042Z"
   },
   {
    "duration": 857,
    "start_time": "2022-04-28T18:17:58.680Z"
   },
   {
    "duration": 7,
    "start_time": "2022-04-28T18:17:59.539Z"
   },
   {
    "duration": 19,
    "start_time": "2022-04-28T18:17:59.548Z"
   },
   {
    "duration": 35,
    "start_time": "2022-04-28T18:17:59.569Z"
   },
   {
    "duration": 7,
    "start_time": "2022-04-28T18:17:59.605Z"
   },
   {
    "duration": 7,
    "start_time": "2022-04-28T18:17:59.614Z"
   },
   {
    "duration": 10,
    "start_time": "2022-04-28T18:17:59.622Z"
   },
   {
    "duration": 210,
    "start_time": "2022-04-28T18:17:59.633Z"
   },
   {
    "duration": 215,
    "start_time": "2022-04-28T18:17:59.846Z"
   },
   {
    "duration": 217,
    "start_time": "2022-04-28T18:18:00.062Z"
   },
   {
    "duration": 15,
    "start_time": "2022-04-28T18:18:00.280Z"
   },
   {
    "duration": 10,
    "start_time": "2022-04-28T18:18:00.296Z"
   },
   {
    "duration": 29,
    "start_time": "2022-04-28T18:18:00.308Z"
   },
   {
    "duration": 44,
    "start_time": "2022-04-28T18:22:05.948Z"
   },
   {
    "duration": 5,
    "start_time": "2022-04-28T18:28:33.724Z"
   },
   {
    "duration": 9,
    "start_time": "2022-04-28T18:29:18.019Z"
   },
   {
    "duration": 3,
    "start_time": "2022-04-28T18:29:46.962Z"
   },
   {
    "duration": 7,
    "start_time": "2022-04-28T18:30:43.936Z"
   },
   {
    "duration": 1610,
    "start_time": "2022-04-28T18:30:51.148Z"
   },
   {
    "duration": 957,
    "start_time": "2022-04-28T18:30:52.760Z"
   },
   {
    "duration": 36,
    "start_time": "2022-04-28T18:30:53.719Z"
   },
   {
    "duration": 34,
    "start_time": "2022-04-28T18:30:53.758Z"
   },
   {
    "duration": 21,
    "start_time": "2022-04-28T18:30:53.794Z"
   },
   {
    "duration": 18,
    "start_time": "2022-04-28T18:30:53.816Z"
   },
   {
    "duration": 12,
    "start_time": "2022-04-28T18:30:53.835Z"
   },
   {
    "duration": 51,
    "start_time": "2022-04-28T18:30:53.849Z"
   },
   {
    "duration": 3,
    "start_time": "2022-04-28T18:30:53.902Z"
   },
   {
    "duration": 14,
    "start_time": "2022-04-28T18:30:53.908Z"
   },
   {
    "duration": 5,
    "start_time": "2022-04-28T18:30:53.923Z"
   },
   {
    "duration": 5,
    "start_time": "2022-04-28T18:30:53.930Z"
   },
   {
    "duration": 10,
    "start_time": "2022-04-28T18:30:53.937Z"
   },
   {
    "duration": 47,
    "start_time": "2022-04-28T18:30:53.949Z"
   },
   {
    "duration": 13,
    "start_time": "2022-04-28T18:30:53.998Z"
   },
   {
    "duration": 8,
    "start_time": "2022-04-28T18:30:54.012Z"
   },
   {
    "duration": 22,
    "start_time": "2022-04-28T18:30:54.021Z"
   },
   {
    "duration": 14,
    "start_time": "2022-04-28T18:30:54.045Z"
   },
   {
    "duration": 904,
    "start_time": "2022-04-28T18:30:54.094Z"
   },
   {
    "duration": 569,
    "start_time": "2022-04-28T18:30:55.000Z"
   },
   {
    "duration": 7,
    "start_time": "2022-04-28T18:30:55.570Z"
   },
   {
    "duration": 29,
    "start_time": "2022-04-28T18:30:55.579Z"
   },
   {
    "duration": 20,
    "start_time": "2022-04-28T18:30:55.610Z"
   },
   {
    "duration": 7,
    "start_time": "2022-04-28T18:30:55.632Z"
   },
   {
    "duration": 10,
    "start_time": "2022-04-28T18:30:55.640Z"
   },
   {
    "duration": 11,
    "start_time": "2022-04-28T18:30:55.651Z"
   },
   {
    "duration": 190,
    "start_time": "2022-04-28T18:30:55.693Z"
   },
   {
    "duration": 222,
    "start_time": "2022-04-28T18:30:55.893Z"
   },
   {
    "duration": 201,
    "start_time": "2022-04-28T18:30:56.117Z"
   },
   {
    "duration": 9,
    "start_time": "2022-04-28T18:30:56.319Z"
   },
   {
    "duration": 6,
    "start_time": "2022-04-28T18:30:56.330Z"
   },
   {
    "duration": 9,
    "start_time": "2022-04-28T18:30:56.338Z"
   },
   {
    "duration": 5,
    "start_time": "2022-04-28T18:30:56.349Z"
   },
   {
    "duration": 38,
    "start_time": "2022-04-28T18:30:56.356Z"
   },
   {
    "duration": 2,
    "start_time": "2022-04-28T18:56:10.299Z"
   },
   {
    "duration": 103,
    "start_time": "2022-04-28T20:01:10.563Z"
   },
   {
    "duration": 3,
    "start_time": "2022-04-28T20:01:55.793Z"
   },
   {
    "duration": 9,
    "start_time": "2022-04-28T20:02:06.147Z"
   },
   {
    "duration": 3,
    "start_time": "2022-04-28T20:02:14.198Z"
   },
   {
    "duration": 3,
    "start_time": "2022-04-28T20:02:15.207Z"
   },
   {
    "duration": 3,
    "start_time": "2022-04-28T20:02:16.149Z"
   },
   {
    "duration": 2176,
    "start_time": "2022-04-29T09:30:49.465Z"
   },
   {
    "duration": 4,
    "start_time": "2022-04-29T09:31:40.730Z"
   },
   {
    "duration": 1467,
    "start_time": "2022-04-29T09:34:43.811Z"
   },
   {
    "duration": 862,
    "start_time": "2022-04-29T09:34:45.280Z"
   },
   {
    "duration": 44,
    "start_time": "2022-04-29T09:34:46.144Z"
   },
   {
    "duration": 18,
    "start_time": "2022-04-29T09:34:46.190Z"
   },
   {
    "duration": 25,
    "start_time": "2022-04-29T09:34:46.210Z"
   },
   {
    "duration": 26,
    "start_time": "2022-04-29T09:34:46.238Z"
   },
   {
    "duration": 18,
    "start_time": "2022-04-29T09:34:46.266Z"
   },
   {
    "duration": 35,
    "start_time": "2022-04-29T09:34:46.289Z"
   },
   {
    "duration": 4,
    "start_time": "2022-04-29T09:34:46.327Z"
   },
   {
    "duration": 23,
    "start_time": "2022-04-29T09:34:46.334Z"
   },
   {
    "duration": 8,
    "start_time": "2022-04-29T09:34:46.358Z"
   },
   {
    "duration": 17,
    "start_time": "2022-04-29T09:34:46.373Z"
   },
   {
    "duration": 8,
    "start_time": "2022-04-29T09:34:46.392Z"
   },
   {
    "duration": 44,
    "start_time": "2022-04-29T09:34:46.402Z"
   },
   {
    "duration": 17,
    "start_time": "2022-04-29T09:34:46.457Z"
   },
   {
    "duration": 11,
    "start_time": "2022-04-29T09:34:46.476Z"
   },
   {
    "duration": 21,
    "start_time": "2022-04-29T09:34:46.489Z"
   },
   {
    "duration": 25,
    "start_time": "2022-04-29T09:34:46.512Z"
   },
   {
    "duration": 1127,
    "start_time": "2022-04-29T09:34:46.539Z"
   },
   {
    "duration": 733,
    "start_time": "2022-04-29T09:34:47.670Z"
   },
   {
    "duration": 5,
    "start_time": "2022-04-29T09:34:48.405Z"
   },
   {
    "duration": 36,
    "start_time": "2022-04-29T09:34:48.412Z"
   },
   {
    "duration": 33,
    "start_time": "2022-04-29T09:34:48.450Z"
   },
   {
    "duration": 8,
    "start_time": "2022-04-29T09:34:48.485Z"
   },
   {
    "duration": 7,
    "start_time": "2022-04-29T09:34:48.495Z"
   },
   {
    "duration": 29,
    "start_time": "2022-04-29T09:34:48.503Z"
   },
   {
    "duration": 347,
    "start_time": "2022-04-29T09:34:48.534Z"
   },
   {
    "duration": 0,
    "start_time": "2022-04-29T09:34:48.885Z"
   },
   {
    "duration": 0,
    "start_time": "2022-04-29T09:34:48.886Z"
   },
   {
    "duration": 0,
    "start_time": "2022-04-29T09:34:48.888Z"
   },
   {
    "duration": 0,
    "start_time": "2022-04-29T09:34:48.889Z"
   },
   {
    "duration": 0,
    "start_time": "2022-04-29T09:34:48.890Z"
   },
   {
    "duration": 0,
    "start_time": "2022-04-29T09:34:48.892Z"
   },
   {
    "duration": 0,
    "start_time": "2022-04-29T09:34:48.893Z"
   },
   {
    "duration": 0,
    "start_time": "2022-04-29T09:34:48.894Z"
   },
   {
    "duration": 0,
    "start_time": "2022-04-29T09:34:48.895Z"
   },
   {
    "duration": 0,
    "start_time": "2022-04-29T09:34:48.897Z"
   },
   {
    "duration": 22,
    "start_time": "2022-04-29T09:35:28.235Z"
   },
   {
    "duration": 1264,
    "start_time": "2022-04-30T17:37:49.334Z"
   },
   {
    "duration": 637,
    "start_time": "2022-04-30T17:37:50.600Z"
   },
   {
    "duration": 31,
    "start_time": "2022-04-30T17:37:51.239Z"
   },
   {
    "duration": 21,
    "start_time": "2022-04-30T17:37:51.272Z"
   },
   {
    "duration": 19,
    "start_time": "2022-04-30T17:37:51.294Z"
   },
   {
    "duration": 42,
    "start_time": "2022-04-30T17:37:51.315Z"
   },
   {
    "duration": 15,
    "start_time": "2022-04-30T17:37:51.359Z"
   },
   {
    "duration": 24,
    "start_time": "2022-04-30T17:37:51.376Z"
   },
   {
    "duration": 4,
    "start_time": "2022-04-30T17:37:51.403Z"
   },
   {
    "duration": 45,
    "start_time": "2022-04-30T17:37:51.411Z"
   },
   {
    "duration": 6,
    "start_time": "2022-04-30T17:37:51.458Z"
   },
   {
    "duration": 10,
    "start_time": "2022-04-30T17:37:51.466Z"
   },
   {
    "duration": 10,
    "start_time": "2022-04-30T17:37:51.477Z"
   },
   {
    "duration": 11,
    "start_time": "2022-04-30T17:37:51.489Z"
   },
   {
    "duration": 16,
    "start_time": "2022-04-30T17:37:51.502Z"
   },
   {
    "duration": 36,
    "start_time": "2022-04-30T17:37:51.520Z"
   },
   {
    "duration": 20,
    "start_time": "2022-04-30T17:37:51.558Z"
   },
   {
    "duration": 12,
    "start_time": "2022-04-30T17:37:51.580Z"
   },
   {
    "duration": 1505,
    "start_time": "2022-04-30T17:37:51.594Z"
   },
   {
    "duration": 797,
    "start_time": "2022-04-30T17:37:53.101Z"
   },
   {
    "duration": 6,
    "start_time": "2022-04-30T17:37:53.900Z"
   },
   {
    "duration": 21,
    "start_time": "2022-04-30T17:37:53.908Z"
   },
   {
    "duration": 35,
    "start_time": "2022-04-30T17:37:53.930Z"
   },
   {
    "duration": 7,
    "start_time": "2022-04-30T17:37:53.967Z"
   },
   {
    "duration": 13,
    "start_time": "2022-04-30T17:37:53.976Z"
   },
   {
    "duration": 8,
    "start_time": "2022-04-30T17:37:53.991Z"
   },
   {
    "duration": 288,
    "start_time": "2022-04-30T17:37:54.001Z"
   },
   {
    "duration": 0,
    "start_time": "2022-04-30T17:37:54.291Z"
   },
   {
    "duration": 0,
    "start_time": "2022-04-30T17:37:54.292Z"
   },
   {
    "duration": 0,
    "start_time": "2022-04-30T17:37:54.293Z"
   },
   {
    "duration": 0,
    "start_time": "2022-04-30T17:37:54.295Z"
   },
   {
    "duration": 0,
    "start_time": "2022-04-30T17:37:54.296Z"
   },
   {
    "duration": 0,
    "start_time": "2022-04-30T17:37:54.297Z"
   },
   {
    "duration": 0,
    "start_time": "2022-04-30T17:37:54.298Z"
   },
   {
    "duration": 0,
    "start_time": "2022-04-30T17:37:54.300Z"
   },
   {
    "duration": 0,
    "start_time": "2022-04-30T17:37:54.301Z"
   },
   {
    "duration": 0,
    "start_time": "2022-04-30T17:37:54.302Z"
   },
   {
    "duration": 1748,
    "start_time": "2022-04-30T17:38:48.692Z"
   },
   {
    "duration": 891,
    "start_time": "2022-04-30T17:38:50.443Z"
   },
   {
    "duration": 40,
    "start_time": "2022-04-30T17:38:51.336Z"
   },
   {
    "duration": 19,
    "start_time": "2022-04-30T17:38:51.378Z"
   },
   {
    "duration": 38,
    "start_time": "2022-04-30T17:38:51.400Z"
   },
   {
    "duration": 49,
    "start_time": "2022-04-30T17:38:51.440Z"
   },
   {
    "duration": 21,
    "start_time": "2022-04-30T17:38:51.491Z"
   },
   {
    "duration": 37,
    "start_time": "2022-04-30T17:38:51.514Z"
   },
   {
    "duration": 27,
    "start_time": "2022-04-30T17:38:51.553Z"
   },
   {
    "duration": 44,
    "start_time": "2022-04-30T17:38:51.582Z"
   },
   {
    "duration": 25,
    "start_time": "2022-04-30T17:38:51.628Z"
   },
   {
    "duration": 37,
    "start_time": "2022-04-30T17:38:51.655Z"
   },
   {
    "duration": 53,
    "start_time": "2022-04-30T17:38:51.694Z"
   },
   {
    "duration": 26,
    "start_time": "2022-04-30T17:38:51.751Z"
   },
   {
    "duration": 39,
    "start_time": "2022-04-30T17:38:51.779Z"
   },
   {
    "duration": 37,
    "start_time": "2022-04-30T17:38:51.819Z"
   },
   {
    "duration": 43,
    "start_time": "2022-04-30T17:38:51.858Z"
   },
   {
    "duration": 16,
    "start_time": "2022-04-30T17:38:51.903Z"
   },
   {
    "duration": 581,
    "start_time": "2022-04-30T17:38:51.921Z"
   },
   {
    "duration": 846,
    "start_time": "2022-04-30T17:38:52.503Z"
   },
   {
    "duration": 7,
    "start_time": "2022-04-30T17:38:53.351Z"
   },
   {
    "duration": 55,
    "start_time": "2022-04-30T17:38:53.360Z"
   },
   {
    "duration": 55,
    "start_time": "2022-04-30T17:38:53.417Z"
   },
   {
    "duration": 31,
    "start_time": "2022-04-30T17:38:53.474Z"
   },
   {
    "duration": 46,
    "start_time": "2022-04-30T17:38:53.508Z"
   },
   {
    "duration": 35,
    "start_time": "2022-04-30T17:38:53.555Z"
   },
   {
    "duration": 281,
    "start_time": "2022-04-30T17:38:53.592Z"
   },
   {
    "duration": 307,
    "start_time": "2022-04-30T17:38:53.875Z"
   },
   {
    "duration": 242,
    "start_time": "2022-04-30T17:38:54.185Z"
   },
   {
    "duration": 9,
    "start_time": "2022-04-30T17:38:54.429Z"
   },
   {
    "duration": 19,
    "start_time": "2022-04-30T17:38:54.440Z"
   },
   {
    "duration": 10,
    "start_time": "2022-04-30T17:38:54.461Z"
   },
   {
    "duration": 5,
    "start_time": "2022-04-30T17:38:54.473Z"
   },
   {
    "duration": 8,
    "start_time": "2022-04-30T17:38:54.480Z"
   },
   {
    "duration": 4,
    "start_time": "2022-04-30T17:38:54.490Z"
   },
   {
    "duration": 8,
    "start_time": "2022-04-30T17:38:54.496Z"
   },
   {
    "duration": 5,
    "start_time": "2022-04-30T17:38:54.505Z"
   },
   {
    "duration": 20,
    "start_time": "2022-04-30T17:44:06.980Z"
   },
   {
    "duration": 23,
    "start_time": "2022-04-30T17:44:56.983Z"
   },
   {
    "duration": 15,
    "start_time": "2022-04-30T17:45:26.814Z"
   },
   {
    "duration": 7,
    "start_time": "2022-04-30T17:46:04.943Z"
   },
   {
    "duration": 1544,
    "start_time": "2022-04-30T17:46:13.812Z"
   },
   {
    "duration": 745,
    "start_time": "2022-04-30T17:46:15.358Z"
   },
   {
    "duration": 32,
    "start_time": "2022-04-30T17:46:16.104Z"
   },
   {
    "duration": 51,
    "start_time": "2022-04-30T17:46:16.139Z"
   },
   {
    "duration": 28,
    "start_time": "2022-04-30T17:46:16.191Z"
   },
   {
    "duration": 61,
    "start_time": "2022-04-30T17:46:16.221Z"
   },
   {
    "duration": 36,
    "start_time": "2022-04-30T17:46:16.284Z"
   },
   {
    "duration": 55,
    "start_time": "2022-04-30T17:46:16.323Z"
   },
   {
    "duration": 9,
    "start_time": "2022-04-30T17:46:16.380Z"
   },
   {
    "duration": 43,
    "start_time": "2022-04-30T17:46:16.391Z"
   },
   {
    "duration": 27,
    "start_time": "2022-04-30T17:46:16.435Z"
   },
   {
    "duration": 34,
    "start_time": "2022-04-30T17:46:16.465Z"
   },
   {
    "duration": 50,
    "start_time": "2022-04-30T17:46:16.501Z"
   },
   {
    "duration": 79,
    "start_time": "2022-04-30T17:46:16.553Z"
   },
   {
    "duration": 31,
    "start_time": "2022-04-30T17:46:16.634Z"
   },
   {
    "duration": 47,
    "start_time": "2022-04-30T17:46:16.667Z"
   },
   {
    "duration": 48,
    "start_time": "2022-04-30T17:46:16.715Z"
   },
   {
    "duration": 42,
    "start_time": "2022-04-30T17:46:16.765Z"
   },
   {
    "duration": 54,
    "start_time": "2022-04-30T17:46:16.808Z"
   },
   {
    "duration": 38,
    "start_time": "2022-04-30T17:46:16.864Z"
   },
   {
    "duration": 626,
    "start_time": "2022-04-30T17:46:16.904Z"
   },
   {
    "duration": 639,
    "start_time": "2022-04-30T17:46:17.532Z"
   },
   {
    "duration": 6,
    "start_time": "2022-04-30T17:46:18.172Z"
   },
   {
    "duration": 21,
    "start_time": "2022-04-30T17:46:18.180Z"
   },
   {
    "duration": 20,
    "start_time": "2022-04-30T17:46:18.203Z"
   },
   {
    "duration": 8,
    "start_time": "2022-04-30T17:46:18.224Z"
   },
   {
    "duration": 7,
    "start_time": "2022-04-30T17:46:18.255Z"
   },
   {
    "duration": 13,
    "start_time": "2022-04-30T17:46:18.265Z"
   },
   {
    "duration": 277,
    "start_time": "2022-04-30T17:46:18.280Z"
   },
   {
    "duration": 295,
    "start_time": "2022-04-30T17:46:18.559Z"
   },
   {
    "duration": 290,
    "start_time": "2022-04-30T17:46:18.856Z"
   },
   {
    "duration": 8,
    "start_time": "2022-04-30T17:46:19.154Z"
   },
   {
    "duration": 24,
    "start_time": "2022-04-30T17:46:19.164Z"
   },
   {
    "duration": 24,
    "start_time": "2022-04-30T17:46:19.190Z"
   },
   {
    "duration": 10,
    "start_time": "2022-04-30T17:46:19.215Z"
   },
   {
    "duration": 32,
    "start_time": "2022-04-30T17:46:19.227Z"
   },
   {
    "duration": 40,
    "start_time": "2022-04-30T17:46:19.261Z"
   },
   {
    "duration": 24,
    "start_time": "2022-04-30T17:46:19.303Z"
   },
   {
    "duration": 26,
    "start_time": "2022-04-30T17:46:19.329Z"
   },
   {
    "duration": 15,
    "start_time": "2022-04-30T17:46:56.715Z"
   },
   {
    "duration": 1583,
    "start_time": "2022-04-30T17:47:45.658Z"
   },
   {
    "duration": 642,
    "start_time": "2022-04-30T17:47:47.243Z"
   },
   {
    "duration": 33,
    "start_time": "2022-04-30T17:47:47.887Z"
   },
   {
    "duration": 33,
    "start_time": "2022-04-30T17:47:47.923Z"
   },
   {
    "duration": 23,
    "start_time": "2022-04-30T17:47:47.958Z"
   },
   {
    "duration": 31,
    "start_time": "2022-04-30T17:47:47.985Z"
   },
   {
    "duration": 13,
    "start_time": "2022-04-30T17:47:48.018Z"
   },
   {
    "duration": 37,
    "start_time": "2022-04-30T17:47:48.032Z"
   },
   {
    "duration": 13,
    "start_time": "2022-04-30T17:47:48.071Z"
   },
   {
    "duration": 36,
    "start_time": "2022-04-30T17:47:48.087Z"
   },
   {
    "duration": 20,
    "start_time": "2022-04-30T17:47:48.125Z"
   },
   {
    "duration": 21,
    "start_time": "2022-04-30T17:47:48.146Z"
   },
   {
    "duration": 25,
    "start_time": "2022-04-30T17:47:48.169Z"
   },
   {
    "duration": 37,
    "start_time": "2022-04-30T17:47:48.195Z"
   },
   {
    "duration": 22,
    "start_time": "2022-04-30T17:47:48.234Z"
   },
   {
    "duration": 30,
    "start_time": "2022-04-30T17:47:48.257Z"
   },
   {
    "duration": 38,
    "start_time": "2022-04-30T17:47:48.289Z"
   },
   {
    "duration": 14,
    "start_time": "2022-04-30T17:47:48.329Z"
   },
   {
    "duration": 28,
    "start_time": "2022-04-30T17:47:48.345Z"
   },
   {
    "duration": 822,
    "start_time": "2022-04-30T17:47:48.376Z"
   },
   {
    "duration": 555,
    "start_time": "2022-04-30T17:47:49.200Z"
   },
   {
    "duration": 6,
    "start_time": "2022-04-30T17:47:49.757Z"
   },
   {
    "duration": 23,
    "start_time": "2022-04-30T17:47:49.764Z"
   },
   {
    "duration": 27,
    "start_time": "2022-04-30T17:47:49.788Z"
   },
   {
    "duration": 8,
    "start_time": "2022-04-30T17:47:49.817Z"
   },
   {
    "duration": 32,
    "start_time": "2022-04-30T17:47:49.827Z"
   },
   {
    "duration": 7,
    "start_time": "2022-04-30T17:47:49.860Z"
   },
   {
    "duration": 192,
    "start_time": "2022-04-30T17:47:49.870Z"
   },
   {
    "duration": 197,
    "start_time": "2022-04-30T17:47:50.064Z"
   },
   {
    "duration": 206,
    "start_time": "2022-04-30T17:47:50.263Z"
   },
   {
    "duration": 9,
    "start_time": "2022-04-30T17:47:50.470Z"
   },
   {
    "duration": 8,
    "start_time": "2022-04-30T17:47:50.480Z"
   },
   {
    "duration": 11,
    "start_time": "2022-04-30T17:47:50.489Z"
   },
   {
    "duration": 4,
    "start_time": "2022-04-30T17:47:50.502Z"
   },
   {
    "duration": 14,
    "start_time": "2022-04-30T17:47:50.507Z"
   },
   {
    "duration": 6,
    "start_time": "2022-04-30T17:47:50.522Z"
   },
   {
    "duration": 3,
    "start_time": "2022-04-30T17:47:50.555Z"
   },
   {
    "duration": 9,
    "start_time": "2022-04-30T17:47:50.559Z"
   },
   {
    "duration": 554,
    "start_time": "2022-04-30T18:34:42.818Z"
   },
   {
    "duration": 1444,
    "start_time": "2022-04-30T18:35:04.300Z"
   },
   {
    "duration": 648,
    "start_time": "2022-04-30T18:35:05.746Z"
   },
   {
    "duration": 24,
    "start_time": "2022-04-30T18:35:06.396Z"
   },
   {
    "duration": 39,
    "start_time": "2022-04-30T18:35:06.422Z"
   },
   {
    "duration": 53,
    "start_time": "2022-04-30T18:35:06.462Z"
   },
   {
    "duration": 36,
    "start_time": "2022-04-30T18:35:06.517Z"
   },
   {
    "duration": 51,
    "start_time": "2022-04-30T18:35:06.555Z"
   },
   {
    "duration": 40,
    "start_time": "2022-04-30T18:35:06.608Z"
   },
   {
    "duration": 13,
    "start_time": "2022-04-30T18:35:06.650Z"
   },
   {
    "duration": 61,
    "start_time": "2022-04-30T18:35:06.665Z"
   },
   {
    "duration": 10,
    "start_time": "2022-04-30T18:35:06.727Z"
   },
   {
    "duration": 33,
    "start_time": "2022-04-30T18:35:06.738Z"
   },
   {
    "duration": 18,
    "start_time": "2022-04-30T18:35:06.773Z"
   },
   {
    "duration": 33,
    "start_time": "2022-04-30T18:35:06.793Z"
   },
   {
    "duration": 29,
    "start_time": "2022-04-30T18:35:06.828Z"
   },
   {
    "duration": 16,
    "start_time": "2022-04-30T18:35:06.859Z"
   },
   {
    "duration": 34,
    "start_time": "2022-04-30T18:35:06.876Z"
   },
   {
    "duration": 14,
    "start_time": "2022-04-30T18:35:06.911Z"
   },
   {
    "duration": 25,
    "start_time": "2022-04-30T18:35:06.926Z"
   },
   {
    "duration": 564,
    "start_time": "2022-04-30T18:35:06.952Z"
   },
   {
    "duration": 605,
    "start_time": "2022-04-30T18:35:07.517Z"
   },
   {
    "duration": 6,
    "start_time": "2022-04-30T18:35:08.123Z"
   },
   {
    "duration": 47,
    "start_time": "2022-04-30T18:35:08.130Z"
   },
   {
    "duration": 34,
    "start_time": "2022-04-30T18:35:08.178Z"
   },
   {
    "duration": 8,
    "start_time": "2022-04-30T18:35:08.214Z"
   },
   {
    "duration": 23,
    "start_time": "2022-04-30T18:35:08.224Z"
   },
   {
    "duration": 19,
    "start_time": "2022-04-30T18:35:08.248Z"
   },
   {
    "duration": 185,
    "start_time": "2022-04-30T18:35:08.270Z"
   },
   {
    "duration": 202,
    "start_time": "2022-04-30T18:35:08.457Z"
   },
   {
    "duration": 207,
    "start_time": "2022-04-30T18:35:08.661Z"
   },
   {
    "duration": 8,
    "start_time": "2022-04-30T18:35:08.870Z"
   },
   {
    "duration": 51,
    "start_time": "2022-04-30T18:35:08.879Z"
   },
   {
    "duration": 30,
    "start_time": "2022-04-30T18:35:08.932Z"
   },
   {
    "duration": 17,
    "start_time": "2022-04-30T18:35:08.964Z"
   },
   {
    "duration": 20,
    "start_time": "2022-04-30T18:35:08.982Z"
   },
   {
    "duration": 23,
    "start_time": "2022-04-30T18:35:09.003Z"
   },
   {
    "duration": 13,
    "start_time": "2022-04-30T18:35:09.028Z"
   },
   {
    "duration": 37,
    "start_time": "2022-04-30T18:35:09.043Z"
   },
   {
    "duration": 596,
    "start_time": "2022-04-30T18:35:42.220Z"
   },
   {
    "duration": 13,
    "start_time": "2022-04-30T19:14:47.764Z"
   },
   {
    "duration": 6,
    "start_time": "2022-04-30T19:15:07.910Z"
   },
   {
    "duration": 6,
    "start_time": "2022-04-30T19:15:10.789Z"
   },
   {
    "duration": 1412,
    "start_time": "2022-04-30T19:15:18.898Z"
   },
   {
    "duration": 632,
    "start_time": "2022-04-30T19:15:20.312Z"
   },
   {
    "duration": 21,
    "start_time": "2022-04-30T19:15:20.945Z"
   },
   {
    "duration": 27,
    "start_time": "2022-04-30T19:15:20.968Z"
   },
   {
    "duration": 37,
    "start_time": "2022-04-30T19:15:20.996Z"
   },
   {
    "duration": 31,
    "start_time": "2022-04-30T19:15:21.034Z"
   },
   {
    "duration": 22,
    "start_time": "2022-04-30T19:15:21.067Z"
   },
   {
    "duration": 16,
    "start_time": "2022-04-30T19:15:21.090Z"
   },
   {
    "duration": 4,
    "start_time": "2022-04-30T19:15:21.107Z"
   },
   {
    "duration": 17,
    "start_time": "2022-04-30T19:15:21.114Z"
   },
   {
    "duration": 22,
    "start_time": "2022-04-30T19:15:21.133Z"
   },
   {
    "duration": 4,
    "start_time": "2022-04-30T19:15:21.156Z"
   },
   {
    "duration": 15,
    "start_time": "2022-04-30T19:15:21.162Z"
   },
   {
    "duration": 13,
    "start_time": "2022-04-30T19:15:21.179Z"
   },
   {
    "duration": 26,
    "start_time": "2022-04-30T19:15:21.193Z"
   },
   {
    "duration": 7,
    "start_time": "2022-04-30T19:15:21.220Z"
   },
   {
    "duration": 30,
    "start_time": "2022-04-30T19:15:21.229Z"
   },
   {
    "duration": 12,
    "start_time": "2022-04-30T19:15:21.261Z"
   },
   {
    "duration": 12,
    "start_time": "2022-04-30T19:15:21.275Z"
   },
   {
    "duration": 525,
    "start_time": "2022-04-30T19:15:21.288Z"
   },
   {
    "duration": 591,
    "start_time": "2022-04-30T19:15:21.815Z"
   },
   {
    "duration": 6,
    "start_time": "2022-04-30T19:15:22.408Z"
   },
   {
    "duration": 18,
    "start_time": "2022-04-30T19:15:22.415Z"
   },
   {
    "duration": 32,
    "start_time": "2022-04-30T19:15:22.434Z"
   },
   {
    "duration": 8,
    "start_time": "2022-04-30T19:15:22.467Z"
   },
   {
    "duration": 15,
    "start_time": "2022-04-30T19:15:22.476Z"
   },
   {
    "duration": 7,
    "start_time": "2022-04-30T19:15:22.492Z"
   },
   {
    "duration": 186,
    "start_time": "2022-04-30T19:15:22.502Z"
   },
   {
    "duration": 194,
    "start_time": "2022-04-30T19:15:22.690Z"
   },
   {
    "duration": 199,
    "start_time": "2022-04-30T19:15:22.886Z"
   },
   {
    "duration": 9,
    "start_time": "2022-04-30T19:15:23.087Z"
   },
   {
    "duration": 16,
    "start_time": "2022-04-30T19:15:23.098Z"
   },
   {
    "duration": 9,
    "start_time": "2022-04-30T19:15:23.115Z"
   },
   {
    "duration": 30,
    "start_time": "2022-04-30T19:15:23.125Z"
   },
   {
    "duration": 9,
    "start_time": "2022-04-30T19:15:23.157Z"
   },
   {
    "duration": 32,
    "start_time": "2022-04-30T19:15:23.167Z"
   },
   {
    "duration": 15,
    "start_time": "2022-04-30T19:15:23.200Z"
   },
   {
    "duration": 19,
    "start_time": "2022-04-30T19:15:23.217Z"
   },
   {
    "duration": 18,
    "start_time": "2022-04-30T19:15:23.238Z"
   },
   {
    "duration": 3,
    "start_time": "2022-04-30T19:27:51.105Z"
   },
   {
    "duration": 3,
    "start_time": "2022-04-30T19:33:27.991Z"
   },
   {
    "duration": 3,
    "start_time": "2022-04-30T19:33:44.557Z"
   },
   {
    "duration": 7,
    "start_time": "2022-04-30T19:35:22.433Z"
   },
   {
    "duration": 4,
    "start_time": "2022-04-30T19:37:45.967Z"
   },
   {
    "duration": 7,
    "start_time": "2022-04-30T19:42:40.461Z"
   },
   {
    "duration": 3,
    "start_time": "2022-04-30T19:43:22.877Z"
   },
   {
    "duration": 47,
    "start_time": "2022-04-30T20:07:57.345Z"
   },
   {
    "duration": 1451,
    "start_time": "2022-04-30T20:14:52.594Z"
   },
   {
    "duration": 629,
    "start_time": "2022-04-30T20:14:54.047Z"
   },
   {
    "duration": 22,
    "start_time": "2022-04-30T20:14:54.677Z"
   },
   {
    "duration": 18,
    "start_time": "2022-04-30T20:14:54.701Z"
   },
   {
    "duration": 38,
    "start_time": "2022-04-30T20:14:54.720Z"
   },
   {
    "duration": 18,
    "start_time": "2022-04-30T20:14:54.760Z"
   },
   {
    "duration": 12,
    "start_time": "2022-04-30T20:14:54.779Z"
   },
   {
    "duration": 15,
    "start_time": "2022-04-30T20:14:54.793Z"
   },
   {
    "duration": 4,
    "start_time": "2022-04-30T20:14:54.810Z"
   },
   {
    "duration": 42,
    "start_time": "2022-04-30T20:14:54.816Z"
   },
   {
    "duration": 4,
    "start_time": "2022-04-30T20:14:54.860Z"
   },
   {
    "duration": 38,
    "start_time": "2022-04-30T20:14:54.866Z"
   },
   {
    "duration": 20,
    "start_time": "2022-04-30T20:14:54.905Z"
   },
   {
    "duration": 9,
    "start_time": "2022-04-30T20:14:54.927Z"
   },
   {
    "duration": 8,
    "start_time": "2022-04-30T20:14:54.937Z"
   },
   {
    "duration": 6,
    "start_time": "2022-04-30T20:14:54.947Z"
   },
   {
    "duration": 22,
    "start_time": "2022-04-30T20:14:54.954Z"
   },
   {
    "duration": 12,
    "start_time": "2022-04-30T20:14:54.978Z"
   },
   {
    "duration": 11,
    "start_time": "2022-04-30T20:14:54.992Z"
   },
   {
    "duration": 597,
    "start_time": "2022-04-30T20:14:55.005Z"
   },
   {
    "duration": 623,
    "start_time": "2022-04-30T20:14:55.603Z"
   },
   {
    "duration": 6,
    "start_time": "2022-04-30T20:14:56.228Z"
   },
   {
    "duration": 29,
    "start_time": "2022-04-30T20:14:56.235Z"
   },
   {
    "duration": 16,
    "start_time": "2022-04-30T20:14:56.265Z"
   },
   {
    "duration": 5,
    "start_time": "2022-04-30T20:14:56.283Z"
   },
   {
    "duration": 7,
    "start_time": "2022-04-30T20:14:56.289Z"
   },
   {
    "duration": 5,
    "start_time": "2022-04-30T20:14:56.297Z"
   },
   {
    "duration": 185,
    "start_time": "2022-04-30T20:14:56.305Z"
   },
   {
    "duration": 180,
    "start_time": "2022-04-30T20:14:56.492Z"
   },
   {
    "duration": 189,
    "start_time": "2022-04-30T20:14:56.674Z"
   },
   {
    "duration": 7,
    "start_time": "2022-04-30T20:14:56.865Z"
   },
   {
    "duration": 13,
    "start_time": "2022-04-30T20:14:56.874Z"
   },
   {
    "duration": 9,
    "start_time": "2022-04-30T20:14:56.888Z"
   },
   {
    "duration": 6,
    "start_time": "2022-04-30T20:14:56.898Z"
   },
   {
    "duration": 3,
    "start_time": "2022-04-30T20:14:56.906Z"
   },
   {
    "duration": 4,
    "start_time": "2022-04-30T20:14:56.910Z"
   },
   {
    "duration": 9,
    "start_time": "2022-04-30T20:14:56.915Z"
   },
   {
    "duration": 132,
    "start_time": "2022-04-30T20:14:56.925Z"
   },
   {
    "duration": 0,
    "start_time": "2022-04-30T20:14:57.058Z"
   },
   {
    "duration": 0,
    "start_time": "2022-04-30T20:14:57.060Z"
   },
   {
    "duration": 0,
    "start_time": "2022-04-30T20:14:57.061Z"
   },
   {
    "duration": 0,
    "start_time": "2022-04-30T20:14:57.062Z"
   },
   {
    "duration": 0,
    "start_time": "2022-04-30T20:14:57.063Z"
   },
   {
    "duration": 1437,
    "start_time": "2022-05-01T13:46:05.302Z"
   },
   {
    "duration": 581,
    "start_time": "2022-05-01T13:46:06.741Z"
   },
   {
    "duration": 31,
    "start_time": "2022-05-01T13:46:07.323Z"
   },
   {
    "duration": 17,
    "start_time": "2022-05-01T13:46:07.356Z"
   },
   {
    "duration": 18,
    "start_time": "2022-05-01T13:46:07.375Z"
   },
   {
    "duration": 17,
    "start_time": "2022-05-01T13:46:07.395Z"
   },
   {
    "duration": 36,
    "start_time": "2022-05-01T13:46:07.414Z"
   },
   {
    "duration": 16,
    "start_time": "2022-05-01T13:46:07.451Z"
   },
   {
    "duration": 3,
    "start_time": "2022-05-01T13:46:07.469Z"
   },
   {
    "duration": 11,
    "start_time": "2022-05-01T13:46:07.475Z"
   },
   {
    "duration": 5,
    "start_time": "2022-05-01T13:46:07.487Z"
   },
   {
    "duration": 7,
    "start_time": "2022-05-01T13:46:07.493Z"
   },
   {
    "duration": 46,
    "start_time": "2022-05-01T13:46:07.502Z"
   },
   {
    "duration": 7,
    "start_time": "2022-05-01T13:46:07.550Z"
   },
   {
    "duration": 8,
    "start_time": "2022-05-01T13:46:07.558Z"
   },
   {
    "duration": 7,
    "start_time": "2022-05-01T13:46:07.568Z"
   },
   {
    "duration": 23,
    "start_time": "2022-05-01T13:46:07.576Z"
   },
   {
    "duration": 12,
    "start_time": "2022-05-01T13:46:07.600Z"
   },
   {
    "duration": 41,
    "start_time": "2022-05-01T13:46:07.614Z"
   },
   {
    "duration": 546,
    "start_time": "2022-05-01T13:46:07.656Z"
   },
   {
    "duration": 562,
    "start_time": "2022-05-01T13:46:08.204Z"
   },
   {
    "duration": 6,
    "start_time": "2022-05-01T13:46:08.767Z"
   },
   {
    "duration": 14,
    "start_time": "2022-05-01T13:46:08.774Z"
   },
   {
    "duration": 15,
    "start_time": "2022-05-01T13:46:08.790Z"
   },
   {
    "duration": 5,
    "start_time": "2022-05-01T13:46:08.806Z"
   },
   {
    "duration": 34,
    "start_time": "2022-05-01T13:46:08.813Z"
   },
   {
    "duration": 6,
    "start_time": "2022-05-01T13:46:08.849Z"
   },
   {
    "duration": 176,
    "start_time": "2022-05-01T13:46:08.858Z"
   },
   {
    "duration": 185,
    "start_time": "2022-05-01T13:46:09.036Z"
   },
   {
    "duration": 319,
    "start_time": "2022-05-01T13:46:09.223Z"
   },
   {
    "duration": 10,
    "start_time": "2022-05-01T13:46:09.544Z"
   },
   {
    "duration": 14,
    "start_time": "2022-05-01T13:46:09.556Z"
   },
   {
    "duration": 9,
    "start_time": "2022-05-01T13:46:09.572Z"
   },
   {
    "duration": 7,
    "start_time": "2022-05-01T13:46:09.583Z"
   },
   {
    "duration": 3,
    "start_time": "2022-05-01T13:46:09.592Z"
   },
   {
    "duration": 4,
    "start_time": "2022-05-01T13:46:09.597Z"
   },
   {
    "duration": 5,
    "start_time": "2022-05-01T13:46:09.603Z"
   },
   {
    "duration": 104,
    "start_time": "2022-05-01T13:46:09.648Z"
   },
   {
    "duration": 0,
    "start_time": "2022-05-01T13:46:09.753Z"
   },
   {
    "duration": 0,
    "start_time": "2022-05-01T13:46:09.754Z"
   },
   {
    "duration": 0,
    "start_time": "2022-05-01T13:46:09.755Z"
   },
   {
    "duration": 0,
    "start_time": "2022-05-01T13:46:09.756Z"
   },
   {
    "duration": 0,
    "start_time": "2022-05-01T13:46:09.758Z"
   },
   {
    "duration": 46,
    "start_time": "2022-05-01T17:13:52.619Z"
   },
   {
    "duration": 1536,
    "start_time": "2022-05-01T17:14:04.156Z"
   },
   {
    "duration": 617,
    "start_time": "2022-05-01T17:14:05.694Z"
   },
   {
    "duration": 23,
    "start_time": "2022-05-01T17:14:06.312Z"
   },
   {
    "duration": 27,
    "start_time": "2022-05-01T17:14:06.337Z"
   },
   {
    "duration": 19,
    "start_time": "2022-05-01T17:14:06.367Z"
   },
   {
    "duration": 20,
    "start_time": "2022-05-01T17:14:06.388Z"
   },
   {
    "duration": 40,
    "start_time": "2022-05-01T17:14:06.410Z"
   },
   {
    "duration": 23,
    "start_time": "2022-05-01T17:14:06.452Z"
   },
   {
    "duration": 5,
    "start_time": "2022-05-01T17:14:06.477Z"
   },
   {
    "duration": 17,
    "start_time": "2022-05-01T17:14:06.483Z"
   },
   {
    "duration": 7,
    "start_time": "2022-05-01T17:14:06.502Z"
   },
   {
    "duration": 38,
    "start_time": "2022-05-01T17:14:06.511Z"
   },
   {
    "duration": 12,
    "start_time": "2022-05-01T17:14:06.551Z"
   },
   {
    "duration": 8,
    "start_time": "2022-05-01T17:14:06.568Z"
   },
   {
    "duration": 13,
    "start_time": "2022-05-01T17:14:06.578Z"
   },
   {
    "duration": 11,
    "start_time": "2022-05-01T17:14:06.592Z"
   },
   {
    "duration": 61,
    "start_time": "2022-05-01T17:14:06.604Z"
   },
   {
    "duration": 18,
    "start_time": "2022-05-01T17:14:06.667Z"
   },
   {
    "duration": 17,
    "start_time": "2022-05-01T17:14:06.686Z"
   },
   {
    "duration": 827,
    "start_time": "2022-05-01T17:14:06.706Z"
   },
   {
    "duration": 808,
    "start_time": "2022-05-01T17:14:07.535Z"
   },
   {
    "duration": 8,
    "start_time": "2022-05-01T17:14:08.345Z"
   },
   {
    "duration": 14,
    "start_time": "2022-05-01T17:14:08.355Z"
   },
   {
    "duration": 17,
    "start_time": "2022-05-01T17:14:08.371Z"
   },
   {
    "duration": 6,
    "start_time": "2022-05-01T17:14:08.390Z"
   },
   {
    "duration": 9,
    "start_time": "2022-05-01T17:14:08.398Z"
   },
   {
    "duration": 44,
    "start_time": "2022-05-01T17:14:08.409Z"
   },
   {
    "duration": 260,
    "start_time": "2022-05-01T17:14:08.456Z"
   },
   {
    "duration": 301,
    "start_time": "2022-05-01T17:14:08.718Z"
   },
   {
    "duration": 382,
    "start_time": "2022-05-01T17:14:09.021Z"
   },
   {
    "duration": 9,
    "start_time": "2022-05-01T17:14:09.405Z"
   },
   {
    "duration": 15,
    "start_time": "2022-05-01T17:14:09.416Z"
   },
   {
    "duration": 11,
    "start_time": "2022-05-01T17:14:09.447Z"
   },
   {
    "duration": 3,
    "start_time": "2022-05-01T17:14:09.460Z"
   },
   {
    "duration": 5,
    "start_time": "2022-05-01T17:14:09.465Z"
   },
   {
    "duration": 5,
    "start_time": "2022-05-01T17:14:09.472Z"
   },
   {
    "duration": 6,
    "start_time": "2022-05-01T17:14:09.478Z"
   },
   {
    "duration": 6,
    "start_time": "2022-05-01T17:14:09.486Z"
   },
   {
    "duration": 12,
    "start_time": "2022-05-01T17:14:09.494Z"
   },
   {
    "duration": 7,
    "start_time": "2022-05-01T17:14:09.508Z"
   },
   {
    "duration": 8,
    "start_time": "2022-05-01T17:14:09.547Z"
   },
   {
    "duration": 9,
    "start_time": "2022-05-01T17:14:09.557Z"
   },
   {
    "duration": 475,
    "start_time": "2022-05-01T17:14:09.568Z"
   },
   {
    "duration": 1223,
    "start_time": "2022-05-01T17:15:33.125Z"
   },
   {
    "duration": 1887,
    "start_time": "2022-05-01T17:18:04.768Z"
   },
   {
    "duration": 1500,
    "start_time": "2022-05-01T17:18:55.363Z"
   },
   {
    "duration": 1335,
    "start_time": "2022-05-01T17:19:40.785Z"
   },
   {
    "duration": 666,
    "start_time": "2022-05-01T17:19:42.122Z"
   },
   {
    "duration": 22,
    "start_time": "2022-05-01T17:19:42.790Z"
   },
   {
    "duration": 17,
    "start_time": "2022-05-01T17:19:42.814Z"
   },
   {
    "duration": 30,
    "start_time": "2022-05-01T17:19:42.833Z"
   },
   {
    "duration": 20,
    "start_time": "2022-05-01T17:19:42.865Z"
   },
   {
    "duration": 12,
    "start_time": "2022-05-01T17:19:42.887Z"
   },
   {
    "duration": 16,
    "start_time": "2022-05-01T17:19:42.900Z"
   },
   {
    "duration": 4,
    "start_time": "2022-05-01T17:19:42.948Z"
   },
   {
    "duration": 13,
    "start_time": "2022-05-01T17:19:42.954Z"
   },
   {
    "duration": 6,
    "start_time": "2022-05-01T17:19:42.968Z"
   },
   {
    "duration": 6,
    "start_time": "2022-05-01T17:19:42.975Z"
   },
   {
    "duration": 10,
    "start_time": "2022-05-01T17:19:42.982Z"
   },
   {
    "duration": 8,
    "start_time": "2022-05-01T17:19:42.993Z"
   },
   {
    "duration": 49,
    "start_time": "2022-05-01T17:19:43.003Z"
   },
   {
    "duration": 7,
    "start_time": "2022-05-01T17:19:43.054Z"
   },
   {
    "duration": 24,
    "start_time": "2022-05-01T17:19:43.063Z"
   },
   {
    "duration": 13,
    "start_time": "2022-05-01T17:19:43.089Z"
   },
   {
    "duration": 13,
    "start_time": "2022-05-01T17:19:43.104Z"
   },
   {
    "duration": 559,
    "start_time": "2022-05-01T17:19:43.148Z"
   },
   {
    "duration": 560,
    "start_time": "2022-05-01T17:19:43.708Z"
   },
   {
    "duration": 6,
    "start_time": "2022-05-01T17:19:44.270Z"
   },
   {
    "duration": 14,
    "start_time": "2022-05-01T17:19:44.278Z"
   },
   {
    "duration": 18,
    "start_time": "2022-05-01T17:19:44.294Z"
   },
   {
    "duration": 7,
    "start_time": "2022-05-01T17:19:44.314Z"
   },
   {
    "duration": 32,
    "start_time": "2022-05-01T17:19:44.322Z"
   },
   {
    "duration": 6,
    "start_time": "2022-05-01T17:19:44.355Z"
   },
   {
    "duration": 185,
    "start_time": "2022-05-01T17:19:44.365Z"
   },
   {
    "duration": 199,
    "start_time": "2022-05-01T17:19:44.551Z"
   },
   {
    "duration": 198,
    "start_time": "2022-05-01T17:19:44.752Z"
   },
   {
    "duration": 8,
    "start_time": "2022-05-01T17:19:44.952Z"
   },
   {
    "duration": 14,
    "start_time": "2022-05-01T17:19:44.962Z"
   },
   {
    "duration": 9,
    "start_time": "2022-05-01T17:19:44.978Z"
   },
   {
    "duration": 3,
    "start_time": "2022-05-01T17:19:44.989Z"
   },
   {
    "duration": 5,
    "start_time": "2022-05-01T17:19:44.993Z"
   },
   {
    "duration": 9,
    "start_time": "2022-05-01T17:19:45.000Z"
   },
   {
    "duration": 12,
    "start_time": "2022-05-01T17:19:45.010Z"
   },
   {
    "duration": 32,
    "start_time": "2022-05-01T17:19:45.024Z"
   },
   {
    "duration": 7,
    "start_time": "2022-05-01T17:19:45.058Z"
   },
   {
    "duration": 8,
    "start_time": "2022-05-01T17:19:45.067Z"
   },
   {
    "duration": 6,
    "start_time": "2022-05-01T17:19:45.077Z"
   },
   {
    "duration": 1746,
    "start_time": "2022-05-01T17:19:45.084Z"
   },
   {
    "duration": 1378,
    "start_time": "2022-05-01T17:20:22.375Z"
   },
   {
    "duration": 1744,
    "start_time": "2022-05-01T17:29:02.311Z"
   },
   {
    "duration": 4,
    "start_time": "2022-05-01T17:30:40.975Z"
   },
   {
    "duration": 5,
    "start_time": "2022-05-01T17:50:31.047Z"
   },
   {
    "duration": 3658,
    "start_time": "2022-05-01T17:51:06.391Z"
   },
   {
    "duration": 4,
    "start_time": "2022-05-01T17:56:50.024Z"
   },
   {
    "duration": 2929,
    "start_time": "2022-05-01T18:31:35.320Z"
   },
   {
    "duration": 3772,
    "start_time": "2022-05-01T18:34:45.889Z"
   },
   {
    "duration": 3,
    "start_time": "2022-05-01T18:39:33.216Z"
   },
   {
    "duration": 9496,
    "start_time": "2022-05-01T18:41:08.891Z"
   },
   {
    "duration": 50053,
    "start_time": "2022-05-01T18:51:29.390Z"
   },
   {
    "duration": 9,
    "start_time": "2022-05-01T18:55:55.319Z"
   },
   {
    "duration": 4,
    "start_time": "2022-05-01T18:56:12.310Z"
   },
   {
    "duration": 5,
    "start_time": "2022-05-01T18:56:40.594Z"
   },
   {
    "duration": 2952,
    "start_time": "2022-05-01T18:58:41.533Z"
   },
   {
    "duration": 15,
    "start_time": "2022-05-01T19:07:03.850Z"
   },
   {
    "duration": 0,
    "start_time": "2022-05-01T19:16:15.783Z"
   },
   {
    "duration": 1560,
    "start_time": "2022-05-01T19:17:51.703Z"
   },
   {
    "duration": 668,
    "start_time": "2022-05-01T19:17:53.265Z"
   },
   {
    "duration": 34,
    "start_time": "2022-05-01T19:17:53.934Z"
   },
   {
    "duration": 18,
    "start_time": "2022-05-01T19:17:53.969Z"
   },
   {
    "duration": 19,
    "start_time": "2022-05-01T19:17:53.990Z"
   },
   {
    "duration": 49,
    "start_time": "2022-05-01T19:17:54.011Z"
   },
   {
    "duration": 12,
    "start_time": "2022-05-01T19:17:54.061Z"
   },
   {
    "duration": 19,
    "start_time": "2022-05-01T19:17:54.075Z"
   },
   {
    "duration": 4,
    "start_time": "2022-05-01T19:17:54.095Z"
   },
   {
    "duration": 15,
    "start_time": "2022-05-01T19:17:54.101Z"
   },
   {
    "duration": 34,
    "start_time": "2022-05-01T19:17:54.118Z"
   },
   {
    "duration": 15,
    "start_time": "2022-05-01T19:17:54.154Z"
   },
   {
    "duration": 13,
    "start_time": "2022-05-01T19:17:54.171Z"
   },
   {
    "duration": 8,
    "start_time": "2022-05-01T19:17:54.188Z"
   },
   {
    "duration": 10,
    "start_time": "2022-05-01T19:17:54.198Z"
   },
   {
    "duration": 8,
    "start_time": "2022-05-01T19:17:54.210Z"
   },
   {
    "duration": 52,
    "start_time": "2022-05-01T19:17:54.219Z"
   },
   {
    "duration": 14,
    "start_time": "2022-05-01T19:17:54.273Z"
   },
   {
    "duration": 12,
    "start_time": "2022-05-01T19:17:54.289Z"
   },
   {
    "duration": 612,
    "start_time": "2022-05-01T19:17:54.303Z"
   },
   {
    "duration": 598,
    "start_time": "2022-05-01T19:17:54.916Z"
   },
   {
    "duration": 6,
    "start_time": "2022-05-01T19:17:55.516Z"
   },
   {
    "duration": 37,
    "start_time": "2022-05-01T19:17:55.523Z"
   },
   {
    "duration": 22,
    "start_time": "2022-05-01T19:17:55.563Z"
   },
   {
    "duration": 9,
    "start_time": "2022-05-01T19:17:55.587Z"
   },
   {
    "duration": 9,
    "start_time": "2022-05-01T19:17:55.598Z"
   },
   {
    "duration": 8,
    "start_time": "2022-05-01T19:17:55.609Z"
   },
   {
    "duration": 284,
    "start_time": "2022-05-01T19:17:55.619Z"
   },
   {
    "duration": 295,
    "start_time": "2022-05-01T19:17:55.905Z"
   },
   {
    "duration": 291,
    "start_time": "2022-05-01T19:17:56.202Z"
   },
   {
    "duration": 10,
    "start_time": "2022-05-01T19:17:56.495Z"
   },
   {
    "duration": 14,
    "start_time": "2022-05-01T19:17:56.506Z"
   },
   {
    "duration": 30,
    "start_time": "2022-05-01T19:17:56.522Z"
   },
   {
    "duration": 2,
    "start_time": "2022-05-01T19:17:56.554Z"
   },
   {
    "duration": 14,
    "start_time": "2022-05-01T19:17:56.558Z"
   },
   {
    "duration": 11,
    "start_time": "2022-05-01T19:17:56.573Z"
   },
   {
    "duration": 4,
    "start_time": "2022-05-01T19:17:56.586Z"
   },
   {
    "duration": 11,
    "start_time": "2022-05-01T19:17:56.592Z"
   },
   {
    "duration": 7,
    "start_time": "2022-05-01T19:17:56.605Z"
   },
   {
    "duration": 5,
    "start_time": "2022-05-01T19:17:56.614Z"
   },
   {
    "duration": 6,
    "start_time": "2022-05-01T19:17:56.623Z"
   },
   {
    "duration": 25,
    "start_time": "2022-05-01T19:17:56.630Z"
   },
   {
    "duration": 14,
    "start_time": "2022-05-01T19:17:56.656Z"
   },
   {
    "duration": 3697,
    "start_time": "2022-05-01T19:17:56.671Z"
   },
   {
    "duration": 9278,
    "start_time": "2022-05-01T19:18:00.373Z"
   },
   {
    "duration": 39689,
    "start_time": "2022-05-01T19:18:09.652Z"
   },
   {
    "duration": 8,
    "start_time": "2022-05-01T19:18:49.343Z"
   },
   {
    "duration": 3437,
    "start_time": "2022-05-01T19:18:49.356Z"
   },
   {
    "duration": 1508,
    "start_time": "2022-05-01T19:25:00.726Z"
   },
   {
    "duration": 712,
    "start_time": "2022-05-01T19:25:02.236Z"
   },
   {
    "duration": 28,
    "start_time": "2022-05-01T19:25:02.950Z"
   },
   {
    "duration": 26,
    "start_time": "2022-05-01T19:25:02.980Z"
   },
   {
    "duration": 46,
    "start_time": "2022-05-01T19:25:03.009Z"
   },
   {
    "duration": 23,
    "start_time": "2022-05-01T19:25:03.057Z"
   },
   {
    "duration": 11,
    "start_time": "2022-05-01T19:25:03.082Z"
   },
   {
    "duration": 16,
    "start_time": "2022-05-01T19:25:03.095Z"
   },
   {
    "duration": 4,
    "start_time": "2022-05-01T19:25:03.113Z"
   },
   {
    "duration": 47,
    "start_time": "2022-05-01T19:25:03.118Z"
   },
   {
    "duration": 8,
    "start_time": "2022-05-01T19:25:03.166Z"
   },
   {
    "duration": 8,
    "start_time": "2022-05-01T19:25:03.176Z"
   },
   {
    "duration": 12,
    "start_time": "2022-05-01T19:25:03.186Z"
   },
   {
    "duration": 10,
    "start_time": "2022-05-01T19:25:03.201Z"
   },
   {
    "duration": 46,
    "start_time": "2022-05-01T19:25:03.212Z"
   },
   {
    "duration": 9,
    "start_time": "2022-05-01T19:25:03.260Z"
   },
   {
    "duration": 33,
    "start_time": "2022-05-01T19:25:03.271Z"
   },
   {
    "duration": 19,
    "start_time": "2022-05-01T19:25:03.306Z"
   },
   {
    "duration": 36,
    "start_time": "2022-05-01T19:25:03.327Z"
   },
   {
    "duration": 886,
    "start_time": "2022-05-01T19:25:03.366Z"
   },
   {
    "duration": 829,
    "start_time": "2022-05-01T19:25:04.254Z"
   },
   {
    "duration": 5,
    "start_time": "2022-05-01T19:25:05.085Z"
   },
   {
    "duration": 15,
    "start_time": "2022-05-01T19:25:05.092Z"
   },
   {
    "duration": 17,
    "start_time": "2022-05-01T19:25:05.108Z"
   },
   {
    "duration": 6,
    "start_time": "2022-05-01T19:25:05.126Z"
   },
   {
    "duration": 21,
    "start_time": "2022-05-01T19:25:05.134Z"
   },
   {
    "duration": 8,
    "start_time": "2022-05-01T19:25:05.156Z"
   },
   {
    "duration": 178,
    "start_time": "2022-05-01T19:25:05.165Z"
   },
   {
    "duration": 363,
    "start_time": "2022-05-01T19:25:05.344Z"
   },
   {
    "duration": 318,
    "start_time": "2022-05-01T19:25:05.709Z"
   },
   {
    "duration": 21,
    "start_time": "2022-05-01T19:25:06.029Z"
   },
   {
    "duration": 18,
    "start_time": "2022-05-01T19:25:06.051Z"
   },
   {
    "duration": 19,
    "start_time": "2022-05-01T19:25:06.071Z"
   },
   {
    "duration": 2,
    "start_time": "2022-05-01T19:25:06.092Z"
   },
   {
    "duration": 7,
    "start_time": "2022-05-01T19:25:06.097Z"
   },
   {
    "duration": 6,
    "start_time": "2022-05-01T19:25:06.106Z"
   },
   {
    "duration": 5,
    "start_time": "2022-05-01T19:25:06.114Z"
   },
   {
    "duration": 43,
    "start_time": "2022-05-01T19:25:06.121Z"
   },
   {
    "duration": 15,
    "start_time": "2022-05-01T19:25:06.166Z"
   },
   {
    "duration": 6,
    "start_time": "2022-05-01T19:25:06.183Z"
   },
   {
    "duration": 8,
    "start_time": "2022-05-01T19:25:06.193Z"
   },
   {
    "duration": 7,
    "start_time": "2022-05-01T19:25:06.203Z"
   },
   {
    "duration": 11,
    "start_time": "2022-05-01T19:25:06.212Z"
   },
   {
    "duration": 3749,
    "start_time": "2022-05-01T19:25:06.225Z"
   },
   {
    "duration": 9735,
    "start_time": "2022-05-01T19:25:09.977Z"
   },
   {
    "duration": 39595,
    "start_time": "2022-05-01T19:25:19.714Z"
   },
   {
    "duration": 4,
    "start_time": "2022-05-01T19:25:59.310Z"
   },
   {
    "duration": 3421,
    "start_time": "2022-05-01T19:25:59.316Z"
   },
   {
    "duration": 590523,
    "start_time": "2022-05-01T19:26:02.739Z"
   },
   {
    "duration": 5,
    "start_time": "2022-05-01T19:40:04.846Z"
   },
   {
    "duration": 3,
    "start_time": "2022-05-01T19:40:27.094Z"
   },
   {
    "duration": 474760,
    "start_time": "2022-05-01T19:43:47.572Z"
   },
   {
    "duration": 5,
    "start_time": "2022-05-01T19:53:03.444Z"
   },
   {
    "duration": 317559,
    "start_time": "2022-05-01T20:04:48.098Z"
   },
   {
    "duration": 4,
    "start_time": "2022-05-01T20:16:18.892Z"
   },
   {
    "duration": 4,
    "start_time": "2022-05-01T20:18:26.380Z"
   },
   {
    "duration": 6,
    "start_time": "2022-05-01T20:32:15.339Z"
   },
   {
    "duration": 9,
    "start_time": "2022-05-01T20:34:21.601Z"
   },
   {
    "duration": 8,
    "start_time": "2022-05-01T20:34:46.873Z"
   },
   {
    "duration": 8,
    "start_time": "2022-05-01T20:37:49.764Z"
   },
   {
    "duration": 201,
    "start_time": "2022-05-01T20:52:47.425Z"
   },
   {
    "duration": 49,
    "start_time": "2022-05-01T20:54:50.792Z"
   },
   {
    "duration": 174739,
    "start_time": "2022-05-01T20:55:02.244Z"
   },
   {
    "duration": 3,
    "start_time": "2022-05-01T20:58:12.762Z"
   },
   {
    "duration": 18173,
    "start_time": "2022-05-01T21:04:55.285Z"
   },
   {
    "duration": 21327,
    "start_time": "2022-05-01T21:05:41.961Z"
   },
   {
    "duration": 18326,
    "start_time": "2022-05-01T21:10:40.624Z"
   },
   {
    "duration": 16873,
    "start_time": "2022-05-01T21:11:32.817Z"
   },
   {
    "duration": 17014,
    "start_time": "2022-05-01T21:12:15.305Z"
   },
   {
    "duration": 16956,
    "start_time": "2022-05-01T21:13:42.640Z"
   },
   {
    "duration": 1393,
    "start_time": "2022-05-01T21:14:19.856Z"
   },
   {
    "duration": 627,
    "start_time": "2022-05-01T21:14:21.251Z"
   },
   {
    "duration": 22,
    "start_time": "2022-05-01T21:14:21.880Z"
   },
   {
    "duration": 18,
    "start_time": "2022-05-01T21:14:21.904Z"
   },
   {
    "duration": 37,
    "start_time": "2022-05-01T21:14:21.925Z"
   },
   {
    "duration": 18,
    "start_time": "2022-05-01T21:14:21.964Z"
   },
   {
    "duration": 12,
    "start_time": "2022-05-01T21:14:21.984Z"
   },
   {
    "duration": 17,
    "start_time": "2022-05-01T21:14:21.997Z"
   },
   {
    "duration": 5,
    "start_time": "2022-05-01T21:14:22.047Z"
   },
   {
    "duration": 13,
    "start_time": "2022-05-01T21:14:22.053Z"
   },
   {
    "duration": 5,
    "start_time": "2022-05-01T21:14:22.068Z"
   },
   {
    "duration": 4,
    "start_time": "2022-05-01T21:14:22.074Z"
   },
   {
    "duration": 10,
    "start_time": "2022-05-01T21:14:22.080Z"
   },
   {
    "duration": 16,
    "start_time": "2022-05-01T21:14:22.093Z"
   },
   {
    "duration": 41,
    "start_time": "2022-05-01T21:14:22.111Z"
   },
   {
    "duration": 7,
    "start_time": "2022-05-01T21:14:22.153Z"
   },
   {
    "duration": 24,
    "start_time": "2022-05-01T21:14:22.162Z"
   },
   {
    "duration": 14,
    "start_time": "2022-05-01T21:14:22.187Z"
   },
   {
    "duration": 13,
    "start_time": "2022-05-01T21:14:22.202Z"
   },
   {
    "duration": 580,
    "start_time": "2022-05-01T21:14:22.217Z"
   },
   {
    "duration": 508,
    "start_time": "2022-05-01T21:14:22.799Z"
   },
   {
    "duration": 6,
    "start_time": "2022-05-01T21:14:23.309Z"
   },
   {
    "duration": 19,
    "start_time": "2022-05-01T21:14:23.316Z"
   },
   {
    "duration": 25,
    "start_time": "2022-05-01T21:14:23.337Z"
   },
   {
    "duration": 5,
    "start_time": "2022-05-01T21:14:23.364Z"
   },
   {
    "duration": 7,
    "start_time": "2022-05-01T21:14:23.371Z"
   },
   {
    "duration": 5,
    "start_time": "2022-05-01T21:14:23.379Z"
   },
   {
    "duration": 186,
    "start_time": "2022-05-01T21:14:23.386Z"
   },
   {
    "duration": 191,
    "start_time": "2022-05-01T21:14:23.574Z"
   },
   {
    "duration": 262,
    "start_time": "2022-05-01T21:14:23.766Z"
   },
   {
    "duration": 8,
    "start_time": "2022-05-01T21:14:24.030Z"
   },
   {
    "duration": 13,
    "start_time": "2022-05-01T21:14:24.048Z"
   },
   {
    "duration": 10,
    "start_time": "2022-05-01T21:14:24.062Z"
   },
   {
    "duration": 2,
    "start_time": "2022-05-01T21:14:24.074Z"
   },
   {
    "duration": 9,
    "start_time": "2022-05-01T21:14:24.078Z"
   },
   {
    "duration": 8,
    "start_time": "2022-05-01T21:14:24.088Z"
   },
   {
    "duration": 7,
    "start_time": "2022-05-01T21:14:24.098Z"
   },
   {
    "duration": 12,
    "start_time": "2022-05-01T21:14:24.106Z"
   },
   {
    "duration": 8,
    "start_time": "2022-05-01T21:14:24.120Z"
   },
   {
    "duration": 4,
    "start_time": "2022-05-01T21:14:24.148Z"
   },
   {
    "duration": 6,
    "start_time": "2022-05-01T21:14:24.156Z"
   },
   {
    "duration": 7,
    "start_time": "2022-05-01T21:14:24.164Z"
   },
   {
    "duration": 8,
    "start_time": "2022-05-01T21:14:24.173Z"
   },
   {
    "duration": 2767,
    "start_time": "2022-05-01T21:14:24.183Z"
   },
   {
    "duration": 8742,
    "start_time": "2022-05-01T21:14:26.952Z"
   },
   {
    "duration": 37774,
    "start_time": "2022-05-01T21:14:35.695Z"
   },
   {
    "duration": 4,
    "start_time": "2022-05-01T21:15:13.471Z"
   },
   {
    "duration": 2575,
    "start_time": "2022-05-01T21:15:13.476Z"
   },
   {
    "duration": 4,
    "start_time": "2022-05-01T21:15:16.053Z"
   },
   {
    "duration": 8,
    "start_time": "2022-05-01T21:15:16.058Z"
   },
   {
    "duration": 6,
    "start_time": "2022-05-01T21:15:16.068Z"
   },
   {
    "duration": 7,
    "start_time": "2022-05-01T21:15:16.076Z"
   },
   {
    "duration": 17122,
    "start_time": "2022-05-01T21:15:16.085Z"
   },
   {
    "duration": 16705,
    "start_time": "2022-05-01T21:15:33.209Z"
   },
   {
    "duration": 9,
    "start_time": "2022-05-01T21:15:49.915Z"
   },
   {
    "duration": 16789,
    "start_time": "2022-05-01T21:17:20.037Z"
   },
   {
    "duration": 4,
    "start_time": "2022-05-01T21:19:34.192Z"
   },
   {
    "duration": 3,
    "start_time": "2022-05-01T21:25:13.565Z"
   },
   {
    "duration": 4,
    "start_time": "2022-05-01T21:25:49.892Z"
   },
   {
    "duration": 15,
    "start_time": "2022-05-01T21:29:05.700Z"
   },
   {
    "duration": 23,
    "start_time": "2022-05-01T21:31:10.789Z"
   },
   {
    "duration": 1864,
    "start_time": "2022-05-01T21:35:04.847Z"
   },
   {
    "duration": 953,
    "start_time": "2022-05-01T21:35:06.713Z"
   },
   {
    "duration": 31,
    "start_time": "2022-05-01T21:35:07.668Z"
   },
   {
    "duration": 26,
    "start_time": "2022-05-01T21:35:07.702Z"
   },
   {
    "duration": 19,
    "start_time": "2022-05-01T21:35:07.747Z"
   },
   {
    "duration": 17,
    "start_time": "2022-05-01T21:35:07.768Z"
   },
   {
    "duration": 11,
    "start_time": "2022-05-01T21:35:07.787Z"
   },
   {
    "duration": 16,
    "start_time": "2022-05-01T21:35:07.800Z"
   },
   {
    "duration": 30,
    "start_time": "2022-05-01T21:35:07.818Z"
   },
   {
    "duration": 13,
    "start_time": "2022-05-01T21:35:07.852Z"
   },
   {
    "duration": 6,
    "start_time": "2022-05-01T21:35:07.867Z"
   },
   {
    "duration": 9,
    "start_time": "2022-05-01T21:35:07.875Z"
   },
   {
    "duration": 9,
    "start_time": "2022-05-01T21:35:07.886Z"
   },
   {
    "duration": 8,
    "start_time": "2022-05-01T21:35:07.897Z"
   },
   {
    "duration": 45,
    "start_time": "2022-05-01T21:35:07.907Z"
   },
   {
    "duration": 7,
    "start_time": "2022-05-01T21:35:07.954Z"
   },
   {
    "duration": 22,
    "start_time": "2022-05-01T21:35:07.962Z"
   },
   {
    "duration": 12,
    "start_time": "2022-05-01T21:35:07.986Z"
   },
   {
    "duration": 51,
    "start_time": "2022-05-01T21:35:08.000Z"
   },
   {
    "duration": 548,
    "start_time": "2022-05-01T21:35:08.052Z"
   },
   {
    "duration": 809,
    "start_time": "2022-05-01T21:35:08.603Z"
   },
   {
    "duration": 7,
    "start_time": "2022-05-01T21:35:09.415Z"
   },
   {
    "duration": 32,
    "start_time": "2022-05-01T21:35:09.424Z"
   },
   {
    "duration": 23,
    "start_time": "2022-05-01T21:35:09.458Z"
   },
   {
    "duration": 9,
    "start_time": "2022-05-01T21:35:09.483Z"
   },
   {
    "duration": 7,
    "start_time": "2022-05-01T21:35:09.494Z"
   },
   {
    "duration": 5,
    "start_time": "2022-05-01T21:35:09.503Z"
   },
   {
    "duration": 189,
    "start_time": "2022-05-01T21:35:09.512Z"
   },
   {
    "duration": 194,
    "start_time": "2022-05-01T21:35:09.703Z"
   },
   {
    "duration": 262,
    "start_time": "2022-05-01T21:35:09.898Z"
   },
   {
    "duration": 8,
    "start_time": "2022-05-01T21:35:10.162Z"
   },
   {
    "duration": 15,
    "start_time": "2022-05-01T21:35:10.171Z"
   },
   {
    "duration": 8,
    "start_time": "2022-05-01T21:35:10.188Z"
   },
   {
    "duration": 3,
    "start_time": "2022-05-01T21:35:10.197Z"
   },
   {
    "duration": 4,
    "start_time": "2022-05-01T21:35:10.201Z"
   },
   {
    "duration": 4,
    "start_time": "2022-05-01T21:35:10.207Z"
   },
   {
    "duration": 37,
    "start_time": "2022-05-01T21:35:10.213Z"
   },
   {
    "duration": 13,
    "start_time": "2022-05-01T21:35:10.253Z"
   },
   {
    "duration": 10,
    "start_time": "2022-05-01T21:35:10.268Z"
   },
   {
    "duration": 7,
    "start_time": "2022-05-01T21:35:10.280Z"
   },
   {
    "duration": 10,
    "start_time": "2022-05-01T21:35:10.289Z"
   },
   {
    "duration": 7,
    "start_time": "2022-05-01T21:35:10.301Z"
   },
   {
    "duration": 7,
    "start_time": "2022-05-01T21:35:10.310Z"
   },
   {
    "duration": 2833,
    "start_time": "2022-05-01T21:35:10.319Z"
   },
   {
    "duration": 8653,
    "start_time": "2022-05-01T21:35:13.154Z"
   },
   {
    "duration": 37405,
    "start_time": "2022-05-01T21:35:21.809Z"
   },
   {
    "duration": 3,
    "start_time": "2022-05-01T21:35:59.216Z"
   },
   {
    "duration": 2557,
    "start_time": "2022-05-01T21:35:59.221Z"
   },
   {
    "duration": 4,
    "start_time": "2022-05-01T21:36:01.780Z"
   },
   {
    "duration": 15,
    "start_time": "2022-05-01T21:36:01.785Z"
   },
   {
    "duration": 6,
    "start_time": "2022-05-01T21:36:01.802Z"
   },
   {
    "duration": 8,
    "start_time": "2022-05-01T21:36:01.810Z"
   },
   {
    "duration": 21743,
    "start_time": "2022-05-01T21:36:01.820Z"
   },
   {
    "duration": 18760,
    "start_time": "2022-05-01T21:36:23.565Z"
   },
   {
    "duration": 3,
    "start_time": "2022-05-01T21:36:42.327Z"
   },
   {
    "duration": 26,
    "start_time": "2022-05-01T21:36:42.332Z"
   },
   {
    "duration": 110,
    "start_time": "2022-05-01T21:36:42.359Z"
   },
   {
    "duration": 11,
    "start_time": "2022-05-01T21:37:20.277Z"
   },
   {
    "duration": 16944,
    "start_time": "2022-05-01T21:38:48.481Z"
   },
   {
    "duration": 17585,
    "start_time": "2022-05-01T21:39:07.489Z"
   },
   {
    "duration": 17578,
    "start_time": "2022-05-01T21:39:33.810Z"
   },
   {
    "duration": 0,
    "start_time": "2022-05-01T21:39:51.389Z"
   },
   {
    "duration": 17292,
    "start_time": "2022-05-01T21:40:43.641Z"
   },
   {
    "duration": 18,
    "start_time": "2022-05-01T21:41:49.846Z"
   },
   {
    "duration": 1496,
    "start_time": "2022-05-01T21:42:01.220Z"
   },
   {
    "duration": 665,
    "start_time": "2022-05-01T21:42:02.717Z"
   },
   {
    "duration": 23,
    "start_time": "2022-05-01T21:42:03.383Z"
   },
   {
    "duration": 18,
    "start_time": "2022-05-01T21:42:03.408Z"
   },
   {
    "duration": 35,
    "start_time": "2022-05-01T21:42:03.428Z"
   },
   {
    "duration": 18,
    "start_time": "2022-05-01T21:42:03.465Z"
   },
   {
    "duration": 12,
    "start_time": "2022-05-01T21:42:03.484Z"
   },
   {
    "duration": 17,
    "start_time": "2022-05-01T21:42:03.498Z"
   },
   {
    "duration": 3,
    "start_time": "2022-05-01T21:42:03.548Z"
   },
   {
    "duration": 11,
    "start_time": "2022-05-01T21:42:03.554Z"
   },
   {
    "duration": 4,
    "start_time": "2022-05-01T21:42:03.567Z"
   },
   {
    "duration": 5,
    "start_time": "2022-05-01T21:42:03.573Z"
   },
   {
    "duration": 8,
    "start_time": "2022-05-01T21:42:03.580Z"
   },
   {
    "duration": 7,
    "start_time": "2022-05-01T21:42:03.590Z"
   },
   {
    "duration": 53,
    "start_time": "2022-05-01T21:42:03.599Z"
   },
   {
    "duration": 7,
    "start_time": "2022-05-01T21:42:03.654Z"
   },
   {
    "duration": 27,
    "start_time": "2022-05-01T21:42:03.662Z"
   },
   {
    "duration": 13,
    "start_time": "2022-05-01T21:42:03.691Z"
   },
   {
    "duration": 42,
    "start_time": "2022-05-01T21:42:03.705Z"
   },
   {
    "duration": 562,
    "start_time": "2022-05-01T21:42:03.749Z"
   },
   {
    "duration": 593,
    "start_time": "2022-05-01T21:42:04.313Z"
   },
   {
    "duration": 6,
    "start_time": "2022-05-01T21:42:04.908Z"
   },
   {
    "duration": 15,
    "start_time": "2022-05-01T21:42:04.915Z"
   },
   {
    "duration": 29,
    "start_time": "2022-05-01T21:42:04.932Z"
   },
   {
    "duration": 6,
    "start_time": "2022-05-01T21:42:04.963Z"
   },
   {
    "duration": 5,
    "start_time": "2022-05-01T21:42:04.970Z"
   },
   {
    "duration": 5,
    "start_time": "2022-05-01T21:42:04.977Z"
   },
   {
    "duration": 201,
    "start_time": "2022-05-01T21:42:04.985Z"
   },
   {
    "duration": 202,
    "start_time": "2022-05-01T21:42:05.188Z"
   },
   {
    "duration": 268,
    "start_time": "2022-05-01T21:42:05.392Z"
   },
   {
    "duration": 8,
    "start_time": "2022-05-01T21:42:05.661Z"
   },
   {
    "duration": 17,
    "start_time": "2022-05-01T21:42:05.670Z"
   },
   {
    "duration": 8,
    "start_time": "2022-05-01T21:42:05.689Z"
   },
   {
    "duration": 2,
    "start_time": "2022-05-01T21:42:05.699Z"
   },
   {
    "duration": 7,
    "start_time": "2022-05-01T21:42:05.702Z"
   },
   {
    "duration": 4,
    "start_time": "2022-05-01T21:42:05.710Z"
   },
   {
    "duration": 5,
    "start_time": "2022-05-01T21:42:05.715Z"
   },
   {
    "duration": 7,
    "start_time": "2022-05-01T21:42:05.748Z"
   },
   {
    "duration": 8,
    "start_time": "2022-05-01T21:42:05.756Z"
   },
   {
    "duration": 6,
    "start_time": "2022-05-01T21:42:05.765Z"
   },
   {
    "duration": 7,
    "start_time": "2022-05-01T21:42:05.773Z"
   },
   {
    "duration": 5,
    "start_time": "2022-05-01T21:42:05.781Z"
   },
   {
    "duration": 7,
    "start_time": "2022-05-01T21:42:05.787Z"
   },
   {
    "duration": 2754,
    "start_time": "2022-05-01T21:42:05.795Z"
   },
   {
    "duration": 8497,
    "start_time": "2022-05-01T21:42:08.551Z"
   },
   {
    "duration": 37661,
    "start_time": "2022-05-01T21:42:17.050Z"
   },
   {
    "duration": 4,
    "start_time": "2022-05-01T21:42:54.712Z"
   },
   {
    "duration": 2529,
    "start_time": "2022-05-01T21:42:54.718Z"
   },
   {
    "duration": 3,
    "start_time": "2022-05-01T21:42:57.249Z"
   },
   {
    "duration": 6,
    "start_time": "2022-05-01T21:42:57.254Z"
   },
   {
    "duration": 4,
    "start_time": "2022-05-01T21:42:57.261Z"
   },
   {
    "duration": 5,
    "start_time": "2022-05-01T21:42:57.267Z"
   },
   {
    "duration": 18688,
    "start_time": "2022-05-01T21:42:57.273Z"
   },
   {
    "duration": 19126,
    "start_time": "2022-05-01T21:43:15.963Z"
   },
   {
    "duration": 4,
    "start_time": "2022-05-01T21:43:35.091Z"
   },
   {
    "duration": 27,
    "start_time": "2022-05-01T21:43:35.097Z"
   },
   {
    "duration": 105,
    "start_time": "2022-05-01T21:43:35.126Z"
   },
   {
    "duration": 1469,
    "start_time": "2022-05-01T21:44:47.226Z"
   },
   {
    "duration": 644,
    "start_time": "2022-05-01T21:44:48.697Z"
   },
   {
    "duration": 23,
    "start_time": "2022-05-01T21:44:49.342Z"
   },
   {
    "duration": 19,
    "start_time": "2022-05-01T21:44:49.367Z"
   },
   {
    "duration": 19,
    "start_time": "2022-05-01T21:44:49.387Z"
   },
   {
    "duration": 43,
    "start_time": "2022-05-01T21:44:49.408Z"
   },
   {
    "duration": 12,
    "start_time": "2022-05-01T21:44:49.453Z"
   },
   {
    "duration": 17,
    "start_time": "2022-05-01T21:44:49.467Z"
   },
   {
    "duration": 4,
    "start_time": "2022-05-01T21:44:49.485Z"
   },
   {
    "duration": 16,
    "start_time": "2022-05-01T21:44:49.493Z"
   },
   {
    "duration": 7,
    "start_time": "2022-05-01T21:44:49.547Z"
   },
   {
    "duration": 12,
    "start_time": "2022-05-01T21:44:49.556Z"
   },
   {
    "duration": 14,
    "start_time": "2022-05-01T21:44:49.569Z"
   },
   {
    "duration": 7,
    "start_time": "2022-05-01T21:44:49.585Z"
   },
   {
    "duration": 10,
    "start_time": "2022-05-01T21:44:49.595Z"
   },
   {
    "duration": 9,
    "start_time": "2022-05-01T21:44:49.607Z"
   },
   {
    "duration": 53,
    "start_time": "2022-05-01T21:44:49.618Z"
   },
   {
    "duration": 18,
    "start_time": "2022-05-01T21:44:49.673Z"
   },
   {
    "duration": 16,
    "start_time": "2022-05-01T21:44:49.693Z"
   },
   {
    "duration": 811,
    "start_time": "2022-05-01T21:44:49.710Z"
   },
   {
    "duration": 757,
    "start_time": "2022-05-01T21:44:50.522Z"
   },
   {
    "duration": 6,
    "start_time": "2022-05-01T21:44:51.281Z"
   },
   {
    "duration": 15,
    "start_time": "2022-05-01T21:44:51.289Z"
   },
   {
    "duration": 41,
    "start_time": "2022-05-01T21:44:51.306Z"
   },
   {
    "duration": 8,
    "start_time": "2022-05-01T21:44:51.349Z"
   },
   {
    "duration": 7,
    "start_time": "2022-05-01T21:44:51.359Z"
   },
   {
    "duration": 7,
    "start_time": "2022-05-01T21:44:51.368Z"
   },
   {
    "duration": 191,
    "start_time": "2022-05-01T21:44:51.379Z"
   },
   {
    "duration": 193,
    "start_time": "2022-05-01T21:44:51.572Z"
   },
   {
    "duration": 267,
    "start_time": "2022-05-01T21:44:51.767Z"
   },
   {
    "duration": 12,
    "start_time": "2022-05-01T21:44:52.036Z"
   },
   {
    "duration": 13,
    "start_time": "2022-05-01T21:44:52.050Z"
   },
   {
    "duration": 9,
    "start_time": "2022-05-01T21:44:52.065Z"
   },
   {
    "duration": 8,
    "start_time": "2022-05-01T21:44:52.076Z"
   },
   {
    "duration": 3,
    "start_time": "2022-05-01T21:44:52.085Z"
   },
   {
    "duration": 4,
    "start_time": "2022-05-01T21:44:52.090Z"
   },
   {
    "duration": 5,
    "start_time": "2022-05-01T21:44:52.096Z"
   },
   {
    "duration": 46,
    "start_time": "2022-05-01T21:44:52.102Z"
   },
   {
    "duration": 8,
    "start_time": "2022-05-01T21:44:52.150Z"
   },
   {
    "duration": 6,
    "start_time": "2022-05-01T21:44:52.159Z"
   },
   {
    "duration": 8,
    "start_time": "2022-05-01T21:44:52.167Z"
   },
   {
    "duration": 5,
    "start_time": "2022-05-01T21:44:52.176Z"
   },
   {
    "duration": 6,
    "start_time": "2022-05-01T21:44:52.182Z"
   },
   {
    "duration": 2862,
    "start_time": "2022-05-01T21:44:52.190Z"
   },
   {
    "duration": 11694,
    "start_time": "2022-05-01T21:44:55.054Z"
   },
   {
    "duration": 49343,
    "start_time": "2022-05-01T21:45:06.750Z"
   },
   {
    "duration": 4,
    "start_time": "2022-05-01T21:45:56.094Z"
   },
   {
    "duration": 2523,
    "start_time": "2022-05-01T21:45:56.100Z"
   },
   {
    "duration": 4,
    "start_time": "2022-05-01T21:45:58.625Z"
   },
   {
    "duration": 18,
    "start_time": "2022-05-01T21:45:58.630Z"
   },
   {
    "duration": 4,
    "start_time": "2022-05-01T21:45:58.650Z"
   },
   {
    "duration": 5,
    "start_time": "2022-05-01T21:45:58.656Z"
   },
   {
    "duration": 18310,
    "start_time": "2022-05-01T21:45:58.663Z"
   },
   {
    "duration": 19185,
    "start_time": "2022-05-01T21:46:16.975Z"
   },
   {
    "duration": 4,
    "start_time": "2022-05-01T21:46:36.162Z"
   },
   {
    "duration": 25,
    "start_time": "2022-05-01T21:46:36.167Z"
   },
   {
    "duration": 120,
    "start_time": "2022-05-01T21:46:36.194Z"
   },
   {
    "duration": 18,
    "start_time": "2022-05-01T21:48:45.718Z"
   },
   {
    "duration": 18,
    "start_time": "2022-05-01T21:48:51.402Z"
   },
   {
    "duration": 2434,
    "start_time": "2022-05-02T18:45:05.451Z"
   },
   {
    "duration": 836,
    "start_time": "2022-05-02T18:45:07.887Z"
   },
   {
    "duration": 37,
    "start_time": "2022-05-02T18:45:08.725Z"
   },
   {
    "duration": 40,
    "start_time": "2022-05-02T18:45:08.764Z"
   },
   {
    "duration": 32,
    "start_time": "2022-05-02T18:45:08.807Z"
   },
   {
    "duration": 61,
    "start_time": "2022-05-02T18:45:08.842Z"
   },
   {
    "duration": 20,
    "start_time": "2022-05-02T18:45:08.906Z"
   },
   {
    "duration": 54,
    "start_time": "2022-05-02T18:45:08.929Z"
   },
   {
    "duration": 7,
    "start_time": "2022-05-02T18:45:08.986Z"
   },
   {
    "duration": 23,
    "start_time": "2022-05-02T18:45:08.996Z"
   },
   {
    "duration": 9,
    "start_time": "2022-05-02T18:45:09.021Z"
   },
   {
    "duration": 6,
    "start_time": "2022-05-02T18:45:09.032Z"
   },
   {
    "duration": 11,
    "start_time": "2022-05-02T18:45:09.083Z"
   },
   {
    "duration": 9,
    "start_time": "2022-05-02T18:45:09.099Z"
   },
   {
    "duration": 17,
    "start_time": "2022-05-02T18:45:09.111Z"
   },
   {
    "duration": 10,
    "start_time": "2022-05-02T18:45:09.131Z"
   },
   {
    "duration": 66,
    "start_time": "2022-05-02T18:45:09.143Z"
   },
   {
    "duration": 18,
    "start_time": "2022-05-02T18:45:09.212Z"
   },
   {
    "duration": 18,
    "start_time": "2022-05-02T18:45:09.232Z"
   },
   {
    "duration": 948,
    "start_time": "2022-05-02T18:45:09.282Z"
   },
   {
    "duration": 929,
    "start_time": "2022-05-02T18:45:10.232Z"
   },
   {
    "duration": 19,
    "start_time": "2022-05-02T18:45:11.163Z"
   },
   {
    "duration": 24,
    "start_time": "2022-05-02T18:45:11.185Z"
   },
   {
    "duration": 28,
    "start_time": "2022-05-02T18:45:11.212Z"
   },
   {
    "duration": 41,
    "start_time": "2022-05-02T18:45:11.243Z"
   },
   {
    "duration": 9,
    "start_time": "2022-05-02T18:45:11.286Z"
   },
   {
    "duration": 8,
    "start_time": "2022-05-02T18:45:11.297Z"
   },
   {
    "duration": 337,
    "start_time": "2022-05-02T18:45:11.307Z"
   },
   {
    "duration": 444,
    "start_time": "2022-05-02T18:45:11.647Z"
   },
   {
    "duration": 355,
    "start_time": "2022-05-02T18:45:12.095Z"
   },
   {
    "duration": 11,
    "start_time": "2022-05-02T18:45:12.453Z"
   },
   {
    "duration": 33,
    "start_time": "2022-05-02T18:45:12.466Z"
   },
   {
    "duration": 13,
    "start_time": "2022-05-02T18:45:12.501Z"
   },
   {
    "duration": 10,
    "start_time": "2022-05-02T18:45:12.516Z"
   },
   {
    "duration": 12,
    "start_time": "2022-05-02T18:45:12.528Z"
   },
   {
    "duration": 40,
    "start_time": "2022-05-02T18:45:12.542Z"
   },
   {
    "duration": 15,
    "start_time": "2022-05-02T18:45:12.584Z"
   },
   {
    "duration": 31,
    "start_time": "2022-05-02T18:45:12.601Z"
   },
   {
    "duration": 33,
    "start_time": "2022-05-02T18:45:12.634Z"
   },
   {
    "duration": 17,
    "start_time": "2022-05-02T18:45:12.669Z"
   },
   {
    "duration": 7,
    "start_time": "2022-05-02T18:45:12.692Z"
   },
   {
    "duration": 36,
    "start_time": "2022-05-02T18:45:12.701Z"
   },
   {
    "duration": 24,
    "start_time": "2022-05-02T18:45:12.739Z"
   },
   {
    "duration": 4233,
    "start_time": "2022-05-02T18:45:12.765Z"
   },
   {
    "duration": 13044,
    "start_time": "2022-05-02T18:45:17.000Z"
   },
   {
    "duration": 53152,
    "start_time": "2022-05-02T18:45:30.047Z"
   },
   {
    "duration": 5,
    "start_time": "2022-05-02T18:46:23.201Z"
   },
   {
    "duration": 3690,
    "start_time": "2022-05-02T18:46:23.208Z"
   },
   {
    "duration": 6,
    "start_time": "2022-05-02T18:46:26.901Z"
   },
   {
    "duration": 8,
    "start_time": "2022-05-02T18:46:26.909Z"
   },
   {
    "duration": 6,
    "start_time": "2022-05-02T18:46:26.919Z"
   },
   {
    "duration": 6,
    "start_time": "2022-05-02T18:46:26.927Z"
   },
   {
    "duration": 29957,
    "start_time": "2022-05-02T18:46:26.936Z"
   },
   {
    "duration": 29552,
    "start_time": "2022-05-02T18:46:56.895Z"
   },
   {
    "duration": 5,
    "start_time": "2022-05-02T18:47:26.449Z"
   },
   {
    "duration": 200,
    "start_time": "2022-05-02T18:47:26.457Z"
   },
   {
    "duration": 0,
    "start_time": "2022-05-02T18:47:26.659Z"
   },
   {
    "duration": 34,
    "start_time": "2022-05-02T18:52:25.755Z"
   },
   {
    "duration": 34,
    "start_time": "2022-05-02T18:52:45.832Z"
   },
   {
    "duration": 127,
    "start_time": "2022-05-02T18:52:51.483Z"
   },
   {
    "duration": 13,
    "start_time": "2022-05-02T18:53:15.117Z"
   },
   {
    "duration": 2549,
    "start_time": "2022-05-02T18:54:11.916Z"
   },
   {
    "duration": 869,
    "start_time": "2022-05-02T18:54:14.467Z"
   },
   {
    "duration": 57,
    "start_time": "2022-05-02T18:54:15.339Z"
   },
   {
    "duration": 43,
    "start_time": "2022-05-02T18:54:15.400Z"
   },
   {
    "duration": 65,
    "start_time": "2022-05-02T18:54:15.446Z"
   },
   {
    "duration": 38,
    "start_time": "2022-05-02T18:54:15.514Z"
   },
   {
    "duration": 50,
    "start_time": "2022-05-02T18:54:15.556Z"
   },
   {
    "duration": 35,
    "start_time": "2022-05-02T18:54:15.609Z"
   },
   {
    "duration": 8,
    "start_time": "2022-05-02T18:54:15.646Z"
   },
   {
    "duration": 24,
    "start_time": "2022-05-02T18:54:15.683Z"
   },
   {
    "duration": 10,
    "start_time": "2022-05-02T18:54:15.709Z"
   },
   {
    "duration": 8,
    "start_time": "2022-05-02T18:54:15.722Z"
   },
   {
    "duration": 14,
    "start_time": "2022-05-02T18:54:15.782Z"
   },
   {
    "duration": 14,
    "start_time": "2022-05-02T18:54:15.800Z"
   },
   {
    "duration": 16,
    "start_time": "2022-05-02T18:54:15.816Z"
   },
   {
    "duration": 54,
    "start_time": "2022-05-02T18:54:15.835Z"
   },
   {
    "duration": 29,
    "start_time": "2022-05-02T18:54:15.891Z"
   },
   {
    "duration": 19,
    "start_time": "2022-05-02T18:54:15.923Z"
   },
   {
    "duration": 59,
    "start_time": "2022-05-02T18:54:15.944Z"
   },
   {
    "duration": 887,
    "start_time": "2022-05-02T18:54:16.006Z"
   },
   {
    "duration": 815,
    "start_time": "2022-05-02T18:54:16.896Z"
   },
   {
    "duration": 8,
    "start_time": "2022-05-02T18:54:17.713Z"
   },
   {
    "duration": 27,
    "start_time": "2022-05-02T18:54:17.723Z"
   },
   {
    "duration": 53,
    "start_time": "2022-05-02T18:54:17.752Z"
   },
   {
    "duration": 9,
    "start_time": "2022-05-02T18:54:17.807Z"
   },
   {
    "duration": 10,
    "start_time": "2022-05-02T18:54:17.819Z"
   },
   {
    "duration": 10,
    "start_time": "2022-05-02T18:54:17.832Z"
   },
   {
    "duration": 343,
    "start_time": "2022-05-02T18:54:17.888Z"
   },
   {
    "duration": 378,
    "start_time": "2022-05-02T18:54:18.233Z"
   },
   {
    "duration": 486,
    "start_time": "2022-05-02T18:54:18.613Z"
   },
   {
    "duration": 14,
    "start_time": "2022-05-02T18:54:19.102Z"
   },
   {
    "duration": 23,
    "start_time": "2022-05-02T18:54:19.118Z"
   },
   {
    "duration": 49,
    "start_time": "2022-05-02T18:54:19.143Z"
   },
   {
    "duration": 12,
    "start_time": "2022-05-02T18:54:19.195Z"
   },
   {
    "duration": 5,
    "start_time": "2022-05-02T18:54:19.209Z"
   },
   {
    "duration": 7,
    "start_time": "2022-05-02T18:54:19.216Z"
   },
   {
    "duration": 8,
    "start_time": "2022-05-02T18:54:19.225Z"
   },
   {
    "duration": 48,
    "start_time": "2022-05-02T18:54:19.236Z"
   },
   {
    "duration": 23,
    "start_time": "2022-05-02T18:54:19.288Z"
   },
   {
    "duration": 18,
    "start_time": "2022-05-02T18:54:19.313Z"
   },
   {
    "duration": 11,
    "start_time": "2022-05-02T18:54:19.333Z"
   },
   {
    "duration": 8,
    "start_time": "2022-05-02T18:54:19.347Z"
   },
   {
    "duration": 9,
    "start_time": "2022-05-02T18:54:19.358Z"
   },
   {
    "duration": 4238,
    "start_time": "2022-05-02T18:54:19.369Z"
   },
   {
    "duration": 14034,
    "start_time": "2022-05-02T18:54:23.681Z"
   },
   {
    "duration": 57940,
    "start_time": "2022-05-02T18:54:37.717Z"
   },
   {
    "duration": 7,
    "start_time": "2022-05-02T18:55:35.660Z"
   },
   {
    "duration": 3811,
    "start_time": "2022-05-02T18:55:35.682Z"
   },
   {
    "duration": 6,
    "start_time": "2022-05-02T18:55:39.497Z"
   },
   {
    "duration": 11,
    "start_time": "2022-05-02T18:55:39.505Z"
   },
   {
    "duration": 6,
    "start_time": "2022-05-02T18:55:39.518Z"
   },
   {
    "duration": 7,
    "start_time": "2022-05-02T18:55:39.526Z"
   },
   {
    "duration": 29877,
    "start_time": "2022-05-02T18:55:39.535Z"
   },
   {
    "duration": 30344,
    "start_time": "2022-05-02T18:56:09.414Z"
   },
   {
    "duration": 5,
    "start_time": "2022-05-02T18:56:39.760Z"
   },
   {
    "duration": 41,
    "start_time": "2022-05-02T18:56:39.767Z"
   },
   {
    "duration": 12,
    "start_time": "2022-05-02T18:56:39.811Z"
   },
   {
    "duration": 2262,
    "start_time": "2022-05-02T19:24:56.441Z"
   },
   {
    "duration": 836,
    "start_time": "2022-05-02T19:24:58.706Z"
   },
   {
    "duration": 46,
    "start_time": "2022-05-02T19:24:59.544Z"
   },
   {
    "duration": 32,
    "start_time": "2022-05-02T19:24:59.592Z"
   },
   {
    "duration": 56,
    "start_time": "2022-05-02T19:24:59.626Z"
   },
   {
    "duration": 27,
    "start_time": "2022-05-02T19:24:59.685Z"
   },
   {
    "duration": 19,
    "start_time": "2022-05-02T19:24:59.715Z"
   },
   {
    "duration": 58,
    "start_time": "2022-05-02T19:24:59.736Z"
   },
   {
    "duration": 5,
    "start_time": "2022-05-02T19:24:59.796Z"
   },
   {
    "duration": 23,
    "start_time": "2022-05-02T19:24:59.805Z"
   },
   {
    "duration": 8,
    "start_time": "2022-05-02T19:24:59.830Z"
   },
   {
    "duration": 43,
    "start_time": "2022-05-02T19:24:59.839Z"
   },
   {
    "duration": 9,
    "start_time": "2022-05-02T19:24:59.884Z"
   },
   {
    "duration": 17,
    "start_time": "2022-05-02T19:24:59.895Z"
   },
   {
    "duration": 23,
    "start_time": "2022-05-02T19:24:59.914Z"
   },
   {
    "duration": 11,
    "start_time": "2022-05-02T19:24:59.939Z"
   },
   {
    "duration": 50,
    "start_time": "2022-05-02T19:24:59.952Z"
   },
   {
    "duration": 19,
    "start_time": "2022-05-02T19:25:00.005Z"
   },
   {
    "duration": 56,
    "start_time": "2022-05-02T19:25:00.026Z"
   },
   {
    "duration": 789,
    "start_time": "2022-05-02T19:25:00.085Z"
   },
   {
    "duration": 823,
    "start_time": "2022-05-02T19:25:00.876Z"
   },
   {
    "duration": 8,
    "start_time": "2022-05-02T19:25:01.701Z"
   },
   {
    "duration": 30,
    "start_time": "2022-05-02T19:25:01.711Z"
   },
   {
    "duration": 40,
    "start_time": "2022-05-02T19:25:01.743Z"
   },
   {
    "duration": 9,
    "start_time": "2022-05-02T19:25:01.786Z"
   },
   {
    "duration": 18,
    "start_time": "2022-05-02T19:25:01.798Z"
   },
   {
    "duration": 12,
    "start_time": "2022-05-02T19:25:01.818Z"
   },
   {
    "duration": 349,
    "start_time": "2022-05-02T19:25:01.836Z"
   },
   {
    "duration": 370,
    "start_time": "2022-05-02T19:25:02.187Z"
   },
   {
    "duration": 454,
    "start_time": "2022-05-02T19:25:02.559Z"
   },
   {
    "duration": 11,
    "start_time": "2022-05-02T19:25:03.015Z"
   },
   {
    "duration": 21,
    "start_time": "2022-05-02T19:25:03.028Z"
   },
   {
    "duration": 37,
    "start_time": "2022-05-02T19:25:03.051Z"
   },
   {
    "duration": 9,
    "start_time": "2022-05-02T19:25:03.090Z"
   },
   {
    "duration": 5,
    "start_time": "2022-05-02T19:25:03.101Z"
   },
   {
    "duration": 8,
    "start_time": "2022-05-02T19:25:03.107Z"
   },
   {
    "duration": 6,
    "start_time": "2022-05-02T19:25:03.117Z"
   },
   {
    "duration": 11,
    "start_time": "2022-05-02T19:25:03.125Z"
   },
   {
    "duration": 44,
    "start_time": "2022-05-02T19:25:03.138Z"
   },
   {
    "duration": 9,
    "start_time": "2022-05-02T19:25:03.184Z"
   },
   {
    "duration": 11,
    "start_time": "2022-05-02T19:25:03.195Z"
   },
   {
    "duration": 8,
    "start_time": "2022-05-02T19:25:03.208Z"
   },
   {
    "duration": 11,
    "start_time": "2022-05-02T19:25:03.219Z"
   },
   {
    "duration": 3151,
    "start_time": "2022-05-02T19:25:03.232Z"
   },
   {
    "duration": 12413,
    "start_time": "2022-05-02T19:25:06.386Z"
   },
   {
    "duration": 53798,
    "start_time": "2022-05-02T19:25:18.801Z"
   },
   {
    "duration": 5,
    "start_time": "2022-05-02T19:26:12.601Z"
   },
   {
    "duration": 3705,
    "start_time": "2022-05-02T19:26:12.609Z"
   },
   {
    "duration": 5,
    "start_time": "2022-05-02T19:26:16.316Z"
   },
   {
    "duration": 14,
    "start_time": "2022-05-02T19:26:16.323Z"
   },
   {
    "duration": 7,
    "start_time": "2022-05-02T19:26:16.339Z"
   },
   {
    "duration": 8,
    "start_time": "2022-05-02T19:26:16.348Z"
   },
   {
    "duration": 28780,
    "start_time": "2022-05-02T19:26:16.358Z"
   },
   {
    "duration": 29750,
    "start_time": "2022-05-02T19:26:45.140Z"
   },
   {
    "duration": 5,
    "start_time": "2022-05-02T19:27:14.893Z"
   },
   {
    "duration": 43,
    "start_time": "2022-05-02T19:27:14.900Z"
   },
   {
    "duration": 73482,
    "start_time": "2022-05-03T06:19:55.322Z"
   },
   {
    "duration": 824,
    "start_time": "2022-05-03T06:21:08.806Z"
   },
   {
    "duration": 48,
    "start_time": "2022-05-03T06:28:11.781Z"
   },
   {
    "duration": 58,
    "start_time": "2022-05-03T06:28:11.832Z"
   },
   {
    "duration": 30,
    "start_time": "2022-05-03T06:28:11.892Z"
   },
   {
    "duration": 29,
    "start_time": "2022-05-03T06:28:11.925Z"
   },
   {
    "duration": 31,
    "start_time": "2022-05-03T06:28:11.957Z"
   },
   {
    "duration": 25,
    "start_time": "2022-05-03T06:28:11.990Z"
   },
   {
    "duration": 5,
    "start_time": "2022-05-03T06:28:12.018Z"
   },
   {
    "duration": 17,
    "start_time": "2022-05-03T06:28:12.025Z"
   },
   {
    "duration": 8,
    "start_time": "2022-05-03T06:29:09.619Z"
   },
   {
    "duration": 6,
    "start_time": "2022-05-03T06:30:07.106Z"
   },
   {
    "duration": 11,
    "start_time": "2022-05-03T06:30:09.740Z"
   },
   {
    "duration": 9,
    "start_time": "2022-05-03T06:31:32.156Z"
   },
   {
    "duration": 12,
    "start_time": "2022-05-03T06:31:33.361Z"
   },
   {
    "duration": 10,
    "start_time": "2022-05-03T06:31:33.938Z"
   },
   {
    "duration": 29,
    "start_time": "2022-05-03T06:31:35.646Z"
   },
   {
    "duration": 20,
    "start_time": "2022-05-03T06:31:36.030Z"
   },
   {
    "duration": 30,
    "start_time": "2022-05-03T06:32:05.362Z"
   },
   {
    "duration": 21,
    "start_time": "2022-05-03T06:37:27.515Z"
   },
   {
    "duration": 829,
    "start_time": "2022-05-03T06:37:29.252Z"
   },
   {
    "duration": 801,
    "start_time": "2022-05-03T06:37:30.083Z"
   },
   {
    "duration": 12,
    "start_time": "2022-05-03T06:37:30.887Z"
   },
   {
    "duration": 31,
    "start_time": "2022-05-03T06:37:30.901Z"
   },
   {
    "duration": 24,
    "start_time": "2022-05-03T06:37:31.147Z"
   },
   {
    "duration": 9,
    "start_time": "2022-05-03T06:37:31.412Z"
   },
   {
    "duration": 9,
    "start_time": "2022-05-03T06:37:31.712Z"
   },
   {
    "duration": 11,
    "start_time": "2022-05-03T06:37:31.956Z"
   },
   {
    "duration": 308,
    "start_time": "2022-05-03T06:37:32.237Z"
   },
   {
    "duration": 358,
    "start_time": "2022-05-03T06:37:32.551Z"
   },
   {
    "duration": 436,
    "start_time": "2022-05-03T06:37:32.911Z"
   },
   {
    "duration": 11,
    "start_time": "2022-05-03T06:37:33.349Z"
   },
   {
    "duration": 19,
    "start_time": "2022-05-03T06:37:33.641Z"
   },
   {
    "duration": 15,
    "start_time": "2022-05-03T06:37:33.857Z"
   },
   {
    "duration": 11,
    "start_time": "2022-05-03T06:37:34.339Z"
   },
   {
    "duration": 5,
    "start_time": "2022-05-03T06:41:58.716Z"
   },
   {
    "duration": 4,
    "start_time": "2022-05-03T06:41:59.315Z"
   },
   {
    "duration": 4,
    "start_time": "2022-05-03T06:41:59.781Z"
   },
   {
    "duration": 11,
    "start_time": "2022-05-03T06:42:22.993Z"
   },
   {
    "duration": 4,
    "start_time": "2022-05-03T06:42:23.506Z"
   },
   {
    "duration": 6,
    "start_time": "2022-05-03T06:42:24.096Z"
   },
   {
    "duration": 9,
    "start_time": "2022-05-03T06:42:24.658Z"
   },
   {
    "duration": 4,
    "start_time": "2022-05-03T06:42:25.633Z"
   },
   {
    "duration": 6,
    "start_time": "2022-05-03T06:42:25.843Z"
   },
   {
    "duration": 10,
    "start_time": "2022-05-03T06:42:45.546Z"
   },
   {
    "duration": 3424,
    "start_time": "2022-05-03T06:43:51.658Z"
   },
   {
    "duration": 54,
    "start_time": "2022-05-03T12:27:07.285Z"
   },
   {
    "duration": 1816,
    "start_time": "2022-05-03T12:27:19.926Z"
   },
   {
    "duration": 698,
    "start_time": "2022-05-03T12:27:21.744Z"
   },
   {
    "duration": 27,
    "start_time": "2022-05-03T12:27:22.444Z"
   },
   {
    "duration": 36,
    "start_time": "2022-05-03T12:27:22.473Z"
   },
   {
    "duration": 23,
    "start_time": "2022-05-03T12:27:22.510Z"
   },
   {
    "duration": 20,
    "start_time": "2022-05-03T12:27:22.534Z"
   },
   {
    "duration": 14,
    "start_time": "2022-05-03T12:27:22.556Z"
   },
   {
    "duration": 47,
    "start_time": "2022-05-03T12:27:22.572Z"
   },
   {
    "duration": 5,
    "start_time": "2022-05-03T12:27:22.622Z"
   },
   {
    "duration": 15,
    "start_time": "2022-05-03T12:27:22.630Z"
   },
   {
    "duration": 6,
    "start_time": "2022-05-03T12:27:22.647Z"
   },
   {
    "duration": 13,
    "start_time": "2022-05-03T12:27:22.655Z"
   },
   {
    "duration": 45,
    "start_time": "2022-05-03T12:27:22.670Z"
   },
   {
    "duration": 148,
    "start_time": "2022-05-03T12:27:22.717Z"
   },
   {
    "duration": 0,
    "start_time": "2022-05-03T12:27:22.868Z"
   },
   {
    "duration": 0,
    "start_time": "2022-05-03T12:27:22.870Z"
   },
   {
    "duration": 0,
    "start_time": "2022-05-03T12:27:22.871Z"
   },
   {
    "duration": 0,
    "start_time": "2022-05-03T12:27:22.873Z"
   },
   {
    "duration": 0,
    "start_time": "2022-05-03T12:27:22.874Z"
   },
   {
    "duration": 0,
    "start_time": "2022-05-03T12:27:22.876Z"
   },
   {
    "duration": 0,
    "start_time": "2022-05-03T12:27:22.877Z"
   },
   {
    "duration": 0,
    "start_time": "2022-05-03T12:27:22.879Z"
   },
   {
    "duration": 0,
    "start_time": "2022-05-03T12:27:22.881Z"
   },
   {
    "duration": 0,
    "start_time": "2022-05-03T12:27:22.882Z"
   },
   {
    "duration": 0,
    "start_time": "2022-05-03T12:27:22.908Z"
   },
   {
    "duration": 0,
    "start_time": "2022-05-03T12:27:22.909Z"
   },
   {
    "duration": 0,
    "start_time": "2022-05-03T12:27:22.911Z"
   },
   {
    "duration": 0,
    "start_time": "2022-05-03T12:27:22.912Z"
   },
   {
    "duration": 0,
    "start_time": "2022-05-03T12:27:22.913Z"
   },
   {
    "duration": 0,
    "start_time": "2022-05-03T12:27:22.915Z"
   },
   {
    "duration": 0,
    "start_time": "2022-05-03T12:27:22.916Z"
   },
   {
    "duration": 0,
    "start_time": "2022-05-03T12:27:22.918Z"
   },
   {
    "duration": 0,
    "start_time": "2022-05-03T12:27:22.919Z"
   },
   {
    "duration": 0,
    "start_time": "2022-05-03T12:27:22.921Z"
   },
   {
    "duration": 0,
    "start_time": "2022-05-03T12:27:22.923Z"
   },
   {
    "duration": 0,
    "start_time": "2022-05-03T12:27:22.924Z"
   },
   {
    "duration": 0,
    "start_time": "2022-05-03T12:27:22.926Z"
   },
   {
    "duration": 0,
    "start_time": "2022-05-03T12:27:22.927Z"
   },
   {
    "duration": 0,
    "start_time": "2022-05-03T12:27:22.929Z"
   },
   {
    "duration": 0,
    "start_time": "2022-05-03T12:27:22.931Z"
   },
   {
    "duration": 0,
    "start_time": "2022-05-03T12:27:22.932Z"
   },
   {
    "duration": 1,
    "start_time": "2022-05-03T12:27:22.933Z"
   },
   {
    "duration": 0,
    "start_time": "2022-05-03T12:27:22.935Z"
   },
   {
    "duration": 0,
    "start_time": "2022-05-03T12:27:22.937Z"
   },
   {
    "duration": 0,
    "start_time": "2022-05-03T12:27:22.938Z"
   },
   {
    "duration": 0,
    "start_time": "2022-05-03T12:27:22.939Z"
   },
   {
    "duration": 0,
    "start_time": "2022-05-03T12:27:22.941Z"
   },
   {
    "duration": 1,
    "start_time": "2022-05-03T12:27:22.942Z"
   },
   {
    "duration": 0,
    "start_time": "2022-05-03T12:27:22.944Z"
   },
   {
    "duration": 0,
    "start_time": "2022-05-03T12:27:22.945Z"
   },
   {
    "duration": 0,
    "start_time": "2022-05-03T12:27:23.009Z"
   },
   {
    "duration": 0,
    "start_time": "2022-05-03T12:27:23.010Z"
   },
   {
    "duration": 0,
    "start_time": "2022-05-03T12:27:23.012Z"
   },
   {
    "duration": 0,
    "start_time": "2022-05-03T12:27:23.013Z"
   },
   {
    "duration": 0,
    "start_time": "2022-05-03T12:27:23.015Z"
   },
   {
    "duration": 0,
    "start_time": "2022-05-03T12:27:23.017Z"
   },
   {
    "duration": 0,
    "start_time": "2022-05-03T12:27:23.018Z"
   },
   {
    "duration": 0,
    "start_time": "2022-05-03T12:27:23.020Z"
   },
   {
    "duration": 16,
    "start_time": "2022-05-03T12:28:44.772Z"
   },
   {
    "duration": 22,
    "start_time": "2022-05-03T12:28:50.730Z"
   },
   {
    "duration": 1350,
    "start_time": "2022-05-03T12:29:36.366Z"
   },
   {
    "duration": 675,
    "start_time": "2022-05-03T12:29:37.718Z"
   },
   {
    "duration": 26,
    "start_time": "2022-05-03T12:29:38.395Z"
   },
   {
    "duration": 21,
    "start_time": "2022-05-03T12:29:38.423Z"
   },
   {
    "duration": 20,
    "start_time": "2022-05-03T12:29:38.446Z"
   },
   {
    "duration": 44,
    "start_time": "2022-05-03T12:29:38.468Z"
   },
   {
    "duration": 12,
    "start_time": "2022-05-03T12:29:38.514Z"
   },
   {
    "duration": 17,
    "start_time": "2022-05-03T12:29:38.528Z"
   },
   {
    "duration": 4,
    "start_time": "2022-05-03T12:29:38.547Z"
   },
   {
    "duration": 17,
    "start_time": "2022-05-03T12:29:38.552Z"
   },
   {
    "duration": 4,
    "start_time": "2022-05-03T12:29:38.571Z"
   },
   {
    "duration": 4,
    "start_time": "2022-05-03T12:29:38.608Z"
   },
   {
    "duration": 8,
    "start_time": "2022-05-03T12:29:38.613Z"
   },
   {
    "duration": 14,
    "start_time": "2022-05-03T12:29:38.624Z"
   },
   {
    "duration": 20,
    "start_time": "2022-05-03T12:29:38.639Z"
   },
   {
    "duration": 9,
    "start_time": "2022-05-03T12:29:38.661Z"
   },
   {
    "duration": 40,
    "start_time": "2022-05-03T12:29:38.672Z"
   },
   {
    "duration": 24,
    "start_time": "2022-05-03T12:29:38.714Z"
   },
   {
    "duration": 14,
    "start_time": "2022-05-03T12:29:38.739Z"
   },
   {
    "duration": 13,
    "start_time": "2022-05-03T12:29:38.755Z"
   },
   {
    "duration": 643,
    "start_time": "2022-05-03T12:29:38.770Z"
   },
   {
    "duration": 601,
    "start_time": "2022-05-03T12:29:39.414Z"
   },
   {
    "duration": 6,
    "start_time": "2022-05-03T12:29:40.017Z"
   },
   {
    "duration": 45,
    "start_time": "2022-05-03T12:29:40.024Z"
   },
   {
    "duration": 18,
    "start_time": "2022-05-03T12:29:40.071Z"
   },
   {
    "duration": 6,
    "start_time": "2022-05-03T12:29:40.091Z"
   },
   {
    "duration": 10,
    "start_time": "2022-05-03T12:29:40.098Z"
   },
   {
    "duration": 6,
    "start_time": "2022-05-03T12:29:40.109Z"
   },
   {
    "duration": 203,
    "start_time": "2022-05-03T12:29:40.116Z"
   },
   {
    "duration": 216,
    "start_time": "2022-05-03T12:29:40.321Z"
   },
   {
    "duration": 300,
    "start_time": "2022-05-03T12:29:40.539Z"
   },
   {
    "duration": 8,
    "start_time": "2022-05-03T12:29:40.841Z"
   },
   {
    "duration": 13,
    "start_time": "2022-05-03T12:29:40.851Z"
   },
   {
    "duration": 8,
    "start_time": "2022-05-03T12:29:40.865Z"
   },
   {
    "duration": 33,
    "start_time": "2022-05-03T12:29:40.875Z"
   },
   {
    "duration": 3,
    "start_time": "2022-05-03T12:29:40.910Z"
   },
   {
    "duration": 4,
    "start_time": "2022-05-03T12:29:40.915Z"
   },
   {
    "duration": 3,
    "start_time": "2022-05-03T12:29:40.921Z"
   },
   {
    "duration": 8,
    "start_time": "2022-05-03T12:29:40.926Z"
   },
   {
    "duration": 6,
    "start_time": "2022-05-03T12:29:40.936Z"
   },
   {
    "duration": 6,
    "start_time": "2022-05-03T12:29:40.946Z"
   },
   {
    "duration": 148,
    "start_time": "2022-05-03T12:29:40.953Z"
   },
   {
    "duration": 0,
    "start_time": "2022-05-03T12:29:41.102Z"
   },
   {
    "duration": 0,
    "start_time": "2022-05-03T12:29:41.107Z"
   },
   {
    "duration": 0,
    "start_time": "2022-05-03T12:29:41.109Z"
   },
   {
    "duration": 0,
    "start_time": "2022-05-03T12:29:41.109Z"
   },
   {
    "duration": 0,
    "start_time": "2022-05-03T12:29:41.111Z"
   },
   {
    "duration": 0,
    "start_time": "2022-05-03T12:29:41.112Z"
   },
   {
    "duration": 0,
    "start_time": "2022-05-03T12:29:41.113Z"
   },
   {
    "duration": 0,
    "start_time": "2022-05-03T12:29:41.114Z"
   },
   {
    "duration": 0,
    "start_time": "2022-05-03T12:29:41.115Z"
   },
   {
    "duration": 0,
    "start_time": "2022-05-03T12:29:41.116Z"
   },
   {
    "duration": 0,
    "start_time": "2022-05-03T12:29:41.117Z"
   },
   {
    "duration": 0,
    "start_time": "2022-05-03T12:29:41.117Z"
   },
   {
    "duration": 0,
    "start_time": "2022-05-03T12:29:41.118Z"
   },
   {
    "duration": 0,
    "start_time": "2022-05-03T12:29:41.119Z"
   },
   {
    "duration": 0,
    "start_time": "2022-05-03T12:29:41.120Z"
   },
   {
    "duration": 0,
    "start_time": "2022-05-03T12:29:41.122Z"
   },
   {
    "duration": 114,
    "start_time": "2022-05-03T12:36:11.393Z"
   },
   {
    "duration": 15,
    "start_time": "2022-05-03T12:36:17.851Z"
   },
   {
    "duration": 11,
    "start_time": "2022-05-03T12:41:27.143Z"
   },
   {
    "duration": 16,
    "start_time": "2022-05-03T12:41:34.759Z"
   },
   {
    "duration": 1481,
    "start_time": "2022-05-03T12:42:08.045Z"
   },
   {
    "duration": 700,
    "start_time": "2022-05-03T12:42:09.528Z"
   },
   {
    "duration": 28,
    "start_time": "2022-05-03T12:42:10.230Z"
   },
   {
    "duration": 23,
    "start_time": "2022-05-03T12:42:10.262Z"
   },
   {
    "duration": 23,
    "start_time": "2022-05-03T12:42:10.308Z"
   },
   {
    "duration": 21,
    "start_time": "2022-05-03T12:42:10.333Z"
   },
   {
    "duration": 15,
    "start_time": "2022-05-03T12:42:10.356Z"
   },
   {
    "duration": 56,
    "start_time": "2022-05-03T12:42:10.372Z"
   },
   {
    "duration": 6,
    "start_time": "2022-05-03T12:42:10.430Z"
   },
   {
    "duration": 21,
    "start_time": "2022-05-03T12:42:10.439Z"
   },
   {
    "duration": 7,
    "start_time": "2022-05-03T12:42:10.462Z"
   },
   {
    "duration": 4,
    "start_time": "2022-05-03T12:42:10.507Z"
   },
   {
    "duration": 46,
    "start_time": "2022-05-03T12:42:10.514Z"
   },
   {
    "duration": 149,
    "start_time": "2022-05-03T12:42:10.562Z"
   },
   {
    "duration": 0,
    "start_time": "2022-05-03T12:42:10.714Z"
   },
   {
    "duration": 0,
    "start_time": "2022-05-03T12:42:10.715Z"
   },
   {
    "duration": 0,
    "start_time": "2022-05-03T12:42:10.716Z"
   },
   {
    "duration": 0,
    "start_time": "2022-05-03T12:42:10.717Z"
   },
   {
    "duration": 0,
    "start_time": "2022-05-03T12:42:10.719Z"
   },
   {
    "duration": 0,
    "start_time": "2022-05-03T12:42:10.720Z"
   },
   {
    "duration": 0,
    "start_time": "2022-05-03T12:42:10.721Z"
   },
   {
    "duration": 0,
    "start_time": "2022-05-03T12:42:10.721Z"
   },
   {
    "duration": 0,
    "start_time": "2022-05-03T12:42:10.722Z"
   },
   {
    "duration": 0,
    "start_time": "2022-05-03T12:42:10.724Z"
   },
   {
    "duration": 0,
    "start_time": "2022-05-03T12:42:10.725Z"
   },
   {
    "duration": 0,
    "start_time": "2022-05-03T12:42:10.726Z"
   },
   {
    "duration": 0,
    "start_time": "2022-05-03T12:42:10.727Z"
   },
   {
    "duration": 0,
    "start_time": "2022-05-03T12:42:10.728Z"
   },
   {
    "duration": 0,
    "start_time": "2022-05-03T12:42:10.729Z"
   },
   {
    "duration": 0,
    "start_time": "2022-05-03T12:42:10.730Z"
   },
   {
    "duration": 0,
    "start_time": "2022-05-03T12:42:10.731Z"
   },
   {
    "duration": 0,
    "start_time": "2022-05-03T12:42:10.732Z"
   },
   {
    "duration": 0,
    "start_time": "2022-05-03T12:42:10.733Z"
   },
   {
    "duration": 0,
    "start_time": "2022-05-03T12:42:10.735Z"
   },
   {
    "duration": 0,
    "start_time": "2022-05-03T12:42:10.736Z"
   },
   {
    "duration": 0,
    "start_time": "2022-05-03T12:42:10.737Z"
   },
   {
    "duration": 0,
    "start_time": "2022-05-03T12:42:10.738Z"
   },
   {
    "duration": 0,
    "start_time": "2022-05-03T12:42:10.740Z"
   },
   {
    "duration": 0,
    "start_time": "2022-05-03T12:42:10.741Z"
   },
   {
    "duration": 0,
    "start_time": "2022-05-03T12:42:10.742Z"
   },
   {
    "duration": 0,
    "start_time": "2022-05-03T12:42:10.743Z"
   },
   {
    "duration": 0,
    "start_time": "2022-05-03T12:42:10.744Z"
   },
   {
    "duration": 0,
    "start_time": "2022-05-03T12:42:10.745Z"
   },
   {
    "duration": 0,
    "start_time": "2022-05-03T12:42:10.746Z"
   },
   {
    "duration": 0,
    "start_time": "2022-05-03T12:42:10.747Z"
   },
   {
    "duration": 0,
    "start_time": "2022-05-03T12:42:10.748Z"
   },
   {
    "duration": 0,
    "start_time": "2022-05-03T12:42:10.749Z"
   },
   {
    "duration": 0,
    "start_time": "2022-05-03T12:42:10.808Z"
   },
   {
    "duration": 0,
    "start_time": "2022-05-03T12:42:10.809Z"
   },
   {
    "duration": 0,
    "start_time": "2022-05-03T12:42:10.811Z"
   },
   {
    "duration": 0,
    "start_time": "2022-05-03T12:42:10.812Z"
   },
   {
    "duration": 0,
    "start_time": "2022-05-03T12:42:10.814Z"
   },
   {
    "duration": 0,
    "start_time": "2022-05-03T12:42:10.815Z"
   },
   {
    "duration": 0,
    "start_time": "2022-05-03T12:42:10.816Z"
   },
   {
    "duration": 0,
    "start_time": "2022-05-03T12:42:10.817Z"
   },
   {
    "duration": 0,
    "start_time": "2022-05-03T12:42:10.818Z"
   },
   {
    "duration": 0,
    "start_time": "2022-05-03T12:42:10.819Z"
   },
   {
    "duration": 0,
    "start_time": "2022-05-03T12:42:10.820Z"
   },
   {
    "duration": 24,
    "start_time": "2022-05-03T12:42:45.405Z"
   },
   {
    "duration": 18,
    "start_time": "2022-05-03T12:47:20.639Z"
   },
   {
    "duration": 1478,
    "start_time": "2022-05-03T12:47:33.670Z"
   },
   {
    "duration": 685,
    "start_time": "2022-05-03T12:47:35.150Z"
   },
   {
    "duration": 27,
    "start_time": "2022-05-03T12:47:35.836Z"
   },
   {
    "duration": 23,
    "start_time": "2022-05-03T12:47:35.865Z"
   },
   {
    "duration": 37,
    "start_time": "2022-05-03T12:47:35.890Z"
   },
   {
    "duration": 20,
    "start_time": "2022-05-03T12:47:35.929Z"
   },
   {
    "duration": 14,
    "start_time": "2022-05-03T12:47:35.951Z"
   },
   {
    "duration": 55,
    "start_time": "2022-05-03T12:47:35.967Z"
   },
   {
    "duration": 5,
    "start_time": "2022-05-03T12:47:36.024Z"
   },
   {
    "duration": 14,
    "start_time": "2022-05-03T12:47:36.032Z"
   },
   {
    "duration": 6,
    "start_time": "2022-05-03T12:47:36.047Z"
   },
   {
    "duration": 6,
    "start_time": "2022-05-03T12:47:36.055Z"
   },
   {
    "duration": 49,
    "start_time": "2022-05-03T12:47:36.063Z"
   },
   {
    "duration": 137,
    "start_time": "2022-05-03T12:47:36.114Z"
   },
   {
    "duration": 0,
    "start_time": "2022-05-03T12:47:36.254Z"
   },
   {
    "duration": 0,
    "start_time": "2022-05-03T12:47:36.256Z"
   },
   {
    "duration": 0,
    "start_time": "2022-05-03T12:47:36.257Z"
   },
   {
    "duration": 0,
    "start_time": "2022-05-03T12:47:36.258Z"
   },
   {
    "duration": 0,
    "start_time": "2022-05-03T12:47:36.259Z"
   },
   {
    "duration": 0,
    "start_time": "2022-05-03T12:47:36.260Z"
   },
   {
    "duration": 0,
    "start_time": "2022-05-03T12:47:36.262Z"
   },
   {
    "duration": 0,
    "start_time": "2022-05-03T12:47:36.263Z"
   },
   {
    "duration": 0,
    "start_time": "2022-05-03T12:47:36.264Z"
   },
   {
    "duration": 0,
    "start_time": "2022-05-03T12:47:36.266Z"
   },
   {
    "duration": 0,
    "start_time": "2022-05-03T12:47:36.266Z"
   },
   {
    "duration": 0,
    "start_time": "2022-05-03T12:47:36.268Z"
   },
   {
    "duration": 0,
    "start_time": "2022-05-03T12:47:36.268Z"
   },
   {
    "duration": 0,
    "start_time": "2022-05-03T12:47:36.269Z"
   },
   {
    "duration": 0,
    "start_time": "2022-05-03T12:47:36.270Z"
   },
   {
    "duration": 0,
    "start_time": "2022-05-03T12:47:36.271Z"
   },
   {
    "duration": 0,
    "start_time": "2022-05-03T12:47:36.272Z"
   },
   {
    "duration": 0,
    "start_time": "2022-05-03T12:47:36.273Z"
   },
   {
    "duration": 0,
    "start_time": "2022-05-03T12:47:36.274Z"
   },
   {
    "duration": 0,
    "start_time": "2022-05-03T12:47:36.275Z"
   },
   {
    "duration": 0,
    "start_time": "2022-05-03T12:47:36.308Z"
   },
   {
    "duration": 0,
    "start_time": "2022-05-03T12:47:36.309Z"
   },
   {
    "duration": 0,
    "start_time": "2022-05-03T12:47:36.310Z"
   },
   {
    "duration": 0,
    "start_time": "2022-05-03T12:47:36.311Z"
   },
   {
    "duration": 0,
    "start_time": "2022-05-03T12:47:36.312Z"
   },
   {
    "duration": 0,
    "start_time": "2022-05-03T12:47:36.313Z"
   },
   {
    "duration": 0,
    "start_time": "2022-05-03T12:47:36.314Z"
   },
   {
    "duration": 0,
    "start_time": "2022-05-03T12:47:36.315Z"
   },
   {
    "duration": 0,
    "start_time": "2022-05-03T12:47:36.316Z"
   },
   {
    "duration": 0,
    "start_time": "2022-05-03T12:47:36.317Z"
   },
   {
    "duration": 0,
    "start_time": "2022-05-03T12:47:36.318Z"
   },
   {
    "duration": 0,
    "start_time": "2022-05-03T12:47:36.319Z"
   },
   {
    "duration": 0,
    "start_time": "2022-05-03T12:47:36.320Z"
   },
   {
    "duration": 0,
    "start_time": "2022-05-03T12:47:36.321Z"
   },
   {
    "duration": 0,
    "start_time": "2022-05-03T12:47:36.322Z"
   },
   {
    "duration": 0,
    "start_time": "2022-05-03T12:47:36.323Z"
   },
   {
    "duration": 0,
    "start_time": "2022-05-03T12:47:36.324Z"
   },
   {
    "duration": 0,
    "start_time": "2022-05-03T12:47:36.325Z"
   },
   {
    "duration": 0,
    "start_time": "2022-05-03T12:47:36.326Z"
   },
   {
    "duration": 0,
    "start_time": "2022-05-03T12:47:36.327Z"
   },
   {
    "duration": 0,
    "start_time": "2022-05-03T12:47:36.328Z"
   },
   {
    "duration": 0,
    "start_time": "2022-05-03T12:47:36.329Z"
   },
   {
    "duration": 0,
    "start_time": "2022-05-03T12:47:36.330Z"
   },
   {
    "duration": 0,
    "start_time": "2022-05-03T12:47:36.331Z"
   },
   {
    "duration": 29,
    "start_time": "2022-05-03T12:48:11.540Z"
   },
   {
    "duration": 21,
    "start_time": "2022-05-03T12:48:33.388Z"
   },
   {
    "duration": 30,
    "start_time": "2022-05-03T13:03:19.585Z"
   },
   {
    "duration": 1606,
    "start_time": "2022-05-03T13:03:29.353Z"
   },
   {
    "duration": 706,
    "start_time": "2022-05-03T13:03:30.961Z"
   },
   {
    "duration": 25,
    "start_time": "2022-05-03T13:03:31.668Z"
   },
   {
    "duration": 32,
    "start_time": "2022-05-03T13:03:31.707Z"
   },
   {
    "duration": 20,
    "start_time": "2022-05-03T13:03:31.741Z"
   },
   {
    "duration": 20,
    "start_time": "2022-05-03T13:03:31.763Z"
   },
   {
    "duration": 45,
    "start_time": "2022-05-03T13:03:31.785Z"
   },
   {
    "duration": 18,
    "start_time": "2022-05-03T13:03:31.832Z"
   },
   {
    "duration": 4,
    "start_time": "2022-05-03T13:03:31.852Z"
   },
   {
    "duration": 13,
    "start_time": "2022-05-03T13:03:31.858Z"
   },
   {
    "duration": 39,
    "start_time": "2022-05-03T13:03:31.872Z"
   },
   {
    "duration": 5,
    "start_time": "2022-05-03T13:03:31.913Z"
   },
   {
    "duration": 9,
    "start_time": "2022-05-03T13:03:31.919Z"
   },
   {
    "duration": 77,
    "start_time": "2022-05-03T13:03:31.930Z"
   },
   {
    "duration": 30,
    "start_time": "2022-05-03T13:03:32.010Z"
   },
   {
    "duration": 8,
    "start_time": "2022-05-03T13:03:32.041Z"
   },
   {
    "duration": 8,
    "start_time": "2022-05-03T13:03:32.051Z"
   },
   {
    "duration": 62,
    "start_time": "2022-05-03T13:03:32.060Z"
   },
   {
    "duration": 17,
    "start_time": "2022-05-03T13:03:32.124Z"
   },
   {
    "duration": 12,
    "start_time": "2022-05-03T13:03:32.142Z"
   },
   {
    "duration": 2640,
    "start_time": "2022-05-03T13:03:32.156Z"
   },
   {
    "duration": 0,
    "start_time": "2022-05-03T13:03:34.799Z"
   },
   {
    "duration": 0,
    "start_time": "2022-05-03T13:03:34.800Z"
   },
   {
    "duration": 0,
    "start_time": "2022-05-03T13:03:34.801Z"
   },
   {
    "duration": 0,
    "start_time": "2022-05-03T13:03:34.802Z"
   },
   {
    "duration": 0,
    "start_time": "2022-05-03T13:03:34.803Z"
   },
   {
    "duration": 0,
    "start_time": "2022-05-03T13:03:34.807Z"
   },
   {
    "duration": 0,
    "start_time": "2022-05-03T13:03:34.809Z"
   },
   {
    "duration": 0,
    "start_time": "2022-05-03T13:03:34.811Z"
   },
   {
    "duration": 0,
    "start_time": "2022-05-03T13:03:34.813Z"
   },
   {
    "duration": 0,
    "start_time": "2022-05-03T13:03:34.814Z"
   },
   {
    "duration": 0,
    "start_time": "2022-05-03T13:03:34.815Z"
   },
   {
    "duration": 0,
    "start_time": "2022-05-03T13:03:34.816Z"
   },
   {
    "duration": 0,
    "start_time": "2022-05-03T13:03:34.817Z"
   },
   {
    "duration": 0,
    "start_time": "2022-05-03T13:03:34.819Z"
   },
   {
    "duration": 0,
    "start_time": "2022-05-03T13:03:34.823Z"
   },
   {
    "duration": 0,
    "start_time": "2022-05-03T13:03:34.824Z"
   },
   {
    "duration": 0,
    "start_time": "2022-05-03T13:03:34.825Z"
   },
   {
    "duration": 0,
    "start_time": "2022-05-03T13:03:34.826Z"
   },
   {
    "duration": 0,
    "start_time": "2022-05-03T13:03:34.827Z"
   },
   {
    "duration": 0,
    "start_time": "2022-05-03T13:03:34.829Z"
   },
   {
    "duration": 0,
    "start_time": "2022-05-03T13:03:34.830Z"
   },
   {
    "duration": 0,
    "start_time": "2022-05-03T13:03:34.832Z"
   },
   {
    "duration": 0,
    "start_time": "2022-05-03T13:03:34.834Z"
   },
   {
    "duration": 0,
    "start_time": "2022-05-03T13:03:34.835Z"
   },
   {
    "duration": 0,
    "start_time": "2022-05-03T13:03:34.836Z"
   },
   {
    "duration": 0,
    "start_time": "2022-05-03T13:03:34.837Z"
   },
   {
    "duration": 0,
    "start_time": "2022-05-03T13:03:34.838Z"
   },
   {
    "duration": 0,
    "start_time": "2022-05-03T13:03:34.839Z"
   },
   {
    "duration": 0,
    "start_time": "2022-05-03T13:03:34.840Z"
   },
   {
    "duration": 0,
    "start_time": "2022-05-03T13:03:34.841Z"
   },
   {
    "duration": 0,
    "start_time": "2022-05-03T13:03:34.842Z"
   },
   {
    "duration": 0,
    "start_time": "2022-05-03T13:03:34.843Z"
   },
   {
    "duration": 0,
    "start_time": "2022-05-03T13:03:34.845Z"
   },
   {
    "duration": 0,
    "start_time": "2022-05-03T13:03:34.846Z"
   },
   {
    "duration": 0,
    "start_time": "2022-05-03T13:03:34.847Z"
   },
   {
    "duration": 0,
    "start_time": "2022-05-03T13:03:34.848Z"
   },
   {
    "duration": 0,
    "start_time": "2022-05-03T13:03:34.907Z"
   },
   {
    "duration": 26,
    "start_time": "2022-05-03T13:04:47.202Z"
   },
   {
    "duration": 82,
    "start_time": "2022-05-03T13:04:56.146Z"
   },
   {
    "duration": 1536,
    "start_time": "2022-05-03T13:05:03.743Z"
   },
   {
    "duration": 682,
    "start_time": "2022-05-03T13:05:05.281Z"
   },
   {
    "duration": 27,
    "start_time": "2022-05-03T13:05:05.965Z"
   },
   {
    "duration": 35,
    "start_time": "2022-05-03T13:05:05.994Z"
   },
   {
    "duration": 22,
    "start_time": "2022-05-03T13:05:06.031Z"
   },
   {
    "duration": 21,
    "start_time": "2022-05-03T13:05:06.056Z"
   },
   {
    "duration": 44,
    "start_time": "2022-05-03T13:05:06.079Z"
   },
   {
    "duration": 19,
    "start_time": "2022-05-03T13:05:06.124Z"
   },
   {
    "duration": 4,
    "start_time": "2022-05-03T13:05:06.145Z"
   },
   {
    "duration": 14,
    "start_time": "2022-05-03T13:05:06.152Z"
   },
   {
    "duration": 6,
    "start_time": "2022-05-03T13:05:06.219Z"
   },
   {
    "duration": 5,
    "start_time": "2022-05-03T13:05:06.227Z"
   },
   {
    "duration": 7,
    "start_time": "2022-05-03T13:05:06.233Z"
   },
   {
    "duration": 41,
    "start_time": "2022-05-03T13:05:06.242Z"
   },
   {
    "duration": 51,
    "start_time": "2022-05-03T13:05:06.284Z"
   },
   {
    "duration": 9,
    "start_time": "2022-05-03T13:05:06.337Z"
   },
   {
    "duration": 13,
    "start_time": "2022-05-03T13:05:06.348Z"
   },
   {
    "duration": 89,
    "start_time": "2022-05-03T13:05:06.362Z"
   },
   {
    "duration": 20,
    "start_time": "2022-05-03T13:05:06.453Z"
   },
   {
    "duration": 13,
    "start_time": "2022-05-03T13:05:06.475Z"
   },
   {
    "duration": 2227,
    "start_time": "2022-05-03T13:05:06.490Z"
   },
   {
    "duration": 0,
    "start_time": "2022-05-03T13:05:08.720Z"
   },
   {
    "duration": 0,
    "start_time": "2022-05-03T13:05:08.721Z"
   },
   {
    "duration": 0,
    "start_time": "2022-05-03T13:05:08.723Z"
   },
   {
    "duration": 0,
    "start_time": "2022-05-03T13:05:08.724Z"
   },
   {
    "duration": 0,
    "start_time": "2022-05-03T13:05:08.725Z"
   },
   {
    "duration": 0,
    "start_time": "2022-05-03T13:05:08.727Z"
   },
   {
    "duration": 0,
    "start_time": "2022-05-03T13:05:08.728Z"
   },
   {
    "duration": 0,
    "start_time": "2022-05-03T13:05:08.729Z"
   },
   {
    "duration": 0,
    "start_time": "2022-05-03T13:05:08.730Z"
   },
   {
    "duration": 0,
    "start_time": "2022-05-03T13:05:08.731Z"
   },
   {
    "duration": 0,
    "start_time": "2022-05-03T13:05:08.732Z"
   },
   {
    "duration": 0,
    "start_time": "2022-05-03T13:05:08.733Z"
   },
   {
    "duration": 0,
    "start_time": "2022-05-03T13:05:08.734Z"
   },
   {
    "duration": 0,
    "start_time": "2022-05-03T13:05:08.735Z"
   },
   {
    "duration": 0,
    "start_time": "2022-05-03T13:05:08.736Z"
   },
   {
    "duration": 0,
    "start_time": "2022-05-03T13:05:08.737Z"
   },
   {
    "duration": 0,
    "start_time": "2022-05-03T13:05:08.738Z"
   },
   {
    "duration": 0,
    "start_time": "2022-05-03T13:05:08.739Z"
   },
   {
    "duration": 0,
    "start_time": "2022-05-03T13:05:08.740Z"
   },
   {
    "duration": 0,
    "start_time": "2022-05-03T13:05:08.740Z"
   },
   {
    "duration": 0,
    "start_time": "2022-05-03T13:05:08.741Z"
   },
   {
    "duration": 0,
    "start_time": "2022-05-03T13:05:08.743Z"
   },
   {
    "duration": 0,
    "start_time": "2022-05-03T13:05:08.744Z"
   },
   {
    "duration": 0,
    "start_time": "2022-05-03T13:05:08.745Z"
   },
   {
    "duration": 0,
    "start_time": "2022-05-03T13:05:08.746Z"
   },
   {
    "duration": 0,
    "start_time": "2022-05-03T13:05:08.747Z"
   },
   {
    "duration": 0,
    "start_time": "2022-05-03T13:05:08.747Z"
   },
   {
    "duration": 0,
    "start_time": "2022-05-03T13:05:08.748Z"
   },
   {
    "duration": 0,
    "start_time": "2022-05-03T13:05:08.749Z"
   },
   {
    "duration": 0,
    "start_time": "2022-05-03T13:05:08.750Z"
   },
   {
    "duration": 0,
    "start_time": "2022-05-03T13:05:08.751Z"
   },
   {
    "duration": 0,
    "start_time": "2022-05-03T13:05:08.752Z"
   },
   {
    "duration": 0,
    "start_time": "2022-05-03T13:05:08.807Z"
   },
   {
    "duration": 0,
    "start_time": "2022-05-03T13:05:08.808Z"
   },
   {
    "duration": 0,
    "start_time": "2022-05-03T13:05:08.813Z"
   },
   {
    "duration": 0,
    "start_time": "2022-05-03T13:05:08.813Z"
   },
   {
    "duration": 0,
    "start_time": "2022-05-03T13:05:08.817Z"
   },
   {
    "duration": 1437,
    "start_time": "2022-05-03T13:05:42.306Z"
   },
   {
    "duration": 627,
    "start_time": "2022-05-03T13:05:43.745Z"
   },
   {
    "duration": 25,
    "start_time": "2022-05-03T13:05:44.373Z"
   },
   {
    "duration": 22,
    "start_time": "2022-05-03T13:05:44.406Z"
   },
   {
    "duration": 21,
    "start_time": "2022-05-03T13:05:44.430Z"
   },
   {
    "duration": 18,
    "start_time": "2022-05-03T13:05:44.453Z"
   },
   {
    "duration": 38,
    "start_time": "2022-05-03T13:05:44.473Z"
   },
   {
    "duration": 18,
    "start_time": "2022-05-03T13:05:44.512Z"
   },
   {
    "duration": 4,
    "start_time": "2022-05-03T13:05:44.532Z"
   },
   {
    "duration": 12,
    "start_time": "2022-05-03T13:05:44.540Z"
   },
   {
    "duration": 5,
    "start_time": "2022-05-03T13:05:44.553Z"
   },
   {
    "duration": 6,
    "start_time": "2022-05-03T13:05:44.559Z"
   },
   {
    "duration": 6,
    "start_time": "2022-05-03T13:05:44.608Z"
   },
   {
    "duration": 31,
    "start_time": "2022-05-03T13:05:44.616Z"
   },
   {
    "duration": 20,
    "start_time": "2022-05-03T13:05:44.649Z"
   },
   {
    "duration": 9,
    "start_time": "2022-05-03T13:05:44.671Z"
   },
   {
    "duration": 10,
    "start_time": "2022-05-03T13:05:44.708Z"
   },
   {
    "duration": 27,
    "start_time": "2022-05-03T13:05:44.720Z"
   },
   {
    "duration": 16,
    "start_time": "2022-05-03T13:05:44.749Z"
   },
   {
    "duration": 45,
    "start_time": "2022-05-03T13:05:44.767Z"
   },
   {
    "duration": 1793,
    "start_time": "2022-05-03T13:05:44.814Z"
   },
   {
    "duration": 0,
    "start_time": "2022-05-03T13:05:46.611Z"
   },
   {
    "duration": 0,
    "start_time": "2022-05-03T13:05:46.613Z"
   },
   {
    "duration": 0,
    "start_time": "2022-05-03T13:05:46.614Z"
   },
   {
    "duration": 0,
    "start_time": "2022-05-03T13:05:46.616Z"
   },
   {
    "duration": 0,
    "start_time": "2022-05-03T13:05:46.617Z"
   },
   {
    "duration": 0,
    "start_time": "2022-05-03T13:05:46.618Z"
   },
   {
    "duration": 0,
    "start_time": "2022-05-03T13:05:46.620Z"
   },
   {
    "duration": 0,
    "start_time": "2022-05-03T13:05:46.621Z"
   },
   {
    "duration": 0,
    "start_time": "2022-05-03T13:05:46.623Z"
   },
   {
    "duration": 0,
    "start_time": "2022-05-03T13:05:46.624Z"
   },
   {
    "duration": 0,
    "start_time": "2022-05-03T13:05:46.626Z"
   },
   {
    "duration": 0,
    "start_time": "2022-05-03T13:05:46.627Z"
   },
   {
    "duration": 0,
    "start_time": "2022-05-03T13:05:46.629Z"
   },
   {
    "duration": 0,
    "start_time": "2022-05-03T13:05:46.630Z"
   },
   {
    "duration": 0,
    "start_time": "2022-05-03T13:05:46.631Z"
   },
   {
    "duration": 0,
    "start_time": "2022-05-03T13:05:46.633Z"
   },
   {
    "duration": 0,
    "start_time": "2022-05-03T13:05:46.634Z"
   },
   {
    "duration": 0,
    "start_time": "2022-05-03T13:05:46.636Z"
   },
   {
    "duration": 0,
    "start_time": "2022-05-03T13:05:46.637Z"
   },
   {
    "duration": 0,
    "start_time": "2022-05-03T13:05:46.639Z"
   },
   {
    "duration": 0,
    "start_time": "2022-05-03T13:05:46.640Z"
   },
   {
    "duration": 0,
    "start_time": "2022-05-03T13:05:46.643Z"
   },
   {
    "duration": 0,
    "start_time": "2022-05-03T13:05:46.644Z"
   },
   {
    "duration": 0,
    "start_time": "2022-05-03T13:05:46.645Z"
   },
   {
    "duration": 0,
    "start_time": "2022-05-03T13:05:46.647Z"
   },
   {
    "duration": 0,
    "start_time": "2022-05-03T13:05:46.648Z"
   },
   {
    "duration": 0,
    "start_time": "2022-05-03T13:05:46.708Z"
   },
   {
    "duration": 0,
    "start_time": "2022-05-03T13:05:46.709Z"
   },
   {
    "duration": 0,
    "start_time": "2022-05-03T13:05:46.711Z"
   },
   {
    "duration": 0,
    "start_time": "2022-05-03T13:05:46.713Z"
   },
   {
    "duration": 0,
    "start_time": "2022-05-03T13:05:46.714Z"
   },
   {
    "duration": 0,
    "start_time": "2022-05-03T13:05:46.716Z"
   },
   {
    "duration": 0,
    "start_time": "2022-05-03T13:05:46.717Z"
   },
   {
    "duration": 0,
    "start_time": "2022-05-03T13:05:46.719Z"
   },
   {
    "duration": 0,
    "start_time": "2022-05-03T13:05:46.720Z"
   },
   {
    "duration": 0,
    "start_time": "2022-05-03T13:05:46.722Z"
   },
   {
    "duration": 0,
    "start_time": "2022-05-03T13:05:46.723Z"
   },
   {
    "duration": 1510,
    "start_time": "2022-05-03T13:07:02.576Z"
   },
   {
    "duration": 641,
    "start_time": "2022-05-03T13:07:04.088Z"
   },
   {
    "duration": 27,
    "start_time": "2022-05-03T13:07:04.731Z"
   },
   {
    "duration": 22,
    "start_time": "2022-05-03T13:07:04.761Z"
   },
   {
    "duration": 40,
    "start_time": "2022-05-03T13:07:04.785Z"
   },
   {
    "duration": 20,
    "start_time": "2022-05-03T13:07:04.828Z"
   },
   {
    "duration": 15,
    "start_time": "2022-05-03T13:07:04.850Z"
   },
   {
    "duration": 48,
    "start_time": "2022-05-03T13:07:04.867Z"
   },
   {
    "duration": 5,
    "start_time": "2022-05-03T13:07:04.917Z"
   },
   {
    "duration": 30,
    "start_time": "2022-05-03T13:07:04.925Z"
   },
   {
    "duration": 6,
    "start_time": "2022-05-03T13:07:04.957Z"
   },
   {
    "duration": 7,
    "start_time": "2022-05-03T13:07:04.964Z"
   },
   {
    "duration": 12,
    "start_time": "2022-05-03T13:07:04.972Z"
   },
   {
    "duration": 50,
    "start_time": "2022-05-03T13:07:04.985Z"
   },
   {
    "duration": 21,
    "start_time": "2022-05-03T13:07:05.037Z"
   },
   {
    "duration": 9,
    "start_time": "2022-05-03T13:07:05.059Z"
   },
   {
    "duration": 39,
    "start_time": "2022-05-03T13:07:05.069Z"
   },
   {
    "duration": 29,
    "start_time": "2022-05-03T13:07:05.110Z"
   },
   {
    "duration": 15,
    "start_time": "2022-05-03T13:07:05.141Z"
   },
   {
    "duration": 13,
    "start_time": "2022-05-03T13:07:05.158Z"
   },
   {
    "duration": 2082,
    "start_time": "2022-05-03T13:07:05.172Z"
   },
   {
    "duration": 0,
    "start_time": "2022-05-03T13:07:07.308Z"
   },
   {
    "duration": 0,
    "start_time": "2022-05-03T13:07:07.309Z"
   },
   {
    "duration": 0,
    "start_time": "2022-05-03T13:07:07.310Z"
   },
   {
    "duration": 0,
    "start_time": "2022-05-03T13:07:07.311Z"
   },
   {
    "duration": 0,
    "start_time": "2022-05-03T13:07:07.312Z"
   },
   {
    "duration": 0,
    "start_time": "2022-05-03T13:07:07.313Z"
   },
   {
    "duration": 0,
    "start_time": "2022-05-03T13:07:07.314Z"
   },
   {
    "duration": 0,
    "start_time": "2022-05-03T13:07:07.315Z"
   },
   {
    "duration": 0,
    "start_time": "2022-05-03T13:07:07.316Z"
   },
   {
    "duration": 0,
    "start_time": "2022-05-03T13:07:07.317Z"
   },
   {
    "duration": 0,
    "start_time": "2022-05-03T13:07:07.318Z"
   },
   {
    "duration": 0,
    "start_time": "2022-05-03T13:07:07.319Z"
   },
   {
    "duration": 0,
    "start_time": "2022-05-03T13:07:07.320Z"
   },
   {
    "duration": 0,
    "start_time": "2022-05-03T13:07:07.321Z"
   },
   {
    "duration": 0,
    "start_time": "2022-05-03T13:07:07.322Z"
   },
   {
    "duration": 0,
    "start_time": "2022-05-03T13:07:07.323Z"
   },
   {
    "duration": 0,
    "start_time": "2022-05-03T13:07:07.323Z"
   },
   {
    "duration": 0,
    "start_time": "2022-05-03T13:07:07.324Z"
   },
   {
    "duration": 0,
    "start_time": "2022-05-03T13:07:07.325Z"
   },
   {
    "duration": 0,
    "start_time": "2022-05-03T13:07:07.326Z"
   },
   {
    "duration": 0,
    "start_time": "2022-05-03T13:07:07.327Z"
   },
   {
    "duration": 0,
    "start_time": "2022-05-03T13:07:07.328Z"
   },
   {
    "duration": 0,
    "start_time": "2022-05-03T13:07:07.329Z"
   },
   {
    "duration": 0,
    "start_time": "2022-05-03T13:07:07.330Z"
   },
   {
    "duration": 0,
    "start_time": "2022-05-03T13:07:07.331Z"
   },
   {
    "duration": 0,
    "start_time": "2022-05-03T13:07:07.332Z"
   },
   {
    "duration": 0,
    "start_time": "2022-05-03T13:07:07.333Z"
   },
   {
    "duration": 0,
    "start_time": "2022-05-03T13:07:07.334Z"
   },
   {
    "duration": 0,
    "start_time": "2022-05-03T13:07:07.335Z"
   },
   {
    "duration": 0,
    "start_time": "2022-05-03T13:07:07.336Z"
   },
   {
    "duration": 0,
    "start_time": "2022-05-03T13:07:07.336Z"
   },
   {
    "duration": 0,
    "start_time": "2022-05-03T13:07:07.338Z"
   },
   {
    "duration": 0,
    "start_time": "2022-05-03T13:07:07.338Z"
   },
   {
    "duration": 0,
    "start_time": "2022-05-03T13:07:07.339Z"
   },
   {
    "duration": 0,
    "start_time": "2022-05-03T13:07:07.340Z"
   },
   {
    "duration": 0,
    "start_time": "2022-05-03T13:07:07.341Z"
   },
   {
    "duration": 0,
    "start_time": "2022-05-03T13:07:07.342Z"
   },
   {
    "duration": 1616,
    "start_time": "2022-05-03T13:15:06.893Z"
   },
   {
    "duration": 699,
    "start_time": "2022-05-03T13:15:08.511Z"
   },
   {
    "duration": 27,
    "start_time": "2022-05-03T13:15:09.212Z"
   },
   {
    "duration": 23,
    "start_time": "2022-05-03T13:15:09.242Z"
   },
   {
    "duration": 44,
    "start_time": "2022-05-03T13:15:09.267Z"
   },
   {
    "duration": 21,
    "start_time": "2022-05-03T13:15:09.313Z"
   },
   {
    "duration": 16,
    "start_time": "2022-05-03T13:15:09.336Z"
   },
   {
    "duration": 53,
    "start_time": "2022-05-03T13:15:09.354Z"
   },
   {
    "duration": 5,
    "start_time": "2022-05-03T13:15:09.410Z"
   },
   {
    "duration": 15,
    "start_time": "2022-05-03T13:15:09.419Z"
   },
   {
    "duration": 7,
    "start_time": "2022-05-03T13:15:09.436Z"
   },
   {
    "duration": 6,
    "start_time": "2022-05-03T13:15:09.444Z"
   },
   {
    "duration": 12,
    "start_time": "2022-05-03T13:15:09.451Z"
   },
   {
    "duration": 71,
    "start_time": "2022-05-03T13:15:09.465Z"
   },
   {
    "duration": 22,
    "start_time": "2022-05-03T13:15:09.538Z"
   },
   {
    "duration": 22,
    "start_time": "2022-05-03T13:15:09.562Z"
   },
   {
    "duration": 23,
    "start_time": "2022-05-03T13:15:09.586Z"
   },
   {
    "duration": 34,
    "start_time": "2022-05-03T13:15:09.611Z"
   },
   {
    "duration": 16,
    "start_time": "2022-05-03T13:15:09.647Z"
   },
   {
    "duration": 19,
    "start_time": "2022-05-03T13:15:09.665Z"
   },
   {
    "duration": 1960,
    "start_time": "2022-05-03T13:15:09.685Z"
   },
   {
    "duration": 0,
    "start_time": "2022-05-03T13:15:11.647Z"
   },
   {
    "duration": 0,
    "start_time": "2022-05-03T13:15:11.649Z"
   },
   {
    "duration": 0,
    "start_time": "2022-05-03T13:15:11.650Z"
   },
   {
    "duration": 0,
    "start_time": "2022-05-03T13:15:11.651Z"
   },
   {
    "duration": 0,
    "start_time": "2022-05-03T13:15:11.652Z"
   },
   {
    "duration": 0,
    "start_time": "2022-05-03T13:15:11.653Z"
   },
   {
    "duration": 0,
    "start_time": "2022-05-03T13:15:11.654Z"
   },
   {
    "duration": 0,
    "start_time": "2022-05-03T13:15:11.655Z"
   },
   {
    "duration": 0,
    "start_time": "2022-05-03T13:15:11.656Z"
   },
   {
    "duration": 0,
    "start_time": "2022-05-03T13:15:11.658Z"
   },
   {
    "duration": 0,
    "start_time": "2022-05-03T13:15:11.659Z"
   },
   {
    "duration": 0,
    "start_time": "2022-05-03T13:15:11.660Z"
   },
   {
    "duration": 0,
    "start_time": "2022-05-03T13:15:11.661Z"
   },
   {
    "duration": 0,
    "start_time": "2022-05-03T13:15:11.661Z"
   },
   {
    "duration": 0,
    "start_time": "2022-05-03T13:15:11.662Z"
   },
   {
    "duration": 0,
    "start_time": "2022-05-03T13:15:11.663Z"
   },
   {
    "duration": 0,
    "start_time": "2022-05-03T13:15:11.664Z"
   },
   {
    "duration": 0,
    "start_time": "2022-05-03T13:15:11.665Z"
   },
   {
    "duration": 0,
    "start_time": "2022-05-03T13:15:11.667Z"
   },
   {
    "duration": 0,
    "start_time": "2022-05-03T13:15:11.668Z"
   },
   {
    "duration": 0,
    "start_time": "2022-05-03T13:15:11.669Z"
   },
   {
    "duration": 0,
    "start_time": "2022-05-03T13:15:11.670Z"
   },
   {
    "duration": 0,
    "start_time": "2022-05-03T13:15:11.671Z"
   },
   {
    "duration": 0,
    "start_time": "2022-05-03T13:15:11.707Z"
   },
   {
    "duration": 0,
    "start_time": "2022-05-03T13:15:11.708Z"
   },
   {
    "duration": 0,
    "start_time": "2022-05-03T13:15:11.710Z"
   },
   {
    "duration": 0,
    "start_time": "2022-05-03T13:15:11.711Z"
   },
   {
    "duration": 0,
    "start_time": "2022-05-03T13:15:11.712Z"
   },
   {
    "duration": 0,
    "start_time": "2022-05-03T13:15:11.713Z"
   },
   {
    "duration": 0,
    "start_time": "2022-05-03T13:15:11.715Z"
   },
   {
    "duration": 0,
    "start_time": "2022-05-03T13:15:11.716Z"
   },
   {
    "duration": 0,
    "start_time": "2022-05-03T13:15:11.717Z"
   },
   {
    "duration": 0,
    "start_time": "2022-05-03T13:15:11.718Z"
   },
   {
    "duration": 0,
    "start_time": "2022-05-03T13:15:11.719Z"
   },
   {
    "duration": 0,
    "start_time": "2022-05-03T13:15:11.720Z"
   },
   {
    "duration": 1,
    "start_time": "2022-05-03T13:15:11.720Z"
   },
   {
    "duration": 0,
    "start_time": "2022-05-03T13:15:11.721Z"
   },
   {
    "duration": 19,
    "start_time": "2022-05-03T13:15:50.177Z"
   },
   {
    "duration": 8,
    "start_time": "2022-05-03T13:20:35.141Z"
   },
   {
    "duration": 21,
    "start_time": "2022-05-03T13:20:57.725Z"
   },
   {
    "duration": 17,
    "start_time": "2022-05-03T13:21:30.295Z"
   },
   {
    "duration": 1493,
    "start_time": "2022-05-03T13:21:38.141Z"
   },
   {
    "duration": 694,
    "start_time": "2022-05-03T13:21:39.636Z"
   },
   {
    "duration": 27,
    "start_time": "2022-05-03T13:21:40.334Z"
   },
   {
    "duration": 26,
    "start_time": "2022-05-03T13:21:40.364Z"
   },
   {
    "duration": 35,
    "start_time": "2022-05-03T13:21:40.408Z"
   },
   {
    "duration": 20,
    "start_time": "2022-05-03T13:21:40.445Z"
   },
   {
    "duration": 43,
    "start_time": "2022-05-03T13:21:40.468Z"
   },
   {
    "duration": 20,
    "start_time": "2022-05-03T13:21:40.513Z"
   },
   {
    "duration": 4,
    "start_time": "2022-05-03T13:21:40.535Z"
   },
   {
    "duration": 13,
    "start_time": "2022-05-03T13:21:40.542Z"
   },
   {
    "duration": 6,
    "start_time": "2022-05-03T13:21:40.556Z"
   },
   {
    "duration": 52,
    "start_time": "2022-05-03T13:21:40.563Z"
   },
   {
    "duration": 4,
    "start_time": "2022-05-03T13:21:40.617Z"
   },
   {
    "duration": 8,
    "start_time": "2022-05-03T13:21:40.623Z"
   },
   {
    "duration": 158,
    "start_time": "2022-05-03T13:21:40.633Z"
   },
   {
    "duration": 0,
    "start_time": "2022-05-03T13:21:40.794Z"
   },
   {
    "duration": 0,
    "start_time": "2022-05-03T13:21:40.796Z"
   },
   {
    "duration": 0,
    "start_time": "2022-05-03T13:21:40.797Z"
   },
   {
    "duration": 0,
    "start_time": "2022-05-03T13:21:40.798Z"
   },
   {
    "duration": 0,
    "start_time": "2022-05-03T13:21:40.807Z"
   },
   {
    "duration": 0,
    "start_time": "2022-05-03T13:21:40.809Z"
   },
   {
    "duration": 0,
    "start_time": "2022-05-03T13:21:40.810Z"
   },
   {
    "duration": 0,
    "start_time": "2022-05-03T13:21:40.811Z"
   },
   {
    "duration": 0,
    "start_time": "2022-05-03T13:21:40.812Z"
   },
   {
    "duration": 0,
    "start_time": "2022-05-03T13:21:40.813Z"
   },
   {
    "duration": 0,
    "start_time": "2022-05-03T13:21:40.814Z"
   },
   {
    "duration": 0,
    "start_time": "2022-05-03T13:21:40.815Z"
   },
   {
    "duration": 0,
    "start_time": "2022-05-03T13:21:40.816Z"
   },
   {
    "duration": 0,
    "start_time": "2022-05-03T13:21:40.817Z"
   },
   {
    "duration": 0,
    "start_time": "2022-05-03T13:21:40.819Z"
   },
   {
    "duration": 0,
    "start_time": "2022-05-03T13:21:40.820Z"
   },
   {
    "duration": 0,
    "start_time": "2022-05-03T13:21:40.821Z"
   },
   {
    "duration": 0,
    "start_time": "2022-05-03T13:21:40.823Z"
   },
   {
    "duration": 0,
    "start_time": "2022-05-03T13:21:40.824Z"
   },
   {
    "duration": 0,
    "start_time": "2022-05-03T13:21:40.825Z"
   },
   {
    "duration": 0,
    "start_time": "2022-05-03T13:21:40.826Z"
   },
   {
    "duration": 0,
    "start_time": "2022-05-03T13:21:40.827Z"
   },
   {
    "duration": 0,
    "start_time": "2022-05-03T13:21:40.828Z"
   },
   {
    "duration": 0,
    "start_time": "2022-05-03T13:21:40.829Z"
   },
   {
    "duration": 0,
    "start_time": "2022-05-03T13:21:40.830Z"
   },
   {
    "duration": 0,
    "start_time": "2022-05-03T13:21:40.831Z"
   },
   {
    "duration": 0,
    "start_time": "2022-05-03T13:21:40.832Z"
   },
   {
    "duration": 0,
    "start_time": "2022-05-03T13:21:40.833Z"
   },
   {
    "duration": 0,
    "start_time": "2022-05-03T13:21:40.834Z"
   },
   {
    "duration": 0,
    "start_time": "2022-05-03T13:21:40.835Z"
   },
   {
    "duration": 0,
    "start_time": "2022-05-03T13:21:40.837Z"
   },
   {
    "duration": 0,
    "start_time": "2022-05-03T13:21:40.838Z"
   },
   {
    "duration": 0,
    "start_time": "2022-05-03T13:21:40.839Z"
   },
   {
    "duration": 0,
    "start_time": "2022-05-03T13:21:40.840Z"
   },
   {
    "duration": 0,
    "start_time": "2022-05-03T13:21:40.841Z"
   },
   {
    "duration": 0,
    "start_time": "2022-05-03T13:21:40.842Z"
   },
   {
    "duration": 0,
    "start_time": "2022-05-03T13:21:40.843Z"
   },
   {
    "duration": 0,
    "start_time": "2022-05-03T13:21:40.843Z"
   },
   {
    "duration": 0,
    "start_time": "2022-05-03T13:21:40.844Z"
   },
   {
    "duration": 0,
    "start_time": "2022-05-03T13:21:40.908Z"
   },
   {
    "duration": 0,
    "start_time": "2022-05-03T13:21:40.909Z"
   },
   {
    "duration": 0,
    "start_time": "2022-05-03T13:21:40.910Z"
   },
   {
    "duration": 0,
    "start_time": "2022-05-03T13:21:40.911Z"
   },
   {
    "duration": 0,
    "start_time": "2022-05-03T13:21:40.912Z"
   },
   {
    "duration": 17,
    "start_time": "2022-05-03T13:23:24.006Z"
   },
   {
    "duration": 24,
    "start_time": "2022-05-03T13:24:18.883Z"
   },
   {
    "duration": 1496,
    "start_time": "2022-05-03T13:24:25.280Z"
   },
   {
    "duration": 670,
    "start_time": "2022-05-03T13:24:26.778Z"
   },
   {
    "duration": 26,
    "start_time": "2022-05-03T13:24:27.450Z"
   },
   {
    "duration": 33,
    "start_time": "2022-05-03T13:24:27.478Z"
   },
   {
    "duration": 23,
    "start_time": "2022-05-03T13:24:27.512Z"
   },
   {
    "duration": 20,
    "start_time": "2022-05-03T13:24:27.537Z"
   },
   {
    "duration": 14,
    "start_time": "2022-05-03T13:24:27.559Z"
   },
   {
    "duration": 20,
    "start_time": "2022-05-03T13:24:27.608Z"
   },
   {
    "duration": 5,
    "start_time": "2022-05-03T13:24:27.630Z"
   },
   {
    "duration": 13,
    "start_time": "2022-05-03T13:24:27.639Z"
   },
   {
    "duration": 8,
    "start_time": "2022-05-03T13:24:27.653Z"
   },
   {
    "duration": 53,
    "start_time": "2022-05-03T13:24:27.662Z"
   },
   {
    "duration": 5,
    "start_time": "2022-05-03T13:24:27.717Z"
   },
   {
    "duration": 9,
    "start_time": "2022-05-03T13:24:27.723Z"
   },
   {
    "duration": 27,
    "start_time": "2022-05-03T13:24:27.734Z"
   },
   {
    "duration": 51,
    "start_time": "2022-05-03T13:24:27.762Z"
   },
   {
    "duration": 10,
    "start_time": "2022-05-03T13:24:27.815Z"
   },
   {
    "duration": 8,
    "start_time": "2022-05-03T13:24:27.827Z"
   },
   {
    "duration": 25,
    "start_time": "2022-05-03T13:24:27.837Z"
   },
   {
    "duration": 48,
    "start_time": "2022-05-03T13:24:27.864Z"
   },
   {
    "duration": 21,
    "start_time": "2022-05-03T13:24:27.914Z"
   },
   {
    "duration": 1820,
    "start_time": "2022-05-03T13:24:27.938Z"
   },
   {
    "duration": 0,
    "start_time": "2022-05-03T13:24:29.761Z"
   },
   {
    "duration": 0,
    "start_time": "2022-05-03T13:24:29.763Z"
   },
   {
    "duration": 0,
    "start_time": "2022-05-03T13:24:29.764Z"
   },
   {
    "duration": 0,
    "start_time": "2022-05-03T13:24:29.765Z"
   },
   {
    "duration": 0,
    "start_time": "2022-05-03T13:24:29.766Z"
   },
   {
    "duration": 0,
    "start_time": "2022-05-03T13:24:29.768Z"
   },
   {
    "duration": 0,
    "start_time": "2022-05-03T13:24:29.769Z"
   },
   {
    "duration": 0,
    "start_time": "2022-05-03T13:24:29.770Z"
   },
   {
    "duration": 0,
    "start_time": "2022-05-03T13:24:29.771Z"
   },
   {
    "duration": 0,
    "start_time": "2022-05-03T13:24:29.773Z"
   },
   {
    "duration": 0,
    "start_time": "2022-05-03T13:24:29.774Z"
   },
   {
    "duration": 0,
    "start_time": "2022-05-03T13:24:29.775Z"
   },
   {
    "duration": 0,
    "start_time": "2022-05-03T13:24:29.776Z"
   },
   {
    "duration": 0,
    "start_time": "2022-05-03T13:24:29.778Z"
   },
   {
    "duration": 0,
    "start_time": "2022-05-03T13:24:29.779Z"
   },
   {
    "duration": 0,
    "start_time": "2022-05-03T13:24:29.781Z"
   },
   {
    "duration": 0,
    "start_time": "2022-05-03T13:24:29.808Z"
   },
   {
    "duration": 0,
    "start_time": "2022-05-03T13:24:29.809Z"
   },
   {
    "duration": 0,
    "start_time": "2022-05-03T13:24:29.810Z"
   },
   {
    "duration": 0,
    "start_time": "2022-05-03T13:24:29.811Z"
   },
   {
    "duration": 0,
    "start_time": "2022-05-03T13:24:29.813Z"
   },
   {
    "duration": 0,
    "start_time": "2022-05-03T13:24:29.814Z"
   },
   {
    "duration": 0,
    "start_time": "2022-05-03T13:24:29.815Z"
   },
   {
    "duration": 0,
    "start_time": "2022-05-03T13:24:29.816Z"
   },
   {
    "duration": 0,
    "start_time": "2022-05-03T13:24:29.817Z"
   },
   {
    "duration": 0,
    "start_time": "2022-05-03T13:24:29.818Z"
   },
   {
    "duration": 0,
    "start_time": "2022-05-03T13:24:29.820Z"
   },
   {
    "duration": 0,
    "start_time": "2022-05-03T13:24:29.821Z"
   },
   {
    "duration": 0,
    "start_time": "2022-05-03T13:24:29.823Z"
   },
   {
    "duration": 0,
    "start_time": "2022-05-03T13:24:29.824Z"
   },
   {
    "duration": 0,
    "start_time": "2022-05-03T13:24:29.826Z"
   },
   {
    "duration": 0,
    "start_time": "2022-05-03T13:24:29.828Z"
   },
   {
    "duration": 0,
    "start_time": "2022-05-03T13:24:29.829Z"
   },
   {
    "duration": 0,
    "start_time": "2022-05-03T13:24:29.831Z"
   },
   {
    "duration": 0,
    "start_time": "2022-05-03T13:24:29.832Z"
   },
   {
    "duration": 0,
    "start_time": "2022-05-03T13:24:29.834Z"
   },
   {
    "duration": 0,
    "start_time": "2022-05-03T13:24:29.835Z"
   },
   {
    "duration": 77,
    "start_time": "2022-05-03T13:24:47.212Z"
   },
   {
    "duration": 17,
    "start_time": "2022-05-03T13:25:00.579Z"
   },
   {
    "duration": 1542,
    "start_time": "2022-05-03T13:25:20.888Z"
   },
   {
    "duration": 686,
    "start_time": "2022-05-03T13:25:22.432Z"
   },
   {
    "duration": 27,
    "start_time": "2022-05-03T13:25:23.120Z"
   },
   {
    "duration": 21,
    "start_time": "2022-05-03T13:25:23.149Z"
   },
   {
    "duration": 47,
    "start_time": "2022-05-03T13:25:23.172Z"
   },
   {
    "duration": 20,
    "start_time": "2022-05-03T13:25:23.221Z"
   },
   {
    "duration": 13,
    "start_time": "2022-05-03T13:25:23.243Z"
   },
   {
    "duration": 50,
    "start_time": "2022-05-03T13:25:23.257Z"
   },
   {
    "duration": 4,
    "start_time": "2022-05-03T13:25:23.309Z"
   },
   {
    "duration": 14,
    "start_time": "2022-05-03T13:25:23.316Z"
   },
   {
    "duration": 6,
    "start_time": "2022-05-03T13:25:23.332Z"
   },
   {
    "duration": 13,
    "start_time": "2022-05-03T13:25:23.340Z"
   },
   {
    "duration": 53,
    "start_time": "2022-05-03T13:25:23.355Z"
   },
   {
    "duration": 8,
    "start_time": "2022-05-03T13:25:23.410Z"
   },
   {
    "duration": 140,
    "start_time": "2022-05-03T13:25:23.419Z"
   },
   {
    "duration": 0,
    "start_time": "2022-05-03T13:25:23.562Z"
   },
   {
    "duration": 0,
    "start_time": "2022-05-03T13:25:23.563Z"
   },
   {
    "duration": 0,
    "start_time": "2022-05-03T13:25:23.563Z"
   },
   {
    "duration": 0,
    "start_time": "2022-05-03T13:25:23.564Z"
   },
   {
    "duration": 0,
    "start_time": "2022-05-03T13:25:23.565Z"
   },
   {
    "duration": 0,
    "start_time": "2022-05-03T13:25:23.566Z"
   },
   {
    "duration": 0,
    "start_time": "2022-05-03T13:25:23.568Z"
   },
   {
    "duration": 0,
    "start_time": "2022-05-03T13:25:23.569Z"
   },
   {
    "duration": 0,
    "start_time": "2022-05-03T13:25:23.569Z"
   },
   {
    "duration": 0,
    "start_time": "2022-05-03T13:25:23.570Z"
   },
   {
    "duration": 0,
    "start_time": "2022-05-03T13:25:23.571Z"
   },
   {
    "duration": 0,
    "start_time": "2022-05-03T13:25:23.572Z"
   },
   {
    "duration": 0,
    "start_time": "2022-05-03T13:25:23.573Z"
   },
   {
    "duration": 0,
    "start_time": "2022-05-03T13:25:23.574Z"
   },
   {
    "duration": 0,
    "start_time": "2022-05-03T13:25:23.575Z"
   },
   {
    "duration": 0,
    "start_time": "2022-05-03T13:25:23.576Z"
   },
   {
    "duration": 0,
    "start_time": "2022-05-03T13:25:23.577Z"
   },
   {
    "duration": 0,
    "start_time": "2022-05-03T13:25:23.578Z"
   },
   {
    "duration": 0,
    "start_time": "2022-05-03T13:25:23.579Z"
   },
   {
    "duration": 0,
    "start_time": "2022-05-03T13:25:23.607Z"
   },
   {
    "duration": 0,
    "start_time": "2022-05-03T13:25:23.609Z"
   },
   {
    "duration": 0,
    "start_time": "2022-05-03T13:25:23.610Z"
   },
   {
    "duration": 0,
    "start_time": "2022-05-03T13:25:23.610Z"
   },
   {
    "duration": 0,
    "start_time": "2022-05-03T13:25:23.611Z"
   },
   {
    "duration": 0,
    "start_time": "2022-05-03T13:25:23.612Z"
   },
   {
    "duration": 0,
    "start_time": "2022-05-03T13:25:23.613Z"
   },
   {
    "duration": 0,
    "start_time": "2022-05-03T13:25:23.614Z"
   },
   {
    "duration": 0,
    "start_time": "2022-05-03T13:25:23.615Z"
   },
   {
    "duration": 0,
    "start_time": "2022-05-03T13:25:23.616Z"
   },
   {
    "duration": 0,
    "start_time": "2022-05-03T13:25:23.617Z"
   },
   {
    "duration": 0,
    "start_time": "2022-05-03T13:25:23.618Z"
   },
   {
    "duration": 0,
    "start_time": "2022-05-03T13:25:23.619Z"
   },
   {
    "duration": 0,
    "start_time": "2022-05-03T13:25:23.620Z"
   },
   {
    "duration": 0,
    "start_time": "2022-05-03T13:25:23.621Z"
   },
   {
    "duration": 0,
    "start_time": "2022-05-03T13:25:23.622Z"
   },
   {
    "duration": 0,
    "start_time": "2022-05-03T13:25:23.623Z"
   },
   {
    "duration": 0,
    "start_time": "2022-05-03T13:25:23.624Z"
   },
   {
    "duration": 0,
    "start_time": "2022-05-03T13:25:23.625Z"
   },
   {
    "duration": 0,
    "start_time": "2022-05-03T13:25:23.626Z"
   },
   {
    "duration": 0,
    "start_time": "2022-05-03T13:25:23.627Z"
   },
   {
    "duration": 0,
    "start_time": "2022-05-03T13:25:23.628Z"
   },
   {
    "duration": 0,
    "start_time": "2022-05-03T13:25:23.629Z"
   },
   {
    "duration": 0,
    "start_time": "2022-05-03T13:25:23.630Z"
   },
   {
    "duration": 0,
    "start_time": "2022-05-03T13:25:23.631Z"
   },
   {
    "duration": 32,
    "start_time": "2022-05-03T13:40:38.969Z"
   },
   {
    "duration": 1565,
    "start_time": "2022-05-03T13:41:00.168Z"
   },
   {
    "duration": 703,
    "start_time": "2022-05-03T13:41:01.735Z"
   },
   {
    "duration": 26,
    "start_time": "2022-05-03T13:41:02.440Z"
   },
   {
    "duration": 39,
    "start_time": "2022-05-03T13:41:02.468Z"
   },
   {
    "duration": 22,
    "start_time": "2022-05-03T13:41:02.509Z"
   },
   {
    "duration": 19,
    "start_time": "2022-05-03T13:41:02.533Z"
   },
   {
    "duration": 13,
    "start_time": "2022-05-03T13:41:02.555Z"
   },
   {
    "duration": 55,
    "start_time": "2022-05-03T13:41:02.569Z"
   },
   {
    "duration": 4,
    "start_time": "2022-05-03T13:41:02.626Z"
   },
   {
    "duration": 14,
    "start_time": "2022-05-03T13:41:02.633Z"
   },
   {
    "duration": 5,
    "start_time": "2022-05-03T13:41:02.649Z"
   },
   {
    "duration": 24,
    "start_time": "2022-05-03T13:41:02.656Z"
   },
   {
    "duration": 33,
    "start_time": "2022-05-03T13:41:02.682Z"
   },
   {
    "duration": 33,
    "start_time": "2022-05-03T13:41:02.716Z"
   },
   {
    "duration": 21,
    "start_time": "2022-05-03T13:41:02.751Z"
   },
   {
    "duration": 34,
    "start_time": "2022-05-03T13:41:02.774Z"
   },
   {
    "duration": 9,
    "start_time": "2022-05-03T13:41:02.810Z"
   },
   {
    "duration": 32,
    "start_time": "2022-05-03T13:41:02.820Z"
   },
   {
    "duration": 15,
    "start_time": "2022-05-03T13:41:02.854Z"
   },
   {
    "duration": 47,
    "start_time": "2022-05-03T13:41:02.871Z"
   },
   {
    "duration": 1709,
    "start_time": "2022-05-03T13:41:02.920Z"
   },
   {
    "duration": 1,
    "start_time": "2022-05-03T13:41:04.632Z"
   },
   {
    "duration": 0,
    "start_time": "2022-05-03T13:41:04.634Z"
   },
   {
    "duration": 0,
    "start_time": "2022-05-03T13:41:04.636Z"
   },
   {
    "duration": 0,
    "start_time": "2022-05-03T13:41:04.637Z"
   },
   {
    "duration": 0,
    "start_time": "2022-05-03T13:41:04.638Z"
   },
   {
    "duration": 0,
    "start_time": "2022-05-03T13:41:04.640Z"
   },
   {
    "duration": 0,
    "start_time": "2022-05-03T13:41:04.642Z"
   },
   {
    "duration": 0,
    "start_time": "2022-05-03T13:41:04.643Z"
   },
   {
    "duration": 0,
    "start_time": "2022-05-03T13:41:04.645Z"
   },
   {
    "duration": 0,
    "start_time": "2022-05-03T13:41:04.647Z"
   },
   {
    "duration": 0,
    "start_time": "2022-05-03T13:41:04.649Z"
   },
   {
    "duration": 0,
    "start_time": "2022-05-03T13:41:04.650Z"
   },
   {
    "duration": 0,
    "start_time": "2022-05-03T13:41:04.652Z"
   },
   {
    "duration": 0,
    "start_time": "2022-05-03T13:41:04.653Z"
   },
   {
    "duration": 0,
    "start_time": "2022-05-03T13:41:04.654Z"
   },
   {
    "duration": 0,
    "start_time": "2022-05-03T13:41:04.656Z"
   },
   {
    "duration": 0,
    "start_time": "2022-05-03T13:41:04.657Z"
   },
   {
    "duration": 0,
    "start_time": "2022-05-03T13:41:04.659Z"
   },
   {
    "duration": 0,
    "start_time": "2022-05-03T13:41:04.660Z"
   },
   {
    "duration": 0,
    "start_time": "2022-05-03T13:41:04.661Z"
   },
   {
    "duration": 0,
    "start_time": "2022-05-03T13:41:04.663Z"
   },
   {
    "duration": 0,
    "start_time": "2022-05-03T13:41:04.708Z"
   },
   {
    "duration": 0,
    "start_time": "2022-05-03T13:41:04.709Z"
   },
   {
    "duration": 0,
    "start_time": "2022-05-03T13:41:04.711Z"
   },
   {
    "duration": 0,
    "start_time": "2022-05-03T13:41:04.712Z"
   },
   {
    "duration": 0,
    "start_time": "2022-05-03T13:41:04.714Z"
   },
   {
    "duration": 0,
    "start_time": "2022-05-03T13:41:04.715Z"
   },
   {
    "duration": 0,
    "start_time": "2022-05-03T13:41:04.716Z"
   },
   {
    "duration": 0,
    "start_time": "2022-05-03T13:41:04.718Z"
   },
   {
    "duration": 0,
    "start_time": "2022-05-03T13:41:04.719Z"
   },
   {
    "duration": 0,
    "start_time": "2022-05-03T13:41:04.721Z"
   },
   {
    "duration": 0,
    "start_time": "2022-05-03T13:41:04.722Z"
   },
   {
    "duration": 0,
    "start_time": "2022-05-03T13:41:04.723Z"
   },
   {
    "duration": 1,
    "start_time": "2022-05-03T13:41:04.724Z"
   },
   {
    "duration": 0,
    "start_time": "2022-05-03T13:41:04.726Z"
   },
   {
    "duration": 0,
    "start_time": "2022-05-03T13:41:04.727Z"
   },
   {
    "duration": 0,
    "start_time": "2022-05-03T13:41:04.729Z"
   },
   {
    "duration": 29,
    "start_time": "2022-05-03T13:42:39.618Z"
   },
   {
    "duration": 1569,
    "start_time": "2022-05-03T13:45:00.824Z"
   },
   {
    "duration": 688,
    "start_time": "2022-05-03T13:45:02.395Z"
   },
   {
    "duration": 32,
    "start_time": "2022-05-03T13:45:03.085Z"
   },
   {
    "duration": 22,
    "start_time": "2022-05-03T13:45:03.120Z"
   },
   {
    "duration": 23,
    "start_time": "2022-05-03T13:45:03.143Z"
   },
   {
    "duration": 45,
    "start_time": "2022-05-03T13:45:03.168Z"
   },
   {
    "duration": 15,
    "start_time": "2022-05-03T13:45:03.214Z"
   },
   {
    "duration": 18,
    "start_time": "2022-05-03T13:45:03.231Z"
   },
   {
    "duration": 4,
    "start_time": "2022-05-03T13:45:03.251Z"
   },
   {
    "duration": 50,
    "start_time": "2022-05-03T13:45:03.258Z"
   },
   {
    "duration": 6,
    "start_time": "2022-05-03T13:45:03.309Z"
   },
   {
    "duration": 16,
    "start_time": "2022-05-03T13:45:03.317Z"
   },
   {
    "duration": 8,
    "start_time": "2022-05-03T13:45:03.335Z"
   },
   {
    "duration": 6,
    "start_time": "2022-05-03T13:45:03.345Z"
   },
   {
    "duration": 0,
    "start_time": "2022-05-03T13:45:03.354Z"
   },
   {
    "duration": 0,
    "start_time": "2022-05-03T13:45:03.355Z"
   },
   {
    "duration": 0,
    "start_time": "2022-05-03T13:45:03.356Z"
   },
   {
    "duration": 1,
    "start_time": "2022-05-03T13:45:03.357Z"
   },
   {
    "duration": 0,
    "start_time": "2022-05-03T13:45:03.359Z"
   },
   {
    "duration": 0,
    "start_time": "2022-05-03T13:45:03.360Z"
   },
   {
    "duration": 0,
    "start_time": "2022-05-03T13:45:03.361Z"
   },
   {
    "duration": 0,
    "start_time": "2022-05-03T13:45:03.362Z"
   },
   {
    "duration": 0,
    "start_time": "2022-05-03T13:45:03.363Z"
   },
   {
    "duration": 0,
    "start_time": "2022-05-03T13:45:03.364Z"
   },
   {
    "duration": 0,
    "start_time": "2022-05-03T13:45:03.366Z"
   },
   {
    "duration": 0,
    "start_time": "2022-05-03T13:45:03.367Z"
   },
   {
    "duration": 0,
    "start_time": "2022-05-03T13:45:03.408Z"
   },
   {
    "duration": 0,
    "start_time": "2022-05-03T13:45:03.409Z"
   },
   {
    "duration": 0,
    "start_time": "2022-05-03T13:45:03.410Z"
   },
   {
    "duration": 0,
    "start_time": "2022-05-03T13:45:03.411Z"
   },
   {
    "duration": 0,
    "start_time": "2022-05-03T13:45:03.413Z"
   },
   {
    "duration": 0,
    "start_time": "2022-05-03T13:45:03.414Z"
   },
   {
    "duration": 0,
    "start_time": "2022-05-03T13:45:03.415Z"
   },
   {
    "duration": 0,
    "start_time": "2022-05-03T13:45:03.416Z"
   },
   {
    "duration": 0,
    "start_time": "2022-05-03T13:45:03.417Z"
   },
   {
    "duration": 0,
    "start_time": "2022-05-03T13:45:03.419Z"
   },
   {
    "duration": 0,
    "start_time": "2022-05-03T13:45:03.420Z"
   },
   {
    "duration": 0,
    "start_time": "2022-05-03T13:45:03.422Z"
   },
   {
    "duration": 0,
    "start_time": "2022-05-03T13:45:03.423Z"
   },
   {
    "duration": 0,
    "start_time": "2022-05-03T13:45:03.425Z"
   },
   {
    "duration": 0,
    "start_time": "2022-05-03T13:45:03.426Z"
   },
   {
    "duration": 0,
    "start_time": "2022-05-03T13:45:03.428Z"
   },
   {
    "duration": 0,
    "start_time": "2022-05-03T13:45:03.429Z"
   },
   {
    "duration": 0,
    "start_time": "2022-05-03T13:45:03.431Z"
   },
   {
    "duration": 0,
    "start_time": "2022-05-03T13:45:03.432Z"
   },
   {
    "duration": 0,
    "start_time": "2022-05-03T13:45:03.433Z"
   },
   {
    "duration": 0,
    "start_time": "2022-05-03T13:45:03.435Z"
   },
   {
    "duration": 0,
    "start_time": "2022-05-03T13:45:03.436Z"
   },
   {
    "duration": 0,
    "start_time": "2022-05-03T13:45:03.438Z"
   },
   {
    "duration": 0,
    "start_time": "2022-05-03T13:45:03.439Z"
   },
   {
    "duration": 0,
    "start_time": "2022-05-03T13:45:03.440Z"
   },
   {
    "duration": 0,
    "start_time": "2022-05-03T13:45:03.442Z"
   },
   {
    "duration": 0,
    "start_time": "2022-05-03T13:45:03.443Z"
   },
   {
    "duration": 0,
    "start_time": "2022-05-03T13:45:03.445Z"
   },
   {
    "duration": 0,
    "start_time": "2022-05-03T13:45:03.507Z"
   },
   {
    "duration": 0,
    "start_time": "2022-05-03T13:45:03.509Z"
   },
   {
    "duration": 0,
    "start_time": "2022-05-03T13:45:03.510Z"
   },
   {
    "duration": 0,
    "start_time": "2022-05-03T13:45:03.512Z"
   },
   {
    "duration": 19,
    "start_time": "2022-05-03T13:45:17.740Z"
   },
   {
    "duration": 25,
    "start_time": "2022-05-03T13:46:06.718Z"
   },
   {
    "duration": 1445,
    "start_time": "2022-05-03T13:46:12.653Z"
   },
   {
    "duration": 664,
    "start_time": "2022-05-03T13:46:14.100Z"
   },
   {
    "duration": 28,
    "start_time": "2022-05-03T13:46:14.765Z"
   },
   {
    "duration": 23,
    "start_time": "2022-05-03T13:46:14.806Z"
   },
   {
    "duration": 23,
    "start_time": "2022-05-03T13:46:14.831Z"
   },
   {
    "duration": 19,
    "start_time": "2022-05-03T13:46:14.856Z"
   },
   {
    "duration": 39,
    "start_time": "2022-05-03T13:46:14.877Z"
   },
   {
    "duration": 18,
    "start_time": "2022-05-03T13:46:14.919Z"
   },
   {
    "duration": 5,
    "start_time": "2022-05-03T13:46:14.939Z"
   },
   {
    "duration": 14,
    "start_time": "2022-05-03T13:46:14.947Z"
   },
   {
    "duration": 6,
    "start_time": "2022-05-03T13:46:14.962Z"
   },
   {
    "duration": 40,
    "start_time": "2022-05-03T13:46:14.970Z"
   },
   {
    "duration": 16,
    "start_time": "2022-05-03T13:46:15.013Z"
   },
   {
    "duration": 19,
    "start_time": "2022-05-03T13:46:15.031Z"
   },
   {
    "duration": 26,
    "start_time": "2022-05-03T13:46:15.051Z"
   },
   {
    "duration": 36,
    "start_time": "2022-05-03T13:46:15.079Z"
   },
   {
    "duration": 7,
    "start_time": "2022-05-03T13:46:15.117Z"
   },
   {
    "duration": 25,
    "start_time": "2022-05-03T13:46:15.126Z"
   },
   {
    "duration": 15,
    "start_time": "2022-05-03T13:46:15.153Z"
   },
   {
    "duration": 47,
    "start_time": "2022-05-03T13:46:15.169Z"
   },
   {
    "duration": 618,
    "start_time": "2022-05-03T13:46:15.218Z"
   },
   {
    "duration": 598,
    "start_time": "2022-05-03T13:46:15.839Z"
   },
   {
    "duration": 7,
    "start_time": "2022-05-03T13:46:16.440Z"
   },
   {
    "duration": 17,
    "start_time": "2022-05-03T13:46:16.449Z"
   },
   {
    "duration": 44,
    "start_time": "2022-05-03T13:46:16.468Z"
   },
   {
    "duration": 9,
    "start_time": "2022-05-03T13:46:16.514Z"
   },
   {
    "duration": 7,
    "start_time": "2022-05-03T13:46:16.525Z"
   },
   {
    "duration": 9,
    "start_time": "2022-05-03T13:46:16.537Z"
   },
   {
    "duration": 246,
    "start_time": "2022-05-03T13:46:16.548Z"
   },
   {
    "duration": 242,
    "start_time": "2022-05-03T13:46:16.796Z"
   },
   {
    "duration": 313,
    "start_time": "2022-05-03T13:46:17.040Z"
   },
   {
    "duration": 9,
    "start_time": "2022-05-03T13:46:17.355Z"
   },
   {
    "duration": 14,
    "start_time": "2022-05-03T13:46:17.366Z"
   },
   {
    "duration": 32,
    "start_time": "2022-05-03T13:46:17.382Z"
   },
   {
    "duration": 8,
    "start_time": "2022-05-03T13:46:17.416Z"
   },
   {
    "duration": 5,
    "start_time": "2022-05-03T13:46:17.426Z"
   },
   {
    "duration": 4,
    "start_time": "2022-05-03T13:46:17.433Z"
   },
   {
    "duration": 4,
    "start_time": "2022-05-03T13:46:17.439Z"
   },
   {
    "duration": 10,
    "start_time": "2022-05-03T13:46:17.445Z"
   },
   {
    "duration": 5,
    "start_time": "2022-05-03T13:46:17.458Z"
   },
   {
    "duration": 43,
    "start_time": "2022-05-03T13:46:17.465Z"
   },
   {
    "duration": 6,
    "start_time": "2022-05-03T13:46:17.510Z"
   },
   {
    "duration": 7,
    "start_time": "2022-05-03T13:46:17.517Z"
   },
   {
    "duration": 11,
    "start_time": "2022-05-03T13:46:17.526Z"
   },
   {
    "duration": 9,
    "start_time": "2022-05-03T13:46:17.538Z"
   },
   {
    "duration": 2568,
    "start_time": "2022-05-03T13:46:17.549Z"
   },
   {
    "duration": 10055,
    "start_time": "2022-05-03T13:46:20.121Z"
   },
   {
    "duration": 43862,
    "start_time": "2022-05-03T13:46:30.178Z"
   },
   {
    "duration": 4,
    "start_time": "2022-05-03T13:47:14.042Z"
   },
   {
    "duration": 3038,
    "start_time": "2022-05-03T13:47:14.048Z"
   },
   {
    "duration": 4,
    "start_time": "2022-05-03T13:47:17.088Z"
   },
   {
    "duration": 16,
    "start_time": "2022-05-03T13:47:17.093Z"
   },
   {
    "duration": 5,
    "start_time": "2022-05-03T13:47:17.111Z"
   },
   {
    "duration": 38,
    "start_time": "2022-05-03T13:47:17.119Z"
   },
   {
    "duration": 20888,
    "start_time": "2022-05-03T13:47:17.159Z"
   },
   {
    "duration": 17837,
    "start_time": "2022-05-03T13:47:38.049Z"
   },
   {
    "duration": 3,
    "start_time": "2022-05-03T13:47:55.888Z"
   },
   {
    "duration": 27,
    "start_time": "2022-05-03T13:47:55.893Z"
   },
   {
    "duration": 75,
    "start_time": "2022-05-03T13:51:43.960Z"
   },
   {
    "duration": 19,
    "start_time": "2022-05-03T13:51:49.949Z"
   },
   {
    "duration": 16,
    "start_time": "2022-05-03T13:55:15.360Z"
   },
   {
    "duration": 1483,
    "start_time": "2022-05-03T13:55:24.466Z"
   },
   {
    "duration": 710,
    "start_time": "2022-05-03T13:55:25.951Z"
   },
   {
    "duration": 29,
    "start_time": "2022-05-03T13:55:26.662Z"
   },
   {
    "duration": 32,
    "start_time": "2022-05-03T13:55:26.693Z"
   },
   {
    "duration": 22,
    "start_time": "2022-05-03T13:55:26.727Z"
   },
   {
    "duration": 29,
    "start_time": "2022-05-03T13:55:26.751Z"
   },
   {
    "duration": 40,
    "start_time": "2022-05-03T13:55:26.782Z"
   },
   {
    "duration": 20,
    "start_time": "2022-05-03T13:55:26.824Z"
   },
   {
    "duration": 5,
    "start_time": "2022-05-03T13:55:26.845Z"
   },
   {
    "duration": 15,
    "start_time": "2022-05-03T13:55:26.853Z"
   },
   {
    "duration": 45,
    "start_time": "2022-05-03T13:55:26.869Z"
   },
   {
    "duration": 6,
    "start_time": "2022-05-03T13:55:26.916Z"
   },
   {
    "duration": 12,
    "start_time": "2022-05-03T13:55:26.923Z"
   },
   {
    "duration": 21,
    "start_time": "2022-05-03T13:55:26.937Z"
   },
   {
    "duration": 67,
    "start_time": "2022-05-03T13:55:26.961Z"
   },
   {
    "duration": 11,
    "start_time": "2022-05-03T13:55:27.030Z"
   },
   {
    "duration": 7,
    "start_time": "2022-05-03T13:55:27.043Z"
   },
   {
    "duration": 25,
    "start_time": "2022-05-03T13:55:27.052Z"
   },
   {
    "duration": 40,
    "start_time": "2022-05-03T13:55:27.079Z"
   },
   {
    "duration": 16,
    "start_time": "2022-05-03T13:55:27.121Z"
   },
   {
    "duration": 693,
    "start_time": "2022-05-03T13:55:27.139Z"
   },
   {
    "duration": 591,
    "start_time": "2022-05-03T13:55:27.834Z"
   },
   {
    "duration": 8,
    "start_time": "2022-05-03T13:55:28.427Z"
   },
   {
    "duration": 20,
    "start_time": "2022-05-03T13:55:28.438Z"
   },
   {
    "duration": 21,
    "start_time": "2022-05-03T13:55:28.460Z"
   },
   {
    "duration": 28,
    "start_time": "2022-05-03T13:55:28.483Z"
   },
   {
    "duration": 8,
    "start_time": "2022-05-03T13:55:28.513Z"
   },
   {
    "duration": 7,
    "start_time": "2022-05-03T13:55:28.524Z"
   },
   {
    "duration": 251,
    "start_time": "2022-05-03T13:55:28.532Z"
   },
   {
    "duration": 241,
    "start_time": "2022-05-03T13:55:28.785Z"
   },
   {
    "duration": 312,
    "start_time": "2022-05-03T13:55:29.028Z"
   },
   {
    "duration": 10,
    "start_time": "2022-05-03T13:55:29.342Z"
   },
   {
    "duration": 14,
    "start_time": "2022-05-03T13:55:29.354Z"
   },
   {
    "duration": 39,
    "start_time": "2022-05-03T13:55:29.370Z"
   },
   {
    "duration": 8,
    "start_time": "2022-05-03T13:55:29.411Z"
   },
   {
    "duration": 5,
    "start_time": "2022-05-03T13:55:29.421Z"
   },
   {
    "duration": 4,
    "start_time": "2022-05-03T13:55:29.428Z"
   },
   {
    "duration": 4,
    "start_time": "2022-05-03T13:55:29.434Z"
   },
   {
    "duration": 10,
    "start_time": "2022-05-03T13:55:29.440Z"
   },
   {
    "duration": 7,
    "start_time": "2022-05-03T13:55:29.452Z"
   },
   {
    "duration": 7,
    "start_time": "2022-05-03T13:55:29.461Z"
   },
   {
    "duration": 7,
    "start_time": "2022-05-03T13:55:29.508Z"
   },
   {
    "duration": 5,
    "start_time": "2022-05-03T13:55:29.517Z"
   },
   {
    "duration": 7,
    "start_time": "2022-05-03T13:55:29.524Z"
   },
   {
    "duration": 10,
    "start_time": "2022-05-03T13:55:29.533Z"
   },
   {
    "duration": 3166,
    "start_time": "2022-05-03T13:55:29.545Z"
   },
   {
    "duration": 11637,
    "start_time": "2022-05-03T13:55:32.714Z"
   },
   {
    "duration": 44151,
    "start_time": "2022-05-03T13:55:44.353Z"
   },
   {
    "duration": 5,
    "start_time": "2022-05-03T13:56:28.506Z"
   },
   {
    "duration": 2981,
    "start_time": "2022-05-03T13:56:28.513Z"
   },
   {
    "duration": 5,
    "start_time": "2022-05-03T13:56:31.496Z"
   },
   {
    "duration": 2,
    "start_time": "2022-05-03T13:56:31.508Z"
   },
   {
    "duration": 8,
    "start_time": "2022-05-03T13:56:31.512Z"
   },
   {
    "duration": 7,
    "start_time": "2022-05-03T13:56:31.522Z"
   },
   {
    "duration": 19157,
    "start_time": "2022-05-03T13:56:31.530Z"
   },
   {
    "duration": 19620,
    "start_time": "2022-05-03T13:56:50.689Z"
   },
   {
    "duration": 4,
    "start_time": "2022-05-03T13:57:10.310Z"
   },
   {
    "duration": 29,
    "start_time": "2022-05-03T13:57:10.315Z"
   },
   {
    "duration": 8,
    "start_time": "2022-05-03T14:04:04.356Z"
   },
   {
    "duration": 1576,
    "start_time": "2022-05-03T14:04:28.597Z"
   },
   {
    "duration": 737,
    "start_time": "2022-05-03T14:04:30.175Z"
   },
   {
    "duration": 27,
    "start_time": "2022-05-03T14:04:30.914Z"
   },
   {
    "duration": 23,
    "start_time": "2022-05-03T14:04:30.943Z"
   },
   {
    "duration": 43,
    "start_time": "2022-05-03T14:04:30.968Z"
   },
   {
    "duration": 32,
    "start_time": "2022-05-03T14:04:31.013Z"
   },
   {
    "duration": 14,
    "start_time": "2022-05-03T14:04:31.047Z"
   },
   {
    "duration": 45,
    "start_time": "2022-05-03T14:04:31.063Z"
   },
   {
    "duration": 5,
    "start_time": "2022-05-03T14:04:31.111Z"
   },
   {
    "duration": 19,
    "start_time": "2022-05-03T14:04:31.120Z"
   },
   {
    "duration": 7,
    "start_time": "2022-05-03T14:04:31.141Z"
   },
   {
    "duration": 10,
    "start_time": "2022-05-03T14:04:31.150Z"
   },
   {
    "duration": 47,
    "start_time": "2022-05-03T14:04:31.162Z"
   },
   {
    "duration": 41,
    "start_time": "2022-05-03T14:04:31.211Z"
   },
   {
    "duration": 21,
    "start_time": "2022-05-03T14:04:31.254Z"
   },
   {
    "duration": 53,
    "start_time": "2022-05-03T14:04:31.277Z"
   },
   {
    "duration": 10,
    "start_time": "2022-05-03T14:04:31.332Z"
   },
   {
    "duration": 10,
    "start_time": "2022-05-03T14:04:31.344Z"
   },
   {
    "duration": 53,
    "start_time": "2022-05-03T14:04:31.357Z"
   },
   {
    "duration": 16,
    "start_time": "2022-05-03T14:04:31.412Z"
   },
   {
    "duration": 18,
    "start_time": "2022-05-03T14:04:31.430Z"
   },
   {
    "duration": 760,
    "start_time": "2022-05-03T14:04:31.450Z"
   },
   {
    "duration": 612,
    "start_time": "2022-05-03T14:04:32.212Z"
   },
   {
    "duration": 7,
    "start_time": "2022-05-03T14:04:32.826Z"
   },
   {
    "duration": 17,
    "start_time": "2022-05-03T14:04:32.835Z"
   },
   {
    "duration": 24,
    "start_time": "2022-05-03T14:04:32.854Z"
   },
   {
    "duration": 28,
    "start_time": "2022-05-03T14:04:32.880Z"
   },
   {
    "duration": 7,
    "start_time": "2022-05-03T14:04:32.913Z"
   },
   {
    "duration": 7,
    "start_time": "2022-05-03T14:04:32.921Z"
   },
   {
    "duration": 249,
    "start_time": "2022-05-03T14:04:32.931Z"
   },
   {
    "duration": 227,
    "start_time": "2022-05-03T14:04:33.182Z"
   },
   {
    "duration": 305,
    "start_time": "2022-05-03T14:04:33.411Z"
   },
   {
    "duration": 10,
    "start_time": "2022-05-03T14:04:33.718Z"
   },
   {
    "duration": 16,
    "start_time": "2022-05-03T14:04:33.730Z"
   },
   {
    "duration": 11,
    "start_time": "2022-05-03T14:04:33.748Z"
   },
   {
    "duration": 2,
    "start_time": "2022-05-03T14:04:33.761Z"
   },
   {
    "duration": 5,
    "start_time": "2022-05-03T14:04:33.765Z"
   },
   {
    "duration": 37,
    "start_time": "2022-05-03T14:04:33.772Z"
   },
   {
    "duration": 6,
    "start_time": "2022-05-03T14:04:33.812Z"
   },
   {
    "duration": 10,
    "start_time": "2022-05-03T14:04:33.820Z"
   },
   {
    "duration": 7,
    "start_time": "2022-05-03T14:04:33.832Z"
   },
   {
    "duration": 6,
    "start_time": "2022-05-03T14:04:33.841Z"
   },
   {
    "duration": 199,
    "start_time": "2022-05-03T14:04:33.848Z"
   },
   {
    "duration": 0,
    "start_time": "2022-05-03T14:04:34.048Z"
   },
   {
    "duration": 0,
    "start_time": "2022-05-03T14:04:34.049Z"
   },
   {
    "duration": 0,
    "start_time": "2022-05-03T14:04:34.050Z"
   },
   {
    "duration": 0,
    "start_time": "2022-05-03T14:04:34.051Z"
   },
   {
    "duration": 0,
    "start_time": "2022-05-03T14:04:34.052Z"
   },
   {
    "duration": 0,
    "start_time": "2022-05-03T14:04:34.108Z"
   },
   {
    "duration": 0,
    "start_time": "2022-05-03T14:04:34.109Z"
   },
   {
    "duration": 0,
    "start_time": "2022-05-03T14:04:34.110Z"
   },
   {
    "duration": 0,
    "start_time": "2022-05-03T14:04:34.111Z"
   },
   {
    "duration": 0,
    "start_time": "2022-05-03T14:04:34.112Z"
   },
   {
    "duration": 0,
    "start_time": "2022-05-03T14:04:34.113Z"
   },
   {
    "duration": 0,
    "start_time": "2022-05-03T14:04:34.114Z"
   },
   {
    "duration": 0,
    "start_time": "2022-05-03T14:04:34.115Z"
   },
   {
    "duration": 0,
    "start_time": "2022-05-03T14:04:34.116Z"
   },
   {
    "duration": 0,
    "start_time": "2022-05-03T14:04:34.117Z"
   },
   {
    "duration": 0,
    "start_time": "2022-05-03T14:04:34.119Z"
   },
   {
    "duration": 70,
    "start_time": "2022-05-03T14:10:04.783Z"
   },
   {
    "duration": 1564,
    "start_time": "2022-05-03T14:11:19.080Z"
   },
   {
    "duration": 749,
    "start_time": "2022-05-03T14:11:20.646Z"
   },
   {
    "duration": 29,
    "start_time": "2022-05-03T14:11:21.396Z"
   },
   {
    "duration": 23,
    "start_time": "2022-05-03T14:11:21.427Z"
   },
   {
    "duration": 23,
    "start_time": "2022-05-03T14:11:21.453Z"
   },
   {
    "duration": 47,
    "start_time": "2022-05-03T14:11:21.478Z"
   },
   {
    "duration": 14,
    "start_time": "2022-05-03T14:11:21.527Z"
   },
   {
    "duration": 18,
    "start_time": "2022-05-03T14:11:21.543Z"
   },
   {
    "duration": 5,
    "start_time": "2022-05-03T14:11:21.563Z"
   },
   {
    "duration": 50,
    "start_time": "2022-05-03T14:11:21.571Z"
   },
   {
    "duration": 6,
    "start_time": "2022-05-03T14:11:21.623Z"
   },
   {
    "duration": 8,
    "start_time": "2022-05-03T14:11:21.631Z"
   },
   {
    "duration": 9,
    "start_time": "2022-05-03T14:11:21.641Z"
   },
   {
    "duration": 6,
    "start_time": "2022-05-03T14:11:21.652Z"
   },
   {
    "duration": 52,
    "start_time": "2022-05-03T14:11:21.659Z"
   },
   {
    "duration": 22,
    "start_time": "2022-05-03T14:11:21.712Z"
   },
   {
    "duration": 11,
    "start_time": "2022-05-03T14:11:21.736Z"
   },
   {
    "duration": 7,
    "start_time": "2022-05-03T14:11:21.749Z"
   },
   {
    "duration": 57,
    "start_time": "2022-05-03T14:11:21.757Z"
   },
   {
    "duration": 16,
    "start_time": "2022-05-03T14:11:21.815Z"
   },
   {
    "duration": 15,
    "start_time": "2022-05-03T14:11:21.832Z"
   },
   {
    "duration": 681,
    "start_time": "2022-05-03T14:11:21.848Z"
   },
   {
    "duration": 601,
    "start_time": "2022-05-03T14:11:22.531Z"
   },
   {
    "duration": 7,
    "start_time": "2022-05-03T14:11:23.134Z"
   },
   {
    "duration": 17,
    "start_time": "2022-05-03T14:11:23.143Z"
   },
   {
    "duration": 45,
    "start_time": "2022-05-03T14:11:23.163Z"
   },
   {
    "duration": 9,
    "start_time": "2022-05-03T14:11:23.210Z"
   },
   {
    "duration": 9,
    "start_time": "2022-05-03T14:11:23.225Z"
   },
   {
    "duration": 8,
    "start_time": "2022-05-03T14:11:23.236Z"
   },
   {
    "duration": 239,
    "start_time": "2022-05-03T14:11:23.246Z"
   },
   {
    "duration": 237,
    "start_time": "2022-05-03T14:11:23.486Z"
   },
   {
    "duration": 312,
    "start_time": "2022-05-03T14:11:23.724Z"
   },
   {
    "duration": 9,
    "start_time": "2022-05-03T14:11:24.038Z"
   },
   {
    "duration": 14,
    "start_time": "2022-05-03T14:11:24.049Z"
   },
   {
    "duration": 12,
    "start_time": "2022-05-03T14:11:24.065Z"
   },
   {
    "duration": 28,
    "start_time": "2022-05-03T14:11:24.080Z"
   },
   {
    "duration": 4,
    "start_time": "2022-05-03T14:11:24.110Z"
   },
   {
    "duration": 5,
    "start_time": "2022-05-03T14:11:24.116Z"
   },
   {
    "duration": 4,
    "start_time": "2022-05-03T14:11:24.123Z"
   },
   {
    "duration": 13,
    "start_time": "2022-05-03T14:11:24.129Z"
   },
   {
    "duration": 9,
    "start_time": "2022-05-03T14:11:24.145Z"
   },
   {
    "duration": 7,
    "start_time": "2022-05-03T14:11:24.156Z"
   },
   {
    "duration": 11,
    "start_time": "2022-05-03T14:11:24.165Z"
   },
   {
    "duration": 30,
    "start_time": "2022-05-03T14:11:24.177Z"
   },
   {
    "duration": 6,
    "start_time": "2022-05-03T14:11:24.210Z"
   },
   {
    "duration": 13,
    "start_time": "2022-05-03T14:11:24.218Z"
   },
   {
    "duration": 3072,
    "start_time": "2022-05-03T14:11:24.234Z"
   },
   {
    "duration": 9673,
    "start_time": "2022-05-03T14:11:27.309Z"
   },
   {
    "duration": 43299,
    "start_time": "2022-05-03T14:11:36.984Z"
   },
   {
    "duration": 3,
    "start_time": "2022-05-03T14:12:20.285Z"
   },
   {
    "duration": 2957,
    "start_time": "2022-05-03T14:12:20.290Z"
   },
   {
    "duration": 4,
    "start_time": "2022-05-03T14:12:23.249Z"
   },
   {
    "duration": 6,
    "start_time": "2022-05-03T14:12:23.255Z"
   },
   {
    "duration": 8,
    "start_time": "2022-05-03T14:12:23.263Z"
   },
   {
    "duration": 6,
    "start_time": "2022-05-03T14:12:23.272Z"
   },
   {
    "duration": 18952,
    "start_time": "2022-05-03T14:12:23.280Z"
   },
   {
    "duration": 19375,
    "start_time": "2022-05-03T14:12:42.234Z"
   },
   {
    "duration": 4,
    "start_time": "2022-05-03T14:13:01.610Z"
   },
   {
    "duration": 47,
    "start_time": "2022-05-03T14:13:01.616Z"
   },
   {
    "duration": 10,
    "start_time": "2022-05-03T14:17:05.246Z"
   },
   {
    "duration": 1513,
    "start_time": "2022-05-03T14:18:40.265Z"
   },
   {
    "duration": 714,
    "start_time": "2022-05-03T14:18:41.780Z"
   },
   {
    "duration": 28,
    "start_time": "2022-05-03T14:18:42.496Z"
   },
   {
    "duration": 23,
    "start_time": "2022-05-03T14:18:42.526Z"
   },
   {
    "duration": 22,
    "start_time": "2022-05-03T14:18:42.551Z"
   },
   {
    "duration": 46,
    "start_time": "2022-05-03T14:18:42.575Z"
   },
   {
    "duration": 19,
    "start_time": "2022-05-03T14:18:42.624Z"
   },
   {
    "duration": 19,
    "start_time": "2022-05-03T14:18:42.645Z"
   },
   {
    "duration": 4,
    "start_time": "2022-05-03T14:18:42.666Z"
   },
   {
    "duration": 15,
    "start_time": "2022-05-03T14:18:42.711Z"
   },
   {
    "duration": 7,
    "start_time": "2022-05-03T14:18:42.728Z"
   },
   {
    "duration": 6,
    "start_time": "2022-05-03T14:18:42.737Z"
   },
   {
    "duration": 8,
    "start_time": "2022-05-03T14:18:42.745Z"
   },
   {
    "duration": 4,
    "start_time": "2022-05-03T14:18:42.755Z"
   },
   {
    "duration": 64,
    "start_time": "2022-05-03T14:18:42.761Z"
   },
   {
    "duration": 33,
    "start_time": "2022-05-03T14:18:42.827Z"
   },
   {
    "duration": 8,
    "start_time": "2022-05-03T14:18:42.862Z"
   },
   {
    "duration": 37,
    "start_time": "2022-05-03T14:18:42.872Z"
   },
   {
    "duration": 27,
    "start_time": "2022-05-03T14:18:42.911Z"
   },
   {
    "duration": 14,
    "start_time": "2022-05-03T14:18:42.940Z"
   },
   {
    "duration": 13,
    "start_time": "2022-05-03T14:18:42.956Z"
   },
   {
    "duration": 650,
    "start_time": "2022-05-03T14:18:42.971Z"
   },
   {
    "duration": 594,
    "start_time": "2022-05-03T14:18:43.623Z"
   },
   {
    "duration": 6,
    "start_time": "2022-05-03T14:18:44.220Z"
   },
   {
    "duration": 17,
    "start_time": "2022-05-03T14:18:44.228Z"
   },
   {
    "duration": 21,
    "start_time": "2022-05-03T14:18:44.247Z"
   },
   {
    "duration": 6,
    "start_time": "2022-05-03T14:18:44.270Z"
   },
   {
    "duration": 7,
    "start_time": "2022-05-03T14:18:44.310Z"
   },
   {
    "duration": 7,
    "start_time": "2022-05-03T14:18:44.319Z"
   },
   {
    "duration": 215,
    "start_time": "2022-05-03T14:18:44.328Z"
   },
   {
    "duration": 240,
    "start_time": "2022-05-03T14:18:44.545Z"
   },
   {
    "duration": 313,
    "start_time": "2022-05-03T14:18:44.786Z"
   },
   {
    "duration": 9,
    "start_time": "2022-05-03T14:18:45.101Z"
   },
   {
    "duration": 15,
    "start_time": "2022-05-03T14:18:45.111Z"
   },
   {
    "duration": 10,
    "start_time": "2022-05-03T14:18:45.127Z"
   },
   {
    "duration": 2,
    "start_time": "2022-05-03T14:18:45.139Z"
   },
   {
    "duration": 4,
    "start_time": "2022-05-03T14:18:45.143Z"
   },
   {
    "duration": 5,
    "start_time": "2022-05-03T14:18:45.149Z"
   },
   {
    "duration": 5,
    "start_time": "2022-05-03T14:18:45.155Z"
   },
   {
    "duration": 47,
    "start_time": "2022-05-03T14:18:45.161Z"
   },
   {
    "duration": 10,
    "start_time": "2022-05-03T14:18:45.210Z"
   },
   {
    "duration": 7,
    "start_time": "2022-05-03T14:18:45.221Z"
   },
   {
    "duration": 7,
    "start_time": "2022-05-03T14:18:45.230Z"
   },
   {
    "duration": 4,
    "start_time": "2022-05-03T14:18:45.239Z"
   },
   {
    "duration": 5,
    "start_time": "2022-05-03T14:18:45.245Z"
   },
   {
    "duration": 8,
    "start_time": "2022-05-03T14:18:45.252Z"
   },
   {
    "duration": 2849,
    "start_time": "2022-05-03T14:18:45.261Z"
   },
   {
    "duration": 9929,
    "start_time": "2022-05-03T14:18:48.113Z"
   },
   {
    "duration": 43563,
    "start_time": "2022-05-03T14:18:58.043Z"
   },
   {
    "duration": 4,
    "start_time": "2022-05-03T14:19:41.608Z"
   },
   {
    "duration": 2944,
    "start_time": "2022-05-03T14:19:41.614Z"
   },
   {
    "duration": 4,
    "start_time": "2022-05-03T14:19:44.560Z"
   },
   {
    "duration": 9,
    "start_time": "2022-05-03T14:19:44.565Z"
   },
   {
    "duration": 5,
    "start_time": "2022-05-03T14:19:44.576Z"
   },
   {
    "duration": 5,
    "start_time": "2022-05-03T14:19:44.583Z"
   },
   {
    "duration": 19830,
    "start_time": "2022-05-03T14:19:44.590Z"
   },
   {
    "duration": 19950,
    "start_time": "2022-05-03T14:20:04.422Z"
   },
   {
    "duration": 4,
    "start_time": "2022-05-03T14:20:24.374Z"
   },
   {
    "duration": 31,
    "start_time": "2022-05-03T14:20:24.380Z"
   },
   {
    "duration": 9,
    "start_time": "2022-05-03T14:20:24.413Z"
   },
   {
    "duration": 1550,
    "start_time": "2022-05-03T14:23:56.679Z"
   },
   {
    "duration": 729,
    "start_time": "2022-05-03T14:23:58.232Z"
   },
   {
    "duration": 26,
    "start_time": "2022-05-03T14:23:58.963Z"
   },
   {
    "duration": 33,
    "start_time": "2022-05-03T14:23:58.991Z"
   },
   {
    "duration": 24,
    "start_time": "2022-05-03T14:23:59.025Z"
   },
   {
    "duration": 21,
    "start_time": "2022-05-03T14:23:59.051Z"
   },
   {
    "duration": 44,
    "start_time": "2022-05-03T14:23:59.074Z"
   },
   {
    "duration": 19,
    "start_time": "2022-05-03T14:23:59.120Z"
   },
   {
    "duration": 4,
    "start_time": "2022-05-03T14:23:59.142Z"
   },
   {
    "duration": 15,
    "start_time": "2022-05-03T14:23:59.151Z"
   },
   {
    "duration": 6,
    "start_time": "2022-05-03T14:23:59.208Z"
   },
   {
    "duration": 5,
    "start_time": "2022-05-03T14:23:59.217Z"
   },
   {
    "duration": 11,
    "start_time": "2022-05-03T14:23:59.224Z"
   },
   {
    "duration": 3,
    "start_time": "2022-05-03T14:23:59.237Z"
   },
   {
    "duration": 20,
    "start_time": "2022-05-03T14:23:59.242Z"
   },
   {
    "duration": 56,
    "start_time": "2022-05-03T14:23:59.264Z"
   },
   {
    "duration": 10,
    "start_time": "2022-05-03T14:23:59.322Z"
   },
   {
    "duration": 9,
    "start_time": "2022-05-03T14:23:59.334Z"
   },
   {
    "duration": 26,
    "start_time": "2022-05-03T14:23:59.345Z"
   },
   {
    "duration": 15,
    "start_time": "2022-05-03T14:23:59.408Z"
   },
   {
    "duration": 17,
    "start_time": "2022-05-03T14:23:59.425Z"
   },
   {
    "duration": 661,
    "start_time": "2022-05-03T14:23:59.443Z"
   },
   {
    "duration": 662,
    "start_time": "2022-05-03T14:24:00.108Z"
   },
   {
    "duration": 10,
    "start_time": "2022-05-03T14:24:00.772Z"
   },
   {
    "duration": 33,
    "start_time": "2022-05-03T14:24:00.784Z"
   },
   {
    "duration": 35,
    "start_time": "2022-05-03T14:24:00.819Z"
   },
   {
    "duration": 12,
    "start_time": "2022-05-03T14:24:00.856Z"
   },
   {
    "duration": 20,
    "start_time": "2022-05-03T14:24:00.873Z"
   },
   {
    "duration": 25,
    "start_time": "2022-05-03T14:24:00.895Z"
   },
   {
    "duration": 222,
    "start_time": "2022-05-03T14:24:00.922Z"
   },
   {
    "duration": 242,
    "start_time": "2022-05-03T14:24:01.147Z"
   },
   {
    "duration": 318,
    "start_time": "2022-05-03T14:24:01.390Z"
   },
   {
    "duration": 9,
    "start_time": "2022-05-03T14:24:01.710Z"
   },
   {
    "duration": 30,
    "start_time": "2022-05-03T14:24:01.720Z"
   },
   {
    "duration": 11,
    "start_time": "2022-05-03T14:24:01.751Z"
   },
   {
    "duration": 6,
    "start_time": "2022-05-03T14:24:01.764Z"
   },
   {
    "duration": 19,
    "start_time": "2022-05-03T14:24:01.772Z"
   },
   {
    "duration": 14,
    "start_time": "2022-05-03T14:24:01.793Z"
   },
   {
    "duration": 13,
    "start_time": "2022-05-03T14:24:01.809Z"
   },
   {
    "duration": 15,
    "start_time": "2022-05-03T14:24:01.824Z"
   },
   {
    "duration": 34,
    "start_time": "2022-05-03T14:24:01.841Z"
   },
   {
    "duration": 15,
    "start_time": "2022-05-03T14:24:01.876Z"
   },
   {
    "duration": 15,
    "start_time": "2022-05-03T14:24:01.893Z"
   },
   {
    "duration": 16,
    "start_time": "2022-05-03T14:24:01.910Z"
   },
   {
    "duration": 14,
    "start_time": "2022-05-03T14:24:01.927Z"
   },
   {
    "duration": 15,
    "start_time": "2022-05-03T14:24:01.943Z"
   },
   {
    "duration": 2647,
    "start_time": "2022-05-03T14:24:01.960Z"
   },
   {
    "duration": 10044,
    "start_time": "2022-05-03T14:24:04.610Z"
   },
   {
    "duration": 43978,
    "start_time": "2022-05-03T14:24:14.656Z"
   },
   {
    "duration": 4,
    "start_time": "2022-05-03T14:24:58.636Z"
   },
   {
    "duration": 2972,
    "start_time": "2022-05-03T14:24:58.642Z"
   },
   {
    "duration": 6,
    "start_time": "2022-05-03T14:25:01.616Z"
   },
   {
    "duration": 0,
    "start_time": "2022-05-03T14:25:01.623Z"
   },
   {
    "duration": 0,
    "start_time": "2022-05-03T14:25:01.625Z"
   },
   {
    "duration": 0,
    "start_time": "2022-05-03T14:25:01.626Z"
   },
   {
    "duration": 0,
    "start_time": "2022-05-03T14:25:01.628Z"
   },
   {
    "duration": 0,
    "start_time": "2022-05-03T14:25:01.629Z"
   },
   {
    "duration": 0,
    "start_time": "2022-05-03T14:25:01.629Z"
   },
   {
    "duration": 0,
    "start_time": "2022-05-03T14:25:01.631Z"
   },
   {
    "duration": 0,
    "start_time": "2022-05-03T14:25:01.632Z"
   },
   {
    "duration": 725924,
    "start_time": "2022-05-03T14:49:15.663Z"
   },
   {
    "duration": 7,
    "start_time": "2022-05-03T15:06:32.214Z"
   },
   {
    "duration": 7,
    "start_time": "2022-05-03T15:09:07.259Z"
   },
   {
    "duration": 13,
    "start_time": "2022-05-03T15:13:46.318Z"
   },
   {
    "duration": 1483,
    "start_time": "2022-05-03T15:28:24.935Z"
   },
   {
    "duration": 727,
    "start_time": "2022-05-03T15:28:26.420Z"
   },
   {
    "duration": 28,
    "start_time": "2022-05-03T15:28:27.149Z"
   },
   {
    "duration": 39,
    "start_time": "2022-05-03T15:28:27.179Z"
   },
   {
    "duration": 37,
    "start_time": "2022-05-03T15:28:27.220Z"
   },
   {
    "duration": 19,
    "start_time": "2022-05-03T15:28:27.259Z"
   },
   {
    "duration": 17,
    "start_time": "2022-05-03T15:28:27.307Z"
   },
   {
    "duration": 20,
    "start_time": "2022-05-03T15:28:27.326Z"
   },
   {
    "duration": 5,
    "start_time": "2022-05-03T15:28:27.348Z"
   },
   {
    "duration": 53,
    "start_time": "2022-05-03T15:28:27.356Z"
   },
   {
    "duration": 6,
    "start_time": "2022-05-03T15:28:27.411Z"
   },
   {
    "duration": 5,
    "start_time": "2022-05-03T15:28:27.418Z"
   },
   {
    "duration": 7,
    "start_time": "2022-05-03T15:28:27.425Z"
   },
   {
    "duration": 5,
    "start_time": "2022-05-03T15:28:27.434Z"
   },
   {
    "duration": 18,
    "start_time": "2022-05-03T15:28:27.440Z"
   },
   {
    "duration": 67,
    "start_time": "2022-05-03T15:28:27.460Z"
   },
   {
    "duration": 11,
    "start_time": "2022-05-03T15:28:27.530Z"
   },
   {
    "duration": 10,
    "start_time": "2022-05-03T15:28:27.543Z"
   },
   {
    "duration": 63,
    "start_time": "2022-05-03T15:28:27.555Z"
   },
   {
    "duration": 20,
    "start_time": "2022-05-03T15:28:27.621Z"
   },
   {
    "duration": 19,
    "start_time": "2022-05-03T15:28:27.644Z"
   },
   {
    "duration": 834,
    "start_time": "2022-05-03T15:28:27.665Z"
   },
   {
    "duration": 833,
    "start_time": "2022-05-03T15:28:28.501Z"
   },
   {
    "duration": 6,
    "start_time": "2022-05-03T15:28:29.336Z"
   },
   {
    "duration": 18,
    "start_time": "2022-05-03T15:28:29.344Z"
   },
   {
    "duration": 43,
    "start_time": "2022-05-03T15:28:29.365Z"
   },
   {
    "duration": 11,
    "start_time": "2022-05-03T15:28:29.411Z"
   },
   {
    "duration": 9,
    "start_time": "2022-05-03T15:28:29.428Z"
   },
   {
    "duration": 13,
    "start_time": "2022-05-03T15:28:29.439Z"
   },
   {
    "duration": 285,
    "start_time": "2022-05-03T15:28:29.454Z"
   },
   {
    "duration": 307,
    "start_time": "2022-05-03T15:28:29.743Z"
   },
   {
    "duration": 398,
    "start_time": "2022-05-03T15:28:30.053Z"
   },
   {
    "duration": 12,
    "start_time": "2022-05-03T15:28:30.453Z"
   },
   {
    "duration": 15,
    "start_time": "2022-05-03T15:28:30.468Z"
   },
   {
    "duration": 10,
    "start_time": "2022-05-03T15:28:30.507Z"
   },
   {
    "duration": 3,
    "start_time": "2022-05-03T15:28:30.519Z"
   },
   {
    "duration": 34,
    "start_time": "2022-05-03T15:28:30.524Z"
   },
   {
    "duration": 29,
    "start_time": "2022-05-03T15:28:30.561Z"
   },
   {
    "duration": 28,
    "start_time": "2022-05-03T15:28:30.592Z"
   },
   {
    "duration": 41,
    "start_time": "2022-05-03T15:28:30.623Z"
   },
   {
    "duration": 56,
    "start_time": "2022-05-03T15:28:30.667Z"
   },
   {
    "duration": 25,
    "start_time": "2022-05-03T15:28:30.726Z"
   },
   {
    "duration": 37,
    "start_time": "2022-05-03T15:28:30.753Z"
   },
   {
    "duration": 15,
    "start_time": "2022-05-03T15:28:30.792Z"
   },
   {
    "duration": 36,
    "start_time": "2022-05-03T15:28:30.809Z"
   },
   {
    "duration": 38,
    "start_time": "2022-05-03T15:28:30.847Z"
   },
   {
    "duration": 48,
    "start_time": "2022-05-03T15:28:30.888Z"
   },
   {
    "duration": 2870,
    "start_time": "2022-05-03T15:28:30.938Z"
   },
   {
    "duration": 10018,
    "start_time": "2022-05-03T15:28:33.811Z"
   },
   {
    "duration": 44714,
    "start_time": "2022-05-03T15:28:43.831Z"
   },
   {
    "duration": 5,
    "start_time": "2022-05-03T15:29:28.547Z"
   },
   {
    "duration": 3010,
    "start_time": "2022-05-03T15:29:28.555Z"
   },
   {
    "duration": 580772,
    "start_time": "2022-05-03T15:29:31.567Z"
   },
   {
    "duration": 479181,
    "start_time": "2022-05-03T15:39:12.341Z"
   },
   {
    "duration": 4,
    "start_time": "2022-05-03T15:47:11.525Z"
   },
   {
    "duration": 379250,
    "start_time": "2022-05-03T15:47:11.531Z"
   },
   {
    "duration": 18875,
    "start_time": "2022-05-03T15:53:30.783Z"
   },
   {
    "duration": 23085,
    "start_time": "2022-05-03T15:53:49.659Z"
   },
   {
    "duration": 4,
    "start_time": "2022-05-03T15:54:12.745Z"
   },
   {
    "duration": 32,
    "start_time": "2022-05-03T15:54:12.750Z"
   },
   {
    "duration": 28,
    "start_time": "2022-05-03T15:54:12.784Z"
   },
   {
    "duration": 1557,
    "start_time": "2022-05-03T15:59:15.140Z"
   },
   {
    "duration": 747,
    "start_time": "2022-05-03T15:59:16.700Z"
   },
   {
    "duration": 29,
    "start_time": "2022-05-03T15:59:17.448Z"
   },
   {
    "duration": 39,
    "start_time": "2022-05-03T15:59:17.479Z"
   },
   {
    "duration": 29,
    "start_time": "2022-05-03T15:59:17.520Z"
   },
   {
    "duration": 26,
    "start_time": "2022-05-03T15:59:17.551Z"
   },
   {
    "duration": 32,
    "start_time": "2022-05-03T15:59:17.579Z"
   },
   {
    "duration": 19,
    "start_time": "2022-05-03T15:59:17.613Z"
   },
   {
    "duration": 5,
    "start_time": "2022-05-03T15:59:17.634Z"
   },
   {
    "duration": 17,
    "start_time": "2022-05-03T15:59:17.643Z"
   },
   {
    "duration": 7,
    "start_time": "2022-05-03T15:59:17.662Z"
   },
   {
    "duration": 5,
    "start_time": "2022-05-03T15:59:17.709Z"
   },
   {
    "duration": 10,
    "start_time": "2022-05-03T15:59:17.716Z"
   },
   {
    "duration": 3,
    "start_time": "2022-05-03T15:59:17.728Z"
   },
   {
    "duration": 22,
    "start_time": "2022-05-03T15:59:17.733Z"
   },
   {
    "duration": 64,
    "start_time": "2022-05-03T15:59:17.757Z"
   },
   {
    "duration": 13,
    "start_time": "2022-05-03T15:59:17.823Z"
   },
   {
    "duration": 10,
    "start_time": "2022-05-03T15:59:17.838Z"
   },
   {
    "duration": 61,
    "start_time": "2022-05-03T15:59:17.850Z"
   },
   {
    "duration": 15,
    "start_time": "2022-05-03T15:59:17.913Z"
   },
   {
    "duration": 15,
    "start_time": "2022-05-03T15:59:17.930Z"
   },
   {
    "duration": 668,
    "start_time": "2022-05-03T15:59:17.946Z"
   },
   {
    "duration": 626,
    "start_time": "2022-05-03T15:59:18.616Z"
   },
   {
    "duration": 7,
    "start_time": "2022-05-03T15:59:19.245Z"
   },
   {
    "duration": 22,
    "start_time": "2022-05-03T15:59:19.253Z"
   },
   {
    "duration": 53,
    "start_time": "2022-05-03T15:59:19.277Z"
   },
   {
    "duration": 9,
    "start_time": "2022-05-03T15:59:19.333Z"
   },
   {
    "duration": 10,
    "start_time": "2022-05-03T15:59:19.347Z"
   },
   {
    "duration": 8,
    "start_time": "2022-05-03T15:59:19.359Z"
   },
   {
    "duration": 272,
    "start_time": "2022-05-03T15:59:19.369Z"
   },
   {
    "duration": 238,
    "start_time": "2022-05-03T15:59:19.642Z"
   },
   {
    "duration": 319,
    "start_time": "2022-05-03T15:59:19.882Z"
   },
   {
    "duration": 9,
    "start_time": "2022-05-03T15:59:20.207Z"
   },
   {
    "duration": 14,
    "start_time": "2022-05-03T15:59:20.218Z"
   },
   {
    "duration": 10,
    "start_time": "2022-05-03T15:59:20.234Z"
   },
   {
    "duration": 3,
    "start_time": "2022-05-03T15:59:20.245Z"
   },
   {
    "duration": 5,
    "start_time": "2022-05-03T15:59:20.250Z"
   },
   {
    "duration": 4,
    "start_time": "2022-05-03T15:59:20.257Z"
   },
   {
    "duration": 3,
    "start_time": "2022-05-03T15:59:20.308Z"
   },
   {
    "duration": 10,
    "start_time": "2022-05-03T15:59:20.313Z"
   },
   {
    "duration": 7,
    "start_time": "2022-05-03T15:59:20.325Z"
   },
   {
    "duration": 6,
    "start_time": "2022-05-03T15:59:20.333Z"
   },
   {
    "duration": 7,
    "start_time": "2022-05-03T15:59:20.341Z"
   },
   {
    "duration": 5,
    "start_time": "2022-05-03T15:59:20.349Z"
   },
   {
    "duration": 9,
    "start_time": "2022-05-03T15:59:20.356Z"
   },
   {
    "duration": 46,
    "start_time": "2022-05-03T15:59:20.367Z"
   },
   {
    "duration": 6,
    "start_time": "2022-05-03T15:59:20.415Z"
   },
   {
    "duration": 3188,
    "start_time": "2022-05-03T15:59:20.423Z"
   },
   {
    "duration": 9732,
    "start_time": "2022-05-03T15:59:23.614Z"
   },
   {
    "duration": 43763,
    "start_time": "2022-05-03T15:59:33.348Z"
   },
   {
    "duration": 4,
    "start_time": "2022-05-03T16:00:17.114Z"
   },
   {
    "duration": 3019,
    "start_time": "2022-05-03T16:00:17.120Z"
   },
   {
    "duration": 4,
    "start_time": "2022-05-03T16:00:20.141Z"
   },
   {
    "duration": 8,
    "start_time": "2022-05-03T16:00:20.147Z"
   },
   {
    "duration": 4,
    "start_time": "2022-05-03T16:00:20.157Z"
   },
   {
    "duration": 8,
    "start_time": "2022-05-03T16:00:20.163Z"
   },
   {
    "duration": 19720,
    "start_time": "2022-05-03T16:00:20.173Z"
   },
   {
    "duration": 19293,
    "start_time": "2022-05-03T16:00:39.894Z"
   },
   {
    "duration": 4,
    "start_time": "2022-05-03T16:00:59.189Z"
   },
   {
    "duration": 30,
    "start_time": "2022-05-03T16:00:59.195Z"
   },
   {
    "duration": 9,
    "start_time": "2022-05-03T16:00:59.227Z"
   },
   {
    "duration": 1688,
    "start_time": "2023-02-20T12:47:00.987Z"
   },
   {
    "duration": 1971,
    "start_time": "2023-02-20T12:47:02.678Z"
   },
   {
    "duration": 25,
    "start_time": "2023-02-20T12:47:04.651Z"
   },
   {
    "duration": 21,
    "start_time": "2023-02-20T12:47:04.678Z"
   },
   {
    "duration": 21,
    "start_time": "2023-02-20T12:47:04.701Z"
   },
   {
    "duration": 22,
    "start_time": "2023-02-20T12:47:04.723Z"
   },
   {
    "duration": 12,
    "start_time": "2023-02-20T12:47:04.747Z"
   },
   {
    "duration": 47,
    "start_time": "2023-02-20T12:47:04.762Z"
   },
   {
    "duration": 4,
    "start_time": "2023-02-20T12:47:04.811Z"
   },
   {
    "duration": 53,
    "start_time": "2023-02-20T12:47:04.819Z"
   },
   {
    "duration": 7,
    "start_time": "2023-02-20T12:47:04.874Z"
   },
   {
    "duration": 12,
    "start_time": "2023-02-20T12:47:04.882Z"
   },
   {
    "duration": 14,
    "start_time": "2023-02-20T12:47:04.895Z"
   },
   {
    "duration": 19,
    "start_time": "2023-02-20T12:47:04.911Z"
   },
   {
    "duration": 21,
    "start_time": "2023-02-20T12:47:04.932Z"
   },
   {
    "duration": 12,
    "start_time": "2023-02-20T12:47:04.955Z"
   },
   {
    "duration": 32,
    "start_time": "2023-02-20T12:47:04.969Z"
   },
   {
    "duration": 24,
    "start_time": "2023-02-20T12:47:05.003Z"
   },
   {
    "duration": 14,
    "start_time": "2023-02-20T12:47:05.029Z"
   },
   {
    "duration": 38,
    "start_time": "2023-02-20T12:47:05.045Z"
   },
   {
    "duration": 564,
    "start_time": "2023-02-20T12:47:05.084Z"
   },
   {
    "duration": 526,
    "start_time": "2023-02-20T12:47:05.650Z"
   },
   {
    "duration": 7,
    "start_time": "2023-02-20T12:47:06.178Z"
   },
   {
    "duration": 29,
    "start_time": "2023-02-20T12:47:06.186Z"
   },
   {
    "duration": 32,
    "start_time": "2023-02-20T12:47:06.217Z"
   },
   {
    "duration": 8,
    "start_time": "2023-02-20T12:47:06.251Z"
   },
   {
    "duration": 14,
    "start_time": "2023-02-20T12:47:06.262Z"
   },
   {
    "duration": 23,
    "start_time": "2023-02-20T12:47:06.280Z"
   },
   {
    "duration": 213,
    "start_time": "2023-02-20T12:47:06.305Z"
   },
   {
    "duration": 303,
    "start_time": "2023-02-20T12:47:06.520Z"
   },
   {
    "duration": 226,
    "start_time": "2023-02-20T12:47:06.825Z"
   },
   {
    "duration": 9,
    "start_time": "2023-02-20T12:47:07.052Z"
   },
   {
    "duration": 25,
    "start_time": "2023-02-20T12:47:07.062Z"
   },
   {
    "duration": 61,
    "start_time": "2023-02-20T12:47:07.089Z"
   },
   {
    "duration": 18,
    "start_time": "2023-02-20T12:47:07.154Z"
   },
   {
    "duration": 16,
    "start_time": "2023-02-20T12:47:07.174Z"
   },
   {
    "duration": 36,
    "start_time": "2023-02-20T12:47:07.192Z"
   },
   {
    "duration": 35,
    "start_time": "2023-02-20T12:47:07.230Z"
   },
   {
    "duration": 13,
    "start_time": "2023-02-20T12:47:07.266Z"
   },
   {
    "duration": 17,
    "start_time": "2023-02-20T12:47:07.280Z"
   },
   {
    "duration": 10,
    "start_time": "2023-02-20T12:47:07.299Z"
   },
   {
    "duration": 18,
    "start_time": "2023-02-20T12:47:07.311Z"
   },
   {
    "duration": 21,
    "start_time": "2023-02-20T12:47:07.330Z"
   },
   {
    "duration": 11,
    "start_time": "2023-02-20T12:47:07.354Z"
   },
   {
    "duration": 12,
    "start_time": "2023-02-20T12:47:07.367Z"
   },
   {
    "duration": 17,
    "start_time": "2023-02-20T12:47:07.381Z"
   },
   {
    "duration": 3105,
    "start_time": "2023-02-20T12:47:07.399Z"
   },
   {
    "duration": 9215,
    "start_time": "2023-02-20T12:47:10.505Z"
   },
   {
    "duration": 40390,
    "start_time": "2023-02-20T12:47:19.722Z"
   },
   {
    "duration": 5,
    "start_time": "2023-02-20T12:48:00.114Z"
   },
   {
    "duration": 2591,
    "start_time": "2023-02-20T12:48:00.120Z"
   },
   {
    "duration": 4,
    "start_time": "2023-02-20T12:48:02.713Z"
   },
   {
    "duration": 9,
    "start_time": "2023-02-20T12:48:02.719Z"
   },
   {
    "duration": 15,
    "start_time": "2023-02-20T12:48:02.730Z"
   },
   {
    "duration": 7,
    "start_time": "2023-02-20T12:48:02.747Z"
   },
   {
    "duration": 17639,
    "start_time": "2023-02-20T12:48:02.756Z"
   },
   {
    "duration": 17739,
    "start_time": "2023-02-20T12:48:20.397Z"
   },
   {
    "duration": 3,
    "start_time": "2023-02-20T12:48:38.138Z"
   },
   {
    "duration": 28,
    "start_time": "2023-02-20T12:48:38.143Z"
   },
   {
    "duration": 9,
    "start_time": "2023-02-20T12:48:38.172Z"
   }
  ],
  "kernelspec": {
   "display_name": "Python 3 (ipykernel)",
   "language": "python",
   "name": "python3"
  },
  "language_info": {
   "codemirror_mode": {
    "name": "ipython",
    "version": 3
   },
   "file_extension": ".py",
   "mimetype": "text/x-python",
   "name": "python",
   "nbconvert_exporter": "python",
   "pygments_lexer": "ipython3",
   "version": "3.9.5"
  },
  "toc": {
   "base_numbering": 1,
   "nav_menu": {},
   "number_sections": true,
   "sideBar": true,
   "skip_h1_title": true,
   "title_cell": "Содержание",
   "title_sidebar": "Contents",
   "toc_cell": true,
   "toc_position": {
    "height": "calc(100% - 180px)",
    "left": "10px",
    "top": "150px",
    "width": "289.6px"
   },
   "toc_section_display": true,
   "toc_window_display": true
  }
 },
 "nbformat": 4,
 "nbformat_minor": 2
}
