{
 "cells": [
  {
   "cell_type": "markdown",
   "id": "f2be8915",
   "metadata": {
    "toc": true
   },
   "source": [
    "<h1>Содержание<span class=\"tocSkip\"></span></h1>\n",
    "<div class=\"toc\"><ul class=\"toc-item\"><li><span><a href=\"#Откройте-файл-с-данными-и-изучите-его\" data-toc-modified-id=\"Откройте-файл-с-данными-и-изучите-его-1\"><span class=\"toc-item-num\">1&nbsp;&nbsp;</span>Откройте файл с данными и изучите его</a></span></li><li><span><a href=\"#Разделите-исходные-данные-на-обучающую,-валидационную-и-тестовую-выборки.\" data-toc-modified-id=\"Разделите-исходные-данные-на-обучающую,-валидационную-и-тестовую-выборки.-2\"><span class=\"toc-item-num\">2&nbsp;&nbsp;</span>Разделите исходные данные на обучающую, валидационную и тестовую выборки.</a></span></li><li><span><a href=\"#Исследуйте-качество-разных-моделей\" data-toc-modified-id=\"Исследуйте-качество-разных-моделей-3\"><span class=\"toc-item-num\">3&nbsp;&nbsp;</span>Исследуйте качество разных моделей</a></span><ul class=\"toc-item\"><li><span><a href=\"#Решающее-дерево\" data-toc-modified-id=\"Решающее-дерево-3.1\"><span class=\"toc-item-num\">3.1&nbsp;&nbsp;</span>Решающее дерево</a></span></li><li><span><a href=\"#Случайный-лес\" data-toc-modified-id=\"Случайный-лес-3.2\"><span class=\"toc-item-num\">3.2&nbsp;&nbsp;</span>Случайный лес</a></span></li><li><span><a href=\"#Логистическая-регрессия\" data-toc-modified-id=\"Логистическая-регрессия-3.3\"><span class=\"toc-item-num\">3.3&nbsp;&nbsp;</span>Логистическая регрессия</a></span></li><li><span><a href=\"#Вывод\" data-toc-modified-id=\"Вывод-3.4\"><span class=\"toc-item-num\">3.4&nbsp;&nbsp;</span>Вывод</a></span></li></ul></li><li><span><a href=\"#Проверьте-качество-модели-на-тестовой-выборке\" data-toc-modified-id=\"Проверьте-качество-модели-на-тестовой-выборке-4\"><span class=\"toc-item-num\">4&nbsp;&nbsp;</span>Проверьте качество модели на тестовой выборке</a></span></li><li><span><a href=\"#Проверьте-модели-на-вменяемость\" data-toc-modified-id=\"Проверьте-модели-на-вменяемость-5\"><span class=\"toc-item-num\">5&nbsp;&nbsp;</span>Проверьте модели на вменяемость</a></span></li></ul></div>"
   ]
  },
  {
   "cell_type": "markdown",
   "id": "83d2bb56",
   "metadata": {},
   "source": [
    "## Откройте файл с данными и изучите его"
   ]
  },
  {
   "cell_type": "code",
   "execution_count": 1,
   "id": "d2e46430",
   "metadata": {},
   "outputs": [],
   "source": [
    "# Импортируем необходимые библиотеки\n",
    "import pandas as pd\n",
    "from sklearn.model_selection import train_test_split \n",
    "from sklearn.tree import DecisionTreeClassifier\n",
    "from sklearn.metrics import accuracy_score\n",
    "from sklearn.ensemble import RandomForestClassifier\n",
    "from joblib import dump\n",
    "from sklearn.linear_model import LogisticRegression "
   ]
  },
  {
   "cell_type": "code",
   "execution_count": 2,
   "id": "967eafea",
   "metadata": {},
   "outputs": [],
   "source": [
    "df = pd.read_csv('/datasets/users_behavior.csv')"
   ]
  },
  {
   "cell_type": "code",
   "execution_count": 3,
   "id": "9cb17c52",
   "metadata": {},
   "outputs": [
    {
     "name": "stdout",
     "output_type": "stream",
     "text": [
      "<class 'pandas.core.frame.DataFrame'>\n",
      "RangeIndex: 3214 entries, 0 to 3213\n",
      "Data columns (total 5 columns):\n",
      " #   Column    Non-Null Count  Dtype  \n",
      "---  ------    --------------  -----  \n",
      " 0   calls     3214 non-null   float64\n",
      " 1   minutes   3214 non-null   float64\n",
      " 2   messages  3214 non-null   float64\n",
      " 3   mb_used   3214 non-null   float64\n",
      " 4   is_ultra  3214 non-null   int64  \n",
      "dtypes: float64(4), int64(1)\n",
      "memory usage: 125.7 KB\n"
     ]
    }
   ],
   "source": [
    "df.info()"
   ]
  },
  {
   "cell_type": "code",
   "execution_count": 4,
   "id": "d231f985",
   "metadata": {},
   "outputs": [
    {
     "data": {
      "text/html": [
       "<div>\n",
       "<style scoped>\n",
       "    .dataframe tbody tr th:only-of-type {\n",
       "        vertical-align: middle;\n",
       "    }\n",
       "\n",
       "    .dataframe tbody tr th {\n",
       "        vertical-align: top;\n",
       "    }\n",
       "\n",
       "    .dataframe thead th {\n",
       "        text-align: right;\n",
       "    }\n",
       "</style>\n",
       "<table border=\"1\" class=\"dataframe\">\n",
       "  <thead>\n",
       "    <tr style=\"text-align: right;\">\n",
       "      <th></th>\n",
       "      <th>calls</th>\n",
       "      <th>minutes</th>\n",
       "      <th>messages</th>\n",
       "      <th>mb_used</th>\n",
       "      <th>is_ultra</th>\n",
       "    </tr>\n",
       "  </thead>\n",
       "  <tbody>\n",
       "    <tr>\n",
       "      <th>0</th>\n",
       "      <td>40.0</td>\n",
       "      <td>311.90</td>\n",
       "      <td>83.0</td>\n",
       "      <td>19915.42</td>\n",
       "      <td>0</td>\n",
       "    </tr>\n",
       "    <tr>\n",
       "      <th>1</th>\n",
       "      <td>85.0</td>\n",
       "      <td>516.75</td>\n",
       "      <td>56.0</td>\n",
       "      <td>22696.96</td>\n",
       "      <td>0</td>\n",
       "    </tr>\n",
       "    <tr>\n",
       "      <th>2</th>\n",
       "      <td>77.0</td>\n",
       "      <td>467.66</td>\n",
       "      <td>86.0</td>\n",
       "      <td>21060.45</td>\n",
       "      <td>0</td>\n",
       "    </tr>\n",
       "    <tr>\n",
       "      <th>3</th>\n",
       "      <td>106.0</td>\n",
       "      <td>745.53</td>\n",
       "      <td>81.0</td>\n",
       "      <td>8437.39</td>\n",
       "      <td>1</td>\n",
       "    </tr>\n",
       "    <tr>\n",
       "      <th>4</th>\n",
       "      <td>66.0</td>\n",
       "      <td>418.74</td>\n",
       "      <td>1.0</td>\n",
       "      <td>14502.75</td>\n",
       "      <td>0</td>\n",
       "    </tr>\n",
       "  </tbody>\n",
       "</table>\n",
       "</div>"
      ],
      "text/plain": [
       "   calls  minutes  messages   mb_used  is_ultra\n",
       "0   40.0   311.90      83.0  19915.42         0\n",
       "1   85.0   516.75      56.0  22696.96         0\n",
       "2   77.0   467.66      86.0  21060.45         0\n",
       "3  106.0   745.53      81.0   8437.39         1\n",
       "4   66.0   418.74       1.0  14502.75         0"
      ]
     },
     "execution_count": 4,
     "metadata": {},
     "output_type": "execute_result"
    }
   ],
   "source": [
    "df.head()"
   ]
  },
  {
   "cell_type": "code",
   "execution_count": 5,
   "id": "d3501c15",
   "metadata": {},
   "outputs": [
    {
     "data": {
      "text/html": [
       "<div>\n",
       "<style scoped>\n",
       "    .dataframe tbody tr th:only-of-type {\n",
       "        vertical-align: middle;\n",
       "    }\n",
       "\n",
       "    .dataframe tbody tr th {\n",
       "        vertical-align: top;\n",
       "    }\n",
       "\n",
       "    .dataframe thead th {\n",
       "        text-align: right;\n",
       "    }\n",
       "</style>\n",
       "<table border=\"1\" class=\"dataframe\">\n",
       "  <thead>\n",
       "    <tr style=\"text-align: right;\">\n",
       "      <th></th>\n",
       "      <th>calls</th>\n",
       "      <th>minutes</th>\n",
       "      <th>messages</th>\n",
       "      <th>mb_used</th>\n",
       "      <th>is_ultra</th>\n",
       "    </tr>\n",
       "  </thead>\n",
       "  <tbody>\n",
       "    <tr>\n",
       "      <th>count</th>\n",
       "      <td>3214.000000</td>\n",
       "      <td>3214.000000</td>\n",
       "      <td>3214.000000</td>\n",
       "      <td>3214.000000</td>\n",
       "      <td>3214.000000</td>\n",
       "    </tr>\n",
       "    <tr>\n",
       "      <th>mean</th>\n",
       "      <td>63.038892</td>\n",
       "      <td>438.208787</td>\n",
       "      <td>38.281269</td>\n",
       "      <td>17207.673836</td>\n",
       "      <td>0.306472</td>\n",
       "    </tr>\n",
       "    <tr>\n",
       "      <th>std</th>\n",
       "      <td>33.236368</td>\n",
       "      <td>234.569872</td>\n",
       "      <td>36.148326</td>\n",
       "      <td>7570.968246</td>\n",
       "      <td>0.461100</td>\n",
       "    </tr>\n",
       "    <tr>\n",
       "      <th>min</th>\n",
       "      <td>0.000000</td>\n",
       "      <td>0.000000</td>\n",
       "      <td>0.000000</td>\n",
       "      <td>0.000000</td>\n",
       "      <td>0.000000</td>\n",
       "    </tr>\n",
       "    <tr>\n",
       "      <th>25%</th>\n",
       "      <td>40.000000</td>\n",
       "      <td>274.575000</td>\n",
       "      <td>9.000000</td>\n",
       "      <td>12491.902500</td>\n",
       "      <td>0.000000</td>\n",
       "    </tr>\n",
       "    <tr>\n",
       "      <th>50%</th>\n",
       "      <td>62.000000</td>\n",
       "      <td>430.600000</td>\n",
       "      <td>30.000000</td>\n",
       "      <td>16943.235000</td>\n",
       "      <td>0.000000</td>\n",
       "    </tr>\n",
       "    <tr>\n",
       "      <th>75%</th>\n",
       "      <td>82.000000</td>\n",
       "      <td>571.927500</td>\n",
       "      <td>57.000000</td>\n",
       "      <td>21424.700000</td>\n",
       "      <td>1.000000</td>\n",
       "    </tr>\n",
       "    <tr>\n",
       "      <th>max</th>\n",
       "      <td>244.000000</td>\n",
       "      <td>1632.060000</td>\n",
       "      <td>224.000000</td>\n",
       "      <td>49745.730000</td>\n",
       "      <td>1.000000</td>\n",
       "    </tr>\n",
       "  </tbody>\n",
       "</table>\n",
       "</div>"
      ],
      "text/plain": [
       "             calls      minutes     messages       mb_used     is_ultra\n",
       "count  3214.000000  3214.000000  3214.000000   3214.000000  3214.000000\n",
       "mean     63.038892   438.208787    38.281269  17207.673836     0.306472\n",
       "std      33.236368   234.569872    36.148326   7570.968246     0.461100\n",
       "min       0.000000     0.000000     0.000000      0.000000     0.000000\n",
       "25%      40.000000   274.575000     9.000000  12491.902500     0.000000\n",
       "50%      62.000000   430.600000    30.000000  16943.235000     0.000000\n",
       "75%      82.000000   571.927500    57.000000  21424.700000     1.000000\n",
       "max     244.000000  1632.060000   224.000000  49745.730000     1.000000"
      ]
     },
     "execution_count": 5,
     "metadata": {},
     "output_type": "execute_result"
    }
   ],
   "source": [
    "df.describe()"
   ]
  },
  {
   "cell_type": "code",
   "execution_count": 6,
   "id": "b211b011",
   "metadata": {},
   "outputs": [
    {
     "data": {
      "text/plain": [
       "calls       0\n",
       "minutes     0\n",
       "messages    0\n",
       "mb_used     0\n",
       "is_ultra    0\n",
       "dtype: int64"
      ]
     },
     "execution_count": 6,
     "metadata": {},
     "output_type": "execute_result"
    }
   ],
   "source": [
    "df.isna().sum()"
   ]
  },
  {
   "cell_type": "code",
   "execution_count": 7,
   "id": "0d1ceaa5",
   "metadata": {},
   "outputs": [
    {
     "data": {
      "text/plain": [
       "0"
      ]
     },
     "execution_count": 7,
     "metadata": {},
     "output_type": "execute_result"
    }
   ],
   "source": [
    "df.duplicated().sum()"
   ]
  },
  {
   "cell_type": "markdown",
   "id": "53795294",
   "metadata": {},
   "source": [
    "Предобработка данных уже была проведена. В таблице нет пропусков, нет дубликатов, названия столбцов оформлены корректно."
   ]
  },
  {
   "cell_type": "markdown",
   "id": "02cc229d",
   "metadata": {},
   "source": [
    "## Разделите исходные данные на обучающую, валидационную и тестовую выборки."
   ]
  },
  {
   "cell_type": "markdown",
   "id": "d5c4f4b1",
   "metadata": {},
   "source": [
    "Необходимо разбить исходные данные в соотношении 3:1:1, где 3 части приходятся на обучающую выборку, 1 часть на валидационную и 1 часть на тестовую."
   ]
  },
  {
   "cell_type": "code",
   "execution_count": 8,
   "id": "a448d0b0",
   "metadata": {},
   "outputs": [],
   "source": [
    "features = df.drop(['is_ultra'], axis=1)"
   ]
  },
  {
   "cell_type": "code",
   "execution_count": 9,
   "id": "d22441db",
   "metadata": {},
   "outputs": [],
   "source": [
    "target = df['is_ultra']"
   ]
  },
  {
   "cell_type": "code",
   "execution_count": 10,
   "id": "50f26b73",
   "metadata": {},
   "outputs": [],
   "source": [
    "features_train, features_valid, target_train, target_valid = train_test_split(\n",
    "    features, target, test_size=0.4, random_state=12345\n",
    ")"
   ]
  },
  {
   "cell_type": "code",
   "execution_count": 11,
   "id": "a52dbd4b",
   "metadata": {},
   "outputs": [],
   "source": [
    "features_valid, features_test, target_valid, target_test = train_test_split(\n",
    "    features_valid, target_valid, test_size=0.5, random_state=12345\n",
    ")"
   ]
  },
  {
   "cell_type": "code",
   "execution_count": 12,
   "id": "2a34a7a4",
   "metadata": {},
   "outputs": [
    {
     "name": "stdout",
     "output_type": "stream",
     "text": [
      "(1928, 4) (643, 4) (643, 4) (1928,) (643,) (643,)\n"
     ]
    }
   ],
   "source": [
    "# проверим разделение на выборки\n",
    "print(features_train.shape, features_valid.shape, features_test.shape,\n",
    "     target_train.shape, target_valid.shape, target_test.shape)"
   ]
  },
  {
   "cell_type": "markdown",
   "id": "dc196963",
   "metadata": {},
   "source": [
    "Исходные данные разбиты корректно."
   ]
  },
  {
   "cell_type": "markdown",
   "id": "40a1c9b8",
   "metadata": {},
   "source": [
    "## Исследуйте качество разных моделей"
   ]
  },
  {
   "cell_type": "markdown",
   "id": "f82fa85a",
   "metadata": {},
   "source": [
    "### Решающее дерево"
   ]
  },
  {
   "cell_type": "code",
   "execution_count": 13,
   "id": "c0f41b12",
   "metadata": {},
   "outputs": [
    {
     "name": "stdout",
     "output_type": "stream",
     "text": [
      "Accuracy наилучшей модели на валидационной выборке: 0.7853810264385692 Глубина дерева: 3\n"
     ]
    }
   ],
   "source": [
    "best_model_dt = None\n",
    "best_accuracy_dt = 0\n",
    "best_depth_dt = 0\n",
    "for depth in range(1, 6):\n",
    "    model_dt = DecisionTreeClassifier(random_state=12345, max_depth=depth)\n",
    "    model_dt.fit(features_train, target_train)\n",
    "    predictions_dt = model_dt.predict(features_valid)\n",
    "    accuracy_dt = accuracy_score(predictions_dt, target_valid)\n",
    "    if accuracy_dt > best_accuracy_dt:\n",
    "        best_model_dt = model_dt\n",
    "        best_accuracy_dt = accuracy_dt\n",
    "        best_depth_dt = depth\n",
    "\n",
    "print('Accuracy наилучшей модели на валидационной выборке:', best_accuracy_dt, 'Глубина дерева:', best_depth_dt)"
   ]
  },
  {
   "cell_type": "markdown",
   "id": "78b070fa",
   "metadata": {},
   "source": [
    "### Случайный лес"
   ]
  },
  {
   "cell_type": "code",
   "execution_count": 14,
   "id": "301d7f04",
   "metadata": {},
   "outputs": [
    {
     "name": "stdout",
     "output_type": "stream",
     "text": [
      "Accuracy наилучшей модели на валидационной выборке: 0.8087091757387247 Глубина дерева: 8 Количество деревьев: 40\n"
     ]
    }
   ],
   "source": [
    "best_model_rf = None\n",
    "best_accuracy_rf = 0\n",
    "best_depth_rf = 0\n",
    "best_est_rf = 0\n",
    "for est in range(10, 51, 10):\n",
    "    for depth in range(1, 11):\n",
    "        model_rf = RandomForestClassifier(random_state=12345, n_estimators=est, max_depth=depth)\n",
    "        model_rf.fit(features_train, target_train)\n",
    "        predictions_rf = model_rf.predict(features_valid)\n",
    "        accuracy_rf = accuracy_score(predictions_rf, target_valid)\n",
    "        if accuracy_rf > best_accuracy_rf:\n",
    "            best_model_rf = model_rf\n",
    "            best_accuracy_rf = accuracy_rf\n",
    "            best_depth_rf = depth\n",
    "            best_est_rf = est\n",
    "            \n",
    "print('Accuracy наилучшей модели на валидационной выборке:', best_accuracy_rf,\\\n",
    "      'Глубина дерева:', best_depth_rf, 'Количество деревьев:', best_est_rf)"
   ]
  },
  {
   "cell_type": "markdown",
   "id": "236bc853",
   "metadata": {},
   "source": [
    "### Логистическая регрессия"
   ]
  },
  {
   "cell_type": "code",
   "execution_count": 15,
   "id": "fc7036cc",
   "metadata": {},
   "outputs": [
    {
     "name": "stdout",
     "output_type": "stream",
     "text": [
      "Accuracy модели логистической регрессии на валидационной выборке: 0.7107309486780715\n"
     ]
    }
   ],
   "source": [
    "model_lr = LogisticRegression(random_state=12345, solver='lbfgs', max_iter=1000)\n",
    "model_lr.fit(features_train, target_train)\n",
    "predictions_lr = model_lr.predict(features_valid)\n",
    "accuracy_lr = accuracy_score(predictions_lr, target_valid)\n",
    "print('Accuracy модели логистической регрессии на валидационной выборке:', accuracy_lr)"
   ]
  },
  {
   "cell_type": "markdown",
   "id": "c4fea6aa",
   "metadata": {},
   "source": [
    "### Вывод"
   ]
  },
  {
   "cell_type": "markdown",
   "id": "48df5194",
   "metadata": {},
   "source": [
    "Метрика, отражающая долю правильных ответов (accuracy) лучше всего у модели Случайный лес с глубиной дерева 8 и количеством деревьев 40."
   ]
  },
  {
   "cell_type": "markdown",
   "id": "9df581a1",
   "metadata": {},
   "source": [
    "## Проверьте качество модели на тестовой выборке"
   ]
  },
  {
   "cell_type": "code",
   "execution_count": 16,
   "id": "5ecbcbce",
   "metadata": {},
   "outputs": [],
   "source": [
    "# проверим наилучшую модель,\n",
    "# полученную в предыдущем пункте\n",
    "test_predictions = best_model_rf.predict(features_test)"
   ]
  },
  {
   "cell_type": "code",
   "execution_count": 17,
   "id": "57f72ed3",
   "metadata": {},
   "outputs": [],
   "source": [
    "test_accuracy = accuracy_score(test_predictions, target_test)"
   ]
  },
  {
   "cell_type": "code",
   "execution_count": 18,
   "id": "0c6a92b3",
   "metadata": {},
   "outputs": [
    {
     "name": "stdout",
     "output_type": "stream",
     "text": [
      "Accuracy наилучшей модели Случайный лес на тестовой выборке: 0.7962674961119751\n"
     ]
    }
   ],
   "source": [
    "print('Accuracy наилучшей модели Случайный лес на тестовой выборке:', test_accuracy)"
   ]
  },
  {
   "cell_type": "markdown",
   "id": "7cad0f4c",
   "metadata": {},
   "source": [
    "Доля правильных ответов на тестовой выборке равна 0.796. Это немного меньше, чем на валидационной выборке 0.808."
   ]
  },
  {
   "cell_type": "markdown",
   "id": "43841813",
   "metadata": {},
   "source": [
    "## Проверьте модели на вменяемость"
   ]
  },
  {
   "cell_type": "markdown",
   "id": "f444dcf7",
   "metadata": {},
   "source": [
    "Чтобы проверить модель на вменяемость, необходимо сравнить ее со случайной, т.е. сравнить значение accuracy c 0.5. В нашем случае оно больше 0.5, значит модель вменяема."
   ]
  }
 ],
 "metadata": {
  "ExecuteTimeLog": [
   {
    "duration": 49,
    "start_time": "2022-03-30T14:23:27.646Z"
   },
   {
    "duration": 439,
    "start_time": "2022-03-30T14:23:32.570Z"
   },
   {
    "duration": 30,
    "start_time": "2022-03-30T14:23:33.621Z"
   },
   {
    "duration": 18,
    "start_time": "2022-03-30T14:23:58.310Z"
   },
   {
    "duration": 137,
    "start_time": "2022-03-30T14:24:06.466Z"
   },
   {
    "duration": 29,
    "start_time": "2022-03-30T14:24:37.748Z"
   },
   {
    "duration": 20,
    "start_time": "2022-03-30T14:29:49.067Z"
   },
   {
    "duration": 12,
    "start_time": "2022-03-30T14:32:58.041Z"
   },
   {
    "duration": 14,
    "start_time": "2022-03-30T14:33:08.277Z"
   },
   {
    "duration": 21,
    "start_time": "2022-03-30T14:33:23.586Z"
   },
   {
    "duration": 6,
    "start_time": "2022-03-30T14:33:45.843Z"
   },
   {
    "duration": 6,
    "start_time": "2022-03-30T14:49:14.624Z"
   },
   {
    "duration": 1584,
    "start_time": "2022-04-01T11:06:46.152Z"
   },
   {
    "duration": 1567,
    "start_time": "2022-04-01T11:06:52.543Z"
   },
   {
    "duration": 16,
    "start_time": "2022-04-01T11:06:54.113Z"
   },
   {
    "duration": 22,
    "start_time": "2022-04-01T11:06:54.131Z"
   },
   {
    "duration": 30,
    "start_time": "2022-04-01T11:06:54.155Z"
   },
   {
    "duration": 32,
    "start_time": "2022-04-01T11:06:54.188Z"
   },
   {
    "duration": 8,
    "start_time": "2022-04-01T11:06:54.222Z"
   },
   {
    "duration": 15,
    "start_time": "2022-04-01T11:06:54.232Z"
   },
   {
    "duration": 221,
    "start_time": "2022-04-01T11:06:54.273Z"
   },
   {
    "duration": 5,
    "start_time": "2022-04-01T11:19:22.455Z"
   },
   {
    "duration": 4,
    "start_time": "2022-04-01T11:19:46.549Z"
   },
   {
    "duration": 7,
    "start_time": "2022-04-01T11:23:35.006Z"
   },
   {
    "duration": 142,
    "start_time": "2022-04-01T12:03:23.037Z"
   },
   {
    "duration": 94,
    "start_time": "2022-04-01T12:03:43.669Z"
   },
   {
    "duration": 143,
    "start_time": "2022-04-01T12:04:16.042Z"
   },
   {
    "duration": 6,
    "start_time": "2022-04-01T12:04:24.030Z"
   },
   {
    "duration": 7,
    "start_time": "2022-04-01T12:06:57.183Z"
   },
   {
    "duration": 54,
    "start_time": "2022-04-01T12:09:51.392Z"
   },
   {
    "duration": 16,
    "start_time": "2022-04-01T12:09:55.028Z"
   },
   {
    "duration": 16,
    "start_time": "2022-04-01T12:09:55.693Z"
   },
   {
    "duration": 13,
    "start_time": "2022-04-01T12:09:56.494Z"
   },
   {
    "duration": 34,
    "start_time": "2022-04-01T12:09:58.895Z"
   },
   {
    "duration": 9,
    "start_time": "2022-04-01T12:10:01.463Z"
   },
   {
    "duration": 8,
    "start_time": "2022-04-01T12:10:02.114Z"
   },
   {
    "duration": 18,
    "start_time": "2022-04-01T12:13:20.217Z"
   },
   {
    "duration": 11,
    "start_time": "2022-04-01T12:13:35.813Z"
   },
   {
    "duration": 11,
    "start_time": "2022-04-01T12:14:28.499Z"
   },
   {
    "duration": 16,
    "start_time": "2022-04-01T12:14:37.121Z"
   },
   {
    "duration": 7,
    "start_time": "2022-04-01T12:14:53.177Z"
   },
   {
    "duration": 16,
    "start_time": "2022-04-01T12:15:30.228Z"
   },
   {
    "duration": 7,
    "start_time": "2022-04-01T12:15:39.244Z"
   },
   {
    "duration": 17,
    "start_time": "2022-04-01T12:15:51.916Z"
   },
   {
    "duration": 8,
    "start_time": "2022-04-01T12:16:23.162Z"
   },
   {
    "duration": 12,
    "start_time": "2022-04-01T12:16:45.840Z"
   },
   {
    "duration": 16,
    "start_time": "2022-04-01T12:17:06.762Z"
   },
   {
    "duration": 31,
    "start_time": "2022-04-01T12:18:52.867Z"
   },
   {
    "duration": 4,
    "start_time": "2022-04-01T12:20:13.918Z"
   },
   {
    "duration": 4,
    "start_time": "2022-04-01T12:26:51.872Z"
   },
   {
    "duration": 4,
    "start_time": "2022-04-01T13:16:22.987Z"
   },
   {
    "duration": 18,
    "start_time": "2022-04-01T13:25:05.452Z"
   },
   {
    "duration": 5,
    "start_time": "2022-04-01T13:27:03.957Z"
   },
   {
    "duration": 25,
    "start_time": "2022-04-01T13:27:13.104Z"
   },
   {
    "duration": 23,
    "start_time": "2022-04-01T13:28:42.415Z"
   },
   {
    "duration": 23,
    "start_time": "2022-04-01T13:33:15.581Z"
   },
   {
    "duration": 23,
    "start_time": "2022-04-01T13:35:42.915Z"
   },
   {
    "duration": 1698,
    "start_time": "2022-04-01T13:38:02.549Z"
   },
   {
    "duration": 23,
    "start_time": "2022-04-01T13:38:04.251Z"
   },
   {
    "duration": 17,
    "start_time": "2022-04-01T13:38:04.276Z"
   },
   {
    "duration": 24,
    "start_time": "2022-04-01T13:38:04.296Z"
   },
   {
    "duration": 58,
    "start_time": "2022-04-01T13:38:04.323Z"
   },
   {
    "duration": 8,
    "start_time": "2022-04-01T13:38:04.384Z"
   },
   {
    "duration": 11,
    "start_time": "2022-04-01T13:38:04.395Z"
   },
   {
    "duration": 5,
    "start_time": "2022-04-01T13:38:04.408Z"
   },
   {
    "duration": 13,
    "start_time": "2022-04-01T13:38:04.415Z"
   },
   {
    "duration": 43,
    "start_time": "2022-04-01T13:38:04.431Z"
   },
   {
    "duration": 7,
    "start_time": "2022-04-01T13:38:04.476Z"
   },
   {
    "duration": 43,
    "start_time": "2022-04-01T13:38:04.485Z"
   },
   {
    "duration": 189,
    "start_time": "2022-04-01T13:38:04.530Z"
   },
   {
    "duration": 4,
    "start_time": "2022-04-01T13:41:01.615Z"
   },
   {
    "duration": 24,
    "start_time": "2022-04-01T13:41:07.542Z"
   },
   {
    "duration": 4,
    "start_time": "2022-04-01T13:42:16.586Z"
   },
   {
    "duration": 24,
    "start_time": "2022-04-01T13:42:33.785Z"
   },
   {
    "duration": 47,
    "start_time": "2022-04-01T13:43:07.723Z"
   },
   {
    "duration": 46,
    "start_time": "2022-04-01T13:46:02.602Z"
   },
   {
    "duration": 17,
    "start_time": "2022-04-01T13:48:46.053Z"
   },
   {
    "duration": 5309,
    "start_time": "2022-04-01T14:44:32.851Z"
   },
   {
    "duration": 5,
    "start_time": "2022-04-01T14:46:34.016Z"
   },
   {
    "duration": 42,
    "start_time": "2022-04-01T14:55:28.641Z"
   },
   {
    "duration": 3,
    "start_time": "2022-04-01T14:55:38.819Z"
   },
   {
    "duration": 5698,
    "start_time": "2022-04-01T15:23:43.739Z"
   },
   {
    "duration": 4,
    "start_time": "2022-04-01T15:30:31.896Z"
   },
   {
    "duration": 15,
    "start_time": "2022-04-01T15:39:17.994Z"
   },
   {
    "duration": 5,
    "start_time": "2022-04-01T15:39:18.717Z"
   },
   {
    "duration": 5,
    "start_time": "2022-04-01T15:40:46.088Z"
   },
   {
    "duration": 15,
    "start_time": "2022-04-01T15:42:51.902Z"
   },
   {
    "duration": 6,
    "start_time": "2022-04-01T15:42:59.122Z"
   },
   {
    "duration": 7,
    "start_time": "2022-04-01T15:47:42.333Z"
   },
   {
    "duration": 40,
    "start_time": "2022-04-01T15:57:08.987Z"
   },
   {
    "duration": 1095,
    "start_time": "2023-02-18T08:30:54.739Z"
   },
   {
    "duration": 58,
    "start_time": "2023-02-18T08:30:55.835Z"
   },
   {
    "duration": 11,
    "start_time": "2023-02-18T08:30:55.894Z"
   },
   {
    "duration": 20,
    "start_time": "2023-02-18T08:30:55.906Z"
   },
   {
    "duration": 19,
    "start_time": "2023-02-18T08:30:55.927Z"
   },
   {
    "duration": 4,
    "start_time": "2023-02-18T08:30:55.947Z"
   },
   {
    "duration": 6,
    "start_time": "2023-02-18T08:30:55.953Z"
   },
   {
    "duration": 3,
    "start_time": "2023-02-18T08:30:55.960Z"
   },
   {
    "duration": 4,
    "start_time": "2023-02-18T08:30:55.964Z"
   },
   {
    "duration": 5,
    "start_time": "2023-02-18T08:30:55.970Z"
   },
   {
    "duration": 4,
    "start_time": "2023-02-18T08:30:55.976Z"
   },
   {
    "duration": 28,
    "start_time": "2023-02-18T08:30:55.981Z"
   },
   {
    "duration": 31,
    "start_time": "2023-02-18T08:30:56.012Z"
   },
   {
    "duration": 3784,
    "start_time": "2023-02-18T08:30:56.045Z"
   },
   {
    "duration": 20,
    "start_time": "2023-02-18T08:30:59.830Z"
   },
   {
    "duration": 9,
    "start_time": "2023-02-18T08:30:59.852Z"
   },
   {
    "duration": 3,
    "start_time": "2023-02-18T08:30:59.862Z"
   },
   {
    "duration": 4,
    "start_time": "2023-02-18T08:30:59.867Z"
   }
  ],
  "kernelspec": {
   "display_name": "Python 3 (ipykernel)",
   "language": "python",
   "name": "python3"
  },
  "language_info": {
   "codemirror_mode": {
    "name": "ipython",
    "version": 3
   },
   "file_extension": ".py",
   "mimetype": "text/x-python",
   "name": "python",
   "nbconvert_exporter": "python",
   "pygments_lexer": "ipython3",
   "version": "3.9.5"
  },
  "toc": {
   "base_numbering": 1,
   "nav_menu": {},
   "number_sections": true,
   "sideBar": true,
   "skip_h1_title": true,
   "title_cell": "Содержание",
   "title_sidebar": "Содержание",
   "toc_cell": true,
   "toc_position": {},
   "toc_section_display": true,
   "toc_window_display": true
  }
 },
 "nbformat": 4,
 "nbformat_minor": 5
}
