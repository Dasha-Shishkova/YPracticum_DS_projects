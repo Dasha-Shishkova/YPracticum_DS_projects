{
 "cells": [
  {
   "cell_type": "markdown",
   "metadata": {},
   "source": [
    "## Подготовка данных"
   ]
  },
  {
   "cell_type": "code",
   "execution_count": 1,
   "metadata": {},
   "outputs": [],
   "source": [
    "import pandas as pd\n",
    "import numpy as np\n",
    "import matplotlib.pyplot as plt\n",
    "from sklearn.model_selection import train_test_split \n",
    "from sklearn.metrics import mean_squared_error\n",
    "from sklearn.tree import DecisionTreeRegressor\n",
    "from sklearn.ensemble import RandomForestRegressor\n",
    "from catboost import CatBoostRegressor, Pool\n",
    "import lightgbm as lgb\n",
    "from sklearn.model_selection import GridSearchCV"
   ]
  },
  {
   "cell_type": "code",
   "execution_count": 2,
   "metadata": {},
   "outputs": [],
   "source": [
    "data = pd.read_csv('/datasets/autos.csv')"
   ]
  },
  {
   "cell_type": "code",
   "execution_count": 3,
   "metadata": {},
   "outputs": [
    {
     "data": {
      "text/html": [
       "<div>\n",
       "<style scoped>\n",
       "    .dataframe tbody tr th:only-of-type {\n",
       "        vertical-align: middle;\n",
       "    }\n",
       "\n",
       "    .dataframe tbody tr th {\n",
       "        vertical-align: top;\n",
       "    }\n",
       "\n",
       "    .dataframe thead th {\n",
       "        text-align: right;\n",
       "    }\n",
       "</style>\n",
       "<table border=\"1\" class=\"dataframe\">\n",
       "  <thead>\n",
       "    <tr style=\"text-align: right;\">\n",
       "      <th></th>\n",
       "      <th>DateCrawled</th>\n",
       "      <th>Price</th>\n",
       "      <th>VehicleType</th>\n",
       "      <th>RegistrationYear</th>\n",
       "      <th>Gearbox</th>\n",
       "      <th>Power</th>\n",
       "      <th>Model</th>\n",
       "      <th>Kilometer</th>\n",
       "      <th>RegistrationMonth</th>\n",
       "      <th>FuelType</th>\n",
       "      <th>Brand</th>\n",
       "      <th>NotRepaired</th>\n",
       "      <th>DateCreated</th>\n",
       "      <th>NumberOfPictures</th>\n",
       "      <th>PostalCode</th>\n",
       "      <th>LastSeen</th>\n",
       "    </tr>\n",
       "  </thead>\n",
       "  <tbody>\n",
       "    <tr>\n",
       "      <th>0</th>\n",
       "      <td>2016-03-24 11:52:17</td>\n",
       "      <td>480</td>\n",
       "      <td>NaN</td>\n",
       "      <td>1993</td>\n",
       "      <td>manual</td>\n",
       "      <td>0</td>\n",
       "      <td>golf</td>\n",
       "      <td>150000</td>\n",
       "      <td>0</td>\n",
       "      <td>petrol</td>\n",
       "      <td>volkswagen</td>\n",
       "      <td>NaN</td>\n",
       "      <td>2016-03-24 00:00:00</td>\n",
       "      <td>0</td>\n",
       "      <td>70435</td>\n",
       "      <td>2016-04-07 03:16:57</td>\n",
       "    </tr>\n",
       "    <tr>\n",
       "      <th>1</th>\n",
       "      <td>2016-03-24 10:58:45</td>\n",
       "      <td>18300</td>\n",
       "      <td>coupe</td>\n",
       "      <td>2011</td>\n",
       "      <td>manual</td>\n",
       "      <td>190</td>\n",
       "      <td>NaN</td>\n",
       "      <td>125000</td>\n",
       "      <td>5</td>\n",
       "      <td>gasoline</td>\n",
       "      <td>audi</td>\n",
       "      <td>yes</td>\n",
       "      <td>2016-03-24 00:00:00</td>\n",
       "      <td>0</td>\n",
       "      <td>66954</td>\n",
       "      <td>2016-04-07 01:46:50</td>\n",
       "    </tr>\n",
       "    <tr>\n",
       "      <th>2</th>\n",
       "      <td>2016-03-14 12:52:21</td>\n",
       "      <td>9800</td>\n",
       "      <td>suv</td>\n",
       "      <td>2004</td>\n",
       "      <td>auto</td>\n",
       "      <td>163</td>\n",
       "      <td>grand</td>\n",
       "      <td>125000</td>\n",
       "      <td>8</td>\n",
       "      <td>gasoline</td>\n",
       "      <td>jeep</td>\n",
       "      <td>NaN</td>\n",
       "      <td>2016-03-14 00:00:00</td>\n",
       "      <td>0</td>\n",
       "      <td>90480</td>\n",
       "      <td>2016-04-05 12:47:46</td>\n",
       "    </tr>\n",
       "    <tr>\n",
       "      <th>3</th>\n",
       "      <td>2016-03-17 16:54:04</td>\n",
       "      <td>1500</td>\n",
       "      <td>small</td>\n",
       "      <td>2001</td>\n",
       "      <td>manual</td>\n",
       "      <td>75</td>\n",
       "      <td>golf</td>\n",
       "      <td>150000</td>\n",
       "      <td>6</td>\n",
       "      <td>petrol</td>\n",
       "      <td>volkswagen</td>\n",
       "      <td>no</td>\n",
       "      <td>2016-03-17 00:00:00</td>\n",
       "      <td>0</td>\n",
       "      <td>91074</td>\n",
       "      <td>2016-03-17 17:40:17</td>\n",
       "    </tr>\n",
       "    <tr>\n",
       "      <th>4</th>\n",
       "      <td>2016-03-31 17:25:20</td>\n",
       "      <td>3600</td>\n",
       "      <td>small</td>\n",
       "      <td>2008</td>\n",
       "      <td>manual</td>\n",
       "      <td>69</td>\n",
       "      <td>fabia</td>\n",
       "      <td>90000</td>\n",
       "      <td>7</td>\n",
       "      <td>gasoline</td>\n",
       "      <td>skoda</td>\n",
       "      <td>no</td>\n",
       "      <td>2016-03-31 00:00:00</td>\n",
       "      <td>0</td>\n",
       "      <td>60437</td>\n",
       "      <td>2016-04-06 10:17:21</td>\n",
       "    </tr>\n",
       "  </tbody>\n",
       "</table>\n",
       "</div>"
      ],
      "text/plain": [
       "           DateCrawled  Price VehicleType  RegistrationYear Gearbox  Power  \\\n",
       "0  2016-03-24 11:52:17    480         NaN              1993  manual      0   \n",
       "1  2016-03-24 10:58:45  18300       coupe              2011  manual    190   \n",
       "2  2016-03-14 12:52:21   9800         suv              2004    auto    163   \n",
       "3  2016-03-17 16:54:04   1500       small              2001  manual     75   \n",
       "4  2016-03-31 17:25:20   3600       small              2008  manual     69   \n",
       "\n",
       "   Model  Kilometer  RegistrationMonth  FuelType       Brand NotRepaired  \\\n",
       "0   golf     150000                  0    petrol  volkswagen         NaN   \n",
       "1    NaN     125000                  5  gasoline        audi         yes   \n",
       "2  grand     125000                  8  gasoline        jeep         NaN   \n",
       "3   golf     150000                  6    petrol  volkswagen          no   \n",
       "4  fabia      90000                  7  gasoline       skoda          no   \n",
       "\n",
       "           DateCreated  NumberOfPictures  PostalCode             LastSeen  \n",
       "0  2016-03-24 00:00:00                 0       70435  2016-04-07 03:16:57  \n",
       "1  2016-03-24 00:00:00                 0       66954  2016-04-07 01:46:50  \n",
       "2  2016-03-14 00:00:00                 0       90480  2016-04-05 12:47:46  \n",
       "3  2016-03-17 00:00:00                 0       91074  2016-03-17 17:40:17  \n",
       "4  2016-03-31 00:00:00                 0       60437  2016-04-06 10:17:21  "
      ]
     },
     "execution_count": 3,
     "metadata": {},
     "output_type": "execute_result"
    }
   ],
   "source": [
    "data.head()"
   ]
  },
  {
   "cell_type": "code",
   "execution_count": 4,
   "metadata": {},
   "outputs": [
    {
     "name": "stdout",
     "output_type": "stream",
     "text": [
      "<class 'pandas.core.frame.DataFrame'>\n",
      "RangeIndex: 354369 entries, 0 to 354368\n",
      "Data columns (total 16 columns):\n",
      " #   Column             Non-Null Count   Dtype \n",
      "---  ------             --------------   ----- \n",
      " 0   DateCrawled        354369 non-null  object\n",
      " 1   Price              354369 non-null  int64 \n",
      " 2   VehicleType        316879 non-null  object\n",
      " 3   RegistrationYear   354369 non-null  int64 \n",
      " 4   Gearbox            334536 non-null  object\n",
      " 5   Power              354369 non-null  int64 \n",
      " 6   Model              334664 non-null  object\n",
      " 7   Kilometer          354369 non-null  int64 \n",
      " 8   RegistrationMonth  354369 non-null  int64 \n",
      " 9   FuelType           321474 non-null  object\n",
      " 10  Brand              354369 non-null  object\n",
      " 11  NotRepaired        283215 non-null  object\n",
      " 12  DateCreated        354369 non-null  object\n",
      " 13  NumberOfPictures   354369 non-null  int64 \n",
      " 14  PostalCode         354369 non-null  int64 \n",
      " 15  LastSeen           354369 non-null  object\n",
      "dtypes: int64(7), object(9)\n",
      "memory usage: 43.3+ MB\n"
     ]
    }
   ],
   "source": [
    "data.info()"
   ]
  },
  {
   "cell_type": "markdown",
   "metadata": {},
   "source": [
    "### Дубликаты"
   ]
  },
  {
   "cell_type": "code",
   "execution_count": 5,
   "metadata": {},
   "outputs": [
    {
     "data": {
      "text/plain": [
       "4"
      ]
     },
     "execution_count": 5,
     "metadata": {},
     "output_type": "execute_result"
    }
   ],
   "source": [
    "# проверим дубликаты\n",
    "data.duplicated().sum()"
   ]
  },
  {
   "cell_type": "code",
   "execution_count": 6,
   "metadata": {},
   "outputs": [],
   "source": [
    "# удалим дубликаты\n",
    "data = data.drop_duplicates().reset_index(drop=True)"
   ]
  },
  {
   "cell_type": "code",
   "execution_count": 7,
   "metadata": {},
   "outputs": [
    {
     "data": {
      "text/plain": [
       "0"
      ]
     },
     "execution_count": 7,
     "metadata": {},
     "output_type": "execute_result"
    }
   ],
   "source": [
    "data.duplicated().sum()"
   ]
  },
  {
   "cell_type": "markdown",
   "metadata": {},
   "source": [
    "### Пропуски"
   ]
  },
  {
   "cell_type": "code",
   "execution_count": 8,
   "metadata": {},
   "outputs": [
    {
     "data": {
      "text/plain": [
       "DateCrawled              0\n",
       "Price                    0\n",
       "VehicleType          37490\n",
       "RegistrationYear         0\n",
       "Gearbox              19833\n",
       "Power                    0\n",
       "Model                19705\n",
       "Kilometer                0\n",
       "RegistrationMonth        0\n",
       "FuelType             32895\n",
       "Brand                    0\n",
       "NotRepaired          71154\n",
       "DateCreated              0\n",
       "NumberOfPictures         0\n",
       "PostalCode               0\n",
       "LastSeen                 0\n",
       "dtype: int64"
      ]
     },
     "execution_count": 8,
     "metadata": {},
     "output_type": "execute_result"
    }
   ],
   "source": [
    "# проверим пропуски\n",
    "data.isna().sum()"
   ]
  },
  {
   "cell_type": "markdown",
   "metadata": {},
   "source": [
    "Пропуски есть в столбцах: тип автомобильного кузова, тип коробки передач, модель автомобиля, тип топлива, была машина в ремонте или нет. Это все категориальные переменные. Методы заполнения пропусков, основанные на соседних строках (например, метод ближайших соседей, интерполяция, форвардная заливка), а также заполнение медианой или средним больше подходят для пропусков в численных переменных и в данном случае не сгодятся. Можно заменить все пропуски значением 'unknown', тогда мы сохраним данные о пропущенных значениях. Можно также попробовать заменить пропуски на наиболее встречающиеся в столбцах значения (мода данных)."
   ]
  },
  {
   "cell_type": "code",
   "execution_count": 9,
   "metadata": {},
   "outputs": [],
   "source": [
    "data = data.fillna('unknown')"
   ]
  },
  {
   "cell_type": "code",
   "execution_count": 10,
   "metadata": {},
   "outputs": [
    {
     "data": {
      "text/plain": [
       "DateCrawled          0\n",
       "Price                0\n",
       "VehicleType          0\n",
       "RegistrationYear     0\n",
       "Gearbox              0\n",
       "Power                0\n",
       "Model                0\n",
       "Kilometer            0\n",
       "RegistrationMonth    0\n",
       "FuelType             0\n",
       "Brand                0\n",
       "NotRepaired          0\n",
       "DateCreated          0\n",
       "NumberOfPictures     0\n",
       "PostalCode           0\n",
       "LastSeen             0\n",
       "dtype: int64"
      ]
     },
     "execution_count": 10,
     "metadata": {},
     "output_type": "execute_result"
    }
   ],
   "source": [
    "data.isna().sum()"
   ]
  },
  {
   "cell_type": "markdown",
   "metadata": {},
   "source": [
    "### Аномалии и выбросы"
   ]
  },
  {
   "cell_type": "code",
   "execution_count": 11,
   "metadata": {},
   "outputs": [
    {
     "data": {
      "text/html": [
       "<div>\n",
       "<style scoped>\n",
       "    .dataframe tbody tr th:only-of-type {\n",
       "        vertical-align: middle;\n",
       "    }\n",
       "\n",
       "    .dataframe tbody tr th {\n",
       "        vertical-align: top;\n",
       "    }\n",
       "\n",
       "    .dataframe thead th {\n",
       "        text-align: right;\n",
       "    }\n",
       "</style>\n",
       "<table border=\"1\" class=\"dataframe\">\n",
       "  <thead>\n",
       "    <tr style=\"text-align: right;\">\n",
       "      <th></th>\n",
       "      <th>Price</th>\n",
       "      <th>RegistrationYear</th>\n",
       "      <th>Power</th>\n",
       "      <th>Kilometer</th>\n",
       "      <th>RegistrationMonth</th>\n",
       "      <th>NumberOfPictures</th>\n",
       "      <th>PostalCode</th>\n",
       "    </tr>\n",
       "  </thead>\n",
       "  <tbody>\n",
       "    <tr>\n",
       "      <th>count</th>\n",
       "      <td>354365.000000</td>\n",
       "      <td>354365.000000</td>\n",
       "      <td>354365.000000</td>\n",
       "      <td>354365.000000</td>\n",
       "      <td>354365.000000</td>\n",
       "      <td>354365.0</td>\n",
       "      <td>354365.000000</td>\n",
       "    </tr>\n",
       "    <tr>\n",
       "      <th>mean</th>\n",
       "      <td>4416.679830</td>\n",
       "      <td>2004.234481</td>\n",
       "      <td>110.093816</td>\n",
       "      <td>128211.363989</td>\n",
       "      <td>5.714650</td>\n",
       "      <td>0.0</td>\n",
       "      <td>50508.503800</td>\n",
       "    </tr>\n",
       "    <tr>\n",
       "      <th>std</th>\n",
       "      <td>4514.176349</td>\n",
       "      <td>90.228466</td>\n",
       "      <td>189.851330</td>\n",
       "      <td>37905.083858</td>\n",
       "      <td>3.726432</td>\n",
       "      <td>0.0</td>\n",
       "      <td>25783.100078</td>\n",
       "    </tr>\n",
       "    <tr>\n",
       "      <th>min</th>\n",
       "      <td>0.000000</td>\n",
       "      <td>1000.000000</td>\n",
       "      <td>0.000000</td>\n",
       "      <td>5000.000000</td>\n",
       "      <td>0.000000</td>\n",
       "      <td>0.0</td>\n",
       "      <td>1067.000000</td>\n",
       "    </tr>\n",
       "    <tr>\n",
       "      <th>25%</th>\n",
       "      <td>1050.000000</td>\n",
       "      <td>1999.000000</td>\n",
       "      <td>69.000000</td>\n",
       "      <td>125000.000000</td>\n",
       "      <td>3.000000</td>\n",
       "      <td>0.0</td>\n",
       "      <td>30165.000000</td>\n",
       "    </tr>\n",
       "    <tr>\n",
       "      <th>50%</th>\n",
       "      <td>2700.000000</td>\n",
       "      <td>2003.000000</td>\n",
       "      <td>105.000000</td>\n",
       "      <td>150000.000000</td>\n",
       "      <td>6.000000</td>\n",
       "      <td>0.0</td>\n",
       "      <td>49413.000000</td>\n",
       "    </tr>\n",
       "    <tr>\n",
       "      <th>75%</th>\n",
       "      <td>6400.000000</td>\n",
       "      <td>2008.000000</td>\n",
       "      <td>143.000000</td>\n",
       "      <td>150000.000000</td>\n",
       "      <td>9.000000</td>\n",
       "      <td>0.0</td>\n",
       "      <td>71083.000000</td>\n",
       "    </tr>\n",
       "    <tr>\n",
       "      <th>max</th>\n",
       "      <td>20000.000000</td>\n",
       "      <td>9999.000000</td>\n",
       "      <td>20000.000000</td>\n",
       "      <td>150000.000000</td>\n",
       "      <td>12.000000</td>\n",
       "      <td>0.0</td>\n",
       "      <td>99998.000000</td>\n",
       "    </tr>\n",
       "  </tbody>\n",
       "</table>\n",
       "</div>"
      ],
      "text/plain": [
       "               Price  RegistrationYear          Power      Kilometer  \\\n",
       "count  354365.000000     354365.000000  354365.000000  354365.000000   \n",
       "mean     4416.679830       2004.234481     110.093816  128211.363989   \n",
       "std      4514.176349         90.228466     189.851330   37905.083858   \n",
       "min         0.000000       1000.000000       0.000000    5000.000000   \n",
       "25%      1050.000000       1999.000000      69.000000  125000.000000   \n",
       "50%      2700.000000       2003.000000     105.000000  150000.000000   \n",
       "75%      6400.000000       2008.000000     143.000000  150000.000000   \n",
       "max     20000.000000       9999.000000   20000.000000  150000.000000   \n",
       "\n",
       "       RegistrationMonth  NumberOfPictures     PostalCode  \n",
       "count      354365.000000          354365.0  354365.000000  \n",
       "mean            5.714650               0.0   50508.503800  \n",
       "std             3.726432               0.0   25783.100078  \n",
       "min             0.000000               0.0    1067.000000  \n",
       "25%             3.000000               0.0   30165.000000  \n",
       "50%             6.000000               0.0   49413.000000  \n",
       "75%             9.000000               0.0   71083.000000  \n",
       "max            12.000000               0.0   99998.000000  "
      ]
     },
     "execution_count": 11,
     "metadata": {},
     "output_type": "execute_result"
    }
   ],
   "source": [
    "# посмотрим теперь аномалии в численных признаках\n",
    "data.describe()"
   ]
  },
  {
   "cell_type": "markdown",
   "metadata": {},
   "source": [
    "После получения общей информации по столбцам, можно сделать выводы:\n",
    "- Столбец с годом регистриции автомобиля содержит аномалии (минимум 1000 год регистрации, а максимум 9999). Максимум нужно ограничить годом выгрузки данных, а минимум 1920 годом, т.к. приблизительно в это время началось массовое производство автомобилей и мы закладываем возможность того, что кто-то захотел продать свой ретроавтомобиль.\n",
    "- Столбец с мощностью также имеет выбросы, которые можно проработать с помощью ящика с усами, минимум стоит ограничить 10 лошадиными силами (согласно статье о самых маломощных автомобилях https://fastmb.ru/autonews/autonews_mir/1367-samye-malomoschnye-avtomobili-top-10.html)\n",
    "- Столбец с пробегом выглядит правдоподобно.\n",
    "- Столбец с месяцем регистрации имеет минимум 0, его было бы корректно заменить на 1-ый месяц.\n",
    "- Столбец с целевым признаком ценой имеет сомнительно низкие значения. Минимальное значение ограничим 150 евро. Максимальное значение в 20000 евро не является аномально высоким."
   ]
  },
  {
   "cell_type": "code",
   "execution_count": 12,
   "metadata": {},
   "outputs": [
    {
     "data": {
      "text/plain": [
       "Timestamp('2016-04-07 14:36:58')"
      ]
     },
     "execution_count": 12,
     "metadata": {},
     "output_type": "execute_result"
    }
   ],
   "source": [
    "# посмотрим последнюю дату выгрузки\n",
    "data['DateCrawled'] = pd.to_datetime(data['DateCrawled'])\n",
    "data['DateCrawled'].max()"
   ]
  },
  {
   "cell_type": "code",
   "execution_count": 13,
   "metadata": {},
   "outputs": [
    {
     "name": "stdout",
     "output_type": "stream",
     "text": [
      "До ограничения: 354365\n",
      "После ограничения: 339665\n"
     ]
    }
   ],
   "source": [
    "# ограничим столбец с годом регистрации\n",
    "print('До ограничения:', len(data))\n",
    "data = data.query('1920 < RegistrationYear <= 2016')\n",
    "print('После ограничения:', len(data))"
   ]
  },
  {
   "cell_type": "markdown",
   "metadata": {},
   "source": [
    "Удалим столбцы, которые не будут важны для обучения модели: DateCrawled, DateCreated, NumberOfPictures, PostalCode, LastSeen."
   ]
  },
  {
   "cell_type": "code",
   "execution_count": 14,
   "metadata": {},
   "outputs": [],
   "source": [
    "data = data.drop(['DateCrawled', 'DateCreated', 'NumberOfPictures', 'PostalCode', 'LastSeen'], axis=1)"
   ]
  },
  {
   "cell_type": "code",
   "execution_count": 15,
   "metadata": {},
   "outputs": [
    {
     "data": {
      "text/html": [
       "<div>\n",
       "<style scoped>\n",
       "    .dataframe tbody tr th:only-of-type {\n",
       "        vertical-align: middle;\n",
       "    }\n",
       "\n",
       "    .dataframe tbody tr th {\n",
       "        vertical-align: top;\n",
       "    }\n",
       "\n",
       "    .dataframe thead th {\n",
       "        text-align: right;\n",
       "    }\n",
       "</style>\n",
       "<table border=\"1\" class=\"dataframe\">\n",
       "  <thead>\n",
       "    <tr style=\"text-align: right;\">\n",
       "      <th></th>\n",
       "      <th>Price</th>\n",
       "      <th>VehicleType</th>\n",
       "      <th>RegistrationYear</th>\n",
       "      <th>Gearbox</th>\n",
       "      <th>Power</th>\n",
       "      <th>Model</th>\n",
       "      <th>Kilometer</th>\n",
       "      <th>RegistrationMonth</th>\n",
       "      <th>FuelType</th>\n",
       "      <th>Brand</th>\n",
       "      <th>NotRepaired</th>\n",
       "    </tr>\n",
       "  </thead>\n",
       "  <tbody>\n",
       "    <tr>\n",
       "      <th>0</th>\n",
       "      <td>480</td>\n",
       "      <td>unknown</td>\n",
       "      <td>1993</td>\n",
       "      <td>manual</td>\n",
       "      <td>0</td>\n",
       "      <td>golf</td>\n",
       "      <td>150000</td>\n",
       "      <td>0</td>\n",
       "      <td>petrol</td>\n",
       "      <td>volkswagen</td>\n",
       "      <td>unknown</td>\n",
       "    </tr>\n",
       "    <tr>\n",
       "      <th>1</th>\n",
       "      <td>18300</td>\n",
       "      <td>coupe</td>\n",
       "      <td>2011</td>\n",
       "      <td>manual</td>\n",
       "      <td>190</td>\n",
       "      <td>unknown</td>\n",
       "      <td>125000</td>\n",
       "      <td>5</td>\n",
       "      <td>gasoline</td>\n",
       "      <td>audi</td>\n",
       "      <td>yes</td>\n",
       "    </tr>\n",
       "    <tr>\n",
       "      <th>2</th>\n",
       "      <td>9800</td>\n",
       "      <td>suv</td>\n",
       "      <td>2004</td>\n",
       "      <td>auto</td>\n",
       "      <td>163</td>\n",
       "      <td>grand</td>\n",
       "      <td>125000</td>\n",
       "      <td>8</td>\n",
       "      <td>gasoline</td>\n",
       "      <td>jeep</td>\n",
       "      <td>unknown</td>\n",
       "    </tr>\n",
       "    <tr>\n",
       "      <th>3</th>\n",
       "      <td>1500</td>\n",
       "      <td>small</td>\n",
       "      <td>2001</td>\n",
       "      <td>manual</td>\n",
       "      <td>75</td>\n",
       "      <td>golf</td>\n",
       "      <td>150000</td>\n",
       "      <td>6</td>\n",
       "      <td>petrol</td>\n",
       "      <td>volkswagen</td>\n",
       "      <td>no</td>\n",
       "    </tr>\n",
       "    <tr>\n",
       "      <th>4</th>\n",
       "      <td>3600</td>\n",
       "      <td>small</td>\n",
       "      <td>2008</td>\n",
       "      <td>manual</td>\n",
       "      <td>69</td>\n",
       "      <td>fabia</td>\n",
       "      <td>90000</td>\n",
       "      <td>7</td>\n",
       "      <td>gasoline</td>\n",
       "      <td>skoda</td>\n",
       "      <td>no</td>\n",
       "    </tr>\n",
       "  </tbody>\n",
       "</table>\n",
       "</div>"
      ],
      "text/plain": [
       "   Price VehicleType  RegistrationYear Gearbox  Power    Model  Kilometer  \\\n",
       "0    480     unknown              1993  manual      0     golf     150000   \n",
       "1  18300       coupe              2011  manual    190  unknown     125000   \n",
       "2   9800         suv              2004    auto    163    grand     125000   \n",
       "3   1500       small              2001  manual     75     golf     150000   \n",
       "4   3600       small              2008  manual     69    fabia      90000   \n",
       "\n",
       "   RegistrationMonth  FuelType       Brand NotRepaired  \n",
       "0                  0    petrol  volkswagen     unknown  \n",
       "1                  5  gasoline        audi         yes  \n",
       "2                  8  gasoline        jeep     unknown  \n",
       "3                  6    petrol  volkswagen          no  \n",
       "4                  7  gasoline       skoda          no  "
      ]
     },
     "execution_count": 15,
     "metadata": {},
     "output_type": "execute_result"
    }
   ],
   "source": [
    "data.head()"
   ]
  },
  {
   "cell_type": "code",
   "execution_count": 16,
   "metadata": {},
   "outputs": [],
   "source": [
    "# приведем в порядрок нулевые значения месяца регистрации\n",
    "data.loc[data['RegistrationMonth'] == 0, 'RegistrationMonth'] = 1"
   ]
  },
  {
   "cell_type": "code",
   "execution_count": 17,
   "metadata": {},
   "outputs": [
    {
     "data": {
      "text/plain": [
       "(0.0, 2500.0)"
      ]
     },
     "execution_count": 17,
     "metadata": {},
     "output_type": "execute_result"
    },
    {
     "data": {
      "image/png": "[encoded data removed]",
      "text/plain": [
       "<Figure size 432x288 with 1 Axes>"
      ]
     },
     "metadata": {
      "needs_background": "light"
     },
     "output_type": "display_data"
    }
   ],
   "source": [
    "# построим ящик с усами для столбца с мощностью двигателя\n",
    "data.boxplot(column='Power').set_ylim(0, 2500)"
   ]
  },
  {
   "cell_type": "code",
   "execution_count": 18,
   "metadata": {},
   "outputs": [
    {
     "data": {
      "text/plain": [
       "(-20.0, 900.0)"
      ]
     },
     "execution_count": 18,
     "metadata": {},
     "output_type": "execute_result"
    },
    {
     "data": {
      "image/png": "[encoded data removed]",
      "text/plain": [
       "<Figure size 432x288 with 1 Axes>"
      ]
     },
     "metadata": {
      "needs_background": "light"
     },
     "output_type": "display_data"
    }
   ],
   "source": [
    "# построим более детальный график\n",
    "data.boxplot(column='Power').set_ylim(-20, 900)"
   ]
  },
  {
   "cell_type": "code",
   "execution_count": 19,
   "metadata": {},
   "outputs": [
    {
     "name": "stdout",
     "output_type": "stream",
     "text": [
      "-42.0 254.0\n"
     ]
    }
   ],
   "source": [
    "# посчитаем значения квартилей\n",
    "q25 = data['Power'].quantile(0.25)\n",
    "q75 = data['Power'].quantile(0.75)\n",
    "first_part = q25-1.5*(q75-q25)\n",
    "second_part = q75+1.5*(q75-q25)\n",
    "print(first_part, second_part)"
   ]
  },
  {
   "cell_type": "code",
   "execution_count": 20,
   "metadata": {},
   "outputs": [
    {
     "data": {
      "text/html": [
       "<div>\n",
       "<style scoped>\n",
       "    .dataframe tbody tr th:only-of-type {\n",
       "        vertical-align: middle;\n",
       "    }\n",
       "\n",
       "    .dataframe tbody tr th {\n",
       "        vertical-align: top;\n",
       "    }\n",
       "\n",
       "    .dataframe thead th {\n",
       "        text-align: right;\n",
       "    }\n",
       "</style>\n",
       "<table border=\"1\" class=\"dataframe\">\n",
       "  <thead>\n",
       "    <tr style=\"text-align: right;\">\n",
       "      <th></th>\n",
       "      <th>Price</th>\n",
       "      <th>VehicleType</th>\n",
       "      <th>RegistrationYear</th>\n",
       "      <th>Gearbox</th>\n",
       "      <th>Power</th>\n",
       "      <th>Model</th>\n",
       "      <th>Kilometer</th>\n",
       "      <th>RegistrationMonth</th>\n",
       "      <th>FuelType</th>\n",
       "      <th>Brand</th>\n",
       "      <th>NotRepaired</th>\n",
       "    </tr>\n",
       "  </thead>\n",
       "  <tbody>\n",
       "    <tr>\n",
       "      <th>41</th>\n",
       "      <td>7500</td>\n",
       "      <td>sedan</td>\n",
       "      <td>2002</td>\n",
       "      <td>auto</td>\n",
       "      <td>306</td>\n",
       "      <td>e_klasse</td>\n",
       "      <td>150000</td>\n",
       "      <td>4</td>\n",
       "      <td>unknown</td>\n",
       "      <td>mercedes_benz</td>\n",
       "      <td>unknown</td>\n",
       "    </tr>\n",
       "    <tr>\n",
       "      <th>59</th>\n",
       "      <td>1</td>\n",
       "      <td>suv</td>\n",
       "      <td>1994</td>\n",
       "      <td>manual</td>\n",
       "      <td>286</td>\n",
       "      <td>unknown</td>\n",
       "      <td>150000</td>\n",
       "      <td>11</td>\n",
       "      <td>unknown</td>\n",
       "      <td>sonstige_autos</td>\n",
       "      <td>unknown</td>\n",
       "    </tr>\n",
       "    <tr>\n",
       "      <th>113</th>\n",
       "      <td>6300</td>\n",
       "      <td>sedan</td>\n",
       "      <td>2002</td>\n",
       "      <td>manual</td>\n",
       "      <td>265</td>\n",
       "      <td>golf</td>\n",
       "      <td>150000</td>\n",
       "      <td>3</td>\n",
       "      <td>petrol</td>\n",
       "      <td>volkswagen</td>\n",
       "      <td>no</td>\n",
       "    </tr>\n",
       "    <tr>\n",
       "      <th>125</th>\n",
       "      <td>1800</td>\n",
       "      <td>sedan</td>\n",
       "      <td>1995</td>\n",
       "      <td>auto</td>\n",
       "      <td>286</td>\n",
       "      <td>7er</td>\n",
       "      <td>150000</td>\n",
       "      <td>12</td>\n",
       "      <td>petrol</td>\n",
       "      <td>bmw</td>\n",
       "      <td>yes</td>\n",
       "    </tr>\n",
       "    <tr>\n",
       "      <th>172</th>\n",
       "      <td>19750</td>\n",
       "      <td>convertible</td>\n",
       "      <td>2006</td>\n",
       "      <td>manual</td>\n",
       "      <td>305</td>\n",
       "      <td>mustang</td>\n",
       "      <td>50000</td>\n",
       "      <td>7</td>\n",
       "      <td>petrol</td>\n",
       "      <td>ford</td>\n",
       "      <td>no</td>\n",
       "    </tr>\n",
       "    <tr>\n",
       "      <th>...</th>\n",
       "      <td>...</td>\n",
       "      <td>...</td>\n",
       "      <td>...</td>\n",
       "      <td>...</td>\n",
       "      <td>...</td>\n",
       "      <td>...</td>\n",
       "      <td>...</td>\n",
       "      <td>...</td>\n",
       "      <td>...</td>\n",
       "      <td>...</td>\n",
       "      <td>...</td>\n",
       "    </tr>\n",
       "    <tr>\n",
       "      <th>354191</th>\n",
       "      <td>14000</td>\n",
       "      <td>coupe</td>\n",
       "      <td>2007</td>\n",
       "      <td>manual</td>\n",
       "      <td>264</td>\n",
       "      <td>other</td>\n",
       "      <td>80000</td>\n",
       "      <td>6</td>\n",
       "      <td>petrol</td>\n",
       "      <td>opel</td>\n",
       "      <td>no</td>\n",
       "    </tr>\n",
       "    <tr>\n",
       "      <th>354277</th>\n",
       "      <td>6500</td>\n",
       "      <td>sedan</td>\n",
       "      <td>1993</td>\n",
       "      <td>auto</td>\n",
       "      <td>286</td>\n",
       "      <td>5er</td>\n",
       "      <td>150000</td>\n",
       "      <td>1</td>\n",
       "      <td>petrol</td>\n",
       "      <td>bmw</td>\n",
       "      <td>no</td>\n",
       "    </tr>\n",
       "    <tr>\n",
       "      <th>354302</th>\n",
       "      <td>16999</td>\n",
       "      <td>wagon</td>\n",
       "      <td>2008</td>\n",
       "      <td>auto</td>\n",
       "      <td>269</td>\n",
       "      <td>a6</td>\n",
       "      <td>150000</td>\n",
       "      <td>7</td>\n",
       "      <td>gasoline</td>\n",
       "      <td>audi</td>\n",
       "      <td>no</td>\n",
       "    </tr>\n",
       "    <tr>\n",
       "      <th>354333</th>\n",
       "      <td>11500</td>\n",
       "      <td>sedan</td>\n",
       "      <td>2004</td>\n",
       "      <td>auto</td>\n",
       "      <td>445</td>\n",
       "      <td>7er</td>\n",
       "      <td>125000</td>\n",
       "      <td>1</td>\n",
       "      <td>petrol</td>\n",
       "      <td>bmw</td>\n",
       "      <td>unknown</td>\n",
       "    </tr>\n",
       "    <tr>\n",
       "      <th>354350</th>\n",
       "      <td>5000</td>\n",
       "      <td>sedan</td>\n",
       "      <td>2003</td>\n",
       "      <td>auto</td>\n",
       "      <td>260</td>\n",
       "      <td>e_klasse</td>\n",
       "      <td>150000</td>\n",
       "      <td>12</td>\n",
       "      <td>gasoline</td>\n",
       "      <td>mercedes_benz</td>\n",
       "      <td>yes</td>\n",
       "    </tr>\n",
       "  </tbody>\n",
       "</table>\n",
       "<p>6744 rows × 11 columns</p>\n",
       "</div>"
      ],
      "text/plain": [
       "        Price  VehicleType  RegistrationYear Gearbox  Power     Model  \\\n",
       "41       7500        sedan              2002    auto    306  e_klasse   \n",
       "59          1          suv              1994  manual    286   unknown   \n",
       "113      6300        sedan              2002  manual    265      golf   \n",
       "125      1800        sedan              1995    auto    286       7er   \n",
       "172     19750  convertible              2006  manual    305   mustang   \n",
       "...       ...          ...               ...     ...    ...       ...   \n",
       "354191  14000        coupe              2007  manual    264     other   \n",
       "354277   6500        sedan              1993    auto    286       5er   \n",
       "354302  16999        wagon              2008    auto    269        a6   \n",
       "354333  11500        sedan              2004    auto    445       7er   \n",
       "354350   5000        sedan              2003    auto    260  e_klasse   \n",
       "\n",
       "        Kilometer  RegistrationMonth  FuelType           Brand NotRepaired  \n",
       "41         150000                  4   unknown   mercedes_benz     unknown  \n",
       "59         150000                 11   unknown  sonstige_autos     unknown  \n",
       "113        150000                  3    petrol      volkswagen          no  \n",
       "125        150000                 12    petrol             bmw         yes  \n",
       "172         50000                  7    petrol            ford          no  \n",
       "...           ...                ...       ...             ...         ...  \n",
       "354191      80000                  6    petrol            opel          no  \n",
       "354277     150000                  1    petrol             bmw          no  \n",
       "354302     150000                  7  gasoline            audi          no  \n",
       "354333     125000                  1    petrol             bmw     unknown  \n",
       "354350     150000                 12  gasoline   mercedes_benz         yes  \n",
       "\n",
       "[6744 rows x 11 columns]"
      ]
     },
     "execution_count": 20,
     "metadata": {},
     "output_type": "execute_result"
    }
   ],
   "source": [
    "# посмотрим сколько и какие строки попадают под условие \n",
    "data.query('255 < Power < 600')"
   ]
  },
  {
   "cell_type": "code",
   "execution_count": 21,
   "metadata": {},
   "outputs": [
    {
     "data": {
      "text/html": [
       "<div>\n",
       "<style scoped>\n",
       "    .dataframe tbody tr th:only-of-type {\n",
       "        vertical-align: middle;\n",
       "    }\n",
       "\n",
       "    .dataframe tbody tr th {\n",
       "        vertical-align: top;\n",
       "    }\n",
       "\n",
       "    .dataframe thead th {\n",
       "        text-align: right;\n",
       "    }\n",
       "</style>\n",
       "<table border=\"1\" class=\"dataframe\">\n",
       "  <thead>\n",
       "    <tr style=\"text-align: right;\">\n",
       "      <th></th>\n",
       "      <th>Price</th>\n",
       "      <th>VehicleType</th>\n",
       "      <th>RegistrationYear</th>\n",
       "      <th>Gearbox</th>\n",
       "      <th>Power</th>\n",
       "      <th>Model</th>\n",
       "      <th>Kilometer</th>\n",
       "      <th>RegistrationMonth</th>\n",
       "      <th>FuelType</th>\n",
       "      <th>Brand</th>\n",
       "      <th>NotRepaired</th>\n",
       "    </tr>\n",
       "  </thead>\n",
       "  <tbody>\n",
       "    <tr>\n",
       "      <th>1816</th>\n",
       "      <td>3200</td>\n",
       "      <td>small</td>\n",
       "      <td>2004</td>\n",
       "      <td>manual</td>\n",
       "      <td>1398</td>\n",
       "      <td>corolla</td>\n",
       "      <td>5000</td>\n",
       "      <td>6</td>\n",
       "      <td>petrol</td>\n",
       "      <td>toyota</td>\n",
       "      <td>no</td>\n",
       "    </tr>\n",
       "    <tr>\n",
       "      <th>2102</th>\n",
       "      <td>0</td>\n",
       "      <td>sedan</td>\n",
       "      <td>1999</td>\n",
       "      <td>unknown</td>\n",
       "      <td>1799</td>\n",
       "      <td>vectra</td>\n",
       "      <td>150000</td>\n",
       "      <td>1</td>\n",
       "      <td>petrol</td>\n",
       "      <td>opel</td>\n",
       "      <td>yes</td>\n",
       "    </tr>\n",
       "    <tr>\n",
       "      <th>4060</th>\n",
       "      <td>3100</td>\n",
       "      <td>sedan</td>\n",
       "      <td>2005</td>\n",
       "      <td>manual</td>\n",
       "      <td>953</td>\n",
       "      <td>colt</td>\n",
       "      <td>150000</td>\n",
       "      <td>4</td>\n",
       "      <td>gasoline</td>\n",
       "      <td>mitsubishi</td>\n",
       "      <td>no</td>\n",
       "    </tr>\n",
       "    <tr>\n",
       "      <th>5328</th>\n",
       "      <td>500</td>\n",
       "      <td>wagon</td>\n",
       "      <td>1999</td>\n",
       "      <td>manual</td>\n",
       "      <td>1001</td>\n",
       "      <td>astra</td>\n",
       "      <td>150000</td>\n",
       "      <td>7</td>\n",
       "      <td>petrol</td>\n",
       "      <td>opel</td>\n",
       "      <td>unknown</td>\n",
       "    </tr>\n",
       "    <tr>\n",
       "      <th>6296</th>\n",
       "      <td>599</td>\n",
       "      <td>small</td>\n",
       "      <td>2002</td>\n",
       "      <td>manual</td>\n",
       "      <td>603</td>\n",
       "      <td>matiz</td>\n",
       "      <td>5000</td>\n",
       "      <td>11</td>\n",
       "      <td>petrol</td>\n",
       "      <td>chevrolet</td>\n",
       "      <td>yes</td>\n",
       "    </tr>\n",
       "    <tr>\n",
       "      <th>...</th>\n",
       "      <td>...</td>\n",
       "      <td>...</td>\n",
       "      <td>...</td>\n",
       "      <td>...</td>\n",
       "      <td>...</td>\n",
       "      <td>...</td>\n",
       "      <td>...</td>\n",
       "      <td>...</td>\n",
       "      <td>...</td>\n",
       "      <td>...</td>\n",
       "      <td>...</td>\n",
       "    </tr>\n",
       "    <tr>\n",
       "      <th>348879</th>\n",
       "      <td>7500</td>\n",
       "      <td>sedan</td>\n",
       "      <td>2011</td>\n",
       "      <td>manual</td>\n",
       "      <td>1548</td>\n",
       "      <td>scenic</td>\n",
       "      <td>90000</td>\n",
       "      <td>4</td>\n",
       "      <td>petrol</td>\n",
       "      <td>renault</td>\n",
       "      <td>unknown</td>\n",
       "    </tr>\n",
       "    <tr>\n",
       "      <th>348964</th>\n",
       "      <td>250</td>\n",
       "      <td>small</td>\n",
       "      <td>1999</td>\n",
       "      <td>manual</td>\n",
       "      <td>1241</td>\n",
       "      <td>ypsilon</td>\n",
       "      <td>150000</td>\n",
       "      <td>5</td>\n",
       "      <td>petrol</td>\n",
       "      <td>lancia</td>\n",
       "      <td>yes</td>\n",
       "    </tr>\n",
       "    <tr>\n",
       "      <th>351943</th>\n",
       "      <td>1500</td>\n",
       "      <td>bus</td>\n",
       "      <td>2001</td>\n",
       "      <td>manual</td>\n",
       "      <td>1001</td>\n",
       "      <td>zafira</td>\n",
       "      <td>5000</td>\n",
       "      <td>7</td>\n",
       "      <td>gasoline</td>\n",
       "      <td>opel</td>\n",
       "      <td>no</td>\n",
       "    </tr>\n",
       "    <tr>\n",
       "      <th>353629</th>\n",
       "      <td>2400</td>\n",
       "      <td>sedan</td>\n",
       "      <td>2007</td>\n",
       "      <td>manual</td>\n",
       "      <td>650</td>\n",
       "      <td>c2</td>\n",
       "      <td>150000</td>\n",
       "      <td>8</td>\n",
       "      <td>petrol</td>\n",
       "      <td>citroen</td>\n",
       "      <td>unknown</td>\n",
       "    </tr>\n",
       "    <tr>\n",
       "      <th>354256</th>\n",
       "      <td>399</td>\n",
       "      <td>other</td>\n",
       "      <td>1994</td>\n",
       "      <td>unknown</td>\n",
       "      <td>1103</td>\n",
       "      <td>3er</td>\n",
       "      <td>150000</td>\n",
       "      <td>1</td>\n",
       "      <td>unknown</td>\n",
       "      <td>bmw</td>\n",
       "      <td>unknown</td>\n",
       "    </tr>\n",
       "  </tbody>\n",
       "</table>\n",
       "<p>349 rows × 11 columns</p>\n",
       "</div>"
      ],
      "text/plain": [
       "        Price VehicleType  RegistrationYear  Gearbox  Power    Model  \\\n",
       "1816     3200       small              2004   manual   1398  corolla   \n",
       "2102        0       sedan              1999  unknown   1799   vectra   \n",
       "4060     3100       sedan              2005   manual    953     colt   \n",
       "5328      500       wagon              1999   manual   1001    astra   \n",
       "6296      599       small              2002   manual    603    matiz   \n",
       "...       ...         ...               ...      ...    ...      ...   \n",
       "348879   7500       sedan              2011   manual   1548   scenic   \n",
       "348964    250       small              1999   manual   1241  ypsilon   \n",
       "351943   1500         bus              2001   manual   1001   zafira   \n",
       "353629   2400       sedan              2007   manual    650       c2   \n",
       "354256    399       other              1994  unknown   1103      3er   \n",
       "\n",
       "        Kilometer  RegistrationMonth  FuelType       Brand NotRepaired  \n",
       "1816         5000                  6    petrol      toyota          no  \n",
       "2102       150000                  1    petrol        opel         yes  \n",
       "4060       150000                  4  gasoline  mitsubishi          no  \n",
       "5328       150000                  7    petrol        opel     unknown  \n",
       "6296         5000                 11    petrol   chevrolet         yes  \n",
       "...           ...                ...       ...         ...         ...  \n",
       "348879      90000                  4    petrol     renault     unknown  \n",
       "348964     150000                  5    petrol      lancia         yes  \n",
       "351943       5000                  7  gasoline        opel          no  \n",
       "353629     150000                  8    petrol     citroen     unknown  \n",
       "354256     150000                  1   unknown         bmw     unknown  \n",
       "\n",
       "[349 rows x 11 columns]"
      ]
     },
     "execution_count": 21,
     "metadata": {},
     "output_type": "execute_result"
    }
   ],
   "source": [
    "data.query('Power > 600')"
   ]
  },
  {
   "cell_type": "markdown",
   "metadata": {},
   "source": [
    "На первый вгляд можно сказать, что данные о машинах с высокой мощностью ошибочны, т.к. в строках указаны мадели легковых маломощных машин (например, Citroen C2 или Toyota Corolla).\n",
    "На более детальном графике видно, что после отметки в 600 л.с. встречаются лишь единичные точки. Нормальные значения мощности ограничиваются 254 л.с., но есть отбросить все, что выше нормальных значений, то пропадет около 7000 строк. Поэтому отбросим строки, в которых мощность выше 600 л.с. и ниже 10 л.с."
   ]
  },
  {
   "cell_type": "code",
   "execution_count": 22,
   "metadata": {},
   "outputs": [
    {
     "data": {
      "text/html": [
       "<div>\n",
       "<style scoped>\n",
       "    .dataframe tbody tr th:only-of-type {\n",
       "        vertical-align: middle;\n",
       "    }\n",
       "\n",
       "    .dataframe tbody tr th {\n",
       "        vertical-align: top;\n",
       "    }\n",
       "\n",
       "    .dataframe thead th {\n",
       "        text-align: right;\n",
       "    }\n",
       "</style>\n",
       "<table border=\"1\" class=\"dataframe\">\n",
       "  <thead>\n",
       "    <tr style=\"text-align: right;\">\n",
       "      <th></th>\n",
       "      <th>Price</th>\n",
       "      <th>VehicleType</th>\n",
       "      <th>RegistrationYear</th>\n",
       "      <th>Gearbox</th>\n",
       "      <th>Power</th>\n",
       "      <th>Model</th>\n",
       "      <th>Kilometer</th>\n",
       "      <th>RegistrationMonth</th>\n",
       "      <th>FuelType</th>\n",
       "      <th>Brand</th>\n",
       "      <th>NotRepaired</th>\n",
       "    </tr>\n",
       "  </thead>\n",
       "  <tbody>\n",
       "    <tr>\n",
       "      <th>0</th>\n",
       "      <td>480</td>\n",
       "      <td>unknown</td>\n",
       "      <td>1993</td>\n",
       "      <td>manual</td>\n",
       "      <td>0</td>\n",
       "      <td>golf</td>\n",
       "      <td>150000</td>\n",
       "      <td>1</td>\n",
       "      <td>petrol</td>\n",
       "      <td>volkswagen</td>\n",
       "      <td>unknown</td>\n",
       "    </tr>\n",
       "    <tr>\n",
       "      <th>32</th>\n",
       "      <td>245</td>\n",
       "      <td>sedan</td>\n",
       "      <td>1994</td>\n",
       "      <td>unknown</td>\n",
       "      <td>0</td>\n",
       "      <td>golf</td>\n",
       "      <td>150000</td>\n",
       "      <td>2</td>\n",
       "      <td>petrol</td>\n",
       "      <td>volkswagen</td>\n",
       "      <td>no</td>\n",
       "    </tr>\n",
       "    <tr>\n",
       "      <th>37</th>\n",
       "      <td>1500</td>\n",
       "      <td>unknown</td>\n",
       "      <td>2016</td>\n",
       "      <td>unknown</td>\n",
       "      <td>0</td>\n",
       "      <td>kangoo</td>\n",
       "      <td>150000</td>\n",
       "      <td>1</td>\n",
       "      <td>gasoline</td>\n",
       "      <td>renault</td>\n",
       "      <td>no</td>\n",
       "    </tr>\n",
       "    <tr>\n",
       "      <th>40</th>\n",
       "      <td>0</td>\n",
       "      <td>unknown</td>\n",
       "      <td>1990</td>\n",
       "      <td>unknown</td>\n",
       "      <td>0</td>\n",
       "      <td>corsa</td>\n",
       "      <td>150000</td>\n",
       "      <td>1</td>\n",
       "      <td>petrol</td>\n",
       "      <td>opel</td>\n",
       "      <td>unknown</td>\n",
       "    </tr>\n",
       "    <tr>\n",
       "      <th>54</th>\n",
       "      <td>4700</td>\n",
       "      <td>wagon</td>\n",
       "      <td>2005</td>\n",
       "      <td>manual</td>\n",
       "      <td>0</td>\n",
       "      <td>signum</td>\n",
       "      <td>150000</td>\n",
       "      <td>1</td>\n",
       "      <td>unknown</td>\n",
       "      <td>opel</td>\n",
       "      <td>no</td>\n",
       "    </tr>\n",
       "    <tr>\n",
       "      <th>...</th>\n",
       "      <td>...</td>\n",
       "      <td>...</td>\n",
       "      <td>...</td>\n",
       "      <td>...</td>\n",
       "      <td>...</td>\n",
       "      <td>...</td>\n",
       "      <td>...</td>\n",
       "      <td>...</td>\n",
       "      <td>...</td>\n",
       "      <td>...</td>\n",
       "      <td>...</td>\n",
       "    </tr>\n",
       "    <tr>\n",
       "      <th>354342</th>\n",
       "      <td>2600</td>\n",
       "      <td>unknown</td>\n",
       "      <td>2005</td>\n",
       "      <td>auto</td>\n",
       "      <td>0</td>\n",
       "      <td>c_klasse</td>\n",
       "      <td>150000</td>\n",
       "      <td>9</td>\n",
       "      <td>unknown</td>\n",
       "      <td>mercedes_benz</td>\n",
       "      <td>unknown</td>\n",
       "    </tr>\n",
       "    <tr>\n",
       "      <th>354356</th>\n",
       "      <td>3999</td>\n",
       "      <td>wagon</td>\n",
       "      <td>2005</td>\n",
       "      <td>manual</td>\n",
       "      <td>3</td>\n",
       "      <td>3er</td>\n",
       "      <td>150000</td>\n",
       "      <td>5</td>\n",
       "      <td>gasoline</td>\n",
       "      <td>bmw</td>\n",
       "      <td>no</td>\n",
       "    </tr>\n",
       "    <tr>\n",
       "      <th>354359</th>\n",
       "      <td>1150</td>\n",
       "      <td>bus</td>\n",
       "      <td>2000</td>\n",
       "      <td>manual</td>\n",
       "      <td>0</td>\n",
       "      <td>zafira</td>\n",
       "      <td>150000</td>\n",
       "      <td>3</td>\n",
       "      <td>petrol</td>\n",
       "      <td>opel</td>\n",
       "      <td>no</td>\n",
       "    </tr>\n",
       "    <tr>\n",
       "      <th>354360</th>\n",
       "      <td>0</td>\n",
       "      <td>unknown</td>\n",
       "      <td>2005</td>\n",
       "      <td>manual</td>\n",
       "      <td>0</td>\n",
       "      <td>colt</td>\n",
       "      <td>150000</td>\n",
       "      <td>7</td>\n",
       "      <td>petrol</td>\n",
       "      <td>mitsubishi</td>\n",
       "      <td>yes</td>\n",
       "    </tr>\n",
       "    <tr>\n",
       "      <th>354361</th>\n",
       "      <td>2200</td>\n",
       "      <td>unknown</td>\n",
       "      <td>2005</td>\n",
       "      <td>unknown</td>\n",
       "      <td>0</td>\n",
       "      <td>unknown</td>\n",
       "      <td>20000</td>\n",
       "      <td>1</td>\n",
       "      <td>unknown</td>\n",
       "      <td>sonstige_autos</td>\n",
       "      <td>unknown</td>\n",
       "    </tr>\n",
       "  </tbody>\n",
       "</table>\n",
       "<p>36575 rows × 11 columns</p>\n",
       "</div>"
      ],
      "text/plain": [
       "        Price VehicleType  RegistrationYear  Gearbox  Power     Model  \\\n",
       "0         480     unknown              1993   manual      0      golf   \n",
       "32        245       sedan              1994  unknown      0      golf   \n",
       "37       1500     unknown              2016  unknown      0    kangoo   \n",
       "40          0     unknown              1990  unknown      0     corsa   \n",
       "54       4700       wagon              2005   manual      0    signum   \n",
       "...       ...         ...               ...      ...    ...       ...   \n",
       "354342   2600     unknown              2005     auto      0  c_klasse   \n",
       "354356   3999       wagon              2005   manual      3       3er   \n",
       "354359   1150         bus              2000   manual      0    zafira   \n",
       "354360      0     unknown              2005   manual      0      colt   \n",
       "354361   2200     unknown              2005  unknown      0   unknown   \n",
       "\n",
       "        Kilometer  RegistrationMonth  FuelType           Brand NotRepaired  \n",
       "0          150000                  1    petrol      volkswagen     unknown  \n",
       "32         150000                  2    petrol      volkswagen          no  \n",
       "37         150000                  1  gasoline         renault          no  \n",
       "40         150000                  1    petrol            opel     unknown  \n",
       "54         150000                  1   unknown            opel          no  \n",
       "...           ...                ...       ...             ...         ...  \n",
       "354342     150000                  9   unknown   mercedes_benz     unknown  \n",
       "354356     150000                  5  gasoline             bmw          no  \n",
       "354359     150000                  3    petrol            opel          no  \n",
       "354360     150000                  7    petrol      mitsubishi         yes  \n",
       "354361      20000                  1   unknown  sonstige_autos     unknown  \n",
       "\n",
       "[36575 rows x 11 columns]"
      ]
     },
     "execution_count": 22,
     "metadata": {},
     "output_type": "execute_result"
    }
   ],
   "source": [
    "data.query('Power < 10')"
   ]
  },
  {
   "cell_type": "code",
   "execution_count": 23,
   "metadata": {},
   "outputs": [
    {
     "name": "stdout",
     "output_type": "stream",
     "text": [
      "До ограничения: 339665\n",
      "После ограничения: 302720\n"
     ]
    }
   ],
   "source": [
    "print('До ограничения:', len(data))\n",
    "data = data.query('10 < Power < 600')\n",
    "print('После ограничения:', len(data))"
   ]
  },
  {
   "cell_type": "code",
   "execution_count": 24,
   "metadata": {},
   "outputs": [
    {
     "name": "stdout",
     "output_type": "stream",
     "text": [
      "До ограничения: 302720\n",
      "После ограничения: 294196\n"
     ]
    }
   ],
   "source": [
    "# удалим сомнительно низкие значения в столбце с ценой\n",
    "print('До ограничения:', len(data))\n",
    "data = data[data['Price'] >= 150]\n",
    "print('После ограничения:', len(data))"
   ]
  },
  {
   "cell_type": "code",
   "execution_count": 25,
   "metadata": {},
   "outputs": [
    {
     "data": {
      "text/html": [
       "<div>\n",
       "<style scoped>\n",
       "    .dataframe tbody tr th:only-of-type {\n",
       "        vertical-align: middle;\n",
       "    }\n",
       "\n",
       "    .dataframe tbody tr th {\n",
       "        vertical-align: top;\n",
       "    }\n",
       "\n",
       "    .dataframe thead th {\n",
       "        text-align: right;\n",
       "    }\n",
       "</style>\n",
       "<table border=\"1\" class=\"dataframe\">\n",
       "  <thead>\n",
       "    <tr style=\"text-align: right;\">\n",
       "      <th></th>\n",
       "      <th>Price</th>\n",
       "      <th>RegistrationYear</th>\n",
       "      <th>Power</th>\n",
       "      <th>Kilometer</th>\n",
       "      <th>RegistrationMonth</th>\n",
       "    </tr>\n",
       "  </thead>\n",
       "  <tbody>\n",
       "    <tr>\n",
       "      <th>Price</th>\n",
       "      <td>1.000000</td>\n",
       "      <td>0.481529</td>\n",
       "      <td>0.507643</td>\n",
       "      <td>-0.389875</td>\n",
       "      <td>0.059214</td>\n",
       "    </tr>\n",
       "    <tr>\n",
       "      <th>RegistrationYear</th>\n",
       "      <td>0.481529</td>\n",
       "      <td>1.000000</td>\n",
       "      <td>0.135087</td>\n",
       "      <td>-0.289688</td>\n",
       "      <td>0.040153</td>\n",
       "    </tr>\n",
       "    <tr>\n",
       "      <th>Power</th>\n",
       "      <td>0.507643</td>\n",
       "      <td>0.135087</td>\n",
       "      <td>1.000000</td>\n",
       "      <td>0.106214</td>\n",
       "      <td>0.038313</td>\n",
       "    </tr>\n",
       "    <tr>\n",
       "      <th>Kilometer</th>\n",
       "      <td>-0.389875</td>\n",
       "      <td>-0.289688</td>\n",
       "      <td>0.106214</td>\n",
       "      <td>1.000000</td>\n",
       "      <td>-0.011750</td>\n",
       "    </tr>\n",
       "    <tr>\n",
       "      <th>RegistrationMonth</th>\n",
       "      <td>0.059214</td>\n",
       "      <td>0.040153</td>\n",
       "      <td>0.038313</td>\n",
       "      <td>-0.011750</td>\n",
       "      <td>1.000000</td>\n",
       "    </tr>\n",
       "  </tbody>\n",
       "</table>\n",
       "</div>"
      ],
      "text/plain": [
       "                      Price  RegistrationYear     Power  Kilometer  \\\n",
       "Price              1.000000          0.481529  0.507643  -0.389875   \n",
       "RegistrationYear   0.481529          1.000000  0.135087  -0.289688   \n",
       "Power              0.507643          0.135087  1.000000   0.106214   \n",
       "Kilometer         -0.389875         -0.289688  0.106214   1.000000   \n",
       "RegistrationMonth  0.059214          0.040153  0.038313  -0.011750   \n",
       "\n",
       "                   RegistrationMonth  \n",
       "Price                       0.059214  \n",
       "RegistrationYear            0.040153  \n",
       "Power                       0.038313  \n",
       "Kilometer                  -0.011750  \n",
       "RegistrationMonth           1.000000  "
      ]
     },
     "execution_count": 25,
     "metadata": {},
     "output_type": "execute_result"
    }
   ],
   "source": [
    "# проверим матрицу корреляции\n",
    "data.corr()"
   ]
  },
  {
   "cell_type": "markdown",
   "metadata": {},
   "source": [
    "### Вывод"
   ]
  },
  {
   "cell_type": "markdown",
   "metadata": {},
   "source": [
    "Была произведена предобработка данных: удалены дубликаты, заполненые пропуски, а также удалены аномалии. Согласно матрице корреляций, наибольшее влияние на цену оказывают мощность и год регистрации автомобиля."
   ]
  },
  {
   "cell_type": "code",
   "execution_count": 26,
   "metadata": {},
   "outputs": [
    {
     "data": {
      "text/html": [
       "<div>\n",
       "<style scoped>\n",
       "    .dataframe tbody tr th:only-of-type {\n",
       "        vertical-align: middle;\n",
       "    }\n",
       "\n",
       "    .dataframe tbody tr th {\n",
       "        vertical-align: top;\n",
       "    }\n",
       "\n",
       "    .dataframe thead th {\n",
       "        text-align: right;\n",
       "    }\n",
       "</style>\n",
       "<table border=\"1\" class=\"dataframe\">\n",
       "  <thead>\n",
       "    <tr style=\"text-align: right;\">\n",
       "      <th></th>\n",
       "      <th>Price</th>\n",
       "      <th>RegistrationYear</th>\n",
       "      <th>Power</th>\n",
       "      <th>Kilometer</th>\n",
       "      <th>RegistrationMonth</th>\n",
       "    </tr>\n",
       "  </thead>\n",
       "  <tbody>\n",
       "    <tr>\n",
       "      <th>count</th>\n",
       "      <td>294196.000000</td>\n",
       "      <td>294196.000000</td>\n",
       "      <td>294196.000000</td>\n",
       "      <td>294196.000000</td>\n",
       "      <td>294196.000000</td>\n",
       "    </tr>\n",
       "    <tr>\n",
       "      <th>mean</th>\n",
       "      <td>4890.455071</td>\n",
       "      <td>2002.848621</td>\n",
       "      <td>120.866881</td>\n",
       "      <td>128288.131042</td>\n",
       "      <td>6.063648</td>\n",
       "    </tr>\n",
       "    <tr>\n",
       "      <th>std</th>\n",
       "      <td>4611.292837</td>\n",
       "      <td>6.524095</td>\n",
       "      <td>53.719391</td>\n",
       "      <td>36706.053589</td>\n",
       "      <td>3.485809</td>\n",
       "    </tr>\n",
       "    <tr>\n",
       "      <th>min</th>\n",
       "      <td>150.000000</td>\n",
       "      <td>1923.000000</td>\n",
       "      <td>11.000000</td>\n",
       "      <td>5000.000000</td>\n",
       "      <td>1.000000</td>\n",
       "    </tr>\n",
       "    <tr>\n",
       "      <th>25%</th>\n",
       "      <td>1350.000000</td>\n",
       "      <td>1999.000000</td>\n",
       "      <td>77.000000</td>\n",
       "      <td>125000.000000</td>\n",
       "      <td>3.000000</td>\n",
       "    </tr>\n",
       "    <tr>\n",
       "      <th>50%</th>\n",
       "      <td>3200.000000</td>\n",
       "      <td>2003.000000</td>\n",
       "      <td>112.000000</td>\n",
       "      <td>150000.000000</td>\n",
       "      <td>6.000000</td>\n",
       "    </tr>\n",
       "    <tr>\n",
       "      <th>75%</th>\n",
       "      <td>6999.000000</td>\n",
       "      <td>2007.000000</td>\n",
       "      <td>150.000000</td>\n",
       "      <td>150000.000000</td>\n",
       "      <td>9.000000</td>\n",
       "    </tr>\n",
       "    <tr>\n",
       "      <th>max</th>\n",
       "      <td>20000.000000</td>\n",
       "      <td>2016.000000</td>\n",
       "      <td>585.000000</td>\n",
       "      <td>150000.000000</td>\n",
       "      <td>12.000000</td>\n",
       "    </tr>\n",
       "  </tbody>\n",
       "</table>\n",
       "</div>"
      ],
      "text/plain": [
       "               Price  RegistrationYear          Power      Kilometer  \\\n",
       "count  294196.000000     294196.000000  294196.000000  294196.000000   \n",
       "mean     4890.455071       2002.848621     120.866881  128288.131042   \n",
       "std      4611.292837          6.524095      53.719391   36706.053589   \n",
       "min       150.000000       1923.000000      11.000000    5000.000000   \n",
       "25%      1350.000000       1999.000000      77.000000  125000.000000   \n",
       "50%      3200.000000       2003.000000     112.000000  150000.000000   \n",
       "75%      6999.000000       2007.000000     150.000000  150000.000000   \n",
       "max     20000.000000       2016.000000     585.000000  150000.000000   \n",
       "\n",
       "       RegistrationMonth  \n",
       "count      294196.000000  \n",
       "mean            6.063648  \n",
       "std             3.485809  \n",
       "min             1.000000  \n",
       "25%             3.000000  \n",
       "50%             6.000000  \n",
       "75%             9.000000  \n",
       "max            12.000000  "
      ]
     },
     "execution_count": 26,
     "metadata": {},
     "output_type": "execute_result"
    }
   ],
   "source": [
    "#КОД РЕВЬЮЕРА\n",
    "\n",
    "data.describe()"
   ]
  },
  {
   "cell_type": "markdown",
   "metadata": {},
   "source": [
    "## Обучение моделей"
   ]
  },
  {
   "cell_type": "markdown",
   "metadata": {},
   "source": [
    "### Подготовка признаков"
   ]
  },
  {
   "cell_type": "code",
   "execution_count": 27,
   "metadata": {},
   "outputs": [
    {
     "data": {
      "text/html": [
       "<div>\n",
       "<style scoped>\n",
       "    .dataframe tbody tr th:only-of-type {\n",
       "        vertical-align: middle;\n",
       "    }\n",
       "\n",
       "    .dataframe tbody tr th {\n",
       "        vertical-align: top;\n",
       "    }\n",
       "\n",
       "    .dataframe thead th {\n",
       "        text-align: right;\n",
       "    }\n",
       "</style>\n",
       "<table border=\"1\" class=\"dataframe\">\n",
       "  <thead>\n",
       "    <tr style=\"text-align: right;\">\n",
       "      <th></th>\n",
       "      <th>Price</th>\n",
       "      <th>RegistrationYear</th>\n",
       "      <th>Power</th>\n",
       "      <th>Kilometer</th>\n",
       "      <th>RegistrationMonth</th>\n",
       "      <th>VehicleType_convertible</th>\n",
       "      <th>VehicleType_coupe</th>\n",
       "      <th>VehicleType_other</th>\n",
       "      <th>VehicleType_sedan</th>\n",
       "      <th>VehicleType_small</th>\n",
       "      <th>...</th>\n",
       "      <th>Brand_smart</th>\n",
       "      <th>Brand_sonstige_autos</th>\n",
       "      <th>Brand_subaru</th>\n",
       "      <th>Brand_suzuki</th>\n",
       "      <th>Brand_toyota</th>\n",
       "      <th>Brand_trabant</th>\n",
       "      <th>Brand_volkswagen</th>\n",
       "      <th>Brand_volvo</th>\n",
       "      <th>NotRepaired_unknown</th>\n",
       "      <th>NotRepaired_yes</th>\n",
       "    </tr>\n",
       "  </thead>\n",
       "  <tbody>\n",
       "    <tr>\n",
       "      <th>1</th>\n",
       "      <td>18300</td>\n",
       "      <td>2011</td>\n",
       "      <td>190</td>\n",
       "      <td>125000</td>\n",
       "      <td>5</td>\n",
       "      <td>0</td>\n",
       "      <td>1</td>\n",
       "      <td>0</td>\n",
       "      <td>0</td>\n",
       "      <td>0</td>\n",
       "      <td>...</td>\n",
       "      <td>0</td>\n",
       "      <td>0</td>\n",
       "      <td>0</td>\n",
       "      <td>0</td>\n",
       "      <td>0</td>\n",
       "      <td>0</td>\n",
       "      <td>0</td>\n",
       "      <td>0</td>\n",
       "      <td>0</td>\n",
       "      <td>1</td>\n",
       "    </tr>\n",
       "    <tr>\n",
       "      <th>2</th>\n",
       "      <td>9800</td>\n",
       "      <td>2004</td>\n",
       "      <td>163</td>\n",
       "      <td>125000</td>\n",
       "      <td>8</td>\n",
       "      <td>0</td>\n",
       "      <td>0</td>\n",
       "      <td>0</td>\n",
       "      <td>0</td>\n",
       "      <td>0</td>\n",
       "      <td>...</td>\n",
       "      <td>0</td>\n",
       "      <td>0</td>\n",
       "      <td>0</td>\n",
       "      <td>0</td>\n",
       "      <td>0</td>\n",
       "      <td>0</td>\n",
       "      <td>0</td>\n",
       "      <td>0</td>\n",
       "      <td>1</td>\n",
       "      <td>0</td>\n",
       "    </tr>\n",
       "    <tr>\n",
       "      <th>3</th>\n",
       "      <td>1500</td>\n",
       "      <td>2001</td>\n",
       "      <td>75</td>\n",
       "      <td>150000</td>\n",
       "      <td>6</td>\n",
       "      <td>0</td>\n",
       "      <td>0</td>\n",
       "      <td>0</td>\n",
       "      <td>0</td>\n",
       "      <td>1</td>\n",
       "      <td>...</td>\n",
       "      <td>0</td>\n",
       "      <td>0</td>\n",
       "      <td>0</td>\n",
       "      <td>0</td>\n",
       "      <td>0</td>\n",
       "      <td>0</td>\n",
       "      <td>1</td>\n",
       "      <td>0</td>\n",
       "      <td>0</td>\n",
       "      <td>0</td>\n",
       "    </tr>\n",
       "    <tr>\n",
       "      <th>4</th>\n",
       "      <td>3600</td>\n",
       "      <td>2008</td>\n",
       "      <td>69</td>\n",
       "      <td>90000</td>\n",
       "      <td>7</td>\n",
       "      <td>0</td>\n",
       "      <td>0</td>\n",
       "      <td>0</td>\n",
       "      <td>0</td>\n",
       "      <td>1</td>\n",
       "      <td>...</td>\n",
       "      <td>0</td>\n",
       "      <td>0</td>\n",
       "      <td>0</td>\n",
       "      <td>0</td>\n",
       "      <td>0</td>\n",
       "      <td>0</td>\n",
       "      <td>0</td>\n",
       "      <td>0</td>\n",
       "      <td>0</td>\n",
       "      <td>0</td>\n",
       "    </tr>\n",
       "    <tr>\n",
       "      <th>5</th>\n",
       "      <td>650</td>\n",
       "      <td>1995</td>\n",
       "      <td>102</td>\n",
       "      <td>150000</td>\n",
       "      <td>10</td>\n",
       "      <td>0</td>\n",
       "      <td>0</td>\n",
       "      <td>0</td>\n",
       "      <td>1</td>\n",
       "      <td>0</td>\n",
       "      <td>...</td>\n",
       "      <td>0</td>\n",
       "      <td>0</td>\n",
       "      <td>0</td>\n",
       "      <td>0</td>\n",
       "      <td>0</td>\n",
       "      <td>0</td>\n",
       "      <td>0</td>\n",
       "      <td>0</td>\n",
       "      <td>0</td>\n",
       "      <td>1</td>\n",
       "    </tr>\n",
       "  </tbody>\n",
       "</table>\n",
       "<p>5 rows × 312 columns</p>\n",
       "</div>"
      ],
      "text/plain": [
       "   Price  RegistrationYear  Power  Kilometer  RegistrationMonth  \\\n",
       "1  18300              2011    190     125000                  5   \n",
       "2   9800              2004    163     125000                  8   \n",
       "3   1500              2001     75     150000                  6   \n",
       "4   3600              2008     69      90000                  7   \n",
       "5    650              1995    102     150000                 10   \n",
       "\n",
       "   VehicleType_convertible  VehicleType_coupe  VehicleType_other  \\\n",
       "1                        0                  1                  0   \n",
       "2                        0                  0                  0   \n",
       "3                        0                  0                  0   \n",
       "4                        0                  0                  0   \n",
       "5                        0                  0                  0   \n",
       "\n",
       "   VehicleType_sedan  VehicleType_small  ...  Brand_smart  \\\n",
       "1                  0                  0  ...            0   \n",
       "2                  0                  0  ...            0   \n",
       "3                  0                  1  ...            0   \n",
       "4                  0                  1  ...            0   \n",
       "5                  1                  0  ...            0   \n",
       "\n",
       "   Brand_sonstige_autos  Brand_subaru  Brand_suzuki  Brand_toyota  \\\n",
       "1                     0             0             0             0   \n",
       "2                     0             0             0             0   \n",
       "3                     0             0             0             0   \n",
       "4                     0             0             0             0   \n",
       "5                     0             0             0             0   \n",
       "\n",
       "   Brand_trabant  Brand_volkswagen  Brand_volvo  NotRepaired_unknown  \\\n",
       "1              0                 0            0                    0   \n",
       "2              0                 0            0                    1   \n",
       "3              0                 1            0                    0   \n",
       "4              0                 0            0                    0   \n",
       "5              0                 0            0                    0   \n",
       "\n",
       "   NotRepaired_yes  \n",
       "1                1  \n",
       "2                0  \n",
       "3                0  \n",
       "4                0  \n",
       "5                1  \n",
       "\n",
       "[5 rows x 312 columns]"
      ]
     },
     "execution_count": 27,
     "metadata": {},
     "output_type": "execute_result"
    }
   ],
   "source": [
    "# закодируем категориальные признаки методом прямого кодирования\n",
    "data_ohe = pd.get_dummies(data, drop_first=True)\n",
    "data_ohe.head()"
   ]
  },
  {
   "cell_type": "code",
   "execution_count": 28,
   "metadata": {},
   "outputs": [
    {
     "data": {
      "text/plain": [
       "((176517, 311), (117679, 311), (176517,), (117679,))"
      ]
     },
     "execution_count": 28,
     "metadata": {},
     "output_type": "execute_result"
    }
   ],
   "source": [
    "# подготовим обучающую и тестовую выборки для закодированных данных\n",
    "target_ohe = data_ohe['Price']\n",
    "features_ohe = data_ohe.drop('Price', axis=1)\n",
    "\n",
    "features_train_ohe, features_test_ohe, target_train_ohe, target_test_ohe = train_test_split(\n",
    "    features_ohe, target_ohe, test_size=0.4, random_state=12345)\n",
    "\n",
    "features_train_ohe.shape, features_test_ohe.shape, target_train_ohe.shape, target_test_ohe.shape"
   ]
  },
  {
   "cell_type": "code",
   "execution_count": 29,
   "metadata": {},
   "outputs": [
    {
     "data": {
      "text/plain": [
       "((176517, 10), (117679, 10), (176517,), (117679,))"
      ]
     },
     "execution_count": 29,
     "metadata": {},
     "output_type": "execute_result"
    }
   ],
   "source": [
    "# подготовим обучающую и тестовую выборку для исходных данных\n",
    "target = data['Price']\n",
    "features = data.drop('Price', axis=1)\n",
    "\n",
    "features_train, features_test, target_train, target_test = train_test_split(\n",
    "    features, target, test_size=0.4, random_state=12345)\n",
    "\n",
    "features_train.shape, features_test.shape, target_train.shape, target_test.shape"
   ]
  },
  {
   "cell_type": "code",
   "execution_count": 30,
   "metadata": {},
   "outputs": [
    {
     "name": "stdout",
     "output_type": "stream",
     "text": [
      "<class 'pandas.core.frame.DataFrame'>\n",
      "Int64Index: 294196 entries, 1 to 354364\n",
      "Data columns (total 11 columns):\n",
      " #   Column             Non-Null Count   Dtype   \n",
      "---  ------             --------------   -----   \n",
      " 0   Price              294196 non-null  int64   \n",
      " 1   VehicleType        294196 non-null  category\n",
      " 2   RegistrationYear   294196 non-null  int64   \n",
      " 3   Gearbox            294196 non-null  category\n",
      " 4   Power              294196 non-null  int64   \n",
      " 5   Model              294196 non-null  category\n",
      " 6   Kilometer          294196 non-null  int64   \n",
      " 7   RegistrationMonth  294196 non-null  int64   \n",
      " 8   FuelType           294196 non-null  category\n",
      " 9   Brand              294196 non-null  category\n",
      " 10  NotRepaired        294196 non-null  category\n",
      "dtypes: category(6), int64(5)\n",
      "memory usage: 15.4 MB\n",
      "None\n"
     ]
    },
    {
     "data": {
      "text/plain": [
       "((176517, 10), (117679, 10), (176517,), (117679,))"
      ]
     },
     "execution_count": 30,
     "metadata": {},
     "output_type": "execute_result"
    }
   ],
   "source": [
    "# подготовим обучающую и тестовую выборку для модели LightGBM\n",
    "light_data = data.copy()\n",
    "light_data = light_data.astype({\"VehicleType\":'category',\n",
    "                                  \"Gearbox\":'category',\n",
    "                                  \"Model\":'category',\n",
    "                                  \"FuelType\":'category',\n",
    "                                  \"Brand\":'category',\n",
    "                                  \"NotRepaired\":'category'})\n",
    "print(light_data.info())\n",
    "\n",
    "target_light = light_data['Price']\n",
    "features_light = light_data.drop('Price', axis=1)\n",
    "\n",
    "features_train_light, features_test_light, target_train_light, target_test_light = train_test_split(\n",
    "    features_light, target_light, test_size=0.4, random_state=12345)\n",
    "\n",
    "features_train_light.shape, features_test_light.shape, target_train_light.shape, target_test_light.shape"
   ]
  },
  {
   "cell_type": "markdown",
   "metadata": {},
   "source": [
    "### Решающее дерево"
   ]
  },
  {
   "cell_type": "code",
   "execution_count": 31,
   "metadata": {},
   "outputs": [
    {
     "name": "stdout",
     "output_type": "stream",
     "text": [
      "CPU times: user 2min 20s, sys: 14.7 s, total: 2min 35s\n",
      "Wall time: 2min 35s\n"
     ]
    },
    {
     "data": {
      "text/plain": [
       "{'max_depth': 14}"
      ]
     },
     "execution_count": 31,
     "metadata": {},
     "output_type": "execute_result"
    }
   ],
   "source": [
    "%%time\n",
    "\n",
    "# подберем лучшие параметры с помощью поиска по сетке\n",
    "model_dt = DecisionTreeRegressor()\n",
    "parametrs = {'max_depth': range (1,15)}\n",
    "grid_dt = GridSearchCV(model_dt, parametrs, cv=5)\n",
    "grid_dt.fit(features_train_ohe, target_train_ohe)\n",
    "grid_dt.best_params_"
   ]
  },
  {
   "cell_type": "code",
   "execution_count": 32,
   "metadata": {},
   "outputs": [
    {
     "name": "stdout",
     "output_type": "stream",
     "text": [
      "CPU times: user 4.09 s, sys: 164 ms, total: 4.26 s\n",
      "Wall time: 4.27 s\n"
     ]
    },
    {
     "data": {
      "text/plain": [
       "DecisionTreeRegressor(max_depth=14, random_state=12345)"
      ]
     },
     "execution_count": 32,
     "metadata": {},
     "output_type": "execute_result"
    }
   ],
   "source": [
    "%%time\n",
    "\n",
    "# инициализируем модель с наилучшими гиперпараметрами\n",
    "model_dt = DecisionTreeRegressor(random_state = 12345, max_depth = 14)\n",
    "model_dt.fit(features_train_ohe, target_train_ohe)"
   ]
  },
  {
   "cell_type": "code",
   "execution_count": 33,
   "metadata": {},
   "outputs": [
    {
     "name": "stdout",
     "output_type": "stream",
     "text": [
      "RMSE модели Решающее дерево: 1875.0095193815469\n",
      "CPU times: user 124 ms, sys: 108 ms, total: 232 ms\n",
      "Wall time: 236 ms\n"
     ]
    }
   ],
   "source": [
    "%%time\n",
    "\n",
    "# посчитаем время предсказания модели\n",
    "predictions_dt = model_dt.predict(features_test_ohe)\n",
    "rmse_dt = mean_squared_error(target_test_ohe, predictions_dt, squared=False)\n",
    "print('RMSE модели Решающее дерево:', rmse_dt)"
   ]
  },
  {
   "cell_type": "markdown",
   "metadata": {},
   "source": [
    "### Случайный лес"
   ]
  },
  {
   "cell_type": "code",
   "execution_count": 34,
   "metadata": {},
   "outputs": [],
   "source": [
    "#%%time\n",
    "\n",
    "#model_rf = RandomForestRegressor()\n",
    "#parametrs = {'n_estimators': [1, 100], 'max_depth': [1, 15]}\n",
    "#grid_rf = GridSearchCV(model_rf, parametrs, cv=5)\n",
    "#grid_rf.fit(features_train_ohe, target_train_ohe)\n",
    "#grid_rf.best_params_"
   ]
  },
  {
   "cell_type": "code",
   "execution_count": 35,
   "metadata": {},
   "outputs": [
    {
     "name": "stdout",
     "output_type": "stream",
     "text": [
      "CPU times: user 4min 40s, sys: 602 ms, total: 4min 41s\n",
      "Wall time: 4min 41s\n"
     ]
    },
    {
     "data": {
      "text/plain": [
       "RandomForestRegressor(max_depth=15, random_state=12345)"
      ]
     },
     "execution_count": 35,
     "metadata": {},
     "output_type": "execute_result"
    }
   ],
   "source": [
    "%%time\n",
    "\n",
    "# инициализируем модель с наилучшими гиперпараметрами 'max_depth': 15, 'n_estimators': 100\n",
    "model_rf = RandomForestRegressor(random_state=12345, n_estimators = 100, max_depth = 15)\n",
    "model_rf.fit(features_train_ohe, target_train_ohe)"
   ]
  },
  {
   "cell_type": "code",
   "execution_count": 36,
   "metadata": {},
   "outputs": [
    {
     "name": "stdout",
     "output_type": "stream",
     "text": [
      "RMSE модели Случайный лес: 1655.5151134871637\n",
      "CPU times: user 2.28 s, sys: 128 ms, total: 2.4 s\n",
      "Wall time: 2.41 s\n"
     ]
    }
   ],
   "source": [
    "%%time\n",
    "\n",
    "# посчитаем время предсказания модели\n",
    "predictions_rf = model_rf.predict(features_test_ohe)\n",
    "rmse_rf = mean_squared_error(target_test_ohe, predictions_rf, squared=False)\n",
    "print('RMSE модели Случайный лес:', rmse_rf)"
   ]
  },
  {
   "cell_type": "markdown",
   "metadata": {},
   "source": [
    "### Catboost"
   ]
  },
  {
   "cell_type": "code",
   "execution_count": 37,
   "metadata": {},
   "outputs": [
    {
     "name": "stdout",
     "output_type": "stream",
     "text": [
      "0:\tlearn: 6162.9757954\ttest: 6206.9604847\tbest: 6206.9604847 (0)\ttotal: 119ms\tremaining: 5.82s\n",
      "1:\tlearn: 5677.0327994\ttest: 5716.5726254\tbest: 5716.5726254 (1)\ttotal: 185ms\tremaining: 4.45s\n",
      "2:\tlearn: 5246.9611469\ttest: 5281.4073072\tbest: 5281.4073072 (2)\ttotal: 239ms\tremaining: 3.75s\n",
      "3:\tlearn: 4868.1017831\ttest: 4897.8778130\tbest: 4897.8778130 (3)\ttotal: 298ms\tremaining: 3.42s\n",
      "4:\tlearn: 4526.4791838\ttest: 4551.7231691\tbest: 4551.7231691 (4)\ttotal: 354ms\tremaining: 3.18s\n",
      "5:\tlearn: 4223.9491761\ttest: 4244.7290522\tbest: 4244.7290522 (5)\ttotal: 426ms\tremaining: 3.13s\n",
      "6:\tlearn: 3960.4052968\ttest: 3977.8110319\tbest: 3977.8110319 (6)\ttotal: 474ms\tremaining: 2.91s\n",
      "7:\tlearn: 3719.2069875\ttest: 3732.9763521\tbest: 3732.9763521 (7)\ttotal: 526ms\tremaining: 2.76s\n",
      "8:\tlearn: 3514.2721445\ttest: 3523.7850614\tbest: 3523.7850614 (8)\ttotal: 574ms\tremaining: 2.62s\n",
      "9:\tlearn: 3337.5398881\ttest: 3344.2394891\tbest: 3344.2394891 (9)\ttotal: 623ms\tremaining: 2.49s\n",
      "10:\tlearn: 3181.4102615\ttest: 3183.5166451\tbest: 3183.5166451 (10)\ttotal: 671ms\tremaining: 2.38s\n",
      "11:\tlearn: 3042.2948285\ttest: 3041.5007241\tbest: 3041.5007241 (11)\ttotal: 722ms\tremaining: 2.29s\n",
      "12:\tlearn: 2920.6406925\ttest: 2915.5758332\tbest: 2915.5758332 (12)\ttotal: 769ms\tremaining: 2.19s\n",
      "13:\tlearn: 2813.5005455\ttest: 2807.7151361\tbest: 2807.7151361 (13)\ttotal: 821ms\tremaining: 2.11s\n",
      "14:\tlearn: 2711.1806618\ttest: 2702.4113375\tbest: 2702.4113375 (14)\ttotal: 873ms\tremaining: 2.04s\n",
      "15:\tlearn: 2624.5286619\ttest: 2612.4889703\tbest: 2612.4889703 (15)\ttotal: 929ms\tremaining: 1.97s\n",
      "16:\tlearn: 2549.9058789\ttest: 2536.4479379\tbest: 2536.4479379 (16)\ttotal: 976ms\tremaining: 1.89s\n",
      "17:\tlearn: 2480.7562877\ttest: 2466.4099605\tbest: 2466.4099605 (17)\ttotal: 1.02s\tremaining: 1.82s\n",
      "18:\tlearn: 2422.6127783\ttest: 2406.9008362\tbest: 2406.9008362 (18)\ttotal: 1.07s\tremaining: 1.75s\n",
      "19:\tlearn: 2372.4441947\ttest: 2356.4982741\tbest: 2356.4982741 (19)\ttotal: 1.12s\tremaining: 1.68s\n",
      "20:\tlearn: 2327.1599229\ttest: 2311.2190829\tbest: 2311.2190829 (20)\ttotal: 1.17s\tremaining: 1.61s\n",
      "21:\tlearn: 2288.8775502\ttest: 2273.0464578\tbest: 2273.0464578 (21)\ttotal: 1.22s\tremaining: 1.55s\n",
      "22:\tlearn: 2254.5193328\ttest: 2237.4841656\tbest: 2237.4841656 (22)\ttotal: 1.26s\tremaining: 1.48s\n",
      "23:\tlearn: 2225.4050916\ttest: 2208.4278828\tbest: 2208.4278828 (23)\ttotal: 1.31s\tremaining: 1.42s\n",
      "24:\tlearn: 2194.7952361\ttest: 2178.1451144\tbest: 2178.1451144 (24)\ttotal: 1.37s\tremaining: 1.37s\n",
      "25:\tlearn: 2168.7785548\ttest: 2152.4798479\tbest: 2152.4798479 (25)\ttotal: 1.42s\tremaining: 1.31s\n",
      "26:\tlearn: 2146.8213128\ttest: 2130.7260486\tbest: 2130.7260486 (26)\ttotal: 1.48s\tremaining: 1.26s\n",
      "27:\tlearn: 2123.8717543\ttest: 2108.3469459\tbest: 2108.3469459 (27)\ttotal: 1.54s\tremaining: 1.21s\n",
      "28:\tlearn: 2103.9404121\ttest: 2088.9057848\tbest: 2088.9057848 (28)\ttotal: 1.59s\tremaining: 1.15s\n",
      "29:\tlearn: 2084.6074494\ttest: 2070.1837453\tbest: 2070.1837453 (29)\ttotal: 1.64s\tremaining: 1.1s\n",
      "30:\tlearn: 2064.1403767\ttest: 2049.7809547\tbest: 2049.7809547 (30)\ttotal: 1.7s\tremaining: 1.04s\n",
      "31:\tlearn: 2047.9646430\ttest: 2034.2342759\tbest: 2034.2342759 (31)\ttotal: 1.75s\tremaining: 984ms\n",
      "32:\tlearn: 2034.7308153\ttest: 2021.2982182\tbest: 2021.2982182 (32)\ttotal: 1.8s\tremaining: 926ms\n",
      "33:\tlearn: 2022.0665911\ttest: 2008.6002334\tbest: 2008.6002334 (33)\ttotal: 1.86s\tremaining: 875ms\n",
      "34:\tlearn: 2011.5552746\ttest: 1998.4325545\tbest: 1998.4325545 (34)\ttotal: 1.91s\tremaining: 819ms\n",
      "35:\tlearn: 2001.8864843\ttest: 1988.8467675\tbest: 1988.8467675 (35)\ttotal: 1.96s\tremaining: 763ms\n",
      "36:\tlearn: 1992.9169033\ttest: 1979.6237107\tbest: 1979.6237107 (36)\ttotal: 2.01s\tremaining: 706ms\n",
      "37:\tlearn: 1985.9893497\ttest: 1973.3301677\tbest: 1973.3301677 (37)\ttotal: 2.06s\tremaining: 650ms\n",
      "38:\tlearn: 1978.4051209\ttest: 1966.7988581\tbest: 1966.7988581 (38)\ttotal: 2.11s\tremaining: 595ms\n",
      "39:\tlearn: 1971.5795451\ttest: 1960.3464045\tbest: 1960.3464045 (39)\ttotal: 2.16s\tremaining: 539ms\n",
      "40:\tlearn: 1965.7623038\ttest: 1954.7841300\tbest: 1954.7841300 (40)\ttotal: 2.21s\tremaining: 486ms\n",
      "41:\tlearn: 1957.6112343\ttest: 1946.2321819\tbest: 1946.2321819 (41)\ttotal: 2.27s\tremaining: 432ms\n",
      "42:\tlearn: 1952.1733080\ttest: 1941.0947550\tbest: 1941.0947550 (42)\ttotal: 2.31s\tremaining: 377ms\n",
      "43:\tlearn: 1944.7143557\ttest: 1933.9167947\tbest: 1933.9167947 (43)\ttotal: 2.36s\tremaining: 322ms\n",
      "44:\tlearn: 1939.6907800\ttest: 1929.1991983\tbest: 1929.1991983 (44)\ttotal: 2.43s\tremaining: 270ms\n",
      "45:\tlearn: 1934.4556915\ttest: 1924.6933122\tbest: 1924.6933122 (45)\ttotal: 2.48s\tremaining: 216ms\n",
      "46:\tlearn: 1930.0341450\ttest: 1920.2373682\tbest: 1920.2373682 (46)\ttotal: 2.53s\tremaining: 162ms\n",
      "47:\tlearn: 1925.2730181\ttest: 1915.8746790\tbest: 1915.8746790 (47)\ttotal: 2.59s\tremaining: 108ms\n",
      "48:\tlearn: 1921.1327626\ttest: 1911.8419780\tbest: 1911.8419780 (48)\ttotal: 2.65s\tremaining: 54ms\n",
      "49:\tlearn: 1917.8181541\ttest: 1908.1975228\tbest: 1908.1975228 (49)\ttotal: 2.69s\tremaining: 0us\n",
      "\n",
      "bestTest = 1908.197523\n",
      "bestIteration = 49\n",
      "\n",
      "0:\tloss: 1908.1975228\tbest: 1908.1975228 (0)\ttotal: 3.37s\tremaining: 10.1s\n",
      "0:\tlearn: 2797.8308784\ttest: 2791.0979320\tbest: 2791.0979320 (0)\ttotal: 58.9ms\tremaining: 2.88s\n",
      "1:\tlearn: 2458.6286860\ttest: 2457.1103127\tbest: 2457.1103127 (1)\ttotal: 123ms\tremaining: 2.95s\n",
      "2:\tlearn: 2283.8663092\ttest: 2289.4761702\tbest: 2289.4761702 (2)\ttotal: 176ms\tremaining: 2.75s\n",
      "3:\tlearn: 2201.3279580\ttest: 2203.7951165\tbest: 2203.7951165 (3)\ttotal: 235ms\tremaining: 2.7s\n",
      "4:\tlearn: 2137.8984063\ttest: 2141.4331875\tbest: 2141.4331875 (4)\ttotal: 290ms\tremaining: 2.6s\n",
      "5:\tlearn: 2079.1156194\ttest: 2081.7629791\tbest: 2081.7629791 (5)\ttotal: 336ms\tremaining: 2.46s\n",
      "6:\tlearn: 2043.3907580\ttest: 2041.8136886\tbest: 2041.8136886 (6)\ttotal: 385ms\tremaining: 2.36s\n",
      "7:\tlearn: 2007.3316720\ttest: 2008.0127933\tbest: 2008.0127933 (7)\ttotal: 431ms\tremaining: 2.26s\n",
      "8:\tlearn: 1975.8556433\ttest: 1974.5298512\tbest: 1974.5298512 (8)\ttotal: 481ms\tremaining: 2.19s\n",
      "9:\tlearn: 1959.6326510\ttest: 1957.9900018\tbest: 1957.9900018 (9)\ttotal: 532ms\tremaining: 2.13s\n",
      "10:\tlearn: 1945.6173139\ttest: 1946.6116886\tbest: 1946.6116886 (10)\ttotal: 576ms\tremaining: 2.04s\n",
      "11:\tlearn: 1933.1806503\ttest: 1933.2655633\tbest: 1933.2655633 (11)\ttotal: 623ms\tremaining: 1.97s\n",
      "12:\tlearn: 1911.0237614\ttest: 1909.2871505\tbest: 1909.2871505 (12)\ttotal: 671ms\tremaining: 1.91s\n",
      "13:\tlearn: 1902.5442896\ttest: 1899.5146573\tbest: 1899.5146573 (13)\ttotal: 722ms\tremaining: 1.86s\n",
      "14:\tlearn: 1891.7277209\ttest: 1887.8264454\tbest: 1887.8264454 (14)\ttotal: 782ms\tremaining: 1.82s\n",
      "15:\tlearn: 1880.3427474\ttest: 1876.4665513\tbest: 1876.4665513 (15)\ttotal: 830ms\tremaining: 1.76s\n",
      "16:\tlearn: 1869.3298977\ttest: 1867.5631179\tbest: 1867.5631179 (16)\ttotal: 876ms\tremaining: 1.7s\n",
      "17:\tlearn: 1855.4438672\ttest: 1850.4044585\tbest: 1850.4044585 (17)\ttotal: 920ms\tremaining: 1.64s\n",
      "18:\tlearn: 1843.4676977\ttest: 1838.8022165\tbest: 1838.8022165 (18)\ttotal: 963ms\tremaining: 1.57s\n",
      "19:\tlearn: 1837.3217793\ttest: 1834.7305269\tbest: 1834.7305269 (19)\ttotal: 1.01s\tremaining: 1.52s\n",
      "20:\tlearn: 1832.8815903\ttest: 1831.0065604\tbest: 1831.0065604 (20)\ttotal: 1.06s\tremaining: 1.46s\n",
      "21:\tlearn: 1827.8813038\ttest: 1823.9659247\tbest: 1823.9659247 (21)\ttotal: 1.1s\tremaining: 1.4s\n",
      "22:\tlearn: 1820.7531819\ttest: 1816.6800410\tbest: 1816.6800410 (22)\ttotal: 1.15s\tremaining: 1.35s\n",
      "23:\tlearn: 1810.1808557\ttest: 1806.8865422\tbest: 1806.8865422 (23)\ttotal: 1.21s\tremaining: 1.31s\n",
      "24:\tlearn: 1801.7959538\ttest: 1799.4186654\tbest: 1799.4186654 (24)\ttotal: 1.25s\tremaining: 1.25s\n",
      "25:\tlearn: 1795.4641697\ttest: 1791.7383239\tbest: 1791.7383239 (25)\ttotal: 1.3s\tremaining: 1.2s\n",
      "26:\tlearn: 1787.7472314\ttest: 1785.6167319\tbest: 1785.6167319 (26)\ttotal: 1.35s\tremaining: 1.15s\n",
      "27:\tlearn: 1782.7943980\ttest: 1780.0493418\tbest: 1780.0493418 (27)\ttotal: 1.4s\tremaining: 1.1s\n",
      "28:\tlearn: 1778.4647357\ttest: 1778.8616958\tbest: 1778.8616958 (28)\ttotal: 1.44s\tremaining: 1.04s\n",
      "29:\tlearn: 1773.9563249\ttest: 1777.4949941\tbest: 1777.4949941 (29)\ttotal: 1.5s\tremaining: 1s\n",
      "30:\tlearn: 1770.5702389\ttest: 1776.9336631\tbest: 1776.9336631 (30)\ttotal: 1.55s\tremaining: 949ms\n",
      "31:\tlearn: 1767.0294915\ttest: 1775.3386581\tbest: 1775.3386581 (31)\ttotal: 1.6s\tremaining: 899ms\n",
      "32:\tlearn: 1762.3574987\ttest: 1771.5967486\tbest: 1771.5967486 (32)\ttotal: 1.64s\tremaining: 847ms\n",
      "33:\tlearn: 1758.2997150\ttest: 1767.9428547\tbest: 1767.9428547 (33)\ttotal: 1.69s\tremaining: 797ms\n",
      "34:\tlearn: 1753.3574571\ttest: 1762.4175740\tbest: 1762.4175740 (34)\ttotal: 1.74s\tremaining: 745ms\n",
      "35:\tlearn: 1747.2089773\ttest: 1756.3024974\tbest: 1756.3024974 (35)\ttotal: 1.79s\tremaining: 695ms\n",
      "36:\tlearn: 1742.5729029\ttest: 1752.0146200\tbest: 1752.0146200 (36)\ttotal: 1.83s\tremaining: 644ms\n",
      "37:\tlearn: 1741.0648448\ttest: 1750.3712826\tbest: 1750.3712826 (37)\ttotal: 1.88s\tremaining: 595ms\n",
      "38:\tlearn: 1737.7864313\ttest: 1747.0601811\tbest: 1747.0601811 (38)\ttotal: 1.93s\tremaining: 545ms\n",
      "39:\tlearn: 1733.6255855\ttest: 1742.9628019\tbest: 1742.9628019 (39)\ttotal: 1.98s\tremaining: 495ms\n",
      "40:\tlearn: 1731.4459111\ttest: 1744.5437280\tbest: 1742.9628019 (39)\ttotal: 2.03s\tremaining: 445ms\n",
      "41:\tlearn: 1727.7347879\ttest: 1741.6276663\tbest: 1741.6276663 (41)\ttotal: 2.07s\tremaining: 394ms\n",
      "42:\tlearn: 1723.3869929\ttest: 1738.8781634\tbest: 1738.8781634 (42)\ttotal: 2.12s\tremaining: 345ms\n",
      "43:\tlearn: 1720.7969299\ttest: 1736.1213705\tbest: 1736.1213705 (43)\ttotal: 2.16s\tremaining: 295ms\n",
      "44:\tlearn: 1718.6392916\ttest: 1734.4331763\tbest: 1734.4331763 (44)\ttotal: 2.21s\tremaining: 246ms\n",
      "45:\tlearn: 1716.5773754\ttest: 1733.5569458\tbest: 1733.5569458 (45)\ttotal: 2.26s\tremaining: 197ms\n",
      "46:\tlearn: 1714.1600475\ttest: 1733.1692389\tbest: 1733.1692389 (46)\ttotal: 2.31s\tremaining: 147ms\n",
      "47:\tlearn: 1712.1289692\ttest: 1731.2914862\tbest: 1731.2914862 (47)\ttotal: 2.35s\tremaining: 98.1ms\n",
      "48:\tlearn: 1709.9684337\ttest: 1729.8633527\tbest: 1729.8633527 (48)\ttotal: 2.4s\tremaining: 49ms\n",
      "49:\tlearn: 1709.1848579\ttest: 1729.1886541\tbest: 1729.1886541 (49)\ttotal: 2.45s\tremaining: 0us\n",
      "\n",
      "bestTest = 1729.188654\n",
      "bestIteration = 49\n",
      "\n",
      "0:\tlearn: 6142.0130909\ttest: 6186.6273887\tbest: 6186.6273887 (0)\ttotal: 117ms\tremaining: 5.74s\n",
      "1:\tlearn: 5628.5539388\ttest: 5667.7984659\tbest: 5667.7984659 (1)\ttotal: 216ms\tremaining: 5.19s\n",
      "2:\tlearn: 5172.2218478\ttest: 5206.9431310\tbest: 5206.9431310 (2)\ttotal: 304ms\tremaining: 4.77s\n",
      "3:\tlearn: 4767.6476455\ttest: 4796.1987557\tbest: 4796.1987557 (3)\ttotal: 396ms\tremaining: 4.55s\n",
      "4:\tlearn: 4410.3487436\ttest: 4433.9507441\tbest: 4433.9507441 (4)\ttotal: 509ms\tremaining: 4.58s\n",
      "5:\tlearn: 4094.9395199\ttest: 4114.4808267\tbest: 4114.4808267 (5)\ttotal: 602ms\tremaining: 4.42s\n",
      "6:\tlearn: 3819.6336901\ttest: 3835.0532054\tbest: 3835.0532054 (6)\ttotal: 694ms\tremaining: 4.26s\n",
      "7:\tlearn: 3574.3221427\ttest: 3586.9046809\tbest: 3586.9046809 (7)\ttotal: 782ms\tremaining: 4.1s\n",
      "8:\tlearn: 3359.3977214\ttest: 3369.4111361\tbest: 3369.4111361 (8)\ttotal: 906ms\tremaining: 4.13s\n",
      "9:\tlearn: 3175.4472468\ttest: 3182.0154814\tbest: 3182.0154814 (9)\ttotal: 1.03s\tremaining: 4.13s\n",
      "10:\tlearn: 3005.1258884\ttest: 3008.6647741\tbest: 3008.6647741 (10)\ttotal: 1.15s\tremaining: 4.07s\n",
      "11:\tlearn: 2859.0043788\ttest: 2856.8894515\tbest: 2856.8894515 (11)\ttotal: 1.25s\tremaining: 3.97s\n",
      "12:\tlearn: 2736.5620840\ttest: 2730.0036438\tbest: 2730.0036438 (12)\ttotal: 1.33s\tremaining: 3.79s\n",
      "13:\tlearn: 2625.7063562\ttest: 2617.9308162\tbest: 2617.9308162 (13)\ttotal: 1.43s\tremaining: 3.67s\n",
      "14:\tlearn: 2533.0355739\ttest: 2524.3849872\tbest: 2524.3849872 (14)\ttotal: 1.53s\tremaining: 3.57s\n",
      "15:\tlearn: 2435.8292758\ttest: 2426.3781403\tbest: 2426.3781403 (15)\ttotal: 1.62s\tremaining: 3.45s\n",
      "16:\tlearn: 2351.1405545\ttest: 2340.8081214\tbest: 2340.8081214 (16)\ttotal: 1.72s\tremaining: 3.33s\n",
      "17:\tlearn: 2281.9102958\ttest: 2271.1359116\tbest: 2271.1359116 (17)\ttotal: 1.8s\tremaining: 3.21s\n",
      "18:\tlearn: 2219.1732412\ttest: 2207.4296172\tbest: 2207.4296172 (18)\ttotal: 1.89s\tremaining: 3.09s\n",
      "19:\tlearn: 2167.3333099\ttest: 2155.3795321\tbest: 2155.3795321 (19)\ttotal: 1.99s\tremaining: 2.99s\n",
      "20:\tlearn: 2123.3431818\ttest: 2110.9192793\tbest: 2110.9192793 (20)\ttotal: 2.09s\tremaining: 2.89s\n",
      "21:\tlearn: 2085.4508036\ttest: 2073.0275157\tbest: 2073.0275157 (21)\ttotal: 2.19s\tremaining: 2.78s\n",
      "22:\tlearn: 2050.3711025\ttest: 2038.7637443\tbest: 2038.7637443 (22)\ttotal: 2.28s\tremaining: 2.67s\n",
      "23:\tlearn: 2015.0755300\ttest: 2003.7748672\tbest: 2003.7748672 (23)\ttotal: 2.37s\tremaining: 2.56s\n",
      "24:\tlearn: 1983.1429491\ttest: 1973.1889395\tbest: 1973.1889395 (24)\ttotal: 2.45s\tremaining: 2.45s\n",
      "25:\tlearn: 1955.7937641\ttest: 1945.8121144\tbest: 1945.8121144 (25)\ttotal: 2.54s\tremaining: 2.34s\n",
      "26:\tlearn: 1931.9109891\ttest: 1922.7617505\tbest: 1922.7617505 (26)\ttotal: 2.63s\tremaining: 2.24s\n",
      "27:\tlearn: 1908.2286859\ttest: 1900.3470408\tbest: 1900.3470408 (27)\ttotal: 2.71s\tremaining: 2.13s\n",
      "28:\tlearn: 1892.2814318\ttest: 1885.0545123\tbest: 1885.0545123 (28)\ttotal: 2.83s\tremaining: 2.05s\n",
      "29:\tlearn: 1875.9021734\ttest: 1869.4261086\tbest: 1869.4261086 (29)\ttotal: 2.92s\tremaining: 1.95s\n",
      "30:\tlearn: 1861.4608145\ttest: 1856.8648148\tbest: 1856.8648148 (30)\ttotal: 3.01s\tremaining: 1.84s\n",
      "31:\tlearn: 1848.4350123\ttest: 1845.5267326\tbest: 1845.5267326 (31)\ttotal: 3.13s\tremaining: 1.76s\n",
      "32:\tlearn: 1837.4274222\ttest: 1835.9461906\tbest: 1835.9461906 (32)\ttotal: 3.25s\tremaining: 1.67s\n",
      "33:\tlearn: 1827.2200999\ttest: 1827.0283663\tbest: 1827.0283663 (33)\ttotal: 3.33s\tremaining: 1.57s\n",
      "34:\tlearn: 1812.9950578\ttest: 1813.7191721\tbest: 1813.7191721 (34)\ttotal: 3.42s\tremaining: 1.47s\n",
      "35:\tlearn: 1800.1224881\ttest: 1802.8519965\tbest: 1802.8519965 (35)\ttotal: 3.51s\tremaining: 1.36s\n",
      "36:\tlearn: 1792.0433996\ttest: 1795.7873138\tbest: 1795.7873138 (36)\ttotal: 3.59s\tremaining: 1.26s\n",
      "37:\tlearn: 1781.8845636\ttest: 1786.1648220\tbest: 1786.1648220 (37)\ttotal: 3.69s\tremaining: 1.17s\n",
      "38:\tlearn: 1774.8561773\ttest: 1779.4217444\tbest: 1779.4217444 (38)\ttotal: 3.78s\tremaining: 1.07s\n",
      "39:\tlearn: 1769.1473688\ttest: 1774.8685619\tbest: 1774.8685619 (39)\ttotal: 3.87s\tremaining: 968ms\n",
      "40:\tlearn: 1764.9996220\ttest: 1771.9558777\tbest: 1771.9558777 (40)\ttotal: 3.96s\tremaining: 869ms\n",
      "41:\tlearn: 1757.4770489\ttest: 1765.7381993\tbest: 1765.7381993 (41)\ttotal: 4.04s\tremaining: 770ms\n",
      "42:\tlearn: 1751.6899797\ttest: 1760.5302994\tbest: 1760.5302994 (42)\ttotal: 4.14s\tremaining: 674ms\n",
      "43:\tlearn: 1744.3828850\ttest: 1754.5419771\tbest: 1754.5419771 (43)\ttotal: 4.24s\tremaining: 578ms\n",
      "44:\tlearn: 1739.3956207\ttest: 1750.7971444\tbest: 1750.7971444 (44)\ttotal: 4.33s\tremaining: 482ms\n",
      "45:\tlearn: 1735.2639719\ttest: 1746.8304875\tbest: 1746.8304875 (45)\ttotal: 4.43s\tremaining: 385ms\n",
      "46:\tlearn: 1731.5786232\ttest: 1744.4780866\tbest: 1744.4780866 (46)\ttotal: 4.51s\tremaining: 288ms\n",
      "47:\tlearn: 1727.1419532\ttest: 1740.5195737\tbest: 1740.5195737 (47)\ttotal: 4.6s\tremaining: 192ms\n",
      "48:\tlearn: 1723.8719826\ttest: 1738.3488490\tbest: 1738.3488490 (48)\ttotal: 4.69s\tremaining: 95.6ms\n",
      "49:\tlearn: 1720.5683450\ttest: 1735.5813897\tbest: 1735.5813897 (49)\ttotal: 4.78s\tremaining: 0us\n",
      "\n",
      "bestTest = 1735.58139\n",
      "bestIteration = 49\n",
      "\n",
      "0:\tlearn: 2512.4147963\ttest: 2502.2516617\tbest: 2502.2516617 (0)\ttotal: 116ms\tremaining: 5.67s\n",
      "1:\tlearn: 2170.9402152\ttest: 2176.6888097\tbest: 2176.6888097 (1)\ttotal: 226ms\tremaining: 5.43s\n",
      "2:\tlearn: 2030.1715022\ttest: 2046.9418779\tbest: 2046.9418779 (2)\ttotal: 320ms\tremaining: 5.01s\n",
      "3:\tlearn: 1938.9802244\ttest: 1950.8106927\tbest: 1950.8106927 (3)\ttotal: 425ms\tremaining: 4.89s\n",
      "4:\tlearn: 1889.0785260\ttest: 1905.6199214\tbest: 1905.6199214 (4)\ttotal: 534ms\tremaining: 4.81s\n",
      "5:\tlearn: 1845.1940100\ttest: 1875.3208166\tbest: 1875.3208166 (5)\ttotal: 629ms\tremaining: 4.61s\n",
      "6:\tlearn: 1819.2390944\ttest: 1855.6108583\tbest: 1855.6108583 (6)\ttotal: 729ms\tremaining: 4.48s\n",
      "7:\tlearn: 1801.4764875\ttest: 1848.5873717\tbest: 1848.5873717 (7)\ttotal: 824ms\tremaining: 4.33s\n",
      "8:\tlearn: 1800.3870276\ttest: 1849.3438559\tbest: 1848.5873717 (7)\ttotal: 853ms\tremaining: 3.89s\n",
      "9:\tlearn: 1762.8634552\ttest: 1815.1258582\tbest: 1815.1258582 (9)\ttotal: 944ms\tremaining: 3.78s\n",
      "10:\tlearn: 1740.0049218\ttest: 1794.9190908\tbest: 1794.9190908 (10)\ttotal: 1.03s\tremaining: 3.67s\n",
      "11:\tlearn: 1724.4642470\ttest: 1784.4457529\tbest: 1784.4457529 (11)\ttotal: 1.13s\tremaining: 3.57s\n",
      "12:\tlearn: 1710.6893197\ttest: 1772.9357455\tbest: 1772.9357455 (12)\ttotal: 1.21s\tremaining: 3.46s\n",
      "13:\tlearn: 1694.8388704\ttest: 1760.5447847\tbest: 1760.5447847 (13)\ttotal: 1.31s\tremaining: 3.37s\n",
      "14:\tlearn: 1682.5699620\ttest: 1753.7323156\tbest: 1753.7323156 (14)\ttotal: 1.4s\tremaining: 3.27s\n",
      "15:\tlearn: 1663.1482691\ttest: 1742.6767724\tbest: 1742.6767724 (15)\ttotal: 1.5s\tremaining: 3.18s\n",
      "16:\tlearn: 1646.7857402\ttest: 1737.1474129\tbest: 1737.1474129 (16)\ttotal: 1.59s\tremaining: 3.1s\n",
      "17:\tlearn: 1635.2489211\ttest: 1730.9522688\tbest: 1730.9522688 (17)\ttotal: 1.68s\tremaining: 2.99s\n",
      "18:\tlearn: 1627.6382022\ttest: 1725.8624950\tbest: 1725.8624950 (18)\ttotal: 1.78s\tremaining: 2.9s\n",
      "19:\tlearn: 1618.4941170\ttest: 1721.2572312\tbest: 1721.2572312 (19)\ttotal: 1.87s\tremaining: 2.8s\n",
      "20:\tlearn: 1610.5164321\ttest: 1716.6573003\tbest: 1716.6573003 (20)\ttotal: 1.97s\tremaining: 2.72s\n",
      "21:\tlearn: 1603.2301707\ttest: 1714.1423194\tbest: 1714.1423194 (21)\ttotal: 2.07s\tremaining: 2.63s\n",
      "22:\tlearn: 1594.7972198\ttest: 1715.2973188\tbest: 1714.1423194 (21)\ttotal: 2.17s\tremaining: 2.54s\n",
      "23:\tlearn: 1586.0183278\ttest: 1714.0267189\tbest: 1714.0267189 (23)\ttotal: 2.25s\tremaining: 2.44s\n",
      "24:\tlearn: 1579.5301429\ttest: 1711.7763037\tbest: 1711.7763037 (24)\ttotal: 2.34s\tremaining: 2.34s\n",
      "25:\tlearn: 1571.9321393\ttest: 1711.0350354\tbest: 1711.0350354 (25)\ttotal: 2.44s\tremaining: 2.25s\n",
      "26:\tlearn: 1567.1013039\ttest: 1710.5508787\tbest: 1710.5508787 (26)\ttotal: 2.54s\tremaining: 2.17s\n",
      "27:\tlearn: 1561.1325240\ttest: 1711.0028537\tbest: 1710.5508787 (26)\ttotal: 2.65s\tremaining: 2.08s\n",
      "28:\tlearn: 1555.4007453\ttest: 1709.8347317\tbest: 1709.8347317 (28)\ttotal: 2.74s\tremaining: 1.99s\n",
      "29:\tlearn: 1549.8778291\ttest: 1710.5093649\tbest: 1709.8347317 (28)\ttotal: 2.85s\tremaining: 1.9s\n",
      "30:\tlearn: 1542.6385662\ttest: 1707.6951149\tbest: 1707.6951149 (30)\ttotal: 2.95s\tremaining: 1.81s\n",
      "31:\tlearn: 1535.2485558\ttest: 1708.0090769\tbest: 1707.6951149 (30)\ttotal: 3.04s\tremaining: 1.71s\n",
      "32:\tlearn: 1531.2362694\ttest: 1707.6618796\tbest: 1707.6618796 (32)\ttotal: 3.13s\tremaining: 1.61s\n",
      "33:\tlearn: 1524.8070378\ttest: 1704.5054251\tbest: 1704.5054251 (33)\ttotal: 3.23s\tremaining: 1.52s\n",
      "34:\tlearn: 1522.5095072\ttest: 1705.1638061\tbest: 1704.5054251 (33)\ttotal: 3.32s\tremaining: 1.42s\n",
      "35:\tlearn: 1520.8487854\ttest: 1703.4065781\tbest: 1703.4065781 (35)\ttotal: 3.41s\tremaining: 1.33s\n",
      "36:\tlearn: 1512.6744932\ttest: 1703.7352235\tbest: 1703.4065781 (35)\ttotal: 3.51s\tremaining: 1.23s\n",
      "37:\tlearn: 1509.1375760\ttest: 1704.0130378\tbest: 1703.4065781 (35)\ttotal: 3.6s\tremaining: 1.14s\n",
      "38:\tlearn: 1504.5856544\ttest: 1703.0772932\tbest: 1703.0772932 (38)\ttotal: 3.7s\tremaining: 1.04s\n",
      "39:\tlearn: 1499.9977352\ttest: 1702.1163192\tbest: 1702.1163192 (39)\ttotal: 3.78s\tremaining: 946ms\n",
      "40:\tlearn: 1496.6337651\ttest: 1702.5392182\tbest: 1702.1163192 (39)\ttotal: 3.87s\tremaining: 850ms\n",
      "41:\tlearn: 1496.1476475\ttest: 1702.3120766\tbest: 1702.1163192 (39)\ttotal: 3.96s\tremaining: 755ms\n",
      "42:\tlearn: 1491.8083702\ttest: 1703.0852519\tbest: 1702.1163192 (39)\ttotal: 4.05s\tremaining: 660ms\n",
      "43:\tlearn: 1487.2808316\ttest: 1704.4204207\tbest: 1702.1163192 (39)\ttotal: 4.14s\tremaining: 565ms\n",
      "44:\tlearn: 1484.9427532\ttest: 1706.0127727\tbest: 1702.1163192 (39)\ttotal: 4.24s\tremaining: 471ms\n",
      "45:\tlearn: 1480.6606886\ttest: 1705.3357588\tbest: 1702.1163192 (39)\ttotal: 4.32s\tremaining: 376ms\n",
      "46:\tlearn: 1475.2937660\ttest: 1705.3052500\tbest: 1702.1163192 (39)\ttotal: 4.41s\tremaining: 282ms\n",
      "47:\tlearn: 1468.2871412\ttest: 1703.1920930\tbest: 1702.1163192 (39)\ttotal: 4.51s\tremaining: 188ms\n",
      "48:\tlearn: 1464.0581322\ttest: 1700.1379064\tbest: 1700.1379064 (48)\ttotal: 4.6s\tremaining: 93.9ms\n",
      "49:\tlearn: 1457.1340728\ttest: 1696.4331852\tbest: 1696.4331852 (49)\ttotal: 4.68s\tremaining: 0us\n",
      "\n",
      "bestTest = 1696.433185\n",
      "bestIteration = 49\n",
      "\n",
      "3:\tloss: 1696.4331852\tbest: 1696.4331852 (3)\ttotal: 15.4s\tremaining: 0us\n",
      "Estimating final quality...\n",
      "Training on fold [0/3]\n",
      "0:\tlearn: 2558.9754576\ttest: 2570.8261206\tbest: 2570.8261206 (0)\ttotal: 89.9ms\tremaining: 4.4s\n",
      "1:\tlearn: 2157.8377179\ttest: 2169.6566260\tbest: 2169.6566260 (1)\ttotal: 191ms\tremaining: 4.59s\n",
      "2:\tlearn: 2017.5150163\ttest: 2038.0727930\tbest: 2038.0727930 (2)\ttotal: 271ms\tremaining: 4.25s\n",
      "3:\tlearn: 1920.4237618\ttest: 1941.7843137\tbest: 1941.7843137 (3)\ttotal: 349ms\tremaining: 4.01s\n",
      "4:\tlearn: 1880.6831146\ttest: 1897.2484667\tbest: 1897.2484667 (4)\ttotal: 425ms\tremaining: 3.82s\n",
      "5:\tlearn: 1820.6817209\ttest: 1845.0277055\tbest: 1845.0277055 (5)\ttotal: 502ms\tremaining: 3.68s\n",
      "6:\tlearn: 1797.1265714\ttest: 1829.9749710\tbest: 1829.9749710 (6)\ttotal: 575ms\tremaining: 3.53s\n",
      "7:\tlearn: 1776.6413175\ttest: 1820.8058088\tbest: 1820.8058088 (7)\ttotal: 657ms\tremaining: 3.45s\n",
      "8:\tlearn: 1761.0173965\ttest: 1811.7401572\tbest: 1811.7401572 (8)\ttotal: 730ms\tremaining: 3.33s\n",
      "9:\tlearn: 1736.4480566\ttest: 1798.3287539\tbest: 1798.3287539 (9)\ttotal: 808ms\tremaining: 3.23s\n",
      "10:\tlearn: 1725.3503402\ttest: 1788.5359957\tbest: 1788.5359957 (10)\ttotal: 903ms\tremaining: 3.2s\n",
      "11:\tlearn: 1711.4054055\ttest: 1778.1017059\tbest: 1778.1017059 (11)\ttotal: 1.01s\tremaining: 3.2s\n",
      "12:\tlearn: 1696.5760892\ttest: 1769.6492779\tbest: 1769.6492779 (12)\ttotal: 1.11s\tremaining: 3.16s\n",
      "13:\tlearn: 1679.7089935\ttest: 1765.4178893\tbest: 1765.4178893 (13)\ttotal: 1.21s\tremaining: 3.1s\n",
      "14:\tlearn: 1663.9509369\ttest: 1757.5522208\tbest: 1757.5522208 (14)\ttotal: 1.29s\tremaining: 3.02s\n",
      "15:\tlearn: 1657.6708741\ttest: 1756.4887580\tbest: 1756.4887580 (15)\ttotal: 1.37s\tremaining: 2.92s\n",
      "16:\tlearn: 1646.0333006\ttest: 1749.5834267\tbest: 1749.5834267 (16)\ttotal: 1.45s\tremaining: 2.81s\n",
      "17:\tlearn: 1629.9117956\ttest: 1746.0683997\tbest: 1746.0683997 (17)\ttotal: 1.52s\tremaining: 2.7s\n",
      "18:\tlearn: 1617.6800510\ttest: 1738.9112523\tbest: 1738.9112523 (18)\ttotal: 1.6s\tremaining: 2.6s\n",
      "19:\tlearn: 1606.9217328\ttest: 1732.7944595\tbest: 1732.7944595 (19)\ttotal: 1.67s\tremaining: 2.5s\n",
      "20:\tlearn: 1599.2009334\ttest: 1730.2475522\tbest: 1730.2475522 (20)\ttotal: 1.74s\tremaining: 2.4s\n",
      "21:\tlearn: 1593.6958563\ttest: 1730.8033046\tbest: 1730.2475522 (20)\ttotal: 1.81s\tremaining: 2.3s\n",
      "22:\tlearn: 1585.3101318\ttest: 1732.8903712\tbest: 1730.2475522 (20)\ttotal: 1.89s\tremaining: 2.21s\n",
      "23:\tlearn: 1575.9213308\ttest: 1726.8345595\tbest: 1726.8345595 (23)\ttotal: 1.96s\tremaining: 2.12s\n",
      "24:\tlearn: 1569.0290917\ttest: 1725.7541904\tbest: 1725.7541904 (24)\ttotal: 2.03s\tremaining: 2.03s\n",
      "25:\tlearn: 1559.7699375\ttest: 1722.3174332\tbest: 1722.3174332 (25)\ttotal: 2.11s\tremaining: 1.95s\n",
      "26:\tlearn: 1551.7273644\ttest: 1718.3105362\tbest: 1718.3105362 (26)\ttotal: 2.19s\tremaining: 1.86s\n",
      "27:\tlearn: 1546.0657555\ttest: 1717.4244948\tbest: 1717.4244948 (27)\ttotal: 2.26s\tremaining: 1.78s\n",
      "28:\tlearn: 1542.1970634\ttest: 1716.9780906\tbest: 1716.9780906 (28)\ttotal: 2.34s\tremaining: 1.69s\n",
      "29:\tlearn: 1536.3125521\ttest: 1713.1974067\tbest: 1713.1974067 (29)\ttotal: 2.41s\tremaining: 1.61s\n",
      "30:\tlearn: 1530.9834287\ttest: 1711.4743585\tbest: 1711.4743585 (30)\ttotal: 2.49s\tremaining: 1.53s\n",
      "31:\tlearn: 1525.2384570\ttest: 1712.7655435\tbest: 1711.4743585 (30)\ttotal: 2.57s\tremaining: 1.44s\n",
      "32:\tlearn: 1518.0249331\ttest: 1711.2549304\tbest: 1711.2549304 (32)\ttotal: 2.65s\tremaining: 1.36s\n",
      "33:\tlearn: 1511.3398616\ttest: 1710.4742664\tbest: 1710.4742664 (33)\ttotal: 2.72s\tremaining: 1.28s\n",
      "34:\tlearn: 1507.1260606\ttest: 1710.1108363\tbest: 1710.1108363 (34)\ttotal: 2.8s\tremaining: 1.2s\n",
      "35:\tlearn: 1501.5942335\ttest: 1709.4322663\tbest: 1709.4322663 (35)\ttotal: 2.87s\tremaining: 1.12s\n",
      "36:\tlearn: 1498.7996740\ttest: 1709.2414355\tbest: 1709.2414355 (36)\ttotal: 2.95s\tremaining: 1.04s\n",
      "37:\tlearn: 1494.9784179\ttest: 1708.3249816\tbest: 1708.3249816 (37)\ttotal: 3.03s\tremaining: 957ms\n",
      "38:\tlearn: 1490.3971686\ttest: 1707.1329717\tbest: 1707.1329717 (38)\ttotal: 3.1s\tremaining: 876ms\n",
      "39:\tlearn: 1489.4058785\ttest: 1706.8479696\tbest: 1706.8479696 (39)\ttotal: 3.19s\tremaining: 798ms\n",
      "40:\tlearn: 1484.6780116\ttest: 1706.3165112\tbest: 1706.3165112 (40)\ttotal: 3.28s\tremaining: 720ms\n",
      "41:\tlearn: 1480.4837364\ttest: 1705.2311108\tbest: 1705.2311108 (41)\ttotal: 3.36s\tremaining: 639ms\n",
      "42:\tlearn: 1476.8849230\ttest: 1705.0851826\tbest: 1705.0851826 (42)\ttotal: 3.43s\tremaining: 559ms\n",
      "43:\tlearn: 1471.2531757\ttest: 1703.9844601\tbest: 1703.9844601 (43)\ttotal: 3.51s\tremaining: 478ms\n",
      "44:\tlearn: 1467.5651486\ttest: 1704.2478923\tbest: 1703.9844601 (43)\ttotal: 3.58s\tremaining: 398ms\n",
      "45:\tlearn: 1461.8354231\ttest: 1702.6263538\tbest: 1702.6263538 (45)\ttotal: 3.66s\tremaining: 319ms\n",
      "46:\tlearn: 1456.1018305\ttest: 1701.4309590\tbest: 1701.4309590 (46)\ttotal: 3.75s\tremaining: 239ms\n",
      "47:\tlearn: 1452.8171136\ttest: 1701.8768648\tbest: 1701.4309590 (46)\ttotal: 3.84s\tremaining: 160ms\n",
      "48:\tlearn: 1449.0600790\ttest: 1700.5239092\tbest: 1700.5239092 (48)\ttotal: 3.91s\tremaining: 79.8ms\n",
      "49:\tlearn: 1443.8378095\ttest: 1701.8573485\tbest: 1700.5239092 (48)\ttotal: 3.99s\tremaining: 0us\n",
      "\n",
      "bestTest = 1700.523909\n",
      "bestIteration = 48\n",
      "\n",
      "Training on fold [1/3]\n",
      "0:\tlearn: 2537.7748733\ttest: 2550.4093910\tbest: 2550.4093910 (0)\ttotal: 92.1ms\tremaining: 4.51s\n",
      "1:\tlearn: 2140.4546395\ttest: 2153.8709111\tbest: 2153.8709111 (1)\ttotal: 187ms\tremaining: 4.5s\n",
      "2:\tlearn: 2014.5908559\ttest: 2050.2738464\tbest: 2050.2738464 (2)\ttotal: 267ms\tremaining: 4.18s\n",
      "3:\tlearn: 1949.6574849\ttest: 1982.1045699\tbest: 1982.1045699 (3)\ttotal: 348ms\tremaining: 4s\n",
      "4:\tlearn: 1899.1546220\ttest: 1938.7781231\tbest: 1938.7781231 (4)\ttotal: 435ms\tremaining: 3.91s\n",
      "5:\tlearn: 1819.1432977\ttest: 1867.7089090\tbest: 1867.7089090 (5)\ttotal: 515ms\tremaining: 3.78s\n",
      "6:\tlearn: 1783.7774375\ttest: 1839.2314222\tbest: 1839.2314222 (6)\ttotal: 602ms\tremaining: 3.7s\n",
      "7:\tlearn: 1762.7922490\ttest: 1832.8646775\tbest: 1832.8646775 (7)\ttotal: 681ms\tremaining: 3.58s\n",
      "8:\tlearn: 1745.8387249\ttest: 1817.6662468\tbest: 1817.6662468 (8)\ttotal: 759ms\tremaining: 3.46s\n",
      "9:\tlearn: 1734.8127065\ttest: 1809.1311290\tbest: 1809.1311290 (9)\ttotal: 840ms\tremaining: 3.36s\n",
      "10:\tlearn: 1713.4160032\ttest: 1794.1814322\tbest: 1794.1814322 (10)\ttotal: 915ms\tremaining: 3.25s\n",
      "11:\tlearn: 1695.5778684\ttest: 1783.4103994\tbest: 1783.4103994 (11)\ttotal: 992ms\tremaining: 3.14s\n",
      "12:\tlearn: 1676.6443222\ttest: 1775.5154726\tbest: 1775.5154726 (12)\ttotal: 1.07s\tremaining: 3.04s\n",
      "13:\tlearn: 1665.3480211\ttest: 1772.3303487\tbest: 1772.3303487 (13)\ttotal: 1.15s\tremaining: 2.97s\n",
      "14:\tlearn: 1646.5236829\ttest: 1765.6324856\tbest: 1765.6324856 (14)\ttotal: 1.24s\tremaining: 2.88s\n",
      "15:\tlearn: 1632.7242495\ttest: 1758.2554804\tbest: 1758.2554804 (15)\ttotal: 1.31s\tremaining: 2.79s\n",
      "16:\tlearn: 1626.1344823\ttest: 1756.1288776\tbest: 1756.1288776 (16)\ttotal: 1.4s\tremaining: 2.72s\n",
      "17:\tlearn: 1616.3215802\ttest: 1754.1142348\tbest: 1754.1142348 (17)\ttotal: 1.48s\tremaining: 2.63s\n",
      "18:\tlearn: 1608.6794651\ttest: 1749.5494923\tbest: 1749.5494923 (18)\ttotal: 1.56s\tremaining: 2.55s\n",
      "19:\tlearn: 1592.6424792\ttest: 1741.8733148\tbest: 1741.8733148 (19)\ttotal: 1.64s\tremaining: 2.45s\n",
      "20:\tlearn: 1579.2877254\ttest: 1735.1650858\tbest: 1735.1650858 (20)\ttotal: 1.71s\tremaining: 2.36s\n",
      "21:\tlearn: 1571.9954508\ttest: 1732.3485685\tbest: 1732.3485685 (21)\ttotal: 1.79s\tremaining: 2.27s\n",
      "22:\tlearn: 1565.4680289\ttest: 1732.1784482\tbest: 1732.1784482 (22)\ttotal: 1.87s\tremaining: 2.19s\n",
      "23:\tlearn: 1560.2453668\ttest: 1731.8684063\tbest: 1731.8684063 (23)\ttotal: 1.94s\tremaining: 2.1s\n",
      "24:\tlearn: 1554.1472435\ttest: 1730.9068972\tbest: 1730.9068972 (24)\ttotal: 2.02s\tremaining: 2.02s\n",
      "25:\tlearn: 1546.2438925\ttest: 1729.0204236\tbest: 1729.0204236 (25)\ttotal: 2.1s\tremaining: 1.94s\n",
      "26:\tlearn: 1538.4964873\ttest: 1728.4936026\tbest: 1728.4936026 (26)\ttotal: 2.17s\tremaining: 1.85s\n",
      "27:\tlearn: 1533.4627964\ttest: 1726.7542554\tbest: 1726.7542554 (27)\ttotal: 2.25s\tremaining: 1.77s\n",
      "28:\tlearn: 1526.9330222\ttest: 1725.4321200\tbest: 1725.4321200 (28)\ttotal: 2.33s\tremaining: 1.69s\n",
      "29:\tlearn: 1520.1514460\ttest: 1722.4436051\tbest: 1722.4436051 (29)\ttotal: 2.4s\tremaining: 1.6s\n",
      "30:\tlearn: 1514.2980081\ttest: 1720.2322628\tbest: 1720.2322628 (30)\ttotal: 2.47s\tremaining: 1.51s\n",
      "31:\tlearn: 1508.4132039\ttest: 1720.0836276\tbest: 1720.0836276 (31)\ttotal: 2.54s\tremaining: 1.43s\n",
      "32:\tlearn: 1502.9916631\ttest: 1718.9795956\tbest: 1718.9795956 (32)\ttotal: 2.61s\tremaining: 1.35s\n",
      "33:\tlearn: 1499.1564728\ttest: 1720.1893005\tbest: 1718.9795956 (32)\ttotal: 2.69s\tremaining: 1.27s\n",
      "34:\tlearn: 1489.4060665\ttest: 1718.4299781\tbest: 1718.4299781 (34)\ttotal: 2.78s\tremaining: 1.19s\n",
      "35:\tlearn: 1485.7952326\ttest: 1717.9180293\tbest: 1717.9180293 (35)\ttotal: 2.85s\tremaining: 1.11s\n",
      "36:\tlearn: 1476.1525212\ttest: 1714.5509755\tbest: 1714.5509755 (36)\ttotal: 2.93s\tremaining: 1.03s\n",
      "37:\tlearn: 1470.7192606\ttest: 1712.6399330\tbest: 1712.6399330 (37)\ttotal: 3s\tremaining: 949ms\n",
      "38:\tlearn: 1467.8981040\ttest: 1712.0256250\tbest: 1712.0256250 (38)\ttotal: 3.08s\tremaining: 868ms\n",
      "39:\tlearn: 1461.7464948\ttest: 1712.1051731\tbest: 1712.0256250 (38)\ttotal: 3.15s\tremaining: 787ms\n",
      "40:\tlearn: 1456.6517519\ttest: 1709.7778109\tbest: 1709.7778109 (40)\ttotal: 3.22s\tremaining: 708ms\n",
      "41:\tlearn: 1455.7953819\ttest: 1710.0994425\tbest: 1709.7778109 (40)\ttotal: 3.3s\tremaining: 629ms\n",
      "42:\tlearn: 1451.8022131\ttest: 1710.1214277\tbest: 1709.7778109 (40)\ttotal: 3.37s\tremaining: 549ms\n",
      "43:\tlearn: 1446.6588012\ttest: 1707.9278538\tbest: 1707.9278538 (43)\ttotal: 3.45s\tremaining: 470ms\n",
      "44:\tlearn: 1443.6082675\ttest: 1708.0456640\tbest: 1707.9278538 (43)\ttotal: 3.52s\tremaining: 391ms\n",
      "45:\tlearn: 1439.7433177\ttest: 1706.6048949\tbest: 1706.6048949 (45)\ttotal: 3.59s\tremaining: 313ms\n",
      "46:\tlearn: 1432.1152922\ttest: 1705.7706446\tbest: 1705.7706446 (46)\ttotal: 3.67s\tremaining: 234ms\n",
      "47:\tlearn: 1429.8783736\ttest: 1705.6881878\tbest: 1705.6881878 (47)\ttotal: 3.74s\tremaining: 156ms\n",
      "48:\tlearn: 1426.8787801\ttest: 1703.4486069\tbest: 1703.4486069 (48)\ttotal: 3.81s\tremaining: 77.9ms\n",
      "49:\tlearn: 1424.1029491\ttest: 1702.9735874\tbest: 1702.9735874 (49)\ttotal: 3.89s\tremaining: 0us\n",
      "\n",
      "bestTest = 1702.973587\n",
      "bestIteration = 49\n",
      "\n",
      "Training on fold [2/3]\n",
      "0:\tlearn: 2542.6281905\ttest: 2541.1220362\tbest: 2541.1220362 (0)\ttotal: 86ms\tremaining: 4.21s\n",
      "1:\tlearn: 2159.5226236\ttest: 2176.5152763\tbest: 2176.5152763 (1)\ttotal: 184ms\tremaining: 4.41s\n",
      "2:\tlearn: 2037.5935847\ttest: 2050.4265302\tbest: 2050.4265302 (2)\ttotal: 265ms\tremaining: 4.16s\n",
      "3:\tlearn: 1927.7962760\ttest: 1947.1583165\tbest: 1947.1583165 (3)\ttotal: 343ms\tremaining: 3.95s\n",
      "4:\tlearn: 1878.7609058\ttest: 1899.7402695\tbest: 1899.7402695 (4)\ttotal: 425ms\tremaining: 3.83s\n",
      "5:\tlearn: 1850.2591924\ttest: 1879.4590492\tbest: 1879.4590492 (5)\ttotal: 498ms\tremaining: 3.65s\n",
      "6:\tlearn: 1818.5493647\ttest: 1855.3559520\tbest: 1855.3559520 (6)\ttotal: 570ms\tremaining: 3.5s\n",
      "7:\tlearn: 1773.8718596\ttest: 1815.1902281\tbest: 1815.1902281 (7)\ttotal: 647ms\tremaining: 3.4s\n",
      "8:\tlearn: 1752.2922164\ttest: 1797.1683284\tbest: 1797.1683284 (8)\ttotal: 722ms\tremaining: 3.29s\n",
      "9:\tlearn: 1730.7922371\ttest: 1785.2581521\tbest: 1785.2581521 (9)\ttotal: 795ms\tremaining: 3.18s\n",
      "10:\tlearn: 1718.4905796\ttest: 1782.9986669\tbest: 1782.9986669 (10)\ttotal: 872ms\tremaining: 3.09s\n",
      "11:\tlearn: 1700.3633979\ttest: 1766.1313025\tbest: 1766.1313025 (11)\ttotal: 941ms\tremaining: 2.98s\n",
      "12:\tlearn: 1682.5568932\ttest: 1753.3743445\tbest: 1753.3743445 (12)\ttotal: 1.01s\tremaining: 2.88s\n",
      "13:\tlearn: 1668.6908038\ttest: 1749.6260547\tbest: 1749.6260547 (13)\ttotal: 1.09s\tremaining: 2.8s\n",
      "14:\tlearn: 1658.8237235\ttest: 1749.0929524\tbest: 1749.0929524 (14)\ttotal: 1.16s\tremaining: 2.7s\n",
      "15:\tlearn: 1649.9187936\ttest: 1745.4466022\tbest: 1745.4466022 (15)\ttotal: 1.23s\tremaining: 2.6s\n",
      "16:\tlearn: 1634.3415793\ttest: 1736.6700798\tbest: 1736.6700798 (16)\ttotal: 1.3s\tremaining: 2.52s\n",
      "17:\tlearn: 1624.3822238\ttest: 1733.4801502\tbest: 1733.4801502 (17)\ttotal: 1.37s\tremaining: 2.44s\n",
      "18:\tlearn: 1615.9306132\ttest: 1733.2215320\tbest: 1733.2215320 (18)\ttotal: 1.45s\tremaining: 2.36s\n",
      "19:\tlearn: 1607.0655306\ttest: 1729.7410865\tbest: 1729.7410865 (19)\ttotal: 1.52s\tremaining: 2.29s\n",
      "20:\tlearn: 1600.4601777\ttest: 1724.7692953\tbest: 1724.7692953 (20)\ttotal: 1.59s\tremaining: 2.2s\n",
      "21:\tlearn: 1579.4540540\ttest: 1718.1546555\tbest: 1718.1546555 (21)\ttotal: 1.66s\tremaining: 2.12s\n",
      "22:\tlearn: 1572.4049087\ttest: 1714.7267167\tbest: 1714.7267167 (22)\ttotal: 1.74s\tremaining: 2.04s\n",
      "23:\tlearn: 1564.5105751\ttest: 1712.2706201\tbest: 1712.2706201 (23)\ttotal: 1.81s\tremaining: 1.96s\n",
      "24:\tlearn: 1557.3856102\ttest: 1707.9704990\tbest: 1707.9704990 (24)\ttotal: 1.88s\tremaining: 1.88s\n",
      "25:\tlearn: 1554.8155339\ttest: 1707.9859301\tbest: 1707.9704990 (24)\ttotal: 1.96s\tremaining: 1.81s\n",
      "26:\tlearn: 1549.6137938\ttest: 1709.1921866\tbest: 1707.9704990 (24)\ttotal: 2.03s\tremaining: 1.73s\n",
      "27:\tlearn: 1542.8549129\ttest: 1710.2091197\tbest: 1707.9704990 (24)\ttotal: 2.1s\tremaining: 1.65s\n",
      "28:\tlearn: 1535.8625306\ttest: 1708.4251264\tbest: 1707.9704990 (24)\ttotal: 2.17s\tremaining: 1.57s\n",
      "29:\tlearn: 1530.2659413\ttest: 1706.9666543\tbest: 1706.9666543 (29)\ttotal: 2.24s\tremaining: 1.49s\n",
      "30:\tlearn: 1523.7005091\ttest: 1707.1745868\tbest: 1706.9666543 (29)\ttotal: 2.31s\tremaining: 1.42s\n",
      "31:\tlearn: 1519.0329403\ttest: 1707.3465674\tbest: 1706.9666543 (29)\ttotal: 2.39s\tremaining: 1.35s\n",
      "32:\tlearn: 1514.1871248\ttest: 1707.5143356\tbest: 1706.9666543 (29)\ttotal: 2.48s\tremaining: 1.27s\n",
      "33:\tlearn: 1507.5619040\ttest: 1708.4869567\tbest: 1706.9666543 (29)\ttotal: 2.56s\tremaining: 1.2s\n",
      "34:\tlearn: 1501.4802042\ttest: 1709.9688277\tbest: 1706.9666543 (29)\ttotal: 2.64s\tremaining: 1.13s\n",
      "35:\tlearn: 1496.6416564\ttest: 1707.2899114\tbest: 1706.9666543 (29)\ttotal: 2.71s\tremaining: 1.05s\n",
      "36:\tlearn: 1491.7656853\ttest: 1708.4799310\tbest: 1706.9666543 (29)\ttotal: 2.79s\tremaining: 980ms\n",
      "37:\tlearn: 1483.1632355\ttest: 1704.7633467\tbest: 1704.7633467 (37)\ttotal: 2.9s\tremaining: 914ms\n",
      "38:\tlearn: 1478.1993681\ttest: 1705.3135432\tbest: 1704.7633467 (37)\ttotal: 2.99s\tremaining: 844ms\n",
      "39:\tlearn: 1474.7252914\ttest: 1706.5683867\tbest: 1704.7633467 (37)\ttotal: 3.1s\tremaining: 774ms\n",
      "40:\tlearn: 1468.6699183\ttest: 1707.5605892\tbest: 1704.7633467 (37)\ttotal: 3.17s\tremaining: 696ms\n",
      "41:\tlearn: 1461.9346659\ttest: 1708.9763571\tbest: 1704.7633467 (37)\ttotal: 3.26s\tremaining: 622ms\n",
      "42:\tlearn: 1456.7612468\ttest: 1707.5350714\tbest: 1704.7633467 (37)\ttotal: 3.34s\tremaining: 544ms\n",
      "43:\tlearn: 1451.5203866\ttest: 1707.2064448\tbest: 1704.7633467 (37)\ttotal: 3.42s\tremaining: 467ms\n",
      "44:\tlearn: 1447.5520962\ttest: 1706.3626174\tbest: 1704.7633467 (37)\ttotal: 3.5s\tremaining: 389ms\n",
      "45:\tlearn: 1447.2135237\ttest: 1706.2022746\tbest: 1704.7633467 (37)\ttotal: 3.57s\tremaining: 311ms\n",
      "46:\tlearn: 1443.1128844\ttest: 1705.0737265\tbest: 1704.7633467 (37)\ttotal: 3.65s\tremaining: 233ms\n",
      "47:\tlearn: 1438.6966467\ttest: 1704.3951456\tbest: 1704.3951456 (47)\ttotal: 3.74s\tremaining: 156ms\n",
      "48:\tlearn: 1436.4964718\ttest: 1703.1660053\tbest: 1703.1660053 (48)\ttotal: 3.82s\tremaining: 78ms\n",
      "49:\tlearn: 1432.9174388\ttest: 1701.9877631\tbest: 1701.9877631 (49)\ttotal: 3.9s\tremaining: 0us\n",
      "\n",
      "bestTest = 1701.987763\n",
      "bestIteration = 49\n",
      "\n",
      "CPU times: user 31.7 s, sys: 772 ms, total: 32.5 s\n",
      "Wall time: 34.1 s\n"
     ]
    }
   ],
   "source": [
    "%%time\n",
    "\n",
    "model_cat = CatBoostRegressor(loss_function=\"RMSE\")\n",
    "\n",
    "parametrs = {'iterations': [50],\n",
    "             'depth': [5, 10],\n",
    "             'learning_rate': [0.1, 1]}\n",
    "\n",
    "cat_features = [\"VehicleType\", \"Gearbox\", \"Model\", \"FuelType\", \"Brand\", \"NotRepaired\"]\n",
    "\n",
    "grid_cat = model_cat.grid_search(parametrs, \n",
    "                                 Pool(features_train, target_train, cat_features = cat_features),\n",
    "                                 cv=3,\n",
    "                                 verbose=10,\n",
    "                                 plot=False)"
   ]
  },
  {
   "cell_type": "code",
   "execution_count": 38,
   "metadata": {},
   "outputs": [
    {
     "data": {
      "text/plain": [
       "{'depth': 10, 'learning_rate': 1, 'iterations': 50}"
      ]
     },
     "execution_count": 38,
     "metadata": {},
     "output_type": "execute_result"
    }
   ],
   "source": [
    "grid_cat['params']"
   ]
  },
  {
   "cell_type": "code",
   "execution_count": 39,
   "metadata": {},
   "outputs": [
    {
     "name": "stdout",
     "output_type": "stream",
     "text": [
      "0:\tlearn: 2408.0879161\ttotal: 110ms\tremaining: 5.41s\n",
      "10:\tlearn: 1712.9879973\ttotal: 1.16s\tremaining: 4.11s\n",
      "20:\tlearn: 1608.4054038\ttotal: 2.22s\tremaining: 3.06s\n",
      "30:\tlearn: 1544.4808552\ttotal: 3.3s\tremaining: 2.02s\n",
      "40:\tlearn: 1494.8086374\ttotal: 4.34s\tremaining: 954ms\n",
      "49:\tlearn: 1461.1517394\ttotal: 5.28s\tremaining: 0us\n",
      "CPU times: user 5.57 s, sys: 15.4 ms, total: 5.59 s\n",
      "Wall time: 6.2 s\n"
     ]
    },
    {
     "data": {
      "text/plain": [
       "<catboost.core.CatBoostRegressor at 0x7fe047eed8e0>"
      ]
     },
     "execution_count": 39,
     "metadata": {},
     "output_type": "execute_result"
    }
   ],
   "source": [
    "%%time\n",
    "\n",
    "model_cat = CatBoostRegressor(loss_function=\"RMSE\", iterations=50, depth=10, learning_rate=1)\n",
    "cat_features = [\"VehicleType\", \"Gearbox\", \"Model\", \"FuelType\", \"Brand\", \"NotRepaired\"]\n",
    "model_cat.fit(features_train, target_train, cat_features=cat_features, verbose=10) "
   ]
  },
  {
   "cell_type": "code",
   "execution_count": 40,
   "metadata": {},
   "outputs": [
    {
     "name": "stdout",
     "output_type": "stream",
     "text": [
      "RMSE модели CatBoost: 1645.9548219051148\n",
      "CPU times: user 155 ms, sys: 3.81 ms, total: 159 ms\n",
      "Wall time: 163 ms\n"
     ]
    }
   ],
   "source": [
    "%%time\n",
    "\n",
    "predictions_cat = model_cat.predict(features_test)\n",
    "rmse_cat = mean_squared_error(target_test, predictions_cat, squared=False)\n",
    "print('RMSE модели CatBoost:', rmse_cat)"
   ]
  },
  {
   "cell_type": "markdown",
   "metadata": {},
   "source": [
    "### Light GBM"
   ]
  },
  {
   "cell_type": "code",
   "execution_count": 41,
   "metadata": {},
   "outputs": [
    {
     "name": "stdout",
     "output_type": "stream",
     "text": [
      "CPU times: user 1min 4s, sys: 0 ns, total: 1min 4s\n",
      "Wall time: 1min 5s\n"
     ]
    },
    {
     "data": {
      "text/plain": [
       "{'learning_rate': 0.1, 'max_depth': 10, 'n_estimators': 50}"
      ]
     },
     "execution_count": 41,
     "metadata": {},
     "output_type": "execute_result"
    }
   ],
   "source": [
    "%%time\n",
    "\n",
    "lgb_reg = lgb.LGBMRegressor()\n",
    "parameters = {'n_estimators': [5, 50],\n",
    "             'max_depth': [5, 10],\n",
    "             'learning_rate': [0.1, 1]}\n",
    "\n",
    "grid_lgb = GridSearchCV(lgb_reg, parameters, cv=5)\n",
    "grid_lgb.fit(features_train_light, target_train_light)\n",
    "grid_lgb.best_params_"
   ]
  },
  {
   "cell_type": "code",
   "execution_count": 42,
   "metadata": {},
   "outputs": [
    {
     "name": "stdout",
     "output_type": "stream",
     "text": [
      "[LightGBM] [Warning] Accuracy may be bad since you didn't explicitly set num_leaves OR 2^max_depth > num_leaves. (num_leaves=31).\n"
     ]
    },
    {
     "name": "stderr",
     "output_type": "stream",
     "text": [
      "/opt/conda/lib/python3.9/site-packages/lightgbm/engine.py:177: UserWarning: Found `n_estimators` in params. Will use it instead of argument\n",
      "  _log_warning(f\"Found `{alias}` in params. Will use it instead of argument\")\n"
     ]
    },
    {
     "name": "stdout",
     "output_type": "stream",
     "text": [
      "[LightGBM] [Warning] Accuracy may be bad since you didn't explicitly set num_leaves OR 2^max_depth > num_leaves. (num_leaves=31).\n",
      "[LightGBM] [Warning] Auto-choosing row-wise multi-threading, the overhead of testing was 0.095136 seconds.\n",
      "You can set `force_row_wise=true` to remove the overhead.\n",
      "And if memory is not enough, you can set `force_col_wise=true`.\n",
      "[LightGBM] [Info] Total Bins 645\n",
      "[LightGBM] [Info] Number of data points in the train set: 176517, number of used features: 10\n",
      "[LightGBM] [Info] Start training from score 4888.240855\n",
      "CPU times: user 2.86 s, sys: 12.7 ms, total: 2.88 s\n",
      "Wall time: 2.9 s\n"
     ]
    }
   ],
   "source": [
    "%%time\n",
    "\n",
    "lgb_train = lgb.Dataset(features_train_light, label = target_train_light)\n",
    "parameters_light = {'max_depth':10, 'learning_rate':0.1, 'n_estimators':50}\n",
    "model_lgb = lgb.train(parameters_light, lgb_train)"
   ]
  },
  {
   "cell_type": "code",
   "execution_count": 43,
   "metadata": {},
   "outputs": [
    {
     "name": "stdout",
     "output_type": "stream",
     "text": [
      "RMSE модели LightGBM: 1648.6162533934082\n",
      "CPU times: user 577 ms, sys: 803 µs, total: 578 ms\n",
      "Wall time: 600 ms\n"
     ]
    }
   ],
   "source": [
    "%%time\n",
    "\n",
    "predictions_lgb = model_lgb.predict(features_test_light)\n",
    "rmse_lgb = mean_squared_error(target_test_light, predictions_lgb, squared=False)\n",
    "print('RMSE модели LightGBM:', rmse_lgb)"
   ]
  },
  {
   "cell_type": "markdown",
   "metadata": {},
   "source": [
    "## Анализ моделей"
   ]
  },
  {
   "cell_type": "code",
   "execution_count": 44,
   "metadata": {},
   "outputs": [
    {
     "data": {
      "text/html": [
       "<div>\n",
       "<style scoped>\n",
       "    .dataframe tbody tr th:only-of-type {\n",
       "        vertical-align: middle;\n",
       "    }\n",
       "\n",
       "    .dataframe tbody tr th {\n",
       "        vertical-align: top;\n",
       "    }\n",
       "\n",
       "    .dataframe thead th {\n",
       "        text-align: right;\n",
       "    }\n",
       "</style>\n",
       "<table border=\"1\" class=\"dataframe\">\n",
       "  <thead>\n",
       "    <tr style=\"text-align: right;\">\n",
       "      <th></th>\n",
       "      <th>качество предсказания</th>\n",
       "      <th>скорость предсказания, сек</th>\n",
       "      <th>время обучения, сек</th>\n",
       "    </tr>\n",
       "  </thead>\n",
       "  <tbody>\n",
       "    <tr>\n",
       "      <th>Решающее дерево</th>\n",
       "      <td>1875.009519</td>\n",
       "      <td>0.237</td>\n",
       "      <td>4.34</td>\n",
       "    </tr>\n",
       "    <tr>\n",
       "      <th>Случайный лес</th>\n",
       "      <td>1655.515113</td>\n",
       "      <td>2.530</td>\n",
       "      <td>290.00</td>\n",
       "    </tr>\n",
       "    <tr>\n",
       "      <th>Catboost</th>\n",
       "      <td>1645.954822</td>\n",
       "      <td>0.178</td>\n",
       "      <td>6.84</td>\n",
       "    </tr>\n",
       "    <tr>\n",
       "      <th>LightGBM</th>\n",
       "      <td>1648.616253</td>\n",
       "      <td>0.578</td>\n",
       "      <td>2.99</td>\n",
       "    </tr>\n",
       "  </tbody>\n",
       "</table>\n",
       "</div>"
      ],
      "text/plain": [
       "                 качество предсказания  скорость предсказания, сек  \\\n",
       "Решающее дерево            1875.009519                       0.237   \n",
       "Случайный лес              1655.515113                       2.530   \n",
       "Catboost                   1645.954822                       0.178   \n",
       "LightGBM                   1648.616253                       0.578   \n",
       "\n",
       "                 время обучения, сек  \n",
       "Решающее дерево                 4.34  \n",
       "Случайный лес                 290.00  \n",
       "Catboost                        6.84  \n",
       "LightGBM                        2.99  "
      ]
     },
     "execution_count": 44,
     "metadata": {},
     "output_type": "execute_result"
    }
   ],
   "source": [
    "index = ['Решающее дерево', 'Случайный лес', 'Catboost', 'LightGBM']\n",
    "columns = ['качество предсказания', 'скорость предсказания, сек', 'время обучения, сек']\n",
    "val = [[rmse_dt, 0.237, 4.34], \n",
    "         [rmse_rf, 2.53, 290],\n",
    "         [rmse_cat, 0.178, 6.84],\n",
    "         [rmse_lgb, 0.578, 2.99]]\n",
    "final = pd.DataFrame(index = index, columns=columns, data=val)\n",
    "final"
   ]
  },
  {
   "cell_type": "markdown",
   "metadata": {},
   "source": [
    "По условию задачи необходимо выбрать модель, руководствуясь следующими характеристиками:\n",
    "- качество предсказания;\n",
    "- скорость предсказания;\n",
    "- время обучения.\n",
    "\n",
    "Исходя из этого, наиболее высокое качество показали модели CatBoost, LightGBM и Случайный лес.\n",
    "По скорости предсказания наиболее быстрыми были CatBoost, Решающее дерево и LightGBM.\n",
    "По времени обучения наилучший результат показали: LightGBM, Решающее дерево и CatBoost.\n",
    "Таким образом, в двух из трех характеристик модель CatBoost показала лучшие результаты, следовательно она подойдет лучше всего."
   ]
  }
 ],
 "metadata": {
  "ExecuteTimeLog": [
   {
    "duration": 476,
    "start_time": "2022-06-04T20:37:06.842Z"
   },
   {
    "duration": 1123,
    "start_time": "2022-06-04T20:37:40.649Z"
   },
   {
    "duration": 833,
    "start_time": "2022-06-04T20:37:46.891Z"
   },
   {
    "duration": 19,
    "start_time": "2022-06-04T20:37:57.198Z"
   },
   {
    "duration": 124,
    "start_time": "2022-06-04T20:41:45.988Z"
   },
   {
    "duration": 105,
    "start_time": "2022-06-05T20:00:38.940Z"
   },
   {
    "duration": 477,
    "start_time": "2022-06-05T20:00:48.521Z"
   },
   {
    "duration": 2881,
    "start_time": "2022-06-05T20:00:49.000Z"
   },
   {
    "duration": 23,
    "start_time": "2022-06-05T20:00:51.883Z"
   },
   {
    "duration": 135,
    "start_time": "2022-06-05T20:00:51.908Z"
   },
   {
    "duration": 137,
    "start_time": "2022-06-05T20:00:52.045Z"
   },
   {
    "duration": 39,
    "start_time": "2022-06-05T20:03:27.241Z"
   },
   {
    "duration": 113,
    "start_time": "2022-06-05T20:33:17.958Z"
   },
   {
    "duration": 11,
    "start_time": "2022-06-05T20:33:30.882Z"
   },
   {
    "duration": 31,
    "start_time": "2022-06-05T20:33:49.154Z"
   },
   {
    "duration": 21,
    "start_time": "2022-06-05T20:34:08.647Z"
   },
   {
    "duration": 13,
    "start_time": "2022-06-05T20:35:19.677Z"
   },
   {
    "duration": 14,
    "start_time": "2022-06-05T20:35:52.424Z"
   },
   {
    "duration": 484,
    "start_time": "2022-06-05T20:36:07.952Z"
   },
   {
    "duration": 975,
    "start_time": "2022-06-05T20:36:08.439Z"
   },
   {
    "duration": 25,
    "start_time": "2022-06-05T20:36:09.416Z"
   },
   {
    "duration": 199,
    "start_time": "2022-06-05T20:36:09.444Z"
   },
   {
    "duration": 29,
    "start_time": "2022-06-05T20:36:09.645Z"
   },
   {
    "duration": 108,
    "start_time": "2022-06-05T20:36:09.676Z"
   },
   {
    "duration": 12,
    "start_time": "2022-06-05T20:36:53.182Z"
   },
   {
    "duration": 79,
    "start_time": "2022-06-05T20:52:12.342Z"
   },
   {
    "duration": 386,
    "start_time": "2022-06-07T11:26:57.189Z"
   },
   {
    "duration": 1108,
    "start_time": "2022-06-07T11:26:57.578Z"
   },
   {
    "duration": 18,
    "start_time": "2022-06-07T11:26:58.688Z"
   },
   {
    "duration": 137,
    "start_time": "2022-06-07T11:26:58.707Z"
   },
   {
    "duration": 33,
    "start_time": "2022-06-07T11:26:58.846Z"
   },
   {
    "duration": 16,
    "start_time": "2022-06-07T11:26:58.882Z"
   },
   {
    "duration": 99,
    "start_time": "2022-06-07T11:26:58.900Z"
   },
   {
    "duration": 80,
    "start_time": "2022-06-07T11:28:13.217Z"
   },
   {
    "duration": 8,
    "start_time": "2022-06-07T11:28:25.830Z"
   },
   {
    "duration": 11,
    "start_time": "2022-06-07T11:28:31.374Z"
   },
   {
    "duration": 254,
    "start_time": "2022-06-07T11:33:23.018Z"
   },
   {
    "duration": 227,
    "start_time": "2022-06-07T11:33:31.953Z"
   },
   {
    "duration": 4,
    "start_time": "2022-06-07T11:33:43.841Z"
   },
   {
    "duration": 261,
    "start_time": "2022-06-07T11:33:51.938Z"
   },
   {
    "duration": 9,
    "start_time": "2022-06-07T11:37:14.828Z"
   },
   {
    "duration": 261,
    "start_time": "2022-06-07T11:37:28.449Z"
   },
   {
    "duration": 7,
    "start_time": "2022-06-07T11:38:15.115Z"
   },
   {
    "duration": 201,
    "start_time": "2022-06-07T11:38:25.573Z"
   },
   {
    "duration": 251,
    "start_time": "2022-06-07T11:38:35.223Z"
   },
   {
    "duration": 159,
    "start_time": "2022-06-07T11:38:37.419Z"
   },
   {
    "duration": 74,
    "start_time": "2022-06-07T11:38:44.136Z"
   },
   {
    "duration": 18,
    "start_time": "2022-06-07T12:16:21.145Z"
   },
   {
    "duration": 329,
    "start_time": "2022-06-07T12:16:47.403Z"
   },
   {
    "duration": 42,
    "start_time": "2022-06-07T12:16:58.467Z"
   },
   {
    "duration": 57,
    "start_time": "2022-06-07T12:17:22.467Z"
   },
   {
    "duration": 92,
    "start_time": "2022-06-07T12:17:48.768Z"
   },
   {
    "duration": 23,
    "start_time": "2022-06-07T12:20:54.177Z"
   },
   {
    "duration": 140,
    "start_time": "2022-06-07T12:24:54.081Z"
   },
   {
    "duration": 119,
    "start_time": "2022-06-07T12:25:17.772Z"
   },
   {
    "duration": 395,
    "start_time": "2022-06-07T13:57:51.812Z"
   },
   {
    "duration": 953,
    "start_time": "2022-06-07T13:57:52.209Z"
   },
   {
    "duration": 31,
    "start_time": "2022-06-07T13:57:53.163Z"
   },
   {
    "duration": 138,
    "start_time": "2022-06-07T13:57:53.195Z"
   },
   {
    "duration": 35,
    "start_time": "2022-06-07T13:57:53.335Z"
   },
   {
    "duration": 15,
    "start_time": "2022-06-07T13:57:53.373Z"
   },
   {
    "duration": 224,
    "start_time": "2022-06-07T13:57:53.390Z"
   },
   {
    "duration": 282,
    "start_time": "2022-06-07T13:57:53.616Z"
   },
   {
    "duration": 189,
    "start_time": "2022-06-07T13:57:53.900Z"
   },
   {
    "duration": 79,
    "start_time": "2022-06-07T13:57:54.090Z"
   },
   {
    "duration": 169,
    "start_time": "2022-06-07T13:57:54.172Z"
   },
   {
    "duration": 108,
    "start_time": "2022-06-07T13:57:54.343Z"
   },
   {
    "duration": 70,
    "start_time": "2022-06-07T13:59:20.609Z"
   },
   {
    "duration": 4,
    "start_time": "2022-06-07T13:59:27.044Z"
   },
   {
    "duration": 4,
    "start_time": "2022-06-07T13:59:33.487Z"
   },
   {
    "duration": 7,
    "start_time": "2022-06-07T14:00:29.294Z"
   },
   {
    "duration": 8,
    "start_time": "2022-06-07T14:00:49.791Z"
   },
   {
    "duration": 3,
    "start_time": "2022-06-07T14:01:04.590Z"
   },
   {
    "duration": 386,
    "start_time": "2022-06-07T14:01:12.303Z"
   },
   {
    "duration": 880,
    "start_time": "2022-06-07T14:01:12.692Z"
   },
   {
    "duration": 21,
    "start_time": "2022-06-07T14:01:13.574Z"
   },
   {
    "duration": 130,
    "start_time": "2022-06-07T14:01:13.597Z"
   },
   {
    "duration": 35,
    "start_time": "2022-06-07T14:01:13.729Z"
   },
   {
    "duration": 14,
    "start_time": "2022-06-07T14:01:13.766Z"
   },
   {
    "duration": 213,
    "start_time": "2022-06-07T14:01:13.781Z"
   },
   {
    "duration": 246,
    "start_time": "2022-06-07T14:01:13.996Z"
   },
   {
    "duration": 176,
    "start_time": "2022-06-07T14:01:14.243Z"
   },
   {
    "duration": 84,
    "start_time": "2022-06-07T14:01:14.421Z"
   },
   {
    "duration": 147,
    "start_time": "2022-06-07T14:01:14.508Z"
   },
   {
    "duration": 106,
    "start_time": "2022-06-07T14:01:14.659Z"
   },
   {
    "duration": 3,
    "start_time": "2022-06-07T14:01:14.766Z"
   },
   {
    "duration": 5,
    "start_time": "2022-06-07T14:01:23.760Z"
   },
   {
    "duration": 65,
    "start_time": "2022-06-07T14:11:04.443Z"
   },
   {
    "duration": 45,
    "start_time": "2022-06-07T14:11:13.862Z"
   },
   {
    "duration": 24,
    "start_time": "2022-06-07T14:13:04.589Z"
   },
   {
    "duration": 189,
    "start_time": "2022-06-07T14:14:09.489Z"
   },
   {
    "duration": 10,
    "start_time": "2022-06-07T14:14:41.287Z"
   },
   {
    "duration": 467,
    "start_time": "2022-06-07T14:14:55.454Z"
   },
   {
    "duration": 866,
    "start_time": "2022-06-07T14:14:55.924Z"
   },
   {
    "duration": 20,
    "start_time": "2022-06-07T14:14:56.792Z"
   },
   {
    "duration": 149,
    "start_time": "2022-06-07T14:14:56.813Z"
   },
   {
    "duration": 27,
    "start_time": "2022-06-07T14:14:56.964Z"
   },
   {
    "duration": 16,
    "start_time": "2022-06-07T14:14:56.993Z"
   },
   {
    "duration": 211,
    "start_time": "2022-06-07T14:14:57.011Z"
   },
   {
    "duration": 308,
    "start_time": "2022-06-07T14:14:57.225Z"
   },
   {
    "duration": 182,
    "start_time": "2022-06-07T14:14:57.534Z"
   },
   {
    "duration": 82,
    "start_time": "2022-06-07T14:14:57.718Z"
   },
   {
    "duration": 173,
    "start_time": "2022-06-07T14:14:57.801Z"
   },
   {
    "duration": 99,
    "start_time": "2022-06-07T14:14:57.976Z"
   },
   {
    "duration": 4,
    "start_time": "2022-06-07T14:14:58.076Z"
   },
   {
    "duration": 192,
    "start_time": "2022-06-07T14:14:58.082Z"
   },
   {
    "duration": 10,
    "start_time": "2022-06-07T14:14:58.276Z"
   },
   {
    "duration": 4,
    "start_time": "2022-06-07T14:15:39.678Z"
   },
   {
    "duration": 203,
    "start_time": "2022-06-07T14:15:40.778Z"
   },
   {
    "duration": 16,
    "start_time": "2022-06-07T14:15:41.960Z"
   },
   {
    "duration": 68,
    "start_time": "2022-06-07T14:17:28.288Z"
   },
   {
    "duration": 408,
    "start_time": "2022-06-07T14:18:14.493Z"
   },
   {
    "duration": 191,
    "start_time": "2022-06-07T14:18:31.046Z"
   },
   {
    "duration": 10,
    "start_time": "2022-06-07T14:18:32.112Z"
   },
   {
    "duration": 71,
    "start_time": "2022-06-07T14:18:54.380Z"
   },
   {
    "duration": 32,
    "start_time": "2022-06-07T14:20:18.976Z"
   },
   {
    "duration": 415,
    "start_time": "2022-06-07T14:20:34.150Z"
   },
   {
    "duration": 90,
    "start_time": "2022-06-07T14:20:47.442Z"
   },
   {
    "duration": 14,
    "start_time": "2022-06-07T14:20:56.378Z"
   },
   {
    "duration": 91,
    "start_time": "2022-06-07T14:22:06.473Z"
   },
   {
    "duration": 70,
    "start_time": "2022-06-07T14:22:10.504Z"
   },
   {
    "duration": 104,
    "start_time": "2022-06-07T14:22:17.354Z"
   },
   {
    "duration": 70,
    "start_time": "2022-06-07T14:22:19.664Z"
   },
   {
    "duration": 13,
    "start_time": "2022-06-07T14:22:20.377Z"
   },
   {
    "duration": 87,
    "start_time": "2022-06-07T14:22:49.845Z"
   },
   {
    "duration": 76,
    "start_time": "2022-06-07T14:22:50.884Z"
   },
   {
    "duration": 20,
    "start_time": "2022-06-07T14:22:52.641Z"
   },
   {
    "duration": 58,
    "start_time": "2022-06-07T14:24:08.249Z"
   },
   {
    "duration": 71,
    "start_time": "2022-06-07T14:24:09.406Z"
   },
   {
    "duration": 12,
    "start_time": "2022-06-07T14:24:40.174Z"
   },
   {
    "duration": 383,
    "start_time": "2022-06-07T14:24:48.101Z"
   },
   {
    "duration": 807,
    "start_time": "2022-06-07T14:24:48.486Z"
   },
   {
    "duration": 19,
    "start_time": "2022-06-07T14:24:49.295Z"
   },
   {
    "duration": 142,
    "start_time": "2022-06-07T14:24:49.315Z"
   },
   {
    "duration": 26,
    "start_time": "2022-06-07T14:24:49.459Z"
   },
   {
    "duration": 14,
    "start_time": "2022-06-07T14:24:49.487Z"
   },
   {
    "duration": 205,
    "start_time": "2022-06-07T14:24:49.502Z"
   },
   {
    "duration": 225,
    "start_time": "2022-06-07T14:24:49.709Z"
   },
   {
    "duration": 168,
    "start_time": "2022-06-07T14:24:49.936Z"
   },
   {
    "duration": 73,
    "start_time": "2022-06-07T14:24:50.106Z"
   },
   {
    "duration": 135,
    "start_time": "2022-06-07T14:24:50.181Z"
   },
   {
    "duration": 97,
    "start_time": "2022-06-07T14:24:50.318Z"
   },
   {
    "duration": 244,
    "start_time": "2022-06-07T14:24:50.417Z"
   },
   {
    "duration": 70,
    "start_time": "2022-06-07T14:24:50.663Z"
   },
   {
    "duration": 10,
    "start_time": "2022-06-07T14:24:50.734Z"
   },
   {
    "duration": 30,
    "start_time": "2022-06-07T14:27:25.577Z"
   },
   {
    "duration": 250,
    "start_time": "2022-06-07T14:28:00.891Z"
   },
   {
    "duration": 75,
    "start_time": "2022-06-07T14:28:02.489Z"
   },
   {
    "duration": 396,
    "start_time": "2022-06-07T14:28:10.982Z"
   },
   {
    "duration": 800,
    "start_time": "2022-06-07T14:28:11.380Z"
   },
   {
    "duration": 19,
    "start_time": "2022-06-07T14:28:12.182Z"
   },
   {
    "duration": 138,
    "start_time": "2022-06-07T14:28:12.203Z"
   },
   {
    "duration": 35,
    "start_time": "2022-06-07T14:28:12.342Z"
   },
   {
    "duration": 10,
    "start_time": "2022-06-07T14:28:12.379Z"
   },
   {
    "duration": 205,
    "start_time": "2022-06-07T14:28:12.391Z"
   },
   {
    "duration": 252,
    "start_time": "2022-06-07T14:28:12.598Z"
   },
   {
    "duration": 171,
    "start_time": "2022-06-07T14:28:12.852Z"
   },
   {
    "duration": 89,
    "start_time": "2022-06-07T14:28:13.026Z"
   },
   {
    "duration": 145,
    "start_time": "2022-06-07T14:28:13.116Z"
   },
   {
    "duration": 98,
    "start_time": "2022-06-07T14:28:13.263Z"
   },
   {
    "duration": 258,
    "start_time": "2022-06-07T14:28:13.363Z"
   },
   {
    "duration": 90,
    "start_time": "2022-06-07T14:28:13.623Z"
   },
   {
    "duration": 32,
    "start_time": "2022-06-07T14:28:13.714Z"
   },
   {
    "duration": 39,
    "start_time": "2022-06-07T14:36:26.374Z"
   },
   {
    "duration": 32,
    "start_time": "2022-06-07T14:36:40.891Z"
   },
   {
    "duration": 40,
    "start_time": "2022-06-07T14:37:15.151Z"
   },
   {
    "duration": 203,
    "start_time": "2022-06-07T14:40:22.203Z"
   },
   {
    "duration": 82,
    "start_time": "2022-06-07T14:40:23.080Z"
   },
   {
    "duration": 185,
    "start_time": "2022-06-07T14:40:33.945Z"
   },
   {
    "duration": 74,
    "start_time": "2022-06-07T14:40:35.277Z"
   },
   {
    "duration": 495,
    "start_time": "2022-06-07T14:40:43.275Z"
   },
   {
    "duration": 994,
    "start_time": "2022-06-07T14:40:43.772Z"
   },
   {
    "duration": 31,
    "start_time": "2022-06-07T14:40:44.769Z"
   },
   {
    "duration": 151,
    "start_time": "2022-06-07T14:40:44.802Z"
   },
   {
    "duration": 36,
    "start_time": "2022-06-07T14:40:44.955Z"
   },
   {
    "duration": 20,
    "start_time": "2022-06-07T14:40:44.993Z"
   },
   {
    "duration": 237,
    "start_time": "2022-06-07T14:40:45.015Z"
   },
   {
    "duration": 284,
    "start_time": "2022-06-07T14:40:45.254Z"
   },
   {
    "duration": 212,
    "start_time": "2022-06-07T14:40:45.540Z"
   },
   {
    "duration": 79,
    "start_time": "2022-06-07T14:40:45.758Z"
   },
   {
    "duration": 211,
    "start_time": "2022-06-07T14:40:45.839Z"
   },
   {
    "duration": 108,
    "start_time": "2022-06-07T14:40:46.059Z"
   },
   {
    "duration": 223,
    "start_time": "2022-06-07T14:40:46.169Z"
   },
   {
    "duration": 80,
    "start_time": "2022-06-07T14:40:46.393Z"
   },
   {
    "duration": 13,
    "start_time": "2022-06-07T14:40:46.476Z"
   },
   {
    "duration": 199,
    "start_time": "2022-06-07T14:41:14.844Z"
   },
   {
    "duration": 91,
    "start_time": "2022-06-07T14:41:15.838Z"
   },
   {
    "duration": 451,
    "start_time": "2022-06-07T14:41:22.943Z"
   },
   {
    "duration": 950,
    "start_time": "2022-06-07T14:41:23.396Z"
   },
   {
    "duration": 30,
    "start_time": "2022-06-07T14:41:24.348Z"
   },
   {
    "duration": 158,
    "start_time": "2022-06-07T14:41:24.381Z"
   },
   {
    "duration": 35,
    "start_time": "2022-06-07T14:41:24.541Z"
   },
   {
    "duration": 12,
    "start_time": "2022-06-07T14:41:24.578Z"
   },
   {
    "duration": 214,
    "start_time": "2022-06-07T14:41:24.592Z"
   },
   {
    "duration": 317,
    "start_time": "2022-06-07T14:41:24.807Z"
   },
   {
    "duration": 186,
    "start_time": "2022-06-07T14:41:25.126Z"
   },
   {
    "duration": 96,
    "start_time": "2022-06-07T14:41:25.314Z"
   },
   {
    "duration": 153,
    "start_time": "2022-06-07T14:41:25.412Z"
   },
   {
    "duration": 109,
    "start_time": "2022-06-07T14:41:25.567Z"
   },
   {
    "duration": 221,
    "start_time": "2022-06-07T14:41:25.679Z"
   },
   {
    "duration": 89,
    "start_time": "2022-06-07T14:41:25.903Z"
   },
   {
    "duration": 10,
    "start_time": "2022-06-07T14:41:25.994Z"
   },
   {
    "duration": 203,
    "start_time": "2022-06-07T14:41:39.554Z"
   },
   {
    "duration": 94,
    "start_time": "2022-06-07T14:41:40.643Z"
   },
   {
    "duration": 469,
    "start_time": "2022-06-07T14:41:46.460Z"
   },
   {
    "duration": 940,
    "start_time": "2022-06-07T14:41:46.931Z"
   },
   {
    "duration": 23,
    "start_time": "2022-06-07T14:41:47.874Z"
   },
   {
    "duration": 160,
    "start_time": "2022-06-07T14:41:47.899Z"
   },
   {
    "duration": 30,
    "start_time": "2022-06-07T14:41:48.062Z"
   },
   {
    "duration": 21,
    "start_time": "2022-06-07T14:41:48.094Z"
   },
   {
    "duration": 208,
    "start_time": "2022-06-07T14:41:48.116Z"
   },
   {
    "duration": 261,
    "start_time": "2022-06-07T14:41:48.326Z"
   },
   {
    "duration": 219,
    "start_time": "2022-06-07T14:41:48.589Z"
   },
   {
    "duration": 88,
    "start_time": "2022-06-07T14:41:48.811Z"
   },
   {
    "duration": 171,
    "start_time": "2022-06-07T14:41:48.900Z"
   },
   {
    "duration": 124,
    "start_time": "2022-06-07T14:41:49.073Z"
   },
   {
    "duration": 201,
    "start_time": "2022-06-07T14:41:49.199Z"
   },
   {
    "duration": 78,
    "start_time": "2022-06-07T14:41:49.401Z"
   },
   {
    "duration": 10,
    "start_time": "2022-06-07T14:41:49.482Z"
   },
   {
    "duration": 424,
    "start_time": "2022-06-07T14:42:13.280Z"
   },
   {
    "duration": 858,
    "start_time": "2022-06-07T14:42:13.705Z"
   },
   {
    "duration": 25,
    "start_time": "2022-06-07T14:42:14.565Z"
   },
   {
    "duration": 140,
    "start_time": "2022-06-07T14:42:14.591Z"
   },
   {
    "duration": 34,
    "start_time": "2022-06-07T14:42:14.734Z"
   },
   {
    "duration": 12,
    "start_time": "2022-06-07T14:42:14.770Z"
   },
   {
    "duration": 220,
    "start_time": "2022-06-07T14:42:14.783Z"
   },
   {
    "duration": 288,
    "start_time": "2022-06-07T14:42:15.005Z"
   },
   {
    "duration": 196,
    "start_time": "2022-06-07T14:42:15.294Z"
   },
   {
    "duration": 80,
    "start_time": "2022-06-07T14:42:15.492Z"
   },
   {
    "duration": 169,
    "start_time": "2022-06-07T14:42:15.575Z"
   },
   {
    "duration": 103,
    "start_time": "2022-06-07T14:42:15.746Z"
   },
   {
    "duration": 181,
    "start_time": "2022-06-07T14:42:15.851Z"
   },
   {
    "duration": 83,
    "start_time": "2022-06-07T14:42:16.035Z"
   },
   {
    "duration": 12,
    "start_time": "2022-06-07T14:42:16.120Z"
   },
   {
    "duration": 161,
    "start_time": "2022-06-07T14:43:50.706Z"
   },
   {
    "duration": 72,
    "start_time": "2022-06-07T14:43:51.678Z"
   },
   {
    "duration": 11,
    "start_time": "2022-06-07T14:43:56.650Z"
   },
   {
    "duration": 72,
    "start_time": "2022-06-07T14:48:13.992Z"
   },
   {
    "duration": 444,
    "start_time": "2022-06-07T14:58:57.074Z"
   },
   {
    "duration": 48,
    "start_time": "2022-06-07T14:59:13.085Z"
   },
   {
    "duration": 32,
    "start_time": "2022-06-07T15:00:18.970Z"
   },
   {
    "duration": 11,
    "start_time": "2022-06-07T15:06:49.697Z"
   },
   {
    "duration": 33,
    "start_time": "2022-06-07T15:08:33.813Z"
   },
   {
    "duration": 51,
    "start_time": "2022-06-07T15:08:39.671Z"
   },
   {
    "duration": 11,
    "start_time": "2022-06-07T15:08:55.873Z"
   },
   {
    "duration": 51,
    "start_time": "2022-06-07T15:09:19.589Z"
   },
   {
    "duration": 18,
    "start_time": "2022-06-07T15:09:49.790Z"
   },
   {
    "duration": 19,
    "start_time": "2022-06-07T15:10:04.071Z"
   },
   {
    "duration": 17,
    "start_time": "2022-06-07T15:10:15.554Z"
   },
   {
    "duration": 21,
    "start_time": "2022-06-07T15:10:42.277Z"
   },
   {
    "duration": 28,
    "start_time": "2022-06-07T15:10:51.208Z"
   },
   {
    "duration": 8,
    "start_time": "2022-06-07T15:12:19.028Z"
   },
   {
    "duration": 7,
    "start_time": "2022-06-07T15:13:25.391Z"
   },
   {
    "duration": 518,
    "start_time": "2022-06-07T15:17:07.056Z"
   },
   {
    "duration": 856,
    "start_time": "2022-06-07T15:17:07.820Z"
   },
   {
    "duration": 19,
    "start_time": "2022-06-07T15:17:09.615Z"
   },
   {
    "duration": 204,
    "start_time": "2022-06-07T15:17:12.981Z"
   },
   {
    "duration": 25,
    "start_time": "2022-06-07T15:17:22.458Z"
   },
   {
    "duration": 11,
    "start_time": "2022-06-07T15:17:23.851Z"
   },
   {
    "duration": 184,
    "start_time": "2022-06-07T15:17:27.825Z"
   },
   {
    "duration": 231,
    "start_time": "2022-06-07T15:17:29.151Z"
   },
   {
    "duration": 184,
    "start_time": "2022-06-07T15:17:30.568Z"
   },
   {
    "duration": 68,
    "start_time": "2022-06-07T15:17:32.551Z"
   },
   {
    "duration": 176,
    "start_time": "2022-06-07T15:17:37.312Z"
   },
   {
    "duration": 97,
    "start_time": "2022-06-07T15:17:41.946Z"
   },
   {
    "duration": 1927,
    "start_time": "2022-06-07T15:17:44.793Z"
   },
   {
    "duration": 66,
    "start_time": "2022-06-07T15:17:47.858Z"
   },
   {
    "duration": 11,
    "start_time": "2022-06-07T15:18:32.250Z"
   },
   {
    "duration": 443,
    "start_time": "2022-06-07T15:19:20.657Z"
   },
   {
    "duration": 858,
    "start_time": "2022-06-07T15:19:21.102Z"
   },
   {
    "duration": 27,
    "start_time": "2022-06-07T15:19:21.962Z"
   },
   {
    "duration": 147,
    "start_time": "2022-06-07T15:19:21.991Z"
   },
   {
    "duration": 38,
    "start_time": "2022-06-07T15:19:22.140Z"
   },
   {
    "duration": 16,
    "start_time": "2022-06-07T15:19:22.180Z"
   },
   {
    "duration": 206,
    "start_time": "2022-06-07T15:19:22.198Z"
   },
   {
    "duration": 280,
    "start_time": "2022-06-07T15:19:22.406Z"
   },
   {
    "duration": 202,
    "start_time": "2022-06-07T15:19:22.688Z"
   },
   {
    "duration": 82,
    "start_time": "2022-06-07T15:19:22.892Z"
   },
   {
    "duration": 172,
    "start_time": "2022-06-07T15:19:22.976Z"
   },
   {
    "duration": 93,
    "start_time": "2022-06-07T15:19:23.149Z"
   },
   {
    "duration": 1933,
    "start_time": "2022-06-07T15:19:23.244Z"
   },
   {
    "duration": 79,
    "start_time": "2022-06-07T15:19:25.180Z"
   },
   {
    "duration": 10,
    "start_time": "2022-06-07T15:19:25.261Z"
   },
   {
    "duration": 436,
    "start_time": "2022-06-07T15:19:25.273Z"
   },
   {
    "duration": 21,
    "start_time": "2022-06-07T15:19:25.711Z"
   },
   {
    "duration": 9,
    "start_time": "2022-06-07T15:19:25.733Z"
   },
   {
    "duration": 146,
    "start_time": "2022-06-07T15:19:25.759Z"
   },
   {
    "duration": 83,
    "start_time": "2022-06-07T15:19:25.906Z"
   },
   {
    "duration": 1972,
    "start_time": "2022-06-07T15:19:53.341Z"
   },
   {
    "duration": 446,
    "start_time": "2022-06-07T15:20:06.080Z"
   },
   {
    "duration": 828,
    "start_time": "2022-06-07T15:20:06.528Z"
   },
   {
    "duration": 25,
    "start_time": "2022-06-07T15:20:07.360Z"
   },
   {
    "duration": 181,
    "start_time": "2022-06-07T15:20:07.388Z"
   },
   {
    "duration": 27,
    "start_time": "2022-06-07T15:20:07.571Z"
   },
   {
    "duration": 23,
    "start_time": "2022-06-07T15:20:07.600Z"
   },
   {
    "duration": 200,
    "start_time": "2022-06-07T15:20:07.624Z"
   },
   {
    "duration": 259,
    "start_time": "2022-06-07T15:20:07.825Z"
   },
   {
    "duration": 197,
    "start_time": "2022-06-07T15:20:08.085Z"
   },
   {
    "duration": 103,
    "start_time": "2022-06-07T15:20:08.285Z"
   },
   {
    "duration": 157,
    "start_time": "2022-06-07T15:20:08.390Z"
   },
   {
    "duration": 115,
    "start_time": "2022-06-07T15:20:08.550Z"
   },
   {
    "duration": 2129,
    "start_time": "2022-06-07T15:20:08.666Z"
   },
   {
    "duration": 86,
    "start_time": "2022-06-07T15:20:10.797Z"
   },
   {
    "duration": 10,
    "start_time": "2022-06-07T15:20:10.885Z"
   },
   {
    "duration": 491,
    "start_time": "2022-06-07T15:20:10.897Z"
   },
   {
    "duration": 20,
    "start_time": "2022-06-07T15:20:11.389Z"
   },
   {
    "duration": 9,
    "start_time": "2022-06-07T15:20:11.411Z"
   },
   {
    "duration": 169,
    "start_time": "2022-06-07T15:20:11.422Z"
   },
   {
    "duration": 80,
    "start_time": "2022-06-07T15:20:11.592Z"
   },
   {
    "duration": 29,
    "start_time": "2022-06-07T15:21:32.282Z"
   },
   {
    "duration": 480,
    "start_time": "2022-06-07T15:21:50.639Z"
   },
   {
    "duration": 909,
    "start_time": "2022-06-07T15:21:52.355Z"
   },
   {
    "duration": 18,
    "start_time": "2022-06-07T15:21:54.191Z"
   },
   {
    "duration": 150,
    "start_time": "2022-06-07T15:21:56.750Z"
   },
   {
    "duration": 25,
    "start_time": "2022-06-07T15:22:19.887Z"
   },
   {
    "duration": 11,
    "start_time": "2022-06-07T15:22:20.947Z"
   },
   {
    "duration": 211,
    "start_time": "2022-06-07T15:22:22.872Z"
   },
   {
    "duration": 256,
    "start_time": "2022-06-07T15:22:24.295Z"
   },
   {
    "duration": 179,
    "start_time": "2022-06-07T15:22:25.490Z"
   },
   {
    "duration": 101,
    "start_time": "2022-06-07T15:22:27.309Z"
   },
   {
    "duration": 178,
    "start_time": "2022-06-07T15:22:30.363Z"
   },
   {
    "duration": 98,
    "start_time": "2022-06-07T15:22:32.596Z"
   },
   {
    "duration": 227,
    "start_time": "2022-06-07T15:22:36.164Z"
   },
   {
    "duration": 69,
    "start_time": "2022-06-07T15:22:37.747Z"
   },
   {
    "duration": 12,
    "start_time": "2022-06-07T15:22:39.040Z"
   },
   {
    "duration": 404,
    "start_time": "2022-06-07T15:24:10.694Z"
   },
   {
    "duration": 822,
    "start_time": "2022-06-07T15:24:12.017Z"
   },
   {
    "duration": 25,
    "start_time": "2022-06-07T15:24:13.756Z"
   },
   {
    "duration": 126,
    "start_time": "2022-06-07T15:24:15.002Z"
   },
   {
    "duration": 25,
    "start_time": "2022-06-07T15:24:20.741Z"
   },
   {
    "duration": 12,
    "start_time": "2022-06-07T15:24:22.052Z"
   },
   {
    "duration": 192,
    "start_time": "2022-06-07T15:24:25.458Z"
   },
   {
    "duration": 243,
    "start_time": "2022-06-07T15:24:26.821Z"
   },
   {
    "duration": 181,
    "start_time": "2022-06-07T15:24:27.956Z"
   },
   {
    "duration": 68,
    "start_time": "2022-06-07T15:24:29.497Z"
   },
   {
    "duration": 146,
    "start_time": "2022-06-07T15:24:32.396Z"
   },
   {
    "duration": 103,
    "start_time": "2022-06-07T15:24:34.508Z"
   },
   {
    "duration": 157,
    "start_time": "2022-06-07T15:25:04.343Z"
   },
   {
    "duration": 69,
    "start_time": "2022-06-07T15:25:06.191Z"
   },
   {
    "duration": 76,
    "start_time": "2022-06-07T15:25:26.833Z"
   },
   {
    "duration": 75,
    "start_time": "2022-06-07T15:25:42.653Z"
   },
   {
    "duration": 8,
    "start_time": "2022-06-07T15:25:50.005Z"
   },
   {
    "duration": 20,
    "start_time": "2022-06-07T15:44:29.296Z"
   },
   {
    "duration": 329,
    "start_time": "2022-06-07T15:44:40.109Z"
   },
   {
    "duration": 38,
    "start_time": "2022-06-07T15:44:51.554Z"
   },
   {
    "duration": 29,
    "start_time": "2022-06-07T15:46:29.725Z"
   },
   {
    "duration": 25,
    "start_time": "2022-06-07T15:46:35.273Z"
   },
   {
    "duration": 22,
    "start_time": "2022-06-07T15:47:05.708Z"
   },
   {
    "duration": 23,
    "start_time": "2022-06-07T15:47:12.729Z"
   },
   {
    "duration": 23,
    "start_time": "2022-06-07T15:47:17.796Z"
   },
   {
    "duration": 23,
    "start_time": "2022-06-07T15:47:50.298Z"
   },
   {
    "duration": 37,
    "start_time": "2022-06-07T15:47:57.796Z"
   },
   {
    "duration": 49,
    "start_time": "2022-06-07T15:48:10.908Z"
   },
   {
    "duration": 40,
    "start_time": "2022-06-07T15:48:46.057Z"
   },
   {
    "duration": 429,
    "start_time": "2022-06-09T13:13:57.597Z"
   },
   {
    "duration": 1153,
    "start_time": "2022-06-09T13:13:58.028Z"
   },
   {
    "duration": 21,
    "start_time": "2022-06-09T13:13:59.183Z"
   },
   {
    "duration": 241,
    "start_time": "2022-06-09T13:13:59.207Z"
   },
   {
    "duration": 35,
    "start_time": "2022-06-09T13:13:59.451Z"
   },
   {
    "duration": 18,
    "start_time": "2022-06-09T13:13:59.489Z"
   },
   {
    "duration": 236,
    "start_time": "2022-06-09T13:13:59.522Z"
   },
   {
    "duration": 311,
    "start_time": "2022-06-09T13:13:59.760Z"
   },
   {
    "duration": 210,
    "start_time": "2022-06-09T13:14:00.073Z"
   },
   {
    "duration": 103,
    "start_time": "2022-06-09T13:14:00.285Z"
   },
   {
    "duration": 176,
    "start_time": "2022-06-09T13:14:00.390Z"
   },
   {
    "duration": 107,
    "start_time": "2022-06-09T13:14:00.568Z"
   },
   {
    "duration": 207,
    "start_time": "2022-06-09T13:14:00.677Z"
   },
   {
    "duration": 112,
    "start_time": "2022-06-09T13:14:00.887Z"
   },
   {
    "duration": 28,
    "start_time": "2022-06-09T13:14:01.001Z"
   },
   {
    "duration": 110,
    "start_time": "2022-06-09T13:14:01.031Z"
   },
   {
    "duration": 447,
    "start_time": "2022-06-09T13:29:00.918Z"
   },
   {
    "duration": 923,
    "start_time": "2022-06-09T13:29:01.367Z"
   },
   {
    "duration": 41,
    "start_time": "2022-06-09T13:29:02.292Z"
   },
   {
    "duration": 196,
    "start_time": "2022-06-09T13:29:02.337Z"
   },
   {
    "duration": 37,
    "start_time": "2022-06-09T13:29:02.536Z"
   },
   {
    "duration": 30,
    "start_time": "2022-06-09T13:29:02.575Z"
   },
   {
    "duration": 323,
    "start_time": "2022-06-09T13:29:02.607Z"
   },
   {
    "duration": 296,
    "start_time": "2022-06-09T13:29:02.932Z"
   },
   {
    "duration": 239,
    "start_time": "2022-06-09T13:29:03.230Z"
   },
   {
    "duration": 82,
    "start_time": "2022-06-09T13:29:03.472Z"
   },
   {
    "duration": 245,
    "start_time": "2022-06-09T13:29:03.556Z"
   },
   {
    "duration": 131,
    "start_time": "2022-06-09T13:29:03.803Z"
   },
   {
    "duration": 227,
    "start_time": "2022-06-09T13:29:03.937Z"
   },
   {
    "duration": 138,
    "start_time": "2022-06-09T13:29:04.167Z"
   },
   {
    "duration": 31,
    "start_time": "2022-06-09T13:29:04.307Z"
   },
   {
    "duration": 115,
    "start_time": "2022-06-09T13:29:04.340Z"
   },
   {
    "duration": 927,
    "start_time": "2022-06-09T13:30:52.546Z"
   },
   {
    "duration": 437,
    "start_time": "2022-06-09T13:32:32.515Z"
   },
   {
    "duration": 840,
    "start_time": "2022-06-09T13:32:32.955Z"
   },
   {
    "duration": 28,
    "start_time": "2022-06-09T13:32:33.796Z"
   },
   {
    "duration": 168,
    "start_time": "2022-06-09T13:32:33.825Z"
   },
   {
    "duration": 37,
    "start_time": "2022-06-09T13:32:33.995Z"
   },
   {
    "duration": 13,
    "start_time": "2022-06-09T13:32:34.035Z"
   },
   {
    "duration": 216,
    "start_time": "2022-06-09T13:32:34.050Z"
   },
   {
    "duration": 260,
    "start_time": "2022-06-09T13:32:34.268Z"
   },
   {
    "duration": 178,
    "start_time": "2022-06-09T13:32:34.530Z"
   },
   {
    "duration": 85,
    "start_time": "2022-06-09T13:32:34.710Z"
   },
   {
    "duration": 658,
    "start_time": "2022-06-09T13:32:34.796Z"
   },
   {
    "duration": 162,
    "start_time": "2022-06-09T13:32:35.456Z"
   },
   {
    "duration": 119,
    "start_time": "2022-06-09T13:32:35.622Z"
   },
   {
    "duration": 197,
    "start_time": "2022-06-09T13:32:35.743Z"
   },
   {
    "duration": 95,
    "start_time": "2022-06-09T13:32:35.941Z"
   },
   {
    "duration": 14,
    "start_time": "2022-06-09T13:32:36.038Z"
   },
   {
    "duration": 83,
    "start_time": "2022-06-09T13:32:36.054Z"
   },
   {
    "duration": 441,
    "start_time": "2022-06-09T13:32:36.139Z"
   },
   {
    "duration": 441,
    "start_time": "2022-06-09T13:33:21.195Z"
   },
   {
    "duration": 855,
    "start_time": "2022-06-09T13:33:21.638Z"
   },
   {
    "duration": 19,
    "start_time": "2022-06-09T13:33:22.495Z"
   },
   {
    "duration": 189,
    "start_time": "2022-06-09T13:33:22.515Z"
   },
   {
    "duration": 46,
    "start_time": "2022-06-09T13:33:22.707Z"
   },
   {
    "duration": 38,
    "start_time": "2022-06-09T13:33:22.754Z"
   },
   {
    "duration": 217,
    "start_time": "2022-06-09T13:33:22.794Z"
   },
   {
    "duration": 262,
    "start_time": "2022-06-09T13:33:23.013Z"
   },
   {
    "duration": 187,
    "start_time": "2022-06-09T13:33:23.276Z"
   },
   {
    "duration": 81,
    "start_time": "2022-06-09T13:33:23.465Z"
   },
   {
    "duration": 24,
    "start_time": "2022-06-09T13:33:23.547Z"
   },
   {
    "duration": 158,
    "start_time": "2022-06-09T13:33:23.573Z"
   },
   {
    "duration": 109,
    "start_time": "2022-06-09T13:33:23.732Z"
   },
   {
    "duration": 165,
    "start_time": "2022-06-09T13:33:23.843Z"
   },
   {
    "duration": 77,
    "start_time": "2022-06-09T13:33:24.010Z"
   },
   {
    "duration": 21,
    "start_time": "2022-06-09T13:33:24.088Z"
   },
   {
    "duration": 87,
    "start_time": "2022-06-09T13:33:24.111Z"
   },
   {
    "duration": 686,
    "start_time": "2022-06-09T13:33:24.200Z"
   },
   {
    "duration": 158,
    "start_time": "2022-06-09T13:44:37.714Z"
   },
   {
    "duration": 83,
    "start_time": "2022-06-09T13:44:39.252Z"
   },
   {
    "duration": 11,
    "start_time": "2022-06-09T13:44:43.314Z"
   },
   {
    "duration": 73,
    "start_time": "2022-06-09T13:44:48.156Z"
   },
   {
    "duration": 444,
    "start_time": "2022-06-09T14:07:22.460Z"
   },
   {
    "duration": 889,
    "start_time": "2022-06-09T14:07:22.907Z"
   },
   {
    "duration": 31,
    "start_time": "2022-06-09T14:07:23.798Z"
   },
   {
    "duration": 141,
    "start_time": "2022-06-09T14:07:23.832Z"
   },
   {
    "duration": 26,
    "start_time": "2022-06-09T14:07:23.976Z"
   },
   {
    "duration": 27,
    "start_time": "2022-06-09T14:07:24.004Z"
   },
   {
    "duration": 237,
    "start_time": "2022-06-09T14:07:24.033Z"
   },
   {
    "duration": 276,
    "start_time": "2022-06-09T14:07:24.271Z"
   },
   {
    "duration": 191,
    "start_time": "2022-06-09T14:07:24.549Z"
   },
   {
    "duration": 89,
    "start_time": "2022-06-09T14:07:24.741Z"
   },
   {
    "duration": 0,
    "start_time": "2022-06-09T14:07:24.833Z"
   },
   {
    "duration": 0,
    "start_time": "2022-06-09T14:07:24.834Z"
   },
   {
    "duration": 0,
    "start_time": "2022-06-09T14:07:24.838Z"
   },
   {
    "duration": 0,
    "start_time": "2022-06-09T14:07:24.840Z"
   },
   {
    "duration": 0,
    "start_time": "2022-06-09T14:07:24.841Z"
   },
   {
    "duration": 0,
    "start_time": "2022-06-09T14:07:24.842Z"
   },
   {
    "duration": 0,
    "start_time": "2022-06-09T14:07:24.843Z"
   },
   {
    "duration": 21,
    "start_time": "2022-06-09T14:07:44.706Z"
   },
   {
    "duration": 20,
    "start_time": "2022-06-09T14:08:02.145Z"
   },
   {
    "duration": 34,
    "start_time": "2022-06-09T14:08:30.253Z"
   },
   {
    "duration": 23,
    "start_time": "2022-06-09T14:09:12.141Z"
   },
   {
    "duration": 364,
    "start_time": "2022-06-09T14:09:50.673Z"
   },
   {
    "duration": 862,
    "start_time": "2022-06-09T14:09:51.039Z"
   },
   {
    "duration": 25,
    "start_time": "2022-06-09T14:09:51.903Z"
   },
   {
    "duration": 154,
    "start_time": "2022-06-09T14:09:51.929Z"
   },
   {
    "duration": 39,
    "start_time": "2022-06-09T14:09:52.085Z"
   },
   {
    "duration": 12,
    "start_time": "2022-06-09T14:09:52.126Z"
   },
   {
    "duration": 235,
    "start_time": "2022-06-09T14:09:52.140Z"
   },
   {
    "duration": 307,
    "start_time": "2022-06-09T14:09:52.377Z"
   },
   {
    "duration": 218,
    "start_time": "2022-06-09T14:09:52.686Z"
   },
   {
    "duration": 81,
    "start_time": "2022-06-09T14:09:52.905Z"
   },
   {
    "duration": 179,
    "start_time": "2022-06-09T14:09:52.988Z"
   },
   {
    "duration": 112,
    "start_time": "2022-06-09T14:09:53.169Z"
   },
   {
    "duration": 164,
    "start_time": "2022-06-09T14:09:53.283Z"
   },
   {
    "duration": 76,
    "start_time": "2022-06-09T14:09:53.451Z"
   },
   {
    "duration": 13,
    "start_time": "2022-06-09T14:09:53.529Z"
   },
   {
    "duration": 89,
    "start_time": "2022-06-09T14:09:53.544Z"
   },
   {
    "duration": 65,
    "start_time": "2022-06-09T14:10:46.011Z"
   },
   {
    "duration": 50,
    "start_time": "2022-06-09T14:13:29.369Z"
   },
   {
    "duration": 42,
    "start_time": "2022-06-09T14:13:37.292Z"
   },
   {
    "duration": 37,
    "start_time": "2022-06-09T14:14:12.712Z"
   },
   {
    "duration": 30,
    "start_time": "2022-06-09T14:14:28.896Z"
   },
   {
    "duration": 29,
    "start_time": "2022-06-09T14:14:39.935Z"
   },
   {
    "duration": 405,
    "start_time": "2022-06-09T14:14:48.824Z"
   },
   {
    "duration": 868,
    "start_time": "2022-06-09T14:14:49.231Z"
   },
   {
    "duration": 28,
    "start_time": "2022-06-09T14:14:50.100Z"
   },
   {
    "duration": 147,
    "start_time": "2022-06-09T14:14:50.131Z"
   },
   {
    "duration": 28,
    "start_time": "2022-06-09T14:14:50.281Z"
   },
   {
    "duration": 28,
    "start_time": "2022-06-09T14:14:50.310Z"
   },
   {
    "duration": 221,
    "start_time": "2022-06-09T14:14:50.340Z"
   },
   {
    "duration": 283,
    "start_time": "2022-06-09T14:14:50.563Z"
   },
   {
    "duration": 199,
    "start_time": "2022-06-09T14:14:50.848Z"
   },
   {
    "duration": 89,
    "start_time": "2022-06-09T14:14:51.050Z"
   },
   {
    "duration": 176,
    "start_time": "2022-06-09T14:14:51.141Z"
   },
   {
    "duration": 102,
    "start_time": "2022-06-09T14:14:51.323Z"
   },
   {
    "duration": 175,
    "start_time": "2022-06-09T14:14:51.426Z"
   },
   {
    "duration": 87,
    "start_time": "2022-06-09T14:14:51.604Z"
   },
   {
    "duration": 13,
    "start_time": "2022-06-09T14:14:51.693Z"
   },
   {
    "duration": 85,
    "start_time": "2022-06-09T14:14:51.708Z"
   },
   {
    "duration": 42,
    "start_time": "2022-06-09T14:14:51.794Z"
   },
   {
    "duration": 42,
    "start_time": "2022-06-09T14:16:42.190Z"
   },
   {
    "duration": 78,
    "start_time": "2022-06-09T14:19:28.128Z"
   },
   {
    "duration": 7,
    "start_time": "2022-06-09T14:22:56.379Z"
   },
   {
    "duration": 9,
    "start_time": "2022-06-09T14:23:27.008Z"
   },
   {
    "duration": 7,
    "start_time": "2022-06-09T14:23:41.300Z"
   },
   {
    "duration": 8,
    "start_time": "2022-06-09T14:24:05.665Z"
   },
   {
    "duration": 5,
    "start_time": "2022-06-09T14:24:16.381Z"
   },
   {
    "duration": 2,
    "start_time": "2022-06-09T14:25:06.872Z"
   },
   {
    "duration": 9,
    "start_time": "2022-06-09T14:25:34.215Z"
   },
   {
    "duration": 233,
    "start_time": "2022-06-09T14:28:29.908Z"
   },
   {
    "duration": 14,
    "start_time": "2022-06-09T14:28:36.258Z"
   },
   {
    "duration": 151,
    "start_time": "2022-06-09T14:29:15.257Z"
   },
   {
    "duration": 132,
    "start_time": "2022-06-09T14:29:34.526Z"
   },
   {
    "duration": 128,
    "start_time": "2022-06-09T14:31:32.425Z"
   },
   {
    "duration": 14,
    "start_time": "2022-06-09T14:32:12.555Z"
   },
   {
    "duration": 137,
    "start_time": "2022-06-09T14:32:29.907Z"
   },
   {
    "duration": 137,
    "start_time": "2022-06-09T14:42:23.968Z"
   },
   {
    "duration": 497,
    "start_time": "2022-06-09T14:43:14.128Z"
   },
   {
    "duration": 317,
    "start_time": "2022-06-09T14:43:30.257Z"
   },
   {
    "duration": 316,
    "start_time": "2022-06-09T14:43:43.746Z"
   },
   {
    "duration": 320,
    "start_time": "2022-06-09T14:44:00.628Z"
   },
   {
    "duration": 302,
    "start_time": "2022-06-09T14:44:55.011Z"
   },
   {
    "duration": 13,
    "start_time": "2022-06-09T14:59:02.846Z"
   },
   {
    "duration": 845,
    "start_time": "2022-06-10T12:32:03.575Z"
   },
   {
    "duration": 1203,
    "start_time": "2022-06-10T12:32:04.422Z"
   },
   {
    "duration": 20,
    "start_time": "2022-06-10T12:32:05.627Z"
   },
   {
    "duration": 146,
    "start_time": "2022-06-10T12:32:05.650Z"
   },
   {
    "duration": 28,
    "start_time": "2022-06-10T12:32:05.801Z"
   },
   {
    "duration": 14,
    "start_time": "2022-06-10T12:32:05.831Z"
   },
   {
    "duration": 219,
    "start_time": "2022-06-10T12:32:05.847Z"
   },
   {
    "duration": 273,
    "start_time": "2022-06-10T12:32:06.068Z"
   },
   {
    "duration": 193,
    "start_time": "2022-06-10T12:32:06.343Z"
   },
   {
    "duration": 92,
    "start_time": "2022-06-10T12:32:06.539Z"
   },
   {
    "duration": 191,
    "start_time": "2022-06-10T12:32:06.632Z"
   },
   {
    "duration": 104,
    "start_time": "2022-06-10T12:32:06.824Z"
   },
   {
    "duration": 186,
    "start_time": "2022-06-10T12:32:06.929Z"
   },
   {
    "duration": 79,
    "start_time": "2022-06-10T12:32:07.117Z"
   },
   {
    "duration": 16,
    "start_time": "2022-06-10T12:32:07.197Z"
   },
   {
    "duration": 71,
    "start_time": "2022-06-10T12:32:07.215Z"
   },
   {
    "duration": 43,
    "start_time": "2022-06-10T12:32:07.296Z"
   },
   {
    "duration": 8,
    "start_time": "2022-06-10T12:32:07.341Z"
   },
   {
    "duration": 365,
    "start_time": "2022-06-10T12:32:07.351Z"
   },
   {
    "duration": 9,
    "start_time": "2022-06-10T12:32:07.718Z"
   },
   {
    "duration": 20,
    "start_time": "2022-06-10T12:32:52.723Z"
   },
   {
    "duration": 327,
    "start_time": "2022-06-10T13:18:57.951Z"
   },
   {
    "duration": 326,
    "start_time": "2022-06-10T13:20:59.836Z"
   },
   {
    "duration": 27,
    "start_time": "2022-06-10T13:27:44.573Z"
   },
   {
    "duration": 828,
    "start_time": "2022-06-16T12:14:51.079Z"
   },
   {
    "duration": 1680,
    "start_time": "2022-06-16T12:14:51.911Z"
   },
   {
    "duration": 51,
    "start_time": "2022-06-16T12:14:53.597Z"
   },
   {
    "duration": 219,
    "start_time": "2022-06-16T12:14:53.651Z"
   },
   {
    "duration": 37,
    "start_time": "2022-06-16T12:14:53.872Z"
   },
   {
    "duration": 37,
    "start_time": "2022-06-16T12:14:53.912Z"
   },
   {
    "duration": 240,
    "start_time": "2022-06-16T12:14:53.950Z"
   },
   {
    "duration": 417,
    "start_time": "2022-06-16T12:14:54.192Z"
   },
   {
    "duration": 258,
    "start_time": "2022-06-16T12:14:54.612Z"
   },
   {
    "duration": 86,
    "start_time": "2022-06-16T12:14:54.873Z"
   },
   {
    "duration": 196,
    "start_time": "2022-06-16T12:14:54.960Z"
   },
   {
    "duration": 120,
    "start_time": "2022-06-16T12:14:55.157Z"
   },
   {
    "duration": 203,
    "start_time": "2022-06-16T12:14:55.279Z"
   },
   {
    "duration": 86,
    "start_time": "2022-06-16T12:14:55.484Z"
   },
   {
    "duration": 25,
    "start_time": "2022-06-16T12:14:55.571Z"
   },
   {
    "duration": 101,
    "start_time": "2022-06-16T12:14:55.597Z"
   },
   {
    "duration": 44,
    "start_time": "2022-06-16T12:14:55.700Z"
   },
   {
    "duration": 7,
    "start_time": "2022-06-16T12:14:55.745Z"
   },
   {
    "duration": 21,
    "start_time": "2022-06-16T12:14:55.753Z"
   },
   {
    "duration": 405,
    "start_time": "2022-06-16T12:14:55.775Z"
   },
   {
    "duration": 835,
    "start_time": "2022-06-16T12:16:09.123Z"
   },
   {
    "duration": 1012,
    "start_time": "2022-06-16T12:16:09.960Z"
   },
   {
    "duration": 18,
    "start_time": "2022-06-16T12:16:10.974Z"
   },
   {
    "duration": 153,
    "start_time": "2022-06-16T12:16:10.994Z"
   },
   {
    "duration": 39,
    "start_time": "2022-06-16T12:16:11.150Z"
   },
   {
    "duration": 21,
    "start_time": "2022-06-16T12:16:11.193Z"
   },
   {
    "duration": 255,
    "start_time": "2022-06-16T12:16:11.227Z"
   },
   {
    "duration": 467,
    "start_time": "2022-06-16T12:16:11.485Z"
   },
   {
    "duration": 242,
    "start_time": "2022-06-16T12:16:11.954Z"
   },
   {
    "duration": 111,
    "start_time": "2022-06-16T12:16:12.198Z"
   },
   {
    "duration": 191,
    "start_time": "2022-06-16T12:16:12.310Z"
   },
   {
    "duration": 125,
    "start_time": "2022-06-16T12:16:12.502Z"
   },
   {
    "duration": 182,
    "start_time": "2022-06-16T12:16:12.633Z"
   },
   {
    "duration": 106,
    "start_time": "2022-06-16T12:16:12.829Z"
   },
   {
    "duration": 12,
    "start_time": "2022-06-16T12:16:12.942Z"
   },
   {
    "duration": 97,
    "start_time": "2022-06-16T12:16:12.956Z"
   },
   {
    "duration": 33,
    "start_time": "2022-06-16T12:16:13.056Z"
   },
   {
    "duration": 7,
    "start_time": "2022-06-16T12:16:13.091Z"
   },
   {
    "duration": 430,
    "start_time": "2022-06-16T12:16:13.100Z"
   },
   {
    "duration": 886,
    "start_time": "2022-06-16T12:17:02.602Z"
   },
   {
    "duration": 1056,
    "start_time": "2022-06-16T12:17:03.490Z"
   },
   {
    "duration": 26,
    "start_time": "2022-06-16T12:17:04.551Z"
   },
   {
    "duration": 214,
    "start_time": "2022-06-16T12:17:04.579Z"
   },
   {
    "duration": 68,
    "start_time": "2022-06-16T12:17:04.796Z"
   },
   {
    "duration": 15,
    "start_time": "2022-06-16T12:17:04.867Z"
   },
   {
    "duration": 311,
    "start_time": "2022-06-16T12:17:04.884Z"
   },
   {
    "duration": 374,
    "start_time": "2022-06-16T12:17:05.197Z"
   },
   {
    "duration": 222,
    "start_time": "2022-06-16T12:17:05.572Z"
   },
   {
    "duration": 113,
    "start_time": "2022-06-16T12:17:05.797Z"
   },
   {
    "duration": 198,
    "start_time": "2022-06-16T12:17:05.912Z"
   },
   {
    "duration": 143,
    "start_time": "2022-06-16T12:17:06.112Z"
   },
   {
    "duration": 208,
    "start_time": "2022-06-16T12:17:06.256Z"
   },
   {
    "duration": 95,
    "start_time": "2022-06-16T12:17:06.466Z"
   },
   {
    "duration": 20,
    "start_time": "2022-06-16T12:17:06.562Z"
   },
   {
    "duration": 87,
    "start_time": "2022-06-16T12:17:06.583Z"
   },
   {
    "duration": 71,
    "start_time": "2022-06-16T12:17:06.672Z"
   },
   {
    "duration": 8,
    "start_time": "2022-06-16T12:17:06.745Z"
   },
   {
    "duration": 397,
    "start_time": "2022-06-16T12:17:06.756Z"
   },
   {
    "duration": 1055,
    "start_time": "2022-06-16T12:19:03.767Z"
   },
   {
    "duration": 1009,
    "start_time": "2022-06-16T12:19:04.825Z"
   },
   {
    "duration": 19,
    "start_time": "2022-06-16T12:19:05.843Z"
   },
   {
    "duration": 156,
    "start_time": "2022-06-16T12:19:05.865Z"
   },
   {
    "duration": 48,
    "start_time": "2022-06-16T12:19:06.023Z"
   },
   {
    "duration": 38,
    "start_time": "2022-06-16T12:19:06.073Z"
   },
   {
    "duration": 244,
    "start_time": "2022-06-16T12:19:06.113Z"
   },
   {
    "duration": 320,
    "start_time": "2022-06-16T12:19:06.359Z"
   },
   {
    "duration": 217,
    "start_time": "2022-06-16T12:19:06.681Z"
   },
   {
    "duration": 96,
    "start_time": "2022-06-16T12:19:06.901Z"
   },
   {
    "duration": 181,
    "start_time": "2022-06-16T12:19:06.999Z"
   },
   {
    "duration": 118,
    "start_time": "2022-06-16T12:19:07.182Z"
   },
   {
    "duration": 182,
    "start_time": "2022-06-16T12:19:07.302Z"
   },
   {
    "duration": 98,
    "start_time": "2022-06-16T12:19:07.486Z"
   },
   {
    "duration": 10,
    "start_time": "2022-06-16T12:19:07.586Z"
   },
   {
    "duration": 99,
    "start_time": "2022-06-16T12:19:07.598Z"
   },
   {
    "duration": 44,
    "start_time": "2022-06-16T12:19:07.698Z"
   },
   {
    "duration": 11,
    "start_time": "2022-06-16T12:19:07.745Z"
   },
   {
    "duration": 390,
    "start_time": "2022-06-16T12:19:07.758Z"
   },
   {
    "duration": 12,
    "start_time": "2022-06-16T12:19:48.346Z"
   },
   {
    "duration": 6,
    "start_time": "2022-06-16T12:20:11.249Z"
   },
   {
    "duration": 22,
    "start_time": "2022-06-16T12:23:59.990Z"
   },
   {
    "duration": 273,
    "start_time": "2022-06-16T12:30:01.164Z"
   },
   {
    "duration": 269,
    "start_time": "2022-06-16T12:30:27.466Z"
   },
   {
    "duration": 282,
    "start_time": "2022-06-16T12:31:52.065Z"
   },
   {
    "duration": 642,
    "start_time": "2022-06-16T12:35:17.262Z"
   },
   {
    "duration": 1072,
    "start_time": "2022-06-16T12:35:17.907Z"
   },
   {
    "duration": 19,
    "start_time": "2022-06-16T12:35:18.981Z"
   },
   {
    "duration": 196,
    "start_time": "2022-06-16T12:35:19.002Z"
   },
   {
    "duration": 56,
    "start_time": "2022-06-16T12:35:19.200Z"
   },
   {
    "duration": 22,
    "start_time": "2022-06-16T12:35:19.261Z"
   },
   {
    "duration": 285,
    "start_time": "2022-06-16T12:35:19.285Z"
   },
   {
    "duration": 317,
    "start_time": "2022-06-16T12:35:19.573Z"
   },
   {
    "duration": 263,
    "start_time": "2022-06-16T12:35:19.891Z"
   },
   {
    "duration": 89,
    "start_time": "2022-06-16T12:35:20.155Z"
   },
   {
    "duration": 227,
    "start_time": "2022-06-16T12:35:20.246Z"
   },
   {
    "duration": 120,
    "start_time": "2022-06-16T12:35:20.475Z"
   },
   {
    "duration": 214,
    "start_time": "2022-06-16T12:35:20.597Z"
   },
   {
    "duration": 112,
    "start_time": "2022-06-16T12:35:20.814Z"
   },
   {
    "duration": 23,
    "start_time": "2022-06-16T12:35:20.930Z"
   },
   {
    "duration": 95,
    "start_time": "2022-06-16T12:35:20.960Z"
   },
   {
    "duration": 37,
    "start_time": "2022-06-16T12:35:21.057Z"
   },
   {
    "duration": 19,
    "start_time": "2022-06-16T12:35:21.097Z"
   },
   {
    "duration": 515,
    "start_time": "2022-06-16T12:35:21.118Z"
   },
   {
    "duration": 26,
    "start_time": "2022-06-16T12:35:21.635Z"
   },
   {
    "duration": 695,
    "start_time": "2022-06-16T12:36:39.018Z"
   },
   {
    "duration": 1064,
    "start_time": "2022-06-16T12:36:39.715Z"
   },
   {
    "duration": 17,
    "start_time": "2022-06-16T12:36:40.781Z"
   },
   {
    "duration": 195,
    "start_time": "2022-06-16T12:36:40.800Z"
   },
   {
    "duration": 39,
    "start_time": "2022-06-16T12:36:40.997Z"
   },
   {
    "duration": 44,
    "start_time": "2022-06-16T12:36:41.038Z"
   },
   {
    "duration": 352,
    "start_time": "2022-06-16T12:36:41.084Z"
   },
   {
    "duration": 356,
    "start_time": "2022-06-16T12:36:41.437Z"
   },
   {
    "duration": 242,
    "start_time": "2022-06-16T12:36:41.796Z"
   },
   {
    "duration": 97,
    "start_time": "2022-06-16T12:36:42.047Z"
   },
   {
    "duration": 208,
    "start_time": "2022-06-16T12:36:42.157Z"
   },
   {
    "duration": 127,
    "start_time": "2022-06-16T12:36:42.368Z"
   },
   {
    "duration": 219,
    "start_time": "2022-06-16T12:36:42.496Z"
   },
   {
    "duration": 121,
    "start_time": "2022-06-16T12:36:42.717Z"
   },
   {
    "duration": 39,
    "start_time": "2022-06-16T12:36:42.839Z"
   },
   {
    "duration": 95,
    "start_time": "2022-06-16T12:36:42.880Z"
   },
   {
    "duration": 38,
    "start_time": "2022-06-16T12:36:42.977Z"
   },
   {
    "duration": 12,
    "start_time": "2022-06-16T12:36:43.027Z"
   },
   {
    "duration": 440,
    "start_time": "2022-06-16T12:36:43.043Z"
   },
   {
    "duration": 22,
    "start_time": "2022-06-16T12:36:43.485Z"
   },
   {
    "duration": 857,
    "start_time": "2022-06-16T12:53:52.513Z"
   },
   {
    "duration": 2575,
    "start_time": "2022-06-16T12:53:53.376Z"
   },
   {
    "duration": 26,
    "start_time": "2022-06-16T12:53:55.958Z"
   },
   {
    "duration": 278,
    "start_time": "2022-06-16T12:53:55.991Z"
   },
   {
    "duration": 90,
    "start_time": "2022-06-16T12:53:56.274Z"
   },
   {
    "duration": 71,
    "start_time": "2022-06-16T12:53:56.367Z"
   },
   {
    "duration": 475,
    "start_time": "2022-06-16T12:53:56.440Z"
   },
   {
    "duration": 407,
    "start_time": "2022-06-16T12:53:56.916Z"
   },
   {
    "duration": 329,
    "start_time": "2022-06-16T12:53:57.324Z"
   },
   {
    "duration": 143,
    "start_time": "2022-06-16T12:53:57.669Z"
   },
   {
    "duration": 314,
    "start_time": "2022-06-16T12:53:57.814Z"
   },
   {
    "duration": 180,
    "start_time": "2022-06-16T12:53:58.140Z"
   },
   {
    "duration": 308,
    "start_time": "2022-06-16T12:53:58.323Z"
   },
   {
    "duration": 157,
    "start_time": "2022-06-16T12:53:58.633Z"
   },
   {
    "duration": 114,
    "start_time": "2022-06-16T12:53:58.793Z"
   },
   {
    "duration": 161,
    "start_time": "2022-06-16T12:53:58.909Z"
   },
   {
    "duration": 47,
    "start_time": "2022-06-16T12:53:59.076Z"
   },
   {
    "duration": 11,
    "start_time": "2022-06-16T12:53:59.124Z"
   },
   {
    "duration": 768,
    "start_time": "2022-06-16T12:53:59.137Z"
   },
   {
    "duration": 43,
    "start_time": "2022-06-16T12:53:59.907Z"
   },
   {
    "duration": 402,
    "start_time": "2022-06-16T12:55:58.656Z"
   },
   {
    "duration": 509,
    "start_time": "2022-06-16T12:56:34.362Z"
   },
   {
    "duration": 458,
    "start_time": "2022-06-16T12:56:49.487Z"
   },
   {
    "duration": 590,
    "start_time": "2022-06-16T12:57:24.672Z"
   },
   {
    "duration": 439,
    "start_time": "2022-06-16T12:57:35.479Z"
   },
   {
    "duration": 555,
    "start_time": "2022-06-16T12:57:44.819Z"
   },
   {
    "duration": 496,
    "start_time": "2022-06-16T12:57:54.673Z"
   },
   {
    "duration": 374,
    "start_time": "2022-06-16T13:01:11.926Z"
   },
   {
    "duration": 20,
    "start_time": "2022-06-16T13:03:55.997Z"
   },
   {
    "duration": 9,
    "start_time": "2022-06-16T13:06:25.791Z"
   },
   {
    "duration": 16,
    "start_time": "2022-06-16T13:07:25.789Z"
   },
   {
    "duration": 19,
    "start_time": "2022-06-16T13:07:40.572Z"
   },
   {
    "duration": 19,
    "start_time": "2022-06-16T13:10:29.361Z"
   },
   {
    "duration": 26,
    "start_time": "2022-06-16T13:11:06.914Z"
   },
   {
    "duration": 27,
    "start_time": "2022-06-16T13:12:05.929Z"
   },
   {
    "duration": 26,
    "start_time": "2022-06-16T13:12:40.419Z"
   },
   {
    "duration": 24,
    "start_time": "2022-06-16T13:12:58.429Z"
   },
   {
    "duration": 24,
    "start_time": "2022-06-16T13:15:55.714Z"
   },
   {
    "duration": 427,
    "start_time": "2022-06-16T13:17:31.334Z"
   },
   {
    "duration": 359,
    "start_time": "2022-06-16T13:17:50.166Z"
   },
   {
    "duration": 23,
    "start_time": "2022-06-16T13:17:58.552Z"
   },
   {
    "duration": 48,
    "start_time": "2022-06-16T13:26:42.587Z"
   },
   {
    "duration": 927,
    "start_time": "2022-06-16T13:27:01.522Z"
   },
   {
    "duration": 1854,
    "start_time": "2022-06-16T13:27:02.453Z"
   },
   {
    "duration": 26,
    "start_time": "2022-06-16T13:27:04.312Z"
   },
   {
    "duration": 239,
    "start_time": "2022-06-16T13:27:04.340Z"
   },
   {
    "duration": 47,
    "start_time": "2022-06-16T13:27:04.582Z"
   },
   {
    "duration": 51,
    "start_time": "2022-06-16T13:27:04.631Z"
   },
   {
    "duration": 269,
    "start_time": "2022-06-16T13:27:04.685Z"
   },
   {
    "duration": 304,
    "start_time": "2022-06-16T13:27:04.956Z"
   },
   {
    "duration": 204,
    "start_time": "2022-06-16T13:27:05.262Z"
   },
   {
    "duration": 138,
    "start_time": "2022-06-16T13:27:05.468Z"
   },
   {
    "duration": 235,
    "start_time": "2022-06-16T13:27:05.608Z"
   },
   {
    "duration": 111,
    "start_time": "2022-06-16T13:27:05.845Z"
   },
   {
    "duration": 193,
    "start_time": "2022-06-16T13:27:05.958Z"
   },
   {
    "duration": 152,
    "start_time": "2022-06-16T13:27:06.155Z"
   },
   {
    "duration": 20,
    "start_time": "2022-06-16T13:27:06.309Z"
   },
   {
    "duration": 110,
    "start_time": "2022-06-16T13:27:06.332Z"
   },
   {
    "duration": 44,
    "start_time": "2022-06-16T13:27:06.444Z"
   },
   {
    "duration": 8,
    "start_time": "2022-06-16T13:27:06.490Z"
   },
   {
    "duration": 440,
    "start_time": "2022-06-16T13:27:06.500Z"
   },
   {
    "duration": 377,
    "start_time": "2022-06-16T13:27:06.942Z"
   },
   {
    "duration": 18,
    "start_time": "2022-06-16T13:27:07.321Z"
   },
   {
    "duration": 33,
    "start_time": "2022-06-16T13:27:07.341Z"
   },
   {
    "duration": 57,
    "start_time": "2022-06-16T13:27:07.378Z"
   },
   {
    "duration": 37,
    "start_time": "2022-06-16T13:27:07.438Z"
   },
   {
    "duration": 15,
    "start_time": "2022-06-16T13:28:14.933Z"
   },
   {
    "duration": 615,
    "start_time": "2022-06-16T13:28:20.550Z"
   },
   {
    "duration": 969,
    "start_time": "2022-06-16T13:28:21.168Z"
   },
   {
    "duration": 20,
    "start_time": "2022-06-16T13:28:22.139Z"
   },
   {
    "duration": 173,
    "start_time": "2022-06-16T13:28:22.161Z"
   },
   {
    "duration": 26,
    "start_time": "2022-06-16T13:28:22.337Z"
   },
   {
    "duration": 19,
    "start_time": "2022-06-16T13:28:22.365Z"
   },
   {
    "duration": 295,
    "start_time": "2022-06-16T13:28:22.386Z"
   },
   {
    "duration": 311,
    "start_time": "2022-06-16T13:28:22.683Z"
   },
   {
    "duration": 210,
    "start_time": "2022-06-16T13:28:22.995Z"
   },
   {
    "duration": 97,
    "start_time": "2022-06-16T13:28:23.208Z"
   },
   {
    "duration": 187,
    "start_time": "2022-06-16T13:28:23.307Z"
   },
   {
    "duration": 135,
    "start_time": "2022-06-16T13:28:23.496Z"
   },
   {
    "duration": 173,
    "start_time": "2022-06-16T13:28:23.633Z"
   },
   {
    "duration": 86,
    "start_time": "2022-06-16T13:28:23.809Z"
   },
   {
    "duration": 19,
    "start_time": "2022-06-16T13:28:23.897Z"
   },
   {
    "duration": 103,
    "start_time": "2022-06-16T13:28:23.918Z"
   },
   {
    "duration": 37,
    "start_time": "2022-06-16T13:28:24.022Z"
   },
   {
    "duration": 7,
    "start_time": "2022-06-16T13:28:24.061Z"
   },
   {
    "duration": 381,
    "start_time": "2022-06-16T13:28:24.069Z"
   },
   {
    "duration": 416,
    "start_time": "2022-06-16T13:28:24.453Z"
   },
   {
    "duration": 15,
    "start_time": "2022-06-16T13:28:24.871Z"
   },
   {
    "duration": 41,
    "start_time": "2022-06-16T13:28:24.889Z"
   },
   {
    "duration": 28,
    "start_time": "2022-06-16T13:28:24.933Z"
   },
   {
    "duration": 37,
    "start_time": "2022-06-16T13:28:24.963Z"
   },
   {
    "duration": 651,
    "start_time": "2022-06-16T13:30:18.518Z"
   },
   {
    "duration": 876,
    "start_time": "2022-06-16T13:30:19.171Z"
   },
   {
    "duration": 23,
    "start_time": "2022-06-16T13:30:20.048Z"
   },
   {
    "duration": 147,
    "start_time": "2022-06-16T13:30:20.073Z"
   },
   {
    "duration": 25,
    "start_time": "2022-06-16T13:30:20.227Z"
   },
   {
    "duration": 15,
    "start_time": "2022-06-16T13:30:20.254Z"
   },
   {
    "duration": 238,
    "start_time": "2022-06-16T13:30:20.271Z"
   },
   {
    "duration": 330,
    "start_time": "2022-06-16T13:30:20.511Z"
   },
   {
    "duration": 212,
    "start_time": "2022-06-16T13:30:20.843Z"
   },
   {
    "duration": 96,
    "start_time": "2022-06-16T13:30:21.057Z"
   },
   {
    "duration": 271,
    "start_time": "2022-06-16T13:30:21.155Z"
   },
   {
    "duration": 117,
    "start_time": "2022-06-16T13:30:21.428Z"
   },
   {
    "duration": 216,
    "start_time": "2022-06-16T13:30:21.547Z"
   },
   {
    "duration": 95,
    "start_time": "2022-06-16T13:30:21.766Z"
   },
   {
    "duration": 12,
    "start_time": "2022-06-16T13:30:21.863Z"
   },
   {
    "duration": 92,
    "start_time": "2022-06-16T13:30:21.877Z"
   },
   {
    "duration": 37,
    "start_time": "2022-06-16T13:30:21.972Z"
   },
   {
    "duration": 21,
    "start_time": "2022-06-16T13:30:22.011Z"
   },
   {
    "duration": 394,
    "start_time": "2022-06-16T13:30:22.034Z"
   },
   {
    "duration": 350,
    "start_time": "2022-06-16T13:30:22.429Z"
   },
   {
    "duration": 19,
    "start_time": "2022-06-16T13:30:22.781Z"
   },
   {
    "duration": 51,
    "start_time": "2022-06-16T13:30:22.801Z"
   },
   {
    "duration": 26,
    "start_time": "2022-06-16T13:30:22.854Z"
   },
   {
    "duration": 46,
    "start_time": "2022-06-16T13:30:22.881Z"
   },
   {
    "duration": 48,
    "start_time": "2022-06-16T13:30:22.929Z"
   },
   {
    "duration": 36,
    "start_time": "2022-06-16T13:35:06.756Z"
   },
   {
    "duration": 3,
    "start_time": "2022-06-16T13:35:32.923Z"
   },
   {
    "duration": 863,
    "start_time": "2022-06-16T14:38:10.707Z"
   },
   {
    "duration": 798,
    "start_time": "2022-06-16T14:39:26.979Z"
   },
   {
    "duration": 69,
    "start_time": "2022-06-16T14:40:24.770Z"
   },
   {
    "duration": 55,
    "start_time": "2022-06-16T14:42:11.429Z"
   },
   {
    "duration": 892,
    "start_time": "2022-06-16T14:42:20.098Z"
   },
   {
    "duration": 205,
    "start_time": "2022-06-16T14:42:35.305Z"
   },
   {
    "duration": 1474,
    "start_time": "2022-06-16T14:42:43.185Z"
   },
   {
    "duration": 1260,
    "start_time": "2022-06-16T14:42:44.662Z"
   },
   {
    "duration": 24,
    "start_time": "2022-06-16T14:42:45.924Z"
   },
   {
    "duration": 240,
    "start_time": "2022-06-16T14:42:45.950Z"
   },
   {
    "duration": 26,
    "start_time": "2022-06-16T14:42:46.193Z"
   },
   {
    "duration": 88,
    "start_time": "2022-06-16T14:42:46.221Z"
   },
   {
    "duration": 358,
    "start_time": "2022-06-16T14:42:46.312Z"
   },
   {
    "duration": 374,
    "start_time": "2022-06-16T14:42:46.673Z"
   },
   {
    "duration": 286,
    "start_time": "2022-06-16T14:42:47.053Z"
   },
   {
    "duration": 145,
    "start_time": "2022-06-16T14:42:47.341Z"
   },
   {
    "duration": 237,
    "start_time": "2022-06-16T14:42:47.490Z"
   },
   {
    "duration": 149,
    "start_time": "2022-06-16T14:42:47.729Z"
   },
   {
    "duration": 260,
    "start_time": "2022-06-16T14:42:47.880Z"
   },
   {
    "duration": 147,
    "start_time": "2022-06-16T14:42:48.143Z"
   },
   {
    "duration": 18,
    "start_time": "2022-06-16T14:42:48.292Z"
   },
   {
    "duration": 115,
    "start_time": "2022-06-16T14:42:48.312Z"
   },
   {
    "duration": 74,
    "start_time": "2022-06-16T14:42:48.433Z"
   },
   {
    "duration": 9,
    "start_time": "2022-06-16T14:42:48.510Z"
   },
   {
    "duration": 524,
    "start_time": "2022-06-16T14:42:48.520Z"
   },
   {
    "duration": 445,
    "start_time": "2022-06-16T14:42:49.048Z"
   },
   {
    "duration": 16,
    "start_time": "2022-06-16T14:42:49.495Z"
   },
   {
    "duration": 98,
    "start_time": "2022-06-16T14:42:49.513Z"
   },
   {
    "duration": 30,
    "start_time": "2022-06-16T14:42:49.613Z"
   },
   {
    "duration": 54,
    "start_time": "2022-06-16T14:42:49.652Z"
   },
   {
    "duration": 51,
    "start_time": "2022-06-16T14:42:49.708Z"
   },
   {
    "duration": 60,
    "start_time": "2022-06-16T14:42:49.763Z"
   },
   {
    "duration": 38,
    "start_time": "2022-06-16T14:42:49.836Z"
   },
   {
    "duration": 1028,
    "start_time": "2022-06-16T14:42:49.876Z"
   },
   {
    "duration": 914,
    "start_time": "2022-06-16T14:44:39.585Z"
   },
   {
    "duration": 1697,
    "start_time": "2022-06-16T14:44:49.215Z"
   },
   {
    "duration": 1708,
    "start_time": "2022-06-16T14:44:50.914Z"
   },
   {
    "duration": 28,
    "start_time": "2022-06-16T14:44:52.625Z"
   },
   {
    "duration": 289,
    "start_time": "2022-06-16T14:44:52.657Z"
   },
   {
    "duration": 83,
    "start_time": "2022-06-16T14:44:52.948Z"
   },
   {
    "duration": 84,
    "start_time": "2022-06-16T14:44:53.034Z"
   },
   {
    "duration": 388,
    "start_time": "2022-06-16T14:44:53.120Z"
   },
   {
    "duration": 435,
    "start_time": "2022-06-16T14:44:53.511Z"
   },
   {
    "duration": 316,
    "start_time": "2022-06-16T14:44:53.959Z"
   },
   {
    "duration": 163,
    "start_time": "2022-06-16T14:44:54.281Z"
   },
   {
    "duration": 380,
    "start_time": "2022-06-16T14:44:54.447Z"
   },
   {
    "duration": 185,
    "start_time": "2022-06-16T14:44:54.829Z"
   },
   {
    "duration": 314,
    "start_time": "2022-06-16T14:44:55.017Z"
   },
   {
    "duration": 150,
    "start_time": "2022-06-16T14:44:55.333Z"
   },
   {
    "duration": 61,
    "start_time": "2022-06-16T14:44:55.485Z"
   },
   {
    "duration": 114,
    "start_time": "2022-06-16T14:44:55.554Z"
   },
   {
    "duration": 76,
    "start_time": "2022-06-16T14:44:55.673Z"
   },
   {
    "duration": 8,
    "start_time": "2022-06-16T14:44:55.752Z"
   },
   {
    "duration": 557,
    "start_time": "2022-06-16T14:44:55.761Z"
   },
   {
    "duration": 507,
    "start_time": "2022-06-16T14:44:56.323Z"
   },
   {
    "duration": 23,
    "start_time": "2022-06-16T14:44:56.835Z"
   },
   {
    "duration": 71,
    "start_time": "2022-06-16T14:44:56.863Z"
   },
   {
    "duration": 100,
    "start_time": "2022-06-16T14:44:56.941Z"
   },
   {
    "duration": 46,
    "start_time": "2022-06-16T14:44:57.043Z"
   },
   {
    "duration": 86,
    "start_time": "2022-06-16T14:44:57.092Z"
   },
   {
    "duration": 46,
    "start_time": "2022-06-16T14:44:57.195Z"
   },
   {
    "duration": 916,
    "start_time": "2022-06-16T14:44:57.243Z"
   },
   {
    "duration": 658,
    "start_time": "2022-06-16T14:52:40.823Z"
   },
   {
    "duration": 569,
    "start_time": "2022-06-16T14:58:09.229Z"
   },
   {
    "duration": 247,
    "start_time": "2022-06-16T15:09:02.061Z"
   },
   {
    "duration": 280,
    "start_time": "2022-06-16T15:09:29.094Z"
   },
   {
    "duration": 270,
    "start_time": "2022-06-16T15:09:44.384Z"
   },
   {
    "duration": 54,
    "start_time": "2022-06-16T15:33:39.418Z"
   },
   {
    "duration": 3,
    "start_time": "2022-06-16T15:33:55.078Z"
   },
   {
    "duration": 1351,
    "start_time": "2022-06-16T15:38:36.039Z"
   },
   {
    "duration": 937,
    "start_time": "2022-06-16T15:38:37.392Z"
   },
   {
    "duration": 19,
    "start_time": "2022-06-16T15:38:38.331Z"
   },
   {
    "duration": 166,
    "start_time": "2022-06-16T15:38:38.353Z"
   },
   {
    "duration": 32,
    "start_time": "2022-06-16T15:38:38.521Z"
   },
   {
    "duration": 15,
    "start_time": "2022-06-16T15:38:38.555Z"
   },
   {
    "duration": 259,
    "start_time": "2022-06-16T15:38:38.572Z"
   },
   {
    "duration": 303,
    "start_time": "2022-06-16T15:38:38.833Z"
   },
   {
    "duration": 221,
    "start_time": "2022-06-16T15:38:39.139Z"
   },
   {
    "duration": 94,
    "start_time": "2022-06-16T15:38:39.362Z"
   },
   {
    "duration": 190,
    "start_time": "2022-06-16T15:38:39.458Z"
   },
   {
    "duration": 118,
    "start_time": "2022-06-16T15:38:39.650Z"
   },
   {
    "duration": 201,
    "start_time": "2022-06-16T15:38:39.770Z"
   },
   {
    "duration": 98,
    "start_time": "2022-06-16T15:38:39.972Z"
   },
   {
    "duration": 17,
    "start_time": "2022-06-16T15:38:40.072Z"
   },
   {
    "duration": 97,
    "start_time": "2022-06-16T15:38:40.091Z"
   },
   {
    "duration": 37,
    "start_time": "2022-06-16T15:38:40.189Z"
   },
   {
    "duration": 8,
    "start_time": "2022-06-16T15:38:40.228Z"
   },
   {
    "duration": 388,
    "start_time": "2022-06-16T15:38:40.238Z"
   },
   {
    "duration": 367,
    "start_time": "2022-06-16T15:38:40.628Z"
   },
   {
    "duration": 15,
    "start_time": "2022-06-16T15:38:40.997Z"
   },
   {
    "duration": 45,
    "start_time": "2022-06-16T15:38:41.014Z"
   },
   {
    "duration": 19,
    "start_time": "2022-06-16T15:38:41.061Z"
   },
   {
    "duration": 46,
    "start_time": "2022-06-16T15:38:41.082Z"
   },
   {
    "duration": 39,
    "start_time": "2022-06-16T15:38:41.130Z"
   },
   {
    "duration": 59,
    "start_time": "2022-06-16T15:38:41.170Z"
   },
   {
    "duration": 703,
    "start_time": "2022-06-16T15:38:41.231Z"
   },
   {
    "duration": 565,
    "start_time": "2022-06-16T15:38:41.938Z"
   },
   {
    "duration": 197,
    "start_time": "2022-06-16T15:38:42.504Z"
   },
   {
    "duration": 390631,
    "start_time": "2022-06-16T15:38:42.703Z"
   },
   {
    "duration": 396,
    "start_time": "2022-06-16T16:14:16.246Z"
   },
   {
    "duration": 187,
    "start_time": "2022-06-16T16:14:17.884Z"
   },
   {
    "duration": 115,
    "start_time": "2022-06-16T16:17:52.585Z"
   },
   {
    "duration": 4,
    "start_time": "2022-06-16T16:18:49.359Z"
   },
   {
    "duration": 1576,
    "start_time": "2022-06-16T16:31:04.037Z"
   },
   {
    "duration": 877,
    "start_time": "2022-06-16T16:31:05.615Z"
   },
   {
    "duration": 22,
    "start_time": "2022-06-16T16:31:06.494Z"
   },
   {
    "duration": 148,
    "start_time": "2022-06-16T16:31:06.528Z"
   },
   {
    "duration": 33,
    "start_time": "2022-06-16T16:31:06.678Z"
   },
   {
    "duration": 13,
    "start_time": "2022-06-16T16:31:06.725Z"
   },
   {
    "duration": 236,
    "start_time": "2022-06-16T16:31:06.739Z"
   },
   {
    "duration": 299,
    "start_time": "2022-06-16T16:31:06.977Z"
   },
   {
    "duration": 202,
    "start_time": "2022-06-16T16:31:07.278Z"
   },
   {
    "duration": 97,
    "start_time": "2022-06-16T16:31:07.483Z"
   },
   {
    "duration": 176,
    "start_time": "2022-06-16T16:31:07.582Z"
   },
   {
    "duration": 110,
    "start_time": "2022-06-16T16:31:07.760Z"
   },
   {
    "duration": 173,
    "start_time": "2022-06-16T16:31:07.871Z"
   },
   {
    "duration": 83,
    "start_time": "2022-06-16T16:31:08.047Z"
   },
   {
    "duration": 11,
    "start_time": "2022-06-16T16:31:08.131Z"
   },
   {
    "duration": 86,
    "start_time": "2022-06-16T16:31:08.144Z"
   },
   {
    "duration": 36,
    "start_time": "2022-06-16T16:31:08.232Z"
   },
   {
    "duration": 7,
    "start_time": "2022-06-16T16:31:08.270Z"
   },
   {
    "duration": 372,
    "start_time": "2022-06-16T16:31:08.279Z"
   },
   {
    "duration": 308,
    "start_time": "2022-06-16T16:31:08.653Z"
   },
   {
    "duration": 15,
    "start_time": "2022-06-16T16:31:08.963Z"
   },
   {
    "duration": 46,
    "start_time": "2022-06-16T16:31:08.980Z"
   },
   {
    "duration": 20,
    "start_time": "2022-06-16T16:31:09.028Z"
   },
   {
    "duration": 29,
    "start_time": "2022-06-16T16:31:09.050Z"
   },
   {
    "duration": 56,
    "start_time": "2022-06-16T16:31:09.080Z"
   },
   {
    "duration": 48,
    "start_time": "2022-06-16T16:31:09.138Z"
   },
   {
    "duration": 662,
    "start_time": "2022-06-16T16:31:09.188Z"
   },
   {
    "duration": 483,
    "start_time": "2022-06-16T16:31:09.853Z"
   },
   {
    "duration": 201,
    "start_time": "2022-06-16T16:31:10.338Z"
   },
   {
    "duration": 95348,
    "start_time": "2022-06-16T16:31:10.541Z"
   },
   {
    "duration": 543,
    "start_time": "2022-06-16T16:32:45.891Z"
   },
   {
    "duration": 517,
    "start_time": "2022-06-16T16:33:38.404Z"
   },
   {
    "duration": 1277,
    "start_time": "2022-06-16T16:34:17.586Z"
   },
   {
    "duration": 895,
    "start_time": "2022-06-16T16:34:18.865Z"
   },
   {
    "duration": 27,
    "start_time": "2022-06-16T16:34:19.762Z"
   },
   {
    "duration": 168,
    "start_time": "2022-06-16T16:34:19.791Z"
   },
   {
    "duration": 30,
    "start_time": "2022-06-16T16:34:19.960Z"
   },
   {
    "duration": 27,
    "start_time": "2022-06-16T16:34:19.992Z"
   },
   {
    "duration": 228,
    "start_time": "2022-06-16T16:34:20.021Z"
   },
   {
    "duration": 289,
    "start_time": "2022-06-16T16:34:20.251Z"
   },
   {
    "duration": 198,
    "start_time": "2022-06-16T16:34:20.542Z"
   },
   {
    "duration": 91,
    "start_time": "2022-06-16T16:34:20.744Z"
   },
   {
    "duration": 169,
    "start_time": "2022-06-16T16:34:20.836Z"
   },
   {
    "duration": 129,
    "start_time": "2022-06-16T16:34:21.007Z"
   },
   {
    "duration": 221,
    "start_time": "2022-06-16T16:34:21.141Z"
   },
   {
    "duration": 92,
    "start_time": "2022-06-16T16:34:21.363Z"
   },
   {
    "duration": 21,
    "start_time": "2022-06-16T16:34:21.457Z"
   },
   {
    "duration": 116,
    "start_time": "2022-06-16T16:34:21.481Z"
   },
   {
    "duration": 44,
    "start_time": "2022-06-16T16:34:21.600Z"
   },
   {
    "duration": 7,
    "start_time": "2022-06-16T16:34:21.646Z"
   },
   {
    "duration": 377,
    "start_time": "2022-06-16T16:34:21.654Z"
   },
   {
    "duration": 338,
    "start_time": "2022-06-16T16:34:22.033Z"
   },
   {
    "duration": 16,
    "start_time": "2022-06-16T16:34:22.372Z"
   },
   {
    "duration": 47,
    "start_time": "2022-06-16T16:34:22.389Z"
   },
   {
    "duration": 27,
    "start_time": "2022-06-16T16:34:22.438Z"
   },
   {
    "duration": 59,
    "start_time": "2022-06-16T16:34:22.468Z"
   },
   {
    "duration": 44,
    "start_time": "2022-06-16T16:34:22.530Z"
   },
   {
    "duration": 86,
    "start_time": "2022-06-16T16:34:22.576Z"
   },
   {
    "duration": 764,
    "start_time": "2022-06-16T16:34:22.665Z"
   },
   {
    "duration": 485,
    "start_time": "2022-06-16T16:34:23.433Z"
   },
   {
    "duration": 220,
    "start_time": "2022-06-16T16:34:23.920Z"
   },
   {
    "duration": 238107,
    "start_time": "2022-06-16T16:34:24.141Z"
   },
   {
    "duration": 1013,
    "start_time": "2022-06-16T16:38:22.250Z"
   },
   {
    "duration": 206356,
    "start_time": "2022-06-16T16:39:31.025Z"
   },
   {
    "duration": 922,
    "start_time": "2022-06-16T16:42:57.382Z"
   },
   {
    "duration": 240,
    "start_time": "2022-06-16T16:59:46.904Z"
   },
   {
    "duration": 1448,
    "start_time": "2022-06-16T17:05:05.043Z"
   },
   {
    "duration": 974,
    "start_time": "2022-06-16T17:05:06.493Z"
   },
   {
    "duration": 19,
    "start_time": "2022-06-16T17:05:07.469Z"
   },
   {
    "duration": 173,
    "start_time": "2022-06-16T17:05:07.490Z"
   },
   {
    "duration": 28,
    "start_time": "2022-06-16T17:05:07.665Z"
   },
   {
    "duration": 15,
    "start_time": "2022-06-16T17:05:07.694Z"
   },
   {
    "duration": 257,
    "start_time": "2022-06-16T17:05:07.711Z"
   },
   {
    "duration": 303,
    "start_time": "2022-06-16T17:05:07.970Z"
   },
   {
    "duration": 203,
    "start_time": "2022-06-16T17:05:08.275Z"
   },
   {
    "duration": 96,
    "start_time": "2022-06-16T17:05:08.479Z"
   },
   {
    "duration": 183,
    "start_time": "2022-06-16T17:05:08.578Z"
   },
   {
    "duration": 112,
    "start_time": "2022-06-16T17:05:08.762Z"
   },
   {
    "duration": 184,
    "start_time": "2022-06-16T17:05:08.875Z"
   },
   {
    "duration": 90,
    "start_time": "2022-06-16T17:05:09.062Z"
   },
   {
    "duration": 22,
    "start_time": "2022-06-16T17:05:09.154Z"
   },
   {
    "duration": 93,
    "start_time": "2022-06-16T17:05:09.177Z"
   },
   {
    "duration": 37,
    "start_time": "2022-06-16T17:05:09.272Z"
   },
   {
    "duration": 6,
    "start_time": "2022-06-16T17:05:09.311Z"
   },
   {
    "duration": 364,
    "start_time": "2022-06-16T17:05:09.319Z"
   },
   {
    "duration": 357,
    "start_time": "2022-06-16T17:05:09.685Z"
   },
   {
    "duration": 14,
    "start_time": "2022-06-16T17:05:10.044Z"
   },
   {
    "duration": 26,
    "start_time": "2022-06-16T17:05:10.060Z"
   },
   {
    "duration": 52,
    "start_time": "2022-06-16T17:05:10.088Z"
   },
   {
    "duration": 28,
    "start_time": "2022-06-16T17:05:10.142Z"
   },
   {
    "duration": 40,
    "start_time": "2022-06-16T17:05:10.172Z"
   },
   {
    "duration": 54,
    "start_time": "2022-06-16T17:05:10.214Z"
   },
   {
    "duration": 729,
    "start_time": "2022-06-16T17:05:10.271Z"
   },
   {
    "duration": 343,
    "start_time": "2022-06-16T17:05:11.001Z"
   },
   {
    "duration": 0,
    "start_time": "2022-06-16T17:05:11.345Z"
   },
   {
    "duration": 0,
    "start_time": "2022-06-16T17:05:11.347Z"
   },
   {
    "duration": 0,
    "start_time": "2022-06-16T17:05:11.349Z"
   },
   {
    "duration": 1350,
    "start_time": "2022-06-16T17:05:28.059Z"
   },
   {
    "duration": 948,
    "start_time": "2022-06-16T17:05:29.410Z"
   },
   {
    "duration": 17,
    "start_time": "2022-06-16T17:05:30.360Z"
   },
   {
    "duration": 164,
    "start_time": "2022-06-16T17:05:30.379Z"
   },
   {
    "duration": 30,
    "start_time": "2022-06-16T17:05:30.546Z"
   },
   {
    "duration": 43,
    "start_time": "2022-06-16T17:05:30.579Z"
   },
   {
    "duration": 245,
    "start_time": "2022-06-16T17:05:30.624Z"
   },
   {
    "duration": 314,
    "start_time": "2022-06-16T17:05:30.871Z"
   },
   {
    "duration": 235,
    "start_time": "2022-06-16T17:05:31.187Z"
   },
   {
    "duration": 94,
    "start_time": "2022-06-16T17:05:31.438Z"
   },
   {
    "duration": 207,
    "start_time": "2022-06-16T17:05:31.539Z"
   },
   {
    "duration": 135,
    "start_time": "2022-06-16T17:05:31.748Z"
   },
   {
    "duration": 207,
    "start_time": "2022-06-16T17:05:31.885Z"
   },
   {
    "duration": 98,
    "start_time": "2022-06-16T17:05:32.095Z"
   },
   {
    "duration": 16,
    "start_time": "2022-06-16T17:05:32.195Z"
   },
   {
    "duration": 89,
    "start_time": "2022-06-16T17:05:32.213Z"
   },
   {
    "duration": 50,
    "start_time": "2022-06-16T17:05:32.304Z"
   },
   {
    "duration": 6,
    "start_time": "2022-06-16T17:05:32.356Z"
   },
   {
    "duration": 380,
    "start_time": "2022-06-16T17:05:32.364Z"
   },
   {
    "duration": 341,
    "start_time": "2022-06-16T17:05:32.746Z"
   },
   {
    "duration": 16,
    "start_time": "2022-06-16T17:05:33.089Z"
   },
   {
    "duration": 41,
    "start_time": "2022-06-16T17:05:33.107Z"
   },
   {
    "duration": 20,
    "start_time": "2022-06-16T17:05:33.150Z"
   },
   {
    "duration": 34,
    "start_time": "2022-06-16T17:05:33.171Z"
   },
   {
    "duration": 69,
    "start_time": "2022-06-16T17:05:33.207Z"
   },
   {
    "duration": 61,
    "start_time": "2022-06-16T17:05:33.277Z"
   },
   {
    "duration": 966,
    "start_time": "2022-06-16T17:05:33.341Z"
   },
   {
    "duration": 344,
    "start_time": "2022-06-16T17:05:34.309Z"
   },
   {
    "duration": 0,
    "start_time": "2022-06-16T17:05:34.655Z"
   },
   {
    "duration": 0,
    "start_time": "2022-06-16T17:05:34.657Z"
   },
   {
    "duration": 0,
    "start_time": "2022-06-16T17:05:34.659Z"
   },
   {
    "duration": 408,
    "start_time": "2022-06-16T17:05:59.746Z"
   },
   {
    "duration": 105,
    "start_time": "2022-06-16T17:06:10.692Z"
   },
   {
    "duration": 430,
    "start_time": "2022-06-16T17:06:35.941Z"
   },
   {
    "duration": 95,
    "start_time": "2022-06-16T17:06:36.893Z"
   },
   {
    "duration": 257460,
    "start_time": "2022-06-16T17:07:05.950Z"
   },
   {
    "duration": 1062,
    "start_time": "2022-06-16T17:11:45.590Z"
   },
   {
    "duration": 251025,
    "start_time": "2022-06-16T17:11:59.674Z"
   },
   {
    "duration": 4,
    "start_time": "2022-06-16T17:16:10.702Z"
   },
   {
    "duration": 36047,
    "start_time": "2022-06-16T17:22:06.199Z"
   },
   {
    "duration": 506,
    "start_time": "2022-06-16T17:32:27.232Z"
   },
   {
    "duration": 1171,
    "start_time": "2022-06-16T17:51:40.634Z"
   },
   {
    "duration": 146,
    "start_time": "2022-06-16T17:54:20.241Z"
   },
   {
    "duration": 6075,
    "start_time": "2022-06-16T17:54:27.795Z"
   },
   {
    "duration": 141,
    "start_time": "2022-06-16T17:54:38.539Z"
   },
   {
    "duration": 8409,
    "start_time": "2022-06-16T17:54:51.359Z"
   },
   {
    "duration": 173,
    "start_time": "2022-06-16T17:55:02.508Z"
   },
   {
    "duration": 27277,
    "start_time": "2022-06-16T17:55:38.324Z"
   },
   {
    "duration": 275,
    "start_time": "2022-06-16T17:56:07.192Z"
   },
   {
    "duration": 69418,
    "start_time": "2022-06-16T17:57:58.891Z"
   },
   {
    "duration": 586,
    "start_time": "2022-06-16T17:59:13.319Z"
   },
   {
    "duration": 134289,
    "start_time": "2022-06-16T17:59:26.283Z"
   },
   {
    "duration": 1014,
    "start_time": "2022-06-16T18:04:04.296Z"
   },
   {
    "duration": 3,
    "start_time": "2022-06-16T18:05:49.567Z"
   },
   {
    "duration": 205319,
    "start_time": "2022-06-16T18:06:41.553Z"
   },
   {
    "duration": 3870,
    "start_time": "2022-06-16T18:10:06.874Z"
   },
   {
    "duration": 1367,
    "start_time": "2022-06-16T18:14:10.146Z"
   },
   {
    "duration": 936,
    "start_time": "2022-06-16T18:14:11.515Z"
   },
   {
    "duration": 18,
    "start_time": "2022-06-16T18:14:12.452Z"
   },
   {
    "duration": 168,
    "start_time": "2022-06-16T18:14:12.472Z"
   },
   {
    "duration": 40,
    "start_time": "2022-06-16T18:14:12.642Z"
   },
   {
    "duration": 17,
    "start_time": "2022-06-16T18:14:12.684Z"
   },
   {
    "duration": 221,
    "start_time": "2022-06-16T18:14:12.703Z"
   },
   {
    "duration": 296,
    "start_time": "2022-06-16T18:14:12.926Z"
   },
   {
    "duration": 219,
    "start_time": "2022-06-16T18:14:13.224Z"
   },
   {
    "duration": 76,
    "start_time": "2022-06-16T18:14:13.446Z"
   },
   {
    "duration": 180,
    "start_time": "2022-06-16T18:14:13.524Z"
   },
   {
    "duration": 109,
    "start_time": "2022-06-16T18:14:13.706Z"
   },
   {
    "duration": 181,
    "start_time": "2022-06-16T18:14:13.816Z"
   },
   {
    "duration": 87,
    "start_time": "2022-06-16T18:14:13.999Z"
   },
   {
    "duration": 17,
    "start_time": "2022-06-16T18:14:14.088Z"
   },
   {
    "duration": 80,
    "start_time": "2022-06-16T18:14:14.106Z"
   },
   {
    "duration": 54,
    "start_time": "2022-06-16T18:14:14.188Z"
   },
   {
    "duration": 8,
    "start_time": "2022-06-16T18:14:14.244Z"
   },
   {
    "duration": 469,
    "start_time": "2022-06-16T18:14:14.254Z"
   },
   {
    "duration": 365,
    "start_time": "2022-06-16T18:14:14.725Z"
   },
   {
    "duration": 15,
    "start_time": "2022-06-16T18:14:15.091Z"
   },
   {
    "duration": 42,
    "start_time": "2022-06-16T18:14:15.107Z"
   },
   {
    "duration": 28,
    "start_time": "2022-06-16T18:14:15.151Z"
   },
   {
    "duration": 24,
    "start_time": "2022-06-16T18:14:15.181Z"
   },
   {
    "duration": 54,
    "start_time": "2022-06-16T18:14:15.206Z"
   },
   {
    "duration": 37,
    "start_time": "2022-06-16T18:14:15.262Z"
   },
   {
    "duration": 649,
    "start_time": "2022-06-16T18:14:15.301Z"
   },
   {
    "duration": 488,
    "start_time": "2022-06-16T18:14:15.953Z"
   },
   {
    "duration": 108,
    "start_time": "2022-06-16T18:14:16.442Z"
   },
   {
    "duration": 3528,
    "start_time": "2022-06-16T18:14:16.552Z"
   },
   {
    "duration": 36942,
    "start_time": "2022-06-16T18:14:20.081Z"
   },
   {
    "duration": 516,
    "start_time": "2022-06-16T18:14:57.025Z"
   },
   {
    "duration": 5862,
    "start_time": "2022-06-16T18:14:57.543Z"
   },
   {
    "duration": 162,
    "start_time": "2022-06-16T18:15:03.406Z"
   },
   {
    "duration": 10029,
    "start_time": "2022-06-16T18:15:17.795Z"
   },
   {
    "duration": 195,
    "start_time": "2022-06-16T18:15:35.590Z"
   },
   {
    "duration": 15075,
    "start_time": "2022-06-16T18:15:39.988Z"
   },
   {
    "duration": 202,
    "start_time": "2022-06-16T18:15:57.139Z"
   },
   {
    "duration": 59251,
    "start_time": "2022-06-16T18:16:15.949Z"
   },
   {
    "duration": 395,
    "start_time": "2022-06-16T18:17:52.014Z"
   },
   {
    "duration": 224,
    "start_time": "2022-06-16T18:18:08.230Z"
   },
   {
    "duration": 1437,
    "start_time": "2022-06-16T18:20:15.318Z"
   },
   {
    "duration": 918,
    "start_time": "2022-06-16T18:20:16.757Z"
   },
   {
    "duration": 17,
    "start_time": "2022-06-16T18:20:17.677Z"
   },
   {
    "duration": 164,
    "start_time": "2022-06-16T18:20:17.697Z"
   },
   {
    "duration": 26,
    "start_time": "2022-06-16T18:20:17.864Z"
   },
   {
    "duration": 35,
    "start_time": "2022-06-16T18:20:17.892Z"
   },
   {
    "duration": 289,
    "start_time": "2022-06-16T18:20:17.933Z"
   },
   {
    "duration": 312,
    "start_time": "2022-06-16T18:20:18.223Z"
   },
   {
    "duration": 192,
    "start_time": "2022-06-16T18:20:18.544Z"
   },
   {
    "duration": 73,
    "start_time": "2022-06-16T18:20:18.741Z"
   },
   {
    "duration": 179,
    "start_time": "2022-06-16T18:20:18.816Z"
   },
   {
    "duration": 115,
    "start_time": "2022-06-16T18:20:18.996Z"
   },
   {
    "duration": 184,
    "start_time": "2022-06-16T18:20:19.113Z"
   },
   {
    "duration": 87,
    "start_time": "2022-06-16T18:20:19.299Z"
   },
   {
    "duration": 19,
    "start_time": "2022-06-16T18:20:19.388Z"
   },
   {
    "duration": 85,
    "start_time": "2022-06-16T18:20:19.409Z"
   },
   {
    "duration": 52,
    "start_time": "2022-06-16T18:20:19.496Z"
   },
   {
    "duration": 7,
    "start_time": "2022-06-16T18:20:19.549Z"
   },
   {
    "duration": 357,
    "start_time": "2022-06-16T18:20:19.558Z"
   },
   {
    "duration": 358,
    "start_time": "2022-06-16T18:20:19.916Z"
   },
   {
    "duration": 18,
    "start_time": "2022-06-16T18:20:20.276Z"
   },
   {
    "duration": 52,
    "start_time": "2022-06-16T18:20:20.296Z"
   },
   {
    "duration": 28,
    "start_time": "2022-06-16T18:20:20.353Z"
   },
   {
    "duration": 27,
    "start_time": "2022-06-16T18:20:20.383Z"
   },
   {
    "duration": 50,
    "start_time": "2022-06-16T18:20:20.413Z"
   },
   {
    "duration": 38,
    "start_time": "2022-06-16T18:20:20.465Z"
   },
   {
    "duration": 659,
    "start_time": "2022-06-16T18:20:20.505Z"
   },
   {
    "duration": 511,
    "start_time": "2022-06-16T18:20:21.167Z"
   },
   {
    "duration": 108,
    "start_time": "2022-06-16T18:20:21.680Z"
   },
   {
    "duration": 3762,
    "start_time": "2022-06-16T18:20:21.789Z"
   },
   {
    "duration": 231,
    "start_time": "2022-06-16T18:20:25.553Z"
   },
   {
    "duration": 472998,
    "start_time": "2022-06-16T18:20:25.786Z"
   },
   {
    "duration": 2904,
    "start_time": "2022-06-16T18:28:18.786Z"
   },
   {
    "duration": 62979,
    "start_time": "2022-06-16T18:28:21.692Z"
   },
   {
    "duration": 426,
    "start_time": "2022-06-16T18:29:24.673Z"
   },
   {
    "duration": 4151,
    "start_time": "2022-06-16T18:30:38.215Z"
   },
   {
    "duration": 243,
    "start_time": "2022-06-16T18:30:42.369Z"
   },
   {
    "duration": 4944,
    "start_time": "2022-06-16T18:30:49.866Z"
   },
   {
    "duration": 284,
    "start_time": "2022-06-16T18:30:56.890Z"
   },
   {
    "duration": 3772,
    "start_time": "2022-06-16T18:31:03.003Z"
   },
   {
    "duration": 221,
    "start_time": "2022-06-16T18:31:07.842Z"
   },
   {
    "duration": 3135,
    "start_time": "2022-06-16T18:31:13.809Z"
   },
   {
    "duration": 217,
    "start_time": "2022-06-16T18:31:17.794Z"
   },
   {
    "duration": 2072,
    "start_time": "2022-06-16T18:31:24.091Z"
   },
   {
    "duration": 217,
    "start_time": "2022-06-16T18:31:27.203Z"
   },
   {
    "duration": 1249,
    "start_time": "2022-06-16T18:31:42.221Z"
   },
   {
    "duration": 241,
    "start_time": "2022-06-16T18:31:44.555Z"
   },
   {
    "duration": 2087,
    "start_time": "2022-06-16T18:31:52.160Z"
   },
   {
    "duration": 224,
    "start_time": "2022-06-16T18:31:55.342Z"
   },
   {
    "duration": 1651,
    "start_time": "2022-06-16T18:35:44.788Z"
   },
   {
    "duration": 1013,
    "start_time": "2022-06-16T18:35:46.447Z"
   },
   {
    "duration": 20,
    "start_time": "2022-06-16T18:35:47.461Z"
   },
   {
    "duration": 201,
    "start_time": "2022-06-16T18:35:47.483Z"
   },
   {
    "duration": 30,
    "start_time": "2022-06-16T18:35:47.686Z"
   },
   {
    "duration": 14,
    "start_time": "2022-06-16T18:35:47.731Z"
   },
   {
    "duration": 237,
    "start_time": "2022-06-16T18:35:47.747Z"
   },
   {
    "duration": 288,
    "start_time": "2022-06-16T18:35:47.986Z"
   },
   {
    "duration": 224,
    "start_time": "2022-06-16T18:35:48.276Z"
   },
   {
    "duration": 94,
    "start_time": "2022-06-16T18:35:48.502Z"
   },
   {
    "duration": 215,
    "start_time": "2022-06-16T18:35:48.597Z"
   },
   {
    "duration": 144,
    "start_time": "2022-06-16T18:35:48.814Z"
   },
   {
    "duration": 199,
    "start_time": "2022-06-16T18:35:48.960Z"
   },
   {
    "duration": 101,
    "start_time": "2022-06-16T18:35:49.163Z"
   },
   {
    "duration": 17,
    "start_time": "2022-06-16T18:35:49.267Z"
   },
   {
    "duration": 122,
    "start_time": "2022-06-16T18:35:49.286Z"
   },
   {
    "duration": 49,
    "start_time": "2022-06-16T18:35:49.410Z"
   },
   {
    "duration": 8,
    "start_time": "2022-06-16T18:35:49.461Z"
   },
   {
    "duration": 439,
    "start_time": "2022-06-16T18:35:49.472Z"
   },
   {
    "duration": 369,
    "start_time": "2022-06-16T18:35:49.913Z"
   },
   {
    "duration": 21,
    "start_time": "2022-06-16T18:35:50.284Z"
   },
   {
    "duration": 55,
    "start_time": "2022-06-16T18:35:50.307Z"
   },
   {
    "duration": 26,
    "start_time": "2022-06-16T18:35:50.365Z"
   },
   {
    "duration": 55,
    "start_time": "2022-06-16T18:35:50.393Z"
   },
   {
    "duration": 41,
    "start_time": "2022-06-16T18:35:50.450Z"
   },
   {
    "duration": 64,
    "start_time": "2022-06-16T18:35:50.493Z"
   },
   {
    "duration": 1006,
    "start_time": "2022-06-16T18:35:50.559Z"
   },
   {
    "duration": 506,
    "start_time": "2022-06-16T18:35:51.567Z"
   },
   {
    "duration": 130,
    "start_time": "2022-06-16T18:35:52.075Z"
   },
   {
    "duration": 3,
    "start_time": "2022-06-16T18:35:52.209Z"
   },
   {
    "duration": 2345,
    "start_time": "2022-06-16T18:35:52.213Z"
   },
   {
    "duration": 259,
    "start_time": "2022-06-16T18:35:54.560Z"
   },
   {
    "duration": 72672,
    "start_time": "2022-06-16T18:35:54.827Z"
   },
   {
    "duration": 503,
    "start_time": "2022-06-16T18:37:07.501Z"
   },
   {
    "duration": 4666,
    "start_time": "2022-06-16T18:37:08.006Z"
   },
   {
    "duration": 149,
    "start_time": "2022-06-16T18:37:12.674Z"
   },
   {
    "duration": 2092,
    "start_time": "2022-06-16T18:37:12.827Z"
   },
   {
    "duration": 238,
    "start_time": "2022-06-16T18:37:14.920Z"
   },
   {
    "duration": 1366,
    "start_time": "2022-06-16T18:37:44.966Z"
   },
   {
    "duration": 224,
    "start_time": "2022-06-16T18:37:47.664Z"
   },
   {
    "duration": 7040,
    "start_time": "2022-06-16T18:39:22.064Z"
   },
   {
    "duration": 193,
    "start_time": "2022-06-16T18:39:31.248Z"
   },
   {
    "duration": 4991,
    "start_time": "2022-06-16T18:40:00.456Z"
   },
   {
    "duration": 148,
    "start_time": "2022-06-16T18:40:07.560Z"
   },
   {
    "duration": 4500,
    "start_time": "2022-06-16T18:40:46.454Z"
   },
   {
    "duration": 156,
    "start_time": "2022-06-16T18:40:52.951Z"
   },
   {
    "duration": 10604,
    "start_time": "2022-06-16T18:40:59.694Z"
   },
   {
    "duration": 180,
    "start_time": "2022-06-16T18:41:13.842Z"
   },
   {
    "duration": 4491,
    "start_time": "2022-06-16T18:41:23.620Z"
   },
   {
    "duration": 165,
    "start_time": "2022-06-16T18:41:32.455Z"
   },
   {
    "duration": 2744,
    "start_time": "2022-06-16T18:45:06.066Z"
   },
   {
    "duration": 218,
    "start_time": "2022-06-16T18:45:11.136Z"
   },
   {
    "duration": 1629,
    "start_time": "2022-06-16T18:45:19.639Z"
   },
   {
    "duration": 168,
    "start_time": "2022-06-16T18:45:23.185Z"
   },
   {
    "duration": 914,
    "start_time": "2022-06-16T18:45:35.567Z"
   },
   {
    "duration": 132,
    "start_time": "2022-06-16T18:45:38.375Z"
   },
   {
    "duration": 614,
    "start_time": "2022-06-16T18:45:58.325Z"
   },
   {
    "duration": 138,
    "start_time": "2022-06-16T18:46:00.267Z"
   },
   {
    "duration": 635,
    "start_time": "2022-06-16T18:46:08.679Z"
   },
   {
    "duration": 119,
    "start_time": "2022-06-16T18:46:10.795Z"
   },
   {
    "duration": 140880,
    "start_time": "2022-06-16T18:46:31.081Z"
   },
   {
    "duration": 1024,
    "start_time": "2022-06-16T18:48:51.963Z"
   },
   {
    "duration": 682,
    "start_time": "2022-06-16T18:49:06.322Z"
   },
   {
    "duration": 115,
    "start_time": "2022-06-16T18:49:08.088Z"
   },
   {
    "duration": 4,
    "start_time": "2022-06-16T18:51:09.248Z"
   },
   {
    "duration": 5464,
    "start_time": "2022-06-16T18:53:37.343Z"
   },
   {
    "duration": 34,
    "start_time": "2022-06-16T18:53:50.713Z"
   },
   {
    "duration": 194,
    "start_time": "2022-06-16T18:54:41.886Z"
   },
   {
    "duration": 159,
    "start_time": "2022-06-16T18:55:00.955Z"
   },
   {
    "duration": 204,
    "start_time": "2022-06-16T18:59:23.578Z"
   },
   {
    "duration": 3,
    "start_time": "2022-06-16T19:05:26.747Z"
   },
   {
    "duration": 5,
    "start_time": "2022-06-16T19:14:09.886Z"
   },
   {
    "duration": 77805,
    "start_time": "2022-06-16T19:20:59.641Z"
   },
   {
    "duration": 644,
    "start_time": "2022-06-16T19:29:38.483Z"
   },
   {
    "duration": 704,
    "start_time": "2022-06-16T19:29:46.725Z"
   },
   {
    "duration": 27124,
    "start_time": "2022-06-16T19:29:59.409Z"
   },
   {
    "duration": 182,
    "start_time": "2022-06-16T19:30:29.558Z"
   },
   {
    "duration": 1366,
    "start_time": "2022-06-16T19:32:10.882Z"
   },
   {
    "duration": 902,
    "start_time": "2022-06-16T19:32:12.251Z"
   },
   {
    "duration": 22,
    "start_time": "2022-06-16T19:32:13.154Z"
   },
   {
    "duration": 212,
    "start_time": "2022-06-16T19:32:13.178Z"
   },
   {
    "duration": 34,
    "start_time": "2022-06-16T19:32:13.393Z"
   },
   {
    "duration": 12,
    "start_time": "2022-06-16T19:32:13.428Z"
   },
   {
    "duration": 229,
    "start_time": "2022-06-16T19:32:13.442Z"
   },
   {
    "duration": 272,
    "start_time": "2022-06-16T19:32:13.672Z"
   },
   {
    "duration": 213,
    "start_time": "2022-06-16T19:32:13.947Z"
   },
   {
    "duration": 113,
    "start_time": "2022-06-16T19:32:14.162Z"
   },
   {
    "duration": 192,
    "start_time": "2022-06-16T19:32:14.277Z"
   },
   {
    "duration": 141,
    "start_time": "2022-06-16T19:32:14.471Z"
   },
   {
    "duration": 277,
    "start_time": "2022-06-16T19:32:14.614Z"
   },
   {
    "duration": 88,
    "start_time": "2022-06-16T19:32:14.895Z"
   },
   {
    "duration": 11,
    "start_time": "2022-06-16T19:32:14.985Z"
   },
   {
    "duration": 116,
    "start_time": "2022-06-16T19:32:14.998Z"
   },
   {
    "duration": 28,
    "start_time": "2022-06-16T19:32:15.116Z"
   },
   {
    "duration": 6,
    "start_time": "2022-06-16T19:32:15.146Z"
   },
   {
    "duration": 387,
    "start_time": "2022-06-16T19:32:15.153Z"
   },
   {
    "duration": 345,
    "start_time": "2022-06-16T19:32:15.542Z"
   },
   {
    "duration": 14,
    "start_time": "2022-06-16T19:32:15.889Z"
   },
   {
    "duration": 37,
    "start_time": "2022-06-16T19:32:15.905Z"
   },
   {
    "duration": 21,
    "start_time": "2022-06-16T19:32:15.944Z"
   },
   {
    "duration": 59,
    "start_time": "2022-06-16T19:32:15.967Z"
   },
   {
    "duration": 43,
    "start_time": "2022-06-16T19:32:16.028Z"
   },
   {
    "duration": 65,
    "start_time": "2022-06-16T19:32:16.073Z"
   },
   {
    "duration": 741,
    "start_time": "2022-06-16T19:32:16.139Z"
   },
   {
    "duration": 483,
    "start_time": "2022-06-16T19:32:16.882Z"
   },
   {
    "duration": 113,
    "start_time": "2022-06-16T19:32:17.367Z"
   },
   {
    "duration": 238,
    "start_time": "2022-06-16T19:32:17.481Z"
   },
   {
    "duration": 1250,
    "start_time": "2022-06-16T19:32:17.725Z"
   },
   {
    "duration": 234,
    "start_time": "2022-06-16T19:32:18.976Z"
   },
   {
    "duration": 67570,
    "start_time": "2022-06-16T19:32:19.213Z"
   },
   {
    "duration": 516,
    "start_time": "2022-06-16T19:33:26.785Z"
   },
   {
    "duration": 1034,
    "start_time": "2022-06-16T19:33:27.303Z"
   },
   {
    "duration": 133,
    "start_time": "2022-06-16T19:33:28.341Z"
   },
   {
    "duration": 22659,
    "start_time": "2022-06-16T19:33:28.476Z"
   },
   {
    "duration": 291,
    "start_time": "2022-06-16T19:33:51.137Z"
   },
   {
    "duration": 19499,
    "start_time": "2022-06-16T19:34:50.842Z"
   },
   {
    "duration": 200,
    "start_time": "2022-06-16T19:35:10.427Z"
   },
   {
    "duration": 8743,
    "start_time": "2022-06-16T19:35:27.585Z"
   },
   {
    "duration": 105,
    "start_time": "2022-06-16T19:35:36.329Z"
   },
   {
    "duration": 32,
    "start_time": "2022-06-16T19:39:14.592Z"
   },
   {
    "duration": 1399,
    "start_time": "2022-06-16T19:52:49.395Z"
   },
   {
    "duration": 939,
    "start_time": "2022-06-16T19:52:50.796Z"
   },
   {
    "duration": 18,
    "start_time": "2022-06-16T19:52:51.737Z"
   },
   {
    "duration": 144,
    "start_time": "2022-06-16T19:52:51.757Z"
   },
   {
    "duration": 30,
    "start_time": "2022-06-16T19:52:51.904Z"
   },
   {
    "duration": 20,
    "start_time": "2022-06-16T19:52:51.936Z"
   },
   {
    "duration": 239,
    "start_time": "2022-06-16T19:52:51.958Z"
   },
   {
    "duration": 301,
    "start_time": "2022-06-16T19:52:52.199Z"
   },
   {
    "duration": 198,
    "start_time": "2022-06-16T19:52:52.503Z"
   },
   {
    "duration": 83,
    "start_time": "2022-06-16T19:52:52.703Z"
   },
   {
    "duration": 190,
    "start_time": "2022-06-16T19:52:52.788Z"
   },
   {
    "duration": 114,
    "start_time": "2022-06-16T19:52:52.979Z"
   },
   {
    "duration": 189,
    "start_time": "2022-06-16T19:52:53.094Z"
   },
   {
    "duration": 81,
    "start_time": "2022-06-16T19:52:53.286Z"
   },
   {
    "duration": 18,
    "start_time": "2022-06-16T19:52:53.369Z"
   },
   {
    "duration": 96,
    "start_time": "2022-06-16T19:52:53.389Z"
   },
   {
    "duration": 58,
    "start_time": "2022-06-16T19:52:53.487Z"
   },
   {
    "duration": 7,
    "start_time": "2022-06-16T19:52:53.547Z"
   },
   {
    "duration": 354,
    "start_time": "2022-06-16T19:52:53.556Z"
   },
   {
    "duration": 300,
    "start_time": "2022-06-16T19:52:53.911Z"
   },
   {
    "duration": 23,
    "start_time": "2022-06-16T19:52:54.213Z"
   },
   {
    "duration": 23,
    "start_time": "2022-06-16T19:52:54.238Z"
   },
   {
    "duration": 28,
    "start_time": "2022-06-16T19:52:54.263Z"
   },
   {
    "duration": 54,
    "start_time": "2022-06-16T19:52:54.293Z"
   },
   {
    "duration": 40,
    "start_time": "2022-06-16T19:52:54.349Z"
   },
   {
    "duration": 65,
    "start_time": "2022-06-16T19:52:54.392Z"
   },
   {
    "duration": 678,
    "start_time": "2022-06-16T19:52:54.459Z"
   },
   {
    "duration": 480,
    "start_time": "2022-06-16T19:52:55.139Z"
   },
   {
    "duration": 93,
    "start_time": "2022-06-16T19:52:55.621Z"
   },
   {
    "duration": 214,
    "start_time": "2022-06-16T19:52:55.726Z"
   },
   {
    "duration": 1201,
    "start_time": "2022-06-16T19:52:55.942Z"
   },
   {
    "duration": 220,
    "start_time": "2022-06-16T19:52:57.146Z"
   },
   {
    "duration": 68106,
    "start_time": "2022-06-16T19:52:57.369Z"
   },
   {
    "duration": 501,
    "start_time": "2022-06-16T19:54:05.477Z"
   },
   {
    "duration": 727,
    "start_time": "2022-06-16T19:54:05.980Z"
   },
   {
    "duration": 128,
    "start_time": "2022-06-16T19:54:06.709Z"
   },
   {
    "duration": 10396,
    "start_time": "2022-06-16T19:54:06.838Z"
   },
   {
    "duration": 104,
    "start_time": "2022-06-16T19:54:17.236Z"
   },
   {
    "duration": 1366,
    "start_time": "2022-06-17T14:40:14.042Z"
   },
   {
    "duration": 826,
    "start_time": "2022-06-17T14:40:15.409Z"
   },
   {
    "duration": 24,
    "start_time": "2022-06-17T14:40:16.237Z"
   },
   {
    "duration": 127,
    "start_time": "2022-06-17T14:40:16.263Z"
   },
   {
    "duration": 26,
    "start_time": "2022-06-17T14:40:18.790Z"
   },
   {
    "duration": 12,
    "start_time": "2022-06-17T14:40:18.982Z"
   },
   {
    "duration": 192,
    "start_time": "2022-06-17T14:40:19.293Z"
   },
   {
    "duration": 250,
    "start_time": "2022-06-17T14:40:19.487Z"
   },
   {
    "duration": 171,
    "start_time": "2022-06-17T14:40:19.739Z"
   },
   {
    "duration": 80,
    "start_time": "2022-06-17T14:40:19.982Z"
   },
   {
    "duration": 148,
    "start_time": "2022-06-17T14:40:20.442Z"
   },
   {
    "duration": 96,
    "start_time": "2022-06-17T14:40:20.606Z"
   },
   {
    "duration": 161,
    "start_time": "2022-06-17T14:40:20.938Z"
   },
   {
    "duration": 70,
    "start_time": "2022-06-17T14:40:21.362Z"
   },
   {
    "duration": 10,
    "start_time": "2022-06-17T14:40:21.555Z"
   },
   {
    "duration": 61,
    "start_time": "2022-06-17T14:40:21.930Z"
   },
   {
    "duration": 29,
    "start_time": "2022-06-17T14:40:24.065Z"
   },
   {
    "duration": 7,
    "start_time": "2022-06-17T14:40:24.418Z"
   },
   {
    "duration": 302,
    "start_time": "2022-06-17T14:40:24.742Z"
   },
   {
    "duration": 286,
    "start_time": "2022-06-17T14:40:25.090Z"
   },
   {
    "duration": 14,
    "start_time": "2022-06-17T14:40:25.834Z"
   },
   {
    "duration": 22,
    "start_time": "2022-06-17T14:40:26.314Z"
   },
   {
    "duration": 19,
    "start_time": "2022-06-17T14:40:26.802Z"
   },
   {
    "duration": 24,
    "start_time": "2022-06-17T14:40:27.913Z"
   },
   {
    "duration": 38,
    "start_time": "2022-06-17T14:40:28.350Z"
   },
   {
    "duration": 35,
    "start_time": "2022-06-17T14:40:29.222Z"
   },
   {
    "duration": 57,
    "start_time": "2022-06-17T14:40:30.514Z"
   },
   {
    "duration": 6840,
    "start_time": "2022-06-20T12:35:15.917Z"
   },
   {
    "duration": 2939,
    "start_time": "2022-06-20T12:35:22.759Z"
   },
   {
    "duration": 18,
    "start_time": "2022-06-20T12:35:25.700Z"
   },
   {
    "duration": 133,
    "start_time": "2022-06-20T12:35:25.720Z"
   },
   {
    "duration": 13,
    "start_time": "2022-06-20T12:35:25.856Z"
   },
   {
    "duration": 489,
    "start_time": "2022-06-20T12:35:25.871Z"
   },
   {
    "duration": 599,
    "start_time": "2022-06-20T12:35:26.362Z"
   },
   {
    "duration": 479,
    "start_time": "2022-06-20T12:35:26.963Z"
   },
   {
    "duration": 125,
    "start_time": "2022-06-20T12:35:27.444Z"
   },
   {
    "duration": 174,
    "start_time": "2022-06-20T12:35:27.572Z"
   },
   {
    "duration": 133,
    "start_time": "2022-06-20T12:35:27.748Z"
   },
   {
    "duration": 13,
    "start_time": "2022-06-20T12:35:27.883Z"
   },
   {
    "duration": 192,
    "start_time": "2022-06-20T12:35:27.898Z"
   },
   {
    "duration": 64,
    "start_time": "2022-06-20T12:35:28.092Z"
   },
   {
    "duration": 27,
    "start_time": "2022-06-20T12:35:28.158Z"
   },
   {
    "duration": 25,
    "start_time": "2022-06-20T12:35:28.187Z"
   },
   {
    "duration": 7,
    "start_time": "2022-06-20T12:35:28.214Z"
   },
   {
    "duration": 417,
    "start_time": "2022-06-20T12:35:28.223Z"
   },
   {
    "duration": 325,
    "start_time": "2022-06-20T12:35:28.642Z"
   },
   {
    "duration": 14,
    "start_time": "2022-06-20T12:35:28.968Z"
   },
   {
    "duration": 22,
    "start_time": "2022-06-20T12:35:28.984Z"
   },
   {
    "duration": 45,
    "start_time": "2022-06-20T12:35:29.008Z"
   },
   {
    "duration": 25,
    "start_time": "2022-06-20T12:35:29.055Z"
   },
   {
    "duration": 26,
    "start_time": "2022-06-20T12:35:29.081Z"
   },
   {
    "duration": 57,
    "start_time": "2022-06-20T12:35:29.109Z"
   },
   {
    "duration": 69,
    "start_time": "2022-06-20T12:35:29.168Z"
   },
   {
    "duration": 785,
    "start_time": "2022-06-20T12:35:29.239Z"
   },
   {
    "duration": 520,
    "start_time": "2022-06-20T12:35:30.029Z"
   },
   {
    "duration": 113,
    "start_time": "2022-06-20T12:35:30.552Z"
   },
   {
    "duration": 245,
    "start_time": "2022-06-20T12:35:30.668Z"
   },
   {
    "duration": 1312,
    "start_time": "2022-06-20T12:35:30.914Z"
   },
   {
    "duration": 232,
    "start_time": "2022-06-20T12:35:32.228Z"
   },
   {
    "duration": 1594,
    "start_time": "2022-06-20T12:36:06.460Z"
   },
   {
    "duration": 860,
    "start_time": "2022-06-20T12:36:08.057Z"
   },
   {
    "duration": 16,
    "start_time": "2022-06-20T12:36:08.919Z"
   },
   {
    "duration": 146,
    "start_time": "2022-06-20T12:36:08.937Z"
   },
   {
    "duration": 14,
    "start_time": "2022-06-20T12:36:09.085Z"
   },
   {
    "duration": 513,
    "start_time": "2022-06-20T12:36:09.100Z"
   },
   {
    "duration": 581,
    "start_time": "2022-06-20T12:36:09.615Z"
   },
   {
    "duration": 474,
    "start_time": "2022-06-20T12:36:10.198Z"
   },
   {
    "duration": 124,
    "start_time": "2022-06-20T12:36:10.674Z"
   },
   {
    "duration": 183,
    "start_time": "2022-06-20T12:36:10.801Z"
   },
   {
    "duration": 159,
    "start_time": "2022-06-20T12:36:10.986Z"
   },
   {
    "duration": 18,
    "start_time": "2022-06-20T12:36:11.146Z"
   },
   {
    "duration": 189,
    "start_time": "2022-06-20T12:36:11.165Z"
   },
   {
    "duration": 56,
    "start_time": "2022-06-20T12:36:11.356Z"
   },
   {
    "duration": 41,
    "start_time": "2022-06-20T12:36:11.413Z"
   },
   {
    "duration": 25,
    "start_time": "2022-06-20T12:36:11.456Z"
   },
   {
    "duration": 7,
    "start_time": "2022-06-20T12:36:11.483Z"
   },
   {
    "duration": 366,
    "start_time": "2022-06-20T12:36:11.491Z"
   },
   {
    "duration": 349,
    "start_time": "2022-06-20T12:36:11.859Z"
   },
   {
    "duration": 16,
    "start_time": "2022-06-20T12:36:12.210Z"
   },
   {
    "duration": 34,
    "start_time": "2022-06-20T12:36:12.227Z"
   },
   {
    "duration": 19,
    "start_time": "2022-06-20T12:36:12.263Z"
   },
   {
    "duration": 24,
    "start_time": "2022-06-20T12:36:12.284Z"
   },
   {
    "duration": 51,
    "start_time": "2022-06-20T12:36:12.310Z"
   },
   {
    "duration": 40,
    "start_time": "2022-06-20T12:36:12.363Z"
   },
   {
    "duration": 78,
    "start_time": "2022-06-20T12:36:12.404Z"
   },
   {
    "duration": 929,
    "start_time": "2022-06-20T12:36:12.483Z"
   },
   {
    "duration": 505,
    "start_time": "2022-06-20T12:36:13.415Z"
   },
   {
    "duration": 99,
    "start_time": "2022-06-20T12:36:13.921Z"
   },
   {
    "duration": 245,
    "start_time": "2022-06-20T12:36:14.022Z"
   },
   {
    "duration": 1302,
    "start_time": "2022-06-20T12:36:14.270Z"
   },
   {
    "duration": 228,
    "start_time": "2022-06-20T12:36:15.574Z"
   },
   {
    "duration": 70434,
    "start_time": "2022-06-20T12:36:15.803Z"
   },
   {
    "duration": 541,
    "start_time": "2022-06-20T12:37:26.238Z"
   },
   {
    "duration": 1749,
    "start_time": "2022-06-20T12:37:26.781Z"
   },
   {
    "duration": 150,
    "start_time": "2022-06-20T12:37:28.533Z"
   },
   {
    "duration": 7073,
    "start_time": "2022-06-20T12:37:28.684Z"
   },
   {
    "duration": 108,
    "start_time": "2022-06-20T12:37:35.759Z"
   },
   {
    "duration": 1904,
    "start_time": "2022-06-20T12:37:49.208Z"
   },
   {
    "duration": 1649,
    "start_time": "2022-06-20T12:37:58.342Z"
   },
   {
    "duration": 861,
    "start_time": "2022-06-20T12:37:59.993Z"
   },
   {
    "duration": 18,
    "start_time": "2022-06-20T12:38:00.856Z"
   },
   {
    "duration": 202,
    "start_time": "2022-06-20T12:38:00.877Z"
   },
   {
    "duration": 16,
    "start_time": "2022-06-20T12:38:01.081Z"
   },
   {
    "duration": 525,
    "start_time": "2022-06-20T12:38:01.099Z"
   },
   {
    "duration": 612,
    "start_time": "2022-06-20T12:38:01.625Z"
   },
   {
    "duration": 481,
    "start_time": "2022-06-20T12:38:02.239Z"
   },
   {
    "duration": 127,
    "start_time": "2022-06-20T12:38:02.721Z"
   },
   {
    "duration": 170,
    "start_time": "2022-06-20T12:38:02.854Z"
   },
   {
    "duration": 131,
    "start_time": "2022-06-20T12:38:03.026Z"
   },
   {
    "duration": 14,
    "start_time": "2022-06-20T12:38:03.159Z"
   },
   {
    "duration": 182,
    "start_time": "2022-06-20T12:38:03.174Z"
   },
   {
    "duration": 55,
    "start_time": "2022-06-20T12:38:03.358Z"
   },
   {
    "duration": 43,
    "start_time": "2022-06-20T12:38:03.415Z"
   },
   {
    "duration": 37,
    "start_time": "2022-06-20T12:38:03.460Z"
   },
   {
    "duration": 6,
    "start_time": "2022-06-20T12:38:03.499Z"
   },
   {
    "duration": 351,
    "start_time": "2022-06-20T12:38:03.507Z"
   },
   {
    "duration": 317,
    "start_time": "2022-06-20T12:38:03.860Z"
   },
   {
    "duration": 15,
    "start_time": "2022-06-20T12:38:04.179Z"
   },
   {
    "duration": 23,
    "start_time": "2022-06-20T12:38:04.196Z"
   },
   {
    "duration": 41,
    "start_time": "2022-06-20T12:38:04.220Z"
   },
   {
    "duration": 25,
    "start_time": "2022-06-20T12:38:04.263Z"
   },
   {
    "duration": 26,
    "start_time": "2022-06-20T12:38:04.290Z"
   },
   {
    "duration": 63,
    "start_time": "2022-06-20T12:38:04.317Z"
   },
   {
    "duration": 73,
    "start_time": "2022-06-20T12:38:04.381Z"
   },
   {
    "duration": 880,
    "start_time": "2022-06-20T12:38:04.455Z"
   },
   {
    "duration": 514,
    "start_time": "2022-06-20T12:38:05.338Z"
   },
   {
    "duration": 99,
    "start_time": "2022-06-20T12:38:05.854Z"
   },
   {
    "duration": 223,
    "start_time": "2022-06-20T12:38:05.955Z"
   },
   {
    "duration": 1290,
    "start_time": "2022-06-20T12:38:06.180Z"
   },
   {
    "duration": 231,
    "start_time": "2022-06-20T12:38:07.472Z"
   },
   {
    "duration": 69945,
    "start_time": "2022-06-20T12:38:07.705Z"
   },
   {
    "duration": 539,
    "start_time": "2022-06-20T12:39:17.652Z"
   },
   {
    "duration": 1568,
    "start_time": "2022-06-20T12:39:18.194Z"
   },
   {
    "duration": 126,
    "start_time": "2022-06-20T12:39:19.764Z"
   },
   {
    "duration": 769,
    "start_time": "2022-06-20T12:39:19.892Z"
   },
   {
    "duration": 107,
    "start_time": "2022-06-20T12:39:20.662Z"
   },
   {
    "duration": 1550,
    "start_time": "2022-06-20T12:43:00.022Z"
   },
   {
    "duration": 887,
    "start_time": "2022-06-20T12:43:01.574Z"
   },
   {
    "duration": 16,
    "start_time": "2022-06-20T12:43:03.505Z"
   },
   {
    "duration": 129,
    "start_time": "2022-06-20T12:43:04.788Z"
   },
   {
    "duration": 14,
    "start_time": "2022-06-20T12:43:13.157Z"
   },
   {
    "duration": 459,
    "start_time": "2022-06-20T12:43:16.584Z"
   },
   {
    "duration": 587,
    "start_time": "2022-06-20T12:43:18.064Z"
   },
   {
    "duration": 445,
    "start_time": "2022-06-20T12:43:20.325Z"
   },
   {
    "duration": 120,
    "start_time": "2022-06-20T12:43:32.692Z"
   },
   {
    "duration": 184,
    "start_time": "2022-06-20T12:43:38.816Z"
   },
   {
    "duration": 156,
    "start_time": "2022-06-20T12:43:41.017Z"
   },
   {
    "duration": 6,
    "start_time": "2022-06-20T12:51:09.886Z"
   },
   {
    "duration": 30,
    "start_time": "2022-06-20T12:51:29.347Z"
   },
   {
    "duration": 24,
    "start_time": "2022-06-20T12:51:50.389Z"
   },
   {
    "duration": 140,
    "start_time": "2022-06-20T12:57:16.384Z"
   },
   {
    "duration": 173,
    "start_time": "2022-06-20T12:57:19.821Z"
   },
   {
    "duration": 122,
    "start_time": "2022-06-20T12:57:39.881Z"
   },
   {
    "duration": 10,
    "start_time": "2022-06-20T12:57:56.045Z"
   },
   {
    "duration": 6,
    "start_time": "2022-06-20T12:58:01.628Z"
   },
   {
    "duration": 26,
    "start_time": "2022-06-20T12:58:27.550Z"
   },
   {
    "duration": 14,
    "start_time": "2022-06-20T12:58:50.083Z"
   },
   {
    "duration": 8,
    "start_time": "2022-06-20T12:59:55.984Z"
   },
   {
    "duration": 97,
    "start_time": "2022-06-20T13:03:47.544Z"
   },
   {
    "duration": 18,
    "start_time": "2022-06-20T13:03:59.798Z"
   },
   {
    "duration": 13,
    "start_time": "2022-06-20T13:04:13.514Z"
   },
   {
    "duration": 15,
    "start_time": "2022-06-20T13:06:21.833Z"
   },
   {
    "duration": 51,
    "start_time": "2022-06-20T13:06:28.193Z"
   },
   {
    "duration": 54,
    "start_time": "2022-06-20T13:08:51.026Z"
   },
   {
    "duration": 1416,
    "start_time": "2022-06-20T13:09:32.904Z"
   },
   {
    "duration": 873,
    "start_time": "2022-06-20T13:09:35.108Z"
   },
   {
    "duration": 18,
    "start_time": "2022-06-20T13:09:35.983Z"
   },
   {
    "duration": 157,
    "start_time": "2022-06-20T13:09:37.041Z"
   },
   {
    "duration": 13,
    "start_time": "2022-06-20T13:09:40.125Z"
   },
   {
    "duration": 462,
    "start_time": "2022-06-20T13:09:42.293Z"
   },
   {
    "duration": 131,
    "start_time": "2022-06-20T13:11:32.288Z"
   },
   {
    "duration": 472,
    "start_time": "2022-06-20T13:16:19.316Z"
   },
   {
    "duration": 549,
    "start_time": "2022-06-20T13:16:20.612Z"
   },
   {
    "duration": 428,
    "start_time": "2022-06-20T13:16:22.018Z"
   },
   {
    "duration": 128,
    "start_time": "2022-06-20T13:16:23.936Z"
   },
   {
    "duration": 155,
    "start_time": "2022-06-20T13:16:26.866Z"
   },
   {
    "duration": 148,
    "start_time": "2022-06-20T13:17:00.048Z"
   },
   {
    "duration": 180,
    "start_time": "2022-06-20T13:17:02.391Z"
   },
   {
    "duration": 91,
    "start_time": "2022-06-20T13:17:25.812Z"
   },
   {
    "duration": 55,
    "start_time": "2022-06-20T13:17:28.666Z"
   },
   {
    "duration": 21,
    "start_time": "2022-06-20T13:18:19.028Z"
   },
   {
    "duration": 10,
    "start_time": "2022-06-20T13:18:21.571Z"
   },
   {
    "duration": 7,
    "start_time": "2022-06-20T13:19:06.667Z"
   },
   {
    "duration": 333,
    "start_time": "2022-06-20T13:19:08.332Z"
   },
   {
    "duration": 284,
    "start_time": "2022-06-20T13:19:09.710Z"
   },
   {
    "duration": 16,
    "start_time": "2022-06-20T13:19:11.018Z"
   },
   {
    "duration": 23,
    "start_time": "2022-06-20T13:19:12.165Z"
   },
   {
    "duration": 20,
    "start_time": "2022-06-20T13:19:32.620Z"
   },
   {
    "duration": 22,
    "start_time": "2022-06-20T13:20:27.171Z"
   },
   {
    "duration": 19,
    "start_time": "2022-06-20T13:20:31.535Z"
   },
   {
    "duration": 23,
    "start_time": "2022-06-20T13:21:06.378Z"
   },
   {
    "duration": 22,
    "start_time": "2022-06-20T13:21:13.866Z"
   },
   {
    "duration": 37,
    "start_time": "2022-06-20T13:21:17.944Z"
   },
   {
    "duration": 55,
    "start_time": "2022-06-20T13:21:23.904Z"
   },
   {
    "duration": 7,
    "start_time": "2022-06-20T13:29:41.832Z"
   },
   {
    "duration": 7,
    "start_time": "2022-06-20T13:30:23.421Z"
   },
   {
    "duration": 5,
    "start_time": "2022-06-20T13:30:32.704Z"
   },
   {
    "duration": 3,
    "start_time": "2022-06-20T13:30:50.412Z"
   },
   {
    "duration": 9,
    "start_time": "2022-06-20T13:30:57.722Z"
   },
   {
    "duration": 239,
    "start_time": "2022-06-20T13:31:11.502Z"
   },
   {
    "duration": 21,
    "start_time": "2022-06-20T13:31:42.645Z"
   },
   {
    "duration": 37,
    "start_time": "2022-06-20T13:32:03.461Z"
   },
   {
    "duration": 1380,
    "start_time": "2022-06-20T13:32:33.902Z"
   },
   {
    "duration": 764,
    "start_time": "2022-06-20T13:32:35.284Z"
   },
   {
    "duration": 15,
    "start_time": "2022-06-20T13:32:36.177Z"
   },
   {
    "duration": 129,
    "start_time": "2022-06-20T13:32:37.506Z"
   },
   {
    "duration": 449,
    "start_time": "2022-06-20T13:32:40.018Z"
   },
   {
    "duration": 524,
    "start_time": "2022-06-20T13:32:41.200Z"
   },
   {
    "duration": 435,
    "start_time": "2022-06-20T13:32:43.759Z"
   },
   {
    "duration": 118,
    "start_time": "2022-06-20T13:32:46.022Z"
   },
   {
    "duration": 197,
    "start_time": "2022-06-20T13:32:49.213Z"
   },
   {
    "duration": 122,
    "start_time": "2022-06-20T13:32:51.831Z"
   },
   {
    "duration": 181,
    "start_time": "2022-06-20T13:32:53.840Z"
   },
   {
    "duration": 81,
    "start_time": "2022-06-20T13:32:56.341Z"
   },
   {
    "duration": 54,
    "start_time": "2022-06-20T13:32:57.526Z"
   },
   {
    "duration": 21,
    "start_time": "2022-06-20T13:33:02.730Z"
   },
   {
    "duration": 11,
    "start_time": "2022-06-20T13:33:04.035Z"
   },
   {
    "duration": 7,
    "start_time": "2022-06-20T13:33:05.906Z"
   },
   {
    "duration": 306,
    "start_time": "2022-06-20T13:33:08.661Z"
   },
   {
    "duration": 287,
    "start_time": "2022-06-20T13:33:10.131Z"
   },
   {
    "duration": 14,
    "start_time": "2022-06-20T13:33:11.248Z"
   },
   {
    "duration": 23,
    "start_time": "2022-06-20T13:33:12.424Z"
   },
   {
    "duration": 20,
    "start_time": "2022-06-20T13:33:13.364Z"
   },
   {
    "duration": 23,
    "start_time": "2022-06-20T13:33:15.733Z"
   },
   {
    "duration": 22,
    "start_time": "2022-06-20T13:33:16.661Z"
   },
   {
    "duration": 41,
    "start_time": "2022-06-20T13:33:19.910Z"
   },
   {
    "duration": 244,
    "start_time": "2022-06-20T13:33:21.006Z"
   },
   {
    "duration": 40,
    "start_time": "2022-06-20T13:33:22.736Z"
   },
   {
    "duration": 47,
    "start_time": "2022-06-20T13:33:44.518Z"
   },
   {
    "duration": 27,
    "start_time": "2022-06-20T13:34:14.690Z"
   },
   {
    "duration": 1440,
    "start_time": "2022-06-20T13:34:40.960Z"
   },
   {
    "duration": 793,
    "start_time": "2022-06-20T13:34:42.560Z"
   },
   {
    "duration": 18,
    "start_time": "2022-06-20T13:34:43.705Z"
   },
   {
    "duration": 132,
    "start_time": "2022-06-20T13:34:44.653Z"
   },
   {
    "duration": 432,
    "start_time": "2022-06-20T13:34:47.569Z"
   },
   {
    "duration": 571,
    "start_time": "2022-06-20T13:34:48.866Z"
   },
   {
    "duration": 462,
    "start_time": "2022-06-20T13:34:50.505Z"
   },
   {
    "duration": 115,
    "start_time": "2022-06-20T13:34:53.014Z"
   },
   {
    "duration": 163,
    "start_time": "2022-06-20T13:34:57.222Z"
   },
   {
    "duration": 130,
    "start_time": "2022-06-20T13:35:01.206Z"
   },
   {
    "duration": 177,
    "start_time": "2022-06-20T13:35:03.207Z"
   },
   {
    "duration": 80,
    "start_time": "2022-06-20T13:35:09.001Z"
   },
   {
    "duration": 58,
    "start_time": "2022-06-20T13:35:10.644Z"
   },
   {
    "duration": 21,
    "start_time": "2022-06-20T13:35:16.811Z"
   },
   {
    "duration": 10,
    "start_time": "2022-06-20T13:35:17.931Z"
   },
   {
    "duration": 6,
    "start_time": "2022-06-20T13:35:24.067Z"
   },
   {
    "duration": 331,
    "start_time": "2022-06-20T13:35:30.998Z"
   },
   {
    "duration": 297,
    "start_time": "2022-06-20T13:35:33.507Z"
   },
   {
    "duration": 14,
    "start_time": "2022-06-20T13:35:36.604Z"
   },
   {
    "duration": 31,
    "start_time": "2022-06-20T13:35:38.358Z"
   },
   {
    "duration": 20,
    "start_time": "2022-06-20T13:35:39.624Z"
   },
   {
    "duration": 24,
    "start_time": "2022-06-20T13:35:41.921Z"
   },
   {
    "duration": 24,
    "start_time": "2022-06-20T13:35:42.862Z"
   },
   {
    "duration": 36,
    "start_time": "2022-06-20T13:35:45.072Z"
   },
   {
    "duration": 59,
    "start_time": "2022-06-20T13:35:51.709Z"
   },
   {
    "duration": 1509,
    "start_time": "2022-06-20T15:55:33.767Z"
   },
   {
    "duration": 3175,
    "start_time": "2022-06-20T15:55:35.279Z"
   },
   {
    "duration": 26,
    "start_time": "2022-06-20T15:55:38.456Z"
   },
   {
    "duration": 136,
    "start_time": "2022-06-20T15:55:39.429Z"
   },
   {
    "duration": 490,
    "start_time": "2022-06-20T15:55:42.767Z"
   },
   {
    "duration": 524,
    "start_time": "2022-06-20T15:55:44.394Z"
   },
   {
    "duration": 529,
    "start_time": "2022-06-20T15:55:46.585Z"
   },
   {
    "duration": 181,
    "start_time": "2022-06-20T15:55:49.040Z"
   },
   {
    "duration": 164,
    "start_time": "2022-06-20T15:55:52.443Z"
   },
   {
    "duration": 172,
    "start_time": "2022-06-20T15:56:35.440Z"
   },
   {
    "duration": 174,
    "start_time": "2022-06-20T15:56:40.469Z"
   },
   {
    "duration": 99,
    "start_time": "2022-06-20T15:56:48.932Z"
   },
   {
    "duration": 79,
    "start_time": "2022-06-20T15:56:50.777Z"
   },
   {
    "duration": 16,
    "start_time": "2022-06-20T15:56:58.073Z"
   },
   {
    "duration": 46,
    "start_time": "2022-06-20T15:57:05.645Z"
   },
   {
    "duration": 22,
    "start_time": "2022-06-20T15:57:15.137Z"
   },
   {
    "duration": 11,
    "start_time": "2022-06-20T15:57:16.338Z"
   },
   {
    "duration": 7,
    "start_time": "2022-06-20T15:57:19.428Z"
   },
   {
    "duration": 348,
    "start_time": "2022-06-20T15:57:22.125Z"
   },
   {
    "duration": 288,
    "start_time": "2022-06-20T15:57:27.817Z"
   },
   {
    "duration": 18,
    "start_time": "2022-06-20T15:57:31.797Z"
   },
   {
    "duration": 30,
    "start_time": "2022-06-20T15:57:35.229Z"
   },
   {
    "duration": 103,
    "start_time": "2022-06-20T15:57:39.500Z"
   },
   {
    "duration": 29,
    "start_time": "2022-06-20T15:57:49.244Z"
   },
   {
    "duration": 21,
    "start_time": "2022-06-20T15:57:51.867Z"
   },
   {
    "duration": 32,
    "start_time": "2022-06-20T15:59:07.495Z"
   },
   {
    "duration": 58,
    "start_time": "2022-06-20T15:59:31.732Z"
   },
   {
    "duration": 383,
    "start_time": "2022-06-20T16:02:16.758Z"
   },
   {
    "duration": 13,
    "start_time": "2022-06-20T16:03:32.570Z"
   },
   {
    "duration": 33,
    "start_time": "2022-06-20T16:20:18.729Z"
   },
   {
    "duration": 32,
    "start_time": "2022-06-20T16:20:55.940Z"
   },
   {
    "duration": 1697,
    "start_time": "2022-06-20T17:23:18.442Z"
   },
   {
    "duration": 1585,
    "start_time": "2022-06-20T18:44:52.757Z"
   },
   {
    "duration": 1054,
    "start_time": "2022-06-20T18:44:54.345Z"
   },
   {
    "duration": 16,
    "start_time": "2022-06-20T18:44:55.400Z"
   },
   {
    "duration": 122,
    "start_time": "2022-06-20T18:44:55.418Z"
   },
   {
    "duration": 429,
    "start_time": "2022-06-20T18:44:55.542Z"
   },
   {
    "duration": 593,
    "start_time": "2022-06-20T18:44:55.973Z"
   },
   {
    "duration": 418,
    "start_time": "2022-06-20T18:44:56.568Z"
   },
   {
    "duration": 120,
    "start_time": "2022-06-20T18:44:56.988Z"
   },
   {
    "duration": 197,
    "start_time": "2022-06-20T18:44:57.109Z"
   },
   {
    "duration": 139,
    "start_time": "2022-06-20T18:44:57.309Z"
   },
   {
    "duration": 184,
    "start_time": "2022-06-20T18:44:57.450Z"
   },
   {
    "duration": 92,
    "start_time": "2022-06-20T18:44:57.636Z"
   },
   {
    "duration": 55,
    "start_time": "2022-06-20T18:44:57.730Z"
   },
   {
    "duration": 22,
    "start_time": "2022-06-20T18:44:57.787Z"
   },
   {
    "duration": 10,
    "start_time": "2022-06-20T18:44:57.828Z"
   },
   {
    "duration": 18,
    "start_time": "2022-06-20T18:44:57.839Z"
   },
   {
    "duration": 343,
    "start_time": "2022-06-20T18:44:57.859Z"
   },
   {
    "duration": 339,
    "start_time": "2022-06-20T18:44:58.203Z"
   },
   {
    "duration": 18,
    "start_time": "2022-06-20T18:44:58.543Z"
   },
   {
    "duration": 29,
    "start_time": "2022-06-20T18:44:58.563Z"
   },
   {
    "duration": 54,
    "start_time": "2022-06-20T18:44:58.595Z"
   },
   {
    "duration": 28,
    "start_time": "2022-06-20T18:44:58.651Z"
   },
   {
    "duration": 61,
    "start_time": "2022-06-20T18:44:58.681Z"
   },
   {
    "duration": 40,
    "start_time": "2022-06-20T18:44:58.744Z"
   },
   {
    "duration": 68,
    "start_time": "2022-06-20T18:44:58.786Z"
   },
   {
    "duration": 79,
    "start_time": "2022-06-20T18:44:58.857Z"
   },
   {
    "duration": 714,
    "start_time": "2022-06-20T18:44:58.939Z"
   },
   {
    "duration": 545,
    "start_time": "2022-06-20T18:44:59.657Z"
   },
   {
    "duration": 106,
    "start_time": "2022-06-20T18:45:00.204Z"
   },
   {
    "duration": 227,
    "start_time": "2022-06-20T18:45:00.312Z"
   },
   {
    "duration": 188627,
    "start_time": "2022-06-20T18:45:00.541Z"
   },
   {
    "duration": 1242,
    "start_time": "2022-06-20T18:48:09.171Z"
   },
   {
    "duration": 264,
    "start_time": "2022-06-20T18:48:10.415Z"
   },
   {
    "duration": 1605622,
    "start_time": "2022-06-20T18:48:10.681Z"
   },
   {
    "duration": 78871,
    "start_time": "2022-06-20T19:14:56.310Z"
   },
   {
    "duration": 525,
    "start_time": "2022-06-20T19:16:15.183Z"
   },
   {
    "duration": 1670,
    "start_time": "2022-06-20T19:16:15.710Z"
   },
   {
    "duration": 134,
    "start_time": "2022-06-20T19:16:17.382Z"
   },
   {
    "duration": 9042,
    "start_time": "2022-06-20T19:16:17.518Z"
   },
   {
    "duration": 116,
    "start_time": "2022-06-20T19:16:26.569Z"
   },
   {
    "duration": 1492,
    "start_time": "2022-06-20T19:39:50.757Z"
   },
   {
    "duration": 905,
    "start_time": "2022-06-20T19:39:52.252Z"
   },
   {
    "duration": 21,
    "start_time": "2022-06-20T19:39:53.159Z"
   },
   {
    "duration": 184,
    "start_time": "2022-06-20T19:39:53.182Z"
   },
   {
    "duration": 509,
    "start_time": "2022-06-20T19:39:53.368Z"
   },
   {
    "duration": 623,
    "start_time": "2022-06-20T19:39:53.879Z"
   },
   {
    "duration": 537,
    "start_time": "2022-06-20T19:39:54.504Z"
   },
   {
    "duration": 151,
    "start_time": "2022-06-20T19:39:55.046Z"
   },
   {
    "duration": 269,
    "start_time": "2022-06-20T19:39:55.199Z"
   },
   {
    "duration": 149,
    "start_time": "2022-06-20T19:39:55.470Z"
   },
   {
    "duration": 185,
    "start_time": "2022-06-20T19:39:55.621Z"
   },
   {
    "duration": 108,
    "start_time": "2022-06-20T19:39:55.808Z"
   },
   {
    "duration": 88,
    "start_time": "2022-06-20T19:39:55.918Z"
   },
   {
    "duration": 33,
    "start_time": "2022-06-20T19:39:56.009Z"
   },
   {
    "duration": 25,
    "start_time": "2022-06-20T19:39:56.050Z"
   },
   {
    "duration": 9,
    "start_time": "2022-06-20T19:39:56.076Z"
   },
   {
    "duration": 445,
    "start_time": "2022-06-20T19:39:56.087Z"
   },
   {
    "duration": 393,
    "start_time": "2022-06-20T19:39:56.539Z"
   },
   {
    "duration": 17,
    "start_time": "2022-06-20T19:39:56.939Z"
   },
   {
    "duration": 38,
    "start_time": "2022-06-20T19:39:56.958Z"
   },
   {
    "duration": 18,
    "start_time": "2022-06-20T19:39:56.998Z"
   },
   {
    "duration": 35,
    "start_time": "2022-06-20T19:39:57.018Z"
   },
   {
    "duration": 25,
    "start_time": "2022-06-20T19:39:57.054Z"
   },
   {
    "duration": 24,
    "start_time": "2022-06-20T19:39:57.081Z"
   },
   {
    "duration": 46,
    "start_time": "2022-06-20T19:39:57.128Z"
   },
   {
    "duration": 79,
    "start_time": "2022-06-20T19:39:57.176Z"
   },
   {
    "duration": 659,
    "start_time": "2022-06-20T19:39:57.260Z"
   },
   {
    "duration": 495,
    "start_time": "2022-06-20T19:39:57.921Z"
   },
   {
    "duration": 103,
    "start_time": "2022-06-20T19:39:58.417Z"
   },
   {
    "duration": 250,
    "start_time": "2022-06-20T19:39:58.526Z"
   },
   {
    "duration": 167416,
    "start_time": "2022-06-20T19:39:58.777Z"
   },
   {
    "duration": 4514,
    "start_time": "2022-06-20T19:42:46.195Z"
   },
   {
    "duration": 247,
    "start_time": "2022-06-20T19:42:50.711Z"
   },
   {
    "duration": 2,
    "start_time": "2022-06-20T19:42:50.960Z"
   },
   {
    "duration": 283524,
    "start_time": "2022-06-20T19:42:50.964Z"
   },
   {
    "duration": 2410,
    "start_time": "2022-06-20T19:47:34.490Z"
   },
   {
    "duration": 2224,
    "start_time": "2022-06-20T19:47:36.902Z"
   },
   {
    "duration": 1146,
    "start_time": "2022-06-20T19:47:39.127Z"
   },
   {
    "duration": 123,
    "start_time": "2022-06-20T19:47:40.274Z"
   },
   {
    "duration": 4245,
    "start_time": "2022-06-20T19:47:40.398Z"
   },
   {
    "duration": 103,
    "start_time": "2022-06-20T19:47:44.647Z"
   },
   {
    "duration": 2288,
    "start_time": "2022-06-20T19:48:31.771Z"
   },
   {
    "duration": 3,
    "start_time": "2022-06-20T19:49:34.481Z"
   },
   {
    "duration": 129,
    "start_time": "2022-06-20T19:55:16.653Z"
   },
   {
    "duration": 33838,
    "start_time": "2022-06-20T19:55:31.618Z"
   },
   {
    "duration": 1502,
    "start_time": "2022-06-20T19:56:17.080Z"
   },
   {
    "duration": 880,
    "start_time": "2022-06-20T19:56:18.584Z"
   },
   {
    "duration": 17,
    "start_time": "2022-06-20T19:56:19.466Z"
   },
   {
    "duration": 184,
    "start_time": "2022-06-20T19:56:19.485Z"
   },
   {
    "duration": 547,
    "start_time": "2022-06-20T19:56:19.670Z"
   },
   {
    "duration": 627,
    "start_time": "2022-06-20T19:56:20.219Z"
   },
   {
    "duration": 512,
    "start_time": "2022-06-20T19:56:20.848Z"
   },
   {
    "duration": 130,
    "start_time": "2022-06-20T19:56:21.364Z"
   },
   {
    "duration": 172,
    "start_time": "2022-06-20T19:56:21.496Z"
   },
   {
    "duration": 184,
    "start_time": "2022-06-20T19:56:21.673Z"
   },
   {
    "duration": 210,
    "start_time": "2022-06-20T19:56:21.859Z"
   },
   {
    "duration": 98,
    "start_time": "2022-06-20T19:56:22.071Z"
   },
   {
    "duration": 86,
    "start_time": "2022-06-20T19:56:22.171Z"
   },
   {
    "duration": 21,
    "start_time": "2022-06-20T19:56:22.259Z"
   },
   {
    "duration": 12,
    "start_time": "2022-06-20T19:56:22.282Z"
   },
   {
    "duration": 9,
    "start_time": "2022-06-20T19:56:22.296Z"
   },
   {
    "duration": 339,
    "start_time": "2022-06-20T19:56:22.331Z"
   },
   {
    "duration": 334,
    "start_time": "2022-06-20T19:56:22.672Z"
   },
   {
    "duration": 24,
    "start_time": "2022-06-20T19:56:23.008Z"
   },
   {
    "duration": 30,
    "start_time": "2022-06-20T19:56:23.037Z"
   },
   {
    "duration": 20,
    "start_time": "2022-06-20T19:56:23.068Z"
   },
   {
    "duration": 56,
    "start_time": "2022-06-20T19:56:23.090Z"
   },
   {
    "duration": 29,
    "start_time": "2022-06-20T19:56:23.151Z"
   },
   {
    "duration": 30,
    "start_time": "2022-06-20T19:56:23.183Z"
   },
   {
    "duration": 50,
    "start_time": "2022-06-20T19:56:23.227Z"
   },
   {
    "duration": 79,
    "start_time": "2022-06-20T19:56:23.279Z"
   },
   {
    "duration": 725,
    "start_time": "2022-06-20T19:56:23.360Z"
   },
   {
    "duration": 474,
    "start_time": "2022-06-20T19:56:24.088Z"
   },
   {
    "duration": 101,
    "start_time": "2022-06-20T19:56:24.564Z"
   },
   {
    "duration": 259,
    "start_time": "2022-06-20T19:56:24.668Z"
   },
   {
    "duration": 162592,
    "start_time": "2022-06-20T19:56:24.928Z"
   },
   {
    "duration": 4201,
    "start_time": "2022-06-20T19:59:07.522Z"
   },
   {
    "duration": 246,
    "start_time": "2022-06-20T19:59:11.730Z"
   },
   {
    "duration": 3,
    "start_time": "2022-06-20T19:59:11.978Z"
   },
   {
    "duration": 290675,
    "start_time": "2022-06-20T19:59:11.983Z"
   },
   {
    "duration": 2477,
    "start_time": "2022-06-20T20:04:02.660Z"
   },
   {
    "duration": 1408,
    "start_time": "2022-06-20T20:05:56.972Z"
   },
   {
    "duration": 875,
    "start_time": "2022-06-20T20:05:58.382Z"
   },
   {
    "duration": 20,
    "start_time": "2022-06-20T20:05:59.262Z"
   },
   {
    "duration": 157,
    "start_time": "2022-06-20T20:05:59.284Z"
   },
   {
    "duration": 521,
    "start_time": "2022-06-20T20:05:59.445Z"
   },
   {
    "duration": 707,
    "start_time": "2022-06-20T20:05:59.967Z"
   },
   {
    "duration": 523,
    "start_time": "2022-06-20T20:06:00.675Z"
   },
   {
    "duration": 177,
    "start_time": "2022-06-20T20:06:01.200Z"
   },
   {
    "duration": 189,
    "start_time": "2022-06-20T20:06:01.379Z"
   },
   {
    "duration": 144,
    "start_time": "2022-06-20T20:06:01.571Z"
   },
   {
    "duration": 200,
    "start_time": "2022-06-20T20:06:01.716Z"
   },
   {
    "duration": 144,
    "start_time": "2022-06-20T20:06:01.918Z"
   },
   {
    "duration": 64,
    "start_time": "2022-06-20T20:06:02.066Z"
   },
   {
    "duration": 29,
    "start_time": "2022-06-20T20:06:02.139Z"
   },
   {
    "duration": 23,
    "start_time": "2022-06-20T20:06:02.171Z"
   },
   {
    "duration": 16,
    "start_time": "2022-06-20T20:06:02.196Z"
   },
   {
    "duration": 395,
    "start_time": "2022-06-20T20:06:02.214Z"
   },
   {
    "duration": 386,
    "start_time": "2022-06-20T20:06:02.612Z"
   },
   {
    "duration": 14,
    "start_time": "2022-06-20T20:06:03.000Z"
   },
   {
    "duration": 46,
    "start_time": "2022-06-20T20:06:03.016Z"
   },
   {
    "duration": 33,
    "start_time": "2022-06-20T20:06:03.069Z"
   },
   {
    "duration": 34,
    "start_time": "2022-06-20T20:06:03.105Z"
   },
   {
    "duration": 33,
    "start_time": "2022-06-20T20:06:03.141Z"
   },
   {
    "duration": 44,
    "start_time": "2022-06-20T20:06:03.176Z"
   },
   {
    "duration": 63,
    "start_time": "2022-06-20T20:06:03.222Z"
   },
   {
    "duration": 74,
    "start_time": "2022-06-20T20:06:03.288Z"
   },
   {
    "duration": 681,
    "start_time": "2022-06-20T20:06:03.364Z"
   },
   {
    "duration": 472,
    "start_time": "2022-06-20T20:06:04.051Z"
   },
   {
    "duration": 93,
    "start_time": "2022-06-20T20:06:04.525Z"
   },
   {
    "duration": 254,
    "start_time": "2022-06-20T20:06:04.629Z"
   },
   {
    "duration": 165459,
    "start_time": "2022-06-20T20:06:04.885Z"
   },
   {
    "duration": 4106,
    "start_time": "2022-06-20T20:08:50.349Z"
   },
   {
    "duration": 230,
    "start_time": "2022-06-20T20:08:54.457Z"
   },
   {
    "duration": 2,
    "start_time": "2022-06-20T20:08:54.689Z"
   },
   {
    "duration": 274535,
    "start_time": "2022-06-20T20:08:54.693Z"
   },
   {
    "duration": 2422,
    "start_time": "2022-06-20T20:13:29.229Z"
   },
   {
    "duration": 1599,
    "start_time": "2022-06-20T20:35:18.985Z"
   },
   {
    "duration": 1022,
    "start_time": "2022-06-20T20:35:20.587Z"
   },
   {
    "duration": 32,
    "start_time": "2022-06-20T20:35:21.612Z"
   },
   {
    "duration": 221,
    "start_time": "2022-06-20T20:35:21.647Z"
   },
   {
    "duration": 603,
    "start_time": "2022-06-20T20:35:21.876Z"
   },
   {
    "duration": 743,
    "start_time": "2022-06-20T20:35:22.481Z"
   },
   {
    "duration": 721,
    "start_time": "2022-06-20T20:35:23.225Z"
   },
   {
    "duration": 219,
    "start_time": "2022-06-20T20:35:23.949Z"
   },
   {
    "duration": 215,
    "start_time": "2022-06-20T20:35:24.172Z"
   },
   {
    "duration": 232,
    "start_time": "2022-06-20T20:35:24.390Z"
   },
   {
    "duration": 183,
    "start_time": "2022-06-20T20:35:24.628Z"
   },
   {
    "duration": 133,
    "start_time": "2022-06-20T20:35:24.813Z"
   },
   {
    "duration": 57,
    "start_time": "2022-06-20T20:35:24.949Z"
   },
   {
    "duration": 33,
    "start_time": "2022-06-20T20:35:25.008Z"
   },
   {
    "duration": 16,
    "start_time": "2022-06-20T20:35:25.048Z"
   },
   {
    "duration": 19,
    "start_time": "2022-06-20T20:35:25.066Z"
   },
   {
    "duration": 488,
    "start_time": "2022-06-20T20:35:25.087Z"
   },
   {
    "duration": 475,
    "start_time": "2022-06-20T20:35:25.577Z"
   },
   {
    "duration": 24,
    "start_time": "2022-06-20T20:35:26.054Z"
   },
   {
    "duration": 45,
    "start_time": "2022-06-20T20:35:26.080Z"
   },
   {
    "duration": 32,
    "start_time": "2022-06-20T20:35:26.133Z"
   },
   {
    "duration": 88,
    "start_time": "2022-06-20T20:35:26.168Z"
   },
   {
    "duration": 58,
    "start_time": "2022-06-20T20:35:26.259Z"
   },
   {
    "duration": 146,
    "start_time": "2022-06-20T20:35:26.320Z"
   },
   {
    "duration": 75,
    "start_time": "2022-06-20T20:35:26.469Z"
   },
   {
    "duration": 132,
    "start_time": "2022-06-20T20:35:26.555Z"
   },
   {
    "duration": 899,
    "start_time": "2022-06-20T20:35:26.692Z"
   },
   {
    "duration": 570,
    "start_time": "2022-06-20T20:35:27.593Z"
   },
   {
    "duration": 124,
    "start_time": "2022-06-20T20:35:28.167Z"
   },
   {
    "duration": 297,
    "start_time": "2022-06-20T20:35:28.293Z"
   },
   {
    "duration": 180275,
    "start_time": "2022-06-20T20:35:28.592Z"
   },
   {
    "duration": 4786,
    "start_time": "2022-06-20T20:38:28.871Z"
   },
   {
    "duration": 235,
    "start_time": "2022-06-20T20:38:33.660Z"
   },
   {
    "duration": 4,
    "start_time": "2022-06-20T20:38:33.897Z"
   },
   {
    "duration": 140361,
    "start_time": "2022-06-20T20:38:33.903Z"
   },
   {
    "duration": 101,
    "start_time": "2022-06-20T20:40:54.274Z"
   },
   {
    "duration": 1722,
    "start_time": "2022-06-20T20:43:07.465Z"
   },
   {
    "duration": 1069,
    "start_time": "2022-06-20T20:43:10.188Z"
   },
   {
    "duration": 18,
    "start_time": "2022-06-20T20:43:12.903Z"
   },
   {
    "duration": 202,
    "start_time": "2022-06-20T20:43:14.504Z"
   },
   {
    "duration": 613,
    "start_time": "2022-06-20T20:43:17.677Z"
   },
   {
    "duration": 821,
    "start_time": "2022-06-20T20:43:19.257Z"
   },
   {
    "duration": 650,
    "start_time": "2022-06-20T20:43:21.174Z"
   },
   {
    "duration": 234,
    "start_time": "2022-06-20T20:43:23.757Z"
   },
   {
    "duration": 229,
    "start_time": "2022-06-20T20:43:28.858Z"
   },
   {
    "duration": 169,
    "start_time": "2022-06-20T20:43:38.211Z"
   },
   {
    "duration": 206,
    "start_time": "2022-06-20T20:43:40.599Z"
   },
   {
    "duration": 107,
    "start_time": "2022-06-20T20:44:10.979Z"
   },
   {
    "duration": 77,
    "start_time": "2022-06-20T20:44:19.501Z"
   },
   {
    "duration": 39,
    "start_time": "2022-06-20T20:44:33.524Z"
   },
   {
    "duration": 25,
    "start_time": "2022-06-20T20:44:35.062Z"
   },
   {
    "duration": 8,
    "start_time": "2022-06-20T20:44:36.769Z"
   },
   {
    "duration": 469,
    "start_time": "2022-06-20T20:44:45.712Z"
   },
   {
    "duration": 424,
    "start_time": "2022-06-20T20:44:47.365Z"
   },
   {
    "duration": 21,
    "start_time": "2022-06-20T20:44:48.365Z"
   },
   {
    "duration": 34,
    "start_time": "2022-06-20T20:44:53.757Z"
   },
   {
    "duration": 30,
    "start_time": "2022-06-20T20:44:54.753Z"
   },
   {
    "duration": 27,
    "start_time": "2022-06-20T20:45:10.385Z"
   },
   {
    "duration": 37,
    "start_time": "2022-06-20T20:45:11.560Z"
   },
   {
    "duration": 35,
    "start_time": "2022-06-20T20:45:22.954Z"
   },
   {
    "duration": 55,
    "start_time": "2022-06-20T20:45:27.752Z"
   },
   {
    "duration": 71,
    "start_time": "2022-06-20T20:45:41.161Z"
   },
   {
    "duration": 781,
    "start_time": "2022-06-20T20:46:10.392Z"
   },
   {
    "duration": 622,
    "start_time": "2022-06-20T20:46:16.170Z"
   },
   {
    "duration": 117,
    "start_time": "2022-06-20T20:46:17.871Z"
   },
   {
    "duration": 252,
    "start_time": "2022-06-20T20:46:24.312Z"
   },
   {
    "duration": 169661,
    "start_time": "2022-06-20T20:46:30.006Z"
   },
   {
    "duration": 4278,
    "start_time": "2022-06-20T20:50:09.899Z"
   },
   {
    "duration": 231,
    "start_time": "2022-06-20T20:50:16.486Z"
   },
   {
    "duration": 3,
    "start_time": "2022-06-20T20:50:22.165Z"
   },
   {
    "duration": 33129,
    "start_time": "2022-06-20T20:50:32.240Z"
   },
   {
    "duration": 5,
    "start_time": "2022-06-20T20:52:18.656Z"
   },
   {
    "duration": 7460,
    "start_time": "2022-06-20T20:52:54.959Z"
   },
   {
    "duration": 8070,
    "start_time": "2022-06-20T20:53:44.826Z"
   },
   {
    "duration": 230,
    "start_time": "2022-06-20T20:53:59.003Z"
   },
   {
    "duration": 1694,
    "start_time": "2022-06-21T10:33:51.665Z"
   },
   {
    "duration": 2861,
    "start_time": "2022-06-21T10:33:53.362Z"
   },
   {
    "duration": 18,
    "start_time": "2022-06-21T10:33:56.225Z"
   },
   {
    "duration": 129,
    "start_time": "2022-06-21T10:33:56.245Z"
   },
   {
    "duration": 578,
    "start_time": "2022-06-21T10:33:56.376Z"
   },
   {
    "duration": 602,
    "start_time": "2022-06-21T10:33:56.956Z"
   },
   {
    "duration": 498,
    "start_time": "2022-06-21T10:33:57.559Z"
   },
   {
    "duration": 117,
    "start_time": "2022-06-21T10:33:58.060Z"
   },
   {
    "duration": 168,
    "start_time": "2022-06-21T10:33:58.179Z"
   },
   {
    "duration": 114,
    "start_time": "2022-06-21T10:33:58.350Z"
   },
   {
    "duration": 198,
    "start_time": "2022-06-21T10:33:58.466Z"
   },
   {
    "duration": 107,
    "start_time": "2022-06-21T10:33:58.666Z"
   },
   {
    "duration": 84,
    "start_time": "2022-06-21T10:33:58.775Z"
   },
   {
    "duration": 25,
    "start_time": "2022-06-21T10:33:58.861Z"
   },
   {
    "duration": 12,
    "start_time": "2022-06-21T10:33:58.888Z"
   },
   {
    "duration": 33,
    "start_time": "2022-06-21T10:33:58.903Z"
   },
   {
    "duration": 339,
    "start_time": "2022-06-21T10:33:58.938Z"
   },
   {
    "duration": 310,
    "start_time": "2022-06-21T10:33:59.279Z"
   },
   {
    "duration": 17,
    "start_time": "2022-06-21T10:33:59.591Z"
   },
   {
    "duration": 27,
    "start_time": "2022-06-21T10:33:59.625Z"
   },
   {
    "duration": 32,
    "start_time": "2022-06-21T10:33:59.655Z"
   },
   {
    "duration": 49,
    "start_time": "2022-06-21T10:33:59.689Z"
   },
   {
    "duration": 33,
    "start_time": "2022-06-21T10:33:59.740Z"
   },
   {
    "duration": 57,
    "start_time": "2022-06-21T10:33:59.775Z"
   },
   {
    "duration": 42,
    "start_time": "2022-06-21T10:33:59.835Z"
   },
   {
    "duration": 83,
    "start_time": "2022-06-21T10:33:59.879Z"
   },
   {
    "duration": 1050,
    "start_time": "2022-06-21T10:33:59.964Z"
   },
   {
    "duration": 504,
    "start_time": "2022-06-21T10:34:01.018Z"
   },
   {
    "duration": 115,
    "start_time": "2022-06-21T10:34:01.524Z"
   },
   {
    "duration": 240,
    "start_time": "2022-06-21T10:34:01.641Z"
   },
   {
    "duration": 164107,
    "start_time": "2022-06-21T10:34:01.883Z"
   },
   {
    "duration": 4707,
    "start_time": "2022-06-21T10:36:45.991Z"
   },
   {
    "duration": 255,
    "start_time": "2022-06-21T10:36:50.699Z"
   },
   {
    "duration": 3,
    "start_time": "2022-06-21T10:36:50.956Z"
   },
   {
    "duration": 294236,
    "start_time": "2022-06-21T10:36:50.961Z"
   },
   {
    "duration": 2502,
    "start_time": "2022-06-21T10:41:45.198Z"
   },
   {
    "duration": 36806,
    "start_time": "2022-06-21T10:41:47.702Z"
   },
   {
    "duration": 4,
    "start_time": "2022-06-21T10:42:24.510Z"
   },
   {
    "duration": 6964,
    "start_time": "2022-06-21T10:42:24.516Z"
   },
   {
    "duration": 182,
    "start_time": "2022-06-21T10:42:31.483Z"
   },
   {
    "duration": 78564,
    "start_time": "2022-06-21T10:42:31.667Z"
   },
   {
    "duration": 802,
    "start_time": "2022-06-21T10:43:50.234Z"
   },
   {
    "duration": 100,
    "start_time": "2022-06-21T10:43:51.127Z"
   },
   {
    "duration": 2982,
    "start_time": "2022-06-21T10:45:36.955Z"
   },
   {
    "duration": 622,
    "start_time": "2022-06-21T10:45:50.616Z"
   },
   {
    "duration": 1528,
    "start_time": "2022-06-21T10:46:27.114Z"
   },
   {
    "duration": 878,
    "start_time": "2022-06-21T10:46:28.644Z"
   },
   {
    "duration": 19,
    "start_time": "2022-06-21T10:46:29.523Z"
   },
   {
    "duration": 123,
    "start_time": "2022-06-21T10:46:29.544Z"
   },
   {
    "duration": 509,
    "start_time": "2022-06-21T10:46:29.669Z"
   },
   {
    "duration": 618,
    "start_time": "2022-06-21T10:46:30.180Z"
   },
   {
    "duration": 504,
    "start_time": "2022-06-21T10:46:30.800Z"
   },
   {
    "duration": 106,
    "start_time": "2022-06-21T10:46:31.306Z"
   },
   {
    "duration": 182,
    "start_time": "2022-06-21T10:46:31.414Z"
   },
   {
    "duration": 114,
    "start_time": "2022-06-21T10:46:31.599Z"
   },
   {
    "duration": 225,
    "start_time": "2022-06-21T10:46:31.715Z"
   },
   {
    "duration": 102,
    "start_time": "2022-06-21T10:46:31.942Z"
   },
   {
    "duration": 60,
    "start_time": "2022-06-21T10:46:32.047Z"
   },
   {
    "duration": 26,
    "start_time": "2022-06-21T10:46:32.125Z"
   },
   {
    "duration": 13,
    "start_time": "2022-06-21T10:46:32.153Z"
   },
   {
    "duration": 36,
    "start_time": "2022-06-21T10:46:32.168Z"
   },
   {
    "duration": 337,
    "start_time": "2022-06-21T10:46:32.206Z"
   },
   {
    "duration": 335,
    "start_time": "2022-06-21T10:46:32.545Z"
   },
   {
    "duration": 18,
    "start_time": "2022-06-21T10:46:32.882Z"
   },
   {
    "duration": 47,
    "start_time": "2022-06-21T10:46:32.903Z"
   },
   {
    "duration": 23,
    "start_time": "2022-06-21T10:46:32.952Z"
   },
   {
    "duration": 49,
    "start_time": "2022-06-21T10:46:32.978Z"
   },
   {
    "duration": 34,
    "start_time": "2022-06-21T10:46:33.029Z"
   },
   {
    "duration": 33,
    "start_time": "2022-06-21T10:46:33.065Z"
   },
   {
    "duration": 59,
    "start_time": "2022-06-21T10:46:33.100Z"
   },
   {
    "duration": 87,
    "start_time": "2022-06-21T10:46:33.161Z"
   },
   {
    "duration": 1252,
    "start_time": "2022-06-21T10:46:33.250Z"
   },
   {
    "duration": 512,
    "start_time": "2022-06-21T10:46:34.505Z"
   },
   {
    "duration": 108,
    "start_time": "2022-06-21T10:46:35.027Z"
   },
   {
    "duration": 224,
    "start_time": "2022-06-21T10:46:35.137Z"
   },
   {
    "duration": 159809,
    "start_time": "2022-06-21T10:46:35.363Z"
   },
   {
    "duration": 4345,
    "start_time": "2022-06-21T10:49:15.174Z"
   },
   {
    "duration": 245,
    "start_time": "2022-06-21T10:49:19.521Z"
   },
   {
    "duration": 2,
    "start_time": "2022-06-21T10:49:19.768Z"
   },
   {
    "duration": 290675,
    "start_time": "2022-06-21T10:49:19.772Z"
   },
   {
    "duration": 2532,
    "start_time": "2022-06-21T10:54:10.448Z"
   },
   {
    "duration": 37873,
    "start_time": "2022-06-21T10:54:12.982Z"
   },
   {
    "duration": 5,
    "start_time": "2022-06-21T10:54:50.857Z"
   },
   {
    "duration": 6844,
    "start_time": "2022-06-21T10:54:50.864Z"
   },
   {
    "duration": 182,
    "start_time": "2022-06-21T10:54:57.710Z"
   },
   {
    "duration": 67042,
    "start_time": "2022-06-21T10:54:57.894Z"
   },
   {
    "duration": 2995,
    "start_time": "2022-06-21T10:56:04.939Z"
   },
   {
    "duration": 706,
    "start_time": "2022-06-21T10:56:07.936Z"
   },
   {
    "duration": 5,
    "start_time": "2022-06-21T11:01:35.588Z"
   },
   {
    "duration": 14,
    "start_time": "2022-06-21T11:01:51.224Z"
   },
   {
    "duration": 107,
    "start_time": "2022-06-21T11:05:48.906Z"
   },
   {
    "duration": 582,
    "start_time": "2022-06-21T11:05:56.852Z"
   },
   {
    "duration": 10,
    "start_time": "2022-06-21T11:05:59.665Z"
   },
   {
    "duration": 76,
    "start_time": "2022-06-21T11:06:11.421Z"
   },
   {
    "duration": 12,
    "start_time": "2022-06-21T11:06:24.167Z"
   },
   {
    "duration": 12,
    "start_time": "2022-06-21T11:06:57.273Z"
   },
   {
    "duration": 70,
    "start_time": "2022-06-21T11:07:14.778Z"
   },
   {
    "duration": 80,
    "start_time": "2022-06-21T11:07:24.939Z"
   },
   {
    "duration": 10,
    "start_time": "2022-06-21T11:08:09.899Z"
   },
   {
    "duration": 88,
    "start_time": "2022-06-21T11:11:58.336Z"
   },
   {
    "duration": 10,
    "start_time": "2022-06-21T11:12:54.527Z"
   },
   {
    "duration": 14,
    "start_time": "2022-06-21T11:21:56.731Z"
   },
   {
    "duration": 1727,
    "start_time": "2022-06-21T11:22:07.798Z"
   },
   {
    "duration": 920,
    "start_time": "2022-06-21T11:22:09.528Z"
   },
   {
    "duration": 20,
    "start_time": "2022-06-21T11:22:10.450Z"
   },
   {
    "duration": 152,
    "start_time": "2022-06-21T11:22:10.473Z"
   },
   {
    "duration": 508,
    "start_time": "2022-06-21T11:22:10.627Z"
   },
   {
    "duration": 617,
    "start_time": "2022-06-21T11:22:11.137Z"
   },
   {
    "duration": 505,
    "start_time": "2022-06-21T11:22:11.756Z"
   },
   {
    "duration": 115,
    "start_time": "2022-06-21T11:22:12.263Z"
   },
   {
    "duration": 170,
    "start_time": "2022-06-21T11:22:12.379Z"
   },
   {
    "duration": 109,
    "start_time": "2022-06-21T11:22:12.551Z"
   },
   {
    "duration": 196,
    "start_time": "2022-06-21T11:22:12.662Z"
   },
   {
    "duration": 94,
    "start_time": "2022-06-21T11:22:12.860Z"
   },
   {
    "duration": 70,
    "start_time": "2022-06-21T11:22:12.956Z"
   },
   {
    "duration": 23,
    "start_time": "2022-06-21T11:22:13.028Z"
   },
   {
    "duration": 12,
    "start_time": "2022-06-21T11:22:13.053Z"
   },
   {
    "duration": 8,
    "start_time": "2022-06-21T11:22:13.067Z"
   },
   {
    "duration": 307,
    "start_time": "2022-06-21T11:22:13.076Z"
   },
   {
    "duration": 296,
    "start_time": "2022-06-21T11:22:13.385Z"
   },
   {
    "duration": 16,
    "start_time": "2022-06-21T11:22:13.684Z"
   },
   {
    "duration": 46,
    "start_time": "2022-06-21T11:22:13.702Z"
   },
   {
    "duration": 21,
    "start_time": "2022-06-21T11:22:13.750Z"
   },
   {
    "duration": 27,
    "start_time": "2022-06-21T11:22:13.773Z"
   },
   {
    "duration": 45,
    "start_time": "2022-06-21T11:22:13.802Z"
   },
   {
    "duration": 26,
    "start_time": "2022-06-21T11:22:13.850Z"
   },
   {
    "duration": 57,
    "start_time": "2022-06-21T11:22:13.877Z"
   },
   {
    "duration": 69,
    "start_time": "2022-06-21T11:22:13.936Z"
   },
   {
    "duration": 809,
    "start_time": "2022-06-21T11:22:14.008Z"
   },
   {
    "duration": 462,
    "start_time": "2022-06-21T11:22:14.825Z"
   },
   {
    "duration": 103,
    "start_time": "2022-06-21T11:22:15.290Z"
   },
   {
    "duration": 217,
    "start_time": "2022-06-21T11:22:15.394Z"
   },
   {
    "duration": 155477,
    "start_time": "2022-06-21T11:22:15.613Z"
   },
   {
    "duration": 4271,
    "start_time": "2022-06-21T11:24:51.092Z"
   },
   {
    "duration": 240,
    "start_time": "2022-06-21T11:24:55.365Z"
   },
   {
    "duration": 2,
    "start_time": "2022-06-21T11:24:55.607Z"
   },
   {
    "duration": 281610,
    "start_time": "2022-06-21T11:24:55.611Z"
   },
   {
    "duration": 2415,
    "start_time": "2022-06-21T11:29:37.226Z"
   },
   {
    "duration": 34063,
    "start_time": "2022-06-21T11:29:39.643Z"
   },
   {
    "duration": 5,
    "start_time": "2022-06-21T11:30:13.707Z"
   },
   {
    "duration": 6212,
    "start_time": "2022-06-21T11:30:13.714Z"
   },
   {
    "duration": 167,
    "start_time": "2022-06-21T11:30:19.927Z"
   },
   {
    "duration": 65234,
    "start_time": "2022-06-21T11:30:20.096Z"
   },
   {
    "duration": 2902,
    "start_time": "2022-06-21T11:31:25.332Z"
   },
   {
    "duration": 605,
    "start_time": "2022-06-21T11:31:28.235Z"
   },
   {
    "duration": 10,
    "start_time": "2022-06-21T11:31:28.841Z"
   }
  ],
  "kernelspec": {
   "display_name": "Python 3 (ipykernel)",
   "language": "python",
   "name": "python3"
  },
  "language_info": {
   "codemirror_mode": {
    "name": "ipython",
    "version": 3
   },
   "file_extension": ".py",
   "mimetype": "text/x-python",
   "name": "python",
   "nbconvert_exporter": "python",
   "pygments_lexer": "ipython3",
   "version": "3.9.5"
  },
  "toc": {
   "base_numbering": 1,
   "nav_menu": {},
   "number_sections": true,
   "sideBar": true,
   "skip_h1_title": true,
   "title_cell": "Table of Contents",
   "title_sidebar": "Contents",
   "toc_cell": false,
   "toc_position": {},
   "toc_section_display": true,
   "toc_window_display": true
  }
 },
 "nbformat": 4,
 "nbformat_minor": 2
}
