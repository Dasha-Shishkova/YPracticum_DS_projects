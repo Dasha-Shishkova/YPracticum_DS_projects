{
 "cells": [
  {
   "cell_type": "markdown",
   "metadata": {},
   "source": [
    "# Загрузка данных"
   ]
  },
  {
   "cell_type": "code",
   "execution_count": 1,
   "metadata": {},
   "outputs": [],
   "source": [
    "import pandas as pd\n",
    "import numpy as np\n",
    "import matplotlib.pyplot as plt\n",
    "import seaborn as sns\n",
    "\n",
    "from sklearn.model_selection import train_test_split, GridSearchCV\n",
    "from sklearn.metrics import roc_auc_score, roc_curve, accuracy_score\n",
    "from sklearn.preprocessing import StandardScaler\n",
    "\n",
    "from sklearn.linear_model import LogisticRegression\n",
    "from sklearn.ensemble import RandomForestClassifier\n",
    "\n",
    "from catboost import CatBoostClassifier"
   ]
  },
  {
   "cell_type": "code",
   "execution_count": 2,
   "metadata": {},
   "outputs": [],
   "source": [
    "contract = pd.read_csv('/datasets/final_provider/contract.csv')\n",
    "personal = pd.read_csv('/datasets/final_provider/personal.csv')\n",
    "internet = pd.read_csv('/datasets/final_provider/internet.csv')\n",
    "phone = pd.read_csv('/datasets/final_provider/phone.csv')"
   ]
  },
  {
   "cell_type": "markdown",
   "metadata": {},
   "source": [
    "## Таблица с договорами"
   ]
  },
  {
   "cell_type": "code",
   "execution_count": 3,
   "metadata": {},
   "outputs": [
    {
     "data": {
      "text/html": [
       "<div>\n",
       "<style scoped>\n",
       "    .dataframe tbody tr th:only-of-type {\n",
       "        vertical-align: middle;\n",
       "    }\n",
       "\n",
       "    .dataframe tbody tr th {\n",
       "        vertical-align: top;\n",
       "    }\n",
       "\n",
       "    .dataframe thead th {\n",
       "        text-align: right;\n",
       "    }\n",
       "</style>\n",
       "<table border=\"1\" class=\"dataframe\">\n",
       "  <thead>\n",
       "    <tr style=\"text-align: right;\">\n",
       "      <th></th>\n",
       "      <th>customerID</th>\n",
       "      <th>BeginDate</th>\n",
       "      <th>EndDate</th>\n",
       "      <th>Type</th>\n",
       "      <th>PaperlessBilling</th>\n",
       "      <th>PaymentMethod</th>\n",
       "      <th>MonthlyCharges</th>\n",
       "      <th>TotalCharges</th>\n",
       "    </tr>\n",
       "  </thead>\n",
       "  <tbody>\n",
       "    <tr>\n",
       "      <th>0</th>\n",
       "      <td>7590-VHVEG</td>\n",
       "      <td>2020-01-01</td>\n",
       "      <td>No</td>\n",
       "      <td>Month-to-month</td>\n",
       "      <td>Yes</td>\n",
       "      <td>Electronic check</td>\n",
       "      <td>29.85</td>\n",
       "      <td>29.85</td>\n",
       "    </tr>\n",
       "    <tr>\n",
       "      <th>1</th>\n",
       "      <td>5575-GNVDE</td>\n",
       "      <td>2017-04-01</td>\n",
       "      <td>No</td>\n",
       "      <td>One year</td>\n",
       "      <td>No</td>\n",
       "      <td>Mailed check</td>\n",
       "      <td>56.95</td>\n",
       "      <td>1889.5</td>\n",
       "    </tr>\n",
       "    <tr>\n",
       "      <th>2</th>\n",
       "      <td>3668-QPYBK</td>\n",
       "      <td>2019-10-01</td>\n",
       "      <td>2019-12-01 00:00:00</td>\n",
       "      <td>Month-to-month</td>\n",
       "      <td>Yes</td>\n",
       "      <td>Mailed check</td>\n",
       "      <td>53.85</td>\n",
       "      <td>108.15</td>\n",
       "    </tr>\n",
       "    <tr>\n",
       "      <th>3</th>\n",
       "      <td>7795-CFOCW</td>\n",
       "      <td>2016-05-01</td>\n",
       "      <td>No</td>\n",
       "      <td>One year</td>\n",
       "      <td>No</td>\n",
       "      <td>Bank transfer (automatic)</td>\n",
       "      <td>42.30</td>\n",
       "      <td>1840.75</td>\n",
       "    </tr>\n",
       "    <tr>\n",
       "      <th>4</th>\n",
       "      <td>9237-HQITU</td>\n",
       "      <td>2019-09-01</td>\n",
       "      <td>2019-11-01 00:00:00</td>\n",
       "      <td>Month-to-month</td>\n",
       "      <td>Yes</td>\n",
       "      <td>Electronic check</td>\n",
       "      <td>70.70</td>\n",
       "      <td>151.65</td>\n",
       "    </tr>\n",
       "  </tbody>\n",
       "</table>\n",
       "</div>"
      ],
      "text/plain": [
       "   customerID   BeginDate              EndDate            Type  \\\n",
       "0  7590-VHVEG  2020-01-01                   No  Month-to-month   \n",
       "1  5575-GNVDE  2017-04-01                   No        One year   \n",
       "2  3668-QPYBK  2019-10-01  2019-12-01 00:00:00  Month-to-month   \n",
       "3  7795-CFOCW  2016-05-01                   No        One year   \n",
       "4  9237-HQITU  2019-09-01  2019-11-01 00:00:00  Month-to-month   \n",
       "\n",
       "  PaperlessBilling              PaymentMethod  MonthlyCharges TotalCharges  \n",
       "0              Yes           Electronic check           29.85        29.85  \n",
       "1               No               Mailed check           56.95       1889.5  \n",
       "2              Yes               Mailed check           53.85       108.15  \n",
       "3               No  Bank transfer (automatic)           42.30      1840.75  \n",
       "4              Yes           Electronic check           70.70       151.65  "
      ]
     },
     "execution_count": 3,
     "metadata": {},
     "output_type": "execute_result"
    }
   ],
   "source": [
    "contract.head()"
   ]
  },
  {
   "cell_type": "code",
   "execution_count": 4,
   "metadata": {},
   "outputs": [
    {
     "name": "stdout",
     "output_type": "stream",
     "text": [
      "<class 'pandas.core.frame.DataFrame'>\n",
      "RangeIndex: 7043 entries, 0 to 7042\n",
      "Data columns (total 8 columns):\n",
      " #   Column            Non-Null Count  Dtype  \n",
      "---  ------            --------------  -----  \n",
      " 0   customerID        7043 non-null   object \n",
      " 1   BeginDate         7043 non-null   object \n",
      " 2   EndDate           7043 non-null   object \n",
      " 3   Type              7043 non-null   object \n",
      " 4   PaperlessBilling  7043 non-null   object \n",
      " 5   PaymentMethod     7043 non-null   object \n",
      " 6   MonthlyCharges    7043 non-null   float64\n",
      " 7   TotalCharges      7043 non-null   object \n",
      "dtypes: float64(1), object(7)\n",
      "memory usage: 440.3+ KB\n"
     ]
    }
   ],
   "source": [
    "contract.info()"
   ]
  },
  {
   "cell_type": "code",
   "execution_count": 5,
   "metadata": {},
   "outputs": [
    {
     "data": {
      "text/plain": [
       "customerID          0\n",
       "BeginDate           0\n",
       "EndDate             0\n",
       "Type                0\n",
       "PaperlessBilling    0\n",
       "PaymentMethod       0\n",
       "MonthlyCharges      0\n",
       "TotalCharges        0\n",
       "dtype: int64"
      ]
     },
     "execution_count": 5,
     "metadata": {},
     "output_type": "execute_result"
    }
   ],
   "source": [
    "contract.isna().sum()"
   ]
  },
  {
   "cell_type": "code",
   "execution_count": 6,
   "metadata": {},
   "outputs": [
    {
     "data": {
      "text/plain": [
       "0"
      ]
     },
     "execution_count": 6,
     "metadata": {},
     "output_type": "execute_result"
    }
   ],
   "source": [
    "contract.duplicated().sum()"
   ]
  },
  {
   "cell_type": "markdown",
   "metadata": {},
   "source": [
    "Первая таблица сожержит информацию о договорах. В таблице нет пропусков и дубликатов. Необходимо поменять некоторые типы данных: столбцы BeginDate и EndDate привести к формату даты и TotalCharges к типу данных float64.\n",
    "\n",
    "Описание полей данных:\n",
    "- customerID – уникальный идентификатор пользователя,\n",
    "- BeginDate – дата начала пользования услугами,\n",
    "- EndDate – дата окончания пользования услугами,\n",
    "- Type – тип оплаты: ежемесячный, годовой и тд,\n",
    "- PaperlessBilling – безналичный расчет,\n",
    "- PaymentMethod – способ оплаты,\n",
    "- MonthlyCharges – ежемесячные траты на услуги,\n",
    "- TotalCharges – всего потрачено денег на услуги."
   ]
  },
  {
   "cell_type": "markdown",
   "metadata": {},
   "source": [
    "## Таблица с персональными данными клиента"
   ]
  },
  {
   "cell_type": "code",
   "execution_count": 7,
   "metadata": {},
   "outputs": [
    {
     "data": {
      "text/html": [
       "<div>\n",
       "<style scoped>\n",
       "    .dataframe tbody tr th:only-of-type {\n",
       "        vertical-align: middle;\n",
       "    }\n",
       "\n",
       "    .dataframe tbody tr th {\n",
       "        vertical-align: top;\n",
       "    }\n",
       "\n",
       "    .dataframe thead th {\n",
       "        text-align: right;\n",
       "    }\n",
       "</style>\n",
       "<table border=\"1\" class=\"dataframe\">\n",
       "  <thead>\n",
       "    <tr style=\"text-align: right;\">\n",
       "      <th></th>\n",
       "      <th>customerID</th>\n",
       "      <th>gender</th>\n",
       "      <th>SeniorCitizen</th>\n",
       "      <th>Partner</th>\n",
       "      <th>Dependents</th>\n",
       "    </tr>\n",
       "  </thead>\n",
       "  <tbody>\n",
       "    <tr>\n",
       "      <th>0</th>\n",
       "      <td>7590-VHVEG</td>\n",
       "      <td>Female</td>\n",
       "      <td>0</td>\n",
       "      <td>Yes</td>\n",
       "      <td>No</td>\n",
       "    </tr>\n",
       "    <tr>\n",
       "      <th>1</th>\n",
       "      <td>5575-GNVDE</td>\n",
       "      <td>Male</td>\n",
       "      <td>0</td>\n",
       "      <td>No</td>\n",
       "      <td>No</td>\n",
       "    </tr>\n",
       "    <tr>\n",
       "      <th>2</th>\n",
       "      <td>3668-QPYBK</td>\n",
       "      <td>Male</td>\n",
       "      <td>0</td>\n",
       "      <td>No</td>\n",
       "      <td>No</td>\n",
       "    </tr>\n",
       "    <tr>\n",
       "      <th>3</th>\n",
       "      <td>7795-CFOCW</td>\n",
       "      <td>Male</td>\n",
       "      <td>0</td>\n",
       "      <td>No</td>\n",
       "      <td>No</td>\n",
       "    </tr>\n",
       "    <tr>\n",
       "      <th>4</th>\n",
       "      <td>9237-HQITU</td>\n",
       "      <td>Female</td>\n",
       "      <td>0</td>\n",
       "      <td>No</td>\n",
       "      <td>No</td>\n",
       "    </tr>\n",
       "  </tbody>\n",
       "</table>\n",
       "</div>"
      ],
      "text/plain": [
       "   customerID  gender  SeniorCitizen Partner Dependents\n",
       "0  7590-VHVEG  Female              0     Yes         No\n",
       "1  5575-GNVDE    Male              0      No         No\n",
       "2  3668-QPYBK    Male              0      No         No\n",
       "3  7795-CFOCW    Male              0      No         No\n",
       "4  9237-HQITU  Female              0      No         No"
      ]
     },
     "execution_count": 7,
     "metadata": {},
     "output_type": "execute_result"
    }
   ],
   "source": [
    "personal.head()"
   ]
  },
  {
   "cell_type": "code",
   "execution_count": 8,
   "metadata": {},
   "outputs": [
    {
     "name": "stdout",
     "output_type": "stream",
     "text": [
      "<class 'pandas.core.frame.DataFrame'>\n",
      "RangeIndex: 7043 entries, 0 to 7042\n",
      "Data columns (total 5 columns):\n",
      " #   Column         Non-Null Count  Dtype \n",
      "---  ------         --------------  ----- \n",
      " 0   customerID     7043 non-null   object\n",
      " 1   gender         7043 non-null   object\n",
      " 2   SeniorCitizen  7043 non-null   int64 \n",
      " 3   Partner        7043 non-null   object\n",
      " 4   Dependents     7043 non-null   object\n",
      "dtypes: int64(1), object(4)\n",
      "memory usage: 275.2+ KB\n"
     ]
    }
   ],
   "source": [
    "personal.info()"
   ]
  },
  {
   "cell_type": "code",
   "execution_count": 9,
   "metadata": {},
   "outputs": [
    {
     "data": {
      "text/plain": [
       "customerID       0\n",
       "gender           0\n",
       "SeniorCitizen    0\n",
       "Partner          0\n",
       "Dependents       0\n",
       "dtype: int64"
      ]
     },
     "execution_count": 9,
     "metadata": {},
     "output_type": "execute_result"
    }
   ],
   "source": [
    "personal.isna().sum()"
   ]
  },
  {
   "cell_type": "code",
   "execution_count": 10,
   "metadata": {},
   "outputs": [
    {
     "data": {
      "text/plain": [
       "0"
      ]
     },
     "execution_count": 10,
     "metadata": {},
     "output_type": "execute_result"
    }
   ],
   "source": [
    "personal.duplicated().sum()"
   ]
  },
  {
   "cell_type": "markdown",
   "metadata": {},
   "source": [
    "Вторая таблица сожержит информацию о персональных данных клиентов. В таблице нет пропусков и дубликатов.\n",
    "\n",
    "Описание полей данных:\n",
    "- customerID – уникальный идентификатор пользователя,\n",
    "- gender – пол,\n",
    "- SeniorCitizen – наличие пенсионного статуса по возрасту,\n",
    "- Partner – наличие супруга(и),\n",
    "- Dependents – наличие иждивенцев."
   ]
  },
  {
   "cell_type": "markdown",
   "metadata": {},
   "source": [
    "## Таблица с интернет-услугами"
   ]
  },
  {
   "cell_type": "code",
   "execution_count": 11,
   "metadata": {},
   "outputs": [
    {
     "data": {
      "text/html": [
       "<div>\n",
       "<style scoped>\n",
       "    .dataframe tbody tr th:only-of-type {\n",
       "        vertical-align: middle;\n",
       "    }\n",
       "\n",
       "    .dataframe tbody tr th {\n",
       "        vertical-align: top;\n",
       "    }\n",
       "\n",
       "    .dataframe thead th {\n",
       "        text-align: right;\n",
       "    }\n",
       "</style>\n",
       "<table border=\"1\" class=\"dataframe\">\n",
       "  <thead>\n",
       "    <tr style=\"text-align: right;\">\n",
       "      <th></th>\n",
       "      <th>customerID</th>\n",
       "      <th>InternetService</th>\n",
       "      <th>OnlineSecurity</th>\n",
       "      <th>OnlineBackup</th>\n",
       "      <th>DeviceProtection</th>\n",
       "      <th>TechSupport</th>\n",
       "      <th>StreamingTV</th>\n",
       "      <th>StreamingMovies</th>\n",
       "    </tr>\n",
       "  </thead>\n",
       "  <tbody>\n",
       "    <tr>\n",
       "      <th>0</th>\n",
       "      <td>7590-VHVEG</td>\n",
       "      <td>DSL</td>\n",
       "      <td>No</td>\n",
       "      <td>Yes</td>\n",
       "      <td>No</td>\n",
       "      <td>No</td>\n",
       "      <td>No</td>\n",
       "      <td>No</td>\n",
       "    </tr>\n",
       "    <tr>\n",
       "      <th>1</th>\n",
       "      <td>5575-GNVDE</td>\n",
       "      <td>DSL</td>\n",
       "      <td>Yes</td>\n",
       "      <td>No</td>\n",
       "      <td>Yes</td>\n",
       "      <td>No</td>\n",
       "      <td>No</td>\n",
       "      <td>No</td>\n",
       "    </tr>\n",
       "    <tr>\n",
       "      <th>2</th>\n",
       "      <td>3668-QPYBK</td>\n",
       "      <td>DSL</td>\n",
       "      <td>Yes</td>\n",
       "      <td>Yes</td>\n",
       "      <td>No</td>\n",
       "      <td>No</td>\n",
       "      <td>No</td>\n",
       "      <td>No</td>\n",
       "    </tr>\n",
       "    <tr>\n",
       "      <th>3</th>\n",
       "      <td>7795-CFOCW</td>\n",
       "      <td>DSL</td>\n",
       "      <td>Yes</td>\n",
       "      <td>No</td>\n",
       "      <td>Yes</td>\n",
       "      <td>Yes</td>\n",
       "      <td>No</td>\n",
       "      <td>No</td>\n",
       "    </tr>\n",
       "    <tr>\n",
       "      <th>4</th>\n",
       "      <td>9237-HQITU</td>\n",
       "      <td>Fiber optic</td>\n",
       "      <td>No</td>\n",
       "      <td>No</td>\n",
       "      <td>No</td>\n",
       "      <td>No</td>\n",
       "      <td>No</td>\n",
       "      <td>No</td>\n",
       "    </tr>\n",
       "  </tbody>\n",
       "</table>\n",
       "</div>"
      ],
      "text/plain": [
       "   customerID InternetService OnlineSecurity OnlineBackup DeviceProtection  \\\n",
       "0  7590-VHVEG             DSL             No          Yes               No   \n",
       "1  5575-GNVDE             DSL            Yes           No              Yes   \n",
       "2  3668-QPYBK             DSL            Yes          Yes               No   \n",
       "3  7795-CFOCW             DSL            Yes           No              Yes   \n",
       "4  9237-HQITU     Fiber optic             No           No               No   \n",
       "\n",
       "  TechSupport StreamingTV StreamingMovies  \n",
       "0          No          No              No  \n",
       "1          No          No              No  \n",
       "2          No          No              No  \n",
       "3         Yes          No              No  \n",
       "4          No          No              No  "
      ]
     },
     "execution_count": 11,
     "metadata": {},
     "output_type": "execute_result"
    }
   ],
   "source": [
    "internet.head()"
   ]
  },
  {
   "cell_type": "code",
   "execution_count": 12,
   "metadata": {},
   "outputs": [
    {
     "name": "stdout",
     "output_type": "stream",
     "text": [
      "<class 'pandas.core.frame.DataFrame'>\n",
      "RangeIndex: 5517 entries, 0 to 5516\n",
      "Data columns (total 8 columns):\n",
      " #   Column            Non-Null Count  Dtype \n",
      "---  ------            --------------  ----- \n",
      " 0   customerID        5517 non-null   object\n",
      " 1   InternetService   5517 non-null   object\n",
      " 2   OnlineSecurity    5517 non-null   object\n",
      " 3   OnlineBackup      5517 non-null   object\n",
      " 4   DeviceProtection  5517 non-null   object\n",
      " 5   TechSupport       5517 non-null   object\n",
      " 6   StreamingTV       5517 non-null   object\n",
      " 7   StreamingMovies   5517 non-null   object\n",
      "dtypes: object(8)\n",
      "memory usage: 344.9+ KB\n"
     ]
    }
   ],
   "source": [
    "internet.info()"
   ]
  },
  {
   "cell_type": "code",
   "execution_count": 13,
   "metadata": {},
   "outputs": [
    {
     "data": {
      "text/plain": [
       "customerID          0\n",
       "InternetService     0\n",
       "OnlineSecurity      0\n",
       "OnlineBackup        0\n",
       "DeviceProtection    0\n",
       "TechSupport         0\n",
       "StreamingTV         0\n",
       "StreamingMovies     0\n",
       "dtype: int64"
      ]
     },
     "execution_count": 13,
     "metadata": {},
     "output_type": "execute_result"
    }
   ],
   "source": [
    "internet.isna().sum()"
   ]
  },
  {
   "cell_type": "code",
   "execution_count": 14,
   "metadata": {},
   "outputs": [
    {
     "data": {
      "text/plain": [
       "0"
      ]
     },
     "execution_count": 14,
     "metadata": {},
     "output_type": "execute_result"
    }
   ],
   "source": [
    "internet.duplicated().sum()"
   ]
  },
  {
   "cell_type": "markdown",
   "metadata": {},
   "source": [
    "Третья таблица сожержит информацию о 5517 клиентах, пользующихся интернет-услугами. В таблице нет пропусков и дубликатов.\n",
    "\n",
    "Описание полей данных:\n",
    "- customerID – уникальный идентификатор пользователя,\n",
    "- InternetService – тип подключения,\n",
    "- OnlineSecurity – блокировка небезопасных сайтов,\n",
    "- OnlineBackup – облачное хранилище,\n",
    "- DeviceProtection – антивирус,\n",
    "- TechSupport – выделенная линия технической,\n",
    "- StreamingTV – потоковое телевидение,\n",
    "- StreamingMovies – каталог фильмов."
   ]
  },
  {
   "cell_type": "markdown",
   "metadata": {},
   "source": [
    "## Таблица с телефонией"
   ]
  },
  {
   "cell_type": "code",
   "execution_count": 15,
   "metadata": {},
   "outputs": [
    {
     "data": {
      "text/html": [
       "<div>\n",
       "<style scoped>\n",
       "    .dataframe tbody tr th:only-of-type {\n",
       "        vertical-align: middle;\n",
       "    }\n",
       "\n",
       "    .dataframe tbody tr th {\n",
       "        vertical-align: top;\n",
       "    }\n",
       "\n",
       "    .dataframe thead th {\n",
       "        text-align: right;\n",
       "    }\n",
       "</style>\n",
       "<table border=\"1\" class=\"dataframe\">\n",
       "  <thead>\n",
       "    <tr style=\"text-align: right;\">\n",
       "      <th></th>\n",
       "      <th>customerID</th>\n",
       "      <th>MultipleLines</th>\n",
       "    </tr>\n",
       "  </thead>\n",
       "  <tbody>\n",
       "    <tr>\n",
       "      <th>0</th>\n",
       "      <td>5575-GNVDE</td>\n",
       "      <td>No</td>\n",
       "    </tr>\n",
       "    <tr>\n",
       "      <th>1</th>\n",
       "      <td>3668-QPYBK</td>\n",
       "      <td>No</td>\n",
       "    </tr>\n",
       "    <tr>\n",
       "      <th>2</th>\n",
       "      <td>9237-HQITU</td>\n",
       "      <td>No</td>\n",
       "    </tr>\n",
       "    <tr>\n",
       "      <th>3</th>\n",
       "      <td>9305-CDSKC</td>\n",
       "      <td>Yes</td>\n",
       "    </tr>\n",
       "    <tr>\n",
       "      <th>4</th>\n",
       "      <td>1452-KIOVK</td>\n",
       "      <td>Yes</td>\n",
       "    </tr>\n",
       "  </tbody>\n",
       "</table>\n",
       "</div>"
      ],
      "text/plain": [
       "   customerID MultipleLines\n",
       "0  5575-GNVDE            No\n",
       "1  3668-QPYBK            No\n",
       "2  9237-HQITU            No\n",
       "3  9305-CDSKC           Yes\n",
       "4  1452-KIOVK           Yes"
      ]
     },
     "execution_count": 15,
     "metadata": {},
     "output_type": "execute_result"
    }
   ],
   "source": [
    "phone.head()"
   ]
  },
  {
   "cell_type": "code",
   "execution_count": 16,
   "metadata": {},
   "outputs": [
    {
     "name": "stdout",
     "output_type": "stream",
     "text": [
      "<class 'pandas.core.frame.DataFrame'>\n",
      "RangeIndex: 6361 entries, 0 to 6360\n",
      "Data columns (total 2 columns):\n",
      " #   Column         Non-Null Count  Dtype \n",
      "---  ------         --------------  ----- \n",
      " 0   customerID     6361 non-null   object\n",
      " 1   MultipleLines  6361 non-null   object\n",
      "dtypes: object(2)\n",
      "memory usage: 99.5+ KB\n"
     ]
    }
   ],
   "source": [
    "phone.info()"
   ]
  },
  {
   "cell_type": "code",
   "execution_count": 17,
   "metadata": {},
   "outputs": [
    {
     "data": {
      "text/plain": [
       "customerID       0\n",
       "MultipleLines    0\n",
       "dtype: int64"
      ]
     },
     "execution_count": 17,
     "metadata": {},
     "output_type": "execute_result"
    }
   ],
   "source": [
    "phone.isna().sum()"
   ]
  },
  {
   "cell_type": "code",
   "execution_count": 18,
   "metadata": {},
   "outputs": [
    {
     "data": {
      "text/plain": [
       "0"
      ]
     },
     "execution_count": 18,
     "metadata": {},
     "output_type": "execute_result"
    }
   ],
   "source": [
    "phone.duplicated().sum()"
   ]
  },
  {
   "cell_type": "markdown",
   "metadata": {},
   "source": [
    "Четвертая таблица содержит информацию о 6361 клиентах, пользующихся услугами стационарной телефонной связи. В таблице нет пропусков и дубликатов.\n",
    "\n",
    "Описание полей данных:\n",
    "- customerID – уникальный идентификатор пользователя,\n",
    "- MultipleLines – наличие возможности ведения параллельных линий во время звонка."
   ]
  },
  {
   "cell_type": "markdown",
   "metadata": {},
   "source": [
    "## Вывод"
   ]
  },
  {
   "cell_type": "markdown",
   "metadata": {},
   "source": [
    "В нашем распоряжении имеется выгрузка из базы данных от 01.02.2020. В выборку попали данные о 7043 клиентах. Клиенты пользуются одной из двух основных услуг (стационарная телефонная связь и интернет), предоставляемых компанией, или обеими услугами сразу. \n",
    "\n",
    "Все таблицы не содержат пропусков и дубликатов. Во всех таблицах имеется столбец customerID, по которому эти таблицы можно объединить. Большинство столбцов категориальные. В некоторых столбцах необходимо поменять тип данных."
   ]
  },
  {
   "cell_type": "markdown",
   "metadata": {},
   "source": [
    "# Исследовательский аналих данных"
   ]
  },
  {
   "cell_type": "code",
   "execution_count": 19,
   "metadata": {},
   "outputs": [],
   "source": [
    "# пришлось перевести в формат даты до предобработки, потому что график получался неинформативным\n",
    "contract['BeginDate'] = pd.to_datetime(contract['BeginDate'], format='%Y-%m-%d')"
   ]
  },
  {
   "cell_type": "code",
   "execution_count": 20,
   "metadata": {},
   "outputs": [
    {
     "data": {
      "text/plain": [
       "Index(['customerID', 'BeginDate', 'EndDate', 'Type', 'PaperlessBilling',\n",
       "       'PaymentMethod', 'MonthlyCharges', 'TotalCharges'],\n",
       "      dtype='object')"
      ]
     },
     "execution_count": 20,
     "metadata": {},
     "output_type": "execute_result"
    }
   ],
   "source": [
    "contract.columns"
   ]
  },
  {
   "cell_type": "code",
   "execution_count": 21,
   "metadata": {},
   "outputs": [
    {
     "data": {
      "image/png": "[encoded data removed]",
      "text/plain": [
       "<Figure size 1080x216 with 1 Axes>"
      ]
     },
     "metadata": {
      "needs_background": "light"
     },
     "output_type": "display_data"
    },
    {
     "data": {
      "image/png": "[encoded data removed]",
      "text/plain": [
       "<Figure size 1080x216 with 1 Axes>"
      ]
     },
     "metadata": {
      "needs_background": "light"
     },
     "output_type": "display_data"
    },
    {
     "data": {
      "image/png": "[encoded data removed]",
      "text/plain": [
       "<Figure size 1080x216 with 1 Axes>"
      ]
     },
     "metadata": {
      "needs_background": "light"
     },
     "output_type": "display_data"
    },
    {
     "data": {
      "image/png": "[encoded data removed]",
      "text/plain": [
       "<Figure size 1080x216 with 1 Axes>"
      ]
     },
     "metadata": {
      "needs_background": "light"
     },
     "output_type": "display_data"
    },
    {
     "data": {
      "image/png": "[encoded data removed]",
      "text/plain": [
       "<Figure size 1080x216 with 1 Axes>"
      ]
     },
     "metadata": {
      "needs_background": "light"
     },
     "output_type": "display_data"
    }
   ],
   "source": [
    "# посмотрим на распределение по столбцам в таблице с договорами\n",
    "contract_columns = ['BeginDate', 'EndDate', 'Type', 'PaperlessBilling', 'PaymentMethod']\n",
    "for col in contract_columns:\n",
    "    plt.figure(figsize=(15, 3))\n",
    "    contract[col].hist()\n",
    "    plt.title(col)\n",
    "    plt.show()"
   ]
  },
  {
   "cell_type": "code",
   "execution_count": 22,
   "metadata": {},
   "outputs": [
    {
     "data": {
      "text/plain": [
       "Index(['customerID', 'gender', 'SeniorCitizen', 'Partner', 'Dependents'], dtype='object')"
      ]
     },
     "execution_count": 22,
     "metadata": {},
     "output_type": "execute_result"
    }
   ],
   "source": [
    "personal.columns"
   ]
  },
  {
   "cell_type": "code",
   "execution_count": 23,
   "metadata": {},
   "outputs": [
    {
     "data": {
      "image/png": "[encoded data removed]",
      "text/plain": [
       "<Figure size 216x216 with 1 Axes>"
      ]
     },
     "metadata": {
      "needs_background": "light"
     },
     "output_type": "display_data"
    },
    {
     "data": {
      "image/png": "[encoded data removed]",
      "text/plain": [
       "<Figure size 216x216 with 1 Axes>"
      ]
     },
     "metadata": {
      "needs_background": "light"
     },
     "output_type": "display_data"
    },
    {
     "data": {
      "image/png": "[encoded data removed]",
      "text/plain": [
       "<Figure size 216x216 with 1 Axes>"
      ]
     },
     "metadata": {
      "needs_background": "light"
     },
     "output_type": "display_data"
    },
    {
     "data": {
      "image/png": "[encoded data removed]",
      "text/plain": [
       "<Figure size 216x216 with 1 Axes>"
      ]
     },
     "metadata": {
      "needs_background": "light"
     },
     "output_type": "display_data"
    }
   ],
   "source": [
    "# посмотрим на распределение по столбцам в таблице с данными о клиентах\n",
    "personal_columns = ['gender', 'SeniorCitizen', 'Partner', 'Dependents']\n",
    "for col in personal_columns:\n",
    "    plt.figure(figsize=(3, 3))\n",
    "    personal[col].hist()\n",
    "    plt.title(col)\n",
    "    plt.show()"
   ]
  },
  {
   "cell_type": "code",
   "execution_count": 24,
   "metadata": {},
   "outputs": [
    {
     "data": {
      "text/plain": [
       "Index(['customerID', 'InternetService', 'OnlineSecurity', 'OnlineBackup',\n",
       "       'DeviceProtection', 'TechSupport', 'StreamingTV', 'StreamingMovies'],\n",
       "      dtype='object')"
      ]
     },
     "execution_count": 24,
     "metadata": {},
     "output_type": "execute_result"
    }
   ],
   "source": [
    "internet.columns"
   ]
  },
  {
   "cell_type": "code",
   "execution_count": 25,
   "metadata": {},
   "outputs": [
    {
     "data": {
      "image/png": "[encoded data removed]",
      "text/plain": [
       "<Figure size 216x216 with 1 Axes>"
      ]
     },
     "metadata": {
      "needs_background": "light"
     },
     "output_type": "display_data"
    },
    {
     "data": {
      "image/png": "[encoded data removed]",
      "text/plain": [
       "<Figure size 216x216 with 1 Axes>"
      ]
     },
     "metadata": {
      "needs_background": "light"
     },
     "output_type": "display_data"
    },
    {
     "data": {
      "image/png": "[encoded data removed]",
      "text/plain": [
       "<Figure size 216x216 with 1 Axes>"
      ]
     },
     "metadata": {
      "needs_background": "light"
     },
     "output_type": "display_data"
    },
    {
     "data": {
      "image/png": "[encoded data removed]",
      "text/plain": [
       "<Figure size 216x216 with 1 Axes>"
      ]
     },
     "metadata": {
      "needs_background": "light"
     },
     "output_type": "display_data"
    },
    {
     "data": {
      "image/png": "[encoded data removed]",
      "text/plain": [
       "<Figure size 216x216 with 1 Axes>"
      ]
     },
     "metadata": {
      "needs_background": "light"
     },
     "output_type": "display_data"
    },
    {
     "data": {
      "image/png": "[encoded data removed]",
      "text/plain": [
       "<Figure size 216x216 with 1 Axes>"
      ]
     },
     "metadata": {
      "needs_background": "light"
     },
     "output_type": "display_data"
    },
    {
     "data": {
      "image/png": "[encoded data removed]",
      "text/plain": [
       "<Figure size 216x216 with 1 Axes>"
      ]
     },
     "metadata": {
      "needs_background": "light"
     },
     "output_type": "display_data"
    }
   ],
   "source": [
    "# посмотрим на распределение по столбцам в таблице с интернет-услугами\n",
    "internet_columns = ['InternetService', 'OnlineSecurity',\\\n",
    "                    'OnlineBackup', 'DeviceProtection',\\\n",
    "                    'TechSupport', 'StreamingTV', 'StreamingMovies']\n",
    "for col in internet_columns:\n",
    "    plt.figure(figsize=(3, 3))\n",
    "    internet[col].hist()\n",
    "    plt.title(col)\n",
    "    plt.show()"
   ]
  },
  {
   "cell_type": "code",
   "execution_count": 26,
   "metadata": {},
   "outputs": [
    {
     "data": {
      "text/plain": [
       "Text(0.5, 1.0, 'MultipleLines')"
      ]
     },
     "execution_count": 26,
     "metadata": {},
     "output_type": "execute_result"
    },
    {
     "data": {
      "image/png": "[encoded data removed]",
      "text/plain": [
       "<Figure size 432x288 with 1 Axes>"
      ]
     },
     "metadata": {
      "needs_background": "light"
     },
     "output_type": "display_data"
    }
   ],
   "source": [
    "# посмотрим на распределение столбца MultipleLines в таблице с услугами телефонии\n",
    "phone['MultipleLines'].hist()\n",
    "plt.title('MultipleLines')"
   ]
  },
  {
   "cell_type": "markdown",
   "metadata": {},
   "source": [
    "## Вывод"
   ]
  },
  {
   "cell_type": "markdown",
   "metadata": {},
   "source": [
    "Количество заключенных договоров за последние два года (2019 и 2020) существенно увеличилось. Большинство клиентов из выборки являются действующими. Однако, последние 4 месяца наблюдается равномерный отток клиентов примерно по 500 человек в месяц. Большинство клиентов платят помесячно и используют для оплаты безналичный расчет. В качестве методы оплаты большинство клиентов выбирают электронный чек.\n",
    "\n",
    "Из таблицы с персональными данными клиентов можно сделать вывод, что нет какого-то явного преобладания между клиентами мужского или женского пола. Что касается данных о пенсионерах, то их лишь приблизительно 1/7 часть их всей выборки. Чуть меньше половины клиентов имеют супруга(у). Около 30% клиентов имеют иждивенцев.\n",
    "\n",
    "В разрезе интернет-услуг, предоставляемых компанией, можно заключить, что большинство клиентов выбирает тип подкючения через оптоволоконный кабель. Из дополнительных услуг не пользуются популярностью услуги по обеспечению интернет-безопасности, такие как блокировка небеопасных сайтов и антивирус, услуги по предоставлению облачного хранилища данных для резервнго копирования, а также услуги по выделенной линии технической поддержки. А вот стриминговые сервисы, такие как потоковое тв и каталог фильмов предпочитает подключать почти половина клиентов.\n",
    "\n",
    "Что касается телефонии, возможность подключаться к нескольким линиям одновременно выбирают около 47% клиентов из выборки."
   ]
  },
  {
   "cell_type": "markdown",
   "metadata": {},
   "source": [
    "# Предобработка"
   ]
  },
  {
   "cell_type": "markdown",
   "metadata": {},
   "source": [
    "## Приведение к типам данных и создание признаков"
   ]
  },
  {
   "cell_type": "code",
   "execution_count": 27,
   "metadata": {},
   "outputs": [
    {
     "data": {
      "text/html": [
       "<div>\n",
       "<style scoped>\n",
       "    .dataframe tbody tr th:only-of-type {\n",
       "        vertical-align: middle;\n",
       "    }\n",
       "\n",
       "    .dataframe tbody tr th {\n",
       "        vertical-align: top;\n",
       "    }\n",
       "\n",
       "    .dataframe thead th {\n",
       "        text-align: right;\n",
       "    }\n",
       "</style>\n",
       "<table border=\"1\" class=\"dataframe\">\n",
       "  <thead>\n",
       "    <tr style=\"text-align: right;\">\n",
       "      <th></th>\n",
       "      <th>customerID</th>\n",
       "      <th>BeginDate</th>\n",
       "      <th>EndDate</th>\n",
       "      <th>Type</th>\n",
       "      <th>PaperlessBilling</th>\n",
       "      <th>PaymentMethod</th>\n",
       "      <th>MonthlyCharges</th>\n",
       "      <th>TotalCharges</th>\n",
       "      <th>Churn</th>\n",
       "    </tr>\n",
       "  </thead>\n",
       "  <tbody>\n",
       "    <tr>\n",
       "      <th>0</th>\n",
       "      <td>7590-VHVEG</td>\n",
       "      <td>2020-01-01</td>\n",
       "      <td>No</td>\n",
       "      <td>Month-to-month</td>\n",
       "      <td>Yes</td>\n",
       "      <td>Electronic check</td>\n",
       "      <td>29.85</td>\n",
       "      <td>29.85</td>\n",
       "      <td>0</td>\n",
       "    </tr>\n",
       "    <tr>\n",
       "      <th>1</th>\n",
       "      <td>5575-GNVDE</td>\n",
       "      <td>2017-04-01</td>\n",
       "      <td>No</td>\n",
       "      <td>One year</td>\n",
       "      <td>No</td>\n",
       "      <td>Mailed check</td>\n",
       "      <td>56.95</td>\n",
       "      <td>1889.5</td>\n",
       "      <td>0</td>\n",
       "    </tr>\n",
       "    <tr>\n",
       "      <th>2</th>\n",
       "      <td>3668-QPYBK</td>\n",
       "      <td>2019-10-01</td>\n",
       "      <td>2019-12-01 00:00:00</td>\n",
       "      <td>Month-to-month</td>\n",
       "      <td>Yes</td>\n",
       "      <td>Mailed check</td>\n",
       "      <td>53.85</td>\n",
       "      <td>108.15</td>\n",
       "      <td>1</td>\n",
       "    </tr>\n",
       "    <tr>\n",
       "      <th>3</th>\n",
       "      <td>7795-CFOCW</td>\n",
       "      <td>2016-05-01</td>\n",
       "      <td>No</td>\n",
       "      <td>One year</td>\n",
       "      <td>No</td>\n",
       "      <td>Bank transfer (automatic)</td>\n",
       "      <td>42.30</td>\n",
       "      <td>1840.75</td>\n",
       "      <td>0</td>\n",
       "    </tr>\n",
       "    <tr>\n",
       "      <th>4</th>\n",
       "      <td>9237-HQITU</td>\n",
       "      <td>2019-09-01</td>\n",
       "      <td>2019-11-01 00:00:00</td>\n",
       "      <td>Month-to-month</td>\n",
       "      <td>Yes</td>\n",
       "      <td>Electronic check</td>\n",
       "      <td>70.70</td>\n",
       "      <td>151.65</td>\n",
       "      <td>1</td>\n",
       "    </tr>\n",
       "  </tbody>\n",
       "</table>\n",
       "</div>"
      ],
      "text/plain": [
       "   customerID  BeginDate              EndDate            Type  \\\n",
       "0  7590-VHVEG 2020-01-01                   No  Month-to-month   \n",
       "1  5575-GNVDE 2017-04-01                   No        One year   \n",
       "2  3668-QPYBK 2019-10-01  2019-12-01 00:00:00  Month-to-month   \n",
       "3  7795-CFOCW 2016-05-01                   No        One year   \n",
       "4  9237-HQITU 2019-09-01  2019-11-01 00:00:00  Month-to-month   \n",
       "\n",
       "  PaperlessBilling              PaymentMethod  MonthlyCharges TotalCharges  \\\n",
       "0              Yes           Electronic check           29.85        29.85   \n",
       "1               No               Mailed check           56.95       1889.5   \n",
       "2              Yes               Mailed check           53.85       108.15   \n",
       "3               No  Bank transfer (automatic)           42.30      1840.75   \n",
       "4              Yes           Electronic check           70.70       151.65   \n",
       "\n",
       "   Churn  \n",
       "0      0  \n",
       "1      0  \n",
       "2      1  \n",
       "3      0  \n",
       "4      1  "
      ]
     },
     "execution_count": 27,
     "metadata": {},
     "output_type": "execute_result"
    }
   ],
   "source": [
    "# создадим столбец с целевым признаком - оттоком клиентов\n",
    "# если в столбце EndDate стоит дата, значит клиент ушел и целевой признак равен 1\n",
    "# если в столбце EndDate стоит 'No', значит клиент не ушел и целевой признак равен 0\n",
    "\n",
    "def func(row):\n",
    "    EndDate = row['EndDate']\n",
    "    if EndDate != 'No':\n",
    "        return 1\n",
    "    return 0\n",
    "\n",
    "contract['Churn'] = contract.apply(func, axis=1)\n",
    "contract.head()"
   ]
  },
  {
   "cell_type": "code",
   "execution_count": 28,
   "metadata": {},
   "outputs": [
    {
     "data": {
      "text/plain": [
       "0   2020-02-01\n",
       "1   2020-02-01\n",
       "2   2019-12-01\n",
       "3   2020-02-01\n",
       "4   2019-11-01\n",
       "Name: EndDate, dtype: datetime64[ns]"
      ]
     },
     "execution_count": 28,
     "metadata": {},
     "output_type": "execute_result"
    }
   ],
   "source": [
    "# в столбце EndDate заменим значения 'No' на дату выгрузки данных из базы\n",
    "# приведем столбец EndDate к формату даты\n",
    "contract['EndDate'] = contract['EndDate'].replace(['No'], ['2020-02-01'])\n",
    "contract['EndDate'] = pd.to_datetime(contract['EndDate'], format='%Y-%m-%d')\n",
    "contract['EndDate'].head()"
   ]
  },
  {
   "cell_type": "code",
   "execution_count": 29,
   "metadata": {},
   "outputs": [
    {
     "data": {
      "text/html": [
       "<div>\n",
       "<style scoped>\n",
       "    .dataframe tbody tr th:only-of-type {\n",
       "        vertical-align: middle;\n",
       "    }\n",
       "\n",
       "    .dataframe tbody tr th {\n",
       "        vertical-align: top;\n",
       "    }\n",
       "\n",
       "    .dataframe thead th {\n",
       "        text-align: right;\n",
       "    }\n",
       "</style>\n",
       "<table border=\"1\" class=\"dataframe\">\n",
       "  <thead>\n",
       "    <tr style=\"text-align: right;\">\n",
       "      <th></th>\n",
       "      <th>customerID</th>\n",
       "      <th>BeginDate</th>\n",
       "      <th>EndDate</th>\n",
       "      <th>Type</th>\n",
       "      <th>PaperlessBilling</th>\n",
       "      <th>PaymentMethod</th>\n",
       "      <th>MonthlyCharges</th>\n",
       "      <th>TotalCharges</th>\n",
       "      <th>Churn</th>\n",
       "      <th>Duration</th>\n",
       "    </tr>\n",
       "  </thead>\n",
       "  <tbody>\n",
       "    <tr>\n",
       "      <th>0</th>\n",
       "      <td>7590-VHVEG</td>\n",
       "      <td>2020-01-01</td>\n",
       "      <td>2020-02-01</td>\n",
       "      <td>Month-to-month</td>\n",
       "      <td>Yes</td>\n",
       "      <td>Electronic check</td>\n",
       "      <td>29.85</td>\n",
       "      <td>29.85</td>\n",
       "      <td>0</td>\n",
       "      <td>31</td>\n",
       "    </tr>\n",
       "    <tr>\n",
       "      <th>1</th>\n",
       "      <td>5575-GNVDE</td>\n",
       "      <td>2017-04-01</td>\n",
       "      <td>2020-02-01</td>\n",
       "      <td>One year</td>\n",
       "      <td>No</td>\n",
       "      <td>Mailed check</td>\n",
       "      <td>56.95</td>\n",
       "      <td>1889.5</td>\n",
       "      <td>0</td>\n",
       "      <td>1036</td>\n",
       "    </tr>\n",
       "    <tr>\n",
       "      <th>2</th>\n",
       "      <td>3668-QPYBK</td>\n",
       "      <td>2019-10-01</td>\n",
       "      <td>2019-12-01</td>\n",
       "      <td>Month-to-month</td>\n",
       "      <td>Yes</td>\n",
       "      <td>Mailed check</td>\n",
       "      <td>53.85</td>\n",
       "      <td>108.15</td>\n",
       "      <td>1</td>\n",
       "      <td>61</td>\n",
       "    </tr>\n",
       "    <tr>\n",
       "      <th>3</th>\n",
       "      <td>7795-CFOCW</td>\n",
       "      <td>2016-05-01</td>\n",
       "      <td>2020-02-01</td>\n",
       "      <td>One year</td>\n",
       "      <td>No</td>\n",
       "      <td>Bank transfer (automatic)</td>\n",
       "      <td>42.30</td>\n",
       "      <td>1840.75</td>\n",
       "      <td>0</td>\n",
       "      <td>1371</td>\n",
       "    </tr>\n",
       "    <tr>\n",
       "      <th>4</th>\n",
       "      <td>9237-HQITU</td>\n",
       "      <td>2019-09-01</td>\n",
       "      <td>2019-11-01</td>\n",
       "      <td>Month-to-month</td>\n",
       "      <td>Yes</td>\n",
       "      <td>Electronic check</td>\n",
       "      <td>70.70</td>\n",
       "      <td>151.65</td>\n",
       "      <td>1</td>\n",
       "      <td>61</td>\n",
       "    </tr>\n",
       "  </tbody>\n",
       "</table>\n",
       "</div>"
      ],
      "text/plain": [
       "   customerID  BeginDate    EndDate            Type PaperlessBilling  \\\n",
       "0  7590-VHVEG 2020-01-01 2020-02-01  Month-to-month              Yes   \n",
       "1  5575-GNVDE 2017-04-01 2020-02-01        One year               No   \n",
       "2  3668-QPYBK 2019-10-01 2019-12-01  Month-to-month              Yes   \n",
       "3  7795-CFOCW 2016-05-01 2020-02-01        One year               No   \n",
       "4  9237-HQITU 2019-09-01 2019-11-01  Month-to-month              Yes   \n",
       "\n",
       "               PaymentMethod  MonthlyCharges TotalCharges  Churn  Duration  \n",
       "0           Electronic check           29.85        29.85      0        31  \n",
       "1               Mailed check           56.95       1889.5      0      1036  \n",
       "2               Mailed check           53.85       108.15      1        61  \n",
       "3  Bank transfer (automatic)           42.30      1840.75      0      1371  \n",
       "4           Electronic check           70.70       151.65      1        61  "
      ]
     },
     "execution_count": 29,
     "metadata": {},
     "output_type": "execute_result"
    }
   ],
   "source": [
    "# создадим столбец с \"продолжительностью жизни\" клиента в компании\n",
    "contract['Duration'] = (contract['EndDate'] - contract['BeginDate']).dt.days\n",
    "contract.head()"
   ]
  },
  {
   "cell_type": "code",
   "execution_count": 30,
   "metadata": {},
   "outputs": [
    {
     "data": {
      "text/html": [
       "<div>\n",
       "<style scoped>\n",
       "    .dataframe tbody tr th:only-of-type {\n",
       "        vertical-align: middle;\n",
       "    }\n",
       "\n",
       "    .dataframe tbody tr th {\n",
       "        vertical-align: top;\n",
       "    }\n",
       "\n",
       "    .dataframe thead th {\n",
       "        text-align: right;\n",
       "    }\n",
       "</style>\n",
       "<table border=\"1\" class=\"dataframe\">\n",
       "  <thead>\n",
       "    <tr style=\"text-align: right;\">\n",
       "      <th></th>\n",
       "      <th>customerID</th>\n",
       "      <th>BeginDate</th>\n",
       "      <th>EndDate</th>\n",
       "      <th>Type</th>\n",
       "      <th>PaperlessBilling</th>\n",
       "      <th>PaymentMethod</th>\n",
       "      <th>MonthlyCharges</th>\n",
       "      <th>TotalCharges</th>\n",
       "      <th>Churn</th>\n",
       "      <th>Duration</th>\n",
       "    </tr>\n",
       "  </thead>\n",
       "  <tbody>\n",
       "    <tr>\n",
       "      <th>488</th>\n",
       "      <td>4472-LVYGI</td>\n",
       "      <td>2020-02-01</td>\n",
       "      <td>2020-02-01</td>\n",
       "      <td>Two year</td>\n",
       "      <td>Yes</td>\n",
       "      <td>Bank transfer (automatic)</td>\n",
       "      <td>52.55</td>\n",
       "      <td></td>\n",
       "      <td>0</td>\n",
       "      <td>0</td>\n",
       "    </tr>\n",
       "    <tr>\n",
       "      <th>753</th>\n",
       "      <td>3115-CZMZD</td>\n",
       "      <td>2020-02-01</td>\n",
       "      <td>2020-02-01</td>\n",
       "      <td>Two year</td>\n",
       "      <td>No</td>\n",
       "      <td>Mailed check</td>\n",
       "      <td>20.25</td>\n",
       "      <td></td>\n",
       "      <td>0</td>\n",
       "      <td>0</td>\n",
       "    </tr>\n",
       "    <tr>\n",
       "      <th>936</th>\n",
       "      <td>5709-LVOEQ</td>\n",
       "      <td>2020-02-01</td>\n",
       "      <td>2020-02-01</td>\n",
       "      <td>Two year</td>\n",
       "      <td>No</td>\n",
       "      <td>Mailed check</td>\n",
       "      <td>80.85</td>\n",
       "      <td></td>\n",
       "      <td>0</td>\n",
       "      <td>0</td>\n",
       "    </tr>\n",
       "    <tr>\n",
       "      <th>1082</th>\n",
       "      <td>4367-NUYAO</td>\n",
       "      <td>2020-02-01</td>\n",
       "      <td>2020-02-01</td>\n",
       "      <td>Two year</td>\n",
       "      <td>No</td>\n",
       "      <td>Mailed check</td>\n",
       "      <td>25.75</td>\n",
       "      <td></td>\n",
       "      <td>0</td>\n",
       "      <td>0</td>\n",
       "    </tr>\n",
       "    <tr>\n",
       "      <th>1340</th>\n",
       "      <td>1371-DWPAZ</td>\n",
       "      <td>2020-02-01</td>\n",
       "      <td>2020-02-01</td>\n",
       "      <td>Two year</td>\n",
       "      <td>No</td>\n",
       "      <td>Credit card (automatic)</td>\n",
       "      <td>56.05</td>\n",
       "      <td></td>\n",
       "      <td>0</td>\n",
       "      <td>0</td>\n",
       "    </tr>\n",
       "    <tr>\n",
       "      <th>3331</th>\n",
       "      <td>7644-OMVMY</td>\n",
       "      <td>2020-02-01</td>\n",
       "      <td>2020-02-01</td>\n",
       "      <td>Two year</td>\n",
       "      <td>No</td>\n",
       "      <td>Mailed check</td>\n",
       "      <td>19.85</td>\n",
       "      <td></td>\n",
       "      <td>0</td>\n",
       "      <td>0</td>\n",
       "    </tr>\n",
       "    <tr>\n",
       "      <th>3826</th>\n",
       "      <td>3213-VVOLG</td>\n",
       "      <td>2020-02-01</td>\n",
       "      <td>2020-02-01</td>\n",
       "      <td>Two year</td>\n",
       "      <td>No</td>\n",
       "      <td>Mailed check</td>\n",
       "      <td>25.35</td>\n",
       "      <td></td>\n",
       "      <td>0</td>\n",
       "      <td>0</td>\n",
       "    </tr>\n",
       "    <tr>\n",
       "      <th>4380</th>\n",
       "      <td>2520-SGTTA</td>\n",
       "      <td>2020-02-01</td>\n",
       "      <td>2020-02-01</td>\n",
       "      <td>Two year</td>\n",
       "      <td>No</td>\n",
       "      <td>Mailed check</td>\n",
       "      <td>20.00</td>\n",
       "      <td></td>\n",
       "      <td>0</td>\n",
       "      <td>0</td>\n",
       "    </tr>\n",
       "    <tr>\n",
       "      <th>5218</th>\n",
       "      <td>2923-ARZLG</td>\n",
       "      <td>2020-02-01</td>\n",
       "      <td>2020-02-01</td>\n",
       "      <td>One year</td>\n",
       "      <td>Yes</td>\n",
       "      <td>Mailed check</td>\n",
       "      <td>19.70</td>\n",
       "      <td></td>\n",
       "      <td>0</td>\n",
       "      <td>0</td>\n",
       "    </tr>\n",
       "    <tr>\n",
       "      <th>6670</th>\n",
       "      <td>4075-WKNIU</td>\n",
       "      <td>2020-02-01</td>\n",
       "      <td>2020-02-01</td>\n",
       "      <td>Two year</td>\n",
       "      <td>No</td>\n",
       "      <td>Mailed check</td>\n",
       "      <td>73.35</td>\n",
       "      <td></td>\n",
       "      <td>0</td>\n",
       "      <td>0</td>\n",
       "    </tr>\n",
       "    <tr>\n",
       "      <th>6754</th>\n",
       "      <td>2775-SEFEE</td>\n",
       "      <td>2020-02-01</td>\n",
       "      <td>2020-02-01</td>\n",
       "      <td>Two year</td>\n",
       "      <td>Yes</td>\n",
       "      <td>Bank transfer (automatic)</td>\n",
       "      <td>61.90</td>\n",
       "      <td></td>\n",
       "      <td>0</td>\n",
       "      <td>0</td>\n",
       "    </tr>\n",
       "  </tbody>\n",
       "</table>\n",
       "</div>"
      ],
      "text/plain": [
       "      customerID  BeginDate    EndDate      Type PaperlessBilling  \\\n",
       "488   4472-LVYGI 2020-02-01 2020-02-01  Two year              Yes   \n",
       "753   3115-CZMZD 2020-02-01 2020-02-01  Two year               No   \n",
       "936   5709-LVOEQ 2020-02-01 2020-02-01  Two year               No   \n",
       "1082  4367-NUYAO 2020-02-01 2020-02-01  Two year               No   \n",
       "1340  1371-DWPAZ 2020-02-01 2020-02-01  Two year               No   \n",
       "3331  7644-OMVMY 2020-02-01 2020-02-01  Two year               No   \n",
       "3826  3213-VVOLG 2020-02-01 2020-02-01  Two year               No   \n",
       "4380  2520-SGTTA 2020-02-01 2020-02-01  Two year               No   \n",
       "5218  2923-ARZLG 2020-02-01 2020-02-01  One year              Yes   \n",
       "6670  4075-WKNIU 2020-02-01 2020-02-01  Two year               No   \n",
       "6754  2775-SEFEE 2020-02-01 2020-02-01  Two year              Yes   \n",
       "\n",
       "                  PaymentMethod  MonthlyCharges TotalCharges  Churn  Duration  \n",
       "488   Bank transfer (automatic)           52.55                   0         0  \n",
       "753                Mailed check           20.25                   0         0  \n",
       "936                Mailed check           80.85                   0         0  \n",
       "1082               Mailed check           25.75                   0         0  \n",
       "1340    Credit card (automatic)           56.05                   0         0  \n",
       "3331               Mailed check           19.85                   0         0  \n",
       "3826               Mailed check           25.35                   0         0  \n",
       "4380               Mailed check           20.00                   0         0  \n",
       "5218               Mailed check           19.70                   0         0  \n",
       "6670               Mailed check           73.35                   0         0  \n",
       "6754  Bank transfer (automatic)           61.90                   0         0  "
      ]
     },
     "execution_count": 30,
     "metadata": {},
     "output_type": "execute_result"
    }
   ],
   "source": [
    "# при попытке привести столбец TotalCharges к типу float \n",
    "# вышла ошибка, что есть строки с пробелами,\n",
    "# посмотрим на них подробнее\n",
    "contract[contract['TotalCharges'] == ' ']"
   ]
  },
  {
   "cell_type": "markdown",
   "metadata": {},
   "source": [
    "У всех клиентов дата заключения договора равна дате выгрузки из базы. Скорее всего, на тот момент эти клиенты еще не оплачивали счета. Заменим пробелы на 0."
   ]
  },
  {
   "cell_type": "code",
   "execution_count": 31,
   "metadata": {},
   "outputs": [],
   "source": [
    "contract['TotalCharges'] = contract['TotalCharges'].replace([' '], 0)\n",
    "contract['TotalCharges'] = contract['TotalCharges'].astype('float64')"
   ]
  },
  {
   "cell_type": "code",
   "execution_count": 32,
   "metadata": {},
   "outputs": [
    {
     "data": {
      "text/html": [
       "<div>\n",
       "<style scoped>\n",
       "    .dataframe tbody tr th:only-of-type {\n",
       "        vertical-align: middle;\n",
       "    }\n",
       "\n",
       "    .dataframe tbody tr th {\n",
       "        vertical-align: top;\n",
       "    }\n",
       "\n",
       "    .dataframe thead th {\n",
       "        text-align: right;\n",
       "    }\n",
       "</style>\n",
       "<table border=\"1\" class=\"dataframe\">\n",
       "  <thead>\n",
       "    <tr style=\"text-align: right;\">\n",
       "      <th></th>\n",
       "      <th>BeginDate</th>\n",
       "      <th>TotalCharges</th>\n",
       "    </tr>\n",
       "  </thead>\n",
       "  <tbody>\n",
       "    <tr>\n",
       "      <th>488</th>\n",
       "      <td>2020-02-01</td>\n",
       "      <td>0.0</td>\n",
       "    </tr>\n",
       "    <tr>\n",
       "      <th>753</th>\n",
       "      <td>2020-02-01</td>\n",
       "      <td>0.0</td>\n",
       "    </tr>\n",
       "    <tr>\n",
       "      <th>936</th>\n",
       "      <td>2020-02-01</td>\n",
       "      <td>0.0</td>\n",
       "    </tr>\n",
       "    <tr>\n",
       "      <th>1082</th>\n",
       "      <td>2020-02-01</td>\n",
       "      <td>0.0</td>\n",
       "    </tr>\n",
       "    <tr>\n",
       "      <th>1340</th>\n",
       "      <td>2020-02-01</td>\n",
       "      <td>0.0</td>\n",
       "    </tr>\n",
       "    <tr>\n",
       "      <th>3331</th>\n",
       "      <td>2020-02-01</td>\n",
       "      <td>0.0</td>\n",
       "    </tr>\n",
       "    <tr>\n",
       "      <th>3826</th>\n",
       "      <td>2020-02-01</td>\n",
       "      <td>0.0</td>\n",
       "    </tr>\n",
       "    <tr>\n",
       "      <th>4380</th>\n",
       "      <td>2020-02-01</td>\n",
       "      <td>0.0</td>\n",
       "    </tr>\n",
       "    <tr>\n",
       "      <th>5218</th>\n",
       "      <td>2020-02-01</td>\n",
       "      <td>0.0</td>\n",
       "    </tr>\n",
       "    <tr>\n",
       "      <th>6670</th>\n",
       "      <td>2020-02-01</td>\n",
       "      <td>0.0</td>\n",
       "    </tr>\n",
       "    <tr>\n",
       "      <th>6754</th>\n",
       "      <td>2020-02-01</td>\n",
       "      <td>0.0</td>\n",
       "    </tr>\n",
       "  </tbody>\n",
       "</table>\n",
       "</div>"
      ],
      "text/plain": [
       "      BeginDate  TotalCharges\n",
       "488  2020-02-01           0.0\n",
       "753  2020-02-01           0.0\n",
       "936  2020-02-01           0.0\n",
       "1082 2020-02-01           0.0\n",
       "1340 2020-02-01           0.0\n",
       "3331 2020-02-01           0.0\n",
       "3826 2020-02-01           0.0\n",
       "4380 2020-02-01           0.0\n",
       "5218 2020-02-01           0.0\n",
       "6670 2020-02-01           0.0\n",
       "6754 2020-02-01           0.0"
      ]
     },
     "execution_count": 32,
     "metadata": {},
     "output_type": "execute_result"
    }
   ],
   "source": [
    "# проверим, что замена произошла корректно\n",
    "contract[contract['BeginDate'] == '2020-02-01'][['BeginDate', 'TotalCharges']]"
   ]
  },
  {
   "cell_type": "markdown",
   "metadata": {},
   "source": [
    "## Объединение таблиц"
   ]
  },
  {
   "cell_type": "code",
   "execution_count": 33,
   "metadata": {},
   "outputs": [
    {
     "data": {
      "text/html": [
       "<div>\n",
       "<style scoped>\n",
       "    .dataframe tbody tr th:only-of-type {\n",
       "        vertical-align: middle;\n",
       "    }\n",
       "\n",
       "    .dataframe tbody tr th {\n",
       "        vertical-align: top;\n",
       "    }\n",
       "\n",
       "    .dataframe thead th {\n",
       "        text-align: right;\n",
       "    }\n",
       "</style>\n",
       "<table border=\"1\" class=\"dataframe\">\n",
       "  <thead>\n",
       "    <tr style=\"text-align: right;\">\n",
       "      <th></th>\n",
       "      <th>customerID</th>\n",
       "      <th>BeginDate</th>\n",
       "      <th>EndDate</th>\n",
       "      <th>Type</th>\n",
       "      <th>PaperlessBilling</th>\n",
       "      <th>PaymentMethod</th>\n",
       "      <th>MonthlyCharges</th>\n",
       "      <th>TotalCharges</th>\n",
       "      <th>Churn</th>\n",
       "      <th>Duration</th>\n",
       "      <th>...</th>\n",
       "      <th>Partner</th>\n",
       "      <th>Dependents</th>\n",
       "      <th>InternetService</th>\n",
       "      <th>OnlineSecurity</th>\n",
       "      <th>OnlineBackup</th>\n",
       "      <th>DeviceProtection</th>\n",
       "      <th>TechSupport</th>\n",
       "      <th>StreamingTV</th>\n",
       "      <th>StreamingMovies</th>\n",
       "      <th>MultipleLines</th>\n",
       "    </tr>\n",
       "  </thead>\n",
       "  <tbody>\n",
       "    <tr>\n",
       "      <th>0</th>\n",
       "      <td>7590-VHVEG</td>\n",
       "      <td>2020-01-01</td>\n",
       "      <td>2020-02-01</td>\n",
       "      <td>Month-to-month</td>\n",
       "      <td>Yes</td>\n",
       "      <td>Electronic check</td>\n",
       "      <td>29.85</td>\n",
       "      <td>29.85</td>\n",
       "      <td>0</td>\n",
       "      <td>31</td>\n",
       "      <td>...</td>\n",
       "      <td>Yes</td>\n",
       "      <td>No</td>\n",
       "      <td>DSL</td>\n",
       "      <td>No</td>\n",
       "      <td>Yes</td>\n",
       "      <td>No</td>\n",
       "      <td>No</td>\n",
       "      <td>No</td>\n",
       "      <td>No</td>\n",
       "      <td>NaN</td>\n",
       "    </tr>\n",
       "    <tr>\n",
       "      <th>1</th>\n",
       "      <td>5575-GNVDE</td>\n",
       "      <td>2017-04-01</td>\n",
       "      <td>2020-02-01</td>\n",
       "      <td>One year</td>\n",
       "      <td>No</td>\n",
       "      <td>Mailed check</td>\n",
       "      <td>56.95</td>\n",
       "      <td>1889.50</td>\n",
       "      <td>0</td>\n",
       "      <td>1036</td>\n",
       "      <td>...</td>\n",
       "      <td>No</td>\n",
       "      <td>No</td>\n",
       "      <td>DSL</td>\n",
       "      <td>Yes</td>\n",
       "      <td>No</td>\n",
       "      <td>Yes</td>\n",
       "      <td>No</td>\n",
       "      <td>No</td>\n",
       "      <td>No</td>\n",
       "      <td>No</td>\n",
       "    </tr>\n",
       "    <tr>\n",
       "      <th>2</th>\n",
       "      <td>3668-QPYBK</td>\n",
       "      <td>2019-10-01</td>\n",
       "      <td>2019-12-01</td>\n",
       "      <td>Month-to-month</td>\n",
       "      <td>Yes</td>\n",
       "      <td>Mailed check</td>\n",
       "      <td>53.85</td>\n",
       "      <td>108.15</td>\n",
       "      <td>1</td>\n",
       "      <td>61</td>\n",
       "      <td>...</td>\n",
       "      <td>No</td>\n",
       "      <td>No</td>\n",
       "      <td>DSL</td>\n",
       "      <td>Yes</td>\n",
       "      <td>Yes</td>\n",
       "      <td>No</td>\n",
       "      <td>No</td>\n",
       "      <td>No</td>\n",
       "      <td>No</td>\n",
       "      <td>No</td>\n",
       "    </tr>\n",
       "    <tr>\n",
       "      <th>3</th>\n",
       "      <td>7795-CFOCW</td>\n",
       "      <td>2016-05-01</td>\n",
       "      <td>2020-02-01</td>\n",
       "      <td>One year</td>\n",
       "      <td>No</td>\n",
       "      <td>Bank transfer (automatic)</td>\n",
       "      <td>42.30</td>\n",
       "      <td>1840.75</td>\n",
       "      <td>0</td>\n",
       "      <td>1371</td>\n",
       "      <td>...</td>\n",
       "      <td>No</td>\n",
       "      <td>No</td>\n",
       "      <td>DSL</td>\n",
       "      <td>Yes</td>\n",
       "      <td>No</td>\n",
       "      <td>Yes</td>\n",
       "      <td>Yes</td>\n",
       "      <td>No</td>\n",
       "      <td>No</td>\n",
       "      <td>NaN</td>\n",
       "    </tr>\n",
       "    <tr>\n",
       "      <th>4</th>\n",
       "      <td>9237-HQITU</td>\n",
       "      <td>2019-09-01</td>\n",
       "      <td>2019-11-01</td>\n",
       "      <td>Month-to-month</td>\n",
       "      <td>Yes</td>\n",
       "      <td>Electronic check</td>\n",
       "      <td>70.70</td>\n",
       "      <td>151.65</td>\n",
       "      <td>1</td>\n",
       "      <td>61</td>\n",
       "      <td>...</td>\n",
       "      <td>No</td>\n",
       "      <td>No</td>\n",
       "      <td>Fiber optic</td>\n",
       "      <td>No</td>\n",
       "      <td>No</td>\n",
       "      <td>No</td>\n",
       "      <td>No</td>\n",
       "      <td>No</td>\n",
       "      <td>No</td>\n",
       "      <td>No</td>\n",
       "    </tr>\n",
       "  </tbody>\n",
       "</table>\n",
       "<p>5 rows × 22 columns</p>\n",
       "</div>"
      ],
      "text/plain": [
       "   customerID  BeginDate    EndDate            Type PaperlessBilling  \\\n",
       "0  7590-VHVEG 2020-01-01 2020-02-01  Month-to-month              Yes   \n",
       "1  5575-GNVDE 2017-04-01 2020-02-01        One year               No   \n",
       "2  3668-QPYBK 2019-10-01 2019-12-01  Month-to-month              Yes   \n",
       "3  7795-CFOCW 2016-05-01 2020-02-01        One year               No   \n",
       "4  9237-HQITU 2019-09-01 2019-11-01  Month-to-month              Yes   \n",
       "\n",
       "               PaymentMethod  MonthlyCharges  TotalCharges  Churn  Duration  \\\n",
       "0           Electronic check           29.85         29.85      0        31   \n",
       "1               Mailed check           56.95       1889.50      0      1036   \n",
       "2               Mailed check           53.85        108.15      1        61   \n",
       "3  Bank transfer (automatic)           42.30       1840.75      0      1371   \n",
       "4           Electronic check           70.70        151.65      1        61   \n",
       "\n",
       "   ... Partner  Dependents InternetService OnlineSecurity OnlineBackup  \\\n",
       "0  ...     Yes          No             DSL             No          Yes   \n",
       "1  ...      No          No             DSL            Yes           No   \n",
       "2  ...      No          No             DSL            Yes          Yes   \n",
       "3  ...      No          No             DSL            Yes           No   \n",
       "4  ...      No          No     Fiber optic             No           No   \n",
       "\n",
       "  DeviceProtection TechSupport StreamingTV StreamingMovies MultipleLines  \n",
       "0               No          No          No              No           NaN  \n",
       "1              Yes          No          No              No            No  \n",
       "2               No          No          No              No            No  \n",
       "3              Yes         Yes          No              No           NaN  \n",
       "4               No          No          No              No            No  \n",
       "\n",
       "[5 rows x 22 columns]"
      ]
     },
     "execution_count": 33,
     "metadata": {},
     "output_type": "execute_result"
    }
   ],
   "source": [
    "telecom = contract \\\n",
    "    .merge(personal, how='outer', on='customerID') \\\n",
    "    .merge(internet, how='outer', on='customerID') \\\n",
    "    .merge(phone, how='outer', on='customerID')\n",
    "\n",
    "telecom.head()"
   ]
  },
  {
   "cell_type": "code",
   "execution_count": 34,
   "metadata": {},
   "outputs": [
    {
     "name": "stdout",
     "output_type": "stream",
     "text": [
      "<class 'pandas.core.frame.DataFrame'>\n",
      "Int64Index: 7043 entries, 0 to 7042\n",
      "Data columns (total 22 columns):\n",
      " #   Column            Non-Null Count  Dtype         \n",
      "---  ------            --------------  -----         \n",
      " 0   customerID        7043 non-null   object        \n",
      " 1   BeginDate         7043 non-null   datetime64[ns]\n",
      " 2   EndDate           7043 non-null   datetime64[ns]\n",
      " 3   Type              7043 non-null   object        \n",
      " 4   PaperlessBilling  7043 non-null   object        \n",
      " 5   PaymentMethod     7043 non-null   object        \n",
      " 6   MonthlyCharges    7043 non-null   float64       \n",
      " 7   TotalCharges      7043 non-null   float64       \n",
      " 8   Churn             7043 non-null   int64         \n",
      " 9   Duration          7043 non-null   int64         \n",
      " 10  gender            7043 non-null   object        \n",
      " 11  SeniorCitizen     7043 non-null   int64         \n",
      " 12  Partner           7043 non-null   object        \n",
      " 13  Dependents        7043 non-null   object        \n",
      " 14  InternetService   5517 non-null   object        \n",
      " 15  OnlineSecurity    5517 non-null   object        \n",
      " 16  OnlineBackup      5517 non-null   object        \n",
      " 17  DeviceProtection  5517 non-null   object        \n",
      " 18  TechSupport       5517 non-null   object        \n",
      " 19  StreamingTV       5517 non-null   object        \n",
      " 20  StreamingMovies   5517 non-null   object        \n",
      " 21  MultipleLines     6361 non-null   object        \n",
      "dtypes: datetime64[ns](2), float64(2), int64(3), object(15)\n",
      "memory usage: 1.2+ MB\n"
     ]
    }
   ],
   "source": [
    "telecom.info()"
   ]
  },
  {
   "cell_type": "code",
   "execution_count": 35,
   "metadata": {},
   "outputs": [
    {
     "data": {
      "text/html": [
       "<div>\n",
       "<style scoped>\n",
       "    .dataframe tbody tr th:only-of-type {\n",
       "        vertical-align: middle;\n",
       "    }\n",
       "\n",
       "    .dataframe tbody tr th {\n",
       "        vertical-align: top;\n",
       "    }\n",
       "\n",
       "    .dataframe thead th {\n",
       "        text-align: right;\n",
       "    }\n",
       "</style>\n",
       "<table border=\"1\" class=\"dataframe\">\n",
       "  <thead>\n",
       "    <tr style=\"text-align: right;\">\n",
       "      <th></th>\n",
       "      <th>MonthlyCharges</th>\n",
       "      <th>TotalCharges</th>\n",
       "      <th>Churn</th>\n",
       "      <th>Duration</th>\n",
       "      <th>SeniorCitizen</th>\n",
       "    </tr>\n",
       "  </thead>\n",
       "  <tbody>\n",
       "    <tr>\n",
       "      <th>count</th>\n",
       "      <td>7043.000000</td>\n",
       "      <td>7043.000000</td>\n",
       "      <td>7043.000000</td>\n",
       "      <td>7043.000000</td>\n",
       "      <td>7043.000000</td>\n",
       "    </tr>\n",
       "    <tr>\n",
       "      <th>mean</th>\n",
       "      <td>64.761692</td>\n",
       "      <td>2279.734304</td>\n",
       "      <td>0.265370</td>\n",
       "      <td>985.996166</td>\n",
       "      <td>0.162147</td>\n",
       "    </tr>\n",
       "    <tr>\n",
       "      <th>std</th>\n",
       "      <td>30.090047</td>\n",
       "      <td>2266.794470</td>\n",
       "      <td>0.441561</td>\n",
       "      <td>747.587844</td>\n",
       "      <td>0.368612</td>\n",
       "    </tr>\n",
       "    <tr>\n",
       "      <th>min</th>\n",
       "      <td>18.250000</td>\n",
       "      <td>0.000000</td>\n",
       "      <td>0.000000</td>\n",
       "      <td>0.000000</td>\n",
       "      <td>0.000000</td>\n",
       "    </tr>\n",
       "    <tr>\n",
       "      <th>25%</th>\n",
       "      <td>35.500000</td>\n",
       "      <td>398.550000</td>\n",
       "      <td>0.000000</td>\n",
       "      <td>273.000000</td>\n",
       "      <td>0.000000</td>\n",
       "    </tr>\n",
       "    <tr>\n",
       "      <th>50%</th>\n",
       "      <td>70.350000</td>\n",
       "      <td>1394.550000</td>\n",
       "      <td>0.000000</td>\n",
       "      <td>883.000000</td>\n",
       "      <td>0.000000</td>\n",
       "    </tr>\n",
       "    <tr>\n",
       "      <th>75%</th>\n",
       "      <td>89.850000</td>\n",
       "      <td>3786.600000</td>\n",
       "      <td>1.000000</td>\n",
       "      <td>1676.000000</td>\n",
       "      <td>0.000000</td>\n",
       "    </tr>\n",
       "    <tr>\n",
       "      <th>max</th>\n",
       "      <td>118.750000</td>\n",
       "      <td>8684.800000</td>\n",
       "      <td>1.000000</td>\n",
       "      <td>2191.000000</td>\n",
       "      <td>1.000000</td>\n",
       "    </tr>\n",
       "  </tbody>\n",
       "</table>\n",
       "</div>"
      ],
      "text/plain": [
       "       MonthlyCharges  TotalCharges        Churn     Duration  SeniorCitizen\n",
       "count     7043.000000   7043.000000  7043.000000  7043.000000    7043.000000\n",
       "mean        64.761692   2279.734304     0.265370   985.996166       0.162147\n",
       "std         30.090047   2266.794470     0.441561   747.587844       0.368612\n",
       "min         18.250000      0.000000     0.000000     0.000000       0.000000\n",
       "25%         35.500000    398.550000     0.000000   273.000000       0.000000\n",
       "50%         70.350000   1394.550000     0.000000   883.000000       0.000000\n",
       "75%         89.850000   3786.600000     1.000000  1676.000000       0.000000\n",
       "max        118.750000   8684.800000     1.000000  2191.000000       1.000000"
      ]
     },
     "execution_count": 35,
     "metadata": {},
     "output_type": "execute_result"
    }
   ],
   "source": [
    "telecom.describe()"
   ]
  },
  {
   "cell_type": "markdown",
   "metadata": {},
   "source": [
    "Средние месячные траты составляют около 65, средние суммарные траты составляют приблизительно 2280. Средняя продолжительность действия контракта 986 дней.\n",
    "\n",
    "После объединения таблиц образовались пропуски, т.к. клиенты не пользовались услугами. Необходимо заменить пропуски на 'No'."
   ]
  },
  {
   "cell_type": "code",
   "execution_count": 36,
   "metadata": {},
   "outputs": [
    {
     "data": {
      "text/plain": [
       "customerID          0\n",
       "BeginDate           0\n",
       "EndDate             0\n",
       "Type                0\n",
       "PaperlessBilling    0\n",
       "PaymentMethod       0\n",
       "MonthlyCharges      0\n",
       "TotalCharges        0\n",
       "Churn               0\n",
       "Duration            0\n",
       "gender              0\n",
       "SeniorCitizen       0\n",
       "Partner             0\n",
       "Dependents          0\n",
       "InternetService     0\n",
       "OnlineSecurity      0\n",
       "OnlineBackup        0\n",
       "DeviceProtection    0\n",
       "TechSupport         0\n",
       "StreamingTV         0\n",
       "StreamingMovies     0\n",
       "MultipleLines       0\n",
       "dtype: int64"
      ]
     },
     "execution_count": 36,
     "metadata": {},
     "output_type": "execute_result"
    }
   ],
   "source": [
    "telecom = telecom.fillna('No')\n",
    "telecom.isna().sum()"
   ]
  },
  {
   "cell_type": "code",
   "execution_count": 37,
   "metadata": {},
   "outputs": [
    {
     "data": {
      "text/plain": [
       "<AxesSubplot:>"
      ]
     },
     "execution_count": 37,
     "metadata": {},
     "output_type": "execute_result"
    },
    {
     "data": {
      "image/png": "[encoded data removed]",
      "text/plain": [
       "<Figure size 432x288 with 2 Axes>"
      ]
     },
     "metadata": {
      "needs_background": "light"
     },
     "output_type": "display_data"
    }
   ],
   "source": [
    "sns.heatmap(telecom[['MonthlyCharges', 'TotalCharges', 'Duration']].corr(), annot=True, fmt=\".2f\")"
   ]
  },
  {
   "cell_type": "markdown",
   "metadata": {},
   "source": [
    "Из матрицы корреляции можно заметить, что коэффициент корреляции между продолжительностью контракта и суммарными тратами суммарными тратами 0.83, что говорит о сильной положительной корреляции. Чем дольше действует контракт, тем больше суммарные траты. Т.к. качесто модели может ухудшиться, столбец TotalCharges необходимо удалить. Также можно удалить столбцы с датами, потому что всю необходимую информацию мы вычленили из них в отдельные столбцы. Столбец с идентификационными номерами клиентов также не является значимым для обучения модели."
   ]
  },
  {
   "cell_type": "code",
   "execution_count": 38,
   "metadata": {},
   "outputs": [
    {
     "data": {
      "text/html": [
       "<div>\n",
       "<style scoped>\n",
       "    .dataframe tbody tr th:only-of-type {\n",
       "        vertical-align: middle;\n",
       "    }\n",
       "\n",
       "    .dataframe tbody tr th {\n",
       "        vertical-align: top;\n",
       "    }\n",
       "\n",
       "    .dataframe thead th {\n",
       "        text-align: right;\n",
       "    }\n",
       "</style>\n",
       "<table border=\"1\" class=\"dataframe\">\n",
       "  <thead>\n",
       "    <tr style=\"text-align: right;\">\n",
       "      <th></th>\n",
       "      <th>Type</th>\n",
       "      <th>PaperlessBilling</th>\n",
       "      <th>PaymentMethod</th>\n",
       "      <th>MonthlyCharges</th>\n",
       "      <th>Churn</th>\n",
       "      <th>Duration</th>\n",
       "      <th>gender</th>\n",
       "      <th>SeniorCitizen</th>\n",
       "      <th>Partner</th>\n",
       "      <th>Dependents</th>\n",
       "      <th>InternetService</th>\n",
       "      <th>OnlineSecurity</th>\n",
       "      <th>OnlineBackup</th>\n",
       "      <th>DeviceProtection</th>\n",
       "      <th>TechSupport</th>\n",
       "      <th>StreamingTV</th>\n",
       "      <th>StreamingMovies</th>\n",
       "      <th>MultipleLines</th>\n",
       "    </tr>\n",
       "  </thead>\n",
       "  <tbody>\n",
       "    <tr>\n",
       "      <th>0</th>\n",
       "      <td>Month-to-month</td>\n",
       "      <td>Yes</td>\n",
       "      <td>Electronic check</td>\n",
       "      <td>29.85</td>\n",
       "      <td>0</td>\n",
       "      <td>31</td>\n",
       "      <td>Female</td>\n",
       "      <td>0</td>\n",
       "      <td>Yes</td>\n",
       "      <td>No</td>\n",
       "      <td>DSL</td>\n",
       "      <td>No</td>\n",
       "      <td>Yes</td>\n",
       "      <td>No</td>\n",
       "      <td>No</td>\n",
       "      <td>No</td>\n",
       "      <td>No</td>\n",
       "      <td>No</td>\n",
       "    </tr>\n",
       "    <tr>\n",
       "      <th>1</th>\n",
       "      <td>One year</td>\n",
       "      <td>No</td>\n",
       "      <td>Mailed check</td>\n",
       "      <td>56.95</td>\n",
       "      <td>0</td>\n",
       "      <td>1036</td>\n",
       "      <td>Male</td>\n",
       "      <td>0</td>\n",
       "      <td>No</td>\n",
       "      <td>No</td>\n",
       "      <td>DSL</td>\n",
       "      <td>Yes</td>\n",
       "      <td>No</td>\n",
       "      <td>Yes</td>\n",
       "      <td>No</td>\n",
       "      <td>No</td>\n",
       "      <td>No</td>\n",
       "      <td>No</td>\n",
       "    </tr>\n",
       "    <tr>\n",
       "      <th>2</th>\n",
       "      <td>Month-to-month</td>\n",
       "      <td>Yes</td>\n",
       "      <td>Mailed check</td>\n",
       "      <td>53.85</td>\n",
       "      <td>1</td>\n",
       "      <td>61</td>\n",
       "      <td>Male</td>\n",
       "      <td>0</td>\n",
       "      <td>No</td>\n",
       "      <td>No</td>\n",
       "      <td>DSL</td>\n",
       "      <td>Yes</td>\n",
       "      <td>Yes</td>\n",
       "      <td>No</td>\n",
       "      <td>No</td>\n",
       "      <td>No</td>\n",
       "      <td>No</td>\n",
       "      <td>No</td>\n",
       "    </tr>\n",
       "    <tr>\n",
       "      <th>3</th>\n",
       "      <td>One year</td>\n",
       "      <td>No</td>\n",
       "      <td>Bank transfer (automatic)</td>\n",
       "      <td>42.30</td>\n",
       "      <td>0</td>\n",
       "      <td>1371</td>\n",
       "      <td>Male</td>\n",
       "      <td>0</td>\n",
       "      <td>No</td>\n",
       "      <td>No</td>\n",
       "      <td>DSL</td>\n",
       "      <td>Yes</td>\n",
       "      <td>No</td>\n",
       "      <td>Yes</td>\n",
       "      <td>Yes</td>\n",
       "      <td>No</td>\n",
       "      <td>No</td>\n",
       "      <td>No</td>\n",
       "    </tr>\n",
       "    <tr>\n",
       "      <th>4</th>\n",
       "      <td>Month-to-month</td>\n",
       "      <td>Yes</td>\n",
       "      <td>Electronic check</td>\n",
       "      <td>70.70</td>\n",
       "      <td>1</td>\n",
       "      <td>61</td>\n",
       "      <td>Female</td>\n",
       "      <td>0</td>\n",
       "      <td>No</td>\n",
       "      <td>No</td>\n",
       "      <td>Fiber optic</td>\n",
       "      <td>No</td>\n",
       "      <td>No</td>\n",
       "      <td>No</td>\n",
       "      <td>No</td>\n",
       "      <td>No</td>\n",
       "      <td>No</td>\n",
       "      <td>No</td>\n",
       "    </tr>\n",
       "  </tbody>\n",
       "</table>\n",
       "</div>"
      ],
      "text/plain": [
       "             Type PaperlessBilling              PaymentMethod  MonthlyCharges  \\\n",
       "0  Month-to-month              Yes           Electronic check           29.85   \n",
       "1        One year               No               Mailed check           56.95   \n",
       "2  Month-to-month              Yes               Mailed check           53.85   \n",
       "3        One year               No  Bank transfer (automatic)           42.30   \n",
       "4  Month-to-month              Yes           Electronic check           70.70   \n",
       "\n",
       "   Churn  Duration  gender  SeniorCitizen Partner Dependents InternetService  \\\n",
       "0      0        31  Female              0     Yes         No             DSL   \n",
       "1      0      1036    Male              0      No         No             DSL   \n",
       "2      1        61    Male              0      No         No             DSL   \n",
       "3      0      1371    Male              0      No         No             DSL   \n",
       "4      1        61  Female              0      No         No     Fiber optic   \n",
       "\n",
       "  OnlineSecurity OnlineBackup DeviceProtection TechSupport StreamingTV  \\\n",
       "0             No          Yes               No          No          No   \n",
       "1            Yes           No              Yes          No          No   \n",
       "2            Yes          Yes               No          No          No   \n",
       "3            Yes           No              Yes         Yes          No   \n",
       "4             No           No               No          No          No   \n",
       "\n",
       "  StreamingMovies MultipleLines  \n",
       "0              No            No  \n",
       "1              No            No  \n",
       "2              No            No  \n",
       "3              No            No  \n",
       "4              No            No  "
      ]
     },
     "execution_count": 38,
     "metadata": {},
     "output_type": "execute_result"
    }
   ],
   "source": [
    "telecom = telecom.drop(['customerID', 'BeginDate', 'EndDate', 'TotalCharges'], axis=1)\n",
    "telecom.head()"
   ]
  },
  {
   "cell_type": "markdown",
   "metadata": {},
   "source": [
    "## Подготовка признаков"
   ]
  },
  {
   "cell_type": "code",
   "execution_count": 39,
   "metadata": {},
   "outputs": [
    {
     "data": {
      "text/html": [
       "<div>\n",
       "<style scoped>\n",
       "    .dataframe tbody tr th:only-of-type {\n",
       "        vertical-align: middle;\n",
       "    }\n",
       "\n",
       "    .dataframe tbody tr th {\n",
       "        vertical-align: top;\n",
       "    }\n",
       "\n",
       "    .dataframe thead th {\n",
       "        text-align: right;\n",
       "    }\n",
       "</style>\n",
       "<table border=\"1\" class=\"dataframe\">\n",
       "  <thead>\n",
       "    <tr style=\"text-align: right;\">\n",
       "      <th></th>\n",
       "      <th>MonthlyCharges</th>\n",
       "      <th>Churn</th>\n",
       "      <th>Duration</th>\n",
       "      <th>SeniorCitizen</th>\n",
       "      <th>Type_One year</th>\n",
       "      <th>Type_Two year</th>\n",
       "      <th>PaperlessBilling_Yes</th>\n",
       "      <th>PaymentMethod_Credit card (automatic)</th>\n",
       "      <th>PaymentMethod_Electronic check</th>\n",
       "      <th>PaymentMethod_Mailed check</th>\n",
       "      <th>...</th>\n",
       "      <th>Dependents_Yes</th>\n",
       "      <th>InternetService_Fiber optic</th>\n",
       "      <th>InternetService_No</th>\n",
       "      <th>OnlineSecurity_Yes</th>\n",
       "      <th>OnlineBackup_Yes</th>\n",
       "      <th>DeviceProtection_Yes</th>\n",
       "      <th>TechSupport_Yes</th>\n",
       "      <th>StreamingTV_Yes</th>\n",
       "      <th>StreamingMovies_Yes</th>\n",
       "      <th>MultipleLines_Yes</th>\n",
       "    </tr>\n",
       "  </thead>\n",
       "  <tbody>\n",
       "    <tr>\n",
       "      <th>0</th>\n",
       "      <td>29.85</td>\n",
       "      <td>0</td>\n",
       "      <td>31</td>\n",
       "      <td>0</td>\n",
       "      <td>0</td>\n",
       "      <td>0</td>\n",
       "      <td>1</td>\n",
       "      <td>0</td>\n",
       "      <td>1</td>\n",
       "      <td>0</td>\n",
       "      <td>...</td>\n",
       "      <td>0</td>\n",
       "      <td>0</td>\n",
       "      <td>0</td>\n",
       "      <td>0</td>\n",
       "      <td>1</td>\n",
       "      <td>0</td>\n",
       "      <td>0</td>\n",
       "      <td>0</td>\n",
       "      <td>0</td>\n",
       "      <td>0</td>\n",
       "    </tr>\n",
       "    <tr>\n",
       "      <th>1</th>\n",
       "      <td>56.95</td>\n",
       "      <td>0</td>\n",
       "      <td>1036</td>\n",
       "      <td>0</td>\n",
       "      <td>1</td>\n",
       "      <td>0</td>\n",
       "      <td>0</td>\n",
       "      <td>0</td>\n",
       "      <td>0</td>\n",
       "      <td>1</td>\n",
       "      <td>...</td>\n",
       "      <td>0</td>\n",
       "      <td>0</td>\n",
       "      <td>0</td>\n",
       "      <td>1</td>\n",
       "      <td>0</td>\n",
       "      <td>1</td>\n",
       "      <td>0</td>\n",
       "      <td>0</td>\n",
       "      <td>0</td>\n",
       "      <td>0</td>\n",
       "    </tr>\n",
       "    <tr>\n",
       "      <th>2</th>\n",
       "      <td>53.85</td>\n",
       "      <td>1</td>\n",
       "      <td>61</td>\n",
       "      <td>0</td>\n",
       "      <td>0</td>\n",
       "      <td>0</td>\n",
       "      <td>1</td>\n",
       "      <td>0</td>\n",
       "      <td>0</td>\n",
       "      <td>1</td>\n",
       "      <td>...</td>\n",
       "      <td>0</td>\n",
       "      <td>0</td>\n",
       "      <td>0</td>\n",
       "      <td>1</td>\n",
       "      <td>1</td>\n",
       "      <td>0</td>\n",
       "      <td>0</td>\n",
       "      <td>0</td>\n",
       "      <td>0</td>\n",
       "      <td>0</td>\n",
       "    </tr>\n",
       "    <tr>\n",
       "      <th>3</th>\n",
       "      <td>42.30</td>\n",
       "      <td>0</td>\n",
       "      <td>1371</td>\n",
       "      <td>0</td>\n",
       "      <td>1</td>\n",
       "      <td>0</td>\n",
       "      <td>0</td>\n",
       "      <td>0</td>\n",
       "      <td>0</td>\n",
       "      <td>0</td>\n",
       "      <td>...</td>\n",
       "      <td>0</td>\n",
       "      <td>0</td>\n",
       "      <td>0</td>\n",
       "      <td>1</td>\n",
       "      <td>0</td>\n",
       "      <td>1</td>\n",
       "      <td>1</td>\n",
       "      <td>0</td>\n",
       "      <td>0</td>\n",
       "      <td>0</td>\n",
       "    </tr>\n",
       "    <tr>\n",
       "      <th>4</th>\n",
       "      <td>70.70</td>\n",
       "      <td>1</td>\n",
       "      <td>61</td>\n",
       "      <td>0</td>\n",
       "      <td>0</td>\n",
       "      <td>0</td>\n",
       "      <td>1</td>\n",
       "      <td>0</td>\n",
       "      <td>1</td>\n",
       "      <td>0</td>\n",
       "      <td>...</td>\n",
       "      <td>0</td>\n",
       "      <td>1</td>\n",
       "      <td>0</td>\n",
       "      <td>0</td>\n",
       "      <td>0</td>\n",
       "      <td>0</td>\n",
       "      <td>0</td>\n",
       "      <td>0</td>\n",
       "      <td>0</td>\n",
       "      <td>0</td>\n",
       "    </tr>\n",
       "  </tbody>\n",
       "</table>\n",
       "<p>5 rows × 22 columns</p>\n",
       "</div>"
      ],
      "text/plain": [
       "   MonthlyCharges  Churn  Duration  SeniorCitizen  Type_One year  \\\n",
       "0           29.85      0        31              0              0   \n",
       "1           56.95      0      1036              0              1   \n",
       "2           53.85      1        61              0              0   \n",
       "3           42.30      0      1371              0              1   \n",
       "4           70.70      1        61              0              0   \n",
       "\n",
       "   Type_Two year  PaperlessBilling_Yes  PaymentMethod_Credit card (automatic)  \\\n",
       "0              0                     1                                      0   \n",
       "1              0                     0                                      0   \n",
       "2              0                     1                                      0   \n",
       "3              0                     0                                      0   \n",
       "4              0                     1                                      0   \n",
       "\n",
       "   PaymentMethod_Electronic check  PaymentMethod_Mailed check  ...  \\\n",
       "0                               1                           0  ...   \n",
       "1                               0                           1  ...   \n",
       "2                               0                           1  ...   \n",
       "3                               0                           0  ...   \n",
       "4                               1                           0  ...   \n",
       "\n",
       "   Dependents_Yes  InternetService_Fiber optic  InternetService_No  \\\n",
       "0               0                            0                   0   \n",
       "1               0                            0                   0   \n",
       "2               0                            0                   0   \n",
       "3               0                            0                   0   \n",
       "4               0                            1                   0   \n",
       "\n",
       "   OnlineSecurity_Yes  OnlineBackup_Yes  DeviceProtection_Yes  \\\n",
       "0                   0                 1                     0   \n",
       "1                   1                 0                     1   \n",
       "2                   1                 1                     0   \n",
       "3                   1                 0                     1   \n",
       "4                   0                 0                     0   \n",
       "\n",
       "   TechSupport_Yes  StreamingTV_Yes  StreamingMovies_Yes  MultipleLines_Yes  \n",
       "0                0                0                    0                  0  \n",
       "1                0                0                    0                  0  \n",
       "2                0                0                    0                  0  \n",
       "3                1                0                    0                  0  \n",
       "4                0                0                    0                  0  \n",
       "\n",
       "[5 rows x 22 columns]"
      ]
     },
     "execution_count": 39,
     "metadata": {},
     "output_type": "execute_result"
    }
   ],
   "source": [
    "# закодируем категориальные признаки техникой OHE\n",
    "telecom = pd.get_dummies(telecom, drop_first=True)\n",
    "telecom.head()"
   ]
  },
  {
   "cell_type": "code",
   "execution_count": 40,
   "metadata": {},
   "outputs": [
    {
     "data": {
      "text/plain": [
       "((5282, 21), (5282,), (1761, 21), (1761,))"
      ]
     },
     "execution_count": 40,
     "metadata": {},
     "output_type": "execute_result"
    }
   ],
   "source": [
    "# разобьем на обучающую и тестовую выборки\n",
    "target = telecom['Churn']\n",
    "features = telecom.drop('Churn', axis=1)\n",
    "\n",
    "features_train, features_test, target_train, target_test = (\n",
    "train_test_split(features, target, test_size=0.25, random_state=80822))\n",
    "features_train.shape, target_train.shape, features_test.shape, target_test.shape"
   ]
  },
  {
   "cell_type": "code",
   "execution_count": 41,
   "metadata": {},
   "outputs": [
    {
     "name": "stdout",
     "output_type": "stream",
     "text": [
      "(5282, 21)\n"
     ]
    },
    {
     "data": {
      "text/html": [
       "<div>\n",
       "<style scoped>\n",
       "    .dataframe tbody tr th:only-of-type {\n",
       "        vertical-align: middle;\n",
       "    }\n",
       "\n",
       "    .dataframe tbody tr th {\n",
       "        vertical-align: top;\n",
       "    }\n",
       "\n",
       "    .dataframe thead th {\n",
       "        text-align: right;\n",
       "    }\n",
       "</style>\n",
       "<table border=\"1\" class=\"dataframe\">\n",
       "  <thead>\n",
       "    <tr style=\"text-align: right;\">\n",
       "      <th></th>\n",
       "      <th>MonthlyCharges</th>\n",
       "      <th>Duration</th>\n",
       "      <th>SeniorCitizen</th>\n",
       "      <th>Type_One year</th>\n",
       "      <th>Type_Two year</th>\n",
       "      <th>PaperlessBilling_Yes</th>\n",
       "      <th>PaymentMethod_Credit card (automatic)</th>\n",
       "      <th>PaymentMethod_Electronic check</th>\n",
       "      <th>PaymentMethod_Mailed check</th>\n",
       "      <th>gender_Male</th>\n",
       "      <th>...</th>\n",
       "      <th>Dependents_Yes</th>\n",
       "      <th>InternetService_Fiber optic</th>\n",
       "      <th>InternetService_No</th>\n",
       "      <th>OnlineSecurity_Yes</th>\n",
       "      <th>OnlineBackup_Yes</th>\n",
       "      <th>DeviceProtection_Yes</th>\n",
       "      <th>TechSupport_Yes</th>\n",
       "      <th>StreamingTV_Yes</th>\n",
       "      <th>StreamingMovies_Yes</th>\n",
       "      <th>MultipleLines_Yes</th>\n",
       "    </tr>\n",
       "  </thead>\n",
       "  <tbody>\n",
       "    <tr>\n",
       "      <th>3248</th>\n",
       "      <td>0.730826</td>\n",
       "      <td>-0.913071</td>\n",
       "      <td>1</td>\n",
       "      <td>0</td>\n",
       "      <td>0</td>\n",
       "      <td>1</td>\n",
       "      <td>0</td>\n",
       "      <td>1</td>\n",
       "      <td>0</td>\n",
       "      <td>1</td>\n",
       "      <td>...</td>\n",
       "      <td>0</td>\n",
       "      <td>1</td>\n",
       "      <td>0</td>\n",
       "      <td>0</td>\n",
       "      <td>0</td>\n",
       "      <td>0</td>\n",
       "      <td>0</td>\n",
       "      <td>0</td>\n",
       "      <td>1</td>\n",
       "      <td>1</td>\n",
       "    </tr>\n",
       "    <tr>\n",
       "      <th>6898</th>\n",
       "      <td>1.175559</td>\n",
       "      <td>-0.421383</td>\n",
       "      <td>0</td>\n",
       "      <td>1</td>\n",
       "      <td>0</td>\n",
       "      <td>1</td>\n",
       "      <td>0</td>\n",
       "      <td>0</td>\n",
       "      <td>1</td>\n",
       "      <td>1</td>\n",
       "      <td>...</td>\n",
       "      <td>1</td>\n",
       "      <td>1</td>\n",
       "      <td>0</td>\n",
       "      <td>0</td>\n",
       "      <td>1</td>\n",
       "      <td>1</td>\n",
       "      <td>0</td>\n",
       "      <td>1</td>\n",
       "      <td>1</td>\n",
       "      <td>0</td>\n",
       "    </tr>\n",
       "    <tr>\n",
       "      <th>2450</th>\n",
       "      <td>1.520725</td>\n",
       "      <td>1.615039</td>\n",
       "      <td>0</td>\n",
       "      <td>0</td>\n",
       "      <td>1</td>\n",
       "      <td>1</td>\n",
       "      <td>0</td>\n",
       "      <td>0</td>\n",
       "      <td>0</td>\n",
       "      <td>0</td>\n",
       "      <td>...</td>\n",
       "      <td>1</td>\n",
       "      <td>1</td>\n",
       "      <td>0</td>\n",
       "      <td>1</td>\n",
       "      <td>0</td>\n",
       "      <td>1</td>\n",
       "      <td>1</td>\n",
       "      <td>1</td>\n",
       "      <td>1</td>\n",
       "      <td>1</td>\n",
       "    </tr>\n",
       "    <tr>\n",
       "      <th>5153</th>\n",
       "      <td>0.993019</td>\n",
       "      <td>0.351654</td>\n",
       "      <td>1</td>\n",
       "      <td>0</td>\n",
       "      <td>0</td>\n",
       "      <td>1</td>\n",
       "      <td>0</td>\n",
       "      <td>1</td>\n",
       "      <td>0</td>\n",
       "      <td>1</td>\n",
       "      <td>...</td>\n",
       "      <td>0</td>\n",
       "      <td>1</td>\n",
       "      <td>0</td>\n",
       "      <td>0</td>\n",
       "      <td>1</td>\n",
       "      <td>0</td>\n",
       "      <td>0</td>\n",
       "      <td>1</td>\n",
       "      <td>1</td>\n",
       "      <td>0</td>\n",
       "    </tr>\n",
       "    <tr>\n",
       "      <th>5176</th>\n",
       "      <td>-0.624945</td>\n",
       "      <td>-0.259273</td>\n",
       "      <td>0</td>\n",
       "      <td>0</td>\n",
       "      <td>0</td>\n",
       "      <td>0</td>\n",
       "      <td>0</td>\n",
       "      <td>0</td>\n",
       "      <td>1</td>\n",
       "      <td>0</td>\n",
       "      <td>...</td>\n",
       "      <td>1</td>\n",
       "      <td>0</td>\n",
       "      <td>0</td>\n",
       "      <td>1</td>\n",
       "      <td>0</td>\n",
       "      <td>0</td>\n",
       "      <td>1</td>\n",
       "      <td>0</td>\n",
       "      <td>1</td>\n",
       "      <td>0</td>\n",
       "    </tr>\n",
       "  </tbody>\n",
       "</table>\n",
       "<p>5 rows × 21 columns</p>\n",
       "</div>"
      ],
      "text/plain": [
       "      MonthlyCharges  Duration  SeniorCitizen  Type_One year  Type_Two year  \\\n",
       "3248        0.730826 -0.913071              1              0              0   \n",
       "6898        1.175559 -0.421383              0              1              0   \n",
       "2450        1.520725  1.615039              0              0              1   \n",
       "5153        0.993019  0.351654              1              0              0   \n",
       "5176       -0.624945 -0.259273              0              0              0   \n",
       "\n",
       "      PaperlessBilling_Yes  PaymentMethod_Credit card (automatic)  \\\n",
       "3248                     1                                      0   \n",
       "6898                     1                                      0   \n",
       "2450                     1                                      0   \n",
       "5153                     1                                      0   \n",
       "5176                     0                                      0   \n",
       "\n",
       "      PaymentMethod_Electronic check  PaymentMethod_Mailed check  gender_Male  \\\n",
       "3248                               1                           0            1   \n",
       "6898                               0                           1            1   \n",
       "2450                               0                           0            0   \n",
       "5153                               1                           0            1   \n",
       "5176                               0                           1            0   \n",
       "\n",
       "      ...  Dependents_Yes  InternetService_Fiber optic  InternetService_No  \\\n",
       "3248  ...               0                            1                   0   \n",
       "6898  ...               1                            1                   0   \n",
       "2450  ...               1                            1                   0   \n",
       "5153  ...               0                            1                   0   \n",
       "5176  ...               1                            0                   0   \n",
       "\n",
       "      OnlineSecurity_Yes  OnlineBackup_Yes  DeviceProtection_Yes  \\\n",
       "3248                   0                 0                     0   \n",
       "6898                   0                 1                     1   \n",
       "2450                   1                 0                     1   \n",
       "5153                   0                 1                     0   \n",
       "5176                   1                 0                     0   \n",
       "\n",
       "      TechSupport_Yes  StreamingTV_Yes  StreamingMovies_Yes  MultipleLines_Yes  \n",
       "3248                0                0                    1                  1  \n",
       "6898                0                1                    1                  0  \n",
       "2450                1                1                    1                  1  \n",
       "5153                0                1                    1                  0  \n",
       "5176                1                0                    1                  0  \n",
       "\n",
       "[5 rows x 21 columns]"
      ]
     },
     "execution_count": 41,
     "metadata": {},
     "output_type": "execute_result"
    }
   ],
   "source": [
    "# т.к. одной из моделей планирую использовать логистическую регрессию\n",
    "# необходимо масштабировать численные признаки\n",
    "# выделим численные признаки и масштабируем их\n",
    "\n",
    "numeric = ['MonthlyCharges', 'Duration']\n",
    "pd.options.mode.chained_assignment = None\n",
    "scaler = StandardScaler()\n",
    "scaler.fit(features_train[numeric])\n",
    "features_train[numeric] = scaler.transform(features_train[numeric])\n",
    "features_test[numeric] = scaler.transform(features_test[numeric])\n",
    "\n",
    "\n",
    "print(features_train.shape)\n",
    "features_train.head()"
   ]
  },
  {
   "cell_type": "code",
   "execution_count": 42,
   "metadata": {},
   "outputs": [
    {
     "data": {
      "text/plain": [
       "<AxesSubplot:>"
      ]
     },
     "execution_count": 42,
     "metadata": {},
     "output_type": "execute_result"
    },
    {
     "data": {
      "image/png": "[encoded data removed]",
      "text/plain": [
       "<Figure size 432x288 with 1 Axes>"
      ]
     },
     "metadata": {
      "needs_background": "light"
     },
     "output_type": "display_data"
    }
   ],
   "source": [
    "target.hist()"
   ]
  },
  {
   "cell_type": "markdown",
   "metadata": {},
   "source": [
    "Наблюдаем дисбаланс классов. Ключевой метрикой в данном проекте служит AUC-ROC. Эта метрика устойчива к дисбалансу классов, поэтому от применения методов борьбы с дисбаланом существенно не изменяется. Всвязи с этим нет необходимости бороться с дисбалансом."
   ]
  },
  {
   "cell_type": "markdown",
   "metadata": {},
   "source": [
    "## Вывод"
   ]
  },
  {
   "cell_type": "markdown",
   "metadata": {},
   "source": [
    "В ходе этого этапа была произведена подготовка данных для дальнейшего обучения. Данные в столбцах были приведены к корректным типам, были созданы новые столбцы. Все таблицы были объеденены в одну, заполнены пропуски после обединения. Были исследованы зависимости между признаками и удалены ненужные признаки. Было произведено кодирование категориальных и масштабирование численных признаков. Данные были разделены на обучающую и тестовую выборки."
   ]
  },
  {
   "cell_type": "markdown",
   "metadata": {},
   "source": [
    "# Обучение модели"
   ]
  },
  {
   "cell_type": "code",
   "execution_count": 43,
   "metadata": {},
   "outputs": [],
   "source": [
    "# напишем функцию для построения ROC-кривой\n",
    "def roc_curve_plot(targ, prob):\n",
    "    fpr, tpr, thresholds = roc_curve(targ, prob)\n",
    "    plt.figure()\n",
    "    plt.plot(fpr, tpr)\n",
    "    plt.plot([0, 1], [0, 1], linestyle='--') # ROC-кривая случайной модели (выглядит как прямая)\n",
    "    plt.xlim([0.0, 1.0])\n",
    "    plt.ylim([0.0, 1.0])\n",
    "    plt.xlabel(\"False Positive Rate\")\n",
    "    plt.ylabel(\"True Positive Rate\")\n",
    "    plt.title(\"ROC-кривая\")\n",
    "    plt.show()"
   ]
  },
  {
   "cell_type": "code",
   "execution_count": 44,
   "metadata": {},
   "outputs": [],
   "source": [
    "# автоматизируем процесс получения информации о качесвте модели\n",
    "# предсказания будем делать на трейне\n",
    "# в качестве основной метрики будет AUC-ROC, в качесвте дополнительной - Accuracy\n",
    "def automation(model):\n",
    "    model.fit(features_train, target_train)\n",
    "    pred = model.predict(features_train)\n",
    "    prob = model.predict_proba(features_train)\n",
    "    prob_one = prob[:, 1]\n",
    "    acc = accuracy_score(target_train, pred)\n",
    "    auc_roc = roc_auc_score(target_train, prob_one)\n",
    "    print('Accuracy модели', model, 'на обучающей выборке:', round(acc, 4))\n",
    "    print('AUC-ROC:', round(auc_roc, 4))\n",
    "    roc_curve_plot(target_train, prob_one)"
   ]
  },
  {
   "cell_type": "markdown",
   "metadata": {},
   "source": [
    "## Логистическая регрессия"
   ]
  },
  {
   "cell_type": "code",
   "execution_count": 45,
   "metadata": {},
   "outputs": [
    {
     "name": "stdout",
     "output_type": "stream",
     "text": [
      "CPU times: user 4.39 s, sys: 6.62 s, total: 11 s\n",
      "Wall time: 11 s\n"
     ]
    },
    {
     "data": {
      "text/plain": [
       "{'C': 10, 'penalty': 'l2'}"
      ]
     },
     "execution_count": 45,
     "metadata": {},
     "output_type": "execute_result"
    }
   ],
   "source": [
    "%%time\n",
    "\n",
    "# подберем наилучшие гиперпараметры модели с помощью поиска по сетке\n",
    "parametrs = {'C': [0.001, 0.01, 0.1, 1, 10, 100, 1000],\n",
    "             'penalty': ['l1', 'l2']}\n",
    "\n",
    "model_lr = LogisticRegression(solver='liblinear', n_jobs=-1, random_state=80822)\n",
    "\n",
    "grid_lr = GridSearchCV(model_lr, parametrs, cv=5, scoring='roc_auc')\n",
    "grid_lr.fit(features_train, target_train)\n",
    "\n",
    "grid_lr.best_params_"
   ]
  },
  {
   "cell_type": "code",
   "execution_count": 46,
   "metadata": {},
   "outputs": [],
   "source": [
    "# инициализируем модель с наилучшими гиперпараметрами\n",
    "model_lr = LogisticRegression(random_state=80822, solver='liblinear', n_jobs=-1, C=10, penalty='l2')"
   ]
  },
  {
   "cell_type": "code",
   "execution_count": 47,
   "metadata": {},
   "outputs": [
    {
     "name": "stdout",
     "output_type": "stream",
     "text": [
      "Accuracy модели LogisticRegression(C=10, n_jobs=-1, random_state=80822, solver='liblinear') на обучающей выборке: 0.8095\n",
      "AUC-ROC: 0.8455\n"
     ]
    },
    {
     "data": {
      "image/png": "[encoded data removed]",
      "text/plain": [
       "<Figure size 432x288 with 1 Axes>"
      ]
     },
     "metadata": {
      "needs_background": "light"
     },
     "output_type": "display_data"
    }
   ],
   "source": [
    "# получим информацию о качестве модели\n",
    "automation(model_lr)"
   ]
  },
  {
   "cell_type": "markdown",
   "metadata": {},
   "source": [
    "## Случайный лес"
   ]
  },
  {
   "cell_type": "code",
   "execution_count": 48,
   "metadata": {},
   "outputs": [
    {
     "name": "stdout",
     "output_type": "stream",
     "text": [
      "CPU times: user 2min 32s, sys: 1.16 s, total: 2min 33s\n",
      "Wall time: 2min 35s\n"
     ]
    },
    {
     "data": {
      "text/plain": [
       "{'max_depth': 8, 'n_estimators': 81}"
      ]
     },
     "execution_count": 48,
     "metadata": {},
     "output_type": "execute_result"
    }
   ],
   "source": [
    "%%time\n",
    "\n",
    "parametrs = {'n_estimators': range(1, 100, 5), \n",
    "            'max_depth': range(1, 12)}\n",
    "\n",
    "model_rf = RandomForestClassifier(random_state=80822)\n",
    "\n",
    "grid_rf = GridSearchCV(model_rf, parametrs, cv=5, scoring='roc_auc')\n",
    "grid_rf.fit(features_train, target_train)\n",
    "\n",
    "grid_rf.best_params_"
   ]
  },
  {
   "cell_type": "code",
   "execution_count": 49,
   "metadata": {},
   "outputs": [],
   "source": [
    "model_rf = RandomForestClassifier(random_state=80822, max_depth=8, n_estimators=81)"
   ]
  },
  {
   "cell_type": "code",
   "execution_count": 50,
   "metadata": {},
   "outputs": [
    {
     "name": "stdout",
     "output_type": "stream",
     "text": [
      "Accuracy модели RandomForestClassifier(max_depth=8, n_estimators=81, random_state=80822) на обучающей выборке: 0.8438\n",
      "AUC-ROC: 0.9117\n"
     ]
    },
    {
     "data": {
      "image/png": "[encoded data removed]",
      "text/plain": [
       "<Figure size 432x288 with 1 Axes>"
      ]
     },
     "metadata": {
      "needs_background": "light"
     },
     "output_type": "display_data"
    }
   ],
   "source": [
    "automation(model_rf)"
   ]
  },
  {
   "cell_type": "markdown",
   "metadata": {},
   "source": [
    "## CatBoost"
   ]
  },
  {
   "cell_type": "code",
   "execution_count": 51,
   "metadata": {},
   "outputs": [
    {
     "name": "stdout",
     "output_type": "stream",
     "text": [
      "0:\tlearn: 0.6894593\ttest: 0.6893236\tbest: 0.6893236 (0)\ttotal: 60.5ms\tremaining: 2.97s\n",
      "1:\tlearn: 0.6858292\ttest: 0.6853538\tbest: 0.6853538 (1)\ttotal: 61.7ms\tremaining: 1.48s\n",
      "2:\tlearn: 0.6822806\ttest: 0.6816758\tbest: 0.6816758 (2)\ttotal: 62.6ms\tremaining: 981ms\n",
      "3:\tlearn: 0.6789973\ttest: 0.6782690\tbest: 0.6782690 (3)\ttotal: 63.5ms\tremaining: 730ms\n",
      "4:\tlearn: 0.6757502\ttest: 0.6746471\tbest: 0.6746471 (4)\ttotal: 64.3ms\tremaining: 578ms\n",
      "5:\tlearn: 0.6723348\ttest: 0.6709236\tbest: 0.6709236 (5)\ttotal: 65ms\tremaining: 477ms\n",
      "6:\tlearn: 0.6680593\ttest: 0.6664356\tbest: 0.6664356 (6)\ttotal: 65.7ms\tremaining: 404ms\n",
      "7:\tlearn: 0.6647478\ttest: 0.6628225\tbest: 0.6628225 (7)\ttotal: 66.4ms\tremaining: 349ms\n",
      "8:\tlearn: 0.6615121\ttest: 0.6592885\tbest: 0.6592885 (8)\ttotal: 67ms\tremaining: 305ms\n",
      "9:\tlearn: 0.6583825\ttest: 0.6560472\tbest: 0.6560472 (9)\ttotal: 67.7ms\tremaining: 271ms\n",
      "10:\tlearn: 0.6554433\ttest: 0.6527852\tbest: 0.6527852 (10)\ttotal: 68.3ms\tremaining: 242ms\n",
      "11:\tlearn: 0.6524119\ttest: 0.6494700\tbest: 0.6494700 (11)\ttotal: 69ms\tremaining: 218ms\n",
      "12:\tlearn: 0.6494438\ttest: 0.6463987\tbest: 0.6463987 (12)\ttotal: 69.5ms\tremaining: 198ms\n",
      "13:\tlearn: 0.6456611\ttest: 0.6424257\tbest: 0.6424257 (13)\ttotal: 70.2ms\tremaining: 181ms\n",
      "14:\tlearn: 0.6429548\ttest: 0.6394106\tbest: 0.6394106 (14)\ttotal: 70.9ms\tremaining: 165ms\n",
      "15:\tlearn: 0.6402855\ttest: 0.6364284\tbest: 0.6364284 (15)\ttotal: 71.6ms\tremaining: 152ms\n",
      "16:\tlearn: 0.6378144\ttest: 0.6338229\tbest: 0.6338229 (16)\ttotal: 72.3ms\tremaining: 140ms\n",
      "17:\tlearn: 0.6350991\ttest: 0.6310109\tbest: 0.6310109 (17)\ttotal: 72.9ms\tremaining: 130ms\n",
      "18:\tlearn: 0.6324459\ttest: 0.6282622\tbest: 0.6282622 (18)\ttotal: 73.5ms\tremaining: 120ms\n",
      "19:\tlearn: 0.6300034\ttest: 0.6257388\tbest: 0.6257388 (19)\ttotal: 74.1ms\tremaining: 111ms\n",
      "20:\tlearn: 0.6277469\ttest: 0.6231477\tbest: 0.6231477 (20)\ttotal: 74.6ms\tremaining: 103ms\n",
      "21:\tlearn: 0.6253981\ttest: 0.6207196\tbest: 0.6207196 (21)\ttotal: 75.4ms\tremaining: 95.9ms\n",
      "22:\tlearn: 0.6229744\ttest: 0.6180357\tbest: 0.6180357 (22)\ttotal: 76ms\tremaining: 89.3ms\n",
      "23:\tlearn: 0.6207121\ttest: 0.6157018\tbest: 0.6157018 (23)\ttotal: 76.7ms\tremaining: 83.1ms\n",
      "24:\tlearn: 0.6183108\ttest: 0.6130003\tbest: 0.6130003 (24)\ttotal: 77.3ms\tremaining: 77.3ms\n",
      "25:\tlearn: 0.6159467\ttest: 0.6105599\tbest: 0.6105599 (25)\ttotal: 78ms\tremaining: 72ms\n",
      "26:\tlearn: 0.6138709\ttest: 0.6083673\tbest: 0.6083673 (26)\ttotal: 78.7ms\tremaining: 67ms\n",
      "27:\tlearn: 0.6116429\ttest: 0.6058871\tbest: 0.6058871 (27)\ttotal: 79.4ms\tremaining: 62.4ms\n",
      "28:\tlearn: 0.6094262\ttest: 0.6034337\tbest: 0.6034337 (28)\ttotal: 80.1ms\tremaining: 58ms\n",
      "29:\tlearn: 0.6072102\ttest: 0.6011479\tbest: 0.6011479 (29)\ttotal: 80.8ms\tremaining: 53.9ms\n",
      "30:\tlearn: 0.6050275\ttest: 0.5987253\tbest: 0.5987253 (30)\ttotal: 81.7ms\tremaining: 50.1ms\n",
      "31:\tlearn: 0.6030629\ttest: 0.5967031\tbest: 0.5967031 (31)\ttotal: 82.6ms\tremaining: 46.4ms\n",
      "32:\tlearn: 0.6009621\ttest: 0.5945377\tbest: 0.5945377 (32)\ttotal: 83.4ms\tremaining: 43ms\n",
      "33:\tlearn: 0.5990759\ttest: 0.5925959\tbest: 0.5925959 (33)\ttotal: 84.4ms\tremaining: 39.7ms\n",
      "34:\tlearn: 0.5972024\ttest: 0.5906515\tbest: 0.5906515 (34)\ttotal: 85.2ms\tremaining: 36.5ms\n",
      "35:\tlearn: 0.5952217\ttest: 0.5884045\tbest: 0.5884045 (35)\ttotal: 86ms\tremaining: 33.4ms\n",
      "36:\tlearn: 0.5932666\ttest: 0.5863897\tbest: 0.5863897 (36)\ttotal: 86.8ms\tremaining: 30.5ms\n",
      "37:\tlearn: 0.5913537\ttest: 0.5844207\tbest: 0.5844207 (37)\ttotal: 87.5ms\tremaining: 27.6ms\n",
      "38:\tlearn: 0.5894587\ttest: 0.5823031\tbest: 0.5823031 (38)\ttotal: 88.3ms\tremaining: 24.9ms\n",
      "39:\tlearn: 0.5877640\ttest: 0.5805640\tbest: 0.5805640 (39)\ttotal: 89.1ms\tremaining: 22.3ms\n",
      "40:\tlearn: 0.5859465\ttest: 0.5785436\tbest: 0.5785436 (40)\ttotal: 90ms\tremaining: 19.7ms\n",
      "41:\tlearn: 0.5841567\ttest: 0.5767023\tbest: 0.5767023 (41)\ttotal: 90.9ms\tremaining: 17.3ms\n",
      "42:\tlearn: 0.5824549\ttest: 0.5747730\tbest: 0.5747730 (42)\ttotal: 91.6ms\tremaining: 14.9ms\n",
      "43:\tlearn: 0.5807674\ttest: 0.5728836\tbest: 0.5728836 (43)\ttotal: 92.2ms\tremaining: 12.6ms\n",
      "44:\tlearn: 0.5783567\ttest: 0.5703640\tbest: 0.5703640 (44)\ttotal: 93.1ms\tremaining: 10.3ms\n",
      "45:\tlearn: 0.5767032\ttest: 0.5685081\tbest: 0.5685081 (45)\ttotal: 93.9ms\tremaining: 8.16ms\n",
      "46:\tlearn: 0.5750503\ttest: 0.5668140\tbest: 0.5668140 (46)\ttotal: 94.6ms\tremaining: 6.04ms\n",
      "47:\tlearn: 0.5734361\ttest: 0.5651585\tbest: 0.5651585 (47)\ttotal: 95.3ms\tremaining: 3.97ms\n",
      "48:\tlearn: 0.5719957\ttest: 0.5636331\tbest: 0.5636331 (48)\ttotal: 96ms\tremaining: 1.96ms\n",
      "49:\tlearn: 0.5705822\ttest: 0.5621390\tbest: 0.5621390 (49)\ttotal: 96.8ms\tremaining: 0us\n",
      "\n",
      "bestTest = 0.5621390271\n",
      "bestIteration = 49\n",
      "\n",
      "0:\tloss: 0.5621390\tbest: 0.5621390 (0)\ttotal: 562ms\tremaining: 19.7s\n",
      "0:\tlearn: 0.6751766\ttest: 0.6745008\tbest: 0.6745008 (0)\ttotal: 982us\tremaining: 48.1ms\n",
      "1:\tlearn: 0.6586114\ttest: 0.6563083\tbest: 0.6563083 (1)\ttotal: 1.77ms\tremaining: 42.6ms\n",
      "2:\tlearn: 0.6393444\ttest: 0.6360787\tbest: 0.6360787 (2)\ttotal: 2.56ms\tremaining: 40.2ms\n",
      "3:\tlearn: 0.6268158\ttest: 0.6231145\tbest: 0.6231145 (3)\ttotal: 3.3ms\tremaining: 37.9ms\n",
      "4:\tlearn: 0.6147040\ttest: 0.6105610\tbest: 0.6105610 (4)\ttotal: 4.06ms\tremaining: 36.6ms\n",
      "5:\tlearn: 0.6039350\ttest: 0.5993877\tbest: 0.5993877 (5)\ttotal: 4.83ms\tremaining: 35.4ms\n",
      "6:\tlearn: 0.5943681\ttest: 0.5894430\tbest: 0.5894430 (6)\ttotal: 5.61ms\tremaining: 34.4ms\n",
      "7:\tlearn: 0.5842041\ttest: 0.5781826\tbest: 0.5781826 (7)\ttotal: 6.36ms\tremaining: 33.4ms\n",
      "8:\tlearn: 0.5751751\ttest: 0.5681293\tbest: 0.5681293 (8)\ttotal: 7.14ms\tremaining: 32.5ms\n",
      "9:\tlearn: 0.5674001\ttest: 0.5592092\tbest: 0.5592092 (9)\ttotal: 7.86ms\tremaining: 31.4ms\n",
      "10:\tlearn: 0.5601899\ttest: 0.5510445\tbest: 0.5510445 (10)\ttotal: 8.64ms\tremaining: 30.7ms\n",
      "11:\tlearn: 0.5538349\ttest: 0.5443266\tbest: 0.5443266 (11)\ttotal: 9.44ms\tremaining: 29.9ms\n",
      "12:\tlearn: 0.5476812\ttest: 0.5380482\tbest: 0.5380482 (12)\ttotal: 10.2ms\tremaining: 29ms\n",
      "13:\tlearn: 0.5422740\ttest: 0.5326212\tbest: 0.5326212 (13)\ttotal: 11ms\tremaining: 28.2ms\n",
      "14:\tlearn: 0.5371853\ttest: 0.5274512\tbest: 0.5274512 (14)\ttotal: 11.7ms\tremaining: 27.4ms\n",
      "15:\tlearn: 0.5323310\ttest: 0.5223211\tbest: 0.5223211 (15)\ttotal: 12.6ms\tremaining: 26.8ms\n",
      "16:\tlearn: 0.5281327\ttest: 0.5175287\tbest: 0.5175287 (16)\ttotal: 13.4ms\tremaining: 26ms\n",
      "17:\tlearn: 0.5235809\ttest: 0.5123139\tbest: 0.5123139 (17)\ttotal: 14.2ms\tremaining: 25.3ms\n",
      "18:\tlearn: 0.5199376\ttest: 0.5077560\tbest: 0.5077560 (18)\ttotal: 15ms\tremaining: 24.5ms\n",
      "19:\tlearn: 0.5163243\ttest: 0.5042498\tbest: 0.5042498 (19)\ttotal: 15.8ms\tremaining: 23.7ms\n",
      "20:\tlearn: 0.5130870\ttest: 0.5011200\tbest: 0.5011200 (20)\ttotal: 16.6ms\tremaining: 22.9ms\n",
      "21:\tlearn: 0.5097017\ttest: 0.4977893\tbest: 0.4977893 (21)\ttotal: 17.4ms\tremaining: 22.2ms\n",
      "22:\tlearn: 0.5066801\ttest: 0.4948241\tbest: 0.4948241 (22)\ttotal: 18.2ms\tremaining: 21.4ms\n",
      "23:\tlearn: 0.5034854\ttest: 0.4910481\tbest: 0.4910481 (23)\ttotal: 19ms\tremaining: 20.6ms\n",
      "24:\tlearn: 0.5010239\ttest: 0.4877043\tbest: 0.4877043 (24)\ttotal: 19.8ms\tremaining: 19.8ms\n",
      "25:\tlearn: 0.4984670\ttest: 0.4850396\tbest: 0.4850396 (25)\ttotal: 20.6ms\tremaining: 19ms\n",
      "26:\tlearn: 0.4962132\ttest: 0.4829551\tbest: 0.4829551 (26)\ttotal: 21.3ms\tremaining: 18.2ms\n",
      "27:\tlearn: 0.4941893\ttest: 0.4810953\tbest: 0.4810953 (27)\ttotal: 22.1ms\tremaining: 17.3ms\n",
      "28:\tlearn: 0.4919171\ttest: 0.4789408\tbest: 0.4789408 (28)\ttotal: 22.9ms\tremaining: 16.6ms\n",
      "29:\tlearn: 0.4897395\ttest: 0.4763376\tbest: 0.4763376 (29)\ttotal: 23.7ms\tremaining: 15.8ms\n",
      "30:\tlearn: 0.4872660\ttest: 0.4739716\tbest: 0.4739716 (30)\ttotal: 24.6ms\tremaining: 15.1ms\n",
      "31:\tlearn: 0.4853983\ttest: 0.4716932\tbest: 0.4716932 (31)\ttotal: 25.3ms\tremaining: 14.2ms\n",
      "32:\tlearn: 0.4814204\ttest: 0.4677637\tbest: 0.4677637 (32)\ttotal: 26.1ms\tremaining: 13.4ms\n",
      "33:\tlearn: 0.4797312\ttest: 0.4660173\tbest: 0.4660173 (33)\ttotal: 26.9ms\tremaining: 12.6ms\n",
      "34:\tlearn: 0.4778014\ttest: 0.4638417\tbest: 0.4638417 (34)\ttotal: 27.7ms\tremaining: 11.9ms\n",
      "35:\tlearn: 0.4764396\ttest: 0.4626874\tbest: 0.4626874 (35)\ttotal: 28.5ms\tremaining: 11.1ms\n",
      "36:\tlearn: 0.4750109\ttest: 0.4612137\tbest: 0.4612137 (36)\ttotal: 29.3ms\tremaining: 10.3ms\n",
      "37:\tlearn: 0.4732475\ttest: 0.4596325\tbest: 0.4596325 (37)\ttotal: 30ms\tremaining: 9.48ms\n",
      "38:\tlearn: 0.4716655\ttest: 0.4582250\tbest: 0.4582250 (38)\ttotal: 30.7ms\tremaining: 8.67ms\n",
      "39:\tlearn: 0.4702463\ttest: 0.4569723\tbest: 0.4569723 (39)\ttotal: 31.6ms\tremaining: 7.9ms\n",
      "40:\tlearn: 0.4689581\ttest: 0.4556543\tbest: 0.4556543 (40)\ttotal: 32.4ms\tremaining: 7.12ms\n",
      "41:\tlearn: 0.4679287\ttest: 0.4548304\tbest: 0.4548304 (41)\ttotal: 33.4ms\tremaining: 6.35ms\n",
      "42:\tlearn: 0.4662230\ttest: 0.4532275\tbest: 0.4532275 (42)\ttotal: 34.5ms\tremaining: 5.61ms\n",
      "43:\tlearn: 0.4648394\ttest: 0.4516729\tbest: 0.4516729 (43)\ttotal: 35.3ms\tremaining: 4.81ms\n",
      "44:\tlearn: 0.4621706\ttest: 0.4491253\tbest: 0.4491253 (44)\ttotal: 36.1ms\tremaining: 4.01ms\n",
      "45:\tlearn: 0.4609742\ttest: 0.4481128\tbest: 0.4481128 (45)\ttotal: 36.9ms\tremaining: 3.21ms\n",
      "46:\tlearn: 0.4586975\ttest: 0.4459559\tbest: 0.4459559 (46)\ttotal: 37.7ms\tremaining: 2.41ms\n",
      "47:\tlearn: 0.4575961\ttest: 0.4450215\tbest: 0.4450215 (47)\ttotal: 38.9ms\tremaining: 1.62ms\n",
      "48:\tlearn: 0.4569094\ttest: 0.4440462\tbest: 0.4440462 (48)\ttotal: 39.9ms\tremaining: 814us\n",
      "49:\tlearn: 0.4554945\ttest: 0.4427300\tbest: 0.4427300 (49)\ttotal: 41.2ms\tremaining: 0us\n",
      "\n",
      "bestTest = 0.4427300402\n",
      "bestIteration = 49\n",
      "\n",
      "0:\tlearn: 0.6583857\ttest: 0.6570314\tbest: 0.6570314 (0)\ttotal: 1.14ms\tremaining: 55.9ms\n",
      "1:\tlearn: 0.6288627\ttest: 0.6244248\tbest: 0.6244248 (1)\ttotal: 2.25ms\tremaining: 54ms\n",
      "2:\tlearn: 0.6045589\ttest: 0.5974433\tbest: 0.5974433 (2)\ttotal: 3.29ms\tremaining: 51.6ms\n",
      "3:\tlearn: 0.5846515\ttest: 0.5768880\tbest: 0.5768880 (3)\ttotal: 4.33ms\tremaining: 49.8ms\n",
      "4:\tlearn: 0.5695477\ttest: 0.5599377\tbest: 0.5599377 (4)\ttotal: 5.34ms\tremaining: 48.1ms\n",
      "5:\tlearn: 0.5557232\ttest: 0.5459906\tbest: 0.5459906 (5)\ttotal: 6.45ms\tremaining: 47.3ms\n",
      "6:\tlearn: 0.5447723\ttest: 0.5349505\tbest: 0.5349505 (6)\ttotal: 7.53ms\tremaining: 46.2ms\n",
      "7:\tlearn: 0.5351177\ttest: 0.5233932\tbest: 0.5233932 (7)\ttotal: 8.62ms\tremaining: 45.2ms\n",
      "8:\tlearn: 0.5258766\ttest: 0.5141659\tbest: 0.5141659 (8)\ttotal: 9.69ms\tremaining: 44.1ms\n",
      "9:\tlearn: 0.5122616\ttest: 0.5002377\tbest: 0.5002377 (9)\ttotal: 10.9ms\tremaining: 43.5ms\n",
      "10:\tlearn: 0.5057810\ttest: 0.4934755\tbest: 0.4934755 (10)\ttotal: 11.9ms\tremaining: 42.2ms\n",
      "11:\tlearn: 0.4965100\ttest: 0.4840383\tbest: 0.4840383 (11)\ttotal: 13ms\tremaining: 41.3ms\n",
      "12:\tlearn: 0.4919499\ttest: 0.4792913\tbest: 0.4792913 (12)\ttotal: 14.1ms\tremaining: 40.2ms\n",
      "13:\tlearn: 0.4869835\ttest: 0.4746185\tbest: 0.4746185 (13)\ttotal: 15.1ms\tremaining: 38.9ms\n",
      "14:\tlearn: 0.4826189\ttest: 0.4695195\tbest: 0.4695195 (14)\ttotal: 16.1ms\tremaining: 37.6ms\n",
      "15:\tlearn: 0.4796676\ttest: 0.4659846\tbest: 0.4659846 (15)\ttotal: 17.3ms\tremaining: 36.7ms\n",
      "16:\tlearn: 0.4767146\ttest: 0.4629493\tbest: 0.4629493 (16)\ttotal: 18.4ms\tremaining: 35.6ms\n",
      "17:\tlearn: 0.4730373\ttest: 0.4596243\tbest: 0.4596243 (17)\ttotal: 19.4ms\tremaining: 34.6ms\n",
      "18:\tlearn: 0.4703216\ttest: 0.4573898\tbest: 0.4573898 (18)\ttotal: 20.5ms\tremaining: 33.4ms\n",
      "19:\tlearn: 0.4665942\ttest: 0.4539036\tbest: 0.4539036 (19)\ttotal: 21.7ms\tremaining: 32.5ms\n",
      "20:\tlearn: 0.4637968\ttest: 0.4505186\tbest: 0.4505186 (20)\ttotal: 22.7ms\tremaining: 31.3ms\n",
      "21:\tlearn: 0.4610388\ttest: 0.4481347\tbest: 0.4481347 (21)\ttotal: 23.6ms\tremaining: 30.1ms\n",
      "22:\tlearn: 0.4589128\ttest: 0.4455852\tbest: 0.4455852 (22)\ttotal: 24.6ms\tremaining: 28.9ms\n",
      "23:\tlearn: 0.4548722\ttest: 0.4417424\tbest: 0.4417424 (23)\ttotal: 25.7ms\tremaining: 27.8ms\n",
      "24:\tlearn: 0.4522891\ttest: 0.4393420\tbest: 0.4393420 (24)\ttotal: 27ms\tremaining: 27ms\n",
      "25:\tlearn: 0.4501381\ttest: 0.4375768\tbest: 0.4375768 (25)\ttotal: 27.9ms\tremaining: 25.8ms\n",
      "26:\tlearn: 0.4486191\ttest: 0.4365152\tbest: 0.4365152 (26)\ttotal: 28.9ms\tremaining: 24.6ms\n",
      "27:\tlearn: 0.4469853\ttest: 0.4352297\tbest: 0.4352297 (27)\ttotal: 29.9ms\tremaining: 23.5ms\n",
      "28:\tlearn: 0.4445953\ttest: 0.4330883\tbest: 0.4330883 (28)\ttotal: 30.8ms\tremaining: 22.3ms\n",
      "29:\tlearn: 0.4432021\ttest: 0.4313461\tbest: 0.4313461 (29)\ttotal: 31.7ms\tremaining: 21.1ms\n",
      "30:\tlearn: 0.4412910\ttest: 0.4296602\tbest: 0.4296602 (30)\ttotal: 32.6ms\tremaining: 20ms\n",
      "31:\tlearn: 0.4399737\ttest: 0.4283664\tbest: 0.4283664 (31)\ttotal: 33.6ms\tremaining: 18.9ms\n",
      "32:\tlearn: 0.4389394\ttest: 0.4276133\tbest: 0.4276133 (32)\ttotal: 34.5ms\tremaining: 17.8ms\n",
      "33:\tlearn: 0.4378435\ttest: 0.4265402\tbest: 0.4265402 (33)\ttotal: 35.4ms\tremaining: 16.7ms\n",
      "34:\tlearn: 0.4362382\ttest: 0.4247448\tbest: 0.4247448 (34)\ttotal: 36.4ms\tremaining: 15.6ms\n",
      "35:\tlearn: 0.4352383\ttest: 0.4237801\tbest: 0.4237801 (35)\ttotal: 37.5ms\tremaining: 14.6ms\n",
      "36:\tlearn: 0.4341970\ttest: 0.4227868\tbest: 0.4227868 (36)\ttotal: 38.3ms\tremaining: 13.5ms\n",
      "37:\tlearn: 0.4328242\ttest: 0.4212039\tbest: 0.4212039 (37)\ttotal: 39.1ms\tremaining: 12.3ms\n",
      "38:\tlearn: 0.4314421\ttest: 0.4199440\tbest: 0.4199440 (38)\ttotal: 40ms\tremaining: 11.3ms\n",
      "39:\tlearn: 0.4305981\ttest: 0.4192382\tbest: 0.4192382 (39)\ttotal: 40.9ms\tremaining: 10.2ms\n",
      "40:\tlearn: 0.4298032\ttest: 0.4187167\tbest: 0.4187167 (40)\ttotal: 41.8ms\tremaining: 9.18ms\n",
      "41:\tlearn: 0.4281445\ttest: 0.4171588\tbest: 0.4171588 (41)\ttotal: 42.7ms\tremaining: 8.14ms\n",
      "42:\tlearn: 0.4274759\ttest: 0.4167380\tbest: 0.4167380 (42)\ttotal: 43.5ms\tremaining: 7.09ms\n",
      "43:\tlearn: 0.4265309\ttest: 0.4155017\tbest: 0.4155017 (43)\ttotal: 44.3ms\tremaining: 6.04ms\n",
      "44:\tlearn: 0.4259560\ttest: 0.4148016\tbest: 0.4148016 (44)\ttotal: 45ms\tremaining: 5ms\n",
      "45:\tlearn: 0.4242539\ttest: 0.4133630\tbest: 0.4133630 (45)\ttotal: 45.8ms\tremaining: 3.98ms\n",
      "46:\tlearn: 0.4235242\ttest: 0.4126924\tbest: 0.4126924 (46)\ttotal: 46.5ms\tremaining: 2.97ms\n",
      "47:\tlearn: 0.4228790\ttest: 0.4120469\tbest: 0.4120469 (47)\ttotal: 47.3ms\tremaining: 1.97ms\n",
      "48:\tlearn: 0.4221784\ttest: 0.4111079\tbest: 0.4111079 (48)\ttotal: 48.1ms\tremaining: 982us\n",
      "49:\tlearn: 0.4209236\ttest: 0.4099031\tbest: 0.4099031 (49)\ttotal: 49ms\tremaining: 0us\n",
      "\n",
      "bestTest = 0.4099030845\n",
      "bestIteration = 49\n",
      "\n",
      "0:\tlearn: 0.5287866\ttest: 0.5187468\tbest: 0.5187468 (0)\ttotal: 756us\tremaining: 37.1ms\n",
      "1:\tlearn: 0.4730586\ttest: 0.4516697\tbest: 0.4516697 (1)\ttotal: 1.35ms\tremaining: 32.5ms\n",
      "2:\tlearn: 0.4537845\ttest: 0.4332619\tbest: 0.4332619 (2)\ttotal: 2.03ms\tremaining: 31.8ms\n",
      "3:\tlearn: 0.4414892\ttest: 0.4282616\tbest: 0.4282616 (3)\ttotal: 2.69ms\tremaining: 30.9ms\n",
      "4:\tlearn: 0.4350674\ttest: 0.4208515\tbest: 0.4208515 (4)\ttotal: 3.56ms\tremaining: 32ms\n",
      "5:\tlearn: 0.4261618\ttest: 0.4138207\tbest: 0.4138207 (5)\ttotal: 4.38ms\tremaining: 32.1ms\n",
      "6:\tlearn: 0.4238119\ttest: 0.4114299\tbest: 0.4114299 (6)\ttotal: 5.28ms\tremaining: 32.4ms\n",
      "7:\tlearn: 0.4170961\ttest: 0.4081265\tbest: 0.4081265 (7)\ttotal: 6.12ms\tremaining: 32.2ms\n",
      "8:\tlearn: 0.4134188\ttest: 0.4079830\tbest: 0.4079830 (8)\ttotal: 6.82ms\tremaining: 31.1ms\n",
      "9:\tlearn: 0.4112978\ttest: 0.4067486\tbest: 0.4067486 (9)\ttotal: 7.58ms\tremaining: 30.3ms\n",
      "10:\tlearn: 0.4099455\ttest: 0.4064075\tbest: 0.4064075 (10)\ttotal: 8.51ms\tremaining: 30.2ms\n",
      "11:\tlearn: 0.4078554\ttest: 0.4012386\tbest: 0.4012386 (11)\ttotal: 9.16ms\tremaining: 29ms\n",
      "12:\tlearn: 0.4055649\ttest: 0.3968601\tbest: 0.3968601 (12)\ttotal: 9.88ms\tremaining: 28.1ms\n",
      "13:\tlearn: 0.4038290\ttest: 0.3964803\tbest: 0.3964803 (13)\ttotal: 10.6ms\tremaining: 27.2ms\n",
      "14:\tlearn: 0.4018023\ttest: 0.3930438\tbest: 0.3930438 (14)\ttotal: 11.3ms\tremaining: 26.4ms\n",
      "15:\tlearn: 0.3996723\ttest: 0.3915849\tbest: 0.3915849 (15)\ttotal: 12.2ms\tremaining: 25.9ms\n",
      "16:\tlearn: 0.3984155\ttest: 0.3885384\tbest: 0.3885384 (16)\ttotal: 12.9ms\tremaining: 25.1ms\n",
      "17:\tlearn: 0.3969978\ttest: 0.3891585\tbest: 0.3885384 (16)\ttotal: 13.7ms\tremaining: 24.3ms\n",
      "18:\tlearn: 0.3942596\ttest: 0.3873896\tbest: 0.3873896 (18)\ttotal: 14.4ms\tremaining: 23.5ms\n",
      "19:\tlearn: 0.3930137\ttest: 0.3872482\tbest: 0.3872482 (19)\ttotal: 15.1ms\tremaining: 22.7ms\n",
      "20:\tlearn: 0.3917959\ttest: 0.3856055\tbest: 0.3856055 (20)\ttotal: 15.8ms\tremaining: 21.9ms\n",
      "21:\tlearn: 0.3904898\ttest: 0.3848846\tbest: 0.3848846 (21)\ttotal: 16.5ms\tremaining: 21ms\n",
      "22:\tlearn: 0.3898906\ttest: 0.3836181\tbest: 0.3836181 (22)\ttotal: 17.2ms\tremaining: 20.2ms\n",
      "23:\tlearn: 0.3892098\ttest: 0.3819296\tbest: 0.3819296 (23)\ttotal: 17.9ms\tremaining: 19.4ms\n",
      "24:\tlearn: 0.3884385\ttest: 0.3826212\tbest: 0.3819296 (23)\ttotal: 18.6ms\tremaining: 18.6ms\n",
      "25:\tlearn: 0.3869270\ttest: 0.3806307\tbest: 0.3806307 (25)\ttotal: 19.4ms\tremaining: 17.9ms\n",
      "26:\tlearn: 0.3866721\ttest: 0.3802569\tbest: 0.3802569 (26)\ttotal: 19.9ms\tremaining: 17ms\n",
      "27:\tlearn: 0.3856493\ttest: 0.3794561\tbest: 0.3794561 (27)\ttotal: 20.6ms\tremaining: 16.2ms\n",
      "28:\tlearn: 0.3846361\ttest: 0.3787101\tbest: 0.3787101 (28)\ttotal: 21.5ms\tremaining: 15.6ms\n",
      "29:\tlearn: 0.3838305\ttest: 0.3781133\tbest: 0.3781133 (29)\ttotal: 22.3ms\tremaining: 14.8ms\n",
      "30:\tlearn: 0.3831818\ttest: 0.3775918\tbest: 0.3775918 (30)\ttotal: 23ms\tremaining: 14.1ms\n",
      "31:\tlearn: 0.3824102\ttest: 0.3778041\tbest: 0.3775918 (30)\ttotal: 23.7ms\tremaining: 13.3ms\n",
      "32:\tlearn: 0.3817066\ttest: 0.3761984\tbest: 0.3761984 (32)\ttotal: 24.5ms\tremaining: 12.6ms\n",
      "33:\tlearn: 0.3812050\ttest: 0.3769681\tbest: 0.3761984 (32)\ttotal: 25.2ms\tremaining: 11.9ms\n",
      "34:\tlearn: 0.3806829\ttest: 0.3765551\tbest: 0.3761984 (32)\ttotal: 25.9ms\tremaining: 11.1ms\n",
      "35:\tlearn: 0.3801513\ttest: 0.3762227\tbest: 0.3761984 (32)\ttotal: 26.7ms\tremaining: 10.4ms\n",
      "36:\tlearn: 0.3797118\ttest: 0.3758259\tbest: 0.3758259 (36)\ttotal: 27.5ms\tremaining: 9.66ms\n",
      "37:\tlearn: 0.3791560\ttest: 0.3760426\tbest: 0.3758259 (36)\ttotal: 28.2ms\tremaining: 8.91ms\n",
      "38:\tlearn: 0.3786055\ttest: 0.3747043\tbest: 0.3747043 (38)\ttotal: 29ms\tremaining: 8.16ms\n",
      "39:\tlearn: 0.3781959\ttest: 0.3754051\tbest: 0.3747043 (38)\ttotal: 29.6ms\tremaining: 7.4ms\n",
      "40:\tlearn: 0.3777819\ttest: 0.3748998\tbest: 0.3747043 (38)\ttotal: 30.3ms\tremaining: 6.65ms\n",
      "41:\tlearn: 0.3774797\ttest: 0.3747526\tbest: 0.3747043 (38)\ttotal: 31ms\tremaining: 5.91ms\n",
      "42:\tlearn: 0.3759305\ttest: 0.3741755\tbest: 0.3741755 (42)\ttotal: 31.9ms\tremaining: 5.19ms\n",
      "43:\tlearn: 0.3755068\ttest: 0.3757987\tbest: 0.3741755 (42)\ttotal: 32.6ms\tremaining: 4.45ms\n",
      "44:\tlearn: 0.3752591\ttest: 0.3755774\tbest: 0.3741755 (42)\ttotal: 33.3ms\tremaining: 3.71ms\n",
      "45:\tlearn: 0.3748815\ttest: 0.3753971\tbest: 0.3741755 (42)\ttotal: 34.2ms\tremaining: 2.98ms\n",
      "46:\tlearn: 0.3744411\ttest: 0.3773906\tbest: 0.3741755 (42)\ttotal: 35ms\tremaining: 2.23ms\n",
      "47:\tlearn: 0.3736921\ttest: 0.3769680\tbest: 0.3741755 (42)\ttotal: 35.6ms\tremaining: 1.48ms\n",
      "48:\tlearn: 0.3730676\ttest: 0.3760298\tbest: 0.3741755 (42)\ttotal: 36.3ms\tremaining: 740us\n",
      "49:\tlearn: 0.3726714\ttest: 0.3768176\tbest: 0.3741755 (42)\ttotal: 37ms\tremaining: 0us\n",
      "\n",
      "bestTest = 0.3741755425\n",
      "bestIteration = 42\n",
      "\n",
      "0:\tlearn: 0.6871922\ttest: 0.6870117\tbest: 0.6870117 (0)\ttotal: 915us\tremaining: 44.9ms\n",
      "1:\tlearn: 0.6822661\ttest: 0.6817494\tbest: 0.6817494 (1)\ttotal: 1.67ms\tremaining: 40.1ms\n",
      "2:\tlearn: 0.6772305\ttest: 0.6764892\tbest: 0.6764892 (2)\ttotal: 2.4ms\tremaining: 37.7ms\n",
      "3:\tlearn: 0.6722253\ttest: 0.6711796\tbest: 0.6711796 (3)\ttotal: 3.22ms\tremaining: 37ms\n",
      "4:\tlearn: 0.6671065\ttest: 0.6657550\tbest: 0.6657550 (4)\ttotal: 4.21ms\tremaining: 37.9ms\n",
      "5:\tlearn: 0.6627528\ttest: 0.6613262\tbest: 0.6613262 (5)\ttotal: 5.25ms\tremaining: 38.5ms\n",
      "6:\tlearn: 0.6580538\ttest: 0.6564425\tbest: 0.6564425 (6)\ttotal: 6.3ms\tremaining: 38.7ms\n",
      "7:\tlearn: 0.6536114\ttest: 0.6518123\tbest: 0.6518123 (7)\ttotal: 7.31ms\tremaining: 38.4ms\n",
      "8:\tlearn: 0.6493648\ttest: 0.6472491\tbest: 0.6472491 (8)\ttotal: 8.03ms\tremaining: 36.6ms\n",
      "9:\tlearn: 0.6447955\ttest: 0.6423714\tbest: 0.6423714 (9)\ttotal: 8.72ms\tremaining: 34.9ms\n",
      "10:\tlearn: 0.6403307\ttest: 0.6376630\tbest: 0.6376630 (10)\ttotal: 9.5ms\tremaining: 33.7ms\n",
      "11:\tlearn: 0.6359478\ttest: 0.6330337\tbest: 0.6330337 (11)\ttotal: 10.3ms\tremaining: 32.5ms\n",
      "12:\tlearn: 0.6324337\ttest: 0.6292345\tbest: 0.6292345 (12)\ttotal: 11ms\tremaining: 31.4ms\n",
      "13:\tlearn: 0.6282987\ttest: 0.6248764\tbest: 0.6248764 (13)\ttotal: 11.9ms\tremaining: 30.7ms\n",
      "14:\tlearn: 0.6242394\ttest: 0.6205905\tbest: 0.6205905 (14)\ttotal: 12.9ms\tremaining: 30.2ms\n",
      "15:\tlearn: 0.6203675\ttest: 0.6165078\tbest: 0.6165078 (15)\ttotal: 13.9ms\tremaining: 29.6ms\n",
      "16:\tlearn: 0.6167894\ttest: 0.6128686\tbest: 0.6128686 (16)\ttotal: 15ms\tremaining: 29.1ms\n",
      "17:\tlearn: 0.6129721\ttest: 0.6088320\tbest: 0.6088320 (17)\ttotal: 15.9ms\tremaining: 28.2ms\n",
      "18:\tlearn: 0.6092789\ttest: 0.6049317\tbest: 0.6049317 (18)\ttotal: 16.7ms\tremaining: 27.2ms\n",
      "19:\tlearn: 0.6064493\ttest: 0.6020398\tbest: 0.6020398 (19)\ttotal: 17.6ms\tremaining: 26.4ms\n",
      "20:\tlearn: 0.6028761\ttest: 0.5982597\tbest: 0.5982597 (20)\ttotal: 18.4ms\tremaining: 25.5ms\n",
      "21:\tlearn: 0.5996756\ttest: 0.5950061\tbest: 0.5950061 (21)\ttotal: 19.2ms\tremaining: 24.5ms\n",
      "22:\tlearn: 0.5964281\ttest: 0.5915196\tbest: 0.5915196 (22)\ttotal: 20.2ms\tremaining: 23.7ms\n",
      "23:\tlearn: 0.5931468\ttest: 0.5880445\tbest: 0.5880445 (23)\ttotal: 21.1ms\tremaining: 22.8ms\n",
      "24:\tlearn: 0.5904403\ttest: 0.5853175\tbest: 0.5853175 (24)\ttotal: 22ms\tremaining: 22ms\n",
      "25:\tlearn: 0.5874398\ttest: 0.5820673\tbest: 0.5820673 (25)\ttotal: 23.1ms\tremaining: 21.3ms\n",
      "26:\tlearn: 0.5846766\ttest: 0.5791389\tbest: 0.5791389 (26)\ttotal: 24ms\tremaining: 20.4ms\n",
      "27:\tlearn: 0.5817635\ttest: 0.5760605\tbest: 0.5760605 (27)\ttotal: 24.8ms\tremaining: 19.5ms\n",
      "28:\tlearn: 0.5791524\ttest: 0.5732903\tbest: 0.5732903 (28)\ttotal: 25.6ms\tremaining: 18.5ms\n",
      "29:\tlearn: 0.5758846\ttest: 0.5698786\tbest: 0.5698786 (29)\ttotal: 26.5ms\tremaining: 17.7ms\n",
      "30:\tlearn: 0.5728888\ttest: 0.5668242\tbest: 0.5668242 (30)\ttotal: 27.3ms\tremaining: 16.7ms\n",
      "31:\tlearn: 0.5702783\ttest: 0.5640733\tbest: 0.5640733 (31)\ttotal: 28.3ms\tremaining: 15.9ms\n",
      "32:\tlearn: 0.5680461\ttest: 0.5616831\tbest: 0.5616831 (32)\ttotal: 29.2ms\tremaining: 15ms\n",
      "33:\tlearn: 0.5658318\ttest: 0.5594550\tbest: 0.5594550 (33)\ttotal: 30.1ms\tremaining: 14.1ms\n",
      "34:\tlearn: 0.5635493\ttest: 0.5570160\tbest: 0.5570160 (34)\ttotal: 30.9ms\tremaining: 13.2ms\n",
      "35:\tlearn: 0.5616191\ttest: 0.5548865\tbest: 0.5548865 (35)\ttotal: 31.7ms\tremaining: 12.3ms\n",
      "36:\tlearn: 0.5590593\ttest: 0.5521729\tbest: 0.5521729 (36)\ttotal: 32.6ms\tremaining: 11.4ms\n",
      "37:\tlearn: 0.5567272\ttest: 0.5495655\tbest: 0.5495655 (37)\ttotal: 39.4ms\tremaining: 12.4ms\n",
      "38:\tlearn: 0.5544428\ttest: 0.5472545\tbest: 0.5472545 (38)\ttotal: 40.1ms\tremaining: 11.3ms\n",
      "39:\tlearn: 0.5524450\ttest: 0.5451461\tbest: 0.5451461 (39)\ttotal: 40.9ms\tremaining: 10.2ms\n",
      "40:\tlearn: 0.5499582\ttest: 0.5425818\tbest: 0.5425818 (40)\ttotal: 41.8ms\tremaining: 9.18ms\n",
      "41:\tlearn: 0.5482308\ttest: 0.5405342\tbest: 0.5405342 (41)\ttotal: 42.7ms\tremaining: 8.13ms\n",
      "42:\tlearn: 0.5463350\ttest: 0.5385134\tbest: 0.5385134 (42)\ttotal: 43.6ms\tremaining: 7.1ms\n",
      "43:\tlearn: 0.5444992\ttest: 0.5366013\tbest: 0.5366013 (43)\ttotal: 44.5ms\tremaining: 6.06ms\n",
      "44:\tlearn: 0.5423876\ttest: 0.5343921\tbest: 0.5343921 (44)\ttotal: 45.3ms\tremaining: 5.04ms\n",
      "45:\tlearn: 0.5399392\ttest: 0.5318355\tbest: 0.5318355 (45)\ttotal: 46.2ms\tremaining: 4.02ms\n",
      "46:\tlearn: 0.5382509\ttest: 0.5299468\tbest: 0.5299468 (46)\ttotal: 47.1ms\tremaining: 3ms\n",
      "47:\tlearn: 0.5363638\ttest: 0.5279542\tbest: 0.5279542 (47)\ttotal: 48ms\tremaining: 2ms\n",
      "48:\tlearn: 0.5346651\ttest: 0.5262723\tbest: 0.5262723 (48)\ttotal: 48.9ms\tremaining: 997us\n",
      "49:\tlearn: 0.5330734\ttest: 0.5246022\tbest: 0.5246022 (49)\ttotal: 49.8ms\tremaining: 0us\n",
      "\n",
      "bestTest = 0.5246021896\n",
      "bestIteration = 49\n",
      "\n",
      "0:\tlearn: 0.6645420\ttest: 0.6636516\tbest: 0.6636516 (0)\ttotal: 859us\tremaining: 42.1ms\n",
      "1:\tlearn: 0.6429409\ttest: 0.6405076\tbest: 0.6405076 (1)\ttotal: 1.58ms\tremaining: 37.9ms\n",
      "2:\tlearn: 0.6244271\ttest: 0.6209127\tbest: 0.6209127 (2)\ttotal: 2.3ms\tremaining: 36ms\n",
      "3:\tlearn: 0.6057220\ttest: 0.6009380\tbest: 0.6009380 (3)\ttotal: 3.53ms\tremaining: 40.6ms\n",
      "4:\tlearn: 0.5883774\ttest: 0.5824870\tbest: 0.5824870 (4)\ttotal: 4.29ms\tremaining: 38.6ms\n",
      "5:\tlearn: 0.5761226\ttest: 0.5689981\tbest: 0.5689981 (5)\ttotal: 5.01ms\tremaining: 36.8ms\n",
      "6:\tlearn: 0.5611542\ttest: 0.5533668\tbest: 0.5533668 (6)\ttotal: 5.93ms\tremaining: 36.4ms\n",
      "7:\tlearn: 0.5509146\ttest: 0.5431582\tbest: 0.5431582 (7)\ttotal: 6.86ms\tremaining: 36ms\n",
      "8:\tlearn: 0.5395935\ttest: 0.5311656\tbest: 0.5311656 (8)\ttotal: 7.92ms\tremaining: 36.1ms\n",
      "9:\tlearn: 0.5314004\ttest: 0.5223578\tbest: 0.5223578 (9)\ttotal: 8.77ms\tremaining: 35.1ms\n",
      "10:\tlearn: 0.5220524\ttest: 0.5130361\tbest: 0.5130361 (10)\ttotal: 9.67ms\tremaining: 34.3ms\n",
      "11:\tlearn: 0.5137892\ttest: 0.5047914\tbest: 0.5047914 (11)\ttotal: 10.5ms\tremaining: 33.3ms\n",
      "12:\tlearn: 0.5064361\ttest: 0.4968251\tbest: 0.4968251 (12)\ttotal: 11.4ms\tremaining: 32.3ms\n",
      "13:\tlearn: 0.4984330\ttest: 0.4888323\tbest: 0.4888323 (13)\ttotal: 12.2ms\tremaining: 31.5ms\n",
      "14:\tlearn: 0.4921938\ttest: 0.4822649\tbest: 0.4822649 (14)\ttotal: 13ms\tremaining: 30.4ms\n",
      "15:\tlearn: 0.4868758\ttest: 0.4766764\tbest: 0.4766764 (15)\ttotal: 13.9ms\tremaining: 29.5ms\n",
      "16:\tlearn: 0.4819400\ttest: 0.4717896\tbest: 0.4717896 (16)\ttotal: 14.7ms\tremaining: 28.6ms\n",
      "17:\tlearn: 0.4751322\ttest: 0.4652001\tbest: 0.4652001 (17)\ttotal: 15.9ms\tremaining: 28.3ms\n",
      "18:\tlearn: 0.4714412\ttest: 0.4614961\tbest: 0.4614961 (18)\ttotal: 17.2ms\tremaining: 28ms\n",
      "19:\tlearn: 0.4682396\ttest: 0.4582877\tbest: 0.4582877 (19)\ttotal: 18.4ms\tremaining: 27.5ms\n",
      "20:\tlearn: 0.4646569\ttest: 0.4543619\tbest: 0.4543619 (20)\ttotal: 19.3ms\tremaining: 26.7ms\n",
      "21:\tlearn: 0.4622717\ttest: 0.4521594\tbest: 0.4521594 (21)\ttotal: 20.3ms\tremaining: 25.9ms\n",
      "22:\tlearn: 0.4599511\ttest: 0.4497774\tbest: 0.4497774 (22)\ttotal: 21.2ms\tremaining: 24.9ms\n",
      "23:\tlearn: 0.4573153\ttest: 0.4471127\tbest: 0.4471127 (23)\ttotal: 22.1ms\tremaining: 24ms\n",
      "24:\tlearn: 0.4545451\ttest: 0.4441198\tbest: 0.4441198 (24)\ttotal: 23.2ms\tremaining: 23.2ms\n",
      "25:\tlearn: 0.4504075\ttest: 0.4401589\tbest: 0.4401589 (25)\ttotal: 24.3ms\tremaining: 22.4ms\n",
      "26:\tlearn: 0.4476152\ttest: 0.4372765\tbest: 0.4372765 (26)\ttotal: 25.3ms\tremaining: 21.5ms\n",
      "27:\tlearn: 0.4459592\ttest: 0.4357779\tbest: 0.4357779 (27)\ttotal: 26.3ms\tremaining: 20.7ms\n",
      "28:\tlearn: 0.4434599\ttest: 0.4342528\tbest: 0.4342528 (28)\ttotal: 27.5ms\tremaining: 19.9ms\n",
      "29:\tlearn: 0.4418266\ttest: 0.4328041\tbest: 0.4328041 (29)\ttotal: 28.4ms\tremaining: 18.9ms\n",
      "30:\tlearn: 0.4409026\ttest: 0.4317892\tbest: 0.4317892 (30)\ttotal: 29.2ms\tremaining: 17.9ms\n",
      "31:\tlearn: 0.4382782\ttest: 0.4290466\tbest: 0.4290466 (31)\ttotal: 30.2ms\tremaining: 17ms\n",
      "32:\tlearn: 0.4366215\ttest: 0.4273484\tbest: 0.4273484 (32)\ttotal: 31ms\tremaining: 16ms\n",
      "33:\tlearn: 0.4350712\ttest: 0.4256479\tbest: 0.4256479 (33)\ttotal: 32ms\tremaining: 15.1ms\n",
      "34:\tlearn: 0.4334901\ttest: 0.4239140\tbest: 0.4239140 (34)\ttotal: 32.9ms\tremaining: 14.1ms\n",
      "35:\tlearn: 0.4319124\ttest: 0.4223206\tbest: 0.4223206 (35)\ttotal: 34.1ms\tremaining: 13.2ms\n",
      "36:\tlearn: 0.4308285\ttest: 0.4213154\tbest: 0.4213154 (36)\ttotal: 35.2ms\tremaining: 12.4ms\n",
      "37:\tlearn: 0.4292180\ttest: 0.4199961\tbest: 0.4199961 (37)\ttotal: 36.3ms\tremaining: 11.5ms\n",
      "38:\tlearn: 0.4282075\ttest: 0.4186806\tbest: 0.4186806 (38)\ttotal: 37.3ms\tremaining: 10.5ms\n",
      "39:\tlearn: 0.4268749\ttest: 0.4174044\tbest: 0.4174044 (39)\ttotal: 38.2ms\tremaining: 9.56ms\n",
      "40:\tlearn: 0.4256879\ttest: 0.4162640\tbest: 0.4162640 (40)\ttotal: 39.3ms\tremaining: 8.63ms\n",
      "41:\tlearn: 0.4249370\ttest: 0.4156145\tbest: 0.4156145 (41)\ttotal: 40.2ms\tremaining: 7.65ms\n",
      "42:\tlearn: 0.4240967\ttest: 0.4147742\tbest: 0.4147742 (42)\ttotal: 41ms\tremaining: 6.68ms\n",
      "43:\tlearn: 0.4229945\ttest: 0.4137653\tbest: 0.4137653 (43)\ttotal: 42ms\tremaining: 5.72ms\n",
      "44:\tlearn: 0.4218760\ttest: 0.4125790\tbest: 0.4125790 (44)\ttotal: 42.9ms\tremaining: 4.76ms\n",
      "45:\tlearn: 0.4209150\ttest: 0.4118325\tbest: 0.4118325 (45)\ttotal: 43.8ms\tremaining: 3.81ms\n",
      "46:\tlearn: 0.4198216\ttest: 0.4108849\tbest: 0.4108849 (46)\ttotal: 44.7ms\tremaining: 2.85ms\n",
      "47:\tlearn: 0.4191437\ttest: 0.4101745\tbest: 0.4101745 (47)\ttotal: 45.7ms\tremaining: 1.9ms\n",
      "48:\tlearn: 0.4182344\ttest: 0.4093277\tbest: 0.4093277 (48)\ttotal: 46.6ms\tremaining: 951us\n",
      "49:\tlearn: 0.4172550\ttest: 0.4083427\tbest: 0.4083427 (49)\ttotal: 47.5ms\tremaining: 0us\n",
      "\n",
      "bestTest = 0.4083426935\n",
      "bestIteration = 49\n",
      "\n",
      "0:\tlearn: 0.6387702\ttest: 0.6370826\tbest: 0.6370826 (0)\ttotal: 1.01ms\tremaining: 49.4ms\n",
      "1:\tlearn: 0.5997030\ttest: 0.5953148\tbest: 0.5953148 (1)\ttotal: 1.79ms\tremaining: 42.9ms\n",
      "2:\tlearn: 0.5715752\ttest: 0.5655510\tbest: 0.5655510 (2)\ttotal: 2.52ms\tremaining: 39.5ms\n",
      "3:\tlearn: 0.5469421\ttest: 0.5388640\tbest: 0.5388640 (3)\ttotal: 3.4ms\tremaining: 39.1ms\n",
      "4:\tlearn: 0.5291483\ttest: 0.5212205\tbest: 0.5212205 (4)\ttotal: 4.39ms\tremaining: 39.5ms\n",
      "5:\tlearn: 0.5122102\ttest: 0.5042017\tbest: 0.5042017 (5)\ttotal: 5.31ms\tremaining: 38.9ms\n",
      "6:\tlearn: 0.4977431\ttest: 0.4893559\tbest: 0.4893559 (6)\ttotal: 6.14ms\tremaining: 37.7ms\n",
      "7:\tlearn: 0.4856654\ttest: 0.4763662\tbest: 0.4763662 (7)\ttotal: 7.06ms\tremaining: 37.1ms\n",
      "8:\tlearn: 0.4784339\ttest: 0.4682001\tbest: 0.4682001 (8)\ttotal: 8.06ms\tremaining: 36.7ms\n",
      "9:\tlearn: 0.4693285\ttest: 0.4584195\tbest: 0.4584195 (9)\ttotal: 8.92ms\tremaining: 35.7ms\n",
      "10:\tlearn: 0.4624803\ttest: 0.4514037\tbest: 0.4514037 (10)\ttotal: 9.81ms\tremaining: 34.8ms\n",
      "11:\tlearn: 0.4574869\ttest: 0.4461042\tbest: 0.4461042 (11)\ttotal: 10.6ms\tremaining: 33.6ms\n",
      "12:\tlearn: 0.4530385\ttest: 0.4416140\tbest: 0.4416140 (12)\ttotal: 11.5ms\tremaining: 32.8ms\n",
      "13:\tlearn: 0.4485809\ttest: 0.4366085\tbest: 0.4366085 (13)\ttotal: 12.4ms\tremaining: 32ms\n",
      "14:\tlearn: 0.4447384\ttest: 0.4323989\tbest: 0.4323989 (14)\ttotal: 13.4ms\tremaining: 31.2ms\n",
      "15:\tlearn: 0.4414238\ttest: 0.4293353\tbest: 0.4293353 (15)\ttotal: 14.3ms\tremaining: 30.3ms\n",
      "16:\tlearn: 0.4385457\ttest: 0.4265000\tbest: 0.4265000 (16)\ttotal: 15.2ms\tremaining: 29.5ms\n",
      "17:\tlearn: 0.4354793\ttest: 0.4236942\tbest: 0.4236942 (17)\ttotal: 16.2ms\tremaining: 28.7ms\n",
      "18:\tlearn: 0.4334169\ttest: 0.4216257\tbest: 0.4216257 (18)\ttotal: 17.1ms\tremaining: 27.9ms\n",
      "19:\tlearn: 0.4314962\ttest: 0.4194738\tbest: 0.4194738 (19)\ttotal: 18ms\tremaining: 27ms\n",
      "20:\tlearn: 0.4288484\ttest: 0.4173014\tbest: 0.4173014 (20)\ttotal: 18.9ms\tremaining: 26.2ms\n",
      "21:\tlearn: 0.4255512\ttest: 0.4142548\tbest: 0.4142548 (21)\ttotal: 19.8ms\tremaining: 25.2ms\n",
      "22:\tlearn: 0.4237821\ttest: 0.4125659\tbest: 0.4125659 (22)\ttotal: 20.7ms\tremaining: 24.3ms\n",
      "23:\tlearn: 0.4214187\ttest: 0.4104388\tbest: 0.4104388 (23)\ttotal: 21.6ms\tremaining: 23.4ms\n",
      "24:\tlearn: 0.4181734\ttest: 0.4075230\tbest: 0.4075230 (24)\ttotal: 22.4ms\tremaining: 22.4ms\n",
      "25:\tlearn: 0.4167799\ttest: 0.4059205\tbest: 0.4059205 (25)\ttotal: 23.3ms\tremaining: 21.5ms\n",
      "26:\tlearn: 0.4133237\ttest: 0.4045025\tbest: 0.4045025 (26)\ttotal: 24.2ms\tremaining: 20.6ms\n",
      "27:\tlearn: 0.4124622\ttest: 0.4041059\tbest: 0.4041059 (27)\ttotal: 25.1ms\tremaining: 19.7ms\n",
      "28:\tlearn: 0.4114628\ttest: 0.4031729\tbest: 0.4031729 (28)\ttotal: 33.4ms\tremaining: 24.2ms\n",
      "29:\tlearn: 0.4106684\ttest: 0.4025748\tbest: 0.4025748 (29)\ttotal: 34.3ms\tremaining: 22.8ms\n",
      "30:\tlearn: 0.4100840\ttest: 0.4025315\tbest: 0.4025315 (30)\ttotal: 35.1ms\tremaining: 21.5ms\n",
      "31:\tlearn: 0.4090488\ttest: 0.4015060\tbest: 0.4015060 (31)\ttotal: 36ms\tremaining: 20.3ms\n",
      "32:\tlearn: 0.4085166\ttest: 0.4009801\tbest: 0.4009801 (32)\ttotal: 36.8ms\tremaining: 19ms\n",
      "33:\tlearn: 0.4075334\ttest: 0.4001522\tbest: 0.4001522 (33)\ttotal: 37.7ms\tremaining: 17.7ms\n",
      "34:\tlearn: 0.4067846\ttest: 0.3991574\tbest: 0.3991574 (34)\ttotal: 38.5ms\tremaining: 16.5ms\n",
      "35:\tlearn: 0.4053194\ttest: 0.3976901\tbest: 0.3976901 (35)\ttotal: 39.4ms\tremaining: 15.3ms\n",
      "36:\tlearn: 0.4047390\ttest: 0.3971638\tbest: 0.3971638 (36)\ttotal: 40.3ms\tremaining: 14.2ms\n",
      "37:\tlearn: 0.4038578\ttest: 0.3964067\tbest: 0.3964067 (37)\ttotal: 41.2ms\tremaining: 13ms\n",
      "38:\tlearn: 0.4033935\ttest: 0.3960526\tbest: 0.3960526 (38)\ttotal: 42ms\tremaining: 11.9ms\n",
      "39:\tlearn: 0.4029135\ttest: 0.3956886\tbest: 0.3956886 (39)\ttotal: 42.9ms\tremaining: 10.7ms\n",
      "40:\tlearn: 0.4019327\ttest: 0.3949422\tbest: 0.3949422 (40)\ttotal: 43.8ms\tremaining: 9.61ms\n",
      "41:\tlearn: 0.3989913\ttest: 0.3927965\tbest: 0.3927965 (41)\ttotal: 44.9ms\tremaining: 8.54ms\n",
      "42:\tlearn: 0.3967500\ttest: 0.3914823\tbest: 0.3914823 (42)\ttotal: 45.8ms\tremaining: 7.46ms\n",
      "43:\tlearn: 0.3962253\ttest: 0.3907951\tbest: 0.3907951 (43)\ttotal: 46.9ms\tremaining: 6.39ms\n",
      "44:\tlearn: 0.3958794\ttest: 0.3904739\tbest: 0.3904739 (44)\ttotal: 47.9ms\tremaining: 5.33ms\n",
      "45:\tlearn: 0.3952624\ttest: 0.3897815\tbest: 0.3897815 (45)\ttotal: 49.1ms\tremaining: 4.27ms\n",
      "46:\tlearn: 0.3948600\ttest: 0.3895626\tbest: 0.3895626 (46)\ttotal: 50ms\tremaining: 3.19ms\n",
      "47:\tlearn: 0.3945084\ttest: 0.3892586\tbest: 0.3892586 (47)\ttotal: 50.8ms\tremaining: 2.12ms\n",
      "48:\tlearn: 0.3938579\ttest: 0.3888032\tbest: 0.3888032 (48)\ttotal: 51.7ms\tremaining: 1.05ms\n",
      "49:\tlearn: 0.3934972\ttest: 0.3884480\tbest: 0.3884480 (49)\ttotal: 52.6ms\tremaining: 0us\n",
      "\n",
      "bestTest = 0.3884480352\n",
      "bestIteration = 49\n",
      "\n",
      "0:\tlearn: 0.4843445\ttest: 0.4802646\tbest: 0.4802646 (0)\ttotal: 1.04ms\tremaining: 51.2ms\n",
      "1:\tlearn: 0.4300090\ttest: 0.4232650\tbest: 0.4232650 (1)\ttotal: 1.98ms\tremaining: 47.5ms\n",
      "2:\tlearn: 0.4154394\ttest: 0.4127706\tbest: 0.4127706 (2)\ttotal: 2.93ms\tremaining: 45.9ms\n",
      "3:\tlearn: 0.4061123\ttest: 0.4034055\tbest: 0.4034055 (3)\ttotal: 3.74ms\tremaining: 43ms\n",
      "4:\tlearn: 0.4011612\ttest: 0.3995100\tbest: 0.3995100 (4)\ttotal: 4.64ms\tremaining: 41.7ms\n",
      "5:\tlearn: 0.3982818\ttest: 0.3958651\tbest: 0.3958651 (5)\ttotal: 5.46ms\tremaining: 40ms\n",
      "6:\tlearn: 0.3947150\ttest: 0.3860748\tbest: 0.3860748 (6)\ttotal: 6.3ms\tremaining: 38.7ms\n",
      "7:\tlearn: 0.3928893\ttest: 0.3861891\tbest: 0.3860748 (6)\ttotal: 7.04ms\tremaining: 36.9ms\n",
      "8:\tlearn: 0.3918821\ttest: 0.3861935\tbest: 0.3860748 (6)\ttotal: 7.85ms\tremaining: 35.8ms\n",
      "9:\tlearn: 0.3837563\ttest: 0.3807918\tbest: 0.3807918 (9)\ttotal: 8.82ms\tremaining: 35.3ms\n",
      "10:\tlearn: 0.3812999\ttest: 0.3808849\tbest: 0.3807918 (9)\ttotal: 9.58ms\tremaining: 34ms\n",
      "11:\tlearn: 0.3787990\ttest: 0.3826474\tbest: 0.3807918 (9)\ttotal: 10.4ms\tremaining: 32.9ms\n",
      "12:\tlearn: 0.3772607\ttest: 0.3812721\tbest: 0.3807918 (9)\ttotal: 11.2ms\tremaining: 32ms\n",
      "13:\tlearn: 0.3682082\ttest: 0.3744253\tbest: 0.3744253 (13)\ttotal: 12.2ms\tremaining: 31.5ms\n",
      "14:\tlearn: 0.3666131\ttest: 0.3744500\tbest: 0.3744253 (13)\ttotal: 13.1ms\tremaining: 30.6ms\n",
      "15:\tlearn: 0.3650962\ttest: 0.3717783\tbest: 0.3717783 (15)\ttotal: 13.9ms\tremaining: 29.6ms\n",
      "16:\tlearn: 0.3638596\ttest: 0.3695343\tbest: 0.3695343 (16)\ttotal: 14.6ms\tremaining: 28.4ms\n",
      "17:\tlearn: 0.3623447\ttest: 0.3706770\tbest: 0.3695343 (16)\ttotal: 15.5ms\tremaining: 27.5ms\n",
      "18:\tlearn: 0.3601549\ttest: 0.3687243\tbest: 0.3687243 (18)\ttotal: 16.5ms\tremaining: 26.9ms\n",
      "19:\tlearn: 0.3593840\ttest: 0.3720993\tbest: 0.3687243 (18)\ttotal: 17.2ms\tremaining: 25.8ms\n",
      "20:\tlearn: 0.3583309\ttest: 0.3699429\tbest: 0.3687243 (18)\ttotal: 18ms\tremaining: 24.9ms\n",
      "21:\tlearn: 0.3574628\ttest: 0.3721839\tbest: 0.3687243 (18)\ttotal: 18.9ms\tremaining: 24ms\n",
      "22:\tlearn: 0.3522698\ttest: 0.3702209\tbest: 0.3687243 (18)\ttotal: 19.8ms\tremaining: 23.2ms\n",
      "23:\tlearn: 0.3491303\ttest: 0.3679696\tbest: 0.3679696 (23)\ttotal: 20.7ms\tremaining: 22.4ms\n",
      "24:\tlearn: 0.3449398\ttest: 0.3639871\tbest: 0.3639871 (24)\ttotal: 21.6ms\tremaining: 21.6ms\n",
      "25:\tlearn: 0.3431862\ttest: 0.3613395\tbest: 0.3613395 (25)\ttotal: 22.4ms\tremaining: 20.7ms\n",
      "26:\tlearn: 0.3383148\ttest: 0.3559511\tbest: 0.3559511 (26)\ttotal: 23.4ms\tremaining: 20ms\n",
      "27:\tlearn: 0.3376159\ttest: 0.3571577\tbest: 0.3559511 (26)\ttotal: 24.3ms\tremaining: 19.1ms\n",
      "28:\tlearn: 0.3368328\ttest: 0.3578596\tbest: 0.3559511 (26)\ttotal: 25.2ms\tremaining: 18.2ms\n",
      "29:\tlearn: 0.3347195\ttest: 0.3606291\tbest: 0.3559511 (26)\ttotal: 26.1ms\tremaining: 17.4ms\n",
      "30:\tlearn: 0.3341120\ttest: 0.3602712\tbest: 0.3559511 (26)\ttotal: 26.8ms\tremaining: 16.4ms\n",
      "31:\tlearn: 0.3302756\ttest: 0.3573963\tbest: 0.3559511 (26)\ttotal: 27.8ms\tremaining: 15.6ms\n",
      "32:\tlearn: 0.3277152\ttest: 0.3520845\tbest: 0.3520845 (32)\ttotal: 28.6ms\tremaining: 14.7ms\n",
      "33:\tlearn: 0.3250274\ttest: 0.3513640\tbest: 0.3513640 (33)\ttotal: 29.5ms\tremaining: 13.9ms\n",
      "34:\tlearn: 0.3245262\ttest: 0.3515846\tbest: 0.3513640 (33)\ttotal: 30.4ms\tremaining: 13ms\n",
      "35:\tlearn: 0.3225230\ttest: 0.3512473\tbest: 0.3512473 (35)\ttotal: 31.3ms\tremaining: 12.2ms\n",
      "36:\tlearn: 0.3218723\ttest: 0.3506228\tbest: 0.3506228 (36)\ttotal: 32.1ms\tremaining: 11.3ms\n",
      "37:\tlearn: 0.3209040\ttest: 0.3517660\tbest: 0.3506228 (36)\ttotal: 32.9ms\tremaining: 10.4ms\n",
      "38:\tlearn: 0.3199873\ttest: 0.3516606\tbest: 0.3506228 (36)\ttotal: 33.8ms\tremaining: 9.54ms\n",
      "39:\tlearn: 0.3173484\ttest: 0.3515204\tbest: 0.3506228 (36)\ttotal: 34.7ms\tremaining: 8.68ms\n",
      "40:\tlearn: 0.3168619\ttest: 0.3529960\tbest: 0.3506228 (36)\ttotal: 35.5ms\tremaining: 7.79ms\n",
      "41:\tlearn: 0.3145033\ttest: 0.3542573\tbest: 0.3506228 (36)\ttotal: 36.4ms\tremaining: 6.92ms\n",
      "42:\tlearn: 0.3125952\ttest: 0.3540446\tbest: 0.3506228 (36)\ttotal: 37.3ms\tremaining: 6.08ms\n",
      "43:\tlearn: 0.3093230\ttest: 0.3470362\tbest: 0.3470362 (43)\ttotal: 38.3ms\tremaining: 5.22ms\n",
      "44:\tlearn: 0.3077315\ttest: 0.3460278\tbest: 0.3460278 (44)\ttotal: 39.4ms\tremaining: 4.38ms\n",
      "45:\tlearn: 0.3075677\ttest: 0.3460689\tbest: 0.3460278 (44)\ttotal: 40.7ms\tremaining: 3.54ms\n",
      "46:\tlearn: 0.3059692\ttest: 0.3451658\tbest: 0.3451658 (46)\ttotal: 42.2ms\tremaining: 2.69ms\n",
      "47:\tlearn: 0.3047867\ttest: 0.3442446\tbest: 0.3442446 (47)\ttotal: 43.5ms\tremaining: 1.81ms\n",
      "48:\tlearn: 0.3013922\ttest: 0.3428095\tbest: 0.3428095 (48)\ttotal: 44.8ms\tremaining: 914us\n",
      "49:\tlearn: 0.3010624\ttest: 0.3433652\tbest: 0.3428095 (48)\ttotal: 46.1ms\tremaining: 0us\n",
      "\n",
      "bestTest = 0.3428094621\n",
      "bestIteration = 48\n",
      "\n",
      "0:\tlearn: 0.6862826\ttest: 0.6861371\tbest: 0.6861371 (0)\ttotal: 1.72ms\tremaining: 84.1ms\n",
      "1:\tlearn: 0.6804509\ttest: 0.6800863\tbest: 0.6800863 (1)\ttotal: 3.07ms\tremaining: 73.8ms\n",
      "2:\tlearn: 0.6749719\ttest: 0.6743272\tbest: 0.6743272 (2)\ttotal: 4.16ms\tremaining: 65.2ms\n",
      "3:\tlearn: 0.6695382\ttest: 0.6686239\tbest: 0.6686239 (3)\ttotal: 5.13ms\tremaining: 59ms\n",
      "4:\tlearn: 0.6639595\ttest: 0.6628639\tbest: 0.6628639 (4)\ttotal: 6ms\tremaining: 54ms\n",
      "5:\tlearn: 0.6588249\ttest: 0.6574383\tbest: 0.6574383 (5)\ttotal: 6.94ms\tremaining: 50.9ms\n",
      "6:\tlearn: 0.6537730\ttest: 0.6521167\tbest: 0.6521167 (6)\ttotal: 7.88ms\tremaining: 48.4ms\n",
      "7:\tlearn: 0.6488747\ttest: 0.6468959\tbest: 0.6468959 (7)\ttotal: 8.8ms\tremaining: 46.2ms\n",
      "8:\tlearn: 0.6438084\ttest: 0.6416626\tbest: 0.6416626 (8)\ttotal: 9.68ms\tremaining: 44.1ms\n",
      "9:\tlearn: 0.6391052\ttest: 0.6368090\tbest: 0.6368090 (9)\ttotal: 10.6ms\tremaining: 42.3ms\n",
      "10:\tlearn: 0.6345243\ttest: 0.6319346\tbest: 0.6319346 (10)\ttotal: 12ms\tremaining: 42.5ms\n",
      "11:\tlearn: 0.6297519\ttest: 0.6270289\tbest: 0.6270289 (11)\ttotal: 13.1ms\tremaining: 41.3ms\n",
      "12:\tlearn: 0.6253604\ttest: 0.6223906\tbest: 0.6223906 (12)\ttotal: 14ms\tremaining: 39.8ms\n",
      "13:\tlearn: 0.6212914\ttest: 0.6181081\tbest: 0.6181081 (13)\ttotal: 14.9ms\tremaining: 38.4ms\n",
      "14:\tlearn: 0.6172728\ttest: 0.6139110\tbest: 0.6139110 (14)\ttotal: 15.9ms\tremaining: 37ms\n",
      "15:\tlearn: 0.6134044\ttest: 0.6098594\tbest: 0.6098594 (15)\ttotal: 16.8ms\tremaining: 35.6ms\n",
      "16:\tlearn: 0.6092520\ttest: 0.6055707\tbest: 0.6055707 (16)\ttotal: 17.7ms\tremaining: 34.3ms\n",
      "17:\tlearn: 0.6054614\ttest: 0.6014003\tbest: 0.6014003 (17)\ttotal: 18.6ms\tremaining: 33.1ms\n",
      "18:\tlearn: 0.6016231\ttest: 0.5973733\tbest: 0.5973733 (18)\ttotal: 19.6ms\tremaining: 32ms\n",
      "19:\tlearn: 0.5982272\ttest: 0.5937966\tbest: 0.5937966 (19)\ttotal: 25.9ms\tremaining: 38.9ms\n",
      "20:\tlearn: 0.5946729\ttest: 0.5901443\tbest: 0.5901443 (20)\ttotal: 26.9ms\tremaining: 37.1ms\n",
      "21:\tlearn: 0.5903917\ttest: 0.5857499\tbest: 0.5857499 (21)\ttotal: 27.9ms\tremaining: 35.6ms\n",
      "22:\tlearn: 0.5873405\ttest: 0.5825016\tbest: 0.5825016 (22)\ttotal: 28.9ms\tremaining: 33.9ms\n",
      "23:\tlearn: 0.5841340\ttest: 0.5791732\tbest: 0.5791732 (23)\ttotal: 29.9ms\tremaining: 32.4ms\n",
      "24:\tlearn: 0.5806011\ttest: 0.5755473\tbest: 0.5755473 (24)\ttotal: 30.9ms\tremaining: 30.9ms\n",
      "25:\tlearn: 0.5773905\ttest: 0.5721084\tbest: 0.5721084 (25)\ttotal: 31.9ms\tremaining: 29.5ms\n",
      "26:\tlearn: 0.5743923\ttest: 0.5688905\tbest: 0.5688905 (26)\ttotal: 32.9ms\tremaining: 28.1ms\n",
      "27:\tlearn: 0.5713288\ttest: 0.5658507\tbest: 0.5658507 (27)\ttotal: 34.5ms\tremaining: 27.1ms\n",
      "28:\tlearn: 0.5681319\ttest: 0.5625562\tbest: 0.5625562 (28)\ttotal: 36.1ms\tremaining: 26.1ms\n",
      "29:\tlearn: 0.5649577\ttest: 0.5592836\tbest: 0.5592836 (29)\ttotal: 37.6ms\tremaining: 25.1ms\n",
      "30:\tlearn: 0.5614840\ttest: 0.5556904\tbest: 0.5556904 (30)\ttotal: 39.3ms\tremaining: 24.1ms\n",
      "31:\tlearn: 0.5589133\ttest: 0.5530230\tbest: 0.5530230 (31)\ttotal: 40.5ms\tremaining: 22.8ms\n",
      "32:\tlearn: 0.5562547\ttest: 0.5501793\tbest: 0.5501793 (32)\ttotal: 41.5ms\tremaining: 21.4ms\n",
      "33:\tlearn: 0.5538238\ttest: 0.5475367\tbest: 0.5475367 (33)\ttotal: 42.5ms\tremaining: 20ms\n",
      "34:\tlearn: 0.5511610\ttest: 0.5447075\tbest: 0.5447075 (34)\ttotal: 44.2ms\tremaining: 19ms\n",
      "35:\tlearn: 0.5486568\ttest: 0.5420703\tbest: 0.5420703 (35)\ttotal: 45.6ms\tremaining: 17.7ms\n",
      "36:\tlearn: 0.5458326\ttest: 0.5391728\tbest: 0.5391728 (36)\ttotal: 47.1ms\tremaining: 16.6ms\n",
      "37:\tlearn: 0.5438963\ttest: 0.5371119\tbest: 0.5371119 (37)\ttotal: 48.8ms\tremaining: 15.4ms\n",
      "38:\tlearn: 0.5415872\ttest: 0.5348603\tbest: 0.5348603 (38)\ttotal: 50.3ms\tremaining: 14.2ms\n",
      "39:\tlearn: 0.5395967\ttest: 0.5327498\tbest: 0.5327498 (39)\ttotal: 51.9ms\tremaining: 13ms\n",
      "40:\tlearn: 0.5372521\ttest: 0.5302698\tbest: 0.5302698 (40)\ttotal: 53.3ms\tremaining: 11.7ms\n",
      "41:\tlearn: 0.5348197\ttest: 0.5277729\tbest: 0.5277729 (41)\ttotal: 54.6ms\tremaining: 10.4ms\n",
      "42:\tlearn: 0.5327541\ttest: 0.5255759\tbest: 0.5255759 (42)\ttotal: 55.7ms\tremaining: 9.07ms\n",
      "43:\tlearn: 0.5302901\ttest: 0.5230518\tbest: 0.5230518 (43)\ttotal: 56.8ms\tremaining: 7.74ms\n",
      "44:\tlearn: 0.5279583\ttest: 0.5206767\tbest: 0.5206767 (44)\ttotal: 57.9ms\tremaining: 6.43ms\n",
      "45:\tlearn: 0.5254104\ttest: 0.5180401\tbest: 0.5180401 (45)\ttotal: 58.9ms\tremaining: 5.13ms\n",
      "46:\tlearn: 0.5235469\ttest: 0.5160685\tbest: 0.5160685 (46)\ttotal: 60ms\tremaining: 3.83ms\n",
      "47:\tlearn: 0.5213454\ttest: 0.5138111\tbest: 0.5138111 (47)\ttotal: 61ms\tremaining: 2.54ms\n",
      "48:\tlearn: 0.5196949\ttest: 0.5120982\tbest: 0.5120982 (48)\ttotal: 62ms\tremaining: 1.26ms\n",
      "49:\tlearn: 0.5181489\ttest: 0.5105224\tbest: 0.5105224 (49)\ttotal: 63.1ms\tremaining: 0us\n",
      "\n",
      "bestTest = 0.510522448\n",
      "bestIteration = 49\n",
      "\n",
      "0:\tlearn: 0.6601046\ttest: 0.6593956\tbest: 0.6593956 (0)\ttotal: 1.15ms\tremaining: 56.5ms\n",
      "1:\tlearn: 0.6349159\ttest: 0.6332259\tbest: 0.6332259 (1)\ttotal: 2.14ms\tremaining: 51.4ms\n",
      "2:\tlearn: 0.6131787\ttest: 0.6103466\tbest: 0.6103466 (2)\ttotal: 3.16ms\tremaining: 49.5ms\n",
      "3:\tlearn: 0.5921791\ttest: 0.5887460\tbest: 0.5887460 (3)\ttotal: 4.26ms\tremaining: 48.9ms\n",
      "4:\tlearn: 0.5744966\ttest: 0.5702391\tbest: 0.5702391 (4)\ttotal: 5.21ms\tremaining: 46.9ms\n",
      "5:\tlearn: 0.5584909\ttest: 0.5537408\tbest: 0.5537408 (5)\ttotal: 6.19ms\tremaining: 45.4ms\n",
      "6:\tlearn: 0.5448134\ttest: 0.5393842\tbest: 0.5393842 (6)\ttotal: 7.26ms\tremaining: 44.6ms\n",
      "7:\tlearn: 0.5323015\ttest: 0.5259825\tbest: 0.5259825 (7)\ttotal: 8.36ms\tremaining: 43.9ms\n",
      "8:\tlearn: 0.5223075\ttest: 0.5149833\tbest: 0.5149833 (8)\ttotal: 9.38ms\tremaining: 42.8ms\n",
      "9:\tlearn: 0.5128875\ttest: 0.5050133\tbest: 0.5050133 (9)\ttotal: 10.5ms\tremaining: 42ms\n",
      "10:\tlearn: 0.5047908\ttest: 0.4964794\tbest: 0.4964794 (10)\ttotal: 11.5ms\tremaining: 40.8ms\n",
      "11:\tlearn: 0.4973320\ttest: 0.4890127\tbest: 0.4890127 (11)\ttotal: 12.6ms\tremaining: 39.8ms\n",
      "12:\tlearn: 0.4913311\ttest: 0.4832378\tbest: 0.4832378 (12)\ttotal: 13.7ms\tremaining: 38.9ms\n",
      "13:\tlearn: 0.4847203\ttest: 0.4766825\tbest: 0.4766825 (13)\ttotal: 14.8ms\tremaining: 37.9ms\n",
      "14:\tlearn: 0.4797172\ttest: 0.4708875\tbest: 0.4708875 (14)\ttotal: 15.8ms\tremaining: 36.9ms\n",
      "15:\tlearn: 0.4739103\ttest: 0.4650525\tbest: 0.4650525 (15)\ttotal: 16.9ms\tremaining: 36ms\n",
      "16:\tlearn: 0.4690708\ttest: 0.4598432\tbest: 0.4598432 (16)\ttotal: 18ms\tremaining: 35ms\n",
      "17:\tlearn: 0.4641795\ttest: 0.4546051\tbest: 0.4546051 (17)\ttotal: 19.1ms\tremaining: 34ms\n",
      "18:\tlearn: 0.4606402\ttest: 0.4510105\tbest: 0.4510105 (18)\ttotal: 20.3ms\tremaining: 33.2ms\n",
      "19:\tlearn: 0.4557539\ttest: 0.4463131\tbest: 0.4463131 (19)\ttotal: 21.4ms\tremaining: 32.1ms\n",
      "20:\tlearn: 0.4510313\ttest: 0.4415885\tbest: 0.4415885 (20)\ttotal: 22.6ms\tremaining: 31.2ms\n",
      "21:\tlearn: 0.4486275\ttest: 0.4393502\tbest: 0.4393502 (21)\ttotal: 23.7ms\tremaining: 30.1ms\n",
      "22:\tlearn: 0.4463833\ttest: 0.4366654\tbest: 0.4366654 (22)\ttotal: 24.8ms\tremaining: 29.1ms\n",
      "23:\tlearn: 0.4430358\ttest: 0.4342325\tbest: 0.4342325 (23)\ttotal: 25.8ms\tremaining: 28ms\n",
      "24:\tlearn: 0.4402222\ttest: 0.4312554\tbest: 0.4312554 (24)\ttotal: 26.9ms\tremaining: 26.9ms\n",
      "25:\tlearn: 0.4375606\ttest: 0.4285938\tbest: 0.4285938 (25)\ttotal: 28ms\tremaining: 25.9ms\n",
      "26:\tlearn: 0.4343833\ttest: 0.4253775\tbest: 0.4253775 (26)\ttotal: 29.1ms\tremaining: 24.8ms\n",
      "27:\tlearn: 0.4312282\ttest: 0.4220721\tbest: 0.4220721 (27)\ttotal: 30.1ms\tremaining: 23.7ms\n",
      "28:\tlearn: 0.4293030\ttest: 0.4201144\tbest: 0.4201144 (28)\ttotal: 31.2ms\tremaining: 22.6ms\n",
      "29:\tlearn: 0.4273320\ttest: 0.4183867\tbest: 0.4183867 (29)\ttotal: 32.3ms\tremaining: 21.5ms\n",
      "30:\tlearn: 0.4244938\ttest: 0.4158359\tbest: 0.4158359 (30)\ttotal: 33.3ms\tremaining: 20.4ms\n",
      "31:\tlearn: 0.4227583\ttest: 0.4143225\tbest: 0.4143225 (31)\ttotal: 34.4ms\tremaining: 19.3ms\n",
      "32:\tlearn: 0.4210623\ttest: 0.4129917\tbest: 0.4129917 (32)\ttotal: 35.5ms\tremaining: 18.3ms\n",
      "33:\tlearn: 0.4198176\ttest: 0.4118126\tbest: 0.4118126 (33)\ttotal: 36.5ms\tremaining: 17.2ms\n",
      "34:\tlearn: 0.4171992\ttest: 0.4092387\tbest: 0.4092387 (34)\ttotal: 37.6ms\tremaining: 16.1ms\n",
      "35:\tlearn: 0.4159397\ttest: 0.4079846\tbest: 0.4079846 (35)\ttotal: 38.7ms\tremaining: 15.1ms\n",
      "36:\tlearn: 0.4149514\ttest: 0.4069699\tbest: 0.4069699 (36)\ttotal: 39.8ms\tremaining: 14ms\n",
      "37:\tlearn: 0.4140074\ttest: 0.4060168\tbest: 0.4060168 (37)\ttotal: 40.8ms\tremaining: 12.9ms\n",
      "38:\tlearn: 0.4131935\ttest: 0.4049633\tbest: 0.4049633 (38)\ttotal: 41.8ms\tremaining: 11.8ms\n",
      "39:\tlearn: 0.4124140\ttest: 0.4042673\tbest: 0.4042673 (39)\ttotal: 42.9ms\tremaining: 10.7ms\n",
      "40:\tlearn: 0.4105217\ttest: 0.4029342\tbest: 0.4029342 (40)\ttotal: 44ms\tremaining: 9.66ms\n",
      "41:\tlearn: 0.4093343\ttest: 0.4019858\tbest: 0.4019858 (41)\ttotal: 45ms\tremaining: 8.58ms\n",
      "42:\tlearn: 0.4083088\ttest: 0.4009389\tbest: 0.4009389 (42)\ttotal: 46.2ms\tremaining: 7.51ms\n",
      "43:\tlearn: 0.4075230\ttest: 0.4002218\tbest: 0.4002218 (43)\ttotal: 47.6ms\tremaining: 6.49ms\n",
      "44:\tlearn: 0.4061257\ttest: 0.3989352\tbest: 0.3989352 (44)\ttotal: 56.8ms\tremaining: 6.31ms\n",
      "45:\tlearn: 0.4055988\ttest: 0.3986795\tbest: 0.3986795 (45)\ttotal: 58.1ms\tremaining: 5.05ms\n",
      "46:\tlearn: 0.4050338\ttest: 0.3980470\tbest: 0.3980470 (46)\ttotal: 59.2ms\tremaining: 3.78ms\n",
      "47:\tlearn: 0.4045002\ttest: 0.3975459\tbest: 0.3975459 (47)\ttotal: 60.2ms\tremaining: 2.51ms\n",
      "48:\tlearn: 0.4035834\ttest: 0.3966281\tbest: 0.3966281 (48)\ttotal: 61.3ms\tremaining: 1.25ms\n",
      "49:\tlearn: 0.4032425\ttest: 0.3962926\tbest: 0.3962926 (49)\ttotal: 62.4ms\tremaining: 0us\n",
      "\n",
      "bestTest = 0.3962925712\n",
      "bestIteration = 49\n",
      "\n",
      "0:\tlearn: 0.6302078\ttest: 0.6288636\tbest: 0.6288636 (0)\ttotal: 1.19ms\tremaining: 58.1ms\n",
      "1:\tlearn: 0.5885656\ttest: 0.5855674\tbest: 0.5855674 (1)\ttotal: 2.11ms\tremaining: 50.6ms\n",
      "2:\tlearn: 0.5562678\ttest: 0.5515750\tbest: 0.5515750 (2)\ttotal: 3.04ms\tremaining: 47.6ms\n",
      "3:\tlearn: 0.5280160\ttest: 0.5226742\tbest: 0.5226742 (3)\ttotal: 4.09ms\tremaining: 47.1ms\n",
      "4:\tlearn: 0.5117222\ttest: 0.5045845\tbest: 0.5045845 (4)\ttotal: 5.08ms\tremaining: 45.8ms\n",
      "5:\tlearn: 0.4992937\ttest: 0.4915435\tbest: 0.4915435 (5)\ttotal: 6.12ms\tremaining: 44.9ms\n",
      "6:\tlearn: 0.4849539\ttest: 0.4767513\tbest: 0.4767513 (6)\ttotal: 7.23ms\tremaining: 44.4ms\n",
      "7:\tlearn: 0.4739053\ttest: 0.4678510\tbest: 0.4678510 (7)\ttotal: 8.44ms\tremaining: 44.3ms\n",
      "8:\tlearn: 0.4592407\ttest: 0.4531722\tbest: 0.4531722 (8)\ttotal: 9.46ms\tremaining: 43.1ms\n",
      "9:\tlearn: 0.4506876\ttest: 0.4442448\tbest: 0.4442448 (9)\ttotal: 10.4ms\tremaining: 41.7ms\n",
      "10:\tlearn: 0.4426909\ttest: 0.4365022\tbest: 0.4365022 (10)\ttotal: 11.5ms\tremaining: 40.9ms\n",
      "11:\tlearn: 0.4371775\ttest: 0.4311749\tbest: 0.4311749 (11)\ttotal: 12.6ms\tremaining: 40ms\n",
      "12:\tlearn: 0.4322790\ttest: 0.4260897\tbest: 0.4260897 (12)\ttotal: 13.6ms\tremaining: 38.7ms\n",
      "13:\tlearn: 0.4284596\ttest: 0.4225992\tbest: 0.4225992 (13)\ttotal: 14.7ms\tremaining: 37.8ms\n",
      "14:\tlearn: 0.4250199\ttest: 0.4188124\tbest: 0.4188124 (14)\ttotal: 16.1ms\tremaining: 37.5ms\n",
      "15:\tlearn: 0.4214507\ttest: 0.4165034\tbest: 0.4165034 (15)\ttotal: 17.2ms\tremaining: 36.6ms\n",
      "16:\tlearn: 0.4193740\ttest: 0.4138412\tbest: 0.4138412 (16)\ttotal: 18.2ms\tremaining: 35.4ms\n",
      "17:\tlearn: 0.4168138\ttest: 0.4109705\tbest: 0.4109705 (17)\ttotal: 19.3ms\tremaining: 34.3ms\n",
      "18:\tlearn: 0.4142216\ttest: 0.4083431\tbest: 0.4083431 (18)\ttotal: 20.3ms\tremaining: 33.2ms\n",
      "19:\tlearn: 0.4117129\ttest: 0.4058468\tbest: 0.4058468 (19)\ttotal: 21.4ms\tremaining: 32.1ms\n",
      "20:\tlearn: 0.4092898\ttest: 0.4034227\tbest: 0.4034227 (20)\ttotal: 22.5ms\tremaining: 31.1ms\n",
      "21:\tlearn: 0.4067994\ttest: 0.4011826\tbest: 0.4011826 (21)\ttotal: 23.5ms\tremaining: 29.9ms\n",
      "22:\tlearn: 0.4052051\ttest: 0.3997250\tbest: 0.3997250 (22)\ttotal: 24.6ms\tremaining: 28.9ms\n",
      "23:\tlearn: 0.4037889\ttest: 0.3986051\tbest: 0.3986051 (23)\ttotal: 25.6ms\tremaining: 27.8ms\n",
      "24:\tlearn: 0.4016470\ttest: 0.3968119\tbest: 0.3968119 (24)\ttotal: 26.8ms\tremaining: 26.8ms\n",
      "25:\tlearn: 0.4008875\ttest: 0.3961955\tbest: 0.3961955 (25)\ttotal: 27.7ms\tremaining: 25.5ms\n",
      "26:\tlearn: 0.3984459\ttest: 0.3945501\tbest: 0.3945501 (26)\ttotal: 28.7ms\tremaining: 24.5ms\n",
      "27:\tlearn: 0.3973635\ttest: 0.3934776\tbest: 0.3934776 (27)\ttotal: 29.7ms\tremaining: 23.4ms\n",
      "28:\tlearn: 0.3961007\ttest: 0.3925704\tbest: 0.3925704 (28)\ttotal: 30.7ms\tremaining: 22.2ms\n",
      "29:\tlearn: 0.3952848\ttest: 0.3917415\tbest: 0.3917415 (29)\ttotal: 31.7ms\tremaining: 21.1ms\n",
      "30:\tlearn: 0.3945901\ttest: 0.3910615\tbest: 0.3910615 (30)\ttotal: 32.7ms\tremaining: 20ms\n",
      "31:\tlearn: 0.3935531\ttest: 0.3906329\tbest: 0.3906329 (31)\ttotal: 33.7ms\tremaining: 19ms\n",
      "32:\tlearn: 0.3908612\ttest: 0.3889414\tbest: 0.3889414 (32)\ttotal: 34.8ms\tremaining: 17.9ms\n",
      "33:\tlearn: 0.3902317\ttest: 0.3887839\tbest: 0.3887839 (33)\ttotal: 35.9ms\tremaining: 16.9ms\n",
      "34:\tlearn: 0.3892668\ttest: 0.3877857\tbest: 0.3877857 (34)\ttotal: 37ms\tremaining: 15.9ms\n",
      "35:\tlearn: 0.3887304\ttest: 0.3873068\tbest: 0.3873068 (35)\ttotal: 38.1ms\tremaining: 14.8ms\n",
      "36:\tlearn: 0.3882171\ttest: 0.3869293\tbest: 0.3869293 (36)\ttotal: 39.1ms\tremaining: 13.7ms\n",
      "37:\tlearn: 0.3877715\ttest: 0.3861260\tbest: 0.3861260 (37)\ttotal: 40.2ms\tremaining: 12.7ms\n",
      "38:\tlearn: 0.3871388\ttest: 0.3854594\tbest: 0.3854594 (38)\ttotal: 41.2ms\tremaining: 11.6ms\n",
      "39:\tlearn: 0.3862238\ttest: 0.3845276\tbest: 0.3845276 (39)\ttotal: 42.2ms\tremaining: 10.6ms\n",
      "40:\tlearn: 0.3857842\ttest: 0.3842790\tbest: 0.3842790 (40)\ttotal: 43.1ms\tremaining: 9.47ms\n",
      "41:\tlearn: 0.3832694\ttest: 0.3822547\tbest: 0.3822547 (41)\ttotal: 44.2ms\tremaining: 8.41ms\n",
      "42:\tlearn: 0.3819541\ttest: 0.3813362\tbest: 0.3813362 (42)\ttotal: 45.2ms\tremaining: 7.36ms\n",
      "43:\tlearn: 0.3812687\ttest: 0.3809471\tbest: 0.3809471 (43)\ttotal: 46.3ms\tremaining: 6.31ms\n",
      "44:\tlearn: 0.3804091\ttest: 0.3800870\tbest: 0.3800870 (44)\ttotal: 47.4ms\tremaining: 5.27ms\n",
      "45:\tlearn: 0.3800520\ttest: 0.3799920\tbest: 0.3799920 (45)\ttotal: 48.4ms\tremaining: 4.21ms\n",
      "46:\tlearn: 0.3795670\ttest: 0.3792952\tbest: 0.3792952 (46)\ttotal: 49.4ms\tremaining: 3.15ms\n",
      "47:\tlearn: 0.3790756\ttest: 0.3791352\tbest: 0.3791352 (47)\ttotal: 50.4ms\tremaining: 2.1ms\n",
      "48:\tlearn: 0.3783679\ttest: 0.3785020\tbest: 0.3785020 (48)\ttotal: 51.4ms\tremaining: 1.05ms\n",
      "49:\tlearn: 0.3780398\ttest: 0.3784616\tbest: 0.3784616 (49)\ttotal: 52.4ms\tremaining: 0us\n",
      "\n",
      "bestTest = 0.3784616498\n",
      "bestIteration = 49\n",
      "\n",
      "0:\tlearn: 0.4463867\ttest: 0.4422762\tbest: 0.4422762 (0)\ttotal: 1.14ms\tremaining: 56.1ms\n",
      "1:\tlearn: 0.4184808\ttest: 0.4181803\tbest: 0.4181803 (1)\ttotal: 2.12ms\tremaining: 50.8ms\n",
      "2:\tlearn: 0.4001612\ttest: 0.4031336\tbest: 0.4031336 (2)\ttotal: 3.13ms\tremaining: 49.1ms\n",
      "3:\tlearn: 0.3959354\ttest: 0.4025988\tbest: 0.4025988 (3)\ttotal: 4.02ms\tremaining: 46.2ms\n",
      "4:\tlearn: 0.3920815\ttest: 0.3974636\tbest: 0.3974636 (4)\ttotal: 5.05ms\tremaining: 45.4ms\n",
      "5:\tlearn: 0.3893324\ttest: 0.3969541\tbest: 0.3969541 (5)\ttotal: 6.07ms\tremaining: 44.5ms\n",
      "6:\tlearn: 0.3856486\ttest: 0.3943237\tbest: 0.3943237 (6)\ttotal: 7.05ms\tremaining: 43.3ms\n",
      "7:\tlearn: 0.3843614\ttest: 0.3913593\tbest: 0.3913593 (7)\ttotal: 8.09ms\tremaining: 42.5ms\n",
      "8:\tlearn: 0.3812758\ttest: 0.3953318\tbest: 0.3913593 (7)\ttotal: 9.48ms\tremaining: 43.2ms\n",
      "9:\tlearn: 0.3801285\ttest: 0.3945283\tbest: 0.3913593 (7)\ttotal: 11ms\tremaining: 44.1ms\n",
      "10:\tlearn: 0.3724989\ttest: 0.3888985\tbest: 0.3888985 (10)\ttotal: 12.3ms\tremaining: 43.6ms\n",
      "11:\tlearn: 0.3633657\ttest: 0.3813661\tbest: 0.3813661 (11)\ttotal: 13.8ms\tremaining: 43.7ms\n",
      "12:\tlearn: 0.3609758\ttest: 0.3801779\tbest: 0.3801779 (12)\ttotal: 15.1ms\tremaining: 43ms\n",
      "13:\tlearn: 0.3516979\ttest: 0.3761939\tbest: 0.3761939 (13)\ttotal: 16.1ms\tremaining: 41.4ms\n",
      "14:\tlearn: 0.3469961\ttest: 0.3736597\tbest: 0.3736597 (14)\ttotal: 17.2ms\tremaining: 40.1ms\n",
      "15:\tlearn: 0.3455758\ttest: 0.3743117\tbest: 0.3736597 (14)\ttotal: 18.1ms\tremaining: 38.5ms\n",
      "16:\tlearn: 0.3385423\ttest: 0.3678717\tbest: 0.3678717 (16)\ttotal: 19.2ms\tremaining: 37.3ms\n",
      "17:\tlearn: 0.3373497\ttest: 0.3697390\tbest: 0.3678717 (16)\ttotal: 20.2ms\tremaining: 36ms\n",
      "18:\tlearn: 0.3332667\ttest: 0.3680875\tbest: 0.3678717 (16)\ttotal: 21.3ms\tremaining: 34.8ms\n",
      "19:\tlearn: 0.3315459\ttest: 0.3675488\tbest: 0.3675488 (19)\ttotal: 22.3ms\tremaining: 33.4ms\n",
      "20:\tlearn: 0.3287321\ttest: 0.3675114\tbest: 0.3675114 (20)\ttotal: 23.4ms\tremaining: 32.3ms\n",
      "21:\tlearn: 0.3260336\ttest: 0.3692577\tbest: 0.3675114 (20)\ttotal: 24.4ms\tremaining: 31.1ms\n",
      "22:\tlearn: 0.3228797\ttest: 0.3683424\tbest: 0.3675114 (20)\ttotal: 25.4ms\tremaining: 29.9ms\n",
      "23:\tlearn: 0.3161798\ttest: 0.3629218\tbest: 0.3629218 (23)\ttotal: 33.2ms\tremaining: 35.9ms\n",
      "24:\tlearn: 0.3130027\ttest: 0.3634246\tbest: 0.3629218 (23)\ttotal: 34.2ms\tremaining: 34.2ms\n",
      "25:\tlearn: 0.3080892\ttest: 0.3596899\tbest: 0.3596899 (25)\ttotal: 35.2ms\tremaining: 32.5ms\n",
      "26:\tlearn: 0.3041929\ttest: 0.3571189\tbest: 0.3571189 (26)\ttotal: 36.2ms\tremaining: 30.8ms\n",
      "27:\tlearn: 0.3032835\ttest: 0.3599403\tbest: 0.3571189 (26)\ttotal: 37.2ms\tremaining: 29.3ms\n",
      "28:\tlearn: 0.3008717\ttest: 0.3578910\tbest: 0.3571189 (26)\ttotal: 38.3ms\tremaining: 27.7ms\n",
      "29:\tlearn: 0.2993139\ttest: 0.3618073\tbest: 0.3571189 (26)\ttotal: 39.4ms\tremaining: 26.3ms\n",
      "30:\tlearn: 0.2980639\ttest: 0.3621551\tbest: 0.3571189 (26)\ttotal: 40.5ms\tremaining: 24.8ms\n",
      "31:\tlearn: 0.2961367\ttest: 0.3605263\tbest: 0.3571189 (26)\ttotal: 41.5ms\tremaining: 23.4ms\n",
      "32:\tlearn: 0.2939132\ttest: 0.3608745\tbest: 0.3571189 (26)\ttotal: 42.6ms\tremaining: 22ms\n",
      "33:\tlearn: 0.2928709\ttest: 0.3601971\tbest: 0.3571189 (26)\ttotal: 43.7ms\tremaining: 20.6ms\n",
      "34:\tlearn: 0.2878389\ttest: 0.3598012\tbest: 0.3571189 (26)\ttotal: 44.8ms\tremaining: 19.2ms\n",
      "35:\tlearn: 0.2872051\ttest: 0.3600948\tbest: 0.3571189 (26)\ttotal: 45.8ms\tremaining: 17.8ms\n",
      "36:\tlearn: 0.2780643\ttest: 0.3449274\tbest: 0.3449274 (36)\ttotal: 47.1ms\tremaining: 16.6ms\n",
      "37:\tlearn: 0.2773220\ttest: 0.3459845\tbest: 0.3449274 (36)\ttotal: 48.2ms\tremaining: 15.2ms\n",
      "38:\tlearn: 0.2744348\ttest: 0.3429459\tbest: 0.3429459 (38)\ttotal: 49.3ms\tremaining: 13.9ms\n",
      "39:\tlearn: 0.2706675\ttest: 0.3386786\tbest: 0.3386786 (39)\ttotal: 50.4ms\tremaining: 12.6ms\n",
      "40:\tlearn: 0.2694694\ttest: 0.3408847\tbest: 0.3386786 (39)\ttotal: 51.5ms\tremaining: 11.3ms\n",
      "41:\tlearn: 0.2686994\ttest: 0.3411723\tbest: 0.3386786 (39)\ttotal: 52.5ms\tremaining: 10ms\n",
      "42:\tlearn: 0.2671874\ttest: 0.3393229\tbest: 0.3386786 (39)\ttotal: 54.2ms\tremaining: 8.82ms\n",
      "43:\tlearn: 0.2661873\ttest: 0.3401323\tbest: 0.3386786 (39)\ttotal: 55.4ms\tremaining: 7.56ms\n",
      "44:\tlearn: 0.2622362\ttest: 0.3431440\tbest: 0.3386786 (39)\ttotal: 56.7ms\tremaining: 6.3ms\n",
      "45:\tlearn: 0.2611009\ttest: 0.3439655\tbest: 0.3386786 (39)\ttotal: 58ms\tremaining: 5.04ms\n",
      "46:\tlearn: 0.2581056\ttest: 0.3430624\tbest: 0.3386786 (39)\ttotal: 59.1ms\tremaining: 3.77ms\n",
      "47:\tlearn: 0.2574081\ttest: 0.3448421\tbest: 0.3386786 (39)\ttotal: 60.2ms\tremaining: 2.51ms\n",
      "48:\tlearn: 0.2564644\ttest: 0.3479470\tbest: 0.3386786 (39)\ttotal: 61.4ms\tremaining: 1.25ms\n",
      "49:\tlearn: 0.2553491\ttest: 0.3471582\tbest: 0.3386786 (39)\ttotal: 62.3ms\tremaining: 0us\n",
      "\n",
      "bestTest = 0.3386785539\n",
      "bestIteration = 39\n",
      "\n",
      "0:\tlearn: 0.6859959\ttest: 0.6858524\tbest: 0.6858524 (0)\ttotal: 1.46ms\tremaining: 71.4ms\n",
      "1:\tlearn: 0.6791888\ttest: 0.6787938\tbest: 0.6787938 (1)\ttotal: 2.68ms\tremaining: 64.3ms\n",
      "2:\tlearn: 0.6742418\ttest: 0.6734965\tbest: 0.6734965 (2)\ttotal: 3.92ms\tremaining: 61.4ms\n",
      "3:\tlearn: 0.6687449\ttest: 0.6677845\tbest: 0.6677845 (3)\ttotal: 5.07ms\tremaining: 58.3ms\n",
      "4:\tlearn: 0.6631891\ttest: 0.6618322\tbest: 0.6618322 (4)\ttotal: 6.26ms\tremaining: 56.4ms\n",
      "5:\tlearn: 0.6571474\ttest: 0.6555985\tbest: 0.6555985 (5)\ttotal: 7.56ms\tremaining: 55.5ms\n",
      "6:\tlearn: 0.6516218\ttest: 0.6498524\tbest: 0.6498524 (6)\ttotal: 8.9ms\tremaining: 54.7ms\n",
      "7:\tlearn: 0.6463895\ttest: 0.6445651\tbest: 0.6445651 (7)\ttotal: 10ms\tremaining: 52.6ms\n",
      "8:\tlearn: 0.6408797\ttest: 0.6388399\tbest: 0.6388399 (8)\ttotal: 11.2ms\tremaining: 50.8ms\n",
      "9:\tlearn: 0.6360364\ttest: 0.6336693\tbest: 0.6336693 (9)\ttotal: 12.4ms\tremaining: 49.5ms\n",
      "10:\tlearn: 0.6310541\ttest: 0.6284129\tbest: 0.6284129 (10)\ttotal: 13.6ms\tremaining: 48.3ms\n",
      "11:\tlearn: 0.6260512\ttest: 0.6232170\tbest: 0.6232170 (11)\ttotal: 14.9ms\tremaining: 47.1ms\n",
      "12:\tlearn: 0.6216858\ttest: 0.6186072\tbest: 0.6186072 (12)\ttotal: 16ms\tremaining: 45.5ms\n",
      "13:\tlearn: 0.6175131\ttest: 0.6142142\tbest: 0.6142142 (13)\ttotal: 17.4ms\tremaining: 44.8ms\n",
      "14:\tlearn: 0.6130613\ttest: 0.6096489\tbest: 0.6096489 (14)\ttotal: 18.7ms\tremaining: 43.7ms\n",
      "15:\tlearn: 0.6083924\ttest: 0.6048782\tbest: 0.6048782 (15)\ttotal: 20.2ms\tremaining: 42.8ms\n",
      "16:\tlearn: 0.6041198\ttest: 0.6005946\tbest: 0.6005946 (16)\ttotal: 21.5ms\tremaining: 41.7ms\n",
      "17:\tlearn: 0.6002184\ttest: 0.5965413\tbest: 0.5965413 (17)\ttotal: 22.8ms\tremaining: 40.5ms\n",
      "18:\tlearn: 0.5956538\ttest: 0.5917687\tbest: 0.5917687 (18)\ttotal: 24ms\tremaining: 39.2ms\n",
      "19:\tlearn: 0.5911059\ttest: 0.5871487\tbest: 0.5871487 (19)\ttotal: 25.3ms\tremaining: 38ms\n",
      "20:\tlearn: 0.5870509\ttest: 0.5829403\tbest: 0.5829403 (20)\ttotal: 26.7ms\tremaining: 36.8ms\n",
      "21:\tlearn: 0.5835827\ttest: 0.5793722\tbest: 0.5793722 (21)\ttotal: 28ms\tremaining: 35.6ms\n",
      "22:\tlearn: 0.5799698\ttest: 0.5756284\tbest: 0.5756284 (22)\ttotal: 29.2ms\tremaining: 34.3ms\n",
      "23:\tlearn: 0.5762398\ttest: 0.5717434\tbest: 0.5717434 (23)\ttotal: 30.4ms\tremaining: 32.9ms\n",
      "24:\tlearn: 0.5734803\ttest: 0.5689086\tbest: 0.5689086 (24)\ttotal: 31.7ms\tremaining: 31.7ms\n",
      "25:\tlearn: 0.5699683\ttest: 0.5652593\tbest: 0.5652593 (25)\ttotal: 33ms\tremaining: 30.4ms\n",
      "26:\tlearn: 0.5667177\ttest: 0.5618056\tbest: 0.5618056 (26)\ttotal: 34.2ms\tremaining: 29.2ms\n",
      "27:\tlearn: 0.5633784\ttest: 0.5583842\tbest: 0.5583842 (27)\ttotal: 35.5ms\tremaining: 27.9ms\n",
      "28:\tlearn: 0.5607416\ttest: 0.5554502\tbest: 0.5554502 (28)\ttotal: 36.8ms\tremaining: 26.7ms\n",
      "29:\tlearn: 0.5575717\ttest: 0.5521834\tbest: 0.5521834 (29)\ttotal: 38.1ms\tremaining: 25.4ms\n",
      "30:\tlearn: 0.5547059\ttest: 0.5491836\tbest: 0.5491836 (30)\ttotal: 39.4ms\tremaining: 24.2ms\n",
      "31:\tlearn: 0.5517231\ttest: 0.5460978\tbest: 0.5460978 (31)\ttotal: 40.7ms\tremaining: 22.9ms\n",
      "32:\tlearn: 0.5487742\ttest: 0.5430570\tbest: 0.5430570 (32)\ttotal: 41.9ms\tremaining: 21.6ms\n",
      "33:\tlearn: 0.5458311\ttest: 0.5400361\tbest: 0.5400361 (33)\ttotal: 43.3ms\tremaining: 20.4ms\n",
      "34:\tlearn: 0.5429572\ttest: 0.5370038\tbest: 0.5370038 (34)\ttotal: 44.6ms\tremaining: 19.1ms\n",
      "35:\tlearn: 0.5405370\ttest: 0.5344348\tbest: 0.5344348 (35)\ttotal: 45.9ms\tremaining: 17.8ms\n",
      "36:\tlearn: 0.5379500\ttest: 0.5317189\tbest: 0.5317189 (36)\ttotal: 47.2ms\tremaining: 16.6ms\n",
      "37:\tlearn: 0.5354959\ttest: 0.5292210\tbest: 0.5292210 (37)\ttotal: 48.5ms\tremaining: 15.3ms\n",
      "38:\tlearn: 0.5330646\ttest: 0.5266304\tbest: 0.5266304 (38)\ttotal: 49.8ms\tremaining: 14ms\n",
      "39:\tlearn: 0.5307467\ttest: 0.5242077\tbest: 0.5242077 (39)\ttotal: 51.2ms\tremaining: 12.8ms\n",
      "40:\tlearn: 0.5281080\ttest: 0.5215168\tbest: 0.5215168 (40)\ttotal: 52.5ms\tremaining: 11.5ms\n",
      "41:\tlearn: 0.5256871\ttest: 0.5190501\tbest: 0.5190501 (41)\ttotal: 53.5ms\tremaining: 10.2ms\n",
      "42:\tlearn: 0.5234109\ttest: 0.5166455\tbest: 0.5166455 (42)\ttotal: 64.2ms\tremaining: 10.5ms\n",
      "43:\tlearn: 0.5212500\ttest: 0.5142721\tbest: 0.5142721 (43)\ttotal: 65.6ms\tremaining: 8.95ms\n",
      "44:\tlearn: 0.5191119\ttest: 0.5120757\tbest: 0.5120757 (44)\ttotal: 66.9ms\tremaining: 7.43ms\n",
      "45:\tlearn: 0.5169116\ttest: 0.5098165\tbest: 0.5098165 (45)\ttotal: 68.1ms\tremaining: 5.92ms\n",
      "46:\tlearn: 0.5148383\ttest: 0.5076570\tbest: 0.5076570 (46)\ttotal: 69.4ms\tremaining: 4.43ms\n",
      "47:\tlearn: 0.5129726\ttest: 0.5057087\tbest: 0.5057087 (47)\ttotal: 70.7ms\tremaining: 2.94ms\n",
      "48:\tlearn: 0.5104891\ttest: 0.5032842\tbest: 0.5032842 (48)\ttotal: 71.9ms\tremaining: 1.47ms\n",
      "49:\tlearn: 0.5085386\ttest: 0.5012340\tbest: 0.5012340 (49)\ttotal: 73.2ms\tremaining: 0us\n",
      "\n",
      "bestTest = 0.5012339673\n",
      "bestIteration = 49\n",
      "\n",
      "0:\tlearn: 0.6587135\ttest: 0.6580233\tbest: 0.6580233 (0)\ttotal: 1.66ms\tremaining: 81.3ms\n",
      "1:\tlearn: 0.6294907\ttest: 0.6276830\tbest: 0.6276830 (1)\ttotal: 2.88ms\tremaining: 69.2ms\n",
      "2:\tlearn: 0.6108321\ttest: 0.6076667\tbest: 0.6076667 (2)\ttotal: 4.55ms\tremaining: 71.3ms\n",
      "3:\tlearn: 0.5909612\ttest: 0.5870340\tbest: 0.5870340 (3)\ttotal: 5.76ms\tremaining: 66.2ms\n",
      "4:\tlearn: 0.5730803\ttest: 0.5677377\tbest: 0.5677377 (4)\ttotal: 6.92ms\tremaining: 62.3ms\n",
      "5:\tlearn: 0.5556835\ttest: 0.5495287\tbest: 0.5495287 (5)\ttotal: 8.09ms\tremaining: 59.4ms\n",
      "6:\tlearn: 0.5398281\ttest: 0.5333611\tbest: 0.5333611 (6)\ttotal: 9.28ms\tremaining: 57ms\n",
      "7:\tlearn: 0.5271805\ttest: 0.5205868\tbest: 0.5205868 (7)\ttotal: 10.6ms\tremaining: 55.4ms\n",
      "8:\tlearn: 0.5178007\ttest: 0.5107409\tbest: 0.5107409 (8)\ttotal: 11.7ms\tremaining: 53.3ms\n",
      "9:\tlearn: 0.5074172\ttest: 0.5001346\tbest: 0.5001346 (9)\ttotal: 12.9ms\tremaining: 51.7ms\n",
      "10:\tlearn: 0.4989216\ttest: 0.4913640\tbest: 0.4913640 (10)\ttotal: 14.2ms\tremaining: 50.2ms\n",
      "11:\tlearn: 0.4906736\ttest: 0.4829648\tbest: 0.4829648 (11)\ttotal: 15.4ms\tremaining: 48.7ms\n",
      "12:\tlearn: 0.4838092\ttest: 0.4758648\tbest: 0.4758648 (12)\ttotal: 16.7ms\tremaining: 47.4ms\n",
      "13:\tlearn: 0.4749031\ttest: 0.4669024\tbest: 0.4669024 (13)\ttotal: 18ms\tremaining: 46.3ms\n",
      "14:\tlearn: 0.4687382\ttest: 0.4610009\tbest: 0.4610009 (14)\ttotal: 19.3ms\tremaining: 45.1ms\n",
      "15:\tlearn: 0.4635562\ttest: 0.4554304\tbest: 0.4554304 (15)\ttotal: 20.6ms\tremaining: 43.8ms\n",
      "16:\tlearn: 0.4583645\ttest: 0.4500028\tbest: 0.4500028 (16)\ttotal: 21.9ms\tremaining: 42.5ms\n",
      "17:\tlearn: 0.4547997\ttest: 0.4465783\tbest: 0.4465783 (17)\ttotal: 23.1ms\tremaining: 41.1ms\n",
      "18:\tlearn: 0.4512745\ttest: 0.4428525\tbest: 0.4428525 (18)\ttotal: 24.4ms\tremaining: 39.8ms\n",
      "19:\tlearn: 0.4473594\ttest: 0.4386895\tbest: 0.4386895 (19)\ttotal: 25.7ms\tremaining: 38.6ms\n",
      "20:\tlearn: 0.4441180\ttest: 0.4352692\tbest: 0.4352692 (20)\ttotal: 27ms\tremaining: 37.3ms\n",
      "21:\tlearn: 0.4413493\ttest: 0.4323363\tbest: 0.4323363 (21)\ttotal: 28.3ms\tremaining: 36.1ms\n",
      "22:\tlearn: 0.4380202\ttest: 0.4291272\tbest: 0.4291272 (22)\ttotal: 29.7ms\tremaining: 34.9ms\n",
      "23:\tlearn: 0.4355639\ttest: 0.4264799\tbest: 0.4264799 (23)\ttotal: 31ms\tremaining: 33.6ms\n",
      "24:\tlearn: 0.4333182\ttest: 0.4242787\tbest: 0.4242787 (24)\ttotal: 32.1ms\tremaining: 32.1ms\n",
      "25:\tlearn: 0.4311814\ttest: 0.4223722\tbest: 0.4223722 (25)\ttotal: 33.3ms\tremaining: 30.7ms\n",
      "26:\tlearn: 0.4292399\ttest: 0.4204746\tbest: 0.4204746 (26)\ttotal: 34.5ms\tremaining: 29.4ms\n",
      "27:\tlearn: 0.4268760\ttest: 0.4188199\tbest: 0.4188199 (27)\ttotal: 35.7ms\tremaining: 28.1ms\n",
      "28:\tlearn: 0.4249347\ttest: 0.4168276\tbest: 0.4168276 (28)\ttotal: 37ms\tremaining: 26.8ms\n",
      "29:\tlearn: 0.4218455\ttest: 0.4147484\tbest: 0.4147484 (29)\ttotal: 38.3ms\tremaining: 25.5ms\n",
      "30:\tlearn: 0.4190376\ttest: 0.4121388\tbest: 0.4121388 (30)\ttotal: 39.6ms\tremaining: 24.3ms\n",
      "31:\tlearn: 0.4176678\ttest: 0.4107622\tbest: 0.4107622 (31)\ttotal: 40.8ms\tremaining: 22.9ms\n",
      "32:\tlearn: 0.4161831\ttest: 0.4092245\tbest: 0.4092245 (32)\ttotal: 42ms\tremaining: 21.6ms\n",
      "33:\tlearn: 0.4145282\ttest: 0.4078741\tbest: 0.4078741 (33)\ttotal: 43.3ms\tremaining: 20.4ms\n",
      "34:\tlearn: 0.4125874\ttest: 0.4058402\tbest: 0.4058402 (34)\ttotal: 44.5ms\tremaining: 19.1ms\n",
      "35:\tlearn: 0.4107656\ttest: 0.4039150\tbest: 0.4039150 (35)\ttotal: 45.6ms\tremaining: 17.7ms\n",
      "36:\tlearn: 0.4095396\ttest: 0.4031252\tbest: 0.4031252 (36)\ttotal: 46.9ms\tremaining: 16.5ms\n",
      "37:\tlearn: 0.4079865\ttest: 0.4013881\tbest: 0.4013881 (37)\ttotal: 48.3ms\tremaining: 15.2ms\n",
      "38:\tlearn: 0.4068771\ttest: 0.4003946\tbest: 0.4003946 (38)\ttotal: 49.6ms\tremaining: 14ms\n",
      "39:\tlearn: 0.4057300\ttest: 0.3992321\tbest: 0.3992321 (39)\ttotal: 50.8ms\tremaining: 12.7ms\n",
      "40:\tlearn: 0.4047029\ttest: 0.3981925\tbest: 0.3981925 (40)\ttotal: 52ms\tremaining: 11.4ms\n",
      "41:\tlearn: 0.4038662\ttest: 0.3974478\tbest: 0.3974478 (41)\ttotal: 53.3ms\tremaining: 10.1ms\n",
      "42:\tlearn: 0.4029560\ttest: 0.3970150\tbest: 0.3970150 (42)\ttotal: 54.7ms\tremaining: 8.9ms\n",
      "43:\tlearn: 0.4024062\ttest: 0.3964598\tbest: 0.3964598 (43)\ttotal: 56.5ms\tremaining: 7.7ms\n",
      "44:\tlearn: 0.4007408\ttest: 0.3954388\tbest: 0.3954388 (44)\ttotal: 58ms\tremaining: 6.44ms\n",
      "45:\tlearn: 0.3998573\ttest: 0.3945114\tbest: 0.3945114 (45)\ttotal: 59.3ms\tremaining: 5.16ms\n",
      "46:\tlearn: 0.3989083\ttest: 0.3937228\tbest: 0.3937228 (46)\ttotal: 60.7ms\tremaining: 3.87ms\n",
      "47:\tlearn: 0.3973353\ttest: 0.3924482\tbest: 0.3924482 (47)\ttotal: 62ms\tremaining: 2.58ms\n",
      "48:\tlearn: 0.3957732\ttest: 0.3916638\tbest: 0.3916638 (48)\ttotal: 63.3ms\tremaining: 1.29ms\n",
      "49:\tlearn: 0.3944535\ttest: 0.3903989\tbest: 0.3903989 (49)\ttotal: 64.6ms\tremaining: 0us\n",
      "\n",
      "bestTest = 0.3903989085\n",
      "bestIteration = 49\n",
      "\n",
      "0:\tlearn: 0.6275440\ttest: 0.6262447\tbest: 0.6262447 (0)\ttotal: 1.46ms\tremaining: 71.3ms\n",
      "1:\tlearn: 0.5821410\ttest: 0.5793137\tbest: 0.5793137 (1)\ttotal: 2.98ms\tremaining: 71.5ms\n",
      "2:\tlearn: 0.5513818\ttest: 0.5464179\tbest: 0.5464179 (2)\ttotal: 4.41ms\tremaining: 69.1ms\n",
      "3:\tlearn: 0.5247150\ttest: 0.5184871\tbest: 0.5184871 (3)\ttotal: 5.65ms\tremaining: 65ms\n",
      "4:\tlearn: 0.5029808\ttest: 0.4963343\tbest: 0.4963343 (4)\ttotal: 7ms\tremaining: 63ms\n",
      "5:\tlearn: 0.4881751\ttest: 0.4802902\tbest: 0.4802902 (5)\ttotal: 8.2ms\tremaining: 60.1ms\n",
      "6:\tlearn: 0.4762144\ttest: 0.4687587\tbest: 0.4687587 (6)\ttotal: 9.35ms\tremaining: 57.4ms\n",
      "7:\tlearn: 0.4655631\ttest: 0.4572191\tbest: 0.4572191 (7)\ttotal: 10.6ms\tremaining: 55.7ms\n",
      "8:\tlearn: 0.4508201\ttest: 0.4426306\tbest: 0.4426306 (8)\ttotal: 19.9ms\tremaining: 90.7ms\n",
      "9:\tlearn: 0.4417798\ttest: 0.4342886\tbest: 0.4342886 (9)\ttotal: 21.2ms\tremaining: 84.6ms\n",
      "10:\tlearn: 0.4352211\ttest: 0.4269005\tbest: 0.4269005 (10)\ttotal: 22.6ms\tremaining: 80ms\n",
      "11:\tlearn: 0.4304393\ttest: 0.4218691\tbest: 0.4218691 (11)\ttotal: 23.7ms\tremaining: 75.2ms\n",
      "12:\tlearn: 0.4265802\ttest: 0.4179282\tbest: 0.4179282 (12)\ttotal: 25ms\tremaining: 71ms\n",
      "13:\tlearn: 0.4216938\ttest: 0.4128336\tbest: 0.4128336 (13)\ttotal: 26.3ms\tremaining: 67.6ms\n",
      "14:\tlearn: 0.4187640\ttest: 0.4099245\tbest: 0.4099245 (14)\ttotal: 27.5ms\tremaining: 64.2ms\n",
      "15:\tlearn: 0.4137804\ttest: 0.4051658\tbest: 0.4051658 (15)\ttotal: 28.6ms\tremaining: 60.8ms\n",
      "16:\tlearn: 0.4127731\ttest: 0.4043337\tbest: 0.4043337 (16)\ttotal: 29.7ms\tremaining: 57.6ms\n",
      "17:\tlearn: 0.4093352\ttest: 0.4007619\tbest: 0.4007619 (17)\ttotal: 31ms\tremaining: 55.2ms\n",
      "18:\tlearn: 0.4068201\ttest: 0.3991242\tbest: 0.3991242 (18)\ttotal: 32.2ms\tremaining: 52.5ms\n",
      "19:\tlearn: 0.4050500\ttest: 0.3975531\tbest: 0.3975531 (19)\ttotal: 33.4ms\tremaining: 50ms\n",
      "20:\tlearn: 0.4033463\ttest: 0.3957804\tbest: 0.3957804 (20)\ttotal: 34.6ms\tremaining: 47.8ms\n",
      "21:\tlearn: 0.4014218\ttest: 0.3940387\tbest: 0.3940387 (21)\ttotal: 35.9ms\tremaining: 45.7ms\n",
      "22:\tlearn: 0.3983122\ttest: 0.3922046\tbest: 0.3922046 (22)\ttotal: 37ms\tremaining: 43.5ms\n",
      "23:\tlearn: 0.3964838\ttest: 0.3905686\tbest: 0.3905686 (23)\ttotal: 38.3ms\tremaining: 41.5ms\n",
      "24:\tlearn: 0.3932179\ttest: 0.3888857\tbest: 0.3888857 (24)\ttotal: 39.6ms\tremaining: 39.6ms\n",
      "25:\tlearn: 0.3920567\ttest: 0.3883556\tbest: 0.3883556 (25)\ttotal: 41ms\tremaining: 37.9ms\n",
      "26:\tlearn: 0.3911955\ttest: 0.3881217\tbest: 0.3881217 (26)\ttotal: 42.7ms\tremaining: 36.4ms\n",
      "27:\tlearn: 0.3895161\ttest: 0.3870495\tbest: 0.3870495 (27)\ttotal: 44.2ms\tremaining: 34.7ms\n",
      "28:\tlearn: 0.3853046\ttest: 0.3847297\tbest: 0.3847297 (28)\ttotal: 45.7ms\tremaining: 33.1ms\n",
      "29:\tlearn: 0.3842670\ttest: 0.3838118\tbest: 0.3838118 (29)\ttotal: 47.1ms\tremaining: 31.4ms\n",
      "30:\tlearn: 0.3833756\ttest: 0.3834775\tbest: 0.3834775 (30)\ttotal: 48.4ms\tremaining: 29.7ms\n",
      "31:\tlearn: 0.3826621\ttest: 0.3830089\tbest: 0.3830089 (31)\ttotal: 49.8ms\tremaining: 28ms\n",
      "32:\tlearn: 0.3814391\ttest: 0.3821497\tbest: 0.3821497 (32)\ttotal: 51.1ms\tremaining: 26.3ms\n",
      "33:\tlearn: 0.3801931\ttest: 0.3812538\tbest: 0.3812538 (33)\ttotal: 52.5ms\tremaining: 24.7ms\n",
      "34:\tlearn: 0.3792209\ttest: 0.3805202\tbest: 0.3805202 (34)\ttotal: 53.8ms\tremaining: 23ms\n",
      "35:\tlearn: 0.3780636\ttest: 0.3802350\tbest: 0.3802350 (35)\ttotal: 55.1ms\tremaining: 21.4ms\n",
      "36:\tlearn: 0.3774921\ttest: 0.3799599\tbest: 0.3799599 (36)\ttotal: 56.4ms\tremaining: 19.8ms\n",
      "37:\tlearn: 0.3756083\ttest: 0.3791235\tbest: 0.3791235 (37)\ttotal: 57.6ms\tremaining: 18.2ms\n",
      "38:\tlearn: 0.3749561\ttest: 0.3786742\tbest: 0.3786742 (38)\ttotal: 58.8ms\tremaining: 16.6ms\n",
      "39:\tlearn: 0.3743071\ttest: 0.3782027\tbest: 0.3782027 (39)\ttotal: 60.2ms\tremaining: 15.1ms\n",
      "40:\tlearn: 0.3740343\ttest: 0.3780456\tbest: 0.3780456 (40)\ttotal: 61.1ms\tremaining: 13.4ms\n",
      "41:\tlearn: 0.3734834\ttest: 0.3781659\tbest: 0.3780456 (40)\ttotal: 62.7ms\tremaining: 11.9ms\n",
      "42:\tlearn: 0.3726198\ttest: 0.3772151\tbest: 0.3772151 (42)\ttotal: 64ms\tremaining: 10.4ms\n",
      "43:\tlearn: 0.3718819\ttest: 0.3769676\tbest: 0.3769676 (43)\ttotal: 65.3ms\tremaining: 8.91ms\n",
      "44:\tlearn: 0.3714140\ttest: 0.3770568\tbest: 0.3769676 (43)\ttotal: 66.7ms\tremaining: 7.41ms\n",
      "45:\tlearn: 0.3701342\ttest: 0.3757300\tbest: 0.3757300 (45)\ttotal: 68.1ms\tremaining: 5.92ms\n",
      "46:\tlearn: 0.3688677\ttest: 0.3741389\tbest: 0.3741389 (46)\ttotal: 69.5ms\tremaining: 4.44ms\n",
      "47:\tlearn: 0.3683282\ttest: 0.3738850\tbest: 0.3738850 (47)\ttotal: 70.8ms\tremaining: 2.95ms\n",
      "48:\tlearn: 0.3673548\ttest: 0.3734049\tbest: 0.3734049 (48)\ttotal: 72.1ms\tremaining: 1.47ms\n",
      "49:\tlearn: 0.3653176\ttest: 0.3720682\tbest: 0.3720682 (49)\ttotal: 73.4ms\tremaining: 0us\n",
      "\n",
      "bestTest = 0.3720681887\n",
      "bestIteration = 49\n",
      "\n",
      "0:\tlearn: 0.4349035\ttest: 0.4326400\tbest: 0.4326400 (0)\ttotal: 1.26ms\tremaining: 61.7ms\n",
      "1:\tlearn: 0.4167353\ttest: 0.4245230\tbest: 0.4245230 (1)\ttotal: 2.37ms\tremaining: 56.9ms\n",
      "2:\tlearn: 0.4020357\ttest: 0.4088468\tbest: 0.4088468 (2)\ttotal: 3.65ms\tremaining: 57.1ms\n",
      "3:\tlearn: 0.3812437\ttest: 0.3948794\tbest: 0.3948794 (3)\ttotal: 4.89ms\tremaining: 56.2ms\n",
      "4:\tlearn: 0.3757027\ttest: 0.3887039\tbest: 0.3887039 (4)\ttotal: 6.08ms\tremaining: 54.8ms\n",
      "5:\tlearn: 0.3707469\ttest: 0.3921644\tbest: 0.3887039 (4)\ttotal: 7.33ms\tremaining: 53.8ms\n",
      "6:\tlearn: 0.3664285\ttest: 0.3867192\tbest: 0.3867192 (6)\ttotal: 8.62ms\tremaining: 53ms\n",
      "7:\tlearn: 0.3548071\ttest: 0.3747602\tbest: 0.3747602 (7)\ttotal: 9.92ms\tremaining: 52.1ms\n",
      "8:\tlearn: 0.3512565\ttest: 0.3722968\tbest: 0.3722968 (8)\ttotal: 11.2ms\tremaining: 50.8ms\n",
      "9:\tlearn: 0.3500197\ttest: 0.3718918\tbest: 0.3718918 (9)\ttotal: 12.4ms\tremaining: 49.7ms\n",
      "10:\tlearn: 0.3398367\ttest: 0.3708819\tbest: 0.3708819 (10)\ttotal: 13.9ms\tremaining: 49.1ms\n",
      "11:\tlearn: 0.3363113\ttest: 0.3774449\tbest: 0.3708819 (10)\ttotal: 15.2ms\tremaining: 48.2ms\n",
      "12:\tlearn: 0.3336618\ttest: 0.3770701\tbest: 0.3708819 (10)\ttotal: 16.6ms\tremaining: 47.3ms\n",
      "13:\tlearn: 0.3232751\ttest: 0.3624417\tbest: 0.3624417 (13)\ttotal: 18ms\tremaining: 46.2ms\n",
      "14:\tlearn: 0.3187085\ttest: 0.3583398\tbest: 0.3583398 (14)\ttotal: 19.2ms\tremaining: 44.8ms\n",
      "15:\tlearn: 0.3148376\ttest: 0.3555352\tbest: 0.3555352 (15)\ttotal: 20.6ms\tremaining: 43.7ms\n",
      "16:\tlearn: 0.3129525\ttest: 0.3554295\tbest: 0.3554295 (16)\ttotal: 21.9ms\tremaining: 42.5ms\n",
      "17:\tlearn: 0.3109640\ttest: 0.3548275\tbest: 0.3548275 (17)\ttotal: 23.2ms\tremaining: 41.2ms\n",
      "18:\tlearn: 0.3038265\ttest: 0.3487336\tbest: 0.3487336 (18)\ttotal: 24.6ms\tremaining: 40.1ms\n",
      "19:\tlearn: 0.2976084\ttest: 0.3507093\tbest: 0.3487336 (18)\ttotal: 25.9ms\tremaining: 38.9ms\n",
      "20:\tlearn: 0.2900158\ttest: 0.3486786\tbest: 0.3486786 (20)\ttotal: 27.3ms\tremaining: 37.7ms\n",
      "21:\tlearn: 0.2867495\ttest: 0.3482923\tbest: 0.3482923 (21)\ttotal: 28.6ms\tremaining: 36.4ms\n",
      "22:\tlearn: 0.2838294\ttest: 0.3447435\tbest: 0.3447435 (22)\ttotal: 29.8ms\tremaining: 34.9ms\n",
      "23:\tlearn: 0.2813841\ttest: 0.3422662\tbest: 0.3422662 (23)\ttotal: 31ms\tremaining: 33.5ms\n",
      "24:\tlearn: 0.2780512\ttest: 0.3397204\tbest: 0.3397204 (24)\ttotal: 40.5ms\tremaining: 40.5ms\n",
      "25:\tlearn: 0.2762443\ttest: 0.3399259\tbest: 0.3397204 (24)\ttotal: 42.1ms\tremaining: 38.9ms\n",
      "26:\tlearn: 0.2730730\ttest: 0.3431531\tbest: 0.3397204 (24)\ttotal: 43.5ms\tremaining: 37ms\n",
      "27:\tlearn: 0.2709459\ttest: 0.3456446\tbest: 0.3397204 (24)\ttotal: 44.8ms\tremaining: 35.2ms\n",
      "28:\tlearn: 0.2684773\ttest: 0.3467391\tbest: 0.3397204 (24)\ttotal: 46.1ms\tremaining: 33.4ms\n",
      "29:\tlearn: 0.2642634\ttest: 0.3439035\tbest: 0.3397204 (24)\ttotal: 47.9ms\tremaining: 32ms\n",
      "30:\tlearn: 0.2613662\ttest: 0.3443107\tbest: 0.3397204 (24)\ttotal: 49.6ms\tremaining: 30.4ms\n",
      "31:\tlearn: 0.2571368\ttest: 0.3362699\tbest: 0.3362699 (31)\ttotal: 51.4ms\tremaining: 28.9ms\n",
      "32:\tlearn: 0.2551108\ttest: 0.3370917\tbest: 0.3362699 (31)\ttotal: 53ms\tremaining: 27.3ms\n",
      "33:\tlearn: 0.2496538\ttest: 0.3361240\tbest: 0.3361240 (33)\ttotal: 55ms\tremaining: 25.9ms\n",
      "34:\tlearn: 0.2469029\ttest: 0.3317918\tbest: 0.3317918 (34)\ttotal: 56.4ms\tremaining: 24.2ms\n",
      "35:\tlearn: 0.2448063\ttest: 0.3336442\tbest: 0.3317918 (34)\ttotal: 58.1ms\tremaining: 22.6ms\n",
      "36:\tlearn: 0.2398586\ttest: 0.3305323\tbest: 0.3305323 (36)\ttotal: 59.9ms\tremaining: 21ms\n",
      "37:\tlearn: 0.2381406\ttest: 0.3318377\tbest: 0.3305323 (36)\ttotal: 61.1ms\tremaining: 19.3ms\n",
      "38:\tlearn: 0.2352083\ttest: 0.3289981\tbest: 0.3289981 (38)\ttotal: 62.5ms\tremaining: 17.6ms\n",
      "39:\tlearn: 0.2334024\ttest: 0.3311968\tbest: 0.3289981 (38)\ttotal: 64ms\tremaining: 16ms\n",
      "40:\tlearn: 0.2280851\ttest: 0.3259909\tbest: 0.3259909 (40)\ttotal: 65.5ms\tremaining: 14.4ms\n",
      "41:\tlearn: 0.2263639\ttest: 0.3313782\tbest: 0.3259909 (40)\ttotal: 66.8ms\tremaining: 12.7ms\n",
      "42:\tlearn: 0.2232438\ttest: 0.3337915\tbest: 0.3259909 (40)\ttotal: 68ms\tremaining: 11.1ms\n",
      "43:\tlearn: 0.2220479\ttest: 0.3339948\tbest: 0.3259909 (40)\ttotal: 69.6ms\tremaining: 9.49ms\n",
      "44:\tlearn: 0.2203867\ttest: 0.3302780\tbest: 0.3259909 (40)\ttotal: 71.2ms\tremaining: 7.91ms\n",
      "45:\tlearn: 0.2177695\ttest: 0.3271863\tbest: 0.3259909 (40)\ttotal: 73.1ms\tremaining: 6.36ms\n",
      "46:\tlearn: 0.2164824\ttest: 0.3295432\tbest: 0.3259909 (40)\ttotal: 74.6ms\tremaining: 4.76ms\n",
      "47:\tlearn: 0.2150199\ttest: 0.3308335\tbest: 0.3259909 (40)\ttotal: 75.8ms\tremaining: 3.16ms\n",
      "48:\tlearn: 0.2127995\ttest: 0.3293229\tbest: 0.3259909 (40)\ttotal: 77ms\tremaining: 1.57ms\n",
      "49:\tlearn: 0.2100951\ttest: 0.3230782\tbest: 0.3230782 (49)\ttotal: 78.4ms\tremaining: 0us\n",
      "\n",
      "bestTest = 0.3230781689\n",
      "bestIteration = 49\n",
      "\n",
      "0:\tlearn: 0.6859202\ttest: 0.6857805\tbest: 0.6857805 (0)\ttotal: 1.85ms\tremaining: 90.6ms\n",
      "1:\tlearn: 0.6797087\ttest: 0.6792380\tbest: 0.6792380 (1)\ttotal: 3.33ms\tremaining: 79.9ms\n",
      "2:\tlearn: 0.6737970\ttest: 0.6729336\tbest: 0.6729336 (2)\ttotal: 4.84ms\tremaining: 75.8ms\n",
      "3:\tlearn: 0.6678604\ttest: 0.6666970\tbest: 0.6666970 (3)\ttotal: 6.38ms\tremaining: 73.4ms\n",
      "4:\tlearn: 0.6622579\ttest: 0.6608217\tbest: 0.6608217 (4)\ttotal: 7.81ms\tremaining: 70.3ms\n",
      "5:\tlearn: 0.6561239\ttest: 0.6544955\tbest: 0.6544955 (5)\ttotal: 9.38ms\tremaining: 68.8ms\n",
      "6:\tlearn: 0.6511003\ttest: 0.6491487\tbest: 0.6491487 (6)\ttotal: 10.8ms\tremaining: 66.5ms\n",
      "7:\tlearn: 0.6459390\ttest: 0.6437952\tbest: 0.6437952 (7)\ttotal: 12.3ms\tremaining: 64.8ms\n",
      "8:\tlearn: 0.6405352\ttest: 0.6381816\tbest: 0.6381816 (8)\ttotal: 13.9ms\tremaining: 63.1ms\n",
      "9:\tlearn: 0.6348793\ttest: 0.6322685\tbest: 0.6322685 (9)\ttotal: 15.4ms\tremaining: 61.5ms\n",
      "10:\tlearn: 0.6289723\ttest: 0.6261831\tbest: 0.6261831 (10)\ttotal: 16.8ms\tremaining: 59.6ms\n",
      "11:\tlearn: 0.6242518\ttest: 0.6213283\tbest: 0.6213283 (11)\ttotal: 18.2ms\tremaining: 57.6ms\n",
      "12:\tlearn: 0.6193892\ttest: 0.6163091\tbest: 0.6163091 (12)\ttotal: 19.6ms\tremaining: 55.7ms\n",
      "13:\tlearn: 0.6145648\ttest: 0.6113779\tbest: 0.6113779 (13)\ttotal: 21.7ms\tremaining: 55.8ms\n",
      "14:\tlearn: 0.6105445\ttest: 0.6070226\tbest: 0.6070226 (14)\ttotal: 23.5ms\tremaining: 54.8ms\n",
      "15:\tlearn: 0.6058414\ttest: 0.6022530\tbest: 0.6022530 (15)\ttotal: 24.9ms\tremaining: 52.9ms\n",
      "16:\tlearn: 0.6006888\ttest: 0.5970280\tbest: 0.5970280 (16)\ttotal: 26.3ms\tremaining: 51.1ms\n",
      "17:\tlearn: 0.5961223\ttest: 0.5922994\tbest: 0.5922994 (17)\ttotal: 27.9ms\tremaining: 49.5ms\n",
      "18:\tlearn: 0.5920701\ttest: 0.5879781\tbest: 0.5879781 (18)\ttotal: 29.6ms\tremaining: 48.3ms\n",
      "19:\tlearn: 0.5880730\ttest: 0.5838833\tbest: 0.5838833 (19)\ttotal: 31.3ms\tremaining: 47ms\n",
      "20:\tlearn: 0.5846517\ttest: 0.5803577\tbest: 0.5803577 (20)\ttotal: 32.9ms\tremaining: 45.4ms\n",
      "21:\tlearn: 0.5813132\ttest: 0.5768413\tbest: 0.5768413 (21)\ttotal: 34.5ms\tremaining: 43.9ms\n",
      "22:\tlearn: 0.5780160\ttest: 0.5733772\tbest: 0.5733772 (22)\ttotal: 36.2ms\tremaining: 42.5ms\n",
      "23:\tlearn: 0.5738916\ttest: 0.5692396\tbest: 0.5692396 (23)\ttotal: 37.7ms\tremaining: 40.9ms\n",
      "24:\tlearn: 0.5708290\ttest: 0.5660719\tbest: 0.5660719 (24)\ttotal: 39.4ms\tremaining: 39.4ms\n",
      "25:\tlearn: 0.5669518\ttest: 0.5621360\tbest: 0.5621360 (25)\ttotal: 40.9ms\tremaining: 37.8ms\n",
      "26:\tlearn: 0.5633467\ttest: 0.5584674\tbest: 0.5584674 (26)\ttotal: 42.5ms\tremaining: 36.2ms\n",
      "27:\tlearn: 0.5599065\ttest: 0.5549478\tbest: 0.5549478 (27)\ttotal: 44.1ms\tremaining: 34.6ms\n",
      "28:\tlearn: 0.5563153\ttest: 0.5512878\tbest: 0.5512878 (28)\ttotal: 46.1ms\tremaining: 33.4ms\n",
      "29:\tlearn: 0.5533212\ttest: 0.5482040\tbest: 0.5482040 (29)\ttotal: 48.1ms\tremaining: 32ms\n",
      "30:\tlearn: 0.5499338\ttest: 0.5447737\tbest: 0.5447737 (30)\ttotal: 57.9ms\tremaining: 35.5ms\n",
      "31:\tlearn: 0.5467784\ttest: 0.5415656\tbest: 0.5415656 (31)\ttotal: 59.5ms\tremaining: 33.5ms\n",
      "32:\tlearn: 0.5438817\ttest: 0.5385693\tbest: 0.5385693 (32)\ttotal: 61.2ms\tremaining: 31.5ms\n",
      "33:\tlearn: 0.5410364\ttest: 0.5357781\tbest: 0.5357781 (33)\ttotal: 62.9ms\tremaining: 29.6ms\n",
      "34:\tlearn: 0.5386673\ttest: 0.5332900\tbest: 0.5332900 (34)\ttotal: 64.3ms\tremaining: 27.6ms\n",
      "35:\tlearn: 0.5359730\ttest: 0.5305074\tbest: 0.5305074 (35)\ttotal: 65.8ms\tremaining: 25.6ms\n",
      "36:\tlearn: 0.5332340\ttest: 0.5278116\tbest: 0.5278116 (36)\ttotal: 67.5ms\tremaining: 23.7ms\n",
      "37:\tlearn: 0.5304310\ttest: 0.5249322\tbest: 0.5249322 (37)\ttotal: 69ms\tremaining: 21.8ms\n",
      "38:\tlearn: 0.5279387\ttest: 0.5223222\tbest: 0.5223222 (38)\ttotal: 70.6ms\tremaining: 19.9ms\n",
      "39:\tlearn: 0.5256344\ttest: 0.5199417\tbest: 0.5199417 (39)\ttotal: 72.3ms\tremaining: 18.1ms\n",
      "40:\tlearn: 0.5228767\ttest: 0.5171686\tbest: 0.5171686 (40)\ttotal: 73.8ms\tremaining: 16.2ms\n",
      "41:\tlearn: 0.5204277\ttest: 0.5146358\tbest: 0.5146358 (41)\ttotal: 75.4ms\tremaining: 14.4ms\n",
      "42:\tlearn: 0.5173452\ttest: 0.5115420\tbest: 0.5115420 (42)\ttotal: 76.9ms\tremaining: 12.5ms\n",
      "43:\tlearn: 0.5151794\ttest: 0.5092754\tbest: 0.5092754 (43)\ttotal: 78.5ms\tremaining: 10.7ms\n",
      "44:\tlearn: 0.5132821\ttest: 0.5073262\tbest: 0.5073262 (44)\ttotal: 80ms\tremaining: 8.89ms\n",
      "45:\tlearn: 0.5110184\ttest: 0.5049372\tbest: 0.5049372 (45)\ttotal: 82.1ms\tremaining: 7.14ms\n",
      "46:\tlearn: 0.5088955\ttest: 0.5027286\tbest: 0.5027286 (46)\ttotal: 83.9ms\tremaining: 5.35ms\n",
      "47:\tlearn: 0.5066031\ttest: 0.5003758\tbest: 0.5003758 (47)\ttotal: 85.5ms\tremaining: 3.56ms\n",
      "48:\tlearn: 0.5043359\ttest: 0.4980570\tbest: 0.4980570 (48)\ttotal: 87.1ms\tremaining: 1.78ms\n",
      "49:\tlearn: 0.5026290\ttest: 0.4963467\tbest: 0.4963467 (49)\ttotal: 89ms\tremaining: 0us\n",
      "\n",
      "bestTest = 0.496346728\n",
      "bestIteration = 49\n",
      "\n",
      "0:\tlearn: 0.6583592\ttest: 0.6576648\tbest: 0.6576648 (0)\ttotal: 1.53ms\tremaining: 75ms\n",
      "1:\tlearn: 0.6314210\ttest: 0.6292709\tbest: 0.6292709 (1)\ttotal: 3.1ms\tremaining: 74.3ms\n",
      "2:\tlearn: 0.6084225\ttest: 0.6046348\tbest: 0.6046348 (2)\ttotal: 4.6ms\tremaining: 72ms\n",
      "3:\tlearn: 0.5876426\ttest: 0.5823274\tbest: 0.5823274 (3)\ttotal: 6.04ms\tremaining: 69.5ms\n",
      "4:\tlearn: 0.5685602\ttest: 0.5628079\tbest: 0.5628079 (4)\ttotal: 7.56ms\tremaining: 68ms\n",
      "5:\tlearn: 0.5532658\ttest: 0.5468506\tbest: 0.5468506 (5)\ttotal: 9.05ms\tremaining: 66.4ms\n",
      "6:\tlearn: 0.5351883\ttest: 0.5285890\tbest: 0.5285890 (6)\ttotal: 10.7ms\tremaining: 65.5ms\n",
      "7:\tlearn: 0.5229975\ttest: 0.5160397\tbest: 0.5160397 (7)\ttotal: 12.2ms\tremaining: 64.3ms\n",
      "8:\tlearn: 0.5115812\ttest: 0.5046586\tbest: 0.5046586 (8)\ttotal: 13.9ms\tremaining: 63.3ms\n",
      "9:\tlearn: 0.5027655\ttest: 0.4952626\tbest: 0.4952626 (9)\ttotal: 15.5ms\tremaining: 61.9ms\n",
      "10:\tlearn: 0.4937964\ttest: 0.4858595\tbest: 0.4858595 (10)\ttotal: 17.1ms\tremaining: 60.6ms\n",
      "11:\tlearn: 0.4852498\ttest: 0.4769011\tbest: 0.4769011 (11)\ttotal: 18.7ms\tremaining: 59.1ms\n",
      "12:\tlearn: 0.4772024\ttest: 0.4685400\tbest: 0.4685400 (12)\ttotal: 20.3ms\tremaining: 57.8ms\n",
      "13:\tlearn: 0.4704352\ttest: 0.4616716\tbest: 0.4616716 (13)\ttotal: 22ms\tremaining: 56.4ms\n",
      "14:\tlearn: 0.4655681\ttest: 0.4561241\tbest: 0.4561241 (14)\ttotal: 23.6ms\tremaining: 55.2ms\n",
      "15:\tlearn: 0.4598085\ttest: 0.4504019\tbest: 0.4504019 (15)\ttotal: 25.2ms\tremaining: 53.6ms\n",
      "16:\tlearn: 0.4532777\ttest: 0.4439227\tbest: 0.4439227 (16)\ttotal: 26.8ms\tremaining: 52ms\n",
      "17:\tlearn: 0.4493624\ttest: 0.4398825\tbest: 0.4398825 (17)\ttotal: 28.4ms\tremaining: 50.6ms\n",
      "18:\tlearn: 0.4446366\ttest: 0.4355038\tbest: 0.4355038 (18)\ttotal: 30.1ms\tremaining: 49.1ms\n",
      "19:\tlearn: 0.4409244\ttest: 0.4319768\tbest: 0.4319768 (19)\ttotal: 31.6ms\tremaining: 47.5ms\n",
      "20:\tlearn: 0.4375778\ttest: 0.4290084\tbest: 0.4290084 (20)\ttotal: 33.3ms\tremaining: 46ms\n",
      "21:\tlearn: 0.4346403\ttest: 0.4261427\tbest: 0.4261427 (21)\ttotal: 34.9ms\tremaining: 44.5ms\n",
      "22:\tlearn: 0.4318098\ttest: 0.4235199\tbest: 0.4235199 (22)\ttotal: 36.6ms\tremaining: 43ms\n",
      "23:\tlearn: 0.4285587\ttest: 0.4207832\tbest: 0.4207832 (23)\ttotal: 38.3ms\tremaining: 41.5ms\n",
      "24:\tlearn: 0.4255550\ttest: 0.4180373\tbest: 0.4180373 (24)\ttotal: 39.9ms\tremaining: 39.9ms\n",
      "25:\tlearn: 0.4228190\ttest: 0.4155015\tbest: 0.4155015 (25)\ttotal: 41.5ms\tremaining: 38.3ms\n",
      "26:\tlearn: 0.4203319\ttest: 0.4131677\tbest: 0.4131677 (26)\ttotal: 43ms\tremaining: 36.7ms\n",
      "27:\tlearn: 0.4174062\ttest: 0.4106077\tbest: 0.4106077 (27)\ttotal: 44.6ms\tremaining: 35ms\n",
      "28:\tlearn: 0.4151710\ttest: 0.4089758\tbest: 0.4089758 (28)\ttotal: 46.2ms\tremaining: 33.5ms\n",
      "29:\tlearn: 0.4133764\ttest: 0.4074040\tbest: 0.4074040 (29)\ttotal: 47.8ms\tremaining: 31.9ms\n",
      "30:\tlearn: 0.4112187\ttest: 0.4054585\tbest: 0.4054585 (30)\ttotal: 49.5ms\tremaining: 30.3ms\n",
      "31:\tlearn: 0.4099690\ttest: 0.4042069\tbest: 0.4042069 (31)\ttotal: 51.1ms\tremaining: 28.7ms\n",
      "32:\tlearn: 0.4082833\ttest: 0.4027418\tbest: 0.4027418 (32)\ttotal: 52.7ms\tremaining: 27.1ms\n",
      "33:\tlearn: 0.4059795\ttest: 0.4007381\tbest: 0.4007381 (33)\ttotal: 62.7ms\tremaining: 29.5ms\n",
      "34:\tlearn: 0.4048856\ttest: 0.4000745\tbest: 0.4000745 (34)\ttotal: 64.9ms\tremaining: 27.8ms\n",
      "35:\tlearn: 0.4038451\ttest: 0.3993809\tbest: 0.3993809 (35)\ttotal: 66.6ms\tremaining: 25.9ms\n",
      "36:\tlearn: 0.4024693\ttest: 0.3982859\tbest: 0.3982859 (36)\ttotal: 68.2ms\tremaining: 24ms\n",
      "37:\tlearn: 0.4015313\ttest: 0.3975870\tbest: 0.3975870 (37)\ttotal: 69.9ms\tremaining: 22.1ms\n",
      "38:\tlearn: 0.4004301\ttest: 0.3969452\tbest: 0.3969452 (38)\ttotal: 71.3ms\tremaining: 20.1ms\n",
      "39:\tlearn: 0.3983457\ttest: 0.3956993\tbest: 0.3956993 (39)\ttotal: 72.8ms\tremaining: 18.2ms\n",
      "40:\tlearn: 0.3975304\ttest: 0.3949086\tbest: 0.3949086 (40)\ttotal: 74.4ms\tremaining: 16.3ms\n",
      "41:\tlearn: 0.3966776\ttest: 0.3941101\tbest: 0.3941101 (41)\ttotal: 76ms\tremaining: 14.5ms\n",
      "42:\tlearn: 0.3959126\ttest: 0.3932994\tbest: 0.3932994 (42)\ttotal: 77.6ms\tremaining: 12.6ms\n",
      "43:\tlearn: 0.3946104\ttest: 0.3921580\tbest: 0.3921580 (43)\ttotal: 79.1ms\tremaining: 10.8ms\n",
      "44:\tlearn: 0.3938324\ttest: 0.3915965\tbest: 0.3915965 (44)\ttotal: 80.7ms\tremaining: 8.96ms\n",
      "45:\tlearn: 0.3915713\ttest: 0.3903130\tbest: 0.3903130 (45)\ttotal: 82.3ms\tremaining: 7.15ms\n",
      "46:\tlearn: 0.3909582\ttest: 0.3898424\tbest: 0.3898424 (46)\ttotal: 83.9ms\tremaining: 5.35ms\n",
      "47:\tlearn: 0.3903217\ttest: 0.3894647\tbest: 0.3894647 (47)\ttotal: 85.5ms\tremaining: 3.56ms\n",
      "48:\tlearn: 0.3893174\ttest: 0.3888745\tbest: 0.3888745 (48)\ttotal: 87ms\tremaining: 1.77ms\n",
      "49:\tlearn: 0.3878828\ttest: 0.3882116\tbest: 0.3882116 (49)\ttotal: 88.7ms\tremaining: 0us\n",
      "\n",
      "bestTest = 0.3882115581\n",
      "bestIteration = 49\n",
      "\n",
      "0:\tlearn: 0.6268511\ttest: 0.6255313\tbest: 0.6255313 (0)\ttotal: 1.65ms\tremaining: 80.7ms\n",
      "1:\tlearn: 0.5821289\ttest: 0.5783815\tbest: 0.5783815 (1)\ttotal: 3.12ms\tremaining: 74.9ms\n",
      "2:\tlearn: 0.5485936\ttest: 0.5436839\tbest: 0.5436839 (2)\ttotal: 4.78ms\tremaining: 74.9ms\n",
      "3:\tlearn: 0.5227500\ttest: 0.5162871\tbest: 0.5162871 (3)\ttotal: 6.52ms\tremaining: 74.9ms\n",
      "4:\tlearn: 0.5001617\ttest: 0.4933364\tbest: 0.4933364 (4)\ttotal: 8.19ms\tremaining: 73.7ms\n",
      "5:\tlearn: 0.4856760\ttest: 0.4780088\tbest: 0.4780088 (5)\ttotal: 9.74ms\tremaining: 71.4ms\n",
      "6:\tlearn: 0.4722197\ttest: 0.4644881\tbest: 0.4644881 (6)\ttotal: 11.2ms\tremaining: 69.1ms\n",
      "7:\tlearn: 0.4575639\ttest: 0.4496055\tbest: 0.4496055 (7)\ttotal: 12.8ms\tremaining: 67ms\n",
      "8:\tlearn: 0.4495753\ttest: 0.4434309\tbest: 0.4434309 (8)\ttotal: 14.3ms\tremaining: 65.3ms\n",
      "9:\tlearn: 0.4403614\ttest: 0.4342256\tbest: 0.4342256 (9)\ttotal: 15.8ms\tremaining: 63.2ms\n",
      "10:\tlearn: 0.4325662\ttest: 0.4266881\tbest: 0.4266881 (10)\ttotal: 17.3ms\tremaining: 61.5ms\n",
      "11:\tlearn: 0.4233811\ttest: 0.4178108\tbest: 0.4178108 (11)\ttotal: 18.9ms\tremaining: 60ms\n",
      "12:\tlearn: 0.4181229\ttest: 0.4141984\tbest: 0.4141984 (12)\ttotal: 20.5ms\tremaining: 58.2ms\n",
      "13:\tlearn: 0.4143889\ttest: 0.4095164\tbest: 0.4095164 (13)\ttotal: 22ms\tremaining: 56.6ms\n",
      "14:\tlearn: 0.4119648\ttest: 0.4070476\tbest: 0.4070476 (14)\ttotal: 23.6ms\tremaining: 55.1ms\n",
      "15:\tlearn: 0.4062098\ttest: 0.4014925\tbest: 0.4014925 (15)\ttotal: 25.3ms\tremaining: 53.7ms\n",
      "16:\tlearn: 0.4050174\ttest: 0.4003280\tbest: 0.4003280 (16)\ttotal: 26.3ms\tremaining: 51ms\n",
      "17:\tlearn: 0.4017903\ttest: 0.3977249\tbest: 0.3977249 (17)\ttotal: 27.9ms\tremaining: 49.6ms\n",
      "18:\tlearn: 0.3993895\ttest: 0.3965984\tbest: 0.3965984 (18)\ttotal: 29.6ms\tremaining: 48.3ms\n",
      "19:\tlearn: 0.3973803\ttest: 0.3954629\tbest: 0.3954629 (19)\ttotal: 31.2ms\tremaining: 46.8ms\n",
      "20:\tlearn: 0.3926189\ttest: 0.3924451\tbest: 0.3924451 (20)\ttotal: 32.7ms\tremaining: 45.2ms\n",
      "21:\tlearn: 0.3913479\ttest: 0.3909361\tbest: 0.3909361 (21)\ttotal: 34.4ms\tremaining: 43.8ms\n",
      "22:\tlearn: 0.3898296\ttest: 0.3895876\tbest: 0.3895876 (22)\ttotal: 35.9ms\tremaining: 42.1ms\n",
      "23:\tlearn: 0.3882187\ttest: 0.3888412\tbest: 0.3888412 (23)\ttotal: 37.5ms\tremaining: 40.6ms\n",
      "24:\tlearn: 0.3864372\ttest: 0.3872807\tbest: 0.3872807 (24)\ttotal: 39.1ms\tremaining: 39.1ms\n",
      "25:\tlearn: 0.3845263\ttest: 0.3856802\tbest: 0.3856802 (25)\ttotal: 40.6ms\tremaining: 37.5ms\n",
      "26:\tlearn: 0.3833301\ttest: 0.3851819\tbest: 0.3851819 (26)\ttotal: 42.3ms\tremaining: 36ms\n",
      "27:\tlearn: 0.3816564\ttest: 0.3843207\tbest: 0.3843207 (27)\ttotal: 43.8ms\tremaining: 34.4ms\n",
      "28:\tlearn: 0.3805480\ttest: 0.3841291\tbest: 0.3841291 (28)\ttotal: 45.4ms\tremaining: 32.9ms\n",
      "29:\tlearn: 0.3793748\ttest: 0.3837718\tbest: 0.3837718 (29)\ttotal: 46.9ms\tremaining: 31.3ms\n",
      "30:\tlearn: 0.3786101\ttest: 0.3832793\tbest: 0.3832793 (30)\ttotal: 48.5ms\tremaining: 29.7ms\n",
      "31:\tlearn: 0.3775797\ttest: 0.3828826\tbest: 0.3828826 (31)\ttotal: 50.1ms\tremaining: 28.2ms\n",
      "32:\tlearn: 0.3766255\ttest: 0.3824290\tbest: 0.3824290 (32)\ttotal: 51.9ms\tremaining: 26.8ms\n",
      "33:\tlearn: 0.3756501\ttest: 0.3817852\tbest: 0.3817852 (33)\ttotal: 53.6ms\tremaining: 25.2ms\n",
      "34:\tlearn: 0.3746265\ttest: 0.3808235\tbest: 0.3808235 (34)\ttotal: 55.3ms\tremaining: 23.7ms\n",
      "35:\tlearn: 0.3738704\ttest: 0.3810609\tbest: 0.3808235 (34)\ttotal: 57.1ms\tremaining: 22.2ms\n",
      "36:\tlearn: 0.3730651\ttest: 0.3805796\tbest: 0.3805796 (36)\ttotal: 58.6ms\tremaining: 20.6ms\n",
      "37:\tlearn: 0.3722939\ttest: 0.3804526\tbest: 0.3804526 (37)\ttotal: 60.2ms\tremaining: 19ms\n",
      "38:\tlearn: 0.3711751\ttest: 0.3804788\tbest: 0.3804526 (37)\ttotal: 61.8ms\tremaining: 17.4ms\n",
      "39:\tlearn: 0.3707516\ttest: 0.3804711\tbest: 0.3804526 (37)\ttotal: 70.4ms\tremaining: 17.6ms\n",
      "40:\tlearn: 0.3698379\ttest: 0.3800848\tbest: 0.3800848 (40)\ttotal: 72ms\tremaining: 15.8ms\n",
      "41:\tlearn: 0.3678774\ttest: 0.3792756\tbest: 0.3792756 (41)\ttotal: 73.6ms\tremaining: 14ms\n",
      "42:\tlearn: 0.3673129\ttest: 0.3791185\tbest: 0.3791185 (42)\ttotal: 75.4ms\tremaining: 12.3ms\n",
      "43:\tlearn: 0.3666066\ttest: 0.3785800\tbest: 0.3785800 (43)\ttotal: 76.9ms\tremaining: 10.5ms\n",
      "44:\tlearn: 0.3659179\ttest: 0.3783368\tbest: 0.3783368 (44)\ttotal: 78.5ms\tremaining: 8.72ms\n",
      "45:\tlearn: 0.3654297\ttest: 0.3781251\tbest: 0.3781251 (45)\ttotal: 80.1ms\tremaining: 6.97ms\n",
      "46:\tlearn: 0.3645795\ttest: 0.3781208\tbest: 0.3781208 (46)\ttotal: 81.7ms\tremaining: 5.22ms\n",
      "47:\tlearn: 0.3636779\ttest: 0.3782397\tbest: 0.3781208 (46)\ttotal: 83.2ms\tremaining: 3.47ms\n",
      "48:\tlearn: 0.3629065\ttest: 0.3785483\tbest: 0.3781208 (46)\ttotal: 84.9ms\tremaining: 1.73ms\n",
      "49:\tlearn: 0.3621926\ttest: 0.3782907\tbest: 0.3781208 (46)\ttotal: 86.4ms\tremaining: 0us\n",
      "\n",
      "bestTest = 0.3781207924\n",
      "bestIteration = 46\n",
      "\n",
      "0:\tlearn: 0.4312637\ttest: 0.4277184\tbest: 0.4277184 (0)\ttotal: 1.86ms\tremaining: 90.9ms\n",
      "1:\tlearn: 0.4109893\ttest: 0.4161289\tbest: 0.4161289 (1)\ttotal: 3.44ms\tremaining: 82.6ms\n",
      "2:\tlearn: 0.3937273\ttest: 0.4032290\tbest: 0.4032290 (2)\ttotal: 4.93ms\tremaining: 77.2ms\n",
      "3:\tlearn: 0.3815309\ttest: 0.3873983\tbest: 0.3873983 (3)\ttotal: 6.53ms\tremaining: 75.1ms\n",
      "4:\tlearn: 0.3760375\ttest: 0.3847034\tbest: 0.3847034 (4)\ttotal: 8.17ms\tremaining: 73.5ms\n",
      "5:\tlearn: 0.3652851\ttest: 0.3845609\tbest: 0.3845609 (5)\ttotal: 9.85ms\tremaining: 72.2ms\n",
      "6:\tlearn: 0.3636224\ttest: 0.3847190\tbest: 0.3845609 (5)\ttotal: 10.8ms\tremaining: 66.6ms\n",
      "7:\tlearn: 0.3603671\ttest: 0.3865151\tbest: 0.3845609 (5)\ttotal: 12.4ms\tremaining: 65.1ms\n",
      "8:\tlearn: 0.3557793\ttest: 0.3811804\tbest: 0.3811804 (8)\ttotal: 14.3ms\tremaining: 65.2ms\n",
      "9:\tlearn: 0.3459830\ttest: 0.3749335\tbest: 0.3749335 (9)\ttotal: 16.4ms\tremaining: 65.6ms\n",
      "10:\tlearn: 0.3412282\ttest: 0.3725082\tbest: 0.3725082 (10)\ttotal: 18.3ms\tremaining: 64.8ms\n",
      "11:\tlearn: 0.3350318\ttest: 0.3809793\tbest: 0.3725082 (10)\ttotal: 20ms\tremaining: 63.3ms\n",
      "12:\tlearn: 0.3284825\ttest: 0.3792004\tbest: 0.3725082 (10)\ttotal: 21.7ms\tremaining: 61.8ms\n",
      "13:\tlearn: 0.3209483\ttest: 0.3759155\tbest: 0.3725082 (10)\ttotal: 23.2ms\tremaining: 59.7ms\n",
      "14:\tlearn: 0.3179273\ttest: 0.3730104\tbest: 0.3725082 (10)\ttotal: 24.9ms\tremaining: 58.2ms\n",
      "15:\tlearn: 0.3050437\ttest: 0.3620240\tbest: 0.3620240 (15)\ttotal: 27.1ms\tremaining: 57.6ms\n",
      "16:\tlearn: 0.3001358\ttest: 0.3613923\tbest: 0.3613923 (16)\ttotal: 28.9ms\tremaining: 56.1ms\n",
      "17:\tlearn: 0.2923633\ttest: 0.3626290\tbest: 0.3613923 (16)\ttotal: 30.8ms\tremaining: 54.8ms\n",
      "18:\tlearn: 0.2857223\ttest: 0.3497118\tbest: 0.3497118 (18)\ttotal: 32.5ms\tremaining: 53ms\n",
      "19:\tlearn: 0.2779672\ttest: 0.3418528\tbest: 0.3418528 (19)\ttotal: 34.1ms\tremaining: 51.2ms\n",
      "20:\tlearn: 0.2706833\ttest: 0.3332747\tbest: 0.3332747 (20)\ttotal: 35.8ms\tremaining: 49.4ms\n",
      "21:\tlearn: 0.2680562\ttest: 0.3317033\tbest: 0.3317033 (21)\ttotal: 37.3ms\tremaining: 47.5ms\n",
      "22:\tlearn: 0.2633183\ttest: 0.3276542\tbest: 0.3276542 (22)\ttotal: 39ms\tremaining: 45.8ms\n",
      "23:\tlearn: 0.2526216\ttest: 0.3129041\tbest: 0.3129041 (23)\ttotal: 40.4ms\tremaining: 43.8ms\n",
      "24:\tlearn: 0.2491119\ttest: 0.3111562\tbest: 0.3111562 (24)\ttotal: 41.9ms\tremaining: 41.9ms\n",
      "25:\tlearn: 0.2436350\ttest: 0.3064018\tbest: 0.3064018 (25)\ttotal: 44.2ms\tremaining: 40.8ms\n",
      "26:\tlearn: 0.2407861\ttest: 0.3037357\tbest: 0.3037357 (26)\ttotal: 46.1ms\tremaining: 39.2ms\n",
      "27:\tlearn: 0.2375241\ttest: 0.3051740\tbest: 0.3037357 (26)\ttotal: 47.8ms\tremaining: 37.5ms\n",
      "28:\tlearn: 0.2329227\ttest: 0.3023380\tbest: 0.3023380 (28)\ttotal: 49.4ms\tremaining: 35.8ms\n",
      "29:\tlearn: 0.2285675\ttest: 0.3093562\tbest: 0.3023380 (28)\ttotal: 51.1ms\tremaining: 34ms\n",
      "30:\tlearn: 0.2245668\ttest: 0.3076833\tbest: 0.3023380 (28)\ttotal: 52.6ms\tremaining: 32.2ms\n",
      "31:\tlearn: 0.2216472\ttest: 0.3066262\tbest: 0.3023380 (28)\ttotal: 54.2ms\tremaining: 30.5ms\n",
      "32:\tlearn: 0.2188632\ttest: 0.3041359\tbest: 0.3023380 (28)\ttotal: 55.7ms\tremaining: 28.7ms\n",
      "33:\tlearn: 0.2162458\ttest: 0.3018737\tbest: 0.3018737 (33)\ttotal: 57.2ms\tremaining: 26.9ms\n",
      "34:\tlearn: 0.2128553\ttest: 0.3081905\tbest: 0.3018737 (33)\ttotal: 58.8ms\tremaining: 25.2ms\n",
      "35:\tlearn: 0.2088814\ttest: 0.3227921\tbest: 0.3018737 (33)\ttotal: 60.4ms\tremaining: 23.5ms\n",
      "36:\tlearn: 0.2035376\ttest: 0.3303521\tbest: 0.3018737 (33)\ttotal: 62.3ms\tremaining: 21.9ms\n",
      "37:\tlearn: 0.1977681\ttest: 0.3239424\tbest: 0.3018737 (33)\ttotal: 64ms\tremaining: 20.2ms\n",
      "38:\tlearn: 0.1936438\ttest: 0.3212644\tbest: 0.3018737 (33)\ttotal: 65.7ms\tremaining: 18.5ms\n",
      "39:\tlearn: 0.1908903\ttest: 0.3210462\tbest: 0.3018737 (33)\ttotal: 67.2ms\tremaining: 16.8ms\n",
      "40:\tlearn: 0.1888248\ttest: 0.3176359\tbest: 0.3018737 (33)\ttotal: 78.4ms\tremaining: 17.2ms\n",
      "41:\tlearn: 0.1866460\ttest: 0.3148632\tbest: 0.3018737 (33)\ttotal: 80.1ms\tremaining: 15.3ms\n",
      "42:\tlearn: 0.1832738\ttest: 0.3151986\tbest: 0.3018737 (33)\ttotal: 82ms\tremaining: 13.4ms\n",
      "43:\tlearn: 0.1807957\ttest: 0.3183311\tbest: 0.3018737 (33)\ttotal: 83.8ms\tremaining: 11.4ms\n",
      "44:\tlearn: 0.1785583\ttest: 0.3212186\tbest: 0.3018737 (33)\ttotal: 85.4ms\tremaining: 9.49ms\n",
      "45:\tlearn: 0.1776496\ttest: 0.3210921\tbest: 0.3018737 (33)\ttotal: 86.9ms\tremaining: 7.55ms\n",
      "46:\tlearn: 0.1763304\ttest: 0.3220412\tbest: 0.3018737 (33)\ttotal: 88.5ms\tremaining: 5.65ms\n",
      "47:\tlearn: 0.1753666\ttest: 0.3245108\tbest: 0.3018737 (33)\ttotal: 90ms\tremaining: 3.75ms\n",
      "48:\tlearn: 0.1740836\ttest: 0.3269880\tbest: 0.3018737 (33)\ttotal: 91.6ms\tremaining: 1.87ms\n",
      "49:\tlearn: 0.1713607\ttest: 0.3271101\tbest: 0.3018737 (33)\ttotal: 93.4ms\tremaining: 0us\n",
      "\n",
      "bestTest = 0.3018736837\n",
      "bestIteration = 33\n",
      "\n",
      "0:\tlearn: 0.6858330\ttest: 0.6856704\tbest: 0.6856704 (0)\ttotal: 2.47ms\tremaining: 121ms\n",
      "1:\tlearn: 0.6788609\ttest: 0.6785122\tbest: 0.6785122 (1)\ttotal: 4.57ms\tremaining: 110ms\n",
      "2:\tlearn: 0.6727180\ttest: 0.6720880\tbest: 0.6720880 (2)\ttotal: 6.54ms\tremaining: 103ms\n",
      "3:\tlearn: 0.6658786\ttest: 0.6650489\tbest: 0.6650489 (3)\ttotal: 8.68ms\tremaining: 99.8ms\n",
      "4:\tlearn: 0.6601032\ttest: 0.6590691\tbest: 0.6590691 (4)\ttotal: 11.5ms\tremaining: 104ms\n",
      "5:\tlearn: 0.6547722\ttest: 0.6534544\tbest: 0.6534544 (5)\ttotal: 14ms\tremaining: 103ms\n",
      "6:\tlearn: 0.6492012\ttest: 0.6477277\tbest: 0.6477277 (6)\ttotal: 16.1ms\tremaining: 98.9ms\n",
      "7:\tlearn: 0.6430918\ttest: 0.6415588\tbest: 0.6415588 (7)\ttotal: 18.4ms\tremaining: 96.5ms\n",
      "8:\tlearn: 0.6379420\ttest: 0.6362440\tbest: 0.6362440 (8)\ttotal: 20.4ms\tremaining: 93.1ms\n",
      "9:\tlearn: 0.6321954\ttest: 0.6302023\tbest: 0.6302023 (9)\ttotal: 22.5ms\tremaining: 89.9ms\n",
      "10:\tlearn: 0.6265118\ttest: 0.6244061\tbest: 0.6244061 (10)\ttotal: 24.5ms\tremaining: 86.9ms\n",
      "11:\tlearn: 0.6212167\ttest: 0.6189829\tbest: 0.6189829 (11)\ttotal: 26.6ms\tremaining: 84.2ms\n",
      "12:\tlearn: 0.6164521\ttest: 0.6139892\tbest: 0.6139892 (12)\ttotal: 29ms\tremaining: 82.5ms\n",
      "13:\tlearn: 0.6115494\ttest: 0.6089742\tbest: 0.6089742 (13)\ttotal: 31ms\tremaining: 79.7ms\n",
      "14:\tlearn: 0.6073371\ttest: 0.6045634\tbest: 0.6045634 (14)\ttotal: 32.5ms\tremaining: 75.8ms\n",
      "15:\tlearn: 0.6025346\ttest: 0.5997244\tbest: 0.5997244 (15)\ttotal: 34.5ms\tremaining: 73.4ms\n",
      "16:\tlearn: 0.5978250\ttest: 0.5948976\tbest: 0.5948976 (16)\ttotal: 36.7ms\tremaining: 71.3ms\n",
      "17:\tlearn: 0.5934702\ttest: 0.5905551\tbest: 0.5905551 (17)\ttotal: 38.8ms\tremaining: 68.9ms\n",
      "18:\tlearn: 0.5892290\ttest: 0.5862445\tbest: 0.5862445 (18)\ttotal: 40.8ms\tremaining: 66.6ms\n",
      "19:\tlearn: 0.5842862\ttest: 0.5812389\tbest: 0.5812389 (19)\ttotal: 42.9ms\tremaining: 64.4ms\n",
      "20:\tlearn: 0.5807703\ttest: 0.5777784\tbest: 0.5777784 (20)\ttotal: 45.1ms\tremaining: 62.3ms\n",
      "21:\tlearn: 0.5765493\ttest: 0.5735573\tbest: 0.5735573 (21)\ttotal: 47.2ms\tremaining: 60.1ms\n",
      "22:\tlearn: 0.5731247\ttest: 0.5699887\tbest: 0.5699887 (22)\ttotal: 49.3ms\tremaining: 57.9ms\n",
      "23:\tlearn: 0.5707082\ttest: 0.5675403\tbest: 0.5675403 (23)\ttotal: 50.3ms\tremaining: 54.5ms\n",
      "24:\tlearn: 0.5665124\ttest: 0.5632239\tbest: 0.5632239 (24)\ttotal: 52.5ms\tremaining: 52.5ms\n",
      "25:\tlearn: 0.5626133\ttest: 0.5592511\tbest: 0.5592511 (25)\ttotal: 54.8ms\tremaining: 50.6ms\n",
      "26:\tlearn: 0.5592859\ttest: 0.5559274\tbest: 0.5559274 (26)\ttotal: 56.8ms\tremaining: 48.4ms\n",
      "27:\tlearn: 0.5556229\ttest: 0.5521090\tbest: 0.5521090 (27)\ttotal: 59.1ms\tremaining: 46.5ms\n",
      "28:\tlearn: 0.5522928\ttest: 0.5488090\tbest: 0.5488090 (28)\ttotal: 61.2ms\tremaining: 44.3ms\n",
      "29:\tlearn: 0.5493441\ttest: 0.5457243\tbest: 0.5457243 (29)\ttotal: 63.4ms\tremaining: 42.3ms\n",
      "30:\tlearn: 0.5458632\ttest: 0.5421567\tbest: 0.5421567 (30)\ttotal: 65.5ms\tremaining: 40.2ms\n",
      "31:\tlearn: 0.5428390\ttest: 0.5390401\tbest: 0.5390401 (31)\ttotal: 67.8ms\tremaining: 38.1ms\n",
      "32:\tlearn: 0.5401603\ttest: 0.5363128\tbest: 0.5363128 (32)\ttotal: 69.9ms\tremaining: 36ms\n",
      "33:\tlearn: 0.5373931\ttest: 0.5334048\tbest: 0.5334048 (33)\ttotal: 72.1ms\tremaining: 33.9ms\n",
      "34:\tlearn: 0.5342020\ttest: 0.5301621\tbest: 0.5301621 (34)\ttotal: 73.7ms\tremaining: 31.6ms\n",
      "35:\tlearn: 0.5314551\ttest: 0.5274082\tbest: 0.5274082 (35)\ttotal: 81.5ms\tremaining: 31.7ms\n",
      "36:\tlearn: 0.5288630\ttest: 0.5247101\tbest: 0.5247101 (36)\ttotal: 83.6ms\tremaining: 29.4ms\n",
      "37:\tlearn: 0.5261003\ttest: 0.5219153\tbest: 0.5219153 (37)\ttotal: 85.8ms\tremaining: 27.1ms\n",
      "38:\tlearn: 0.5234119\ttest: 0.5191107\tbest: 0.5191107 (38)\ttotal: 88ms\tremaining: 24.8ms\n",
      "39:\tlearn: 0.5206034\ttest: 0.5162343\tbest: 0.5162343 (39)\ttotal: 90.2ms\tremaining: 22.5ms\n",
      "40:\tlearn: 0.5179055\ttest: 0.5135549\tbest: 0.5135549 (40)\ttotal: 92.4ms\tremaining: 20.3ms\n",
      "41:\tlearn: 0.5153794\ttest: 0.5109345\tbest: 0.5109345 (41)\ttotal: 94.7ms\tremaining: 18ms\n",
      "42:\tlearn: 0.5131715\ttest: 0.5085784\tbest: 0.5085784 (42)\ttotal: 97.2ms\tremaining: 15.8ms\n",
      "43:\tlearn: 0.5106835\ttest: 0.5061544\tbest: 0.5061544 (43)\ttotal: 99.4ms\tremaining: 13.6ms\n",
      "44:\tlearn: 0.5085777\ttest: 0.5039420\tbest: 0.5039420 (44)\ttotal: 102ms\tremaining: 11.3ms\n",
      "45:\tlearn: 0.5062840\ttest: 0.5016304\tbest: 0.5016304 (45)\ttotal: 104ms\tremaining: 9.03ms\n",
      "46:\tlearn: 0.5041325\ttest: 0.4993840\tbest: 0.4993840 (46)\ttotal: 106ms\tremaining: 6.77ms\n",
      "47:\tlearn: 0.5018663\ttest: 0.4971752\tbest: 0.4971752 (47)\ttotal: 108ms\tremaining: 4.51ms\n",
      "48:\tlearn: 0.4995272\ttest: 0.4948158\tbest: 0.4948158 (48)\ttotal: 111ms\tremaining: 2.26ms\n",
      "49:\tlearn: 0.4975922\ttest: 0.4928121\tbest: 0.4928121 (49)\ttotal: 113ms\tremaining: 0us\n",
      "\n",
      "bestTest = 0.4928120779\n",
      "bestIteration = 49\n",
      "\n",
      "0:\tlearn: 0.6579120\ttest: 0.6571129\tbest: 0.6571129 (0)\ttotal: 2.54ms\tremaining: 125ms\n",
      "1:\tlearn: 0.6286422\ttest: 0.6266293\tbest: 0.6266293 (1)\ttotal: 4.77ms\tremaining: 115ms\n",
      "2:\tlearn: 0.6048266\ttest: 0.6017015\tbest: 0.6017015 (2)\ttotal: 6.91ms\tremaining: 108ms\n",
      "3:\tlearn: 0.5786072\ttest: 0.5751521\tbest: 0.5751521 (3)\ttotal: 9.02ms\tremaining: 104ms\n",
      "4:\tlearn: 0.5591974\ttest: 0.5552377\tbest: 0.5552377 (4)\ttotal: 11.2ms\tremaining: 101ms\n",
      "5:\tlearn: 0.5430909\ttest: 0.5387942\tbest: 0.5387942 (5)\ttotal: 13.5ms\tremaining: 98.7ms\n",
      "6:\tlearn: 0.5288095\ttest: 0.5242717\tbest: 0.5242717 (6)\ttotal: 15.7ms\tremaining: 96.6ms\n",
      "7:\tlearn: 0.5156426\ttest: 0.5114293\tbest: 0.5114293 (7)\ttotal: 17.9ms\tremaining: 93.8ms\n",
      "8:\tlearn: 0.5046834\ttest: 0.5002069\tbest: 0.5002069 (8)\ttotal: 20.1ms\tremaining: 91.5ms\n",
      "9:\tlearn: 0.4930244\ttest: 0.4889306\tbest: 0.4889306 (9)\ttotal: 22.4ms\tremaining: 89.5ms\n",
      "10:\tlearn: 0.4826040\ttest: 0.4782213\tbest: 0.4782213 (10)\ttotal: 24.5ms\tremaining: 86.8ms\n",
      "11:\tlearn: 0.4739187\ttest: 0.4695281\tbest: 0.4695281 (11)\ttotal: 26.8ms\tremaining: 84.8ms\n",
      "12:\tlearn: 0.4668126\ttest: 0.4625098\tbest: 0.4625098 (12)\ttotal: 29.1ms\tremaining: 82.7ms\n",
      "13:\tlearn: 0.4604758\ttest: 0.4561815\tbest: 0.4561815 (13)\ttotal: 31.3ms\tremaining: 80.4ms\n",
      "14:\tlearn: 0.4544280\ttest: 0.4498973\tbest: 0.4498973 (14)\ttotal: 33ms\tremaining: 77.1ms\n",
      "15:\tlearn: 0.4482715\ttest: 0.4441996\tbest: 0.4441996 (15)\ttotal: 35.3ms\tremaining: 75ms\n",
      "16:\tlearn: 0.4426509\ttest: 0.4386897\tbest: 0.4386897 (16)\ttotal: 37.5ms\tremaining: 72.9ms\n",
      "17:\tlearn: 0.4375223\ttest: 0.4344750\tbest: 0.4344750 (17)\ttotal: 39.8ms\tremaining: 70.8ms\n",
      "18:\tlearn: 0.4329998\ttest: 0.4298263\tbest: 0.4298263 (18)\ttotal: 42.1ms\tremaining: 68.6ms\n",
      "19:\tlearn: 0.4292534\ttest: 0.4267213\tbest: 0.4267213 (19)\ttotal: 44.3ms\tremaining: 66.5ms\n",
      "20:\tlearn: 0.4253521\ttest: 0.4230065\tbest: 0.4230065 (20)\ttotal: 46.6ms\tremaining: 64.4ms\n",
      "21:\tlearn: 0.4220656\ttest: 0.4200357\tbest: 0.4200357 (21)\ttotal: 49ms\tremaining: 62.3ms\n",
      "22:\tlearn: 0.4189193\ttest: 0.4169007\tbest: 0.4169007 (22)\ttotal: 51.2ms\tremaining: 60.1ms\n",
      "23:\tlearn: 0.4158064\ttest: 0.4138444\tbest: 0.4138444 (23)\ttotal: 53.4ms\tremaining: 57.8ms\n",
      "24:\tlearn: 0.4129392\ttest: 0.4111065\tbest: 0.4111065 (24)\ttotal: 63.8ms\tremaining: 63.8ms\n",
      "25:\tlearn: 0.4106840\ttest: 0.4091996\tbest: 0.4091996 (25)\ttotal: 66ms\tremaining: 61ms\n",
      "26:\tlearn: 0.4072462\ttest: 0.4067049\tbest: 0.4067049 (26)\ttotal: 68.4ms\tremaining: 58.2ms\n",
      "27:\tlearn: 0.4052570\ttest: 0.4045695\tbest: 0.4045695 (27)\ttotal: 70.7ms\tremaining: 55.6ms\n",
      "28:\tlearn: 0.4026006\ttest: 0.4025148\tbest: 0.4025148 (28)\ttotal: 73ms\tremaining: 52.8ms\n",
      "29:\tlearn: 0.3999526\ttest: 0.3998966\tbest: 0.3998966 (29)\ttotal: 75.3ms\tremaining: 50.2ms\n",
      "30:\tlearn: 0.3987005\ttest: 0.3986619\tbest: 0.3986619 (30)\ttotal: 77.6ms\tremaining: 47.5ms\n",
      "31:\tlearn: 0.3970383\ttest: 0.3972736\tbest: 0.3972736 (31)\ttotal: 79.9ms\tremaining: 44.9ms\n",
      "32:\tlearn: 0.3947364\ttest: 0.3956271\tbest: 0.3956271 (32)\ttotal: 82.1ms\tremaining: 42.3ms\n",
      "33:\tlearn: 0.3936367\ttest: 0.3948069\tbest: 0.3948069 (33)\ttotal: 84.3ms\tremaining: 39.7ms\n",
      "34:\tlearn: 0.3917621\ttest: 0.3935143\tbest: 0.3935143 (34)\ttotal: 86.5ms\tremaining: 37.1ms\n",
      "35:\tlearn: 0.3903682\ttest: 0.3926062\tbest: 0.3926062 (35)\ttotal: 88.7ms\tremaining: 34.5ms\n",
      "36:\tlearn: 0.3889366\ttest: 0.3914662\tbest: 0.3914662 (36)\ttotal: 91.2ms\tremaining: 32.1ms\n",
      "37:\tlearn: 0.3881900\ttest: 0.3908720\tbest: 0.3908720 (37)\ttotal: 92.9ms\tremaining: 29.3ms\n",
      "38:\tlearn: 0.3870631\ttest: 0.3902916\tbest: 0.3902916 (38)\ttotal: 95.1ms\tremaining: 26.8ms\n",
      "39:\tlearn: 0.3859327\ttest: 0.3893893\tbest: 0.3893893 (39)\ttotal: 97.4ms\tremaining: 24.4ms\n",
      "40:\tlearn: 0.3849887\ttest: 0.3885277\tbest: 0.3885277 (40)\ttotal: 99.7ms\tremaining: 21.9ms\n",
      "41:\tlearn: 0.3837175\ttest: 0.3875425\tbest: 0.3875425 (41)\ttotal: 102ms\tremaining: 19.5ms\n",
      "42:\tlearn: 0.3828068\ttest: 0.3870326\tbest: 0.3870326 (42)\ttotal: 105ms\tremaining: 17ms\n",
      "43:\tlearn: 0.3818136\ttest: 0.3862544\tbest: 0.3862544 (43)\ttotal: 107ms\tremaining: 14.6ms\n",
      "44:\tlearn: 0.3806072\ttest: 0.3856258\tbest: 0.3856258 (44)\ttotal: 109ms\tremaining: 12.1ms\n",
      "45:\tlearn: 0.3796061\ttest: 0.3854200\tbest: 0.3854200 (45)\ttotal: 111ms\tremaining: 9.66ms\n",
      "46:\tlearn: 0.3785901\ttest: 0.3849851\tbest: 0.3849851 (46)\ttotal: 113ms\tremaining: 7.23ms\n",
      "47:\tlearn: 0.3779106\ttest: 0.3842811\tbest: 0.3842811 (47)\ttotal: 116ms\tremaining: 4.82ms\n",
      "48:\tlearn: 0.3758805\ttest: 0.3831502\tbest: 0.3831502 (48)\ttotal: 118ms\tremaining: 2.41ms\n",
      "49:\tlearn: 0.3750394\ttest: 0.3827489\tbest: 0.3827489 (49)\ttotal: 120ms\tremaining: 0us\n",
      "\n",
      "bestTest = 0.3827489177\n",
      "bestIteration = 49\n",
      "\n",
      "0:\tlearn: 0.6259619\ttest: 0.6244245\tbest: 0.6244245 (0)\ttotal: 2.51ms\tremaining: 123ms\n",
      "1:\tlearn: 0.5755002\ttest: 0.5729142\tbest: 0.5729142 (1)\ttotal: 4.59ms\tremaining: 110ms\n",
      "2:\tlearn: 0.5419360\ttest: 0.5378229\tbest: 0.5378229 (2)\ttotal: 6.68ms\tremaining: 105ms\n",
      "3:\tlearn: 0.5081700\ttest: 0.5039664\tbest: 0.5039664 (3)\ttotal: 8.99ms\tremaining: 103ms\n",
      "4:\tlearn: 0.4862304\ttest: 0.4814559\tbest: 0.4814559 (4)\ttotal: 11.2ms\tremaining: 101ms\n",
      "5:\tlearn: 0.4701222\ttest: 0.4656053\tbest: 0.4656053 (5)\ttotal: 13.5ms\tremaining: 98.9ms\n",
      "6:\tlearn: 0.4574791\ttest: 0.4531109\tbest: 0.4531109 (6)\ttotal: 16ms\tremaining: 98ms\n",
      "7:\tlearn: 0.4446640\ttest: 0.4416611\tbest: 0.4416611 (7)\ttotal: 18.2ms\tremaining: 95.4ms\n",
      "8:\tlearn: 0.4361222\ttest: 0.4334149\tbest: 0.4334149 (8)\ttotal: 20.5ms\tremaining: 93.3ms\n",
      "9:\tlearn: 0.4264316\ttest: 0.4257301\tbest: 0.4257301 (9)\ttotal: 22.7ms\tremaining: 90.8ms\n",
      "10:\tlearn: 0.4197126\ttest: 0.4189088\tbest: 0.4189088 (10)\ttotal: 25ms\tremaining: 88.7ms\n",
      "11:\tlearn: 0.4134255\ttest: 0.4129719\tbest: 0.4129719 (11)\ttotal: 27.2ms\tremaining: 86ms\n",
      "12:\tlearn: 0.4086092\ttest: 0.4086010\tbest: 0.4086010 (12)\ttotal: 29.5ms\tremaining: 83.9ms\n",
      "13:\tlearn: 0.4041035\ttest: 0.4048297\tbest: 0.4048297 (13)\ttotal: 31.8ms\tremaining: 81.7ms\n",
      "14:\tlearn: 0.3998159\ttest: 0.4006754\tbest: 0.4006754 (14)\ttotal: 38.5ms\tremaining: 89.9ms\n",
      "15:\tlearn: 0.3967222\ttest: 0.3980805\tbest: 0.3980805 (15)\ttotal: 41ms\tremaining: 87.2ms\n",
      "16:\tlearn: 0.3940932\ttest: 0.3966562\tbest: 0.3966562 (16)\ttotal: 43.3ms\tremaining: 84ms\n",
      "17:\tlearn: 0.3917993\ttest: 0.3946680\tbest: 0.3946680 (17)\ttotal: 45.5ms\tremaining: 80.9ms\n",
      "18:\tlearn: 0.3886526\ttest: 0.3923285\tbest: 0.3923285 (18)\ttotal: 47.7ms\tremaining: 77.9ms\n",
      "19:\tlearn: 0.3864553\ttest: 0.3917940\tbest: 0.3917940 (19)\ttotal: 50ms\tremaining: 74.9ms\n",
      "20:\tlearn: 0.3838006\ttest: 0.3896046\tbest: 0.3896046 (20)\ttotal: 52.2ms\tremaining: 72.1ms\n",
      "21:\tlearn: 0.3816982\ttest: 0.3892735\tbest: 0.3892735 (21)\ttotal: 54.5ms\tremaining: 69.4ms\n",
      "22:\tlearn: 0.3799665\ttest: 0.3885626\tbest: 0.3885626 (22)\ttotal: 56.8ms\tremaining: 66.6ms\n",
      "23:\tlearn: 0.3782139\ttest: 0.3888838\tbest: 0.3885626 (22)\ttotal: 58.9ms\tremaining: 63.9ms\n",
      "24:\tlearn: 0.3768863\ttest: 0.3877028\tbest: 0.3877028 (24)\ttotal: 61.2ms\tremaining: 61.2ms\n",
      "25:\tlearn: 0.3725892\ttest: 0.3854880\tbest: 0.3854880 (25)\ttotal: 63.4ms\tremaining: 58.5ms\n",
      "26:\tlearn: 0.3712125\ttest: 0.3854392\tbest: 0.3854392 (26)\ttotal: 65.6ms\tremaining: 55.9ms\n",
      "27:\tlearn: 0.3688404\ttest: 0.3847568\tbest: 0.3847568 (27)\ttotal: 68.4ms\tremaining: 53.8ms\n",
      "28:\tlearn: 0.3672855\ttest: 0.3843646\tbest: 0.3843646 (28)\ttotal: 70.8ms\tremaining: 51.2ms\n",
      "29:\tlearn: 0.3660969\ttest: 0.3831914\tbest: 0.3831914 (29)\ttotal: 72.9ms\tremaining: 48.6ms\n",
      "30:\tlearn: 0.3652306\ttest: 0.3828405\tbest: 0.3828405 (30)\ttotal: 75.3ms\tremaining: 46.1ms\n",
      "31:\tlearn: 0.3636792\ttest: 0.3821733\tbest: 0.3821733 (31)\ttotal: 77.5ms\tremaining: 43.6ms\n",
      "32:\tlearn: 0.3620621\ttest: 0.3817931\tbest: 0.3817931 (32)\ttotal: 79.6ms\tremaining: 41ms\n",
      "33:\tlearn: 0.3609323\ttest: 0.3812583\tbest: 0.3812583 (33)\ttotal: 81.9ms\tremaining: 38.5ms\n",
      "34:\tlearn: 0.3596159\ttest: 0.3807106\tbest: 0.3807106 (34)\ttotal: 84.1ms\tremaining: 36ms\n",
      "35:\tlearn: 0.3583106\ttest: 0.3801302\tbest: 0.3801302 (35)\ttotal: 86.4ms\tremaining: 33.6ms\n",
      "36:\tlearn: 0.3573032\ttest: 0.3795112\tbest: 0.3795112 (36)\ttotal: 88.6ms\tremaining: 31.1ms\n",
      "37:\tlearn: 0.3564703\ttest: 0.3798553\tbest: 0.3795112 (36)\ttotal: 90.8ms\tremaining: 28.7ms\n",
      "38:\tlearn: 0.3552509\ttest: 0.3795816\tbest: 0.3795112 (36)\ttotal: 92.9ms\tremaining: 26.2ms\n",
      "39:\tlearn: 0.3548757\ttest: 0.3794319\tbest: 0.3794319 (39)\ttotal: 94.2ms\tremaining: 23.5ms\n",
      "40:\tlearn: 0.3532667\ttest: 0.3801319\tbest: 0.3794319 (39)\ttotal: 96.4ms\tremaining: 21.2ms\n",
      "41:\tlearn: 0.3530529\ttest: 0.3802050\tbest: 0.3794319 (39)\ttotal: 97.8ms\tremaining: 18.6ms\n",
      "42:\tlearn: 0.3513282\ttest: 0.3794928\tbest: 0.3794319 (39)\ttotal: 100ms\tremaining: 16.3ms\n",
      "43:\tlearn: 0.3504309\ttest: 0.3791032\tbest: 0.3791032 (43)\ttotal: 102ms\tremaining: 13.9ms\n",
      "44:\tlearn: 0.3497140\ttest: 0.3792451\tbest: 0.3791032 (43)\ttotal: 104ms\tremaining: 11.6ms\n",
      "45:\tlearn: 0.3470221\ttest: 0.3761625\tbest: 0.3761625 (45)\ttotal: 107ms\tremaining: 9.28ms\n",
      "46:\tlearn: 0.3456966\ttest: 0.3746244\tbest: 0.3746244 (46)\ttotal: 109ms\tremaining: 6.96ms\n",
      "47:\tlearn: 0.3446593\ttest: 0.3747484\tbest: 0.3746244 (46)\ttotal: 111ms\tremaining: 4.63ms\n",
      "48:\tlearn: 0.3434386\ttest: 0.3742471\tbest: 0.3742471 (48)\ttotal: 113ms\tremaining: 2.32ms\n",
      "49:\tlearn: 0.3422251\ttest: 0.3738261\tbest: 0.3738261 (49)\ttotal: 116ms\tremaining: 0us\n",
      "\n",
      "bestTest = 0.3738260969\n",
      "bestIteration = 49\n",
      "\n",
      "0:\tlearn: 0.4262927\ttest: 0.4189596\tbest: 0.4189596 (0)\ttotal: 2.26ms\tremaining: 111ms\n",
      "1:\tlearn: 0.3985387\ttest: 0.4056427\tbest: 0.4056427 (1)\ttotal: 4.64ms\tremaining: 111ms\n",
      "2:\tlearn: 0.3832751\ttest: 0.4020287\tbest: 0.4020287 (2)\ttotal: 6.96ms\tremaining: 109ms\n",
      "3:\tlearn: 0.3722679\ttest: 0.4040850\tbest: 0.4020287 (2)\ttotal: 18.3ms\tremaining: 210ms\n",
      "4:\tlearn: 0.3660918\ttest: 0.4109601\tbest: 0.4020287 (2)\ttotal: 20.5ms\tremaining: 185ms\n",
      "5:\tlearn: 0.3560917\ttest: 0.4074088\tbest: 0.4020287 (2)\ttotal: 22.8ms\tremaining: 167ms\n",
      "6:\tlearn: 0.3530336\ttest: 0.4089625\tbest: 0.4020287 (2)\ttotal: 25.1ms\tremaining: 154ms\n",
      "7:\tlearn: 0.3455487\ttest: 0.4116175\tbest: 0.4020287 (2)\ttotal: 27.2ms\tremaining: 143ms\n",
      "8:\tlearn: 0.3360554\ttest: 0.4183245\tbest: 0.4020287 (2)\ttotal: 29.4ms\tremaining: 134ms\n",
      "9:\tlearn: 0.3211394\ttest: 0.4078100\tbest: 0.4020287 (2)\ttotal: 31.6ms\tremaining: 126ms\n",
      "10:\tlearn: 0.3124886\ttest: 0.4013651\tbest: 0.4013651 (10)\ttotal: 33.8ms\tremaining: 120ms\n",
      "11:\tlearn: 0.2950211\ttest: 0.3792608\tbest: 0.3792608 (11)\ttotal: 36ms\tremaining: 114ms\n",
      "12:\tlearn: 0.2884505\ttest: 0.3814212\tbest: 0.3792608 (11)\ttotal: 38ms\tremaining: 108ms\n",
      "13:\tlearn: 0.2829109\ttest: 0.3861962\tbest: 0.3792608 (11)\ttotal: 40ms\tremaining: 103ms\n",
      "14:\tlearn: 0.2759339\ttest: 0.3850979\tbest: 0.3792608 (11)\ttotal: 42.2ms\tremaining: 98.5ms\n",
      "15:\tlearn: 0.2696388\ttest: 0.3828148\tbest: 0.3792608 (11)\ttotal: 44.4ms\tremaining: 94.4ms\n",
      "16:\tlearn: 0.2639296\ttest: 0.3784760\tbest: 0.3784760 (16)\ttotal: 46.4ms\tremaining: 90.1ms\n",
      "17:\tlearn: 0.2581869\ttest: 0.3742909\tbest: 0.3742909 (17)\ttotal: 48.6ms\tremaining: 86.3ms\n",
      "18:\tlearn: 0.2535686\ttest: 0.3773448\tbest: 0.3742909 (17)\ttotal: 51.5ms\tremaining: 84ms\n",
      "19:\tlearn: 0.2437855\ttest: 0.3708016\tbest: 0.3708016 (19)\ttotal: 54ms\tremaining: 81ms\n",
      "20:\tlearn: 0.2392850\ttest: 0.3805830\tbest: 0.3708016 (19)\ttotal: 56.3ms\tremaining: 77.7ms\n",
      "21:\tlearn: 0.2319255\ttest: 0.3874049\tbest: 0.3708016 (19)\ttotal: 58.5ms\tremaining: 74.5ms\n",
      "22:\tlearn: 0.2269436\ttest: 0.3898151\tbest: 0.3708016 (19)\ttotal: 60.9ms\tremaining: 71.5ms\n",
      "23:\tlearn: 0.2225191\ttest: 0.3853003\tbest: 0.3708016 (19)\ttotal: 63.2ms\tremaining: 68.5ms\n",
      "24:\tlearn: 0.2156882\ttest: 0.3935501\tbest: 0.3708016 (19)\ttotal: 65.2ms\tremaining: 65.2ms\n",
      "25:\tlearn: 0.2105513\ttest: 0.3987474\tbest: 0.3708016 (19)\ttotal: 67.4ms\tremaining: 62.2ms\n",
      "26:\tlearn: 0.2077903\ttest: 0.4003678\tbest: 0.3708016 (19)\ttotal: 69.5ms\tremaining: 59.2ms\n",
      "27:\tlearn: 0.2045684\ttest: 0.4035240\tbest: 0.3708016 (19)\ttotal: 71.6ms\tremaining: 56.2ms\n",
      "28:\tlearn: 0.1992197\ttest: 0.4081227\tbest: 0.3708016 (19)\ttotal: 73.6ms\tremaining: 53.3ms\n",
      "29:\tlearn: 0.1967549\ttest: 0.4094449\tbest: 0.3708016 (19)\ttotal: 75.7ms\tremaining: 50.4ms\n",
      "30:\tlearn: 0.1930170\ttest: 0.4051478\tbest: 0.3708016 (19)\ttotal: 77.6ms\tremaining: 47.6ms\n",
      "31:\tlearn: 0.1905617\ttest: 0.4019505\tbest: 0.3708016 (19)\ttotal: 79.7ms\tremaining: 44.9ms\n",
      "32:\tlearn: 0.1878355\ttest: 0.4070521\tbest: 0.3708016 (19)\ttotal: 82ms\tremaining: 42.2ms\n",
      "33:\tlearn: 0.1849365\ttest: 0.4094960\tbest: 0.3708016 (19)\ttotal: 84.5ms\tremaining: 39.8ms\n",
      "34:\tlearn: 0.1825180\ttest: 0.4111538\tbest: 0.3708016 (19)\ttotal: 86.9ms\tremaining: 37.2ms\n",
      "35:\tlearn: 0.1799621\ttest: 0.4110862\tbest: 0.3708016 (19)\ttotal: 89.2ms\tremaining: 34.7ms\n",
      "36:\tlearn: 0.1765080\ttest: 0.4072678\tbest: 0.3708016 (19)\ttotal: 91.4ms\tremaining: 32.1ms\n",
      "37:\tlearn: 0.1732335\ttest: 0.4085597\tbest: 0.3708016 (19)\ttotal: 93.4ms\tremaining: 29.5ms\n",
      "38:\tlearn: 0.1711952\ttest: 0.4059714\tbest: 0.3708016 (19)\ttotal: 96.5ms\tremaining: 27.2ms\n",
      "39:\tlearn: 0.1684111\ttest: 0.4059163\tbest: 0.3708016 (19)\ttotal: 98.7ms\tremaining: 24.7ms\n",
      "40:\tlearn: 0.1654543\ttest: 0.4036144\tbest: 0.3708016 (19)\ttotal: 101ms\tremaining: 22.2ms\n",
      "41:\tlearn: 0.1621881\ttest: 0.4088012\tbest: 0.3708016 (19)\ttotal: 103ms\tremaining: 19.7ms\n",
      "42:\tlearn: 0.1595494\ttest: 0.4102396\tbest: 0.3708016 (19)\ttotal: 105ms\tremaining: 17.2ms\n",
      "43:\tlearn: 0.1572309\ttest: 0.4125570\tbest: 0.3708016 (19)\ttotal: 107ms\tremaining: 14.6ms\n",
      "44:\tlearn: 0.1547590\ttest: 0.4095605\tbest: 0.3708016 (19)\ttotal: 115ms\tremaining: 12.8ms\n",
      "45:\tlearn: 0.1511531\ttest: 0.4186019\tbest: 0.3708016 (19)\ttotal: 117ms\tremaining: 10.2ms\n",
      "46:\tlearn: 0.1494696\ttest: 0.4194802\tbest: 0.3708016 (19)\ttotal: 119ms\tremaining: 7.61ms\n",
      "47:\tlearn: 0.1471942\ttest: 0.4206596\tbest: 0.3708016 (19)\ttotal: 121ms\tremaining: 5.06ms\n",
      "48:\tlearn: 0.1456132\ttest: 0.4211427\tbest: 0.3708016 (19)\ttotal: 123ms\tremaining: 2.52ms\n",
      "49:\tlearn: 0.1434827\ttest: 0.4205171\tbest: 0.3708016 (19)\ttotal: 126ms\tremaining: 0us\n",
      "\n",
      "bestTest = 0.3708015556\n",
      "bestIteration = 19\n",
      "\n",
      "0:\tlearn: 0.6857557\ttest: 0.6856016\tbest: 0.6856016 (0)\ttotal: 4.35ms\tremaining: 213ms\n",
      "1:\tlearn: 0.6791496\ttest: 0.6789400\tbest: 0.6789400 (1)\ttotal: 7.51ms\tremaining: 180ms\n",
      "2:\tlearn: 0.6722620\ttest: 0.6718485\tbest: 0.6718485 (2)\ttotal: 10.9ms\tremaining: 170ms\n",
      "3:\tlearn: 0.6659364\ttest: 0.6652840\tbest: 0.6652840 (3)\ttotal: 12.4ms\tremaining: 143ms\n",
      "4:\tlearn: 0.6600059\ttest: 0.6591826\tbest: 0.6591826 (4)\ttotal: 15.8ms\tremaining: 142ms\n",
      "5:\tlearn: 0.6544847\ttest: 0.6535742\tbest: 0.6535742 (5)\ttotal: 18.9ms\tremaining: 139ms\n",
      "6:\tlearn: 0.6485055\ttest: 0.6477021\tbest: 0.6477021 (6)\ttotal: 22.2ms\tremaining: 136ms\n",
      "7:\tlearn: 0.6431095\ttest: 0.6421070\tbest: 0.6421070 (7)\ttotal: 25.2ms\tremaining: 133ms\n",
      "8:\tlearn: 0.6371980\ttest: 0.6358958\tbest: 0.6358958 (8)\ttotal: 27.1ms\tremaining: 124ms\n",
      "9:\tlearn: 0.6312405\ttest: 0.6297733\tbest: 0.6297733 (9)\ttotal: 30.7ms\tremaining: 123ms\n",
      "10:\tlearn: 0.6254380\ttest: 0.6239541\tbest: 0.6239541 (10)\ttotal: 34.1ms\tremaining: 121ms\n",
      "11:\tlearn: 0.6199412\ttest: 0.6183336\tbest: 0.6183336 (11)\ttotal: 36.3ms\tremaining: 115ms\n",
      "12:\tlearn: 0.6148278\ttest: 0.6130858\tbest: 0.6130858 (12)\ttotal: 39.3ms\tremaining: 112ms\n",
      "13:\tlearn: 0.6098444\ttest: 0.6078931\tbest: 0.6078931 (13)\ttotal: 42.4ms\tremaining: 109ms\n",
      "14:\tlearn: 0.6053577\ttest: 0.6031851\tbest: 0.6031851 (14)\ttotal: 45.5ms\tremaining: 106ms\n",
      "15:\tlearn: 0.6006740\ttest: 0.5986113\tbest: 0.5986113 (15)\ttotal: 48.6ms\tremaining: 103ms\n",
      "16:\tlearn: 0.5964609\ttest: 0.5943653\tbest: 0.5943653 (16)\ttotal: 51.5ms\tremaining: 99.9ms\n",
      "17:\tlearn: 0.5918704\ttest: 0.5897881\tbest: 0.5897881 (17)\ttotal: 54.7ms\tremaining: 97.2ms\n",
      "18:\tlearn: 0.5875181\ttest: 0.5853999\tbest: 0.5853999 (18)\ttotal: 57.8ms\tremaining: 94.3ms\n",
      "19:\tlearn: 0.5834419\ttest: 0.5812465\tbest: 0.5812465 (19)\ttotal: 60.9ms\tremaining: 91.4ms\n",
      "20:\tlearn: 0.5789190\ttest: 0.5767230\tbest: 0.5767230 (20)\ttotal: 64.1ms\tremaining: 88.5ms\n",
      "21:\tlearn: 0.5749165\ttest: 0.5726988\tbest: 0.5726988 (21)\ttotal: 67ms\tremaining: 85.2ms\n",
      "22:\tlearn: 0.5707211\ttest: 0.5685821\tbest: 0.5685821 (22)\ttotal: 70.1ms\tremaining: 82.3ms\n",
      "23:\tlearn: 0.5666220\ttest: 0.5643554\tbest: 0.5643554 (23)\ttotal: 73.5ms\tremaining: 79.6ms\n",
      "24:\tlearn: 0.5625696\ttest: 0.5603191\tbest: 0.5603191 (24)\ttotal: 76.7ms\tremaining: 76.7ms\n",
      "25:\tlearn: 0.5592082\ttest: 0.5570947\tbest: 0.5570947 (25)\ttotal: 85.5ms\tremaining: 78.9ms\n",
      "26:\tlearn: 0.5558869\ttest: 0.5536398\tbest: 0.5536398 (26)\ttotal: 88.7ms\tremaining: 75.6ms\n",
      "27:\tlearn: 0.5525511\ttest: 0.5503195\tbest: 0.5503195 (27)\ttotal: 91.7ms\tremaining: 72ms\n",
      "28:\tlearn: 0.5489833\ttest: 0.5465679\tbest: 0.5465679 (28)\ttotal: 95ms\tremaining: 68.8ms\n",
      "29:\tlearn: 0.5453092\ttest: 0.5428801\tbest: 0.5428801 (29)\ttotal: 98.1ms\tremaining: 65.4ms\n",
      "30:\tlearn: 0.5421686\ttest: 0.5396915\tbest: 0.5396915 (30)\ttotal: 101ms\tremaining: 62ms\n",
      "31:\tlearn: 0.5387634\ttest: 0.5363012\tbest: 0.5363012 (31)\ttotal: 104ms\tremaining: 58.7ms\n",
      "32:\tlearn: 0.5351991\ttest: 0.5328185\tbest: 0.5328185 (32)\ttotal: 108ms\tremaining: 55.4ms\n",
      "33:\tlearn: 0.5320475\ttest: 0.5295889\tbest: 0.5295889 (33)\ttotal: 111ms\tremaining: 52.1ms\n",
      "34:\tlearn: 0.5290079\ttest: 0.5265110\tbest: 0.5265110 (34)\ttotal: 114ms\tremaining: 48.8ms\n",
      "35:\tlearn: 0.5260569\ttest: 0.5236311\tbest: 0.5236311 (35)\ttotal: 117ms\tremaining: 45.5ms\n",
      "36:\tlearn: 0.5230491\ttest: 0.5206827\tbest: 0.5206827 (36)\ttotal: 120ms\tremaining: 42.2ms\n",
      "37:\tlearn: 0.5204062\ttest: 0.5179748\tbest: 0.5179748 (37)\ttotal: 124ms\tremaining: 39.2ms\n",
      "38:\tlearn: 0.5176814\ttest: 0.5153742\tbest: 0.5153742 (38)\ttotal: 128ms\tremaining: 36.2ms\n",
      "39:\tlearn: 0.5150683\ttest: 0.5127598\tbest: 0.5127598 (39)\ttotal: 133ms\tremaining: 33.3ms\n",
      "40:\tlearn: 0.5122659\ttest: 0.5100506\tbest: 0.5100506 (40)\ttotal: 137ms\tremaining: 30ms\n",
      "41:\tlearn: 0.5095904\ttest: 0.5073544\tbest: 0.5073544 (41)\ttotal: 142ms\tremaining: 27ms\n",
      "42:\tlearn: 0.5072591\ttest: 0.5049423\tbest: 0.5049423 (42)\ttotal: 145ms\tremaining: 23.6ms\n",
      "43:\tlearn: 0.5047079\ttest: 0.5024499\tbest: 0.5024499 (43)\ttotal: 149ms\tremaining: 20.3ms\n",
      "44:\tlearn: 0.5023848\ttest: 0.5001441\tbest: 0.5001441 (44)\ttotal: 152ms\tremaining: 16.9ms\n",
      "45:\tlearn: 0.4998419\ttest: 0.4976058\tbest: 0.4976058 (45)\ttotal: 156ms\tremaining: 13.5ms\n",
      "46:\tlearn: 0.4976264\ttest: 0.4953455\tbest: 0.4953455 (46)\ttotal: 159ms\tremaining: 10.2ms\n",
      "47:\tlearn: 0.4952687\ttest: 0.4930436\tbest: 0.4930436 (47)\ttotal: 162ms\tremaining: 6.76ms\n",
      "48:\tlearn: 0.4934301\ttest: 0.4910838\tbest: 0.4910838 (48)\ttotal: 165ms\tremaining: 3.38ms\n",
      "49:\tlearn: 0.4910139\ttest: 0.4887162\tbest: 0.4887162 (49)\ttotal: 169ms\tremaining: 0us\n",
      "\n",
      "bestTest = 0.4887162005\n",
      "bestIteration = 49\n",
      "\n",
      "0:\tlearn: 0.6575461\ttest: 0.6568113\tbest: 0.6568113 (0)\ttotal: 3.44ms\tremaining: 169ms\n",
      "1:\tlearn: 0.6287868\ttest: 0.6279184\tbest: 0.6279184 (1)\ttotal: 6.52ms\tremaining: 156ms\n",
      "2:\tlearn: 0.6019968\ttest: 0.6003778\tbest: 0.6003778 (2)\ttotal: 12.5ms\tremaining: 196ms\n",
      "3:\tlearn: 0.5792821\ttest: 0.5770740\tbest: 0.5770740 (3)\ttotal: 15.6ms\tremaining: 180ms\n",
      "4:\tlearn: 0.5572391\ttest: 0.5551107\tbest: 0.5551107 (4)\ttotal: 18.9ms\tremaining: 170ms\n",
      "5:\tlearn: 0.5402795\ttest: 0.5378579\tbest: 0.5378579 (5)\ttotal: 22.1ms\tremaining: 162ms\n",
      "6:\tlearn: 0.5240922\ttest: 0.5218363\tbest: 0.5218363 (6)\ttotal: 25.4ms\tremaining: 156ms\n",
      "7:\tlearn: 0.5110591\ttest: 0.5090056\tbest: 0.5090056 (7)\ttotal: 28.7ms\tremaining: 151ms\n",
      "8:\tlearn: 0.4991223\ttest: 0.4966583\tbest: 0.4966583 (8)\ttotal: 32ms\tremaining: 146ms\n",
      "9:\tlearn: 0.4883295\ttest: 0.4854036\tbest: 0.4854036 (9)\ttotal: 35.2ms\tremaining: 141ms\n",
      "10:\tlearn: 0.4783383\ttest: 0.4758246\tbest: 0.4758246 (10)\ttotal: 38.6ms\tremaining: 137ms\n",
      "11:\tlearn: 0.4694386\ttest: 0.4673777\tbest: 0.4673777 (11)\ttotal: 41.7ms\tremaining: 132ms\n",
      "12:\tlearn: 0.4618453\ttest: 0.4604809\tbest: 0.4604809 (12)\ttotal: 45.5ms\tremaining: 130ms\n",
      "13:\tlearn: 0.4554163\ttest: 0.4535592\tbest: 0.4535592 (13)\ttotal: 48.9ms\tremaining: 126ms\n",
      "14:\tlearn: 0.4482523\ttest: 0.4481909\tbest: 0.4481909 (14)\ttotal: 52.2ms\tremaining: 122ms\n",
      "15:\tlearn: 0.4420561\ttest: 0.4422646\tbest: 0.4422646 (15)\ttotal: 55.3ms\tremaining: 118ms\n",
      "16:\tlearn: 0.4366938\ttest: 0.4371172\tbest: 0.4371172 (16)\ttotal: 58.4ms\tremaining: 113ms\n",
      "17:\tlearn: 0.4319287\ttest: 0.4327851\tbest: 0.4327851 (17)\ttotal: 61.5ms\tremaining: 109ms\n",
      "18:\tlearn: 0.4269244\ttest: 0.4277708\tbest: 0.4277708 (18)\ttotal: 64.8ms\tremaining: 106ms\n",
      "19:\tlearn: 0.4221628\ttest: 0.4231652\tbest: 0.4231652 (19)\ttotal: 68ms\tremaining: 102ms\n",
      "20:\tlearn: 0.4191073\ttest: 0.4202493\tbest: 0.4202493 (20)\ttotal: 71.1ms\tremaining: 98.2ms\n",
      "21:\tlearn: 0.4162351\ttest: 0.4176709\tbest: 0.4176709 (21)\ttotal: 74.4ms\tremaining: 94.7ms\n",
      "22:\tlearn: 0.4129037\ttest: 0.4145218\tbest: 0.4145218 (22)\ttotal: 77.8ms\tremaining: 91.3ms\n",
      "23:\tlearn: 0.4078546\ttest: 0.4097900\tbest: 0.4097900 (23)\ttotal: 81.1ms\tremaining: 87.9ms\n",
      "24:\tlearn: 0.4052487\ttest: 0.4075603\tbest: 0.4075603 (24)\ttotal: 84.5ms\tremaining: 84.5ms\n",
      "25:\tlearn: 0.4024942\ttest: 0.4058310\tbest: 0.4058310 (25)\ttotal: 87.8ms\tremaining: 81ms\n",
      "26:\tlearn: 0.3997352\ttest: 0.4038773\tbest: 0.4038773 (26)\ttotal: 91ms\tremaining: 77.5ms\n",
      "27:\tlearn: 0.3980876\ttest: 0.4025518\tbest: 0.4025518 (27)\ttotal: 93.2ms\tremaining: 73.2ms\n",
      "28:\tlearn: 0.3973356\ttest: 0.4017394\tbest: 0.4017394 (28)\ttotal: 94.5ms\tremaining: 68.4ms\n",
      "29:\tlearn: 0.3954504\ttest: 0.4001993\tbest: 0.4001993 (29)\ttotal: 97.8ms\tremaining: 65.2ms\n",
      "30:\tlearn: 0.3937496\ttest: 0.3988315\tbest: 0.3988315 (30)\ttotal: 101ms\tremaining: 61.8ms\n",
      "31:\tlearn: 0.3927453\ttest: 0.3978793\tbest: 0.3978793 (31)\ttotal: 102ms\tremaining: 57.4ms\n",
      "32:\tlearn: 0.3911142\ttest: 0.3963579\tbest: 0.3963579 (32)\ttotal: 111ms\tremaining: 57.3ms\n",
      "33:\tlearn: 0.3895327\ttest: 0.3957253\tbest: 0.3957253 (33)\ttotal: 114ms\tremaining: 53.9ms\n",
      "34:\tlearn: 0.3879423\ttest: 0.3944232\tbest: 0.3944232 (34)\ttotal: 118ms\tremaining: 50.4ms\n",
      "35:\tlearn: 0.3865310\ttest: 0.3933798\tbest: 0.3933798 (35)\ttotal: 121ms\tremaining: 47.2ms\n",
      "36:\tlearn: 0.3847967\ttest: 0.3922334\tbest: 0.3922334 (36)\ttotal: 125ms\tremaining: 43.8ms\n",
      "37:\tlearn: 0.3831389\ttest: 0.3913399\tbest: 0.3913399 (37)\ttotal: 129ms\tremaining: 40.7ms\n",
      "38:\tlearn: 0.3820257\ttest: 0.3907046\tbest: 0.3907046 (38)\ttotal: 132ms\tremaining: 37.3ms\n",
      "39:\tlearn: 0.3807436\ttest: 0.3896664\tbest: 0.3896664 (39)\ttotal: 135ms\tremaining: 33.9ms\n",
      "40:\tlearn: 0.3794280\ttest: 0.3891785\tbest: 0.3891785 (40)\ttotal: 139ms\tremaining: 30.4ms\n",
      "41:\tlearn: 0.3786304\ttest: 0.3886367\tbest: 0.3886367 (41)\ttotal: 143ms\tremaining: 27.2ms\n",
      "42:\tlearn: 0.3762190\ttest: 0.3873095\tbest: 0.3873095 (42)\ttotal: 146ms\tremaining: 23.7ms\n",
      "43:\tlearn: 0.3751144\ttest: 0.3867091\tbest: 0.3867091 (43)\ttotal: 149ms\tremaining: 20.4ms\n",
      "44:\tlearn: 0.3739673\ttest: 0.3865087\tbest: 0.3865087 (44)\ttotal: 153ms\tremaining: 17ms\n",
      "45:\tlearn: 0.3721461\ttest: 0.3853740\tbest: 0.3853740 (45)\ttotal: 156ms\tremaining: 13.5ms\n",
      "46:\tlearn: 0.3710179\ttest: 0.3850074\tbest: 0.3850074 (46)\ttotal: 159ms\tremaining: 10.2ms\n",
      "47:\tlearn: 0.3699746\ttest: 0.3847696\tbest: 0.3847696 (47)\ttotal: 162ms\tremaining: 6.77ms\n",
      "48:\tlearn: 0.3684880\ttest: 0.3837537\tbest: 0.3837537 (48)\ttotal: 166ms\tremaining: 3.38ms\n",
      "49:\tlearn: 0.3674033\ttest: 0.3836639\tbest: 0.3836639 (49)\ttotal: 169ms\tremaining: 0us\n",
      "\n",
      "bestTest = 0.3836638528\n",
      "bestIteration = 49\n",
      "\n",
      "0:\tlearn: 0.6252938\ttest: 0.6239249\tbest: 0.6239249 (0)\ttotal: 3.19ms\tremaining: 156ms\n",
      "1:\tlearn: 0.5772157\ttest: 0.5759741\tbest: 0.5759741 (1)\ttotal: 6.5ms\tremaining: 156ms\n",
      "2:\tlearn: 0.5351732\ttest: 0.5336729\tbest: 0.5336729 (2)\ttotal: 9.78ms\tremaining: 153ms\n",
      "3:\tlearn: 0.5083038\ttest: 0.5058502\tbest: 0.5058502 (3)\ttotal: 13.1ms\tremaining: 150ms\n",
      "4:\tlearn: 0.4875894\ttest: 0.4862212\tbest: 0.4862212 (4)\ttotal: 16.5ms\tremaining: 148ms\n",
      "5:\tlearn: 0.4692732\ttest: 0.4680557\tbest: 0.4680557 (5)\ttotal: 19.8ms\tremaining: 146ms\n",
      "6:\tlearn: 0.4520298\ttest: 0.4521229\tbest: 0.4521229 (6)\ttotal: 23.2ms\tremaining: 142ms\n",
      "7:\tlearn: 0.4402885\ttest: 0.4419323\tbest: 0.4419323 (7)\ttotal: 26.6ms\tremaining: 140ms\n",
      "8:\tlearn: 0.4301033\ttest: 0.4315138\tbest: 0.4315138 (8)\ttotal: 29.9ms\tremaining: 136ms\n",
      "9:\tlearn: 0.4203516\ttest: 0.4245691\tbest: 0.4245691 (9)\ttotal: 38.1ms\tremaining: 152ms\n",
      "10:\tlearn: 0.4127363\ttest: 0.4172448\tbest: 0.4172448 (10)\ttotal: 41.3ms\tremaining: 147ms\n",
      "11:\tlearn: 0.4055936\ttest: 0.4109447\tbest: 0.4109447 (11)\ttotal: 44.5ms\tremaining: 141ms\n",
      "12:\tlearn: 0.3998399\ttest: 0.4070043\tbest: 0.4070043 (12)\ttotal: 48.1ms\tremaining: 137ms\n",
      "13:\tlearn: 0.3953503\ttest: 0.4024398\tbest: 0.4024398 (13)\ttotal: 51.7ms\tremaining: 133ms\n",
      "14:\tlearn: 0.3904575\ttest: 0.3983660\tbest: 0.3983660 (14)\ttotal: 54.8ms\tremaining: 128ms\n",
      "15:\tlearn: 0.3872427\ttest: 0.3961903\tbest: 0.3961903 (15)\ttotal: 58ms\tremaining: 123ms\n",
      "16:\tlearn: 0.3836022\ttest: 0.3944376\tbest: 0.3944376 (16)\ttotal: 61.1ms\tremaining: 119ms\n",
      "17:\tlearn: 0.3797231\ttest: 0.3911331\tbest: 0.3911331 (17)\ttotal: 64.4ms\tremaining: 114ms\n",
      "18:\tlearn: 0.3765929\ttest: 0.3892828\tbest: 0.3892828 (18)\ttotal: 67.4ms\tremaining: 110ms\n",
      "19:\tlearn: 0.3743069\ttest: 0.3878381\tbest: 0.3878381 (19)\ttotal: 70.6ms\tremaining: 106ms\n",
      "20:\tlearn: 0.3724272\ttest: 0.3865004\tbest: 0.3865004 (20)\ttotal: 73.9ms\tremaining: 102ms\n",
      "21:\tlearn: 0.3707838\ttest: 0.3852833\tbest: 0.3852833 (21)\ttotal: 77ms\tremaining: 98ms\n",
      "22:\tlearn: 0.3690169\ttest: 0.3842763\tbest: 0.3842763 (22)\ttotal: 80.1ms\tremaining: 94ms\n",
      "23:\tlearn: 0.3664338\ttest: 0.3836390\tbest: 0.3836390 (23)\ttotal: 83.2ms\tremaining: 90.1ms\n",
      "24:\tlearn: 0.3646614\ttest: 0.3827152\tbest: 0.3827152 (24)\ttotal: 86.5ms\tremaining: 86.5ms\n",
      "25:\tlearn: 0.3620190\ttest: 0.3831732\tbest: 0.3827152 (24)\ttotal: 90.3ms\tremaining: 83.3ms\n",
      "26:\tlearn: 0.3584569\ttest: 0.3812066\tbest: 0.3812066 (26)\ttotal: 93.4ms\tremaining: 79.6ms\n",
      "27:\tlearn: 0.3569196\ttest: 0.3804527\tbest: 0.3804527 (27)\ttotal: 95.4ms\tremaining: 74.9ms\n",
      "28:\tlearn: 0.3545979\ttest: 0.3788206\tbest: 0.3788206 (28)\ttotal: 98.5ms\tremaining: 71.3ms\n",
      "29:\tlearn: 0.3530757\ttest: 0.3783123\tbest: 0.3783123 (29)\ttotal: 102ms\tremaining: 67.8ms\n",
      "30:\tlearn: 0.3515123\ttest: 0.3777029\tbest: 0.3777029 (30)\ttotal: 105ms\tremaining: 64.3ms\n",
      "31:\tlearn: 0.3494441\ttest: 0.3773275\tbest: 0.3773275 (31)\ttotal: 108ms\tremaining: 60.8ms\n",
      "32:\tlearn: 0.3486282\ttest: 0.3772002\tbest: 0.3772002 (32)\ttotal: 111ms\tremaining: 57.4ms\n",
      "33:\tlearn: 0.3466560\ttest: 0.3772286\tbest: 0.3772002 (32)\ttotal: 115ms\tremaining: 54ms\n",
      "34:\tlearn: 0.3454176\ttest: 0.3774078\tbest: 0.3772002 (32)\ttotal: 118ms\tremaining: 50.6ms\n",
      "35:\tlearn: 0.3434491\ttest: 0.3773002\tbest: 0.3772002 (32)\ttotal: 121ms\tremaining: 47.1ms\n",
      "36:\tlearn: 0.3409103\ttest: 0.3758802\tbest: 0.3758802 (36)\ttotal: 124ms\tremaining: 43.7ms\n",
      "37:\tlearn: 0.3398563\ttest: 0.3759067\tbest: 0.3758802 (36)\ttotal: 128ms\tremaining: 40.3ms\n",
      "38:\tlearn: 0.3387109\ttest: 0.3757447\tbest: 0.3757447 (38)\ttotal: 137ms\tremaining: 38.7ms\n",
      "39:\tlearn: 0.3375931\ttest: 0.3759881\tbest: 0.3757447 (38)\ttotal: 141ms\tremaining: 35.2ms\n",
      "40:\tlearn: 0.3361041\ttest: 0.3736274\tbest: 0.3736274 (40)\ttotal: 144ms\tremaining: 31.6ms\n",
      "41:\tlearn: 0.3353679\ttest: 0.3735520\tbest: 0.3735520 (41)\ttotal: 147ms\tremaining: 28ms\n",
      "42:\tlearn: 0.3341905\ttest: 0.3741056\tbest: 0.3735520 (41)\ttotal: 151ms\tremaining: 24.5ms\n",
      "43:\tlearn: 0.3330932\ttest: 0.3745022\tbest: 0.3735520 (41)\ttotal: 154ms\tremaining: 20.9ms\n",
      "44:\tlearn: 0.3311399\ttest: 0.3733451\tbest: 0.3733451 (44)\ttotal: 158ms\tremaining: 17.5ms\n",
      "45:\tlearn: 0.3300177\ttest: 0.3731704\tbest: 0.3731704 (45)\ttotal: 161ms\tremaining: 14ms\n",
      "46:\tlearn: 0.3291696\ttest: 0.3724375\tbest: 0.3724375 (46)\ttotal: 164ms\tremaining: 10.5ms\n",
      "47:\tlearn: 0.3284164\ttest: 0.3723898\tbest: 0.3723898 (47)\ttotal: 168ms\tremaining: 6.98ms\n",
      "48:\tlearn: 0.3259516\ttest: 0.3712531\tbest: 0.3712531 (48)\ttotal: 171ms\tremaining: 3.48ms\n",
      "49:\tlearn: 0.3253213\ttest: 0.3708670\tbest: 0.3708670 (49)\ttotal: 174ms\tremaining: 0us\n",
      "\n",
      "bestTest = 0.3708669802\n",
      "bestIteration = 49\n",
      "\n",
      "0:\tlearn: 0.4232332\ttest: 0.4208329\tbest: 0.4208329 (0)\ttotal: 3.32ms\tremaining: 163ms\n",
      "1:\tlearn: 0.3888025\ttest: 0.4012468\tbest: 0.4012468 (1)\ttotal: 6.67ms\tremaining: 160ms\n",
      "2:\tlearn: 0.3774465\ttest: 0.4025616\tbest: 0.4012468 (1)\ttotal: 9.97ms\tremaining: 156ms\n",
      "3:\tlearn: 0.3692098\ttest: 0.4006814\tbest: 0.4006814 (3)\ttotal: 13.3ms\tremaining: 153ms\n",
      "4:\tlearn: 0.3577707\ttest: 0.4109748\tbest: 0.4006814 (3)\ttotal: 16.4ms\tremaining: 148ms\n",
      "5:\tlearn: 0.3466925\ttest: 0.4059613\tbest: 0.4006814 (3)\ttotal: 19.4ms\tremaining: 142ms\n",
      "6:\tlearn: 0.3411933\ttest: 0.4133987\tbest: 0.4006814 (3)\ttotal: 22.4ms\tremaining: 138ms\n",
      "7:\tlearn: 0.3281817\ttest: 0.4228892\tbest: 0.4006814 (3)\ttotal: 27.1ms\tremaining: 142ms\n",
      "8:\tlearn: 0.3187136\ttest: 0.4272500\tbest: 0.4006814 (3)\ttotal: 30.6ms\tremaining: 139ms\n",
      "9:\tlearn: 0.3104113\ttest: 0.4206066\tbest: 0.4006814 (3)\ttotal: 34.7ms\tremaining: 139ms\n",
      "10:\tlearn: 0.3010979\ttest: 0.4148803\tbest: 0.4006814 (3)\ttotal: 38.2ms\tremaining: 135ms\n",
      "11:\tlearn: 0.2893939\ttest: 0.4103021\tbest: 0.4006814 (3)\ttotal: 41.3ms\tremaining: 131ms\n",
      "12:\tlearn: 0.2829865\ttest: 0.4075123\tbest: 0.4006814 (3)\ttotal: 44.5ms\tremaining: 127ms\n",
      "13:\tlearn: 0.2782533\ttest: 0.4069748\tbest: 0.4006814 (3)\ttotal: 48.2ms\tremaining: 124ms\n",
      "14:\tlearn: 0.2682459\ttest: 0.3979731\tbest: 0.3979731 (14)\ttotal: 52.3ms\tremaining: 122ms\n",
      "15:\tlearn: 0.2573245\ttest: 0.3798123\tbest: 0.3798123 (15)\ttotal: 59.4ms\tremaining: 126ms\n",
      "16:\tlearn: 0.2483192\ttest: 0.3709675\tbest: 0.3709675 (16)\ttotal: 63.1ms\tremaining: 122ms\n",
      "17:\tlearn: 0.2389222\ttest: 0.3818655\tbest: 0.3709675 (16)\ttotal: 66.5ms\tremaining: 118ms\n",
      "18:\tlearn: 0.2318045\ttest: 0.3791943\tbest: 0.3709675 (16)\ttotal: 69.8ms\tremaining: 114ms\n",
      "19:\tlearn: 0.2255116\ttest: 0.3809563\tbest: 0.3709675 (16)\ttotal: 73ms\tremaining: 110ms\n",
      "20:\tlearn: 0.2191845\ttest: 0.3852942\tbest: 0.3709675 (16)\ttotal: 76.3ms\tremaining: 105ms\n",
      "21:\tlearn: 0.2112246\ttest: 0.3931343\tbest: 0.3709675 (16)\ttotal: 79.6ms\tremaining: 101ms\n",
      "22:\tlearn: 0.2066359\ttest: 0.3961076\tbest: 0.3709675 (16)\ttotal: 82.9ms\tremaining: 97.3ms\n",
      "23:\tlearn: 0.2005092\ttest: 0.3995366\tbest: 0.3709675 (16)\ttotal: 86.2ms\tremaining: 93.4ms\n",
      "24:\tlearn: 0.1978587\ttest: 0.3987117\tbest: 0.3709675 (16)\ttotal: 89.2ms\tremaining: 89.2ms\n",
      "25:\tlearn: 0.1900080\ttest: 0.4090036\tbest: 0.3709675 (16)\ttotal: 92.5ms\tremaining: 85.4ms\n",
      "26:\tlearn: 0.1861342\ttest: 0.3968248\tbest: 0.3709675 (16)\ttotal: 95.9ms\tremaining: 81.7ms\n",
      "27:\tlearn: 0.1822756\ttest: 0.3998616\tbest: 0.3709675 (16)\ttotal: 99.5ms\tremaining: 78.2ms\n",
      "28:\tlearn: 0.1769812\ttest: 0.4069114\tbest: 0.3709675 (16)\ttotal: 103ms\tremaining: 74.4ms\n",
      "29:\tlearn: 0.1712310\ttest: 0.3996367\tbest: 0.3709675 (16)\ttotal: 106ms\tremaining: 70.7ms\n",
      "30:\tlearn: 0.1669763\ttest: 0.4077785\tbest: 0.3709675 (16)\ttotal: 109ms\tremaining: 66.9ms\n",
      "31:\tlearn: 0.1625615\ttest: 0.4122806\tbest: 0.3709675 (16)\ttotal: 113ms\tremaining: 63.3ms\n",
      "32:\tlearn: 0.1600508\ttest: 0.4096926\tbest: 0.3709675 (16)\ttotal: 116ms\tremaining: 59.7ms\n",
      "33:\tlearn: 0.1573795\ttest: 0.4085668\tbest: 0.3709675 (16)\ttotal: 119ms\tremaining: 55.9ms\n",
      "34:\tlearn: 0.1547577\ttest: 0.4082023\tbest: 0.3709675 (16)\ttotal: 122ms\tremaining: 52.3ms\n",
      "35:\tlearn: 0.1516913\ttest: 0.4078318\tbest: 0.3709675 (16)\ttotal: 125ms\tremaining: 48.7ms\n",
      "36:\tlearn: 0.1472237\ttest: 0.4068175\tbest: 0.3709675 (16)\ttotal: 129ms\tremaining: 45.2ms\n",
      "37:\tlearn: 0.1414311\ttest: 0.4151660\tbest: 0.3709675 (16)\ttotal: 132ms\tremaining: 41.6ms\n",
      "38:\tlearn: 0.1389455\ttest: 0.4145702\tbest: 0.3709675 (16)\ttotal: 135ms\tremaining: 38ms\n",
      "39:\tlearn: 0.1339927\ttest: 0.4184066\tbest: 0.3709675 (16)\ttotal: 138ms\tremaining: 34.5ms\n",
      "40:\tlearn: 0.1312790\ttest: 0.4166729\tbest: 0.3709675 (16)\ttotal: 141ms\tremaining: 30.9ms\n",
      "41:\tlearn: 0.1284546\ttest: 0.4192720\tbest: 0.3709675 (16)\ttotal: 144ms\tremaining: 27.4ms\n",
      "42:\tlearn: 0.1267211\ttest: 0.4172416\tbest: 0.3709675 (16)\ttotal: 147ms\tremaining: 23.9ms\n",
      "43:\tlearn: 0.1246698\ttest: 0.4153314\tbest: 0.3709675 (16)\ttotal: 157ms\tremaining: 21.4ms\n",
      "44:\tlearn: 0.1200521\ttest: 0.4182864\tbest: 0.3709675 (16)\ttotal: 161ms\tremaining: 17.8ms\n",
      "45:\tlearn: 0.1185064\ttest: 0.4222569\tbest: 0.3709675 (16)\ttotal: 164ms\tremaining: 14.3ms\n",
      "46:\tlearn: 0.1150078\ttest: 0.4269132\tbest: 0.3709675 (16)\ttotal: 168ms\tremaining: 10.7ms\n",
      "47:\tlearn: 0.1119339\ttest: 0.4300536\tbest: 0.3709675 (16)\ttotal: 171ms\tremaining: 7.13ms\n",
      "48:\tlearn: 0.1098086\ttest: 0.4297528\tbest: 0.3709675 (16)\ttotal: 174ms\tremaining: 3.56ms\n",
      "49:\tlearn: 0.1073043\ttest: 0.4279506\tbest: 0.3709675 (16)\ttotal: 177ms\tremaining: 0us\n",
      "\n",
      "bestTest = 0.3709674598\n",
      "bestIteration = 16\n",
      "\n",
      "0:\tlearn: 0.6854204\ttest: 0.6853667\tbest: 0.6853667 (0)\ttotal: 7.62ms\tremaining: 373ms\n",
      "1:\tlearn: 0.6779551\ttest: 0.6777003\tbest: 0.6777003 (1)\ttotal: 13ms\tremaining: 312ms\n",
      "2:\tlearn: 0.6711989\ttest: 0.6708027\tbest: 0.6708027 (2)\ttotal: 18ms\tremaining: 283ms\n",
      "3:\tlearn: 0.6650357\ttest: 0.6643938\tbest: 0.6643938 (3)\ttotal: 21.1ms\tremaining: 243ms\n",
      "4:\tlearn: 0.6591879\ttest: 0.6584594\tbest: 0.6584594 (4)\ttotal: 26.4ms\tremaining: 237ms\n",
      "5:\tlearn: 0.6528619\ttest: 0.6520883\tbest: 0.6520883 (5)\ttotal: 31.9ms\tremaining: 234ms\n",
      "6:\tlearn: 0.6474339\ttest: 0.6463928\tbest: 0.6463928 (6)\ttotal: 35.2ms\tremaining: 216ms\n",
      "7:\tlearn: 0.6411131\ttest: 0.6400721\tbest: 0.6400721 (7)\ttotal: 41.2ms\tremaining: 216ms\n",
      "8:\tlearn: 0.6352026\ttest: 0.6341581\tbest: 0.6341581 (8)\ttotal: 46.5ms\tremaining: 212ms\n",
      "9:\tlearn: 0.6298446\ttest: 0.6287421\tbest: 0.6287421 (9)\ttotal: 51.8ms\tremaining: 207ms\n",
      "10:\tlearn: 0.6243315\ttest: 0.6230943\tbest: 0.6230943 (10)\ttotal: 57.3ms\tremaining: 203ms\n",
      "11:\tlearn: 0.6189009\ttest: 0.6177655\tbest: 0.6177655 (11)\ttotal: 62.7ms\tremaining: 198ms\n",
      "12:\tlearn: 0.6136218\ttest: 0.6122978\tbest: 0.6122978 (12)\ttotal: 67.9ms\tremaining: 193ms\n",
      "13:\tlearn: 0.6091071\ttest: 0.6077399\tbest: 0.6077399 (13)\ttotal: 77.6ms\tremaining: 200ms\n",
      "14:\tlearn: 0.6037884\ttest: 0.6023799\tbest: 0.6023799 (14)\ttotal: 83.3ms\tremaining: 194ms\n",
      "15:\tlearn: 0.5979649\ttest: 0.5965939\tbest: 0.5965939 (15)\ttotal: 88.8ms\tremaining: 189ms\n",
      "16:\tlearn: 0.5928896\ttest: 0.5914684\tbest: 0.5914684 (16)\ttotal: 93.9ms\tremaining: 182ms\n",
      "17:\tlearn: 0.5881617\ttest: 0.5867770\tbest: 0.5867770 (17)\ttotal: 99.6ms\tremaining: 177ms\n",
      "18:\tlearn: 0.5838795\ttest: 0.5823335\tbest: 0.5823335 (18)\ttotal: 105ms\tremaining: 172ms\n",
      "19:\tlearn: 0.5792297\ttest: 0.5777325\tbest: 0.5777325 (19)\ttotal: 111ms\tremaining: 166ms\n",
      "20:\tlearn: 0.5747921\ttest: 0.5733413\tbest: 0.5733413 (20)\ttotal: 117ms\tremaining: 161ms\n",
      "21:\tlearn: 0.5704374\ttest: 0.5690119\tbest: 0.5690119 (21)\ttotal: 122ms\tremaining: 155ms\n",
      "22:\tlearn: 0.5664854\ttest: 0.5653658\tbest: 0.5653658 (22)\ttotal: 128ms\tremaining: 150ms\n",
      "23:\tlearn: 0.5624100\ttest: 0.5615502\tbest: 0.5615502 (23)\ttotal: 133ms\tremaining: 144ms\n",
      "24:\tlearn: 0.5586310\ttest: 0.5577395\tbest: 0.5577395 (24)\ttotal: 138ms\tremaining: 138ms\n",
      "25:\tlearn: 0.5549719\ttest: 0.5539869\tbest: 0.5539869 (25)\ttotal: 143ms\tremaining: 132ms\n",
      "26:\tlearn: 0.5512733\ttest: 0.5505808\tbest: 0.5505808 (26)\ttotal: 148ms\tremaining: 126ms\n",
      "27:\tlearn: 0.5476699\ttest: 0.5470948\tbest: 0.5470948 (27)\ttotal: 154ms\tremaining: 121ms\n",
      "28:\tlearn: 0.5439782\ttest: 0.5438239\tbest: 0.5438239 (28)\ttotal: 159ms\tremaining: 115ms\n",
      "29:\tlearn: 0.5402658\ttest: 0.5400291\tbest: 0.5400291 (29)\ttotal: 164ms\tremaining: 110ms\n",
      "30:\tlearn: 0.5377897\ttest: 0.5373754\tbest: 0.5373754 (30)\ttotal: 166ms\tremaining: 102ms\n",
      "31:\tlearn: 0.5343544\ttest: 0.5339685\tbest: 0.5339685 (31)\ttotal: 171ms\tremaining: 96.3ms\n",
      "32:\tlearn: 0.5310941\ttest: 0.5307276\tbest: 0.5307276 (32)\ttotal: 179ms\tremaining: 92.5ms\n",
      "33:\tlearn: 0.5279037\ttest: 0.5275967\tbest: 0.5275967 (33)\ttotal: 185ms\tremaining: 86.9ms\n",
      "34:\tlearn: 0.5245097\ttest: 0.5242058\tbest: 0.5242058 (34)\ttotal: 190ms\tremaining: 81.3ms\n",
      "35:\tlearn: 0.5214573\ttest: 0.5211859\tbest: 0.5211859 (35)\ttotal: 195ms\tremaining: 75.8ms\n",
      "36:\tlearn: 0.5185131\ttest: 0.5188248\tbest: 0.5188248 (36)\ttotal: 200ms\tremaining: 70.4ms\n",
      "37:\tlearn: 0.5153756\ttest: 0.5157406\tbest: 0.5157406 (37)\ttotal: 206ms\tremaining: 65ms\n",
      "38:\tlearn: 0.5123830\ttest: 0.5128253\tbest: 0.5128253 (38)\ttotal: 211ms\tremaining: 59.5ms\n",
      "39:\tlearn: 0.5095856\ttest: 0.5101036\tbest: 0.5101036 (39)\ttotal: 216ms\tremaining: 54ms\n",
      "40:\tlearn: 0.5066611\ttest: 0.5072797\tbest: 0.5072797 (40)\ttotal: 221ms\tremaining: 48.6ms\n",
      "41:\tlearn: 0.5042090\ttest: 0.5049286\tbest: 0.5049286 (41)\ttotal: 227ms\tremaining: 43.2ms\n",
      "42:\tlearn: 0.5017799\ttest: 0.5025675\tbest: 0.5025675 (42)\ttotal: 232ms\tremaining: 37.8ms\n",
      "43:\tlearn: 0.4993138\ttest: 0.5002161\tbest: 0.5002161 (43)\ttotal: 238ms\tremaining: 32.4ms\n",
      "44:\tlearn: 0.4969406\ttest: 0.4978587\tbest: 0.4978587 (44)\ttotal: 243ms\tremaining: 27ms\n",
      "45:\tlearn: 0.4944322\ttest: 0.4953242\tbest: 0.4953242 (45)\ttotal: 249ms\tremaining: 21.7ms\n",
      "46:\tlearn: 0.4921911\ttest: 0.4934057\tbest: 0.4934057 (46)\ttotal: 254ms\tremaining: 16.2ms\n",
      "47:\tlearn: 0.4896435\ttest: 0.4910229\tbest: 0.4910229 (47)\ttotal: 259ms\tremaining: 10.8ms\n",
      "48:\tlearn: 0.4868527\ttest: 0.4883207\tbest: 0.4883207 (48)\ttotal: 264ms\tremaining: 5.4ms\n",
      "49:\tlearn: 0.4848732\ttest: 0.4862559\tbest: 0.4862559 (49)\ttotal: 273ms\tremaining: 0us\n",
      "\n",
      "bestTest = 0.4862558987\n",
      "bestIteration = 49\n",
      "\n",
      "0:\tlearn: 0.6559558\ttest: 0.6556931\tbest: 0.6556931 (0)\ttotal: 6.32ms\tremaining: 310ms\n",
      "1:\tlearn: 0.6289669\ttest: 0.6272956\tbest: 0.6272956 (1)\ttotal: 8.52ms\tremaining: 205ms\n",
      "2:\tlearn: 0.6001753\ttest: 0.5981264\tbest: 0.5981264 (2)\ttotal: 13.7ms\tremaining: 215ms\n",
      "3:\tlearn: 0.5826480\ttest: 0.5795349\tbest: 0.5795349 (3)\ttotal: 14.9ms\tremaining: 171ms\n",
      "4:\tlearn: 0.5603436\ttest: 0.5585521\tbest: 0.5585521 (4)\ttotal: 20.1ms\tremaining: 181ms\n",
      "5:\tlearn: 0.5412552\ttest: 0.5402409\tbest: 0.5402409 (5)\ttotal: 25.1ms\tremaining: 184ms\n",
      "6:\tlearn: 0.5259796\ttest: 0.5245903\tbest: 0.5245903 (6)\ttotal: 31.4ms\tremaining: 193ms\n",
      "7:\tlearn: 0.5112402\ttest: 0.5107495\tbest: 0.5107495 (7)\ttotal: 36.9ms\tremaining: 194ms\n",
      "8:\tlearn: 0.4972969\ttest: 0.4975499\tbest: 0.4975499 (8)\ttotal: 42.4ms\tremaining: 193ms\n",
      "9:\tlearn: 0.4851857\ttest: 0.4861733\tbest: 0.4861733 (9)\ttotal: 48.2ms\tremaining: 193ms\n",
      "10:\tlearn: 0.4753964\ttest: 0.4761354\tbest: 0.4761354 (10)\ttotal: 53.5ms\tremaining: 190ms\n",
      "11:\tlearn: 0.4662707\ttest: 0.4676718\tbest: 0.4676718 (11)\ttotal: 58.4ms\tremaining: 185ms\n",
      "12:\tlearn: 0.4601003\ttest: 0.4612707\tbest: 0.4612707 (12)\ttotal: 60.5ms\tremaining: 172ms\n",
      "13:\tlearn: 0.4523015\ttest: 0.4558323\tbest: 0.4558323 (13)\ttotal: 65.6ms\tremaining: 169ms\n",
      "14:\tlearn: 0.4461677\ttest: 0.4494557\tbest: 0.4494557 (14)\ttotal: 70.9ms\tremaining: 165ms\n",
      "15:\tlearn: 0.4388034\ttest: 0.4427938\tbest: 0.4427938 (15)\ttotal: 76.2ms\tremaining: 162ms\n",
      "16:\tlearn: 0.4329113\ttest: 0.4383993\tbest: 0.4383993 (16)\ttotal: 81.4ms\tremaining: 158ms\n",
      "17:\tlearn: 0.4277781\ttest: 0.4343217\tbest: 0.4343217 (17)\ttotal: 86.6ms\tremaining: 154ms\n",
      "18:\tlearn: 0.4229961\ttest: 0.4299906\tbest: 0.4299906 (18)\ttotal: 97ms\tremaining: 158ms\n",
      "19:\tlearn: 0.4190192\ttest: 0.4263476\tbest: 0.4263476 (19)\ttotal: 103ms\tremaining: 154ms\n",
      "20:\tlearn: 0.4140781\ttest: 0.4227658\tbest: 0.4227658 (20)\ttotal: 108ms\tremaining: 149ms\n",
      "21:\tlearn: 0.4102540\ttest: 0.4191161\tbest: 0.4191161 (21)\ttotal: 113ms\tremaining: 144ms\n",
      "22:\tlearn: 0.4063114\ttest: 0.4161022\tbest: 0.4161022 (22)\ttotal: 118ms\tremaining: 139ms\n",
      "23:\tlearn: 0.4023677\ttest: 0.4135388\tbest: 0.4135388 (23)\ttotal: 124ms\tremaining: 134ms\n",
      "24:\tlearn: 0.3991962\ttest: 0.4109557\tbest: 0.4109557 (24)\ttotal: 129ms\tremaining: 129ms\n",
      "25:\tlearn: 0.3965271\ttest: 0.4092080\tbest: 0.4092080 (25)\ttotal: 134ms\tremaining: 124ms\n",
      "26:\tlearn: 0.3924616\ttest: 0.4063102\tbest: 0.4063102 (26)\ttotal: 140ms\tremaining: 119ms\n",
      "27:\tlearn: 0.3895231\ttest: 0.4041280\tbest: 0.4041280 (27)\ttotal: 145ms\tremaining: 114ms\n",
      "28:\tlearn: 0.3865880\ttest: 0.4032738\tbest: 0.4032738 (28)\ttotal: 151ms\tremaining: 109ms\n",
      "29:\tlearn: 0.3842057\ttest: 0.4016617\tbest: 0.4016617 (29)\ttotal: 156ms\tremaining: 104ms\n",
      "30:\tlearn: 0.3813025\ttest: 0.4002679\tbest: 0.4002679 (30)\ttotal: 161ms\tremaining: 98.8ms\n",
      "31:\tlearn: 0.3790213\ttest: 0.3990417\tbest: 0.3990417 (31)\ttotal: 167ms\tremaining: 93.8ms\n",
      "32:\tlearn: 0.3765310\ttest: 0.3972887\tbest: 0.3972887 (32)\ttotal: 173ms\tremaining: 89ms\n",
      "33:\tlearn: 0.3750988\ttest: 0.3969550\tbest: 0.3969550 (33)\ttotal: 199ms\tremaining: 93.7ms\n",
      "34:\tlearn: 0.3732037\ttest: 0.3960105\tbest: 0.3960105 (34)\ttotal: 215ms\tremaining: 92.2ms\n",
      "35:\tlearn: 0.3711997\ttest: 0.3948318\tbest: 0.3948318 (35)\ttotal: 222ms\tremaining: 86.3ms\n",
      "36:\tlearn: 0.3698043\ttest: 0.3939957\tbest: 0.3939957 (36)\ttotal: 227ms\tremaining: 79.9ms\n",
      "37:\tlearn: 0.3677753\ttest: 0.3926010\tbest: 0.3926010 (37)\ttotal: 233ms\tremaining: 73.5ms\n",
      "38:\tlearn: 0.3662302\ttest: 0.3919246\tbest: 0.3919246 (38)\ttotal: 238ms\tremaining: 67.1ms\n",
      "39:\tlearn: 0.3650196\ttest: 0.3914951\tbest: 0.3914951 (39)\ttotal: 243ms\tremaining: 60.9ms\n",
      "40:\tlearn: 0.3636031\ttest: 0.3908699\tbest: 0.3908699 (40)\ttotal: 295ms\tremaining: 64.7ms\n",
      "41:\tlearn: 0.3619823\ttest: 0.3903243\tbest: 0.3903243 (41)\ttotal: 301ms\tremaining: 57.3ms\n",
      "42:\tlearn: 0.3604059\ttest: 0.3896143\tbest: 0.3896143 (42)\ttotal: 306ms\tremaining: 49.9ms\n",
      "43:\tlearn: 0.3587297\ttest: 0.3892951\tbest: 0.3892951 (43)\ttotal: 312ms\tremaining: 42.5ms\n",
      "44:\tlearn: 0.3578001\ttest: 0.3886431\tbest: 0.3886431 (44)\ttotal: 317ms\tremaining: 35.3ms\n",
      "45:\tlearn: 0.3572818\ttest: 0.3881899\tbest: 0.3881899 (45)\ttotal: 319ms\tremaining: 27.8ms\n",
      "46:\tlearn: 0.3554565\ttest: 0.3871192\tbest: 0.3871192 (46)\ttotal: 326ms\tremaining: 20.8ms\n",
      "47:\tlearn: 0.3546414\ttest: 0.3868492\tbest: 0.3868492 (47)\ttotal: 328ms\tremaining: 13.7ms\n",
      "48:\tlearn: 0.3534360\ttest: 0.3863927\tbest: 0.3863927 (48)\ttotal: 334ms\tremaining: 6.81ms\n",
      "49:\tlearn: 0.3522872\ttest: 0.3854972\tbest: 0.3854972 (49)\ttotal: 340ms\tremaining: 0us\n",
      "\n",
      "bestTest = 0.3854972219\n",
      "bestIteration = 49\n",
      "\n",
      "0:\tlearn: 0.6223184\ttest: 0.6218277\tbest: 0.6218277 (0)\ttotal: 56.4ms\tremaining: 2.76s\n",
      "1:\tlearn: 0.5748823\ttest: 0.5727640\tbest: 0.5727640 (1)\ttotal: 62.3ms\tremaining: 1.5s\n",
      "2:\tlearn: 0.5373233\ttest: 0.5350520\tbest: 0.5350520 (2)\ttotal: 68.5ms\tremaining: 1.07s\n",
      "3:\tlearn: 0.5094425\ttest: 0.5061181\tbest: 0.5061181 (3)\ttotal: 71.7ms\tremaining: 825ms\n",
      "4:\tlearn: 0.4842082\ttest: 0.4836025\tbest: 0.4836025 (4)\ttotal: 76.9ms\tremaining: 692ms\n",
      "5:\tlearn: 0.4638536\ttest: 0.4646880\tbest: 0.4646880 (5)\ttotal: 82.2ms\tremaining: 603ms\n",
      "6:\tlearn: 0.4511825\ttest: 0.4527970\tbest: 0.4527970 (6)\ttotal: 85.4ms\tremaining: 525ms\n",
      "7:\tlearn: 0.4363230\ttest: 0.4393124\tbest: 0.4393124 (7)\ttotal: 92.2ms\tremaining: 484ms\n",
      "8:\tlearn: 0.4261391\ttest: 0.4297418\tbest: 0.4297418 (8)\ttotal: 98.1ms\tremaining: 447ms\n",
      "9:\tlearn: 0.4184045\ttest: 0.4231887\tbest: 0.4231887 (9)\ttotal: 155ms\tremaining: 620ms\n",
      "10:\tlearn: 0.4121802\ttest: 0.4175872\tbest: 0.4175872 (10)\ttotal: 161ms\tremaining: 571ms\n",
      "11:\tlearn: 0.4056980\ttest: 0.4124034\tbest: 0.4124034 (11)\ttotal: 167ms\tremaining: 528ms\n",
      "12:\tlearn: 0.3990202\ttest: 0.4072398\tbest: 0.4072398 (12)\ttotal: 173ms\tremaining: 492ms\n",
      "13:\tlearn: 0.3946752\ttest: 0.4039505\tbest: 0.4039505 (13)\ttotal: 179ms\tremaining: 460ms\n",
      "14:\tlearn: 0.3889424\ttest: 0.4016764\tbest: 0.4016764 (14)\ttotal: 184ms\tremaining: 430ms\n",
      "15:\tlearn: 0.3816925\ttest: 0.3972055\tbest: 0.3972055 (15)\ttotal: 190ms\tremaining: 403ms\n",
      "16:\tlearn: 0.3771834\ttest: 0.3952373\tbest: 0.3952373 (16)\ttotal: 195ms\tremaining: 379ms\n",
      "17:\tlearn: 0.3723072\ttest: 0.3943411\tbest: 0.3943411 (17)\ttotal: 254ms\tremaining: 452ms\n",
      "18:\tlearn: 0.3691788\ttest: 0.3923069\tbest: 0.3923069 (18)\ttotal: 260ms\tremaining: 424ms\n",
      "19:\tlearn: 0.3679305\ttest: 0.3906617\tbest: 0.3906617 (19)\ttotal: 261ms\tremaining: 392ms\n",
      "20:\tlearn: 0.3641155\ttest: 0.3881065\tbest: 0.3881065 (20)\ttotal: 267ms\tremaining: 369ms\n",
      "21:\tlearn: 0.3615081\ttest: 0.3866208\tbest: 0.3866208 (21)\ttotal: 272ms\tremaining: 347ms\n",
      "22:\tlearn: 0.3580953\ttest: 0.3855719\tbest: 0.3855719 (22)\ttotal: 278ms\tremaining: 326ms\n",
      "23:\tlearn: 0.3551417\ttest: 0.3863445\tbest: 0.3855719 (22)\ttotal: 283ms\tremaining: 307ms\n",
      "24:\tlearn: 0.3510071\ttest: 0.3859974\tbest: 0.3855719 (22)\ttotal: 289ms\tremaining: 289ms\n",
      "25:\tlearn: 0.3487501\ttest: 0.3860172\tbest: 0.3855719 (22)\ttotal: 294ms\tremaining: 272ms\n",
      "26:\tlearn: 0.3477229\ttest: 0.3855978\tbest: 0.3855719 (22)\ttotal: 352ms\tremaining: 300ms\n",
      "27:\tlearn: 0.3454770\ttest: 0.3857712\tbest: 0.3855719 (22)\ttotal: 360ms\tremaining: 283ms\n",
      "28:\tlearn: 0.3422612\ttest: 0.3837239\tbest: 0.3837239 (28)\ttotal: 368ms\tremaining: 266ms\n",
      "29:\tlearn: 0.3398886\ttest: 0.3837419\tbest: 0.3837239 (28)\ttotal: 376ms\tremaining: 251ms\n",
      "30:\tlearn: 0.3381730\ttest: 0.3833888\tbest: 0.3833888 (30)\ttotal: 383ms\tremaining: 235ms\n",
      "31:\tlearn: 0.3367491\ttest: 0.3838321\tbest: 0.3833888 (30)\ttotal: 390ms\tremaining: 219ms\n",
      "32:\tlearn: 0.3345999\ttest: 0.3833161\tbest: 0.3833161 (32)\ttotal: 396ms\tremaining: 204ms\n",
      "33:\tlearn: 0.3331678\ttest: 0.3824615\tbest: 0.3824615 (33)\ttotal: 454ms\tremaining: 214ms\n",
      "34:\tlearn: 0.3308963\ttest: 0.3820013\tbest: 0.3820013 (34)\ttotal: 461ms\tremaining: 198ms\n",
      "35:\tlearn: 0.3286741\ttest: 0.3830464\tbest: 0.3820013 (34)\ttotal: 467ms\tremaining: 182ms\n",
      "36:\tlearn: 0.3262429\ttest: 0.3843208\tbest: 0.3820013 (34)\ttotal: 473ms\tremaining: 166ms\n",
      "37:\tlearn: 0.3246413\ttest: 0.3835036\tbest: 0.3820013 (34)\ttotal: 479ms\tremaining: 151ms\n",
      "38:\tlearn: 0.3235388\ttest: 0.3828805\tbest: 0.3820013 (34)\ttotal: 484ms\tremaining: 137ms\n",
      "39:\tlearn: 0.3229035\ttest: 0.3826078\tbest: 0.3820013 (34)\ttotal: 490ms\tremaining: 122ms\n",
      "40:\tlearn: 0.3212555\ttest: 0.3827489\tbest: 0.3820013 (34)\ttotal: 495ms\tremaining: 109ms\n",
      "41:\tlearn: 0.3197830\ttest: 0.3826934\tbest: 0.3820013 (34)\ttotal: 553ms\tremaining: 105ms\n",
      "42:\tlearn: 0.3188788\ttest: 0.3822212\tbest: 0.3820013 (34)\ttotal: 559ms\tremaining: 91.1ms\n",
      "43:\tlearn: 0.3183414\ttest: 0.3820654\tbest: 0.3820013 (34)\ttotal: 562ms\tremaining: 76.7ms\n",
      "44:\tlearn: 0.3169910\ttest: 0.3834732\tbest: 0.3820013 (34)\ttotal: 568ms\tremaining: 63.1ms\n",
      "45:\tlearn: 0.3150524\ttest: 0.3836790\tbest: 0.3820013 (34)\ttotal: 574ms\tremaining: 49.9ms\n",
      "46:\tlearn: 0.3150472\ttest: 0.3836925\tbest: 0.3820013 (34)\ttotal: 575ms\tremaining: 36.7ms\n",
      "47:\tlearn: 0.3140755\ttest: 0.3836559\tbest: 0.3820013 (34)\ttotal: 580ms\tremaining: 24.2ms\n",
      "48:\tlearn: 0.3128907\ttest: 0.3832332\tbest: 0.3820013 (34)\ttotal: 586ms\tremaining: 12ms\n",
      "49:\tlearn: 0.3109278\ttest: 0.3839799\tbest: 0.3820013 (34)\ttotal: 592ms\tremaining: 0us\n",
      "\n",
      "bestTest = 0.3820013431\n",
      "bestIteration = 34\n",
      "\n",
      "0:\tlearn: 0.4144436\ttest: 0.4155586\tbest: 0.4155586 (0)\ttotal: 58.9ms\tremaining: 2.89s\n",
      "1:\tlearn: 0.3851125\ttest: 0.4049910\tbest: 0.4049910 (1)\ttotal: 64.6ms\tremaining: 1.55s\n",
      "2:\tlearn: 0.3536142\ttest: 0.4181769\tbest: 0.4049910 (1)\ttotal: 70.7ms\tremaining: 1.11s\n",
      "3:\tlearn: 0.3422123\ttest: 0.4088627\tbest: 0.4049910 (1)\ttotal: 76.2ms\tremaining: 876ms\n",
      "4:\tlearn: 0.3237043\ttest: 0.4353783\tbest: 0.4049910 (1)\ttotal: 81.9ms\tremaining: 737ms\n",
      "5:\tlearn: 0.3161060\ttest: 0.4435723\tbest: 0.4049910 (1)\ttotal: 87.2ms\tremaining: 639ms\n",
      "6:\tlearn: 0.3080009\ttest: 0.4406877\tbest: 0.4049910 (1)\ttotal: 92.7ms\tremaining: 569ms\n",
      "7:\tlearn: 0.2922173\ttest: 0.4544255\tbest: 0.4049910 (1)\ttotal: 98.2ms\tremaining: 515ms\n",
      "8:\tlearn: 0.2834089\ttest: 0.4553044\tbest: 0.4049910 (1)\ttotal: 154ms\tremaining: 702ms\n",
      "9:\tlearn: 0.2620863\ttest: 0.4415626\tbest: 0.4049910 (1)\ttotal: 160ms\tremaining: 641ms\n",
      "10:\tlearn: 0.2550158\ttest: 0.4379031\tbest: 0.4049910 (1)\ttotal: 166ms\tremaining: 589ms\n",
      "11:\tlearn: 0.2486624\ttest: 0.4424805\tbest: 0.4049910 (1)\ttotal: 171ms\tremaining: 543ms\n",
      "12:\tlearn: 0.2427914\ttest: 0.4376988\tbest: 0.4049910 (1)\ttotal: 177ms\tremaining: 504ms\n",
      "13:\tlearn: 0.2335628\ttest: 0.4321277\tbest: 0.4049910 (1)\ttotal: 183ms\tremaining: 470ms\n",
      "14:\tlearn: 0.2213894\ttest: 0.4221671\tbest: 0.4049910 (1)\ttotal: 188ms\tremaining: 439ms\n",
      "15:\tlearn: 0.2166221\ttest: 0.4193346\tbest: 0.4049910 (1)\ttotal: 194ms\tremaining: 412ms\n",
      "16:\tlearn: 0.2095590\ttest: 0.4178947\tbest: 0.4049910 (1)\ttotal: 252ms\tremaining: 489ms\n",
      "17:\tlearn: 0.1965669\ttest: 0.4213788\tbest: 0.4049910 (1)\ttotal: 259ms\tremaining: 460ms\n",
      "18:\tlearn: 0.1893949\ttest: 0.4095318\tbest: 0.4049910 (1)\ttotal: 265ms\tremaining: 433ms\n",
      "19:\tlearn: 0.1832699\ttest: 0.4103338\tbest: 0.4049910 (1)\ttotal: 271ms\tremaining: 407ms\n",
      "20:\tlearn: 0.1791974\ttest: 0.4109223\tbest: 0.4049910 (1)\ttotal: 277ms\tremaining: 383ms\n",
      "21:\tlearn: 0.1752948\ttest: 0.4094344\tbest: 0.4049910 (1)\ttotal: 284ms\tremaining: 362ms\n",
      "22:\tlearn: 0.1679216\ttest: 0.4179650\tbest: 0.4049910 (1)\ttotal: 291ms\tremaining: 342ms\n",
      "23:\tlearn: 0.1623784\ttest: 0.4256754\tbest: 0.4049910 (1)\ttotal: 297ms\tremaining: 322ms\n",
      "24:\tlearn: 0.1566009\ttest: 0.4280168\tbest: 0.4049910 (1)\ttotal: 361ms\tremaining: 361ms\n",
      "25:\tlearn: 0.1509531\ttest: 0.4317494\tbest: 0.4049910 (1)\ttotal: 370ms\tremaining: 342ms\n",
      "26:\tlearn: 0.1476544\ttest: 0.4281654\tbest: 0.4049910 (1)\ttotal: 380ms\tremaining: 323ms\n",
      "27:\tlearn: 0.1440066\ttest: 0.4300133\tbest: 0.4049910 (1)\ttotal: 389ms\tremaining: 305ms\n",
      "28:\tlearn: 0.1393422\ttest: 0.4240524\tbest: 0.4049910 (1)\ttotal: 397ms\tremaining: 288ms\n",
      "29:\tlearn: 0.1337873\ttest: 0.4267295\tbest: 0.4049910 (1)\ttotal: 456ms\tremaining: 304ms\n",
      "30:\tlearn: 0.1314977\ttest: 0.4279885\tbest: 0.4049910 (1)\ttotal: 465ms\tremaining: 285ms\n",
      "31:\tlearn: 0.1289951\ttest: 0.4233215\tbest: 0.4049910 (1)\ttotal: 474ms\tremaining: 267ms\n",
      "32:\tlearn: 0.1261634\ttest: 0.4279983\tbest: 0.4049910 (1)\ttotal: 483ms\tremaining: 249ms\n",
      "33:\tlearn: 0.1224034\ttest: 0.4296333\tbest: 0.4049910 (1)\ttotal: 491ms\tremaining: 231ms\n",
      "34:\tlearn: 0.1199379\ttest: 0.4323962\tbest: 0.4049910 (1)\ttotal: 551ms\tremaining: 236ms\n",
      "35:\tlearn: 0.1166156\ttest: 0.4329489\tbest: 0.4049910 (1)\ttotal: 560ms\tremaining: 218ms\n",
      "36:\tlearn: 0.1140208\ttest: 0.4303683\tbest: 0.4049910 (1)\ttotal: 568ms\tremaining: 200ms\n",
      "37:\tlearn: 0.1130556\ttest: 0.4314919\tbest: 0.4049910 (1)\ttotal: 576ms\tremaining: 182ms\n",
      "38:\tlearn: 0.1091475\ttest: 0.4380713\tbest: 0.4049910 (1)\ttotal: 583ms\tremaining: 164ms\n",
      "39:\tlearn: 0.1071176\ttest: 0.4362978\tbest: 0.4049910 (1)\ttotal: 588ms\tremaining: 147ms\n",
      "40:\tlearn: 0.1034034\ttest: 0.4369109\tbest: 0.4049910 (1)\ttotal: 593ms\tremaining: 130ms\n",
      "41:\tlearn: 0.1006457\ttest: 0.4346625\tbest: 0.4049910 (1)\ttotal: 652ms\tremaining: 124ms\n",
      "42:\tlearn: 0.0987531\ttest: 0.4375694\tbest: 0.4049910 (1)\ttotal: 660ms\tremaining: 107ms\n",
      "43:\tlearn: 0.0937179\ttest: 0.4487260\tbest: 0.4049910 (1)\ttotal: 667ms\tremaining: 91ms\n",
      "44:\tlearn: 0.0920763\ttest: 0.4490189\tbest: 0.4049910 (1)\ttotal: 673ms\tremaining: 74.8ms\n",
      "45:\tlearn: 0.0887284\ttest: 0.4548931\tbest: 0.4049910 (1)\ttotal: 679ms\tremaining: 59ms\n",
      "46:\tlearn: 0.0864242\ttest: 0.4570906\tbest: 0.4049910 (1)\ttotal: 684ms\tremaining: 43.7ms\n",
      "47:\tlearn: 0.0842282\ttest: 0.4591558\tbest: 0.4049910 (1)\ttotal: 690ms\tremaining: 28.8ms\n",
      "48:\tlearn: 0.0805786\ttest: 0.4642423\tbest: 0.4049910 (1)\ttotal: 747ms\tremaining: 15.2ms\n",
      "49:\tlearn: 0.0791833\ttest: 0.4654762\tbest: 0.4049910 (1)\ttotal: 754ms\tremaining: 0us\n",
      "\n",
      "bestTest = 0.4049909759\n",
      "bestIteration = 1\n",
      "\n",
      "0:\tlearn: 0.6853979\ttest: 0.6854859\tbest: 0.6854859 (0)\ttotal: 13.6ms\tremaining: 667ms\n",
      "1:\tlearn: 0.6776730\ttest: 0.6777309\tbest: 0.6777309 (1)\ttotal: 24.2ms\tremaining: 580ms\n",
      "2:\tlearn: 0.6702636\ttest: 0.6702540\tbest: 0.6702540 (2)\ttotal: 35.2ms\tremaining: 551ms\n",
      "3:\tlearn: 0.6647244\ttest: 0.6644067\tbest: 0.6644067 (3)\ttotal: 36.4ms\tremaining: 419ms\n",
      "4:\tlearn: 0.6588299\ttest: 0.6584295\tbest: 0.6584295 (4)\ttotal: 101ms\tremaining: 906ms\n",
      "5:\tlearn: 0.6521819\ttest: 0.6517303\tbest: 0.6517303 (5)\ttotal: 112ms\tremaining: 824ms\n",
      "6:\tlearn: 0.6452064\ttest: 0.6448445\tbest: 0.6448445 (6)\ttotal: 124ms\tremaining: 763ms\n",
      "7:\tlearn: 0.6391180\ttest: 0.6388074\tbest: 0.6388074 (7)\ttotal: 137ms\tremaining: 718ms\n",
      "8:\tlearn: 0.6327943\ttest: 0.6325082\tbest: 0.6325082 (8)\ttotal: 200ms\tremaining: 910ms\n",
      "9:\tlearn: 0.6271635\ttest: 0.6269004\tbest: 0.6269004 (9)\ttotal: 211ms\tremaining: 843ms\n",
      "10:\tlearn: 0.6217482\ttest: 0.6215428\tbest: 0.6215428 (10)\ttotal: 222ms\tremaining: 786ms\n",
      "11:\tlearn: 0.6162621\ttest: 0.6160212\tbest: 0.6160212 (11)\ttotal: 233ms\tremaining: 739ms\n",
      "12:\tlearn: 0.6106840\ttest: 0.6107491\tbest: 0.6107491 (12)\ttotal: 295ms\tremaining: 841ms\n",
      "13:\tlearn: 0.6059963\ttest: 0.6060170\tbest: 0.6060170 (13)\ttotal: 299ms\tremaining: 769ms\n",
      "14:\tlearn: 0.5998924\ttest: 0.6000124\tbest: 0.6000124 (14)\ttotal: 309ms\tremaining: 722ms\n",
      "15:\tlearn: 0.5947246\ttest: 0.5948969\tbest: 0.5948969 (15)\ttotal: 320ms\tremaining: 679ms\n",
      "16:\tlearn: 0.5902234\ttest: 0.5903558\tbest: 0.5903558 (16)\ttotal: 323ms\tremaining: 627ms\n",
      "17:\tlearn: 0.5857381\ttest: 0.5857506\tbest: 0.5857506 (17)\ttotal: 334ms\tremaining: 594ms\n",
      "18:\tlearn: 0.5816571\ttest: 0.5816207\tbest: 0.5816207 (18)\ttotal: 340ms\tremaining: 554ms\n",
      "19:\tlearn: 0.5771747\ttest: 0.5774902\tbest: 0.5774902 (19)\ttotal: 398ms\tremaining: 597ms\n",
      "20:\tlearn: 0.5723205\ttest: 0.5728090\tbest: 0.5728090 (20)\ttotal: 409ms\tremaining: 565ms\n",
      "21:\tlearn: 0.5672100\ttest: 0.5678089\tbest: 0.5678089 (21)\ttotal: 419ms\tremaining: 533ms\n",
      "22:\tlearn: 0.5631868\ttest: 0.5642739\tbest: 0.5642739 (22)\ttotal: 429ms\tremaining: 503ms\n",
      "23:\tlearn: 0.5592726\ttest: 0.5606492\tbest: 0.5606492 (23)\ttotal: 439ms\tremaining: 475ms\n",
      "24:\tlearn: 0.5546305\ttest: 0.5561301\tbest: 0.5561301 (24)\ttotal: 449ms\tremaining: 449ms\n",
      "25:\tlearn: 0.5506853\ttest: 0.5522248\tbest: 0.5522248 (25)\ttotal: 459ms\tremaining: 424ms\n",
      "26:\tlearn: 0.5467696\ttest: 0.5487940\tbest: 0.5487940 (26)\ttotal: 469ms\tremaining: 399ms\n",
      "27:\tlearn: 0.5434078\ttest: 0.5454570\tbest: 0.5454570 (27)\ttotal: 479ms\tremaining: 376ms\n",
      "28:\tlearn: 0.5397859\ttest: 0.5418736\tbest: 0.5418736 (28)\ttotal: 492ms\tremaining: 357ms\n",
      "29:\tlearn: 0.5362726\ttest: 0.5383009\tbest: 0.5383009 (29)\ttotal: 503ms\tremaining: 335ms\n",
      "30:\tlearn: 0.5329570\ttest: 0.5351327\tbest: 0.5351327 (30)\ttotal: 512ms\tremaining: 314ms\n",
      "31:\tlearn: 0.5296423\ttest: 0.5319821\tbest: 0.5319821 (31)\ttotal: 522ms\tremaining: 294ms\n",
      "32:\tlearn: 0.5259641\ttest: 0.5285139\tbest: 0.5285139 (32)\ttotal: 532ms\tremaining: 274ms\n",
      "33:\tlearn: 0.5226783\ttest: 0.5253255\tbest: 0.5253255 (33)\ttotal: 542ms\tremaining: 255ms\n",
      "34:\tlearn: 0.5195080\ttest: 0.5223037\tbest: 0.5223037 (34)\ttotal: 551ms\tremaining: 236ms\n",
      "35:\tlearn: 0.5165303\ttest: 0.5195059\tbest: 0.5195059 (35)\ttotal: 564ms\tremaining: 220ms\n",
      "36:\tlearn: 0.5135404\ttest: 0.5168743\tbest: 0.5168743 (36)\ttotal: 575ms\tremaining: 202ms\n",
      "37:\tlearn: 0.5107884\ttest: 0.5143182\tbest: 0.5143182 (37)\ttotal: 587ms\tremaining: 185ms\n",
      "38:\tlearn: 0.5080324\ttest: 0.5116705\tbest: 0.5116705 (38)\ttotal: 597ms\tremaining: 169ms\n",
      "39:\tlearn: 0.5049976\ttest: 0.5088515\tbest: 0.5088515 (39)\ttotal: 609ms\tremaining: 152ms\n",
      "40:\tlearn: 0.5021008\ttest: 0.5060389\tbest: 0.5060389 (40)\ttotal: 624ms\tremaining: 137ms\n",
      "41:\tlearn: 0.4996280\ttest: 0.5037886\tbest: 0.5037886 (41)\ttotal: 637ms\tremaining: 121ms\n",
      "42:\tlearn: 0.4974051\ttest: 0.5015463\tbest: 0.5015463 (42)\ttotal: 640ms\tremaining: 104ms\n",
      "43:\tlearn: 0.4951114\ttest: 0.4993654\tbest: 0.4993654 (43)\ttotal: 650ms\tremaining: 88.6ms\n",
      "44:\tlearn: 0.4924081\ttest: 0.4968689\tbest: 0.4968689 (44)\ttotal: 659ms\tremaining: 73.3ms\n",
      "45:\tlearn: 0.4899275\ttest: 0.4945944\tbest: 0.4945944 (45)\ttotal: 669ms\tremaining: 58.2ms\n",
      "46:\tlearn: 0.4875986\ttest: 0.4924373\tbest: 0.4924373 (46)\ttotal: 679ms\tremaining: 43.4ms\n",
      "47:\tlearn: 0.4850501\ttest: 0.4900649\tbest: 0.4900649 (47)\ttotal: 694ms\tremaining: 28.9ms\n",
      "48:\tlearn: 0.4833963\ttest: 0.4883695\tbest: 0.4883695 (48)\ttotal: 696ms\tremaining: 14.2ms\n",
      "49:\tlearn: 0.4811421\ttest: 0.4864660\tbest: 0.4864660 (49)\ttotal: 706ms\tremaining: 0us\n",
      "\n",
      "bestTest = 0.4864659867\n",
      "bestIteration = 49\n",
      "\n",
      "0:\tlearn: 0.6558317\ttest: 0.6562712\tbest: 0.6562712 (0)\ttotal: 9.85ms\tremaining: 483ms\n",
      "1:\tlearn: 0.6242285\ttest: 0.6241229\tbest: 0.6241229 (1)\ttotal: 19.4ms\tremaining: 465ms\n",
      "2:\tlearn: 0.5967854\ttest: 0.5965233\tbest: 0.5965233 (2)\ttotal: 29.6ms\tremaining: 463ms\n",
      "3:\tlearn: 0.5802258\ttest: 0.5795106\tbest: 0.5795106 (3)\ttotal: 30.7ms\tremaining: 353ms\n",
      "4:\tlearn: 0.5577277\ttest: 0.5583388\tbest: 0.5583388 (4)\ttotal: 40.6ms\tremaining: 366ms\n",
      "5:\tlearn: 0.5367834\ttest: 0.5386777\tbest: 0.5386777 (5)\ttotal: 50.9ms\tremaining: 373ms\n",
      "6:\tlearn: 0.5191376\ttest: 0.5221180\tbest: 0.5221180 (6)\ttotal: 60.8ms\tremaining: 373ms\n",
      "7:\tlearn: 0.5047427\ttest: 0.5086453\tbest: 0.5086453 (7)\ttotal: 71ms\tremaining: 373ms\n",
      "8:\tlearn: 0.4903230\ttest: 0.4943112\tbest: 0.4943112 (8)\ttotal: 83.2ms\tremaining: 379ms\n",
      "9:\tlearn: 0.4779860\ttest: 0.4838113\tbest: 0.4838113 (9)\ttotal: 93.6ms\tremaining: 375ms\n",
      "10:\tlearn: 0.4685917\ttest: 0.4743581\tbest: 0.4743581 (10)\ttotal: 103ms\tremaining: 367ms\n",
      "11:\tlearn: 0.4582883\ttest: 0.4653795\tbest: 0.4653795 (11)\ttotal: 114ms\tremaining: 359ms\n",
      "12:\tlearn: 0.4492835\ttest: 0.4573455\tbest: 0.4573455 (12)\ttotal: 123ms\tremaining: 350ms\n",
      "13:\tlearn: 0.4423719\ttest: 0.4506195\tbest: 0.4506195 (13)\ttotal: 134ms\tremaining: 344ms\n",
      "14:\tlearn: 0.4354458\ttest: 0.4448880\tbest: 0.4448880 (14)\ttotal: 144ms\tremaining: 336ms\n",
      "15:\tlearn: 0.4289617\ttest: 0.4396596\tbest: 0.4396596 (15)\ttotal: 155ms\tremaining: 329ms\n",
      "16:\tlearn: 0.4227051\ttest: 0.4359089\tbest: 0.4359089 (16)\ttotal: 166ms\tremaining: 322ms\n",
      "17:\tlearn: 0.4161941\ttest: 0.4309766\tbest: 0.4309766 (17)\ttotal: 180ms\tremaining: 320ms\n",
      "18:\tlearn: 0.4108654\ttest: 0.4268953\tbest: 0.4268953 (18)\ttotal: 190ms\tremaining: 310ms\n",
      "19:\tlearn: 0.4066561\ttest: 0.4238674\tbest: 0.4238674 (19)\ttotal: 200ms\tremaining: 300ms\n",
      "20:\tlearn: 0.4039999\ttest: 0.4210875\tbest: 0.4210875 (20)\ttotal: 202ms\tremaining: 279ms\n",
      "21:\tlearn: 0.4000665\ttest: 0.4183815\tbest: 0.4183815 (21)\ttotal: 212ms\tremaining: 270ms\n",
      "22:\tlearn: 0.3952690\ttest: 0.4154669\tbest: 0.4154669 (22)\ttotal: 222ms\tremaining: 261ms\n",
      "23:\tlearn: 0.3910211\ttest: 0.4129994\tbest: 0.4129994 (23)\ttotal: 232ms\tremaining: 252ms\n",
      "24:\tlearn: 0.3873084\ttest: 0.4100852\tbest: 0.4100852 (24)\ttotal: 242ms\tremaining: 242ms\n",
      "25:\tlearn: 0.3840808\ttest: 0.4078264\tbest: 0.4078264 (25)\ttotal: 251ms\tremaining: 232ms\n",
      "26:\tlearn: 0.3806594\ttest: 0.4053028\tbest: 0.4053028 (26)\ttotal: 261ms\tremaining: 222ms\n",
      "27:\tlearn: 0.3782309\ttest: 0.4034841\tbest: 0.4034841 (27)\ttotal: 273ms\tremaining: 214ms\n",
      "28:\tlearn: 0.3756523\ttest: 0.4011732\tbest: 0.4011732 (28)\ttotal: 283ms\tremaining: 205ms\n",
      "29:\tlearn: 0.3731403\ttest: 0.3994547\tbest: 0.3994547 (29)\ttotal: 294ms\tremaining: 196ms\n",
      "30:\tlearn: 0.3705133\ttest: 0.3979441\tbest: 0.3979441 (30)\ttotal: 304ms\tremaining: 186ms\n",
      "31:\tlearn: 0.3677976\ttest: 0.3958734\tbest: 0.3958734 (31)\ttotal: 314ms\tremaining: 177ms\n",
      "32:\tlearn: 0.3650964\ttest: 0.3944252\tbest: 0.3944252 (32)\ttotal: 324ms\tremaining: 167ms\n",
      "33:\tlearn: 0.3630656\ttest: 0.3931320\tbest: 0.3931320 (33)\ttotal: 334ms\tremaining: 157ms\n",
      "34:\tlearn: 0.3605710\ttest: 0.3920861\tbest: 0.3920861 (34)\ttotal: 345ms\tremaining: 148ms\n",
      "35:\tlearn: 0.3589905\ttest: 0.3916836\tbest: 0.3916836 (35)\ttotal: 355ms\tremaining: 138ms\n",
      "36:\tlearn: 0.3556374\ttest: 0.3912915\tbest: 0.3912915 (36)\ttotal: 365ms\tremaining: 128ms\n",
      "37:\tlearn: 0.3534975\ttest: 0.3905719\tbest: 0.3905719 (37)\ttotal: 381ms\tremaining: 120ms\n",
      "38:\tlearn: 0.3503623\ttest: 0.3908736\tbest: 0.3905719 (37)\ttotal: 391ms\tremaining: 110ms\n",
      "39:\tlearn: 0.3497579\ttest: 0.3903959\tbest: 0.3903959 (39)\ttotal: 393ms\tremaining: 98.4ms\n",
      "40:\tlearn: 0.3479701\ttest: 0.3890241\tbest: 0.3890241 (40)\ttotal: 404ms\tremaining: 88.7ms\n",
      "41:\tlearn: 0.3460736\ttest: 0.3888359\tbest: 0.3888359 (41)\ttotal: 415ms\tremaining: 79ms\n",
      "42:\tlearn: 0.3437174\ttest: 0.3883314\tbest: 0.3883314 (42)\ttotal: 425ms\tremaining: 69.1ms\n",
      "43:\tlearn: 0.3427606\ttest: 0.3878720\tbest: 0.3878720 (43)\ttotal: 435ms\tremaining: 59.3ms\n",
      "44:\tlearn: 0.3406771\ttest: 0.3880194\tbest: 0.3878720 (43)\ttotal: 446ms\tremaining: 49.5ms\n",
      "45:\tlearn: 0.3386321\ttest: 0.3873902\tbest: 0.3873902 (45)\ttotal: 456ms\tremaining: 39.6ms\n",
      "46:\tlearn: 0.3379406\ttest: 0.3869881\tbest: 0.3869881 (46)\ttotal: 459ms\tremaining: 29.3ms\n",
      "47:\tlearn: 0.3361579\ttest: 0.3860857\tbest: 0.3860857 (47)\ttotal: 472ms\tremaining: 19.7ms\n",
      "48:\tlearn: 0.3346990\ttest: 0.3861240\tbest: 0.3860857 (47)\ttotal: 483ms\tremaining: 9.85ms\n",
      "49:\tlearn: 0.3327704\ttest: 0.3862414\tbest: 0.3860857 (47)\ttotal: 493ms\tremaining: 0us\n",
      "\n",
      "bestTest = 0.3860857266\n",
      "bestIteration = 47\n",
      "\n",
      "0:\tlearn: 0.6220391\ttest: 0.6229389\tbest: 0.6229389 (0)\ttotal: 10.2ms\tremaining: 498ms\n",
      "1:\tlearn: 0.5680196\ttest: 0.5706049\tbest: 0.5706049 (1)\ttotal: 20.3ms\tremaining: 488ms\n",
      "2:\tlearn: 0.5290865\ttest: 0.5311707\tbest: 0.5311707 (2)\ttotal: 31.4ms\tremaining: 492ms\n",
      "3:\tlearn: 0.5083838\ttest: 0.5096720\tbest: 0.5096720 (3)\ttotal: 33ms\tremaining: 379ms\n",
      "4:\tlearn: 0.4816739\ttest: 0.4861666\tbest: 0.4861666 (4)\ttotal: 43.6ms\tremaining: 393ms\n",
      "5:\tlearn: 0.4598174\ttest: 0.4679056\tbest: 0.4679056 (5)\ttotal: 53.2ms\tremaining: 390ms\n",
      "6:\tlearn: 0.4420753\ttest: 0.4514446\tbest: 0.4514446 (6)\ttotal: 63.2ms\tremaining: 388ms\n",
      "7:\tlearn: 0.4285218\ttest: 0.4413489\tbest: 0.4413489 (7)\ttotal: 76.9ms\tremaining: 404ms\n",
      "8:\tlearn: 0.4169616\ttest: 0.4306966\tbest: 0.4306966 (8)\ttotal: 86.5ms\tremaining: 394ms\n",
      "9:\tlearn: 0.4072812\ttest: 0.4237763\tbest: 0.4237763 (9)\ttotal: 96.2ms\tremaining: 385ms\n",
      "10:\tlearn: 0.3977903\ttest: 0.4186278\tbest: 0.4186278 (10)\ttotal: 106ms\tremaining: 377ms\n",
      "11:\tlearn: 0.3885379\ttest: 0.4105996\tbest: 0.4105996 (11)\ttotal: 117ms\tremaining: 370ms\n",
      "12:\tlearn: 0.3820626\ttest: 0.4061946\tbest: 0.4061946 (12)\ttotal: 127ms\tremaining: 363ms\n",
      "13:\tlearn: 0.3769718\ttest: 0.4026080\tbest: 0.4026080 (13)\ttotal: 138ms\tremaining: 355ms\n",
      "14:\tlearn: 0.3701685\ttest: 0.4012503\tbest: 0.4012503 (14)\ttotal: 148ms\tremaining: 345ms\n",
      "15:\tlearn: 0.3662802\ttest: 0.3988020\tbest: 0.3988020 (15)\ttotal: 159ms\tremaining: 338ms\n",
      "16:\tlearn: 0.3607623\ttest: 0.3972593\tbest: 0.3972593 (16)\ttotal: 172ms\tremaining: 333ms\n",
      "17:\tlearn: 0.3555736\ttest: 0.3947757\tbest: 0.3947757 (17)\ttotal: 181ms\tremaining: 323ms\n",
      "18:\tlearn: 0.3526130\ttest: 0.3932500\tbest: 0.3932500 (18)\ttotal: 191ms\tremaining: 312ms\n",
      "19:\tlearn: 0.3481208\ttest: 0.3943033\tbest: 0.3932500 (18)\ttotal: 202ms\tremaining: 303ms\n",
      "20:\tlearn: 0.3468112\ttest: 0.3930336\tbest: 0.3930336 (20)\ttotal: 204ms\tremaining: 281ms\n",
      "21:\tlearn: 0.3433287\ttest: 0.3919419\tbest: 0.3919419 (21)\ttotal: 215ms\tremaining: 273ms\n",
      "22:\tlearn: 0.3392560\ttest: 0.3891174\tbest: 0.3891174 (22)\ttotal: 225ms\tremaining: 264ms\n",
      "23:\tlearn: 0.3362784\ttest: 0.3883263\tbest: 0.3883263 (23)\ttotal: 234ms\tremaining: 254ms\n",
      "24:\tlearn: 0.3323728\ttest: 0.3879587\tbest: 0.3879587 (24)\ttotal: 245ms\tremaining: 245ms\n",
      "25:\tlearn: 0.3284254\ttest: 0.3879607\tbest: 0.3879587 (24)\ttotal: 255ms\tremaining: 235ms\n",
      "26:\tlearn: 0.3271655\ttest: 0.3887025\tbest: 0.3879587 (24)\ttotal: 260ms\tremaining: 222ms\n",
      "27:\tlearn: 0.3247948\ttest: 0.3884700\tbest: 0.3879587 (24)\ttotal: 276ms\tremaining: 217ms\n",
      "28:\tlearn: 0.3223076\ttest: 0.3867554\tbest: 0.3867554 (28)\ttotal: 286ms\tremaining: 207ms\n",
      "29:\tlearn: 0.3203230\ttest: 0.3859643\tbest: 0.3859643 (29)\ttotal: 296ms\tremaining: 197ms\n",
      "30:\tlearn: 0.3175417\ttest: 0.3856270\tbest: 0.3856270 (30)\ttotal: 306ms\tremaining: 188ms\n",
      "31:\tlearn: 0.3155022\ttest: 0.3848771\tbest: 0.3848771 (31)\ttotal: 317ms\tremaining: 178ms\n",
      "32:\tlearn: 0.3136527\ttest: 0.3850043\tbest: 0.3848771 (31)\ttotal: 328ms\tremaining: 169ms\n",
      "33:\tlearn: 0.3118971\ttest: 0.3846466\tbest: 0.3846466 (33)\ttotal: 339ms\tremaining: 160ms\n",
      "34:\tlearn: 0.3114229\ttest: 0.3846852\tbest: 0.3846466 (33)\ttotal: 342ms\tremaining: 146ms\n",
      "35:\tlearn: 0.3099669\ttest: 0.3849941\tbest: 0.3846466 (33)\ttotal: 352ms\tremaining: 137ms\n",
      "36:\tlearn: 0.3088117\ttest: 0.3847316\tbest: 0.3846466 (33)\ttotal: 362ms\tremaining: 127ms\n",
      "37:\tlearn: 0.3049364\ttest: 0.3857090\tbest: 0.3846466 (33)\ttotal: 375ms\tremaining: 118ms\n",
      "38:\tlearn: 0.3027897\ttest: 0.3856784\tbest: 0.3846466 (33)\ttotal: 386ms\tremaining: 109ms\n",
      "39:\tlearn: 0.3003917\ttest: 0.3858126\tbest: 0.3846466 (33)\ttotal: 396ms\tremaining: 99.1ms\n",
      "40:\tlearn: 0.2986993\ttest: 0.3855524\tbest: 0.3846466 (33)\ttotal: 407ms\tremaining: 89.3ms\n",
      "41:\tlearn: 0.2968469\ttest: 0.3860806\tbest: 0.3846466 (33)\ttotal: 417ms\tremaining: 79.4ms\n",
      "42:\tlearn: 0.2948630\ttest: 0.3863591\tbest: 0.3846466 (33)\ttotal: 427ms\tremaining: 69.5ms\n",
      "43:\tlearn: 0.2939008\ttest: 0.3865076\tbest: 0.3846466 (33)\ttotal: 436ms\tremaining: 59.5ms\n",
      "44:\tlearn: 0.2894296\ttest: 0.3871940\tbest: 0.3846466 (33)\ttotal: 446ms\tremaining: 49.5ms\n",
      "45:\tlearn: 0.2867158\ttest: 0.3870859\tbest: 0.3846466 (33)\ttotal: 456ms\tremaining: 39.7ms\n",
      "46:\tlearn: 0.2850696\ttest: 0.3865074\tbest: 0.3846466 (33)\ttotal: 470ms\tremaining: 30ms\n",
      "47:\tlearn: 0.2829852\ttest: 0.3851760\tbest: 0.3846466 (33)\ttotal: 480ms\tremaining: 20ms\n",
      "48:\tlearn: 0.2814083\ttest: 0.3853773\tbest: 0.3846466 (33)\ttotal: 490ms\tremaining: 10ms\n",
      "49:\tlearn: 0.2811446\ttest: 0.3851722\tbest: 0.3846466 (33)\ttotal: 492ms\tremaining: 0us\n",
      "\n",
      "bestTest = 0.3846465878\n",
      "bestIteration = 33\n",
      "\n",
      "0:\tlearn: 0.4086484\ttest: 0.4208101\tbest: 0.4208101 (0)\ttotal: 9.81ms\tremaining: 481ms\n",
      "1:\tlearn: 0.3741730\ttest: 0.4152777\tbest: 0.4152777 (1)\ttotal: 21.1ms\tremaining: 506ms\n",
      "2:\tlearn: 0.3435217\ttest: 0.4184925\tbest: 0.4152777 (1)\ttotal: 31.6ms\tremaining: 495ms\n",
      "3:\tlearn: 0.3279311\ttest: 0.4125587\tbest: 0.4125587 (3)\ttotal: 43.4ms\tremaining: 499ms\n",
      "4:\tlearn: 0.3133123\ttest: 0.4313311\tbest: 0.4125587 (3)\ttotal: 52.8ms\tremaining: 475ms\n",
      "5:\tlearn: 0.2987462\ttest: 0.4443182\tbest: 0.4125587 (3)\ttotal: 62ms\tremaining: 455ms\n",
      "6:\tlearn: 0.2778893\ttest: 0.4564068\tbest: 0.4125587 (3)\ttotal: 73.7ms\tremaining: 453ms\n",
      "7:\tlearn: 0.2602225\ttest: 0.4781806\tbest: 0.4125587 (3)\ttotal: 83.3ms\tremaining: 437ms\n",
      "8:\tlearn: 0.2479314\ttest: 0.4835929\tbest: 0.4125587 (3)\ttotal: 92.9ms\tremaining: 423ms\n",
      "9:\tlearn: 0.2352051\ttest: 0.4739572\tbest: 0.4125587 (3)\ttotal: 103ms\tremaining: 414ms\n",
      "10:\tlearn: 0.2232445\ttest: 0.4849790\tbest: 0.4125587 (3)\ttotal: 113ms\tremaining: 401ms\n",
      "11:\tlearn: 0.2078860\ttest: 0.4822775\tbest: 0.4125587 (3)\ttotal: 123ms\tremaining: 389ms\n",
      "12:\tlearn: 0.2012982\ttest: 0.4798450\tbest: 0.4125587 (3)\ttotal: 132ms\tremaining: 375ms\n",
      "13:\tlearn: 0.1938069\ttest: 0.4915040\tbest: 0.4125587 (3)\ttotal: 142ms\tremaining: 366ms\n",
      "14:\tlearn: 0.1876940\ttest: 0.4924696\tbest: 0.4125587 (3)\ttotal: 154ms\tremaining: 359ms\n",
      "15:\tlearn: 0.1783530\ttest: 0.4833886\tbest: 0.4125587 (3)\ttotal: 164ms\tremaining: 349ms\n",
      "16:\tlearn: 0.1717056\ttest: 0.4855587\tbest: 0.4125587 (3)\ttotal: 185ms\tremaining: 358ms\n",
      "17:\tlearn: 0.1655017\ttest: 0.4810449\tbest: 0.4125587 (3)\ttotal: 195ms\tremaining: 347ms\n",
      "18:\tlearn: 0.1525758\ttest: 0.4961527\tbest: 0.4125587 (3)\ttotal: 205ms\tremaining: 335ms\n",
      "19:\tlearn: 0.1481745\ttest: 0.4898288\tbest: 0.4125587 (3)\ttotal: 216ms\tremaining: 323ms\n",
      "20:\tlearn: 0.1433327\ttest: 0.4918922\tbest: 0.4125587 (3)\ttotal: 226ms\tremaining: 312ms\n",
      "21:\tlearn: 0.1390349\ttest: 0.4961105\tbest: 0.4125587 (3)\ttotal: 236ms\tremaining: 300ms\n",
      "22:\tlearn: 0.1335256\ttest: 0.4981005\tbest: 0.4125587 (3)\ttotal: 247ms\tremaining: 289ms\n",
      "23:\tlearn: 0.1284398\ttest: 0.4959364\tbest: 0.4125587 (3)\ttotal: 257ms\tremaining: 279ms\n",
      "24:\tlearn: 0.1248213\ttest: 0.4936571\tbest: 0.4125587 (3)\ttotal: 266ms\tremaining: 266ms\n",
      "25:\tlearn: 0.1209315\ttest: 0.4911420\tbest: 0.4125587 (3)\ttotal: 277ms\tremaining: 256ms\n",
      "26:\tlearn: 0.1171337\ttest: 0.4909483\tbest: 0.4125587 (3)\ttotal: 287ms\tremaining: 244ms\n",
      "27:\tlearn: 0.1143279\ttest: 0.4975699\tbest: 0.4125587 (3)\ttotal: 297ms\tremaining: 233ms\n",
      "28:\tlearn: 0.1093725\ttest: 0.5021711\tbest: 0.4125587 (3)\ttotal: 307ms\tremaining: 222ms\n",
      "29:\tlearn: 0.1011590\ttest: 0.5103638\tbest: 0.4125587 (3)\ttotal: 317ms\tremaining: 211ms\n",
      "30:\tlearn: 0.0978210\ttest: 0.5099690\tbest: 0.4125587 (3)\ttotal: 326ms\tremaining: 200ms\n",
      "31:\tlearn: 0.0946072\ttest: 0.5043465\tbest: 0.4125587 (3)\ttotal: 336ms\tremaining: 189ms\n",
      "32:\tlearn: 0.0932612\ttest: 0.5036375\tbest: 0.4125587 (3)\ttotal: 345ms\tremaining: 178ms\n",
      "33:\tlearn: 0.0894337\ttest: 0.5028554\tbest: 0.4125587 (3)\ttotal: 356ms\tremaining: 167ms\n",
      "34:\tlearn: 0.0869346\ttest: 0.5044209\tbest: 0.4125587 (3)\ttotal: 370ms\tremaining: 159ms\n",
      "35:\tlearn: 0.0824781\ttest: 0.5085304\tbest: 0.4125587 (3)\ttotal: 380ms\tremaining: 148ms\n",
      "36:\tlearn: 0.0806910\ttest: 0.5144293\tbest: 0.4125587 (3)\ttotal: 393ms\tremaining: 138ms\n",
      "37:\tlearn: 0.0795265\ttest: 0.5164118\tbest: 0.4125587 (3)\ttotal: 402ms\tremaining: 127ms\n",
      "38:\tlearn: 0.0769168\ttest: 0.5182932\tbest: 0.4125587 (3)\ttotal: 412ms\tremaining: 116ms\n",
      "39:\tlearn: 0.0754226\ttest: 0.5194150\tbest: 0.4125587 (3)\ttotal: 422ms\tremaining: 105ms\n",
      "40:\tlearn: 0.0734693\ttest: 0.5193469\tbest: 0.4125587 (3)\ttotal: 432ms\tremaining: 94.8ms\n",
      "41:\tlearn: 0.0711443\ttest: 0.5213042\tbest: 0.4125587 (3)\ttotal: 442ms\tremaining: 84.1ms\n",
      "42:\tlearn: 0.0702243\ttest: 0.5217089\tbest: 0.4125587 (3)\ttotal: 451ms\tremaining: 73.4ms\n",
      "43:\tlearn: 0.0686556\ttest: 0.5190338\tbest: 0.4125587 (3)\ttotal: 460ms\tremaining: 62.8ms\n",
      "44:\tlearn: 0.0673460\ttest: 0.5191492\tbest: 0.4125587 (3)\ttotal: 471ms\tremaining: 52.3ms\n",
      "45:\tlearn: 0.0661119\ttest: 0.5208033\tbest: 0.4125587 (3)\ttotal: 481ms\tremaining: 41.8ms\n",
      "46:\tlearn: 0.0643382\ttest: 0.5239827\tbest: 0.4125587 (3)\ttotal: 493ms\tremaining: 31.5ms\n",
      "47:\tlearn: 0.0626216\ttest: 0.5266021\tbest: 0.4125587 (3)\ttotal: 503ms\tremaining: 21ms\n",
      "48:\tlearn: 0.0614946\ttest: 0.5290624\tbest: 0.4125587 (3)\ttotal: 513ms\tremaining: 10.5ms\n",
      "49:\tlearn: 0.0598435\ttest: 0.5324638\tbest: 0.4125587 (3)\ttotal: 523ms\tremaining: 0us\n",
      "\n",
      "bestTest = 0.4125586809\n",
      "bestIteration = 3\n",
      "\n",
      "35:\tloss: 0.4125587\tbest: 0.3018737 (19)\ttotal: 7.28s\tremaining: 0us\n",
      "Estimating final quality...\n",
      "Training on fold [0/5]\n",
      "0:\tlearn: 0.4453803\ttest: 0.4187562\tbest: 0.4187562 (0)\ttotal: 1.79ms\tremaining: 87.9ms\n",
      "1:\tlearn: 0.4071206\ttest: 0.3877652\tbest: 0.3877652 (1)\ttotal: 3.44ms\tremaining: 82.6ms\n",
      "2:\tlearn: 0.3954831\ttest: 0.3869412\tbest: 0.3869412 (2)\ttotal: 5.16ms\tremaining: 80.9ms\n",
      "3:\tlearn: 0.3716750\ttest: 0.3681717\tbest: 0.3681717 (3)\ttotal: 6.79ms\tremaining: 78.1ms\n",
      "4:\tlearn: 0.3650755\ttest: 0.3579668\tbest: 0.3579668 (4)\ttotal: 8.48ms\tremaining: 76.3ms\n",
      "5:\tlearn: 0.3593409\ttest: 0.3598435\tbest: 0.3579668 (4)\ttotal: 10.1ms\tremaining: 73.8ms\n",
      "6:\tlearn: 0.3490723\ttest: 0.3474607\tbest: 0.3474607 (6)\ttotal: 11.6ms\tremaining: 71.4ms\n",
      "7:\tlearn: 0.3459457\ttest: 0.3483162\tbest: 0.3474607 (6)\ttotal: 13.2ms\tremaining: 69.5ms\n",
      "8:\tlearn: 0.3409991\ttest: 0.3445133\tbest: 0.3445133 (8)\ttotal: 14.9ms\tremaining: 68.1ms\n",
      "9:\tlearn: 0.3378323\ttest: 0.3512303\tbest: 0.3445133 (8)\ttotal: 16.7ms\tremaining: 66.6ms\n",
      "10:\tlearn: 0.3331667\ttest: 0.3476212\tbest: 0.3445133 (8)\ttotal: 18.3ms\tremaining: 65ms\n",
      "11:\tlearn: 0.3247297\ttest: 0.3429796\tbest: 0.3429796 (11)\ttotal: 20.1ms\tremaining: 63.5ms\n",
      "12:\tlearn: 0.3115740\ttest: 0.3317535\tbest: 0.3317535 (12)\ttotal: 21.7ms\tremaining: 61.8ms\n",
      "13:\tlearn: 0.3084598\ttest: 0.3289220\tbest: 0.3289220 (13)\ttotal: 23.3ms\tremaining: 59.9ms\n",
      "14:\tlearn: 0.3036457\ttest: 0.3351945\tbest: 0.3289220 (13)\ttotal: 24.9ms\tremaining: 58.1ms\n",
      "15:\tlearn: 0.2997212\ttest: 0.3379441\tbest: 0.3289220 (13)\ttotal: 26.6ms\tremaining: 56.5ms\n",
      "16:\tlearn: 0.2966194\ttest: 0.3375938\tbest: 0.3289220 (13)\ttotal: 28.3ms\tremaining: 54.9ms\n",
      "17:\tlearn: 0.2901317\ttest: 0.3347149\tbest: 0.3289220 (13)\ttotal: 30ms\tremaining: 53.3ms\n",
      "18:\tlearn: 0.2860352\ttest: 0.3392353\tbest: 0.3289220 (13)\ttotal: 31.6ms\tremaining: 51.6ms\n",
      "19:\tlearn: 0.2838226\ttest: 0.3396213\tbest: 0.3289220 (13)\ttotal: 33.3ms\tremaining: 50ms\n",
      "20:\tlearn: 0.2804850\ttest: 0.3434598\tbest: 0.3289220 (13)\ttotal: 35ms\tremaining: 48.4ms\n",
      "21:\tlearn: 0.2749791\ttest: 0.3382170\tbest: 0.3289220 (13)\ttotal: 36.7ms\tremaining: 46.8ms\n",
      "22:\tlearn: 0.2700790\ttest: 0.3386629\tbest: 0.3289220 (13)\ttotal: 38.4ms\tremaining: 45.1ms\n",
      "23:\tlearn: 0.2651600\ttest: 0.3335976\tbest: 0.3289220 (13)\ttotal: 40.2ms\tremaining: 43.5ms\n",
      "24:\tlearn: 0.2592795\ttest: 0.3289656\tbest: 0.3289220 (13)\ttotal: 41.8ms\tremaining: 41.8ms\n",
      "25:\tlearn: 0.2545258\ttest: 0.3213615\tbest: 0.3213615 (25)\ttotal: 43.4ms\tremaining: 40.1ms\n",
      "26:\tlearn: 0.2508678\ttest: 0.3277961\tbest: 0.3213615 (25)\ttotal: 45ms\tremaining: 38.3ms\n",
      "27:\tlearn: 0.2479826\ttest: 0.3231734\tbest: 0.3213615 (25)\ttotal: 46.6ms\tremaining: 36.6ms\n",
      "28:\tlearn: 0.2457245\ttest: 0.3247285\tbest: 0.3213615 (25)\ttotal: 48.3ms\tremaining: 35ms\n",
      "29:\tlearn: 0.2423103\ttest: 0.3251175\tbest: 0.3213615 (25)\ttotal: 49.9ms\tremaining: 33.3ms\n",
      "30:\tlearn: 0.2396393\ttest: 0.3197260\tbest: 0.3197260 (30)\ttotal: 51.6ms\tremaining: 31.6ms\n",
      "31:\tlearn: 0.2365395\ttest: 0.3213684\tbest: 0.3197260 (30)\ttotal: 53.3ms\tremaining: 30ms\n",
      "32:\tlearn: 0.2324917\ttest: 0.3206195\tbest: 0.3197260 (30)\ttotal: 55.1ms\tremaining: 28.4ms\n",
      "33:\tlearn: 0.2298721\ttest: 0.3193673\tbest: 0.3193673 (33)\ttotal: 56.6ms\tremaining: 26.7ms\n",
      "34:\tlearn: 0.2274624\ttest: 0.3128159\tbest: 0.3128159 (34)\ttotal: 58.1ms\tremaining: 24.9ms\n",
      "35:\tlearn: 0.2243348\ttest: 0.3113517\tbest: 0.3113517 (35)\ttotal: 59.8ms\tremaining: 23.3ms\n",
      "36:\tlearn: 0.2214020\ttest: 0.3047028\tbest: 0.3047028 (36)\ttotal: 61.4ms\tremaining: 21.6ms\n",
      "37:\tlearn: 0.2191623\ttest: 0.3059875\tbest: 0.3047028 (36)\ttotal: 63.1ms\tremaining: 19.9ms\n",
      "38:\tlearn: 0.2154383\ttest: 0.3013220\tbest: 0.3013220 (38)\ttotal: 64.8ms\tremaining: 18.3ms\n",
      "39:\tlearn: 0.2136252\ttest: 0.3013988\tbest: 0.3013220 (38)\ttotal: 66.5ms\tremaining: 16.6ms\n",
      "40:\tlearn: 0.2115901\ttest: 0.3011669\tbest: 0.3011669 (40)\ttotal: 68.1ms\tremaining: 14.9ms\n",
      "41:\tlearn: 0.2101323\ttest: 0.3010298\tbest: 0.3010298 (41)\ttotal: 69.6ms\tremaining: 13.3ms\n",
      "42:\tlearn: 0.2080508\ttest: 0.3010206\tbest: 0.3010206 (42)\ttotal: 71.2ms\tremaining: 11.6ms\n",
      "43:\tlearn: 0.2046735\ttest: 0.3009637\tbest: 0.3009637 (43)\ttotal: 72.8ms\tremaining: 9.93ms\n",
      "44:\tlearn: 0.2028372\ttest: 0.3022921\tbest: 0.3009637 (43)\ttotal: 74.5ms\tremaining: 8.27ms\n",
      "45:\tlearn: 0.1989834\ttest: 0.3028574\tbest: 0.3009637 (43)\ttotal: 76.1ms\tremaining: 6.62ms\n",
      "46:\tlearn: 0.1975723\ttest: 0.3012878\tbest: 0.3009637 (43)\ttotal: 78.2ms\tremaining: 4.99ms\n",
      "47:\tlearn: 0.1949236\ttest: 0.2983886\tbest: 0.2983886 (47)\ttotal: 79.9ms\tremaining: 3.33ms\n",
      "48:\tlearn: 0.1932405\ttest: 0.3002868\tbest: 0.2983886 (47)\ttotal: 82.1ms\tremaining: 1.67ms\n",
      "49:\tlearn: 0.1918317\ttest: 0.3015153\tbest: 0.2983886 (47)\ttotal: 83.6ms\tremaining: 0us\n",
      "\n",
      "bestTest = 0.298388595\n",
      "bestIteration = 47\n",
      "\n",
      "Training on fold [1/5]\n",
      "0:\tlearn: 0.4457321\ttest: 0.4714184\tbest: 0.4714184 (0)\ttotal: 2.1ms\tremaining: 103ms\n",
      "1:\tlearn: 0.4098541\ttest: 0.4326014\tbest: 0.4326014 (1)\ttotal: 3.89ms\tremaining: 93.5ms\n",
      "2:\tlearn: 0.3915585\ttest: 0.4129667\tbest: 0.4129667 (2)\ttotal: 5.66ms\tremaining: 88.7ms\n",
      "3:\tlearn: 0.3800557\ttest: 0.4063206\tbest: 0.4063206 (3)\ttotal: 7.31ms\tremaining: 84ms\n",
      "4:\tlearn: 0.3739964\ttest: 0.4082731\tbest: 0.4063206 (3)\ttotal: 9.02ms\tremaining: 81.2ms\n",
      "5:\tlearn: 0.3689987\ttest: 0.4112031\tbest: 0.4063206 (3)\ttotal: 10.8ms\tremaining: 79.2ms\n",
      "6:\tlearn: 0.3598194\ttest: 0.4008260\tbest: 0.4008260 (6)\ttotal: 12.5ms\tremaining: 76.6ms\n",
      "7:\tlearn: 0.3504656\ttest: 0.3951991\tbest: 0.3951991 (7)\ttotal: 14.3ms\tremaining: 74.9ms\n",
      "8:\tlearn: 0.3399686\ttest: 0.3873432\tbest: 0.3873432 (8)\ttotal: 15.9ms\tremaining: 72.3ms\n",
      "9:\tlearn: 0.3315968\ttest: 0.3757721\tbest: 0.3757721 (9)\ttotal: 17.6ms\tremaining: 70.3ms\n",
      "10:\tlearn: 0.3229478\ttest: 0.3627223\tbest: 0.3627223 (10)\ttotal: 19.3ms\tremaining: 68.3ms\n",
      "11:\tlearn: 0.3167449\ttest: 0.3627047\tbest: 0.3627047 (11)\ttotal: 21ms\tremaining: 66.6ms\n",
      "12:\tlearn: 0.3123853\ttest: 0.3673243\tbest: 0.3627047 (11)\ttotal: 23.2ms\tremaining: 66ms\n",
      "13:\tlearn: 0.3072269\ttest: 0.3621975\tbest: 0.3621975 (13)\ttotal: 24.9ms\tremaining: 63.9ms\n",
      "14:\tlearn: 0.3052687\ttest: 0.3623402\tbest: 0.3621975 (13)\ttotal: 26.6ms\tremaining: 62ms\n",
      "15:\tlearn: 0.2991788\ttest: 0.3620984\tbest: 0.3620984 (15)\ttotal: 28.3ms\tremaining: 60.2ms\n",
      "16:\tlearn: 0.2952195\ttest: 0.3648703\tbest: 0.3620984 (15)\ttotal: 30ms\tremaining: 58.2ms\n",
      "17:\tlearn: 0.2896300\ttest: 0.3620764\tbest: 0.3620764 (17)\ttotal: 31.6ms\tremaining: 56.3ms\n",
      "18:\tlearn: 0.2845658\ttest: 0.3596030\tbest: 0.3596030 (18)\ttotal: 33.3ms\tremaining: 54.4ms\n",
      "19:\tlearn: 0.2811455\ttest: 0.3568653\tbest: 0.3568653 (19)\ttotal: 35ms\tremaining: 52.4ms\n",
      "20:\tlearn: 0.2763966\ttest: 0.3531893\tbest: 0.3531893 (20)\ttotal: 36.5ms\tremaining: 50.5ms\n",
      "21:\tlearn: 0.2712296\ttest: 0.3671734\tbest: 0.3531893 (20)\ttotal: 38.2ms\tremaining: 48.6ms\n",
      "22:\tlearn: 0.2664550\ttest: 0.3690117\tbest: 0.3531893 (20)\ttotal: 39.7ms\tremaining: 46.6ms\n",
      "23:\tlearn: 0.2595336\ttest: 0.3662567\tbest: 0.3531893 (20)\ttotal: 41.5ms\tremaining: 44.9ms\n",
      "24:\tlearn: 0.2564357\ttest: 0.3697202\tbest: 0.3531893 (20)\ttotal: 43ms\tremaining: 43ms\n",
      "25:\tlearn: 0.2512975\ttest: 0.3666124\tbest: 0.3531893 (20)\ttotal: 44.6ms\tremaining: 41.2ms\n",
      "26:\tlearn: 0.2476373\ttest: 0.3630173\tbest: 0.3531893 (20)\ttotal: 46.2ms\tremaining: 39.4ms\n",
      "27:\tlearn: 0.2442988\ttest: 0.3625121\tbest: 0.3531893 (20)\ttotal: 47.9ms\tremaining: 37.6ms\n",
      "28:\tlearn: 0.2416414\ttest: 0.3620217\tbest: 0.3531893 (20)\ttotal: 49.4ms\tremaining: 35.8ms\n",
      "29:\tlearn: 0.2372814\ttest: 0.3674871\tbest: 0.3531893 (20)\ttotal: 51ms\tremaining: 34ms\n",
      "30:\tlearn: 0.2345758\ttest: 0.3668889\tbest: 0.3531893 (20)\ttotal: 52.6ms\tremaining: 32.2ms\n",
      "31:\tlearn: 0.2312645\ttest: 0.3664663\tbest: 0.3531893 (20)\ttotal: 54.2ms\tremaining: 30.5ms\n",
      "32:\tlearn: 0.2289400\ttest: 0.3694744\tbest: 0.3531893 (20)\ttotal: 55.9ms\tremaining: 28.8ms\n",
      "33:\tlearn: 0.2238354\ttest: 0.3634875\tbest: 0.3531893 (20)\ttotal: 57.5ms\tremaining: 27.1ms\n",
      "34:\tlearn: 0.2197422\ttest: 0.3646213\tbest: 0.3531893 (20)\ttotal: 59.3ms\tremaining: 25.4ms\n",
      "35:\tlearn: 0.2169740\ttest: 0.3672973\tbest: 0.3531893 (20)\ttotal: 61.1ms\tremaining: 23.8ms\n",
      "36:\tlearn: 0.2139139\ttest: 0.3699163\tbest: 0.3531893 (20)\ttotal: 62.7ms\tremaining: 22ms\n",
      "37:\tlearn: 0.2100052\ttest: 0.3634708\tbest: 0.3531893 (20)\ttotal: 64.4ms\tremaining: 20.3ms\n",
      "38:\tlearn: 0.2070471\ttest: 0.3585532\tbest: 0.3531893 (20)\ttotal: 66ms\tremaining: 18.6ms\n",
      "39:\tlearn: 0.2006121\ttest: 0.3537864\tbest: 0.3531893 (20)\ttotal: 67.8ms\tremaining: 17ms\n",
      "40:\tlearn: 0.1982302\ttest: 0.3575783\tbest: 0.3531893 (20)\ttotal: 69.5ms\tremaining: 15.3ms\n",
      "41:\tlearn: 0.1965775\ttest: 0.3610810\tbest: 0.3531893 (20)\ttotal: 71.2ms\tremaining: 13.6ms\n",
      "42:\tlearn: 0.1933493\ttest: 0.3606637\tbest: 0.3531893 (20)\ttotal: 72.8ms\tremaining: 11.9ms\n",
      "43:\tlearn: 0.1913315\ttest: 0.3629955\tbest: 0.3531893 (20)\ttotal: 74.4ms\tremaining: 10.1ms\n",
      "44:\tlearn: 0.1892810\ttest: 0.3631972\tbest: 0.3531893 (20)\ttotal: 75.9ms\tremaining: 8.43ms\n",
      "45:\tlearn: 0.1873436\ttest: 0.3700282\tbest: 0.3531893 (20)\ttotal: 77.5ms\tremaining: 6.74ms\n",
      "46:\tlearn: 0.1850480\ttest: 0.3731453\tbest: 0.3531893 (20)\ttotal: 85ms\tremaining: 5.42ms\n",
      "47:\tlearn: 0.1820196\ttest: 0.3724412\tbest: 0.3531893 (20)\ttotal: 86.7ms\tremaining: 3.61ms\n",
      "48:\tlearn: 0.1802997\ttest: 0.3726260\tbest: 0.3531893 (20)\ttotal: 88.4ms\tremaining: 1.8ms\n",
      "49:\tlearn: 0.1778278\ttest: 0.3753084\tbest: 0.3531893 (20)\ttotal: 90.1ms\tremaining: 0us\n",
      "\n",
      "bestTest = 0.3531893167\n",
      "bestIteration = 20\n",
      "\n",
      "Training on fold [2/5]\n",
      "0:\tlearn: 0.4354436\ttest: 0.4598634\tbest: 0.4598634 (0)\ttotal: 1.77ms\tremaining: 86.9ms\n",
      "1:\tlearn: 0.4043795\ttest: 0.4311562\tbest: 0.4311562 (1)\ttotal: 3.63ms\tremaining: 87.2ms\n",
      "2:\tlearn: 0.3961123\ttest: 0.4237615\tbest: 0.4237615 (2)\ttotal: 5.26ms\tremaining: 82.3ms\n",
      "3:\tlearn: 0.3909136\ttest: 0.4253160\tbest: 0.4237615 (2)\ttotal: 6.89ms\tremaining: 79.3ms\n",
      "4:\tlearn: 0.3770175\ttest: 0.4062306\tbest: 0.4062306 (4)\ttotal: 8.68ms\tremaining: 78.1ms\n",
      "5:\tlearn: 0.3723901\ttest: 0.4019668\tbest: 0.4019668 (5)\ttotal: 10ms\tremaining: 73.3ms\n",
      "6:\tlearn: 0.3641485\ttest: 0.4049997\tbest: 0.4019668 (5)\ttotal: 11.6ms\tremaining: 71.4ms\n",
      "7:\tlearn: 0.3614150\ttest: 0.4066381\tbest: 0.4019668 (5)\ttotal: 13.3ms\tremaining: 70.1ms\n",
      "8:\tlearn: 0.3570166\ttest: 0.4048390\tbest: 0.4019668 (5)\ttotal: 15.1ms\tremaining: 69ms\n",
      "9:\tlearn: 0.3481593\ttest: 0.3947634\tbest: 0.3947634 (9)\ttotal: 16.7ms\tremaining: 66.7ms\n",
      "10:\tlearn: 0.3353913\ttest: 0.3800738\tbest: 0.3800738 (10)\ttotal: 18.4ms\tremaining: 65.2ms\n",
      "11:\tlearn: 0.3310790\ttest: 0.3840850\tbest: 0.3800738 (10)\ttotal: 19.8ms\tremaining: 62.8ms\n",
      "12:\tlearn: 0.3192938\ttest: 0.3608464\tbest: 0.3608464 (12)\ttotal: 21.6ms\tremaining: 61.4ms\n",
      "13:\tlearn: 0.3127795\ttest: 0.3547467\tbest: 0.3547467 (13)\ttotal: 23.4ms\tremaining: 60.1ms\n",
      "14:\tlearn: 0.3088539\ttest: 0.3605108\tbest: 0.3547467 (13)\ttotal: 25ms\tremaining: 58.4ms\n",
      "15:\tlearn: 0.3056953\ttest: 0.3572260\tbest: 0.3547467 (13)\ttotal: 26.6ms\tremaining: 56.6ms\n",
      "16:\tlearn: 0.3002243\ttest: 0.3593704\tbest: 0.3547467 (13)\ttotal: 28.4ms\tremaining: 55.2ms\n",
      "17:\tlearn: 0.2971230\ttest: 0.3562145\tbest: 0.3547467 (13)\ttotal: 30.1ms\tremaining: 53.5ms\n",
      "18:\tlearn: 0.2933277\ttest: 0.3541400\tbest: 0.3541400 (18)\ttotal: 31.8ms\tremaining: 51.9ms\n",
      "19:\tlearn: 0.2865464\ttest: 0.3478837\tbest: 0.3478837 (19)\ttotal: 33.8ms\tremaining: 50.7ms\n",
      "20:\tlearn: 0.2818125\ttest: 0.3488323\tbest: 0.3478837 (19)\ttotal: 35.4ms\tremaining: 49ms\n",
      "21:\tlearn: 0.2755106\ttest: 0.3430341\tbest: 0.3430341 (21)\ttotal: 37.1ms\tremaining: 47.3ms\n",
      "22:\tlearn: 0.2720619\ttest: 0.3424143\tbest: 0.3424143 (22)\ttotal: 38.7ms\tremaining: 45.5ms\n",
      "23:\tlearn: 0.2660131\ttest: 0.3442511\tbest: 0.3424143 (22)\ttotal: 40.3ms\tremaining: 43.7ms\n",
      "24:\tlearn: 0.2615958\ttest: 0.3411427\tbest: 0.3411427 (24)\ttotal: 42.6ms\tremaining: 42.6ms\n",
      "25:\tlearn: 0.2561705\ttest: 0.3346922\tbest: 0.3346922 (25)\ttotal: 44.7ms\tremaining: 41.3ms\n",
      "26:\tlearn: 0.2517992\ttest: 0.3356788\tbest: 0.3346922 (25)\ttotal: 46.9ms\tremaining: 40ms\n",
      "27:\tlearn: 0.2483589\ttest: 0.3381700\tbest: 0.3346922 (25)\ttotal: 49.2ms\tremaining: 38.7ms\n",
      "28:\tlearn: 0.2454494\ttest: 0.3429071\tbest: 0.3346922 (25)\ttotal: 51.5ms\tremaining: 37.3ms\n",
      "29:\tlearn: 0.2427620\ttest: 0.3448219\tbest: 0.3346922 (25)\ttotal: 53.8ms\tremaining: 35.9ms\n",
      "30:\tlearn: 0.2405041\ttest: 0.3470755\tbest: 0.3346922 (25)\ttotal: 56.8ms\tremaining: 34.8ms\n",
      "31:\tlearn: 0.2378920\ttest: 0.3518590\tbest: 0.3346922 (25)\ttotal: 59.1ms\tremaining: 33.2ms\n",
      "32:\tlearn: 0.2358771\ttest: 0.3517686\tbest: 0.3346922 (25)\ttotal: 61.2ms\tremaining: 31.5ms\n",
      "33:\tlearn: 0.2284148\ttest: 0.3513008\tbest: 0.3346922 (25)\ttotal: 62.7ms\tremaining: 29.5ms\n",
      "34:\tlearn: 0.2250160\ttest: 0.3493870\tbest: 0.3346922 (25)\ttotal: 64.3ms\tremaining: 27.5ms\n",
      "35:\tlearn: 0.2215395\ttest: 0.3526099\tbest: 0.3346922 (25)\ttotal: 65.8ms\tremaining: 25.6ms\n",
      "36:\tlearn: 0.2178771\ttest: 0.3415640\tbest: 0.3346922 (25)\ttotal: 67.5ms\tremaining: 23.7ms\n",
      "37:\tlearn: 0.2161799\ttest: 0.3408006\tbest: 0.3346922 (25)\ttotal: 69.1ms\tremaining: 21.8ms\n",
      "38:\tlearn: 0.2133959\ttest: 0.3437997\tbest: 0.3346922 (25)\ttotal: 70.9ms\tremaining: 20ms\n",
      "39:\tlearn: 0.2102972\ttest: 0.3389496\tbest: 0.3346922 (25)\ttotal: 72.5ms\tremaining: 18.1ms\n",
      "40:\tlearn: 0.2086569\ttest: 0.3423032\tbest: 0.3346922 (25)\ttotal: 74.1ms\tremaining: 16.3ms\n",
      "41:\tlearn: 0.2041658\ttest: 0.3381770\tbest: 0.3346922 (25)\ttotal: 75.7ms\tremaining: 14.4ms\n",
      "42:\tlearn: 0.2013973\ttest: 0.3373226\tbest: 0.3346922 (25)\ttotal: 84.4ms\tremaining: 13.7ms\n",
      "43:\tlearn: 0.1987262\ttest: 0.3389430\tbest: 0.3346922 (25)\ttotal: 86.1ms\tremaining: 11.7ms\n",
      "44:\tlearn: 0.1964033\ttest: 0.3409084\tbest: 0.3346922 (25)\ttotal: 87.7ms\tremaining: 9.75ms\n",
      "45:\tlearn: 0.1938296\ttest: 0.3424874\tbest: 0.3346922 (25)\ttotal: 89.3ms\tremaining: 7.77ms\n",
      "46:\tlearn: 0.1913917\ttest: 0.3411973\tbest: 0.3346922 (25)\ttotal: 91.1ms\tremaining: 5.81ms\n",
      "47:\tlearn: 0.1888200\ttest: 0.3431374\tbest: 0.3346922 (25)\ttotal: 92.7ms\tremaining: 3.86ms\n",
      "48:\tlearn: 0.1856053\ttest: 0.3395532\tbest: 0.3346922 (25)\ttotal: 94.3ms\tremaining: 1.93ms\n",
      "49:\tlearn: 0.1835800\ttest: 0.3400026\tbest: 0.3346922 (25)\ttotal: 96.1ms\tremaining: 0us\n",
      "\n",
      "bestTest = 0.3346922093\n",
      "bestIteration = 25\n",
      "\n",
      "Training on fold [3/5]\n",
      "0:\tlearn: 0.4174704\ttest: 0.4256979\tbest: 0.4256979 (0)\ttotal: 1.7ms\tremaining: 83.3ms\n",
      "1:\tlearn: 0.3922626\ttest: 0.4105352\tbest: 0.4105352 (1)\ttotal: 3.38ms\tremaining: 81.2ms\n",
      "2:\tlearn: 0.3791900\ttest: 0.4026735\tbest: 0.4026735 (2)\ttotal: 4.97ms\tremaining: 77.8ms\n",
      "3:\tlearn: 0.3721301\ttest: 0.4024090\tbest: 0.4024090 (3)\ttotal: 6.58ms\tremaining: 75.7ms\n",
      "4:\tlearn: 0.3656222\ttest: 0.4044047\tbest: 0.4024090 (3)\ttotal: 8.23ms\tremaining: 74.1ms\n",
      "5:\tlearn: 0.3606721\ttest: 0.3989107\tbest: 0.3989107 (5)\ttotal: 9.81ms\tremaining: 71.9ms\n",
      "6:\tlearn: 0.3567662\ttest: 0.3961478\tbest: 0.3961478 (6)\ttotal: 11.3ms\tremaining: 69.7ms\n",
      "7:\tlearn: 0.3516993\ttest: 0.3956032\tbest: 0.3956032 (7)\ttotal: 13ms\tremaining: 68ms\n",
      "8:\tlearn: 0.3452311\ttest: 0.3836769\tbest: 0.3836769 (8)\ttotal: 14.5ms\tremaining: 66.1ms\n",
      "9:\tlearn: 0.3375439\ttest: 0.3798054\tbest: 0.3798054 (9)\ttotal: 16.1ms\tremaining: 64.3ms\n",
      "10:\tlearn: 0.3321975\ttest: 0.3733316\tbest: 0.3733316 (10)\ttotal: 17.8ms\tremaining: 63.1ms\n",
      "11:\tlearn: 0.3230116\ttest: 0.3585801\tbest: 0.3585801 (11)\ttotal: 19.5ms\tremaining: 61.7ms\n",
      "12:\tlearn: 0.3183865\ttest: 0.3556507\tbest: 0.3556507 (12)\ttotal: 21.3ms\tremaining: 60.6ms\n",
      "13:\tlearn: 0.3125958\ttest: 0.3533940\tbest: 0.3533940 (13)\ttotal: 23.6ms\tremaining: 60.7ms\n",
      "14:\tlearn: 0.3067472\ttest: 0.3445960\tbest: 0.3445960 (14)\ttotal: 25.9ms\tremaining: 60.4ms\n",
      "15:\tlearn: 0.3024282\ttest: 0.3425148\tbest: 0.3425148 (15)\ttotal: 28ms\tremaining: 59.5ms\n",
      "16:\tlearn: 0.2982911\ttest: 0.3462553\tbest: 0.3425148 (15)\ttotal: 30ms\tremaining: 58.2ms\n",
      "17:\tlearn: 0.2950764\ttest: 0.3410508\tbest: 0.3410508 (17)\ttotal: 31.8ms\tremaining: 56.5ms\n",
      "18:\tlearn: 0.2923682\ttest: 0.3388692\tbest: 0.3388692 (18)\ttotal: 33.4ms\tremaining: 54.4ms\n",
      "19:\tlearn: 0.2888042\ttest: 0.3393301\tbest: 0.3388692 (18)\ttotal: 35ms\tremaining: 52.5ms\n",
      "20:\tlearn: 0.2856687\ttest: 0.3438754\tbest: 0.3388692 (18)\ttotal: 36.6ms\tremaining: 50.6ms\n",
      "21:\tlearn: 0.2790975\ttest: 0.3469498\tbest: 0.3388692 (18)\ttotal: 38.2ms\tremaining: 48.6ms\n",
      "22:\tlearn: 0.2749163\ttest: 0.3472067\tbest: 0.3388692 (18)\ttotal: 39.8ms\tremaining: 46.7ms\n",
      "23:\tlearn: 0.2697883\ttest: 0.3441844\tbest: 0.3388692 (18)\ttotal: 41.3ms\tremaining: 44.7ms\n",
      "24:\tlearn: 0.2662861\ttest: 0.3414854\tbest: 0.3388692 (18)\ttotal: 42.8ms\tremaining: 42.8ms\n",
      "25:\tlearn: 0.2624983\ttest: 0.3366886\tbest: 0.3366886 (25)\ttotal: 44.3ms\tremaining: 40.9ms\n",
      "26:\tlearn: 0.2557712\ttest: 0.3234917\tbest: 0.3234917 (26)\ttotal: 46ms\tremaining: 39.2ms\n",
      "27:\tlearn: 0.2519001\ttest: 0.3218136\tbest: 0.3218136 (27)\ttotal: 47.7ms\tremaining: 37.4ms\n",
      "28:\tlearn: 0.2495067\ttest: 0.3252593\tbest: 0.3218136 (27)\ttotal: 49.3ms\tremaining: 35.7ms\n",
      "29:\tlearn: 0.2462840\ttest: 0.3310689\tbest: 0.3218136 (27)\ttotal: 50.9ms\tremaining: 33.9ms\n",
      "30:\tlearn: 0.2431954\ttest: 0.3348685\tbest: 0.3218136 (27)\ttotal: 52.6ms\tremaining: 32.2ms\n",
      "31:\tlearn: 0.2350577\ttest: 0.3210596\tbest: 0.3210596 (31)\ttotal: 54.3ms\tremaining: 30.5ms\n",
      "32:\tlearn: 0.2306485\ttest: 0.3156615\tbest: 0.3156615 (32)\ttotal: 55.9ms\tremaining: 28.8ms\n",
      "33:\tlearn: 0.2282336\ttest: 0.3181919\tbest: 0.3156615 (32)\ttotal: 57.4ms\tremaining: 27ms\n",
      "34:\tlearn: 0.2256791\ttest: 0.3211176\tbest: 0.3156615 (32)\ttotal: 59.4ms\tremaining: 25.5ms\n",
      "35:\tlearn: 0.2232014\ttest: 0.3199392\tbest: 0.3156615 (32)\ttotal: 61ms\tremaining: 23.7ms\n",
      "36:\tlearn: 0.2215461\ttest: 0.3182326\tbest: 0.3156615 (32)\ttotal: 62.7ms\tremaining: 22ms\n",
      "37:\tlearn: 0.2191570\ttest: 0.3203649\tbest: 0.3156615 (32)\ttotal: 64.3ms\tremaining: 20.3ms\n",
      "38:\tlearn: 0.2171712\ttest: 0.3227362\tbest: 0.3156615 (32)\ttotal: 65.9ms\tremaining: 18.6ms\n",
      "39:\tlearn: 0.2133677\ttest: 0.3162048\tbest: 0.3156615 (32)\ttotal: 67.7ms\tremaining: 16.9ms\n",
      "40:\tlearn: 0.2109134\ttest: 0.3160417\tbest: 0.3156615 (32)\ttotal: 69.8ms\tremaining: 15.3ms\n",
      "41:\tlearn: 0.2081018\ttest: 0.3127932\tbest: 0.3127932 (41)\ttotal: 78.5ms\tremaining: 15ms\n",
      "42:\tlearn: 0.2069752\ttest: 0.3121933\tbest: 0.3121933 (42)\ttotal: 80.6ms\tremaining: 13.1ms\n",
      "43:\tlearn: 0.2022183\ttest: 0.3085925\tbest: 0.3085925 (43)\ttotal: 82.3ms\tremaining: 11.2ms\n",
      "44:\tlearn: 0.2000658\ttest: 0.3062565\tbest: 0.3062565 (44)\ttotal: 83.8ms\tremaining: 9.31ms\n",
      "45:\tlearn: 0.1977786\ttest: 0.3083085\tbest: 0.3062565 (44)\ttotal: 85.5ms\tremaining: 7.43ms\n",
      "46:\tlearn: 0.1965073\ttest: 0.3093020\tbest: 0.3062565 (44)\ttotal: 87.2ms\tremaining: 5.56ms\n",
      "47:\tlearn: 0.1939259\ttest: 0.3109356\tbest: 0.3062565 (44)\ttotal: 88.9ms\tremaining: 3.7ms\n",
      "48:\tlearn: 0.1910821\ttest: 0.3110540\tbest: 0.3062565 (44)\ttotal: 90.8ms\tremaining: 1.85ms\n",
      "49:\tlearn: 0.1892665\ttest: 0.3119905\tbest: 0.3062565 (44)\ttotal: 92.4ms\tremaining: 0us\n",
      "\n",
      "bestTest = 0.3062564705\n",
      "bestIteration = 44\n",
      "\n",
      "Training on fold [4/5]\n",
      "0:\tlearn: 0.4174707\ttest: 0.4251032\tbest: 0.4251032 (0)\ttotal: 1.71ms\tremaining: 84ms\n",
      "1:\tlearn: 0.3925493\ttest: 0.4059071\tbest: 0.4059071 (1)\ttotal: 3.42ms\tremaining: 82ms\n",
      "2:\tlearn: 0.3780760\ttest: 0.3868064\tbest: 0.3868064 (2)\ttotal: 5.09ms\tremaining: 79.7ms\n",
      "3:\tlearn: 0.3679411\ttest: 0.3814850\tbest: 0.3814850 (3)\ttotal: 6.63ms\tremaining: 76.2ms\n",
      "4:\tlearn: 0.3630563\ttest: 0.3806582\tbest: 0.3806582 (4)\ttotal: 8.19ms\tremaining: 73.7ms\n",
      "5:\tlearn: 0.3561387\ttest: 0.3765586\tbest: 0.3765586 (5)\ttotal: 9.8ms\tremaining: 71.9ms\n",
      "6:\tlearn: 0.3503726\ttest: 0.3747572\tbest: 0.3747572 (6)\ttotal: 11.5ms\tremaining: 70.7ms\n",
      "7:\tlearn: 0.3463152\ttest: 0.3738790\tbest: 0.3738790 (7)\ttotal: 13.1ms\tremaining: 68.6ms\n",
      "8:\tlearn: 0.3421322\ttest: 0.3774704\tbest: 0.3738790 (7)\ttotal: 14.6ms\tremaining: 66.4ms\n",
      "9:\tlearn: 0.3389965\ttest: 0.3783864\tbest: 0.3738790 (7)\ttotal: 16.2ms\tremaining: 64.8ms\n",
      "10:\tlearn: 0.3295290\ttest: 0.3791168\tbest: 0.3738790 (7)\ttotal: 17.8ms\tremaining: 63ms\n",
      "11:\tlearn: 0.3236415\ttest: 0.3866049\tbest: 0.3738790 (7)\ttotal: 19.4ms\tremaining: 61.3ms\n",
      "12:\tlearn: 0.3197696\ttest: 0.3843376\tbest: 0.3738790 (7)\ttotal: 21ms\tremaining: 59.8ms\n",
      "13:\tlearn: 0.3164981\ttest: 0.3895202\tbest: 0.3738790 (7)\ttotal: 22.6ms\tremaining: 58.1ms\n",
      "14:\tlearn: 0.3119952\ttest: 0.3901267\tbest: 0.3738790 (7)\ttotal: 24.2ms\tremaining: 56.6ms\n",
      "15:\tlearn: 0.3059446\ttest: 0.3877703\tbest: 0.3738790 (7)\ttotal: 25.9ms\tremaining: 55ms\n",
      "16:\tlearn: 0.3040103\ttest: 0.3927581\tbest: 0.3738790 (7)\ttotal: 27.4ms\tremaining: 53.2ms\n",
      "17:\tlearn: 0.2955516\ttest: 0.3815098\tbest: 0.3738790 (7)\ttotal: 29ms\tremaining: 51.6ms\n",
      "18:\tlearn: 0.2872343\ttest: 0.3830866\tbest: 0.3738790 (7)\ttotal: 30.7ms\tremaining: 50.1ms\n",
      "19:\tlearn: 0.2831952\ttest: 0.3841151\tbest: 0.3738790 (7)\ttotal: 32.3ms\tremaining: 48.4ms\n",
      "20:\tlearn: 0.2729703\ttest: 0.3739168\tbest: 0.3738790 (7)\ttotal: 33.8ms\tremaining: 46.7ms\n",
      "21:\tlearn: 0.2698037\ttest: 0.3737687\tbest: 0.3737687 (21)\ttotal: 35.4ms\tremaining: 45ms\n",
      "22:\tlearn: 0.2645922\ttest: 0.3785422\tbest: 0.3737687 (21)\ttotal: 37ms\tremaining: 43.4ms\n",
      "23:\tlearn: 0.2608893\ttest: 0.3760868\tbest: 0.3737687 (21)\ttotal: 38.5ms\tremaining: 41.8ms\n",
      "24:\tlearn: 0.2580853\ttest: 0.3783028\tbest: 0.3737687 (21)\ttotal: 40.4ms\tremaining: 40.4ms\n",
      "25:\tlearn: 0.2553610\ttest: 0.3752346\tbest: 0.3737687 (21)\ttotal: 42.4ms\tremaining: 39.2ms\n",
      "26:\tlearn: 0.2504106\ttest: 0.3730424\tbest: 0.3730424 (26)\ttotal: 44.3ms\tremaining: 37.7ms\n",
      "27:\tlearn: 0.2440117\ttest: 0.3641210\tbest: 0.3641210 (27)\ttotal: 45.9ms\tremaining: 36.1ms\n",
      "28:\tlearn: 0.2395169\ttest: 0.3624958\tbest: 0.3624958 (28)\ttotal: 47.8ms\tremaining: 34.6ms\n",
      "29:\tlearn: 0.2351728\ttest: 0.3569329\tbest: 0.3569329 (29)\ttotal: 49.4ms\tremaining: 32.9ms\n",
      "30:\tlearn: 0.2298623\ttest: 0.3536784\tbest: 0.3536784 (30)\ttotal: 51ms\tremaining: 31.2ms\n",
      "31:\tlearn: 0.2270255\ttest: 0.3554595\tbest: 0.3536784 (30)\ttotal: 52.6ms\tremaining: 29.6ms\n",
      "32:\tlearn: 0.2232844\ttest: 0.3597049\tbest: 0.3536784 (30)\ttotal: 54.1ms\tremaining: 27.9ms\n",
      "33:\tlearn: 0.2209056\ttest: 0.3648470\tbest: 0.3536784 (30)\ttotal: 55.6ms\tremaining: 26.2ms\n",
      "34:\tlearn: 0.2179828\ttest: 0.3593044\tbest: 0.3536784 (30)\ttotal: 57.1ms\tremaining: 24.5ms\n",
      "35:\tlearn: 0.2128832\ttest: 0.3558877\tbest: 0.3536784 (30)\ttotal: 58.9ms\tremaining: 22.9ms\n",
      "36:\tlearn: 0.2097598\ttest: 0.3554770\tbest: 0.3536784 (30)\ttotal: 60.7ms\tremaining: 21.3ms\n",
      "37:\tlearn: 0.2080761\ttest: 0.3553798\tbest: 0.3536784 (30)\ttotal: 62.2ms\tremaining: 19.6ms\n",
      "38:\tlearn: 0.2046429\ttest: 0.3598773\tbest: 0.3536784 (30)\ttotal: 63.7ms\tremaining: 18ms\n",
      "39:\tlearn: 0.2011059\ttest: 0.3555749\tbest: 0.3536784 (30)\ttotal: 65.2ms\tremaining: 16.3ms\n",
      "40:\tlearn: 0.1975479\ttest: 0.3443833\tbest: 0.3443833 (40)\ttotal: 77.7ms\tremaining: 17.1ms\n",
      "41:\tlearn: 0.1960645\ttest: 0.3489955\tbest: 0.3443833 (40)\ttotal: 79.7ms\tremaining: 15.2ms\n",
      "42:\tlearn: 0.1937533\ttest: 0.3465943\tbest: 0.3443833 (40)\ttotal: 81.2ms\tremaining: 13.2ms\n",
      "43:\tlearn: 0.1910680\ttest: 0.3471142\tbest: 0.3443833 (40)\ttotal: 82.8ms\tremaining: 11.3ms\n",
      "44:\tlearn: 0.1897062\ttest: 0.3455540\tbest: 0.3443833 (40)\ttotal: 84.4ms\tremaining: 9.37ms\n",
      "45:\tlearn: 0.1882511\ttest: 0.3500058\tbest: 0.3443833 (40)\ttotal: 86ms\tremaining: 7.48ms\n",
      "46:\tlearn: 0.1858850\ttest: 0.3505261\tbest: 0.3443833 (40)\ttotal: 87.7ms\tremaining: 5.59ms\n",
      "47:\tlearn: 0.1848368\ttest: 0.3519099\tbest: 0.3443833 (40)\ttotal: 89.2ms\tremaining: 3.71ms\n",
      "48:\tlearn: 0.1831667\ttest: 0.3557222\tbest: 0.3443833 (40)\ttotal: 90.7ms\tremaining: 1.85ms\n",
      "49:\tlearn: 0.1807760\ttest: 0.3560406\tbest: 0.3443833 (40)\ttotal: 92.3ms\tremaining: 0us\n",
      "\n",
      "bestTest = 0.3443833164\n",
      "bestIteration = 40\n",
      "\n",
      "CPU times: user 6.15 s, sys: 278 ms, total: 6.43 s\n",
      "Wall time: 8.57 s\n"
     ]
    },
    {
     "data": {
      "text/plain": [
       "{'depth': 5, 'learning_rate': 1, 'iterations': 50}"
      ]
     },
     "execution_count": 51,
     "metadata": {},
     "output_type": "execute_result"
    }
   ],
   "source": [
    "%%time\n",
    "\n",
    "model_cat = CatBoostClassifier(random_state=80822)\n",
    "\n",
    "parametrs = {'iterations': [50],\n",
    "             'depth': range(1, 10),\n",
    "             'learning_rate': [0.01, 0.05, 0.1, 1]}\n",
    "\n",
    "grid_cat = model_cat.grid_search(parametrs, features_train, target_train, cv=5,\n",
    "                                 verbose=50, plot=False)\n",
    "\n",
    "grid_cat['params']"
   ]
  },
  {
   "cell_type": "code",
   "execution_count": 52,
   "metadata": {},
   "outputs": [],
   "source": [
    "model_cat = CatBoostClassifier(random_state=80822, depth=5, learning_rate=1, iterations=50, verbose=0)"
   ]
  },
  {
   "cell_type": "code",
   "execution_count": 53,
   "metadata": {},
   "outputs": [
    {
     "name": "stdout",
     "output_type": "stream",
     "text": [
      "Accuracy модели <catboost.core.CatBoostClassifier object at 0x7f1b97f521f0> на обучающей выборке: 0.9256\n",
      "AUC-ROC: 0.9707\n"
     ]
    },
    {
     "data": {
      "image/png": "[encoded data removed]",
      "text/plain": [
       "<Figure size 432x288 with 1 Axes>"
      ]
     },
     "metadata": {
      "needs_background": "light"
     },
     "output_type": "display_data"
    }
   ],
   "source": [
    "automation(model_cat)"
   ]
  },
  {
   "cell_type": "markdown",
   "metadata": {},
   "source": [
    "## Сравнение моделей"
   ]
  },
  {
   "cell_type": "code",
   "execution_count": 54,
   "metadata": {},
   "outputs": [
    {
     "data": {
      "text/html": [
       "<div>\n",
       "<style scoped>\n",
       "    .dataframe tbody tr th:only-of-type {\n",
       "        vertical-align: middle;\n",
       "    }\n",
       "\n",
       "    .dataframe tbody tr th {\n",
       "        vertical-align: top;\n",
       "    }\n",
       "\n",
       "    .dataframe thead th {\n",
       "        text-align: right;\n",
       "    }\n",
       "</style>\n",
       "<table border=\"1\" class=\"dataframe\">\n",
       "  <thead>\n",
       "    <tr style=\"text-align: right;\">\n",
       "      <th></th>\n",
       "      <th>Accuracy</th>\n",
       "      <th>AUC-ROC</th>\n",
       "    </tr>\n",
       "  </thead>\n",
       "  <tbody>\n",
       "    <tr>\n",
       "      <th>CatBoost</th>\n",
       "      <td>0.9256</td>\n",
       "      <td>0.9707</td>\n",
       "    </tr>\n",
       "    <tr>\n",
       "      <th>Случайный лес</th>\n",
       "      <td>0.8438</td>\n",
       "      <td>0.9117</td>\n",
       "    </tr>\n",
       "    <tr>\n",
       "      <th>Логистическая регрессия</th>\n",
       "      <td>0.8095</td>\n",
       "      <td>0.8455</td>\n",
       "    </tr>\n",
       "  </tbody>\n",
       "</table>\n",
       "</div>"
      ],
      "text/plain": [
       "                         Accuracy  AUC-ROC\n",
       "CatBoost                   0.9256   0.9707\n",
       "Случайный лес              0.8438   0.9117\n",
       "Логистическая регрессия    0.8095   0.8455"
      ]
     },
     "execution_count": 54,
     "metadata": {},
     "output_type": "execute_result"
    }
   ],
   "source": [
    "index = ['Логистическая регрессия', 'Случайный лес', 'CatBoost']\n",
    "columns = ['Accuracy', 'AUC-ROC']\n",
    "values = [[0.8095, 0.8455],\n",
    "          [0.8438, 0.9117],\n",
    "          [0.9256, 0.9707]]\n",
    "final = pd.DataFrame(index = index, columns=columns, data=values)\n",
    "final.sort_values(by='AUC-ROC', ascending=False)"
   ]
  },
  {
   "cell_type": "markdown",
   "metadata": {},
   "source": [
    "Наилучшее значение метрики показала модель CatBoost. "
   ]
  },
  {
   "cell_type": "markdown",
   "metadata": {},
   "source": [
    "## Тестирование лучшей модели"
   ]
  },
  {
   "cell_type": "code",
   "execution_count": 55,
   "metadata": {},
   "outputs": [
    {
     "name": "stdout",
     "output_type": "stream",
     "text": [
      "Accuracy модели CatBoost на тестовой выборке: 0.8620102214650767\n",
      "AUC-ROC модели CatBoost на тестовой выборке: 0.9053450294273296\n"
     ]
    },
    {
     "data": {
      "image/png": "[encoded data removed]",
      "text/plain": [
       "<Figure size 432x288 with 1 Axes>"
      ]
     },
     "metadata": {
      "needs_background": "light"
     },
     "output_type": "display_data"
    }
   ],
   "source": [
    "model_cat.fit(features_train, target_train)\n",
    "predictions_cat = model_cat.predict(features_test)\n",
    "probabilities_cat = model_cat.predict_proba(features_test)\n",
    "probabilities_one_cat = probabilities_cat[:, 1]\n",
    "acc_cat = accuracy_score(target_test, predictions_cat)\n",
    "auc_roc_cat = roc_auc_score(target_test, probabilities_one_cat)\n",
    "print('Accuracy модели CatBoost на тестовой выборке:', acc_cat)\n",
    "print('AUC-ROC модели CatBoost на тестовой выборке:', auc_roc_cat)\n",
    "roc_curve_plot(target_test, probabilities_one_cat)"
   ]
  },
  {
   "cell_type": "markdown",
   "metadata": {},
   "source": [
    "## Важность признаков"
   ]
  },
  {
   "cell_type": "code",
   "execution_count": 56,
   "metadata": {},
   "outputs": [
    {
     "data": {
      "text/html": [
       "<div>\n",
       "<style scoped>\n",
       "    .dataframe tbody tr th:only-of-type {\n",
       "        vertical-align: middle;\n",
       "    }\n",
       "\n",
       "    .dataframe tbody tr th {\n",
       "        vertical-align: top;\n",
       "    }\n",
       "\n",
       "    .dataframe thead th {\n",
       "        text-align: right;\n",
       "    }\n",
       "</style>\n",
       "<table border=\"1\" class=\"dataframe\">\n",
       "  <thead>\n",
       "    <tr style=\"text-align: right;\">\n",
       "      <th></th>\n",
       "      <th>importance</th>\n",
       "    </tr>\n",
       "  </thead>\n",
       "  <tbody>\n",
       "    <tr>\n",
       "      <th>Duration</th>\n",
       "      <td>60.851040</td>\n",
       "    </tr>\n",
       "    <tr>\n",
       "      <th>MonthlyCharges</th>\n",
       "      <td>10.223294</td>\n",
       "    </tr>\n",
       "    <tr>\n",
       "      <th>Type_Two year</th>\n",
       "      <td>4.958413</td>\n",
       "    </tr>\n",
       "    <tr>\n",
       "      <th>InternetService_Fiber optic</th>\n",
       "      <td>3.918030</td>\n",
       "    </tr>\n",
       "    <tr>\n",
       "      <th>Type_One year</th>\n",
       "      <td>2.348794</td>\n",
       "    </tr>\n",
       "    <tr>\n",
       "      <th>InternetService_No</th>\n",
       "      <td>2.078779</td>\n",
       "    </tr>\n",
       "    <tr>\n",
       "      <th>SeniorCitizen</th>\n",
       "      <td>1.956946</td>\n",
       "    </tr>\n",
       "    <tr>\n",
       "      <th>MultipleLines_Yes</th>\n",
       "      <td>1.809745</td>\n",
       "    </tr>\n",
       "    <tr>\n",
       "      <th>StreamingMovies_Yes</th>\n",
       "      <td>1.618743</td>\n",
       "    </tr>\n",
       "    <tr>\n",
       "      <th>gender_Male</th>\n",
       "      <td>1.411656</td>\n",
       "    </tr>\n",
       "    <tr>\n",
       "      <th>TechSupport_Yes</th>\n",
       "      <td>1.145695</td>\n",
       "    </tr>\n",
       "    <tr>\n",
       "      <th>PaymentMethod_Electronic check</th>\n",
       "      <td>1.065134</td>\n",
       "    </tr>\n",
       "    <tr>\n",
       "      <th>PaymentMethod_Credit card (automatic)</th>\n",
       "      <td>0.965734</td>\n",
       "    </tr>\n",
       "    <tr>\n",
       "      <th>DeviceProtection_Yes</th>\n",
       "      <td>0.867515</td>\n",
       "    </tr>\n",
       "    <tr>\n",
       "      <th>PaperlessBilling_Yes</th>\n",
       "      <td>0.851406</td>\n",
       "    </tr>\n",
       "    <tr>\n",
       "      <th>StreamingTV_Yes</th>\n",
       "      <td>0.800608</td>\n",
       "    </tr>\n",
       "    <tr>\n",
       "      <th>OnlineSecurity_Yes</th>\n",
       "      <td>0.794925</td>\n",
       "    </tr>\n",
       "    <tr>\n",
       "      <th>Partner_Yes</th>\n",
       "      <td>0.775628</td>\n",
       "    </tr>\n",
       "    <tr>\n",
       "      <th>PaymentMethod_Mailed check</th>\n",
       "      <td>0.602880</td>\n",
       "    </tr>\n",
       "    <tr>\n",
       "      <th>OnlineBackup_Yes</th>\n",
       "      <td>0.534043</td>\n",
       "    </tr>\n",
       "    <tr>\n",
       "      <th>Dependents_Yes</th>\n",
       "      <td>0.420991</td>\n",
       "    </tr>\n",
       "  </tbody>\n",
       "</table>\n",
       "</div>"
      ],
      "text/plain": [
       "                                       importance\n",
       "Duration                                60.851040\n",
       "MonthlyCharges                          10.223294\n",
       "Type_Two year                            4.958413\n",
       "InternetService_Fiber optic              3.918030\n",
       "Type_One year                            2.348794\n",
       "InternetService_No                       2.078779\n",
       "SeniorCitizen                            1.956946\n",
       "MultipleLines_Yes                        1.809745\n",
       "StreamingMovies_Yes                      1.618743\n",
       "gender_Male                              1.411656\n",
       "TechSupport_Yes                          1.145695\n",
       "PaymentMethod_Electronic check           1.065134\n",
       "PaymentMethod_Credit card (automatic)    0.965734\n",
       "DeviceProtection_Yes                     0.867515\n",
       "PaperlessBilling_Yes                     0.851406\n",
       "StreamingTV_Yes                          0.800608\n",
       "OnlineSecurity_Yes                       0.794925\n",
       "Partner_Yes                              0.775628\n",
       "PaymentMethod_Mailed check               0.602880\n",
       "OnlineBackup_Yes                         0.534043\n",
       "Dependents_Yes                           0.420991"
      ]
     },
     "execution_count": 56,
     "metadata": {},
     "output_type": "execute_result"
    }
   ],
   "source": [
    "feature_importances_df = pd.DataFrame(data=model_cat.feature_importances_, \n",
    "                                   index=features_test.columns, \n",
    "                                   columns=['importance'])\n",
    "\n",
    "feature_importances_df.sort_values(by='importance', ascending=False)"
   ]
  },
  {
   "cell_type": "code",
   "execution_count": 57,
   "metadata": {},
   "outputs": [
    {
     "data": {
      "text/plain": [
       "<AxesSubplot:>"
      ]
     },
     "execution_count": 57,
     "metadata": {},
     "output_type": "execute_result"
    },
    {
     "data": {
      "image/png": "[encoded data removed]",
      "text/plain": [
       "<Figure size 864x432 with 1 Axes>"
      ]
     },
     "metadata": {
      "needs_background": "light"
     },
     "output_type": "display_data"
    }
   ],
   "source": [
    "feature_importances_df['importance'].plot(kind='bar', figsize=(12, 6))"
   ]
  },
  {
   "cell_type": "markdown",
   "metadata": {},
   "source": [
    "Среди факторов, наиболее важных для обучения модели, сильно выделяется фактор продолжительности действия контракта. Также можно отметить такой фактор как месячные траты."
   ]
  },
  {
   "cell_type": "markdown",
   "metadata": {},
   "source": [
    "# Заключение"
   ]
  },
  {
   "cell_type": "markdown",
   "metadata": {},
   "source": [
    "Наилучший результат показала модель CatBoost. Метрика AUC-ROC на тестовом наборе данных составляет 0.905, метрика Accuracy - 0.862. \n",
    "\n",
    "Что касается практической пользы применения модели, то она позволит периодически выявлять клиентов, которые потенциально могут уйти из компании. Получив такую информацию, компания сможет оперативно предпринимать меры по предотвращению ухода клиентов.\n",
    "\n",
    "Среди факторов, наиболее важных для обучения модели, сильно выделяется фактор продолжительности действия контракта. Также можно отметить такой фактор как месячные траты."
   ]
  }
 ],
 "metadata": {
  "ExecuteTimeLog": [
   {
    "duration": 432,
    "start_time": "2022-08-08T14:06:13.842Z"
   },
   {
    "duration": 144,
    "start_time": "2022-08-08T14:16:58.890Z"
   },
   {
    "duration": 239,
    "start_time": "2022-08-08T14:21:02.181Z"
   },
   {
    "duration": 393,
    "start_time": "2022-08-10T15:25:50.475Z"
   },
   {
    "duration": 311,
    "start_time": "2022-08-10T15:25:50.870Z"
   },
   {
    "duration": 16,
    "start_time": "2022-08-10T15:25:51.183Z"
   },
   {
    "duration": 8,
    "start_time": "2022-08-10T15:26:45.160Z"
   },
   {
    "duration": 12,
    "start_time": "2022-08-10T15:27:03.199Z"
   },
   {
    "duration": 6,
    "start_time": "2022-08-10T15:32:43.275Z"
   },
   {
    "duration": 13,
    "start_time": "2022-08-10T15:34:50.374Z"
   },
   {
    "duration": 15,
    "start_time": "2022-08-10T15:35:13.699Z"
   },
   {
    "duration": 9,
    "start_time": "2022-08-10T15:44:11.360Z"
   },
   {
    "duration": 11,
    "start_time": "2022-08-10T15:44:27.650Z"
   },
   {
    "duration": 415,
    "start_time": "2022-08-12T14:06:52.446Z"
   },
   {
    "duration": 317,
    "start_time": "2022-08-12T14:06:52.864Z"
   },
   {
    "duration": 18,
    "start_time": "2022-08-12T14:06:53.183Z"
   },
   {
    "duration": 16,
    "start_time": "2022-08-12T14:06:53.202Z"
   },
   {
    "duration": 39,
    "start_time": "2022-08-12T14:06:53.220Z"
   },
   {
    "duration": 15,
    "start_time": "2022-08-12T14:06:53.261Z"
   },
   {
    "duration": 32,
    "start_time": "2022-08-12T14:06:53.278Z"
   },
   {
    "duration": 40,
    "start_time": "2022-08-12T14:06:53.311Z"
   },
   {
    "duration": 8,
    "start_time": "2022-08-12T14:08:45.542Z"
   },
   {
    "duration": 73,
    "start_time": "2022-08-12T14:09:09.766Z"
   },
   {
    "duration": 12,
    "start_time": "2022-08-12T14:12:11.726Z"
   },
   {
    "duration": 7,
    "start_time": "2022-08-12T14:12:19.521Z"
   },
   {
    "duration": 10,
    "start_time": "2022-08-12T14:12:36.432Z"
   },
   {
    "duration": 14,
    "start_time": "2022-08-12T14:35:54.206Z"
   },
   {
    "duration": 7,
    "start_time": "2022-08-12T14:36:49.619Z"
   },
   {
    "duration": 9,
    "start_time": "2022-08-12T14:37:14.314Z"
   },
   {
    "duration": 9,
    "start_time": "2022-08-12T14:45:52.671Z"
   },
   {
    "duration": 10,
    "start_time": "2022-08-12T14:46:45.332Z"
   },
   {
    "duration": 6,
    "start_time": "2022-08-12T14:47:10.949Z"
   },
   {
    "duration": 47,
    "start_time": "2022-08-12T14:47:19.562Z"
   },
   {
    "duration": 7,
    "start_time": "2022-08-12T14:47:30.578Z"
   },
   {
    "duration": 7,
    "start_time": "2022-08-12T14:47:41.312Z"
   },
   {
    "duration": 5,
    "start_time": "2022-08-12T14:47:50.591Z"
   },
   {
    "duration": 7,
    "start_time": "2022-08-12T14:48:40.319Z"
   },
   {
    "duration": 3,
    "start_time": "2022-08-12T14:48:45.638Z"
   },
   {
    "duration": 8,
    "start_time": "2022-08-12T14:48:50.777Z"
   },
   {
    "duration": 7,
    "start_time": "2022-08-12T14:49:59.222Z"
   },
   {
    "duration": 7,
    "start_time": "2022-08-12T14:49:59.751Z"
   },
   {
    "duration": 11,
    "start_time": "2022-08-12T14:50:28.542Z"
   },
   {
    "duration": 7,
    "start_time": "2022-08-12T14:50:29.743Z"
   },
   {
    "duration": 4,
    "start_time": "2022-08-12T14:52:56.836Z"
   },
   {
    "duration": 4,
    "start_time": "2022-08-12T14:53:10.594Z"
   },
   {
    "duration": 5,
    "start_time": "2022-08-12T14:53:19.063Z"
   },
   {
    "duration": 7,
    "start_time": "2022-08-12T14:54:05.282Z"
   },
   {
    "duration": 5,
    "start_time": "2022-08-12T14:54:28.658Z"
   },
   {
    "duration": 6,
    "start_time": "2022-08-12T14:54:55.846Z"
   },
   {
    "duration": 352,
    "start_time": "2022-08-12T15:02:38.198Z"
   },
   {
    "duration": 116,
    "start_time": "2022-08-12T15:02:38.556Z"
   },
   {
    "duration": 16,
    "start_time": "2022-08-12T15:02:38.674Z"
   },
   {
    "duration": 11,
    "start_time": "2022-08-12T15:02:38.692Z"
   },
   {
    "duration": 11,
    "start_time": "2022-08-12T15:02:38.705Z"
   },
   {
    "duration": 11,
    "start_time": "2022-08-12T15:02:38.718Z"
   },
   {
    "duration": 11,
    "start_time": "2022-08-12T15:02:38.731Z"
   },
   {
    "duration": 23,
    "start_time": "2022-08-12T15:02:38.743Z"
   },
   {
    "duration": 12,
    "start_time": "2022-08-12T15:02:38.768Z"
   },
   {
    "duration": 10,
    "start_time": "2022-08-12T15:02:38.781Z"
   },
   {
    "duration": 13,
    "start_time": "2022-08-12T15:02:38.793Z"
   },
   {
    "duration": 12,
    "start_time": "2022-08-12T15:02:38.808Z"
   },
   {
    "duration": 9,
    "start_time": "2022-08-12T15:02:38.822Z"
   },
   {
    "duration": 5,
    "start_time": "2022-08-12T15:07:30.503Z"
   },
   {
    "duration": 5,
    "start_time": "2022-08-12T15:08:01.096Z"
   },
   {
    "duration": 7,
    "start_time": "2022-08-12T15:16:07.304Z"
   },
   {
    "duration": 8,
    "start_time": "2022-08-12T15:16:30.457Z"
   },
   {
    "duration": 11,
    "start_time": "2022-08-12T15:20:08.703Z"
   },
   {
    "duration": 10,
    "start_time": "2022-08-12T16:00:45.087Z"
   },
   {
    "duration": 6,
    "start_time": "2022-08-12T16:08:06.711Z"
   },
   {
    "duration": 66,
    "start_time": "2022-08-12T16:08:27.969Z"
   },
   {
    "duration": 8,
    "start_time": "2022-08-12T16:08:35.936Z"
   },
   {
    "duration": 481,
    "start_time": "2022-08-12T16:57:17.470Z"
   },
   {
    "duration": 134,
    "start_time": "2022-08-12T16:57:48.079Z"
   },
   {
    "duration": 141,
    "start_time": "2022-08-12T16:58:19.472Z"
   },
   {
    "duration": 136,
    "start_time": "2022-08-12T16:58:42.100Z"
   },
   {
    "duration": 14,
    "start_time": "2022-08-12T16:59:20.985Z"
   },
   {
    "duration": 381,
    "start_time": "2022-08-12T19:47:08.349Z"
   },
   {
    "duration": 336,
    "start_time": "2022-08-12T19:47:08.732Z"
   },
   {
    "duration": 21,
    "start_time": "2022-08-12T19:47:09.070Z"
   },
   {
    "duration": 17,
    "start_time": "2022-08-12T19:47:09.093Z"
   },
   {
    "duration": 9,
    "start_time": "2022-08-12T19:47:09.113Z"
   },
   {
    "duration": 27,
    "start_time": "2022-08-12T19:47:09.123Z"
   },
   {
    "duration": 10,
    "start_time": "2022-08-12T19:47:09.152Z"
   },
   {
    "duration": 12,
    "start_time": "2022-08-12T19:47:09.164Z"
   },
   {
    "duration": 11,
    "start_time": "2022-08-12T19:47:09.178Z"
   },
   {
    "duration": 9,
    "start_time": "2022-08-12T19:47:09.191Z"
   },
   {
    "duration": 14,
    "start_time": "2022-08-12T19:47:09.202Z"
   },
   {
    "duration": 14,
    "start_time": "2022-08-12T19:47:09.218Z"
   },
   {
    "duration": 27,
    "start_time": "2022-08-12T19:47:09.234Z"
   },
   {
    "duration": 20,
    "start_time": "2022-08-12T19:47:09.265Z"
   },
   {
    "duration": 6,
    "start_time": "2022-08-12T19:47:09.288Z"
   },
   {
    "duration": 19,
    "start_time": "2022-08-12T19:47:09.296Z"
   },
   {
    "duration": 36,
    "start_time": "2022-08-12T19:47:09.316Z"
   },
   {
    "duration": 9,
    "start_time": "2022-08-12T19:47:09.353Z"
   },
   {
    "duration": 429,
    "start_time": "2022-08-12T19:47:09.363Z"
   },
   {
    "duration": 5,
    "start_time": "2022-08-12T19:47:28.284Z"
   },
   {
    "duration": 111,
    "start_time": "2022-08-12T19:48:23.859Z"
   },
   {
    "duration": 9,
    "start_time": "2022-08-12T19:48:49.168Z"
   },
   {
    "duration": 122,
    "start_time": "2022-08-12T19:48:55.193Z"
   },
   {
    "duration": 137,
    "start_time": "2022-08-12T19:55:22.923Z"
   },
   {
    "duration": 3,
    "start_time": "2022-08-12T19:57:32.947Z"
   },
   {
    "duration": 1193,
    "start_time": "2022-08-12T19:59:31.863Z"
   },
   {
    "duration": 86,
    "start_time": "2022-08-13T12:38:43.053Z"
   },
   {
    "duration": 0,
    "start_time": "2022-08-13T12:38:43.141Z"
   },
   {
    "duration": 0,
    "start_time": "2022-08-13T12:38:43.141Z"
   },
   {
    "duration": 0,
    "start_time": "2022-08-13T12:38:43.143Z"
   },
   {
    "duration": 0,
    "start_time": "2022-08-13T12:38:43.144Z"
   },
   {
    "duration": 0,
    "start_time": "2022-08-13T12:38:43.144Z"
   },
   {
    "duration": 0,
    "start_time": "2022-08-13T12:38:43.145Z"
   },
   {
    "duration": 0,
    "start_time": "2022-08-13T12:38:43.146Z"
   },
   {
    "duration": 0,
    "start_time": "2022-08-13T12:38:43.148Z"
   },
   {
    "duration": 0,
    "start_time": "2022-08-13T12:38:43.149Z"
   },
   {
    "duration": 0,
    "start_time": "2022-08-13T12:38:43.150Z"
   },
   {
    "duration": 0,
    "start_time": "2022-08-13T12:38:43.151Z"
   },
   {
    "duration": 0,
    "start_time": "2022-08-13T12:38:43.153Z"
   },
   {
    "duration": 0,
    "start_time": "2022-08-13T12:38:43.154Z"
   },
   {
    "duration": 0,
    "start_time": "2022-08-13T12:38:43.155Z"
   },
   {
    "duration": 0,
    "start_time": "2022-08-13T12:38:43.156Z"
   },
   {
    "duration": 0,
    "start_time": "2022-08-13T12:38:43.157Z"
   },
   {
    "duration": 0,
    "start_time": "2022-08-13T12:38:43.158Z"
   },
   {
    "duration": 0,
    "start_time": "2022-08-13T12:38:43.159Z"
   },
   {
    "duration": 0,
    "start_time": "2022-08-13T12:38:43.160Z"
   },
   {
    "duration": 0,
    "start_time": "2022-08-13T12:38:43.161Z"
   },
   {
    "duration": 74,
    "start_time": "2022-08-13T12:39:09.979Z"
   },
   {
    "duration": 752,
    "start_time": "2022-08-13T12:39:53.146Z"
   },
   {
    "duration": 333,
    "start_time": "2022-08-13T12:39:54.262Z"
   },
   {
    "duration": 15,
    "start_time": "2022-08-13T12:39:56.358Z"
   },
   {
    "duration": 15,
    "start_time": "2022-08-13T12:39:57.585Z"
   },
   {
    "duration": 8,
    "start_time": "2022-08-13T12:39:58.287Z"
   },
   {
    "duration": 10,
    "start_time": "2022-08-13T12:39:59.105Z"
   },
   {
    "duration": 8,
    "start_time": "2022-08-13T12:40:00.762Z"
   },
   {
    "duration": 12,
    "start_time": "2022-08-13T12:40:00.929Z"
   },
   {
    "duration": 7,
    "start_time": "2022-08-13T12:40:01.090Z"
   },
   {
    "duration": 8,
    "start_time": "2022-08-13T12:40:01.260Z"
   },
   {
    "duration": 10,
    "start_time": "2022-08-13T12:40:02.126Z"
   },
   {
    "duration": 12,
    "start_time": "2022-08-13T12:40:02.300Z"
   },
   {
    "duration": 8,
    "start_time": "2022-08-13T12:40:02.455Z"
   },
   {
    "duration": 9,
    "start_time": "2022-08-13T12:40:02.660Z"
   },
   {
    "duration": 8,
    "start_time": "2022-08-13T12:40:03.131Z"
   },
   {
    "duration": 10,
    "start_time": "2022-08-13T12:40:03.280Z"
   },
   {
    "duration": 6,
    "start_time": "2022-08-13T12:40:03.450Z"
   },
   {
    "duration": 6,
    "start_time": "2022-08-13T12:40:03.630Z"
   },
   {
    "duration": 155,
    "start_time": "2022-08-13T12:40:06.140Z"
   },
   {
    "duration": 5,
    "start_time": "2022-08-13T12:40:07.850Z"
   },
   {
    "duration": 1498,
    "start_time": "2022-08-13T12:40:08.606Z"
   },
   {
    "duration": 1251,
    "start_time": "2022-08-13T12:41:54.776Z"
   },
   {
    "duration": 630,
    "start_time": "2022-08-13T12:42:14.248Z"
   },
   {
    "duration": 109,
    "start_time": "2022-08-13T12:42:14.881Z"
   },
   {
    "duration": 16,
    "start_time": "2022-08-13T12:42:14.992Z"
   },
   {
    "duration": 16,
    "start_time": "2022-08-13T12:42:15.009Z"
   },
   {
    "duration": 23,
    "start_time": "2022-08-13T12:42:15.026Z"
   },
   {
    "duration": 39,
    "start_time": "2022-08-13T12:42:15.051Z"
   },
   {
    "duration": 8,
    "start_time": "2022-08-13T12:42:15.092Z"
   },
   {
    "duration": 21,
    "start_time": "2022-08-13T12:42:15.101Z"
   },
   {
    "duration": 15,
    "start_time": "2022-08-13T12:42:15.124Z"
   },
   {
    "duration": 15,
    "start_time": "2022-08-13T12:42:15.141Z"
   },
   {
    "duration": 11,
    "start_time": "2022-08-13T12:42:15.158Z"
   },
   {
    "duration": 24,
    "start_time": "2022-08-13T12:42:15.171Z"
   },
   {
    "duration": 11,
    "start_time": "2022-08-13T12:42:15.196Z"
   },
   {
    "duration": 9,
    "start_time": "2022-08-13T12:42:15.208Z"
   },
   {
    "duration": 7,
    "start_time": "2022-08-13T12:42:15.218Z"
   },
   {
    "duration": 12,
    "start_time": "2022-08-13T12:42:15.227Z"
   },
   {
    "duration": 8,
    "start_time": "2022-08-13T12:42:15.241Z"
   },
   {
    "duration": 21,
    "start_time": "2022-08-13T12:42:15.251Z"
   },
   {
    "duration": 170,
    "start_time": "2022-08-13T12:42:15.292Z"
   },
   {
    "duration": 4,
    "start_time": "2022-08-13T12:42:15.464Z"
   },
   {
    "duration": 1281,
    "start_time": "2022-08-13T12:42:15.471Z"
   },
   {
    "duration": 1757,
    "start_time": "2022-08-13T12:42:45.201Z"
   },
   {
    "duration": 1726,
    "start_time": "2022-08-13T12:43:05.420Z"
   },
   {
    "duration": 1636,
    "start_time": "2022-08-13T12:43:34.221Z"
   },
   {
    "duration": 583,
    "start_time": "2022-08-13T12:45:11.678Z"
   },
   {
    "duration": 3,
    "start_time": "2022-08-13T12:46:29.829Z"
   },
   {
    "duration": 40,
    "start_time": "2022-08-13T12:46:37.571Z"
   },
   {
    "duration": 21,
    "start_time": "2022-08-13T12:46:47.332Z"
   },
   {
    "duration": 12,
    "start_time": "2022-08-13T12:47:03.923Z"
   },
   {
    "duration": 16,
    "start_time": "2022-08-13T12:48:33.091Z"
   },
   {
    "duration": 1587,
    "start_time": "2022-08-13T12:48:57.525Z"
   },
   {
    "duration": 15,
    "start_time": "2022-08-13T12:51:28.508Z"
   },
   {
    "duration": 17,
    "start_time": "2022-08-13T12:53:11.959Z"
   },
   {
    "duration": 15,
    "start_time": "2022-08-13T12:56:49.734Z"
   },
   {
    "duration": 11,
    "start_time": "2022-08-13T13:00:27.034Z"
   },
   {
    "duration": 1199,
    "start_time": "2022-08-13T13:05:18.180Z"
   },
   {
    "duration": 11,
    "start_time": "2022-08-13T13:06:12.220Z"
   },
   {
    "duration": 5,
    "start_time": "2022-08-13T13:06:13.871Z"
   },
   {
    "duration": 800,
    "start_time": "2022-08-13T13:06:14.850Z"
   },
   {
    "duration": 9,
    "start_time": "2022-08-13T13:17:22.930Z"
   },
   {
    "duration": 9,
    "start_time": "2022-08-13T13:18:32.726Z"
   },
   {
    "duration": 4,
    "start_time": "2022-08-13T13:18:37.623Z"
   },
   {
    "duration": 4,
    "start_time": "2022-08-13T13:19:52.564Z"
   },
   {
    "duration": 1251,
    "start_time": "2022-08-13T13:22:47.777Z"
   },
   {
    "duration": 493,
    "start_time": "2022-08-13T13:23:09.502Z"
   },
   {
    "duration": 114,
    "start_time": "2022-08-13T13:24:42.511Z"
   },
   {
    "duration": 442,
    "start_time": "2022-08-13T13:25:47.325Z"
   },
   {
    "duration": 17,
    "start_time": "2022-08-13T13:26:21.243Z"
   },
   {
    "duration": 561,
    "start_time": "2022-08-13T13:26:36.467Z"
   },
   {
    "duration": 453,
    "start_time": "2022-08-13T13:39:53.931Z"
   },
   {
    "duration": 5,
    "start_time": "2022-08-13T13:46:15.686Z"
   },
   {
    "duration": 859,
    "start_time": "2022-08-13T13:48:20.506Z"
   },
   {
    "duration": 749,
    "start_time": "2022-08-13T13:48:37.395Z"
   },
   {
    "duration": 522,
    "start_time": "2022-08-13T13:49:10.900Z"
   },
   {
    "duration": 140,
    "start_time": "2022-08-13T13:49:23.711Z"
   },
   {
    "duration": 15,
    "start_time": "2022-08-13T13:49:39.286Z"
   },
   {
    "duration": 787,
    "start_time": "2022-08-13T13:49:58.790Z"
   },
   {
    "duration": 435,
    "start_time": "2022-08-13T13:51:14.006Z"
   },
   {
    "duration": 110,
    "start_time": "2022-08-13T13:59:20.129Z"
   },
   {
    "duration": 112,
    "start_time": "2022-08-13T13:59:49.727Z"
   },
   {
    "duration": 1254,
    "start_time": "2022-08-14T18:08:41.640Z"
   },
   {
    "duration": 405,
    "start_time": "2022-08-14T18:08:42.896Z"
   },
   {
    "duration": 16,
    "start_time": "2022-08-14T18:08:43.302Z"
   },
   {
    "duration": 13,
    "start_time": "2022-08-14T18:08:43.319Z"
   },
   {
    "duration": 7,
    "start_time": "2022-08-14T18:08:43.334Z"
   },
   {
    "duration": 16,
    "start_time": "2022-08-14T18:08:43.342Z"
   },
   {
    "duration": 10,
    "start_time": "2022-08-14T18:08:43.360Z"
   },
   {
    "duration": 14,
    "start_time": "2022-08-14T18:08:43.372Z"
   },
   {
    "duration": 16,
    "start_time": "2022-08-14T18:08:43.387Z"
   },
   {
    "duration": 14,
    "start_time": "2022-08-14T18:08:43.404Z"
   },
   {
    "duration": 20,
    "start_time": "2022-08-14T18:08:43.420Z"
   },
   {
    "duration": 13,
    "start_time": "2022-08-14T18:08:43.442Z"
   },
   {
    "duration": 19,
    "start_time": "2022-08-14T18:08:43.457Z"
   },
   {
    "duration": 11,
    "start_time": "2022-08-14T18:08:43.479Z"
   },
   {
    "duration": 8,
    "start_time": "2022-08-14T18:08:43.492Z"
   },
   {
    "duration": 11,
    "start_time": "2022-08-14T18:08:43.501Z"
   },
   {
    "duration": 12,
    "start_time": "2022-08-14T18:08:43.513Z"
   },
   {
    "duration": 15,
    "start_time": "2022-08-14T18:08:43.527Z"
   },
   {
    "duration": 5,
    "start_time": "2022-08-14T18:08:43.544Z"
   },
   {
    "duration": 9,
    "start_time": "2022-08-14T18:08:43.551Z"
   },
   {
    "duration": 638,
    "start_time": "2022-08-14T18:08:43.561Z"
   },
   {
    "duration": 4,
    "start_time": "2022-08-14T18:08:44.200Z"
   },
   {
    "duration": 457,
    "start_time": "2022-08-14T18:08:44.205Z"
   },
   {
    "duration": 4,
    "start_time": "2022-08-14T18:08:44.664Z"
   },
   {
    "duration": 597,
    "start_time": "2022-08-14T18:08:44.669Z"
   },
   {
    "duration": 139,
    "start_time": "2022-08-14T18:08:45.268Z"
   },
   {
    "duration": 91,
    "start_time": "2022-08-14T18:08:45.409Z"
   },
   {
    "duration": 15,
    "start_time": "2022-08-14T18:09:39.362Z"
   },
   {
    "duration": 7,
    "start_time": "2022-08-14T18:51:50.960Z"
   },
   {
    "duration": 12,
    "start_time": "2022-08-14T18:51:57.946Z"
   },
   {
    "duration": 12,
    "start_time": "2022-08-14T18:54:28.818Z"
   },
   {
    "duration": 9,
    "start_time": "2022-08-14T18:54:30.061Z"
   },
   {
    "duration": 9,
    "start_time": "2022-08-14T18:54:55.268Z"
   },
   {
    "duration": 9,
    "start_time": "2022-08-14T18:58:51.460Z"
   },
   {
    "duration": 7,
    "start_time": "2022-08-14T18:59:22.021Z"
   },
   {
    "duration": 13,
    "start_time": "2022-08-14T19:01:28.393Z"
   },
   {
    "duration": 10,
    "start_time": "2022-08-14T19:17:49.719Z"
   },
   {
    "duration": 76,
    "start_time": "2022-08-14T19:42:57.247Z"
   },
   {
    "duration": 7,
    "start_time": "2022-08-15T11:45:24.793Z"
   },
   {
    "duration": 1216,
    "start_time": "2022-08-15T11:48:54.145Z"
   },
   {
    "duration": 313,
    "start_time": "2022-08-15T11:48:55.363Z"
   },
   {
    "duration": 14,
    "start_time": "2022-08-15T11:48:55.677Z"
   },
   {
    "duration": 11,
    "start_time": "2022-08-15T11:48:55.694Z"
   },
   {
    "duration": 8,
    "start_time": "2022-08-15T11:48:55.706Z"
   },
   {
    "duration": 12,
    "start_time": "2022-08-15T11:48:55.715Z"
   },
   {
    "duration": 10,
    "start_time": "2022-08-15T11:48:55.728Z"
   },
   {
    "duration": 12,
    "start_time": "2022-08-15T11:48:55.739Z"
   },
   {
    "duration": 6,
    "start_time": "2022-08-15T11:48:55.752Z"
   },
   {
    "duration": 6,
    "start_time": "2022-08-15T11:48:55.760Z"
   },
   {
    "duration": 38,
    "start_time": "2022-08-15T11:48:55.767Z"
   },
   {
    "duration": 11,
    "start_time": "2022-08-15T11:48:55.807Z"
   },
   {
    "duration": 9,
    "start_time": "2022-08-15T11:48:55.819Z"
   },
   {
    "duration": 11,
    "start_time": "2022-08-15T11:48:55.829Z"
   },
   {
    "duration": 6,
    "start_time": "2022-08-15T11:48:55.841Z"
   },
   {
    "duration": 9,
    "start_time": "2022-08-15T11:48:55.848Z"
   },
   {
    "duration": 7,
    "start_time": "2022-08-15T11:48:55.858Z"
   },
   {
    "duration": 35,
    "start_time": "2022-08-15T11:48:55.866Z"
   },
   {
    "duration": 8,
    "start_time": "2022-08-15T11:48:55.903Z"
   },
   {
    "duration": 5,
    "start_time": "2022-08-15T11:48:55.912Z"
   },
   {
    "duration": 615,
    "start_time": "2022-08-15T11:48:55.918Z"
   },
   {
    "duration": 4,
    "start_time": "2022-08-15T11:48:56.535Z"
   },
   {
    "duration": 402,
    "start_time": "2022-08-15T11:48:56.540Z"
   },
   {
    "duration": 3,
    "start_time": "2022-08-15T11:48:56.944Z"
   },
   {
    "duration": 568,
    "start_time": "2022-08-15T11:48:56.949Z"
   },
   {
    "duration": 100,
    "start_time": "2022-08-15T11:48:57.518Z"
   },
   {
    "duration": 60,
    "start_time": "2022-08-15T11:48:57.620Z"
   },
   {
    "duration": 116,
    "start_time": "2022-08-15T11:48:57.684Z"
   },
   {
    "duration": 0,
    "start_time": "2022-08-15T11:48:57.802Z"
   },
   {
    "duration": 0,
    "start_time": "2022-08-15T11:48:57.803Z"
   },
   {
    "duration": 0,
    "start_time": "2022-08-15T11:48:57.804Z"
   },
   {
    "duration": 64,
    "start_time": "2022-08-15T11:49:20.951Z"
   },
   {
    "duration": 5,
    "start_time": "2022-08-15T11:51:53.927Z"
   },
   {
    "duration": 9,
    "start_time": "2022-08-15T11:53:32.240Z"
   },
   {
    "duration": 12,
    "start_time": "2022-08-15T11:59:47.033Z"
   },
   {
    "duration": 14,
    "start_time": "2022-08-15T12:02:09.284Z"
   },
   {
    "duration": 11,
    "start_time": "2022-08-15T12:02:13.697Z"
   },
   {
    "duration": 9,
    "start_time": "2022-08-15T12:02:15.621Z"
   },
   {
    "duration": 39,
    "start_time": "2022-08-15T12:12:54.032Z"
   },
   {
    "duration": 3,
    "start_time": "2022-08-15T12:14:39.525Z"
   },
   {
    "duration": 15,
    "start_time": "2022-08-15T12:16:24.076Z"
   },
   {
    "duration": 22,
    "start_time": "2022-08-15T12:19:57.389Z"
   },
   {
    "duration": 8,
    "start_time": "2022-08-15T12:31:24.798Z"
   },
   {
    "duration": 8,
    "start_time": "2022-08-15T12:32:02.616Z"
   },
   {
    "duration": 23,
    "start_time": "2022-08-15T12:32:12.210Z"
   },
   {
    "duration": 446,
    "start_time": "2022-08-15T12:44:21.783Z"
   },
   {
    "duration": 382,
    "start_time": "2022-08-15T12:46:30.638Z"
   },
   {
    "duration": 5,
    "start_time": "2022-08-15T13:12:34.960Z"
   },
   {
    "duration": 14,
    "start_time": "2022-08-15T13:12:45.410Z"
   },
   {
    "duration": 1052,
    "start_time": "2022-08-15T13:12:58.166Z"
   },
   {
    "duration": 103,
    "start_time": "2022-08-15T13:12:59.220Z"
   },
   {
    "duration": 13,
    "start_time": "2022-08-15T13:12:59.324Z"
   },
   {
    "duration": 11,
    "start_time": "2022-08-15T13:12:59.338Z"
   },
   {
    "duration": 6,
    "start_time": "2022-08-15T13:12:59.350Z"
   },
   {
    "duration": 13,
    "start_time": "2022-08-15T13:12:59.357Z"
   },
   {
    "duration": 18,
    "start_time": "2022-08-15T13:12:59.371Z"
   },
   {
    "duration": 13,
    "start_time": "2022-08-15T13:12:59.390Z"
   },
   {
    "duration": 7,
    "start_time": "2022-08-15T13:12:59.404Z"
   },
   {
    "duration": 7,
    "start_time": "2022-08-15T13:12:59.413Z"
   },
   {
    "duration": 15,
    "start_time": "2022-08-15T13:12:59.421Z"
   },
   {
    "duration": 13,
    "start_time": "2022-08-15T13:12:59.437Z"
   },
   {
    "duration": 6,
    "start_time": "2022-08-15T13:12:59.452Z"
   },
   {
    "duration": 12,
    "start_time": "2022-08-15T13:12:59.459Z"
   },
   {
    "duration": 25,
    "start_time": "2022-08-15T13:12:59.473Z"
   },
   {
    "duration": 8,
    "start_time": "2022-08-15T13:12:59.500Z"
   },
   {
    "duration": 21,
    "start_time": "2022-08-15T13:12:59.510Z"
   },
   {
    "duration": 11,
    "start_time": "2022-08-15T13:12:59.533Z"
   },
   {
    "duration": 10,
    "start_time": "2022-08-15T13:12:59.546Z"
   },
   {
    "duration": 5,
    "start_time": "2022-08-15T13:12:59.557Z"
   },
   {
    "duration": 612,
    "start_time": "2022-08-15T13:12:59.564Z"
   },
   {
    "duration": 4,
    "start_time": "2022-08-15T13:13:00.178Z"
   },
   {
    "duration": 454,
    "start_time": "2022-08-15T13:13:00.183Z"
   },
   {
    "duration": 3,
    "start_time": "2022-08-15T13:13:00.639Z"
   },
   {
    "duration": 600,
    "start_time": "2022-08-15T13:13:00.643Z"
   },
   {
    "duration": 113,
    "start_time": "2022-08-15T13:13:01.245Z"
   },
   {
    "duration": 75,
    "start_time": "2022-08-15T13:13:01.360Z"
   },
   {
    "duration": 8,
    "start_time": "2022-08-15T13:13:01.438Z"
   },
   {
    "duration": 45,
    "start_time": "2022-08-15T13:13:01.447Z"
   },
   {
    "duration": 29,
    "start_time": "2022-08-15T13:13:01.493Z"
   },
   {
    "duration": 7,
    "start_time": "2022-08-15T13:13:01.524Z"
   },
   {
    "duration": 57,
    "start_time": "2022-08-15T13:13:01.533Z"
   },
   {
    "duration": 112,
    "start_time": "2022-08-15T13:13:01.591Z"
   },
   {
    "duration": 16,
    "start_time": "2022-08-15T13:13:01.704Z"
   },
   {
    "duration": 21,
    "start_time": "2022-08-15T13:13:01.722Z"
   },
   {
    "duration": 14,
    "start_time": "2022-08-15T13:13:01.744Z"
   },
   {
    "duration": 366,
    "start_time": "2022-08-15T13:13:01.759Z"
   },
   {
    "duration": 17,
    "start_time": "2022-08-15T13:13:02.127Z"
   },
   {
    "duration": 35,
    "start_time": "2022-08-15T13:17:40.259Z"
   },
   {
    "duration": 6,
    "start_time": "2022-08-15T13:23:42.761Z"
   },
   {
    "duration": 10,
    "start_time": "2022-08-15T13:24:14.319Z"
   },
   {
    "duration": 16,
    "start_time": "2022-08-15T13:24:27.954Z"
   },
   {
    "duration": 80,
    "start_time": "2022-08-15T13:34:28.288Z"
   },
   {
    "duration": 95,
    "start_time": "2022-08-15T13:34:46.735Z"
   },
   {
    "duration": 288,
    "start_time": "2022-08-15T13:35:27.219Z"
   },
   {
    "duration": 8,
    "start_time": "2022-08-15T13:35:35.154Z"
   },
   {
    "duration": 102,
    "start_time": "2022-08-15T13:36:12.204Z"
   },
   {
    "duration": 1585,
    "start_time": "2022-08-16T18:26:11.094Z"
   },
   {
    "duration": 1247,
    "start_time": "2022-08-16T18:26:17.561Z"
   },
   {
    "duration": 292,
    "start_time": "2022-08-16T18:26:18.810Z"
   },
   {
    "duration": 12,
    "start_time": "2022-08-16T18:26:19.104Z"
   },
   {
    "duration": 12,
    "start_time": "2022-08-16T18:26:19.118Z"
   },
   {
    "duration": 7,
    "start_time": "2022-08-16T18:26:19.132Z"
   },
   {
    "duration": 10,
    "start_time": "2022-08-16T18:26:19.141Z"
   },
   {
    "duration": 8,
    "start_time": "2022-08-16T18:26:19.152Z"
   },
   {
    "duration": 13,
    "start_time": "2022-08-16T18:26:19.161Z"
   },
   {
    "duration": 36,
    "start_time": "2022-08-16T18:26:19.176Z"
   },
   {
    "duration": 8,
    "start_time": "2022-08-16T18:26:19.215Z"
   },
   {
    "duration": 11,
    "start_time": "2022-08-16T18:26:19.225Z"
   },
   {
    "duration": 14,
    "start_time": "2022-08-16T18:26:19.237Z"
   },
   {
    "duration": 6,
    "start_time": "2022-08-16T18:26:19.253Z"
   },
   {
    "duration": 9,
    "start_time": "2022-08-16T18:26:19.261Z"
   },
   {
    "duration": 6,
    "start_time": "2022-08-16T18:26:19.272Z"
   },
   {
    "duration": 36,
    "start_time": "2022-08-16T18:26:19.279Z"
   },
   {
    "duration": 5,
    "start_time": "2022-08-16T18:26:19.316Z"
   },
   {
    "duration": 7,
    "start_time": "2022-08-16T18:26:19.323Z"
   },
   {
    "duration": 7,
    "start_time": "2022-08-16T18:26:19.331Z"
   },
   {
    "duration": 5,
    "start_time": "2022-08-16T18:26:19.339Z"
   },
   {
    "duration": 731,
    "start_time": "2022-08-16T18:26:19.346Z"
   },
   {
    "duration": 4,
    "start_time": "2022-08-16T18:26:20.079Z"
   },
   {
    "duration": 390,
    "start_time": "2022-08-16T18:26:20.085Z"
   },
   {
    "duration": 4,
    "start_time": "2022-08-16T18:26:20.477Z"
   },
   {
    "duration": 744,
    "start_time": "2022-08-16T18:26:20.482Z"
   },
   {
    "duration": 122,
    "start_time": "2022-08-16T18:26:21.227Z"
   },
   {
    "duration": 74,
    "start_time": "2022-08-16T18:26:21.350Z"
   },
   {
    "duration": 8,
    "start_time": "2022-08-16T18:26:21.427Z"
   },
   {
    "duration": 13,
    "start_time": "2022-08-16T18:26:21.437Z"
   },
   {
    "duration": 13,
    "start_time": "2022-08-16T18:26:21.451Z"
   },
   {
    "duration": 9,
    "start_time": "2022-08-16T18:26:21.466Z"
   },
   {
    "duration": 39,
    "start_time": "2022-08-16T18:26:21.476Z"
   },
   {
    "duration": 39,
    "start_time": "2022-08-16T18:26:21.517Z"
   },
   {
    "duration": 16,
    "start_time": "2022-08-16T18:26:21.557Z"
   },
   {
    "duration": 48,
    "start_time": "2022-08-16T18:26:21.574Z"
   },
   {
    "duration": 17,
    "start_time": "2022-08-16T18:26:21.623Z"
   },
   {
    "duration": 341,
    "start_time": "2022-08-16T18:26:21.642Z"
   },
   {
    "duration": 32,
    "start_time": "2022-08-16T18:26:21.984Z"
   },
   {
    "duration": 31,
    "start_time": "2022-08-16T18:26:22.017Z"
   },
   {
    "duration": 8,
    "start_time": "2022-08-16T18:26:22.050Z"
   },
   {
    "duration": 20,
    "start_time": "2022-08-16T18:26:22.060Z"
   },
   {
    "duration": 141,
    "start_time": "2022-08-16T18:26:22.081Z"
   },
   {
    "duration": 11,
    "start_time": "2022-08-16T18:26:57.555Z"
   },
   {
    "duration": 26,
    "start_time": "2022-08-16T18:27:46.755Z"
   },
   {
    "duration": 47,
    "start_time": "2022-08-16T18:37:23.317Z"
   },
   {
    "duration": 4,
    "start_time": "2022-08-16T18:37:37.587Z"
   },
   {
    "duration": 11128,
    "start_time": "2022-08-16T19:18:43.393Z"
   },
   {
    "duration": 231,
    "start_time": "2022-08-16T19:26:14.954Z"
   },
   {
    "duration": 170,
    "start_time": "2022-08-16T19:27:06.240Z"
   },
   {
    "duration": 101,
    "start_time": "2022-08-16T19:27:53.810Z"
   },
   {
    "duration": 50,
    "start_time": "2022-08-16T19:29:26.661Z"
   },
   {
    "duration": 11,
    "start_time": "2022-08-16T19:35:46.325Z"
   },
   {
    "duration": 25,
    "start_time": "2022-08-16T19:35:55.046Z"
   },
   {
    "duration": 28,
    "start_time": "2022-08-16T19:36:19.662Z"
   },
   {
    "duration": 3,
    "start_time": "2022-08-16T20:07:40.381Z"
   },
   {
    "duration": 31,
    "start_time": "2022-08-16T20:08:29.698Z"
   },
   {
    "duration": 11327,
    "start_time": "2022-08-16T20:09:15.384Z"
   },
   {
    "duration": 97,
    "start_time": "2022-08-16T20:09:26.713Z"
   },
   {
    "duration": 204,
    "start_time": "2022-08-16T20:09:26.812Z"
   },
   {
    "duration": 3,
    "start_time": "2022-08-16T20:11:21.999Z"
   },
   {
    "duration": 11357,
    "start_time": "2022-08-16T20:11:23.955Z"
   },
   {
    "duration": 99,
    "start_time": "2022-08-16T20:11:35.314Z"
   },
   {
    "duration": 195,
    "start_time": "2022-08-16T20:11:35.415Z"
   },
   {
    "duration": 3,
    "start_time": "2022-08-16T20:13:18.229Z"
   },
   {
    "duration": 277,
    "start_time": "2022-08-16T20:13:24.032Z"
   },
   {
    "duration": 86,
    "start_time": "2022-08-16T20:16:06.199Z"
   },
   {
    "duration": 3,
    "start_time": "2022-08-16T20:16:31.971Z"
   },
   {
    "duration": 31,
    "start_time": "2022-08-16T20:16:49.396Z"
   },
   {
    "duration": 285,
    "start_time": "2022-08-16T20:16:50.928Z"
   },
   {
    "duration": 4,
    "start_time": "2022-08-16T20:17:08.404Z"
   },
   {
    "duration": 272,
    "start_time": "2022-08-16T20:17:14.939Z"
   },
   {
    "duration": 309,
    "start_time": "2022-08-16T20:21:45.178Z"
   },
   {
    "duration": 4,
    "start_time": "2022-08-16T20:33:06.671Z"
   },
   {
    "duration": 140129,
    "start_time": "2022-08-16T20:33:14.182Z"
   },
   {
    "duration": 3,
    "start_time": "2022-08-16T20:37:02.373Z"
   },
   {
    "duration": 255,
    "start_time": "2022-08-16T20:37:03.754Z"
   },
   {
    "duration": 384,
    "start_time": "2022-08-16T20:37:05.930Z"
   },
   {
    "duration": 3,
    "start_time": "2022-08-16T20:38:02.798Z"
   },
   {
    "duration": 312,
    "start_time": "2022-08-16T20:38:15.403Z"
   },
   {
    "duration": 355,
    "start_time": "2022-08-16T20:39:15.777Z"
   },
   {
    "duration": 456,
    "start_time": "2022-08-16T20:40:43.793Z"
   },
   {
    "duration": 398,
    "start_time": "2022-08-16T20:41:19.031Z"
   },
   {
    "duration": 266,
    "start_time": "2022-08-16T20:45:13.983Z"
   },
   {
    "duration": 359,
    "start_time": "2022-08-16T20:45:49.830Z"
   },
   {
    "duration": 63,
    "start_time": "2022-08-16T20:56:39.637Z"
   },
   {
    "duration": 53,
    "start_time": "2022-08-16T20:58:43.266Z"
   },
   {
    "duration": 1326,
    "start_time": "2022-08-16T20:59:29.218Z"
   },
   {
    "duration": 103,
    "start_time": "2022-08-16T20:59:30.546Z"
   },
   {
    "duration": 14,
    "start_time": "2022-08-16T20:59:30.650Z"
   },
   {
    "duration": 17,
    "start_time": "2022-08-16T20:59:30.666Z"
   },
   {
    "duration": 15,
    "start_time": "2022-08-16T20:59:30.685Z"
   },
   {
    "duration": 19,
    "start_time": "2022-08-16T20:59:30.702Z"
   },
   {
    "duration": 14,
    "start_time": "2022-08-16T20:59:30.722Z"
   },
   {
    "duration": 19,
    "start_time": "2022-08-16T20:59:30.738Z"
   },
   {
    "duration": 20,
    "start_time": "2022-08-16T20:59:30.758Z"
   },
   {
    "duration": 23,
    "start_time": "2022-08-16T20:59:30.780Z"
   },
   {
    "duration": 11,
    "start_time": "2022-08-16T20:59:30.804Z"
   },
   {
    "duration": 33,
    "start_time": "2022-08-16T20:59:30.816Z"
   },
   {
    "duration": 9,
    "start_time": "2022-08-16T20:59:30.851Z"
   },
   {
    "duration": 8,
    "start_time": "2022-08-16T20:59:30.861Z"
   },
   {
    "duration": 11,
    "start_time": "2022-08-16T20:59:30.870Z"
   },
   {
    "duration": 25,
    "start_time": "2022-08-16T20:59:30.883Z"
   },
   {
    "duration": 8,
    "start_time": "2022-08-16T20:59:30.910Z"
   },
   {
    "duration": 13,
    "start_time": "2022-08-16T20:59:30.920Z"
   },
   {
    "duration": 16,
    "start_time": "2022-08-16T20:59:30.934Z"
   },
   {
    "duration": 13,
    "start_time": "2022-08-16T20:59:30.951Z"
   },
   {
    "duration": 710,
    "start_time": "2022-08-16T20:59:30.966Z"
   },
   {
    "duration": 4,
    "start_time": "2022-08-16T20:59:31.677Z"
   },
   {
    "duration": 385,
    "start_time": "2022-08-16T20:59:31.682Z"
   },
   {
    "duration": 4,
    "start_time": "2022-08-16T20:59:32.068Z"
   },
   {
    "duration": 706,
    "start_time": "2022-08-16T20:59:32.074Z"
   },
   {
    "duration": 113,
    "start_time": "2022-08-16T20:59:32.782Z"
   },
   {
    "duration": 68,
    "start_time": "2022-08-16T20:59:32.897Z"
   },
   {
    "duration": 8,
    "start_time": "2022-08-16T20:59:32.969Z"
   },
   {
    "duration": 17,
    "start_time": "2022-08-16T20:59:32.979Z"
   },
   {
    "duration": 13,
    "start_time": "2022-08-16T20:59:33.009Z"
   },
   {
    "duration": 5,
    "start_time": "2022-08-16T20:59:33.023Z"
   },
   {
    "duration": 11,
    "start_time": "2022-08-16T20:59:33.029Z"
   },
   {
    "duration": 37,
    "start_time": "2022-08-16T20:59:33.041Z"
   },
   {
    "duration": 38,
    "start_time": "2022-08-16T20:59:33.080Z"
   },
   {
    "duration": 21,
    "start_time": "2022-08-16T20:59:33.120Z"
   },
   {
    "duration": 16,
    "start_time": "2022-08-16T20:59:33.143Z"
   },
   {
    "duration": 384,
    "start_time": "2022-08-16T20:59:33.160Z"
   },
   {
    "duration": 17,
    "start_time": "2022-08-16T20:59:33.545Z"
   },
   {
    "duration": 46,
    "start_time": "2022-08-16T20:59:33.564Z"
   },
   {
    "duration": 8,
    "start_time": "2022-08-16T20:59:33.611Z"
   },
   {
    "duration": 24,
    "start_time": "2022-08-16T20:59:33.621Z"
   },
   {
    "duration": 133,
    "start_time": "2022-08-16T20:59:33.646Z"
   },
   {
    "duration": 3,
    "start_time": "2022-08-16T20:59:33.781Z"
   },
   {
    "duration": 6,
    "start_time": "2022-08-16T20:59:33.785Z"
   },
   {
    "duration": 11522,
    "start_time": "2022-08-16T20:59:33.793Z"
   },
   {
    "duration": 2,
    "start_time": "2022-08-16T20:59:45.317Z"
   },
   {
    "duration": 290,
    "start_time": "2022-08-16T20:59:45.321Z"
   },
   {
    "duration": 310,
    "start_time": "2022-08-16T20:59:45.612Z"
   },
   {
    "duration": 135141,
    "start_time": "2022-08-16T20:59:45.923Z"
   },
   {
    "duration": 2,
    "start_time": "2022-08-16T21:02:01.066Z"
   },
   {
    "duration": 426,
    "start_time": "2022-08-16T21:02:01.070Z"
   },
   {
    "duration": 432,
    "start_time": "2022-08-16T21:02:01.498Z"
   },
   {
    "duration": 381,
    "start_time": "2022-08-16T21:02:01.931Z"
   },
   {
    "duration": 178,
    "start_time": "2022-08-16T21:02:02.313Z"
   },
   {
    "duration": 4281,
    "start_time": "2022-08-16T21:02:39.760Z"
   },
   {
    "duration": 5407,
    "start_time": "2022-08-16T21:08:19.750Z"
   },
   {
    "duration": 6984,
    "start_time": "2022-08-16T21:08:42.405Z"
   },
   {
    "duration": 3,
    "start_time": "2022-08-16T21:09:46.662Z"
   },
   {
    "duration": 963,
    "start_time": "2022-08-16T21:10:13.305Z"
   },
   {
    "duration": 3,
    "start_time": "2022-08-16T21:11:01.072Z"
   },
   {
    "duration": 706,
    "start_time": "2022-08-16T21:11:01.989Z"
   },
   {
    "duration": 6699,
    "start_time": "2022-08-16T21:11:18.048Z"
   },
   {
    "duration": 7198,
    "start_time": "2022-08-16T21:11:39.705Z"
   },
   {
    "duration": 654,
    "start_time": "2022-08-16T21:18:26.014Z"
   },
   {
    "duration": 977,
    "start_time": "2022-08-16T21:19:08.867Z"
   },
   {
    "duration": 1398,
    "start_time": "2022-08-16T21:20:16.089Z"
   },
   {
    "duration": 104,
    "start_time": "2022-08-16T21:20:17.489Z"
   },
   {
    "duration": 15,
    "start_time": "2022-08-16T21:20:17.594Z"
   },
   {
    "duration": 13,
    "start_time": "2022-08-16T21:20:17.611Z"
   },
   {
    "duration": 7,
    "start_time": "2022-08-16T21:20:17.626Z"
   },
   {
    "duration": 19,
    "start_time": "2022-08-16T21:20:17.635Z"
   },
   {
    "duration": 8,
    "start_time": "2022-08-16T21:20:17.656Z"
   },
   {
    "duration": 12,
    "start_time": "2022-08-16T21:20:17.666Z"
   },
   {
    "duration": 31,
    "start_time": "2022-08-16T21:20:17.680Z"
   },
   {
    "duration": 10,
    "start_time": "2022-08-16T21:20:17.713Z"
   },
   {
    "duration": 10,
    "start_time": "2022-08-16T21:20:17.724Z"
   },
   {
    "duration": 12,
    "start_time": "2022-08-16T21:20:17.735Z"
   },
   {
    "duration": 9,
    "start_time": "2022-08-16T21:20:17.749Z"
   },
   {
    "duration": 12,
    "start_time": "2022-08-16T21:20:17.759Z"
   },
   {
    "duration": 11,
    "start_time": "2022-08-16T21:20:17.773Z"
   },
   {
    "duration": 10,
    "start_time": "2022-08-16T21:20:17.809Z"
   },
   {
    "duration": 7,
    "start_time": "2022-08-16T21:20:17.820Z"
   },
   {
    "duration": 8,
    "start_time": "2022-08-16T21:20:17.829Z"
   },
   {
    "duration": 7,
    "start_time": "2022-08-16T21:20:17.838Z"
   },
   {
    "duration": 5,
    "start_time": "2022-08-16T21:20:17.846Z"
   },
   {
    "duration": 715,
    "start_time": "2022-08-16T21:20:17.852Z"
   },
   {
    "duration": 4,
    "start_time": "2022-08-16T21:20:18.568Z"
   },
   {
    "duration": 392,
    "start_time": "2022-08-16T21:20:18.573Z"
   },
   {
    "duration": 3,
    "start_time": "2022-08-16T21:20:18.966Z"
   },
   {
    "duration": 702,
    "start_time": "2022-08-16T21:20:18.971Z"
   },
   {
    "duration": 115,
    "start_time": "2022-08-16T21:20:19.676Z"
   },
   {
    "duration": 75,
    "start_time": "2022-08-16T21:20:19.792Z"
   },
   {
    "duration": 9,
    "start_time": "2022-08-16T21:20:19.870Z"
   },
   {
    "duration": 30,
    "start_time": "2022-08-16T21:20:19.880Z"
   },
   {
    "duration": 13,
    "start_time": "2022-08-16T21:20:19.912Z"
   },
   {
    "duration": 7,
    "start_time": "2022-08-16T21:20:19.926Z"
   },
   {
    "duration": 17,
    "start_time": "2022-08-16T21:20:19.935Z"
   },
   {
    "duration": 36,
    "start_time": "2022-08-16T21:20:19.954Z"
   },
   {
    "duration": 33,
    "start_time": "2022-08-16T21:20:19.992Z"
   },
   {
    "duration": 24,
    "start_time": "2022-08-16T21:20:20.026Z"
   },
   {
    "duration": 17,
    "start_time": "2022-08-16T21:20:20.052Z"
   },
   {
    "duration": 403,
    "start_time": "2022-08-16T21:20:20.071Z"
   },
   {
    "duration": 18,
    "start_time": "2022-08-16T21:20:20.476Z"
   },
   {
    "duration": 38,
    "start_time": "2022-08-16T21:20:20.496Z"
   },
   {
    "duration": 8,
    "start_time": "2022-08-16T21:20:20.536Z"
   },
   {
    "duration": 25,
    "start_time": "2022-08-16T21:20:20.546Z"
   },
   {
    "duration": 144,
    "start_time": "2022-08-16T21:20:20.572Z"
   },
   {
    "duration": 4,
    "start_time": "2022-08-16T21:20:20.718Z"
   },
   {
    "duration": 9,
    "start_time": "2022-08-16T21:20:20.723Z"
   },
   {
    "duration": 11384,
    "start_time": "2022-08-16T21:20:20.734Z"
   },
   {
    "duration": 3,
    "start_time": "2022-08-16T21:20:32.119Z"
   },
   {
    "duration": 275,
    "start_time": "2022-08-16T21:20:32.123Z"
   },
   {
    "duration": 303,
    "start_time": "2022-08-16T21:20:32.408Z"
   },
   {
    "duration": 132473,
    "start_time": "2022-08-16T21:20:32.713Z"
   },
   {
    "duration": 3,
    "start_time": "2022-08-16T21:22:45.188Z"
   },
   {
    "duration": 404,
    "start_time": "2022-08-16T21:22:45.192Z"
   },
   {
    "duration": 432,
    "start_time": "2022-08-16T21:22:45.597Z"
   },
   {
    "duration": 362,
    "start_time": "2022-08-16T21:22:46.030Z"
   },
   {
    "duration": 6497,
    "start_time": "2022-08-16T21:22:46.394Z"
   },
   {
    "duration": 2,
    "start_time": "2022-08-16T21:22:52.893Z"
   },
   {
    "duration": 746,
    "start_time": "2022-08-16T21:22:52.897Z"
   },
   {
    "duration": 664,
    "start_time": "2022-08-16T21:22:53.645Z"
   },
   {
    "duration": 122,
    "start_time": "2022-08-16T21:31:06.005Z"
   },
   {
    "duration": 11,
    "start_time": "2022-08-16T21:31:19.879Z"
   },
   {
    "duration": 9,
    "start_time": "2022-08-16T21:31:28.985Z"
   },
   {
    "duration": 9,
    "start_time": "2022-08-16T21:32:10.766Z"
   },
   {
    "duration": 11,
    "start_time": "2022-08-16T21:32:27.954Z"
   },
   {
    "duration": 47,
    "start_time": "2022-08-16T21:36:11.175Z"
   },
   {
    "duration": 539,
    "start_time": "2022-08-16T21:39:37.956Z"
   },
   {
    "duration": 762,
    "start_time": "2022-08-16T21:39:51.236Z"
   },
   {
    "duration": 2,
    "start_time": "2022-08-16T21:40:05.550Z"
   },
   {
    "duration": 3,
    "start_time": "2022-08-16T21:54:32.973Z"
   },
   {
    "duration": 259,
    "start_time": "2022-08-16T21:57:14.757Z"
   },
   {
    "duration": 724,
    "start_time": "2022-08-16T21:58:23.262Z"
   },
   {
    "duration": 9,
    "start_time": "2022-08-16T22:12:20.809Z"
   },
   {
    "duration": 667,
    "start_time": "2022-08-16T22:12:55.443Z"
   },
   {
    "duration": 1296,
    "start_time": "2022-08-16T22:28:26.267Z"
   },
   {
    "duration": 116,
    "start_time": "2022-08-16T22:28:27.565Z"
   },
   {
    "duration": 18,
    "start_time": "2022-08-16T22:28:27.683Z"
   },
   {
    "duration": 14,
    "start_time": "2022-08-16T22:28:27.704Z"
   },
   {
    "duration": 20,
    "start_time": "2022-08-16T22:28:27.720Z"
   },
   {
    "duration": 14,
    "start_time": "2022-08-16T22:28:27.742Z"
   },
   {
    "duration": 8,
    "start_time": "2022-08-16T22:28:27.757Z"
   },
   {
    "duration": 14,
    "start_time": "2022-08-16T22:28:27.767Z"
   },
   {
    "duration": 7,
    "start_time": "2022-08-16T22:28:27.783Z"
   },
   {
    "duration": 21,
    "start_time": "2022-08-16T22:28:27.793Z"
   },
   {
    "duration": 9,
    "start_time": "2022-08-16T22:28:27.815Z"
   },
   {
    "duration": 12,
    "start_time": "2022-08-16T22:28:27.826Z"
   },
   {
    "duration": 6,
    "start_time": "2022-08-16T22:28:27.840Z"
   },
   {
    "duration": 10,
    "start_time": "2022-08-16T22:28:27.848Z"
   },
   {
    "duration": 6,
    "start_time": "2022-08-16T22:28:27.860Z"
   },
   {
    "duration": 44,
    "start_time": "2022-08-16T22:28:27.867Z"
   },
   {
    "duration": 8,
    "start_time": "2022-08-16T22:28:27.913Z"
   },
   {
    "duration": 5,
    "start_time": "2022-08-16T22:28:27.923Z"
   },
   {
    "duration": 7,
    "start_time": "2022-08-16T22:28:27.930Z"
   },
   {
    "duration": 6,
    "start_time": "2022-08-16T22:28:27.938Z"
   },
   {
    "duration": 721,
    "start_time": "2022-08-16T22:28:27.946Z"
   },
   {
    "duration": 4,
    "start_time": "2022-08-16T22:28:28.669Z"
   },
   {
    "duration": 372,
    "start_time": "2022-08-16T22:28:28.674Z"
   },
   {
    "duration": 4,
    "start_time": "2022-08-16T22:28:29.048Z"
   },
   {
    "duration": 728,
    "start_time": "2022-08-16T22:28:29.053Z"
   },
   {
    "duration": 105,
    "start_time": "2022-08-16T22:28:29.782Z"
   },
   {
    "duration": 73,
    "start_time": "2022-08-16T22:28:29.889Z"
   },
   {
    "duration": 8,
    "start_time": "2022-08-16T22:28:29.965Z"
   },
   {
    "duration": 13,
    "start_time": "2022-08-16T22:28:29.975Z"
   },
   {
    "duration": 32,
    "start_time": "2022-08-16T22:28:29.990Z"
   },
   {
    "duration": 16,
    "start_time": "2022-08-16T22:28:30.023Z"
   },
   {
    "duration": 19,
    "start_time": "2022-08-16T22:28:30.041Z"
   },
   {
    "duration": 58,
    "start_time": "2022-08-16T22:28:30.062Z"
   },
   {
    "duration": 16,
    "start_time": "2022-08-16T22:28:30.121Z"
   },
   {
    "duration": 39,
    "start_time": "2022-08-16T22:28:30.138Z"
   },
   {
    "duration": 21,
    "start_time": "2022-08-16T22:28:30.178Z"
   },
   {
    "duration": 356,
    "start_time": "2022-08-16T22:28:30.201Z"
   },
   {
    "duration": 22,
    "start_time": "2022-08-16T22:28:30.559Z"
   },
   {
    "duration": 47,
    "start_time": "2022-08-16T22:28:30.583Z"
   },
   {
    "duration": 8,
    "start_time": "2022-08-16T22:28:30.631Z"
   },
   {
    "duration": 30,
    "start_time": "2022-08-16T22:28:30.641Z"
   },
   {
    "duration": 125,
    "start_time": "2022-08-16T22:28:30.672Z"
   },
   {
    "duration": 11,
    "start_time": "2022-08-16T22:28:30.799Z"
   },
   {
    "duration": 10,
    "start_time": "2022-08-16T22:28:30.812Z"
   },
   {
    "duration": 11293,
    "start_time": "2022-08-16T22:28:30.824Z"
   },
   {
    "duration": 3,
    "start_time": "2022-08-16T22:28:42.118Z"
   },
   {
    "duration": 292,
    "start_time": "2022-08-16T22:28:42.122Z"
   },
   {
    "duration": 134218,
    "start_time": "2022-08-16T22:28:42.415Z"
   },
   {
    "duration": 3,
    "start_time": "2022-08-16T22:30:56.635Z"
   },
   {
    "duration": 423,
    "start_time": "2022-08-16T22:30:56.640Z"
   },
   {
    "duration": 7072,
    "start_time": "2022-08-16T22:30:57.065Z"
   },
   {
    "duration": 3,
    "start_time": "2022-08-16T22:31:04.139Z"
   },
   {
    "duration": 671,
    "start_time": "2022-08-16T22:31:04.144Z"
   },
   {
    "duration": 9,
    "start_time": "2022-08-16T22:31:04.816Z"
   },
   {
    "duration": 702,
    "start_time": "2022-08-16T22:31:04.827Z"
   },
   {
    "duration": 2,
    "start_time": "2022-08-16T22:33:41.505Z"
   },
   {
    "duration": 442,
    "start_time": "2022-08-16T22:33:42.516Z"
   },
   {
    "duration": 1300,
    "start_time": "2022-08-16T22:34:22.737Z"
   },
   {
    "duration": 102,
    "start_time": "2022-08-16T22:34:24.039Z"
   },
   {
    "duration": 14,
    "start_time": "2022-08-16T22:34:24.143Z"
   },
   {
    "duration": 14,
    "start_time": "2022-08-16T22:34:24.159Z"
   },
   {
    "duration": 6,
    "start_time": "2022-08-16T22:34:24.175Z"
   },
   {
    "duration": 12,
    "start_time": "2022-08-16T22:34:24.183Z"
   },
   {
    "duration": 7,
    "start_time": "2022-08-16T22:34:24.197Z"
   },
   {
    "duration": 12,
    "start_time": "2022-08-16T22:34:24.205Z"
   },
   {
    "duration": 6,
    "start_time": "2022-08-16T22:34:24.219Z"
   },
   {
    "duration": 8,
    "start_time": "2022-08-16T22:34:24.228Z"
   },
   {
    "duration": 10,
    "start_time": "2022-08-16T22:34:24.237Z"
   },
   {
    "duration": 13,
    "start_time": "2022-08-16T22:34:24.248Z"
   },
   {
    "duration": 7,
    "start_time": "2022-08-16T22:34:24.263Z"
   },
   {
    "duration": 9,
    "start_time": "2022-08-16T22:34:24.271Z"
   },
   {
    "duration": 7,
    "start_time": "2022-08-16T22:34:24.309Z"
   },
   {
    "duration": 12,
    "start_time": "2022-08-16T22:34:24.317Z"
   },
   {
    "duration": 5,
    "start_time": "2022-08-16T22:34:24.330Z"
   },
   {
    "duration": 11,
    "start_time": "2022-08-16T22:34:24.337Z"
   },
   {
    "duration": 6,
    "start_time": "2022-08-16T22:34:24.349Z"
   },
   {
    "duration": 13,
    "start_time": "2022-08-16T22:34:24.356Z"
   },
   {
    "duration": 707,
    "start_time": "2022-08-16T22:34:24.370Z"
   },
   {
    "duration": 5,
    "start_time": "2022-08-16T22:34:25.079Z"
   },
   {
    "duration": 387,
    "start_time": "2022-08-16T22:34:25.085Z"
   },
   {
    "duration": 4,
    "start_time": "2022-08-16T22:34:25.473Z"
   },
   {
    "duration": 760,
    "start_time": "2022-08-16T22:34:25.479Z"
   },
   {
    "duration": 105,
    "start_time": "2022-08-16T22:34:26.241Z"
   },
   {
    "duration": 77,
    "start_time": "2022-08-16T22:34:26.348Z"
   },
   {
    "duration": 9,
    "start_time": "2022-08-16T22:34:26.430Z"
   },
   {
    "duration": 12,
    "start_time": "2022-08-16T22:34:26.441Z"
   },
   {
    "duration": 14,
    "start_time": "2022-08-16T22:34:26.455Z"
   },
   {
    "duration": 7,
    "start_time": "2022-08-16T22:34:26.470Z"
   },
   {
    "duration": 42,
    "start_time": "2022-08-16T22:34:26.478Z"
   },
   {
    "duration": 37,
    "start_time": "2022-08-16T22:34:26.522Z"
   },
   {
    "duration": 15,
    "start_time": "2022-08-16T22:34:26.561Z"
   },
   {
    "duration": 46,
    "start_time": "2022-08-16T22:34:26.578Z"
   },
   {
    "duration": 16,
    "start_time": "2022-08-16T22:34:26.625Z"
   },
   {
    "duration": 331,
    "start_time": "2022-08-16T22:34:26.643Z"
   },
   {
    "duration": 19,
    "start_time": "2022-08-16T22:34:26.975Z"
   },
   {
    "duration": 42,
    "start_time": "2022-08-16T22:34:26.995Z"
   },
   {
    "duration": 8,
    "start_time": "2022-08-16T22:34:27.039Z"
   },
   {
    "duration": 24,
    "start_time": "2022-08-16T22:34:27.049Z"
   },
   {
    "duration": 181,
    "start_time": "2022-08-16T22:34:27.074Z"
   },
   {
    "duration": 6,
    "start_time": "2022-08-16T22:34:27.257Z"
   },
   {
    "duration": 8,
    "start_time": "2022-08-16T22:34:27.265Z"
   },
   {
    "duration": 11144,
    "start_time": "2022-08-16T22:34:27.274Z"
   },
   {
    "duration": 3,
    "start_time": "2022-08-16T22:34:38.420Z"
   },
   {
    "duration": 289,
    "start_time": "2022-08-16T22:34:38.424Z"
   },
   {
    "duration": 135421,
    "start_time": "2022-08-16T22:34:38.715Z"
   },
   {
    "duration": 3,
    "start_time": "2022-08-16T22:36:54.138Z"
   },
   {
    "duration": 455,
    "start_time": "2022-08-16T22:36:54.144Z"
   },
   {
    "duration": 6798,
    "start_time": "2022-08-16T22:36:54.608Z"
   },
   {
    "duration": 3,
    "start_time": "2022-08-16T22:37:01.407Z"
   },
   {
    "duration": 636,
    "start_time": "2022-08-16T22:37:01.411Z"
   },
   {
    "duration": 10,
    "start_time": "2022-08-16T22:37:02.049Z"
   },
   {
    "duration": 594,
    "start_time": "2022-08-16T22:37:02.061Z"
   },
   {
    "duration": 1341,
    "start_time": "2022-08-16T22:37:51.011Z"
   },
   {
    "duration": 105,
    "start_time": "2022-08-16T22:37:52.354Z"
   },
   {
    "duration": 15,
    "start_time": "2022-08-16T22:37:52.461Z"
   },
   {
    "duration": 13,
    "start_time": "2022-08-16T22:37:52.478Z"
   },
   {
    "duration": 8,
    "start_time": "2022-08-16T22:37:52.493Z"
   },
   {
    "duration": 11,
    "start_time": "2022-08-16T22:37:52.503Z"
   },
   {
    "duration": 8,
    "start_time": "2022-08-16T22:37:52.515Z"
   },
   {
    "duration": 12,
    "start_time": "2022-08-16T22:37:52.524Z"
   },
   {
    "duration": 7,
    "start_time": "2022-08-16T22:37:52.538Z"
   },
   {
    "duration": 13,
    "start_time": "2022-08-16T22:37:52.548Z"
   },
   {
    "duration": 11,
    "start_time": "2022-08-16T22:37:52.562Z"
   },
   {
    "duration": 34,
    "start_time": "2022-08-16T22:37:52.575Z"
   },
   {
    "duration": 8,
    "start_time": "2022-08-16T22:37:52.611Z"
   },
   {
    "duration": 9,
    "start_time": "2022-08-16T22:37:52.621Z"
   },
   {
    "duration": 7,
    "start_time": "2022-08-16T22:37:52.632Z"
   },
   {
    "duration": 13,
    "start_time": "2022-08-16T22:37:52.641Z"
   },
   {
    "duration": 7,
    "start_time": "2022-08-16T22:37:52.656Z"
   },
   {
    "duration": 7,
    "start_time": "2022-08-16T22:37:52.665Z"
   },
   {
    "duration": 41,
    "start_time": "2022-08-16T22:37:52.674Z"
   },
   {
    "duration": 5,
    "start_time": "2022-08-16T22:37:52.717Z"
   },
   {
    "duration": 737,
    "start_time": "2022-08-16T22:37:52.724Z"
   },
   {
    "duration": 4,
    "start_time": "2022-08-16T22:37:53.463Z"
   },
   {
    "duration": 396,
    "start_time": "2022-08-16T22:37:53.468Z"
   },
   {
    "duration": 4,
    "start_time": "2022-08-16T22:37:53.866Z"
   },
   {
    "duration": 758,
    "start_time": "2022-08-16T22:37:53.871Z"
   },
   {
    "duration": 114,
    "start_time": "2022-08-16T22:37:54.631Z"
   },
   {
    "duration": 75,
    "start_time": "2022-08-16T22:37:54.747Z"
   },
   {
    "duration": 9,
    "start_time": "2022-08-16T22:37:54.826Z"
   },
   {
    "duration": 16,
    "start_time": "2022-08-16T22:37:54.837Z"
   },
   {
    "duration": 13,
    "start_time": "2022-08-16T22:37:54.854Z"
   },
   {
    "duration": 5,
    "start_time": "2022-08-16T22:37:54.869Z"
   },
   {
    "duration": 38,
    "start_time": "2022-08-16T22:37:54.875Z"
   },
   {
    "duration": 38,
    "start_time": "2022-08-16T22:37:54.914Z"
   },
   {
    "duration": 16,
    "start_time": "2022-08-16T22:37:54.953Z"
   },
   {
    "duration": 42,
    "start_time": "2022-08-16T22:37:54.971Z"
   },
   {
    "duration": 17,
    "start_time": "2022-08-16T22:37:55.015Z"
   },
   {
    "duration": 335,
    "start_time": "2022-08-16T22:37:55.033Z"
   },
   {
    "duration": 19,
    "start_time": "2022-08-16T22:37:55.370Z"
   },
   {
    "duration": 39,
    "start_time": "2022-08-16T22:37:55.391Z"
   },
   {
    "duration": 9,
    "start_time": "2022-08-16T22:37:55.432Z"
   },
   {
    "duration": 28,
    "start_time": "2022-08-16T22:37:55.443Z"
   },
   {
    "duration": 150,
    "start_time": "2022-08-16T22:37:55.473Z"
   },
   {
    "duration": 4,
    "start_time": "2022-08-16T22:37:55.624Z"
   },
   {
    "duration": 6,
    "start_time": "2022-08-16T22:37:55.630Z"
   },
   {
    "duration": 11877,
    "start_time": "2022-08-16T22:37:55.638Z"
   },
   {
    "duration": 3,
    "start_time": "2022-08-16T22:38:07.516Z"
   },
   {
    "duration": 434,
    "start_time": "2022-08-16T22:38:07.521Z"
   },
   {
    "duration": 134343,
    "start_time": "2022-08-16T22:38:08.010Z"
   },
   {
    "duration": 3,
    "start_time": "2022-08-16T22:40:22.354Z"
   },
   {
    "duration": 476,
    "start_time": "2022-08-16T22:40:22.359Z"
   },
   {
    "duration": 6577,
    "start_time": "2022-08-16T22:40:22.837Z"
   },
   {
    "duration": 3,
    "start_time": "2022-08-16T22:40:29.415Z"
   },
   {
    "duration": 611,
    "start_time": "2022-08-16T22:40:29.419Z"
   },
   {
    "duration": 11,
    "start_time": "2022-08-16T22:40:30.031Z"
   },
   {
    "duration": 755,
    "start_time": "2022-08-16T22:40:30.044Z"
   },
   {
    "duration": 3,
    "start_time": "2022-08-16T22:42:25.710Z"
   },
   {
    "duration": 825,
    "start_time": "2022-08-16T22:42:26.553Z"
   },
   {
    "duration": 9,
    "start_time": "2022-08-16T22:43:40.781Z"
   },
   {
    "duration": 701,
    "start_time": "2022-08-16T22:43:49.566Z"
   },
   {
    "duration": 1275,
    "start_time": "2022-08-16T22:44:37.963Z"
   },
   {
    "duration": 101,
    "start_time": "2022-08-16T22:44:39.240Z"
   },
   {
    "duration": 15,
    "start_time": "2022-08-16T22:44:39.342Z"
   },
   {
    "duration": 12,
    "start_time": "2022-08-16T22:44:39.358Z"
   },
   {
    "duration": 8,
    "start_time": "2022-08-16T22:44:39.372Z"
   },
   {
    "duration": 11,
    "start_time": "2022-08-16T22:44:39.381Z"
   },
   {
    "duration": 7,
    "start_time": "2022-08-16T22:44:39.393Z"
   },
   {
    "duration": 10,
    "start_time": "2022-08-16T22:44:39.409Z"
   },
   {
    "duration": 8,
    "start_time": "2022-08-16T22:44:39.421Z"
   },
   {
    "duration": 8,
    "start_time": "2022-08-16T22:44:39.431Z"
   },
   {
    "duration": 9,
    "start_time": "2022-08-16T22:44:39.440Z"
   },
   {
    "duration": 13,
    "start_time": "2022-08-16T22:44:39.450Z"
   },
   {
    "duration": 7,
    "start_time": "2022-08-16T22:44:39.464Z"
   },
   {
    "duration": 9,
    "start_time": "2022-08-16T22:44:39.472Z"
   },
   {
    "duration": 7,
    "start_time": "2022-08-16T22:44:39.508Z"
   },
   {
    "duration": 19,
    "start_time": "2022-08-16T22:44:39.516Z"
   },
   {
    "duration": 7,
    "start_time": "2022-08-16T22:44:39.537Z"
   },
   {
    "duration": 7,
    "start_time": "2022-08-16T22:44:39.545Z"
   },
   {
    "duration": 8,
    "start_time": "2022-08-16T22:44:39.554Z"
   },
   {
    "duration": 6,
    "start_time": "2022-08-16T22:44:39.563Z"
   },
   {
    "duration": 754,
    "start_time": "2022-08-16T22:44:39.571Z"
   },
   {
    "duration": 4,
    "start_time": "2022-08-16T22:44:40.326Z"
   },
   {
    "duration": 393,
    "start_time": "2022-08-16T22:44:40.332Z"
   },
   {
    "duration": 4,
    "start_time": "2022-08-16T22:44:40.727Z"
   },
   {
    "duration": 718,
    "start_time": "2022-08-16T22:44:40.732Z"
   },
   {
    "duration": 107,
    "start_time": "2022-08-16T22:44:41.451Z"
   },
   {
    "duration": 74,
    "start_time": "2022-08-16T22:44:41.559Z"
   },
   {
    "duration": 8,
    "start_time": "2022-08-16T22:44:41.636Z"
   },
   {
    "duration": 11,
    "start_time": "2022-08-16T22:44:41.646Z"
   },
   {
    "duration": 13,
    "start_time": "2022-08-16T22:44:41.659Z"
   },
   {
    "duration": 5,
    "start_time": "2022-08-16T22:44:41.674Z"
   },
   {
    "duration": 37,
    "start_time": "2022-08-16T22:44:41.680Z"
   },
   {
    "duration": 42,
    "start_time": "2022-08-16T22:44:41.719Z"
   },
   {
    "duration": 15,
    "start_time": "2022-08-16T22:44:41.763Z"
   },
   {
    "duration": 41,
    "start_time": "2022-08-16T22:44:41.780Z"
   },
   {
    "duration": 16,
    "start_time": "2022-08-16T22:44:41.823Z"
   },
   {
    "duration": 331,
    "start_time": "2022-08-16T22:44:41.840Z"
   },
   {
    "duration": 18,
    "start_time": "2022-08-16T22:44:42.172Z"
   },
   {
    "duration": 47,
    "start_time": "2022-08-16T22:44:42.191Z"
   },
   {
    "duration": 8,
    "start_time": "2022-08-16T22:44:42.239Z"
   },
   {
    "duration": 23,
    "start_time": "2022-08-16T22:44:42.249Z"
   },
   {
    "duration": 135,
    "start_time": "2022-08-16T22:44:42.274Z"
   },
   {
    "duration": 4,
    "start_time": "2022-08-16T22:44:42.410Z"
   },
   {
    "duration": 6,
    "start_time": "2022-08-16T22:44:42.415Z"
   },
   {
    "duration": 11889,
    "start_time": "2022-08-16T22:44:42.423Z"
   },
   {
    "duration": 3,
    "start_time": "2022-08-16T22:44:54.313Z"
   },
   {
    "duration": 292,
    "start_time": "2022-08-16T22:44:54.317Z"
   },
   {
    "duration": 135434,
    "start_time": "2022-08-16T22:44:54.610Z"
   },
   {
    "duration": 3,
    "start_time": "2022-08-16T22:47:10.046Z"
   },
   {
    "duration": 458,
    "start_time": "2022-08-16T22:47:10.051Z"
   },
   {
    "duration": 6531,
    "start_time": "2022-08-16T22:47:10.511Z"
   },
   {
    "duration": 3,
    "start_time": "2022-08-16T22:47:17.043Z"
   },
   {
    "duration": 575,
    "start_time": "2022-08-16T22:47:17.048Z"
   },
   {
    "duration": 8,
    "start_time": "2022-08-16T22:47:17.625Z"
   },
   {
    "duration": 720,
    "start_time": "2022-08-16T22:47:17.635Z"
   },
   {
    "duration": 1523,
    "start_time": "2022-08-18T10:36:36.917Z"
   },
   {
    "duration": 481,
    "start_time": "2022-08-18T10:36:38.443Z"
   },
   {
    "duration": 15,
    "start_time": "2022-08-18T10:36:38.926Z"
   },
   {
    "duration": 13,
    "start_time": "2022-08-18T10:36:38.942Z"
   },
   {
    "duration": 8,
    "start_time": "2022-08-18T10:36:38.957Z"
   },
   {
    "duration": 11,
    "start_time": "2022-08-18T10:36:38.966Z"
   },
   {
    "duration": 7,
    "start_time": "2022-08-18T10:36:38.978Z"
   },
   {
    "duration": 11,
    "start_time": "2022-08-18T10:36:38.987Z"
   },
   {
    "duration": 8,
    "start_time": "2022-08-18T10:36:39.000Z"
   },
   {
    "duration": 9,
    "start_time": "2022-08-18T10:36:39.010Z"
   },
   {
    "duration": 10,
    "start_time": "2022-08-18T10:36:39.020Z"
   },
   {
    "duration": 14,
    "start_time": "2022-08-18T10:36:39.032Z"
   },
   {
    "duration": 40,
    "start_time": "2022-08-18T10:36:39.048Z"
   },
   {
    "duration": 8,
    "start_time": "2022-08-18T10:36:39.092Z"
   },
   {
    "duration": 8,
    "start_time": "2022-08-18T10:36:39.101Z"
   },
   {
    "duration": 12,
    "start_time": "2022-08-18T10:36:39.110Z"
   },
   {
    "duration": 9,
    "start_time": "2022-08-18T10:36:39.123Z"
   },
   {
    "duration": 9,
    "start_time": "2022-08-18T10:36:39.134Z"
   },
   {
    "duration": 7,
    "start_time": "2022-08-18T10:36:39.144Z"
   },
   {
    "duration": 38,
    "start_time": "2022-08-18T10:36:39.152Z"
   },
   {
    "duration": 746,
    "start_time": "2022-08-18T10:36:39.192Z"
   },
   {
    "duration": 5,
    "start_time": "2022-08-18T10:36:39.940Z"
   },
   {
    "duration": 429,
    "start_time": "2022-08-18T10:36:39.946Z"
   },
   {
    "duration": 11,
    "start_time": "2022-08-18T10:36:40.377Z"
   },
   {
    "duration": 756,
    "start_time": "2022-08-18T10:36:40.389Z"
   },
   {
    "duration": 113,
    "start_time": "2022-08-18T10:36:41.147Z"
   },
   {
    "duration": 76,
    "start_time": "2022-08-18T10:36:41.261Z"
   },
   {
    "duration": 11,
    "start_time": "2022-08-18T10:36:41.339Z"
   },
   {
    "duration": 16,
    "start_time": "2022-08-18T10:36:41.351Z"
   },
   {
    "duration": 30,
    "start_time": "2022-08-18T10:36:41.368Z"
   },
   {
    "duration": 5,
    "start_time": "2022-08-18T10:36:41.400Z"
   },
   {
    "duration": 17,
    "start_time": "2022-08-18T10:36:41.406Z"
   },
   {
    "duration": 39,
    "start_time": "2022-08-18T10:36:41.424Z"
   },
   {
    "duration": 34,
    "start_time": "2022-08-18T10:36:41.465Z"
   },
   {
    "duration": 23,
    "start_time": "2022-08-18T10:36:41.501Z"
   },
   {
    "duration": 26,
    "start_time": "2022-08-18T10:36:41.526Z"
   },
   {
    "duration": 370,
    "start_time": "2022-08-18T10:36:41.554Z"
   },
   {
    "duration": 20,
    "start_time": "2022-08-18T10:36:41.925Z"
   },
   {
    "duration": 47,
    "start_time": "2022-08-18T10:36:41.947Z"
   },
   {
    "duration": 9,
    "start_time": "2022-08-18T10:36:41.996Z"
   },
   {
    "duration": 41,
    "start_time": "2022-08-18T10:36:42.011Z"
   },
   {
    "duration": 151,
    "start_time": "2022-08-18T10:36:42.053Z"
   },
   {
    "duration": 4,
    "start_time": "2022-08-18T10:36:42.206Z"
   },
   {
    "duration": 11,
    "start_time": "2022-08-18T10:36:42.211Z"
   },
   {
    "duration": 12077,
    "start_time": "2022-08-18T10:36:42.224Z"
   },
   {
    "duration": 3,
    "start_time": "2022-08-18T10:36:54.303Z"
   },
   {
    "duration": 389,
    "start_time": "2022-08-18T10:36:54.308Z"
   },
   {
    "duration": 139120,
    "start_time": "2022-08-18T10:36:54.699Z"
   },
   {
    "duration": 3,
    "start_time": "2022-08-18T10:39:13.821Z"
   },
   {
    "duration": 497,
    "start_time": "2022-08-18T10:39:13.825Z"
   },
   {
    "duration": 7417,
    "start_time": "2022-08-18T10:39:14.324Z"
   },
   {
    "duration": 4,
    "start_time": "2022-08-18T10:39:21.742Z"
   },
   {
    "duration": 657,
    "start_time": "2022-08-18T10:39:21.748Z"
   },
   {
    "duration": 9,
    "start_time": "2022-08-18T10:39:22.407Z"
   },
   {
    "duration": 739,
    "start_time": "2022-08-18T10:39:22.418Z"
   },
   {
    "duration": 4,
    "start_time": "2022-08-18T10:47:17.709Z"
   },
   {
    "duration": 5,
    "start_time": "2022-08-18T10:58:01.156Z"
   },
   {
    "duration": 109,
    "start_time": "2022-08-18T11:01:58.828Z"
   },
   {
    "duration": 3,
    "start_time": "2022-08-18T11:02:10.198Z"
   },
   {
    "duration": 10,
    "start_time": "2022-08-18T11:02:21.057Z"
   },
   {
    "duration": 5,
    "start_time": "2022-08-18T11:02:38.696Z"
   },
   {
    "duration": 9,
    "start_time": "2022-08-18T11:02:57.103Z"
   },
   {
    "duration": 130,
    "start_time": "2022-08-18T11:03:11.563Z"
   },
   {
    "duration": 8,
    "start_time": "2022-08-18T11:03:27.706Z"
   },
   {
    "duration": 9,
    "start_time": "2022-08-18T11:03:34.539Z"
   },
   {
    "duration": 4,
    "start_time": "2022-08-18T11:03:42.006Z"
   },
   {
    "duration": 6,
    "start_time": "2022-08-18T11:06:58.531Z"
   },
   {
    "duration": 8,
    "start_time": "2022-08-18T11:08:08.436Z"
   },
   {
    "duration": 5,
    "start_time": "2022-08-18T11:08:14.211Z"
   },
   {
    "duration": 10,
    "start_time": "2022-08-18T11:09:51.449Z"
   },
   {
    "duration": 8,
    "start_time": "2022-08-18T11:14:10.525Z"
   },
   {
    "duration": 17,
    "start_time": "2022-08-18T11:16:08.019Z"
   },
   {
    "duration": 8,
    "start_time": "2022-08-18T11:16:21.045Z"
   },
   {
    "duration": 18,
    "start_time": "2022-08-18T11:18:42.288Z"
   },
   {
    "duration": 15,
    "start_time": "2022-08-18T11:19:30.914Z"
   },
   {
    "duration": 15,
    "start_time": "2022-08-18T11:19:59.157Z"
   },
   {
    "duration": 9,
    "start_time": "2022-08-18T11:20:11.403Z"
   },
   {
    "duration": 9,
    "start_time": "2022-08-18T11:20:36.974Z"
   },
   {
    "duration": 3,
    "start_time": "2022-08-18T11:23:39.143Z"
   },
   {
    "duration": 4,
    "start_time": "2022-08-18T11:23:54.422Z"
   },
   {
    "duration": 222,
    "start_time": "2022-08-18T11:24:07.875Z"
   },
   {
    "duration": 239,
    "start_time": "2022-08-18T11:24:25.298Z"
   },
   {
    "duration": 113,
    "start_time": "2022-08-18T11:25:22.625Z"
   },
   {
    "duration": 231,
    "start_time": "2022-08-18T11:25:31.529Z"
   },
   {
    "duration": 270,
    "start_time": "2022-08-18T11:25:55.447Z"
   },
   {
    "duration": 271,
    "start_time": "2022-08-18T11:26:11.865Z"
   },
   {
    "duration": 5,
    "start_time": "2022-08-18T11:26:28.498Z"
   },
   {
    "duration": 254,
    "start_time": "2022-08-18T11:26:29.263Z"
   },
   {
    "duration": 8,
    "start_time": "2022-08-18T11:26:43.429Z"
   },
   {
    "duration": 246,
    "start_time": "2022-08-18T11:26:44.412Z"
   },
   {
    "duration": 1316,
    "start_time": "2022-08-18T11:44:01.322Z"
   },
   {
    "duration": 103,
    "start_time": "2022-08-18T11:44:02.640Z"
   },
   {
    "duration": 13,
    "start_time": "2022-08-18T11:44:02.745Z"
   },
   {
    "duration": 13,
    "start_time": "2022-08-18T11:44:02.760Z"
   },
   {
    "duration": 11,
    "start_time": "2022-08-18T11:44:02.774Z"
   },
   {
    "duration": 13,
    "start_time": "2022-08-18T11:44:02.786Z"
   },
   {
    "duration": 9,
    "start_time": "2022-08-18T11:44:02.801Z"
   },
   {
    "duration": 14,
    "start_time": "2022-08-18T11:44:02.812Z"
   },
   {
    "duration": 18,
    "start_time": "2022-08-18T11:44:02.828Z"
   },
   {
    "duration": 15,
    "start_time": "2022-08-18T11:44:02.848Z"
   },
   {
    "duration": 9,
    "start_time": "2022-08-18T11:44:02.864Z"
   },
   {
    "duration": 27,
    "start_time": "2022-08-18T11:44:02.875Z"
   },
   {
    "duration": 10,
    "start_time": "2022-08-18T11:44:02.903Z"
   },
   {
    "duration": 18,
    "start_time": "2022-08-18T11:44:02.914Z"
   },
   {
    "duration": 6,
    "start_time": "2022-08-18T11:44:02.933Z"
   },
   {
    "duration": 10,
    "start_time": "2022-08-18T11:44:02.941Z"
   },
   {
    "duration": 5,
    "start_time": "2022-08-18T11:44:02.953Z"
   },
   {
    "duration": 9,
    "start_time": "2022-08-18T11:44:02.960Z"
   },
   {
    "duration": 16,
    "start_time": "2022-08-18T11:44:02.971Z"
   },
   {
    "duration": 16,
    "start_time": "2022-08-18T11:44:02.988Z"
   },
   {
    "duration": 725,
    "start_time": "2022-08-18T11:44:03.006Z"
   },
   {
    "duration": 3,
    "start_time": "2022-08-18T11:44:03.733Z"
   },
   {
    "duration": 421,
    "start_time": "2022-08-18T11:44:03.738Z"
   },
   {
    "duration": 4,
    "start_time": "2022-08-18T11:44:04.161Z"
   },
   {
    "duration": 761,
    "start_time": "2022-08-18T11:44:04.166Z"
   },
   {
    "duration": 115,
    "start_time": "2022-08-18T11:44:04.929Z"
   },
   {
    "duration": 76,
    "start_time": "2022-08-18T11:44:05.045Z"
   },
   {
    "duration": 9,
    "start_time": "2022-08-18T11:44:05.124Z"
   },
   {
    "duration": 15,
    "start_time": "2022-08-18T11:44:05.134Z"
   },
   {
    "duration": 13,
    "start_time": "2022-08-18T11:44:05.151Z"
   },
   {
    "duration": 26,
    "start_time": "2022-08-18T11:44:05.165Z"
   },
   {
    "duration": 22,
    "start_time": "2022-08-18T11:44:05.192Z"
   },
   {
    "duration": 43,
    "start_time": "2022-08-18T11:44:05.215Z"
   },
   {
    "duration": 14,
    "start_time": "2022-08-18T11:44:05.260Z"
   },
   {
    "duration": 29,
    "start_time": "2022-08-18T11:44:05.276Z"
   },
   {
    "duration": 16,
    "start_time": "2022-08-18T11:44:05.307Z"
   },
   {
    "duration": 288,
    "start_time": "2022-08-18T11:44:05.325Z"
   },
   {
    "duration": 16,
    "start_time": "2022-08-18T11:44:05.615Z"
   },
   {
    "duration": 38,
    "start_time": "2022-08-18T11:44:05.633Z"
   },
   {
    "duration": 21,
    "start_time": "2022-08-18T11:44:05.673Z"
   },
   {
    "duration": 43,
    "start_time": "2022-08-18T11:44:05.696Z"
   },
   {
    "duration": 122,
    "start_time": "2022-08-18T11:44:05.741Z"
   },
   {
    "duration": 4,
    "start_time": "2022-08-18T11:44:05.864Z"
   },
   {
    "duration": 19,
    "start_time": "2022-08-18T11:44:05.869Z"
   },
   {
    "duration": 12211,
    "start_time": "2022-08-18T11:44:05.889Z"
   },
   {
    "duration": 2,
    "start_time": "2022-08-18T11:44:18.102Z"
   },
   {
    "duration": 370,
    "start_time": "2022-08-18T11:44:18.106Z"
   },
   {
    "duration": 139637,
    "start_time": "2022-08-18T11:44:18.477Z"
   },
   {
    "duration": 3,
    "start_time": "2022-08-18T11:46:38.115Z"
   },
   {
    "duration": 463,
    "start_time": "2022-08-18T11:46:38.120Z"
   },
   {
    "duration": 7100,
    "start_time": "2022-08-18T11:46:38.586Z"
   },
   {
    "duration": 3,
    "start_time": "2022-08-18T11:46:45.688Z"
   },
   {
    "duration": 826,
    "start_time": "2022-08-18T11:46:45.692Z"
   },
   {
    "duration": 11,
    "start_time": "2022-08-18T11:46:46.520Z"
   },
   {
    "duration": 897,
    "start_time": "2022-08-18T11:46:46.532Z"
   },
   {
    "duration": 9,
    "start_time": "2022-08-18T11:46:47.431Z"
   },
   {
    "duration": 268,
    "start_time": "2022-08-18T11:46:47.442Z"
   },
   {
    "duration": 1726,
    "start_time": "2023-02-22T14:07:57.193Z"
   },
   {
    "duration": 372,
    "start_time": "2023-02-22T14:07:58.921Z"
   },
   {
    "duration": 20,
    "start_time": "2023-02-22T14:07:59.295Z"
   },
   {
    "duration": 28,
    "start_time": "2023-02-22T14:07:59.318Z"
   },
   {
    "duration": 42,
    "start_time": "2023-02-22T14:07:59.348Z"
   },
   {
    "duration": 20,
    "start_time": "2023-02-22T14:07:59.392Z"
   },
   {
    "duration": 9,
    "start_time": "2023-02-22T14:07:59.413Z"
   },
   {
    "duration": 16,
    "start_time": "2023-02-22T14:07:59.424Z"
   },
   {
    "duration": 10,
    "start_time": "2023-02-22T14:07:59.443Z"
   },
   {
    "duration": 12,
    "start_time": "2023-02-22T14:07:59.456Z"
   },
   {
    "duration": 10,
    "start_time": "2023-02-22T14:07:59.470Z"
   },
   {
    "duration": 15,
    "start_time": "2023-02-22T14:07:59.482Z"
   },
   {
    "duration": 37,
    "start_time": "2023-02-22T14:07:59.499Z"
   },
   {
    "duration": 9,
    "start_time": "2023-02-22T14:07:59.538Z"
   },
   {
    "duration": 8,
    "start_time": "2023-02-22T14:07:59.549Z"
   },
   {
    "duration": 25,
    "start_time": "2023-02-22T14:07:59.559Z"
   },
   {
    "duration": 42,
    "start_time": "2023-02-22T14:07:59.587Z"
   },
   {
    "duration": 21,
    "start_time": "2023-02-22T14:07:59.632Z"
   },
   {
    "duration": 17,
    "start_time": "2023-02-22T14:07:59.655Z"
   },
   {
    "duration": 6,
    "start_time": "2023-02-22T14:07:59.674Z"
   },
   {
    "duration": 873,
    "start_time": "2023-02-22T14:07:59.682Z"
   },
   {
    "duration": 5,
    "start_time": "2023-02-22T14:08:00.557Z"
   },
   {
    "duration": 485,
    "start_time": "2023-02-22T14:08:00.564Z"
   },
   {
    "duration": 6,
    "start_time": "2023-02-22T14:08:01.052Z"
   },
   {
    "duration": 818,
    "start_time": "2023-02-22T14:08:01.060Z"
   },
   {
    "duration": 304,
    "start_time": "2023-02-22T14:08:01.881Z"
   },
   {
    "duration": 88,
    "start_time": "2023-02-22T14:08:02.186Z"
   },
   {
    "duration": 10,
    "start_time": "2023-02-22T14:08:02.277Z"
   },
   {
    "duration": 16,
    "start_time": "2023-02-22T14:08:02.289Z"
   },
   {
    "duration": 38,
    "start_time": "2023-02-22T14:08:02.307Z"
   },
   {
    "duration": 7,
    "start_time": "2023-02-22T14:08:02.347Z"
   },
   {
    "duration": 18,
    "start_time": "2023-02-22T14:08:02.356Z"
   },
   {
    "duration": 74,
    "start_time": "2023-02-22T14:08:02.376Z"
   },
   {
    "duration": 16,
    "start_time": "2023-02-22T14:08:02.452Z"
   },
   {
    "duration": 36,
    "start_time": "2023-02-22T14:08:02.469Z"
   },
   {
    "duration": 29,
    "start_time": "2023-02-22T14:08:02.508Z"
   },
   {
    "duration": 334,
    "start_time": "2023-02-22T14:08:02.539Z"
   },
   {
    "duration": 20,
    "start_time": "2023-02-22T14:08:02.875Z"
   },
   {
    "duration": 55,
    "start_time": "2023-02-22T14:08:02.897Z"
   },
   {
    "duration": 10,
    "start_time": "2023-02-22T14:08:02.954Z"
   },
   {
    "duration": 39,
    "start_time": "2023-02-22T14:08:02.966Z"
   },
   {
    "duration": 202,
    "start_time": "2023-02-22T14:08:03.007Z"
   },
   {
    "duration": 5,
    "start_time": "2023-02-22T14:08:03.211Z"
   },
   {
    "duration": 27,
    "start_time": "2023-02-22T14:08:03.218Z"
   },
   {
    "duration": 10997,
    "start_time": "2023-02-22T14:08:03.248Z"
   },
   {
    "duration": 3,
    "start_time": "2023-02-22T14:08:14.247Z"
   },
   {
    "duration": 406,
    "start_time": "2023-02-22T14:08:14.251Z"
   },
   {
    "duration": 155121,
    "start_time": "2023-02-22T14:08:14.660Z"
   },
   {
    "duration": 4,
    "start_time": "2023-02-22T14:10:49.783Z"
   },
   {
    "duration": 527,
    "start_time": "2023-02-22T14:10:49.789Z"
   },
   {
    "duration": 8574,
    "start_time": "2023-02-22T14:10:50.318Z"
   },
   {
    "duration": 4,
    "start_time": "2023-02-22T14:10:58.894Z"
   },
   {
    "duration": 695,
    "start_time": "2023-02-22T14:10:58.900Z"
   },
   {
    "duration": 10,
    "start_time": "2023-02-22T14:10:59.597Z"
   },
   {
    "duration": 728,
    "start_time": "2023-02-22T14:10:59.609Z"
   },
   {
    "duration": 10,
    "start_time": "2023-02-22T14:11:00.339Z"
   },
   {
    "duration": 286,
    "start_time": "2023-02-22T14:11:00.350Z"
   }
  ],
  "kernelspec": {
   "display_name": "Python 3 (ipykernel)",
   "language": "python",
   "name": "python3"
  },
  "language_info": {
   "codemirror_mode": {
    "name": "ipython",
    "version": 3
   },
   "file_extension": ".py",
   "mimetype": "text/x-python",
   "name": "python",
   "nbconvert_exporter": "python",
   "pygments_lexer": "ipython3",
   "version": "3.9.5"
  },
  "toc": {
   "base_numbering": "1",
   "nav_menu": {},
   "number_sections": true,
   "sideBar": true,
   "skip_h1_title": false,
   "title_cell": "Содержание",
   "title_sidebar": "Содержание",
   "toc_cell": true,
   "toc_position": {
    "height": "calc(100% - 180px)",
    "left": "10px",
    "top": "150px",
    "width": "289.6px"
   },
   "toc_section_display": true,
   "toc_window_display": true
  }
 },
 "nbformat": 4,
 "nbformat_minor": 2
}
