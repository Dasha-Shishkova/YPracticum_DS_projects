{
 "cells": [
  {
   "cell_type": "markdown",
   "metadata": {},
   "source": [
   
  },
  {
   "cell_type": "markdown",
   "metadata": {},
   "source": [
    "## Шаг 1. Откройте файл с данными и изучите общую информацию"
   ]
  },
  {
   "cell_type": "code",
   "execution_count": 1,
   "metadata": {},
   "outputs": [],
   "source": [
    "# импортируем библиотеки\n",
    "\n",
    "import pandas as pd\n",
    "from pymystem3 import Mystem\n",
    "m = Mystem()\n",
    "from collections import Counter\n",
    "import warnings\n",
    "from pandas.core.common import SettingWithCopyWarning\n",
    "\n",
    "warnings.simplefilter(action=\"ignore\", category=SettingWithCopyWarning)"
   ]
  },
  {
   "cell_type": "code",
   "execution_count": 2,
   "metadata": {},
   "outputs": [],
   "source": [
    "# прочитаем файл с данными и сохраним его в переменную data\n",
    "\n",
    "data = pd.read_csv('/datasets/data.csv') "
   ]
  },
  {
   "cell_type": "code",
   "execution_count": 3,
   "metadata": {},
   "outputs": [
    {
     "data": {
      "text/html": [
       "<div>\n",
       "<style scoped>\n",
       "    .dataframe tbody tr th:only-of-type {\n",
       "        vertical-align: middle;\n",
       "    }\n",
       "\n",
       "    .dataframe tbody tr th {\n",
       "        vertical-align: top;\n",
       "    }\n",
       "\n",
       "    .dataframe thead th {\n",
       "        text-align: right;\n",
       "    }\n",
       "</style>\n",
       "<table border=\"1\" class=\"dataframe\">\n",
       "  <thead>\n",
       "    <tr style=\"text-align: right;\">\n",
       "      <th></th>\n",
       "      <th>children</th>\n",
       "      <th>days_employed</th>\n",
       "      <th>dob_years</th>\n",
       "      <th>education</th>\n",
       "      <th>education_id</th>\n",
       "      <th>family_status</th>\n",
       "      <th>family_status_id</th>\n",
       "      <th>gender</th>\n",
       "      <th>income_type</th>\n",
       "      <th>debt</th>\n",
       "      <th>total_income</th>\n",
       "      <th>purpose</th>\n",
       "    </tr>\n",
       "  </thead>\n",
       "  <tbody>\n",
       "    <tr>\n",
       "      <th>0</th>\n",
       "      <td>1</td>\n",
       "      <td>-8437.673028</td>\n",
       "      <td>42</td>\n",
       "      <td>высшее</td>\n",
       "      <td>0</td>\n",
       "      <td>женат / замужем</td>\n",
       "      <td>0</td>\n",
       "      <td>F</td>\n",
       "      <td>сотрудник</td>\n",
       "      <td>0</td>\n",
       "      <td>253875.639453</td>\n",
       "      <td>покупка жилья</td>\n",
       "    </tr>\n",
       "    <tr>\n",
       "      <th>1</th>\n",
       "      <td>1</td>\n",
       "      <td>-4024.803754</td>\n",
       "      <td>36</td>\n",
       "      <td>среднее</td>\n",
       "      <td>1</td>\n",
       "      <td>женат / замужем</td>\n",
       "      <td>0</td>\n",
       "      <td>F</td>\n",
       "      <td>сотрудник</td>\n",
       "      <td>0</td>\n",
       "      <td>112080.014102</td>\n",
       "      <td>приобретение автомобиля</td>\n",
       "    </tr>\n",
       "    <tr>\n",
       "      <th>2</th>\n",
       "      <td>0</td>\n",
       "      <td>-5623.422610</td>\n",
       "      <td>33</td>\n",
       "      <td>Среднее</td>\n",
       "      <td>1</td>\n",
       "      <td>женат / замужем</td>\n",
       "      <td>0</td>\n",
       "      <td>M</td>\n",
       "      <td>сотрудник</td>\n",
       "      <td>0</td>\n",
       "      <td>145885.952297</td>\n",
       "      <td>покупка жилья</td>\n",
       "    </tr>\n",
       "    <tr>\n",
       "      <th>3</th>\n",
       "      <td>3</td>\n",
       "      <td>-4124.747207</td>\n",
       "      <td>32</td>\n",
       "      <td>среднее</td>\n",
       "      <td>1</td>\n",
       "      <td>женат / замужем</td>\n",
       "      <td>0</td>\n",
       "      <td>M</td>\n",
       "      <td>сотрудник</td>\n",
       "      <td>0</td>\n",
       "      <td>267628.550329</td>\n",
       "      <td>дополнительное образование</td>\n",
       "    </tr>\n",
       "    <tr>\n",
       "      <th>4</th>\n",
       "      <td>0</td>\n",
       "      <td>340266.072047</td>\n",
       "      <td>53</td>\n",
       "      <td>среднее</td>\n",
       "      <td>1</td>\n",
       "      <td>гражданский брак</td>\n",
       "      <td>1</td>\n",
       "      <td>F</td>\n",
       "      <td>пенсионер</td>\n",
       "      <td>0</td>\n",
       "      <td>158616.077870</td>\n",
       "      <td>сыграть свадьбу</td>\n",
       "    </tr>\n",
       "    <tr>\n",
       "      <th>5</th>\n",
       "      <td>0</td>\n",
       "      <td>-926.185831</td>\n",
       "      <td>27</td>\n",
       "      <td>высшее</td>\n",
       "      <td>0</td>\n",
       "      <td>гражданский брак</td>\n",
       "      <td>1</td>\n",
       "      <td>M</td>\n",
       "      <td>компаньон</td>\n",
       "      <td>0</td>\n",
       "      <td>255763.565419</td>\n",
       "      <td>покупка жилья</td>\n",
       "    </tr>\n",
       "    <tr>\n",
       "      <th>6</th>\n",
       "      <td>0</td>\n",
       "      <td>-2879.202052</td>\n",
       "      <td>43</td>\n",
       "      <td>высшее</td>\n",
       "      <td>0</td>\n",
       "      <td>женат / замужем</td>\n",
       "      <td>0</td>\n",
       "      <td>F</td>\n",
       "      <td>компаньон</td>\n",
       "      <td>0</td>\n",
       "      <td>240525.971920</td>\n",
       "      <td>операции с жильем</td>\n",
       "    </tr>\n",
       "    <tr>\n",
       "      <th>7</th>\n",
       "      <td>0</td>\n",
       "      <td>-152.779569</td>\n",
       "      <td>50</td>\n",
       "      <td>СРЕДНЕЕ</td>\n",
       "      <td>1</td>\n",
       "      <td>женат / замужем</td>\n",
       "      <td>0</td>\n",
       "      <td>M</td>\n",
       "      <td>сотрудник</td>\n",
       "      <td>0</td>\n",
       "      <td>135823.934197</td>\n",
       "      <td>образование</td>\n",
       "    </tr>\n",
       "    <tr>\n",
       "      <th>8</th>\n",
       "      <td>2</td>\n",
       "      <td>-6929.865299</td>\n",
       "      <td>35</td>\n",
       "      <td>ВЫСШЕЕ</td>\n",
       "      <td>0</td>\n",
       "      <td>гражданский брак</td>\n",
       "      <td>1</td>\n",
       "      <td>F</td>\n",
       "      <td>сотрудник</td>\n",
       "      <td>0</td>\n",
       "      <td>95856.832424</td>\n",
       "      <td>на проведение свадьбы</td>\n",
       "    </tr>\n",
       "    <tr>\n",
       "      <th>9</th>\n",
       "      <td>0</td>\n",
       "      <td>-2188.756445</td>\n",
       "      <td>41</td>\n",
       "      <td>среднее</td>\n",
       "      <td>1</td>\n",
       "      <td>женат / замужем</td>\n",
       "      <td>0</td>\n",
       "      <td>M</td>\n",
       "      <td>сотрудник</td>\n",
       "      <td>0</td>\n",
       "      <td>144425.938277</td>\n",
       "      <td>покупка жилья для семьи</td>\n",
       "    </tr>\n",
       "  </tbody>\n",
       "</table>\n",
       "</div>"
      ],
      "text/plain": [
       "   children  days_employed  dob_years education  education_id  \\\n",
       "0         1   -8437.673028         42    высшее             0   \n",
       "1         1   -4024.803754         36   среднее             1   \n",
       "2         0   -5623.422610         33   Среднее             1   \n",
       "3         3   -4124.747207         32   среднее             1   \n",
       "4         0  340266.072047         53   среднее             1   \n",
       "5         0    -926.185831         27    высшее             0   \n",
       "6         0   -2879.202052         43    высшее             0   \n",
       "7         0    -152.779569         50   СРЕДНЕЕ             1   \n",
       "8         2   -6929.865299         35    ВЫСШЕЕ             0   \n",
       "9         0   -2188.756445         41   среднее             1   \n",
       "\n",
       "      family_status  family_status_id gender income_type  debt   total_income  \\\n",
       "0   женат / замужем                 0      F   сотрудник     0  253875.639453   \n",
       "1   женат / замужем                 0      F   сотрудник     0  112080.014102   \n",
       "2   женат / замужем                 0      M   сотрудник     0  145885.952297   \n",
       "3   женат / замужем                 0      M   сотрудник     0  267628.550329   \n",
       "4  гражданский брак                 1      F   пенсионер     0  158616.077870   \n",
       "5  гражданский брак                 1      M   компаньон     0  255763.565419   \n",
       "6   женат / замужем                 0      F   компаньон     0  240525.971920   \n",
       "7   женат / замужем                 0      M   сотрудник     0  135823.934197   \n",
       "8  гражданский брак                 1      F   сотрудник     0   95856.832424   \n",
       "9   женат / замужем                 0      M   сотрудник     0  144425.938277   \n",
       "\n",
       "                      purpose  \n",
       "0               покупка жилья  \n",
       "1     приобретение автомобиля  \n",
       "2               покупка жилья  \n",
       "3  дополнительное образование  \n",
       "4             сыграть свадьбу  \n",
       "5               покупка жилья  \n",
       "6           операции с жильем  \n",
       "7                 образование  \n",
       "8       на проведение свадьбы  \n",
       "9     покупка жилья для семьи  "
      ]
     },
     "metadata": {},
     "output_type": "display_data"
    }
   ],
   "source": [
    "# просмотрим первые 10 строк таблицы\n",
    "\n",
    "display(data.head(10)) "
   ]
  },
  {
   "cell_type": "code",
   "execution_count": 4,
   "metadata": {},
   "outputs": [
    {
     "name": "stdout",
     "output_type": "stream",
     "text": [
      "<class 'pandas.core.frame.DataFrame'>\n",
      "RangeIndex: 21525 entries, 0 to 21524\n",
      "Data columns (total 12 columns):\n",
      " #   Column            Non-Null Count  Dtype  \n",
      "---  ------            --------------  -----  \n",
      " 0   children          21525 non-null  int64  \n",
      " 1   days_employed     19351 non-null  float64\n",
      " 2   dob_years         21525 non-null  int64  \n",
      " 3   education         21525 non-null  object \n",
      " 4   education_id      21525 non-null  int64  \n",
      " 5   family_status     21525 non-null  object \n",
      " 6   family_status_id  21525 non-null  int64  \n",
      " 7   gender            21525 non-null  object \n",
      " 8   income_type       21525 non-null  object \n",
      " 9   debt              21525 non-null  int64  \n",
      " 10  total_income      19351 non-null  float64\n",
      " 11  purpose           21525 non-null  object \n",
      "dtypes: float64(2), int64(5), object(5)\n",
      "memory usage: 2.0+ MB\n"
     ]
    }
   ],
   "source": [
    "# получим общую информацию о таблице\n",
    "\n",
    "data.info() "
   ]
  },
  {
   "cell_type": "markdown",
   "metadata": {},
   "source": [
    "Всего в таблице 12 столбцов с различными типами данных: 2 столбца с типом `float64`, 5 столбцов с типом `int64` и 5 столбцов с типом `object`.\n",
    "Согласно описанию данных:\n",
    "* `children` — количество детей в семье;\n",
    "* `days_employed` — общий трудовой стаж в днях;\n",
    "* `dob_years` — возраст клиента в годах;\n",
    "* `education` — уровень образования клиента;\n",
    "* `education_id` — идентификатор уровня образования;\n",
    "* `family_status` — семейное положение;\n",
    "* `family_status_id` — идентификатор семейного положения;\n",
    "* `gender` — пол клиента;\n",
    "* `income_type` — тип занятости;\n",
    "* `debt`  — имел ли задолженность по возврату кредитов;\n",
    "* `total_income` — ежемесячный доход;\n",
    "* `purpose` — цель получения кредита.\n"
   ]
  },
  {
   "cell_type": "code",
   "execution_count": 5,
   "metadata": {},
   "outputs": [
    {
     "data": {
      "text/plain": [
       "children            0.000000\n",
       "days_employed       0.100999\n",
       "dob_years           0.000000\n",
       "education           0.000000\n",
       "education_id        0.000000\n",
       "family_status       0.000000\n",
       "family_status_id    0.000000\n",
       "gender              0.000000\n",
       "income_type         0.000000\n",
       "debt                0.000000\n",
       "total_income        0.100999\n",
       "purpose             0.000000\n",
       "dtype: float64"
      ]
     },
     "execution_count": 5,
     "metadata": {},
     "output_type": "execute_result"
    }
   ],
   "source": [
    "# найдем долю пропущенных значений среди всех данных\n",
    "\n",
    "data.isna().mean() "
   ]
  },
  {
   "cell_type": "code",
   "execution_count": 6,
   "metadata": {},
   "outputs": [
    {
     "data": {
      "text/html": [
       "<div>\n",
       "<style scoped>\n",
       "    .dataframe tbody tr th:only-of-type {\n",
       "        vertical-align: middle;\n",
       "    }\n",
       "\n",
       "    .dataframe tbody tr th {\n",
       "        vertical-align: top;\n",
       "    }\n",
       "\n",
       "    .dataframe thead th {\n",
       "        text-align: right;\n",
       "    }\n",
       "</style>\n",
       "<table border=\"1\" class=\"dataframe\">\n",
       "  <thead>\n",
       "    <tr style=\"text-align: right;\">\n",
       "      <th></th>\n",
       "      <th>children</th>\n",
       "      <th>days_employed</th>\n",
       "      <th>dob_years</th>\n",
       "      <th>education_id</th>\n",
       "      <th>family_status_id</th>\n",
       "      <th>debt</th>\n",
       "      <th>total_income</th>\n",
       "    </tr>\n",
       "  </thead>\n",
       "  <tbody>\n",
       "    <tr>\n",
       "      <th>count</th>\n",
       "      <td>21525.000000</td>\n",
       "      <td>19351.000000</td>\n",
       "      <td>21525.000000</td>\n",
       "      <td>21525.000000</td>\n",
       "      <td>21525.000000</td>\n",
       "      <td>21525.000000</td>\n",
       "      <td>1.935100e+04</td>\n",
       "    </tr>\n",
       "    <tr>\n",
       "      <th>mean</th>\n",
       "      <td>0.538908</td>\n",
       "      <td>63046.497661</td>\n",
       "      <td>43.293380</td>\n",
       "      <td>0.817236</td>\n",
       "      <td>0.972544</td>\n",
       "      <td>0.080883</td>\n",
       "      <td>1.674223e+05</td>\n",
       "    </tr>\n",
       "    <tr>\n",
       "      <th>std</th>\n",
       "      <td>1.381587</td>\n",
       "      <td>140827.311974</td>\n",
       "      <td>12.574584</td>\n",
       "      <td>0.548138</td>\n",
       "      <td>1.420324</td>\n",
       "      <td>0.272661</td>\n",
       "      <td>1.029716e+05</td>\n",
       "    </tr>\n",
       "    <tr>\n",
       "      <th>min</th>\n",
       "      <td>-1.000000</td>\n",
       "      <td>-18388.949901</td>\n",
       "      <td>0.000000</td>\n",
       "      <td>0.000000</td>\n",
       "      <td>0.000000</td>\n",
       "      <td>0.000000</td>\n",
       "      <td>2.066726e+04</td>\n",
       "    </tr>\n",
       "    <tr>\n",
       "      <th>25%</th>\n",
       "      <td>0.000000</td>\n",
       "      <td>-2747.423625</td>\n",
       "      <td>33.000000</td>\n",
       "      <td>1.000000</td>\n",
       "      <td>0.000000</td>\n",
       "      <td>0.000000</td>\n",
       "      <td>1.030532e+05</td>\n",
       "    </tr>\n",
       "    <tr>\n",
       "      <th>50%</th>\n",
       "      <td>0.000000</td>\n",
       "      <td>-1203.369529</td>\n",
       "      <td>42.000000</td>\n",
       "      <td>1.000000</td>\n",
       "      <td>0.000000</td>\n",
       "      <td>0.000000</td>\n",
       "      <td>1.450179e+05</td>\n",
       "    </tr>\n",
       "    <tr>\n",
       "      <th>75%</th>\n",
       "      <td>1.000000</td>\n",
       "      <td>-291.095954</td>\n",
       "      <td>53.000000</td>\n",
       "      <td>1.000000</td>\n",
       "      <td>1.000000</td>\n",
       "      <td>0.000000</td>\n",
       "      <td>2.034351e+05</td>\n",
       "    </tr>\n",
       "    <tr>\n",
       "      <th>max</th>\n",
       "      <td>20.000000</td>\n",
       "      <td>401755.400475</td>\n",
       "      <td>75.000000</td>\n",
       "      <td>4.000000</td>\n",
       "      <td>4.000000</td>\n",
       "      <td>1.000000</td>\n",
       "      <td>2.265604e+06</td>\n",
       "    </tr>\n",
       "  </tbody>\n",
       "</table>\n",
       "</div>"
      ],
      "text/plain": [
       "           children  days_employed     dob_years  education_id  \\\n",
       "count  21525.000000   19351.000000  21525.000000  21525.000000   \n",
       "mean       0.538908   63046.497661     43.293380      0.817236   \n",
       "std        1.381587  140827.311974     12.574584      0.548138   \n",
       "min       -1.000000  -18388.949901      0.000000      0.000000   \n",
       "25%        0.000000   -2747.423625     33.000000      1.000000   \n",
       "50%        0.000000   -1203.369529     42.000000      1.000000   \n",
       "75%        1.000000    -291.095954     53.000000      1.000000   \n",
       "max       20.000000  401755.400475     75.000000      4.000000   \n",
       "\n",
       "       family_status_id          debt  total_income  \n",
       "count      21525.000000  21525.000000  1.935100e+04  \n",
       "mean           0.972544      0.080883  1.674223e+05  \n",
       "std            1.420324      0.272661  1.029716e+05  \n",
       "min            0.000000      0.000000  2.066726e+04  \n",
       "25%            0.000000      0.000000  1.030532e+05  \n",
       "50%            0.000000      0.000000  1.450179e+05  \n",
       "75%            1.000000      0.000000  2.034351e+05  \n",
       "max            4.000000      1.000000  2.265604e+06  "
      ]
     },
     "execution_count": 6,
     "metadata": {},
     "output_type": "execute_result"
    }
   ],
   "source": [
    "# получим сведения о каждом столбце таблицы\n",
    "\n",
    "data.describe() "
   ]
  },
  {
   "cell_type": "markdown",
   "metadata": {},
   "source": [
    "**Вывод**"
   ]
  },
  {
   "cell_type": "markdown",
   "metadata": {},
   "source": [
    "Названия колонок оформлены корректно, соблюден змеиный регистр.\n",
    "В столбцах `days_employed` и `total_income` имеются пропущенные значения, причем количество этих значений одинаково. Доля пропущенных значений стоставляет примерно 10 %, не много, но заполнить пропуски необходимо для дальнейшего анализа.\n",
    "\n",
    "Имеются проблемы в значениях некоторых столбцов:\n",
    "\n",
    "1. В столбце `education` используется разный регистр.\n",
    "2. В столбце `purpose` одна и та же цель обозначена по-разному, что может привести к некорректным результатам при группировке.\n",
    "3. В столбцах `days_employed` и `children` имеются отрицательные значения, это вызывает сомнения."
   ]
  },
  {
   "cell_type": "markdown",
   "metadata": {},
   "source": [
    "## Шаг 2. Предобработка данных"
   ]
  },
  {
   "cell_type": "markdown",
   "metadata": {},
   "source": [
    "### Обработка пропусков"
   ]
  },
  {
   "cell_type": "code",
   "execution_count": 7,
   "metadata": {},
   "outputs": [
    {
     "data": {
      "text/plain": [
       "children               0\n",
       "days_employed       2174\n",
       "dob_years              0\n",
       "education              0\n",
       "education_id           0\n",
       "family_status          0\n",
       "family_status_id       0\n",
       "gender                 0\n",
       "income_type            0\n",
       "debt                   0\n",
       "total_income        2174\n",
       "purpose                0\n",
       "dtype: int64"
      ]
     },
     "execution_count": 7,
     "metadata": {},
     "output_type": "execute_result"
    }
   ],
   "source": [
    "# посчитаем пропущенные значения\n",
    "\n",
    "data.isna().sum() "
   ]
  },
  {
   "cell_type": "code",
   "execution_count": 8,
   "metadata": {},
   "outputs": [
    {
     "data": {
      "text/plain": [
       "<pandas.core.groupby.generic.DataFrameGroupBy object at 0x7fa3048c01f0>"
      ]
     },
     "execution_count": 8,
     "metadata": {},
     "output_type": "execute_result"
    }
   ],
   "source": [
    "# сгруппируем значения в зависимости от типа занятости\n",
    "\n",
    "grp = data.groupby('income_type')\n",
    "grp"
   ]
  },
  {
   "cell_type": "code",
   "execution_count": 9,
   "metadata": {},
   "outputs": [
    {
     "data": {
      "text/html": [
       "<div>\n",
       "<style scoped>\n",
       "    .dataframe tbody tr th:only-of-type {\n",
       "        vertical-align: middle;\n",
       "    }\n",
       "\n",
       "    .dataframe tbody tr th {\n",
       "        vertical-align: top;\n",
       "    }\n",
       "\n",
       "    .dataframe thead th {\n",
       "        text-align: right;\n",
       "    }\n",
       "</style>\n",
       "<table border=\"1\" class=\"dataframe\">\n",
       "  <thead>\n",
       "    <tr style=\"text-align: right;\">\n",
       "      <th></th>\n",
       "      <th>children</th>\n",
       "      <th>days_employed</th>\n",
       "      <th>dob_years</th>\n",
       "      <th>education</th>\n",
       "      <th>education_id</th>\n",
       "      <th>family_status</th>\n",
       "      <th>family_status_id</th>\n",
       "      <th>gender</th>\n",
       "      <th>income_type</th>\n",
       "      <th>debt</th>\n",
       "      <th>total_income</th>\n",
       "      <th>purpose</th>\n",
       "    </tr>\n",
       "  </thead>\n",
       "  <tbody>\n",
       "    <tr>\n",
       "      <th>0</th>\n",
       "      <td>1</td>\n",
       "      <td>-8437.673028</td>\n",
       "      <td>42</td>\n",
       "      <td>высшее</td>\n",
       "      <td>0</td>\n",
       "      <td>женат / замужем</td>\n",
       "      <td>0</td>\n",
       "      <td>F</td>\n",
       "      <td>сотрудник</td>\n",
       "      <td>0</td>\n",
       "      <td>253875.639453</td>\n",
       "      <td>покупка жилья</td>\n",
       "    </tr>\n",
       "    <tr>\n",
       "      <th>1</th>\n",
       "      <td>1</td>\n",
       "      <td>-4024.803754</td>\n",
       "      <td>36</td>\n",
       "      <td>среднее</td>\n",
       "      <td>1</td>\n",
       "      <td>женат / замужем</td>\n",
       "      <td>0</td>\n",
       "      <td>F</td>\n",
       "      <td>сотрудник</td>\n",
       "      <td>0</td>\n",
       "      <td>112080.014102</td>\n",
       "      <td>приобретение автомобиля</td>\n",
       "    </tr>\n",
       "    <tr>\n",
       "      <th>2</th>\n",
       "      <td>0</td>\n",
       "      <td>-5623.422610</td>\n",
       "      <td>33</td>\n",
       "      <td>Среднее</td>\n",
       "      <td>1</td>\n",
       "      <td>женат / замужем</td>\n",
       "      <td>0</td>\n",
       "      <td>M</td>\n",
       "      <td>сотрудник</td>\n",
       "      <td>0</td>\n",
       "      <td>145885.952297</td>\n",
       "      <td>покупка жилья</td>\n",
       "    </tr>\n",
       "    <tr>\n",
       "      <th>3</th>\n",
       "      <td>3</td>\n",
       "      <td>-4124.747207</td>\n",
       "      <td>32</td>\n",
       "      <td>среднее</td>\n",
       "      <td>1</td>\n",
       "      <td>женат / замужем</td>\n",
       "      <td>0</td>\n",
       "      <td>M</td>\n",
       "      <td>сотрудник</td>\n",
       "      <td>0</td>\n",
       "      <td>267628.550329</td>\n",
       "      <td>дополнительное образование</td>\n",
       "    </tr>\n",
       "    <tr>\n",
       "      <th>4</th>\n",
       "      <td>0</td>\n",
       "      <td>340266.072047</td>\n",
       "      <td>53</td>\n",
       "      <td>среднее</td>\n",
       "      <td>1</td>\n",
       "      <td>гражданский брак</td>\n",
       "      <td>1</td>\n",
       "      <td>F</td>\n",
       "      <td>пенсионер</td>\n",
       "      <td>0</td>\n",
       "      <td>158616.077870</td>\n",
       "      <td>сыграть свадьбу</td>\n",
       "    </tr>\n",
       "    <tr>\n",
       "      <th>5</th>\n",
       "      <td>0</td>\n",
       "      <td>-926.185831</td>\n",
       "      <td>27</td>\n",
       "      <td>высшее</td>\n",
       "      <td>0</td>\n",
       "      <td>гражданский брак</td>\n",
       "      <td>1</td>\n",
       "      <td>M</td>\n",
       "      <td>компаньон</td>\n",
       "      <td>0</td>\n",
       "      <td>255763.565419</td>\n",
       "      <td>покупка жилья</td>\n",
       "    </tr>\n",
       "    <tr>\n",
       "      <th>6</th>\n",
       "      <td>0</td>\n",
       "      <td>-2879.202052</td>\n",
       "      <td>43</td>\n",
       "      <td>высшее</td>\n",
       "      <td>0</td>\n",
       "      <td>женат / замужем</td>\n",
       "      <td>0</td>\n",
       "      <td>F</td>\n",
       "      <td>компаньон</td>\n",
       "      <td>0</td>\n",
       "      <td>240525.971920</td>\n",
       "      <td>операции с жильем</td>\n",
       "    </tr>\n",
       "    <tr>\n",
       "      <th>7</th>\n",
       "      <td>0</td>\n",
       "      <td>-152.779569</td>\n",
       "      <td>50</td>\n",
       "      <td>СРЕДНЕЕ</td>\n",
       "      <td>1</td>\n",
       "      <td>женат / замужем</td>\n",
       "      <td>0</td>\n",
       "      <td>M</td>\n",
       "      <td>сотрудник</td>\n",
       "      <td>0</td>\n",
       "      <td>135823.934197</td>\n",
       "      <td>образование</td>\n",
       "    </tr>\n",
       "    <tr>\n",
       "      <th>8</th>\n",
       "      <td>2</td>\n",
       "      <td>-6929.865299</td>\n",
       "      <td>35</td>\n",
       "      <td>ВЫСШЕЕ</td>\n",
       "      <td>0</td>\n",
       "      <td>гражданский брак</td>\n",
       "      <td>1</td>\n",
       "      <td>F</td>\n",
       "      <td>сотрудник</td>\n",
       "      <td>0</td>\n",
       "      <td>95856.832424</td>\n",
       "      <td>на проведение свадьбы</td>\n",
       "    </tr>\n",
       "    <tr>\n",
       "      <th>9</th>\n",
       "      <td>0</td>\n",
       "      <td>-2188.756445</td>\n",
       "      <td>41</td>\n",
       "      <td>среднее</td>\n",
       "      <td>1</td>\n",
       "      <td>женат / замужем</td>\n",
       "      <td>0</td>\n",
       "      <td>M</td>\n",
       "      <td>сотрудник</td>\n",
       "      <td>0</td>\n",
       "      <td>144425.938277</td>\n",
       "      <td>покупка жилья для семьи</td>\n",
       "    </tr>\n",
       "  </tbody>\n",
       "</table>\n",
       "</div>"
      ],
      "text/plain": [
       "   children  days_employed  dob_years education  education_id  \\\n",
       "0         1   -8437.673028         42    высшее             0   \n",
       "1         1   -4024.803754         36   среднее             1   \n",
       "2         0   -5623.422610         33   Среднее             1   \n",
       "3         3   -4124.747207         32   среднее             1   \n",
       "4         0  340266.072047         53   среднее             1   \n",
       "5         0    -926.185831         27    высшее             0   \n",
       "6         0   -2879.202052         43    высшее             0   \n",
       "7         0    -152.779569         50   СРЕДНЕЕ             1   \n",
       "8         2   -6929.865299         35    ВЫСШЕЕ             0   \n",
       "9         0   -2188.756445         41   среднее             1   \n",
       "\n",
       "      family_status  family_status_id gender income_type  debt   total_income  \\\n",
       "0   женат / замужем                 0      F   сотрудник     0  253875.639453   \n",
       "1   женат / замужем                 0      F   сотрудник     0  112080.014102   \n",
       "2   женат / замужем                 0      M   сотрудник     0  145885.952297   \n",
       "3   женат / замужем                 0      M   сотрудник     0  267628.550329   \n",
       "4  гражданский брак                 1      F   пенсионер     0  158616.077870   \n",
       "5  гражданский брак                 1      M   компаньон     0  255763.565419   \n",
       "6   женат / замужем                 0      F   компаньон     0  240525.971920   \n",
       "7   женат / замужем                 0      M   сотрудник     0  135823.934197   \n",
       "8  гражданский брак                 1      F   сотрудник     0   95856.832424   \n",
       "9   женат / замужем                 0      M   сотрудник     0  144425.938277   \n",
       "\n",
       "                      purpose  \n",
       "0               покупка жилья  \n",
       "1     приобретение автомобиля  \n",
       "2               покупка жилья  \n",
       "3  дополнительное образование  \n",
       "4             сыграть свадьбу  \n",
       "5               покупка жилья  \n",
       "6           операции с жильем  \n",
       "7                 образование  \n",
       "8       на проведение свадьбы  \n",
       "9     покупка жилья для семьи  "
      ]
     },
     "execution_count": 9,
     "metadata": {},
     "output_type": "execute_result"
    }
   ],
   "source": [
    "# рассчитаем медиану для каждой группы и заполним ей пропуски внутри этого типа занятости,\n",
    "# применив лямбда-функцию\n",
    "\n",
    "data['total_income'] = grp.total_income.apply(lambda x: x.fillna(x.median()))\n",
    "data.head(10)"
   ]
  },
  {
   "cell_type": "code",
   "execution_count": 10,
   "metadata": {},
   "outputs": [],
   "source": [
    "# избавимся от отрицательных значений в столбце \"days_employed\", \n",
    "# путем приведения значений из столбца к абсолютной форме\n",
    "\n",
    "data['days_employed'] = data['days_employed'].abs() "
   ]
  },
  {
   "cell_type": "code",
   "execution_count": 11,
   "metadata": {},
   "outputs": [
    {
     "data": {
      "text/plain": [
       "count     19351.000000\n",
       "mean      66914.728907\n",
       "std      139030.880527\n",
       "min          24.141633\n",
       "25%         927.009265\n",
       "50%        2194.220567\n",
       "75%        5537.882441\n",
       "max      401755.400475\n",
       "Name: days_employed, dtype: float64"
      ]
     },
     "execution_count": 11,
     "metadata": {},
     "output_type": "execute_result"
    }
   ],
   "source": [
    "data['days_employed'].describe()"
   ]
  },
  {
   "cell_type": "code",
   "execution_count": 12,
   "metadata": {},
   "outputs": [
    {
     "data": {
      "text/plain": [
       "3445"
      ]
     },
     "execution_count": 12,
     "metadata": {},
     "output_type": "execute_result"
    }
   ],
   "source": [
    "# минимальное значение больше не отрицательно.\n",
    "# максимальное значении столбца равно 401755 дней, это около 1108 лет(401755/365 дней)\n",
    "# допустим, что адекватный максимальный трудовой стаж это 80 лет или 29200 дней. \n",
    "# посмотрим, сколько строк датасета больше данной величины.\n",
    "\n",
    "len(data[data['days_employed'] > 29200])"
   ]
  },
  {
   "cell_type": "code",
   "execution_count": 13,
   "metadata": {},
   "outputs": [
    {
     "data": {
      "text/plain": [
       "18080"
      ]
     },
     "execution_count": 13,
     "metadata": {},
     "output_type": "execute_result"
    }
   ],
   "source": [
    "# доля строк с трудовым стажем больше 80 лет составляет 16% (3445/21525).\n",
    "# избавимся от этих строк, перезаписав датасет\n",
    "\n",
    "data['wrong_days_employed'] = data['days_employed'] > 29200 #получаем столбец с булевыми значениями\n",
    "data = data[data['wrong_days_employed'] == False]\n",
    "len(data)"
   ]
  },
  {
   "cell_type": "code",
   "execution_count": 14,
   "metadata": {},
   "outputs": [],
   "source": [
    "# сгруппируем значения по возрасту\n",
    "\n",
    "group = data.groupby('dob_years') "
   ]
  },
  {
   "cell_type": "code",
   "execution_count": 15,
   "metadata": {},
   "outputs": [],
   "source": [
    "# применим лямбда-функцию\n",
    "\n",
    "data['days_employed'] = group.days_employed.apply(lambda s: s.fillna(s.median())) "
   ]
  },
  {
   "cell_type": "code",
   "execution_count": 16,
   "metadata": {},
   "outputs": [
    {
     "data": {
      "text/plain": [
       "children               0\n",
       "days_employed          0\n",
       "dob_years              0\n",
       "education              0\n",
       "education_id           0\n",
       "family_status          0\n",
       "family_status_id       0\n",
       "gender                 0\n",
       "income_type            0\n",
       "debt                   0\n",
       "total_income           0\n",
       "purpose                0\n",
       "wrong_days_employed    0\n",
       "dtype: int64"
      ]
     },
     "execution_count": 16,
     "metadata": {},
     "output_type": "execute_result"
    }
   ],
   "source": [
    "# проверим, остались ли пропуски\n",
    "\n",
    "data.isna().sum()"
   ]
  },
  {
   "cell_type": "markdown",
   "metadata": {},
   "source": [
    "**Вывод**"
   ]
  },
  {
   "cell_type": "markdown",
   "metadata": {},
   "source": [
    "Как уже отмечалось выше, количество пропущенных значиений в столбцах с общим стажем и ежемесячным доходом одинаково.\n",
    "\n",
    "Возможно эти пропуски были сделаны всвязи с тем, что эти люди никогда не работали или не могут подтвердить свой стаж и зарплату официальными документами (работают не официально).\n",
    "\n",
    "Значения пропущены в количественных переменных. Медианные значения для замены выбрали, т.к. данные неоднородные и в выборке имется выдающиеся значения."
   ]
  },
  {
   "cell_type": "markdown",
   "metadata": {},
   "source": [
    "### Замена типа данных"
   ]
  },
  {
   "cell_type": "code",
   "execution_count": 17,
   "metadata": {},
   "outputs": [
    {
     "data": {
      "text/plain": [
       " 0     10995\n",
       " 1      4565\n",
       " 2      2038\n",
       " 3       324\n",
       " 20       69\n",
       " 4        40\n",
       "-1        40\n",
       " 5         9\n",
       "Name: children, dtype: int64"
      ]
     },
     "execution_count": 17,
     "metadata": {},
     "output_type": "execute_result"
    }
   ],
   "source": [
    "# посмотрим уникальные значения столбца \"children\" и количество их упоминаний\n",
    "\n",
    "data['children'].value_counts() "
   ]
  },
  {
   "cell_type": "code",
   "execution_count": 18,
   "metadata": {},
   "outputs": [],
   "source": [
    "# отработаем аномалии в столбце \"children\",\n",
    "# путем замены на более адекватные значение\n",
    "\n",
    "data['children'] = data['children'].replace(-1, 1) \n",
    "data['children'] = data['children'].replace(20, 2) "
   ]
  },
  {
   "cell_type": "code",
   "execution_count": 19,
   "metadata": {},
   "outputs": [
    {
     "data": {
      "text/plain": [
       "0    10995\n",
       "1     4605\n",
       "2     2107\n",
       "3      324\n",
       "4       40\n",
       "5        9\n",
       "Name: children, dtype: int64"
      ]
     },
     "execution_count": 19,
     "metadata": {},
     "output_type": "execute_result"
    }
   ],
   "source": [
    "# проверим результат замены\n",
    "\n",
    "data['children'].value_counts() "
   ]
  },
  {
   "cell_type": "code",
   "execution_count": 20,
   "metadata": {},
   "outputs": [],
   "source": [
    "# заменим тип данных на целочисленный\n",
    "\n",
    "data['days_employed'] = data['days_employed'].astype('int') \n",
    "data['total_income'] = data['total_income'].astype('int')"
   ]
  },
  {
   "cell_type": "code",
   "execution_count": 21,
   "metadata": {},
   "outputs": [
    {
     "name": "stdout",
     "output_type": "stream",
     "text": [
      "<class 'pandas.core.frame.DataFrame'>\n",
      "Int64Index: 18080 entries, 0 to 21524\n",
      "Data columns (total 13 columns):\n",
      " #   Column               Non-Null Count  Dtype \n",
      "---  ------               --------------  ----- \n",
      " 0   children             18080 non-null  int64 \n",
      " 1   days_employed        18080 non-null  int64 \n",
      " 2   dob_years            18080 non-null  int64 \n",
      " 3   education            18080 non-null  object\n",
      " 4   education_id         18080 non-null  int64 \n",
      " 5   family_status        18080 non-null  object\n",
      " 6   family_status_id     18080 non-null  int64 \n",
      " 7   gender               18080 non-null  object\n",
      " 8   income_type          18080 non-null  object\n",
      " 9   debt                 18080 non-null  int64 \n",
      " 10  total_income         18080 non-null  int64 \n",
      " 11  purpose              18080 non-null  object\n",
      " 12  wrong_days_employed  18080 non-null  bool  \n",
      "dtypes: bool(1), int64(7), object(5)\n",
      "memory usage: 1.8+ MB\n"
     ]
    }
   ],
   "source": [
    "# проверим, произошла ли замена\n",
    "\n",
    "data.info() "
   ]
  },
  {
   "cell_type": "markdown",
   "metadata": {},
   "source": [
    "**Вывод**"
   ]
  },
  {
   "cell_type": "markdown",
   "metadata": {},
   "source": [
    "В двух столбцах со стажем и с количеством детей встретились анамалии в виде отрицательных значений, заменили их на положительные. Воозможно ошибка возникла при выгрузке. А также встретилось сильно выдающееся количество детей, возможно ошибка при заполнении формы заявки.\n",
    "\n",
    "Для замены типа данных, применили метод `astype()`, т.к. он позволяет быстро в несколько строчек кода преобразовать данные в нужный тип. "
   ]
  },
  {
   "cell_type": "markdown",
   "metadata": {},
   "source": [
    "### Обработка дубликатов"
   ]
  },
  {
   "cell_type": "code",
   "execution_count": 22,
   "metadata": {},
   "outputs": [],
   "source": [
    "# изначально приведем значения столбца \"Образование\" к одному регистру,\n",
    "# т.к. могут появиться дополнительные дубли\n",
    "\n",
    "data['education'] = data['education'].str.lower() "
   ]
  },
  {
   "cell_type": "code",
   "execution_count": 23,
   "metadata": {},
   "outputs": [
    {
     "data": {
      "text/html": [
       "<div>\n",
       "<style scoped>\n",
       "    .dataframe tbody tr th:only-of-type {\n",
       "        vertical-align: middle;\n",
       "    }\n",
       "\n",
       "    .dataframe tbody tr th {\n",
       "        vertical-align: top;\n",
       "    }\n",
       "\n",
       "    .dataframe thead th {\n",
       "        text-align: right;\n",
       "    }\n",
       "</style>\n",
       "<table border=\"1\" class=\"dataframe\">\n",
       "  <thead>\n",
       "    <tr style=\"text-align: right;\">\n",
       "      <th></th>\n",
       "      <th>children</th>\n",
       "      <th>days_employed</th>\n",
       "      <th>dob_years</th>\n",
       "      <th>education</th>\n",
       "      <th>education_id</th>\n",
       "      <th>family_status</th>\n",
       "      <th>family_status_id</th>\n",
       "      <th>gender</th>\n",
       "      <th>income_type</th>\n",
       "      <th>debt</th>\n",
       "      <th>total_income</th>\n",
       "      <th>purpose</th>\n",
       "      <th>wrong_days_employed</th>\n",
       "    </tr>\n",
       "  </thead>\n",
       "  <tbody>\n",
       "    <tr>\n",
       "      <th>0</th>\n",
       "      <td>1</td>\n",
       "      <td>8437</td>\n",
       "      <td>42</td>\n",
       "      <td>высшее</td>\n",
       "      <td>0</td>\n",
       "      <td>женат / замужем</td>\n",
       "      <td>0</td>\n",
       "      <td>F</td>\n",
       "      <td>сотрудник</td>\n",
       "      <td>0</td>\n",
       "      <td>253875</td>\n",
       "      <td>покупка жилья</td>\n",
       "      <td>False</td>\n",
       "    </tr>\n",
       "    <tr>\n",
       "      <th>1</th>\n",
       "      <td>1</td>\n",
       "      <td>4024</td>\n",
       "      <td>36</td>\n",
       "      <td>среднее</td>\n",
       "      <td>1</td>\n",
       "      <td>женат / замужем</td>\n",
       "      <td>0</td>\n",
       "      <td>F</td>\n",
       "      <td>сотрудник</td>\n",
       "      <td>0</td>\n",
       "      <td>112080</td>\n",
       "      <td>приобретение автомобиля</td>\n",
       "      <td>False</td>\n",
       "    </tr>\n",
       "    <tr>\n",
       "      <th>2</th>\n",
       "      <td>0</td>\n",
       "      <td>5623</td>\n",
       "      <td>33</td>\n",
       "      <td>среднее</td>\n",
       "      <td>1</td>\n",
       "      <td>женат / замужем</td>\n",
       "      <td>0</td>\n",
       "      <td>M</td>\n",
       "      <td>сотрудник</td>\n",
       "      <td>0</td>\n",
       "      <td>145885</td>\n",
       "      <td>покупка жилья</td>\n",
       "      <td>False</td>\n",
       "    </tr>\n",
       "    <tr>\n",
       "      <th>3</th>\n",
       "      <td>3</td>\n",
       "      <td>4124</td>\n",
       "      <td>32</td>\n",
       "      <td>среднее</td>\n",
       "      <td>1</td>\n",
       "      <td>женат / замужем</td>\n",
       "      <td>0</td>\n",
       "      <td>M</td>\n",
       "      <td>сотрудник</td>\n",
       "      <td>0</td>\n",
       "      <td>267628</td>\n",
       "      <td>дополнительное образование</td>\n",
       "      <td>False</td>\n",
       "    </tr>\n",
       "    <tr>\n",
       "      <th>5</th>\n",
       "      <td>0</td>\n",
       "      <td>926</td>\n",
       "      <td>27</td>\n",
       "      <td>высшее</td>\n",
       "      <td>0</td>\n",
       "      <td>гражданский брак</td>\n",
       "      <td>1</td>\n",
       "      <td>M</td>\n",
       "      <td>компаньон</td>\n",
       "      <td>0</td>\n",
       "      <td>255763</td>\n",
       "      <td>покупка жилья</td>\n",
       "      <td>False</td>\n",
       "    </tr>\n",
       "    <tr>\n",
       "      <th>6</th>\n",
       "      <td>0</td>\n",
       "      <td>2879</td>\n",
       "      <td>43</td>\n",
       "      <td>высшее</td>\n",
       "      <td>0</td>\n",
       "      <td>женат / замужем</td>\n",
       "      <td>0</td>\n",
       "      <td>F</td>\n",
       "      <td>компаньон</td>\n",
       "      <td>0</td>\n",
       "      <td>240525</td>\n",
       "      <td>операции с жильем</td>\n",
       "      <td>False</td>\n",
       "    </tr>\n",
       "    <tr>\n",
       "      <th>7</th>\n",
       "      <td>0</td>\n",
       "      <td>152</td>\n",
       "      <td>50</td>\n",
       "      <td>среднее</td>\n",
       "      <td>1</td>\n",
       "      <td>женат / замужем</td>\n",
       "      <td>0</td>\n",
       "      <td>M</td>\n",
       "      <td>сотрудник</td>\n",
       "      <td>0</td>\n",
       "      <td>135823</td>\n",
       "      <td>образование</td>\n",
       "      <td>False</td>\n",
       "    </tr>\n",
       "    <tr>\n",
       "      <th>8</th>\n",
       "      <td>2</td>\n",
       "      <td>6929</td>\n",
       "      <td>35</td>\n",
       "      <td>высшее</td>\n",
       "      <td>0</td>\n",
       "      <td>гражданский брак</td>\n",
       "      <td>1</td>\n",
       "      <td>F</td>\n",
       "      <td>сотрудник</td>\n",
       "      <td>0</td>\n",
       "      <td>95856</td>\n",
       "      <td>на проведение свадьбы</td>\n",
       "      <td>False</td>\n",
       "    </tr>\n",
       "    <tr>\n",
       "      <th>9</th>\n",
       "      <td>0</td>\n",
       "      <td>2188</td>\n",
       "      <td>41</td>\n",
       "      <td>среднее</td>\n",
       "      <td>1</td>\n",
       "      <td>женат / замужем</td>\n",
       "      <td>0</td>\n",
       "      <td>M</td>\n",
       "      <td>сотрудник</td>\n",
       "      <td>0</td>\n",
       "      <td>144425</td>\n",
       "      <td>покупка жилья для семьи</td>\n",
       "      <td>False</td>\n",
       "    </tr>\n",
       "    <tr>\n",
       "      <th>10</th>\n",
       "      <td>2</td>\n",
       "      <td>4171</td>\n",
       "      <td>36</td>\n",
       "      <td>высшее</td>\n",
       "      <td>0</td>\n",
       "      <td>женат / замужем</td>\n",
       "      <td>0</td>\n",
       "      <td>M</td>\n",
       "      <td>компаньон</td>\n",
       "      <td>0</td>\n",
       "      <td>113943</td>\n",
       "      <td>покупка недвижимости</td>\n",
       "      <td>False</td>\n",
       "    </tr>\n",
       "  </tbody>\n",
       "</table>\n",
       "</div>"
      ],
      "text/plain": [
       "    children  days_employed  dob_years education  education_id  \\\n",
       "0          1           8437         42    высшее             0   \n",
       "1          1           4024         36   среднее             1   \n",
       "2          0           5623         33   среднее             1   \n",
       "3          3           4124         32   среднее             1   \n",
       "5          0            926         27    высшее             0   \n",
       "6          0           2879         43    высшее             0   \n",
       "7          0            152         50   среднее             1   \n",
       "8          2           6929         35    высшее             0   \n",
       "9          0           2188         41   среднее             1   \n",
       "10         2           4171         36    высшее             0   \n",
       "\n",
       "       family_status  family_status_id gender income_type  debt  total_income  \\\n",
       "0    женат / замужем                 0      F   сотрудник     0        253875   \n",
       "1    женат / замужем                 0      F   сотрудник     0        112080   \n",
       "2    женат / замужем                 0      M   сотрудник     0        145885   \n",
       "3    женат / замужем                 0      M   сотрудник     0        267628   \n",
       "5   гражданский брак                 1      M   компаньон     0        255763   \n",
       "6    женат / замужем                 0      F   компаньон     0        240525   \n",
       "7    женат / замужем                 0      M   сотрудник     0        135823   \n",
       "8   гражданский брак                 1      F   сотрудник     0         95856   \n",
       "9    женат / замужем                 0      M   сотрудник     0        144425   \n",
       "10   женат / замужем                 0      M   компаньон     0        113943   \n",
       "\n",
       "                       purpose  wrong_days_employed  \n",
       "0                покупка жилья                False  \n",
       "1      приобретение автомобиля                False  \n",
       "2                покупка жилья                False  \n",
       "3   дополнительное образование                False  \n",
       "5                покупка жилья                False  \n",
       "6            операции с жильем                False  \n",
       "7                  образование                False  \n",
       "8        на проведение свадьбы                False  \n",
       "9      покупка жилья для семьи                False  \n",
       "10        покупка недвижимости                False  "
      ]
     },
     "execution_count": 23,
     "metadata": {},
     "output_type": "execute_result"
    }
   ],
   "source": [
    "# посмотрим, как теперь выглядят значения из столбца \"Образование\"\n",
    "\n",
    "data.head(10) "
   ]
  },
  {
   "cell_type": "code",
   "execution_count": 24,
   "metadata": {},
   "outputs": [
    {
     "data": {
      "text/plain": [
       "71"
      ]
     },
     "execution_count": 24,
     "metadata": {},
     "output_type": "execute_result"
    }
   ],
   "source": [
    "# посчитаем количество дубликатов\n",
    "\n",
    "data.duplicated().sum() "
   ]
  },
  {
   "cell_type": "code",
   "execution_count": 25,
   "metadata": {},
   "outputs": [
    {
     "data": {
      "text/html": [
       "<div>\n",
       "<style scoped>\n",
       "    .dataframe tbody tr th:only-of-type {\n",
       "        vertical-align: middle;\n",
       "    }\n",
       "\n",
       "    .dataframe tbody tr th {\n",
       "        vertical-align: top;\n",
       "    }\n",
       "\n",
       "    .dataframe thead th {\n",
       "        text-align: right;\n",
       "    }\n",
       "</style>\n",
       "<table border=\"1\" class=\"dataframe\">\n",
       "  <thead>\n",
       "    <tr style=\"text-align: right;\">\n",
       "      <th></th>\n",
       "      <th>children</th>\n",
       "      <th>days_employed</th>\n",
       "      <th>dob_years</th>\n",
       "      <th>education</th>\n",
       "      <th>education_id</th>\n",
       "      <th>family_status</th>\n",
       "      <th>family_status_id</th>\n",
       "      <th>gender</th>\n",
       "      <th>income_type</th>\n",
       "      <th>debt</th>\n",
       "      <th>total_income</th>\n",
       "      <th>purpose</th>\n",
       "      <th>wrong_days_employed</th>\n",
       "    </tr>\n",
       "  </thead>\n",
       "  <tbody>\n",
       "    <tr>\n",
       "      <th>2849</th>\n",
       "      <td>0</td>\n",
       "      <td>1858</td>\n",
       "      <td>41</td>\n",
       "      <td>среднее</td>\n",
       "      <td>1</td>\n",
       "      <td>женат / замужем</td>\n",
       "      <td>0</td>\n",
       "      <td>F</td>\n",
       "      <td>сотрудник</td>\n",
       "      <td>0</td>\n",
       "      <td>142594</td>\n",
       "      <td>покупка жилья для семьи</td>\n",
       "      <td>False</td>\n",
       "    </tr>\n",
       "    <tr>\n",
       "      <th>3290</th>\n",
       "      <td>0</td>\n",
       "      <td>2271</td>\n",
       "      <td>58</td>\n",
       "      <td>среднее</td>\n",
       "      <td>1</td>\n",
       "      <td>гражданский брак</td>\n",
       "      <td>1</td>\n",
       "      <td>F</td>\n",
       "      <td>пенсионер</td>\n",
       "      <td>0</td>\n",
       "      <td>118514</td>\n",
       "      <td>сыграть свадьбу</td>\n",
       "      <td>False</td>\n",
       "    </tr>\n",
       "    <tr>\n",
       "      <th>4182</th>\n",
       "      <td>1</td>\n",
       "      <td>1600</td>\n",
       "      <td>34</td>\n",
       "      <td>высшее</td>\n",
       "      <td>0</td>\n",
       "      <td>гражданский брак</td>\n",
       "      <td>1</td>\n",
       "      <td>F</td>\n",
       "      <td>сотрудник</td>\n",
       "      <td>0</td>\n",
       "      <td>142594</td>\n",
       "      <td>свадьба</td>\n",
       "      <td>False</td>\n",
       "    </tr>\n",
       "    <tr>\n",
       "      <th>4851</th>\n",
       "      <td>0</td>\n",
       "      <td>2742</td>\n",
       "      <td>60</td>\n",
       "      <td>среднее</td>\n",
       "      <td>1</td>\n",
       "      <td>гражданский брак</td>\n",
       "      <td>1</td>\n",
       "      <td>F</td>\n",
       "      <td>пенсионер</td>\n",
       "      <td>0</td>\n",
       "      <td>118514</td>\n",
       "      <td>свадьба</td>\n",
       "      <td>False</td>\n",
       "    </tr>\n",
       "    <tr>\n",
       "      <th>5557</th>\n",
       "      <td>0</td>\n",
       "      <td>2271</td>\n",
       "      <td>58</td>\n",
       "      <td>среднее</td>\n",
       "      <td>1</td>\n",
       "      <td>гражданский брак</td>\n",
       "      <td>1</td>\n",
       "      <td>F</td>\n",
       "      <td>пенсионер</td>\n",
       "      <td>0</td>\n",
       "      <td>118514</td>\n",
       "      <td>сыграть свадьбу</td>\n",
       "      <td>False</td>\n",
       "    </tr>\n",
       "    <tr>\n",
       "      <th>6312</th>\n",
       "      <td>0</td>\n",
       "      <td>1420</td>\n",
       "      <td>30</td>\n",
       "      <td>среднее</td>\n",
       "      <td>1</td>\n",
       "      <td>женат / замужем</td>\n",
       "      <td>0</td>\n",
       "      <td>M</td>\n",
       "      <td>сотрудник</td>\n",
       "      <td>0</td>\n",
       "      <td>142594</td>\n",
       "      <td>строительство жилой недвижимости</td>\n",
       "      <td>False</td>\n",
       "    </tr>\n",
       "    <tr>\n",
       "      <th>7808</th>\n",
       "      <td>0</td>\n",
       "      <td>1940</td>\n",
       "      <td>57</td>\n",
       "      <td>среднее</td>\n",
       "      <td>1</td>\n",
       "      <td>гражданский брак</td>\n",
       "      <td>1</td>\n",
       "      <td>F</td>\n",
       "      <td>пенсионер</td>\n",
       "      <td>0</td>\n",
       "      <td>118514</td>\n",
       "      <td>на проведение свадьбы</td>\n",
       "      <td>False</td>\n",
       "    </tr>\n",
       "    <tr>\n",
       "      <th>7921</th>\n",
       "      <td>0</td>\n",
       "      <td>2115</td>\n",
       "      <td>64</td>\n",
       "      <td>высшее</td>\n",
       "      <td>0</td>\n",
       "      <td>гражданский брак</td>\n",
       "      <td>1</td>\n",
       "      <td>F</td>\n",
       "      <td>пенсионер</td>\n",
       "      <td>0</td>\n",
       "      <td>118514</td>\n",
       "      <td>на проведение свадьбы</td>\n",
       "      <td>False</td>\n",
       "    </tr>\n",
       "    <tr>\n",
       "      <th>7938</th>\n",
       "      <td>0</td>\n",
       "      <td>1504</td>\n",
       "      <td>71</td>\n",
       "      <td>среднее</td>\n",
       "      <td>1</td>\n",
       "      <td>гражданский брак</td>\n",
       "      <td>1</td>\n",
       "      <td>F</td>\n",
       "      <td>пенсионер</td>\n",
       "      <td>0</td>\n",
       "      <td>118514</td>\n",
       "      <td>на проведение свадьбы</td>\n",
       "      <td>False</td>\n",
       "    </tr>\n",
       "    <tr>\n",
       "      <th>8583</th>\n",
       "      <td>0</td>\n",
       "      <td>2271</td>\n",
       "      <td>58</td>\n",
       "      <td>высшее</td>\n",
       "      <td>0</td>\n",
       "      <td>Не женат / не замужем</td>\n",
       "      <td>4</td>\n",
       "      <td>F</td>\n",
       "      <td>пенсионер</td>\n",
       "      <td>0</td>\n",
       "      <td>118514</td>\n",
       "      <td>дополнительное образование</td>\n",
       "      <td>False</td>\n",
       "    </tr>\n",
       "  </tbody>\n",
       "</table>\n",
       "</div>"
      ],
      "text/plain": [
       "      children  days_employed  dob_years education  education_id  \\\n",
       "2849         0           1858         41   среднее             1   \n",
       "3290         0           2271         58   среднее             1   \n",
       "4182         1           1600         34    высшее             0   \n",
       "4851         0           2742         60   среднее             1   \n",
       "5557         0           2271         58   среднее             1   \n",
       "6312         0           1420         30   среднее             1   \n",
       "7808         0           1940         57   среднее             1   \n",
       "7921         0           2115         64    высшее             0   \n",
       "7938         0           1504         71   среднее             1   \n",
       "8583         0           2271         58    высшее             0   \n",
       "\n",
       "              family_status  family_status_id gender income_type  debt  \\\n",
       "2849        женат / замужем                 0      F   сотрудник     0   \n",
       "3290       гражданский брак                 1      F   пенсионер     0   \n",
       "4182       гражданский брак                 1      F   сотрудник     0   \n",
       "4851       гражданский брак                 1      F   пенсионер     0   \n",
       "5557       гражданский брак                 1      F   пенсионер     0   \n",
       "6312        женат / замужем                 0      M   сотрудник     0   \n",
       "7808       гражданский брак                 1      F   пенсионер     0   \n",
       "7921       гражданский брак                 1      F   пенсионер     0   \n",
       "7938       гражданский брак                 1      F   пенсионер     0   \n",
       "8583  Не женат / не замужем                 4      F   пенсионер     0   \n",
       "\n",
       "      total_income                           purpose  wrong_days_employed  \n",
       "2849        142594           покупка жилья для семьи                False  \n",
       "3290        118514                   сыграть свадьбу                False  \n",
       "4182        142594                           свадьба                False  \n",
       "4851        118514                           свадьба                False  \n",
       "5557        118514                   сыграть свадьбу                False  \n",
       "6312        142594  строительство жилой недвижимости                False  \n",
       "7808        118514             на проведение свадьбы                False  \n",
       "7921        118514             на проведение свадьбы                False  \n",
       "7938        118514             на проведение свадьбы                False  \n",
       "8583        118514        дополнительное образование                False  "
      ]
     },
     "execution_count": 25,
     "metadata": {},
     "output_type": "execute_result"
    }
   ],
   "source": [
    "# посмотрим строки с дубликатами\n",
    "\n",
    "data_duplicated = data[data.duplicated() == True] \n",
    "data_duplicated.head(10)"
   ]
  },
  {
   "cell_type": "code",
   "execution_count": 26,
   "metadata": {},
   "outputs": [],
   "source": [
    "# удалим дубликаты и перезапишем индексы\n",
    "\n",
    "data = data.drop_duplicates().reset_index(drop = True) "
   ]
  },
  {
   "cell_type": "code",
   "execution_count": 27,
   "metadata": {},
   "outputs": [
    {
     "data": {
      "text/plain": [
       "0"
      ]
     },
     "execution_count": 27,
     "metadata": {},
     "output_type": "execute_result"
    }
   ],
   "source": [
    "# проверим, удалились ли все дубликаты\n",
    "\n",
    "data.duplicated().sum() "
   ]
  },
  {
   "cell_type": "markdown",
   "metadata": {},
   "source": [
    "**Вывод**"
   ]
  },
  {
   "cell_type": "markdown",
   "metadata": {},
   "source": [
    "Для подсчета количества дубликатов есть два метода: `duplicated()` и `value_counts()`.\n",
    "Первый метод можно применить ко всему датасету, поэтому выбрали его, т.к `value_counts()` применяется только к столбцам.\n",
    "\n",
    "В датасете был 71 дубликат. Причина возникновения дубликатов, предположительно, повторно поданные заявки."
   ]
  },
  {
   "cell_type": "markdown",
   "metadata": {},
   "source": [
    "### Лемматизация"
   ]
  },
  {
   "cell_type": "code",
   "execution_count": 28,
   "metadata": {},
   "outputs": [
    {
     "data": {
      "text/plain": [
       "array(['покупка жилья', 'приобретение автомобиля',\n",
       "       'дополнительное образование', 'операции с жильем', 'образование',\n",
       "       'на проведение свадьбы', 'покупка жилья для семьи',\n",
       "       'покупка недвижимости', 'покупка коммерческой недвижимости',\n",
       "       'сыграть свадьбу', 'покупка жилой недвижимости',\n",
       "       'строительство собственной недвижимости', 'недвижимость',\n",
       "       'строительство недвижимости', 'на покупку своего автомобиля',\n",
       "       'на покупку подержанного автомобиля',\n",
       "       'строительство жилой недвижимости', 'жилье',\n",
       "       'операции со своей недвижимостью', 'автомобили',\n",
       "       'заняться образованием', 'сделка с подержанным автомобилем',\n",
       "       'получение образования', 'автомобиль', 'свадьба',\n",
       "       'получение дополнительного образования', 'покупка своего жилья',\n",
       "       'операции с недвижимостью', 'получение высшего образования',\n",
       "       'операции с коммерческой недвижимостью', 'свой автомобиль',\n",
       "       'сделка с автомобилем', 'профильное образование',\n",
       "       'высшее образование', 'на покупку автомобиля',\n",
       "       'покупка жилья для сдачи', 'ремонт жилью',\n",
       "       'заняться высшим образованием'], dtype=object)"
      ]
     },
     "execution_count": 28,
     "metadata": {},
     "output_type": "execute_result"
    }
   ],
   "source": [
    "# получим список уникальных значений столбца \"purpose\"\n",
    "\n",
    "purpose = data['purpose'].unique() \n",
    "purpose"
   ]
  },
  {
   "cell_type": "code",
   "execution_count": 29,
   "metadata": {},
   "outputs": [
    {
     "data": {
      "text/plain": [
       "'покупка жилья приобретение автомобиля дополнительное образование операции с жильем образование на проведение свадьбы покупка жилья для семьи покупка недвижимости покупка коммерческой недвижимости сыграть свадьбу покупка жилой недвижимости строительство собственной недвижимости недвижимость строительство недвижимости на покупку своего автомобиля на покупку подержанного автомобиля строительство жилой недвижимости жилье операции со своей недвижимостью автомобили заняться образованием сделка с подержанным автомобилем получение образования автомобиль свадьба получение дополнительного образования покупка своего жилья операции с недвижимостью получение высшего образования операции с коммерческой недвижимостью свой автомобиль сделка с автомобилем профильное образование высшее образование на покупку автомобиля покупка жилья для сдачи ремонт жилью заняться высшим образованием'"
      ]
     },
     "execution_count": 29,
     "metadata": {},
     "output_type": "execute_result"
    }
   ],
   "source": [
    "purpose_ = ' '.join(purpose)\n",
    "purpose_"
   ]
  },
  {
   "cell_type": "code",
   "execution_count": 30,
   "metadata": {},
   "outputs": [
    {
     "data": {
      "text/plain": [
       "Counter({'покупка': 10,\n",
       "         ' ': 96,\n",
       "         'жилье': 7,\n",
       "         'приобретение': 1,\n",
       "         'автомобиль': 9,\n",
       "         'дополнительный': 2,\n",
       "         'образование': 9,\n",
       "         'операция': 4,\n",
       "         'с': 5,\n",
       "         'на': 4,\n",
       "         'проведение': 1,\n",
       "         'свадьба': 3,\n",
       "         'для': 2,\n",
       "         'семья': 1,\n",
       "         'недвижимость': 10,\n",
       "         'коммерческий': 2,\n",
       "         'сыграть': 1,\n",
       "         'жилой': 2,\n",
       "         'строительство': 3,\n",
       "         'собственный': 1,\n",
       "         'свой': 4,\n",
       "         'подержать': 2,\n",
       "         'со': 1,\n",
       "         'заниматься': 2,\n",
       "         'сделка': 2,\n",
       "         'получение': 3,\n",
       "         'высокий': 3,\n",
       "         'профильный': 1,\n",
       "         'сдача': 1,\n",
       "         'ремонт': 1,\n",
       "         '\\n': 1})"
      ]
     },
     "execution_count": 30,
     "metadata": {},
     "output_type": "execute_result"
    }
   ],
   "source": [
    "lemmas = m.lemmatize(purpose_)\n",
    "Counter(lemmas)"
   ]
  },
  {
   "cell_type": "markdown",
   "metadata": {},
   "source": [
    "**Вывод**"
   ]
  },
  {
   "cell_type": "markdown",
   "metadata": {},
   "source": [
    "Итак, можно выделить основные 4 категории: недвижимость, автомобиль, образование, свадьба."
   ]
  },
  {
   "cell_type": "markdown",
   "metadata": {},
   "source": [
    "### Категоризация данных"
   ]
  },
  {
   "cell_type": "code",
   "execution_count": 31,
   "metadata": {},
   "outputs": [
    {
     "data": {
      "text/html": [
       "<div>\n",
       "<style scoped>\n",
       "    .dataframe tbody tr th:only-of-type {\n",
       "        vertical-align: middle;\n",
       "    }\n",
       "\n",
       "    .dataframe tbody tr th {\n",
       "        vertical-align: top;\n",
       "    }\n",
       "\n",
       "    .dataframe thead th {\n",
       "        text-align: right;\n",
       "    }\n",
       "</style>\n",
       "<table border=\"1\" class=\"dataframe\">\n",
       "  <thead>\n",
       "    <tr style=\"text-align: right;\">\n",
       "      <th></th>\n",
       "      <th>education_id</th>\n",
       "      <th>education</th>\n",
       "    </tr>\n",
       "  </thead>\n",
       "  <tbody>\n",
       "    <tr>\n",
       "      <th>0</th>\n",
       "      <td>0</td>\n",
       "      <td>высшее</td>\n",
       "    </tr>\n",
       "    <tr>\n",
       "      <th>1</th>\n",
       "      <td>1</td>\n",
       "      <td>среднее</td>\n",
       "    </tr>\n",
       "    <tr>\n",
       "      <th>2</th>\n",
       "      <td>1</td>\n",
       "      <td>среднее</td>\n",
       "    </tr>\n",
       "    <tr>\n",
       "      <th>3</th>\n",
       "      <td>1</td>\n",
       "      <td>среднее</td>\n",
       "    </tr>\n",
       "    <tr>\n",
       "      <th>4</th>\n",
       "      <td>0</td>\n",
       "      <td>высшее</td>\n",
       "    </tr>\n",
       "    <tr>\n",
       "      <th>5</th>\n",
       "      <td>0</td>\n",
       "      <td>высшее</td>\n",
       "    </tr>\n",
       "    <tr>\n",
       "      <th>6</th>\n",
       "      <td>1</td>\n",
       "      <td>среднее</td>\n",
       "    </tr>\n",
       "    <tr>\n",
       "      <th>7</th>\n",
       "      <td>0</td>\n",
       "      <td>высшее</td>\n",
       "    </tr>\n",
       "    <tr>\n",
       "      <th>8</th>\n",
       "      <td>1</td>\n",
       "      <td>среднее</td>\n",
       "    </tr>\n",
       "    <tr>\n",
       "      <th>9</th>\n",
       "      <td>0</td>\n",
       "      <td>высшее</td>\n",
       "    </tr>\n",
       "  </tbody>\n",
       "</table>\n",
       "</div>"
      ],
      "text/plain": [
       "   education_id education\n",
       "0             0    высшее\n",
       "1             1   среднее\n",
       "2             1   среднее\n",
       "3             1   среднее\n",
       "4             0    высшее\n",
       "5             0    высшее\n",
       "6             1   среднее\n",
       "7             0    высшее\n",
       "8             1   среднее\n",
       "9             0    высшее"
      ]
     },
     "execution_count": 31,
     "metadata": {},
     "output_type": "execute_result"
    }
   ],
   "source": [
    "# создадим новый датафрейм с будущим словарем к столбцу \"education_id\"\n",
    "\n",
    "education_dict = data[['education_id', 'education']] \n",
    "education_dict.head(10)"
   ]
  },
  {
   "cell_type": "code",
   "execution_count": 32,
   "metadata": {},
   "outputs": [
    {
     "data": {
      "text/html": [
       "<div>\n",
       "<style scoped>\n",
       "    .dataframe tbody tr th:only-of-type {\n",
       "        vertical-align: middle;\n",
       "    }\n",
       "\n",
       "    .dataframe tbody tr th {\n",
       "        vertical-align: top;\n",
       "    }\n",
       "\n",
       "    .dataframe thead th {\n",
       "        text-align: right;\n",
       "    }\n",
       "</style>\n",
       "<table border=\"1\" class=\"dataframe\">\n",
       "  <thead>\n",
       "    <tr style=\"text-align: right;\">\n",
       "      <th></th>\n",
       "      <th>education_id</th>\n",
       "      <th>education</th>\n",
       "    </tr>\n",
       "  </thead>\n",
       "  <tbody>\n",
       "    <tr>\n",
       "      <th>0</th>\n",
       "      <td>0</td>\n",
       "      <td>высшее</td>\n",
       "    </tr>\n",
       "    <tr>\n",
       "      <th>1</th>\n",
       "      <td>1</td>\n",
       "      <td>среднее</td>\n",
       "    </tr>\n",
       "    <tr>\n",
       "      <th>2</th>\n",
       "      <td>2</td>\n",
       "      <td>неоконченное высшее</td>\n",
       "    </tr>\n",
       "    <tr>\n",
       "      <th>3</th>\n",
       "      <td>3</td>\n",
       "      <td>начальное</td>\n",
       "    </tr>\n",
       "    <tr>\n",
       "      <th>4</th>\n",
       "      <td>4</td>\n",
       "      <td>ученая степень</td>\n",
       "    </tr>\n",
       "  </tbody>\n",
       "</table>\n",
       "</div>"
      ],
      "text/plain": [
       "   education_id            education\n",
       "0             0               высшее\n",
       "1             1              среднее\n",
       "2             2  неоконченное высшее\n",
       "3             3            начальное\n",
       "4             4       ученая степень"
      ]
     },
     "execution_count": 32,
     "metadata": {},
     "output_type": "execute_result"
    }
   ],
   "source": [
    "# удалим дубликаты из словаря\n",
    "\n",
    "education_dict = education_dict.drop_duplicates().reset_index(drop = True) \n",
    "education_dict"
   ]
  },
  {
   "cell_type": "code",
   "execution_count": 33,
   "metadata": {},
   "outputs": [
    {
     "data": {
      "text/html": [
       "<div>\n",
       "<style scoped>\n",
       "    .dataframe tbody tr th:only-of-type {\n",
       "        vertical-align: middle;\n",
       "    }\n",
       "\n",
       "    .dataframe tbody tr th {\n",
       "        vertical-align: top;\n",
       "    }\n",
       "\n",
       "    .dataframe thead th {\n",
       "        text-align: right;\n",
       "    }\n",
       "</style>\n",
       "<table border=\"1\" class=\"dataframe\">\n",
       "  <thead>\n",
       "    <tr style=\"text-align: right;\">\n",
       "      <th></th>\n",
       "      <th>family_status_id</th>\n",
       "      <th>family_status</th>\n",
       "    </tr>\n",
       "  </thead>\n",
       "  <tbody>\n",
       "    <tr>\n",
       "      <th>0</th>\n",
       "      <td>0</td>\n",
       "      <td>женат / замужем</td>\n",
       "    </tr>\n",
       "    <tr>\n",
       "      <th>1</th>\n",
       "      <td>0</td>\n",
       "      <td>женат / замужем</td>\n",
       "    </tr>\n",
       "    <tr>\n",
       "      <th>2</th>\n",
       "      <td>0</td>\n",
       "      <td>женат / замужем</td>\n",
       "    </tr>\n",
       "    <tr>\n",
       "      <th>3</th>\n",
       "      <td>0</td>\n",
       "      <td>женат / замужем</td>\n",
       "    </tr>\n",
       "    <tr>\n",
       "      <th>4</th>\n",
       "      <td>1</td>\n",
       "      <td>гражданский брак</td>\n",
       "    </tr>\n",
       "    <tr>\n",
       "      <th>5</th>\n",
       "      <td>0</td>\n",
       "      <td>женат / замужем</td>\n",
       "    </tr>\n",
       "    <tr>\n",
       "      <th>6</th>\n",
       "      <td>0</td>\n",
       "      <td>женат / замужем</td>\n",
       "    </tr>\n",
       "    <tr>\n",
       "      <th>7</th>\n",
       "      <td>1</td>\n",
       "      <td>гражданский брак</td>\n",
       "    </tr>\n",
       "    <tr>\n",
       "      <th>8</th>\n",
       "      <td>0</td>\n",
       "      <td>женат / замужем</td>\n",
       "    </tr>\n",
       "    <tr>\n",
       "      <th>9</th>\n",
       "      <td>0</td>\n",
       "      <td>женат / замужем</td>\n",
       "    </tr>\n",
       "  </tbody>\n",
       "</table>\n",
       "</div>"
      ],
      "text/plain": [
       "   family_status_id     family_status\n",
       "0                 0   женат / замужем\n",
       "1                 0   женат / замужем\n",
       "2                 0   женат / замужем\n",
       "3                 0   женат / замужем\n",
       "4                 1  гражданский брак\n",
       "5                 0   женат / замужем\n",
       "6                 0   женат / замужем\n",
       "7                 1  гражданский брак\n",
       "8                 0   женат / замужем\n",
       "9                 0   женат / замужем"
      ]
     },
     "execution_count": 33,
     "metadata": {},
     "output_type": "execute_result"
    }
   ],
   "source": [
    "# создадим новый датафрейм с будущим словарем к столбцу \"family_status_id\"\n",
    "\n",
    "family_dict = data[['family_status_id', 'family_status']] \n",
    "family_dict.head(10)"
   ]
  },
  {
   "cell_type": "code",
   "execution_count": 34,
   "metadata": {},
   "outputs": [
    {
     "data": {
      "text/html": [
       "<div>\n",
       "<style scoped>\n",
       "    .dataframe tbody tr th:only-of-type {\n",
       "        vertical-align: middle;\n",
       "    }\n",
       "\n",
       "    .dataframe tbody tr th {\n",
       "        vertical-align: top;\n",
       "    }\n",
       "\n",
       "    .dataframe thead th {\n",
       "        text-align: right;\n",
       "    }\n",
       "</style>\n",
       "<table border=\"1\" class=\"dataframe\">\n",
       "  <thead>\n",
       "    <tr style=\"text-align: right;\">\n",
       "      <th></th>\n",
       "      <th>family_status_id</th>\n",
       "      <th>family_status</th>\n",
       "    </tr>\n",
       "  </thead>\n",
       "  <tbody>\n",
       "    <tr>\n",
       "      <th>0</th>\n",
       "      <td>0</td>\n",
       "      <td>женат / замужем</td>\n",
       "    </tr>\n",
       "    <tr>\n",
       "      <th>1</th>\n",
       "      <td>1</td>\n",
       "      <td>гражданский брак</td>\n",
       "    </tr>\n",
       "    <tr>\n",
       "      <th>2</th>\n",
       "      <td>3</td>\n",
       "      <td>в разводе</td>\n",
       "    </tr>\n",
       "    <tr>\n",
       "      <th>3</th>\n",
       "      <td>4</td>\n",
       "      <td>Не женат / не замужем</td>\n",
       "    </tr>\n",
       "    <tr>\n",
       "      <th>4</th>\n",
       "      <td>2</td>\n",
       "      <td>вдовец / вдова</td>\n",
       "    </tr>\n",
       "  </tbody>\n",
       "</table>\n",
       "</div>"
      ],
      "text/plain": [
       "   family_status_id          family_status\n",
       "0                 0        женат / замужем\n",
       "1                 1       гражданский брак\n",
       "2                 3              в разводе\n",
       "3                 4  Не женат / не замужем\n",
       "4                 2         вдовец / вдова"
      ]
     },
     "execution_count": 34,
     "metadata": {},
     "output_type": "execute_result"
    }
   ],
   "source": [
    "# удалим дубликаты из словаря\n",
    "\n",
    "family_dict = family_dict.drop_duplicates().reset_index(drop = True) \n",
    "family_dict"
   ]
  },
  {
   "cell_type": "code",
   "execution_count": 35,
   "metadata": {},
   "outputs": [],
   "source": [
    "# удалим из начального датасета столбцы \"family_status\" и \"education\"\n",
    "\n",
    "data = data[['children', 'days_employed', 'dob_years', 'education_id',\\\n",
    "             'family_status_id', 'gender', 'income_type', 'debt', 'total_income', 'purpose']]"
   ]
  },
  {
   "cell_type": "code",
   "execution_count": 36,
   "metadata": {},
   "outputs": [],
   "source": [
    "# создадим функцию для категоризации столбца \"total_income\"\n",
    "\n",
    "def total_income_cat(income):\n",
    "    if income <= 30000:\n",
    "        return 'E'\n",
    "    if income <= 50000:\n",
    "        return 'D'\n",
    "    if income <= 200000:\n",
    "        return 'C'\n",
    "    if income <= 1000000:\n",
    "        return 'B'\n",
    "    return 'A'"
   ]
  },
  {
   "cell_type": "code",
   "execution_count": 37,
   "metadata": {},
   "outputs": [],
   "source": [
    "# применим функцию к столбцу \n",
    "\n",
    "data['total_income_cat'] = data['total_income'].apply(total_income_cat) "
   ]
  },
  {
   "cell_type": "code",
   "execution_count": 38,
   "metadata": {},
   "outputs": [
    {
     "data": {
      "text/html": [
       "<div>\n",
       "<style scoped>\n",
       "    .dataframe tbody tr th:only-of-type {\n",
       "        vertical-align: middle;\n",
       "    }\n",
       "\n",
       "    .dataframe tbody tr th {\n",
       "        vertical-align: top;\n",
       "    }\n",
       "\n",
       "    .dataframe thead th {\n",
       "        text-align: right;\n",
       "    }\n",
       "</style>\n",
       "<table border=\"1\" class=\"dataframe\">\n",
       "  <thead>\n",
       "    <tr style=\"text-align: right;\">\n",
       "      <th></th>\n",
       "      <th>children</th>\n",
       "      <th>days_employed</th>\n",
       "      <th>dob_years</th>\n",
       "      <th>education_id</th>\n",
       "      <th>family_status_id</th>\n",
       "      <th>gender</th>\n",
       "      <th>income_type</th>\n",
       "      <th>debt</th>\n",
       "      <th>total_income</th>\n",
       "      <th>purpose</th>\n",
       "      <th>total_income_cat</th>\n",
       "    </tr>\n",
       "  </thead>\n",
       "  <tbody>\n",
       "    <tr>\n",
       "      <th>0</th>\n",
       "      <td>1</td>\n",
       "      <td>8437</td>\n",
       "      <td>42</td>\n",
       "      <td>0</td>\n",
       "      <td>0</td>\n",
       "      <td>F</td>\n",
       "      <td>сотрудник</td>\n",
       "      <td>0</td>\n",
       "      <td>253875</td>\n",
       "      <td>покупка жилья</td>\n",
       "      <td>B</td>\n",
       "    </tr>\n",
       "    <tr>\n",
       "      <th>1</th>\n",
       "      <td>1</td>\n",
       "      <td>4024</td>\n",
       "      <td>36</td>\n",
       "      <td>1</td>\n",
       "      <td>0</td>\n",
       "      <td>F</td>\n",
       "      <td>сотрудник</td>\n",
       "      <td>0</td>\n",
       "      <td>112080</td>\n",
       "      <td>приобретение автомобиля</td>\n",
       "      <td>C</td>\n",
       "    </tr>\n",
       "    <tr>\n",
       "      <th>2</th>\n",
       "      <td>0</td>\n",
       "      <td>5623</td>\n",
       "      <td>33</td>\n",
       "      <td>1</td>\n",
       "      <td>0</td>\n",
       "      <td>M</td>\n",
       "      <td>сотрудник</td>\n",
       "      <td>0</td>\n",
       "      <td>145885</td>\n",
       "      <td>покупка жилья</td>\n",
       "      <td>C</td>\n",
       "    </tr>\n",
       "    <tr>\n",
       "      <th>3</th>\n",
       "      <td>3</td>\n",
       "      <td>4124</td>\n",
       "      <td>32</td>\n",
       "      <td>1</td>\n",
       "      <td>0</td>\n",
       "      <td>M</td>\n",
       "      <td>сотрудник</td>\n",
       "      <td>0</td>\n",
       "      <td>267628</td>\n",
       "      <td>дополнительное образование</td>\n",
       "      <td>B</td>\n",
       "    </tr>\n",
       "    <tr>\n",
       "      <th>4</th>\n",
       "      <td>0</td>\n",
       "      <td>926</td>\n",
       "      <td>27</td>\n",
       "      <td>0</td>\n",
       "      <td>1</td>\n",
       "      <td>M</td>\n",
       "      <td>компаньон</td>\n",
       "      <td>0</td>\n",
       "      <td>255763</td>\n",
       "      <td>покупка жилья</td>\n",
       "      <td>B</td>\n",
       "    </tr>\n",
       "    <tr>\n",
       "      <th>5</th>\n",
       "      <td>0</td>\n",
       "      <td>2879</td>\n",
       "      <td>43</td>\n",
       "      <td>0</td>\n",
       "      <td>0</td>\n",
       "      <td>F</td>\n",
       "      <td>компаньон</td>\n",
       "      <td>0</td>\n",
       "      <td>240525</td>\n",
       "      <td>операции с жильем</td>\n",
       "      <td>B</td>\n",
       "    </tr>\n",
       "    <tr>\n",
       "      <th>6</th>\n",
       "      <td>0</td>\n",
       "      <td>152</td>\n",
       "      <td>50</td>\n",
       "      <td>1</td>\n",
       "      <td>0</td>\n",
       "      <td>M</td>\n",
       "      <td>сотрудник</td>\n",
       "      <td>0</td>\n",
       "      <td>135823</td>\n",
       "      <td>образование</td>\n",
       "      <td>C</td>\n",
       "    </tr>\n",
       "    <tr>\n",
       "      <th>7</th>\n",
       "      <td>2</td>\n",
       "      <td>6929</td>\n",
       "      <td>35</td>\n",
       "      <td>0</td>\n",
       "      <td>1</td>\n",
       "      <td>F</td>\n",
       "      <td>сотрудник</td>\n",
       "      <td>0</td>\n",
       "      <td>95856</td>\n",
       "      <td>на проведение свадьбы</td>\n",
       "      <td>C</td>\n",
       "    </tr>\n",
       "    <tr>\n",
       "      <th>8</th>\n",
       "      <td>0</td>\n",
       "      <td>2188</td>\n",
       "      <td>41</td>\n",
       "      <td>1</td>\n",
       "      <td>0</td>\n",
       "      <td>M</td>\n",
       "      <td>сотрудник</td>\n",
       "      <td>0</td>\n",
       "      <td>144425</td>\n",
       "      <td>покупка жилья для семьи</td>\n",
       "      <td>C</td>\n",
       "    </tr>\n",
       "    <tr>\n",
       "      <th>9</th>\n",
       "      <td>2</td>\n",
       "      <td>4171</td>\n",
       "      <td>36</td>\n",
       "      <td>0</td>\n",
       "      <td>0</td>\n",
       "      <td>M</td>\n",
       "      <td>компаньон</td>\n",
       "      <td>0</td>\n",
       "      <td>113943</td>\n",
       "      <td>покупка недвижимости</td>\n",
       "      <td>C</td>\n",
       "    </tr>\n",
       "  </tbody>\n",
       "</table>\n",
       "</div>"
      ],
      "text/plain": [
       "   children  days_employed  dob_years  education_id  family_status_id gender  \\\n",
       "0         1           8437         42             0                 0      F   \n",
       "1         1           4024         36             1                 0      F   \n",
       "2         0           5623         33             1                 0      M   \n",
       "3         3           4124         32             1                 0      M   \n",
       "4         0            926         27             0                 1      M   \n",
       "5         0           2879         43             0                 0      F   \n",
       "6         0            152         50             1                 0      M   \n",
       "7         2           6929         35             0                 1      F   \n",
       "8         0           2188         41             1                 0      M   \n",
       "9         2           4171         36             0                 0      M   \n",
       "\n",
       "  income_type  debt  total_income                     purpose total_income_cat  \n",
       "0   сотрудник     0        253875               покупка жилья                B  \n",
       "1   сотрудник     0        112080     приобретение автомобиля                C  \n",
       "2   сотрудник     0        145885               покупка жилья                C  \n",
       "3   сотрудник     0        267628  дополнительное образование                B  \n",
       "4   компаньон     0        255763               покупка жилья                B  \n",
       "5   компаньон     0        240525           операции с жильем                B  \n",
       "6   сотрудник     0        135823                 образование                C  \n",
       "7   сотрудник     0         95856       на проведение свадьбы                C  \n",
       "8   сотрудник     0        144425     покупка жилья для семьи                C  \n",
       "9   компаньон     0        113943        покупка недвижимости                C  "
      ]
     },
     "execution_count": 38,
     "metadata": {},
     "output_type": "execute_result"
    }
   ],
   "source": [
    "data.head(10)"
   ]
  },
  {
   "cell_type": "code",
   "execution_count": 39,
   "metadata": {},
   "outputs": [],
   "source": [
    "# создадим функцию для категоризации столбца \"purpose\"\n",
    "\n",
    "def purpose_cat(row): \n",
    "    purpose = row['purpose']  \n",
    "    if ('жиль' in purpose) or ('недвижимост' in purpose):\n",
    "        return 'операции с недвижимостью'\n",
    "    if 'автомобил' in purpose:\n",
    "        return 'операции с автомобилем'\n",
    "    if 'образовани' in purpose:\n",
    "        return 'получение образования'\n",
    "    if 'свадьб' in purpose:\n",
    "        return 'проведение свадьбы'"
   ]
  },
  {
   "cell_type": "code",
   "execution_count": 40,
   "metadata": {},
   "outputs": [],
   "source": [
    "# применим созданную функцию к датасету, добавив при этом новый столбец\n",
    "\n",
    "data['purpose_cat'] = data.apply(purpose_cat, axis=1) "
   ]
  },
  {
   "cell_type": "code",
   "execution_count": 41,
   "metadata": {},
   "outputs": [
    {
     "data": {
      "text/html": [
       "<div>\n",
       "<style scoped>\n",
       "    .dataframe tbody tr th:only-of-type {\n",
       "        vertical-align: middle;\n",
       "    }\n",
       "\n",
       "    .dataframe tbody tr th {\n",
       "        vertical-align: top;\n",
       "    }\n",
       "\n",
       "    .dataframe thead th {\n",
       "        text-align: right;\n",
       "    }\n",
       "</style>\n",
       "<table border=\"1\" class=\"dataframe\">\n",
       "  <thead>\n",
       "    <tr style=\"text-align: right;\">\n",
       "      <th></th>\n",
       "      <th>children</th>\n",
       "      <th>days_employed</th>\n",
       "      <th>dob_years</th>\n",
       "      <th>education_id</th>\n",
       "      <th>family_status_id</th>\n",
       "      <th>gender</th>\n",
       "      <th>income_type</th>\n",
       "      <th>debt</th>\n",
       "      <th>total_income</th>\n",
       "      <th>purpose</th>\n",
       "      <th>total_income_cat</th>\n",
       "      <th>purpose_cat</th>\n",
       "    </tr>\n",
       "  </thead>\n",
       "  <tbody>\n",
       "    <tr>\n",
       "      <th>0</th>\n",
       "      <td>1</td>\n",
       "      <td>8437</td>\n",
       "      <td>42</td>\n",
       "      <td>0</td>\n",
       "      <td>0</td>\n",
       "      <td>F</td>\n",
       "      <td>сотрудник</td>\n",
       "      <td>0</td>\n",
       "      <td>253875</td>\n",
       "      <td>покупка жилья</td>\n",
       "      <td>B</td>\n",
       "      <td>операции с недвижимостью</td>\n",
       "    </tr>\n",
       "    <tr>\n",
       "      <th>1</th>\n",
       "      <td>1</td>\n",
       "      <td>4024</td>\n",
       "      <td>36</td>\n",
       "      <td>1</td>\n",
       "      <td>0</td>\n",
       "      <td>F</td>\n",
       "      <td>сотрудник</td>\n",
       "      <td>0</td>\n",
       "      <td>112080</td>\n",
       "      <td>приобретение автомобиля</td>\n",
       "      <td>C</td>\n",
       "      <td>операции с автомобилем</td>\n",
       "    </tr>\n",
       "    <tr>\n",
       "      <th>2</th>\n",
       "      <td>0</td>\n",
       "      <td>5623</td>\n",
       "      <td>33</td>\n",
       "      <td>1</td>\n",
       "      <td>0</td>\n",
       "      <td>M</td>\n",
       "      <td>сотрудник</td>\n",
       "      <td>0</td>\n",
       "      <td>145885</td>\n",
       "      <td>покупка жилья</td>\n",
       "      <td>C</td>\n",
       "      <td>операции с недвижимостью</td>\n",
       "    </tr>\n",
       "    <tr>\n",
       "      <th>3</th>\n",
       "      <td>3</td>\n",
       "      <td>4124</td>\n",
       "      <td>32</td>\n",
       "      <td>1</td>\n",
       "      <td>0</td>\n",
       "      <td>M</td>\n",
       "      <td>сотрудник</td>\n",
       "      <td>0</td>\n",
       "      <td>267628</td>\n",
       "      <td>дополнительное образование</td>\n",
       "      <td>B</td>\n",
       "      <td>получение образования</td>\n",
       "    </tr>\n",
       "    <tr>\n",
       "      <th>4</th>\n",
       "      <td>0</td>\n",
       "      <td>926</td>\n",
       "      <td>27</td>\n",
       "      <td>0</td>\n",
       "      <td>1</td>\n",
       "      <td>M</td>\n",
       "      <td>компаньон</td>\n",
       "      <td>0</td>\n",
       "      <td>255763</td>\n",
       "      <td>покупка жилья</td>\n",
       "      <td>B</td>\n",
       "      <td>операции с недвижимостью</td>\n",
       "    </tr>\n",
       "    <tr>\n",
       "      <th>5</th>\n",
       "      <td>0</td>\n",
       "      <td>2879</td>\n",
       "      <td>43</td>\n",
       "      <td>0</td>\n",
       "      <td>0</td>\n",
       "      <td>F</td>\n",
       "      <td>компаньон</td>\n",
       "      <td>0</td>\n",
       "      <td>240525</td>\n",
       "      <td>операции с жильем</td>\n",
       "      <td>B</td>\n",
       "      <td>операции с недвижимостью</td>\n",
       "    </tr>\n",
       "    <tr>\n",
       "      <th>6</th>\n",
       "      <td>0</td>\n",
       "      <td>152</td>\n",
       "      <td>50</td>\n",
       "      <td>1</td>\n",
       "      <td>0</td>\n",
       "      <td>M</td>\n",
       "      <td>сотрудник</td>\n",
       "      <td>0</td>\n",
       "      <td>135823</td>\n",
       "      <td>образование</td>\n",
       "      <td>C</td>\n",
       "      <td>получение образования</td>\n",
       "    </tr>\n",
       "    <tr>\n",
       "      <th>7</th>\n",
       "      <td>2</td>\n",
       "      <td>6929</td>\n",
       "      <td>35</td>\n",
       "      <td>0</td>\n",
       "      <td>1</td>\n",
       "      <td>F</td>\n",
       "      <td>сотрудник</td>\n",
       "      <td>0</td>\n",
       "      <td>95856</td>\n",
       "      <td>на проведение свадьбы</td>\n",
       "      <td>C</td>\n",
       "      <td>проведение свадьбы</td>\n",
       "    </tr>\n",
       "    <tr>\n",
       "      <th>8</th>\n",
       "      <td>0</td>\n",
       "      <td>2188</td>\n",
       "      <td>41</td>\n",
       "      <td>1</td>\n",
       "      <td>0</td>\n",
       "      <td>M</td>\n",
       "      <td>сотрудник</td>\n",
       "      <td>0</td>\n",
       "      <td>144425</td>\n",
       "      <td>покупка жилья для семьи</td>\n",
       "      <td>C</td>\n",
       "      <td>операции с недвижимостью</td>\n",
       "    </tr>\n",
       "    <tr>\n",
       "      <th>9</th>\n",
       "      <td>2</td>\n",
       "      <td>4171</td>\n",
       "      <td>36</td>\n",
       "      <td>0</td>\n",
       "      <td>0</td>\n",
       "      <td>M</td>\n",
       "      <td>компаньон</td>\n",
       "      <td>0</td>\n",
       "      <td>113943</td>\n",
       "      <td>покупка недвижимости</td>\n",
       "      <td>C</td>\n",
       "      <td>операции с недвижимостью</td>\n",
       "    </tr>\n",
       "  </tbody>\n",
       "</table>\n",
       "</div>"
      ],
      "text/plain": [
       "   children  days_employed  dob_years  education_id  family_status_id gender  \\\n",
       "0         1           8437         42             0                 0      F   \n",
       "1         1           4024         36             1                 0      F   \n",
       "2         0           5623         33             1                 0      M   \n",
       "3         3           4124         32             1                 0      M   \n",
       "4         0            926         27             0                 1      M   \n",
       "5         0           2879         43             0                 0      F   \n",
       "6         0            152         50             1                 0      M   \n",
       "7         2           6929         35             0                 1      F   \n",
       "8         0           2188         41             1                 0      M   \n",
       "9         2           4171         36             0                 0      M   \n",
       "\n",
       "  income_type  debt  total_income                     purpose  \\\n",
       "0   сотрудник     0        253875               покупка жилья   \n",
       "1   сотрудник     0        112080     приобретение автомобиля   \n",
       "2   сотрудник     0        145885               покупка жилья   \n",
       "3   сотрудник     0        267628  дополнительное образование   \n",
       "4   компаньон     0        255763               покупка жилья   \n",
       "5   компаньон     0        240525           операции с жильем   \n",
       "6   сотрудник     0        135823                 образование   \n",
       "7   сотрудник     0         95856       на проведение свадьбы   \n",
       "8   сотрудник     0        144425     покупка жилья для семьи   \n",
       "9   компаньон     0        113943        покупка недвижимости   \n",
       "\n",
       "  total_income_cat               purpose_cat  \n",
       "0                B  операции с недвижимостью  \n",
       "1                C    операции с автомобилем  \n",
       "2                C  операции с недвижимостью  \n",
       "3                B     получение образования  \n",
       "4                B  операции с недвижимостью  \n",
       "5                B  операции с недвижимостью  \n",
       "6                C     получение образования  \n",
       "7                C        проведение свадьбы  \n",
       "8                C  операции с недвижимостью  \n",
       "9                C  операции с недвижимостью  "
      ]
     },
     "execution_count": 41,
     "metadata": {},
     "output_type": "execute_result"
    }
   ],
   "source": [
    "data.head(10)"
   ]
  },
  {
   "cell_type": "markdown",
   "metadata": {},
   "source": [
    "**Вывод**"
   ]
  },
  {
   "cell_type": "markdown",
   "metadata": {},
   "source": [
    "Произвели категоризацию двух столбцов. На основании лемматизации выделили наиболее часто встречающиеся категории целей для взятия кредита. На основании инструкции выделили основные категории доходов."
   ]
  },
  {
   "cell_type": "markdown",
   "metadata": {},
   "source": [
    "## Шаг 3. Ответьте на вопросы"
   ]
  },
  {
   "cell_type": "markdown",
   "metadata": {},
   "source": [
    "- Есть ли зависимость между наличием детей и возвратом кредита в срок?"
   ]
  },
  {
   "cell_type": "code",
   "execution_count": 42,
   "metadata": {},
   "outputs": [
    {
     "data": {
      "text/html": [
       "<div>\n",
       "<style scoped>\n",
       "    .dataframe tbody tr th:only-of-type {\n",
       "        vertical-align: middle;\n",
       "    }\n",
       "\n",
       "    .dataframe tbody tr th {\n",
       "        vertical-align: top;\n",
       "    }\n",
       "\n",
       "    .dataframe thead th {\n",
       "        text-align: right;\n",
       "    }\n",
       "</style>\n",
       "<table border=\"1\" class=\"dataframe\">\n",
       "  <thead>\n",
       "    <tr style=\"text-align: right;\">\n",
       "      <th></th>\n",
       "      <th>debt</th>\n",
       "    </tr>\n",
       "    <tr>\n",
       "      <th>children</th>\n",
       "      <th></th>\n",
       "    </tr>\n",
       "  </thead>\n",
       "  <tbody>\n",
       "    <tr>\n",
       "      <th>0</th>\n",
       "      <td>0.081924</td>\n",
       "    </tr>\n",
       "    <tr>\n",
       "      <th>1</th>\n",
       "      <td>0.094233</td>\n",
       "    </tr>\n",
       "    <tr>\n",
       "      <th>2</th>\n",
       "      <td>0.095057</td>\n",
       "    </tr>\n",
       "    <tr>\n",
       "      <th>3</th>\n",
       "      <td>0.080247</td>\n",
       "    </tr>\n",
       "    <tr>\n",
       "      <th>4</th>\n",
       "      <td>0.100000</td>\n",
       "    </tr>\n",
       "    <tr>\n",
       "      <th>5</th>\n",
       "      <td>0.000000</td>\n",
       "    </tr>\n",
       "  </tbody>\n",
       "</table>\n",
       "</div>"
      ],
      "text/plain": [
       "              debt\n",
       "children          \n",
       "0         0.081924\n",
       "1         0.094233\n",
       "2         0.095057\n",
       "3         0.080247\n",
       "4         0.100000\n",
       "5         0.000000"
      ]
     },
     "execution_count": 42,
     "metadata": {},
     "output_type": "execute_result"
    }
   ],
   "source": [
    "pivot_children = data.pivot_table(index = 'children', values = 'debt', aggfunc = 'mean')\n",
    "pivot_children"
   ]
  },
  {
   "cell_type": "markdown",
   "metadata": {},
   "source": [
    "**Вывод**"
   ]
  },
  {
   "cell_type": "markdown",
   "metadata": {},
   "source": [
    "Доля не отданных в срок кредитов у клиентов, не имеющих детей, немного ниже, чем у всех остальных. Для тех, у кого дети есть, возвращаемость кредитов в среднем не зависит от количества детей."
   ]
  },
  {
   "cell_type": "markdown",
   "metadata": {},
   "source": [
    "- Есть ли зависимость между семейным положением и возвратом кредита в срок?"
   ]
  },
  {
   "cell_type": "code",
   "execution_count": 43,
   "metadata": {},
   "outputs": [
    {
     "data": {
      "text/html": [
       "<div>\n",
       "<style scoped>\n",
       "    .dataframe tbody tr th:only-of-type {\n",
       "        vertical-align: middle;\n",
       "    }\n",
       "\n",
       "    .dataframe tbody tr th {\n",
       "        vertical-align: top;\n",
       "    }\n",
       "\n",
       "    .dataframe thead th {\n",
       "        text-align: right;\n",
       "    }\n",
       "</style>\n",
       "<table border=\"1\" class=\"dataframe\">\n",
       "  <thead>\n",
       "    <tr style=\"text-align: right;\">\n",
       "      <th></th>\n",
       "      <th>debt</th>\n",
       "    </tr>\n",
       "    <tr>\n",
       "      <th>family_status_id</th>\n",
       "      <th></th>\n",
       "    </tr>\n",
       "  </thead>\n",
       "  <tbody>\n",
       "    <tr>\n",
       "      <th>0</th>\n",
       "      <td>0.079591</td>\n",
       "    </tr>\n",
       "    <tr>\n",
       "      <th>1</th>\n",
       "      <td>0.100448</td>\n",
       "    </tr>\n",
       "    <tr>\n",
       "      <th>2</th>\n",
       "      <td>0.065263</td>\n",
       "    </tr>\n",
       "    <tr>\n",
       "      <th>3</th>\n",
       "      <td>0.074223</td>\n",
       "    </tr>\n",
       "    <tr>\n",
       "      <th>4</th>\n",
       "      <td>0.104926</td>\n",
       "    </tr>\n",
       "  </tbody>\n",
       "</table>\n",
       "</div>"
      ],
      "text/plain": [
       "                      debt\n",
       "family_status_id          \n",
       "0                 0.079591\n",
       "1                 0.100448\n",
       "2                 0.065263\n",
       "3                 0.074223\n",
       "4                 0.104926"
      ]
     },
     "execution_count": 43,
     "metadata": {},
     "output_type": "execute_result"
    }
   ],
   "source": [
    "pivot_family_status_id = data.pivot_table(index = 'family_status_id', values = 'debt', aggfunc = 'mean')\n",
    "pivot_family_status_id"
   ]
  },
  {
   "cell_type": "markdown",
   "metadata": {},
   "source": [
    "**Вывод**"
   ]
  },
  {
   "cell_type": "markdown",
   "metadata": {},
   "source": [
    "В среднем, вдовцы/вдовы отдают кредиты чуть лучше чем все остальные категории. За ними с небольшим отставанием идут состоящие в браке и разведенные. Хуже всего отдают кредиты люди, состоящие в гражданском браке и не женатые/не замужние клиенты."
   ]
  },
  {
   "cell_type": "markdown",
   "metadata": {},
   "source": [
    "- Есть ли зависимость между уровнем дохода и возвратом кредита в срок?"
   ]
  },
  {
   "cell_type": "code",
   "execution_count": 44,
   "metadata": {},
   "outputs": [
    {
     "data": {
      "text/html": [
       "<div>\n",
       "<style scoped>\n",
       "    .dataframe tbody tr th:only-of-type {\n",
       "        vertical-align: middle;\n",
       "    }\n",
       "\n",
       "    .dataframe tbody tr th {\n",
       "        vertical-align: top;\n",
       "    }\n",
       "\n",
       "    .dataframe thead th {\n",
       "        text-align: right;\n",
       "    }\n",
       "</style>\n",
       "<table border=\"1\" class=\"dataframe\">\n",
       "  <thead>\n",
       "    <tr style=\"text-align: right;\">\n",
       "      <th></th>\n",
       "      <th>debt</th>\n",
       "    </tr>\n",
       "    <tr>\n",
       "      <th>total_income_cat</th>\n",
       "      <th></th>\n",
       "    </tr>\n",
       "  </thead>\n",
       "  <tbody>\n",
       "    <tr>\n",
       "      <th>A</th>\n",
       "      <td>0.080000</td>\n",
       "    </tr>\n",
       "    <tr>\n",
       "      <th>B</th>\n",
       "      <td>0.072399</td>\n",
       "    </tr>\n",
       "    <tr>\n",
       "      <th>C</th>\n",
       "      <td>0.091558</td>\n",
       "    </tr>\n",
       "    <tr>\n",
       "      <th>D</th>\n",
       "      <td>0.075676</td>\n",
       "    </tr>\n",
       "    <tr>\n",
       "      <th>E</th>\n",
       "      <td>0.000000</td>\n",
       "    </tr>\n",
       "  </tbody>\n",
       "</table>\n",
       "</div>"
      ],
      "text/plain": [
       "                      debt\n",
       "total_income_cat          \n",
       "A                 0.080000\n",
       "B                 0.072399\n",
       "C                 0.091558\n",
       "D                 0.075676\n",
       "E                 0.000000"
      ]
     },
     "execution_count": 44,
     "metadata": {},
     "output_type": "execute_result"
    }
   ],
   "source": [
    "pivot_total_income = data.pivot_table(index = 'total_income_cat', values = 'debt', aggfunc = 'mean')\n",
    "pivot_total_income"
   ]
  },
  {
   "cell_type": "markdown",
   "metadata": {},
   "source": [
    "**Вывод**"
   ]
  },
  {
   "cell_type": "markdown",
   "metadata": {},
   "source": [
    "У клиентов, с уровнем дохода от 30001–50000 руб. в месяц, наиболее низкая доля не отданных кредитов. \n",
    "Клиенты с уровнем дохода до 30000 руб. в месяц чаще всего не выплачивают кредиты вовремя.\n",
    "У клиентов с доходом от 50000 руб. до более 1000000 руб. в месяц, в среднем, показатели возвращаемости кредита находятся на одном уровне. "
   ]
  },
  {
   "cell_type": "markdown",
   "metadata": {},
   "source": [
    "- Как разные цели кредита влияют на его возврат в срок?"
   ]
  },
  {
   "cell_type": "code",
   "execution_count": 45,
   "metadata": {},
   "outputs": [
    {
     "data": {
      "text/html": [
       "<div>\n",
       "<style scoped>\n",
       "    .dataframe tbody tr th:only-of-type {\n",
       "        vertical-align: middle;\n",
       "    }\n",
       "\n",
       "    .dataframe tbody tr th {\n",
       "        vertical-align: top;\n",
       "    }\n",
       "\n",
       "    .dataframe thead th {\n",
       "        text-align: right;\n",
       "    }\n",
       "</style>\n",
       "<table border=\"1\" class=\"dataframe\">\n",
       "  <thead>\n",
       "    <tr style=\"text-align: right;\">\n",
       "      <th></th>\n",
       "      <th>debt</th>\n",
       "    </tr>\n",
       "    <tr>\n",
       "      <th>purpose_cat</th>\n",
       "      <th></th>\n",
       "    </tr>\n",
       "  </thead>\n",
       "  <tbody>\n",
       "    <tr>\n",
       "      <th>операции с автомобилем</th>\n",
       "      <td>0.100251</td>\n",
       "    </tr>\n",
       "    <tr>\n",
       "      <th>операции с недвижимостью</th>\n",
       "      <td>0.077286</td>\n",
       "    </tr>\n",
       "    <tr>\n",
       "      <th>получение образования</th>\n",
       "      <td>0.097648</td>\n",
       "    </tr>\n",
       "    <tr>\n",
       "      <th>проведение свадьбы</th>\n",
       "      <td>0.085641</td>\n",
       "    </tr>\n",
       "  </tbody>\n",
       "</table>\n",
       "</div>"
      ],
      "text/plain": [
       "                              debt\n",
       "purpose_cat                       \n",
       "операции с автомобилем    0.100251\n",
       "операции с недвижимостью  0.077286\n",
       "получение образования     0.097648\n",
       "проведение свадьбы        0.085641"
      ]
     },
     "execution_count": 45,
     "metadata": {},
     "output_type": "execute_result"
    }
   ],
   "source": [
    "pivot_purpose = data.pivot_table(index = 'purpose_cat', values = 'debt', aggfunc = 'mean')\n",
    "pivot_purpose"
   ]
  },
  {
   "cell_type": "markdown",
   "metadata": {},
   "source": [
    "**Вывод**"
   ]
  },
  {
   "cell_type": "markdown",
   "metadata": {},
   "source": [
    "Наиболее низкий процент не отданных в срок кредитов, взятых на операции с недвижимостью. Хуже всего отдаются кредиты, взятые на операции с автомобилем."
   ]
  },
  {
   "cell_type": "markdown",
   "metadata": {},
   "source": [
    "## Шаг 4. Общий вывод"
   ]
  },
  {
   "cell_type": "markdown",
   "metadata": {},
   "source": [
    "В целом, исходя из полученных выше выводов можно выделить признаки наиболее добрсоовестного кредитора: у клиента нет детей, он состоит или состоял в официальном браке(овдовел или развелся), имеет доход от 30000 до 50000 руб., берет кредит на операции с недвижимостью.\n",
    "\n",
    "А также, признаки наиболее недобросовестного заемщика: имеет от одного до нескольких детей, не состоит в официальном браке, имеет доход до 30000 руб., берет кредит на операции с автомобилем или получение образования."
   ]
  }
 ],
 "metadata": {
  "ExecuteTimeLog": [
   {
    "duration": 700,
    "start_time": "2022-01-28T14:44:50.638Z"
   },
   {
    "duration": 54,
    "start_time": "2022-01-28T14:44:51.938Z"
   },
   {
    "duration": 21,
    "start_time": "2022-01-28T14:45:20.875Z"
   },
   {
    "duration": 12,
    "start_time": "2022-01-28T14:50:04.074Z"
   },
   {
    "duration": 13,
    "start_time": "2022-01-28T15:34:31.654Z"
   },
   {
    "duration": 12,
    "start_time": "2022-01-28T15:34:45.643Z"
   },
   {
    "duration": 11,
    "start_time": "2022-01-28T15:39:17.011Z"
   },
   {
    "duration": 10,
    "start_time": "2022-01-28T15:50:52.281Z"
   },
   {
    "duration": 7,
    "start_time": "2022-01-28T15:57:28.620Z"
   },
   {
    "duration": 25,
    "start_time": "2022-01-28T16:37:49.009Z"
   },
   {
    "duration": 138,
    "start_time": "2022-01-28T16:38:10.606Z"
   },
   {
    "duration": 31,
    "start_time": "2022-01-28T16:38:36.268Z"
   },
   {
    "duration": 22,
    "start_time": "2022-01-28T16:38:44.909Z"
   },
   {
    "duration": 19,
    "start_time": "2022-01-28T16:47:07.501Z"
   },
   {
    "duration": 22,
    "start_time": "2022-01-28T16:47:23.318Z"
   },
   {
    "duration": 330,
    "start_time": "2022-01-28T16:47:35.377Z"
   },
   {
    "duration": 25,
    "start_time": "2022-01-28T16:47:44.072Z"
   },
   {
    "duration": 11,
    "start_time": "2022-01-28T16:52:15.985Z"
   },
   {
    "duration": 10,
    "start_time": "2022-01-28T16:52:27.749Z"
   },
   {
    "duration": 5,
    "start_time": "2022-01-28T17:19:29.539Z"
   },
   {
    "duration": 12,
    "start_time": "2022-01-28T17:19:43.288Z"
   },
   {
    "duration": 12,
    "start_time": "2022-01-28T17:24:00.437Z"
   },
   {
    "duration": 16,
    "start_time": "2022-01-28T17:30:33.535Z"
   },
   {
    "duration": 240,
    "start_time": "2022-01-28T17:30:58.062Z"
   },
   {
    "duration": 15,
    "start_time": "2022-01-28T17:34:17.352Z"
   },
   {
    "duration": 5,
    "start_time": "2022-01-28T17:36:57.586Z"
   },
   {
    "duration": 6,
    "start_time": "2022-01-28T17:37:27.080Z"
   },
   {
    "duration": 4,
    "start_time": "2022-01-28T17:38:22.604Z"
   },
   {
    "duration": 34,
    "start_time": "2022-01-28T17:39:56.152Z"
   },
   {
    "duration": 17,
    "start_time": "2022-01-28T17:40:39.462Z"
   },
   {
    "duration": 20,
    "start_time": "2022-01-28T17:41:21.383Z"
   },
   {
    "duration": 21,
    "start_time": "2022-01-28T17:43:40.001Z"
   },
   {
    "duration": 80,
    "start_time": "2022-01-28T17:44:57.935Z"
   },
   {
    "duration": 20,
    "start_time": "2022-01-28T17:45:22.659Z"
   },
   {
    "duration": 258,
    "start_time": "2022-01-28T17:49:31.465Z"
   },
   {
    "duration": 18,
    "start_time": "2022-01-28T17:49:50.784Z"
   },
   {
    "duration": 19,
    "start_time": "2022-01-28T17:53:16.480Z"
   },
   {
    "duration": 30,
    "start_time": "2022-01-28T17:58:14.576Z"
   },
   {
    "duration": 12,
    "start_time": "2022-01-28T18:00:24.373Z"
   },
   {
    "duration": 16,
    "start_time": "2022-01-28T18:00:42.022Z"
   },
   {
    "duration": 21,
    "start_time": "2022-01-28T18:00:52.556Z"
   },
   {
    "duration": 2,
    "start_time": "2022-01-28T18:04:41.665Z"
   },
   {
    "duration": 7,
    "start_time": "2022-01-28T18:06:46.447Z"
   },
   {
    "duration": 15,
    "start_time": "2022-01-28T18:06:50.778Z"
   },
   {
    "duration": 5,
    "start_time": "2022-01-28T18:07:01.346Z"
   },
   {
    "duration": 13,
    "start_time": "2022-01-28T18:07:05.514Z"
   },
   {
    "duration": 16,
    "start_time": "2022-01-28T18:07:11.581Z"
   },
   {
    "duration": 23,
    "start_time": "2022-01-28T18:07:16.059Z"
   },
   {
    "duration": 35,
    "start_time": "2022-01-28T18:07:21.725Z"
   },
   {
    "duration": 4,
    "start_time": "2022-01-28T18:08:45.253Z"
   },
   {
    "duration": 10,
    "start_time": "2022-01-28T18:09:06.969Z"
   },
   {
    "duration": 10,
    "start_time": "2022-01-28T18:09:09.453Z"
   },
   {
    "duration": 4,
    "start_time": "2022-01-28T18:09:15.739Z"
   },
   {
    "duration": 13,
    "start_time": "2022-01-28T18:09:18.590Z"
   },
   {
    "duration": 16,
    "start_time": "2022-01-28T18:09:34.468Z"
   },
   {
    "duration": 24,
    "start_time": "2022-01-28T18:16:44.764Z"
   },
   {
    "duration": 18,
    "start_time": "2022-01-28T18:19:38.407Z"
   },
   {
    "duration": 16,
    "start_time": "2022-01-28T18:20:53.530Z"
   },
   {
    "duration": 16,
    "start_time": "2022-01-28T18:21:19.361Z"
   },
   {
    "duration": 252,
    "start_time": "2022-01-28T18:27:50.931Z"
   },
   {
    "duration": 12,
    "start_time": "2022-01-28T18:28:05.730Z"
   },
   {
    "duration": 12,
    "start_time": "2022-01-28T18:28:38.432Z"
   },
   {
    "duration": 13,
    "start_time": "2022-01-28T18:30:22.026Z"
   },
   {
    "duration": 13,
    "start_time": "2022-01-28T18:30:39.660Z"
   },
   {
    "duration": 13,
    "start_time": "2022-01-28T18:31:30.785Z"
   },
   {
    "duration": 17,
    "start_time": "2022-01-28T18:31:34.820Z"
   },
   {
    "duration": 23,
    "start_time": "2022-01-28T18:31:46.741Z"
   },
   {
    "duration": 25,
    "start_time": "2022-01-28T18:31:58.294Z"
   },
   {
    "duration": 16,
    "start_time": "2022-01-28T18:32:12.214Z"
   },
   {
    "duration": 26,
    "start_time": "2022-01-28T18:36:01.773Z"
   },
   {
    "duration": 22,
    "start_time": "2022-01-28T18:37:14.523Z"
   },
   {
    "duration": 47,
    "start_time": "2022-01-28T18:52:29.155Z"
   },
   {
    "duration": 2,
    "start_time": "2022-01-28T18:52:43.921Z"
   },
   {
    "duration": 70,
    "start_time": "2022-01-28T18:52:43.925Z"
   },
   {
    "duration": 11,
    "start_time": "2022-01-28T18:52:43.997Z"
   },
   {
    "duration": 39,
    "start_time": "2022-01-28T18:52:44.009Z"
   },
   {
    "duration": 30,
    "start_time": "2022-01-28T18:52:44.050Z"
   },
   {
    "duration": 42,
    "start_time": "2022-01-28T18:52:44.081Z"
   },
   {
    "duration": 23,
    "start_time": "2022-01-28T18:52:44.125Z"
   },
   {
    "duration": 15,
    "start_time": "2022-01-28T18:52:44.150Z"
   },
   {
    "duration": 40,
    "start_time": "2022-01-28T18:52:44.167Z"
   },
   {
    "duration": 18,
    "start_time": "2022-01-28T18:52:44.209Z"
   },
   {
    "duration": 44,
    "start_time": "2022-01-28T18:52:44.228Z"
   },
   {
    "duration": 51,
    "start_time": "2022-01-28T18:52:44.273Z"
   },
   {
    "duration": 38,
    "start_time": "2022-01-28T18:52:44.326Z"
   },
   {
    "duration": 37,
    "start_time": "2022-01-28T18:52:44.365Z"
   },
   {
    "duration": 25,
    "start_time": "2022-01-28T18:52:44.404Z"
   },
   {
    "duration": 3,
    "start_time": "2022-01-28T18:54:08.692Z"
   },
   {
    "duration": 249,
    "start_time": "2022-01-28T19:02:40.029Z"
   },
   {
    "duration": 235,
    "start_time": "2022-01-28T19:05:13.801Z"
   },
   {
    "duration": 281,
    "start_time": "2022-01-28T19:05:26.385Z"
   },
   {
    "duration": 2,
    "start_time": "2022-01-28T19:05:41.398Z"
   },
   {
    "duration": 55,
    "start_time": "2022-01-28T19:05:41.402Z"
   },
   {
    "duration": 16,
    "start_time": "2022-01-28T19:05:41.460Z"
   },
   {
    "duration": 14,
    "start_time": "2022-01-28T19:05:41.478Z"
   },
   {
    "duration": 9,
    "start_time": "2022-01-28T19:05:41.493Z"
   },
   {
    "duration": 11,
    "start_time": "2022-01-28T19:05:41.504Z"
   },
   {
    "duration": 9,
    "start_time": "2022-01-28T19:05:41.518Z"
   },
   {
    "duration": 5,
    "start_time": "2022-01-28T19:05:41.561Z"
   },
   {
    "duration": 11,
    "start_time": "2022-01-28T19:05:41.568Z"
   },
   {
    "duration": 11,
    "start_time": "2022-01-28T19:05:41.581Z"
   },
   {
    "duration": 15,
    "start_time": "2022-01-28T19:05:41.593Z"
   },
   {
    "duration": 18,
    "start_time": "2022-01-28T19:05:41.609Z"
   },
   {
    "duration": 53,
    "start_time": "2022-01-28T19:05:41.629Z"
   },
   {
    "duration": 17,
    "start_time": "2022-01-28T19:05:41.684Z"
   },
   {
    "duration": 16,
    "start_time": "2022-01-28T19:05:41.702Z"
   },
   {
    "duration": 2,
    "start_time": "2022-01-28T19:05:41.720Z"
   },
   {
    "duration": 282,
    "start_time": "2022-01-28T19:05:41.724Z"
   },
   {
    "duration": 281,
    "start_time": "2022-01-28T19:05:48.914Z"
   },
   {
    "duration": 249,
    "start_time": "2022-01-28T19:07:26.970Z"
   },
   {
    "duration": 245,
    "start_time": "2022-01-28T19:07:33.194Z"
   },
   {
    "duration": 5,
    "start_time": "2022-01-28T19:07:52.803Z"
   },
   {
    "duration": 6,
    "start_time": "2022-01-28T19:08:02.524Z"
   },
   {
    "duration": 243,
    "start_time": "2022-01-28T19:09:21.696Z"
   },
   {
    "duration": 252,
    "start_time": "2022-01-28T19:09:33.726Z"
   },
   {
    "duration": 3,
    "start_time": "2022-01-28T19:15:08.954Z"
   },
   {
    "duration": 58,
    "start_time": "2022-01-28T19:15:08.959Z"
   },
   {
    "duration": 12,
    "start_time": "2022-01-28T19:15:09.019Z"
   },
   {
    "duration": 13,
    "start_time": "2022-01-28T19:15:09.033Z"
   },
   {
    "duration": 17,
    "start_time": "2022-01-28T19:15:09.048Z"
   },
   {
    "duration": 15,
    "start_time": "2022-01-28T19:15:09.067Z"
   },
   {
    "duration": 25,
    "start_time": "2022-01-28T19:15:09.085Z"
   },
   {
    "duration": 14,
    "start_time": "2022-01-28T19:15:09.112Z"
   },
   {
    "duration": 43,
    "start_time": "2022-01-28T19:15:09.128Z"
   },
   {
    "duration": 15,
    "start_time": "2022-01-28T19:15:09.173Z"
   },
   {
    "duration": 39,
    "start_time": "2022-01-28T19:15:09.189Z"
   },
   {
    "duration": 39,
    "start_time": "2022-01-28T19:15:09.230Z"
   },
   {
    "duration": 21,
    "start_time": "2022-01-28T19:15:09.271Z"
   },
   {
    "duration": 20,
    "start_time": "2022-01-28T19:15:09.294Z"
   },
   {
    "duration": 15,
    "start_time": "2022-01-28T19:15:09.316Z"
   },
   {
    "duration": 22,
    "start_time": "2022-01-28T19:15:09.332Z"
   },
   {
    "duration": 265,
    "start_time": "2022-01-28T19:15:09.360Z"
   },
   {
    "duration": 366,
    "start_time": "2022-01-29T14:28:31.171Z"
   },
   {
    "duration": 600,
    "start_time": "2022-01-29T14:28:44.853Z"
   },
   {
    "duration": 52,
    "start_time": "2022-01-29T14:28:45.455Z"
   },
   {
    "duration": 19,
    "start_time": "2022-01-29T14:28:45.509Z"
   },
   {
    "duration": 11,
    "start_time": "2022-01-29T14:28:45.529Z"
   },
   {
    "duration": 25,
    "start_time": "2022-01-29T14:28:45.542Z"
   },
   {
    "duration": 11,
    "start_time": "2022-01-29T14:28:45.569Z"
   },
   {
    "duration": 9,
    "start_time": "2022-01-29T14:28:45.582Z"
   },
   {
    "duration": 5,
    "start_time": "2022-01-29T14:28:45.593Z"
   },
   {
    "duration": 13,
    "start_time": "2022-01-29T14:28:45.599Z"
   },
   {
    "duration": 12,
    "start_time": "2022-01-29T14:28:45.614Z"
   },
   {
    "duration": 40,
    "start_time": "2022-01-29T14:28:45.627Z"
   },
   {
    "duration": 59,
    "start_time": "2022-01-29T14:28:45.669Z"
   },
   {
    "duration": 25,
    "start_time": "2022-01-29T14:28:45.730Z"
   },
   {
    "duration": 17,
    "start_time": "2022-01-29T14:28:45.756Z"
   },
   {
    "duration": 15,
    "start_time": "2022-01-29T14:28:45.775Z"
   },
   {
    "duration": 5,
    "start_time": "2022-01-29T14:28:45.792Z"
   },
   {
    "duration": 292,
    "start_time": "2022-01-29T14:28:45.798Z"
   },
   {
    "duration": 110,
    "start_time": "2022-01-29T14:30:06.229Z"
   },
   {
    "duration": 272,
    "start_time": "2022-01-29T14:30:37.484Z"
   },
   {
    "duration": 3,
    "start_time": "2022-01-29T14:45:53.630Z"
   },
   {
    "duration": 4,
    "start_time": "2022-01-29T14:46:23.179Z"
   },
   {
    "duration": 4,
    "start_time": "2022-01-29T14:46:40.573Z"
   },
   {
    "duration": 657,
    "start_time": "2022-01-29T14:48:01.913Z"
   },
   {
    "duration": 10,
    "start_time": "2022-01-29T14:48:25.068Z"
   },
   {
    "duration": 7,
    "start_time": "2022-01-29T14:48:45.895Z"
   },
   {
    "duration": 4,
    "start_time": "2022-01-29T14:48:51.775Z"
   },
   {
    "duration": 8,
    "start_time": "2022-01-29T14:48:57.720Z"
   },
   {
    "duration": 264,
    "start_time": "2022-01-29T14:59:53.353Z"
   },
   {
    "duration": 259,
    "start_time": "2022-01-29T15:03:40.131Z"
   },
   {
    "duration": 253,
    "start_time": "2022-01-29T15:10:21.817Z"
   },
   {
    "duration": 4,
    "start_time": "2022-01-29T15:10:31.103Z"
   },
   {
    "duration": 9,
    "start_time": "2022-01-29T15:10:34.313Z"
   },
   {
    "duration": 4,
    "start_time": "2022-01-29T15:12:26.314Z"
   },
   {
    "duration": 281,
    "start_time": "2022-01-31T12:42:47.285Z"
   },
   {
    "duration": 603,
    "start_time": "2022-01-31T12:42:52.440Z"
   },
   {
    "duration": 54,
    "start_time": "2022-01-31T12:42:53.045Z"
   },
   {
    "duration": 18,
    "start_time": "2022-01-31T12:42:53.102Z"
   },
   {
    "duration": 10,
    "start_time": "2022-01-31T12:42:53.122Z"
   },
   {
    "duration": 28,
    "start_time": "2022-01-31T12:42:53.133Z"
   },
   {
    "duration": 11,
    "start_time": "2022-01-31T12:42:53.163Z"
   },
   {
    "duration": 11,
    "start_time": "2022-01-31T12:42:53.175Z"
   },
   {
    "duration": 5,
    "start_time": "2022-01-31T12:42:53.189Z"
   },
   {
    "duration": 18,
    "start_time": "2022-01-31T12:42:53.196Z"
   },
   {
    "duration": 14,
    "start_time": "2022-01-31T12:42:53.216Z"
   },
   {
    "duration": 42,
    "start_time": "2022-01-31T12:42:53.232Z"
   },
   {
    "duration": 27,
    "start_time": "2022-01-31T12:42:53.276Z"
   },
   {
    "duration": 29,
    "start_time": "2022-01-31T12:42:53.305Z"
   },
   {
    "duration": 39,
    "start_time": "2022-01-31T12:42:53.337Z"
   },
   {
    "duration": 19,
    "start_time": "2022-01-31T12:42:53.378Z"
   },
   {
    "duration": 6,
    "start_time": "2022-01-31T12:42:53.399Z"
   },
   {
    "duration": 12,
    "start_time": "2022-01-31T12:42:53.407Z"
   },
   {
    "duration": 4,
    "start_time": "2022-01-31T12:42:53.421Z"
   },
   {
    "duration": 766,
    "start_time": "2022-01-31T12:42:53.427Z"
   },
   {
    "duration": 87,
    "start_time": "2022-01-31T13:51:21.820Z"
   },
   {
    "duration": 301,
    "start_time": "2022-01-31T13:51:39.974Z"
   },
   {
    "duration": 9,
    "start_time": "2022-01-31T13:51:46.516Z"
   },
   {
    "duration": 9,
    "start_time": "2022-01-31T13:58:41.160Z"
   },
   {
    "duration": 9,
    "start_time": "2022-01-31T13:59:04.726Z"
   },
   {
    "duration": 418,
    "start_time": "2022-01-31T14:22:15.600Z"
   },
   {
    "duration": 14,
    "start_time": "2022-01-31T14:22:28.795Z"
   },
   {
    "duration": 10,
    "start_time": "2022-01-31T14:24:03.637Z"
   },
   {
    "duration": 9,
    "start_time": "2022-01-31T14:24:34.760Z"
   },
   {
    "duration": 4,
    "start_time": "2022-01-31T14:36:13.145Z"
   },
   {
    "duration": 140,
    "start_time": "2022-01-31T14:37:59.791Z"
   },
   {
    "duration": 243,
    "start_time": "2022-01-31T14:38:20.784Z"
   },
   {
    "duration": 16,
    "start_time": "2022-01-31T14:38:39.427Z"
   },
   {
    "duration": 21,
    "start_time": "2022-01-31T14:46:27.534Z"
   },
   {
    "duration": 14,
    "start_time": "2022-01-31T14:46:31.353Z"
   },
   {
    "duration": 1109,
    "start_time": "2022-01-31T14:47:08.650Z"
   },
   {
    "duration": 235,
    "start_time": "2022-01-31T14:50:19.773Z"
   },
   {
    "duration": 204,
    "start_time": "2022-01-31T15:06:48.493Z"
   },
   {
    "duration": 4,
    "start_time": "2022-01-31T15:08:49.797Z"
   },
   {
    "duration": 3642,
    "start_time": "2022-01-31T15:10:27.976Z"
   },
   {
    "duration": 2619,
    "start_time": "2022-01-31T15:10:29.001Z"
   },
   {
    "duration": 238,
    "start_time": "2022-01-31T15:11:33.918Z"
   },
   {
    "duration": 13,
    "start_time": "2022-01-31T15:11:37.653Z"
   },
   {
    "duration": 4,
    "start_time": "2022-01-31T15:12:26.540Z"
   },
   {
    "duration": 231,
    "start_time": "2022-01-31T15:12:30.380Z"
   },
   {
    "duration": 13,
    "start_time": "2022-01-31T15:12:35.090Z"
   },
   {
    "duration": 13,
    "start_time": "2022-01-31T15:18:50.510Z"
   },
   {
    "duration": 7,
    "start_time": "2022-01-31T15:34:48.336Z"
   },
   {
    "duration": 3,
    "start_time": "2022-01-31T15:37:22.528Z"
   },
   {
    "duration": 5,
    "start_time": "2022-01-31T15:37:46.008Z"
   },
   {
    "duration": 311,
    "start_time": "2022-01-31T16:11:02.254Z"
   },
   {
    "duration": 242,
    "start_time": "2022-01-31T16:11:31.891Z"
   },
   {
    "duration": 5,
    "start_time": "2022-01-31T16:14:56.946Z"
   },
   {
    "duration": 11,
    "start_time": "2022-01-31T16:15:02.493Z"
   },
   {
    "duration": 310,
    "start_time": "2022-02-01T12:31:16.125Z"
   },
   {
    "duration": 583,
    "start_time": "2022-02-01T12:31:25.454Z"
   },
   {
    "duration": 51,
    "start_time": "2022-02-01T12:31:26.039Z"
   },
   {
    "duration": 20,
    "start_time": "2022-02-01T12:31:26.092Z"
   },
   {
    "duration": 13,
    "start_time": "2022-02-01T12:31:26.114Z"
   },
   {
    "duration": 10,
    "start_time": "2022-02-01T12:31:26.129Z"
   },
   {
    "duration": 8,
    "start_time": "2022-02-01T12:31:26.140Z"
   },
   {
    "duration": 5,
    "start_time": "2022-02-01T12:31:26.149Z"
   },
   {
    "duration": 10,
    "start_time": "2022-02-01T12:31:26.156Z"
   },
   {
    "duration": 323,
    "start_time": "2022-02-01T12:31:26.168Z"
   },
   {
    "duration": 3935,
    "start_time": "2022-02-01T12:31:22.558Z"
   },
   {
    "duration": 3809,
    "start_time": "2022-02-01T12:31:22.685Z"
   },
   {
    "duration": 3796,
    "start_time": "2022-02-01T12:31:22.699Z"
   },
   {
    "duration": 3792,
    "start_time": "2022-02-01T12:31:22.704Z"
   },
   {
    "duration": 3789,
    "start_time": "2022-02-01T12:31:22.708Z"
   },
   {
    "duration": 3786,
    "start_time": "2022-02-01T12:31:22.712Z"
   },
   {
    "duration": 3781,
    "start_time": "2022-02-01T12:31:22.718Z"
   },
   {
    "duration": 3777,
    "start_time": "2022-02-01T12:31:22.723Z"
   },
   {
    "duration": 3774,
    "start_time": "2022-02-01T12:31:22.727Z"
   },
   {
    "duration": 3770,
    "start_time": "2022-02-01T12:31:22.732Z"
   },
   {
    "duration": 3767,
    "start_time": "2022-02-01T12:31:22.736Z"
   },
   {
    "duration": 3763,
    "start_time": "2022-02-01T12:31:22.741Z"
   },
   {
    "duration": 3760,
    "start_time": "2022-02-01T12:31:22.745Z"
   },
   {
    "duration": 3757,
    "start_time": "2022-02-01T12:31:22.749Z"
   },
   {
    "duration": 3754,
    "start_time": "2022-02-01T12:31:22.753Z"
   },
   {
    "duration": 6,
    "start_time": "2022-02-01T12:32:02.402Z"
   },
   {
    "duration": 6,
    "start_time": "2022-02-01T12:52:04.334Z"
   },
   {
    "duration": 8,
    "start_time": "2022-02-01T12:52:24.575Z"
   },
   {
    "duration": 4,
    "start_time": "2022-02-01T13:22:08.107Z"
   },
   {
    "duration": 14,
    "start_time": "2022-02-01T13:22:33.635Z"
   },
   {
    "duration": 4,
    "start_time": "2022-02-01T13:25:29.456Z"
   },
   {
    "duration": 16,
    "start_time": "2022-02-01T13:25:31.751Z"
   },
   {
    "duration": 16,
    "start_time": "2022-02-01T13:26:28.545Z"
   },
   {
    "duration": 3,
    "start_time": "2022-02-01T13:26:39.939Z"
   },
   {
    "duration": 64,
    "start_time": "2022-02-01T13:26:39.944Z"
   },
   {
    "duration": 15,
    "start_time": "2022-02-01T13:26:40.011Z"
   },
   {
    "duration": 25,
    "start_time": "2022-02-01T13:26:40.029Z"
   },
   {
    "duration": 14,
    "start_time": "2022-02-01T13:26:40.056Z"
   },
   {
    "duration": 27,
    "start_time": "2022-02-01T13:26:40.072Z"
   },
   {
    "duration": 26,
    "start_time": "2022-02-01T13:26:40.102Z"
   },
   {
    "duration": 21,
    "start_time": "2022-02-01T13:26:40.131Z"
   },
   {
    "duration": 25,
    "start_time": "2022-02-01T13:26:40.154Z"
   },
   {
    "duration": 12,
    "start_time": "2022-02-01T13:26:40.180Z"
   },
   {
    "duration": 20,
    "start_time": "2022-02-01T13:26:40.194Z"
   },
   {
    "duration": 9,
    "start_time": "2022-02-01T13:26:40.216Z"
   },
   {
    "duration": 28,
    "start_time": "2022-02-01T13:26:40.227Z"
   },
   {
    "duration": 35,
    "start_time": "2022-02-01T13:26:40.257Z"
   },
   {
    "duration": 30,
    "start_time": "2022-02-01T13:26:40.294Z"
   },
   {
    "duration": 12,
    "start_time": "2022-02-01T13:26:40.326Z"
   },
   {
    "duration": 14,
    "start_time": "2022-02-01T13:26:40.340Z"
   },
   {
    "duration": 30,
    "start_time": "2022-02-01T13:26:40.356Z"
   },
   {
    "duration": 24,
    "start_time": "2022-02-01T13:26:40.389Z"
   },
   {
    "duration": 20,
    "start_time": "2022-02-01T13:26:40.414Z"
   },
   {
    "duration": 15,
    "start_time": "2022-02-01T13:26:40.436Z"
   },
   {
    "duration": 5,
    "start_time": "2022-02-01T13:26:40.453Z"
   },
   {
    "duration": 8,
    "start_time": "2022-02-01T13:26:40.460Z"
   },
   {
    "duration": 2,
    "start_time": "2022-02-01T13:26:40.499Z"
   },
   {
    "duration": 731,
    "start_time": "2022-02-01T13:26:40.503Z"
   },
   {
    "duration": 4,
    "start_time": "2022-02-01T13:26:41.236Z"
   },
   {
    "duration": 275,
    "start_time": "2022-02-01T13:26:41.242Z"
   },
   {
    "duration": 14,
    "start_time": "2022-02-01T13:26:41.519Z"
   },
   {
    "duration": 5,
    "start_time": "2022-02-01T13:30:31.132Z"
   },
   {
    "duration": 7,
    "start_time": "2022-02-01T13:31:04.022Z"
   },
   {
    "duration": 4,
    "start_time": "2022-02-01T13:55:44.657Z"
   },
   {
    "duration": 261,
    "start_time": "2022-02-01T13:55:45.808Z"
   },
   {
    "duration": 14,
    "start_time": "2022-02-01T13:55:50.130Z"
   },
   {
    "duration": 9,
    "start_time": "2022-02-01T14:06:39.639Z"
   },
   {
    "duration": 1223,
    "start_time": "2022-02-01T14:14:12.237Z"
   },
   {
    "duration": 9,
    "start_time": "2022-02-01T14:14:21.981Z"
   },
   {
    "duration": 18,
    "start_time": "2022-02-01T14:14:24.476Z"
   },
   {
    "duration": 9,
    "start_time": "2022-02-01T14:15:17.367Z"
   },
   {
    "duration": 14,
    "start_time": "2022-02-01T14:17:49.049Z"
   },
   {
    "duration": 10,
    "start_time": "2022-02-01T14:18:55.404Z"
   },
   {
    "duration": 7,
    "start_time": "2022-02-01T14:22:35.965Z"
   },
   {
    "duration": 9,
    "start_time": "2022-02-01T14:22:44.341Z"
   },
   {
    "duration": 25,
    "start_time": "2022-02-01T14:25:56.390Z"
   },
   {
    "duration": 56,
    "start_time": "2022-02-01T14:25:56.418Z"
   },
   {
    "duration": 24,
    "start_time": "2022-02-01T14:25:56.477Z"
   },
   {
    "duration": 13,
    "start_time": "2022-02-01T14:25:56.503Z"
   },
   {
    "duration": 10,
    "start_time": "2022-02-01T14:25:56.518Z"
   },
   {
    "duration": 12,
    "start_time": "2022-02-01T14:25:56.530Z"
   },
   {
    "duration": 6,
    "start_time": "2022-02-01T14:25:56.543Z"
   },
   {
    "duration": 11,
    "start_time": "2022-02-01T14:25:56.552Z"
   },
   {
    "duration": 38,
    "start_time": "2022-02-01T14:25:56.566Z"
   },
   {
    "duration": 8,
    "start_time": "2022-02-01T14:25:56.606Z"
   },
   {
    "duration": 11,
    "start_time": "2022-02-01T14:25:56.616Z"
   },
   {
    "duration": 7,
    "start_time": "2022-02-01T14:25:56.628Z"
   },
   {
    "duration": 22,
    "start_time": "2022-02-01T14:25:56.637Z"
   },
   {
    "duration": 6,
    "start_time": "2022-02-01T14:25:56.661Z"
   },
   {
    "duration": 43,
    "start_time": "2022-02-01T14:25:56.669Z"
   },
   {
    "duration": 13,
    "start_time": "2022-02-01T14:25:56.714Z"
   },
   {
    "duration": 21,
    "start_time": "2022-02-01T14:25:56.729Z"
   },
   {
    "duration": 22,
    "start_time": "2022-02-01T14:25:56.752Z"
   },
   {
    "duration": 47,
    "start_time": "2022-02-01T14:25:56.776Z"
   },
   {
    "duration": 19,
    "start_time": "2022-02-01T14:25:56.825Z"
   },
   {
    "duration": 17,
    "start_time": "2022-02-01T14:25:56.846Z"
   },
   {
    "duration": 7,
    "start_time": "2022-02-01T14:25:56.865Z"
   },
   {
    "duration": 5,
    "start_time": "2022-02-01T14:25:56.901Z"
   },
   {
    "duration": 17,
    "start_time": "2022-02-01T14:25:56.908Z"
   },
   {
    "duration": 766,
    "start_time": "2022-02-01T14:25:56.927Z"
   },
   {
    "duration": 12,
    "start_time": "2022-02-01T14:25:57.696Z"
   },
   {
    "duration": 27,
    "start_time": "2022-02-01T14:25:57.710Z"
   },
   {
    "duration": 24,
    "start_time": "2022-02-01T14:25:57.739Z"
   },
   {
    "duration": 11,
    "start_time": "2022-02-01T14:25:57.764Z"
   },
   {
    "duration": 26,
    "start_time": "2022-02-01T14:25:57.777Z"
   },
   {
    "duration": 282,
    "start_time": "2022-02-01T14:25:57.805Z"
   },
   {
    "duration": 15,
    "start_time": "2022-02-01T14:25:58.089Z"
   },
   {
    "duration": 26,
    "start_time": "2022-02-01T14:29:06.720Z"
   },
   {
    "duration": 57,
    "start_time": "2022-02-01T14:29:06.749Z"
   },
   {
    "duration": 15,
    "start_time": "2022-02-01T14:29:06.808Z"
   },
   {
    "duration": 16,
    "start_time": "2022-02-01T14:29:06.825Z"
   },
   {
    "duration": 10,
    "start_time": "2022-02-01T14:29:06.843Z"
   },
   {
    "duration": 7,
    "start_time": "2022-02-01T14:29:06.856Z"
   },
   {
    "duration": 35,
    "start_time": "2022-02-01T14:29:06.866Z"
   },
   {
    "duration": 18,
    "start_time": "2022-02-01T14:29:06.906Z"
   },
   {
    "duration": 6,
    "start_time": "2022-02-01T14:29:06.928Z"
   },
   {
    "duration": 9,
    "start_time": "2022-02-01T14:29:06.936Z"
   },
   {
    "duration": 8,
    "start_time": "2022-02-01T14:29:06.947Z"
   },
   {
    "duration": 6,
    "start_time": "2022-02-01T14:29:06.957Z"
   },
   {
    "duration": 42,
    "start_time": "2022-02-01T14:29:06.964Z"
   },
   {
    "duration": 8,
    "start_time": "2022-02-01T14:29:07.008Z"
   },
   {
    "duration": 18,
    "start_time": "2022-02-01T14:29:07.018Z"
   },
   {
    "duration": 13,
    "start_time": "2022-02-01T14:29:07.038Z"
   },
   {
    "duration": 15,
    "start_time": "2022-02-01T14:29:07.053Z"
   },
   {
    "duration": 45,
    "start_time": "2022-02-01T14:29:07.070Z"
   },
   {
    "duration": 27,
    "start_time": "2022-02-01T14:29:07.117Z"
   },
   {
    "duration": 20,
    "start_time": "2022-02-01T14:29:07.146Z"
   },
   {
    "duration": 18,
    "start_time": "2022-02-01T14:29:07.199Z"
   },
   {
    "duration": 6,
    "start_time": "2022-02-01T14:29:07.219Z"
   },
   {
    "duration": 5,
    "start_time": "2022-02-01T14:29:07.228Z"
   },
   {
    "duration": 5,
    "start_time": "2022-02-01T14:29:07.235Z"
   },
   {
    "duration": 783,
    "start_time": "2022-02-01T14:29:07.242Z"
   },
   {
    "duration": 11,
    "start_time": "2022-02-01T14:29:08.027Z"
   },
   {
    "duration": 14,
    "start_time": "2022-02-01T14:29:08.040Z"
   },
   {
    "duration": 9,
    "start_time": "2022-02-01T14:29:08.056Z"
   },
   {
    "duration": 13,
    "start_time": "2022-02-01T14:29:08.099Z"
   },
   {
    "duration": 4,
    "start_time": "2022-02-01T14:29:08.114Z"
   },
   {
    "duration": 16,
    "start_time": "2022-02-01T14:29:08.120Z"
   },
   {
    "duration": 7666,
    "start_time": "2022-02-01T14:29:08.137Z"
   },
   {
    "duration": 3953,
    "start_time": "2022-02-01T14:29:11.852Z"
   },
   {
    "duration": 36,
    "start_time": "2022-02-01T14:29:38.209Z"
   },
   {
    "duration": 65,
    "start_time": "2022-02-01T14:29:38.247Z"
   },
   {
    "duration": 14,
    "start_time": "2022-02-01T14:29:38.315Z"
   },
   {
    "duration": 15,
    "start_time": "2022-02-01T14:29:38.331Z"
   },
   {
    "duration": 11,
    "start_time": "2022-02-01T14:29:38.348Z"
   },
   {
    "duration": 8,
    "start_time": "2022-02-01T14:29:38.361Z"
   },
   {
    "duration": 6,
    "start_time": "2022-02-01T14:29:38.398Z"
   },
   {
    "duration": 12,
    "start_time": "2022-02-01T14:29:38.407Z"
   },
   {
    "duration": 6,
    "start_time": "2022-02-01T14:29:38.421Z"
   },
   {
    "duration": 9,
    "start_time": "2022-02-01T14:29:38.429Z"
   },
   {
    "duration": 7,
    "start_time": "2022-02-01T14:29:38.440Z"
   },
   {
    "duration": 49,
    "start_time": "2022-02-01T14:29:38.450Z"
   },
   {
    "duration": 15,
    "start_time": "2022-02-01T14:29:38.501Z"
   },
   {
    "duration": 8,
    "start_time": "2022-02-01T14:29:38.518Z"
   },
   {
    "duration": 18,
    "start_time": "2022-02-01T14:29:38.528Z"
   },
   {
    "duration": 14,
    "start_time": "2022-02-01T14:29:38.548Z"
   },
   {
    "duration": 41,
    "start_time": "2022-02-01T14:29:38.564Z"
   },
   {
    "duration": 21,
    "start_time": "2022-02-01T14:29:38.608Z"
   },
   {
    "duration": 32,
    "start_time": "2022-02-01T14:29:38.631Z"
   },
   {
    "duration": 60,
    "start_time": "2022-02-01T14:29:38.666Z"
   },
   {
    "duration": 30,
    "start_time": "2022-02-01T14:29:38.728Z"
   },
   {
    "duration": 9,
    "start_time": "2022-02-01T14:29:38.761Z"
   },
   {
    "duration": 26,
    "start_time": "2022-02-01T14:29:38.774Z"
   },
   {
    "duration": 3,
    "start_time": "2022-02-01T14:29:38.802Z"
   },
   {
    "duration": 771,
    "start_time": "2022-02-01T14:29:38.807Z"
   },
   {
    "duration": 18,
    "start_time": "2022-02-01T14:29:39.581Z"
   },
   {
    "duration": 20,
    "start_time": "2022-02-01T14:29:39.601Z"
   },
   {
    "duration": 9,
    "start_time": "2022-02-01T14:29:39.623Z"
   },
   {
    "duration": 22,
    "start_time": "2022-02-01T14:29:39.635Z"
   },
   {
    "duration": 3,
    "start_time": "2022-02-01T14:29:39.660Z"
   },
   {
    "duration": 6,
    "start_time": "2022-02-01T14:29:39.666Z"
   },
   {
    "duration": 267,
    "start_time": "2022-02-01T14:29:39.699Z"
   },
   {
    "duration": 14,
    "start_time": "2022-02-01T14:29:39.969Z"
   },
   {
    "duration": 8,
    "start_time": "2022-02-01T14:33:38.713Z"
   },
   {
    "duration": 4,
    "start_time": "2022-02-01T14:33:40.851Z"
   },
   {
    "duration": 11,
    "start_time": "2022-02-01T14:33:48.594Z"
   },
   {
    "duration": 24,
    "start_time": "2022-02-01T14:34:14.173Z"
   },
   {
    "duration": 59,
    "start_time": "2022-02-01T14:34:14.199Z"
   },
   {
    "duration": 13,
    "start_time": "2022-02-01T14:34:14.261Z"
   },
   {
    "duration": 35,
    "start_time": "2022-02-01T14:34:14.276Z"
   },
   {
    "duration": 26,
    "start_time": "2022-02-01T14:34:14.313Z"
   },
   {
    "duration": 18,
    "start_time": "2022-02-01T14:34:14.342Z"
   },
   {
    "duration": 25,
    "start_time": "2022-02-01T14:34:14.362Z"
   },
   {
    "duration": 31,
    "start_time": "2022-02-01T14:34:14.389Z"
   },
   {
    "duration": 13,
    "start_time": "2022-02-01T14:34:14.423Z"
   },
   {
    "duration": 23,
    "start_time": "2022-02-01T14:34:14.438Z"
   },
   {
    "duration": 26,
    "start_time": "2022-02-01T14:34:14.463Z"
   },
   {
    "duration": 16,
    "start_time": "2022-02-01T14:34:14.491Z"
   },
   {
    "duration": 27,
    "start_time": "2022-02-01T14:34:14.509Z"
   },
   {
    "duration": 15,
    "start_time": "2022-02-01T14:34:14.538Z"
   },
   {
    "duration": 35,
    "start_time": "2022-02-01T14:34:14.555Z"
   },
   {
    "duration": 26,
    "start_time": "2022-02-01T14:34:14.591Z"
   },
   {
    "duration": 35,
    "start_time": "2022-02-01T14:34:14.619Z"
   },
   {
    "duration": 39,
    "start_time": "2022-02-01T14:34:14.656Z"
   },
   {
    "duration": 29,
    "start_time": "2022-02-01T14:34:14.697Z"
   },
   {
    "duration": 19,
    "start_time": "2022-02-01T14:34:14.728Z"
   },
   {
    "duration": 23,
    "start_time": "2022-02-01T14:34:14.749Z"
   },
   {
    "duration": 10,
    "start_time": "2022-02-01T14:34:14.774Z"
   },
   {
    "duration": 16,
    "start_time": "2022-02-01T14:34:14.787Z"
   },
   {
    "duration": 25,
    "start_time": "2022-02-01T14:34:14.805Z"
   },
   {
    "duration": 742,
    "start_time": "2022-02-01T14:34:14.832Z"
   },
   {
    "duration": 11,
    "start_time": "2022-02-01T14:34:15.577Z"
   },
   {
    "duration": 57,
    "start_time": "2022-02-01T14:34:15.590Z"
   },
   {
    "duration": 16,
    "start_time": "2022-02-01T14:34:15.649Z"
   },
   {
    "duration": 28,
    "start_time": "2022-02-01T14:34:15.667Z"
   },
   {
    "duration": 9,
    "start_time": "2022-02-01T14:34:15.697Z"
   },
   {
    "duration": 16,
    "start_time": "2022-02-01T14:34:15.708Z"
   },
   {
    "duration": 255,
    "start_time": "2022-02-01T14:34:15.726Z"
   },
   {
    "duration": 16,
    "start_time": "2022-02-01T14:34:15.983Z"
   },
   {
    "duration": 4,
    "start_time": "2022-02-01T14:45:18.171Z"
   },
   {
    "duration": 9,
    "start_time": "2022-02-01T14:48:00.583Z"
   },
   {
    "duration": 13,
    "start_time": "2022-02-01T14:48:21.871Z"
   },
   {
    "duration": 26,
    "start_time": "2022-02-01T14:48:36.060Z"
   },
   {
    "duration": 53,
    "start_time": "2022-02-01T14:48:36.088Z"
   },
   {
    "duration": 14,
    "start_time": "2022-02-01T14:48:36.143Z"
   },
   {
    "duration": 15,
    "start_time": "2022-02-01T14:48:36.158Z"
   },
   {
    "duration": 28,
    "start_time": "2022-02-01T14:48:36.175Z"
   },
   {
    "duration": 7,
    "start_time": "2022-02-01T14:48:36.204Z"
   },
   {
    "duration": 13,
    "start_time": "2022-02-01T14:48:36.212Z"
   },
   {
    "duration": 9,
    "start_time": "2022-02-01T14:48:36.228Z"
   },
   {
    "duration": 6,
    "start_time": "2022-02-01T14:48:36.239Z"
   },
   {
    "duration": 13,
    "start_time": "2022-02-01T14:48:36.246Z"
   },
   {
    "duration": 15,
    "start_time": "2022-02-01T14:48:36.261Z"
   },
   {
    "duration": 21,
    "start_time": "2022-02-01T14:48:36.278Z"
   },
   {
    "duration": 13,
    "start_time": "2022-02-01T14:48:36.301Z"
   },
   {
    "duration": 7,
    "start_time": "2022-02-01T14:48:36.315Z"
   },
   {
    "duration": 12,
    "start_time": "2022-02-01T14:48:36.324Z"
   },
   {
    "duration": 12,
    "start_time": "2022-02-01T14:48:36.337Z"
   },
   {
    "duration": 14,
    "start_time": "2022-02-01T14:48:36.350Z"
   },
   {
    "duration": 46,
    "start_time": "2022-02-01T14:48:36.366Z"
   },
   {
    "duration": 24,
    "start_time": "2022-02-01T14:48:36.414Z"
   },
   {
    "duration": 19,
    "start_time": "2022-02-01T14:48:36.440Z"
   },
   {
    "duration": 41,
    "start_time": "2022-02-01T14:48:36.461Z"
   },
   {
    "duration": 6,
    "start_time": "2022-02-01T14:48:36.504Z"
   },
   {
    "duration": 4,
    "start_time": "2022-02-01T14:48:36.514Z"
   },
   {
    "duration": 7,
    "start_time": "2022-02-01T14:48:36.520Z"
   },
   {
    "duration": 739,
    "start_time": "2022-02-01T14:48:36.529Z"
   },
   {
    "duration": 12,
    "start_time": "2022-02-01T14:48:37.270Z"
   },
   {
    "duration": 24,
    "start_time": "2022-02-01T14:48:37.284Z"
   },
   {
    "duration": 8,
    "start_time": "2022-02-01T14:48:37.310Z"
   },
   {
    "duration": 14,
    "start_time": "2022-02-01T14:48:37.320Z"
   },
   {
    "duration": 5,
    "start_time": "2022-02-01T14:48:37.336Z"
   },
   {
    "duration": 6,
    "start_time": "2022-02-01T14:48:37.343Z"
   },
   {
    "duration": 13,
    "start_time": "2022-02-01T14:48:37.350Z"
   },
   {
    "duration": 42,
    "start_time": "2022-02-01T14:48:37.364Z"
   },
   {
    "duration": 6,
    "start_time": "2022-02-01T14:48:37.408Z"
   },
   {
    "duration": 267,
    "start_time": "2022-02-01T14:48:37.415Z"
   },
   {
    "duration": 16,
    "start_time": "2022-02-01T14:48:37.684Z"
   },
   {
    "duration": 33,
    "start_time": "2022-02-01T15:12:30.073Z"
   },
   {
    "duration": 25,
    "start_time": "2022-02-01T15:12:48.057Z"
   },
   {
    "duration": 23,
    "start_time": "2022-02-01T15:17:56.526Z"
   },
   {
    "duration": 25,
    "start_time": "2022-02-01T15:19:30.570Z"
   },
   {
    "duration": 22,
    "start_time": "2022-02-01T15:25:07.078Z"
   },
   {
    "duration": 23,
    "start_time": "2022-02-01T15:27:22.603Z"
   },
   {
    "duration": 273,
    "start_time": "2022-02-01T15:30:14.260Z"
   },
   {
    "duration": 26,
    "start_time": "2022-02-01T15:30:43.943Z"
   },
   {
    "duration": 16,
    "start_time": "2022-02-01T15:31:08.661Z"
   },
   {
    "duration": 19,
    "start_time": "2022-02-01T15:32:19.411Z"
   },
   {
    "duration": 23,
    "start_time": "2022-02-01T15:32:58.167Z"
   },
   {
    "duration": 20,
    "start_time": "2022-02-01T15:33:16.896Z"
   },
   {
    "duration": 14,
    "start_time": "2022-02-01T15:40:04.525Z"
   },
   {
    "duration": 12,
    "start_time": "2022-02-01T15:40:37.304Z"
   },
   {
    "duration": 14,
    "start_time": "2022-02-01T15:40:54.240Z"
   },
   {
    "duration": 14,
    "start_time": "2022-02-01T15:41:40.577Z"
   },
   {
    "duration": 16,
    "start_time": "2022-02-01T15:42:05.444Z"
   },
   {
    "duration": 14,
    "start_time": "2022-02-01T15:47:06.896Z"
   },
   {
    "duration": 23,
    "start_time": "2022-02-01T16:12:32.712Z"
   },
   {
    "duration": 62,
    "start_time": "2022-02-01T16:12:32.737Z"
   },
   {
    "duration": 13,
    "start_time": "2022-02-01T16:12:32.801Z"
   },
   {
    "duration": 17,
    "start_time": "2022-02-01T16:12:32.816Z"
   },
   {
    "duration": 11,
    "start_time": "2022-02-01T16:12:32.834Z"
   },
   {
    "duration": 6,
    "start_time": "2022-02-01T16:12:32.847Z"
   },
   {
    "duration": 15,
    "start_time": "2022-02-01T16:12:32.855Z"
   },
   {
    "duration": 33,
    "start_time": "2022-02-01T16:12:32.873Z"
   },
   {
    "duration": 8,
    "start_time": "2022-02-01T16:12:32.908Z"
   },
   {
    "duration": 8,
    "start_time": "2022-02-01T16:12:32.918Z"
   },
   {
    "duration": 16,
    "start_time": "2022-02-01T16:12:32.927Z"
   },
   {
    "duration": 7,
    "start_time": "2022-02-01T16:12:32.945Z"
   },
   {
    "duration": 21,
    "start_time": "2022-02-01T16:12:32.954Z"
   },
   {
    "duration": 24,
    "start_time": "2022-02-01T16:12:32.977Z"
   },
   {
    "duration": 35,
    "start_time": "2022-02-01T16:12:33.003Z"
   },
   {
    "duration": 13,
    "start_time": "2022-02-01T16:12:33.040Z"
   },
   {
    "duration": 14,
    "start_time": "2022-02-01T16:12:33.055Z"
   },
   {
    "duration": 28,
    "start_time": "2022-02-01T16:12:33.072Z"
   },
   {
    "duration": 25,
    "start_time": "2022-02-01T16:12:33.102Z"
   },
   {
    "duration": 20,
    "start_time": "2022-02-01T16:12:33.129Z"
   },
   {
    "duration": 49,
    "start_time": "2022-02-01T16:12:33.150Z"
   },
   {
    "duration": 5,
    "start_time": "2022-02-01T16:12:33.201Z"
   },
   {
    "duration": 4,
    "start_time": "2022-02-01T16:12:33.210Z"
   },
   {
    "duration": 5,
    "start_time": "2022-02-01T16:12:33.216Z"
   },
   {
    "duration": 730,
    "start_time": "2022-02-01T16:12:33.223Z"
   },
   {
    "duration": 11,
    "start_time": "2022-02-01T16:12:33.955Z"
   },
   {
    "duration": 15,
    "start_time": "2022-02-01T16:12:33.967Z"
   },
   {
    "duration": 9,
    "start_time": "2022-02-01T16:12:33.984Z"
   },
   {
    "duration": 15,
    "start_time": "2022-02-01T16:12:33.994Z"
   },
   {
    "duration": 6,
    "start_time": "2022-02-01T16:12:34.011Z"
   },
   {
    "duration": 6,
    "start_time": "2022-02-01T16:12:34.019Z"
   },
   {
    "duration": 15,
    "start_time": "2022-02-01T16:12:34.027Z"
   },
   {
    "duration": 16,
    "start_time": "2022-02-01T16:12:34.044Z"
   },
   {
    "duration": 10,
    "start_time": "2022-02-01T16:12:34.062Z"
   },
   {
    "duration": 363,
    "start_time": "2022-02-01T16:12:34.074Z"
   },
   {
    "duration": 12,
    "start_time": "2022-02-01T16:12:34.438Z"
   },
   {
    "duration": 18,
    "start_time": "2022-02-01T16:12:34.452Z"
   },
   {
    "duration": 31,
    "start_time": "2022-02-01T16:12:34.471Z"
   },
   {
    "duration": 14,
    "start_time": "2022-02-01T16:12:34.503Z"
   },
   {
    "duration": 14,
    "start_time": "2022-02-01T16:12:34.519Z"
   },
   {
    "duration": 25,
    "start_time": "2022-02-01T16:29:44.035Z"
   },
   {
    "duration": 53,
    "start_time": "2022-02-01T16:29:44.062Z"
   },
   {
    "duration": 13,
    "start_time": "2022-02-01T16:29:44.117Z"
   },
   {
    "duration": 13,
    "start_time": "2022-02-01T16:29:44.132Z"
   },
   {
    "duration": 9,
    "start_time": "2022-02-01T16:29:44.147Z"
   },
   {
    "duration": 6,
    "start_time": "2022-02-01T16:29:44.158Z"
   },
   {
    "duration": 32,
    "start_time": "2022-02-01T16:29:44.166Z"
   },
   {
    "duration": 10,
    "start_time": "2022-02-01T16:29:44.202Z"
   },
   {
    "duration": 8,
    "start_time": "2022-02-01T16:29:44.214Z"
   },
   {
    "duration": 6,
    "start_time": "2022-02-01T16:29:44.224Z"
   },
   {
    "duration": 8,
    "start_time": "2022-02-01T16:29:44.231Z"
   },
   {
    "duration": 5,
    "start_time": "2022-02-01T16:29:44.241Z"
   },
   {
    "duration": 61,
    "start_time": "2022-02-01T16:29:44.248Z"
   },
   {
    "duration": 4,
    "start_time": "2022-02-01T16:29:44.311Z"
   },
   {
    "duration": 24,
    "start_time": "2022-02-01T16:29:44.316Z"
   },
   {
    "duration": 14,
    "start_time": "2022-02-01T16:29:44.341Z"
   },
   {
    "duration": 16,
    "start_time": "2022-02-01T16:29:44.357Z"
   },
   {
    "duration": 37,
    "start_time": "2022-02-01T16:29:44.375Z"
   },
   {
    "duration": 27,
    "start_time": "2022-02-01T16:29:44.414Z"
   },
   {
    "duration": 21,
    "start_time": "2022-02-01T16:29:44.443Z"
   },
   {
    "duration": 49,
    "start_time": "2022-02-01T16:29:44.466Z"
   },
   {
    "duration": 7,
    "start_time": "2022-02-01T16:29:44.518Z"
   },
   {
    "duration": 4,
    "start_time": "2022-02-01T16:29:44.530Z"
   },
   {
    "duration": 5,
    "start_time": "2022-02-01T16:29:44.536Z"
   },
   {
    "duration": 784,
    "start_time": "2022-02-01T16:29:44.543Z"
   },
   {
    "duration": 12,
    "start_time": "2022-02-01T16:29:45.330Z"
   },
   {
    "duration": 16,
    "start_time": "2022-02-01T16:29:45.344Z"
   },
   {
    "duration": 8,
    "start_time": "2022-02-01T16:29:45.362Z"
   },
   {
    "duration": 36,
    "start_time": "2022-02-01T16:29:45.372Z"
   },
   {
    "duration": 5,
    "start_time": "2022-02-01T16:29:45.410Z"
   },
   {
    "duration": 6,
    "start_time": "2022-02-01T16:29:45.417Z"
   },
   {
    "duration": 17,
    "start_time": "2022-02-01T16:29:45.424Z"
   },
   {
    "duration": 16,
    "start_time": "2022-02-01T16:29:45.445Z"
   },
   {
    "duration": 8,
    "start_time": "2022-02-01T16:29:45.464Z"
   },
   {
    "duration": 296,
    "start_time": "2022-02-01T16:29:45.474Z"
   },
   {
    "duration": 13,
    "start_time": "2022-02-01T16:29:45.772Z"
   },
   {
    "duration": 27,
    "start_time": "2022-02-01T16:29:45.787Z"
   },
   {
    "duration": 13,
    "start_time": "2022-02-01T16:29:45.815Z"
   },
   {
    "duration": 14,
    "start_time": "2022-02-01T16:29:45.831Z"
   },
   {
    "duration": 15,
    "start_time": "2022-02-01T16:29:45.846Z"
   },
   {
    "duration": 571,
    "start_time": "2022-02-11T06:47:29.100Z"
   },
   {
    "duration": 45,
    "start_time": "2022-02-11T06:47:29.673Z"
   },
   {
    "duration": 16,
    "start_time": "2022-02-11T06:47:29.720Z"
   },
   {
    "duration": 9,
    "start_time": "2022-02-11T06:47:29.738Z"
   },
   {
    "duration": 8,
    "start_time": "2022-02-11T06:47:29.748Z"
   },
   {
    "duration": 4,
    "start_time": "2022-02-11T06:47:29.757Z"
   },
   {
    "duration": 6,
    "start_time": "2022-02-11T06:47:29.762Z"
   },
   {
    "duration": 9,
    "start_time": "2022-02-11T06:47:29.770Z"
   },
   {
    "duration": 5,
    "start_time": "2022-02-11T06:47:29.781Z"
   },
   {
    "duration": 4,
    "start_time": "2022-02-11T06:47:29.787Z"
   },
   {
    "duration": 36,
    "start_time": "2022-02-11T06:47:29.792Z"
   },
   {
    "duration": 4,
    "start_time": "2022-02-11T06:47:29.829Z"
   },
   {
    "duration": 14,
    "start_time": "2022-02-11T06:47:29.834Z"
   },
   {
    "duration": 6,
    "start_time": "2022-02-11T06:47:29.849Z"
   },
   {
    "duration": 11,
    "start_time": "2022-02-11T06:47:29.856Z"
   },
   {
    "duration": 9,
    "start_time": "2022-02-11T06:47:29.868Z"
   },
   {
    "duration": 12,
    "start_time": "2022-02-11T06:47:29.879Z"
   },
   {
    "duration": 42,
    "start_time": "2022-02-11T06:47:29.892Z"
   },
   {
    "duration": 19,
    "start_time": "2022-02-11T06:47:29.935Z"
   },
   {
    "duration": 16,
    "start_time": "2022-02-11T06:47:29.956Z"
   },
   {
    "duration": 14,
    "start_time": "2022-02-11T06:47:29.973Z"
   },
   {
    "duration": 5,
    "start_time": "2022-02-11T06:47:29.988Z"
   },
   {
    "duration": 4,
    "start_time": "2022-02-11T06:47:29.994Z"
   },
   {
    "duration": 2,
    "start_time": "2022-02-11T06:47:30.027Z"
   },
   {
    "duration": 605,
    "start_time": "2022-02-11T06:47:30.030Z"
   },
   {
    "duration": 9,
    "start_time": "2022-02-11T06:47:30.636Z"
   },
   {
    "duration": 13,
    "start_time": "2022-02-11T06:47:30.647Z"
   },
   {
    "duration": 9,
    "start_time": "2022-02-11T06:47:30.661Z"
   },
   {
    "duration": 17,
    "start_time": "2022-02-11T06:47:30.671Z"
   },
   {
    "duration": 6,
    "start_time": "2022-02-11T06:47:30.689Z"
   },
   {
    "duration": 9,
    "start_time": "2022-02-11T06:47:30.696Z"
   },
   {
    "duration": 14,
    "start_time": "2022-02-11T06:47:30.706Z"
   },
   {
    "duration": 9,
    "start_time": "2022-02-11T06:47:30.722Z"
   },
   {
    "duration": 5,
    "start_time": "2022-02-11T06:47:30.733Z"
   },
   {
    "duration": 222,
    "start_time": "2022-02-11T06:47:30.739Z"
   },
   {
    "duration": 11,
    "start_time": "2022-02-11T06:47:30.963Z"
   },
   {
    "duration": 15,
    "start_time": "2022-02-11T06:47:30.975Z"
   },
   {
    "duration": 10,
    "start_time": "2022-02-11T06:47:30.991Z"
   },
   {
    "duration": 28,
    "start_time": "2022-02-11T06:47:31.003Z"
   },
   {
    "duration": 12,
    "start_time": "2022-02-11T06:47:31.032Z"
   },
   {
    "duration": 384,
    "start_time": "2022-02-13T15:50:35.746Z"
   },
   {
    "duration": 889,
    "start_time": "2022-02-13T15:50:43.275Z"
   },
   {
    "duration": 68,
    "start_time": "2022-02-13T15:50:44.167Z"
   },
   {
    "duration": 88,
    "start_time": "2022-02-13T15:50:44.239Z"
   },
   {
    "duration": 177,
    "start_time": "2022-02-13T15:50:44.330Z"
   },
   {
    "duration": 195,
    "start_time": "2022-02-13T15:50:44.510Z"
   },
   {
    "duration": 157,
    "start_time": "2022-02-13T15:50:44.708Z"
   },
   {
    "duration": 171,
    "start_time": "2022-02-13T15:50:44.868Z"
   },
   {
    "duration": 235,
    "start_time": "2022-02-13T15:50:45.042Z"
   },
   {
    "duration": 169,
    "start_time": "2022-02-13T15:50:45.281Z"
   },
   {
    "duration": 148,
    "start_time": "2022-02-13T15:50:45.455Z"
   },
   {
    "duration": 185,
    "start_time": "2022-02-13T15:50:45.606Z"
   },
   {
    "duration": 155,
    "start_time": "2022-02-13T15:50:45.796Z"
   },
   {
    "duration": 167,
    "start_time": "2022-02-13T15:50:45.954Z"
   },
   {
    "duration": 195,
    "start_time": "2022-02-13T15:50:46.124Z"
   },
   {
    "duration": 281,
    "start_time": "2022-02-13T15:50:46.322Z"
   },
   {
    "duration": 191,
    "start_time": "2022-02-13T15:50:46.606Z"
   },
   {
    "duration": 186,
    "start_time": "2022-02-13T15:50:46.800Z"
   },
   {
    "duration": 181,
    "start_time": "2022-02-13T15:50:46.989Z"
   },
   {
    "duration": 197,
    "start_time": "2022-02-13T15:50:47.172Z"
   },
   {
    "duration": 180,
    "start_time": "2022-02-13T15:50:47.371Z"
   },
   {
    "duration": 186,
    "start_time": "2022-02-13T15:50:47.553Z"
   },
   {
    "duration": 185,
    "start_time": "2022-02-13T15:50:47.742Z"
   },
   {
    "duration": 109,
    "start_time": "2022-02-13T15:50:47.929Z"
   },
   {
    "duration": 147,
    "start_time": "2022-02-13T15:50:48.040Z"
   },
   {
    "duration": 199,
    "start_time": "2022-02-13T15:50:48.191Z"
   },
   {
    "duration": 1102,
    "start_time": "2022-02-13T15:50:48.393Z"
   },
   {
    "duration": 30,
    "start_time": "2022-02-13T15:50:49.500Z"
   },
   {
    "duration": 170,
    "start_time": "2022-02-13T15:50:49.534Z"
   },
   {
    "duration": 190,
    "start_time": "2022-02-13T15:50:49.706Z"
   },
   {
    "duration": 354,
    "start_time": "2022-02-13T15:50:49.898Z"
   },
   {
    "duration": 258,
    "start_time": "2022-02-13T15:50:50.254Z"
   },
   {
    "duration": 253,
    "start_time": "2022-02-13T15:50:50.515Z"
   },
   {
    "duration": 260,
    "start_time": "2022-02-13T15:50:50.770Z"
   },
   {
    "duration": 284,
    "start_time": "2022-02-13T15:50:51.033Z"
   },
   {
    "duration": 251,
    "start_time": "2022-02-13T15:50:51.320Z"
   },
   {
    "duration": 901,
    "start_time": "2022-02-13T15:50:51.574Z"
   },
   {
    "duration": 23,
    "start_time": "2022-02-13T15:50:52.483Z"
   },
   {
    "duration": 315,
    "start_time": "2022-02-13T15:50:52.509Z"
   },
   {
    "duration": 298,
    "start_time": "2022-02-13T15:50:52.827Z"
   },
   {
    "duration": 227,
    "start_time": "2022-02-13T15:50:53.128Z"
   },
   {
    "duration": 183,
    "start_time": "2022-02-13T15:50:53.358Z"
   },
   {
    "duration": 46,
    "start_time": "2022-02-13T15:57:42.692Z"
   },
   {
    "duration": 48,
    "start_time": "2022-02-13T16:00:53.769Z"
   },
   {
    "duration": 50,
    "start_time": "2022-02-13T16:06:24.713Z"
   },
   {
    "duration": 313,
    "start_time": "2022-02-13T16:37:47.707Z"
   },
   {
    "duration": 33,
    "start_time": "2022-02-13T16:37:59.901Z"
   },
   {
    "duration": 24,
    "start_time": "2022-02-13T16:39:03.109Z"
   },
   {
    "duration": 28,
    "start_time": "2022-02-13T16:39:29.014Z"
   },
   {
    "duration": 297,
    "start_time": "2022-02-13T16:40:01.172Z"
   },
   {
    "duration": 26,
    "start_time": "2022-02-13T16:41:16.784Z"
   },
   {
    "duration": 22,
    "start_time": "2022-02-13T16:44:05.611Z"
   },
   {
    "duration": 5,
    "start_time": "2022-02-13T16:57:40.973Z"
   },
   {
    "duration": 1274,
    "start_time": "2022-02-13T17:01:07.922Z"
   },
   {
    "duration": 428,
    "start_time": "2022-02-13T17:08:54.994Z"
   },
   {
    "duration": 16,
    "start_time": "2022-02-13T17:09:08.928Z"
   },
   {
    "duration": 18,
    "start_time": "2022-02-13T17:09:17.594Z"
   },
   {
    "duration": 7,
    "start_time": "2022-02-13T17:09:28.235Z"
   },
   {
    "duration": 331,
    "start_time": "2022-02-13T17:09:50.467Z"
   },
   {
    "duration": 54,
    "start_time": "2022-02-13T17:11:02.879Z"
   },
   {
    "duration": 1061,
    "start_time": "2022-02-13T17:13:01.249Z"
   },
   {
    "duration": 247,
    "start_time": "2022-02-13T17:13:02.314Z"
   },
   {
    "duration": 81,
    "start_time": "2022-02-13T17:13:02.564Z"
   },
   {
    "duration": 270,
    "start_time": "2022-02-13T17:13:02.649Z"
   },
   {
    "duration": 296,
    "start_time": "2022-02-13T17:13:02.923Z"
   },
   {
    "duration": 285,
    "start_time": "2022-02-13T17:13:03.222Z"
   },
   {
    "duration": 138,
    "start_time": "2022-02-13T17:13:03.510Z"
   },
   {
    "duration": 278,
    "start_time": "2022-02-13T17:13:03.653Z"
   },
   {
    "duration": 184,
    "start_time": "2022-02-13T17:13:03.935Z"
   },
   {
    "duration": 173,
    "start_time": "2022-02-13T17:13:04.122Z"
   },
   {
    "duration": 189,
    "start_time": "2022-02-13T17:13:04.298Z"
   },
   {
    "duration": 267,
    "start_time": "2022-02-13T17:13:04.489Z"
   },
   {
    "duration": 4282,
    "start_time": "2022-02-13T17:13:00.479Z"
   },
   {
    "duration": 4279,
    "start_time": "2022-02-13T17:13:00.484Z"
   },
   {
    "duration": 4270,
    "start_time": "2022-02-13T17:13:00.495Z"
   },
   {
    "duration": 4268,
    "start_time": "2022-02-13T17:13:00.498Z"
   },
   {
    "duration": 4262,
    "start_time": "2022-02-13T17:13:00.507Z"
   },
   {
    "duration": 4258,
    "start_time": "2022-02-13T17:13:00.512Z"
   },
   {
    "duration": 4257,
    "start_time": "2022-02-13T17:13:00.515Z"
   },
   {
    "duration": 4249,
    "start_time": "2022-02-13T17:13:00.525Z"
   },
   {
    "duration": 4248,
    "start_time": "2022-02-13T17:13:00.528Z"
   },
   {
    "duration": 4248,
    "start_time": "2022-02-13T17:13:00.530Z"
   },
   {
    "duration": 4246,
    "start_time": "2022-02-13T17:13:00.534Z"
   },
   {
    "duration": 4237,
    "start_time": "2022-02-13T17:13:00.544Z"
   },
   {
    "duration": 4237,
    "start_time": "2022-02-13T17:13:00.546Z"
   },
   {
    "duration": 4235,
    "start_time": "2022-02-13T17:13:00.550Z"
   },
   {
    "duration": 4225,
    "start_time": "2022-02-13T17:13:00.562Z"
   },
   {
    "duration": 4222,
    "start_time": "2022-02-13T17:13:00.567Z"
   },
   {
    "duration": 4215,
    "start_time": "2022-02-13T17:13:00.576Z"
   },
   {
    "duration": 4214,
    "start_time": "2022-02-13T17:13:00.579Z"
   },
   {
    "duration": 4212,
    "start_time": "2022-02-13T17:13:00.582Z"
   },
   {
    "duration": 4204,
    "start_time": "2022-02-13T17:13:00.592Z"
   },
   {
    "duration": 4203,
    "start_time": "2022-02-13T17:13:00.595Z"
   },
   {
    "duration": 4202,
    "start_time": "2022-02-13T17:13:00.598Z"
   },
   {
    "duration": 4200,
    "start_time": "2022-02-13T17:13:00.601Z"
   },
   {
    "duration": 4213,
    "start_time": "2022-02-13T17:13:00.610Z"
   },
   {
    "duration": 4212,
    "start_time": "2022-02-13T17:13:00.613Z"
   },
   {
    "duration": 4209,
    "start_time": "2022-02-13T17:13:00.617Z"
   },
   {
    "duration": 4201,
    "start_time": "2022-02-13T17:13:00.627Z"
   },
   {
    "duration": 4200,
    "start_time": "2022-02-13T17:13:00.630Z"
   },
   {
    "duration": 4198,
    "start_time": "2022-02-13T17:13:00.634Z"
   },
   {
    "duration": 4189,
    "start_time": "2022-02-13T17:13:00.645Z"
   },
   {
    "duration": 4189,
    "start_time": "2022-02-13T17:13:00.647Z"
   },
   {
    "duration": 4178,
    "start_time": "2022-02-13T17:13:00.659Z"
   },
   {
    "duration": 4176,
    "start_time": "2022-02-13T17:13:00.663Z"
   },
   {
    "duration": 4174,
    "start_time": "2022-02-13T17:13:00.667Z"
   },
   {
    "duration": 49,
    "start_time": "2022-02-13T17:16:31.673Z"
   },
   {
    "duration": 498,
    "start_time": "2022-02-13T17:16:50.909Z"
   },
   {
    "duration": 40,
    "start_time": "2022-02-13T17:16:58.442Z"
   },
   {
    "duration": 25,
    "start_time": "2022-02-13T17:17:25.251Z"
   },
   {
    "duration": 46,
    "start_time": "2022-02-13T17:17:38.168Z"
   },
   {
    "duration": 40,
    "start_time": "2022-02-13T17:17:58.924Z"
   },
   {
    "duration": 33,
    "start_time": "2022-02-13T17:18:43.480Z"
   },
   {
    "duration": 36,
    "start_time": "2022-02-13T17:19:01.120Z"
   },
   {
    "duration": 40,
    "start_time": "2022-02-13T17:19:14.141Z"
   },
   {
    "duration": 52,
    "start_time": "2022-02-13T17:20:28.395Z"
   },
   {
    "duration": 75,
    "start_time": "2022-02-13T17:20:46.165Z"
   },
   {
    "duration": 364,
    "start_time": "2022-02-13T17:21:29.077Z"
   },
   {
    "duration": 53,
    "start_time": "2022-02-13T17:21:39.233Z"
   },
   {
    "duration": 349,
    "start_time": "2022-02-13T17:22:28.495Z"
   },
   {
    "duration": 28,
    "start_time": "2022-02-13T17:22:42.634Z"
   },
   {
    "duration": 13,
    "start_time": "2022-02-13T17:23:07.174Z"
   },
   {
    "duration": 26,
    "start_time": "2022-02-13T17:24:06.203Z"
   },
   {
    "duration": 434,
    "start_time": "2022-02-13T17:28:32.913Z"
   },
   {
    "duration": 286,
    "start_time": "2022-02-13T17:31:20.003Z"
   },
   {
    "duration": 153,
    "start_time": "2022-02-13T17:33:03.023Z"
   },
   {
    "duration": 116,
    "start_time": "2022-02-13T17:33:54.652Z"
   },
   {
    "duration": 314,
    "start_time": "2022-02-13T17:34:40.461Z"
   },
   {
    "duration": 4,
    "start_time": "2022-02-13T17:44:42.751Z"
   },
   {
    "duration": 4,
    "start_time": "2022-02-13T17:45:12.370Z"
   },
   {
    "duration": 6,
    "start_time": "2022-02-13T17:46:08.297Z"
   },
   {
    "duration": 6,
    "start_time": "2022-02-13T17:46:31.551Z"
   },
   {
    "duration": 5,
    "start_time": "2022-02-13T17:47:40.148Z"
   },
   {
    "duration": 17,
    "start_time": "2022-02-13T17:52:13.648Z"
   },
   {
    "duration": 33,
    "start_time": "2022-02-13T17:52:32.355Z"
   },
   {
    "duration": 4,
    "start_time": "2022-02-13T17:53:30.823Z"
   },
   {
    "duration": 35,
    "start_time": "2022-02-13T17:53:32.060Z"
   },
   {
    "duration": 14,
    "start_time": "2022-02-13T17:53:45.901Z"
   },
   {
    "duration": 1124,
    "start_time": "2022-02-13T17:54:49.089Z"
   },
   {
    "duration": 249,
    "start_time": "2022-02-13T17:54:50.217Z"
   },
   {
    "duration": 91,
    "start_time": "2022-02-13T17:54:50.470Z"
   },
   {
    "duration": 369,
    "start_time": "2022-02-13T17:54:50.564Z"
   },
   {
    "duration": 439,
    "start_time": "2022-02-13T17:54:50.936Z"
   },
   {
    "duration": 270,
    "start_time": "2022-02-13T17:54:51.379Z"
   },
   {
    "duration": 144,
    "start_time": "2022-02-13T17:54:51.652Z"
   },
   {
    "duration": 277,
    "start_time": "2022-02-13T17:54:51.799Z"
   },
   {
    "duration": 226,
    "start_time": "2022-02-13T17:54:52.079Z"
   },
   {
    "duration": 194,
    "start_time": "2022-02-13T17:54:52.309Z"
   },
   {
    "duration": 237,
    "start_time": "2022-02-13T17:54:52.505Z"
   },
   {
    "duration": 168,
    "start_time": "2022-02-13T17:54:52.745Z"
   },
   {
    "duration": 223,
    "start_time": "2022-02-13T17:54:52.916Z"
   },
   {
    "duration": 368,
    "start_time": "2022-02-13T17:54:53.142Z"
   },
   {
    "duration": 282,
    "start_time": "2022-02-13T17:54:53.514Z"
   },
   {
    "duration": 345,
    "start_time": "2022-02-13T17:54:53.799Z"
   },
   {
    "duration": 250,
    "start_time": "2022-02-13T17:54:54.147Z"
   },
   {
    "duration": 415,
    "start_time": "2022-02-13T17:54:54.399Z"
   },
   {
    "duration": 292,
    "start_time": "2022-02-13T17:54:54.817Z"
   },
   {
    "duration": 285,
    "start_time": "2022-02-13T17:54:55.111Z"
   },
   {
    "duration": 305,
    "start_time": "2022-02-13T17:54:55.400Z"
   },
   {
    "duration": 363,
    "start_time": "2022-02-13T17:54:55.707Z"
   },
   {
    "duration": 309,
    "start_time": "2022-02-13T17:54:56.073Z"
   },
   {
    "duration": 305,
    "start_time": "2022-02-13T17:54:56.384Z"
   },
   {
    "duration": 348,
    "start_time": "2022-02-13T17:54:56.691Z"
   },
   {
    "duration": 265,
    "start_time": "2022-02-13T17:54:57.043Z"
   },
   {
    "duration": 199,
    "start_time": "2022-02-13T17:54:57.320Z"
   },
   {
    "duration": 320,
    "start_time": "2022-02-13T17:54:57.521Z"
   },
   {
    "duration": 1634,
    "start_time": "2022-02-13T17:54:57.843Z"
   },
   {
    "duration": 17,
    "start_time": "2022-02-13T17:54:59.481Z"
   },
   {
    "duration": 355,
    "start_time": "2022-02-13T17:54:59.501Z"
   },
   {
    "duration": 237,
    "start_time": "2022-02-13T17:54:59.860Z"
   },
   {
    "duration": 199,
    "start_time": "2022-02-13T17:55:00.100Z"
   },
   {
    "duration": 219,
    "start_time": "2022-02-13T17:55:00.302Z"
   },
   {
    "duration": 177,
    "start_time": "2022-02-13T17:55:00.524Z"
   },
   {
    "duration": 261,
    "start_time": "2022-02-13T17:55:00.704Z"
   },
   {
    "duration": 251,
    "start_time": "2022-02-13T17:55:00.967Z"
   },
   {
    "duration": 179,
    "start_time": "2022-02-13T17:55:01.221Z"
   },
   {
    "duration": 769,
    "start_time": "2022-02-13T17:55:01.403Z"
   },
   {
    "duration": 20,
    "start_time": "2022-02-13T17:55:02.174Z"
   },
   {
    "duration": 232,
    "start_time": "2022-02-13T17:55:02.197Z"
   },
   {
    "duration": 290,
    "start_time": "2022-02-13T17:55:02.432Z"
   },
   {
    "duration": 331,
    "start_time": "2022-02-13T17:55:02.725Z"
   },
   {
    "duration": 265,
    "start_time": "2022-02-13T17:55:03.059Z"
   },
   {
    "duration": 920,
    "start_time": "2022-02-13T17:55:42.753Z"
   },
   {
    "duration": 66,
    "start_time": "2022-02-13T17:55:43.677Z"
   },
   {
    "duration": 173,
    "start_time": "2022-02-13T17:55:43.747Z"
   },
   {
    "duration": 174,
    "start_time": "2022-02-13T17:55:43.923Z"
   },
   {
    "duration": 201,
    "start_time": "2022-02-13T17:55:44.100Z"
   },
   {
    "duration": 239,
    "start_time": "2022-02-13T17:55:44.304Z"
   },
   {
    "duration": 119,
    "start_time": "2022-02-13T17:55:44.545Z"
   },
   {
    "duration": 269,
    "start_time": "2022-02-13T17:55:44.668Z"
   },
   {
    "duration": 313,
    "start_time": "2022-02-13T17:55:44.941Z"
   },
   {
    "duration": 168,
    "start_time": "2022-02-13T17:55:45.257Z"
   },
   {
    "duration": 187,
    "start_time": "2022-02-13T17:55:45.427Z"
   },
   {
    "duration": 173,
    "start_time": "2022-02-13T17:55:45.618Z"
   },
   {
    "duration": 197,
    "start_time": "2022-02-13T17:55:45.794Z"
   },
   {
    "duration": 215,
    "start_time": "2022-02-13T17:55:45.994Z"
   },
   {
    "duration": 198,
    "start_time": "2022-02-13T17:55:46.213Z"
   },
   {
    "duration": 1002,
    "start_time": "2022-02-13T17:55:46.414Z"
   },
   {
    "duration": 3330,
    "start_time": "2022-02-13T17:55:44.090Z"
   },
   {
    "duration": 3327,
    "start_time": "2022-02-13T17:55:44.095Z"
   },
   {
    "duration": 3321,
    "start_time": "2022-02-13T17:55:44.102Z"
   },
   {
    "duration": 3318,
    "start_time": "2022-02-13T17:55:44.107Z"
   },
   {
    "duration": 3312,
    "start_time": "2022-02-13T17:55:44.114Z"
   },
   {
    "duration": 3308,
    "start_time": "2022-02-13T17:55:44.120Z"
   },
   {
    "duration": 3305,
    "start_time": "2022-02-13T17:55:44.125Z"
   },
   {
    "duration": 3300,
    "start_time": "2022-02-13T17:55:44.131Z"
   },
   {
    "duration": 3296,
    "start_time": "2022-02-13T17:55:44.137Z"
   },
   {
    "duration": 3113,
    "start_time": "2022-02-13T17:55:44.322Z"
   },
   {
    "duration": 3101,
    "start_time": "2022-02-13T17:55:44.335Z"
   },
   {
    "duration": 3098,
    "start_time": "2022-02-13T17:55:44.340Z"
   },
   {
    "duration": 3093,
    "start_time": "2022-02-13T17:55:44.346Z"
   },
   {
    "duration": 3088,
    "start_time": "2022-02-13T17:55:44.353Z"
   },
   {
    "duration": 3081,
    "start_time": "2022-02-13T17:55:44.361Z"
   },
   {
    "duration": 3078,
    "start_time": "2022-02-13T17:55:44.366Z"
   },
   {
    "duration": 3074,
    "start_time": "2022-02-13T17:55:44.371Z"
   },
   {
    "duration": 3071,
    "start_time": "2022-02-13T17:55:44.376Z"
   },
   {
    "duration": 3066,
    "start_time": "2022-02-13T17:55:44.382Z"
   },
   {
    "duration": 3063,
    "start_time": "2022-02-13T17:55:44.387Z"
   },
   {
    "duration": 3059,
    "start_time": "2022-02-13T17:55:44.392Z"
   },
   {
    "duration": 2765,
    "start_time": "2022-02-13T17:55:44.688Z"
   },
   {
    "duration": 2751,
    "start_time": "2022-02-13T17:55:44.703Z"
   },
   {
    "duration": 2747,
    "start_time": "2022-02-13T17:55:44.708Z"
   },
   {
    "duration": 2745,
    "start_time": "2022-02-13T17:55:44.712Z"
   },
   {
    "duration": 2741,
    "start_time": "2022-02-13T17:55:44.717Z"
   },
   {
    "duration": 287,
    "start_time": "2022-02-13T18:00:07.533Z"
   },
   {
    "duration": 854,
    "start_time": "2022-02-13T18:00:34.204Z"
   },
   {
    "duration": 93,
    "start_time": "2022-02-13T18:00:35.061Z"
   },
   {
    "duration": 122,
    "start_time": "2022-02-13T18:00:35.158Z"
   },
   {
    "duration": 195,
    "start_time": "2022-02-13T18:00:35.283Z"
   },
   {
    "duration": 123,
    "start_time": "2022-02-13T18:00:35.481Z"
   },
   {
    "duration": 171,
    "start_time": "2022-02-13T18:00:35.607Z"
   },
   {
    "duration": 142,
    "start_time": "2022-02-13T18:00:35.781Z"
   },
   {
    "duration": 606,
    "start_time": "2022-02-13T18:00:35.927Z"
   },
   {
    "duration": 4238,
    "start_time": "2022-02-13T18:00:32.300Z"
   },
   {
    "duration": 4233,
    "start_time": "2022-02-13T18:00:32.306Z"
   },
   {
    "duration": 4220,
    "start_time": "2022-02-13T18:00:32.320Z"
   },
   {
    "duration": 4214,
    "start_time": "2022-02-13T18:00:32.328Z"
   },
   {
    "duration": 4210,
    "start_time": "2022-02-13T18:00:32.334Z"
   },
   {
    "duration": 4196,
    "start_time": "2022-02-13T18:00:32.349Z"
   },
   {
    "duration": 4193,
    "start_time": "2022-02-13T18:00:32.354Z"
   },
   {
    "duration": 4186,
    "start_time": "2022-02-13T18:00:32.362Z"
   },
   {
    "duration": 4183,
    "start_time": "2022-02-13T18:00:32.367Z"
   },
   {
    "duration": 4177,
    "start_time": "2022-02-13T18:00:32.374Z"
   },
   {
    "duration": 4172,
    "start_time": "2022-02-13T18:00:32.380Z"
   },
   {
    "duration": 4159,
    "start_time": "2022-02-13T18:00:32.395Z"
   },
   {
    "duration": 4156,
    "start_time": "2022-02-13T18:00:32.400Z"
   },
   {
    "duration": 4136,
    "start_time": "2022-02-13T18:00:32.422Z"
   },
   {
    "duration": 4130,
    "start_time": "2022-02-13T18:00:32.430Z"
   },
   {
    "duration": 4086,
    "start_time": "2022-02-13T18:00:32.475Z"
   },
   {
    "duration": 4075,
    "start_time": "2022-02-13T18:00:32.487Z"
   },
   {
    "duration": 4052,
    "start_time": "2022-02-13T18:00:32.512Z"
   },
   {
    "duration": 4048,
    "start_time": "2022-02-13T18:00:32.517Z"
   },
   {
    "duration": 4040,
    "start_time": "2022-02-13T18:00:32.526Z"
   },
   {
    "duration": 4037,
    "start_time": "2022-02-13T18:00:32.531Z"
   },
   {
    "duration": 3912,
    "start_time": "2022-02-13T18:00:32.657Z"
   },
   {
    "duration": 3970,
    "start_time": "2022-02-13T18:00:32.662Z"
   },
   {
    "duration": 3967,
    "start_time": "2022-02-13T18:00:32.666Z"
   },
   {
    "duration": 3965,
    "start_time": "2022-02-13T18:00:32.670Z"
   },
   {
    "duration": 3961,
    "start_time": "2022-02-13T18:00:32.675Z"
   },
   {
    "duration": 3959,
    "start_time": "2022-02-13T18:00:32.679Z"
   },
   {
    "duration": 3969,
    "start_time": "2022-02-13T18:00:32.683Z"
   },
   {
    "duration": 3967,
    "start_time": "2022-02-13T18:00:32.687Z"
   },
   {
    "duration": 3963,
    "start_time": "2022-02-13T18:00:32.692Z"
   },
   {
    "duration": 3960,
    "start_time": "2022-02-13T18:00:32.696Z"
   },
   {
    "duration": 3959,
    "start_time": "2022-02-13T18:00:32.700Z"
   },
   {
    "duration": 3957,
    "start_time": "2022-02-13T18:00:32.704Z"
   },
   {
    "duration": 3945,
    "start_time": "2022-02-13T18:00:32.718Z"
   },
   {
    "duration": 6,
    "start_time": "2022-02-13T18:18:18.737Z"
   },
   {
    "duration": 5,
    "start_time": "2022-02-13T18:19:16.297Z"
   },
   {
    "duration": 385,
    "start_time": "2022-02-13T18:19:16.305Z"
   },
   {
    "duration": 23,
    "start_time": "2022-02-13T18:19:16.693Z"
   },
   {
    "duration": 287,
    "start_time": "2022-02-13T18:19:16.720Z"
   },
   {
    "duration": 282,
    "start_time": "2022-02-13T18:19:17.010Z"
   },
   {
    "duration": 291,
    "start_time": "2022-02-13T18:19:17.295Z"
   },
   {
    "duration": 289,
    "start_time": "2022-02-13T18:19:17.589Z"
   },
   {
    "duration": 162,
    "start_time": "2022-02-13T18:19:17.882Z"
   },
   {
    "duration": 206,
    "start_time": "2022-02-13T18:19:18.046Z"
   },
   {
    "duration": 228,
    "start_time": "2022-02-13T18:19:18.254Z"
   },
   {
    "duration": 289,
    "start_time": "2022-02-13T18:19:18.484Z"
   },
   {
    "duration": 243,
    "start_time": "2022-02-13T18:19:18.775Z"
   },
   {
    "duration": 288,
    "start_time": "2022-02-13T18:19:19.021Z"
   },
   {
    "duration": 247,
    "start_time": "2022-02-13T18:19:19.312Z"
   },
   {
    "duration": 229,
    "start_time": "2022-02-13T18:19:19.562Z"
   },
   {
    "duration": 419,
    "start_time": "2022-02-13T18:19:19.794Z"
   },
   {
    "duration": 3549,
    "start_time": "2022-02-13T18:19:16.669Z"
   },
   {
    "duration": 3534,
    "start_time": "2022-02-13T18:19:16.685Z"
   },
   {
    "duration": 3529,
    "start_time": "2022-02-13T18:19:16.692Z"
   },
   {
    "duration": 3516,
    "start_time": "2022-02-13T18:19:16.707Z"
   },
   {
    "duration": 3508,
    "start_time": "2022-02-13T18:19:16.717Z"
   },
   {
    "duration": 3502,
    "start_time": "2022-02-13T18:19:16.724Z"
   },
   {
    "duration": 3493,
    "start_time": "2022-02-13T18:19:16.735Z"
   },
   {
    "duration": 3343,
    "start_time": "2022-02-13T18:19:16.886Z"
   },
   {
    "duration": 3326,
    "start_time": "2022-02-13T18:19:16.905Z"
   },
   {
    "duration": 3309,
    "start_time": "2022-02-13T18:19:16.923Z"
   },
   {
    "duration": 3294,
    "start_time": "2022-02-13T18:19:16.940Z"
   },
   {
    "duration": 3279,
    "start_time": "2022-02-13T18:19:16.956Z"
   },
   {
    "duration": 3262,
    "start_time": "2022-02-13T18:19:16.974Z"
   },
   {
    "duration": 3244,
    "start_time": "2022-02-13T18:19:16.994Z"
   },
   {
    "duration": 3221,
    "start_time": "2022-02-13T18:19:17.019Z"
   },
   {
    "duration": 3214,
    "start_time": "2022-02-13T18:19:17.028Z"
   },
   {
    "duration": 3188,
    "start_time": "2022-02-13T18:19:17.056Z"
   },
   {
    "duration": 3169,
    "start_time": "2022-02-13T18:19:17.076Z"
   },
   {
    "duration": 3141,
    "start_time": "2022-02-13T18:19:17.106Z"
   },
   {
    "duration": 3133,
    "start_time": "2022-02-13T18:19:17.116Z"
   },
   {
    "duration": 3128,
    "start_time": "2022-02-13T18:19:17.123Z"
   },
   {
    "duration": 3100,
    "start_time": "2022-02-13T18:19:17.153Z"
   },
   {
    "duration": 3086,
    "start_time": "2022-02-13T18:19:17.168Z"
   },
   {
    "duration": 3080,
    "start_time": "2022-02-13T18:19:17.175Z"
   },
   {
    "duration": 3066,
    "start_time": "2022-02-13T18:19:17.191Z"
   },
   {
    "duration": 3057,
    "start_time": "2022-02-13T18:19:17.201Z"
   },
   {
    "duration": 14,
    "start_time": "2022-02-13T18:32:00.678Z"
   },
   {
    "duration": 6,
    "start_time": "2022-02-13T18:47:13.517Z"
   },
   {
    "duration": 10,
    "start_time": "2022-02-13T18:48:36.690Z"
   },
   {
    "duration": 9,
    "start_time": "2022-02-13T18:49:17.166Z"
   },
   {
    "duration": 10,
    "start_time": "2022-02-13T18:56:07.457Z"
   },
   {
    "duration": 10,
    "start_time": "2022-02-13T18:58:00.945Z"
   },
   {
    "duration": 13,
    "start_time": "2022-02-13T18:58:08.147Z"
   },
   {
    "duration": 9,
    "start_time": "2022-02-13T18:58:20.342Z"
   },
   {
    "duration": 9,
    "start_time": "2022-02-13T18:58:26.285Z"
   },
   {
    "duration": 10,
    "start_time": "2022-02-13T18:59:42.890Z"
   },
   {
    "duration": 11,
    "start_time": "2022-02-13T19:00:12.639Z"
   },
   {
    "duration": 290,
    "start_time": "2022-02-13T19:03:43.144Z"
   },
   {
    "duration": 94,
    "start_time": "2022-02-13T19:06:39.501Z"
   },
   {
    "duration": 401,
    "start_time": "2022-02-13T19:06:54.302Z"
   },
   {
    "duration": 17,
    "start_time": "2022-02-13T19:08:09.896Z"
   },
   {
    "duration": 12,
    "start_time": "2022-02-13T19:08:29.680Z"
   },
   {
    "duration": 99,
    "start_time": "2022-02-13T19:10:52.711Z"
   },
   {
    "duration": 10,
    "start_time": "2022-02-13T19:12:47.695Z"
   },
   {
    "duration": 87,
    "start_time": "2022-02-13T19:17:09.424Z"
   },
   {
    "duration": 11,
    "start_time": "2022-02-13T19:17:24.506Z"
   },
   {
    "duration": 7,
    "start_time": "2022-02-13T19:17:41.679Z"
   },
   {
    "duration": 4167,
    "start_time": "2022-02-13T19:22:10.326Z"
   },
   {
    "duration": 4163,
    "start_time": "2022-02-13T19:22:10.332Z"
   },
   {
    "duration": 4016,
    "start_time": "2022-02-13T19:23:23.213Z"
   },
   {
    "duration": 7966,
    "start_time": "2022-02-13T19:23:40.804Z"
   },
   {
    "duration": 93,
    "start_time": "2022-02-13T19:25:59.243Z"
   },
   {
    "duration": 4245,
    "start_time": "2022-02-13T19:26:10.912Z"
   },
   {
    "duration": 9228,
    "start_time": "2022-02-13T19:26:28.229Z"
   },
   {
    "duration": 7779,
    "start_time": "2022-02-13T19:26:50.511Z"
   },
   {
    "duration": 5,
    "start_time": "2022-02-13T19:27:32.802Z"
   },
   {
    "duration": 466,
    "start_time": "2022-02-13T19:27:32.810Z"
   },
   {
    "duration": 243,
    "start_time": "2022-02-13T19:27:33.280Z"
   },
   {
    "duration": 298,
    "start_time": "2022-02-13T19:27:33.526Z"
   },
   {
    "duration": 302,
    "start_time": "2022-02-13T19:27:33.827Z"
   },
   {
    "duration": 319,
    "start_time": "2022-02-13T19:27:34.132Z"
   },
   {
    "duration": 213,
    "start_time": "2022-02-13T19:27:34.456Z"
   },
   {
    "duration": 288,
    "start_time": "2022-02-13T19:27:34.673Z"
   },
   {
    "duration": 273,
    "start_time": "2022-02-13T19:27:34.964Z"
   },
   {
    "duration": 234,
    "start_time": "2022-02-13T19:27:35.239Z"
   },
   {
    "duration": 168,
    "start_time": "2022-02-13T19:27:35.476Z"
   },
   {
    "duration": 174,
    "start_time": "2022-02-13T19:27:35.648Z"
   },
   {
    "duration": 290,
    "start_time": "2022-02-13T19:27:35.824Z"
   },
   {
    "duration": 453,
    "start_time": "2022-02-13T19:27:36.117Z"
   },
   {
    "duration": 281,
    "start_time": "2022-02-13T19:27:36.573Z"
   },
   {
    "duration": 212,
    "start_time": "2022-02-13T19:27:36.857Z"
   },
   {
    "duration": 231,
    "start_time": "2022-02-13T19:27:37.072Z"
   },
   {
    "duration": 494,
    "start_time": "2022-02-13T19:27:37.306Z"
   },
   {
    "duration": 3936,
    "start_time": "2022-02-13T19:27:33.871Z"
   },
   {
    "duration": 3450,
    "start_time": "2022-02-13T19:27:34.359Z"
   },
   {
    "duration": 3440,
    "start_time": "2022-02-13T19:27:34.372Z"
   },
   {
    "duration": 3436,
    "start_time": "2022-02-13T19:27:34.378Z"
   },
   {
    "duration": 3421,
    "start_time": "2022-02-13T19:27:34.395Z"
   },
   {
    "duration": 3394,
    "start_time": "2022-02-13T19:27:34.425Z"
   },
   {
    "duration": 3377,
    "start_time": "2022-02-13T19:27:34.444Z"
   },
   {
    "duration": 3363,
    "start_time": "2022-02-13T19:27:34.461Z"
   },
   {
    "duration": 3346,
    "start_time": "2022-02-13T19:27:34.480Z"
   },
   {
    "duration": 3331,
    "start_time": "2022-02-13T19:27:34.498Z"
   },
   {
    "duration": 3308,
    "start_time": "2022-02-13T19:27:34.524Z"
   },
   {
    "duration": 3171,
    "start_time": "2022-02-13T19:27:34.663Z"
   },
   {
    "duration": 3157,
    "start_time": "2022-02-13T19:27:34.680Z"
   },
   {
    "duration": 3133,
    "start_time": "2022-02-13T19:27:34.706Z"
   },
   {
    "duration": 3119,
    "start_time": "2022-02-13T19:27:34.723Z"
   },
   {
    "duration": 3114,
    "start_time": "2022-02-13T19:27:34.730Z"
   },
   {
    "duration": 3099,
    "start_time": "2022-02-13T19:27:34.748Z"
   },
   {
    "duration": 3087,
    "start_time": "2022-02-13T19:27:34.762Z"
   },
   {
    "duration": 3075,
    "start_time": "2022-02-13T19:27:34.779Z"
   },
   {
    "duration": 3060,
    "start_time": "2022-02-13T19:27:34.796Z"
   },
   {
    "duration": 3048,
    "start_time": "2022-02-13T19:27:34.811Z"
   },
   {
    "duration": 3006,
    "start_time": "2022-02-13T19:27:34.856Z"
   },
   {
    "duration": 3002,
    "start_time": "2022-02-13T19:27:34.861Z"
   },
   {
    "duration": 2991,
    "start_time": "2022-02-13T19:27:34.874Z"
   },
   {
    "duration": 3033,
    "start_time": "2022-02-13T19:27:34.890Z"
   },
   {
    "duration": 3021,
    "start_time": "2022-02-13T19:27:34.904Z"
   },
   {
    "duration": 13,
    "start_time": "2022-02-13T19:29:27.283Z"
   },
   {
    "duration": 21,
    "start_time": "2022-02-13T19:36:28.371Z"
   },
   {
    "duration": 128,
    "start_time": "2022-02-13T19:38:41.857Z"
   },
   {
    "duration": 13,
    "start_time": "2022-02-13T19:49:03.997Z"
   },
   {
    "duration": 11,
    "start_time": "2022-02-13T19:49:12.783Z"
   },
   {
    "duration": 850,
    "start_time": "2022-02-13T19:49:31.913Z"
   },
   {
    "duration": 73,
    "start_time": "2022-02-13T19:49:32.766Z"
   },
   {
    "duration": 233,
    "start_time": "2022-02-13T19:49:32.844Z"
   },
   {
    "duration": 268,
    "start_time": "2022-02-13T19:49:33.082Z"
   },
   {
    "duration": 182,
    "start_time": "2022-02-13T19:49:33.353Z"
   },
   {
    "duration": 210,
    "start_time": "2022-02-13T19:49:33.538Z"
   },
   {
    "duration": 218,
    "start_time": "2022-02-13T19:49:33.750Z"
   },
   {
    "duration": 207,
    "start_time": "2022-02-13T19:49:33.972Z"
   },
   {
    "duration": 161,
    "start_time": "2022-02-13T19:49:34.183Z"
   },
   {
    "duration": 127,
    "start_time": "2022-02-13T19:49:34.347Z"
   },
   {
    "duration": 330,
    "start_time": "2022-02-13T19:49:34.478Z"
   },
   {
    "duration": 148,
    "start_time": "2022-02-13T19:49:34.813Z"
   },
   {
    "duration": 167,
    "start_time": "2022-02-13T19:49:34.963Z"
   },
   {
    "duration": 7452,
    "start_time": "2022-02-13T19:49:35.132Z"
   },
   {
    "duration": 4223,
    "start_time": "2022-02-13T19:49:38.364Z"
   },
   {
    "duration": 4217,
    "start_time": "2022-02-13T19:49:38.372Z"
   },
   {
    "duration": 4211,
    "start_time": "2022-02-13T19:49:38.380Z"
   },
   {
    "duration": 4205,
    "start_time": "2022-02-13T19:49:38.388Z"
   },
   {
    "duration": 4200,
    "start_time": "2022-02-13T19:49:38.396Z"
   },
   {
    "duration": 4195,
    "start_time": "2022-02-13T19:49:38.402Z"
   },
   {
    "duration": 4190,
    "start_time": "2022-02-13T19:49:38.408Z"
   },
   {
    "duration": 4186,
    "start_time": "2022-02-13T19:49:38.414Z"
   },
   {
    "duration": 4182,
    "start_time": "2022-02-13T19:49:38.419Z"
   },
   {
    "duration": 4178,
    "start_time": "2022-02-13T19:49:38.424Z"
   },
   {
    "duration": 4175,
    "start_time": "2022-02-13T19:49:38.429Z"
   },
   {
    "duration": 4172,
    "start_time": "2022-02-13T19:49:38.433Z"
   },
   {
    "duration": 4168,
    "start_time": "2022-02-13T19:49:38.439Z"
   },
   {
    "duration": 4162,
    "start_time": "2022-02-13T19:49:38.447Z"
   },
   {
    "duration": 4157,
    "start_time": "2022-02-13T19:49:38.453Z"
   },
   {
    "duration": 4153,
    "start_time": "2022-02-13T19:49:38.459Z"
   },
   {
    "duration": 4141,
    "start_time": "2022-02-13T19:49:38.473Z"
   },
   {
    "duration": 4137,
    "start_time": "2022-02-13T19:49:38.478Z"
   },
   {
    "duration": 4134,
    "start_time": "2022-02-13T19:49:38.482Z"
   },
   {
    "duration": 4131,
    "start_time": "2022-02-13T19:49:38.487Z"
   },
   {
    "duration": 4128,
    "start_time": "2022-02-13T19:49:38.492Z"
   },
   {
    "duration": 4124,
    "start_time": "2022-02-13T19:49:38.497Z"
   },
   {
    "duration": 4122,
    "start_time": "2022-02-13T19:49:38.501Z"
   },
   {
    "duration": 4117,
    "start_time": "2022-02-13T19:49:38.507Z"
   },
   {
    "duration": 4112,
    "start_time": "2022-02-13T19:49:38.514Z"
   },
   {
    "duration": 4108,
    "start_time": "2022-02-13T19:49:38.519Z"
   },
   {
    "duration": 4106,
    "start_time": "2022-02-13T19:49:38.523Z"
   },
   {
    "duration": 4103,
    "start_time": "2022-02-13T19:49:38.528Z"
   },
   {
    "duration": 4100,
    "start_time": "2022-02-13T19:49:38.532Z"
   },
   {
    "duration": 4095,
    "start_time": "2022-02-13T19:49:38.539Z"
   },
   {
    "duration": 4091,
    "start_time": "2022-02-13T19:49:38.544Z"
   },
   {
    "duration": 20,
    "start_time": "2022-02-13T19:50:55.125Z"
   },
   {
    "duration": 868,
    "start_time": "2022-02-13T19:51:27.333Z"
   },
   {
    "duration": 16,
    "start_time": "2022-02-13T19:51:42.026Z"
   },
   {
    "duration": 315,
    "start_time": "2022-02-13T19:54:42.716Z"
   },
   {
    "duration": 4,
    "start_time": "2022-02-13T19:54:52.458Z"
   },
   {
    "duration": 67,
    "start_time": "2022-02-13T19:54:55.334Z"
   },
   {
    "duration": 69,
    "start_time": "2022-02-13T19:56:24.472Z"
   },
   {
    "duration": 66,
    "start_time": "2022-02-13T19:58:29.179Z"
   },
   {
    "duration": 768,
    "start_time": "2022-02-13T19:58:48.479Z"
   },
   {
    "duration": 73,
    "start_time": "2022-02-13T19:58:49.250Z"
   },
   {
    "duration": 108,
    "start_time": "2022-02-13T19:58:49.327Z"
   },
   {
    "duration": 171,
    "start_time": "2022-02-13T19:58:49.438Z"
   },
   {
    "duration": 220,
    "start_time": "2022-02-13T19:58:49.612Z"
   },
   {
    "duration": 196,
    "start_time": "2022-02-13T19:58:49.835Z"
   },
   {
    "duration": 133,
    "start_time": "2022-02-13T19:58:50.033Z"
   },
   {
    "duration": 136,
    "start_time": "2022-02-13T19:58:50.171Z"
   },
   {
    "duration": 227,
    "start_time": "2022-02-13T19:58:50.311Z"
   },
   {
    "duration": 129,
    "start_time": "2022-02-13T19:58:50.541Z"
   },
   {
    "duration": 157,
    "start_time": "2022-02-13T19:58:50.673Z"
   },
   {
    "duration": 146,
    "start_time": "2022-02-13T19:58:50.833Z"
   },
   {
    "duration": 249,
    "start_time": "2022-02-13T19:58:50.981Z"
   },
   {
    "duration": 158,
    "start_time": "2022-02-13T19:58:51.233Z"
   },
   {
    "duration": 216,
    "start_time": "2022-02-13T19:58:51.394Z"
   },
   {
    "duration": 118,
    "start_time": "2022-02-13T19:58:51.613Z"
   },
   {
    "duration": 123,
    "start_time": "2022-02-13T19:58:51.734Z"
   },
   {
    "duration": 158,
    "start_time": "2022-02-13T19:58:51.860Z"
   },
   {
    "duration": 196,
    "start_time": "2022-02-13T19:58:52.021Z"
   },
   {
    "duration": 124,
    "start_time": "2022-02-13T19:58:52.220Z"
   },
   {
    "duration": 168,
    "start_time": "2022-02-13T19:58:52.346Z"
   },
   {
    "duration": 142,
    "start_time": "2022-02-13T19:58:52.517Z"
   },
   {
    "duration": 219,
    "start_time": "2022-02-13T19:58:52.666Z"
   },
   {
    "duration": 166,
    "start_time": "2022-02-13T19:58:52.889Z"
   },
   {
    "duration": 193,
    "start_time": "2022-02-13T19:58:53.058Z"
   },
   {
    "duration": 144,
    "start_time": "2022-02-13T19:58:53.254Z"
   },
   {
    "duration": 138,
    "start_time": "2022-02-13T19:58:53.401Z"
   },
   {
    "duration": 96,
    "start_time": "2022-02-13T19:58:53.542Z"
   },
   {
    "duration": 114,
    "start_time": "2022-02-13T19:58:53.640Z"
   },
   {
    "duration": 164,
    "start_time": "2022-02-13T19:58:53.757Z"
   },
   {
    "duration": 1214,
    "start_time": "2022-02-13T19:58:53.924Z"
   },
   {
    "duration": 15,
    "start_time": "2022-02-13T19:58:55.140Z"
   },
   {
    "duration": 200,
    "start_time": "2022-02-13T19:58:55.157Z"
   },
   {
    "duration": 162,
    "start_time": "2022-02-13T19:58:55.360Z"
   },
   {
    "duration": 266,
    "start_time": "2022-02-13T19:58:55.525Z"
   },
   {
    "duration": 178,
    "start_time": "2022-02-13T19:58:55.793Z"
   },
   {
    "duration": 145,
    "start_time": "2022-02-13T19:58:55.974Z"
   },
   {
    "duration": 178,
    "start_time": "2022-02-13T19:58:56.121Z"
   },
   {
    "duration": 180,
    "start_time": "2022-02-13T19:58:56.302Z"
   },
   {
    "duration": 137,
    "start_time": "2022-02-13T19:58:56.485Z"
   },
   {
    "duration": 490,
    "start_time": "2022-02-13T19:58:56.626Z"
   },
   {
    "duration": 21,
    "start_time": "2022-02-13T19:58:57.119Z"
   },
   {
    "duration": 196,
    "start_time": "2022-02-13T19:58:57.142Z"
   },
   {
    "duration": 158,
    "start_time": "2022-02-13T19:58:57.341Z"
   },
   {
    "duration": 304,
    "start_time": "2022-02-13T19:58:57.502Z"
   },
   {
    "duration": 128,
    "start_time": "2022-02-13T19:58:57.810Z"
   },
   {
    "duration": 34,
    "start_time": "2022-02-13T20:01:15.273Z"
   },
   {
    "duration": 209,
    "start_time": "2022-02-13T20:01:15.310Z"
   },
   {
    "duration": 145,
    "start_time": "2022-02-13T20:01:15.523Z"
   },
   {
    "duration": 216,
    "start_time": "2022-02-13T20:01:15.671Z"
   },
   {
    "duration": 248,
    "start_time": "2022-02-13T20:01:15.890Z"
   },
   {
    "duration": 299,
    "start_time": "2022-02-13T20:01:16.140Z"
   },
   {
    "duration": 127,
    "start_time": "2022-02-13T20:01:16.443Z"
   },
   {
    "duration": 222,
    "start_time": "2022-02-13T20:01:16.576Z"
   },
   {
    "duration": 306,
    "start_time": "2022-02-13T20:01:16.802Z"
   },
   {
    "duration": 215,
    "start_time": "2022-02-13T20:01:17.111Z"
   },
   {
    "duration": 271,
    "start_time": "2022-02-13T20:01:17.329Z"
   },
   {
    "duration": 278,
    "start_time": "2022-02-13T20:01:17.603Z"
   },
   {
    "duration": 288,
    "start_time": "2022-02-13T20:01:17.885Z"
   },
   {
    "duration": 259,
    "start_time": "2022-02-13T20:01:18.176Z"
   },
   {
    "duration": 190,
    "start_time": "2022-02-13T20:01:18.438Z"
   },
   {
    "duration": 202,
    "start_time": "2022-02-13T20:01:18.631Z"
   },
   {
    "duration": 174,
    "start_time": "2022-02-13T20:01:18.836Z"
   },
   {
    "duration": 186,
    "start_time": "2022-02-13T20:01:19.012Z"
   },
   {
    "duration": 159,
    "start_time": "2022-02-13T20:01:19.201Z"
   },
   {
    "duration": 555,
    "start_time": "2022-02-13T20:01:19.363Z"
   },
   {
    "duration": 4178,
    "start_time": "2022-02-13T20:01:15.746Z"
   },
   {
    "duration": 4141,
    "start_time": "2022-02-13T20:01:15.784Z"
   },
   {
    "duration": 4130,
    "start_time": "2022-02-13T20:01:15.797Z"
   },
   {
    "duration": 4112,
    "start_time": "2022-02-13T20:01:15.817Z"
   },
   {
    "duration": 4062,
    "start_time": "2022-02-13T20:01:15.869Z"
   },
   {
    "duration": 4036,
    "start_time": "2022-02-13T20:01:15.897Z"
   },
   {
    "duration": 3995,
    "start_time": "2022-02-13T20:01:15.940Z"
   },
   {
    "duration": 3973,
    "start_time": "2022-02-13T20:01:15.963Z"
   },
   {
    "duration": 3955,
    "start_time": "2022-02-13T20:01:15.983Z"
   },
   {
    "duration": 3929,
    "start_time": "2022-02-13T20:01:16.011Z"
   },
   {
    "duration": 3919,
    "start_time": "2022-02-13T20:01:16.023Z"
   },
   {
    "duration": 3892,
    "start_time": "2022-02-13T20:01:16.051Z"
   },
   {
    "duration": 3863,
    "start_time": "2022-02-13T20:01:16.082Z"
   },
   {
    "duration": 3831,
    "start_time": "2022-02-13T20:01:16.116Z"
   },
   {
    "duration": 3795,
    "start_time": "2022-02-13T20:01:16.153Z"
   },
   {
    "duration": 3766,
    "start_time": "2022-02-13T20:01:16.184Z"
   },
   {
    "duration": 3758,
    "start_time": "2022-02-13T20:01:16.194Z"
   },
   {
    "duration": 3741,
    "start_time": "2022-02-13T20:01:16.213Z"
   },
   {
    "duration": 3707,
    "start_time": "2022-02-13T20:01:16.249Z"
   },
   {
    "duration": 3659,
    "start_time": "2022-02-13T20:01:16.299Z"
   },
   {
    "duration": 3597,
    "start_time": "2022-02-13T20:01:16.362Z"
   },
   {
    "duration": 3578,
    "start_time": "2022-02-13T20:01:16.383Z"
   },
   {
    "duration": 3547,
    "start_time": "2022-02-13T20:01:16.416Z"
   },
   {
    "duration": 3515,
    "start_time": "2022-02-13T20:01:16.450Z"
   },
   {
    "duration": 3534,
    "start_time": "2022-02-13T20:01:16.488Z"
   },
   {
    "duration": 3530,
    "start_time": "2022-02-13T20:01:16.495Z"
   },
   {
    "duration": 69,
    "start_time": "2022-02-13T20:03:03.889Z"
   },
   {
    "duration": 878,
    "start_time": "2022-02-13T20:04:18.516Z"
   },
   {
    "duration": 67,
    "start_time": "2022-02-13T20:04:19.397Z"
   },
   {
    "duration": 164,
    "start_time": "2022-02-13T20:04:19.468Z"
   },
   {
    "duration": 194,
    "start_time": "2022-02-13T20:04:19.635Z"
   },
   {
    "duration": 212,
    "start_time": "2022-02-13T20:04:19.832Z"
   },
   {
    "duration": 250,
    "start_time": "2022-02-13T20:04:20.047Z"
   },
   {
    "duration": 156,
    "start_time": "2022-02-13T20:04:20.300Z"
   },
   {
    "duration": 196,
    "start_time": "2022-02-13T20:04:20.460Z"
   },
   {
    "duration": 201,
    "start_time": "2022-02-13T20:04:20.659Z"
   },
   {
    "duration": 246,
    "start_time": "2022-02-13T20:04:20.862Z"
   },
   {
    "duration": 203,
    "start_time": "2022-02-13T20:04:21.111Z"
   },
   {
    "duration": 181,
    "start_time": "2022-02-13T20:04:21.316Z"
   },
   {
    "duration": 201,
    "start_time": "2022-02-13T20:04:21.499Z"
   },
   {
    "duration": 220,
    "start_time": "2022-02-13T20:04:21.703Z"
   },
   {
    "duration": 237,
    "start_time": "2022-02-13T20:04:21.926Z"
   },
   {
    "duration": 124,
    "start_time": "2022-02-13T20:04:22.166Z"
   },
   {
    "duration": 180,
    "start_time": "2022-02-13T20:04:22.293Z"
   },
   {
    "duration": 266,
    "start_time": "2022-02-13T20:04:22.476Z"
   },
   {
    "duration": 311,
    "start_time": "2022-02-13T20:04:22.747Z"
   },
   {
    "duration": 275,
    "start_time": "2022-02-13T20:04:23.061Z"
   },
   {
    "duration": 292,
    "start_time": "2022-02-13T20:04:23.338Z"
   },
   {
    "duration": 263,
    "start_time": "2022-02-13T20:04:23.633Z"
   },
   {
    "duration": 254,
    "start_time": "2022-02-13T20:04:23.903Z"
   },
   {
    "duration": 285,
    "start_time": "2022-02-13T20:04:24.160Z"
   },
   {
    "duration": 260,
    "start_time": "2022-02-13T20:04:24.448Z"
   },
   {
    "duration": 216,
    "start_time": "2022-02-13T20:04:24.711Z"
   },
   {
    "duration": 171,
    "start_time": "2022-02-13T20:04:24.930Z"
   },
   {
    "duration": 162,
    "start_time": "2022-02-13T20:04:25.103Z"
   },
   {
    "duration": 260,
    "start_time": "2022-02-13T20:04:25.268Z"
   },
   {
    "duration": 241,
    "start_time": "2022-02-13T20:04:25.532Z"
   },
   {
    "duration": 1136,
    "start_time": "2022-02-13T20:04:25.775Z"
   },
   {
    "duration": 21,
    "start_time": "2022-02-13T20:04:26.915Z"
   },
   {
    "duration": 179,
    "start_time": "2022-02-13T20:04:26.939Z"
   },
   {
    "duration": 167,
    "start_time": "2022-02-13T20:04:27.122Z"
   },
   {
    "duration": 160,
    "start_time": "2022-02-13T20:04:27.292Z"
   },
   {
    "duration": 203,
    "start_time": "2022-02-13T20:04:27.454Z"
   },
   {
    "duration": 225,
    "start_time": "2022-02-13T20:04:27.659Z"
   },
   {
    "duration": 175,
    "start_time": "2022-02-13T20:04:27.887Z"
   },
   {
    "duration": 194,
    "start_time": "2022-02-13T20:04:28.064Z"
   },
   {
    "duration": 156,
    "start_time": "2022-02-13T20:04:28.262Z"
   },
   {
    "duration": 590,
    "start_time": "2022-02-13T20:04:28.422Z"
   },
   {
    "duration": 23,
    "start_time": "2022-02-13T20:04:29.015Z"
   },
   {
    "duration": 206,
    "start_time": "2022-02-13T20:04:29.041Z"
   },
   {
    "duration": 184,
    "start_time": "2022-02-13T20:04:29.249Z"
   },
   {
    "duration": 186,
    "start_time": "2022-02-13T20:04:29.436Z"
   },
   {
    "duration": 160,
    "start_time": "2022-02-13T20:04:29.625Z"
   },
   {
    "duration": 801,
    "start_time": "2022-02-13T20:10:50.790Z"
   },
   {
    "duration": 73,
    "start_time": "2022-02-13T20:10:51.594Z"
   },
   {
    "duration": 294,
    "start_time": "2022-02-13T20:10:51.671Z"
   },
   {
    "duration": 282,
    "start_time": "2022-02-13T20:10:51.969Z"
   },
   {
    "duration": 252,
    "start_time": "2022-02-13T20:10:52.254Z"
   },
   {
    "duration": 269,
    "start_time": "2022-02-13T20:10:52.509Z"
   },
   {
    "duration": 237,
    "start_time": "2022-02-13T20:10:52.781Z"
   },
   {
    "duration": 266,
    "start_time": "2022-02-13T20:10:53.022Z"
   },
   {
    "duration": 216,
    "start_time": "2022-02-13T20:10:53.291Z"
   },
   {
    "duration": 242,
    "start_time": "2022-02-13T20:10:53.510Z"
   },
   {
    "duration": 204,
    "start_time": "2022-02-13T20:10:53.754Z"
   },
   {
    "duration": 275,
    "start_time": "2022-02-13T20:10:53.961Z"
   },
   {
    "duration": 171,
    "start_time": "2022-02-13T20:10:54.239Z"
   },
   {
    "duration": 330,
    "start_time": "2022-02-13T20:10:54.413Z"
   },
   {
    "duration": 392,
    "start_time": "2022-02-13T20:10:54.746Z"
   },
   {
    "duration": 84,
    "start_time": "2022-02-13T20:10:55.142Z"
   },
   {
    "duration": 194,
    "start_time": "2022-02-13T20:10:55.230Z"
   },
   {
    "duration": 296,
    "start_time": "2022-02-13T20:10:55.426Z"
   },
   {
    "duration": 301,
    "start_time": "2022-02-13T20:10:55.725Z"
   },
   {
    "duration": 301,
    "start_time": "2022-02-13T20:10:56.029Z"
   },
   {
    "duration": 288,
    "start_time": "2022-02-13T20:10:56.332Z"
   },
   {
    "duration": 330,
    "start_time": "2022-02-13T20:10:56.622Z"
   },
   {
    "duration": 235,
    "start_time": "2022-02-13T20:10:56.957Z"
   },
   {
    "duration": 239,
    "start_time": "2022-02-13T20:10:57.195Z"
   },
   {
    "duration": 227,
    "start_time": "2022-02-13T20:10:57.437Z"
   },
   {
    "duration": 284,
    "start_time": "2022-02-13T20:10:57.666Z"
   },
   {
    "duration": 294,
    "start_time": "2022-02-13T20:10:57.953Z"
   },
   {
    "duration": 193,
    "start_time": "2022-02-13T20:10:58.251Z"
   },
   {
    "duration": 253,
    "start_time": "2022-02-13T20:10:58.447Z"
   },
   {
    "duration": 292,
    "start_time": "2022-02-13T20:10:58.703Z"
   },
   {
    "duration": 1193,
    "start_time": "2022-02-13T20:10:58.997Z"
   },
   {
    "duration": 25,
    "start_time": "2022-02-13T20:11:00.205Z"
   },
   {
    "duration": 303,
    "start_time": "2022-02-13T20:11:00.233Z"
   },
   {
    "duration": 239,
    "start_time": "2022-02-13T20:11:00.539Z"
   },
   {
    "duration": 443,
    "start_time": "2022-02-13T20:11:00.782Z"
   },
   {
    "duration": 223,
    "start_time": "2022-02-13T20:11:01.228Z"
   },
   {
    "duration": 320,
    "start_time": "2022-02-13T20:11:01.456Z"
   },
   {
    "duration": 387,
    "start_time": "2022-02-13T20:11:01.779Z"
   },
   {
    "duration": 273,
    "start_time": "2022-02-13T20:11:02.168Z"
   },
   {
    "duration": 232,
    "start_time": "2022-02-13T20:11:02.443Z"
   },
   {
    "duration": 595,
    "start_time": "2022-02-13T20:11:02.678Z"
   },
   {
    "duration": 28,
    "start_time": "2022-02-13T20:11:03.277Z"
   },
   {
    "duration": 249,
    "start_time": "2022-02-13T20:11:03.324Z"
   },
   {
    "duration": 194,
    "start_time": "2022-02-13T20:11:03.576Z"
   },
   {
    "duration": 210,
    "start_time": "2022-02-13T20:11:03.772Z"
   },
   {
    "duration": 280,
    "start_time": "2022-02-13T20:11:03.985Z"
   },
   {
    "duration": 34,
    "start_time": "2022-02-13T20:21:19.922Z"
   },
   {
    "duration": 233,
    "start_time": "2022-02-13T20:21:19.958Z"
   },
   {
    "duration": 174,
    "start_time": "2022-02-13T20:21:20.194Z"
   },
   {
    "duration": 237,
    "start_time": "2022-02-13T20:21:20.371Z"
   },
   {
    "duration": 257,
    "start_time": "2022-02-13T20:21:20.611Z"
   },
   {
    "duration": 273,
    "start_time": "2022-02-13T20:21:20.872Z"
   },
   {
    "duration": 130,
    "start_time": "2022-02-13T20:21:21.149Z"
   },
   {
    "duration": 205,
    "start_time": "2022-02-13T20:21:21.285Z"
   },
   {
    "duration": 218,
    "start_time": "2022-02-13T20:21:21.493Z"
   },
   {
    "duration": 225,
    "start_time": "2022-02-13T20:21:21.714Z"
   },
   {
    "duration": 339,
    "start_time": "2022-02-13T20:21:21.941Z"
   },
   {
    "duration": 259,
    "start_time": "2022-02-13T20:21:22.283Z"
   },
   {
    "duration": 248,
    "start_time": "2022-02-13T20:21:22.544Z"
   },
   {
    "duration": 250,
    "start_time": "2022-02-13T20:21:22.796Z"
   },
   {
    "duration": 275,
    "start_time": "2022-02-13T20:21:23.049Z"
   },
   {
    "duration": 127,
    "start_time": "2022-02-13T20:21:23.326Z"
   },
   {
    "duration": 133,
    "start_time": "2022-02-13T20:21:23.456Z"
   },
   {
    "duration": 160,
    "start_time": "2022-02-13T20:21:23.593Z"
   },
   {
    "duration": 176,
    "start_time": "2022-02-13T20:21:23.761Z"
   },
   {
    "duration": 154,
    "start_time": "2022-02-13T20:21:23.940Z"
   },
   {
    "duration": 178,
    "start_time": "2022-02-13T20:21:24.097Z"
   },
   {
    "duration": 181,
    "start_time": "2022-02-13T20:21:24.278Z"
   },
   {
    "duration": 183,
    "start_time": "2022-02-13T20:21:24.462Z"
   },
   {
    "duration": 200,
    "start_time": "2022-02-13T20:21:24.649Z"
   },
   {
    "duration": 169,
    "start_time": "2022-02-13T20:21:24.852Z"
   },
   {
    "duration": 190,
    "start_time": "2022-02-13T20:21:25.025Z"
   },
   {
    "duration": 153,
    "start_time": "2022-02-13T20:21:25.219Z"
   },
   {
    "duration": 211,
    "start_time": "2022-02-13T20:21:25.375Z"
   },
   {
    "duration": 189,
    "start_time": "2022-02-13T20:21:25.589Z"
   },
   {
    "duration": 181,
    "start_time": "2022-02-13T20:21:25.781Z"
   },
   {
    "duration": 1191,
    "start_time": "2022-02-13T20:21:25.965Z"
   },
   {
    "duration": 17,
    "start_time": "2022-02-13T20:21:27.160Z"
   },
   {
    "duration": 177,
    "start_time": "2022-02-13T20:21:27.180Z"
   },
   {
    "duration": 136,
    "start_time": "2022-02-13T20:21:27.359Z"
   },
   {
    "duration": 132,
    "start_time": "2022-02-13T20:21:27.498Z"
   },
   {
    "duration": 135,
    "start_time": "2022-02-13T20:21:27.632Z"
   },
   {
    "duration": 218,
    "start_time": "2022-02-13T20:21:27.769Z"
   },
   {
    "duration": 179,
    "start_time": "2022-02-13T20:21:27.989Z"
   },
   {
    "duration": 149,
    "start_time": "2022-02-13T20:21:28.170Z"
   },
   {
    "duration": 155,
    "start_time": "2022-02-13T20:21:28.321Z"
   },
   {
    "duration": 501,
    "start_time": "2022-02-13T20:21:28.479Z"
   },
   {
    "duration": 20,
    "start_time": "2022-02-13T20:21:28.983Z"
   },
   {
    "duration": 185,
    "start_time": "2022-02-13T20:21:29.006Z"
   },
   {
    "duration": 167,
    "start_time": "2022-02-13T20:21:29.193Z"
   },
   {
    "duration": 193,
    "start_time": "2022-02-13T20:21:29.362Z"
   },
   {
    "duration": 174,
    "start_time": "2022-02-13T20:21:29.557Z"
   },
   {
    "duration": 859,
    "start_time": "2022-02-13T20:23:29.589Z"
   },
   {
    "duration": 73,
    "start_time": "2022-02-13T20:23:30.451Z"
   },
   {
    "duration": 142,
    "start_time": "2022-02-13T20:23:30.527Z"
   },
   {
    "duration": 285,
    "start_time": "2022-02-13T20:23:30.672Z"
   },
   {
    "duration": 195,
    "start_time": "2022-02-13T20:23:30.960Z"
   },
   {
    "duration": 218,
    "start_time": "2022-02-13T20:23:31.157Z"
   },
   {
    "duration": 111,
    "start_time": "2022-02-13T20:23:31.378Z"
   },
   {
    "duration": 150,
    "start_time": "2022-02-13T20:23:31.494Z"
   },
   {
    "duration": 227,
    "start_time": "2022-02-13T20:23:31.648Z"
   },
   {
    "duration": 130,
    "start_time": "2022-02-13T20:23:31.878Z"
   },
   {
    "duration": 203,
    "start_time": "2022-02-13T20:23:32.010Z"
   },
   {
    "duration": 285,
    "start_time": "2022-02-13T20:23:32.215Z"
   },
   {
    "duration": 286,
    "start_time": "2022-02-13T20:23:32.502Z"
   },
   {
    "duration": 241,
    "start_time": "2022-02-13T20:23:32.792Z"
   },
   {
    "duration": 346,
    "start_time": "2022-02-13T20:23:33.035Z"
   },
   {
    "duration": 251,
    "start_time": "2022-02-13T20:23:33.384Z"
   },
   {
    "duration": 198,
    "start_time": "2022-02-13T20:23:33.637Z"
   },
   {
    "duration": 201,
    "start_time": "2022-02-13T20:23:33.837Z"
   },
   {
    "duration": 193,
    "start_time": "2022-02-13T20:23:34.041Z"
   },
   {
    "duration": 174,
    "start_time": "2022-02-13T20:23:34.236Z"
   },
   {
    "duration": 208,
    "start_time": "2022-02-13T20:23:34.413Z"
   },
   {
    "duration": 225,
    "start_time": "2022-02-13T20:23:34.624Z"
   },
   {
    "duration": 186,
    "start_time": "2022-02-13T20:23:34.856Z"
   },
   {
    "duration": 186,
    "start_time": "2022-02-13T20:23:35.045Z"
   },
   {
    "duration": 197,
    "start_time": "2022-02-13T20:23:35.233Z"
   },
   {
    "duration": 268,
    "start_time": "2022-02-13T20:23:35.433Z"
   },
   {
    "duration": 187,
    "start_time": "2022-02-13T20:23:35.703Z"
   },
   {
    "duration": 182,
    "start_time": "2022-02-13T20:23:35.893Z"
   },
   {
    "duration": 212,
    "start_time": "2022-02-13T20:23:36.077Z"
   },
   {
    "duration": 177,
    "start_time": "2022-02-13T20:23:36.292Z"
   },
   {
    "duration": 1141,
    "start_time": "2022-02-13T20:23:36.472Z"
   },
   {
    "duration": 20,
    "start_time": "2022-02-13T20:23:37.616Z"
   },
   {
    "duration": 192,
    "start_time": "2022-02-13T20:23:37.638Z"
   },
   {
    "duration": 188,
    "start_time": "2022-02-13T20:23:37.832Z"
   },
   {
    "duration": 271,
    "start_time": "2022-02-13T20:23:38.022Z"
   },
   {
    "duration": 197,
    "start_time": "2022-02-13T20:23:38.297Z"
   },
   {
    "duration": 287,
    "start_time": "2022-02-13T20:23:38.497Z"
   },
   {
    "duration": 265,
    "start_time": "2022-02-13T20:23:38.787Z"
   },
   {
    "duration": 259,
    "start_time": "2022-02-13T20:23:39.055Z"
   },
   {
    "duration": 252,
    "start_time": "2022-02-13T20:23:39.317Z"
   },
   {
    "duration": 529,
    "start_time": "2022-02-13T20:23:39.571Z"
   },
   {
    "duration": 29,
    "start_time": "2022-02-13T20:23:40.102Z"
   },
   {
    "duration": 209,
    "start_time": "2022-02-13T20:23:40.133Z"
   },
   {
    "duration": 137,
    "start_time": "2022-02-13T20:23:40.345Z"
   },
   {
    "duration": 166,
    "start_time": "2022-02-13T20:23:40.484Z"
   },
   {
    "duration": 190,
    "start_time": "2022-02-13T20:23:40.652Z"
   },
   {
    "duration": 685,
    "start_time": "2022-02-14T15:31:29.513Z"
   },
   {
    "duration": 51,
    "start_time": "2022-02-14T15:31:30.200Z"
   },
   {
    "duration": 22,
    "start_time": "2022-02-14T15:31:30.253Z"
   },
   {
    "duration": 16,
    "start_time": "2022-02-14T15:31:30.277Z"
   },
   {
    "duration": 13,
    "start_time": "2022-02-14T15:31:30.308Z"
   },
   {
    "duration": 49,
    "start_time": "2022-02-14T15:31:30.322Z"
   },
   {
    "duration": 10,
    "start_time": "2022-02-14T15:31:30.373Z"
   },
   {
    "duration": 23,
    "start_time": "2022-02-14T15:31:30.385Z"
   },
   {
    "duration": 35,
    "start_time": "2022-02-14T15:31:30.412Z"
   },
   {
    "duration": 4,
    "start_time": "2022-02-14T15:31:30.449Z"
   },
   {
    "duration": 19,
    "start_time": "2022-02-14T15:31:30.455Z"
   },
   {
    "duration": 33,
    "start_time": "2022-02-14T15:31:30.476Z"
   },
   {
    "duration": 8,
    "start_time": "2022-02-14T15:31:30.511Z"
   },
   {
    "duration": 18,
    "start_time": "2022-02-14T15:31:30.521Z"
   },
   {
    "duration": 56,
    "start_time": "2022-02-14T15:31:30.541Z"
   },
   {
    "duration": 10,
    "start_time": "2022-02-14T15:31:30.600Z"
   },
   {
    "duration": 43,
    "start_time": "2022-02-14T15:31:30.612Z"
   },
   {
    "duration": 8,
    "start_time": "2022-02-14T15:31:30.657Z"
   },
   {
    "duration": 17,
    "start_time": "2022-02-14T15:31:30.667Z"
   },
   {
    "duration": 18,
    "start_time": "2022-02-14T15:31:30.686Z"
   },
   {
    "duration": 49,
    "start_time": "2022-02-14T15:31:30.706Z"
   },
   {
    "duration": 24,
    "start_time": "2022-02-14T15:31:30.758Z"
   },
   {
    "duration": 37,
    "start_time": "2022-02-14T15:31:30.785Z"
   },
   {
    "duration": 33,
    "start_time": "2022-02-14T15:31:30.825Z"
   },
   {
    "duration": 32,
    "start_time": "2022-02-14T15:31:30.860Z"
   },
   {
    "duration": 22,
    "start_time": "2022-02-14T15:31:30.893Z"
   },
   {
    "duration": 18,
    "start_time": "2022-02-14T15:31:30.920Z"
   },
   {
    "duration": 10,
    "start_time": "2022-02-14T15:31:30.941Z"
   },
   {
    "duration": 9,
    "start_time": "2022-02-14T15:31:30.953Z"
   },
   {
    "duration": 16,
    "start_time": "2022-02-14T15:31:30.964Z"
   },
   {
    "duration": 2684,
    "start_time": "2022-02-14T15:31:30.983Z"
   },
   {
    "duration": 14,
    "start_time": "2022-02-14T15:31:33.670Z"
   },
   {
    "duration": 17,
    "start_time": "2022-02-14T15:31:33.686Z"
   },
   {
    "duration": 10,
    "start_time": "2022-02-14T15:31:33.705Z"
   },
   {
    "duration": 15,
    "start_time": "2022-02-14T15:31:33.718Z"
   },
   {
    "duration": 5,
    "start_time": "2022-02-14T15:31:33.736Z"
   },
   {
    "duration": 13,
    "start_time": "2022-02-14T15:31:33.743Z"
   },
   {
    "duration": 15,
    "start_time": "2022-02-14T15:31:33.759Z"
   },
   {
    "duration": 16,
    "start_time": "2022-02-14T15:31:33.776Z"
   },
   {
    "duration": 5,
    "start_time": "2022-02-14T15:31:33.808Z"
   },
   {
    "duration": 316,
    "start_time": "2022-02-14T15:31:33.816Z"
   },
   {
    "duration": 24,
    "start_time": "2022-02-14T15:31:34.134Z"
   },
   {
    "duration": 33,
    "start_time": "2022-02-14T15:31:34.160Z"
   },
   {
    "duration": 20,
    "start_time": "2022-02-14T15:31:34.208Z"
   },
   {
    "duration": 17,
    "start_time": "2022-02-14T15:31:34.231Z"
   },
   {
    "duration": 16,
    "start_time": "2022-02-14T15:31:34.250Z"
   },
   {
    "duration": 732,
    "start_time": "2022-02-14T15:32:18.157Z"
   },
   {
    "duration": 60,
    "start_time": "2022-02-14T15:32:18.892Z"
   },
   {
    "duration": 23,
    "start_time": "2022-02-14T15:32:18.956Z"
   },
   {
    "duration": 32,
    "start_time": "2022-02-14T15:32:18.982Z"
   },
   {
    "duration": 16,
    "start_time": "2022-02-14T15:32:19.016Z"
   },
   {
    "duration": 62,
    "start_time": "2022-02-14T15:32:19.034Z"
   },
   {
    "duration": 11,
    "start_time": "2022-02-14T15:32:19.098Z"
   },
   {
    "duration": 14,
    "start_time": "2022-02-14T15:32:19.112Z"
   },
   {
    "duration": 43,
    "start_time": "2022-02-14T15:32:19.128Z"
   },
   {
    "duration": 4,
    "start_time": "2022-02-14T15:32:19.173Z"
   },
   {
    "duration": 15,
    "start_time": "2022-02-14T15:32:19.179Z"
   },
   {
    "duration": 12,
    "start_time": "2022-02-14T15:32:19.196Z"
   },
   {
    "duration": 10,
    "start_time": "2022-02-14T15:32:19.211Z"
   },
   {
    "duration": 9,
    "start_time": "2022-02-14T15:32:19.223Z"
   },
   {
    "duration": 47,
    "start_time": "2022-02-14T15:32:19.234Z"
   },
   {
    "duration": 26,
    "start_time": "2022-02-14T15:32:19.284Z"
   },
   {
    "duration": 12,
    "start_time": "2022-02-14T15:32:19.312Z"
   },
   {
    "duration": 8,
    "start_time": "2022-02-14T15:32:19.327Z"
   },
   {
    "duration": 9,
    "start_time": "2022-02-14T15:32:19.336Z"
   },
   {
    "duration": 9,
    "start_time": "2022-02-14T15:32:19.346Z"
   },
   {
    "duration": 17,
    "start_time": "2022-02-14T15:32:19.357Z"
   },
   {
    "duration": 40,
    "start_time": "2022-02-14T15:32:19.377Z"
   },
   {
    "duration": 15,
    "start_time": "2022-02-14T15:32:19.422Z"
   },
   {
    "duration": 31,
    "start_time": "2022-02-14T15:32:19.440Z"
   },
   {
    "duration": 43,
    "start_time": "2022-02-14T15:32:19.473Z"
   },
   {
    "duration": 25,
    "start_time": "2022-02-14T15:32:19.519Z"
   },
   {
    "duration": 24,
    "start_time": "2022-02-14T15:32:19.546Z"
   },
   {
    "duration": 36,
    "start_time": "2022-02-14T15:32:19.573Z"
   },
   {
    "duration": 6,
    "start_time": "2022-02-14T15:32:19.611Z"
   },
   {
    "duration": 5,
    "start_time": "2022-02-14T15:32:19.619Z"
   },
   {
    "duration": 1060,
    "start_time": "2022-02-14T15:32:19.626Z"
   },
   {
    "duration": 19,
    "start_time": "2022-02-14T15:32:20.689Z"
   },
   {
    "duration": 12,
    "start_time": "2022-02-14T15:32:20.710Z"
   },
   {
    "duration": 20,
    "start_time": "2022-02-14T15:32:20.724Z"
   },
   {
    "duration": 19,
    "start_time": "2022-02-14T15:32:20.746Z"
   },
   {
    "duration": 9,
    "start_time": "2022-02-14T15:32:20.767Z"
   },
   {
    "duration": 30,
    "start_time": "2022-02-14T15:32:20.778Z"
   },
   {
    "duration": 23,
    "start_time": "2022-02-14T15:32:20.810Z"
   },
   {
    "duration": 26,
    "start_time": "2022-02-14T15:32:20.835Z"
   },
   {
    "duration": 19,
    "start_time": "2022-02-14T15:32:20.863Z"
   },
   {
    "duration": 272,
    "start_time": "2022-02-14T15:32:20.884Z"
   },
   {
    "duration": 14,
    "start_time": "2022-02-14T15:32:21.159Z"
   },
   {
    "duration": 38,
    "start_time": "2022-02-14T15:32:21.175Z"
   },
   {
    "duration": 19,
    "start_time": "2022-02-14T15:32:21.215Z"
   },
   {
    "duration": 27,
    "start_time": "2022-02-14T15:32:21.236Z"
   },
   {
    "duration": 43,
    "start_time": "2022-02-14T15:32:21.265Z"
   },
   {
    "duration": 92,
    "start_time": "2022-02-14T15:36:24.863Z"
   },
   {
    "duration": 654,
    "start_time": "2022-02-14T15:43:52.684Z"
   },
   {
    "duration": 50,
    "start_time": "2022-02-14T15:43:53.340Z"
   },
   {
    "duration": 26,
    "start_time": "2022-02-14T15:43:53.392Z"
   },
   {
    "duration": 12,
    "start_time": "2022-02-14T15:43:53.421Z"
   },
   {
    "duration": 11,
    "start_time": "2022-02-14T15:43:53.435Z"
   },
   {
    "duration": 61,
    "start_time": "2022-02-14T15:43:53.448Z"
   },
   {
    "duration": 11,
    "start_time": "2022-02-14T15:43:53.511Z"
   },
   {
    "duration": 7,
    "start_time": "2022-02-14T15:43:53.525Z"
   },
   {
    "duration": 27,
    "start_time": "2022-02-14T15:43:53.534Z"
   },
   {
    "duration": 3,
    "start_time": "2022-02-14T15:43:53.563Z"
   },
   {
    "duration": 32,
    "start_time": "2022-02-14T15:43:53.568Z"
   },
   {
    "duration": 6,
    "start_time": "2022-02-14T15:43:53.608Z"
   },
   {
    "duration": 22,
    "start_time": "2022-02-14T15:43:53.616Z"
   },
   {
    "duration": 9,
    "start_time": "2022-02-14T15:43:53.640Z"
   },
   {
    "duration": 38,
    "start_time": "2022-02-14T15:43:53.650Z"
   },
   {
    "duration": 23,
    "start_time": "2022-02-14T15:43:53.689Z"
   },
   {
    "duration": 6,
    "start_time": "2022-02-14T15:43:53.714Z"
   },
   {
    "duration": 5,
    "start_time": "2022-02-14T15:43:53.723Z"
   },
   {
    "duration": 8,
    "start_time": "2022-02-14T15:43:53.729Z"
   },
   {
    "duration": 5,
    "start_time": "2022-02-14T15:43:53.739Z"
   },
   {
    "duration": 24,
    "start_time": "2022-02-14T15:43:53.746Z"
   },
   {
    "duration": 37,
    "start_time": "2022-02-14T15:43:53.772Z"
   },
   {
    "duration": 15,
    "start_time": "2022-02-14T15:43:53.813Z"
   },
   {
    "duration": 18,
    "start_time": "2022-02-14T15:43:53.830Z"
   },
   {
    "duration": 25,
    "start_time": "2022-02-14T15:43:53.850Z"
   },
   {
    "duration": 47,
    "start_time": "2022-02-14T15:43:53.876Z"
   },
   {
    "duration": 17,
    "start_time": "2022-02-14T15:43:53.925Z"
   },
   {
    "duration": 6,
    "start_time": "2022-02-14T15:43:53.944Z"
   },
   {
    "duration": 7,
    "start_time": "2022-02-14T15:43:53.951Z"
   },
   {
    "duration": 5,
    "start_time": "2022-02-14T15:43:53.960Z"
   },
   {
    "duration": 746,
    "start_time": "2022-02-14T15:43:53.967Z"
   },
   {
    "duration": 13,
    "start_time": "2022-02-14T15:43:54.715Z"
   },
   {
    "duration": 14,
    "start_time": "2022-02-14T15:43:54.729Z"
   },
   {
    "duration": 9,
    "start_time": "2022-02-14T15:43:54.745Z"
   },
   {
    "duration": 19,
    "start_time": "2022-02-14T15:43:54.756Z"
   },
   {
    "duration": 30,
    "start_time": "2022-02-14T15:43:54.777Z"
   },
   {
    "duration": 9,
    "start_time": "2022-02-14T15:43:54.809Z"
   },
   {
    "duration": 12,
    "start_time": "2022-02-14T15:43:54.820Z"
   },
   {
    "duration": 14,
    "start_time": "2022-02-14T15:43:54.834Z"
   },
   {
    "duration": 10,
    "start_time": "2022-02-14T15:43:54.850Z"
   },
   {
    "duration": 224,
    "start_time": "2022-02-14T15:43:54.862Z"
   },
   {
    "duration": 20,
    "start_time": "2022-02-14T15:43:55.089Z"
   },
   {
    "duration": 22,
    "start_time": "2022-02-14T15:43:55.111Z"
   },
   {
    "duration": 14,
    "start_time": "2022-02-14T15:43:55.136Z"
   },
   {
    "duration": 15,
    "start_time": "2022-02-14T15:43:55.152Z"
   },
   {
    "duration": 46,
    "start_time": "2022-02-14T15:43:55.169Z"
   },
   {
    "duration": 3,
    "start_time": "2022-02-14T15:47:47.032Z"
   },
   {
    "duration": 30,
    "start_time": "2022-02-14T15:47:48.763Z"
   },
   {
    "duration": 796,
    "start_time": "2022-02-14T15:48:26.783Z"
   },
   {
    "duration": 83,
    "start_time": "2022-02-14T15:48:27.582Z"
   },
   {
    "duration": 40,
    "start_time": "2022-02-14T15:48:27.669Z"
   },
   {
    "duration": 13,
    "start_time": "2022-02-14T15:48:27.712Z"
   },
   {
    "duration": 11,
    "start_time": "2022-02-14T15:48:27.727Z"
   },
   {
    "duration": 42,
    "start_time": "2022-02-14T15:48:27.740Z"
   },
   {
    "duration": 32,
    "start_time": "2022-02-14T15:48:27.784Z"
   },
   {
    "duration": 3,
    "start_time": "2022-02-14T15:48:27.819Z"
   },
   {
    "duration": 29,
    "start_time": "2022-02-14T15:48:27.825Z"
   },
   {
    "duration": 3,
    "start_time": "2022-02-14T15:48:27.858Z"
   },
   {
    "duration": 43,
    "start_time": "2022-02-14T15:48:27.864Z"
   },
   {
    "duration": 7,
    "start_time": "2022-02-14T15:48:27.910Z"
   },
   {
    "duration": 18,
    "start_time": "2022-02-14T15:48:27.919Z"
   },
   {
    "duration": 10,
    "start_time": "2022-02-14T15:48:27.939Z"
   },
   {
    "duration": 40,
    "start_time": "2022-02-14T15:48:27.952Z"
   },
   {
    "duration": 22,
    "start_time": "2022-02-14T15:48:27.994Z"
   },
   {
    "duration": 9,
    "start_time": "2022-02-14T15:48:28.019Z"
   },
   {
    "duration": 10,
    "start_time": "2022-02-14T15:48:28.030Z"
   },
   {
    "duration": 11,
    "start_time": "2022-02-14T15:48:28.042Z"
   },
   {
    "duration": 16,
    "start_time": "2022-02-14T15:48:28.056Z"
   },
   {
    "duration": 40,
    "start_time": "2022-02-14T15:48:28.074Z"
   },
   {
    "duration": 12,
    "start_time": "2022-02-14T15:48:28.116Z"
   },
   {
    "duration": 16,
    "start_time": "2022-02-14T15:48:28.132Z"
   },
   {
    "duration": 22,
    "start_time": "2022-02-14T15:48:28.151Z"
   },
   {
    "duration": 56,
    "start_time": "2022-02-14T15:48:28.175Z"
   },
   {
    "duration": 19,
    "start_time": "2022-02-14T15:48:28.233Z"
   },
   {
    "duration": 18,
    "start_time": "2022-02-14T15:48:28.254Z"
   },
   {
    "duration": 6,
    "start_time": "2022-02-14T15:48:28.274Z"
   },
   {
    "duration": 12,
    "start_time": "2022-02-14T15:48:28.308Z"
   },
   {
    "duration": 6,
    "start_time": "2022-02-14T15:48:28.322Z"
   },
   {
    "duration": 742,
    "start_time": "2022-02-14T15:48:28.330Z"
   },
   {
    "duration": 13,
    "start_time": "2022-02-14T15:48:29.074Z"
   },
   {
    "duration": 29,
    "start_time": "2022-02-14T15:48:29.089Z"
   },
   {
    "duration": 10,
    "start_time": "2022-02-14T15:48:29.120Z"
   },
   {
    "duration": 16,
    "start_time": "2022-02-14T15:48:29.132Z"
   },
   {
    "duration": 6,
    "start_time": "2022-02-14T15:48:29.150Z"
   },
   {
    "duration": 19,
    "start_time": "2022-02-14T15:48:29.158Z"
   },
   {
    "duration": 35,
    "start_time": "2022-02-14T15:48:29.179Z"
   },
   {
    "duration": 13,
    "start_time": "2022-02-14T15:48:29.217Z"
   },
   {
    "duration": 9,
    "start_time": "2022-02-14T15:48:29.231Z"
   },
   {
    "duration": 338,
    "start_time": "2022-02-14T15:48:29.242Z"
   },
   {
    "duration": 31,
    "start_time": "2022-02-14T15:48:29.583Z"
   },
   {
    "duration": 31,
    "start_time": "2022-02-14T15:48:29.617Z"
   },
   {
    "duration": 22,
    "start_time": "2022-02-14T15:48:29.651Z"
   },
   {
    "duration": 40,
    "start_time": "2022-02-14T15:48:29.675Z"
   },
   {
    "duration": 18,
    "start_time": "2022-02-14T15:48:29.717Z"
   },
   {
    "duration": 716,
    "start_time": "2022-02-15T12:40:33.908Z"
   },
   {
    "duration": 60,
    "start_time": "2022-02-15T12:40:34.627Z"
   },
   {
    "duration": 30,
    "start_time": "2022-02-15T12:40:34.690Z"
   },
   {
    "duration": 33,
    "start_time": "2022-02-15T12:40:34.723Z"
   },
   {
    "duration": 13,
    "start_time": "2022-02-15T12:40:34.758Z"
   },
   {
    "duration": 47,
    "start_time": "2022-02-15T12:40:34.774Z"
   },
   {
    "duration": 12,
    "start_time": "2022-02-15T12:40:34.849Z"
   },
   {
    "duration": 9,
    "start_time": "2022-02-15T12:40:34.865Z"
   },
   {
    "duration": 35,
    "start_time": "2022-02-15T12:40:34.877Z"
   },
   {
    "duration": 4,
    "start_time": "2022-02-15T12:40:34.914Z"
   },
   {
    "duration": 38,
    "start_time": "2022-02-15T12:40:34.920Z"
   },
   {
    "duration": 8,
    "start_time": "2022-02-15T12:40:34.960Z"
   },
   {
    "duration": 22,
    "start_time": "2022-02-15T12:40:34.970Z"
   },
   {
    "duration": 22,
    "start_time": "2022-02-15T12:40:34.995Z"
   },
   {
    "duration": 61,
    "start_time": "2022-02-15T12:40:35.019Z"
   },
   {
    "duration": 11,
    "start_time": "2022-02-15T12:40:35.082Z"
   },
   {
    "duration": 9,
    "start_time": "2022-02-15T12:40:35.095Z"
   },
   {
    "duration": 26,
    "start_time": "2022-02-15T12:40:35.107Z"
   },
   {
    "duration": 21,
    "start_time": "2022-02-15T12:40:35.136Z"
   },
   {
    "duration": 25,
    "start_time": "2022-02-15T12:40:35.160Z"
   },
   {
    "duration": 18,
    "start_time": "2022-02-15T12:40:35.188Z"
   },
   {
    "duration": 16,
    "start_time": "2022-02-15T12:40:35.208Z"
   },
   {
    "duration": 37,
    "start_time": "2022-02-15T12:40:35.229Z"
   },
   {
    "duration": 37,
    "start_time": "2022-02-15T12:40:35.270Z"
   },
   {
    "duration": 44,
    "start_time": "2022-02-15T12:40:35.310Z"
   },
   {
    "duration": 22,
    "start_time": "2022-02-15T12:40:35.357Z"
   },
   {
    "duration": 20,
    "start_time": "2022-02-15T12:40:35.382Z"
   },
   {
    "duration": 7,
    "start_time": "2022-02-15T12:40:35.405Z"
   },
   {
    "duration": 6,
    "start_time": "2022-02-15T12:40:35.448Z"
   },
   {
    "duration": 17,
    "start_time": "2022-02-15T12:40:35.456Z"
   },
   {
    "duration": 963,
    "start_time": "2022-02-15T12:40:35.476Z"
   },
   {
    "duration": 15,
    "start_time": "2022-02-15T12:40:36.449Z"
   },
   {
    "duration": 21,
    "start_time": "2022-02-15T12:40:36.467Z"
   },
   {
    "duration": 17,
    "start_time": "2022-02-15T12:40:36.491Z"
   },
   {
    "duration": 37,
    "start_time": "2022-02-15T12:40:36.511Z"
   },
   {
    "duration": 16,
    "start_time": "2022-02-15T12:40:36.551Z"
   },
   {
    "duration": 24,
    "start_time": "2022-02-15T12:40:36.569Z"
   },
   {
    "duration": 24,
    "start_time": "2022-02-15T12:40:36.595Z"
   },
   {
    "duration": 33,
    "start_time": "2022-02-15T12:40:36.623Z"
   },
   {
    "duration": 18,
    "start_time": "2022-02-15T12:40:36.659Z"
   },
   {
    "duration": 351,
    "start_time": "2022-02-15T12:40:36.680Z"
   },
   {
    "duration": 30,
    "start_time": "2022-02-15T12:40:37.033Z"
   },
   {
    "duration": 31,
    "start_time": "2022-02-15T12:40:37.065Z"
   },
   {
    "duration": 17,
    "start_time": "2022-02-15T12:40:37.099Z"
   },
   {
    "duration": 49,
    "start_time": "2022-02-15T12:40:37.118Z"
   },
   {
    "duration": 27,
    "start_time": "2022-02-15T12:40:37.170Z"
   },
   {
    "duration": 360,
    "start_time": "2022-10-10T15:29:06.749Z"
   },
   {
    "duration": 292,
    "start_time": "2022-10-10T15:29:07.111Z"
   },
   {
    "duration": 17,
    "start_time": "2022-10-10T15:29:07.405Z"
   },
   {
    "duration": 12,
    "start_time": "2022-10-10T15:29:07.424Z"
   },
   {
    "duration": 7,
    "start_time": "2022-10-10T15:29:07.438Z"
   },
   {
    "duration": 27,
    "start_time": "2022-10-10T15:29:07.446Z"
   },
   {
    "duration": 8,
    "start_time": "2022-10-10T15:29:07.474Z"
   },
   {
    "duration": 40,
    "start_time": "2022-10-10T15:29:07.483Z"
   },
   {
    "duration": 63,
    "start_time": "2022-10-10T15:29:07.525Z"
   },
   {
    "duration": 0,
    "start_time": "2022-10-10T15:29:07.590Z"
   },
   {
    "duration": 0,
    "start_time": "2022-10-10T15:29:07.592Z"
   },
   {
    "duration": 0,
    "start_time": "2022-10-10T15:29:07.593Z"
   },
   {
    "duration": 0,
    "start_time": "2022-10-10T15:29:07.609Z"
   },
   {
    "duration": 0,
    "start_time": "2022-10-10T15:29:07.610Z"
   },
   {
    "duration": 0,
    "start_time": "2022-10-10T15:29:07.611Z"
   },
   {
    "duration": 0,
    "start_time": "2022-10-10T15:29:07.612Z"
   },
   {
    "duration": 0,
    "start_time": "2022-10-10T15:29:07.613Z"
   },
   {
    "duration": 0,
    "start_time": "2022-10-10T15:29:07.614Z"
   },
   {
    "duration": 0,
    "start_time": "2022-10-10T15:29:07.615Z"
   },
   {
    "duration": 0,
    "start_time": "2022-10-10T15:29:07.615Z"
   },
   {
    "duration": 0,
    "start_time": "2022-10-10T15:29:07.616Z"
   },
   {
    "duration": 0,
    "start_time": "2022-10-10T15:29:07.617Z"
   },
   {
    "duration": 0,
    "start_time": "2022-10-10T15:29:07.618Z"
   },
   {
    "duration": 0,
    "start_time": "2022-10-10T15:29:07.620Z"
   },
   {
    "duration": 0,
    "start_time": "2022-10-10T15:29:07.620Z"
   },
   {
    "duration": 0,
    "start_time": "2022-10-10T15:29:07.621Z"
   },
   {
    "duration": 0,
    "start_time": "2022-10-10T15:29:07.622Z"
   },
   {
    "duration": 0,
    "start_time": "2022-10-10T15:29:07.623Z"
   },
   {
    "duration": 0,
    "start_time": "2022-10-10T15:29:07.624Z"
   },
   {
    "duration": 0,
    "start_time": "2022-10-10T15:29:07.624Z"
   },
   {
    "duration": 0,
    "start_time": "2022-10-10T15:29:07.625Z"
   },
   {
    "duration": 0,
    "start_time": "2022-10-10T15:29:07.626Z"
   },
   {
    "duration": 0,
    "start_time": "2022-10-10T15:29:07.627Z"
   },
   {
    "duration": 0,
    "start_time": "2022-10-10T15:29:07.628Z"
   },
   {
    "duration": 0,
    "start_time": "2022-10-10T15:29:07.629Z"
   },
   {
    "duration": 0,
    "start_time": "2022-10-10T15:29:07.630Z"
   },
   {
    "duration": 0,
    "start_time": "2022-10-10T15:29:07.630Z"
   },
   {
    "duration": 0,
    "start_time": "2022-10-10T15:29:07.631Z"
   },
   {
    "duration": 0,
    "start_time": "2022-10-10T15:29:07.632Z"
   },
   {
    "duration": 0,
    "start_time": "2022-10-10T15:29:07.633Z"
   },
   {
    "duration": 0,
    "start_time": "2022-10-10T15:29:07.634Z"
   },
   {
    "duration": 0,
    "start_time": "2022-10-10T15:29:07.635Z"
   },
   {
    "duration": 0,
    "start_time": "2022-10-10T15:29:07.636Z"
   },
   {
    "duration": 0,
    "start_time": "2022-10-10T15:29:07.637Z"
   },
   {
    "duration": 0,
    "start_time": "2022-10-10T15:29:07.638Z"
   },
   {
    "duration": 0,
    "start_time": "2022-10-10T15:29:07.639Z"
   },
   {
    "duration": 22,
    "start_time": "2022-10-10T15:30:04.557Z"
   },
   {
    "duration": 4,
    "start_time": "2022-10-10T15:30:40.522Z"
   },
   {
    "duration": 4,
    "start_time": "2022-10-10T15:30:57.089Z"
   },
   {
    "duration": 7,
    "start_time": "2022-10-10T15:30:59.321Z"
   },
   {
    "duration": 21,
    "start_time": "2022-10-10T15:31:10.655Z"
   },
   {
    "duration": 3,
    "start_time": "2022-10-10T15:31:21.462Z"
   },
   {
    "duration": 8,
    "start_time": "2022-10-10T15:31:22.184Z"
   },
   {
    "duration": 476,
    "start_time": "2023-02-06T08:36:28.396Z"
   },
   {
    "duration": 173,
    "start_time": "2023-02-06T08:36:28.874Z"
   },
   {
    "duration": 26,
    "start_time": "2023-02-06T08:36:29.049Z"
   },
   {
    "duration": 32,
    "start_time": "2023-02-06T08:36:29.077Z"
   },
   {
    "duration": 15,
    "start_time": "2023-02-06T08:36:29.111Z"
   },
   {
    "duration": 46,
    "start_time": "2023-02-06T08:36:29.128Z"
   },
   {
    "duration": 12,
    "start_time": "2023-02-06T08:36:29.176Z"
   },
   {
    "duration": 5,
    "start_time": "2023-02-06T08:36:29.190Z"
   },
   {
    "duration": 54,
    "start_time": "2023-02-06T08:36:29.196Z"
   },
   {
    "duration": 4,
    "start_time": "2023-02-06T08:36:29.252Z"
   },
   {
    "duration": 14,
    "start_time": "2023-02-06T08:36:29.258Z"
   },
   {
    "duration": 21,
    "start_time": "2023-02-06T08:36:29.273Z"
   },
   {
    "duration": 12,
    "start_time": "2023-02-06T08:36:29.296Z"
   },
   {
    "duration": 5,
    "start_time": "2023-02-06T08:36:29.310Z"
   },
   {
    "duration": 44,
    "start_time": "2023-02-06T08:36:29.317Z"
   },
   {
    "duration": 12,
    "start_time": "2023-02-06T08:36:29.363Z"
   },
   {
    "duration": 5,
    "start_time": "2023-02-06T08:36:29.377Z"
   },
   {
    "duration": 6,
    "start_time": "2023-02-06T08:36:29.384Z"
   },
   {
    "duration": 6,
    "start_time": "2023-02-06T08:36:29.392Z"
   },
   {
    "duration": 8,
    "start_time": "2023-02-06T08:36:29.399Z"
   },
   {
    "duration": 42,
    "start_time": "2023-02-06T08:36:29.409Z"
   },
   {
    "duration": 11,
    "start_time": "2023-02-06T08:36:29.453Z"
   },
   {
    "duration": 24,
    "start_time": "2023-02-06T08:36:29.465Z"
   },
   {
    "duration": 20,
    "start_time": "2023-02-06T08:36:29.492Z"
   },
   {
    "duration": 54,
    "start_time": "2023-02-06T08:36:29.514Z"
   },
   {
    "duration": 22,
    "start_time": "2023-02-06T08:36:29.570Z"
   },
   {
    "duration": 17,
    "start_time": "2023-02-06T08:36:29.594Z"
   },
   {
    "duration": 26,
    "start_time": "2023-02-06T08:36:29.615Z"
   },
   {
    "duration": 4,
    "start_time": "2023-02-06T08:36:29.643Z"
   },
   {
    "duration": 1223,
    "start_time": "2023-02-06T08:36:29.649Z"
   },
   {
    "duration": 12,
    "start_time": "2023-02-06T08:36:30.873Z"
   },
   {
    "duration": 41,
    "start_time": "2023-02-06T08:36:30.886Z"
   },
   {
    "duration": 28,
    "start_time": "2023-02-06T08:36:30.929Z"
   },
   {
    "duration": 47,
    "start_time": "2023-02-06T08:36:30.958Z"
   },
   {
    "duration": 21,
    "start_time": "2023-02-06T08:36:31.006Z"
   },
   {
    "duration": 35,
    "start_time": "2023-02-06T08:36:31.029Z"
   },
   {
    "duration": 15,
    "start_time": "2023-02-06T08:36:31.066Z"
   },
   {
    "duration": 22,
    "start_time": "2023-02-06T08:36:31.082Z"
   },
   {
    "duration": 33,
    "start_time": "2023-02-06T08:36:31.106Z"
   },
   {
    "duration": 128,
    "start_time": "2023-02-06T08:36:31.142Z"
   },
   {
    "duration": 13,
    "start_time": "2023-02-06T08:36:31.272Z"
   },
   {
    "duration": 30,
    "start_time": "2023-02-06T08:36:31.287Z"
   },
   {
    "duration": 24,
    "start_time": "2023-02-06T08:36:31.320Z"
   },
   {
    "duration": 28,
    "start_time": "2023-02-06T08:36:31.346Z"
   },
   {
    "duration": 20,
    "start_time": "2023-02-06T08:36:31.375Z"
   }
  ],
  "kernelspec": {
   "display_name": "Python 3 (ipykernel)",
   "language": "python",
   "name": "python3"
  },
  "language_info": {
   "codemirror_mode": {
    "name": "ipython",
    "version": 3
   },
   "file_extension": ".py",
   "mimetype": "text/x-python",
   "name": "python",
   "nbconvert_exporter": "python",
   "pygments_lexer": "ipython3",
   "version": "3.9.5"
  },
  "toc": {
   "base_numbering": 1,
   "nav_menu": {},
   "number_sections": true,
   "sideBar": true,
   "skip_h1_title": true,
   "title_cell": "Table of Contents",
   "title_sidebar": "Contents",
   "toc_cell": false,
   "toc_position": {},
   "toc_section_display": true,
   "toc_window_display": false
  }
 },
 "nbformat": 4,
 "nbformat_minor": 2
}
