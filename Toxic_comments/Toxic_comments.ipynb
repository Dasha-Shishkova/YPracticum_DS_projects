{
 "cells": [
  {
   "cell_type": "markdown",
   "metadata": {},
   "source": [
    "## Подготовка"
   ]
  },
  {
   "cell_type": "code",
   "execution_count": 1,
   "metadata": {},
   "outputs": [],
   "source": [
    "import pandas as pd\n",
    "import nltk\n",
    "import re\n",
    "from nltk.stem import WordNetLemmatizer\n",
    "from nltk.corpus import stopwords\n",
    "from sklearn.model_selection import train_test_split\n",
    "from sklearn.feature_extraction.text import TfidfVectorizer \n",
    "from sklearn.linear_model import LogisticRegression\n",
    "from sklearn.metrics import f1_score\n",
    "from sklearn.model_selection import GridSearchCV\n",
    "from sklearn.ensemble import RandomForestClassifier\n",
    "from sklearn.tree import DecisionTreeClassifier \n",
    "from nltk.corpus import wordnet"
   ]
  },
  {
   "cell_type": "code",
   "execution_count": 2,
   "metadata": {},
   "outputs": [],
   "source": [
    "data = pd.read_csv('/datasets/toxic_comments.csv')"
   ]
  },
  {
   "cell_type": "code",
   "execution_count": 3,
   "metadata": {},
   "outputs": [
    {
     "data": {
      "text/html": [
       "<div>\n",
       "<style scoped>\n",
       "    .dataframe tbody tr th:only-of-type {\n",
       "        vertical-align: middle;\n",
       "    }\n",
       "\n",
       "    .dataframe tbody tr th {\n",
       "        vertical-align: top;\n",
       "    }\n",
       "\n",
       "    .dataframe thead th {\n",
       "        text-align: right;\n",
       "    }\n",
       "</style>\n",
       "<table border=\"1\" class=\"dataframe\">\n",
       "  <thead>\n",
       "    <tr style=\"text-align: right;\">\n",
       "      <th></th>\n",
       "      <th>text</th>\n",
       "      <th>toxic</th>\n",
       "    </tr>\n",
       "  </thead>\n",
       "  <tbody>\n",
       "    <tr>\n",
       "      <th>0</th>\n",
       "      <td>Explanation\\nWhy the edits made under my usern...</td>\n",
       "      <td>0</td>\n",
       "    </tr>\n",
       "    <tr>\n",
       "      <th>1</th>\n",
       "      <td>D'aww! He matches this background colour I'm s...</td>\n",
       "      <td>0</td>\n",
       "    </tr>\n",
       "    <tr>\n",
       "      <th>2</th>\n",
       "      <td>Hey man, I'm really not trying to edit war. It...</td>\n",
       "      <td>0</td>\n",
       "    </tr>\n",
       "    <tr>\n",
       "      <th>3</th>\n",
       "      <td>\"\\nMore\\nI can't make any real suggestions on ...</td>\n",
       "      <td>0</td>\n",
       "    </tr>\n",
       "    <tr>\n",
       "      <th>4</th>\n",
       "      <td>You, sir, are my hero. Any chance you remember...</td>\n",
       "      <td>0</td>\n",
       "    </tr>\n",
       "  </tbody>\n",
       "</table>\n",
       "</div>"
      ],
      "text/plain": [
       "                                                text  toxic\n",
       "0  Explanation\\nWhy the edits made under my usern...      0\n",
       "1  D'aww! He matches this background colour I'm s...      0\n",
       "2  Hey man, I'm really not trying to edit war. It...      0\n",
       "3  \"\\nMore\\nI can't make any real suggestions on ...      0\n",
       "4  You, sir, are my hero. Any chance you remember...      0"
      ]
     },
     "execution_count": 3,
     "metadata": {},
     "output_type": "execute_result"
    }
   ],
   "source": [
    "data.head()"
   ]
  },
  {
   "cell_type": "code",
   "execution_count": 4,
   "metadata": {},
   "outputs": [
    {
     "data": {
      "text/plain": [
       "\"Explanation\\nWhy the edits made under my username Hardcore Metallica Fan were reverted? They weren't vandalisms, just closure on some GAs after I voted at New York Dolls FAC. And please don't remove the template from the talk page since I'm retired now.89.205.38.27\""
      ]
     },
     "execution_count": 4,
     "metadata": {},
     "output_type": "execute_result"
    }
   ],
   "source": [
    "data['text'][0]"
   ]
  },
  {
   "cell_type": "code",
   "execution_count": 5,
   "metadata": {},
   "outputs": [
    {
     "name": "stdout",
     "output_type": "stream",
     "text": [
      "<class 'pandas.core.frame.DataFrame'>\n",
      "RangeIndex: 159571 entries, 0 to 159570\n",
      "Data columns (total 2 columns):\n",
      " #   Column  Non-Null Count   Dtype \n",
      "---  ------  --------------   ----- \n",
      " 0   text    159571 non-null  object\n",
      " 1   toxic   159571 non-null  int64 \n",
      "dtypes: int64(1), object(1)\n",
      "memory usage: 2.4+ MB\n"
     ]
    }
   ],
   "source": [
    "data.info()"
   ]
  },
  {
   "cell_type": "code",
   "execution_count": 6,
   "metadata": {},
   "outputs": [
    {
     "data": {
      "text/plain": [
       "0"
      ]
     },
     "execution_count": 6,
     "metadata": {},
     "output_type": "execute_result"
    }
   ],
   "source": [
    "data.duplicated().sum()"
   ]
  },
  {
   "cell_type": "code",
   "execution_count": 7,
   "metadata": {},
   "outputs": [
    {
     "data": {
      "text/plain": [
       "0    0.898321\n",
       "1    0.101679\n",
       "Name: toxic, dtype: float64"
      ]
     },
     "execution_count": 7,
     "metadata": {},
     "output_type": "execute_result"
    }
   ],
   "source": [
    "(data['toxic'].value_counts())/len(data['toxic'])"
   ]
  },
  {
   "cell_type": "markdown",
   "metadata": {},
   "source": [
    "В таблице нет пропусков и дубликатов. Целевым признаков является столбец 'toxic'. В тексте комментариев содержатся знаки препинания, разделители строк, цифры. Необходимо привести слова к начальной форме и буквы к нижнему регистру, а также очистить текст от лишних символов."
   ]
  },
  {
   "cell_type": "code",
   "execution_count": 8,
   "metadata": {},
   "outputs": [
    {
     "data": {
      "text/plain": [
       "0    explanation\\nwhy the edits made under my usern...\n",
       "1    d'aww! he matches this background colour i'm s...\n",
       "2    hey man, i'm really not trying to edit war. it...\n",
       "3    \"\\nmore\\ni can't make any real suggestions on ...\n",
       "4    you, sir, are my hero. any chance you remember...\n",
       "Name: text, dtype: object"
      ]
     },
     "execution_count": 8,
     "metadata": {},
     "output_type": "execute_result"
    }
   ],
   "source": [
    "# приведение к нижнему регистру\n",
    "data['text'] = data['text'].str.lower()\n",
    "data['text'].head()"
   ]
  },
  {
   "cell_type": "code",
   "execution_count": 9,
   "metadata": {},
   "outputs": [
    {
     "name": "stderr",
     "output_type": "stream",
     "text": [
      "[nltk_data] Downloading package averaged_perceptron_tagger to\n",
      "[nltk_data]     /home/jovyan/nltk_data...\n",
      "[nltk_data]   Package averaged_perceptron_tagger is already up-to-\n",
      "[nltk_data]       date!\n",
      "[nltk_data] Downloading package omw-1.4 to /home/jovyan/nltk_data...\n",
      "[nltk_data]   Package omw-1.4 is already up-to-date!\n",
      "[nltk_data] Downloading package punkt to /home/jovyan/nltk_data...\n",
      "[nltk_data]   Package punkt is already up-to-date!\n"
     ]
    },
    {
     "data": {
      "text/plain": [
       "True"
      ]
     },
     "execution_count": 9,
     "metadata": {},
     "output_type": "execute_result"
    }
   ],
   "source": [
    "nltk.download('averaged_perceptron_tagger')   \n",
    "nltk.download('omw-1.4')   \n",
    "nltk.download('punkt') "
   ]
  },
  {
   "cell_type": "code",
   "execution_count": 10,
   "metadata": {},
   "outputs": [
    {
     "name": "stdout",
     "output_type": "stream",
     "text": [
      "CPU times: user 18min 6s, sys: 1min 44s, total: 19min 50s\n",
      "Wall time: 19min 54s\n"
     ]
    }
   ],
   "source": [
    "%%time\n",
    "\n",
    "# лемматизация\n",
    "lemmatizer = WordNetLemmatizer()\n",
    "\n",
    "# функция для нахождения правильного POS-тега\n",
    "def get_wordnet_pos(word):\n",
    "    tag = nltk.pos_tag([word])[0][1][0].upper()\n",
    "    tag_dict = {\"J\": wordnet.ADJ,\n",
    "                \"N\": wordnet.NOUN,\n",
    "                \"V\": wordnet.VERB,\n",
    "                \"R\": wordnet.ADV}\n",
    "    return tag_dict.get(tag, wordnet.NOUN)\n",
    "\n",
    "data['text'] = data['text'].apply(lambda line:\n",
    "                                   [lemmatizer.lemmatize(word, get_wordnet_pos(word)) for word in line.split()])"
   ]
  },
  {
   "cell_type": "code",
   "execution_count": 11,
   "metadata": {},
   "outputs": [
    {
     "data": {
      "text/plain": [
       "0    [explanation, why, the, edits, make, under, my...\n",
       "1    [d'aww!, he, match, this, background, colour, ...\n",
       "2    [hey, man,, i'm, really, not, try, to, edit, w...\n",
       "3    [\", more, i, can't, make, any, real, suggestio...\n",
       "4    [you,, sir,, be, my, hero., any, chance, you, ...\n",
       "Name: text, dtype: object"
      ]
     },
     "execution_count": 11,
     "metadata": {},
     "output_type": "execute_result"
    }
   ],
   "source": [
    "data['text'].head()"
   ]
  },
  {
   "cell_type": "code",
   "execution_count": 12,
   "metadata": {},
   "outputs": [],
   "source": [
    "# очистка от лишних символов\n",
    "def clear_text(text):\n",
    "    \n",
    "    # оставим только английские буквы, что не подходит, заменим пробелами\n",
    "    text = re.sub(r'[^a-z]', ' ', str(text))\n",
    "    \n",
    "    # удаление лишних пробелов\n",
    "    text = text.split()\n",
    "    text = ' '.join(text)\n",
    "    return text"
   ]
  },
  {
   "cell_type": "code",
   "execution_count": 13,
   "metadata": {},
   "outputs": [
    {
     "data": {
      "text/html": [
       "<div>\n",
       "<style scoped>\n",
       "    .dataframe tbody tr th:only-of-type {\n",
       "        vertical-align: middle;\n",
       "    }\n",
       "\n",
       "    .dataframe tbody tr th {\n",
       "        vertical-align: top;\n",
       "    }\n",
       "\n",
       "    .dataframe thead th {\n",
       "        text-align: right;\n",
       "    }\n",
       "</style>\n",
       "<table border=\"1\" class=\"dataframe\">\n",
       "  <thead>\n",
       "    <tr style=\"text-align: right;\">\n",
       "      <th></th>\n",
       "      <th>text</th>\n",
       "      <th>toxic</th>\n",
       "    </tr>\n",
       "  </thead>\n",
       "  <tbody>\n",
       "    <tr>\n",
       "      <th>0</th>\n",
       "      <td>explanation why the edits make under my userna...</td>\n",
       "      <td>0</td>\n",
       "    </tr>\n",
       "    <tr>\n",
       "      <th>1</th>\n",
       "      <td>d aww he match this background colour i m seem...</td>\n",
       "      <td>0</td>\n",
       "    </tr>\n",
       "    <tr>\n",
       "      <th>2</th>\n",
       "      <td>hey man i m really not try to edit war it s ju...</td>\n",
       "      <td>0</td>\n",
       "    </tr>\n",
       "    <tr>\n",
       "      <th>3</th>\n",
       "      <td>more i can t make any real suggestion on impro...</td>\n",
       "      <td>0</td>\n",
       "    </tr>\n",
       "    <tr>\n",
       "      <th>4</th>\n",
       "      <td>you sir be my hero any chance you remember wha...</td>\n",
       "      <td>0</td>\n",
       "    </tr>\n",
       "  </tbody>\n",
       "</table>\n",
       "</div>"
      ],
      "text/plain": [
       "                                                text  toxic\n",
       "0  explanation why the edits make under my userna...      0\n",
       "1  d aww he match this background colour i m seem...      0\n",
       "2  hey man i m really not try to edit war it s ju...      0\n",
       "3  more i can t make any real suggestion on impro...      0\n",
       "4  you sir be my hero any chance you remember wha...      0"
      ]
     },
     "execution_count": 13,
     "metadata": {},
     "output_type": "execute_result"
    }
   ],
   "source": [
    "data['text'] = data['text'].apply(clear_text)\n",
    "data.head()"
   ]
  },
  {
   "cell_type": "markdown",
   "metadata": {},
   "source": [
    "Была произведена предварительная обработка текста для дальнейшего анализа."
   ]
  },
  {
   "cell_type": "markdown",
   "metadata": {},
   "source": [
    "## Обучение"
   ]
  },
  {
   "cell_type": "markdown",
   "metadata": {},
   "source": [
    "### Создание признаков"
   ]
  },
  {
   "cell_type": "code",
   "execution_count": 14,
   "metadata": {},
   "outputs": [
    {
     "data": {
      "text/plain": [
       "((127656,), (127656,), (31915,), (31915,))"
      ]
     },
     "execution_count": 14,
     "metadata": {},
     "output_type": "execute_result"
    }
   ],
   "source": [
    "features = data['text']\n",
    "target = data['toxic']\n",
    "features_train, features_test, target_train, target_test = (\n",
    "    train_test_split(features, target, test_size = 0.2, random_state = 12345))\n",
    "\n",
    "features_train.shape, target_train.shape, features_test.shape, target_test.shape"
   ]
  },
  {
   "cell_type": "code",
   "execution_count": 15,
   "metadata": {},
   "outputs": [
    {
     "name": "stderr",
     "output_type": "stream",
     "text": [
      "[nltk_data] Downloading package stopwords to /home/jovyan/nltk_data...\n",
      "[nltk_data]   Package stopwords is already up-to-date!\n"
     ]
    }
   ],
   "source": [
    "# получим список стоп-слов и передадим его в счетчик TF-IDF\n",
    "nltk.download('stopwords')\n",
    "stop_words = set(stopwords.words('english'))\n",
    "count_tf_idf = TfidfVectorizer(stop_words=stop_words, min_df=2) "
   ]
  },
  {
   "cell_type": "code",
   "execution_count": 16,
   "metadata": {},
   "outputs": [
    {
     "data": {
      "text/plain": [
       "((127656, 58834), (31915, 58834))"
      ]
     },
     "execution_count": 16,
     "metadata": {},
     "output_type": "execute_result"
    }
   ],
   "source": [
    "# вычислим TF-IDF для корпуса текстов\n",
    "tf_idf_train = count_tf_idf.fit_transform(features_train)\n",
    "tf_idf_test = count_tf_idf.transform(features_test)\n",
    "tf_idf_train.shape, tf_idf_test.shape"
   ]
  },
  {
   "cell_type": "markdown",
   "metadata": {},
   "source": [
    "### Логистическая регрессия"
   ]
  },
  {
   "cell_type": "code",
   "execution_count": 17,
   "metadata": {},
   "outputs": [
    {
     "name": "stdout",
     "output_type": "stream",
     "text": [
      "CPU times: user 26.9 s, sys: 21.4 s, total: 48.3 s\n",
      "Wall time: 48.3 s\n"
     ]
    },
    {
     "data": {
      "text/plain": [
       "{'max_iter': 500, 'penalty': 'l1'}"
      ]
     },
     "execution_count": 17,
     "metadata": {},
     "output_type": "execute_result"
    }
   ],
   "source": [
    "%%time\n",
    "\n",
    "model_logr = LogisticRegression(solver='liblinear')\n",
    "params_logr = {'penalty': ['l1', 'l2'], 'max_iter': (100, 500)}\n",
    "grid_logr = GridSearchCV(model_logr, params_logr, cv=3)\n",
    "grid_logr.fit(tf_idf_train, target_train)\n",
    "grid_logr.best_params_"
   ]
  },
  {
   "cell_type": "code",
   "execution_count": 18,
   "metadata": {},
   "outputs": [
    {
     "data": {
      "text/plain": [
       "0.7707676130389065"
      ]
     },
     "execution_count": 18,
     "metadata": {},
     "output_type": "execute_result"
    }
   ],
   "source": [
    "model_logr = LogisticRegression(random_state = 12345, penalty = 'l1', solver='liblinear', max_iter=100)\n",
    "model_logr.fit(tf_idf_train, target_train)\n",
    "predictions_logr = model_logr.predict(tf_idf_test)\n",
    "f1_logr = f1_score(target_test, predictions_logr)\n",
    "f1_logr"
   ]
  },
  {
   "cell_type": "code",
   "execution_count": 19,
   "metadata": {},
   "outputs": [
    {
     "data": {
      "text/plain": [
       "0.7454545454545454"
      ]
     },
     "execution_count": 19,
     "metadata": {},
     "output_type": "execute_result"
    }
   ],
   "source": [
    "# добавлим аргумент class_weight='balanced' к модели Логистическая регрессия\n",
    "model_logr_cl = LogisticRegression(random_state = 12345, penalty = 'l1', \n",
    "                                   solver='liblinear', max_iter=100, class_weight='balanced')\n",
    "model_logr_cl.fit(tf_idf_train, target_train)\n",
    "predictions_logr_cl = model_logr_cl.predict(tf_idf_test)\n",
    "f1_logr_cl = f1_score(target_test, predictions_logr_cl)\n",
    "f1_logr_cl"
   ]
  },
  {
   "cell_type": "markdown",
   "metadata": {},
   "source": [
    "### Решающее дерево"
   ]
  },
  {
   "cell_type": "code",
   "execution_count": 20,
   "metadata": {},
   "outputs": [
    {
     "name": "stdout",
     "output_type": "stream",
     "text": [
      "CPU times: user 27.6 s, sys: 167 ms, total: 27.8 s\n",
      "Wall time: 27.8 s\n"
     ]
    },
    {
     "data": {
      "text/plain": [
       "{'max_depth': 15}"
      ]
     },
     "execution_count": 20,
     "metadata": {},
     "output_type": "execute_result"
    }
   ],
   "source": [
    "%%time\n",
    "\n",
    "model_dt = DecisionTreeClassifier()\n",
    "params_dt = {'max_depth': [1, 15]}\n",
    "grid_dt = GridSearchCV(model_dt, params_dt, cv=3, scoring='f1')\n",
    "grid_dt.fit(tf_idf_train, target_train)\n",
    "grid_dt.best_params_"
   ]
  },
  {
   "cell_type": "code",
   "execution_count": 21,
   "metadata": {},
   "outputs": [
    {
     "data": {
      "text/plain": [
       "0.6308116627265564"
      ]
     },
     "execution_count": 21,
     "metadata": {},
     "output_type": "execute_result"
    }
   ],
   "source": [
    "model_dt = DecisionTreeClassifier(random_state = 12345, max_depth=15)\n",
    "model_dt.fit(tf_idf_train, target_train)\n",
    "pred = model_dt.predict(tf_idf_test)\n",
    "f1_dt = f1_score(target_test, pred)\n",
    "f1_dt"
   ]
  },
  {
   "cell_type": "code",
   "execution_count": 22,
   "metadata": {},
   "outputs": [
    {
     "data": {
      "text/plain": [
       "0.59790675547098"
      ]
     },
     "execution_count": 22,
     "metadata": {},
     "output_type": "execute_result"
    }
   ],
   "source": [
    "model_dt_cl = DecisionTreeClassifier(random_state = 12345, max_depth=15, class_weight='balanced')\n",
    "model_dt_cl.fit(tf_idf_train, target_train)\n",
    "pred_cl = model_dt_cl.predict(tf_idf_test)\n",
    "f1_dt_cl = f1_score(target_test, pred_cl)\n",
    "f1_dt_cl"
   ]
  },
  {
   "cell_type": "markdown",
   "metadata": {},
   "source": [
    "### Случайный лес"
   ]
  },
  {
   "cell_type": "code",
   "execution_count": 23,
   "metadata": {},
   "outputs": [
    {
     "name": "stdout",
     "output_type": "stream",
     "text": [
      "CPU times: user 47.5 s, sys: 514 ms, total: 48.1 s\n",
      "Wall time: 48.2 s\n"
     ]
    },
    {
     "data": {
      "text/plain": [
       "{'max_depth': 15, 'n_estimators': 1}"
      ]
     },
     "execution_count": 23,
     "metadata": {},
     "output_type": "execute_result"
    }
   ],
   "source": [
    "%%time\n",
    "\n",
    "model_rf = RandomForestClassifier()\n",
    "params_rf = {'n_estimators': [1, 100], 'max_depth': [1, 15]}\n",
    "grid_rf = GridSearchCV(model_rf, params_rf, cv=3, scoring='f1')\n",
    "grid_rf.fit(tf_idf_train, target_train)\n",
    "grid_rf.best_params_"
   ]
  },
  {
   "cell_type": "code",
   "execution_count": 24,
   "metadata": {},
   "outputs": [
    {
     "data": {
      "text/plain": [
       "0.08997722095671981"
      ]
     },
     "execution_count": 24,
     "metadata": {},
     "output_type": "execute_result"
    }
   ],
   "source": [
    "model_rf = RandomForestClassifier(random_state=12345, n_estimators = 1, max_depth = 15)\n",
    "model_rf.fit(tf_idf_train, target_train)\n",
    "predictions_rf = model_rf.predict(tf_idf_test)\n",
    "f1_rf = f1_score(target_test, predictions_rf)\n",
    "f1_rf"
   ]
  },
  {
   "cell_type": "code",
   "execution_count": 25,
   "metadata": {},
   "outputs": [
    {
     "data": {
      "text/plain": [
       "0.2196115831454829"
      ]
     },
     "execution_count": 25,
     "metadata": {},
     "output_type": "execute_result"
    }
   ],
   "source": [
    "model_rf_cl = RandomForestClassifier(random_state=12345, n_estimators = 1, max_depth = 15, class_weight='balanced')\n",
    "model_rf_cl.fit(tf_idf_train, target_train)\n",
    "predictions_rf_cl = model_rf_cl.predict(tf_idf_test)\n",
    "f1_rf_cl = f1_score(target_test, predictions_rf_cl)\n",
    "f1_rf_cl"
   ]
  },
  {
   "cell_type": "markdown",
   "metadata": {},
   "source": [
    "## Выводы"
   ]
  },
  {
   "cell_type": "markdown",
   "metadata": {},
   "source": [
    "Была произведена работа по предсказанию токсичности комментариев. На первом этапе слова из текста комментариев были приведены к начальной форме. Сам текст был очищен от лишних символов, а заглавные буквы были заменены на строчные.\n",
    "На втором этапе были протестированы несколько моделей. Была применена техника взвешивания классов, но она не улучшила метрику. Ансамблиевая модель Случайный лес показала очень плохую метрику, несмотря на подбор параметров. Модель Решающее дерево показала результат лучше, но не дотянула до проходного порога 75. Наилучший результат показала модель Логистическая регрессия: значение метрики F1-мера на тестовой выборке 0.77."
   ]
  },
  {
   "cell_type": "code",
   "execution_count": 26,
   "metadata": {},
   "outputs": [
    {
     "data": {
      "text/html": [
       "<div>\n",
       "<style scoped>\n",
       "    .dataframe tbody tr th:only-of-type {\n",
       "        vertical-align: middle;\n",
       "    }\n",
       "\n",
       "    .dataframe tbody tr th {\n",
       "        vertical-align: top;\n",
       "    }\n",
       "\n",
       "    .dataframe thead th {\n",
       "        text-align: right;\n",
       "    }\n",
       "</style>\n",
       "<table border=\"1\" class=\"dataframe\">\n",
       "  <thead>\n",
       "    <tr style=\"text-align: right;\">\n",
       "      <th></th>\n",
       "      <th>Подбор_гиперпараметров</th>\n",
       "      <th>Взвешивание_классов</th>\n",
       "    </tr>\n",
       "  </thead>\n",
       "  <tbody>\n",
       "    <tr>\n",
       "      <th>LogisticRegression</th>\n",
       "      <td>0.770768</td>\n",
       "      <td>0.745455</td>\n",
       "    </tr>\n",
       "    <tr>\n",
       "      <th>DecisionTree</th>\n",
       "      <td>0.630812</td>\n",
       "      <td>0.597907</td>\n",
       "    </tr>\n",
       "    <tr>\n",
       "      <th>RandomForest</th>\n",
       "      <td>0.089977</td>\n",
       "      <td>0.219612</td>\n",
       "    </tr>\n",
       "  </tbody>\n",
       "</table>\n",
       "</div>"
      ],
      "text/plain": [
       "                    Подбор_гиперпараметров  Взвешивание_классов\n",
       "LogisticRegression                0.770768             0.745455\n",
       "DecisionTree                      0.630812             0.597907\n",
       "RandomForest                      0.089977             0.219612"
      ]
     },
     "execution_count": 26,
     "metadata": {},
     "output_type": "execute_result"
    }
   ],
   "source": [
    "index = ['LogisticRegression', 'DecisionTree', 'RandomForest']\n",
    "columns = ['Подбор_гиперпараметров', 'Взвешивание_классов']\n",
    "list = [[f1_logr, f1_logr_cl], [f1_dt, f1_dt_cl], [f1_rf, f1_rf_cl]]\n",
    "\n",
    "df = pd.DataFrame(data=list, index=index, columns=columns)\n",
    "df"
   ]
  }
 ],
 "metadata": {
  "ExecuteTimeLog": [
   {
    "duration": 1271,
    "start_time": "2022-06-24T11:31:51.627Z"
   },
   {
    "duration": 1293,
    "start_time": "2022-06-24T11:35:27.302Z"
   },
   {
    "duration": 3389,
    "start_time": "2022-06-24T11:35:28.597Z"
   },
   {
    "duration": 14,
    "start_time": "2022-06-24T11:35:31.988Z"
   },
   {
    "duration": 16,
    "start_time": "2022-06-24T11:35:32.004Z"
   },
   {
    "duration": 41,
    "start_time": "2022-06-24T11:35:32.022Z"
   },
   {
    "duration": 214,
    "start_time": "2022-06-24T11:35:32.064Z"
   },
   {
    "duration": 162,
    "start_time": "2022-06-24T11:35:32.280Z"
   },
   {
    "duration": 0,
    "start_time": "2022-06-24T11:35:32.444Z"
   },
   {
    "duration": 1274,
    "start_time": "2022-06-24T15:32:01.444Z"
   },
   {
    "duration": 4,
    "start_time": "2022-06-24T15:33:19.213Z"
   },
   {
    "duration": 3,
    "start_time": "2022-06-24T15:33:20.595Z"
   },
   {
    "duration": 145,
    "start_time": "2022-06-24T15:34:22.197Z"
   },
   {
    "duration": 1417,
    "start_time": "2022-06-24T15:34:30.667Z"
   },
   {
    "duration": 3392,
    "start_time": "2022-06-24T15:34:32.092Z"
   },
   {
    "duration": 27,
    "start_time": "2022-06-24T15:34:35.501Z"
   },
   {
    "duration": 10,
    "start_time": "2022-06-24T15:34:35.532Z"
   },
   {
    "duration": 114,
    "start_time": "2022-06-24T15:34:35.545Z"
   },
   {
    "duration": 346,
    "start_time": "2022-06-24T15:34:35.672Z"
   },
   {
    "duration": 4,
    "start_time": "2022-06-24T15:34:36.020Z"
   },
   {
    "duration": 13,
    "start_time": "2022-06-24T15:34:36.026Z"
   },
   {
    "duration": 154,
    "start_time": "2022-06-24T15:34:36.042Z"
   },
   {
    "duration": 1192,
    "start_time": "2022-06-24T15:39:25.741Z"
   },
   {
    "duration": 1756,
    "start_time": "2022-06-24T15:40:16.802Z"
   },
   {
    "duration": 17,
    "start_time": "2022-06-24T15:40:31.644Z"
   },
   {
    "duration": 3,
    "start_time": "2022-06-24T15:41:02.165Z"
   },
   {
    "duration": 13,
    "start_time": "2022-06-24T15:41:04.362Z"
   },
   {
    "duration": 15,
    "start_time": "2022-06-24T15:41:25.202Z"
   },
   {
    "duration": 2,
    "start_time": "2022-06-24T15:42:09.440Z"
   },
   {
    "duration": 17,
    "start_time": "2022-06-24T15:42:10.239Z"
   },
   {
    "duration": 2,
    "start_time": "2022-06-24T15:42:33.817Z"
   },
   {
    "duration": 15,
    "start_time": "2022-06-24T15:42:34.655Z"
   },
   {
    "duration": 246,
    "start_time": "2022-06-24T15:45:33.824Z"
   },
   {
    "duration": 11,
    "start_time": "2022-06-24T15:46:33.258Z"
   },
   {
    "duration": 10,
    "start_time": "2022-06-24T15:47:45.786Z"
   },
   {
    "duration": 252,
    "start_time": "2022-06-24T15:47:51.956Z"
   },
   {
    "duration": 263,
    "start_time": "2022-06-24T15:48:48.439Z"
   },
   {
    "duration": 3,
    "start_time": "2022-06-24T15:49:22.966Z"
   },
   {
    "duration": 494,
    "start_time": "2022-06-24T15:49:23.724Z"
   },
   {
    "duration": 3,
    "start_time": "2022-06-24T15:50:03.691Z"
   },
   {
    "duration": 518,
    "start_time": "2022-06-24T15:50:04.485Z"
   },
   {
    "duration": 403,
    "start_time": "2022-06-24T15:54:10.387Z"
   },
   {
    "duration": 9,
    "start_time": "2022-06-24T15:59:18.210Z"
   },
   {
    "duration": 16,
    "start_time": "2022-06-24T16:01:23.758Z"
   },
   {
    "duration": 31,
    "start_time": "2022-06-24T16:01:57.070Z"
   },
   {
    "duration": 19,
    "start_time": "2022-06-24T16:02:45.387Z"
   },
   {
    "duration": 4,
    "start_time": "2022-06-24T16:08:00.374Z"
   },
   {
    "duration": 13,
    "start_time": "2022-06-24T16:10:00.380Z"
   },
   {
    "duration": 1328,
    "start_time": "2022-06-24T16:10:53.120Z"
   },
   {
    "duration": 885,
    "start_time": "2022-06-24T16:10:54.450Z"
   },
   {
    "duration": 21,
    "start_time": "2022-06-24T16:10:55.337Z"
   },
   {
    "duration": 11,
    "start_time": "2022-06-24T16:10:55.361Z"
   },
   {
    "duration": 47,
    "start_time": "2022-06-24T16:10:55.374Z"
   },
   {
    "duration": 271,
    "start_time": "2022-06-24T16:10:55.424Z"
   },
   {
    "duration": 121,
    "start_time": "2022-06-24T16:10:55.696Z"
   },
   {
    "duration": 0,
    "start_time": "2022-06-24T16:10:55.819Z"
   },
   {
    "duration": 0,
    "start_time": "2022-06-24T16:10:55.821Z"
   },
   {
    "duration": 0,
    "start_time": "2022-06-24T16:10:55.823Z"
   },
   {
    "duration": 0,
    "start_time": "2022-06-24T16:10:55.824Z"
   },
   {
    "duration": 31964,
    "start_time": "2022-06-24T16:13:31.088Z"
   },
   {
    "duration": 238,
    "start_time": "2022-06-24T16:14:20.481Z"
   },
   {
    "duration": 10,
    "start_time": "2022-06-24T16:14:34.447Z"
   },
   {
    "duration": 1177,
    "start_time": "2022-06-24T16:15:49.712Z"
   },
   {
    "duration": 892,
    "start_time": "2022-06-24T16:15:50.892Z"
   },
   {
    "duration": 19,
    "start_time": "2022-06-24T16:15:51.786Z"
   },
   {
    "duration": 5,
    "start_time": "2022-06-24T16:15:51.807Z"
   },
   {
    "duration": 60,
    "start_time": "2022-06-24T16:15:51.815Z"
   },
   {
    "duration": 262,
    "start_time": "2022-06-24T16:15:51.877Z"
   },
   {
    "duration": 3,
    "start_time": "2022-06-24T16:15:52.150Z"
   },
   {
    "duration": 31897,
    "start_time": "2022-06-24T16:15:52.155Z"
   },
   {
    "duration": 8,
    "start_time": "2022-06-24T16:16:24.054Z"
   },
   {
    "duration": 6,
    "start_time": "2022-06-24T16:16:24.064Z"
   },
   {
    "duration": 370,
    "start_time": "2022-06-24T16:16:24.072Z"
   },
   {
    "duration": 0,
    "start_time": "2022-06-24T16:16:24.444Z"
   },
   {
    "duration": 0,
    "start_time": "2022-06-24T16:16:24.446Z"
   },
   {
    "duration": 3,
    "start_time": "2022-06-24T16:20:33.794Z"
   },
   {
    "duration": 235,
    "start_time": "2022-06-24T16:20:36.568Z"
   },
   {
    "duration": 300,
    "start_time": "2022-06-24T16:26:47.691Z"
   },
   {
    "duration": 1334,
    "start_time": "2022-06-24T16:27:00.385Z"
   },
   {
    "duration": 814,
    "start_time": "2022-06-24T16:27:01.721Z"
   },
   {
    "duration": 20,
    "start_time": "2022-06-24T16:27:02.537Z"
   },
   {
    "duration": 25,
    "start_time": "2022-06-24T16:27:02.560Z"
   },
   {
    "duration": 37,
    "start_time": "2022-06-24T16:27:02.587Z"
   },
   {
    "duration": 264,
    "start_time": "2022-06-24T16:27:02.626Z"
   },
   {
    "duration": 3,
    "start_time": "2022-06-24T16:27:02.892Z"
   },
   {
    "duration": 36339,
    "start_time": "2022-06-24T16:27:02.897Z"
   },
   {
    "duration": 8,
    "start_time": "2022-06-24T16:27:39.238Z"
   },
   {
    "duration": 30,
    "start_time": "2022-06-24T16:27:39.251Z"
   },
   {
    "duration": 544,
    "start_time": "2022-06-24T16:27:39.283Z"
   },
   {
    "duration": 0,
    "start_time": "2022-06-24T16:27:39.829Z"
   },
   {
    "duration": 0,
    "start_time": "2022-06-24T16:27:39.830Z"
   },
   {
    "duration": 3,
    "start_time": "2022-06-24T16:28:56.925Z"
   },
   {
    "duration": 630,
    "start_time": "2022-06-24T16:28:59.980Z"
   },
   {
    "duration": 3,
    "start_time": "2022-06-24T16:29:15.237Z"
   },
   {
    "duration": 407,
    "start_time": "2022-06-24T16:29:16.293Z"
   },
   {
    "duration": 4,
    "start_time": "2022-06-24T16:29:43.926Z"
   },
   {
    "duration": 359,
    "start_time": "2022-06-24T16:29:44.755Z"
   },
   {
    "duration": 363,
    "start_time": "2022-06-24T16:30:45.885Z"
   },
   {
    "duration": 273,
    "start_time": "2022-06-24T16:32:38.074Z"
   },
   {
    "duration": 4,
    "start_time": "2022-06-24T16:45:43.789Z"
   },
   {
    "duration": 386,
    "start_time": "2022-06-24T16:46:28.714Z"
   },
   {
    "duration": 19,
    "start_time": "2022-06-24T16:47:09.786Z"
   },
   {
    "duration": 15,
    "start_time": "2022-06-24T16:47:16.201Z"
   },
   {
    "duration": 454,
    "start_time": "2022-06-24T16:48:58.517Z"
   },
   {
    "duration": 335,
    "start_time": "2022-06-24T16:51:31.967Z"
   },
   {
    "duration": 67,
    "start_time": "2022-06-24T16:53:12.372Z"
   },
   {
    "duration": 14,
    "start_time": "2022-06-24T16:53:23.491Z"
   },
   {
    "duration": 165,
    "start_time": "2022-06-24T16:53:31.668Z"
   },
   {
    "duration": 1377,
    "start_time": "2022-06-24T16:53:54.542Z"
   },
   {
    "duration": 826,
    "start_time": "2022-06-24T16:53:55.921Z"
   },
   {
    "duration": 26,
    "start_time": "2022-06-24T16:53:56.749Z"
   },
   {
    "duration": 8,
    "start_time": "2022-06-24T16:53:56.783Z"
   },
   {
    "duration": 37,
    "start_time": "2022-06-24T16:53:56.793Z"
   },
   {
    "duration": 260,
    "start_time": "2022-06-24T16:53:56.833Z"
   },
   {
    "duration": 315,
    "start_time": "2022-06-24T16:53:57.094Z"
   },
   {
    "duration": 3,
    "start_time": "2022-06-24T16:53:57.411Z"
   },
   {
    "duration": 39134,
    "start_time": "2022-06-24T16:53:57.415Z"
   },
   {
    "duration": 17,
    "start_time": "2022-06-24T16:54:36.550Z"
   },
   {
    "duration": 16,
    "start_time": "2022-06-24T16:54:36.573Z"
   },
   {
    "duration": 491,
    "start_time": "2022-06-24T16:54:36.591Z"
   },
   {
    "duration": 0,
    "start_time": "2022-06-24T16:54:37.084Z"
   },
   {
    "duration": 269,
    "start_time": "2022-06-24T16:59:51.752Z"
   },
   {
    "duration": 11,
    "start_time": "2022-06-24T17:01:12.722Z"
   },
   {
    "duration": 1260,
    "start_time": "2022-06-24T17:03:00.075Z"
   },
   {
    "duration": 2,
    "start_time": "2022-06-24T17:06:22.229Z"
   },
   {
    "duration": 676,
    "start_time": "2022-06-24T17:06:23.180Z"
   },
   {
    "duration": 21,
    "start_time": "2022-06-24T17:06:23.862Z"
   },
   {
    "duration": 4,
    "start_time": "2022-06-24T17:06:25.332Z"
   },
   {
    "duration": 37,
    "start_time": "2022-06-24T17:06:27.430Z"
   },
   {
    "duration": 228,
    "start_time": "2022-06-24T17:06:36.436Z"
   },
   {
    "duration": 285,
    "start_time": "2022-06-24T17:06:42.404Z"
   },
   {
    "duration": 265,
    "start_time": "2022-06-24T17:06:52.226Z"
   },
   {
    "duration": 2,
    "start_time": "2022-06-24T17:07:07.680Z"
   },
   {
    "duration": 32775,
    "start_time": "2022-06-24T17:07:08.430Z"
   },
   {
    "duration": 6,
    "start_time": "2022-06-24T17:07:41.208Z"
   },
   {
    "duration": 3,
    "start_time": "2022-06-24T17:08:10.090Z"
   },
   {
    "duration": 291,
    "start_time": "2022-06-24T17:09:59.857Z"
   },
   {
    "duration": 96,
    "start_time": "2022-06-24T17:16:03.904Z"
   },
   {
    "duration": 492,
    "start_time": "2022-06-24T17:16:04.846Z"
   },
   {
    "duration": 94,
    "start_time": "2022-06-24T17:16:27.119Z"
   },
   {
    "duration": 3,
    "start_time": "2022-06-24T17:17:59.894Z"
   },
   {
    "duration": 380,
    "start_time": "2022-06-24T17:18:03.779Z"
   },
   {
    "duration": 3,
    "start_time": "2022-06-24T17:18:16.327Z"
   },
   {
    "duration": 10598,
    "start_time": "2022-06-24T17:18:17.390Z"
   },
   {
    "duration": 3352,
    "start_time": "2022-06-24T17:18:38.237Z"
   },
   {
    "duration": 194,
    "start_time": "2022-06-24T17:19:37.397Z"
   },
   {
    "duration": 2,
    "start_time": "2022-06-24T17:19:40.805Z"
   },
   {
    "duration": 35267,
    "start_time": "2022-06-24T17:19:41.887Z"
   },
   {
    "duration": 1216,
    "start_time": "2022-06-24T17:26:12.617Z"
   },
   {
    "duration": 740,
    "start_time": "2022-06-24T17:26:15.785Z"
   },
   {
    "duration": 13,
    "start_time": "2022-06-24T17:26:17.218Z"
   },
   {
    "duration": 4,
    "start_time": "2022-06-24T17:26:20.719Z"
   },
   {
    "duration": 37,
    "start_time": "2022-06-24T17:26:24.149Z"
   },
   {
    "duration": 207,
    "start_time": "2022-06-24T17:26:29.990Z"
   },
   {
    "duration": 263,
    "start_time": "2022-06-24T17:26:32.075Z"
   },
   {
    "duration": 34523,
    "start_time": "2022-06-24T17:26:35.408Z"
   },
   {
    "duration": 1238,
    "start_time": "2022-06-24T17:28:14.531Z"
   },
   {
    "duration": 756,
    "start_time": "2022-06-24T17:28:15.771Z"
   },
   {
    "duration": 12,
    "start_time": "2022-06-24T17:28:16.528Z"
   },
   {
    "duration": 18,
    "start_time": "2022-06-24T17:28:16.542Z"
   },
   {
    "duration": 52,
    "start_time": "2022-06-24T17:28:16.561Z"
   },
   {
    "duration": 206,
    "start_time": "2022-06-24T17:28:16.615Z"
   },
   {
    "duration": 292,
    "start_time": "2022-06-24T17:28:16.823Z"
   },
   {
    "duration": 2,
    "start_time": "2022-06-24T17:28:17.117Z"
   },
   {
    "duration": 32558,
    "start_time": "2022-06-24T17:28:17.120Z"
   },
   {
    "duration": 6,
    "start_time": "2022-06-24T17:28:49.682Z"
   },
   {
    "duration": 7,
    "start_time": "2022-06-24T17:28:49.690Z"
   },
   {
    "duration": 9356,
    "start_time": "2022-06-24T17:28:49.698Z"
   },
   {
    "duration": 1771,
    "start_time": "2022-06-24T17:28:59.061Z"
   },
   {
    "duration": 3294,
    "start_time": "2022-06-24T17:35:16.041Z"
   },
   {
    "duration": 2,
    "start_time": "2022-06-24T17:36:38.090Z"
   },
   {
    "duration": 13,
    "start_time": "2022-06-24T17:40:39.573Z"
   },
   {
    "duration": 194,
    "start_time": "2022-06-24T17:40:46.433Z"
   },
   {
    "duration": 111,
    "start_time": "2022-06-24T17:41:01.925Z"
   },
   {
    "duration": 16,
    "start_time": "2022-06-24T17:41:24.471Z"
   },
   {
    "duration": 1325,
    "start_time": "2022-06-24T17:41:33.867Z"
   },
   {
    "duration": 773,
    "start_time": "2022-06-24T17:41:35.197Z"
   },
   {
    "duration": 23,
    "start_time": "2022-06-24T17:41:35.971Z"
   },
   {
    "duration": 4,
    "start_time": "2022-06-24T17:41:35.996Z"
   },
   {
    "duration": 33,
    "start_time": "2022-06-24T17:41:36.002Z"
   },
   {
    "duration": 231,
    "start_time": "2022-06-24T17:41:36.037Z"
   },
   {
    "duration": 271,
    "start_time": "2022-06-24T17:41:36.278Z"
   },
   {
    "duration": 35160,
    "start_time": "2022-06-24T17:41:36.550Z"
   },
   {
    "duration": 3,
    "start_time": "2022-06-24T17:42:11.712Z"
   },
   {
    "duration": 10410,
    "start_time": "2022-06-24T17:42:11.717Z"
   },
   {
    "duration": 260,
    "start_time": "2022-06-24T17:42:22.128Z"
   },
   {
    "duration": 1877,
    "start_time": "2022-06-24T17:42:22.390Z"
   },
   {
    "duration": 132,
    "start_time": "2022-06-24T17:44:12.847Z"
   },
   {
    "duration": 1353,
    "start_time": "2022-06-24T17:44:26.205Z"
   },
   {
    "duration": 865,
    "start_time": "2022-06-24T17:44:27.568Z"
   },
   {
    "duration": 23,
    "start_time": "2022-06-24T17:44:28.435Z"
   },
   {
    "duration": 28,
    "start_time": "2022-06-24T17:44:28.460Z"
   },
   {
    "duration": 37,
    "start_time": "2022-06-24T17:44:28.491Z"
   },
   {
    "duration": 252,
    "start_time": "2022-06-24T17:44:28.530Z"
   },
   {
    "duration": 343,
    "start_time": "2022-06-24T17:44:28.784Z"
   },
   {
    "duration": 31405,
    "start_time": "2022-06-24T17:44:29.129Z"
   },
   {
    "duration": 3,
    "start_time": "2022-06-24T17:45:00.536Z"
   },
   {
    "duration": 9233,
    "start_time": "2022-06-24T17:45:00.540Z"
   },
   {
    "duration": 565,
    "start_time": "2022-06-24T17:45:09.776Z"
   },
   {
    "duration": 0,
    "start_time": "2022-06-24T17:45:10.342Z"
   },
   {
    "duration": 10,
    "start_time": "2022-06-24T17:45:25.323Z"
   },
   {
    "duration": 1364,
    "start_time": "2022-06-24T17:45:34.812Z"
   },
   {
    "duration": 729,
    "start_time": "2022-06-24T17:45:36.179Z"
   },
   {
    "duration": 11,
    "start_time": "2022-06-24T17:45:36.910Z"
   },
   {
    "duration": 5,
    "start_time": "2022-06-24T17:45:36.923Z"
   },
   {
    "duration": 56,
    "start_time": "2022-06-24T17:45:36.930Z"
   },
   {
    "duration": 228,
    "start_time": "2022-06-24T17:45:36.988Z"
   },
   {
    "duration": 351,
    "start_time": "2022-06-24T17:45:37.217Z"
   },
   {
    "duration": 33220,
    "start_time": "2022-06-24T17:45:37.575Z"
   },
   {
    "duration": 2,
    "start_time": "2022-06-24T17:46:10.797Z"
   },
   {
    "duration": 9255,
    "start_time": "2022-06-24T17:46:10.801Z"
   },
   {
    "duration": 3527,
    "start_time": "2022-06-24T17:46:20.062Z"
   },
   {
    "duration": 2019,
    "start_time": "2022-06-24T17:46:23.590Z"
   },
   {
    "duration": 11,
    "start_time": "2022-06-24T17:47:29.267Z"
   },
   {
    "duration": 1226,
    "start_time": "2022-06-24T17:48:02.453Z"
   },
   {
    "duration": 734,
    "start_time": "2022-06-24T17:48:03.681Z"
   },
   {
    "duration": 12,
    "start_time": "2022-06-24T17:48:04.417Z"
   },
   {
    "duration": 17,
    "start_time": "2022-06-24T17:48:04.431Z"
   },
   {
    "duration": 43,
    "start_time": "2022-06-24T17:48:04.450Z"
   },
   {
    "duration": 225,
    "start_time": "2022-06-24T17:48:04.494Z"
   },
   {
    "duration": 268,
    "start_time": "2022-06-24T17:48:04.721Z"
   },
   {
    "duration": 31195,
    "start_time": "2022-06-24T17:48:04.991Z"
   },
   {
    "duration": 3,
    "start_time": "2022-06-24T17:48:36.187Z"
   },
   {
    "duration": 9114,
    "start_time": "2022-06-24T17:48:36.192Z"
   },
   {
    "duration": 3507,
    "start_time": "2022-06-24T17:48:45.308Z"
   },
   {
    "duration": 1799,
    "start_time": "2022-06-24T17:48:48.816Z"
   },
   {
    "duration": 18,
    "start_time": "2022-06-24T17:49:18.744Z"
   },
   {
    "duration": 1891,
    "start_time": "2022-06-24T17:57:56.222Z"
   },
   {
    "duration": 3,
    "start_time": "2022-06-24T18:02:14.691Z"
   },
   {
    "duration": 24645,
    "start_time": "2022-06-24T18:03:11.737Z"
   },
   {
    "duration": 1655,
    "start_time": "2022-06-24T18:04:24.428Z"
   },
   {
    "duration": 847,
    "start_time": "2022-06-24T18:04:26.085Z"
   },
   {
    "duration": 22,
    "start_time": "2022-06-24T18:04:26.934Z"
   },
   {
    "duration": 41,
    "start_time": "2022-06-24T18:04:26.958Z"
   },
   {
    "duration": 32,
    "start_time": "2022-06-24T18:04:27.001Z"
   },
   {
    "duration": 251,
    "start_time": "2022-06-24T18:04:27.034Z"
   },
   {
    "duration": 305,
    "start_time": "2022-06-24T18:04:27.289Z"
   },
   {
    "duration": 1169,
    "start_time": "2022-06-24T18:04:56.294Z"
   },
   {
    "duration": 730,
    "start_time": "2022-06-24T18:04:57.471Z"
   },
   {
    "duration": 11,
    "start_time": "2022-06-24T18:04:58.203Z"
   },
   {
    "duration": 4,
    "start_time": "2022-06-24T18:04:58.215Z"
   },
   {
    "duration": 51,
    "start_time": "2022-06-24T18:04:58.220Z"
   },
   {
    "duration": 213,
    "start_time": "2022-06-24T18:04:58.274Z"
   },
   {
    "duration": 281,
    "start_time": "2022-06-24T18:04:58.488Z"
   },
   {
    "duration": 33918,
    "start_time": "2022-06-24T18:04:58.778Z"
   },
   {
    "duration": 3,
    "start_time": "2022-06-24T18:05:32.697Z"
   },
   {
    "duration": 10046,
    "start_time": "2022-06-24T18:05:32.702Z"
   },
   {
    "duration": 10,
    "start_time": "2022-06-24T18:05:42.752Z"
   },
   {
    "duration": 6,
    "start_time": "2022-06-24T18:05:42.777Z"
   },
   {
    "duration": 215,
    "start_time": "2022-06-24T18:05:42.785Z"
   },
   {
    "duration": 3,
    "start_time": "2022-06-24T18:08:53.743Z"
   },
   {
    "duration": 41,
    "start_time": "2022-06-24T18:13:51.135Z"
   },
   {
    "duration": 73,
    "start_time": "2022-06-24T18:14:01.101Z"
   },
   {
    "duration": 29,
    "start_time": "2022-06-24T18:14:07.002Z"
   },
   {
    "duration": 1531,
    "start_time": "2022-06-24T18:15:49.401Z"
   },
   {
    "duration": 1183,
    "start_time": "2022-06-24T18:16:56.394Z"
   },
   {
    "duration": 2617,
    "start_time": "2022-06-24T18:16:57.579Z"
   },
   {
    "duration": 12,
    "start_time": "2022-06-24T18:17:00.197Z"
   },
   {
    "duration": 4,
    "start_time": "2022-06-24T18:17:00.211Z"
   },
   {
    "duration": 42,
    "start_time": "2022-06-24T18:17:00.217Z"
   },
   {
    "duration": 230,
    "start_time": "2022-06-24T18:17:00.261Z"
   },
   {
    "duration": 293,
    "start_time": "2022-06-24T18:17:00.493Z"
   },
   {
    "duration": 31226,
    "start_time": "2022-06-24T18:17:00.788Z"
   },
   {
    "duration": 3,
    "start_time": "2022-06-24T18:17:32.016Z"
   },
   {
    "duration": 9163,
    "start_time": "2022-06-24T18:17:32.021Z"
   },
   {
    "duration": 25,
    "start_time": "2022-06-24T18:17:41.185Z"
   },
   {
    "duration": 1923,
    "start_time": "2022-06-24T18:17:41.211Z"
   },
   {
    "duration": 161,
    "start_time": "2022-06-24T18:17:43.136Z"
   },
   {
    "duration": 3,
    "start_time": "2022-06-24T18:20:20.896Z"
   },
   {
    "duration": 8472,
    "start_time": "2022-06-24T18:20:48.809Z"
   },
   {
    "duration": 46656,
    "start_time": "2022-06-24T18:24:10.297Z"
   },
   {
    "duration": 57727,
    "start_time": "2022-06-24T18:26:47.239Z"
   },
   {
    "duration": 1417,
    "start_time": "2022-06-24T18:30:13.551Z"
   },
   {
    "duration": 27,
    "start_time": "2022-06-24T19:28:35.824Z"
   },
   {
    "duration": 65,
    "start_time": "2022-06-24T19:28:47.950Z"
   },
   {
    "duration": 27,
    "start_time": "2022-06-24T19:29:32.901Z"
   },
   {
    "duration": 3,
    "start_time": "2022-06-24T19:30:15.279Z"
   },
   {
    "duration": 29,
    "start_time": "2022-06-24T19:30:23.821Z"
   },
   {
    "duration": 164,
    "start_time": "2022-06-24T19:30:53.155Z"
   },
   {
    "duration": 74150,
    "start_time": "2022-06-24T19:36:48.957Z"
   },
   {
    "duration": 65661,
    "start_time": "2022-06-24T19:40:21.141Z"
   },
   {
    "duration": 47189,
    "start_time": "2022-06-24T19:49:29.507Z"
   },
   {
    "duration": 1316,
    "start_time": "2022-06-24T19:50:30.276Z"
   },
   {
    "duration": 2,
    "start_time": "2022-06-24T19:50:53.798Z"
   },
   {
    "duration": 25,
    "start_time": "2022-06-24T20:02:39.641Z"
   },
   {
    "duration": 69214,
    "start_time": "2022-06-24T20:02:53.906Z"
   },
   {
    "duration": 155,
    "start_time": "2022-06-24T20:05:40.537Z"
   },
   {
    "duration": 162,
    "start_time": "2022-06-24T20:06:12.215Z"
   },
   {
    "duration": 1291,
    "start_time": "2022-06-24T20:06:23.874Z"
   },
   {
    "duration": 847,
    "start_time": "2022-06-24T20:06:25.167Z"
   },
   {
    "duration": 14,
    "start_time": "2022-06-24T20:06:26.016Z"
   },
   {
    "duration": 19,
    "start_time": "2022-06-24T20:06:26.033Z"
   },
   {
    "duration": 35,
    "start_time": "2022-06-24T20:06:26.054Z"
   },
   {
    "duration": 252,
    "start_time": "2022-06-24T20:06:26.091Z"
   },
   {
    "duration": 314,
    "start_time": "2022-06-24T20:06:26.345Z"
   },
   {
    "duration": 28591,
    "start_time": "2022-06-24T20:06:26.661Z"
   },
   {
    "duration": 3,
    "start_time": "2022-06-24T20:06:55.255Z"
   },
   {
    "duration": 7945,
    "start_time": "2022-06-24T20:06:55.261Z"
   },
   {
    "duration": 27,
    "start_time": "2022-06-24T20:07:03.207Z"
   },
   {
    "duration": 1874,
    "start_time": "2022-06-24T20:07:03.235Z"
   },
   {
    "duration": 203,
    "start_time": "2022-06-24T20:07:05.111Z"
   },
   {
    "duration": 7727,
    "start_time": "2022-06-24T20:07:05.316Z"
   },
   {
    "duration": 48283,
    "start_time": "2022-06-24T20:07:13.045Z"
   },
   {
    "duration": 1409,
    "start_time": "2022-06-24T20:08:01.329Z"
   },
   {
    "duration": 0,
    "start_time": "2022-06-24T20:08:02.740Z"
   },
   {
    "duration": 0,
    "start_time": "2022-06-24T20:08:02.741Z"
   },
   {
    "duration": 1334,
    "start_time": "2022-06-24T20:08:25.634Z"
   },
   {
    "duration": 1215,
    "start_time": "2022-06-24T20:08:36.772Z"
   },
   {
    "duration": 708,
    "start_time": "2022-06-24T20:08:37.988Z"
   },
   {
    "duration": 14,
    "start_time": "2022-06-24T20:08:38.697Z"
   },
   {
    "duration": 8,
    "start_time": "2022-06-24T20:08:38.712Z"
   },
   {
    "duration": 41,
    "start_time": "2022-06-24T20:08:38.722Z"
   },
   {
    "duration": 207,
    "start_time": "2022-06-24T20:08:38.764Z"
   },
   {
    "duration": 258,
    "start_time": "2022-06-24T20:08:38.972Z"
   },
   {
    "duration": 27800,
    "start_time": "2022-06-24T20:08:39.232Z"
   },
   {
    "duration": 3,
    "start_time": "2022-06-24T20:09:07.034Z"
   },
   {
    "duration": 8084,
    "start_time": "2022-06-24T20:09:07.038Z"
   },
   {
    "duration": 34,
    "start_time": "2022-06-24T20:09:15.123Z"
   },
   {
    "duration": 1825,
    "start_time": "2022-06-24T20:09:15.158Z"
   },
   {
    "duration": 195,
    "start_time": "2022-06-24T20:09:16.985Z"
   },
   {
    "duration": 7828,
    "start_time": "2022-06-24T20:09:17.183Z"
   },
   {
    "duration": 45560,
    "start_time": "2022-06-24T20:09:25.013Z"
   },
   {
    "duration": 1320,
    "start_time": "2022-06-24T20:10:10.575Z"
   },
   {
    "duration": 64508,
    "start_time": "2022-06-24T20:10:11.897Z"
   },
   {
    "duration": 176,
    "start_time": "2022-06-24T20:11:16.407Z"
   },
   {
    "duration": 116147,
    "start_time": "2022-06-24T20:13:31.484Z"
   },
   {
    "duration": 2640,
    "start_time": "2022-06-24T20:16:03.147Z"
   },
   {
    "duration": 63731,
    "start_time": "2022-06-24T20:17:06.789Z"
   },
   {
    "duration": 161,
    "start_time": "2022-06-24T20:18:37.764Z"
   },
   {
    "duration": 45,
    "start_time": "2022-06-24T20:23:44.873Z"
   },
   {
    "duration": 1222,
    "start_time": "2022-06-24T20:24:15.601Z"
   },
   {
    "duration": 2211,
    "start_time": "2022-06-24T20:24:16.825Z"
   },
   {
    "duration": 13,
    "start_time": "2022-06-24T20:24:19.038Z"
   },
   {
    "duration": 5,
    "start_time": "2022-06-24T20:24:19.053Z"
   },
   {
    "duration": 33,
    "start_time": "2022-06-24T20:24:19.060Z"
   },
   {
    "duration": 209,
    "start_time": "2022-06-24T20:24:19.095Z"
   },
   {
    "duration": 248,
    "start_time": "2022-06-24T20:24:19.305Z"
   },
   {
    "duration": 27640,
    "start_time": "2022-06-24T20:24:19.555Z"
   },
   {
    "duration": 3,
    "start_time": "2022-06-24T20:24:47.197Z"
   },
   {
    "duration": 8025,
    "start_time": "2022-06-24T20:24:47.202Z"
   },
   {
    "duration": 32,
    "start_time": "2022-06-24T20:24:55.229Z"
   },
   {
    "duration": 1840,
    "start_time": "2022-06-24T20:24:55.262Z"
   },
   {
    "duration": 152,
    "start_time": "2022-06-24T20:24:57.103Z"
   },
   {
    "duration": 7794,
    "start_time": "2022-06-24T20:24:57.256Z"
   },
   {
    "duration": 46326,
    "start_time": "2022-06-24T20:25:05.052Z"
   },
   {
    "duration": 1438,
    "start_time": "2022-06-24T20:25:51.379Z"
   },
   {
    "duration": 66153,
    "start_time": "2022-06-24T20:25:52.819Z"
   },
   {
    "duration": 177,
    "start_time": "2022-06-24T20:26:58.974Z"
   },
   {
    "duration": 41,
    "start_time": "2022-06-24T20:27:26.946Z"
   },
   {
    "duration": 1282,
    "start_time": "2022-06-24T20:27:37.832Z"
   },
   {
    "duration": 90,
    "start_time": "2022-06-24T20:27:48.920Z"
   },
   {
    "duration": 1482,
    "start_time": "2022-06-24T20:28:00.519Z"
   },
   {
    "duration": 2359,
    "start_time": "2022-06-24T20:28:02.003Z"
   },
   {
    "duration": 17,
    "start_time": "2022-06-24T20:28:04.364Z"
   },
   {
    "duration": 5,
    "start_time": "2022-06-24T20:28:04.385Z"
   },
   {
    "duration": 45,
    "start_time": "2022-06-24T20:28:04.391Z"
   },
   {
    "duration": 234,
    "start_time": "2022-06-24T20:28:04.438Z"
   },
   {
    "duration": 268,
    "start_time": "2022-06-24T20:28:04.674Z"
   },
   {
    "duration": 27507,
    "start_time": "2022-06-24T20:28:04.944Z"
   },
   {
    "duration": 3,
    "start_time": "2022-06-24T20:28:32.453Z"
   },
   {
    "duration": 7992,
    "start_time": "2022-06-24T20:28:32.458Z"
   },
   {
    "duration": 24,
    "start_time": "2022-06-24T20:28:40.452Z"
   },
   {
    "duration": 1869,
    "start_time": "2022-06-24T20:28:40.478Z"
   },
   {
    "duration": 205,
    "start_time": "2022-06-24T20:28:42.350Z"
   },
   {
    "duration": 7861,
    "start_time": "2022-06-24T20:28:42.557Z"
   },
   {
    "duration": 44227,
    "start_time": "2022-06-24T20:28:50.419Z"
   },
   {
    "duration": 1360,
    "start_time": "2022-06-24T20:29:34.648Z"
   },
   {
    "duration": 64016,
    "start_time": "2022-06-24T20:29:36.010Z"
   },
   {
    "duration": 179,
    "start_time": "2022-06-24T20:30:40.027Z"
   },
   {
    "duration": 1235,
    "start_time": "2022-06-24T20:32:42.838Z"
   },
   {
    "duration": 97,
    "start_time": "2022-06-24T20:34:44.738Z"
   },
   {
    "duration": 1152,
    "start_time": "2022-06-24T20:34:52.281Z"
   },
   {
    "duration": 2209,
    "start_time": "2022-06-24T20:34:53.434Z"
   },
   {
    "duration": 11,
    "start_time": "2022-06-24T20:34:55.645Z"
   },
   {
    "duration": 6,
    "start_time": "2022-06-24T20:34:55.658Z"
   },
   {
    "duration": 28,
    "start_time": "2022-06-24T20:34:55.665Z"
   },
   {
    "duration": 198,
    "start_time": "2022-06-24T20:34:55.695Z"
   },
   {
    "duration": 248,
    "start_time": "2022-06-24T20:34:55.894Z"
   },
   {
    "duration": 1168,
    "start_time": "2022-06-24T20:35:09.706Z"
   },
   {
    "duration": 713,
    "start_time": "2022-06-24T20:35:10.875Z"
   },
   {
    "duration": 12,
    "start_time": "2022-06-24T20:35:11.589Z"
   },
   {
    "duration": 4,
    "start_time": "2022-06-24T20:35:11.602Z"
   },
   {
    "duration": 44,
    "start_time": "2022-06-24T20:35:11.608Z"
   },
   {
    "duration": 203,
    "start_time": "2022-06-24T20:35:11.653Z"
   },
   {
    "duration": 242,
    "start_time": "2022-06-24T20:35:11.858Z"
   },
   {
    "duration": 28081,
    "start_time": "2022-06-24T20:35:12.102Z"
   },
   {
    "duration": 3,
    "start_time": "2022-06-24T20:35:40.185Z"
   },
   {
    "duration": 8005,
    "start_time": "2022-06-24T20:35:40.189Z"
   },
   {
    "duration": 24,
    "start_time": "2022-06-24T20:35:48.196Z"
   },
   {
    "duration": 1795,
    "start_time": "2022-06-24T20:35:48.221Z"
   },
   {
    "duration": 191,
    "start_time": "2022-06-24T20:35:50.018Z"
   },
   {
    "duration": 7685,
    "start_time": "2022-06-24T20:35:50.211Z"
   },
   {
    "duration": 45307,
    "start_time": "2022-06-24T20:35:57.898Z"
   },
   {
    "duration": 1300,
    "start_time": "2022-06-24T20:36:43.207Z"
   },
   {
    "duration": 4623,
    "start_time": "2022-06-24T20:36:44.509Z"
   },
   {
    "duration": 63346,
    "start_time": "2022-06-24T20:36:49.134Z"
   },
   {
    "duration": 156,
    "start_time": "2022-06-24T20:37:52.482Z"
   },
   {
    "duration": 1153,
    "start_time": "2022-06-24T20:39:44.383Z"
   },
   {
    "duration": 691,
    "start_time": "2022-06-24T20:39:45.538Z"
   },
   {
    "duration": 11,
    "start_time": "2022-06-24T20:39:46.230Z"
   },
   {
    "duration": 10,
    "start_time": "2022-06-24T20:39:46.244Z"
   },
   {
    "duration": 30,
    "start_time": "2022-06-24T20:39:46.255Z"
   },
   {
    "duration": 208,
    "start_time": "2022-06-24T20:39:46.286Z"
   },
   {
    "duration": 245,
    "start_time": "2022-06-24T20:39:46.496Z"
   },
   {
    "duration": 26875,
    "start_time": "2022-06-24T20:39:46.743Z"
   },
   {
    "duration": 3,
    "start_time": "2022-06-24T20:40:13.619Z"
   },
   {
    "duration": 7895,
    "start_time": "2022-06-24T20:40:13.624Z"
   },
   {
    "duration": 37,
    "start_time": "2022-06-24T20:40:21.521Z"
   },
   {
    "duration": 1878,
    "start_time": "2022-06-24T20:40:21.559Z"
   },
   {
    "duration": 199,
    "start_time": "2022-06-24T20:40:23.439Z"
   },
   {
    "duration": 8722,
    "start_time": "2022-06-24T20:40:23.639Z"
   },
   {
    "duration": 45244,
    "start_time": "2022-06-24T20:40:32.363Z"
   },
   {
    "duration": 1269,
    "start_time": "2022-06-24T20:41:17.608Z"
   },
   {
    "duration": 141,
    "start_time": "2022-06-24T20:41:18.879Z"
   },
   {
    "duration": 4771,
    "start_time": "2022-06-24T20:41:19.022Z"
   },
   {
    "duration": 65215,
    "start_time": "2022-06-24T20:41:23.795Z"
   },
   {
    "duration": 164,
    "start_time": "2022-06-24T20:42:29.012Z"
   },
   {
    "duration": 46853,
    "start_time": "2022-06-24T20:42:29.178Z"
   },
   {
    "duration": 1205,
    "start_time": "2022-06-24T20:44:07.026Z"
   },
   {
    "duration": 697,
    "start_time": "2022-06-24T20:44:08.233Z"
   },
   {
    "duration": 11,
    "start_time": "2022-06-24T20:44:08.932Z"
   },
   {
    "duration": 9,
    "start_time": "2022-06-24T20:44:08.944Z"
   },
   {
    "duration": 27,
    "start_time": "2022-06-24T20:44:08.954Z"
   },
   {
    "duration": 204,
    "start_time": "2022-06-24T20:44:08.983Z"
   },
   {
    "duration": 248,
    "start_time": "2022-06-24T20:44:09.188Z"
   },
   {
    "duration": 27272,
    "start_time": "2022-06-24T20:44:09.438Z"
   },
   {
    "duration": 3,
    "start_time": "2022-06-24T20:44:36.711Z"
   },
   {
    "duration": 7880,
    "start_time": "2022-06-24T20:44:36.716Z"
   },
   {
    "duration": 24,
    "start_time": "2022-06-24T20:44:44.598Z"
   },
   {
    "duration": 1830,
    "start_time": "2022-06-24T20:44:44.623Z"
   },
   {
    "duration": 195,
    "start_time": "2022-06-24T20:44:46.454Z"
   },
   {
    "duration": 7575,
    "start_time": "2022-06-24T20:44:46.650Z"
   },
   {
    "duration": 48646,
    "start_time": "2022-06-24T20:44:54.227Z"
   },
   {
    "duration": 1287,
    "start_time": "2022-06-24T20:45:42.874Z"
   },
   {
    "duration": 47477,
    "start_time": "2022-06-24T20:45:44.162Z"
   },
   {
    "duration": 7156,
    "start_time": "2022-06-24T20:46:31.641Z"
   },
   {
    "duration": 63282,
    "start_time": "2022-06-24T20:46:38.798Z"
   },
   {
    "duration": 164,
    "start_time": "2022-06-24T20:47:42.082Z"
   },
   {
    "duration": 1200,
    "start_time": "2022-06-24T21:01:14.571Z"
   },
   {
    "duration": 2182,
    "start_time": "2022-06-24T21:01:15.773Z"
   },
   {
    "duration": 12,
    "start_time": "2022-06-24T21:01:17.957Z"
   },
   {
    "duration": 6,
    "start_time": "2022-06-24T21:01:17.970Z"
   },
   {
    "duration": 31,
    "start_time": "2022-06-24T21:01:17.977Z"
   },
   {
    "duration": 196,
    "start_time": "2022-06-24T21:01:18.009Z"
   },
   {
    "duration": 230,
    "start_time": "2022-06-24T21:01:18.207Z"
   },
   {
    "duration": 28133,
    "start_time": "2022-06-24T21:01:18.438Z"
   },
   {
    "duration": 3,
    "start_time": "2022-06-24T21:01:46.572Z"
   },
   {
    "duration": 8233,
    "start_time": "2022-06-24T21:01:46.577Z"
   },
   {
    "duration": 24,
    "start_time": "2022-06-24T21:01:54.812Z"
   },
   {
    "duration": 1699,
    "start_time": "2022-06-24T21:01:54.838Z"
   },
   {
    "duration": 196,
    "start_time": "2022-06-24T21:01:56.539Z"
   },
   {
    "duration": 7824,
    "start_time": "2022-06-24T21:01:56.737Z"
   },
   {
    "duration": 43996,
    "start_time": "2022-06-24T21:02:04.563Z"
   },
   {
    "duration": 1450,
    "start_time": "2022-06-24T21:02:48.560Z"
   },
   {
    "duration": 48125,
    "start_time": "2022-06-24T21:02:50.011Z"
   },
   {
    "duration": 7860,
    "start_time": "2022-06-24T21:03:38.138Z"
   },
   {
    "duration": 1196,
    "start_time": "2022-06-24T21:03:55.655Z"
   },
   {
    "duration": 703,
    "start_time": "2022-06-24T21:03:56.853Z"
   },
   {
    "duration": 11,
    "start_time": "2022-06-24T21:03:57.557Z"
   },
   {
    "duration": 4,
    "start_time": "2022-06-24T21:03:57.570Z"
   },
   {
    "duration": 31,
    "start_time": "2022-06-24T21:03:57.575Z"
   },
   {
    "duration": 216,
    "start_time": "2022-06-24T21:03:57.607Z"
   },
   {
    "duration": 257,
    "start_time": "2022-06-24T21:03:57.824Z"
   },
   {
    "duration": 28488,
    "start_time": "2022-06-24T21:03:58.082Z"
   },
   {
    "duration": 3,
    "start_time": "2022-06-24T21:04:26.572Z"
   },
   {
    "duration": 8097,
    "start_time": "2022-06-24T21:04:26.577Z"
   },
   {
    "duration": 30,
    "start_time": "2022-06-24T21:04:34.676Z"
   },
   {
    "duration": 1800,
    "start_time": "2022-06-24T21:04:34.708Z"
   },
   {
    "duration": 121,
    "start_time": "2022-06-24T21:04:36.510Z"
   },
   {
    "duration": 8235,
    "start_time": "2022-06-24T21:04:36.632Z"
   },
   {
    "duration": 45647,
    "start_time": "2022-06-24T21:04:44.868Z"
   },
   {
    "duration": 1377,
    "start_time": "2022-06-24T21:05:30.516Z"
   },
   {
    "duration": 54569,
    "start_time": "2022-06-24T21:05:31.895Z"
   },
   {
    "duration": 7748,
    "start_time": "2022-06-24T21:06:26.466Z"
   },
   {
    "duration": 65910,
    "start_time": "2022-06-24T21:06:34.216Z"
   },
   {
    "duration": 189,
    "start_time": "2022-06-24T21:07:40.127Z"
   },
   {
    "duration": 55,
    "start_time": "2022-06-25T11:49:20.019Z"
   },
   {
    "duration": 1406,
    "start_time": "2022-06-25T11:49:29.183Z"
   },
   {
    "duration": 3435,
    "start_time": "2022-06-25T11:49:30.592Z"
   },
   {
    "duration": 13,
    "start_time": "2022-06-25T11:49:34.029Z"
   },
   {
    "duration": 6,
    "start_time": "2022-06-25T11:49:34.044Z"
   },
   {
    "duration": 40,
    "start_time": "2022-06-25T11:49:34.053Z"
   },
   {
    "duration": 235,
    "start_time": "2022-06-25T11:49:34.095Z"
   },
   {
    "duration": 5,
    "start_time": "2022-06-25T11:49:34.332Z"
   },
   {
    "duration": 352,
    "start_time": "2022-06-25T11:49:34.339Z"
   },
   {
    "duration": 37753,
    "start_time": "2022-06-25T11:49:34.698Z"
   },
   {
    "duration": 8,
    "start_time": "2022-06-25T11:50:12.453Z"
   },
   {
    "duration": 11435,
    "start_time": "2022-06-25T11:50:12.471Z"
   },
   {
    "duration": 29,
    "start_time": "2022-06-25T11:50:23.907Z"
   },
   {
    "duration": 2169,
    "start_time": "2022-06-25T11:50:23.938Z"
   },
   {
    "duration": 225,
    "start_time": "2022-06-25T11:50:26.110Z"
   },
   {
    "duration": 11283,
    "start_time": "2022-06-25T11:50:26.336Z"
   },
   {
    "duration": 46939,
    "start_time": "2022-06-25T11:50:37.621Z"
   },
   {
    "duration": 1549,
    "start_time": "2022-06-25T11:51:24.564Z"
   },
   {
    "duration": 74426,
    "start_time": "2022-06-25T11:51:26.115Z"
   },
   {
    "duration": 10010,
    "start_time": "2022-06-25T11:52:40.543Z"
   },
   {
    "duration": 99597,
    "start_time": "2022-06-25T11:52:50.560Z"
   },
   {
    "duration": 184,
    "start_time": "2022-06-25T11:54:30.161Z"
   },
   {
    "duration": 1405,
    "start_time": "2022-06-25T11:54:42.297Z"
   },
   {
    "duration": 3325,
    "start_time": "2022-06-25T11:54:43.704Z"
   },
   {
    "duration": 13,
    "start_time": "2022-06-25T11:54:47.031Z"
   },
   {
    "duration": 4,
    "start_time": "2022-06-25T11:54:47.045Z"
   },
   {
    "duration": 40,
    "start_time": "2022-06-25T11:54:47.061Z"
   },
   {
    "duration": 251,
    "start_time": "2022-06-25T11:54:47.103Z"
   },
   {
    "duration": 14,
    "start_time": "2022-06-25T11:54:47.356Z"
   },
   {
    "duration": 455,
    "start_time": "2022-06-25T11:54:47.371Z"
   },
   {
    "duration": 38648,
    "start_time": "2022-06-25T11:54:47.827Z"
   },
   {
    "duration": 5,
    "start_time": "2022-06-25T11:55:26.477Z"
   },
   {
    "duration": 11244,
    "start_time": "2022-06-25T11:55:26.485Z"
   },
   {
    "duration": 54,
    "start_time": "2022-06-25T11:55:37.731Z"
   },
   {
    "duration": 2239,
    "start_time": "2022-06-25T11:55:37.788Z"
   },
   {
    "duration": 0,
    "start_time": "2022-06-25T11:55:40.029Z"
   },
   {
    "duration": 0,
    "start_time": "2022-06-25T11:55:40.030Z"
   },
   {
    "duration": 0,
    "start_time": "2022-06-25T11:55:40.031Z"
   },
   {
    "duration": 0,
    "start_time": "2022-06-25T11:55:40.032Z"
   },
   {
    "duration": 0,
    "start_time": "2022-06-25T11:55:40.033Z"
   },
   {
    "duration": 0,
    "start_time": "2022-06-25T11:55:40.034Z"
   },
   {
    "duration": 0,
    "start_time": "2022-06-25T11:55:40.035Z"
   },
   {
    "duration": 0,
    "start_time": "2022-06-25T11:55:40.036Z"
   },
   {
    "duration": 57,
    "start_time": "2022-06-25T11:56:04.421Z"
   },
   {
    "duration": 1400,
    "start_time": "2022-06-25T11:56:41.278Z"
   },
   {
    "duration": 3737,
    "start_time": "2022-06-25T11:56:42.681Z"
   },
   {
    "duration": 13,
    "start_time": "2022-06-25T11:56:46.420Z"
   },
   {
    "duration": 4,
    "start_time": "2022-06-25T11:56:46.434Z"
   },
   {
    "duration": 58,
    "start_time": "2022-06-25T11:56:46.440Z"
   },
   {
    "duration": 245,
    "start_time": "2022-06-25T11:56:46.502Z"
   },
   {
    "duration": 17,
    "start_time": "2022-06-25T11:56:46.749Z"
   },
   {
    "duration": 346,
    "start_time": "2022-06-25T11:56:46.771Z"
   },
   {
    "duration": 37907,
    "start_time": "2022-06-25T11:56:47.119Z"
   },
   {
    "duration": 3,
    "start_time": "2022-06-25T11:57:25.029Z"
   },
   {
    "duration": 11441,
    "start_time": "2022-06-25T11:57:25.033Z"
   },
   {
    "duration": 43,
    "start_time": "2022-06-25T11:57:36.479Z"
   },
   {
    "duration": 2298,
    "start_time": "2022-06-25T11:57:36.524Z"
   },
   {
    "duration": 203,
    "start_time": "2022-06-25T11:57:38.824Z"
   },
   {
    "duration": 11101,
    "start_time": "2022-06-25T11:57:39.029Z"
   },
   {
    "duration": 48023,
    "start_time": "2022-06-25T11:57:50.132Z"
   },
   {
    "duration": 1542,
    "start_time": "2022-06-25T11:58:38.163Z"
   },
   {
    "duration": 75317,
    "start_time": "2022-06-25T11:58:39.707Z"
   },
   {
    "duration": 10422,
    "start_time": "2022-06-25T11:59:55.027Z"
   },
   {
    "duration": 96714,
    "start_time": "2022-06-25T12:00:05.450Z"
   },
   {
    "duration": 180,
    "start_time": "2022-06-25T12:01:42.166Z"
   },
   {
    "duration": 34,
    "start_time": "2022-06-25T12:03:21.703Z"
   },
   {
    "duration": 49,
    "start_time": "2022-06-25T12:05:10.587Z"
   },
   {
    "duration": 111,
    "start_time": "2022-06-25T12:05:31.536Z"
   },
   {
    "duration": 77,
    "start_time": "2022-06-25T12:05:48.936Z"
   },
   {
    "duration": 70,
    "start_time": "2022-06-25T12:06:16.793Z"
   },
   {
    "duration": 45,
    "start_time": "2022-06-25T12:14:46.690Z"
   },
   {
    "duration": 8418,
    "start_time": "2022-06-25T12:19:32.434Z"
   },
   {
    "duration": 140,
    "start_time": "2022-06-25T12:20:09.356Z"
   },
   {
    "duration": 5,
    "start_time": "2022-06-25T12:20:23.816Z"
   },
   {
    "duration": 5,
    "start_time": "2022-06-25T12:20:38.094Z"
   },
   {
    "duration": 53,
    "start_time": "2022-06-25T12:33:25.489Z"
   },
   {
    "duration": 2313,
    "start_time": "2022-06-25T12:36:13.656Z"
   },
   {
    "duration": 291,
    "start_time": "2022-06-25T12:39:29.144Z"
   },
   {
    "duration": 3364,
    "start_time": "2022-06-25T12:40:23.388Z"
   },
   {
    "duration": 4,
    "start_time": "2022-06-25T12:40:47.594Z"
   },
   {
    "duration": 65,
    "start_time": "2022-06-25T12:40:48.536Z"
   },
   {
    "duration": 362,
    "start_time": "2022-06-25T12:40:55.057Z"
   },
   {
    "duration": 4,
    "start_time": "2022-06-25T12:41:41.236Z"
   },
   {
    "duration": 1447,
    "start_time": "2022-06-25T12:49:16.294Z"
   },
   {
    "duration": 342,
    "start_time": "2022-06-25T12:49:17.744Z"
   },
   {
    "duration": 3928,
    "start_time": "2022-06-25T12:49:18.088Z"
   },
   {
    "duration": 57,
    "start_time": "2022-06-25T12:49:22.018Z"
   },
   {
    "duration": 34,
    "start_time": "2022-06-25T12:49:22.078Z"
   },
   {
    "duration": 84,
    "start_time": "2022-06-25T12:49:22.114Z"
   },
   {
    "duration": 675,
    "start_time": "2022-06-25T12:49:22.204Z"
   },
   {
    "duration": 19,
    "start_time": "2022-06-25T12:49:22.881Z"
   },
   {
    "duration": 772,
    "start_time": "2022-06-25T12:49:22.904Z"
   },
   {
    "duration": 1614,
    "start_time": "2022-06-25T12:50:12.230Z"
   },
   {
    "duration": 350,
    "start_time": "2022-06-25T12:50:13.846Z"
   },
   {
    "duration": 969,
    "start_time": "2022-06-25T12:50:14.201Z"
   },
   {
    "duration": 11,
    "start_time": "2022-06-25T12:50:15.173Z"
   },
   {
    "duration": 31,
    "start_time": "2022-06-25T12:50:15.186Z"
   },
   {
    "duration": 54,
    "start_time": "2022-06-25T12:50:15.219Z"
   },
   {
    "duration": 306,
    "start_time": "2022-06-25T12:50:15.279Z"
   },
   {
    "duration": 8,
    "start_time": "2022-06-25T12:50:15.587Z"
   },
   {
    "duration": 363,
    "start_time": "2022-06-25T12:50:15.596Z"
   },
   {
    "duration": 1243516,
    "start_time": "2022-06-25T12:50:15.962Z"
   },
   {
    "duration": 5,
    "start_time": "2022-06-25T13:10:59.482Z"
   },
   {
    "duration": 10380,
    "start_time": "2022-06-25T13:10:59.488Z"
   },
   {
    "duration": 34,
    "start_time": "2022-06-25T13:11:09.874Z"
   },
   {
    "duration": 5,
    "start_time": "2022-06-25T13:11:09.909Z"
   },
   {
    "duration": 7269,
    "start_time": "2022-06-25T13:11:09.916Z"
   },
   {
    "duration": 50599,
    "start_time": "2022-06-25T13:11:17.187Z"
   },
   {
    "duration": 1500,
    "start_time": "2022-06-25T13:12:07.791Z"
   },
   {
    "duration": 2432,
    "start_time": "2022-06-25T13:12:09.293Z"
   },
   {
    "duration": 66042,
    "start_time": "2022-06-25T13:12:11.727Z"
   },
   {
    "duration": 9024,
    "start_time": "2022-06-25T13:13:17.770Z"
   },
   {
    "duration": 88584,
    "start_time": "2022-06-25T13:13:26.796Z"
   },
   {
    "duration": 192,
    "start_time": "2022-06-25T13:14:55.383Z"
   },
   {
    "duration": 164,
    "start_time": "2022-06-25T13:18:04.942Z"
   },
   {
    "duration": 11689,
    "start_time": "2022-06-25T13:20:20.723Z"
   },
   {
    "duration": 2238,
    "start_time": "2022-06-25T13:51:28.281Z"
   },
   {
    "duration": 199,
    "start_time": "2022-06-25T13:53:11.185Z"
   },
   {
    "duration": 399,
    "start_time": "2022-06-25T13:59:18.485Z"
   },
   {
    "duration": 4,
    "start_time": "2022-06-25T13:59:38.222Z"
   },
   {
    "duration": 4,
    "start_time": "2022-06-25T14:00:20.487Z"
   },
   {
    "duration": 10,
    "start_time": "2022-06-25T14:00:27.872Z"
   },
   {
    "duration": 9,
    "start_time": "2022-06-25T14:00:51.901Z"
   },
   {
    "duration": 52,
    "start_time": "2022-06-25T14:03:58.108Z"
   },
   {
    "duration": 2212,
    "start_time": "2022-06-25T14:05:34.731Z"
   },
   {
    "duration": 8,
    "start_time": "2022-06-25T14:13:22.902Z"
   },
   {
    "duration": 141,
    "start_time": "2022-06-25T14:23:03.631Z"
   },
   {
    "duration": 6794,
    "start_time": "2022-06-25T14:23:08.112Z"
   },
   {
    "duration": 43017,
    "start_time": "2022-06-25T14:23:22.378Z"
   },
   {
    "duration": 1428,
    "start_time": "2022-06-25T14:24:14.980Z"
   },
   {
    "duration": 1947,
    "start_time": "2022-06-25T14:24:21.225Z"
   },
   {
    "duration": 60,
    "start_time": "2022-06-25T14:25:37.215Z"
   },
   {
    "duration": 1314,
    "start_time": "2022-06-25T14:29:01.828Z"
   },
   {
    "duration": 659,
    "start_time": "2022-06-25T14:29:03.144Z"
   },
   {
    "duration": 2483,
    "start_time": "2022-06-25T14:29:03.805Z"
   },
   {
    "duration": 9,
    "start_time": "2022-06-25T14:29:06.290Z"
   },
   {
    "duration": 11,
    "start_time": "2022-06-25T14:29:06.301Z"
   },
   {
    "duration": 37,
    "start_time": "2022-06-25T14:29:06.313Z"
   },
   {
    "duration": 235,
    "start_time": "2022-06-25T14:29:06.352Z"
   },
   {
    "duration": 9,
    "start_time": "2022-06-25T14:29:06.589Z"
   },
   {
    "duration": 317,
    "start_time": "2022-06-25T14:29:06.599Z"
   },
   {
    "duration": 64,
    "start_time": "2022-06-25T14:29:06.918Z"
   },
   {
    "duration": 0,
    "start_time": "2022-06-25T14:29:06.984Z"
   },
   {
    "duration": 0,
    "start_time": "2022-06-25T14:29:06.986Z"
   },
   {
    "duration": 0,
    "start_time": "2022-06-25T14:29:06.987Z"
   },
   {
    "duration": 0,
    "start_time": "2022-06-25T14:29:06.989Z"
   },
   {
    "duration": 0,
    "start_time": "2022-06-25T14:29:06.990Z"
   },
   {
    "duration": 0,
    "start_time": "2022-06-25T14:29:06.991Z"
   },
   {
    "duration": 0,
    "start_time": "2022-06-25T14:29:06.992Z"
   },
   {
    "duration": 0,
    "start_time": "2022-06-25T14:29:06.993Z"
   },
   {
    "duration": 0,
    "start_time": "2022-06-25T14:29:06.994Z"
   },
   {
    "duration": 0,
    "start_time": "2022-06-25T14:29:06.994Z"
   },
   {
    "duration": 0,
    "start_time": "2022-06-25T14:29:06.995Z"
   },
   {
    "duration": 0,
    "start_time": "2022-06-25T14:29:06.997Z"
   },
   {
    "duration": 0,
    "start_time": "2022-06-25T14:29:06.998Z"
   },
   {
    "duration": 0,
    "start_time": "2022-06-25T14:29:06.999Z"
   },
   {
    "duration": 0,
    "start_time": "2022-06-25T14:29:07.000Z"
   },
   {
    "duration": 26,
    "start_time": "2022-06-25T14:29:54.775Z"
   },
   {
    "duration": 31,
    "start_time": "2022-06-25T14:30:30.799Z"
   },
   {
    "duration": 49,
    "start_time": "2022-06-25T14:30:54.044Z"
   },
   {
    "duration": 1396,
    "start_time": "2022-06-25T14:31:10.263Z"
   },
   {
    "duration": 253,
    "start_time": "2022-06-25T14:31:11.662Z"
   },
   {
    "duration": 930,
    "start_time": "2022-06-25T14:31:11.916Z"
   },
   {
    "duration": 14,
    "start_time": "2022-06-25T14:31:12.847Z"
   },
   {
    "duration": 5,
    "start_time": "2022-06-25T14:31:12.867Z"
   },
   {
    "duration": 62,
    "start_time": "2022-06-25T14:31:12.873Z"
   },
   {
    "duration": 260,
    "start_time": "2022-06-25T14:31:12.937Z"
   },
   {
    "duration": 10,
    "start_time": "2022-06-25T14:31:13.199Z"
   },
   {
    "duration": 337,
    "start_time": "2022-06-25T14:31:13.211Z"
   },
   {
    "duration": 69,
    "start_time": "2022-06-25T14:31:13.549Z"
   },
   {
    "duration": 0,
    "start_time": "2022-06-25T14:31:13.620Z"
   },
   {
    "duration": 0,
    "start_time": "2022-06-25T14:31:13.621Z"
   },
   {
    "duration": 0,
    "start_time": "2022-06-25T14:31:13.622Z"
   },
   {
    "duration": 0,
    "start_time": "2022-06-25T14:31:13.624Z"
   },
   {
    "duration": 0,
    "start_time": "2022-06-25T14:31:13.625Z"
   },
   {
    "duration": 0,
    "start_time": "2022-06-25T14:31:13.626Z"
   },
   {
    "duration": 0,
    "start_time": "2022-06-25T14:31:13.627Z"
   },
   {
    "duration": 0,
    "start_time": "2022-06-25T14:31:13.628Z"
   },
   {
    "duration": 0,
    "start_time": "2022-06-25T14:31:13.629Z"
   },
   {
    "duration": 0,
    "start_time": "2022-06-25T14:31:13.630Z"
   },
   {
    "duration": 0,
    "start_time": "2022-06-25T14:31:13.631Z"
   },
   {
    "duration": 0,
    "start_time": "2022-06-25T14:31:13.632Z"
   },
   {
    "duration": 0,
    "start_time": "2022-06-25T14:31:13.634Z"
   },
   {
    "duration": 0,
    "start_time": "2022-06-25T14:31:13.635Z"
   },
   {
    "duration": 0,
    "start_time": "2022-06-25T14:31:13.636Z"
   },
   {
    "duration": 33,
    "start_time": "2022-06-25T14:31:47.620Z"
   },
   {
    "duration": 1352,
    "start_time": "2022-06-25T14:34:11.493Z"
   },
   {
    "duration": 252,
    "start_time": "2022-06-25T14:34:12.847Z"
   },
   {
    "duration": 932,
    "start_time": "2022-06-25T14:34:13.101Z"
   },
   {
    "duration": 10,
    "start_time": "2022-06-25T14:34:14.035Z"
   },
   {
    "duration": 22,
    "start_time": "2022-06-25T14:34:14.046Z"
   },
   {
    "duration": 52,
    "start_time": "2022-06-25T14:34:14.070Z"
   },
   {
    "duration": 244,
    "start_time": "2022-06-25T14:34:14.124Z"
   },
   {
    "duration": 11,
    "start_time": "2022-06-25T14:34:14.369Z"
   },
   {
    "duration": 337,
    "start_time": "2022-06-25T14:34:14.382Z"
   },
   {
    "duration": 1510,
    "start_time": "2022-06-25T14:36:02.487Z"
   },
   {
    "duration": 951,
    "start_time": "2022-06-25T14:36:04.000Z"
   },
   {
    "duration": 32,
    "start_time": "2022-06-25T14:36:04.953Z"
   },
   {
    "duration": 5,
    "start_time": "2022-06-25T14:36:04.989Z"
   },
   {
    "duration": 40,
    "start_time": "2022-06-25T14:36:04.995Z"
   },
   {
    "duration": 260,
    "start_time": "2022-06-25T14:36:05.037Z"
   },
   {
    "duration": 8,
    "start_time": "2022-06-25T14:36:05.298Z"
   },
   {
    "duration": 337,
    "start_time": "2022-06-25T14:36:05.307Z"
   },
   {
    "duration": 329,
    "start_time": "2022-06-25T14:36:05.646Z"
   },
   {
    "duration": 1194875,
    "start_time": "2022-06-25T14:36:05.979Z"
   },
   {
    "duration": 23,
    "start_time": "2022-06-25T14:56:00.863Z"
   },
   {
    "duration": 8,
    "start_time": "2022-06-25T14:56:00.888Z"
   },
   {
    "duration": 10634,
    "start_time": "2022-06-25T14:56:00.897Z"
   },
   {
    "duration": 53,
    "start_time": "2022-06-25T14:56:11.532Z"
   },
   {
    "duration": 5,
    "start_time": "2022-06-25T14:56:11.587Z"
   },
   {
    "duration": 7227,
    "start_time": "2022-06-25T14:56:11.593Z"
   },
   {
    "duration": 48354,
    "start_time": "2022-06-25T14:56:18.822Z"
   },
   {
    "duration": 1561,
    "start_time": "2022-06-25T14:57:07.178Z"
   },
   {
    "duration": 1950,
    "start_time": "2022-06-25T14:57:08.741Z"
   },
   {
    "duration": 27813,
    "start_time": "2022-06-25T14:57:10.692Z"
   },
   {
    "duration": 7270,
    "start_time": "2022-06-25T14:57:38.506Z"
   },
   {
    "duration": 9641,
    "start_time": "2022-06-25T14:57:45.778Z"
   },
   {
    "duration": 48172,
    "start_time": "2022-06-25T14:57:55.421Z"
   },
   {
    "duration": 223,
    "start_time": "2022-06-25T14:58:43.595Z"
   },
   {
    "duration": 222,
    "start_time": "2022-06-25T14:58:43.819Z"
   },
   {
    "duration": 8,
    "start_time": "2022-06-25T14:58:44.043Z"
   }
  ],
  "kernelspec": {
   "display_name": "Python 3 (ipykernel)",
   "language": "python",
   "name": "python3"
  },
  "language_info": {
   "codemirror_mode": {
    "name": "ipython",
    "version": 3
   },
   "file_extension": ".py",
   "mimetype": "text/x-python",
   "name": "python",
   "nbconvert_exporter": "python",
   "pygments_lexer": "ipython3",
   "version": "3.9.5"
  },
  "toc": {
   "base_numbering": 1,
   "nav_menu": {},
   "number_sections": true,
   "sideBar": true,
   "skip_h1_title": true,
   "title_cell": "Содержание",
   "title_sidebar": "Contents",
   "toc_cell": true,
   "toc_position": {
    "height": "calc(100% - 180px)",
    "left": "10px",
    "top": "150px",
    "width": "302.391px"
   },
   "toc_section_display": true,
   "toc_window_display": true
  }
 },
 "nbformat": 4,
 "nbformat_minor": 2
}
