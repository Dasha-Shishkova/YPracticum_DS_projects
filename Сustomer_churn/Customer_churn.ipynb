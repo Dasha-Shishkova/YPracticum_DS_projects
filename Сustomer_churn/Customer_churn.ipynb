{
 "cells": [
  {
   "cell_type": "markdown",
   "id": "337cc902",
   "metadata": {},
   "source": [
    "## Загрузите и подготовьте данные"
   ]
  },
  {
   "cell_type": "code",
   "execution_count": 1,
   "id": "92d303e7",
   "metadata": {},
   "outputs": [],
   "source": [
    "import pandas as pd\n",
    "import random\n",
    "import numpy as np\n",
    "from sklearn.model_selection import train_test_split\n",
    "from sklearn.preprocessing import StandardScaler \n",
    "from sklearn.metrics import f1_score \n",
    "from sklearn.tree import DecisionTreeClassifier\n",
    "from sklearn.ensemble import RandomForestClassifier\n",
    "from joblib import dump\n",
    "from sklearn.linear_model import LogisticRegression \n",
    "from sklearn.utils import shuffle\n",
    "from sklearn.metrics import roc_auc_score \n",
    "from sklearn.metrics import roc_curve\n",
    "import matplotlib.pyplot as plt"
   ]
  },
  {
   "cell_type": "code",
   "execution_count": 2,
   "id": "412deda7",
   "metadata": {},
   "outputs": [],
   "source": [
    "data = pd.read_csv('/datasets/Churn.csv')"
   ]
  },
  {
   "cell_type": "code",
   "execution_count": 3,
   "id": "8ef4d5b6",
   "metadata": {},
   "outputs": [
    {
     "data": {
      "text/html": [
       "<div>\n",
       "<style scoped>\n",
       "    .dataframe tbody tr th:only-of-type {\n",
       "        vertical-align: middle;\n",
       "    }\n",
       "\n",
       "    .dataframe tbody tr th {\n",
       "        vertical-align: top;\n",
       "    }\n",
       "\n",
       "    .dataframe thead th {\n",
       "        text-align: right;\n",
       "    }\n",
       "</style>\n",
       "<table border=\"1\" class=\"dataframe\">\n",
       "  <thead>\n",
       "    <tr style=\"text-align: right;\">\n",
       "      <th></th>\n",
       "      <th>RowNumber</th>\n",
       "      <th>CustomerId</th>\n",
       "      <th>Surname</th>\n",
       "      <th>CreditScore</th>\n",
       "      <th>Geography</th>\n",
       "      <th>Gender</th>\n",
       "      <th>Age</th>\n",
       "      <th>Tenure</th>\n",
       "      <th>Balance</th>\n",
       "      <th>NumOfProducts</th>\n",
       "      <th>HasCrCard</th>\n",
       "      <th>IsActiveMember</th>\n",
       "      <th>EstimatedSalary</th>\n",
       "      <th>Exited</th>\n",
       "    </tr>\n",
       "  </thead>\n",
       "  <tbody>\n",
       "    <tr>\n",
       "      <th>0</th>\n",
       "      <td>1</td>\n",
       "      <td>15634602</td>\n",
       "      <td>Hargrave</td>\n",
       "      <td>619</td>\n",
       "      <td>France</td>\n",
       "      <td>Female</td>\n",
       "      <td>42</td>\n",
       "      <td>2.0</td>\n",
       "      <td>0.00</td>\n",
       "      <td>1</td>\n",
       "      <td>1</td>\n",
       "      <td>1</td>\n",
       "      <td>101348.88</td>\n",
       "      <td>1</td>\n",
       "    </tr>\n",
       "    <tr>\n",
       "      <th>1</th>\n",
       "      <td>2</td>\n",
       "      <td>15647311</td>\n",
       "      <td>Hill</td>\n",
       "      <td>608</td>\n",
       "      <td>Spain</td>\n",
       "      <td>Female</td>\n",
       "      <td>41</td>\n",
       "      <td>1.0</td>\n",
       "      <td>83807.86</td>\n",
       "      <td>1</td>\n",
       "      <td>0</td>\n",
       "      <td>1</td>\n",
       "      <td>112542.58</td>\n",
       "      <td>0</td>\n",
       "    </tr>\n",
       "    <tr>\n",
       "      <th>2</th>\n",
       "      <td>3</td>\n",
       "      <td>15619304</td>\n",
       "      <td>Onio</td>\n",
       "      <td>502</td>\n",
       "      <td>France</td>\n",
       "      <td>Female</td>\n",
       "      <td>42</td>\n",
       "      <td>8.0</td>\n",
       "      <td>159660.80</td>\n",
       "      <td>3</td>\n",
       "      <td>1</td>\n",
       "      <td>0</td>\n",
       "      <td>113931.57</td>\n",
       "      <td>1</td>\n",
       "    </tr>\n",
       "    <tr>\n",
       "      <th>3</th>\n",
       "      <td>4</td>\n",
       "      <td>15701354</td>\n",
       "      <td>Boni</td>\n",
       "      <td>699</td>\n",
       "      <td>France</td>\n",
       "      <td>Female</td>\n",
       "      <td>39</td>\n",
       "      <td>1.0</td>\n",
       "      <td>0.00</td>\n",
       "      <td>2</td>\n",
       "      <td>0</td>\n",
       "      <td>0</td>\n",
       "      <td>93826.63</td>\n",
       "      <td>0</td>\n",
       "    </tr>\n",
       "    <tr>\n",
       "      <th>4</th>\n",
       "      <td>5</td>\n",
       "      <td>15737888</td>\n",
       "      <td>Mitchell</td>\n",
       "      <td>850</td>\n",
       "      <td>Spain</td>\n",
       "      <td>Female</td>\n",
       "      <td>43</td>\n",
       "      <td>2.0</td>\n",
       "      <td>125510.82</td>\n",
       "      <td>1</td>\n",
       "      <td>1</td>\n",
       "      <td>1</td>\n",
       "      <td>79084.10</td>\n",
       "      <td>0</td>\n",
       "    </tr>\n",
       "  </tbody>\n",
       "</table>\n",
       "</div>"
      ],
      "text/plain": [
       "   RowNumber  CustomerId   Surname  CreditScore Geography  Gender  Age  \\\n",
       "0          1    15634602  Hargrave          619    France  Female   42   \n",
       "1          2    15647311      Hill          608     Spain  Female   41   \n",
       "2          3    15619304      Onio          502    France  Female   42   \n",
       "3          4    15701354      Boni          699    France  Female   39   \n",
       "4          5    15737888  Mitchell          850     Spain  Female   43   \n",
       "\n",
       "   Tenure    Balance  NumOfProducts  HasCrCard  IsActiveMember  \\\n",
       "0     2.0       0.00              1          1               1   \n",
       "1     1.0   83807.86              1          0               1   \n",
       "2     8.0  159660.80              3          1               0   \n",
       "3     1.0       0.00              2          0               0   \n",
       "4     2.0  125510.82              1          1               1   \n",
       "\n",
       "   EstimatedSalary  Exited  \n",
       "0        101348.88       1  \n",
       "1        112542.58       0  \n",
       "2        113931.57       1  \n",
       "3         93826.63       0  \n",
       "4         79084.10       0  "
      ]
     },
     "execution_count": 3,
     "metadata": {},
     "output_type": "execute_result"
    }
   ],
   "source": [
    "data.head()"
   ]
  },
  {
   "cell_type": "code",
   "execution_count": 4,
   "id": "d53af7ea",
   "metadata": {},
   "outputs": [
    {
     "name": "stdout",
     "output_type": "stream",
     "text": [
      "<class 'pandas.core.frame.DataFrame'>\n",
      "RangeIndex: 10000 entries, 0 to 9999\n",
      "Data columns (total 14 columns):\n",
      " #   Column           Non-Null Count  Dtype  \n",
      "---  ------           --------------  -----  \n",
      " 0   RowNumber        10000 non-null  int64  \n",
      " 1   CustomerId       10000 non-null  int64  \n",
      " 2   Surname          10000 non-null  object \n",
      " 3   CreditScore      10000 non-null  int64  \n",
      " 4   Geography        10000 non-null  object \n",
      " 5   Gender           10000 non-null  object \n",
      " 6   Age              10000 non-null  int64  \n",
      " 7   Tenure           9091 non-null   float64\n",
      " 8   Balance          10000 non-null  float64\n",
      " 9   NumOfProducts    10000 non-null  int64  \n",
      " 10  HasCrCard        10000 non-null  int64  \n",
      " 11  IsActiveMember   10000 non-null  int64  \n",
      " 12  EstimatedSalary  10000 non-null  float64\n",
      " 13  Exited           10000 non-null  int64  \n",
      "dtypes: float64(3), int64(8), object(3)\n",
      "memory usage: 1.1+ MB\n"
     ]
    }
   ],
   "source": [
    "data.info()"
   ]
  },
  {
   "cell_type": "code",
   "execution_count": 5,
   "id": "98b661be",
   "metadata": {},
   "outputs": [
    {
     "data": {
      "text/plain": [
       "0"
      ]
     },
     "execution_count": 5,
     "metadata": {},
     "output_type": "execute_result"
    }
   ],
   "source": [
    "data.duplicated().sum()"
   ]
  },
  {
   "cell_type": "code",
   "execution_count": 6,
   "id": "be8902d5",
   "metadata": {},
   "outputs": [
    {
     "data": {
      "text/plain": [
       "<AxesSubplot:xlabel='Tenure'>"
      ]
     },
     "execution_count": 6,
     "metadata": {},
     "output_type": "execute_result"
    },
    {
     "data": {
      "image/png": "[encoded data removed]",
      "text/plain": [
       "<Figure size 432x288 with 1 Axes>"
      ]
     },
     "metadata": {
      "needs_background": "light"
     },
     "output_type": "display_data"
    }
   ],
   "source": [
    "data.groupby('Tenure')['Tenure'].count().plot(kind='bar')"
   ]
  },
  {
   "cell_type": "code",
   "execution_count": 7,
   "id": "aad523bc",
   "metadata": {},
   "outputs": [
    {
     "data": {
      "text/plain": [
       "5.0"
      ]
     },
     "execution_count": 7,
     "metadata": {},
     "output_type": "execute_result"
    }
   ],
   "source": [
    "data['Tenure'].median()"
   ]
  },
  {
   "cell_type": "markdown",
   "id": "061c27b2",
   "metadata": {},
   "source": [
    "Сразу же становится заметно, что названия столбцов заполнены некорректно, приведем их к змеиному регистру.\n",
    "\n",
    "В таблице нет дубликатов, но есть пропуски в столбце \"Tenure\". Этот столбец содержит информацию о том, сколько лет человек является клиентом банка. Пропуски можно заполнить медианным значением, но тогда появится пик на значении 5, что может повлиять на обучение модели. Т.к. значения распределены довольно равномерно, по крайней мере от 1 до 9, нам необходимо заполнить пропуски также равномерно. Сделаем это с помощью заполнения случайной величиной от 0 до 10. \n",
    "\n",
    "\n",
    "Что касается признаков, видим, что имеются признаки, которые не несут в себе полезной для обучения модели информации. Необходимо избавиться от столбцов \"RowNumber\", \"CustomerId\" и \"Surname\". Среди оставшихся признаков есть категориальные, что приведет к ошибке при обучении модели. Исправим это с помощью прямого кодирования (OHE), т.к. эта техника работает со всеми моделями машинного обучения. А также необходимо произвести масштабирование количественных признаков, чтобы модель не сочла какие то признаки важнее других."
   ]
  },
  {
   "cell_type": "markdown",
   "id": "322e4d69",
   "metadata": {},
   "source": [
    "### Изменение названий столбцов"
   ]
  },
  {
   "cell_type": "code",
   "execution_count": 8,
   "id": "78280ed1",
   "metadata": {},
   "outputs": [],
   "source": [
    "# избавимся от столбцов\n",
    "data = data.drop(['RowNumber', 'CustomerId', 'Surname'], axis=1)"
   ]
  },
  {
   "cell_type": "code",
   "execution_count": 9,
   "id": "c41b02c9",
   "metadata": {},
   "outputs": [],
   "source": [
    "# переименуем столбцы\n",
    "data = (data.rename(columns = {'CreditScore': 'credit_score', 'Geography': 'geography', \n",
    "                      'Gender': 'gender', 'Age': 'age', 'Tenure': 'tenure',\n",
    "                      'Balance': 'balance', 'NumOfProducts': 'num_of_products',\n",
    "                      'HasCrCard': 'has_cr_card', 'IsActiveMember': 'is_active_member',\n",
    "                      'EstimatedSalary': 'estimated_salary', 'Exited': 'exited'}))"
   ]
  },
  {
   "cell_type": "code",
   "execution_count": 10,
   "id": "c6559f1f",
   "metadata": {},
   "outputs": [
    {
     "data": {
      "text/plain": [
       "Index(['credit_score', 'geography', 'gender', 'age', 'tenure', 'balance',\n",
       "       'num_of_products', 'has_cr_card', 'is_active_member',\n",
       "       'estimated_salary', 'exited'],\n",
       "      dtype='object')"
      ]
     },
     "execution_count": 10,
     "metadata": {},
     "output_type": "execute_result"
    }
   ],
   "source": [
    "data.columns"
   ]
  },
  {
   "cell_type": "markdown",
   "id": "fb5ce0d7",
   "metadata": {},
   "source": [
    "### Заполнение пропусков"
   ]
  },
  {
   "cell_type": "code",
   "execution_count": 11,
   "id": "9768a029",
   "metadata": {},
   "outputs": [],
   "source": [
    "# создадим функцию для одной строки,\n",
    "# которая на вход принимает значения столбца 'tenure'\n",
    "# если значение не пропущено, возвращает это же значение\n",
    "# если пропущено, то заполняет его случайным значением от 0 до 10\n",
    "def random_filling(row):\n",
    "    tenure = row['tenure']\n",
    "    if tenure >= 0:\n",
    "        return tenure\n",
    "    else:\n",
    "        return np.random.randint(0, 11)"
   ]
  },
  {
   "cell_type": "code",
   "execution_count": 12,
   "id": "f1c3fb2a",
   "metadata": {},
   "outputs": [
    {
     "data": {
      "text/plain": [
       "<AxesSubplot:xlabel='tenure'>"
      ]
     },
     "execution_count": 12,
     "metadata": {},
     "output_type": "execute_result"
    },
    {
     "data": {
      "image/png": "[encoded data removed]",
      "text/plain": [
       "<Figure size 432x288 with 1 Axes>"
      ]
     },
     "metadata": {
      "needs_background": "light"
     },
     "output_type": "display_data"
    }
   ],
   "source": [
    "data.groupby('tenure')['tenure'].count().plot(kind='bar', alpha=0.8, color='b')\n",
    "np.random.seed(42)\n",
    "data['tenure'] = data.apply(random_filling, axis=1)\n",
    "data.groupby('tenure')['tenure'].count().plot(kind='bar', alpha=0.7, color='g')"
   ]
  },
  {
   "cell_type": "code",
   "execution_count": 13,
   "id": "5bcb2bc6",
   "metadata": {},
   "outputs": [
    {
     "data": {
      "text/plain": [
       "0"
      ]
     },
     "execution_count": 13,
     "metadata": {},
     "output_type": "execute_result"
    }
   ],
   "source": [
    "data['tenure'].isna().sum()"
   ]
  },
  {
   "cell_type": "markdown",
   "id": "8c986d50",
   "metadata": {},
   "source": [
    "На графике видно, что пропуски заполнились равномерно."
   ]
  },
  {
   "cell_type": "markdown",
   "id": "5b78c9e6",
   "metadata": {},
   "source": [
    "### Подготовка признаков"
   ]
  },
  {
   "cell_type": "code",
   "execution_count": 14,
   "id": "fd916a10",
   "metadata": {},
   "outputs": [
    {
     "data": {
      "text/html": [
       "<div>\n",
       "<style scoped>\n",
       "    .dataframe tbody tr th:only-of-type {\n",
       "        vertical-align: middle;\n",
       "    }\n",
       "\n",
       "    .dataframe tbody tr th {\n",
       "        vertical-align: top;\n",
       "    }\n",
       "\n",
       "    .dataframe thead th {\n",
       "        text-align: right;\n",
       "    }\n",
       "</style>\n",
       "<table border=\"1\" class=\"dataframe\">\n",
       "  <thead>\n",
       "    <tr style=\"text-align: right;\">\n",
       "      <th></th>\n",
       "      <th>credit_score</th>\n",
       "      <th>age</th>\n",
       "      <th>tenure</th>\n",
       "      <th>balance</th>\n",
       "      <th>num_of_products</th>\n",
       "      <th>has_cr_card</th>\n",
       "      <th>is_active_member</th>\n",
       "      <th>estimated_salary</th>\n",
       "      <th>exited</th>\n",
       "      <th>geography_Germany</th>\n",
       "      <th>geography_Spain</th>\n",
       "      <th>gender_Male</th>\n",
       "    </tr>\n",
       "  </thead>\n",
       "  <tbody>\n",
       "    <tr>\n",
       "      <th>0</th>\n",
       "      <td>619</td>\n",
       "      <td>42</td>\n",
       "      <td>2.0</td>\n",
       "      <td>0.00</td>\n",
       "      <td>1</td>\n",
       "      <td>1</td>\n",
       "      <td>1</td>\n",
       "      <td>101348.88</td>\n",
       "      <td>1</td>\n",
       "      <td>0</td>\n",
       "      <td>0</td>\n",
       "      <td>0</td>\n",
       "    </tr>\n",
       "    <tr>\n",
       "      <th>1</th>\n",
       "      <td>608</td>\n",
       "      <td>41</td>\n",
       "      <td>1.0</td>\n",
       "      <td>83807.86</td>\n",
       "      <td>1</td>\n",
       "      <td>0</td>\n",
       "      <td>1</td>\n",
       "      <td>112542.58</td>\n",
       "      <td>0</td>\n",
       "      <td>0</td>\n",
       "      <td>1</td>\n",
       "      <td>0</td>\n",
       "    </tr>\n",
       "    <tr>\n",
       "      <th>2</th>\n",
       "      <td>502</td>\n",
       "      <td>42</td>\n",
       "      <td>8.0</td>\n",
       "      <td>159660.80</td>\n",
       "      <td>3</td>\n",
       "      <td>1</td>\n",
       "      <td>0</td>\n",
       "      <td>113931.57</td>\n",
       "      <td>1</td>\n",
       "      <td>0</td>\n",
       "      <td>0</td>\n",
       "      <td>0</td>\n",
       "    </tr>\n",
       "    <tr>\n",
       "      <th>3</th>\n",
       "      <td>699</td>\n",
       "      <td>39</td>\n",
       "      <td>1.0</td>\n",
       "      <td>0.00</td>\n",
       "      <td>2</td>\n",
       "      <td>0</td>\n",
       "      <td>0</td>\n",
       "      <td>93826.63</td>\n",
       "      <td>0</td>\n",
       "      <td>0</td>\n",
       "      <td>0</td>\n",
       "      <td>0</td>\n",
       "    </tr>\n",
       "    <tr>\n",
       "      <th>4</th>\n",
       "      <td>850</td>\n",
       "      <td>43</td>\n",
       "      <td>2.0</td>\n",
       "      <td>125510.82</td>\n",
       "      <td>1</td>\n",
       "      <td>1</td>\n",
       "      <td>1</td>\n",
       "      <td>79084.10</td>\n",
       "      <td>0</td>\n",
       "      <td>0</td>\n",
       "      <td>1</td>\n",
       "      <td>0</td>\n",
       "    </tr>\n",
       "  </tbody>\n",
       "</table>\n",
       "</div>"
      ],
      "text/plain": [
       "   credit_score  age  tenure    balance  num_of_products  has_cr_card  \\\n",
       "0           619   42     2.0       0.00                1            1   \n",
       "1           608   41     1.0   83807.86                1            0   \n",
       "2           502   42     8.0  159660.80                3            1   \n",
       "3           699   39     1.0       0.00                2            0   \n",
       "4           850   43     2.0  125510.82                1            1   \n",
       "\n",
       "   is_active_member  estimated_salary  exited  geography_Germany  \\\n",
       "0                 1         101348.88       1                  0   \n",
       "1                 1         112542.58       0                  0   \n",
       "2                 0         113931.57       1                  0   \n",
       "3                 0          93826.63       0                  0   \n",
       "4                 1          79084.10       0                  0   \n",
       "\n",
       "   geography_Spain  gender_Male  \n",
       "0                0            0  \n",
       "1                1            0  \n",
       "2                0            0  \n",
       "3                0            0  \n",
       "4                1            0  "
      ]
     },
     "execution_count": 14,
     "metadata": {},
     "output_type": "execute_result"
    }
   ],
   "source": [
    "# применим прямое кодирование, \n",
    "# не угодив при этом в дамми-ловушку\n",
    "data_ohe = pd.get_dummies(data, drop_first=True)\n",
    "data_ohe.head()"
   ]
  },
  {
   "cell_type": "code",
   "execution_count": 15,
   "id": "0f191e0e",
   "metadata": {},
   "outputs": [
    {
     "data": {
      "text/plain": [
       "((6000, 11), (2000, 11), (2000, 11))"
      ]
     },
     "execution_count": 15,
     "metadata": {},
     "output_type": "execute_result"
    }
   ],
   "source": [
    "# разобъём данные на обучающую, валидационную и тестовую выборки\n",
    "target = data_ohe['exited']\n",
    "features = data_ohe.drop('exited', axis=1)\n",
    "\n",
    "features_train, features_valid, target_train, target_valid = train_test_split(\n",
    "    features, target, test_size=0.4, random_state=12345)\n",
    "\n",
    "features_valid, features_test, target_valid, target_test = train_test_split(\n",
    "    features_valid, target_valid, test_size=0.5, random_state=12345)\n",
    "\n",
    "features_train.shape, features_valid.shape, features_test.shape"
   ]
  },
  {
   "cell_type": "code",
   "execution_count": 16,
   "id": "24fafb85",
   "metadata": {},
   "outputs": [
    {
     "data": {
      "text/plain": [
       "(6000, 11)"
      ]
     },
     "execution_count": 16,
     "metadata": {},
     "output_type": "execute_result"
    }
   ],
   "source": [
    "# выделим численные признаки и масштабируем их\n",
    "\n",
    "numeric = ['credit_score', 'age', 'tenure', 'balance',\\\n",
    "           'num_of_products', 'has_cr_card', 'is_active_member', 'estimated_salary']\n",
    "\n",
    "pd.options.mode.chained_assignment = None\n",
    "scaler = StandardScaler()\n",
    "scaler.fit(features_train[numeric])\n",
    "features_train[numeric] = scaler.transform(features_train[numeric])\n",
    "features_valid[numeric] = scaler.transform(features_valid[numeric])\n",
    "features_test[numeric] = scaler.transform(features_test[numeric])\n",
    "\n",
    "\n",
    "features_train.shape"
   ]
  },
  {
   "cell_type": "markdown",
   "id": "4217bb8e",
   "metadata": {},
   "source": [
    "### Вывод"
   ]
  },
  {
   "cell_type": "markdown",
   "id": "6a16ffb3",
   "metadata": {},
   "source": [
    "В этом пункте была произведена подготовка данных: были заполнены пропуски и удалены ненужные столбцы. А также были подготовлены признаки для дальнейшего обучения моделей, произведено кодирование категориальных и масштабирование численных признаков. Были выделены обучающая, валидационная и тестовая выборки."
   ]
  },
  {
   "cell_type": "markdown",
   "id": "0383e746",
   "metadata": {},
   "source": [
    "## Исследуйте баланс классов, обучите модель без учёта дисбаланса."
   ]
  },
  {
   "cell_type": "code",
   "execution_count": 17,
   "id": "f83fc4ad",
   "metadata": {},
   "outputs": [
    {
     "name": "stdout",
     "output_type": "stream",
     "text": [
      "0    0.7963\n",
      "1    0.2037\n",
      "Name: exited, dtype: float64\n"
     ]
    },
    {
     "data": {
      "text/plain": [
       "<AxesSubplot:>"
      ]
     },
     "execution_count": 17,
     "metadata": {},
     "output_type": "execute_result"
    },
    {
     "data": {
      "image/png": "[encoded data removed]",
      "text/plain": [
       "<Figure size 432x288 with 1 Axes>"
      ]
     },
     "metadata": {
      "needs_background": "light"
     },
     "output_type": "display_data"
    }
   ],
   "source": [
    "# исследуем целевой признак\n",
    "# посмотрим, как часто встречается класс «1» или «0»\n",
    "class_frequency = data['exited'].value_counts(normalize=2)\n",
    "print(class_frequency)\n",
    "class_frequency.plot(kind='bar')"
   ]
  },
  {
   "cell_type": "markdown",
   "id": "c18ab925",
   "metadata": {},
   "source": [
    "Видим, что клиенты уходят в 20% случаев. Наблюдается дисбаланс классов, т.к. соотношение классов далеко от 1:1. Всвязи с этим, для оценки качества прогноза модели будем использовать метрику F1-мера."
   ]
  },
  {
   "cell_type": "markdown",
   "id": "8d08fdf1",
   "metadata": {},
   "source": [
    "### Решающее дерево"
   ]
  },
  {
   "cell_type": "code",
   "execution_count": 18,
   "id": "642e91e7",
   "metadata": {},
   "outputs": [
    {
     "name": "stdout",
     "output_type": "stream",
     "text": [
      "F1 наилучшей модели на валидационной выборке: 0.5705614567526556\n",
      "Глубина дерева: 6\n",
      "AUC ROC 0.8169410352107139\n"
     ]
    }
   ],
   "source": [
    "best_model_dt = None\n",
    "best_f1_dt = 0\n",
    "best_depth_dt = 0\n",
    "best_auc_roc_dt = 0\n",
    "for depth in range(1, 16):\n",
    "    model_dt = DecisionTreeClassifier(random_state=12345, max_depth=depth)\n",
    "    model_dt.fit(features_train, target_train)\n",
    "    predictions_dt = model_dt.predict(features_valid)\n",
    "    f1_dt = f1_score(target_valid, predictions_dt)\n",
    "    probabilities_valid = model_dt.predict_proba(features_valid)\n",
    "    probabilities_one_valid = probabilities_valid[:, 1]\n",
    "    auc_roc_dt = roc_auc_score(target_valid, probabilities_one_valid)\n",
    "    if f1_dt > best_f1_dt:\n",
    "        best_model_dt = model_dt\n",
    "        best_f1_dt = f1_dt\n",
    "        best_depth_dt = depth\n",
    "        best_auc_roc_dt = auc_roc_dt\n",
    "\n",
    "print('F1 наилучшей модели на валидационной выборке:', best_f1_dt)\n",
    "print('Глубина дерева:', best_depth_dt)\n",
    "print('AUC ROC', best_auc_roc_dt)"
   ]
  },
  {
   "cell_type": "markdown",
   "id": "9ea327e0",
   "metadata": {},
   "source": [
    "### Случайный лес"
   ]
  },
  {
   "cell_type": "code",
   "execution_count": 19,
   "id": "dd911ded",
   "metadata": {},
   "outputs": [
    {
     "name": "stdout",
     "output_type": "stream",
     "text": [
      "F1 наилучшей модели на валидационной выборке: 0.5896656534954408\n",
      "Глубина дерева: 13\n",
      "Количество деревьев: 60\n",
      "AUC ROC: 0.8402119538589031\n"
     ]
    }
   ],
   "source": [
    "best_model_rf = None\n",
    "best_f1_rf = 0\n",
    "best_depth_rf = 0\n",
    "best_est_rf = 0\n",
    "best_auc_roc_rf = 0\n",
    "for est in range(10, 61, 10):\n",
    "    for depth in range(1, 16):\n",
    "        model_rf = RandomForestClassifier(random_state=12345, n_estimators=est, max_depth=depth)\n",
    "        model_rf.fit(features_train, target_train)\n",
    "        predictions_rf = model_rf.predict(features_valid)\n",
    "        f1_rf = f1_score(target_valid, predictions_rf)\n",
    "        probabilities_valid = model_rf.predict_proba(features_valid)\n",
    "        probabilities_one_valid = probabilities_valid[:, 1]\n",
    "        auc_roc_rf = roc_auc_score(target_valid, probabilities_one_valid)\n",
    "        if f1_rf > best_f1_rf:\n",
    "            best_model_rf = model_rf\n",
    "            best_f1_rf = f1_rf\n",
    "            best_depth_rf = depth\n",
    "            best_est_rf = est\n",
    "            best_auc_roc_rf = auc_roc_rf\n",
    "            \n",
    "print('F1 наилучшей модели на валидационной выборке:', best_f1_rf)\n",
    "print('Глубина дерева:', best_depth_rf)\n",
    "print('Количество деревьев:', best_est_rf)\n",
    "print('AUC ROC:', best_auc_roc_rf)"
   ]
  },
  {
   "cell_type": "markdown",
   "id": "2aa8381f",
   "metadata": {},
   "source": [
    "### Логистическая регрессия "
   ]
  },
  {
   "cell_type": "code",
   "execution_count": 20,
   "id": "d529b7fb",
   "metadata": {},
   "outputs": [
    {
     "name": "stdout",
     "output_type": "stream",
     "text": [
      "F1 модели логистической регрессии на валидационной выборке: 0.33783783783783783\n",
      "AUC ROC: 0.7586711146329217\n"
     ]
    }
   ],
   "source": [
    "model_lr = LogisticRegression(random_state=12345, solver='liblinear')\n",
    "model_lr.fit(features_train, target_train)\n",
    "predictions_lr = model_lr.predict(features_valid)\n",
    "f1_lr = f1_score(target_valid, predictions_lr)\n",
    "probabilities_valid = model_lr.predict_proba(features_valid)\n",
    "probabilities_one_valid = probabilities_valid[:, 1]\n",
    "auc_roc_lr = roc_auc_score(target_valid, probabilities_one_valid)\n",
    "print('F1 модели логистической регрессии на валидационной выборке:', f1_lr)\n",
    "print('AUC ROC:', auc_roc_lr)"
   ]
  },
  {
   "cell_type": "markdown",
   "id": "a6a85e7f",
   "metadata": {},
   "source": [
    "### Вывод"
   ]
  },
  {
   "cell_type": "markdown",
   "id": "579fe417",
   "metadata": {},
   "source": [
    "Несмотря на перебор гиперпараметров, наилучшие модели не дотягивают до нужной нам отметки в 0.59 даже на валидационной выборке. На тестовой выборке показатели, как правило еще хуже. Самое высокое значение f1-меры показала модель Случайный лес. Логистическая регрессия показала самые худшие результаты. Это случилось из-за того, что не был учтен дисбаланс классов. Необходимо улучшить метрики применив техники:  взвешивание классов, upsampling и downsampling."
   ]
  },
  {
   "cell_type": "markdown",
   "id": "8139b588",
   "metadata": {},
   "source": [
    "## Улучшите качество модели, учитывая дисбаланс классов"
   ]
  },
  {
   "cell_type": "markdown",
   "id": "fbcf494b",
   "metadata": {},
   "source": [
    "### Техника взвешивания классов"
   ]
  },
  {
   "cell_type": "code",
   "execution_count": 21,
   "id": "065bfac6",
   "metadata": {},
   "outputs": [
    {
     "name": "stdout",
     "output_type": "stream",
     "text": [
      "F1 наилучшей модели на валидационной выборке: 0.5963791267305644\n",
      "AUC ROC: 0.8310244134068074\n",
      "Глубина дерева: 5\n"
     ]
    }
   ],
   "source": [
    "# добавляю аргумент class_weight='balanced' к модели Решающее дерево\n",
    "best_model_dt = None\n",
    "best_f1_dt = 0\n",
    "best_depth_dt = 0\n",
    "best_auc_roc_dt = 0\n",
    "for depth in range(1, 16):\n",
    "    model_dt = DecisionTreeClassifier(random_state=12345, max_depth=depth, class_weight='balanced')\n",
    "    model_dt.fit(features_train, target_train)\n",
    "    predictions_dt = model_dt.predict(features_valid)\n",
    "    f1_dt = f1_score(target_valid, predictions_dt)\n",
    "    probabilities_valid = model_dt.predict_proba(features_valid)\n",
    "    probabilities_one_valid = probabilities_valid[:, 1]\n",
    "    auc_roc_dt = roc_auc_score(target_valid, probabilities_one_valid)\n",
    "    if f1_dt > best_f1_dt:\n",
    "        best_model_dt = model_dt\n",
    "        best_f1_dt = f1_dt\n",
    "        best_depth_dt = depth\n",
    "        best_auc_roc_dt = auc_roc_dt\n",
    "\n",
    "print('F1 наилучшей модели на валидационной выборке:', best_f1_dt)\n",
    "print('AUC ROC:', best_auc_roc_dt)\n",
    "print('Глубина дерева:', best_depth_dt)"
   ]
  },
  {
   "cell_type": "code",
   "execution_count": 22,
   "id": "84929286",
   "metadata": {},
   "outputs": [
    {
     "name": "stdout",
     "output_type": "stream",
     "text": [
      "F1 наилучшей модели на валидационной выборке: 0.6313559322033898\n",
      "AUC ROC: 0.851490905461562\n",
      "Глубина дерева: 7\n",
      "Количество деревьев: 40\n"
     ]
    }
   ],
   "source": [
    "# добавляю аргумент class_weight='balanced' к модели Случаный лес\n",
    "best_model_rf = None\n",
    "best_f1_rf = 0\n",
    "best_depth_rf = 0\n",
    "best_est_rf = 0\n",
    "best_auc_roc_rf = 0\n",
    "for est in range(10, 61, 10):\n",
    "    for depth in range(1, 16):\n",
    "        model_rf = RandomForestClassifier(random_state=12345, n_estimators=est,\\\n",
    "                                          max_depth=depth, class_weight='balanced')\n",
    "        model_rf.fit(features_train, target_train)\n",
    "        predictions_rf = model_rf.predict(features_valid)\n",
    "        f1_rf = f1_score(target_valid, predictions_rf)\n",
    "        probabilities_valid = model_rf.predict_proba(features_valid)\n",
    "        probabilities_one_valid = probabilities_valid[:, 1]    \n",
    "        auc_roc_rf = roc_auc_score(target_valid, probabilities_one_valid)\n",
    "        if f1_rf > best_f1_rf:\n",
    "            best_model_rf = model_rf\n",
    "            best_f1_rf = f1_rf\n",
    "            best_depth_rf = depth\n",
    "            best_est_rf = est\n",
    "            best_auc_roc_rf = auc_roc_rf\n",
    "            \n",
    "print('F1 наилучшей модели на валидационной выборке:', best_f1_rf)\n",
    "print('AUC ROC:', best_auc_roc_rf)\n",
    "print('Глубина дерева:', best_depth_rf)\n",
    "print('Количество деревьев:', best_est_rf)"
   ]
  },
  {
   "cell_type": "code",
   "execution_count": 23,
   "id": "a75494ac",
   "metadata": {},
   "outputs": [
    {
     "name": "stdout",
     "output_type": "stream",
     "text": [
      "F1 модели логистической регрессии на валидационной выборке: 0.48843187660668386\n",
      "AUC ROC: 0.7634920970971273\n"
     ]
    }
   ],
   "source": [
    "# добавляю аргумент class_weight='balanced' к модели Логистическая регрессия\n",
    "model_lr = LogisticRegression(random_state=12345, solver='liblinear', class_weight='balanced')\n",
    "model_lr.fit(features_train, target_train)\n",
    "predictions_lr = model_lr.predict(features_valid)\n",
    "f1_lr = f1_score(target_valid, predictions_lr)\n",
    "probabilities_valid = model_lr.predict_proba(features_valid)\n",
    "probabilities_one_valid = probabilities_valid[:, 1]\n",
    "auc_roc_lr = roc_auc_score(target_valid, probabilities_one_valid)\n",
    "print('F1 модели логистической регрессии на валидационной выборке:', f1_lr)\n",
    "print('AUC ROC:', auc_roc_lr)"
   ]
  },
  {
   "cell_type": "markdown",
   "id": "0ab9c584",
   "metadata": {},
   "source": [
    "Видим, что метрика f1-мера подросла для всех моделей. Наилучший результат у модели Случайный лес. Это же касается и метрики AUC ROC."
   ]
  },
  {
   "cell_type": "markdown",
   "id": "672bab63",
   "metadata": {},
   "source": [
    "### Upsampling"
   ]
  },
  {
   "cell_type": "code",
   "execution_count": 24,
   "id": "f6bac0b7",
   "metadata": {},
   "outputs": [
    {
     "data": {
      "text/plain": [
       "3"
      ]
     },
     "execution_count": 24,
     "metadata": {},
     "output_type": "execute_result"
    }
   ],
   "source": [
    "# посчитаем соотношение классов\n",
    "len(data[data['exited']==0])//len(data[data['exited']==1])"
   ]
  },
  {
   "cell_type": "code",
   "execution_count": 25,
   "id": "f862598c",
   "metadata": {},
   "outputs": [
    {
     "data": {
      "text/plain": [
       "0    4804\n",
       "1    3588\n",
       "Name: exited, dtype: int64"
      ]
     },
     "execution_count": 25,
     "metadata": {},
     "output_type": "execute_result"
    }
   ],
   "source": [
    "# создадим функицию и получим сэмплы\n",
    "# соотношение классов 1:3\n",
    "def upsample(features, target, repeat):\n",
    "    features_zeros = features[target == 0]\n",
    "    features_ones = features[target == 1]\n",
    "    target_zeros = target[target == 0]\n",
    "    target_ones = target[target == 1]\n",
    "\n",
    "    features_upsampled = pd.concat([features_zeros] + [features_ones] * repeat)\n",
    "    target_upsampled = pd.concat([target_zeros] + [target_ones] * repeat)\n",
    "    \n",
    "    features_upsampled, target_upsampled = shuffle(\n",
    "        features_upsampled, target_upsampled, random_state=12345)\n",
    "    \n",
    "    return features_upsampled, target_upsampled\n",
    "\n",
    "features_upsampled, target_upsampled = upsample(features_train, target_train, 3)\n",
    "target_upsampled.value_counts()"
   ]
  },
  {
   "cell_type": "code",
   "execution_count": 26,
   "id": "ee727a0e",
   "metadata": {},
   "outputs": [
    {
     "name": "stdout",
     "output_type": "stream",
     "text": [
      "F1 наилучшей модели на валидационной выборке: 0.586374695863747\n",
      "AUC ROC: 0.8229097986317362\n",
      "Глубина дерева: 5\n"
     ]
    }
   ],
   "source": [
    "# применяю upsampling для Решащего дерева\n",
    "\n",
    "best_model_dt = None\n",
    "best_f1_dt = 0\n",
    "best_depth_dt = 0\n",
    "best_auc_roc_dt = 0\n",
    "for depth in range(1, 16):\n",
    "    model_dt = DecisionTreeClassifier(random_state=12345, max_depth=depth)\n",
    "    model_dt.fit(features_upsampled, target_upsampled)\n",
    "    predictions_dt = model_dt.predict(features_valid)\n",
    "    f1_dt = f1_score(target_valid, predictions_dt)\n",
    "    probabilities_valid = model_dt.predict_proba(features_valid)\n",
    "    probabilities_one_valid = probabilities_valid[:, 1]\n",
    "    auc_roc_dt = roc_auc_score(target_valid, probabilities_one_valid)\n",
    "    if f1_dt > best_f1_dt:\n",
    "        best_model_dt = model_dt\n",
    "        best_f1_dt = f1_dt\n",
    "        best_depth_dt = depth\n",
    "        best_auc_roc_dt = auc_roc_dt\n",
    "\n",
    "print('F1 наилучшей модели на валидационной выборке:', best_f1_dt)\n",
    "print('AUC ROC:', best_auc_roc_dt)\n",
    "print('Глубина дерева:', best_depth_dt)"
   ]
  },
  {
   "cell_type": "code",
   "execution_count": 27,
   "id": "d0ad8f3c",
   "metadata": {},
   "outputs": [
    {
     "name": "stdout",
     "output_type": "stream",
     "text": [
      "F1 наилучшей модели на валидационной выборке: 0.6473317865429234\n",
      "AUC ROC: 0.8535256080668285\n",
      "Глубина дерева: 7\n",
      "Количество деревьев: 40\n"
     ]
    }
   ],
   "source": [
    "# применяю upsampling для Случайного леса\n",
    "\n",
    "best_model_rf = None\n",
    "best_f1_rf = 0\n",
    "best_depth_rf = 0\n",
    "best_est_rf = 0\n",
    "best_auc_roc_rf = 0\n",
    "for est in range(10, 61, 10):\n",
    "    for depth in range(1, 16):\n",
    "        model_rf = RandomForestClassifier(random_state=12345, n_estimators=est, max_depth=depth)\n",
    "        model_rf.fit(features_upsampled, target_upsampled)\n",
    "        predictions_rf = model_rf.predict(features_valid)\n",
    "        f1_rf = f1_score(target_valid, predictions_rf)\n",
    "        probabilities_valid = model_rf.predict_proba(features_valid)\n",
    "        probabilities_one_valid = probabilities_valid[:, 1]    \n",
    "        auc_roc_rf = roc_auc_score(target_valid, probabilities_one_valid)\n",
    "        if f1_rf > best_f1_rf:\n",
    "            best_model_rf = model_rf\n",
    "            best_f1_rf = f1_rf\n",
    "            best_depth_rf = depth\n",
    "            best_est_rf = est\n",
    "            best_auc_roc_rf = auc_roc_rf\n",
    "            \n",
    "print('F1 наилучшей модели на валидационной выборке:', best_f1_rf)\n",
    "print('AUC ROC:', best_auc_roc_rf)\n",
    "print('Глубина дерева:', best_depth_rf)\n",
    "print('Количество деревьев:', best_est_rf)"
   ]
  },
  {
   "cell_type": "code",
   "execution_count": 28,
   "id": "63edf662",
   "metadata": {},
   "outputs": [
    {
     "name": "stdout",
     "output_type": "stream",
     "text": [
      "F1 модели логистической регрессии на валидационной выборке: 0.4985044865403789\n",
      "AUC ROC: 0.7625530035870046\n"
     ]
    }
   ],
   "source": [
    "# применяю upsampling для Логистической регрессии \n",
    "\n",
    "model_lr = LogisticRegression(random_state=12345, solver='liblinear')\n",
    "model_lr.fit(features_upsampled, target_upsampled)\n",
    "predictions_lr = model_lr.predict(features_valid)\n",
    "f1_lr = f1_score(target_valid, predictions_lr)\n",
    "probabilities_valid = model_lr.predict_proba(features_valid)\n",
    "probabilities_one_valid = probabilities_valid[:, 1]\n",
    "auc_roc_lr = roc_auc_score(target_valid, probabilities_one_valid)\n",
    "print('F1 модели логистической регрессии на валидационной выборке:', f1_lr)\n",
    "print('AUC ROC:', auc_roc_lr)"
   ]
  },
  {
   "cell_type": "markdown",
   "id": "5db64801",
   "metadata": {},
   "source": [
    "Модель Решающее дерево показала значение метрики f1-мера хуже, чем при технике взвешивания классов. А вот для модели Слуйчаный лес метрика f1-мера еще подросла, чего не скажешь о метрике AUC ROC (увеличение только в тысячных долях)."
   ]
  },
  {
   "cell_type": "markdown",
   "id": "0f91ccc4",
   "metadata": {},
   "source": [
    "### Downsampling"
   ]
  },
  {
   "cell_type": "code",
   "execution_count": 42,
   "id": "46dbe3eb",
   "metadata": {},
   "outputs": [
    {
     "data": {
      "text/plain": [
       "1    1196\n",
       "0     961\n",
       "Name: exited, dtype: int64"
      ]
     },
     "execution_count": 42,
     "metadata": {},
     "output_type": "execute_result"
    }
   ],
   "source": [
    "# создадим функцию и получим семплы\n",
    "def downsample(features, target, fraction):\n",
    "    features_zeros = features[target == 0]\n",
    "    features_ones = features[target == 1]\n",
    "    target_zeros = target[target == 0]\n",
    "    target_ones = target[target == 1]\n",
    "\n",
    "    features_downsampled = pd.concat(\n",
    "        [features_zeros.sample(frac=fraction, random_state=12345)] + [features_ones])\n",
    "    target_downsampled = pd.concat(\n",
    "        [target_zeros.sample(frac=fraction, random_state=12345)] + [target_ones])\n",
    "    \n",
    "    features_downsampled, target_downsampled = shuffle(\n",
    "        features_downsampled, target_downsampled, random_state=12345)\n",
    "    \n",
    "    return features_downsampled, target_downsampled\n",
    "\n",
    "features_downsampled, target_downsampled = downsample(features_train, target_train, 0.2)\n",
    "target_downsampled.value_counts()"
   ]
  },
  {
   "cell_type": "code",
   "execution_count": 30,
   "id": "6ec45c29",
   "metadata": {},
   "outputs": [
    {
     "name": "stdout",
     "output_type": "stream",
     "text": [
      "F1 наилучшей модели на валидационной выборке: 0.5489220563847429\n",
      "AUC ROC: 0.8181568664218872\n",
      "Глубина дерева: 5\n"
     ]
    }
   ],
   "source": [
    "# применяю downsampling для Решающего дерева\n",
    "\n",
    "best_model_dt = None\n",
    "best_f1_dt = 0\n",
    "best_depth_dt = 0\n",
    "best_auc_roc_dt = 0\n",
    "for depth in range(1, 16):\n",
    "    model_dt = DecisionTreeClassifier(random_state=12345, max_depth=depth)\n",
    "    model_dt.fit(features_downsampled, target_downsampled)\n",
    "    predictions_dt = model_dt.predict(features_valid)\n",
    "    f1_dt = f1_score(target_valid, predictions_dt)\n",
    "    probabilities_valid = model_dt.predict_proba(features_valid)\n",
    "    probabilities_one_valid = probabilities_valid[:, 1]\n",
    "    auc_roc_dt = roc_auc_score(target_valid, probabilities_one_valid)\n",
    "    if f1_dt > best_f1_dt:\n",
    "        best_model_dt = model_dt\n",
    "        best_f1_dt = f1_dt\n",
    "        best_depth_dt = depth\n",
    "        best_auc_roc_dt = auc_roc_dt\n",
    "\n",
    "print('F1 наилучшей модели на валидационной выборке:', best_f1_dt)\n",
    "print('AUC ROC:', best_auc_roc_dt)\n",
    "print('Глубина дерева:', best_depth_dt)"
   ]
  },
  {
   "cell_type": "code",
   "execution_count": 31,
   "id": "81d477ae",
   "metadata": {},
   "outputs": [
    {
     "name": "stdout",
     "output_type": "stream",
     "text": [
      "F1 наилучшей модели на валидационной выборке: 0.5888689407540395\n",
      "AUC ROC: 0.838197666329944\n",
      "Глубина дерева: 4\n",
      "Количество деревьев: 10\n"
     ]
    }
   ],
   "source": [
    "# применяю downsampling для Случайного леса\n",
    "            \n",
    "best_model_rf = None\n",
    "best_f1_rf = 0\n",
    "best_depth_rf = 0\n",
    "best_est_rf = 0\n",
    "best_auc_roc_rf = 0\n",
    "for est in range(10, 61, 10):\n",
    "    for depth in range(1, 16):\n",
    "        model_rf = RandomForestClassifier(random_state=12345, n_estimators=est, max_depth=depth)\n",
    "        model_rf.fit(features_downsampled, target_downsampled)\n",
    "        predictions_rf = model_rf.predict(features_valid)\n",
    "        f1_rf = f1_score(target_valid, predictions_rf)\n",
    "        probabilities_valid = model_rf.predict_proba(features_valid)\n",
    "        probabilities_one_valid = probabilities_valid[:, 1]    \n",
    "        auc_roc_rf = roc_auc_score(target_valid, probabilities_one_valid)\n",
    "        if f1_rf > best_f1_rf:\n",
    "            best_model_rf = model_rf\n",
    "            best_f1_rf = f1_rf\n",
    "            best_depth_rf = depth\n",
    "            best_est_rf = est\n",
    "            best_auc_roc_rf = auc_roc_rf\n",
    "            \n",
    "print('F1 наилучшей модели на валидационной выборке:', best_f1_rf)\n",
    "print('AUC ROC:', best_auc_roc_rf)\n",
    "print('Глубина дерева:', best_depth_rf)\n",
    "print('Количество деревьев:', best_est_rf)"
   ]
  },
  {
   "cell_type": "code",
   "execution_count": 32,
   "id": "223a4857",
   "metadata": {},
   "outputs": [
    {
     "name": "stdout",
     "output_type": "stream",
     "text": [
      "F1 модели логистической регрессии на валидационной выборке: 0.4799382716049383\n",
      "AUC ROC: 0.763068673292241\n"
     ]
    }
   ],
   "source": [
    "# применяю downsampling для Логистической регрессии\n",
    "\n",
    "model_lr = LogisticRegression(random_state=12345, solver='liblinear')\n",
    "model_lr.fit(features_downsampled, target_downsampled)\n",
    "predictions_lr = model_lr.predict(features_valid)\n",
    "f1_lr = f1_score(target_valid, predictions_lr)\n",
    "probabilities_valid = model_lr.predict_proba(features_valid)\n",
    "probabilities_one_valid = probabilities_valid[:, 1]\n",
    "auc_roc_lr = roc_auc_score(target_valid, probabilities_one_valid)\n",
    "print('F1 модели логистической регрессии на валидационной выборке:', f1_lr)\n",
    "print('AUC ROC:', auc_roc_lr)"
   ]
  },
  {
   "cell_type": "markdown",
   "id": "a863c380",
   "metadata": {},
   "source": [
    "В данной задаче техника уменьшения выборки показала наихудший результат среди всех техник для борьбы с дисбалансом классов."
   ]
  },
  {
   "cell_type": "markdown",
   "id": "21d12742",
   "metadata": {},
   "source": [
    "### Вывод"
   ]
  },
  {
   "cell_type": "markdown",
   "id": "d0c351ab",
   "metadata": {},
   "source": [
    "В этом пункте был произведен перебор техник для борьбы с дисблансом классов с целью улучшения метрик моделей. А также был сделан подбор гиперпараметров для выявления наилучшей модели. В результате можно выделить модель Случайного леса, обученную на увеличенной выборке, с количеством деревьев 40 и глубиной дерева 7."
   ]
  },
  {
   "cell_type": "markdown",
   "id": "c53e0841",
   "metadata": {},
   "source": [
    "## Проведите финальное тестирование"
   ]
  },
  {
   "cell_type": "code",
   "execution_count": 33,
   "id": "b476519d",
   "metadata": {},
   "outputs": [
    {
     "name": "stdout",
     "output_type": "stream",
     "text": [
      "F1-мера: 0.5995316159250585\n",
      "AUC ROC: 0.8365548794656041\n"
     ]
    }
   ],
   "source": [
    "# инициализируем модель\n",
    "model = RandomForestClassifier(random_state=12345, n_estimators=40, max_depth=7)\n",
    "\n",
    "# обучим на увеличенной выборке\n",
    "model.fit(features_upsampled, target_upsampled)\n",
    "\n",
    "# получим предсказания на тестовой выборке\n",
    "predictions_test = model.predict(features_test)\n",
    "\n",
    "f1 = f1_score(target_test, predictions_test)\n",
    "print('F1-мера:', f1)\n",
    "\n",
    "probabilities_test = model_rf.predict_proba(features_test)\n",
    "probabilities_one_test = probabilities_test[:, 1]    \n",
    "auc_roc = roc_auc_score(target_test, probabilities_one_test)\n",
    "print('AUC ROC:', auc_roc)"
   ]
  },
  {
   "cell_type": "code",
   "execution_count": 34,
   "id": "f3121240",
   "metadata": {},
   "outputs": [
    {
     "data": {
      "image/png": "[encoded data removed]",
      "text/plain": [
       "<Figure size 432x288 with 1 Axes>"
      ]
     },
     "metadata": {
      "needs_background": "light"
     },
     "output_type": "display_data"
    }
   ],
   "source": [
    "# построим ROC-кривую\n",
    "fpr, tpr, thresholds = roc_curve(target_test, probabilities_one_test)\n",
    "plt.figure()\n",
    "plt.plot(fpr, tpr)\n",
    "plt.plot([0, 1], [0, 1], linestyle='--') # ROC-кривая случайной модели (выглядит как прямая)\n",
    "plt.xlim([0.0, 1.0])\n",
    "plt.ylim([0.0, 1.0])\n",
    "plt.xlabel(\"False Positive Rate\")\n",
    "plt.ylabel(\"True Positive Rate\")\n",
    "plt.title(\"ROC-кривая\")\n",
    "plt.show()"
   ]
  },
  {
   "cell_type": "markdown",
   "id": "d3d6d6ff",
   "metadata": {},
   "source": [
    "## Вывод"
   ]
  },
  {
   "cell_type": "markdown",
   "id": "9785d675",
   "metadata": {},
   "source": [
    "Была произведена работа по созданию модели для прогнозирования ухода клиентов из банка. На первом этапе были обработаны данные и подготовлены признаки для дальнейшего обучения моделей, произведено кодирование категориальных и масштабирование численных признаков. А также были выделены обучающая, валидационная и тестовая выборки.\n",
    "\n",
    "В ходе исследования был выявлен дисбаланс классов целевого признака (примерно 80:20). Для оценки качества модели была принята метрика f1-мера и дополонительно расчет метрики AUC ROC. Затем было произведено обучение трех моделей: Решающее дерево, Случайный лес и Логистическая регрессия. Полученные метрики не были достаточно высоки, чтобы выполнить цель исследования.\n",
    "\n",
    "Для улучшения качества модели было принято решение применить методы борьбы с дисбалансом классов, а именно технику взвешивания классов, увеличение выборки и уменьшение выборки. После применения данных методов качество моделей возросло. Наиболее хорошие результаты показали техники взвешивания классов и увеличение выборки. Лучший результат показала модель Случайный лес с количеством деревьев 40 и глубиной дерева 7, обученная на увеличенной выборке.\n",
    "\n",
    "На следующем этапе было произведено тестирование лучшей модели на новых данных, в ходе которого были получены метрики:\n",
    "\n",
    "* F1-мера на тестовой выборке равна 0.599;\n",
    "* AUC ROC на тестовой выборке равна 0.849."
   ]
  }
 ],
 "metadata": {
  "ExecuteTimeLog": [
   {
    "duration": 375,
    "start_time": "2022-04-04T16:13:56.434Z"
   },
   {
    "duration": 23,
    "start_time": "2022-04-04T16:22:54.566Z"
   },
   {
    "duration": 20,
    "start_time": "2022-04-04T16:23:11.400Z"
   },
   {
    "duration": 12,
    "start_time": "2022-04-04T16:23:24.383Z"
   },
   {
    "duration": 13,
    "start_time": "2022-04-04T16:40:19.377Z"
   },
   {
    "duration": 10,
    "start_time": "2022-04-04T16:40:30.968Z"
   },
   {
    "duration": 57,
    "start_time": "2022-04-05T11:34:05.944Z"
   },
   {
    "duration": 462,
    "start_time": "2022-04-05T11:34:15.617Z"
   },
   {
    "duration": 28,
    "start_time": "2022-04-05T11:34:16.081Z"
   },
   {
    "duration": 31,
    "start_time": "2022-04-05T11:34:16.111Z"
   },
   {
    "duration": 23,
    "start_time": "2022-04-05T11:34:16.145Z"
   },
   {
    "duration": 14,
    "start_time": "2022-04-05T11:34:16.170Z"
   },
   {
    "duration": 12,
    "start_time": "2022-04-05T11:34:16.187Z"
   },
   {
    "duration": 3,
    "start_time": "2022-04-05T11:34:16.201Z"
   },
   {
    "duration": 5,
    "start_time": "2022-04-05T11:35:05.183Z"
   },
   {
    "duration": 6,
    "start_time": "2022-04-05T11:36:06.179Z"
   },
   {
    "duration": 808,
    "start_time": "2022-04-05T11:43:47.400Z"
   },
   {
    "duration": 130,
    "start_time": "2022-04-05T11:45:57.868Z"
   },
   {
    "duration": 6,
    "start_time": "2022-04-05T11:46:11.334Z"
   },
   {
    "duration": 26,
    "start_time": "2022-04-05T11:46:58.752Z"
   },
   {
    "duration": 127,
    "start_time": "2022-04-05T11:47:44.177Z"
   },
   {
    "duration": 138,
    "start_time": "2022-04-05T11:50:29.540Z"
   },
   {
    "duration": 18,
    "start_time": "2022-04-05T12:01:57.655Z"
   },
   {
    "duration": 7,
    "start_time": "2022-04-05T12:02:19.729Z"
   },
   {
    "duration": 179,
    "start_time": "2022-04-05T12:02:33.251Z"
   },
   {
    "duration": 135,
    "start_time": "2022-04-05T12:02:56.404Z"
   },
   {
    "duration": 90,
    "start_time": "2022-04-05T12:07:08.765Z"
   },
   {
    "duration": 30,
    "start_time": "2022-04-05T12:07:23.759Z"
   },
   {
    "duration": 14,
    "start_time": "2022-04-05T12:07:57.083Z"
   },
   {
    "duration": 839,
    "start_time": "2022-04-05T12:08:20.463Z"
   },
   {
    "duration": 127,
    "start_time": "2022-04-05T12:08:44.172Z"
   },
   {
    "duration": 120,
    "start_time": "2022-04-05T12:08:59.474Z"
   },
   {
    "duration": 120,
    "start_time": "2022-04-05T12:09:18.153Z"
   },
   {
    "duration": 138,
    "start_time": "2022-04-05T12:11:23.646Z"
   },
   {
    "duration": 4,
    "start_time": "2022-04-05T12:36:51.612Z"
   },
   {
    "duration": 246,
    "start_time": "2022-04-05T12:45:42.769Z"
   },
   {
    "duration": 220,
    "start_time": "2022-04-05T12:45:55.138Z"
   },
   {
    "duration": 162,
    "start_time": "2022-04-05T12:46:18.167Z"
   },
   {
    "duration": 259,
    "start_time": "2022-04-05T12:46:40.911Z"
   },
   {
    "duration": 6,
    "start_time": "2022-04-05T12:47:15.147Z"
   },
   {
    "duration": 5,
    "start_time": "2022-04-05T12:47:54.008Z"
   },
   {
    "duration": 3,
    "start_time": "2022-04-05T12:52:47.958Z"
   },
   {
    "duration": 13,
    "start_time": "2022-04-05T12:54:59.462Z"
   },
   {
    "duration": 242,
    "start_time": "2022-04-05T12:55:25.605Z"
   },
   {
    "duration": 2,
    "start_time": "2022-04-05T12:56:03.953Z"
   },
   {
    "duration": 229,
    "start_time": "2022-04-05T12:56:11.182Z"
   },
   {
    "duration": 223,
    "start_time": "2022-04-05T12:56:21.574Z"
   },
   {
    "duration": 221,
    "start_time": "2022-04-05T12:56:29.856Z"
   },
   {
    "duration": 229,
    "start_time": "2022-04-05T12:58:33.834Z"
   },
   {
    "duration": 211,
    "start_time": "2022-04-05T12:58:48.599Z"
   },
   {
    "duration": 213,
    "start_time": "2022-04-05T12:58:59.354Z"
   },
   {
    "duration": 215,
    "start_time": "2022-04-05T12:59:25.506Z"
   },
   {
    "duration": 211,
    "start_time": "2022-04-05T13:00:04.447Z"
   },
   {
    "duration": 360,
    "start_time": "2022-04-05T13:00:15.487Z"
   },
   {
    "duration": 25,
    "start_time": "2022-04-05T13:00:15.849Z"
   },
   {
    "duration": 20,
    "start_time": "2022-04-05T13:00:15.876Z"
   },
   {
    "duration": 13,
    "start_time": "2022-04-05T13:00:15.898Z"
   },
   {
    "duration": 33,
    "start_time": "2022-04-05T13:00:15.914Z"
   },
   {
    "duration": 467,
    "start_time": "2022-04-05T13:00:15.949Z"
   },
   {
    "duration": 33,
    "start_time": "2022-04-05T13:00:16.417Z"
   },
   {
    "duration": 5,
    "start_time": "2022-04-05T13:00:16.451Z"
   },
   {
    "duration": 8,
    "start_time": "2022-04-05T13:00:16.458Z"
   },
   {
    "duration": 10,
    "start_time": "2022-04-05T13:00:16.468Z"
   },
   {
    "duration": 8,
    "start_time": "2022-04-05T13:00:16.479Z"
   },
   {
    "duration": 4,
    "start_time": "2022-04-05T13:00:16.489Z"
   },
   {
    "duration": 235,
    "start_time": "2022-04-05T13:00:16.495Z"
   },
   {
    "duration": 224,
    "start_time": "2022-04-05T13:00:33.884Z"
   },
   {
    "duration": 411,
    "start_time": "2022-04-05T13:00:43.176Z"
   },
   {
    "duration": 25,
    "start_time": "2022-04-05T13:00:43.589Z"
   },
   {
    "duration": 25,
    "start_time": "2022-04-05T13:00:43.616Z"
   },
   {
    "duration": 14,
    "start_time": "2022-04-05T13:00:43.643Z"
   },
   {
    "duration": 12,
    "start_time": "2022-04-05T13:00:43.658Z"
   },
   {
    "duration": 495,
    "start_time": "2022-04-05T13:00:43.672Z"
   },
   {
    "duration": 25,
    "start_time": "2022-04-05T13:00:44.169Z"
   },
   {
    "duration": 5,
    "start_time": "2022-04-05T13:00:44.195Z"
   },
   {
    "duration": 5,
    "start_time": "2022-04-05T13:00:44.202Z"
   },
   {
    "duration": 29,
    "start_time": "2022-04-05T13:00:44.209Z"
   },
   {
    "duration": 5,
    "start_time": "2022-04-05T13:00:44.239Z"
   },
   {
    "duration": 7,
    "start_time": "2022-04-05T13:00:44.245Z"
   },
   {
    "duration": 222,
    "start_time": "2022-04-05T13:00:44.254Z"
   },
   {
    "duration": 6,
    "start_time": "2022-04-05T13:03:18.148Z"
   },
   {
    "duration": 11,
    "start_time": "2022-04-05T13:07:21.941Z"
   },
   {
    "duration": 12,
    "start_time": "2022-04-05T13:08:21.466Z"
   },
   {
    "duration": 674,
    "start_time": "2022-04-05T13:24:42.751Z"
   },
   {
    "duration": 11,
    "start_time": "2022-04-05T13:31:41.153Z"
   },
   {
    "duration": 36,
    "start_time": "2022-04-05T13:52:28.570Z"
   },
   {
    "duration": 30,
    "start_time": "2022-04-05T13:52:50.644Z"
   },
   {
    "duration": 1190,
    "start_time": "2022-04-05T13:53:20.702Z"
   },
   {
    "duration": 27,
    "start_time": "2022-04-05T13:53:21.894Z"
   },
   {
    "duration": 21,
    "start_time": "2022-04-05T13:53:21.922Z"
   },
   {
    "duration": 24,
    "start_time": "2022-04-05T13:53:21.945Z"
   },
   {
    "duration": 13,
    "start_time": "2022-04-05T13:53:21.971Z"
   },
   {
    "duration": 425,
    "start_time": "2022-04-05T13:53:21.986Z"
   },
   {
    "duration": 30,
    "start_time": "2022-04-05T13:53:22.413Z"
   },
   {
    "duration": 5,
    "start_time": "2022-04-05T13:53:22.444Z"
   },
   {
    "duration": 7,
    "start_time": "2022-04-05T13:53:22.450Z"
   },
   {
    "duration": 8,
    "start_time": "2022-04-05T13:53:22.458Z"
   },
   {
    "duration": 5,
    "start_time": "2022-04-05T13:53:22.467Z"
   },
   {
    "duration": 4,
    "start_time": "2022-04-05T13:53:22.474Z"
   },
   {
    "duration": 235,
    "start_time": "2022-04-05T13:53:22.480Z"
   },
   {
    "duration": 5,
    "start_time": "2022-04-05T13:53:22.717Z"
   },
   {
    "duration": 21,
    "start_time": "2022-04-05T13:53:22.723Z"
   },
   {
    "duration": 9,
    "start_time": "2022-04-05T13:53:22.746Z"
   },
   {
    "duration": 31,
    "start_time": "2022-04-05T13:53:22.757Z"
   },
   {
    "duration": 29,
    "start_time": "2022-04-05T13:54:17.875Z"
   },
   {
    "duration": 12,
    "start_time": "2022-04-05T13:55:07.755Z"
   },
   {
    "duration": 105,
    "start_time": "2022-04-05T15:01:07.300Z"
   },
   {
    "duration": 110,
    "start_time": "2022-04-05T15:02:43.948Z"
   },
   {
    "duration": 3,
    "start_time": "2022-04-05T15:11:16.239Z"
   },
   {
    "duration": 3,
    "start_time": "2022-04-05T15:24:22.236Z"
   },
   {
    "duration": 3,
    "start_time": "2022-04-05T15:24:30.057Z"
   },
   {
    "duration": 2,
    "start_time": "2022-04-05T15:24:30.807Z"
   },
   {
    "duration": 3,
    "start_time": "2022-04-05T15:24:31.839Z"
   },
   {
    "duration": 2,
    "start_time": "2022-04-05T15:24:33.069Z"
   },
   {
    "duration": 2,
    "start_time": "2022-04-05T15:24:34.019Z"
   },
   {
    "duration": 2,
    "start_time": "2022-04-05T15:24:34.929Z"
   },
   {
    "duration": 44,
    "start_time": "2022-04-05T15:32:04.157Z"
   },
   {
    "duration": 63,
    "start_time": "2022-04-05T15:47:06.753Z"
   },
   {
    "duration": 5747,
    "start_time": "2022-04-05T15:48:53.296Z"
   },
   {
    "duration": 5834,
    "start_time": "2022-04-05T15:49:15.553Z"
   },
   {
    "duration": 33,
    "start_time": "2022-04-05T15:50:12.774Z"
   },
   {
    "duration": 73,
    "start_time": "2022-04-05T16:05:31.969Z"
   },
   {
    "duration": 5965,
    "start_time": "2022-04-05T16:07:19.544Z"
   },
   {
    "duration": 30,
    "start_time": "2022-04-05T16:08:21.475Z"
   },
   {
    "duration": 4,
    "start_time": "2022-04-05T16:09:39.822Z"
   },
   {
    "duration": 17,
    "start_time": "2022-04-05T16:11:40.063Z"
   },
   {
    "duration": 113,
    "start_time": "2022-04-05T16:15:33.369Z"
   },
   {
    "duration": 11070,
    "start_time": "2022-04-05T16:16:32.553Z"
   },
   {
    "duration": 95,
    "start_time": "2022-04-05T16:16:51.210Z"
   },
   {
    "duration": 11122,
    "start_time": "2022-04-05T16:17:08.027Z"
   },
   {
    "duration": 30,
    "start_time": "2022-04-05T16:17:38.578Z"
   },
   {
    "duration": 116,
    "start_time": "2022-04-05T16:18:43.022Z"
   },
   {
    "duration": 12,
    "start_time": "2022-04-05T16:21:16.355Z"
   },
   {
    "duration": 39,
    "start_time": "2022-04-05T16:23:20.379Z"
   },
   {
    "duration": 3151,
    "start_time": "2022-04-05T16:25:27.897Z"
   },
   {
    "duration": 25,
    "start_time": "2022-04-05T16:26:33.196Z"
   },
   {
    "duration": 23,
    "start_time": "2022-04-05T16:47:19.881Z"
   },
   {
    "duration": 24,
    "start_time": "2022-04-05T16:47:28.334Z"
   },
   {
    "duration": 45,
    "start_time": "2022-04-05T16:48:40.911Z"
   },
   {
    "duration": 21,
    "start_time": "2022-04-05T16:49:08.792Z"
   },
   {
    "duration": 6,
    "start_time": "2022-04-05T17:06:31.034Z"
   },
   {
    "duration": 12,
    "start_time": "2022-04-05T17:06:50.484Z"
   },
   {
    "duration": 11,
    "start_time": "2022-04-05T17:06:51.395Z"
   },
   {
    "duration": 66,
    "start_time": "2022-04-05T17:06:52.994Z"
   },
   {
    "duration": 69,
    "start_time": "2022-04-05T17:06:54.503Z"
   },
   {
    "duration": 38,
    "start_time": "2022-04-05T17:07:04.940Z"
   },
   {
    "duration": 5753,
    "start_time": "2022-04-05T17:07:07.757Z"
   },
   {
    "duration": 7263,
    "start_time": "2022-04-05T17:07:18.071Z"
   },
   {
    "duration": 7,
    "start_time": "2022-04-05T17:10:08.054Z"
   },
   {
    "duration": 12,
    "start_time": "2022-04-05T17:10:33.997Z"
   },
   {
    "duration": 67,
    "start_time": "2022-04-05T17:10:35.995Z"
   },
   {
    "duration": 68,
    "start_time": "2022-04-05T17:10:38.121Z"
   },
   {
    "duration": 44,
    "start_time": "2022-04-05T17:10:42.390Z"
   },
   {
    "duration": 5763,
    "start_time": "2022-04-05T17:10:49.421Z"
   },
   {
    "duration": 7258,
    "start_time": "2022-04-05T17:10:55.186Z"
   },
   {
    "duration": 3749,
    "start_time": "2022-04-05T17:11:02.446Z"
   },
   {
    "duration": 28,
    "start_time": "2022-04-05T17:11:11.032Z"
   },
   {
    "duration": 63,
    "start_time": "2022-04-05T17:11:12.274Z"
   },
   {
    "duration": 22,
    "start_time": "2022-04-05T17:11:14.749Z"
   },
   {
    "duration": 1198,
    "start_time": "2022-04-06T13:26:37.015Z"
   },
   {
    "duration": 25,
    "start_time": "2022-04-06T13:26:38.215Z"
   },
   {
    "duration": 24,
    "start_time": "2022-04-06T13:26:38.242Z"
   },
   {
    "duration": 15,
    "start_time": "2022-04-06T13:26:38.268Z"
   },
   {
    "duration": 47,
    "start_time": "2022-04-06T13:26:38.286Z"
   },
   {
    "duration": 584,
    "start_time": "2022-04-06T13:26:38.336Z"
   },
   {
    "duration": 30,
    "start_time": "2022-04-06T13:26:38.921Z"
   },
   {
    "duration": 4,
    "start_time": "2022-04-06T13:26:38.952Z"
   },
   {
    "duration": 4,
    "start_time": "2022-04-06T13:26:38.958Z"
   },
   {
    "duration": 5,
    "start_time": "2022-04-06T13:26:38.965Z"
   },
   {
    "duration": 5,
    "start_time": "2022-04-06T13:26:38.971Z"
   },
   {
    "duration": 5,
    "start_time": "2022-04-06T13:26:38.977Z"
   },
   {
    "duration": 231,
    "start_time": "2022-04-06T13:26:38.984Z"
   },
   {
    "duration": 17,
    "start_time": "2022-04-06T13:26:39.217Z"
   },
   {
    "duration": 11,
    "start_time": "2022-04-06T13:26:39.236Z"
   },
   {
    "duration": 13,
    "start_time": "2022-04-06T13:26:39.249Z"
   },
   {
    "duration": 33,
    "start_time": "2022-04-06T13:26:39.264Z"
   },
   {
    "duration": 142,
    "start_time": "2022-04-06T13:26:39.299Z"
   },
   {
    "duration": 62,
    "start_time": "2022-04-06T13:26:39.443Z"
   },
   {
    "duration": 5726,
    "start_time": "2022-04-06T13:26:39.507Z"
   },
   {
    "duration": 22,
    "start_time": "2022-04-06T13:26:45.234Z"
   },
   {
    "duration": 9,
    "start_time": "2022-04-06T13:26:45.333Z"
   },
   {
    "duration": 10,
    "start_time": "2022-04-06T13:26:45.434Z"
   },
   {
    "duration": 10,
    "start_time": "2022-04-06T13:26:45.445Z"
   },
   {
    "duration": 85,
    "start_time": "2022-04-06T13:26:45.456Z"
   },
   {
    "duration": 72,
    "start_time": "2022-04-06T13:26:45.543Z"
   },
   {
    "duration": 51,
    "start_time": "2022-04-06T13:26:45.617Z"
   },
   {
    "duration": 5840,
    "start_time": "2022-04-06T13:26:45.671Z"
   },
   {
    "duration": 7320,
    "start_time": "2022-04-06T13:26:51.512Z"
   },
   {
    "duration": 3704,
    "start_time": "2022-04-06T13:26:58.834Z"
   },
   {
    "duration": 23,
    "start_time": "2022-04-06T13:27:02.540Z"
   },
   {
    "duration": 117,
    "start_time": "2022-04-06T13:27:02.634Z"
   },
   {
    "duration": 184,
    "start_time": "2022-04-06T13:27:02.753Z"
   },
   {
    "duration": 282,
    "start_time": "2022-04-06T13:29:04.380Z"
   },
   {
    "duration": 1132,
    "start_time": "2022-04-06T13:29:13.958Z"
   },
   {
    "duration": 25,
    "start_time": "2022-04-06T13:29:15.092Z"
   },
   {
    "duration": 27,
    "start_time": "2022-04-06T13:29:15.119Z"
   },
   {
    "duration": 14,
    "start_time": "2022-04-06T13:29:15.149Z"
   },
   {
    "duration": 12,
    "start_time": "2022-04-06T13:29:15.165Z"
   },
   {
    "duration": 447,
    "start_time": "2022-04-06T13:29:15.179Z"
   },
   {
    "duration": 23,
    "start_time": "2022-04-06T13:29:15.633Z"
   },
   {
    "duration": 6,
    "start_time": "2022-04-06T13:29:15.657Z"
   },
   {
    "duration": 4,
    "start_time": "2022-04-06T13:29:15.665Z"
   },
   {
    "duration": 5,
    "start_time": "2022-04-06T13:29:15.673Z"
   },
   {
    "duration": 5,
    "start_time": "2022-04-06T13:29:15.679Z"
   },
   {
    "duration": 4,
    "start_time": "2022-04-06T13:29:15.686Z"
   },
   {
    "duration": 254,
    "start_time": "2022-04-06T13:29:15.691Z"
   },
   {
    "duration": 5,
    "start_time": "2022-04-06T13:29:15.946Z"
   },
   {
    "duration": 11,
    "start_time": "2022-04-06T13:29:15.952Z"
   },
   {
    "duration": 11,
    "start_time": "2022-04-06T13:29:15.965Z"
   },
   {
    "duration": 31,
    "start_time": "2022-04-06T13:29:15.977Z"
   },
   {
    "duration": 115,
    "start_time": "2022-04-06T13:29:16.033Z"
   },
   {
    "duration": 62,
    "start_time": "2022-04-06T13:29:16.150Z"
   },
   {
    "duration": 5763,
    "start_time": "2022-04-06T13:29:16.214Z"
   },
   {
    "duration": 59,
    "start_time": "2022-04-06T13:29:21.978Z"
   },
   {
    "duration": 95,
    "start_time": "2022-04-06T13:29:22.039Z"
   },
   {
    "duration": 10,
    "start_time": "2022-04-06T13:29:22.136Z"
   },
   {
    "duration": 10,
    "start_time": "2022-04-06T13:29:22.148Z"
   },
   {
    "duration": 85,
    "start_time": "2022-04-06T13:29:22.160Z"
   },
   {
    "duration": 70,
    "start_time": "2022-04-06T13:29:22.247Z"
   },
   {
    "duration": 41,
    "start_time": "2022-04-06T13:29:22.333Z"
   },
   {
    "duration": 5765,
    "start_time": "2022-04-06T13:29:22.378Z"
   },
   {
    "duration": 7232,
    "start_time": "2022-04-06T13:29:28.144Z"
   },
   {
    "duration": 3667,
    "start_time": "2022-04-06T13:29:35.377Z"
   },
   {
    "duration": 24,
    "start_time": "2022-04-06T13:29:39.046Z"
   },
   {
    "duration": 119,
    "start_time": "2022-04-06T13:29:39.134Z"
   },
   {
    "duration": 105,
    "start_time": "2022-04-06T13:29:39.333Z"
   },
   {
    "duration": 1122,
    "start_time": "2022-04-06T13:30:22.475Z"
   },
   {
    "duration": 24,
    "start_time": "2022-04-06T13:30:23.599Z"
   },
   {
    "duration": 21,
    "start_time": "2022-04-06T13:30:23.624Z"
   },
   {
    "duration": 13,
    "start_time": "2022-04-06T13:30:23.647Z"
   },
   {
    "duration": 11,
    "start_time": "2022-04-06T13:30:23.662Z"
   },
   {
    "duration": 404,
    "start_time": "2022-04-06T13:30:23.675Z"
   },
   {
    "duration": 24,
    "start_time": "2022-04-06T13:30:24.081Z"
   },
   {
    "duration": 5,
    "start_time": "2022-04-06T13:30:24.107Z"
   },
   {
    "duration": 5,
    "start_time": "2022-04-06T13:30:24.132Z"
   },
   {
    "duration": 6,
    "start_time": "2022-04-06T13:30:24.140Z"
   },
   {
    "duration": 6,
    "start_time": "2022-04-06T13:30:24.148Z"
   },
   {
    "duration": 8,
    "start_time": "2022-04-06T13:30:24.155Z"
   },
   {
    "duration": 230,
    "start_time": "2022-04-06T13:30:24.165Z"
   },
   {
    "duration": 5,
    "start_time": "2022-04-06T13:30:24.398Z"
   },
   {
    "duration": 14,
    "start_time": "2022-04-06T13:30:24.405Z"
   },
   {
    "duration": 14,
    "start_time": "2022-04-06T13:30:24.432Z"
   },
   {
    "duration": 35,
    "start_time": "2022-04-06T13:30:24.448Z"
   },
   {
    "duration": 131,
    "start_time": "2022-04-06T13:30:24.485Z"
   },
   {
    "duration": 67,
    "start_time": "2022-04-06T13:30:24.632Z"
   },
   {
    "duration": 5939,
    "start_time": "2022-04-06T13:30:24.701Z"
   },
   {
    "duration": 91,
    "start_time": "2022-04-06T13:30:30.642Z"
   },
   {
    "duration": 99,
    "start_time": "2022-04-06T13:30:30.736Z"
   },
   {
    "duration": 10,
    "start_time": "2022-04-06T13:30:30.837Z"
   },
   {
    "duration": 18,
    "start_time": "2022-04-06T13:30:30.849Z"
   },
   {
    "duration": 83,
    "start_time": "2022-04-06T13:30:30.869Z"
   },
   {
    "duration": 82,
    "start_time": "2022-04-06T13:30:30.954Z"
   },
   {
    "duration": 43,
    "start_time": "2022-04-06T13:30:31.038Z"
   },
   {
    "duration": 6068,
    "start_time": "2022-04-06T13:30:31.084Z"
   },
   {
    "duration": 7452,
    "start_time": "2022-04-06T13:30:37.154Z"
   },
   {
    "duration": 3760,
    "start_time": "2022-04-06T13:30:44.607Z"
   },
   {
    "duration": 68,
    "start_time": "2022-04-06T13:30:48.369Z"
   },
   {
    "duration": 122,
    "start_time": "2022-04-06T13:30:48.439Z"
   },
   {
    "duration": 112,
    "start_time": "2022-04-06T13:30:48.633Z"
   },
   {
    "duration": 1098,
    "start_time": "2022-04-06T13:32:22.888Z"
   },
   {
    "duration": 23,
    "start_time": "2022-04-06T13:32:23.988Z"
   },
   {
    "duration": 21,
    "start_time": "2022-04-06T13:32:24.013Z"
   },
   {
    "duration": 12,
    "start_time": "2022-04-06T13:32:24.036Z"
   },
   {
    "duration": 11,
    "start_time": "2022-04-06T13:32:24.049Z"
   },
   {
    "duration": 389,
    "start_time": "2022-04-06T13:32:24.061Z"
   },
   {
    "duration": 22,
    "start_time": "2022-04-06T13:32:24.451Z"
   },
   {
    "duration": 5,
    "start_time": "2022-04-06T13:32:24.475Z"
   },
   {
    "duration": 5,
    "start_time": "2022-04-06T13:32:24.481Z"
   },
   {
    "duration": 7,
    "start_time": "2022-04-06T13:32:24.488Z"
   },
   {
    "duration": 4,
    "start_time": "2022-04-06T13:32:24.497Z"
   },
   {
    "duration": 31,
    "start_time": "2022-04-06T13:32:24.503Z"
   },
   {
    "duration": 210,
    "start_time": "2022-04-06T13:32:24.536Z"
   },
   {
    "duration": 5,
    "start_time": "2022-04-06T13:32:24.748Z"
   },
   {
    "duration": 10,
    "start_time": "2022-04-06T13:32:24.755Z"
   },
   {
    "duration": 12,
    "start_time": "2022-04-06T13:32:24.766Z"
   },
   {
    "duration": 61,
    "start_time": "2022-04-06T13:32:24.780Z"
   },
   {
    "duration": 109,
    "start_time": "2022-04-06T13:32:24.842Z"
   },
   {
    "duration": 61,
    "start_time": "2022-04-06T13:32:24.953Z"
   },
   {
    "duration": 5717,
    "start_time": "2022-04-06T13:32:25.016Z"
   },
   {
    "duration": 105,
    "start_time": "2022-04-06T13:32:30.734Z"
   },
   {
    "duration": 96,
    "start_time": "2022-04-06T13:32:30.841Z"
   },
   {
    "duration": 19,
    "start_time": "2022-04-06T13:32:30.939Z"
   },
   {
    "duration": 11,
    "start_time": "2022-04-06T13:32:30.960Z"
   },
   {
    "duration": 82,
    "start_time": "2022-04-06T13:32:30.973Z"
   },
   {
    "duration": 80,
    "start_time": "2022-04-06T13:32:31.057Z"
   },
   {
    "duration": 42,
    "start_time": "2022-04-06T13:32:31.138Z"
   },
   {
    "duration": 5819,
    "start_time": "2022-04-06T13:32:31.183Z"
   },
   {
    "duration": 7198,
    "start_time": "2022-04-06T13:32:37.004Z"
   },
   {
    "duration": 3700,
    "start_time": "2022-04-06T13:32:44.203Z"
   },
   {
    "duration": 128,
    "start_time": "2022-04-06T13:32:47.905Z"
   },
   {
    "duration": 117,
    "start_time": "2022-04-06T13:32:48.035Z"
   },
   {
    "duration": 180,
    "start_time": "2022-04-06T13:32:48.154Z"
   },
   {
    "duration": 1098,
    "start_time": "2022-04-06T13:33:04.560Z"
   },
   {
    "duration": 23,
    "start_time": "2022-04-06T13:33:05.660Z"
   },
   {
    "duration": 20,
    "start_time": "2022-04-06T13:33:05.685Z"
   },
   {
    "duration": 27,
    "start_time": "2022-04-06T13:33:05.706Z"
   },
   {
    "duration": 12,
    "start_time": "2022-04-06T13:33:05.735Z"
   },
   {
    "duration": 404,
    "start_time": "2022-04-06T13:33:05.748Z"
   },
   {
    "duration": 22,
    "start_time": "2022-04-06T13:33:06.154Z"
   },
   {
    "duration": 4,
    "start_time": "2022-04-06T13:33:06.178Z"
   },
   {
    "duration": 7,
    "start_time": "2022-04-06T13:33:06.184Z"
   },
   {
    "duration": 6,
    "start_time": "2022-04-06T13:33:06.193Z"
   },
   {
    "duration": 6,
    "start_time": "2022-04-06T13:33:06.201Z"
   },
   {
    "duration": 25,
    "start_time": "2022-04-06T13:33:06.209Z"
   },
   {
    "duration": 218,
    "start_time": "2022-04-06T13:33:06.236Z"
   },
   {
    "duration": 5,
    "start_time": "2022-04-06T13:33:06.457Z"
   },
   {
    "duration": 13,
    "start_time": "2022-04-06T13:33:06.463Z"
   },
   {
    "duration": 12,
    "start_time": "2022-04-06T13:33:06.478Z"
   },
   {
    "duration": 53,
    "start_time": "2022-04-06T13:33:06.491Z"
   },
   {
    "duration": 122,
    "start_time": "2022-04-06T13:33:06.545Z"
   },
   {
    "duration": 66,
    "start_time": "2022-04-06T13:33:06.668Z"
   },
   {
    "duration": 5879,
    "start_time": "2022-04-06T13:33:06.736Z"
   },
   {
    "duration": 30,
    "start_time": "2022-04-06T13:33:12.617Z"
   },
   {
    "duration": 183,
    "start_time": "2022-04-06T13:33:12.650Z"
   },
   {
    "duration": 9,
    "start_time": "2022-04-06T13:33:12.835Z"
   },
   {
    "duration": 10,
    "start_time": "2022-04-06T13:33:12.845Z"
   },
   {
    "duration": 87,
    "start_time": "2022-04-06T13:33:12.857Z"
   },
   {
    "duration": 73,
    "start_time": "2022-04-06T13:33:12.945Z"
   },
   {
    "duration": 53,
    "start_time": "2022-04-06T13:33:13.019Z"
   },
   {
    "duration": 5938,
    "start_time": "2022-04-06T13:33:13.074Z"
   },
   {
    "duration": 7293,
    "start_time": "2022-04-06T13:33:19.014Z"
   },
   {
    "duration": 3734,
    "start_time": "2022-04-06T13:33:26.308Z"
   },
   {
    "duration": 21,
    "start_time": "2022-04-06T13:33:30.044Z"
   },
   {
    "duration": 117,
    "start_time": "2022-04-06T13:33:30.134Z"
   },
   {
    "duration": 180,
    "start_time": "2022-04-06T13:33:30.254Z"
   },
   {
    "duration": 120,
    "start_time": "2022-04-06T13:43:52.780Z"
   },
   {
    "duration": 259443,
    "start_time": "2022-04-06T13:44:08.901Z"
   },
   {
    "duration": 104,
    "start_time": "2022-04-06T13:49:58.728Z"
   },
   {
    "duration": 331,
    "start_time": "2022-04-06T13:50:33.614Z"
   },
   {
    "duration": 446,
    "start_time": "2022-04-06T13:50:56.457Z"
   },
   {
    "duration": 391,
    "start_time": "2022-04-06T13:51:05.356Z"
   },
   {
    "duration": 4,
    "start_time": "2022-04-06T13:53:03.899Z"
   },
   {
    "duration": 348,
    "start_time": "2022-04-06T14:01:02.721Z"
   },
   {
    "duration": 359,
    "start_time": "2022-04-06T14:01:38.977Z"
   },
   {
    "duration": 363,
    "start_time": "2022-04-06T14:01:45.447Z"
   },
   {
    "duration": 377,
    "start_time": "2022-04-06T14:03:02.541Z"
   },
   {
    "duration": 434,
    "start_time": "2022-04-06T14:16:19.616Z"
   },
   {
    "duration": 435,
    "start_time": "2022-04-06T14:16:33.237Z"
   },
   {
    "duration": 1200,
    "start_time": "2022-04-06T14:16:45.143Z"
   },
   {
    "duration": 41,
    "start_time": "2022-04-06T14:16:46.348Z"
   },
   {
    "duration": 31,
    "start_time": "2022-04-06T14:16:46.392Z"
   },
   {
    "duration": 21,
    "start_time": "2022-04-06T14:16:46.426Z"
   },
   {
    "duration": 20,
    "start_time": "2022-04-06T14:16:46.452Z"
   },
   {
    "duration": 603,
    "start_time": "2022-04-06T14:16:46.474Z"
   },
   {
    "duration": 25,
    "start_time": "2022-04-06T14:16:47.079Z"
   },
   {
    "duration": 28,
    "start_time": "2022-04-06T14:16:47.106Z"
   },
   {
    "duration": 20,
    "start_time": "2022-04-06T14:16:47.137Z"
   },
   {
    "duration": 8,
    "start_time": "2022-04-06T14:16:47.159Z"
   },
   {
    "duration": 5,
    "start_time": "2022-04-06T14:16:47.168Z"
   },
   {
    "duration": 5,
    "start_time": "2022-04-06T14:16:47.174Z"
   },
   {
    "duration": 244,
    "start_time": "2022-04-06T14:16:47.181Z"
   },
   {
    "duration": 6,
    "start_time": "2022-04-06T14:16:47.432Z"
   },
   {
    "duration": 16,
    "start_time": "2022-04-06T14:16:47.440Z"
   },
   {
    "duration": 17,
    "start_time": "2022-04-06T14:16:47.460Z"
   },
   {
    "duration": 61,
    "start_time": "2022-04-06T14:16:47.479Z"
   },
   {
    "duration": 128,
    "start_time": "2022-04-06T14:16:47.542Z"
   },
   {
    "duration": 86,
    "start_time": "2022-04-06T14:16:47.672Z"
   },
   {
    "duration": 15754,
    "start_time": "2022-04-06T14:16:47.761Z"
   },
   {
    "duration": 44,
    "start_time": "2022-04-06T14:17:03.517Z"
   },
   {
    "duration": 83,
    "start_time": "2022-04-06T14:17:03.563Z"
   },
   {
    "duration": 88,
    "start_time": "2022-04-06T14:17:03.652Z"
   },
   {
    "duration": 14,
    "start_time": "2022-04-06T14:17:03.745Z"
   },
   {
    "duration": 341,
    "start_time": "2022-04-06T14:17:03.761Z"
   },
   {
    "duration": 390,
    "start_time": "2022-04-06T14:17:04.104Z"
   },
   {
    "duration": 64,
    "start_time": "2022-04-06T14:17:04.496Z"
   },
   {
    "duration": 8677,
    "start_time": "2022-04-06T14:17:04.564Z"
   },
   {
    "duration": 9561,
    "start_time": "2022-04-06T14:17:13.242Z"
   },
   {
    "duration": 4068,
    "start_time": "2022-04-06T14:17:22.805Z"
   },
   {
    "duration": 58,
    "start_time": "2022-04-06T14:17:26.875Z"
   },
   {
    "duration": 116,
    "start_time": "2022-04-06T14:17:26.937Z"
   },
   {
    "duration": 178,
    "start_time": "2022-04-06T14:17:27.056Z"
   },
   {
    "duration": 15662,
    "start_time": "2022-04-06T14:18:05.010Z"
   },
   {
    "duration": 27176,
    "start_time": "2022-04-06T14:18:30.207Z"
   },
   {
    "duration": 326,
    "start_time": "2022-04-06T14:21:42.281Z"
   },
   {
    "duration": 350,
    "start_time": "2022-04-06T14:22:17.617Z"
   },
   {
    "duration": 126,
    "start_time": "2022-04-06T14:24:30.430Z"
   },
   {
    "duration": 351,
    "start_time": "2022-04-06T14:24:49.472Z"
   },
   {
    "duration": 372,
    "start_time": "2022-04-06T14:25:19.733Z"
   },
   {
    "duration": 378,
    "start_time": "2022-04-06T14:29:36.962Z"
   },
   {
    "duration": 44107,
    "start_time": "2022-04-06T14:29:43.617Z"
   },
   {
    "duration": 15235,
    "start_time": "2022-04-06T14:30:41.814Z"
   },
   {
    "duration": 31674,
    "start_time": "2022-04-06T14:31:49.346Z"
   },
   {
    "duration": 117,
    "start_time": "2022-04-06T14:35:38.427Z"
   },
   {
    "duration": 498,
    "start_time": "2022-04-06T14:37:32.561Z"
   },
   {
    "duration": 31572,
    "start_time": "2022-04-06T14:37:45.111Z"
   },
   {
    "duration": 86,
    "start_time": "2022-04-06T14:38:28.865Z"
   },
   {
    "duration": 1131,
    "start_time": "2022-04-06T14:38:38.270Z"
   },
   {
    "duration": 30,
    "start_time": "2022-04-06T14:38:39.404Z"
   },
   {
    "duration": 24,
    "start_time": "2022-04-06T14:38:39.436Z"
   },
   {
    "duration": 16,
    "start_time": "2022-04-06T14:38:39.462Z"
   },
   {
    "duration": 17,
    "start_time": "2022-04-06T14:38:39.480Z"
   },
   {
    "duration": 495,
    "start_time": "2022-04-06T14:38:39.499Z"
   },
   {
    "duration": 24,
    "start_time": "2022-04-06T14:38:39.995Z"
   },
   {
    "duration": 24,
    "start_time": "2022-04-06T14:38:40.021Z"
   },
   {
    "duration": 14,
    "start_time": "2022-04-06T14:38:40.046Z"
   },
   {
    "duration": 7,
    "start_time": "2022-04-06T14:38:40.062Z"
   },
   {
    "duration": 5,
    "start_time": "2022-04-06T14:38:40.071Z"
   },
   {
    "duration": 5,
    "start_time": "2022-04-06T14:38:40.078Z"
   },
   {
    "duration": 241,
    "start_time": "2022-04-06T14:38:40.085Z"
   },
   {
    "duration": 10,
    "start_time": "2022-04-06T14:38:40.332Z"
   },
   {
    "duration": 24,
    "start_time": "2022-04-06T14:38:40.343Z"
   },
   {
    "duration": 13,
    "start_time": "2022-04-06T14:38:40.370Z"
   },
   {
    "duration": 56,
    "start_time": "2022-04-06T14:38:40.385Z"
   },
   {
    "duration": 119,
    "start_time": "2022-04-06T14:38:40.443Z"
   },
   {
    "duration": 78,
    "start_time": "2022-04-06T14:38:40.564Z"
   },
   {
    "duration": 11270,
    "start_time": "2022-04-06T14:38:40.644Z"
   },
   {
    "duration": 44,
    "start_time": "2022-04-06T14:38:51.915Z"
   },
   {
    "duration": 12,
    "start_time": "2022-04-06T14:38:52.037Z"
   },
   {
    "duration": 109,
    "start_time": "2022-04-06T14:38:52.051Z"
   },
   {
    "duration": 11,
    "start_time": "2022-04-06T14:38:52.163Z"
   },
   {
    "duration": 376,
    "start_time": "2022-04-06T14:38:52.176Z"
   },
   {
    "duration": 37572,
    "start_time": "2022-04-06T14:38:52.554Z"
   },
   {
    "duration": 100,
    "start_time": "2022-04-06T14:39:30.133Z"
   },
   {
    "duration": 563,
    "start_time": "2022-04-06T14:39:30.237Z"
   },
   {
    "duration": 35557,
    "start_time": "2022-04-06T14:39:30.801Z"
   },
   {
    "duration": 23,
    "start_time": "2022-04-06T14:40:06.359Z"
   },
   {
    "duration": 132,
    "start_time": "2022-04-06T14:40:06.432Z"
   },
   {
    "duration": 4013,
    "start_time": "2022-04-06T14:40:06.566Z"
   },
   {
    "duration": 15,
    "start_time": "2022-04-06T14:40:10.581Z"
   },
   {
    "duration": 18,
    "start_time": "2022-04-06T14:41:28.086Z"
   },
   {
    "duration": 299,
    "start_time": "2022-04-06T14:42:20.571Z"
   },
   {
    "duration": 38337,
    "start_time": "2022-04-06T14:42:47.395Z"
   },
   {
    "duration": 1095,
    "start_time": "2022-04-06T14:43:45.683Z"
   },
   {
    "duration": 26,
    "start_time": "2022-04-06T14:43:46.780Z"
   },
   {
    "duration": 31,
    "start_time": "2022-04-06T14:43:46.808Z"
   },
   {
    "duration": 14,
    "start_time": "2022-04-06T14:43:46.841Z"
   },
   {
    "duration": 12,
    "start_time": "2022-04-06T14:43:46.857Z"
   },
   {
    "duration": 405,
    "start_time": "2022-04-06T14:43:46.871Z"
   },
   {
    "duration": 23,
    "start_time": "2022-04-06T14:43:47.278Z"
   },
   {
    "duration": 5,
    "start_time": "2022-04-06T14:43:47.303Z"
   },
   {
    "duration": 26,
    "start_time": "2022-04-06T14:43:47.310Z"
   },
   {
    "duration": 5,
    "start_time": "2022-04-06T14:43:47.340Z"
   },
   {
    "duration": 5,
    "start_time": "2022-04-06T14:43:47.346Z"
   },
   {
    "duration": 3,
    "start_time": "2022-04-06T14:43:47.353Z"
   },
   {
    "duration": 234,
    "start_time": "2022-04-06T14:43:47.358Z"
   },
   {
    "duration": 6,
    "start_time": "2022-04-06T14:43:47.594Z"
   },
   {
    "duration": 36,
    "start_time": "2022-04-06T14:43:47.602Z"
   },
   {
    "duration": 13,
    "start_time": "2022-04-06T14:43:47.641Z"
   },
   {
    "duration": 34,
    "start_time": "2022-04-06T14:43:47.655Z"
   },
   {
    "duration": 144,
    "start_time": "2022-04-06T14:43:47.690Z"
   },
   {
    "duration": 314,
    "start_time": "2022-04-06T14:43:47.836Z"
   },
   {
    "duration": 38062,
    "start_time": "2022-04-06T14:43:48.152Z"
   },
   {
    "duration": 121,
    "start_time": "2022-04-06T14:44:26.215Z"
   },
   {
    "duration": 98,
    "start_time": "2022-04-06T14:44:26.339Z"
   },
   {
    "duration": 10,
    "start_time": "2022-04-06T14:44:26.439Z"
   },
   {
    "duration": 10,
    "start_time": "2022-04-06T14:44:26.451Z"
   },
   {
    "duration": 370,
    "start_time": "2022-04-06T14:44:26.462Z"
   },
   {
    "duration": 27001,
    "start_time": "2022-04-06T14:44:26.834Z"
   },
   {
    "duration": 97,
    "start_time": "2022-04-06T14:44:53.837Z"
   },
   {
    "duration": 449,
    "start_time": "2022-04-06T14:44:53.940Z"
   },
   {
    "duration": 27108,
    "start_time": "2022-04-06T14:44:54.391Z"
   },
   {
    "duration": 37,
    "start_time": "2022-04-06T14:45:21.501Z"
   },
   {
    "duration": 225,
    "start_time": "2022-04-06T14:45:21.541Z"
   },
   {
    "duration": 3808,
    "start_time": "2022-04-06T14:45:21.768Z"
   },
   {
    "duration": 58,
    "start_time": "2022-04-06T14:45:25.578Z"
   },
   {
    "duration": 294,
    "start_time": "2022-04-06T14:51:35.604Z"
   },
   {
    "duration": 37687,
    "start_time": "2022-04-06T14:51:45.762Z"
   },
   {
    "duration": 159830,
    "start_time": "2022-04-06T14:52:39.297Z"
   },
   {
    "duration": 18629,
    "start_time": "2022-04-06T14:55:30.250Z"
   },
   {
    "duration": 162,
    "start_time": "2022-04-06T14:56:33.973Z"
   },
   {
    "duration": 21,
    "start_time": "2022-04-06T14:56:50.271Z"
   },
   {
    "duration": 628,
    "start_time": "2022-04-06T14:57:07.420Z"
   },
   {
    "duration": 15948,
    "start_time": "2022-04-06T15:08:01.182Z"
   },
   {
    "duration": 1185,
    "start_time": "2022-04-06T15:12:51.204Z"
   },
   {
    "duration": 29,
    "start_time": "2022-04-06T15:12:52.392Z"
   },
   {
    "duration": 33,
    "start_time": "2022-04-06T15:12:52.423Z"
   },
   {
    "duration": 29,
    "start_time": "2022-04-06T15:12:52.459Z"
   },
   {
    "duration": 12,
    "start_time": "2022-04-06T15:12:52.490Z"
   },
   {
    "duration": 496,
    "start_time": "2022-04-06T15:12:52.504Z"
   },
   {
    "duration": 25,
    "start_time": "2022-04-06T15:12:53.001Z"
   },
   {
    "duration": 8,
    "start_time": "2022-04-06T15:12:53.034Z"
   },
   {
    "duration": 21,
    "start_time": "2022-04-06T15:12:53.048Z"
   },
   {
    "duration": 7,
    "start_time": "2022-04-06T15:12:53.072Z"
   },
   {
    "duration": 11,
    "start_time": "2022-04-06T15:12:53.082Z"
   },
   {
    "duration": 4,
    "start_time": "2022-04-06T15:12:53.095Z"
   },
   {
    "duration": 263,
    "start_time": "2022-04-06T15:12:53.101Z"
   },
   {
    "duration": 5,
    "start_time": "2022-04-06T15:12:53.366Z"
   },
   {
    "duration": 30,
    "start_time": "2022-04-06T15:12:53.373Z"
   },
   {
    "duration": 46,
    "start_time": "2022-04-06T15:12:53.405Z"
   },
   {
    "duration": 39,
    "start_time": "2022-04-06T15:12:53.455Z"
   },
   {
    "duration": 129,
    "start_time": "2022-04-06T15:12:53.496Z"
   },
   {
    "duration": 445,
    "start_time": "2022-04-06T15:12:53.628Z"
   },
   {
    "duration": 16801,
    "start_time": "2022-04-06T15:12:54.075Z"
   },
   {
    "duration": 63,
    "start_time": "2022-04-06T15:13:10.878Z"
   },
   {
    "duration": 88,
    "start_time": "2022-04-06T15:13:10.951Z"
   },
   {
    "duration": 29,
    "start_time": "2022-04-06T15:13:11.041Z"
   },
   {
    "duration": 434,
    "start_time": "2022-04-06T15:13:11.072Z"
   },
   {
    "duration": 31426,
    "start_time": "2022-04-06T15:13:11.508Z"
   },
   {
    "duration": 118,
    "start_time": "2022-04-06T15:13:42.940Z"
   },
   {
    "duration": 87,
    "start_time": "2022-04-06T15:13:43.063Z"
   },
   {
    "duration": 423,
    "start_time": "2022-04-06T15:13:43.154Z"
   },
   {
    "duration": 30064,
    "start_time": "2022-04-06T15:13:43.579Z"
   },
   {
    "duration": 28,
    "start_time": "2022-04-06T15:14:13.645Z"
   },
   {
    "duration": 125,
    "start_time": "2022-04-06T15:14:13.750Z"
   },
   {
    "duration": 4487,
    "start_time": "2022-04-06T15:14:13.876Z"
   },
   {
    "duration": 77,
    "start_time": "2022-04-06T15:14:18.365Z"
   },
   {
    "duration": 39,
    "start_time": "2022-04-06T15:17:58.201Z"
   },
   {
    "duration": 379,
    "start_time": "2022-04-06T15:19:37.187Z"
   },
   {
    "duration": 86,
    "start_time": "2022-04-06T15:34:52.747Z"
   },
   {
    "duration": 28519,
    "start_time": "2022-04-06T15:35:01.421Z"
   },
   {
    "duration": 15283,
    "start_time": "2022-04-06T15:36:24.826Z"
   },
   {
    "duration": 1262,
    "start_time": "2022-04-07T15:10:29.354Z"
   },
   {
    "duration": 33,
    "start_time": "2022-04-07T15:10:30.618Z"
   },
   {
    "duration": 21,
    "start_time": "2022-04-07T15:10:30.653Z"
   },
   {
    "duration": 68,
    "start_time": "2022-04-07T15:10:30.676Z"
   },
   {
    "duration": 31,
    "start_time": "2022-04-07T15:10:30.746Z"
   },
   {
    "duration": 682,
    "start_time": "2022-04-07T15:10:30.779Z"
   },
   {
    "duration": 23,
    "start_time": "2022-04-07T15:10:31.463Z"
   },
   {
    "duration": 17,
    "start_time": "2022-04-07T15:10:31.488Z"
   },
   {
    "duration": 22,
    "start_time": "2022-04-07T15:10:31.506Z"
   },
   {
    "duration": 12,
    "start_time": "2022-04-07T15:10:31.531Z"
   },
   {
    "duration": 16,
    "start_time": "2022-04-07T15:10:31.545Z"
   },
   {
    "duration": 13,
    "start_time": "2022-04-07T15:10:31.563Z"
   },
   {
    "duration": 239,
    "start_time": "2022-04-07T15:10:31.578Z"
   },
   {
    "duration": 5,
    "start_time": "2022-04-07T15:10:31.819Z"
   },
   {
    "duration": 30,
    "start_time": "2022-04-07T15:10:31.825Z"
   },
   {
    "duration": 13,
    "start_time": "2022-04-07T15:10:31.857Z"
   },
   {
    "duration": 53,
    "start_time": "2022-04-07T15:10:31.872Z"
   },
   {
    "duration": 118,
    "start_time": "2022-04-07T15:10:31.927Z"
   },
   {
    "duration": 325,
    "start_time": "2022-04-07T15:10:32.047Z"
   },
   {
    "duration": 14472,
    "start_time": "2022-04-07T15:10:32.373Z"
   },
   {
    "duration": 56,
    "start_time": "2022-04-07T15:10:46.846Z"
   },
   {
    "duration": 97,
    "start_time": "2022-04-07T15:10:46.906Z"
   },
   {
    "duration": 81,
    "start_time": "2022-04-07T15:10:47.004Z"
   },
   {
    "duration": 1365,
    "start_time": "2022-04-07T15:11:27.200Z"
   },
   {
    "duration": 31,
    "start_time": "2022-04-07T15:11:28.568Z"
   },
   {
    "duration": 22,
    "start_time": "2022-04-07T15:11:28.600Z"
   },
   {
    "duration": 14,
    "start_time": "2022-04-07T15:11:28.624Z"
   },
   {
    "duration": 13,
    "start_time": "2022-04-07T15:11:28.640Z"
   },
   {
    "duration": 638,
    "start_time": "2022-04-07T15:11:28.655Z"
   },
   {
    "duration": 36,
    "start_time": "2022-04-07T15:11:29.295Z"
   },
   {
    "duration": 6,
    "start_time": "2022-04-07T15:11:29.333Z"
   },
   {
    "duration": 10,
    "start_time": "2022-04-07T15:11:29.341Z"
   },
   {
    "duration": 5,
    "start_time": "2022-04-07T15:11:29.354Z"
   },
   {
    "duration": 6,
    "start_time": "2022-04-07T15:11:29.361Z"
   },
   {
    "duration": 32,
    "start_time": "2022-04-07T15:11:29.369Z"
   },
   {
    "duration": 346,
    "start_time": "2022-04-07T15:11:29.403Z"
   },
   {
    "duration": 4,
    "start_time": "2022-04-07T15:11:29.751Z"
   },
   {
    "duration": 19,
    "start_time": "2022-04-07T15:11:29.756Z"
   },
   {
    "duration": 34,
    "start_time": "2022-04-07T15:11:29.777Z"
   },
   {
    "duration": 31,
    "start_time": "2022-04-07T15:11:29.812Z"
   },
   {
    "duration": 125,
    "start_time": "2022-04-07T15:11:29.845Z"
   },
   {
    "duration": 319,
    "start_time": "2022-04-07T15:11:29.971Z"
   },
   {
    "duration": 14936,
    "start_time": "2022-04-07T15:11:30.291Z"
   },
   {
    "duration": 77,
    "start_time": "2022-04-07T15:11:45.229Z"
   },
   {
    "duration": 9,
    "start_time": "2022-04-07T15:11:45.308Z"
   },
   {
    "duration": 81,
    "start_time": "2022-04-07T15:11:45.402Z"
   },
   {
    "duration": 49879,
    "start_time": "2022-04-07T15:11:45.484Z"
   },
   {
    "duration": 41,
    "start_time": "2022-04-07T15:12:35.365Z"
   },
   {
    "duration": 96,
    "start_time": "2022-04-07T15:12:35.408Z"
   },
   {
    "duration": 216,
    "start_time": "2022-04-07T15:12:35.507Z"
   },
   {
    "duration": 0,
    "start_time": "2022-04-07T15:12:35.724Z"
   },
   {
    "duration": 1,
    "start_time": "2022-04-07T15:12:35.725Z"
   },
   {
    "duration": 0,
    "start_time": "2022-04-07T15:12:35.726Z"
   },
   {
    "duration": 0,
    "start_time": "2022-04-07T15:12:35.727Z"
   },
   {
    "duration": 0,
    "start_time": "2022-04-07T15:12:35.729Z"
   },
   {
    "duration": 1,
    "start_time": "2022-04-07T15:12:35.729Z"
   },
   {
    "duration": 1223,
    "start_time": "2022-04-07T15:12:54.138Z"
   },
   {
    "duration": 30,
    "start_time": "2022-04-07T15:12:55.363Z"
   },
   {
    "duration": 19,
    "start_time": "2022-04-07T15:12:55.394Z"
   },
   {
    "duration": 23,
    "start_time": "2022-04-07T15:12:55.415Z"
   },
   {
    "duration": 11,
    "start_time": "2022-04-07T15:12:55.440Z"
   },
   {
    "duration": 413,
    "start_time": "2022-04-07T15:12:55.452Z"
   },
   {
    "duration": 20,
    "start_time": "2022-04-07T15:12:55.866Z"
   },
   {
    "duration": 16,
    "start_time": "2022-04-07T15:12:55.888Z"
   },
   {
    "duration": 9,
    "start_time": "2022-04-07T15:12:55.906Z"
   },
   {
    "duration": 5,
    "start_time": "2022-04-07T15:12:55.916Z"
   },
   {
    "duration": 4,
    "start_time": "2022-04-07T15:12:55.923Z"
   },
   {
    "duration": 4,
    "start_time": "2022-04-07T15:12:55.929Z"
   },
   {
    "duration": 220,
    "start_time": "2022-04-07T15:12:55.935Z"
   },
   {
    "duration": 5,
    "start_time": "2022-04-07T15:12:56.158Z"
   },
   {
    "duration": 22,
    "start_time": "2022-04-07T15:12:56.164Z"
   },
   {
    "duration": 23,
    "start_time": "2022-04-07T15:12:56.188Z"
   },
   {
    "duration": 33,
    "start_time": "2022-04-07T15:12:56.213Z"
   },
   {
    "duration": 114,
    "start_time": "2022-04-07T15:12:56.247Z"
   },
   {
    "duration": 311,
    "start_time": "2022-04-07T15:12:56.362Z"
   },
   {
    "duration": 15227,
    "start_time": "2022-04-07T15:12:56.675Z"
   },
   {
    "duration": 28,
    "start_time": "2022-04-07T15:13:11.904Z"
   },
   {
    "duration": 102,
    "start_time": "2022-04-07T15:13:12.003Z"
   },
   {
    "duration": 130,
    "start_time": "2022-04-07T15:13:12.107Z"
   },
   {
    "duration": 1244,
    "start_time": "2022-04-07T15:13:42.397Z"
   },
   {
    "duration": 29,
    "start_time": "2022-04-07T15:13:43.643Z"
   },
   {
    "duration": 20,
    "start_time": "2022-04-07T15:13:43.674Z"
   },
   {
    "duration": 17,
    "start_time": "2022-04-07T15:13:43.695Z"
   },
   {
    "duration": 11,
    "start_time": "2022-04-07T15:13:43.714Z"
   },
   {
    "duration": 454,
    "start_time": "2022-04-07T15:13:43.726Z"
   },
   {
    "duration": 23,
    "start_time": "2022-04-07T15:13:44.182Z"
   },
   {
    "duration": 5,
    "start_time": "2022-04-07T15:13:44.206Z"
   },
   {
    "duration": 4,
    "start_time": "2022-04-07T15:13:44.213Z"
   },
   {
    "duration": 13,
    "start_time": "2022-04-07T15:13:44.219Z"
   },
   {
    "duration": 8,
    "start_time": "2022-04-07T15:13:44.234Z"
   },
   {
    "duration": 7,
    "start_time": "2022-04-07T15:13:44.244Z"
   },
   {
    "duration": 262,
    "start_time": "2022-04-07T15:13:44.253Z"
   },
   {
    "duration": 5,
    "start_time": "2022-04-07T15:13:44.518Z"
   },
   {
    "duration": 22,
    "start_time": "2022-04-07T15:13:44.524Z"
   },
   {
    "duration": 12,
    "start_time": "2022-04-07T15:13:44.548Z"
   },
   {
    "duration": 62,
    "start_time": "2022-04-07T15:13:44.561Z"
   },
   {
    "duration": 119,
    "start_time": "2022-04-07T15:13:44.625Z"
   },
   {
    "duration": 328,
    "start_time": "2022-04-07T15:13:44.746Z"
   },
   {
    "duration": 15783,
    "start_time": "2022-04-07T15:13:45.075Z"
   },
   {
    "duration": 54,
    "start_time": "2022-04-07T15:14:00.859Z"
   },
   {
    "duration": 101,
    "start_time": "2022-04-07T15:14:01.001Z"
   },
   {
    "duration": 81,
    "start_time": "2022-04-07T15:14:01.104Z"
   },
   {
    "duration": 49821,
    "start_time": "2022-04-07T15:14:01.186Z"
   },
   {
    "duration": 100,
    "start_time": "2022-04-07T15:14:51.008Z"
   },
   {
    "duration": 190,
    "start_time": "2022-04-07T15:14:51.110Z"
   },
   {
    "duration": 121,
    "start_time": "2022-04-07T15:14:51.302Z"
   },
   {
    "duration": 0,
    "start_time": "2022-04-07T15:14:51.425Z"
   },
   {
    "duration": 0,
    "start_time": "2022-04-07T15:14:51.426Z"
   },
   {
    "duration": 0,
    "start_time": "2022-04-07T15:14:51.427Z"
   },
   {
    "duration": 0,
    "start_time": "2022-04-07T15:14:51.428Z"
   },
   {
    "duration": 0,
    "start_time": "2022-04-07T15:14:51.429Z"
   },
   {
    "duration": 0,
    "start_time": "2022-04-07T15:14:51.430Z"
   },
   {
    "duration": 3,
    "start_time": "2022-04-07T15:18:29.742Z"
   },
   {
    "duration": 278,
    "start_time": "2022-04-07T15:18:30.844Z"
   },
   {
    "duration": 1268,
    "start_time": "2022-04-07T15:18:39.262Z"
   },
   {
    "duration": 29,
    "start_time": "2022-04-07T15:18:40.532Z"
   },
   {
    "duration": 19,
    "start_time": "2022-04-07T15:18:40.562Z"
   },
   {
    "duration": 11,
    "start_time": "2022-04-07T15:18:40.583Z"
   },
   {
    "duration": 11,
    "start_time": "2022-04-07T15:18:40.600Z"
   },
   {
    "duration": 436,
    "start_time": "2022-04-07T15:18:40.613Z"
   },
   {
    "duration": 23,
    "start_time": "2022-04-07T15:18:41.050Z"
   },
   {
    "duration": 4,
    "start_time": "2022-04-07T15:18:41.075Z"
   },
   {
    "duration": 23,
    "start_time": "2022-04-07T15:18:41.080Z"
   },
   {
    "duration": 4,
    "start_time": "2022-04-07T15:18:41.106Z"
   },
   {
    "duration": 4,
    "start_time": "2022-04-07T15:18:41.112Z"
   },
   {
    "duration": 8,
    "start_time": "2022-04-07T15:18:41.118Z"
   },
   {
    "duration": 222,
    "start_time": "2022-04-07T15:18:41.127Z"
   },
   {
    "duration": 5,
    "start_time": "2022-04-07T15:18:41.350Z"
   },
   {
    "duration": 19,
    "start_time": "2022-04-07T15:18:41.356Z"
   },
   {
    "duration": 28,
    "start_time": "2022-04-07T15:18:41.377Z"
   },
   {
    "duration": 32,
    "start_time": "2022-04-07T15:18:41.407Z"
   },
   {
    "duration": 126,
    "start_time": "2022-04-07T15:18:41.441Z"
   },
   {
    "duration": 326,
    "start_time": "2022-04-07T15:18:41.569Z"
   },
   {
    "duration": 14530,
    "start_time": "2022-04-07T15:18:41.901Z"
   },
   {
    "duration": 76,
    "start_time": "2022-04-07T15:18:56.432Z"
   },
   {
    "duration": 97,
    "start_time": "2022-04-07T15:18:56.511Z"
   },
   {
    "duration": 103,
    "start_time": "2022-04-07T15:18:56.610Z"
   },
   {
    "duration": 1240,
    "start_time": "2022-04-07T15:19:16.844Z"
   },
   {
    "duration": 32,
    "start_time": "2022-04-07T15:19:18.086Z"
   },
   {
    "duration": 25,
    "start_time": "2022-04-07T15:19:18.120Z"
   },
   {
    "duration": 18,
    "start_time": "2022-04-07T15:19:18.148Z"
   },
   {
    "duration": 34,
    "start_time": "2022-04-07T15:19:18.168Z"
   },
   {
    "duration": 505,
    "start_time": "2022-04-07T15:19:18.204Z"
   },
   {
    "duration": 23,
    "start_time": "2022-04-07T15:19:18.711Z"
   },
   {
    "duration": 85,
    "start_time": "2022-04-07T15:19:18.735Z"
   },
   {
    "duration": 15,
    "start_time": "2022-04-07T15:19:18.822Z"
   },
   {
    "duration": 35,
    "start_time": "2022-04-07T15:19:18.840Z"
   },
   {
    "duration": 16,
    "start_time": "2022-04-07T15:19:18.876Z"
   },
   {
    "duration": 7,
    "start_time": "2022-04-07T15:19:18.894Z"
   },
   {
    "duration": 242,
    "start_time": "2022-04-07T15:19:18.903Z"
   },
   {
    "duration": 5,
    "start_time": "2022-04-07T15:19:19.147Z"
   },
   {
    "duration": 47,
    "start_time": "2022-04-07T15:19:19.155Z"
   },
   {
    "duration": 16,
    "start_time": "2022-04-07T15:19:19.205Z"
   },
   {
    "duration": 53,
    "start_time": "2022-04-07T15:19:19.223Z"
   },
   {
    "duration": 138,
    "start_time": "2022-04-07T15:19:19.278Z"
   },
   {
    "duration": 353,
    "start_time": "2022-04-07T15:19:19.418Z"
   },
   {
    "duration": 15570,
    "start_time": "2022-04-07T15:19:19.773Z"
   },
   {
    "duration": 156,
    "start_time": "2022-04-07T15:19:35.345Z"
   },
   {
    "duration": 9,
    "start_time": "2022-04-07T15:19:35.503Z"
   },
   {
    "duration": 108,
    "start_time": "2022-04-07T15:19:35.514Z"
   },
   {
    "duration": 52772,
    "start_time": "2022-04-07T15:19:35.623Z"
   },
   {
    "duration": 108,
    "start_time": "2022-04-07T15:20:28.396Z"
   },
   {
    "duration": 100,
    "start_time": "2022-04-07T15:20:28.507Z"
   },
   {
    "duration": 126,
    "start_time": "2022-04-07T15:20:28.609Z"
   },
   {
    "duration": 0,
    "start_time": "2022-04-07T15:20:28.737Z"
   },
   {
    "duration": 0,
    "start_time": "2022-04-07T15:20:28.738Z"
   },
   {
    "duration": 0,
    "start_time": "2022-04-07T15:20:28.739Z"
   },
   {
    "duration": 0,
    "start_time": "2022-04-07T15:20:28.740Z"
   },
   {
    "duration": 0,
    "start_time": "2022-04-07T15:20:28.741Z"
   },
   {
    "duration": 0,
    "start_time": "2022-04-07T15:20:28.742Z"
   },
   {
    "duration": 1320,
    "start_time": "2022-04-07T15:24:22.677Z"
   },
   {
    "duration": 41,
    "start_time": "2022-04-07T15:24:23.999Z"
   },
   {
    "duration": 20,
    "start_time": "2022-04-07T15:24:24.042Z"
   },
   {
    "duration": 13,
    "start_time": "2022-04-07T15:24:24.064Z"
   },
   {
    "duration": 11,
    "start_time": "2022-04-07T15:24:24.078Z"
   },
   {
    "duration": 432,
    "start_time": "2022-04-07T15:24:24.090Z"
   },
   {
    "duration": 24,
    "start_time": "2022-04-07T15:24:24.524Z"
   },
   {
    "duration": 5,
    "start_time": "2022-04-07T15:24:24.550Z"
   },
   {
    "duration": 4,
    "start_time": "2022-04-07T15:24:24.556Z"
   },
   {
    "duration": 5,
    "start_time": "2022-04-07T15:24:24.563Z"
   },
   {
    "duration": 33,
    "start_time": "2022-04-07T15:24:24.569Z"
   },
   {
    "duration": 3,
    "start_time": "2022-04-07T15:24:24.604Z"
   },
   {
    "duration": 201,
    "start_time": "2022-04-07T15:24:24.609Z"
   },
   {
    "duration": 0,
    "start_time": "2022-04-07T15:24:24.813Z"
   },
   {
    "duration": 0,
    "start_time": "2022-04-07T15:24:24.814Z"
   },
   {
    "duration": 0,
    "start_time": "2022-04-07T15:24:24.815Z"
   },
   {
    "duration": 0,
    "start_time": "2022-04-07T15:24:24.816Z"
   },
   {
    "duration": 0,
    "start_time": "2022-04-07T15:24:24.818Z"
   },
   {
    "duration": 0,
    "start_time": "2022-04-07T15:24:24.819Z"
   },
   {
    "duration": 0,
    "start_time": "2022-04-07T15:24:24.819Z"
   },
   {
    "duration": 0,
    "start_time": "2022-04-07T15:24:24.820Z"
   },
   {
    "duration": 0,
    "start_time": "2022-04-07T15:24:24.821Z"
   },
   {
    "duration": 0,
    "start_time": "2022-04-07T15:24:24.822Z"
   },
   {
    "duration": 0,
    "start_time": "2022-04-07T15:24:24.823Z"
   },
   {
    "duration": 0,
    "start_time": "2022-04-07T15:24:24.824Z"
   },
   {
    "duration": 0,
    "start_time": "2022-04-07T15:24:24.825Z"
   },
   {
    "duration": 0,
    "start_time": "2022-04-07T15:24:24.826Z"
   },
   {
    "duration": 0,
    "start_time": "2022-04-07T15:24:24.827Z"
   },
   {
    "duration": 0,
    "start_time": "2022-04-07T15:24:24.828Z"
   },
   {
    "duration": 0,
    "start_time": "2022-04-07T15:24:24.829Z"
   },
   {
    "duration": 0,
    "start_time": "2022-04-07T15:24:24.830Z"
   },
   {
    "duration": 0,
    "start_time": "2022-04-07T15:24:24.831Z"
   },
   {
    "duration": 0,
    "start_time": "2022-04-07T15:24:24.832Z"
   },
   {
    "duration": 1325,
    "start_time": "2022-04-07T15:24:53.604Z"
   },
   {
    "duration": 31,
    "start_time": "2022-04-07T15:24:54.931Z"
   },
   {
    "duration": 21,
    "start_time": "2022-04-07T15:24:54.963Z"
   },
   {
    "duration": 12,
    "start_time": "2022-04-07T15:24:54.986Z"
   },
   {
    "duration": 11,
    "start_time": "2022-04-07T15:24:55.001Z"
   },
   {
    "duration": 433,
    "start_time": "2022-04-07T15:24:55.013Z"
   },
   {
    "duration": 22,
    "start_time": "2022-04-07T15:24:55.447Z"
   },
   {
    "duration": 4,
    "start_time": "2022-04-07T15:24:55.471Z"
   },
   {
    "duration": 4,
    "start_time": "2022-04-07T15:24:55.477Z"
   },
   {
    "duration": 4,
    "start_time": "2022-04-07T15:24:55.503Z"
   },
   {
    "duration": 5,
    "start_time": "2022-04-07T15:24:55.509Z"
   },
   {
    "duration": 5,
    "start_time": "2022-04-07T15:24:55.515Z"
   },
   {
    "duration": 227,
    "start_time": "2022-04-07T15:24:55.521Z"
   },
   {
    "duration": 4,
    "start_time": "2022-04-07T15:24:55.750Z"
   },
   {
    "duration": 17,
    "start_time": "2022-04-07T15:24:55.756Z"
   },
   {
    "duration": 32,
    "start_time": "2022-04-07T15:24:55.775Z"
   },
   {
    "duration": 32,
    "start_time": "2022-04-07T15:24:55.809Z"
   },
   {
    "duration": 120,
    "start_time": "2022-04-07T15:24:55.843Z"
   },
   {
    "duration": 330,
    "start_time": "2022-04-07T15:24:55.965Z"
   },
   {
    "duration": 16973,
    "start_time": "2022-04-07T15:24:56.300Z"
   },
   {
    "duration": 43,
    "start_time": "2022-04-07T15:25:13.274Z"
   },
   {
    "duration": 9,
    "start_time": "2022-04-07T15:25:13.402Z"
   },
   {
    "duration": 84,
    "start_time": "2022-04-07T15:25:13.502Z"
   },
   {
    "duration": 1382,
    "start_time": "2022-04-07T15:26:07.979Z"
   },
   {
    "duration": 32,
    "start_time": "2022-04-07T15:26:09.363Z"
   },
   {
    "duration": 22,
    "start_time": "2022-04-07T15:26:09.397Z"
   },
   {
    "duration": 14,
    "start_time": "2022-04-07T15:26:09.420Z"
   },
   {
    "duration": 12,
    "start_time": "2022-04-07T15:26:09.436Z"
   },
   {
    "duration": 531,
    "start_time": "2022-04-07T15:26:09.450Z"
   },
   {
    "duration": 33,
    "start_time": "2022-04-07T15:26:09.983Z"
   },
   {
    "duration": 6,
    "start_time": "2022-04-07T15:26:10.018Z"
   },
   {
    "duration": 8,
    "start_time": "2022-04-07T15:26:10.026Z"
   },
   {
    "duration": 7,
    "start_time": "2022-04-07T15:26:10.036Z"
   },
   {
    "duration": 7,
    "start_time": "2022-04-07T15:26:10.045Z"
   },
   {
    "duration": 6,
    "start_time": "2022-04-07T15:26:10.054Z"
   },
   {
    "duration": 389,
    "start_time": "2022-04-07T15:26:10.062Z"
   },
   {
    "duration": 5,
    "start_time": "2022-04-07T15:26:10.456Z"
   },
   {
    "duration": 44,
    "start_time": "2022-04-07T15:26:10.463Z"
   },
   {
    "duration": 17,
    "start_time": "2022-04-07T15:26:10.510Z"
   },
   {
    "duration": 50,
    "start_time": "2022-04-07T15:26:10.530Z"
   },
   {
    "duration": 182,
    "start_time": "2022-04-07T15:26:10.582Z"
   },
   {
    "duration": 449,
    "start_time": "2022-04-07T15:26:10.766Z"
   },
   {
    "duration": 15573,
    "start_time": "2022-04-07T15:26:11.217Z"
   },
   {
    "duration": 111,
    "start_time": "2022-04-07T15:26:26.792Z"
   },
   {
    "duration": 98,
    "start_time": "2022-04-07T15:26:26.905Z"
   },
   {
    "duration": 82,
    "start_time": "2022-04-07T15:26:27.005Z"
   },
   {
    "duration": 1514,
    "start_time": "2022-04-07T15:26:45.394Z"
   },
   {
    "duration": 40,
    "start_time": "2022-04-07T15:26:46.910Z"
   },
   {
    "duration": 22,
    "start_time": "2022-04-07T15:26:46.952Z"
   },
   {
    "duration": 17,
    "start_time": "2022-04-07T15:26:46.977Z"
   },
   {
    "duration": 16,
    "start_time": "2022-04-07T15:26:46.998Z"
   },
   {
    "duration": 620,
    "start_time": "2022-04-07T15:26:47.016Z"
   },
   {
    "duration": 22,
    "start_time": "2022-04-07T15:26:47.638Z"
   },
   {
    "duration": 5,
    "start_time": "2022-04-07T15:26:47.661Z"
   },
   {
    "duration": 5,
    "start_time": "2022-04-07T15:26:47.667Z"
   },
   {
    "duration": 31,
    "start_time": "2022-04-07T15:26:47.673Z"
   },
   {
    "duration": 7,
    "start_time": "2022-04-07T15:26:47.705Z"
   },
   {
    "duration": 5,
    "start_time": "2022-04-07T15:26:47.713Z"
   },
   {
    "duration": 288,
    "start_time": "2022-04-07T15:26:47.720Z"
   },
   {
    "duration": 6,
    "start_time": "2022-04-07T15:26:48.012Z"
   },
   {
    "duration": 27,
    "start_time": "2022-04-07T15:26:48.019Z"
   },
   {
    "duration": 15,
    "start_time": "2022-04-07T15:26:48.048Z"
   },
   {
    "duration": 61,
    "start_time": "2022-04-07T15:26:48.065Z"
   },
   {
    "duration": 106,
    "start_time": "2022-04-07T15:26:48.128Z"
   },
   {
    "duration": 315,
    "start_time": "2022-04-07T15:26:48.236Z"
   },
   {
    "duration": 15242,
    "start_time": "2022-04-07T15:26:48.553Z"
   },
   {
    "duration": 33,
    "start_time": "2022-04-07T15:27:03.800Z"
   },
   {
    "duration": 7,
    "start_time": "2022-04-07T15:27:03.903Z"
   },
   {
    "duration": 168,
    "start_time": "2022-04-07T15:27:03.912Z"
   },
   {
    "duration": 52929,
    "start_time": "2022-04-07T15:27:04.082Z"
   },
   {
    "duration": 92,
    "start_time": "2022-04-07T15:27:57.013Z"
   },
   {
    "duration": 96,
    "start_time": "2022-04-07T15:27:57.110Z"
   },
   {
    "duration": 125,
    "start_time": "2022-04-07T15:27:57.208Z"
   },
   {
    "duration": 0,
    "start_time": "2022-04-07T15:27:57.335Z"
   },
   {
    "duration": 0,
    "start_time": "2022-04-07T15:27:57.336Z"
   },
   {
    "duration": 0,
    "start_time": "2022-04-07T15:27:57.337Z"
   },
   {
    "duration": 0,
    "start_time": "2022-04-07T15:27:57.339Z"
   },
   {
    "duration": 0,
    "start_time": "2022-04-07T15:27:57.339Z"
   },
   {
    "duration": 0,
    "start_time": "2022-04-07T15:27:57.340Z"
   },
   {
    "duration": 1199,
    "start_time": "2022-04-07T15:28:31.737Z"
   },
   {
    "duration": 28,
    "start_time": "2022-04-07T15:28:32.938Z"
   },
   {
    "duration": 18,
    "start_time": "2022-04-07T15:28:32.968Z"
   },
   {
    "duration": 16,
    "start_time": "2022-04-07T15:28:32.988Z"
   },
   {
    "duration": 17,
    "start_time": "2022-04-07T15:28:33.005Z"
   },
   {
    "duration": 458,
    "start_time": "2022-04-07T15:28:33.023Z"
   },
   {
    "duration": 30,
    "start_time": "2022-04-07T15:28:33.483Z"
   },
   {
    "duration": 5,
    "start_time": "2022-04-07T15:28:33.515Z"
   },
   {
    "duration": 20,
    "start_time": "2022-04-07T15:28:33.521Z"
   },
   {
    "duration": 6,
    "start_time": "2022-04-07T15:28:33.544Z"
   },
   {
    "duration": 22,
    "start_time": "2022-04-07T15:28:33.552Z"
   },
   {
    "duration": 20,
    "start_time": "2022-04-07T15:28:33.575Z"
   },
   {
    "duration": 222,
    "start_time": "2022-04-07T15:28:33.597Z"
   },
   {
    "duration": 4,
    "start_time": "2022-04-07T15:28:33.822Z"
   },
   {
    "duration": 24,
    "start_time": "2022-04-07T15:28:33.828Z"
   },
   {
    "duration": 12,
    "start_time": "2022-04-07T15:28:33.854Z"
   },
   {
    "duration": 52,
    "start_time": "2022-04-07T15:28:33.868Z"
   },
   {
    "duration": 108,
    "start_time": "2022-04-07T15:28:33.922Z"
   },
   {
    "duration": 302,
    "start_time": "2022-04-07T15:28:34.031Z"
   },
   {
    "duration": 15956,
    "start_time": "2022-04-07T15:28:34.334Z"
   },
   {
    "duration": 110,
    "start_time": "2022-04-07T15:28:50.292Z"
   },
   {
    "duration": 96,
    "start_time": "2022-04-07T15:28:50.406Z"
   },
   {
    "duration": 88,
    "start_time": "2022-04-07T15:28:50.504Z"
   },
   {
    "duration": 1689,
    "start_time": "2022-04-07T15:29:13.820Z"
   },
   {
    "duration": 38,
    "start_time": "2022-04-07T15:29:15.512Z"
   },
   {
    "duration": 30,
    "start_time": "2022-04-07T15:29:15.552Z"
   },
   {
    "duration": 23,
    "start_time": "2022-04-07T15:29:15.584Z"
   },
   {
    "duration": 16,
    "start_time": "2022-04-07T15:29:15.609Z"
   },
   {
    "duration": 633,
    "start_time": "2022-04-07T15:29:15.627Z"
   },
   {
    "duration": 44,
    "start_time": "2022-04-07T15:29:16.262Z"
   },
   {
    "duration": 5,
    "start_time": "2022-04-07T15:29:16.309Z"
   },
   {
    "duration": 18,
    "start_time": "2022-04-07T15:29:16.316Z"
   },
   {
    "duration": 19,
    "start_time": "2022-04-07T15:29:16.338Z"
   },
   {
    "duration": 20,
    "start_time": "2022-04-07T15:29:16.359Z"
   },
   {
    "duration": 13,
    "start_time": "2022-04-07T15:29:16.381Z"
   },
   {
    "duration": 343,
    "start_time": "2022-04-07T15:29:16.396Z"
   },
   {
    "duration": 5,
    "start_time": "2022-04-07T15:29:16.741Z"
   },
   {
    "duration": 27,
    "start_time": "2022-04-07T15:29:16.748Z"
   },
   {
    "duration": 39,
    "start_time": "2022-04-07T15:29:16.777Z"
   },
   {
    "duration": 54,
    "start_time": "2022-04-07T15:29:16.818Z"
   },
   {
    "duration": 191,
    "start_time": "2022-04-07T15:29:16.874Z"
   },
   {
    "duration": 447,
    "start_time": "2022-04-07T15:29:17.067Z"
   },
   {
    "duration": 17845,
    "start_time": "2022-04-07T15:29:17.516Z"
   },
   {
    "duration": 40,
    "start_time": "2022-04-07T15:29:35.362Z"
   },
   {
    "duration": 98,
    "start_time": "2022-04-07T15:29:35.405Z"
   },
   {
    "duration": 177,
    "start_time": "2022-04-07T15:29:35.505Z"
   },
   {
    "duration": 1249,
    "start_time": "2022-04-07T15:30:00.217Z"
   },
   {
    "duration": 31,
    "start_time": "2022-04-07T15:30:01.468Z"
   },
   {
    "duration": 21,
    "start_time": "2022-04-07T15:30:01.500Z"
   },
   {
    "duration": 29,
    "start_time": "2022-04-07T15:30:01.523Z"
   },
   {
    "duration": 23,
    "start_time": "2022-04-07T15:30:01.553Z"
   },
   {
    "duration": 474,
    "start_time": "2022-04-07T15:30:01.578Z"
   },
   {
    "duration": 25,
    "start_time": "2022-04-07T15:30:02.053Z"
   },
   {
    "duration": 21,
    "start_time": "2022-04-07T15:30:02.080Z"
   },
   {
    "duration": 4,
    "start_time": "2022-04-07T15:30:02.103Z"
   },
   {
    "duration": 9,
    "start_time": "2022-04-07T15:30:02.110Z"
   },
   {
    "duration": 8,
    "start_time": "2022-04-07T15:30:02.121Z"
   },
   {
    "duration": 7,
    "start_time": "2022-04-07T15:30:02.131Z"
   },
   {
    "duration": 2884,
    "start_time": "2022-04-07T15:30:02.139Z"
   },
   {
    "duration": 0,
    "start_time": "2022-04-07T15:30:05.025Z"
   },
   {
    "duration": 0,
    "start_time": "2022-04-07T15:30:05.026Z"
   },
   {
    "duration": 0,
    "start_time": "2022-04-07T15:30:05.027Z"
   },
   {
    "duration": 0,
    "start_time": "2022-04-07T15:30:05.028Z"
   },
   {
    "duration": 0,
    "start_time": "2022-04-07T15:30:05.029Z"
   },
   {
    "duration": 0,
    "start_time": "2022-04-07T15:30:05.030Z"
   },
   {
    "duration": 0,
    "start_time": "2022-04-07T15:30:05.031Z"
   },
   {
    "duration": 0,
    "start_time": "2022-04-07T15:30:05.032Z"
   },
   {
    "duration": 0,
    "start_time": "2022-04-07T15:30:05.033Z"
   },
   {
    "duration": 0,
    "start_time": "2022-04-07T15:30:05.034Z"
   },
   {
    "duration": 0,
    "start_time": "2022-04-07T15:30:05.035Z"
   },
   {
    "duration": 0,
    "start_time": "2022-04-07T15:30:05.036Z"
   },
   {
    "duration": 0,
    "start_time": "2022-04-07T15:30:05.038Z"
   },
   {
    "duration": 0,
    "start_time": "2022-04-07T15:30:05.038Z"
   },
   {
    "duration": 0,
    "start_time": "2022-04-07T15:30:05.040Z"
   },
   {
    "duration": 0,
    "start_time": "2022-04-07T15:30:05.041Z"
   },
   {
    "duration": 0,
    "start_time": "2022-04-07T15:30:05.042Z"
   },
   {
    "duration": 0,
    "start_time": "2022-04-07T15:30:05.043Z"
   },
   {
    "duration": 0,
    "start_time": "2022-04-07T15:30:05.044Z"
   },
   {
    "duration": 0,
    "start_time": "2022-04-07T15:30:05.045Z"
   },
   {
    "duration": 1263,
    "start_time": "2022-04-07T15:30:30.709Z"
   },
   {
    "duration": 30,
    "start_time": "2022-04-07T15:30:31.974Z"
   },
   {
    "duration": 21,
    "start_time": "2022-04-07T15:30:32.006Z"
   },
   {
    "duration": 15,
    "start_time": "2022-04-07T15:30:32.029Z"
   },
   {
    "duration": 21,
    "start_time": "2022-04-07T15:30:32.047Z"
   },
   {
    "duration": 426,
    "start_time": "2022-04-07T15:30:32.070Z"
   },
   {
    "duration": 26,
    "start_time": "2022-04-07T15:30:32.500Z"
   },
   {
    "duration": 6,
    "start_time": "2022-04-07T15:30:32.527Z"
   },
   {
    "duration": 14,
    "start_time": "2022-04-07T15:30:32.535Z"
   },
   {
    "duration": 17,
    "start_time": "2022-04-07T15:30:32.551Z"
   },
   {
    "duration": 26,
    "start_time": "2022-04-07T15:30:32.570Z"
   },
   {
    "duration": 8,
    "start_time": "2022-04-07T15:30:32.598Z"
   },
   {
    "duration": 227,
    "start_time": "2022-04-07T15:30:32.608Z"
   },
   {
    "duration": 4,
    "start_time": "2022-04-07T15:30:32.840Z"
   },
   {
    "duration": 32,
    "start_time": "2022-04-07T15:30:32.846Z"
   },
   {
    "duration": 21,
    "start_time": "2022-04-07T15:30:32.880Z"
   },
   {
    "duration": 32,
    "start_time": "2022-04-07T15:30:32.903Z"
   },
   {
    "duration": 115,
    "start_time": "2022-04-07T15:30:32.937Z"
   },
   {
    "duration": 301,
    "start_time": "2022-04-07T15:30:33.054Z"
   },
   {
    "duration": 16690,
    "start_time": "2022-04-07T15:30:33.356Z"
   },
   {
    "duration": 57,
    "start_time": "2022-04-07T15:30:50.048Z"
   },
   {
    "duration": 99,
    "start_time": "2022-04-07T15:30:50.107Z"
   },
   {
    "duration": 97,
    "start_time": "2022-04-07T15:30:50.207Z"
   },
   {
    "duration": 1223,
    "start_time": "2022-04-07T15:31:34.724Z"
   },
   {
    "duration": 29,
    "start_time": "2022-04-07T15:31:35.949Z"
   },
   {
    "duration": 22,
    "start_time": "2022-04-07T15:31:35.980Z"
   },
   {
    "duration": 14,
    "start_time": "2022-04-07T15:31:36.003Z"
   },
   {
    "duration": 13,
    "start_time": "2022-04-07T15:31:36.020Z"
   },
   {
    "duration": 454,
    "start_time": "2022-04-07T15:31:36.035Z"
   },
   {
    "duration": 31,
    "start_time": "2022-04-07T15:31:36.491Z"
   },
   {
    "duration": 5,
    "start_time": "2022-04-07T15:31:36.523Z"
   },
   {
    "duration": 9,
    "start_time": "2022-04-07T15:31:36.530Z"
   },
   {
    "duration": 8,
    "start_time": "2022-04-07T15:31:36.540Z"
   },
   {
    "duration": 10,
    "start_time": "2022-04-07T15:31:36.549Z"
   },
   {
    "duration": 6,
    "start_time": "2022-04-07T15:31:36.560Z"
   },
   {
    "duration": 236,
    "start_time": "2022-04-07T15:31:36.567Z"
   },
   {
    "duration": 4,
    "start_time": "2022-04-07T15:31:36.806Z"
   },
   {
    "duration": 24,
    "start_time": "2022-04-07T15:31:36.812Z"
   },
   {
    "duration": 14,
    "start_time": "2022-04-07T15:31:36.838Z"
   },
   {
    "duration": 61,
    "start_time": "2022-04-07T15:31:36.854Z"
   },
   {
    "duration": 121,
    "start_time": "2022-04-07T15:31:36.917Z"
   },
   {
    "duration": 313,
    "start_time": "2022-04-07T15:31:37.040Z"
   },
   {
    "duration": 16508,
    "start_time": "2022-04-07T15:31:37.355Z"
   },
   {
    "duration": 41,
    "start_time": "2022-04-07T15:31:53.865Z"
   },
   {
    "duration": 101,
    "start_time": "2022-04-07T15:31:53.909Z"
   },
   {
    "duration": 85,
    "start_time": "2022-04-07T15:31:54.102Z"
   },
   {
    "duration": 1354,
    "start_time": "2022-04-07T15:32:06.606Z"
   },
   {
    "duration": 31,
    "start_time": "2022-04-07T15:32:07.962Z"
   },
   {
    "duration": 24,
    "start_time": "2022-04-07T15:32:07.995Z"
   },
   {
    "duration": 15,
    "start_time": "2022-04-07T15:32:08.023Z"
   },
   {
    "duration": 14,
    "start_time": "2022-04-07T15:32:08.040Z"
   },
   {
    "duration": 488,
    "start_time": "2022-04-07T15:32:08.056Z"
   },
   {
    "duration": 22,
    "start_time": "2022-04-07T15:32:08.546Z"
   },
   {
    "duration": 5,
    "start_time": "2022-04-07T15:32:08.570Z"
   },
   {
    "duration": 26,
    "start_time": "2022-04-07T15:32:08.576Z"
   },
   {
    "duration": 5,
    "start_time": "2022-04-07T15:32:08.605Z"
   },
   {
    "duration": 8,
    "start_time": "2022-04-07T15:32:08.611Z"
   },
   {
    "duration": 5,
    "start_time": "2022-04-07T15:32:08.621Z"
   },
   {
    "duration": 238,
    "start_time": "2022-04-07T15:32:08.628Z"
   },
   {
    "duration": 5,
    "start_time": "2022-04-07T15:32:08.868Z"
   },
   {
    "duration": 32,
    "start_time": "2022-04-07T15:32:08.875Z"
   },
   {
    "duration": 13,
    "start_time": "2022-04-07T15:32:08.909Z"
   },
   {
    "duration": 35,
    "start_time": "2022-04-07T15:32:08.924Z"
   },
   {
    "duration": 142,
    "start_time": "2022-04-07T15:32:08.961Z"
   },
   {
    "duration": 314,
    "start_time": "2022-04-07T15:32:09.105Z"
   },
   {
    "duration": 18695,
    "start_time": "2022-04-07T15:32:09.421Z"
   },
   {
    "duration": 23,
    "start_time": "2022-04-07T15:32:28.118Z"
   },
   {
    "duration": 9,
    "start_time": "2022-04-07T15:32:28.203Z"
   },
   {
    "duration": 81,
    "start_time": "2022-04-07T15:32:28.302Z"
   },
   {
    "duration": 1255,
    "start_time": "2022-04-07T15:33:04.733Z"
   },
   {
    "duration": 31,
    "start_time": "2022-04-07T15:33:05.990Z"
   },
   {
    "duration": 23,
    "start_time": "2022-04-07T15:33:06.023Z"
   },
   {
    "duration": 19,
    "start_time": "2022-04-07T15:33:06.049Z"
   },
   {
    "duration": 13,
    "start_time": "2022-04-07T15:33:06.070Z"
   },
   {
    "duration": 499,
    "start_time": "2022-04-07T15:33:06.085Z"
   },
   {
    "duration": 31,
    "start_time": "2022-04-07T15:33:06.586Z"
   },
   {
    "duration": 6,
    "start_time": "2022-04-07T15:33:06.619Z"
   },
   {
    "duration": 13,
    "start_time": "2022-04-07T15:33:06.626Z"
   },
   {
    "duration": 20,
    "start_time": "2022-04-07T15:33:06.642Z"
   },
   {
    "duration": 32,
    "start_time": "2022-04-07T15:33:06.664Z"
   },
   {
    "duration": 31,
    "start_time": "2022-04-07T15:33:06.698Z"
   },
   {
    "duration": 209,
    "start_time": "2022-04-07T15:33:06.731Z"
   },
   {
    "duration": 6,
    "start_time": "2022-04-07T15:33:06.942Z"
   },
   {
    "duration": 26,
    "start_time": "2022-04-07T15:33:06.950Z"
   },
   {
    "duration": 25,
    "start_time": "2022-04-07T15:33:06.978Z"
   },
   {
    "duration": 37,
    "start_time": "2022-04-07T15:33:07.005Z"
   },
   {
    "duration": 122,
    "start_time": "2022-04-07T15:33:07.044Z"
   },
   {
    "duration": 429,
    "start_time": "2022-04-07T15:33:07.168Z"
   },
   {
    "duration": 15170,
    "start_time": "2022-04-07T15:33:07.602Z"
   },
   {
    "duration": 28,
    "start_time": "2022-04-07T15:33:22.774Z"
   },
   {
    "duration": 102,
    "start_time": "2022-04-07T15:33:22.804Z"
   },
   {
    "duration": 179,
    "start_time": "2022-04-07T15:33:22.908Z"
   },
   {
    "duration": 51940,
    "start_time": "2022-04-07T15:33:23.089Z"
   },
   {
    "duration": 76,
    "start_time": "2022-04-07T15:34:15.031Z"
   },
   {
    "duration": 100,
    "start_time": "2022-04-07T15:34:15.110Z"
   },
   {
    "duration": 167,
    "start_time": "2022-04-07T15:34:15.213Z"
   },
   {
    "duration": 0,
    "start_time": "2022-04-07T15:34:15.382Z"
   },
   {
    "duration": 0,
    "start_time": "2022-04-07T15:34:15.383Z"
   },
   {
    "duration": 0,
    "start_time": "2022-04-07T15:34:15.384Z"
   },
   {
    "duration": 0,
    "start_time": "2022-04-07T15:34:15.385Z"
   },
   {
    "duration": 0,
    "start_time": "2022-04-07T15:34:15.386Z"
   },
   {
    "duration": 0,
    "start_time": "2022-04-07T15:34:15.387Z"
   },
   {
    "duration": 1314,
    "start_time": "2022-04-07T15:53:06.575Z"
   },
   {
    "duration": 42,
    "start_time": "2022-04-07T15:53:07.891Z"
   },
   {
    "duration": 22,
    "start_time": "2022-04-07T15:53:07.935Z"
   },
   {
    "duration": 13,
    "start_time": "2022-04-07T15:53:07.959Z"
   },
   {
    "duration": 11,
    "start_time": "2022-04-07T15:53:07.974Z"
   },
   {
    "duration": 455,
    "start_time": "2022-04-07T15:53:07.987Z"
   },
   {
    "duration": 21,
    "start_time": "2022-04-07T15:53:08.444Z"
   },
   {
    "duration": 4,
    "start_time": "2022-04-07T15:53:08.467Z"
   },
   {
    "duration": 4,
    "start_time": "2022-04-07T15:53:08.473Z"
   },
   {
    "duration": 24,
    "start_time": "2022-04-07T15:53:08.480Z"
   },
   {
    "duration": 5,
    "start_time": "2022-04-07T15:53:08.505Z"
   },
   {
    "duration": 4,
    "start_time": "2022-04-07T15:53:08.512Z"
   },
   {
    "duration": 236,
    "start_time": "2022-04-07T15:53:08.517Z"
   },
   {
    "duration": 4,
    "start_time": "2022-04-07T15:53:08.755Z"
   },
   {
    "duration": 21,
    "start_time": "2022-04-07T15:53:08.761Z"
   },
   {
    "duration": 27,
    "start_time": "2022-04-07T15:53:08.784Z"
   },
   {
    "duration": 33,
    "start_time": "2022-04-07T15:53:08.813Z"
   },
   {
    "duration": 124,
    "start_time": "2022-04-07T15:53:08.848Z"
   },
   {
    "duration": 317,
    "start_time": "2022-04-07T15:53:08.974Z"
   },
   {
    "duration": 17616,
    "start_time": "2022-04-07T15:53:09.293Z"
   },
   {
    "duration": 96,
    "start_time": "2022-04-07T15:53:26.910Z"
   },
   {
    "duration": 444,
    "start_time": "2022-04-07T15:53:27.009Z"
   },
   {
    "duration": 16224,
    "start_time": "2022-04-07T15:53:27.455Z"
   },
   {
    "duration": 36,
    "start_time": "2022-04-07T15:53:43.681Z"
   },
   {
    "duration": 100,
    "start_time": "2022-04-07T15:53:43.803Z"
   },
   {
    "duration": 11,
    "start_time": "2022-04-07T15:53:43.904Z"
   },
   {
    "duration": 414,
    "start_time": "2022-04-07T15:53:43.917Z"
   },
   {
    "duration": 19534,
    "start_time": "2022-04-07T15:53:44.336Z"
   },
   {
    "duration": 42,
    "start_time": "2022-04-07T15:54:03.871Z"
   },
   {
    "duration": 102,
    "start_time": "2022-04-07T15:54:04.003Z"
   },
   {
    "duration": 223,
    "start_time": "2022-04-07T15:54:04.107Z"
   },
   {
    "duration": 10501,
    "start_time": "2022-04-07T15:54:04.332Z"
   },
   {
    "duration": 76,
    "start_time": "2022-04-07T15:54:14.834Z"
   },
   {
    "duration": 264,
    "start_time": "2022-04-07T16:25:33.391Z"
   },
   {
    "duration": 262,
    "start_time": "2022-04-07T16:29:30.427Z"
   },
   {
    "duration": 3,
    "start_time": "2022-04-07T16:30:24.680Z"
   },
   {
    "duration": 111,
    "start_time": "2022-04-07T16:33:33.728Z"
   },
   {
    "duration": 4,
    "start_time": "2022-04-07T16:33:55.643Z"
   },
   {
    "duration": 102,
    "start_time": "2022-04-07T16:34:03.345Z"
   },
   {
    "duration": 111,
    "start_time": "2022-04-07T16:35:05.710Z"
   },
   {
    "duration": 102,
    "start_time": "2022-04-07T16:35:45.171Z"
   },
   {
    "duration": 1856,
    "start_time": "2022-04-07T16:40:40.850Z"
   },
   {
    "duration": 43,
    "start_time": "2022-04-07T16:40:42.707Z"
   },
   {
    "duration": 18,
    "start_time": "2022-04-07T16:40:42.751Z"
   },
   {
    "duration": 15,
    "start_time": "2022-04-07T16:40:42.772Z"
   },
   {
    "duration": 22,
    "start_time": "2022-04-07T16:40:42.789Z"
   },
   {
    "duration": 157,
    "start_time": "2022-04-07T16:40:42.813Z"
   },
   {
    "duration": 33,
    "start_time": "2022-04-07T16:40:42.971Z"
   },
   {
    "duration": 5,
    "start_time": "2022-04-07T16:40:43.006Z"
   },
   {
    "duration": 8,
    "start_time": "2022-04-07T16:40:43.012Z"
   },
   {
    "duration": 7,
    "start_time": "2022-04-07T16:40:43.023Z"
   },
   {
    "duration": 6,
    "start_time": "2022-04-07T16:40:43.031Z"
   },
   {
    "duration": 5,
    "start_time": "2022-04-07T16:40:43.039Z"
   },
   {
    "duration": 243,
    "start_time": "2022-04-07T16:40:43.046Z"
   },
   {
    "duration": 10,
    "start_time": "2022-04-07T16:40:43.291Z"
   },
   {
    "duration": 20,
    "start_time": "2022-04-07T16:40:43.303Z"
   },
   {
    "duration": 15,
    "start_time": "2022-04-07T16:40:43.325Z"
   },
   {
    "duration": 60,
    "start_time": "2022-04-07T16:40:43.342Z"
   },
   {
    "duration": 110,
    "start_time": "2022-04-07T16:40:43.404Z"
   },
   {
    "duration": 303,
    "start_time": "2022-04-07T16:40:43.516Z"
   },
   {
    "duration": 16235,
    "start_time": "2022-04-07T16:40:43.820Z"
   },
   {
    "duration": 53,
    "start_time": "2022-04-07T16:41:00.057Z"
   },
   {
    "duration": 426,
    "start_time": "2022-04-07T16:41:00.202Z"
   },
   {
    "duration": 16260,
    "start_time": "2022-04-07T16:41:00.630Z"
   },
   {
    "duration": 109,
    "start_time": "2022-04-07T16:41:16.892Z"
   },
   {
    "duration": 98,
    "start_time": "2022-04-07T16:41:17.004Z"
   },
   {
    "duration": 10,
    "start_time": "2022-04-07T16:41:17.104Z"
   },
   {
    "duration": 402,
    "start_time": "2022-04-07T16:41:17.115Z"
   },
   {
    "duration": 20390,
    "start_time": "2022-04-07T16:41:17.521Z"
   },
   {
    "duration": 92,
    "start_time": "2022-04-07T16:41:37.913Z"
   },
   {
    "duration": 100,
    "start_time": "2022-04-07T16:41:38.008Z"
   },
   {
    "duration": 212,
    "start_time": "2022-04-07T16:41:38.110Z"
   },
   {
    "duration": 9927,
    "start_time": "2022-04-07T16:41:38.324Z"
   },
   {
    "duration": 58,
    "start_time": "2022-04-07T16:41:48.253Z"
   },
   {
    "duration": 445,
    "start_time": "2022-04-07T16:41:48.314Z"
   },
   {
    "duration": 193,
    "start_time": "2022-04-07T16:41:48.761Z"
   },
   {
    "duration": 2645,
    "start_time": "2022-04-11T21:16:28.911Z"
   },
   {
    "duration": 26,
    "start_time": "2022-04-11T21:16:31.558Z"
   },
   {
    "duration": 27,
    "start_time": "2022-04-11T21:16:31.586Z"
   },
   {
    "duration": 13,
    "start_time": "2022-04-11T21:16:31.614Z"
   },
   {
    "duration": 25,
    "start_time": "2022-04-11T21:16:31.630Z"
   },
   {
    "duration": 167,
    "start_time": "2022-04-11T21:16:31.656Z"
   },
   {
    "duration": 6,
    "start_time": "2022-04-11T21:16:31.825Z"
   },
   {
    "duration": 5,
    "start_time": "2022-04-11T21:16:31.833Z"
   },
   {
    "duration": 6,
    "start_time": "2022-04-11T21:16:31.840Z"
   },
   {
    "duration": 9,
    "start_time": "2022-04-11T21:16:31.847Z"
   },
   {
    "duration": 4,
    "start_time": "2022-04-11T21:16:31.858Z"
   },
   {
    "duration": 278,
    "start_time": "2022-04-11T21:16:31.864Z"
   },
   {
    "duration": 6,
    "start_time": "2022-04-11T21:16:32.144Z"
   },
   {
    "duration": 26,
    "start_time": "2022-04-11T21:16:32.154Z"
   },
   {
    "duration": 36,
    "start_time": "2022-04-11T21:16:32.182Z"
   },
   {
    "duration": 36,
    "start_time": "2022-04-11T21:16:32.219Z"
   },
   {
    "duration": 153,
    "start_time": "2022-04-11T21:16:32.257Z"
   },
   {
    "duration": 337,
    "start_time": "2022-04-11T21:16:32.412Z"
   },
   {
    "duration": 15298,
    "start_time": "2022-04-11T21:16:32.751Z"
   },
   {
    "duration": 60,
    "start_time": "2022-04-11T21:16:48.050Z"
   },
   {
    "duration": 467,
    "start_time": "2022-04-11T21:16:48.113Z"
   },
   {
    "duration": 16789,
    "start_time": "2022-04-11T21:16:48.582Z"
   },
   {
    "duration": 137,
    "start_time": "2022-04-11T21:17:05.373Z"
   },
   {
    "duration": 99,
    "start_time": "2022-04-11T21:17:05.512Z"
   },
   {
    "duration": 10,
    "start_time": "2022-04-11T21:17:05.613Z"
   },
   {
    "duration": 449,
    "start_time": "2022-04-11T21:17:05.624Z"
   },
   {
    "duration": 21440,
    "start_time": "2022-04-11T21:17:06.075Z"
   },
   {
    "duration": 93,
    "start_time": "2022-04-11T21:17:27.517Z"
   },
   {
    "duration": 102,
    "start_time": "2022-04-11T21:17:27.613Z"
   },
   {
    "duration": 230,
    "start_time": "2022-04-11T21:17:27.717Z"
   },
   {
    "duration": 11021,
    "start_time": "2022-04-11T21:17:27.949Z"
   },
   {
    "duration": 138,
    "start_time": "2022-04-11T21:17:38.972Z"
   },
   {
    "duration": 378,
    "start_time": "2022-04-11T21:17:39.113Z"
   },
   {
    "duration": 124,
    "start_time": "2022-04-11T21:17:39.492Z"
   },
   {
    "duration": 2369,
    "start_time": "2022-04-12T11:05:29.984Z"
   },
   {
    "duration": 37,
    "start_time": "2022-04-12T11:05:32.356Z"
   },
   {
    "duration": 25,
    "start_time": "2022-04-12T11:05:32.396Z"
   },
   {
    "duration": 27,
    "start_time": "2022-04-12T11:05:32.424Z"
   },
   {
    "duration": 41,
    "start_time": "2022-04-12T11:05:32.453Z"
   },
   {
    "duration": 242,
    "start_time": "2022-04-12T11:05:32.497Z"
   },
   {
    "duration": 9,
    "start_time": "2022-04-12T11:05:32.741Z"
   },
   {
    "duration": 26,
    "start_time": "2022-04-12T11:05:32.752Z"
   },
   {
    "duration": 17,
    "start_time": "2022-04-12T11:05:32.781Z"
   },
   {
    "duration": 13,
    "start_time": "2022-04-12T11:05:32.804Z"
   },
   {
    "duration": 25,
    "start_time": "2022-04-12T11:05:32.819Z"
   },
   {
    "duration": 371,
    "start_time": "2022-04-12T11:05:32.846Z"
   },
   {
    "duration": 7,
    "start_time": "2022-04-12T11:05:33.219Z"
   },
   {
    "duration": 39,
    "start_time": "2022-04-12T11:05:33.228Z"
   },
   {
    "duration": 36,
    "start_time": "2022-04-12T11:05:33.269Z"
   },
   {
    "duration": 51,
    "start_time": "2022-04-12T11:05:33.307Z"
   },
   {
    "duration": 214,
    "start_time": "2022-04-12T11:05:33.360Z"
   },
   {
    "duration": 508,
    "start_time": "2022-04-12T11:05:33.577Z"
   },
   {
    "duration": 29013,
    "start_time": "2022-04-12T11:05:34.087Z"
   },
   {
    "duration": 98,
    "start_time": "2022-04-12T11:06:03.102Z"
   },
   {
    "duration": 624,
    "start_time": "2022-04-12T11:06:03.203Z"
   },
   {
    "duration": 29019,
    "start_time": "2022-04-12T11:06:03.830Z"
   },
   {
    "duration": 142,
    "start_time": "2022-04-12T11:06:32.851Z"
   },
   {
    "duration": 98,
    "start_time": "2022-04-12T11:06:32.997Z"
   },
   {
    "duration": 14,
    "start_time": "2022-04-12T11:06:33.097Z"
   },
   {
    "duration": 611,
    "start_time": "2022-04-12T11:06:33.114Z"
   },
   {
    "duration": 35977,
    "start_time": "2022-04-12T11:06:33.728Z"
   },
   {
    "duration": 181,
    "start_time": "2022-04-12T11:07:09.712Z"
   },
   {
    "duration": 104,
    "start_time": "2022-04-12T11:07:09.898Z"
   },
   {
    "duration": 327,
    "start_time": "2022-04-12T11:07:10.004Z"
   },
   {
    "duration": 16110,
    "start_time": "2022-04-12T11:07:10.333Z"
   },
   {
    "duration": 161,
    "start_time": "2022-04-12T11:07:26.445Z"
   },
   {
    "duration": 579,
    "start_time": "2022-04-12T11:07:26.694Z"
   },
   {
    "duration": 282,
    "start_time": "2022-04-12T11:07:27.276Z"
   },
   {
    "duration": 189,
    "start_time": "2022-04-12T11:14:43.839Z"
   },
   {
    "duration": 2161,
    "start_time": "2022-04-12T11:33:28.567Z"
   },
   {
    "duration": 43,
    "start_time": "2022-04-12T11:33:30.730Z"
   },
   {
    "duration": 37,
    "start_time": "2022-04-12T11:33:30.776Z"
   },
   {
    "duration": 22,
    "start_time": "2022-04-12T11:33:30.816Z"
   },
   {
    "duration": 17,
    "start_time": "2022-04-12T11:33:30.840Z"
   },
   {
    "duration": 293,
    "start_time": "2022-04-12T11:33:30.859Z"
   },
   {
    "duration": 8,
    "start_time": "2022-04-12T11:33:31.154Z"
   },
   {
    "duration": 32,
    "start_time": "2022-04-12T11:33:31.164Z"
   },
   {
    "duration": 26,
    "start_time": "2022-04-12T11:33:31.198Z"
   },
   {
    "duration": 12,
    "start_time": "2022-04-12T11:33:31.229Z"
   },
   {
    "duration": 18,
    "start_time": "2022-04-12T11:33:31.244Z"
   },
   {
    "duration": 416,
    "start_time": "2022-04-12T11:33:31.265Z"
   },
   {
    "duration": 15,
    "start_time": "2022-04-12T11:33:31.684Z"
   },
   {
    "duration": 47,
    "start_time": "2022-04-12T11:33:31.702Z"
   },
   {
    "duration": 20,
    "start_time": "2022-04-12T11:33:31.751Z"
   },
   {
    "duration": 71,
    "start_time": "2022-04-12T11:33:31.775Z"
   },
   {
    "duration": 210,
    "start_time": "2022-04-12T11:33:31.848Z"
   },
   {
    "duration": 539,
    "start_time": "2022-04-12T11:33:32.061Z"
   },
   {
    "duration": 26732,
    "start_time": "2022-04-12T11:33:32.603Z"
   },
   {
    "duration": 66,
    "start_time": "2022-04-12T11:33:59.337Z"
   },
   {
    "duration": 727,
    "start_time": "2022-04-12T11:33:59.406Z"
   },
   {
    "duration": 31595,
    "start_time": "2022-04-12T11:34:00.137Z"
   },
   {
    "duration": 77,
    "start_time": "2022-04-12T11:34:31.734Z"
   },
   {
    "duration": 90,
    "start_time": "2022-04-12T11:34:31.814Z"
   },
   {
    "duration": 107,
    "start_time": "2022-04-12T11:34:31.906Z"
   },
   {
    "duration": 639,
    "start_time": "2022-04-12T11:34:32.017Z"
   },
   {
    "duration": 33030,
    "start_time": "2022-04-12T11:34:32.658Z"
   },
   {
    "duration": 111,
    "start_time": "2022-04-12T11:35:05.695Z"
   },
   {
    "duration": 107,
    "start_time": "2022-04-12T11:35:05.809Z"
   },
   {
    "duration": 521,
    "start_time": "2022-04-12T11:35:05.919Z"
   },
   {
    "duration": 16819,
    "start_time": "2022-04-12T11:35:06.443Z"
   },
   {
    "duration": 129,
    "start_time": "2022-04-12T11:35:23.264Z"
   },
   {
    "duration": 539,
    "start_time": "2022-04-12T11:35:23.396Z"
   },
   {
    "duration": 222,
    "start_time": "2022-04-12T11:35:23.938Z"
   },
   {
    "duration": 39,
    "start_time": "2022-04-12T11:47:57.199Z"
   },
   {
    "duration": 26,
    "start_time": "2022-04-12T11:49:11.004Z"
   },
   {
    "duration": 54,
    "start_time": "2022-04-12T13:52:24.130Z"
   },
   {
    "duration": 1788,
    "start_time": "2022-04-12T13:52:32.495Z"
   },
   {
    "duration": 36,
    "start_time": "2022-04-12T13:52:34.285Z"
   },
   {
    "duration": 24,
    "start_time": "2022-04-12T13:52:34.323Z"
   },
   {
    "duration": 15,
    "start_time": "2022-04-12T13:52:34.349Z"
   },
   {
    "duration": 13,
    "start_time": "2022-04-12T13:52:34.366Z"
   },
   {
    "duration": 192,
    "start_time": "2022-04-12T13:52:34.380Z"
   },
   {
    "duration": 5,
    "start_time": "2022-04-12T13:52:34.574Z"
   },
   {
    "duration": 6,
    "start_time": "2022-04-12T13:52:34.581Z"
   },
   {
    "duration": 13,
    "start_time": "2022-04-12T13:52:34.588Z"
   },
   {
    "duration": 9,
    "start_time": "2022-04-12T13:52:34.604Z"
   },
   {
    "duration": 23,
    "start_time": "2022-04-12T13:52:34.615Z"
   },
   {
    "duration": 258,
    "start_time": "2022-04-12T13:52:34.640Z"
   },
   {
    "duration": 6,
    "start_time": "2022-04-12T13:52:34.899Z"
   },
   {
    "duration": 38,
    "start_time": "2022-04-12T13:52:34.907Z"
   },
   {
    "duration": 15,
    "start_time": "2022-04-12T13:52:34.947Z"
   },
   {
    "duration": 38,
    "start_time": "2022-04-12T13:52:34.964Z"
   },
   {
    "duration": 147,
    "start_time": "2022-04-12T13:52:35.004Z"
   },
   {
    "duration": 404,
    "start_time": "2022-04-12T13:52:35.152Z"
   },
   {
    "duration": 18820,
    "start_time": "2022-04-12T13:52:35.557Z"
   },
   {
    "duration": 157,
    "start_time": "2022-04-12T13:52:54.379Z"
   },
   {
    "duration": 496,
    "start_time": "2022-04-12T13:52:54.538Z"
   },
   {
    "duration": 18710,
    "start_time": "2022-04-12T13:52:55.037Z"
   },
   {
    "duration": 84,
    "start_time": "2022-04-12T13:53:13.749Z"
   },
   {
    "duration": 12,
    "start_time": "2022-04-12T13:53:13.835Z"
   },
   {
    "duration": 228,
    "start_time": "2022-04-12T13:53:13.848Z"
   },
   {
    "duration": 0,
    "start_time": "2022-04-12T13:53:14.079Z"
   },
   {
    "duration": 0,
    "start_time": "2022-04-12T13:53:14.081Z"
   },
   {
    "duration": 0,
    "start_time": "2022-04-12T13:53:14.083Z"
   },
   {
    "duration": 0,
    "start_time": "2022-04-12T13:53:14.084Z"
   },
   {
    "duration": 0,
    "start_time": "2022-04-12T13:53:14.086Z"
   },
   {
    "duration": 0,
    "start_time": "2022-04-12T13:53:14.087Z"
   },
   {
    "duration": 0,
    "start_time": "2022-04-12T13:53:14.089Z"
   },
   {
    "duration": 0,
    "start_time": "2022-04-12T13:53:14.090Z"
   },
   {
    "duration": 0,
    "start_time": "2022-04-12T13:53:14.092Z"
   },
   {
    "duration": 14,
    "start_time": "2022-04-12T13:53:51.215Z"
   },
   {
    "duration": 15,
    "start_time": "2022-04-12T14:11:21.658Z"
   },
   {
    "duration": 15,
    "start_time": "2022-04-12T14:11:39.855Z"
   },
   {
    "duration": 14,
    "start_time": "2022-04-12T14:12:12.978Z"
   },
   {
    "duration": 13,
    "start_time": "2022-04-12T14:12:24.246Z"
   },
   {
    "duration": 12,
    "start_time": "2022-04-12T14:13:21.467Z"
   },
   {
    "duration": 14,
    "start_time": "2022-04-12T14:13:46.384Z"
   },
   {
    "duration": 14,
    "start_time": "2022-04-12T14:14:15.435Z"
   },
   {
    "duration": 15,
    "start_time": "2022-04-12T14:14:38.488Z"
   },
   {
    "duration": 14,
    "start_time": "2022-04-12T14:18:44.259Z"
   },
   {
    "duration": 14,
    "start_time": "2022-04-12T14:18:53.649Z"
   },
   {
    "duration": 14,
    "start_time": "2022-04-12T14:18:59.754Z"
   },
   {
    "duration": 16,
    "start_time": "2022-04-12T14:19:05.839Z"
   },
   {
    "duration": 16,
    "start_time": "2022-04-12T14:19:14.974Z"
   },
   {
    "duration": 21,
    "start_time": "2022-04-12T14:19:23.145Z"
   },
   {
    "duration": 17,
    "start_time": "2022-04-12T14:19:29.222Z"
   },
   {
    "duration": 20,
    "start_time": "2022-04-12T14:19:36.932Z"
   },
   {
    "duration": 15,
    "start_time": "2022-04-12T14:20:16.921Z"
   },
   {
    "duration": 15,
    "start_time": "2022-04-12T14:20:23.961Z"
   },
   {
    "duration": 16,
    "start_time": "2022-04-12T14:23:00.048Z"
   },
   {
    "duration": 21,
    "start_time": "2022-04-12T14:23:06.533Z"
   },
   {
    "duration": 1510,
    "start_time": "2022-04-12T15:06:06.918Z"
   },
   {
    "duration": 30,
    "start_time": "2022-04-12T15:06:08.430Z"
   },
   {
    "duration": 17,
    "start_time": "2022-04-12T15:06:08.462Z"
   },
   {
    "duration": 13,
    "start_time": "2022-04-12T15:06:08.482Z"
   },
   {
    "duration": 18,
    "start_time": "2022-04-12T15:06:08.496Z"
   },
   {
    "duration": 168,
    "start_time": "2022-04-12T15:06:08.516Z"
   },
   {
    "duration": 6,
    "start_time": "2022-04-12T15:06:08.685Z"
   },
   {
    "duration": 10,
    "start_time": "2022-04-12T15:06:08.692Z"
   },
   {
    "duration": 8,
    "start_time": "2022-04-12T15:06:08.703Z"
   },
   {
    "duration": 5,
    "start_time": "2022-04-12T15:06:08.714Z"
   },
   {
    "duration": 3,
    "start_time": "2022-04-12T15:06:08.733Z"
   },
   {
    "duration": 237,
    "start_time": "2022-04-12T15:06:08.738Z"
   },
   {
    "duration": 5,
    "start_time": "2022-04-12T15:06:08.977Z"
   },
   {
    "duration": 22,
    "start_time": "2022-04-12T15:06:08.984Z"
   },
   {
    "duration": 29,
    "start_time": "2022-04-12T15:06:09.008Z"
   },
   {
    "duration": 35,
    "start_time": "2022-04-12T15:06:09.038Z"
   },
   {
    "duration": 134,
    "start_time": "2022-04-12T15:06:09.074Z"
   },
   {
    "duration": 384,
    "start_time": "2022-04-12T15:06:09.210Z"
   },
   {
    "duration": 17523,
    "start_time": "2022-04-12T15:06:09.596Z"
   },
   {
    "duration": 106,
    "start_time": "2022-04-12T15:06:27.134Z"
   },
   {
    "duration": 506,
    "start_time": "2022-04-12T15:06:27.241Z"
   },
   {
    "duration": 17653,
    "start_time": "2022-04-12T15:06:27.749Z"
   },
   {
    "duration": 40,
    "start_time": "2022-04-12T15:06:45.404Z"
   },
   {
    "duration": 9,
    "start_time": "2022-04-12T15:06:45.536Z"
   },
   {
    "duration": 14,
    "start_time": "2022-04-12T15:06:45.635Z"
   },
   {
    "duration": 450,
    "start_time": "2022-04-12T15:06:45.651Z"
   },
   {
    "duration": 22522,
    "start_time": "2022-04-12T15:06:46.103Z"
   },
   {
    "duration": 34,
    "start_time": "2022-04-12T15:07:08.634Z"
   },
   {
    "duration": 105,
    "start_time": "2022-04-12T15:07:08.735Z"
   },
   {
    "duration": 224,
    "start_time": "2022-04-12T15:07:08.842Z"
   },
   {
    "duration": 11043,
    "start_time": "2022-04-12T15:07:09.068Z"
   },
   {
    "duration": 120,
    "start_time": "2022-04-12T15:07:20.113Z"
   },
   {
    "duration": 395,
    "start_time": "2022-04-12T15:07:20.236Z"
   },
   {
    "duration": 139,
    "start_time": "2022-04-12T15:07:20.634Z"
   },
   {
    "duration": 1567,
    "start_time": "2022-04-12T21:39:44.799Z"
   },
   {
    "duration": 32,
    "start_time": "2022-04-12T21:39:46.368Z"
   },
   {
    "duration": 20,
    "start_time": "2022-04-12T21:39:46.402Z"
   },
   {
    "duration": 21,
    "start_time": "2022-04-12T21:39:46.425Z"
   },
   {
    "duration": 12,
    "start_time": "2022-04-12T21:39:46.448Z"
   },
   {
    "duration": 183,
    "start_time": "2022-04-12T21:39:46.462Z"
   },
   {
    "duration": 6,
    "start_time": "2022-04-12T21:39:46.647Z"
   },
   {
    "duration": 6,
    "start_time": "2022-04-12T21:39:46.655Z"
   },
   {
    "duration": 7,
    "start_time": "2022-04-12T21:39:46.663Z"
   },
   {
    "duration": 4,
    "start_time": "2022-04-12T21:39:46.673Z"
   },
   {
    "duration": 6,
    "start_time": "2022-04-12T21:39:46.678Z"
   },
   {
    "duration": 262,
    "start_time": "2022-04-12T21:39:46.686Z"
   },
   {
    "duration": 5,
    "start_time": "2022-04-12T21:39:46.950Z"
   },
   {
    "duration": 23,
    "start_time": "2022-04-12T21:39:46.957Z"
   },
   {
    "duration": 14,
    "start_time": "2022-04-12T21:39:46.982Z"
   },
   {
    "duration": 64,
    "start_time": "2022-04-12T21:39:46.998Z"
   },
   {
    "duration": 133,
    "start_time": "2022-04-12T21:39:47.063Z"
   },
   {
    "duration": 386,
    "start_time": "2022-04-12T21:39:47.198Z"
   },
   {
    "duration": 17905,
    "start_time": "2022-04-12T21:39:47.585Z"
   },
   {
    "duration": 49,
    "start_time": "2022-04-12T21:40:05.491Z"
   },
   {
    "duration": 584,
    "start_time": "2022-04-12T21:40:05.542Z"
   },
   {
    "duration": 17287,
    "start_time": "2022-04-12T21:40:06.128Z"
   },
   {
    "duration": 117,
    "start_time": "2022-04-12T21:40:23.417Z"
   },
   {
    "duration": 98,
    "start_time": "2022-04-12T21:40:23.537Z"
   },
   {
    "duration": 13,
    "start_time": "2022-04-12T21:40:23.637Z"
   },
   {
    "duration": 438,
    "start_time": "2022-04-12T21:40:23.652Z"
   },
   {
    "duration": 21476,
    "start_time": "2022-04-12T21:40:24.092Z"
   },
   {
    "duration": 69,
    "start_time": "2022-04-12T21:40:45.571Z"
   },
   {
    "duration": 198,
    "start_time": "2022-04-12T21:40:45.643Z"
   },
   {
    "duration": 228,
    "start_time": "2022-04-12T21:40:45.844Z"
   },
   {
    "duration": 10718,
    "start_time": "2022-04-12T21:40:46.074Z"
   },
   {
    "duration": 146,
    "start_time": "2022-04-12T21:40:56.794Z"
   },
   {
    "duration": 475,
    "start_time": "2022-04-12T21:40:56.942Z"
   },
   {
    "duration": 128,
    "start_time": "2022-04-12T21:40:57.419Z"
   },
   {
    "duration": 18,
    "start_time": "2022-04-12T21:58:19.495Z"
   },
   {
    "duration": 19,
    "start_time": "2022-04-12T21:58:24.367Z"
   },
   {
    "duration": 15,
    "start_time": "2022-04-12T21:58:33.223Z"
   },
   {
    "duration": 15,
    "start_time": "2022-04-12T21:58:39.663Z"
   },
   {
    "duration": 15,
    "start_time": "2022-04-12T21:58:43.974Z"
   },
   {
    "duration": 13,
    "start_time": "2022-04-12T21:58:48.047Z"
   },
   {
    "duration": 14,
    "start_time": "2022-04-12T21:58:51.879Z"
   },
   {
    "duration": 14,
    "start_time": "2022-04-12T21:58:56.039Z"
   }
  ],
  "kernelspec": {
   "display_name": "Python 3 (ipykernel)",
   "language": "python",
   "name": "python3"
  },
  "language_info": {
   "codemirror_mode": {
    "name": "ipython",
    "version": 3
   },
   "file_extension": ".py",
   "mimetype": "text/x-python",
   "name": "python",
   "nbconvert_exporter": "python",
   "pygments_lexer": "ipython3",
   "version": "3.9.5"
  },
  "toc": {
   "base_numbering": 1,
   "nav_menu": {},
   "number_sections": true,
   "sideBar": true,
   "skip_h1_title": true,
   "title_cell": "Содержание",
   "title_sidebar": "Содержание",
   "toc_cell": true,
   "toc_position": {
    "height": "calc(100% - 180px)",
    "left": "10px",
    "top": "150px",
    "width": "307.2px"
   },
   "toc_section_display": true,
   "toc_window_display": true
  }
 },
 "nbformat": 4,
 "nbformat_minor": 5
}
