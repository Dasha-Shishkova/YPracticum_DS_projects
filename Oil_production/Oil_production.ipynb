{
 "cells": [
  {
   "cell_type": "markdown",
   "metadata": {},
   "source": [
    "## Загрузка и подготовка данных"
   ]
  },
  {
   "cell_type": "code",
   "execution_count": 1,
   "metadata": {},
   "outputs": [],
   "source": [
    "import pandas as pd\n",
    "from sklearn.model_selection import train_test_split \n",
    "from sklearn.linear_model import LinearRegression\n",
    "from sklearn.metrics import mean_squared_error\n",
    "from numpy.random import RandomState\n",
    "from scipy import stats as st"
   ]
  },
  {
   "cell_type": "code",
   "execution_count": 2,
   "metadata": {},
   "outputs": [],
   "source": [
    "data_0 = pd.read_csv('/datasets/geo_data_0.csv')\n",
    "data_1 = pd.read_csv('/datasets/geo_data_1.csv')\n",
    "data_2 = pd.read_csv('/datasets/geo_data_2.csv')"
   ]
  },
  {
   "cell_type": "code",
   "execution_count": 3,
   "metadata": {},
   "outputs": [
    {
     "data": {
      "text/html": [
       "<div>\n",
       "<style scoped>\n",
       "    .dataframe tbody tr th:only-of-type {\n",
       "        vertical-align: middle;\n",
       "    }\n",
       "\n",
       "    .dataframe tbody tr th {\n",
       "        vertical-align: top;\n",
       "    }\n",
       "\n",
       "    .dataframe thead th {\n",
       "        text-align: right;\n",
       "    }\n",
       "</style>\n",
       "<table border=\"1\" class=\"dataframe\">\n",
       "  <thead>\n",
       "    <tr style=\"text-align: right;\">\n",
       "      <th></th>\n",
       "      <th>id</th>\n",
       "      <th>f0</th>\n",
       "      <th>f1</th>\n",
       "      <th>f2</th>\n",
       "      <th>product</th>\n",
       "    </tr>\n",
       "  </thead>\n",
       "  <tbody>\n",
       "    <tr>\n",
       "      <th>0</th>\n",
       "      <td>txEyH</td>\n",
       "      <td>0.705745</td>\n",
       "      <td>-0.497823</td>\n",
       "      <td>1.221170</td>\n",
       "      <td>105.280062</td>\n",
       "    </tr>\n",
       "    <tr>\n",
       "      <th>1</th>\n",
       "      <td>2acmU</td>\n",
       "      <td>1.334711</td>\n",
       "      <td>-0.340164</td>\n",
       "      <td>4.365080</td>\n",
       "      <td>73.037750</td>\n",
       "    </tr>\n",
       "    <tr>\n",
       "      <th>2</th>\n",
       "      <td>409Wp</td>\n",
       "      <td>1.022732</td>\n",
       "      <td>0.151990</td>\n",
       "      <td>1.419926</td>\n",
       "      <td>85.265647</td>\n",
       "    </tr>\n",
       "    <tr>\n",
       "      <th>3</th>\n",
       "      <td>iJLyR</td>\n",
       "      <td>-0.032172</td>\n",
       "      <td>0.139033</td>\n",
       "      <td>2.978566</td>\n",
       "      <td>168.620776</td>\n",
       "    </tr>\n",
       "    <tr>\n",
       "      <th>4</th>\n",
       "      <td>Xdl7t</td>\n",
       "      <td>1.988431</td>\n",
       "      <td>0.155413</td>\n",
       "      <td>4.751769</td>\n",
       "      <td>154.036647</td>\n",
       "    </tr>\n",
       "  </tbody>\n",
       "</table>\n",
       "</div>"
      ],
      "text/plain": [
       "      id        f0        f1        f2     product\n",
       "0  txEyH  0.705745 -0.497823  1.221170  105.280062\n",
       "1  2acmU  1.334711 -0.340164  4.365080   73.037750\n",
       "2  409Wp  1.022732  0.151990  1.419926   85.265647\n",
       "3  iJLyR -0.032172  0.139033  2.978566  168.620776\n",
       "4  Xdl7t  1.988431  0.155413  4.751769  154.036647"
      ]
     },
     "execution_count": 3,
     "metadata": {},
     "output_type": "execute_result"
    }
   ],
   "source": [
    "data_0.head()"
   ]
  },
  {
   "cell_type": "code",
   "execution_count": 4,
   "metadata": {},
   "outputs": [
    {
     "data": {
      "text/html": [
       "<div>\n",
       "<style scoped>\n",
       "    .dataframe tbody tr th:only-of-type {\n",
       "        vertical-align: middle;\n",
       "    }\n",
       "\n",
       "    .dataframe tbody tr th {\n",
       "        vertical-align: top;\n",
       "    }\n",
       "\n",
       "    .dataframe thead th {\n",
       "        text-align: right;\n",
       "    }\n",
       "</style>\n",
       "<table border=\"1\" class=\"dataframe\">\n",
       "  <thead>\n",
       "    <tr style=\"text-align: right;\">\n",
       "      <th></th>\n",
       "      <th>id</th>\n",
       "      <th>f0</th>\n",
       "      <th>f1</th>\n",
       "      <th>f2</th>\n",
       "      <th>product</th>\n",
       "    </tr>\n",
       "  </thead>\n",
       "  <tbody>\n",
       "    <tr>\n",
       "      <th>0</th>\n",
       "      <td>kBEdx</td>\n",
       "      <td>-15.001348</td>\n",
       "      <td>-8.276000</td>\n",
       "      <td>-0.005876</td>\n",
       "      <td>3.179103</td>\n",
       "    </tr>\n",
       "    <tr>\n",
       "      <th>1</th>\n",
       "      <td>62mP7</td>\n",
       "      <td>14.272088</td>\n",
       "      <td>-3.475083</td>\n",
       "      <td>0.999183</td>\n",
       "      <td>26.953261</td>\n",
       "    </tr>\n",
       "    <tr>\n",
       "      <th>2</th>\n",
       "      <td>vyE1P</td>\n",
       "      <td>6.263187</td>\n",
       "      <td>-5.948386</td>\n",
       "      <td>5.001160</td>\n",
       "      <td>134.766305</td>\n",
       "    </tr>\n",
       "    <tr>\n",
       "      <th>3</th>\n",
       "      <td>KcrkZ</td>\n",
       "      <td>-13.081196</td>\n",
       "      <td>-11.506057</td>\n",
       "      <td>4.999415</td>\n",
       "      <td>137.945408</td>\n",
       "    </tr>\n",
       "    <tr>\n",
       "      <th>4</th>\n",
       "      <td>AHL4O</td>\n",
       "      <td>12.702195</td>\n",
       "      <td>-8.147433</td>\n",
       "      <td>5.004363</td>\n",
       "      <td>134.766305</td>\n",
       "    </tr>\n",
       "  </tbody>\n",
       "</table>\n",
       "</div>"
      ],
      "text/plain": [
       "      id         f0         f1        f2     product\n",
       "0  kBEdx -15.001348  -8.276000 -0.005876    3.179103\n",
       "1  62mP7  14.272088  -3.475083  0.999183   26.953261\n",
       "2  vyE1P   6.263187  -5.948386  5.001160  134.766305\n",
       "3  KcrkZ -13.081196 -11.506057  4.999415  137.945408\n",
       "4  AHL4O  12.702195  -8.147433  5.004363  134.766305"
      ]
     },
     "execution_count": 4,
     "metadata": {},
     "output_type": "execute_result"
    }
   ],
   "source": [
    "data_1.head()"
   ]
  },
  {
   "cell_type": "code",
   "execution_count": 5,
   "metadata": {},
   "outputs": [
    {
     "data": {
      "text/html": [
       "<div>\n",
       "<style scoped>\n",
       "    .dataframe tbody tr th:only-of-type {\n",
       "        vertical-align: middle;\n",
       "    }\n",
       "\n",
       "    .dataframe tbody tr th {\n",
       "        vertical-align: top;\n",
       "    }\n",
       "\n",
       "    .dataframe thead th {\n",
       "        text-align: right;\n",
       "    }\n",
       "</style>\n",
       "<table border=\"1\" class=\"dataframe\">\n",
       "  <thead>\n",
       "    <tr style=\"text-align: right;\">\n",
       "      <th></th>\n",
       "      <th>id</th>\n",
       "      <th>f0</th>\n",
       "      <th>f1</th>\n",
       "      <th>f2</th>\n",
       "      <th>product</th>\n",
       "    </tr>\n",
       "  </thead>\n",
       "  <tbody>\n",
       "    <tr>\n",
       "      <th>0</th>\n",
       "      <td>fwXo0</td>\n",
       "      <td>-1.146987</td>\n",
       "      <td>0.963328</td>\n",
       "      <td>-0.828965</td>\n",
       "      <td>27.758673</td>\n",
       "    </tr>\n",
       "    <tr>\n",
       "      <th>1</th>\n",
       "      <td>WJtFt</td>\n",
       "      <td>0.262778</td>\n",
       "      <td>0.269839</td>\n",
       "      <td>-2.530187</td>\n",
       "      <td>56.069697</td>\n",
       "    </tr>\n",
       "    <tr>\n",
       "      <th>2</th>\n",
       "      <td>ovLUW</td>\n",
       "      <td>0.194587</td>\n",
       "      <td>0.289035</td>\n",
       "      <td>-5.586433</td>\n",
       "      <td>62.871910</td>\n",
       "    </tr>\n",
       "    <tr>\n",
       "      <th>3</th>\n",
       "      <td>q6cA6</td>\n",
       "      <td>2.236060</td>\n",
       "      <td>-0.553760</td>\n",
       "      <td>0.930038</td>\n",
       "      <td>114.572842</td>\n",
       "    </tr>\n",
       "    <tr>\n",
       "      <th>4</th>\n",
       "      <td>WPMUX</td>\n",
       "      <td>-0.515993</td>\n",
       "      <td>1.716266</td>\n",
       "      <td>5.899011</td>\n",
       "      <td>149.600746</td>\n",
       "    </tr>\n",
       "  </tbody>\n",
       "</table>\n",
       "</div>"
      ],
      "text/plain": [
       "      id        f0        f1        f2     product\n",
       "0  fwXo0 -1.146987  0.963328 -0.828965   27.758673\n",
       "1  WJtFt  0.262778  0.269839 -2.530187   56.069697\n",
       "2  ovLUW  0.194587  0.289035 -5.586433   62.871910\n",
       "3  q6cA6  2.236060 -0.553760  0.930038  114.572842\n",
       "4  WPMUX -0.515993  1.716266  5.899011  149.600746"
      ]
     },
     "execution_count": 5,
     "metadata": {},
     "output_type": "execute_result"
    }
   ],
   "source": [
    "data_2.head()"
   ]
  },
  {
   "cell_type": "markdown",
   "metadata": {},
   "source": [
    "Видим, что столбец 'id' не принесет никакой пользы при обучении модели, поэтому следует его удалить."
   ]
  },
  {
   "cell_type": "code",
   "execution_count": 6,
   "metadata": {},
   "outputs": [],
   "source": [
    "# соберем в список все датасеты,чтобы пройтись по ним циклом\n",
    "data_all = [\n",
    "    data_0.drop('id', axis=1),\n",
    "    data_1.drop('id', axis=1),\n",
    "    data_2.drop('id', axis=1)\n",
    "]"
   ]
  },
  {
   "cell_type": "code",
   "execution_count": 7,
   "metadata": {},
   "outputs": [
    {
     "name": "stdout",
     "output_type": "stream",
     "text": [
      "Общая информация по датасету 0\n",
      "<class 'pandas.core.frame.DataFrame'>\n",
      "RangeIndex: 100000 entries, 0 to 99999\n",
      "Data columns (total 4 columns):\n",
      " #   Column   Non-Null Count   Dtype  \n",
      "---  ------   --------------   -----  \n",
      " 0   f0       100000 non-null  float64\n",
      " 1   f1       100000 non-null  float64\n",
      " 2   f2       100000 non-null  float64\n",
      " 3   product  100000 non-null  float64\n",
      "dtypes: float64(4)\n",
      "memory usage: 3.1 MB\n",
      "None\n",
      "\n",
      "Общая информация по датасету 1\n",
      "<class 'pandas.core.frame.DataFrame'>\n",
      "RangeIndex: 100000 entries, 0 to 99999\n",
      "Data columns (total 4 columns):\n",
      " #   Column   Non-Null Count   Dtype  \n",
      "---  ------   --------------   -----  \n",
      " 0   f0       100000 non-null  float64\n",
      " 1   f1       100000 non-null  float64\n",
      " 2   f2       100000 non-null  float64\n",
      " 3   product  100000 non-null  float64\n",
      "dtypes: float64(4)\n",
      "memory usage: 3.1 MB\n",
      "None\n",
      "\n",
      "Общая информация по датасету 2\n",
      "<class 'pandas.core.frame.DataFrame'>\n",
      "RangeIndex: 100000 entries, 0 to 99999\n",
      "Data columns (total 4 columns):\n",
      " #   Column   Non-Null Count   Dtype  \n",
      "---  ------   --------------   -----  \n",
      " 0   f0       100000 non-null  float64\n",
      " 1   f1       100000 non-null  float64\n",
      " 2   f2       100000 non-null  float64\n",
      " 3   product  100000 non-null  float64\n",
      "dtypes: float64(4)\n",
      "memory usage: 3.1 MB\n",
      "None\n",
      "\n"
     ]
    }
   ],
   "source": [
    "for i in range(len(data_all)):\n",
    "    print('Общая информация по датасету', i)\n",
    "    print(data_all[i].info())\n",
    "    print()"
   ]
  },
  {
   "cell_type": "code",
   "execution_count": 8,
   "metadata": {},
   "outputs": [
    {
     "name": "stdout",
     "output_type": "stream",
     "text": [
      "Статистика по столбцам датасета 0\n",
      "                  f0             f1             f2        product\n",
      "count  100000.000000  100000.000000  100000.000000  100000.000000\n",
      "mean        0.500419       0.250143       2.502647      92.500000\n",
      "std         0.871832       0.504433       3.248248      44.288691\n",
      "min        -1.408605      -0.848218     -12.088328       0.000000\n",
      "25%        -0.072580      -0.200881       0.287748      56.497507\n",
      "50%         0.502360       0.250252       2.515969      91.849972\n",
      "75%         1.073581       0.700646       4.715088     128.564089\n",
      "max         2.362331       1.343769      16.003790     185.364347\n",
      "\n",
      "Статистика по столбцам датасета 1\n",
      "                  f0             f1             f2        product\n",
      "count  100000.000000  100000.000000  100000.000000  100000.000000\n",
      "mean        1.141296      -4.796579       2.494541      68.825000\n",
      "std         8.965932       5.119872       1.703572      45.944423\n",
      "min       -31.609576     -26.358598      -0.018144       0.000000\n",
      "25%        -6.298551      -8.267985       1.000021      26.953261\n",
      "50%         1.153055      -4.813172       2.011479      57.085625\n",
      "75%         8.621015      -1.332816       3.999904     107.813044\n",
      "max        29.421755      18.734063       5.019721     137.945408\n",
      "\n",
      "Статистика по столбцам датасета 2\n",
      "                  f0             f1             f2        product\n",
      "count  100000.000000  100000.000000  100000.000000  100000.000000\n",
      "mean        0.002023      -0.002081       2.495128      95.000000\n",
      "std         1.732045       1.730417       3.473445      44.749921\n",
      "min        -8.760004      -7.084020     -11.970335       0.000000\n",
      "25%        -1.162288      -1.174820       0.130359      59.450441\n",
      "50%         0.009424      -0.009482       2.484236      94.925613\n",
      "75%         1.158535       1.163678       4.858794     130.595027\n",
      "max         7.238262       7.844801      16.739402     190.029838\n",
      "\n"
     ]
    }
   ],
   "source": [
    "for i in range(len(data_all)):\n",
    "    print('Статистика по столбцам датасета', i)\n",
    "    print(data_all[i].describe())\n",
    "    print()"
   ]
  },
  {
   "cell_type": "code",
   "execution_count": 9,
   "metadata": {},
   "outputs": [
    {
     "name": "stdout",
     "output_type": "stream",
     "text": [
      "0 0 0\n"
     ]
    }
   ],
   "source": [
    "print(data_0.duplicated().sum(), data_1.duplicated().sum(), data_2.duplicated().sum())"
   ]
  },
  {
   "cell_type": "markdown",
   "metadata": {},
   "source": [
    "Изучение датасетов показало, что в таблицах нет пропусков и дубликатов. Так как данные синтетические и мы не знаем, что означают столбцы с признаками, судить о выбросах в данных мы не можем. Все столбцы с признаками содержат в себе количественные переменные. Целевым признаком является столбец 'product'."
   ]
  },
  {
   "cell_type": "markdown",
   "metadata": {},
   "source": [
    "## Обучение и проверка модели"
   ]
  },
  {
   "cell_type": "code",
   "execution_count": 10,
   "metadata": {},
   "outputs": [
    {
     "name": "stdout",
     "output_type": "stream",
     "text": [
      "Cредний запас предсказанного сырья в регионе 0 = 92.59256778438035\n",
      "Реальный средний запас сырья в регионе 0 = 92.07859674082927\n",
      "RMSE модели 37.5794217150813\n",
      "\n",
      "Cредний запас предсказанного сырья в регионе 1 = 68.728546895446\n",
      "Реальный средний запас сырья в регионе 1 = 68.72313602435997\n",
      "RMSE модели 0.893099286775617\n",
      "\n",
      "Cредний запас предсказанного сырья в регионе 2 = 94.96504596800489\n",
      "Реальный средний запас сырья в регионе 2 = 94.88423280885438\n",
      "RMSE модели 40.02970873393434\n",
      "\n"
     ]
    }
   ],
   "source": [
    "# создадим пустые списки, чтобы сохранить в них предсказания и правильные ответы\n",
    "predictions = []\n",
    "targets = []\n",
    "\n",
    "# напишем цикл, который пройдет по каждому региону\n",
    "for i in range(len(data_all)):\n",
    "    features = data_all[i].drop(['product'], axis=1)\n",
    "    target = data_all[i]['product']\n",
    "    \n",
    "    # разобьем данные на обучающую и валидационную выборки в соотношении 75:25\n",
    "    features_train, features_valid, target_train, target_valid = (\n",
    "        train_test_split(features, target, test_size=0.25, random_state=12345))\n",
    "    \n",
    "    # обучим модель и сделаем предсказания на валидационной выборке\n",
    "    model = LinearRegression()\n",
    "    model.fit(features_train, target_train)\n",
    "    predictions_valid = model.predict(features_valid)\n",
    "    \n",
    "    # cохраним предсказания и правильные ответы на валидационной выборке\n",
    "    predictions.append(predictions_valid)\n",
    "    targets.append(target_valid)\n",
    "    \n",
    "    \n",
    "    # напечатаем на экране средний запас предсказанного сырья и RMSE модели\n",
    "    result = mean_squared_error(target_valid, predictions_valid) ** 0.5\n",
    "    print('Cредний запас предсказанного сырья в регионе', i, '=', predictions_valid.mean())\n",
    "    print('Реальный средний запас сырья в регионе', i, '=', target_valid.mean())    \n",
    "    print('RMSE модели', result)\n",
    "    print()"
   ]
  },
  {
   "cell_type": "code",
   "execution_count": 11,
   "metadata": {},
   "outputs": [
    {
     "name": "stdout",
     "output_type": "stream",
     "text": [
      "0    95.894952\n",
      "1    77.572583\n",
      "2    77.892640\n",
      "3    90.175134\n",
      "4    70.510088\n",
      "dtype: float64 0    82.663314\n",
      "1    54.431786\n",
      "2    29.748760\n",
      "3    53.552133\n",
      "4     1.243856\n",
      "dtype: float64 0     93.599633\n",
      "1     75.105159\n",
      "2     90.066809\n",
      "3    105.162375\n",
      "4    115.303310\n",
      "dtype: float64\n"
     ]
    }
   ],
   "source": [
    "predictions_0 = pd.Series(predictions[0])\n",
    "predictions_1 = pd.Series(predictions[1])\n",
    "predictions_2 = pd.Series(predictions[2])\n",
    "print(predictions_0.head(), predictions_1.head(), predictions_2.head())"
   ]
  },
  {
   "cell_type": "code",
   "execution_count": 12,
   "metadata": {},
   "outputs": [
    {
     "name": "stdout",
     "output_type": "stream",
     "text": [
      "0     10.038645\n",
      "1    114.551489\n",
      "2    132.603635\n",
      "3    169.072125\n",
      "4    122.325180\n",
      "Name: product, dtype: float64 0    80.859783\n",
      "1    53.906522\n",
      "2    30.132364\n",
      "3    53.906522\n",
      "4     0.000000\n",
      "Name: product, dtype: float64 0     61.212375\n",
      "1     41.850118\n",
      "2     57.776581\n",
      "3    100.053761\n",
      "4    109.897122\n",
      "Name: product, dtype: float64\n"
     ]
    }
   ],
   "source": [
    "target_0 = targets[0].reset_index(drop=True)\n",
    "target_1 = targets[1].reset_index(drop=True)\n",
    "target_2 = targets[2].reset_index(drop=True)\n",
    "print(target_0.head(), target_1.head(), target_2.head())"
   ]
  },
  {
   "cell_type": "markdown",
   "metadata": {},
   "source": [
    "Изучив полученные с помощью линейной регрессии результаты, можно выделить модель, обученную на данных второго региона. Разительно отличается значение корня из средней квадратичной ошибки, оно равно 0,89 и означает, что правильные ответы незначительно отличаются от предсказаний модели. "
   ]
  },
  {
   "cell_type": "markdown",
   "metadata": {},
   "source": [
    "## Подготовка к расчёту прибыли"
   ]
  },
  {
   "cell_type": "markdown",
   "metadata": {},
   "source": [
    "В условиях задачи сказано:\n",
    "* При разведке региона исследуют 500 точек, из которых с помощью машинного обучения выбирают 200 лучших для разработки.\n",
    "* Бюджет на разработку скважин в регионе — 10 млрд рублей.\n",
    "* При нынешних ценах один баррель сырья приносит 450 рублей дохода. Доход с каждой единицы продукта составляет 450 тыс. рублей, поскольку объём указан в тысячах баррелей.\n",
    "* После оценки рисков нужно оставить лишь те регионы, в которых вероятность убытков меньше 2.5%. Среди них выбирают регион с наибольшей средней прибылью."
   ]
  },
  {
   "cell_type": "code",
   "execution_count": 13,
   "metadata": {},
   "outputs": [],
   "source": [
    "# введем константы\n",
    "POINTS = 500\n",
    "BEST_POINTS = 200\n",
    "BUDGET_PER_REGION = 10000000000\n",
    "REVENUE_PER_BARREL = 450000"
   ]
  },
  {
   "cell_type": "code",
   "execution_count": 14,
   "metadata": {},
   "outputs": [
    {
     "name": "stdout",
     "output_type": "stream",
     "text": [
      "Достаточный объём сырья для безубыточной разработки новой скважины: 111.11 тыс. баррелей\n"
     ]
    }
   ],
   "source": [
    "enough_raw_material = BUDGET_PER_REGION/REVENUE_PER_BARREL/BEST_POINTS\n",
    "print('Достаточный объём сырья для безубыточной разработки новой скважины:', round(enough_raw_material, 2), 'тыс. баррелей')"
   ]
  },
  {
   "cell_type": "code",
   "execution_count": 15,
   "metadata": {},
   "outputs": [
    {
     "name": "stdout",
     "output_type": "stream",
     "text": [
      "Статистика по объему запасов нефти (тыс. баррелей) в скважинах региона 0\n",
      "count    100000.000000\n",
      "mean         92.500000\n",
      "std          44.288691\n",
      "min           0.000000\n",
      "25%          56.497507\n",
      "50%          91.849972\n",
      "75%         128.564089\n",
      "max         185.364347\n",
      "Name: product, dtype: float64\n",
      "\n",
      "Статистика по объему запасов нефти (тыс. баррелей) в скважинах региона 1\n",
      "count    100000.000000\n",
      "mean         68.825000\n",
      "std          45.944423\n",
      "min           0.000000\n",
      "25%          26.953261\n",
      "50%          57.085625\n",
      "75%         107.813044\n",
      "max         137.945408\n",
      "Name: product, dtype: float64\n",
      "\n",
      "Статистика по объему запасов нефти (тыс. баррелей) в скважинах региона 2\n",
      "count    100000.000000\n",
      "mean         95.000000\n",
      "std          44.749921\n",
      "min           0.000000\n",
      "25%          59.450441\n",
      "50%          94.925613\n",
      "75%         130.595027\n",
      "max         190.029838\n",
      "Name: product, dtype: float64\n",
      "\n"
     ]
    }
   ],
   "source": [
    "for i in range(len(data_all)):\n",
    "    print('Статистика по объему запасов нефти (тыс. баррелей) в скважинах региона', i)\n",
    "    print(data_all[i]['product'].describe())\n",
    "    print()"
   ]
  },
  {
   "cell_type": "code",
   "execution_count": 16,
   "metadata": {},
   "outputs": [
    {
     "name": "stdout",
     "output_type": "stream",
     "text": [
      "113.16725066331651\n",
      "134.76630515769844\n",
      "111.33727624548305\n"
     ]
    }
   ],
   "source": [
    "# посмотрим сколько процентов скважин в каждом регионе \n",
    "# содержат сырья больше, чем достаточный нам объем сырья\n",
    "print(data_0['product'].quantile(0.65))\n",
    "print(data_1['product'].quantile(0.85))\n",
    "print(data_2['product'].quantile(0.62))"
   ]
  },
  {
   "cell_type": "markdown",
   "metadata": {},
   "source": [
    "Средний объём запасов в скважинах во всех регионах ниже, чем достаточный объём сырья для безубыточной разработки новой скважины. В первом регионе 35% скважин содержат сырья больше, чем нам достаточно, во втором регионе - лишь 15% и в третьем - 38%."
   ]
  },
  {
   "cell_type": "code",
   "execution_count": 17,
   "metadata": {},
   "outputs": [],
   "source": [
    "# напишем функцию для расчёта прибыли по выбранным скважинам и предсказаниям модели\n",
    "def profit(targ, preds, count):\n",
    "    # для удобства, сначала отсортируем предсказания по убыванию\n",
    "    preds_sorted = preds.sort_values(ascending=False)\n",
    "    \n",
    "    # выберем скважины с максимальными значениями предсказаний\n",
    "    selected = targ[preds_sorted.index][:count]\n",
    "    \n",
    "    # просуммируем целевое значение объёма сырья, соответствующее этим предсказаниям\n",
    "    target_volume_of_raw_materials = selected.sum()\n",
    "    \n",
    "    # рассчитаем прибыль для полученного объёма сырья\n",
    "    return target_volume_of_raw_materials * REVENUE_PER_BARREL - BUDGET_PER_REGION"
   ]
  },
  {
   "cell_type": "code",
   "execution_count": 18,
   "metadata": {},
   "outputs": [
    {
     "name": "stdout",
     "output_type": "stream",
     "text": [
      "Прибыль с лучших 200 скважин в первом регионе: 3320826043.14\n",
      "Прибыль с лучших 200 скважин во втором регионе: 2415086696.68\n",
      "Прибыль с лучших 200 скважин в третьем регионе: 2710349963.6\n"
     ]
    }
   ],
   "source": [
    "# проверим работоспособность функции\n",
    "print(\"Прибыль с лучших 200 скважин в первом регионе:\", round(profit(target_0, predictions_0, BEST_POINTS), 2))\n",
    "print(\"Прибыль с лучших 200 скважин во втором регионе:\", round(profit(target_1, predictions_1, BEST_POINTS), 2))\n",
    "print(\"Прибыль с лучших 200 скважин в третьем регионе:\", round(profit(target_2, predictions_2, BEST_POINTS), 2))"
   ]
  },
  {
   "cell_type": "markdown",
   "metadata": {},
   "source": [
    "## Расчёт прибыли и рисков "
   ]
  },
  {
   "cell_type": "code",
   "execution_count": 19,
   "metadata": {},
   "outputs": [],
   "source": [
    "state = RandomState(12345)"
   ]
  },
  {
   "cell_type": "code",
   "execution_count": 20,
   "metadata": {},
   "outputs": [
    {
     "name": "stdout",
     "output_type": "stream",
     "text": [
      "Средняя прибыль в первом регионе = 425938526.91\n",
      "95%-ый доверительный интервал: (-102090094.83793654, 947976353.3583689)\n",
      "Риск убытков составляет 6.0 %\n"
     ]
    }
   ],
   "source": [
    "values_0 = []\n",
    "for i in range(1000):\n",
    "    target_subsample = target_0.sample(n=POINTS, replace=True, random_state=state)\n",
    "    preds_subsample = predictions_0[target_subsample.index] \n",
    "    result = profit(target_subsample, preds_subsample, BEST_POINTS)\n",
    "    values_0.append(result)\n",
    "    \n",
    "values_0 = pd.Series(values_0)\n",
    "\n",
    "print('Средняя прибыль в первом регионе =', round(values_0.mean(), 2))\n",
    "\n",
    "lower_0 = values_0.quantile(0.025)\n",
    "upper_0 = values_0.quantile(0.975)\n",
    "print(\"95%-ый доверительный интервал:\", (lower_0, upper_0))\n",
    "\n",
    "risk_0 = (values_0 < 0).mean()*100\n",
    "print('Риск убытков составляет', risk_0, '%')"
   ]
  },
  {
   "cell_type": "code",
   "execution_count": 21,
   "metadata": {},
   "outputs": [
    {
     "name": "stdout",
     "output_type": "stream",
     "text": [
      "Средняя прибыль во втором регионе = 518259493.7\n",
      "95%-ый доверительный интервал: (128123231.43308444, 953612982.0669085)\n",
      "Риск убытков составляет 0.3 %\n"
     ]
    }
   ],
   "source": [
    "values_1 = []\n",
    "for i in range(1000):\n",
    "    target_subsample = target_1.sample(n=POINTS, replace=True, random_state=state)\n",
    "    preds_subsample = predictions_1[target_subsample.index] \n",
    "    result = profit(target_subsample, preds_subsample, BEST_POINTS)\n",
    "    values_1.append(result)\n",
    "    \n",
    "values_1 = pd.Series(values_1)\n",
    "\n",
    "print('Средняя прибыль во втором регионе =', round(values_1.mean(), 2))\n",
    "\n",
    "lower_1 = values_1.quantile(0.025)\n",
    "upper_1 = values_1.quantile(0.975)\n",
    "print(\"95%-ый доверительный интервал:\", (lower_1, upper_1))\n",
    "\n",
    "risk_1 = (values_1 < 0).mean()*100\n",
    "print('Риск убытков составляет', risk_1, '%')"
   ]
  },
  {
   "cell_type": "code",
   "execution_count": 22,
   "metadata": {},
   "outputs": [
    {
     "name": "stdout",
     "output_type": "stream",
     "text": [
      "Средняя прибыль в третьем регионе = 420194005.34\n",
      "95%-ый доверительный интервал: (-115852609.16001143, 989629939.8445739)\n",
      "Риск убытков составляет 6.2 %\n"
     ]
    }
   ],
   "source": [
    "values_2 = []\n",
    "for i in range(1000):\n",
    "    target_subsample = target_2.sample(n=POINTS, replace=True, random_state=state)\n",
    "    preds_subsample = predictions_2[target_subsample.index] \n",
    "    result = profit(target_subsample, preds_subsample, BEST_POINTS)\n",
    "    values_2.append(result)\n",
    "    \n",
    "values_2 = pd.Series(values_2)\n",
    "\n",
    "print('Средняя прибыль в третьем регионе =', round(values_2.mean(), 2))\n",
    "\n",
    "lower_2 = values_2.quantile(0.025)\n",
    "upper_2 = values_2.quantile(0.975)\n",
    "print(\"95%-ый доверительный интервал:\", (lower_2, upper_2))\n",
    "\n",
    "risk_2 = (values_2 < 0).mean()*100\n",
    "print('Риск убытков составляет', risk_2, '%')"
   ]
  },
  {
   "cell_type": "markdown",
   "metadata": {},
   "source": [
    "## Вывод"
   ]
  },
  {
   "cell_type": "markdown",
   "metadata": {},
   "source": [
    "Было произведено исследование с целью выбора локации для скважины среди трех регионов. В ходе исследования, с помощью модели линейная регрессия были получены метрики для трех регионов, среди которых наиболее выделяется второй регион с наименьшей средней квадратичной ошибкой (корень из нее составил 0.89). \n",
    "\n",
    "Для безубыточной разработки скважины необходимо, чтобы объем сырья в скважине был не менее 111.11 тыс. баррелей. В этом плане выделяется третий регион, где 38% скважин сожержат объем сырья больший, чем достаточный. В первом регионе 35% скважин, во втором регионе - лишь 15%.\n",
    "\n",
    "После применения техники Bootstrap с 1000 выборок, наименее рискованным показал себя второй регион, здесь же и наиболее высокий показатель средней прибыли 518.26 млрд. руб. Всвязи с этим, в качестве локации для скважины предлагается второй регион."
   ]
  }
 ],
 "metadata": {
  "ExecuteTimeLog": [
   {
    "duration": 491,
    "start_time": "2022-04-13T12:48:58.477Z"
   },
   {
    "duration": 466,
    "start_time": "2022-04-13T12:50:34.429Z"
   },
   {
    "duration": 20,
    "start_time": "2022-04-13T12:50:49.871Z"
   },
   {
    "duration": 411,
    "start_time": "2022-04-13T19:41:13.592Z"
   },
   {
    "duration": 338,
    "start_time": "2022-04-13T19:41:14.005Z"
   },
   {
    "duration": 80,
    "start_time": "2022-04-13T19:41:14.344Z"
   },
   {
    "duration": 363,
    "start_time": "2022-04-13T19:41:35.083Z"
   },
   {
    "duration": 44,
    "start_time": "2022-04-13T19:41:35.915Z"
   },
   {
    "duration": 14,
    "start_time": "2022-04-13T19:43:59.902Z"
   },
   {
    "duration": 13,
    "start_time": "2022-04-13T19:44:29.223Z"
   },
   {
    "duration": 20,
    "start_time": "2022-04-13T19:47:08.463Z"
   },
   {
    "duration": 13,
    "start_time": "2022-04-13T19:47:20.382Z"
   },
   {
    "duration": 182,
    "start_time": "2022-04-13T19:51:04.551Z"
   },
   {
    "duration": 11,
    "start_time": "2022-04-13T19:52:20.983Z"
   },
   {
    "duration": 8,
    "start_time": "2022-04-13T19:52:41.550Z"
   },
   {
    "duration": 12,
    "start_time": "2022-04-13T19:52:58.503Z"
   },
   {
    "duration": 7,
    "start_time": "2022-04-13T19:58:45.342Z"
   },
   {
    "duration": 12,
    "start_time": "2022-04-13T20:12:15.222Z"
   },
   {
    "duration": 9,
    "start_time": "2022-04-13T20:12:32.221Z"
   },
   {
    "duration": 10,
    "start_time": "2022-04-13T20:13:43.518Z"
   },
   {
    "duration": 10,
    "start_time": "2022-04-13T20:13:55.421Z"
   },
   {
    "duration": 28,
    "start_time": "2022-04-13T20:15:25.942Z"
   },
   {
    "duration": 59,
    "start_time": "2022-04-13T20:16:33.543Z"
   },
   {
    "duration": 16,
    "start_time": "2022-04-13T21:01:44.541Z"
   },
   {
    "duration": 394,
    "start_time": "2022-04-13T21:02:02.634Z"
   },
   {
    "duration": 349,
    "start_time": "2022-04-13T21:02:03.030Z"
   },
   {
    "duration": 20,
    "start_time": "2022-04-13T21:02:03.381Z"
   },
   {
    "duration": 7,
    "start_time": "2022-04-13T21:02:03.403Z"
   },
   {
    "duration": 14,
    "start_time": "2022-04-13T21:02:03.412Z"
   },
   {
    "duration": 13,
    "start_time": "2022-04-13T21:02:03.428Z"
   },
   {
    "duration": 16,
    "start_time": "2022-04-13T21:02:03.443Z"
   },
   {
    "duration": 25,
    "start_time": "2022-04-13T21:02:03.461Z"
   },
   {
    "duration": 22,
    "start_time": "2022-04-13T21:02:03.488Z"
   },
   {
    "duration": 11,
    "start_time": "2022-04-13T21:02:03.513Z"
   },
   {
    "duration": 100,
    "start_time": "2022-04-13T21:02:03.526Z"
   },
   {
    "duration": 19,
    "start_time": "2022-04-13T21:03:49.620Z"
   },
   {
    "duration": 19,
    "start_time": "2022-04-13T21:04:08.740Z"
   },
   {
    "duration": 21,
    "start_time": "2022-04-13T21:05:20.501Z"
   },
   {
    "duration": 20,
    "start_time": "2022-04-13T21:05:38.144Z"
   },
   {
    "duration": 21,
    "start_time": "2022-04-13T21:06:41.780Z"
   },
   {
    "duration": 79,
    "start_time": "2022-04-13T21:07:45.542Z"
   },
   {
    "duration": 90,
    "start_time": "2022-04-13T21:10:10.067Z"
   },
   {
    "duration": 21,
    "start_time": "2022-04-13T21:10:31.481Z"
   },
   {
    "duration": 20,
    "start_time": "2022-04-13T21:10:46.980Z"
   },
   {
    "duration": 78,
    "start_time": "2022-04-13T21:11:00.821Z"
   },
   {
    "duration": 748,
    "start_time": "2022-04-13T21:13:00.261Z"
   },
   {
    "duration": 96,
    "start_time": "2022-04-13T21:17:02.340Z"
   },
   {
    "duration": 26,
    "start_time": "2022-04-13T21:18:20.740Z"
   },
   {
    "duration": 3,
    "start_time": "2022-04-13T21:28:12.642Z"
   },
   {
    "duration": 9,
    "start_time": "2022-04-13T21:31:30.200Z"
   },
   {
    "duration": 32,
    "start_time": "2022-04-13T21:31:51.041Z"
   },
   {
    "duration": 20,
    "start_time": "2022-04-13T21:47:56.168Z"
   },
   {
    "duration": 203,
    "start_time": "2022-04-13T21:50:51.307Z"
   },
   {
    "duration": 227,
    "start_time": "2022-04-13T21:53:24.980Z"
   },
   {
    "duration": 158,
    "start_time": "2022-04-13T22:02:01.747Z"
   },
   {
    "duration": 252,
    "start_time": "2022-04-13T22:03:35.059Z"
   },
   {
    "duration": 193,
    "start_time": "2022-04-13T22:04:09.058Z"
   },
   {
    "duration": 385,
    "start_time": "2022-04-13T22:04:17.218Z"
   },
   {
    "duration": 5,
    "start_time": "2022-04-13T22:04:50.378Z"
   },
   {
    "duration": 8,
    "start_time": "2022-04-13T22:05:41.818Z"
   },
   {
    "duration": 7,
    "start_time": "2022-04-13T22:05:52.580Z"
   },
   {
    "duration": 4,
    "start_time": "2022-04-13T22:06:50.738Z"
   },
   {
    "duration": 6,
    "start_time": "2022-04-13T22:07:45.498Z"
   },
   {
    "duration": 8,
    "start_time": "2022-04-13T22:08:33.538Z"
   },
   {
    "duration": 7,
    "start_time": "2022-04-13T22:08:42.938Z"
   },
   {
    "duration": 4,
    "start_time": "2022-04-13T22:09:11.338Z"
   },
   {
    "duration": 4,
    "start_time": "2022-04-13T22:09:20.332Z"
   },
   {
    "duration": 7,
    "start_time": "2022-04-13T22:09:26.818Z"
   },
   {
    "duration": 4,
    "start_time": "2022-04-13T22:09:32.778Z"
   },
   {
    "duration": 6,
    "start_time": "2022-04-13T22:09:53.978Z"
   },
   {
    "duration": 7,
    "start_time": "2022-04-13T22:10:07.698Z"
   },
   {
    "duration": 4,
    "start_time": "2022-04-13T22:10:14.938Z"
   },
   {
    "duration": 6,
    "start_time": "2022-04-13T22:10:17.458Z"
   },
   {
    "duration": 3,
    "start_time": "2022-04-13T22:42:25.159Z"
   },
   {
    "duration": 283,
    "start_time": "2022-04-13T22:51:04.327Z"
   },
   {
    "duration": 7,
    "start_time": "2022-04-13T22:51:35.679Z"
   },
   {
    "duration": 4,
    "start_time": "2022-04-13T22:51:42.878Z"
   },
   {
    "duration": 3,
    "start_time": "2022-04-13T22:55:10.202Z"
   },
   {
    "duration": 9,
    "start_time": "2022-04-13T22:57:32.068Z"
   },
   {
    "duration": 4,
    "start_time": "2022-04-13T22:57:54.773Z"
   },
   {
    "duration": 3,
    "start_time": "2022-04-13T22:58:08.432Z"
   },
   {
    "duration": 3,
    "start_time": "2022-04-13T22:58:34.019Z"
   },
   {
    "duration": 5,
    "start_time": "2022-04-13T23:01:20.951Z"
   },
   {
    "duration": 5,
    "start_time": "2022-04-13T23:01:41.989Z"
   },
   {
    "duration": 5,
    "start_time": "2022-04-13T23:01:51.823Z"
   },
   {
    "duration": 5,
    "start_time": "2022-04-13T23:01:58.695Z"
   },
   {
    "duration": 5,
    "start_time": "2022-04-13T23:02:32.462Z"
   },
   {
    "duration": 3,
    "start_time": "2022-04-13T23:20:37.853Z"
   },
   {
    "duration": 49,
    "start_time": "2022-04-14T10:46:34.140Z"
   },
   {
    "duration": 1186,
    "start_time": "2022-04-14T10:56:53.995Z"
   },
   {
    "duration": 348,
    "start_time": "2022-04-14T10:56:55.183Z"
   },
   {
    "duration": 18,
    "start_time": "2022-04-14T10:56:55.532Z"
   },
   {
    "duration": 10,
    "start_time": "2022-04-14T10:56:55.552Z"
   },
   {
    "duration": 10,
    "start_time": "2022-04-14T10:56:55.565Z"
   },
   {
    "duration": 22,
    "start_time": "2022-04-14T10:56:55.577Z"
   },
   {
    "duration": 27,
    "start_time": "2022-04-14T10:56:55.601Z"
   },
   {
    "duration": 145,
    "start_time": "2022-04-14T10:56:55.630Z"
   },
   {
    "duration": 193,
    "start_time": "2022-04-14T10:56:55.777Z"
   },
   {
    "duration": 384,
    "start_time": "2022-04-14T10:56:55.972Z"
   },
   {
    "duration": 95,
    "start_time": "2022-04-14T10:56:56.360Z"
   },
   {
    "duration": 7,
    "start_time": "2022-04-14T10:56:56.457Z"
   },
   {
    "duration": 108,
    "start_time": "2022-04-14T10:56:56.466Z"
   },
   {
    "duration": 0,
    "start_time": "2022-04-14T10:56:56.576Z"
   },
   {
    "duration": 0,
    "start_time": "2022-04-14T10:56:56.577Z"
   },
   {
    "duration": 4,
    "start_time": "2022-04-14T10:57:12.669Z"
   },
   {
    "duration": 6,
    "start_time": "2022-04-14T10:57:21.865Z"
   },
   {
    "duration": 24,
    "start_time": "2022-04-14T10:58:23.106Z"
   },
   {
    "duration": 23,
    "start_time": "2022-04-14T11:02:33.264Z"
   },
   {
    "duration": 11,
    "start_time": "2022-04-14T11:05:47.706Z"
   },
   {
    "duration": 6,
    "start_time": "2022-04-14T11:05:59.386Z"
   },
   {
    "duration": 6,
    "start_time": "2022-04-14T11:06:14.505Z"
   },
   {
    "duration": 5,
    "start_time": "2022-04-14T11:06:28.422Z"
   },
   {
    "duration": 5,
    "start_time": "2022-04-14T11:06:38.986Z"
   },
   {
    "duration": 5,
    "start_time": "2022-04-14T11:06:45.594Z"
   },
   {
    "duration": 6,
    "start_time": "2022-04-14T11:06:54.305Z"
   },
   {
    "duration": 10,
    "start_time": "2022-04-14T11:07:20.883Z"
   },
   {
    "duration": 10,
    "start_time": "2022-04-14T11:07:32.425Z"
   },
   {
    "duration": 8,
    "start_time": "2022-04-14T11:07:41.625Z"
   },
   {
    "duration": 9,
    "start_time": "2022-04-14T11:07:48.186Z"
   },
   {
    "duration": 9,
    "start_time": "2022-04-14T11:07:56.906Z"
   },
   {
    "duration": 9,
    "start_time": "2022-04-14T11:08:03.386Z"
   },
   {
    "duration": 9,
    "start_time": "2022-04-14T11:08:08.865Z"
   },
   {
    "duration": 9,
    "start_time": "2022-04-14T11:08:19.734Z"
   },
   {
    "duration": 12,
    "start_time": "2022-04-14T11:09:13.265Z"
   },
   {
    "duration": 10,
    "start_time": "2022-04-14T11:11:36.468Z"
   },
   {
    "duration": 12,
    "start_time": "2022-04-14T11:11:57.187Z"
   },
   {
    "duration": 11,
    "start_time": "2022-04-14T11:12:06.114Z"
   },
   {
    "duration": 11,
    "start_time": "2022-04-14T11:12:11.506Z"
   },
   {
    "duration": 10,
    "start_time": "2022-04-14T11:12:18.627Z"
   },
   {
    "duration": 3,
    "start_time": "2022-04-14T11:18:29.507Z"
   },
   {
    "duration": 148,
    "start_time": "2022-04-14T11:26:29.953Z"
   },
   {
    "duration": 17,
    "start_time": "2022-04-14T11:26:39.185Z"
   },
   {
    "duration": 12,
    "start_time": "2022-04-14T11:27:30.185Z"
   },
   {
    "duration": 7,
    "start_time": "2022-04-14T11:31:57.185Z"
   },
   {
    "duration": 6,
    "start_time": "2022-04-14T11:34:18.152Z"
   },
   {
    "duration": 12,
    "start_time": "2022-04-14T11:34:54.298Z"
   },
   {
    "duration": 14,
    "start_time": "2022-04-14T11:35:24.630Z"
   },
   {
    "duration": 8,
    "start_time": "2022-04-14T11:37:53.870Z"
   },
   {
    "duration": 13,
    "start_time": "2022-04-14T11:38:16.236Z"
   },
   {
    "duration": 17,
    "start_time": "2022-04-14T11:39:15.876Z"
   },
   {
    "duration": 7,
    "start_time": "2022-04-14T11:41:26.077Z"
   },
   {
    "duration": 14,
    "start_time": "2022-04-14T11:41:35.869Z"
   },
   {
    "duration": 13,
    "start_time": "2022-04-14T11:41:56.829Z"
   },
   {
    "duration": 12,
    "start_time": "2022-04-14T11:42:59.319Z"
   },
   {
    "duration": 11,
    "start_time": "2022-04-14T11:43:21.191Z"
   },
   {
    "duration": 9,
    "start_time": "2022-04-14T11:47:55.831Z"
   },
   {
    "duration": 11,
    "start_time": "2022-04-14T11:48:39.155Z"
   },
   {
    "duration": 472,
    "start_time": "2022-04-14T11:59:26.483Z"
   },
   {
    "duration": 7,
    "start_time": "2022-04-14T11:59:33.453Z"
   },
   {
    "duration": 246,
    "start_time": "2022-04-14T12:01:33.521Z"
   },
   {
    "duration": 6,
    "start_time": "2022-04-14T12:01:39.607Z"
   },
   {
    "duration": 1235,
    "start_time": "2022-04-14T12:20:50.235Z"
   },
   {
    "duration": 339,
    "start_time": "2022-04-14T12:20:51.472Z"
   },
   {
    "duration": 15,
    "start_time": "2022-04-14T12:20:51.813Z"
   },
   {
    "duration": 8,
    "start_time": "2022-04-14T12:20:51.829Z"
   },
   {
    "duration": 7,
    "start_time": "2022-04-14T12:20:51.854Z"
   },
   {
    "duration": 15,
    "start_time": "2022-04-14T12:20:51.863Z"
   },
   {
    "duration": 24,
    "start_time": "2022-04-14T12:20:51.879Z"
   },
   {
    "duration": 97,
    "start_time": "2022-04-14T12:20:51.904Z"
   },
   {
    "duration": 129,
    "start_time": "2022-04-14T12:20:52.002Z"
   },
   {
    "duration": 422,
    "start_time": "2022-04-14T12:20:52.132Z"
   },
   {
    "duration": 99,
    "start_time": "2022-04-14T12:20:52.559Z"
   },
   {
    "duration": 107,
    "start_time": "2022-04-14T12:20:52.660Z"
   },
   {
    "duration": 0,
    "start_time": "2022-04-14T12:20:52.768Z"
   },
   {
    "duration": 0,
    "start_time": "2022-04-14T12:20:52.769Z"
   },
   {
    "duration": 0,
    "start_time": "2022-04-14T12:20:52.770Z"
   },
   {
    "duration": 0,
    "start_time": "2022-04-14T12:20:52.772Z"
   },
   {
    "duration": 0,
    "start_time": "2022-04-14T12:20:52.772Z"
   },
   {
    "duration": 4,
    "start_time": "2022-04-14T12:22:20.786Z"
   },
   {
    "duration": 6,
    "start_time": "2022-04-14T12:23:22.067Z"
   },
   {
    "duration": 7,
    "start_time": "2022-04-14T12:23:53.364Z"
   },
   {
    "duration": 6,
    "start_time": "2022-04-14T12:24:05.565Z"
   },
   {
    "duration": 6,
    "start_time": "2022-04-14T12:24:17.195Z"
   },
   {
    "duration": 6,
    "start_time": "2022-04-14T12:26:00.725Z"
   },
   {
    "duration": 7,
    "start_time": "2022-04-14T12:27:19.606Z"
   },
   {
    "duration": 1179,
    "start_time": "2022-04-14T12:29:42.487Z"
   },
   {
    "duration": 447,
    "start_time": "2022-04-14T12:29:43.668Z"
   },
   {
    "duration": 16,
    "start_time": "2022-04-14T12:29:44.117Z"
   },
   {
    "duration": 20,
    "start_time": "2022-04-14T12:29:44.135Z"
   },
   {
    "duration": 10,
    "start_time": "2022-04-14T12:29:44.157Z"
   },
   {
    "duration": 17,
    "start_time": "2022-04-14T12:29:44.168Z"
   },
   {
    "duration": 35,
    "start_time": "2022-04-14T12:29:44.186Z"
   },
   {
    "duration": 87,
    "start_time": "2022-04-14T12:29:44.222Z"
   },
   {
    "duration": 139,
    "start_time": "2022-04-14T12:29:44.311Z"
   },
   {
    "duration": 313,
    "start_time": "2022-04-14T12:29:44.451Z"
   },
   {
    "duration": 6,
    "start_time": "2022-04-14T12:29:44.955Z"
   },
   {
    "duration": 117,
    "start_time": "2022-04-14T12:29:44.962Z"
   },
   {
    "duration": 0,
    "start_time": "2022-04-14T12:29:45.082Z"
   },
   {
    "duration": 0,
    "start_time": "2022-04-14T12:29:45.083Z"
   },
   {
    "duration": 0,
    "start_time": "2022-04-14T12:29:45.084Z"
   },
   {
    "duration": 0,
    "start_time": "2022-04-14T12:29:45.085Z"
   },
   {
    "duration": 0,
    "start_time": "2022-04-14T12:29:45.086Z"
   },
   {
    "duration": 0,
    "start_time": "2022-04-14T12:29:45.087Z"
   },
   {
    "duration": 11,
    "start_time": "2022-04-14T12:30:03.765Z"
   },
   {
    "duration": 22,
    "start_time": "2022-04-14T12:30:12.020Z"
   },
   {
    "duration": 8,
    "start_time": "2022-04-14T12:30:28.554Z"
   },
   {
    "duration": 4,
    "start_time": "2022-04-14T12:30:34.925Z"
   },
   {
    "duration": 24,
    "start_time": "2022-04-14T12:30:36.774Z"
   },
   {
    "duration": 12,
    "start_time": "2022-04-14T12:30:45.454Z"
   },
   {
    "duration": 4,
    "start_time": "2022-04-14T12:30:50.607Z"
   },
   {
    "duration": 9,
    "start_time": "2022-04-14T12:30:51.815Z"
   },
   {
    "duration": 10,
    "start_time": "2022-04-14T12:36:15.445Z"
   },
   {
    "duration": 17,
    "start_time": "2022-04-14T12:36:37.894Z"
   },
   {
    "duration": 17,
    "start_time": "2022-04-14T12:37:58.784Z"
   },
   {
    "duration": 1611,
    "start_time": "2022-04-19T14:45:15.850Z"
   },
   {
    "duration": 481,
    "start_time": "2022-04-19T14:45:17.465Z"
   },
   {
    "duration": 34,
    "start_time": "2022-04-19T14:45:17.949Z"
   },
   {
    "duration": 17,
    "start_time": "2022-04-19T14:45:17.987Z"
   },
   {
    "duration": 20,
    "start_time": "2022-04-19T14:45:18.025Z"
   },
   {
    "duration": 16,
    "start_time": "2022-04-19T14:45:18.047Z"
   },
   {
    "duration": 67,
    "start_time": "2022-04-19T14:45:18.065Z"
   },
   {
    "duration": 138,
    "start_time": "2022-04-19T14:45:18.134Z"
   },
   {
    "duration": 238,
    "start_time": "2022-04-19T14:45:18.275Z"
   },
   {
    "duration": 431,
    "start_time": "2022-04-19T14:45:18.518Z"
   },
   {
    "duration": 86,
    "start_time": "2022-04-19T14:45:18.953Z"
   },
   {
    "duration": 98,
    "start_time": "2022-04-19T14:45:19.051Z"
   },
   {
    "duration": 5,
    "start_time": "2022-04-19T14:45:19.153Z"
   },
   {
    "duration": 38,
    "start_time": "2022-04-19T14:45:19.160Z"
   },
   {
    "duration": 36,
    "start_time": "2022-04-19T14:45:19.200Z"
   },
   {
    "duration": 5,
    "start_time": "2022-04-19T14:45:19.241Z"
   },
   {
    "duration": 26,
    "start_time": "2022-04-19T14:45:19.249Z"
   },
   {
    "duration": 184,
    "start_time": "2022-04-19T14:45:19.278Z"
   },
   {
    "duration": 1919,
    "start_time": "2022-04-19T15:21:08.308Z"
   },
   {
    "duration": 1871,
    "start_time": "2022-04-19T15:45:48.298Z"
   },
   {
    "duration": 1888,
    "start_time": "2022-04-19T15:46:31.932Z"
   },
   {
    "duration": 1870,
    "start_time": "2022-04-19T15:47:50.256Z"
   },
   {
    "duration": 2105,
    "start_time": "2022-04-19T15:48:14.166Z"
   },
   {
    "duration": 462,
    "start_time": "2022-04-19T15:48:16.275Z"
   },
   {
    "duration": 26,
    "start_time": "2022-04-19T15:48:16.739Z"
   },
   {
    "duration": 16,
    "start_time": "2022-04-19T15:48:16.769Z"
   },
   {
    "duration": 39,
    "start_time": "2022-04-19T15:48:16.788Z"
   },
   {
    "duration": 20,
    "start_time": "2022-04-19T15:48:16.830Z"
   },
   {
    "duration": 47,
    "start_time": "2022-04-19T15:48:16.852Z"
   },
   {
    "duration": 135,
    "start_time": "2022-04-19T15:48:16.925Z"
   },
   {
    "duration": 272,
    "start_time": "2022-04-19T15:48:17.062Z"
   },
   {
    "duration": 488,
    "start_time": "2022-04-19T15:48:17.337Z"
   },
   {
    "duration": 101,
    "start_time": "2022-04-19T15:48:17.828Z"
   },
   {
    "duration": 14,
    "start_time": "2022-04-19T15:48:17.932Z"
   },
   {
    "duration": 14,
    "start_time": "2022-04-19T15:48:17.949Z"
   },
   {
    "duration": 67,
    "start_time": "2022-04-19T15:48:17.965Z"
   },
   {
    "duration": 19,
    "start_time": "2022-04-19T15:48:18.034Z"
   },
   {
    "duration": 6,
    "start_time": "2022-04-19T15:48:18.055Z"
   },
   {
    "duration": 62,
    "start_time": "2022-04-19T15:48:18.064Z"
   },
   {
    "duration": 5,
    "start_time": "2022-04-19T15:48:18.130Z"
   },
   {
    "duration": 181,
    "start_time": "2022-04-19T15:48:18.138Z"
   },
   {
    "duration": 2044,
    "start_time": "2022-04-19T15:48:43.826Z"
   },
   {
    "duration": 100,
    "start_time": "2022-04-19T15:49:19.692Z"
   },
   {
    "duration": 2998,
    "start_time": "2022-04-19T15:49:26.952Z"
   },
   {
    "duration": 1928,
    "start_time": "2022-04-19T15:50:03.651Z"
   },
   {
    "duration": 2857,
    "start_time": "2022-04-19T15:50:38.890Z"
   },
   {
    "duration": 2149,
    "start_time": "2022-04-19T15:56:09.217Z"
   },
   {
    "duration": 2052,
    "start_time": "2022-04-19T15:57:30.243Z"
   },
   {
    "duration": 2023,
    "start_time": "2022-04-19T15:57:44.213Z"
   },
   {
    "duration": 1588,
    "start_time": "2022-04-19T15:58:05.481Z"
   },
   {
    "duration": 480,
    "start_time": "2022-04-19T15:58:07.072Z"
   },
   {
    "duration": 28,
    "start_time": "2022-04-19T15:58:07.555Z"
   },
   {
    "duration": 20,
    "start_time": "2022-04-19T15:58:07.587Z"
   },
   {
    "duration": 22,
    "start_time": "2022-04-19T15:58:07.632Z"
   },
   {
    "duration": 29,
    "start_time": "2022-04-19T15:58:07.656Z"
   },
   {
    "duration": 63,
    "start_time": "2022-04-19T15:58:07.688Z"
   },
   {
    "duration": 135,
    "start_time": "2022-04-19T15:58:07.755Z"
   },
   {
    "duration": 297,
    "start_time": "2022-04-19T15:58:07.893Z"
   },
   {
    "duration": 343,
    "start_time": "2022-04-19T15:58:08.196Z"
   },
   {
    "duration": 12,
    "start_time": "2022-04-19T15:58:08.542Z"
   },
   {
    "duration": 106,
    "start_time": "2022-04-19T15:58:08.629Z"
   },
   {
    "duration": 27,
    "start_time": "2022-04-19T15:58:08.738Z"
   },
   {
    "duration": 52,
    "start_time": "2022-04-19T15:58:08.768Z"
   },
   {
    "duration": 22,
    "start_time": "2022-04-19T15:58:08.822Z"
   },
   {
    "duration": 12,
    "start_time": "2022-04-19T15:58:08.847Z"
   },
   {
    "duration": 33,
    "start_time": "2022-04-19T15:58:08.862Z"
   },
   {
    "duration": 8,
    "start_time": "2022-04-19T15:58:08.898Z"
   },
   {
    "duration": 2100,
    "start_time": "2022-04-19T15:58:08.909Z"
   },
   {
    "duration": 2902,
    "start_time": "2022-04-19T16:00:52.060Z"
   },
   {
    "duration": 2003,
    "start_time": "2022-04-19T16:03:19.859Z"
   },
   {
    "duration": 1768,
    "start_time": "2022-04-19T16:03:39.672Z"
   },
   {
    "duration": 522,
    "start_time": "2022-04-19T16:03:41.444Z"
   },
   {
    "duration": 24,
    "start_time": "2022-04-19T16:03:41.968Z"
   },
   {
    "duration": 13,
    "start_time": "2022-04-19T16:03:41.994Z"
   },
   {
    "duration": 18,
    "start_time": "2022-04-19T16:03:42.030Z"
   },
   {
    "duration": 17,
    "start_time": "2022-04-19T16:03:42.051Z"
   },
   {
    "duration": 74,
    "start_time": "2022-04-19T16:03:42.071Z"
   },
   {
    "duration": 167,
    "start_time": "2022-04-19T16:03:42.149Z"
   },
   {
    "duration": 287,
    "start_time": "2022-04-19T16:03:42.319Z"
   },
   {
    "duration": 443,
    "start_time": "2022-04-19T16:03:42.609Z"
   },
   {
    "duration": 78,
    "start_time": "2022-04-19T16:03:43.057Z"
   },
   {
    "duration": 105,
    "start_time": "2022-04-19T16:03:43.146Z"
   },
   {
    "duration": 7,
    "start_time": "2022-04-19T16:03:43.253Z"
   },
   {
    "duration": 45,
    "start_time": "2022-04-19T16:03:43.266Z"
   },
   {
    "duration": 32,
    "start_time": "2022-04-19T16:03:43.314Z"
   },
   {
    "duration": 11,
    "start_time": "2022-04-19T16:03:43.349Z"
   },
   {
    "duration": 32,
    "start_time": "2022-04-19T16:03:43.362Z"
   },
   {
    "duration": 7,
    "start_time": "2022-04-19T16:03:43.397Z"
   },
   {
    "duration": 2229,
    "start_time": "2022-04-19T16:03:43.423Z"
   },
   {
    "duration": 1982,
    "start_time": "2022-04-19T16:03:45.654Z"
   },
   {
    "duration": 1935,
    "start_time": "2022-04-19T16:03:47.639Z"
   },
   {
    "duration": 2054,
    "start_time": "2022-04-19T16:05:20.863Z"
   },
   {
    "duration": 1663,
    "start_time": "2022-04-19T16:06:40.791Z"
   },
   {
    "duration": 488,
    "start_time": "2022-04-19T16:06:42.457Z"
   },
   {
    "duration": 27,
    "start_time": "2022-04-19T16:06:42.947Z"
   },
   {
    "duration": 22,
    "start_time": "2022-04-19T16:06:42.976Z"
   },
   {
    "duration": 20,
    "start_time": "2022-04-19T16:06:43.002Z"
   },
   {
    "duration": 43,
    "start_time": "2022-04-19T16:06:43.027Z"
   },
   {
    "duration": 46,
    "start_time": "2022-04-19T16:06:43.073Z"
   },
   {
    "duration": 127,
    "start_time": "2022-04-19T16:06:43.121Z"
   },
   {
    "duration": 279,
    "start_time": "2022-04-19T16:06:43.250Z"
   },
   {
    "duration": 490,
    "start_time": "2022-04-19T16:06:43.537Z"
   },
   {
    "duration": 101,
    "start_time": "2022-04-19T16:06:44.031Z"
   },
   {
    "duration": 27,
    "start_time": "2022-04-19T16:06:44.136Z"
   },
   {
    "duration": 14,
    "start_time": "2022-04-19T16:06:44.166Z"
   },
   {
    "duration": 68,
    "start_time": "2022-04-19T16:06:44.184Z"
   },
   {
    "duration": 14,
    "start_time": "2022-04-19T16:06:44.254Z"
   },
   {
    "duration": 5,
    "start_time": "2022-04-19T16:06:44.270Z"
   },
   {
    "duration": 49,
    "start_time": "2022-04-19T16:06:44.277Z"
   },
   {
    "duration": 4,
    "start_time": "2022-04-19T16:06:44.329Z"
   },
   {
    "duration": 2234,
    "start_time": "2022-04-19T16:06:44.335Z"
   },
   {
    "duration": 2563,
    "start_time": "2022-04-19T16:06:46.572Z"
   },
   {
    "duration": 3272,
    "start_time": "2022-04-19T16:06:49.138Z"
   },
   {
    "duration": 383,
    "start_time": "2022-04-19T16:22:21.163Z"
   },
   {
    "duration": 458,
    "start_time": "2022-04-19T16:24:56.901Z"
   },
   {
    "duration": 444,
    "start_time": "2022-04-19T16:25:18.110Z"
   },
   {
    "duration": 6,
    "start_time": "2022-04-19T16:53:09.785Z"
   },
   {
    "duration": 34,
    "start_time": "2022-04-19T16:53:11.901Z"
   },
   {
    "duration": 20,
    "start_time": "2022-04-19T16:53:20.352Z"
   },
   {
    "duration": 6,
    "start_time": "2022-04-19T16:53:45.565Z"
   },
   {
    "duration": 29,
    "start_time": "2022-04-19T16:53:46.529Z"
   },
   {
    "duration": 1603,
    "start_time": "2022-04-19T17:33:28.282Z"
   },
   {
    "duration": 487,
    "start_time": "2022-04-19T17:33:29.889Z"
   },
   {
    "duration": 25,
    "start_time": "2022-04-19T17:33:30.379Z"
   },
   {
    "duration": 35,
    "start_time": "2022-04-19T17:33:30.406Z"
   },
   {
    "duration": 16,
    "start_time": "2022-04-19T17:33:30.447Z"
   },
   {
    "duration": 22,
    "start_time": "2022-04-19T17:33:30.466Z"
   },
   {
    "duration": 83,
    "start_time": "2022-04-19T17:33:30.490Z"
   },
   {
    "duration": 179,
    "start_time": "2022-04-19T17:33:30.576Z"
   },
   {
    "duration": 340,
    "start_time": "2022-04-19T17:33:30.758Z"
   },
   {
    "duration": 431,
    "start_time": "2022-04-19T17:33:31.101Z"
   },
   {
    "duration": 91,
    "start_time": "2022-04-19T17:33:31.540Z"
   },
   {
    "duration": 26,
    "start_time": "2022-04-19T17:33:31.636Z"
   },
   {
    "duration": 25,
    "start_time": "2022-04-19T17:33:31.665Z"
   },
   {
    "duration": 34,
    "start_time": "2022-04-19T17:33:31.734Z"
   },
   {
    "duration": 16,
    "start_time": "2022-04-19T17:33:31.771Z"
   },
   {
    "duration": 36,
    "start_time": "2022-04-19T17:33:31.789Z"
   },
   {
    "duration": 104,
    "start_time": "2022-04-19T17:33:31.829Z"
   },
   {
    "duration": 5,
    "start_time": "2022-04-19T17:33:31.943Z"
   },
   {
    "duration": 2083,
    "start_time": "2022-04-19T17:33:31.951Z"
   },
   {
    "duration": 2050,
    "start_time": "2022-04-19T17:33:34.039Z"
   },
   {
    "duration": 2905,
    "start_time": "2022-04-19T17:33:36.092Z"
   },
   {
    "duration": 6,
    "start_time": "2022-04-19T18:42:52.944Z"
   },
   {
    "duration": 2131,
    "start_time": "2022-04-19T18:49:22.279Z"
   },
   {
    "duration": 1945,
    "start_time": "2022-04-19T18:50:18.237Z"
   },
   {
    "duration": 150,
    "start_time": "2022-04-19T18:57:00.032Z"
   },
   {
    "duration": 15,
    "start_time": "2022-04-19T18:57:27.393Z"
   },
   {
    "duration": 1672,
    "start_time": "2022-04-19T18:59:20.839Z"
   },
   {
    "duration": 465,
    "start_time": "2022-04-19T18:59:22.514Z"
   },
   {
    "duration": 24,
    "start_time": "2022-04-19T18:59:22.982Z"
   },
   {
    "duration": 34,
    "start_time": "2022-04-19T18:59:23.009Z"
   },
   {
    "duration": 19,
    "start_time": "2022-04-19T18:59:23.045Z"
   },
   {
    "duration": 22,
    "start_time": "2022-04-19T18:59:23.067Z"
   },
   {
    "duration": 74,
    "start_time": "2022-04-19T18:59:23.092Z"
   },
   {
    "duration": 182,
    "start_time": "2022-04-19T18:59:23.169Z"
   },
   {
    "duration": 292,
    "start_time": "2022-04-19T18:59:23.353Z"
   },
   {
    "duration": 401,
    "start_time": "2022-04-19T18:59:23.653Z"
   },
   {
    "duration": 94,
    "start_time": "2022-04-19T18:59:24.134Z"
   },
   {
    "duration": 21,
    "start_time": "2022-04-19T18:59:24.231Z"
   },
   {
    "duration": 7,
    "start_time": "2022-04-19T18:59:24.254Z"
   },
   {
    "duration": 33,
    "start_time": "2022-04-19T18:59:24.263Z"
   },
   {
    "duration": 40,
    "start_time": "2022-04-19T18:59:24.298Z"
   },
   {
    "duration": 6,
    "start_time": "2022-04-19T18:59:24.340Z"
   },
   {
    "duration": 164,
    "start_time": "2022-04-19T18:59:24.348Z"
   },
   {
    "duration": 0,
    "start_time": "2022-04-19T18:59:24.514Z"
   },
   {
    "duration": 0,
    "start_time": "2022-04-19T18:59:24.516Z"
   },
   {
    "duration": 0,
    "start_time": "2022-04-19T18:59:24.525Z"
   },
   {
    "duration": 0,
    "start_time": "2022-04-19T18:59:24.527Z"
   },
   {
    "duration": 25,
    "start_time": "2022-04-19T19:01:06.145Z"
   },
   {
    "duration": 4,
    "start_time": "2022-04-19T19:02:58.115Z"
   },
   {
    "duration": 5,
    "start_time": "2022-04-19T19:02:59.193Z"
   },
   {
    "duration": 5,
    "start_time": "2022-04-19T19:04:30.147Z"
   },
   {
    "duration": 29,
    "start_time": "2022-04-19T19:04:32.805Z"
   },
   {
    "duration": 14,
    "start_time": "2022-04-19T19:05:16.338Z"
   },
   {
    "duration": 16,
    "start_time": "2022-04-19T19:06:12.544Z"
   },
   {
    "duration": 4,
    "start_time": "2022-04-19T19:06:18.055Z"
   },
   {
    "duration": 2033,
    "start_time": "2022-04-19T19:06:18.862Z"
   },
   {
    "duration": 1885,
    "start_time": "2022-04-19T19:07:14.219Z"
   },
   {
    "duration": 109,
    "start_time": "2022-04-19T19:08:10.750Z"
   },
   {
    "duration": 1553,
    "start_time": "2022-04-19T19:08:35.288Z"
   },
   {
    "duration": 435,
    "start_time": "2022-04-19T19:08:36.844Z"
   },
   {
    "duration": 24,
    "start_time": "2022-04-19T19:08:37.281Z"
   },
   {
    "duration": 27,
    "start_time": "2022-04-19T19:08:37.308Z"
   },
   {
    "duration": 25,
    "start_time": "2022-04-19T19:08:37.338Z"
   },
   {
    "duration": 29,
    "start_time": "2022-04-19T19:08:37.366Z"
   },
   {
    "duration": 64,
    "start_time": "2022-04-19T19:08:37.398Z"
   },
   {
    "duration": 187,
    "start_time": "2022-04-19T19:08:37.465Z"
   },
   {
    "duration": 305,
    "start_time": "2022-04-19T19:08:37.655Z"
   },
   {
    "duration": 479,
    "start_time": "2022-04-19T19:08:37.965Z"
   },
   {
    "duration": 104,
    "start_time": "2022-04-19T19:08:38.524Z"
   },
   {
    "duration": 16,
    "start_time": "2022-04-19T19:08:38.630Z"
   },
   {
    "duration": 12,
    "start_time": "2022-04-19T19:08:38.648Z"
   },
   {
    "duration": 9,
    "start_time": "2022-04-19T19:08:38.662Z"
   },
   {
    "duration": 61,
    "start_time": "2022-04-19T19:08:38.673Z"
   },
   {
    "duration": 15,
    "start_time": "2022-04-19T19:08:38.737Z"
   },
   {
    "duration": 10,
    "start_time": "2022-04-19T19:08:38.754Z"
   },
   {
    "duration": 31,
    "start_time": "2022-04-19T19:08:38.766Z"
   },
   {
    "duration": 27,
    "start_time": "2022-04-19T19:08:38.799Z"
   },
   {
    "duration": 102,
    "start_time": "2022-04-19T19:08:38.829Z"
   },
   {
    "duration": 0,
    "start_time": "2022-04-19T19:08:38.933Z"
   },
   {
    "duration": 0,
    "start_time": "2022-04-19T19:08:38.935Z"
   },
   {
    "duration": 155,
    "start_time": "2022-04-19T19:09:06.580Z"
   },
   {
    "duration": 1969,
    "start_time": "2022-04-19T19:09:34.196Z"
   },
   {
    "duration": 1856,
    "start_time": "2022-04-19T19:09:54.798Z"
   },
   {
    "duration": 2028,
    "start_time": "2022-04-19T19:10:25.225Z"
   },
   {
    "duration": 1566,
    "start_time": "2022-04-19T19:14:26.012Z"
   },
   {
    "duration": 454,
    "start_time": "2022-04-19T19:14:27.581Z"
   },
   {
    "duration": 24,
    "start_time": "2022-04-19T19:14:28.038Z"
   },
   {
    "duration": 14,
    "start_time": "2022-04-19T19:14:28.065Z"
   },
   {
    "duration": 32,
    "start_time": "2022-04-19T19:14:28.081Z"
   },
   {
    "duration": 16,
    "start_time": "2022-04-19T19:14:28.125Z"
   },
   {
    "duration": 52,
    "start_time": "2022-04-19T19:14:28.143Z"
   },
   {
    "duration": 143,
    "start_time": "2022-04-19T19:14:28.197Z"
   },
   {
    "duration": 352,
    "start_time": "2022-04-19T19:14:28.342Z"
   },
   {
    "duration": 441,
    "start_time": "2022-04-19T19:14:28.699Z"
   },
   {
    "duration": 102,
    "start_time": "2022-04-19T19:14:29.225Z"
   },
   {
    "duration": 14,
    "start_time": "2022-04-19T19:14:29.329Z"
   },
   {
    "duration": 5,
    "start_time": "2022-04-19T19:14:29.345Z"
   },
   {
    "duration": 9,
    "start_time": "2022-04-19T19:14:29.352Z"
   },
   {
    "duration": 73,
    "start_time": "2022-04-19T19:14:29.363Z"
   },
   {
    "duration": 16,
    "start_time": "2022-04-19T19:14:29.438Z"
   },
   {
    "duration": 5,
    "start_time": "2022-04-19T19:14:29.457Z"
   },
   {
    "duration": 28,
    "start_time": "2022-04-19T19:14:29.464Z"
   },
   {
    "duration": 33,
    "start_time": "2022-04-19T19:14:29.494Z"
   },
   {
    "duration": 100,
    "start_time": "2022-04-19T19:14:29.529Z"
   },
   {
    "duration": 0,
    "start_time": "2022-04-19T19:14:29.631Z"
   },
   {
    "duration": 0,
    "start_time": "2022-04-19T19:14:29.633Z"
   },
   {
    "duration": 0,
    "start_time": "2022-04-19T19:14:29.635Z"
   },
   {
    "duration": 99,
    "start_time": "2022-04-19T19:14:42.915Z"
   },
   {
    "duration": 1921,
    "start_time": "2022-04-19T19:15:10.181Z"
   },
   {
    "duration": 1901,
    "start_time": "2022-04-19T19:16:08.272Z"
   },
   {
    "duration": 1870,
    "start_time": "2022-04-19T19:16:23.254Z"
   },
   {
    "duration": 1940,
    "start_time": "2022-04-19T19:16:33.556Z"
   },
   {
    "duration": 1852,
    "start_time": "2022-04-19T19:17:13.794Z"
   },
   {
    "duration": 2020,
    "start_time": "2022-04-19T19:17:23.572Z"
   },
   {
    "duration": 1931,
    "start_time": "2022-04-19T19:17:30.538Z"
   },
   {
    "duration": 1522,
    "start_time": "2022-04-19T19:21:08.851Z"
   },
   {
    "duration": 463,
    "start_time": "2022-04-19T19:21:10.376Z"
   },
   {
    "duration": 25,
    "start_time": "2022-04-19T19:21:10.841Z"
   },
   {
    "duration": 13,
    "start_time": "2022-04-19T19:21:10.869Z"
   },
   {
    "duration": 38,
    "start_time": "2022-04-19T19:21:10.885Z"
   },
   {
    "duration": 17,
    "start_time": "2022-04-19T19:21:10.926Z"
   },
   {
    "duration": 44,
    "start_time": "2022-04-19T19:21:10.945Z"
   },
   {
    "duration": 139,
    "start_time": "2022-04-19T19:21:10.991Z"
   },
   {
    "duration": 235,
    "start_time": "2022-04-19T19:21:11.132Z"
   },
   {
    "duration": 471,
    "start_time": "2022-04-19T19:21:11.371Z"
   },
   {
    "duration": 100,
    "start_time": "2022-04-19T19:21:11.926Z"
   },
   {
    "duration": 12,
    "start_time": "2022-04-19T19:21:12.029Z"
   },
   {
    "duration": 18,
    "start_time": "2022-04-19T19:21:12.043Z"
   },
   {
    "duration": 12,
    "start_time": "2022-04-19T19:21:12.063Z"
   },
   {
    "duration": 52,
    "start_time": "2022-04-19T19:21:12.077Z"
   },
   {
    "duration": 14,
    "start_time": "2022-04-19T19:21:12.131Z"
   },
   {
    "duration": 5,
    "start_time": "2022-04-19T19:21:12.147Z"
   },
   {
    "duration": 30,
    "start_time": "2022-04-19T19:21:12.154Z"
   },
   {
    "duration": 4,
    "start_time": "2022-04-19T19:21:12.186Z"
   },
   {
    "duration": 1946,
    "start_time": "2022-04-19T19:21:12.223Z"
   },
   {
    "duration": 1889,
    "start_time": "2022-04-19T19:21:14.171Z"
   },
   {
    "duration": 2052,
    "start_time": "2022-04-19T19:21:16.062Z"
   },
   {
    "duration": 198,
    "start_time": "2022-04-19T19:21:18.117Z"
   },
   {
    "duration": 1898,
    "start_time": "2022-04-19T19:21:45.671Z"
   },
   {
    "duration": 1545,
    "start_time": "2022-04-19T19:40:13.385Z"
   },
   {
    "duration": 461,
    "start_time": "2022-04-19T19:40:14.933Z"
   },
   {
    "duration": 23,
    "start_time": "2022-04-19T19:40:15.397Z"
   },
   {
    "duration": 14,
    "start_time": "2022-04-19T19:40:15.424Z"
   },
   {
    "duration": 19,
    "start_time": "2022-04-19T19:40:15.440Z"
   },
   {
    "duration": 21,
    "start_time": "2022-04-19T19:40:15.461Z"
   },
   {
    "duration": 63,
    "start_time": "2022-04-19T19:40:15.484Z"
   },
   {
    "duration": 131,
    "start_time": "2022-04-19T19:40:15.550Z"
   },
   {
    "duration": 228,
    "start_time": "2022-04-19T19:40:15.683Z"
   },
   {
    "duration": 419,
    "start_time": "2022-04-19T19:40:15.915Z"
   },
   {
    "duration": 96,
    "start_time": "2022-04-19T19:40:16.338Z"
   },
   {
    "duration": 10,
    "start_time": "2022-04-19T19:40:16.524Z"
   },
   {
    "duration": 4,
    "start_time": "2022-04-19T19:40:16.536Z"
   },
   {
    "duration": 7,
    "start_time": "2022-04-19T19:40:16.542Z"
   },
   {
    "duration": 32,
    "start_time": "2022-04-19T19:40:16.551Z"
   },
   {
    "duration": 17,
    "start_time": "2022-04-19T19:40:16.624Z"
   },
   {
    "duration": 4,
    "start_time": "2022-04-19T19:40:16.643Z"
   },
   {
    "duration": 28,
    "start_time": "2022-04-19T19:40:16.650Z"
   },
   {
    "duration": 4,
    "start_time": "2022-04-19T19:40:16.680Z"
   },
   {
    "duration": 2028,
    "start_time": "2022-04-19T19:40:16.686Z"
   },
   {
    "duration": 2255,
    "start_time": "2022-04-19T19:40:18.716Z"
   },
   {
    "duration": 1861,
    "start_time": "2022-04-19T19:40:20.973Z"
   },
   {
    "duration": 1091,
    "start_time": "2023-02-18T09:26:29.783Z"
   },
   {
    "duration": 799,
    "start_time": "2023-02-18T09:26:30.876Z"
   },
   {
    "duration": 15,
    "start_time": "2023-02-18T09:26:31.677Z"
   },
   {
    "duration": 8,
    "start_time": "2023-02-18T09:26:31.694Z"
   },
   {
    "duration": 12,
    "start_time": "2023-02-18T09:26:31.703Z"
   },
   {
    "duration": 16,
    "start_time": "2023-02-18T09:26:31.716Z"
   },
   {
    "duration": 25,
    "start_time": "2023-02-18T09:26:31.733Z"
   },
   {
    "duration": 98,
    "start_time": "2023-02-18T09:26:31.760Z"
   },
   {
    "duration": 131,
    "start_time": "2023-02-18T09:26:31.860Z"
   },
   {
    "duration": 321,
    "start_time": "2023-02-18T09:26:31.994Z"
   },
   {
    "duration": 94,
    "start_time": "2023-02-18T09:26:32.317Z"
   },
   {
    "duration": 104,
    "start_time": "2023-02-18T09:26:32.412Z"
   },
   {
    "duration": 6,
    "start_time": "2023-02-18T09:26:32.518Z"
   },
   {
    "duration": 5,
    "start_time": "2023-02-18T09:26:32.526Z"
   },
   {
    "duration": 24,
    "start_time": "2023-02-18T09:26:32.532Z"
   },
   {
    "duration": 11,
    "start_time": "2023-02-18T09:26:32.557Z"
   },
   {
    "duration": 3,
    "start_time": "2023-02-18T09:26:32.569Z"
   },
   {
    "duration": 49,
    "start_time": "2023-02-18T09:26:32.574Z"
   },
   {
    "duration": 3,
    "start_time": "2023-02-18T09:26:32.624Z"
   },
   {
    "duration": 1213,
    "start_time": "2023-02-18T09:26:32.629Z"
   },
   {
    "duration": 1123,
    "start_time": "2023-02-18T09:26:33.843Z"
   },
   {
    "duration": 1151,
    "start_time": "2023-02-18T09:26:34.968Z"
   }
  ],
  "kernelspec": {
   "display_name": "Python 3 (ipykernel)",
   "language": "python",
   "name": "python3"
  },
  "language_info": {
   "codemirror_mode": {
    "name": "ipython",
    "version": 3
   },
   "file_extension": ".py",
   "mimetype": "text/x-python",
   "name": "python",
   "nbconvert_exporter": "python",
   "pygments_lexer": "ipython3",
   "version": "3.9.5"
  },
  "toc": {
   "base_numbering": 1,
   "nav_menu": {},
   "number_sections": true,
   "sideBar": true,
   "skip_h1_title": true,
   "title_cell": "Содержание",
   "title_sidebar": "Содержание",
   "toc_cell": true,
   "toc_position": {},
   "toc_section_display": true,
   "toc_window_display": true
  }
 },
 "nbformat": 4,
 "nbformat_minor": 2
}
