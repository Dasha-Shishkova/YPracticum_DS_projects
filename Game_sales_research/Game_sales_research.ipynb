{
 "cells": [
  {
   "cell_type": "markdown",
   "id": "1826feff",
   "metadata": {},
   "source": [
    "## Загрузка файла с данными и изучение общей информации"
   ]
  },
  {
   "cell_type": "code",
   "execution_count": 1,
   "id": "1459334e",
   "metadata": {},
   "outputs": [],
   "source": [
    "import pandas as pd\n",
    "import numpy as np\n",
    "import matplotlib.pyplot as plt\n",
    "import warnings\n",
    "from pandas.core.common import SettingWithCopyWarning\n",
    "\n",
    "warnings.simplefilter(action=\"ignore\", category=SettingWithCopyWarning)\n",
    "from scipy import stats as st"
   ]
  },
  {
   "cell_type": "code",
   "execution_count": 2,
   "id": "090e166a",
   "metadata": {},
   "outputs": [],
   "source": [
    "games = pd.read_csv('/datasets/games.csv')"
   ]
  },
  {
   "cell_type": "code",
   "execution_count": 3,
   "id": "6510e825",
   "metadata": {},
   "outputs": [
    {
     "data": {
      "text/html": [
       "<div>\n",
       "<style scoped>\n",
       "    .dataframe tbody tr th:only-of-type {\n",
       "        vertical-align: middle;\n",
       "    }\n",
       "\n",
       "    .dataframe tbody tr th {\n",
       "        vertical-align: top;\n",
       "    }\n",
       "\n",
       "    .dataframe thead th {\n",
       "        text-align: right;\n",
       "    }\n",
       "</style>\n",
       "<table border=\"1\" class=\"dataframe\">\n",
       "  <thead>\n",
       "    <tr style=\"text-align: right;\">\n",
       "      <th></th>\n",
       "      <th>Name</th>\n",
       "      <th>Platform</th>\n",
       "      <th>Year_of_Release</th>\n",
       "      <th>Genre</th>\n",
       "      <th>NA_sales</th>\n",
       "      <th>EU_sales</th>\n",
       "      <th>JP_sales</th>\n",
       "      <th>Other_sales</th>\n",
       "      <th>Critic_Score</th>\n",
       "      <th>User_Score</th>\n",
       "      <th>Rating</th>\n",
       "    </tr>\n",
       "  </thead>\n",
       "  <tbody>\n",
       "    <tr>\n",
       "      <th>0</th>\n",
       "      <td>Wii Sports</td>\n",
       "      <td>Wii</td>\n",
       "      <td>2006.0</td>\n",
       "      <td>Sports</td>\n",
       "      <td>41.36</td>\n",
       "      <td>28.96</td>\n",
       "      <td>3.77</td>\n",
       "      <td>8.45</td>\n",
       "      <td>76.0</td>\n",
       "      <td>8</td>\n",
       "      <td>E</td>\n",
       "    </tr>\n",
       "    <tr>\n",
       "      <th>1</th>\n",
       "      <td>Super Mario Bros.</td>\n",
       "      <td>NES</td>\n",
       "      <td>1985.0</td>\n",
       "      <td>Platform</td>\n",
       "      <td>29.08</td>\n",
       "      <td>3.58</td>\n",
       "      <td>6.81</td>\n",
       "      <td>0.77</td>\n",
       "      <td>NaN</td>\n",
       "      <td>NaN</td>\n",
       "      <td>NaN</td>\n",
       "    </tr>\n",
       "    <tr>\n",
       "      <th>2</th>\n",
       "      <td>Mario Kart Wii</td>\n",
       "      <td>Wii</td>\n",
       "      <td>2008.0</td>\n",
       "      <td>Racing</td>\n",
       "      <td>15.68</td>\n",
       "      <td>12.76</td>\n",
       "      <td>3.79</td>\n",
       "      <td>3.29</td>\n",
       "      <td>82.0</td>\n",
       "      <td>8.3</td>\n",
       "      <td>E</td>\n",
       "    </tr>\n",
       "    <tr>\n",
       "      <th>3</th>\n",
       "      <td>Wii Sports Resort</td>\n",
       "      <td>Wii</td>\n",
       "      <td>2009.0</td>\n",
       "      <td>Sports</td>\n",
       "      <td>15.61</td>\n",
       "      <td>10.93</td>\n",
       "      <td>3.28</td>\n",
       "      <td>2.95</td>\n",
       "      <td>80.0</td>\n",
       "      <td>8</td>\n",
       "      <td>E</td>\n",
       "    </tr>\n",
       "    <tr>\n",
       "      <th>4</th>\n",
       "      <td>Pokemon Red/Pokemon Blue</td>\n",
       "      <td>GB</td>\n",
       "      <td>1996.0</td>\n",
       "      <td>Role-Playing</td>\n",
       "      <td>11.27</td>\n",
       "      <td>8.89</td>\n",
       "      <td>10.22</td>\n",
       "      <td>1.00</td>\n",
       "      <td>NaN</td>\n",
       "      <td>NaN</td>\n",
       "      <td>NaN</td>\n",
       "    </tr>\n",
       "    <tr>\n",
       "      <th>5</th>\n",
       "      <td>Tetris</td>\n",
       "      <td>GB</td>\n",
       "      <td>1989.0</td>\n",
       "      <td>Puzzle</td>\n",
       "      <td>23.20</td>\n",
       "      <td>2.26</td>\n",
       "      <td>4.22</td>\n",
       "      <td>0.58</td>\n",
       "      <td>NaN</td>\n",
       "      <td>NaN</td>\n",
       "      <td>NaN</td>\n",
       "    </tr>\n",
       "    <tr>\n",
       "      <th>6</th>\n",
       "      <td>New Super Mario Bros.</td>\n",
       "      <td>DS</td>\n",
       "      <td>2006.0</td>\n",
       "      <td>Platform</td>\n",
       "      <td>11.28</td>\n",
       "      <td>9.14</td>\n",
       "      <td>6.50</td>\n",
       "      <td>2.88</td>\n",
       "      <td>89.0</td>\n",
       "      <td>8.5</td>\n",
       "      <td>E</td>\n",
       "    </tr>\n",
       "    <tr>\n",
       "      <th>7</th>\n",
       "      <td>Wii Play</td>\n",
       "      <td>Wii</td>\n",
       "      <td>2006.0</td>\n",
       "      <td>Misc</td>\n",
       "      <td>13.96</td>\n",
       "      <td>9.18</td>\n",
       "      <td>2.93</td>\n",
       "      <td>2.84</td>\n",
       "      <td>58.0</td>\n",
       "      <td>6.6</td>\n",
       "      <td>E</td>\n",
       "    </tr>\n",
       "    <tr>\n",
       "      <th>8</th>\n",
       "      <td>New Super Mario Bros. Wii</td>\n",
       "      <td>Wii</td>\n",
       "      <td>2009.0</td>\n",
       "      <td>Platform</td>\n",
       "      <td>14.44</td>\n",
       "      <td>6.94</td>\n",
       "      <td>4.70</td>\n",
       "      <td>2.24</td>\n",
       "      <td>87.0</td>\n",
       "      <td>8.4</td>\n",
       "      <td>E</td>\n",
       "    </tr>\n",
       "    <tr>\n",
       "      <th>9</th>\n",
       "      <td>Duck Hunt</td>\n",
       "      <td>NES</td>\n",
       "      <td>1984.0</td>\n",
       "      <td>Shooter</td>\n",
       "      <td>26.93</td>\n",
       "      <td>0.63</td>\n",
       "      <td>0.28</td>\n",
       "      <td>0.47</td>\n",
       "      <td>NaN</td>\n",
       "      <td>NaN</td>\n",
       "      <td>NaN</td>\n",
       "    </tr>\n",
       "    <tr>\n",
       "      <th>10</th>\n",
       "      <td>Nintendogs</td>\n",
       "      <td>DS</td>\n",
       "      <td>2005.0</td>\n",
       "      <td>Simulation</td>\n",
       "      <td>9.05</td>\n",
       "      <td>10.95</td>\n",
       "      <td>1.93</td>\n",
       "      <td>2.74</td>\n",
       "      <td>NaN</td>\n",
       "      <td>NaN</td>\n",
       "      <td>NaN</td>\n",
       "    </tr>\n",
       "    <tr>\n",
       "      <th>11</th>\n",
       "      <td>Mario Kart DS</td>\n",
       "      <td>DS</td>\n",
       "      <td>2005.0</td>\n",
       "      <td>Racing</td>\n",
       "      <td>9.71</td>\n",
       "      <td>7.47</td>\n",
       "      <td>4.13</td>\n",
       "      <td>1.90</td>\n",
       "      <td>91.0</td>\n",
       "      <td>8.6</td>\n",
       "      <td>E</td>\n",
       "    </tr>\n",
       "    <tr>\n",
       "      <th>12</th>\n",
       "      <td>Pokemon Gold/Pokemon Silver</td>\n",
       "      <td>GB</td>\n",
       "      <td>1999.0</td>\n",
       "      <td>Role-Playing</td>\n",
       "      <td>9.00</td>\n",
       "      <td>6.18</td>\n",
       "      <td>7.20</td>\n",
       "      <td>0.71</td>\n",
       "      <td>NaN</td>\n",
       "      <td>NaN</td>\n",
       "      <td>NaN</td>\n",
       "    </tr>\n",
       "    <tr>\n",
       "      <th>13</th>\n",
       "      <td>Wii Fit</td>\n",
       "      <td>Wii</td>\n",
       "      <td>2007.0</td>\n",
       "      <td>Sports</td>\n",
       "      <td>8.92</td>\n",
       "      <td>8.03</td>\n",
       "      <td>3.60</td>\n",
       "      <td>2.15</td>\n",
       "      <td>80.0</td>\n",
       "      <td>7.7</td>\n",
       "      <td>E</td>\n",
       "    </tr>\n",
       "    <tr>\n",
       "      <th>14</th>\n",
       "      <td>Kinect Adventures!</td>\n",
       "      <td>X360</td>\n",
       "      <td>2010.0</td>\n",
       "      <td>Misc</td>\n",
       "      <td>15.00</td>\n",
       "      <td>4.89</td>\n",
       "      <td>0.24</td>\n",
       "      <td>1.69</td>\n",
       "      <td>61.0</td>\n",
       "      <td>6.3</td>\n",
       "      <td>E</td>\n",
       "    </tr>\n",
       "  </tbody>\n",
       "</table>\n",
       "</div>"
      ],
      "text/plain": [
       "                           Name Platform  Year_of_Release         Genre  \\\n",
       "0                    Wii Sports      Wii           2006.0        Sports   \n",
       "1             Super Mario Bros.      NES           1985.0      Platform   \n",
       "2                Mario Kart Wii      Wii           2008.0        Racing   \n",
       "3             Wii Sports Resort      Wii           2009.0        Sports   \n",
       "4      Pokemon Red/Pokemon Blue       GB           1996.0  Role-Playing   \n",
       "5                        Tetris       GB           1989.0        Puzzle   \n",
       "6         New Super Mario Bros.       DS           2006.0      Platform   \n",
       "7                      Wii Play      Wii           2006.0          Misc   \n",
       "8     New Super Mario Bros. Wii      Wii           2009.0      Platform   \n",
       "9                     Duck Hunt      NES           1984.0       Shooter   \n",
       "10                   Nintendogs       DS           2005.0    Simulation   \n",
       "11                Mario Kart DS       DS           2005.0        Racing   \n",
       "12  Pokemon Gold/Pokemon Silver       GB           1999.0  Role-Playing   \n",
       "13                      Wii Fit      Wii           2007.0        Sports   \n",
       "14           Kinect Adventures!     X360           2010.0          Misc   \n",
       "\n",
       "    NA_sales  EU_sales  JP_sales  Other_sales  Critic_Score User_Score Rating  \n",
       "0      41.36     28.96      3.77         8.45          76.0          8      E  \n",
       "1      29.08      3.58      6.81         0.77           NaN        NaN    NaN  \n",
       "2      15.68     12.76      3.79         3.29          82.0        8.3      E  \n",
       "3      15.61     10.93      3.28         2.95          80.0          8      E  \n",
       "4      11.27      8.89     10.22         1.00           NaN        NaN    NaN  \n",
       "5      23.20      2.26      4.22         0.58           NaN        NaN    NaN  \n",
       "6      11.28      9.14      6.50         2.88          89.0        8.5      E  \n",
       "7      13.96      9.18      2.93         2.84          58.0        6.6      E  \n",
       "8      14.44      6.94      4.70         2.24          87.0        8.4      E  \n",
       "9      26.93      0.63      0.28         0.47           NaN        NaN    NaN  \n",
       "10      9.05     10.95      1.93         2.74           NaN        NaN    NaN  \n",
       "11      9.71      7.47      4.13         1.90          91.0        8.6      E  \n",
       "12      9.00      6.18      7.20         0.71           NaN        NaN    NaN  \n",
       "13      8.92      8.03      3.60         2.15          80.0        7.7      E  \n",
       "14     15.00      4.89      0.24         1.69          61.0        6.3      E  "
      ]
     },
     "execution_count": 3,
     "metadata": {},
     "output_type": "execute_result"
    }
   ],
   "source": [
    "games.head(15)"
   ]
  },
  {
   "cell_type": "code",
   "execution_count": 4,
   "id": "e2e11802",
   "metadata": {},
   "outputs": [
    {
     "name": "stdout",
     "output_type": "stream",
     "text": [
      "<class 'pandas.core.frame.DataFrame'>\n",
      "RangeIndex: 16715 entries, 0 to 16714\n",
      "Data columns (total 11 columns):\n",
      " #   Column           Non-Null Count  Dtype  \n",
      "---  ------           --------------  -----  \n",
      " 0   Name             16713 non-null  object \n",
      " 1   Platform         16715 non-null  object \n",
      " 2   Year_of_Release  16446 non-null  float64\n",
      " 3   Genre            16713 non-null  object \n",
      " 4   NA_sales         16715 non-null  float64\n",
      " 5   EU_sales         16715 non-null  float64\n",
      " 6   JP_sales         16715 non-null  float64\n",
      " 7   Other_sales      16715 non-null  float64\n",
      " 8   Critic_Score     8137 non-null   float64\n",
      " 9   User_Score       10014 non-null  object \n",
      " 10  Rating           9949 non-null   object \n",
      "dtypes: float64(6), object(5)\n",
      "memory usage: 1.4+ MB\n"
     ]
    }
   ],
   "source": [
    "games.info()"
   ]
  },
  {
   "cell_type": "code",
   "execution_count": 5,
   "id": "89ff1d23",
   "metadata": {
    "scrolled": true
   },
   "outputs": [
    {
     "data": {
      "text/html": [
       "<div>\n",
       "<style scoped>\n",
       "    .dataframe tbody tr th:only-of-type {\n",
       "        vertical-align: middle;\n",
       "    }\n",
       "\n",
       "    .dataframe tbody tr th {\n",
       "        vertical-align: top;\n",
       "    }\n",
       "\n",
       "    .dataframe thead th {\n",
       "        text-align: right;\n",
       "    }\n",
       "</style>\n",
       "<table border=\"1\" class=\"dataframe\">\n",
       "  <thead>\n",
       "    <tr style=\"text-align: right;\">\n",
       "      <th></th>\n",
       "      <th>Year_of_Release</th>\n",
       "      <th>NA_sales</th>\n",
       "      <th>EU_sales</th>\n",
       "      <th>JP_sales</th>\n",
       "      <th>Other_sales</th>\n",
       "      <th>Critic_Score</th>\n",
       "    </tr>\n",
       "  </thead>\n",
       "  <tbody>\n",
       "    <tr>\n",
       "      <th>count</th>\n",
       "      <td>16446.000000</td>\n",
       "      <td>16715.000000</td>\n",
       "      <td>16715.000000</td>\n",
       "      <td>16715.000000</td>\n",
       "      <td>16715.000000</td>\n",
       "      <td>8137.000000</td>\n",
       "    </tr>\n",
       "    <tr>\n",
       "      <th>mean</th>\n",
       "      <td>2006.484616</td>\n",
       "      <td>0.263377</td>\n",
       "      <td>0.145060</td>\n",
       "      <td>0.077617</td>\n",
       "      <td>0.047342</td>\n",
       "      <td>68.967679</td>\n",
       "    </tr>\n",
       "    <tr>\n",
       "      <th>std</th>\n",
       "      <td>5.877050</td>\n",
       "      <td>0.813604</td>\n",
       "      <td>0.503339</td>\n",
       "      <td>0.308853</td>\n",
       "      <td>0.186731</td>\n",
       "      <td>13.938165</td>\n",
       "    </tr>\n",
       "    <tr>\n",
       "      <th>min</th>\n",
       "      <td>1980.000000</td>\n",
       "      <td>0.000000</td>\n",
       "      <td>0.000000</td>\n",
       "      <td>0.000000</td>\n",
       "      <td>0.000000</td>\n",
       "      <td>13.000000</td>\n",
       "    </tr>\n",
       "    <tr>\n",
       "      <th>25%</th>\n",
       "      <td>2003.000000</td>\n",
       "      <td>0.000000</td>\n",
       "      <td>0.000000</td>\n",
       "      <td>0.000000</td>\n",
       "      <td>0.000000</td>\n",
       "      <td>60.000000</td>\n",
       "    </tr>\n",
       "    <tr>\n",
       "      <th>50%</th>\n",
       "      <td>2007.000000</td>\n",
       "      <td>0.080000</td>\n",
       "      <td>0.020000</td>\n",
       "      <td>0.000000</td>\n",
       "      <td>0.010000</td>\n",
       "      <td>71.000000</td>\n",
       "    </tr>\n",
       "    <tr>\n",
       "      <th>75%</th>\n",
       "      <td>2010.000000</td>\n",
       "      <td>0.240000</td>\n",
       "      <td>0.110000</td>\n",
       "      <td>0.040000</td>\n",
       "      <td>0.030000</td>\n",
       "      <td>79.000000</td>\n",
       "    </tr>\n",
       "    <tr>\n",
       "      <th>max</th>\n",
       "      <td>2016.000000</td>\n",
       "      <td>41.360000</td>\n",
       "      <td>28.960000</td>\n",
       "      <td>10.220000</td>\n",
       "      <td>10.570000</td>\n",
       "      <td>98.000000</td>\n",
       "    </tr>\n",
       "  </tbody>\n",
       "</table>\n",
       "</div>"
      ],
      "text/plain": [
       "       Year_of_Release      NA_sales      EU_sales      JP_sales  \\\n",
       "count     16446.000000  16715.000000  16715.000000  16715.000000   \n",
       "mean       2006.484616      0.263377      0.145060      0.077617   \n",
       "std           5.877050      0.813604      0.503339      0.308853   \n",
       "min        1980.000000      0.000000      0.000000      0.000000   \n",
       "25%        2003.000000      0.000000      0.000000      0.000000   \n",
       "50%        2007.000000      0.080000      0.020000      0.000000   \n",
       "75%        2010.000000      0.240000      0.110000      0.040000   \n",
       "max        2016.000000     41.360000     28.960000     10.220000   \n",
       "\n",
       "        Other_sales  Critic_Score  \n",
       "count  16715.000000   8137.000000  \n",
       "mean       0.047342     68.967679  \n",
       "std        0.186731     13.938165  \n",
       "min        0.000000     13.000000  \n",
       "25%        0.000000     60.000000  \n",
       "50%        0.010000     71.000000  \n",
       "75%        0.030000     79.000000  \n",
       "max       10.570000     98.000000  "
      ]
     },
     "execution_count": 5,
     "metadata": {},
     "output_type": "execute_result"
    }
   ],
   "source": [
    "games.describe()"
   ]
  },
  {
   "cell_type": "code",
   "execution_count": 6,
   "id": "2ffe71f5",
   "metadata": {},
   "outputs": [
    {
     "data": {
      "text/plain": [
       "Name                  2\n",
       "Platform              0\n",
       "Year_of_Release     269\n",
       "Genre                 2\n",
       "NA_sales              0\n",
       "EU_sales              0\n",
       "JP_sales              0\n",
       "Other_sales           0\n",
       "Critic_Score       8578\n",
       "User_Score         6701\n",
       "Rating             6766\n",
       "dtype: int64"
      ]
     },
     "execution_count": 6,
     "metadata": {},
     "output_type": "execute_result"
    }
   ],
   "source": [
    "games.isna().sum()"
   ]
  },
  {
   "cell_type": "code",
   "execution_count": 7,
   "id": "d651053f",
   "metadata": {},
   "outputs": [
    {
     "data": {
      "text/plain": [
       "0"
      ]
     },
     "execution_count": 7,
     "metadata": {},
     "output_type": "execute_result"
    }
   ],
   "source": [
    "games.duplicated().sum()"
   ]
  },
  {
   "cell_type": "markdown",
   "id": "f5ef7276",
   "metadata": {},
   "source": [
    "### Вывод"
   ]
  },
  {
   "cell_type": "markdown",
   "id": "2fe7d088",
   "metadata": {},
   "source": [
    "Таблица содержит 16713 строк и 11 столбцов. В 6 столбцах имеются пропуски, более всего в столбцах `Critic_Score`, `User_Score` и `Rating`. Также видим необходимость заменить названия столбцов, т.к. они все начинаются с большой буквы. В таблице нет дубликатов."
   ]
  },
  {
   "cell_type": "markdown",
   "id": "6e36e7ec",
   "metadata": {},
   "source": [
    "## Подготовка данных"
   ]
  },
  {
   "cell_type": "markdown",
   "id": "937244f8",
   "metadata": {},
   "source": [
    "### Замена названий столбцов "
   ]
  },
  {
   "cell_type": "code",
   "execution_count": 8,
   "id": "5a6541fb",
   "metadata": {},
   "outputs": [
    {
     "data": {
      "text/plain": [
       "Index(['name', 'platform', 'year_of_release', 'genre', 'na_sales', 'eu_sales',\n",
       "       'jp_sales', 'other_sales', 'critic_score', 'user_score', 'rating'],\n",
       "      dtype='object')"
      ]
     },
     "execution_count": 8,
     "metadata": {},
     "output_type": "execute_result"
    }
   ],
   "source": [
    "# т.к. нас не устраивает только регистр названий столбцов, \n",
    "# не будем их переименовавывать методом rename()\n",
    "games.columns = games.columns.str.lower()\n",
    "games.columns"
   ]
  },
  {
   "cell_type": "markdown",
   "id": "72c4a0f7",
   "metadata": {},
   "source": [
    "### Преобразование данных в нужные типы"
   ]
  },
  {
   "cell_type": "code",
   "execution_count": 9,
   "id": "ea9da5bc",
   "metadata": {},
   "outputs": [
    {
     "name": "stdout",
     "output_type": "stream",
     "text": [
      "<class 'pandas.core.frame.DataFrame'>\n",
      "RangeIndex: 16715 entries, 0 to 16714\n",
      "Data columns (total 11 columns):\n",
      " #   Column           Non-Null Count  Dtype  \n",
      "---  ------           --------------  -----  \n",
      " 0   name             16713 non-null  object \n",
      " 1   platform         16715 non-null  object \n",
      " 2   year_of_release  16446 non-null  float64\n",
      " 3   genre            16713 non-null  object \n",
      " 4   na_sales         16715 non-null  float64\n",
      " 5   eu_sales         16715 non-null  float64\n",
      " 6   jp_sales         16715 non-null  float64\n",
      " 7   other_sales      16715 non-null  float64\n",
      " 8   critic_score     8137 non-null   float64\n",
      " 9   user_score       10014 non-null  object \n",
      " 10  rating           9949 non-null   object \n",
      "dtypes: float64(6), object(5)\n",
      "memory usage: 1.4+ MB\n"
     ]
    },
    {
     "data": {
      "text/html": [
       "<div>\n",
       "<style scoped>\n",
       "    .dataframe tbody tr th:only-of-type {\n",
       "        vertical-align: middle;\n",
       "    }\n",
       "\n",
       "    .dataframe tbody tr th {\n",
       "        vertical-align: top;\n",
       "    }\n",
       "\n",
       "    .dataframe thead th {\n",
       "        text-align: right;\n",
       "    }\n",
       "</style>\n",
       "<table border=\"1\" class=\"dataframe\">\n",
       "  <thead>\n",
       "    <tr style=\"text-align: right;\">\n",
       "      <th></th>\n",
       "      <th>name</th>\n",
       "      <th>platform</th>\n",
       "      <th>year_of_release</th>\n",
       "      <th>genre</th>\n",
       "      <th>na_sales</th>\n",
       "      <th>eu_sales</th>\n",
       "      <th>jp_sales</th>\n",
       "      <th>other_sales</th>\n",
       "      <th>critic_score</th>\n",
       "      <th>user_score</th>\n",
       "      <th>rating</th>\n",
       "    </tr>\n",
       "  </thead>\n",
       "  <tbody>\n",
       "    <tr>\n",
       "      <th>0</th>\n",
       "      <td>Wii Sports</td>\n",
       "      <td>Wii</td>\n",
       "      <td>2006.0</td>\n",
       "      <td>Sports</td>\n",
       "      <td>41.36</td>\n",
       "      <td>28.96</td>\n",
       "      <td>3.77</td>\n",
       "      <td>8.45</td>\n",
       "      <td>76.0</td>\n",
       "      <td>8</td>\n",
       "      <td>E</td>\n",
       "    </tr>\n",
       "    <tr>\n",
       "      <th>1</th>\n",
       "      <td>Super Mario Bros.</td>\n",
       "      <td>NES</td>\n",
       "      <td>1985.0</td>\n",
       "      <td>Platform</td>\n",
       "      <td>29.08</td>\n",
       "      <td>3.58</td>\n",
       "      <td>6.81</td>\n",
       "      <td>0.77</td>\n",
       "      <td>NaN</td>\n",
       "      <td>NaN</td>\n",
       "      <td>NaN</td>\n",
       "    </tr>\n",
       "    <tr>\n",
       "      <th>2</th>\n",
       "      <td>Mario Kart Wii</td>\n",
       "      <td>Wii</td>\n",
       "      <td>2008.0</td>\n",
       "      <td>Racing</td>\n",
       "      <td>15.68</td>\n",
       "      <td>12.76</td>\n",
       "      <td>3.79</td>\n",
       "      <td>3.29</td>\n",
       "      <td>82.0</td>\n",
       "      <td>8.3</td>\n",
       "      <td>E</td>\n",
       "    </tr>\n",
       "    <tr>\n",
       "      <th>3</th>\n",
       "      <td>Wii Sports Resort</td>\n",
       "      <td>Wii</td>\n",
       "      <td>2009.0</td>\n",
       "      <td>Sports</td>\n",
       "      <td>15.61</td>\n",
       "      <td>10.93</td>\n",
       "      <td>3.28</td>\n",
       "      <td>2.95</td>\n",
       "      <td>80.0</td>\n",
       "      <td>8</td>\n",
       "      <td>E</td>\n",
       "    </tr>\n",
       "    <tr>\n",
       "      <th>4</th>\n",
       "      <td>Pokemon Red/Pokemon Blue</td>\n",
       "      <td>GB</td>\n",
       "      <td>1996.0</td>\n",
       "      <td>Role-Playing</td>\n",
       "      <td>11.27</td>\n",
       "      <td>8.89</td>\n",
       "      <td>10.22</td>\n",
       "      <td>1.00</td>\n",
       "      <td>NaN</td>\n",
       "      <td>NaN</td>\n",
       "      <td>NaN</td>\n",
       "    </tr>\n",
       "  </tbody>\n",
       "</table>\n",
       "</div>"
      ],
      "text/plain": [
       "                       name platform  year_of_release         genre  na_sales  \\\n",
       "0                Wii Sports      Wii           2006.0        Sports     41.36   \n",
       "1         Super Mario Bros.      NES           1985.0      Platform     29.08   \n",
       "2            Mario Kart Wii      Wii           2008.0        Racing     15.68   \n",
       "3         Wii Sports Resort      Wii           2009.0        Sports     15.61   \n",
       "4  Pokemon Red/Pokemon Blue       GB           1996.0  Role-Playing     11.27   \n",
       "\n",
       "   eu_sales  jp_sales  other_sales  critic_score user_score rating  \n",
       "0     28.96      3.77         8.45          76.0          8      E  \n",
       "1      3.58      6.81         0.77           NaN        NaN    NaN  \n",
       "2     12.76      3.79         3.29          82.0        8.3      E  \n",
       "3     10.93      3.28         2.95          80.0          8      E  \n",
       "4      8.89     10.22         1.00           NaN        NaN    NaN  "
      ]
     },
     "metadata": {},
     "output_type": "display_data"
    },
    {
     "data": {
      "text/plain": [
       "None"
      ]
     },
     "metadata": {},
     "output_type": "display_data"
    }
   ],
   "source": [
    "display(games.head(), games.info())"
   ]
  },
  {
   "cell_type": "code",
   "execution_count": 10,
   "id": "fc20d344",
   "metadata": {},
   "outputs": [
    {
     "data": {
      "text/plain": [
       "array([76., nan, 82., 80., 89., 58., 87., 91., 61., 97., 95., 77., 88.,\n",
       "       83., 94., 93., 85., 86., 98., 96., 90., 84., 73., 74., 78., 92.,\n",
       "       71., 72., 68., 62., 49., 67., 81., 66., 56., 79., 70., 59., 64.,\n",
       "       75., 60., 63., 69., 50., 25., 42., 44., 55., 48., 57., 29., 47.,\n",
       "       65., 54., 20., 53., 37., 38., 33., 52., 30., 32., 43., 45., 51.,\n",
       "       40., 46., 39., 34., 35., 41., 36., 28., 31., 27., 26., 19., 23.,\n",
       "       24., 21., 17., 22., 13.])"
      ]
     },
     "execution_count": 10,
     "metadata": {},
     "output_type": "execute_result"
    }
   ],
   "source": [
    "# столбец с оценкой критиков выглядит как целочисленный, проверим\n",
    "games['critic_score'].unique()"
   ]
  },
  {
   "cell_type": "code",
   "execution_count": 11,
   "id": "64618a89",
   "metadata": {},
   "outputs": [
    {
     "data": {
      "text/plain": [
       "array(['8', nan, '8.3', '8.5', '6.6', '8.4', '8.6', '7.7', '6.3', '7.4',\n",
       "       '8.2', '9', '7.9', '8.1', '8.7', '7.1', '3.4', '5.3', '4.8', '3.2',\n",
       "       '8.9', '6.4', '7.8', '7.5', '2.6', '7.2', '9.2', '7', '7.3', '4.3',\n",
       "       '7.6', '5.7', '5', '9.1', '6.5', 'tbd', '8.8', '6.9', '9.4', '6.8',\n",
       "       '6.1', '6.7', '5.4', '4', '4.9', '4.5', '9.3', '6.2', '4.2', '6',\n",
       "       '3.7', '4.1', '5.8', '5.6', '5.5', '4.4', '4.6', '5.9', '3.9',\n",
       "       '3.1', '2.9', '5.2', '3.3', '4.7', '5.1', '3.5', '2.5', '1.9', '3',\n",
       "       '2.7', '2.2', '2', '9.5', '2.1', '3.6', '2.8', '1.8', '3.8', '0',\n",
       "       '1.6', '9.6', '2.4', '1.7', '1.1', '0.3', '1.5', '0.7', '1.2',\n",
       "       '2.3', '0.5', '1.3', '0.2', '0.6', '1.4', '0.9', '1', '9.7'],\n",
       "      dtype=object)"
      ]
     },
     "execution_count": 11,
     "metadata": {},
     "output_type": "execute_result"
    }
   ],
   "source": [
    "# при замене типа данных в столбцу с оценкой пользователей\n",
    "# вышла ошибка could not convert string to float: 'tbd'\n",
    "# посмотрим на значения столбца\n",
    "games['user_score'].unique()"
   ]
  },
  {
   "cell_type": "markdown",
   "id": "8b3b2b22",
   "metadata": {},
   "source": [
    "Заменим `year_of_release` и `critic_score`  на целочисленный тип, а `user_score` на вещественый тип. \n",
    "\n",
    "Что касается \"tbd\", то это  аббревиатура от английского To Be Determined (будет определено). Скорее всего отзывов для данной игры нет или их недостаточно, чтобы выставить объективную оценку. В таблице \"tbd\" следует привести к Nan."
   ]
  },
  {
   "cell_type": "code",
   "execution_count": 12,
   "id": "5ecf39b2",
   "metadata": {},
   "outputs": [],
   "source": [
    "games[['year_of_release', 'critic_score']] = games[['year_of_release', 'critic_score']].astype('Int64')"
   ]
  },
  {
   "cell_type": "code",
   "execution_count": 13,
   "id": "436a2fad",
   "metadata": {},
   "outputs": [],
   "source": [
    "games['user_score'] = games['user_score'].replace('tbd', np.NaN)\n",
    "games['user_score'] = games['user_score'].astype('float')"
   ]
  },
  {
   "cell_type": "code",
   "execution_count": 14,
   "id": "18019752",
   "metadata": {},
   "outputs": [
    {
     "name": "stdout",
     "output_type": "stream",
     "text": [
      "<class 'pandas.core.frame.DataFrame'>\n",
      "RangeIndex: 16715 entries, 0 to 16714\n",
      "Data columns (total 11 columns):\n",
      " #   Column           Non-Null Count  Dtype  \n",
      "---  ------           --------------  -----  \n",
      " 0   name             16713 non-null  object \n",
      " 1   platform         16715 non-null  object \n",
      " 2   year_of_release  16446 non-null  Int64  \n",
      " 3   genre            16713 non-null  object \n",
      " 4   na_sales         16715 non-null  float64\n",
      " 5   eu_sales         16715 non-null  float64\n",
      " 6   jp_sales         16715 non-null  float64\n",
      " 7   other_sales      16715 non-null  float64\n",
      " 8   critic_score     8137 non-null   Int64  \n",
      " 9   user_score       7590 non-null   float64\n",
      " 10  rating           9949 non-null   object \n",
      "dtypes: Int64(2), float64(5), object(4)\n",
      "memory usage: 1.4+ MB\n"
     ]
    }
   ],
   "source": [
    "games.info()"
   ]
  },
  {
   "cell_type": "markdown",
   "id": "6e322b31",
   "metadata": {},
   "source": [
    "### Обработка пропусков"
   ]
  },
  {
   "cell_type": "code",
   "execution_count": 15,
   "id": "7c24c119",
   "metadata": {},
   "outputs": [
    {
     "data": {
      "text/plain": [
       "user_score         9125\n",
       "critic_score       8578\n",
       "rating             6766\n",
       "year_of_release     269\n",
       "name                  2\n",
       "genre                 2\n",
       "platform              0\n",
       "na_sales              0\n",
       "eu_sales              0\n",
       "jp_sales              0\n",
       "other_sales           0\n",
       "dtype: int64"
      ]
     },
     "execution_count": 15,
     "metadata": {},
     "output_type": "execute_result"
    }
   ],
   "source": [
    "games.isna().sum().sort_values(ascending=False)"
   ]
  },
  {
   "cell_type": "code",
   "execution_count": 16,
   "id": "f1822657",
   "metadata": {},
   "outputs": [
    {
     "data": {
      "text/html": [
       "<div>\n",
       "<style scoped>\n",
       "    .dataframe tbody tr th:only-of-type {\n",
       "        vertical-align: middle;\n",
       "    }\n",
       "\n",
       "    .dataframe tbody tr th {\n",
       "        vertical-align: top;\n",
       "    }\n",
       "\n",
       "    .dataframe thead th {\n",
       "        text-align: right;\n",
       "    }\n",
       "</style>\n",
       "<table border=\"1\" class=\"dataframe\">\n",
       "  <thead>\n",
       "    <tr style=\"text-align: right;\">\n",
       "      <th></th>\n",
       "      <th>name</th>\n",
       "      <th>platform</th>\n",
       "      <th>year_of_release</th>\n",
       "      <th>genre</th>\n",
       "      <th>na_sales</th>\n",
       "      <th>eu_sales</th>\n",
       "      <th>jp_sales</th>\n",
       "      <th>other_sales</th>\n",
       "      <th>critic_score</th>\n",
       "      <th>user_score</th>\n",
       "      <th>rating</th>\n",
       "    </tr>\n",
       "  </thead>\n",
       "  <tbody>\n",
       "    <tr>\n",
       "      <th>659</th>\n",
       "      <td>NaN</td>\n",
       "      <td>GEN</td>\n",
       "      <td>1993</td>\n",
       "      <td>NaN</td>\n",
       "      <td>1.78</td>\n",
       "      <td>0.53</td>\n",
       "      <td>0.00</td>\n",
       "      <td>0.08</td>\n",
       "      <td>&lt;NA&gt;</td>\n",
       "      <td>NaN</td>\n",
       "      <td>NaN</td>\n",
       "    </tr>\n",
       "    <tr>\n",
       "      <th>14244</th>\n",
       "      <td>NaN</td>\n",
       "      <td>GEN</td>\n",
       "      <td>1993</td>\n",
       "      <td>NaN</td>\n",
       "      <td>0.00</td>\n",
       "      <td>0.00</td>\n",
       "      <td>0.03</td>\n",
       "      <td>0.00</td>\n",
       "      <td>&lt;NA&gt;</td>\n",
       "      <td>NaN</td>\n",
       "      <td>NaN</td>\n",
       "    </tr>\n",
       "  </tbody>\n",
       "</table>\n",
       "</div>"
      ],
      "text/plain": [
       "      name platform  year_of_release genre  na_sales  eu_sales  jp_sales  \\\n",
       "659    NaN      GEN             1993   NaN      1.78      0.53      0.00   \n",
       "14244  NaN      GEN             1993   NaN      0.00      0.00      0.03   \n",
       "\n",
       "       other_sales  critic_score  user_score rating  \n",
       "659           0.08          <NA>         NaN    NaN  \n",
       "14244         0.00          <NA>         NaN    NaN  "
      ]
     },
     "execution_count": 16,
     "metadata": {},
     "output_type": "execute_result"
    }
   ],
   "source": [
    "games.query('name.isna()')"
   ]
  },
  {
   "cell_type": "code",
   "execution_count": 17,
   "id": "cde31dfa",
   "metadata": {},
   "outputs": [
    {
     "data": {
      "text/html": [
       "<div>\n",
       "<style scoped>\n",
       "    .dataframe tbody tr th:only-of-type {\n",
       "        vertical-align: middle;\n",
       "    }\n",
       "\n",
       "    .dataframe tbody tr th {\n",
       "        vertical-align: top;\n",
       "    }\n",
       "\n",
       "    .dataframe thead th {\n",
       "        text-align: right;\n",
       "    }\n",
       "</style>\n",
       "<table border=\"1\" class=\"dataframe\">\n",
       "  <thead>\n",
       "    <tr style=\"text-align: right;\">\n",
       "      <th></th>\n",
       "      <th>name</th>\n",
       "      <th>platform</th>\n",
       "      <th>year_of_release</th>\n",
       "      <th>genre</th>\n",
       "      <th>na_sales</th>\n",
       "      <th>eu_sales</th>\n",
       "      <th>jp_sales</th>\n",
       "      <th>other_sales</th>\n",
       "      <th>critic_score</th>\n",
       "      <th>user_score</th>\n",
       "      <th>rating</th>\n",
       "    </tr>\n",
       "  </thead>\n",
       "  <tbody>\n",
       "    <tr>\n",
       "      <th>659</th>\n",
       "      <td>NaN</td>\n",
       "      <td>GEN</td>\n",
       "      <td>1993</td>\n",
       "      <td>NaN</td>\n",
       "      <td>1.78</td>\n",
       "      <td>0.53</td>\n",
       "      <td>0.00</td>\n",
       "      <td>0.08</td>\n",
       "      <td>&lt;NA&gt;</td>\n",
       "      <td>NaN</td>\n",
       "      <td>NaN</td>\n",
       "    </tr>\n",
       "    <tr>\n",
       "      <th>14244</th>\n",
       "      <td>NaN</td>\n",
       "      <td>GEN</td>\n",
       "      <td>1993</td>\n",
       "      <td>NaN</td>\n",
       "      <td>0.00</td>\n",
       "      <td>0.00</td>\n",
       "      <td>0.03</td>\n",
       "      <td>0.00</td>\n",
       "      <td>&lt;NA&gt;</td>\n",
       "      <td>NaN</td>\n",
       "      <td>NaN</td>\n",
       "    </tr>\n",
       "  </tbody>\n",
       "</table>\n",
       "</div>"
      ],
      "text/plain": [
       "      name platform  year_of_release genre  na_sales  eu_sales  jp_sales  \\\n",
       "659    NaN      GEN             1993   NaN      1.78      0.53      0.00   \n",
       "14244  NaN      GEN             1993   NaN      0.00      0.00      0.03   \n",
       "\n",
       "       other_sales  critic_score  user_score rating  \n",
       "659           0.08          <NA>         NaN    NaN  \n",
       "14244         0.00          <NA>         NaN    NaN  "
      ]
     },
     "execution_count": 17,
     "metadata": {},
     "output_type": "execute_result"
    }
   ],
   "source": [
    "games.query('genre.isna()')"
   ]
  },
  {
   "cell_type": "markdown",
   "id": "1fef8a1f",
   "metadata": {},
   "source": [
    "Больше всего пропусков в столбцах с оценками пользователей и критиков. Заполнять значения средними или медианными некорректно, т.к. для каждой игры свои оценки и они никак не зависят от других игр. Нулями данные пропуски тоже не заполнить, т.к. по крайней мере, в столбце с оценкой пользователя есть реальная оценка 0. Исходя из этого, отсутствуют подходящие значения для замены пропусков. \n",
    "\n",
    "Значительное количество пропусков и в столбце с рейтингом. Но т.к. этот рейтинг присваевается конкретной организацией ESRB, может быть эти игры непопулярные и еще не были оценены этой организацией. Заменим пропуски на \"no_esrb_rating\".\n",
    "\n",
    "Есть немного пропусков в столбце с годом релиза. Средние, медианные или константы не подходят для замены пропусков. Т.к. колчество незначительно, то пропуски не повлияют на результаты анализа. \n",
    "\n",
    "Также есть небольшое количество пропусков в столбцах с названием игры и жанром. Это одни и те же игры, но у них есть данные о продажах, которые нужны для анализа. Заполним их также как столбец с рейтингом на \"no_name\" и \"no_genre\"."
   ]
  },
  {
   "cell_type": "code",
   "execution_count": 18,
   "id": "e8f7a11d",
   "metadata": {},
   "outputs": [],
   "source": [
    "games['rating'] = games['rating'].fillna('no_esrb_rating')\n",
    "games['name'] = games['name'].fillna('no_name')\n",
    "games['genre'] = games['genre'].fillna('no_genre')"
   ]
  },
  {
   "cell_type": "code",
   "execution_count": 19,
   "id": "aa4d9836",
   "metadata": {},
   "outputs": [
    {
     "data": {
      "text/plain": [
       "user_score         9125\n",
       "critic_score       8578\n",
       "year_of_release     269\n",
       "name                  0\n",
       "platform              0\n",
       "genre                 0\n",
       "na_sales              0\n",
       "eu_sales              0\n",
       "jp_sales              0\n",
       "other_sales           0\n",
       "rating                0\n",
       "dtype: int64"
      ]
     },
     "execution_count": 19,
     "metadata": {},
     "output_type": "execute_result"
    }
   ],
   "source": [
    "games.isna().sum().sort_values(ascending=False)"
   ]
  },
  {
   "cell_type": "markdown",
   "id": "fb42b6d1",
   "metadata": {},
   "source": [
    "### Посчёт суммарных продаж во всех регионах"
   ]
  },
  {
   "cell_type": "code",
   "execution_count": 20,
   "id": "4f15fbe8",
   "metadata": {},
   "outputs": [
    {
     "data": {
      "text/html": [
       "<div>\n",
       "<style scoped>\n",
       "    .dataframe tbody tr th:only-of-type {\n",
       "        vertical-align: middle;\n",
       "    }\n",
       "\n",
       "    .dataframe tbody tr th {\n",
       "        vertical-align: top;\n",
       "    }\n",
       "\n",
       "    .dataframe thead th {\n",
       "        text-align: right;\n",
       "    }\n",
       "</style>\n",
       "<table border=\"1\" class=\"dataframe\">\n",
       "  <thead>\n",
       "    <tr style=\"text-align: right;\">\n",
       "      <th></th>\n",
       "      <th>name</th>\n",
       "      <th>platform</th>\n",
       "      <th>year_of_release</th>\n",
       "      <th>genre</th>\n",
       "      <th>na_sales</th>\n",
       "      <th>eu_sales</th>\n",
       "      <th>jp_sales</th>\n",
       "      <th>other_sales</th>\n",
       "      <th>critic_score</th>\n",
       "      <th>user_score</th>\n",
       "      <th>rating</th>\n",
       "      <th>total_sales</th>\n",
       "    </tr>\n",
       "  </thead>\n",
       "  <tbody>\n",
       "    <tr>\n",
       "      <th>0</th>\n",
       "      <td>Wii Sports</td>\n",
       "      <td>Wii</td>\n",
       "      <td>2006</td>\n",
       "      <td>Sports</td>\n",
       "      <td>41.36</td>\n",
       "      <td>28.96</td>\n",
       "      <td>3.77</td>\n",
       "      <td>8.45</td>\n",
       "      <td>76</td>\n",
       "      <td>8.0</td>\n",
       "      <td>E</td>\n",
       "      <td>82.54</td>\n",
       "    </tr>\n",
       "    <tr>\n",
       "      <th>1</th>\n",
       "      <td>Super Mario Bros.</td>\n",
       "      <td>NES</td>\n",
       "      <td>1985</td>\n",
       "      <td>Platform</td>\n",
       "      <td>29.08</td>\n",
       "      <td>3.58</td>\n",
       "      <td>6.81</td>\n",
       "      <td>0.77</td>\n",
       "      <td>&lt;NA&gt;</td>\n",
       "      <td>NaN</td>\n",
       "      <td>no_esrb_rating</td>\n",
       "      <td>40.24</td>\n",
       "    </tr>\n",
       "    <tr>\n",
       "      <th>2</th>\n",
       "      <td>Mario Kart Wii</td>\n",
       "      <td>Wii</td>\n",
       "      <td>2008</td>\n",
       "      <td>Racing</td>\n",
       "      <td>15.68</td>\n",
       "      <td>12.76</td>\n",
       "      <td>3.79</td>\n",
       "      <td>3.29</td>\n",
       "      <td>82</td>\n",
       "      <td>8.3</td>\n",
       "      <td>E</td>\n",
       "      <td>35.52</td>\n",
       "    </tr>\n",
       "    <tr>\n",
       "      <th>3</th>\n",
       "      <td>Wii Sports Resort</td>\n",
       "      <td>Wii</td>\n",
       "      <td>2009</td>\n",
       "      <td>Sports</td>\n",
       "      <td>15.61</td>\n",
       "      <td>10.93</td>\n",
       "      <td>3.28</td>\n",
       "      <td>2.95</td>\n",
       "      <td>80</td>\n",
       "      <td>8.0</td>\n",
       "      <td>E</td>\n",
       "      <td>32.77</td>\n",
       "    </tr>\n",
       "    <tr>\n",
       "      <th>4</th>\n",
       "      <td>Pokemon Red/Pokemon Blue</td>\n",
       "      <td>GB</td>\n",
       "      <td>1996</td>\n",
       "      <td>Role-Playing</td>\n",
       "      <td>11.27</td>\n",
       "      <td>8.89</td>\n",
       "      <td>10.22</td>\n",
       "      <td>1.00</td>\n",
       "      <td>&lt;NA&gt;</td>\n",
       "      <td>NaN</td>\n",
       "      <td>no_esrb_rating</td>\n",
       "      <td>31.38</td>\n",
       "    </tr>\n",
       "  </tbody>\n",
       "</table>\n",
       "</div>"
      ],
      "text/plain": [
       "                       name platform  year_of_release         genre  na_sales  \\\n",
       "0                Wii Sports      Wii             2006        Sports     41.36   \n",
       "1         Super Mario Bros.      NES             1985      Platform     29.08   \n",
       "2            Mario Kart Wii      Wii             2008        Racing     15.68   \n",
       "3         Wii Sports Resort      Wii             2009        Sports     15.61   \n",
       "4  Pokemon Red/Pokemon Blue       GB             1996  Role-Playing     11.27   \n",
       "\n",
       "   eu_sales  jp_sales  other_sales  critic_score  user_score          rating  \\\n",
       "0     28.96      3.77         8.45            76         8.0               E   \n",
       "1      3.58      6.81         0.77          <NA>         NaN  no_esrb_rating   \n",
       "2     12.76      3.79         3.29            82         8.3               E   \n",
       "3     10.93      3.28         2.95            80         8.0               E   \n",
       "4      8.89     10.22         1.00          <NA>         NaN  no_esrb_rating   \n",
       "\n",
       "   total_sales  \n",
       "0        82.54  \n",
       "1        40.24  \n",
       "2        35.52  \n",
       "3        32.77  \n",
       "4        31.38  "
      ]
     },
     "execution_count": 20,
     "metadata": {},
     "output_type": "execute_result"
    }
   ],
   "source": [
    "games['total_sales'] = games['na_sales'] + games['eu_sales'] + games['jp_sales'] + games['other_sales']\n",
    "games.head()"
   ]
  },
  {
   "cell_type": "markdown",
   "id": "e2d66fa1",
   "metadata": {},
   "source": [
    "### Вывод"
   ]
  },
  {
   "cell_type": "markdown",
   "id": "11be42c7",
   "metadata": {},
   "source": [
    "Была проведена подготовка данных для дальнейшего анализа: заменены названия столбцов, некоторые столбцы были преобразованы в нужный тип данных, по возможности были заполнены пропуски. А также, были рассчитаны суммарные продажи по всем регионам и добавлены в отдельный столбец."
   ]
  },
  {
   "cell_type": "markdown",
   "id": "63b6db35",
   "metadata": {},
   "source": [
    "## Исследовательский анализ данных"
   ]
  },
  {
   "cell_type": "markdown",
   "id": "a04ef3b9",
   "metadata": {},
   "source": [
    "### Количество игр, выпускавшихся в разные годы"
   ]
  },
  {
   "cell_type": "code",
   "execution_count": 21,
   "id": "63bb9e05",
   "metadata": {},
   "outputs": [
    {
     "data": {
      "text/plain": [
       "<AxesSubplot:xlabel='year_of_release'>"
      ]
     },
     "execution_count": 21,
     "metadata": {},
     "output_type": "execute_result"
    },
    {
     "data": {
      "image/png": "[encoded data removed]",
      "text/plain": [
       "<Figure size 720x360 with 1 Axes>"
      ]
     },
     "metadata": {
      "needs_background": "light"
     },
     "output_type": "display_data"
    }
   ],
   "source": [
    "games.groupby('year_of_release')['year_of_release'].count().plot(kind='bar', figsize=(10, 5))"
   ]
  },
  {
   "cell_type": "markdown",
   "id": "81720d6e",
   "metadata": {},
   "source": [
    "Видим, что до 1994 года, количество выпускаемых игр было незначительно. Далее наблюдаем устойчивый рост, пик которого достигает в 2008-2009 годах. В дальнейшем наблюдается спад."
   ]
  },
  {
   "cell_type": "markdown",
   "id": "8aa84ff5",
   "metadata": {},
   "source": [
    "### Изменения по продажам в зависимости от платформы"
   ]
  },
  {
   "cell_type": "code",
   "execution_count": 22,
   "id": "3d34cc0a",
   "metadata": {},
   "outputs": [
    {
     "data": {
      "text/plain": [
       "<AxesSubplot:xlabel='platform'>"
      ]
     },
     "execution_count": 22,
     "metadata": {},
     "output_type": "execute_result"
    },
    {
     "data": {
      "image/png": "[encoded data removed]",
      "text/plain": [
       "<Figure size 720x360 with 1 Axes>"
      ]
     },
     "metadata": {
      "needs_background": "light"
     },
     "output_type": "display_data"
    }
   ],
   "source": [
    "games.groupby('platform')['total_sales'].sum().sort_values(ascending=False).plot(kind='bar', figsize=(10, 5))"
   ]
  },
  {
   "cell_type": "markdown",
   "id": "bc3ad567",
   "metadata": {},
   "source": [
    "Видим, что большинство игр выпускалось для платформы PS2. Но в целом, первые шесть платформ достаточно разительно отличаются остальных. Выделим их и проанализируем подробнее."
   ]
  },
  {
   "cell_type": "code",
   "execution_count": 23,
   "id": "b26fc862",
   "metadata": {},
   "outputs": [
    {
     "data": {
      "text/plain": [
       "platform\n",
       "PS2     1255.77\n",
       "X360     971.42\n",
       "PS3      939.65\n",
       "Wii      907.51\n",
       "DS       806.12\n",
       "PS       730.86\n",
       "Name: total_sales, dtype: float64"
      ]
     },
     "execution_count": 23,
     "metadata": {},
     "output_type": "execute_result"
    }
   ],
   "source": [
    "# выделим платформы в отдельную таблицу\n",
    "top_6_platforms = (\n",
    "    games\n",
    "    .groupby('platform')['total_sales']\n",
    "    .sum()\n",
    "    .sort_values(ascending=False)\n",
    "    .head(6)\n",
    ")    \n",
    "top_6_platforms"
   ]
  },
  {
   "cell_type": "code",
   "execution_count": 24,
   "id": "96c3705e",
   "metadata": {},
   "outputs": [
    {
     "data": {
      "text/html": [
       "<div>\n",
       "<style scoped>\n",
       "    .dataframe tbody tr th:only-of-type {\n",
       "        vertical-align: middle;\n",
       "    }\n",
       "\n",
       "    .dataframe tbody tr th {\n",
       "        vertical-align: top;\n",
       "    }\n",
       "\n",
       "    .dataframe thead th {\n",
       "        text-align: right;\n",
       "    }\n",
       "</style>\n",
       "<table border=\"1\" class=\"dataframe\">\n",
       "  <thead>\n",
       "    <tr style=\"text-align: right;\">\n",
       "      <th>platform</th>\n",
       "      <th>PS2</th>\n",
       "      <th>X360</th>\n",
       "      <th>PS3</th>\n",
       "      <th>Wii</th>\n",
       "      <th>DS</th>\n",
       "      <th>PS</th>\n",
       "    </tr>\n",
       "    <tr>\n",
       "      <th>year_of_release</th>\n",
       "      <th></th>\n",
       "      <th></th>\n",
       "      <th></th>\n",
       "      <th></th>\n",
       "      <th></th>\n",
       "      <th></th>\n",
       "    </tr>\n",
       "  </thead>\n",
       "  <tbody>\n",
       "    <tr>\n",
       "      <th>1980</th>\n",
       "      <td>NaN</td>\n",
       "      <td>NaN</td>\n",
       "      <td>NaN</td>\n",
       "      <td>NaN</td>\n",
       "      <td>NaN</td>\n",
       "      <td>NaN</td>\n",
       "    </tr>\n",
       "    <tr>\n",
       "      <th>1981</th>\n",
       "      <td>NaN</td>\n",
       "      <td>NaN</td>\n",
       "      <td>NaN</td>\n",
       "      <td>NaN</td>\n",
       "      <td>NaN</td>\n",
       "      <td>NaN</td>\n",
       "    </tr>\n",
       "    <tr>\n",
       "      <th>1982</th>\n",
       "      <td>NaN</td>\n",
       "      <td>NaN</td>\n",
       "      <td>NaN</td>\n",
       "      <td>NaN</td>\n",
       "      <td>NaN</td>\n",
       "      <td>NaN</td>\n",
       "    </tr>\n",
       "    <tr>\n",
       "      <th>1983</th>\n",
       "      <td>NaN</td>\n",
       "      <td>NaN</td>\n",
       "      <td>NaN</td>\n",
       "      <td>NaN</td>\n",
       "      <td>NaN</td>\n",
       "      <td>NaN</td>\n",
       "    </tr>\n",
       "    <tr>\n",
       "      <th>1984</th>\n",
       "      <td>NaN</td>\n",
       "      <td>NaN</td>\n",
       "      <td>NaN</td>\n",
       "      <td>NaN</td>\n",
       "      <td>NaN</td>\n",
       "      <td>NaN</td>\n",
       "    </tr>\n",
       "    <tr>\n",
       "      <th>1985</th>\n",
       "      <td>NaN</td>\n",
       "      <td>NaN</td>\n",
       "      <td>NaN</td>\n",
       "      <td>NaN</td>\n",
       "      <td>0.02</td>\n",
       "      <td>NaN</td>\n",
       "    </tr>\n",
       "    <tr>\n",
       "      <th>1986</th>\n",
       "      <td>NaN</td>\n",
       "      <td>NaN</td>\n",
       "      <td>NaN</td>\n",
       "      <td>NaN</td>\n",
       "      <td>NaN</td>\n",
       "      <td>NaN</td>\n",
       "    </tr>\n",
       "    <tr>\n",
       "      <th>1987</th>\n",
       "      <td>NaN</td>\n",
       "      <td>NaN</td>\n",
       "      <td>NaN</td>\n",
       "      <td>NaN</td>\n",
       "      <td>NaN</td>\n",
       "      <td>NaN</td>\n",
       "    </tr>\n",
       "    <tr>\n",
       "      <th>1988</th>\n",
       "      <td>NaN</td>\n",
       "      <td>NaN</td>\n",
       "      <td>NaN</td>\n",
       "      <td>NaN</td>\n",
       "      <td>NaN</td>\n",
       "      <td>NaN</td>\n",
       "    </tr>\n",
       "    <tr>\n",
       "      <th>1989</th>\n",
       "      <td>NaN</td>\n",
       "      <td>NaN</td>\n",
       "      <td>NaN</td>\n",
       "      <td>NaN</td>\n",
       "      <td>NaN</td>\n",
       "      <td>NaN</td>\n",
       "    </tr>\n",
       "    <tr>\n",
       "      <th>1990</th>\n",
       "      <td>NaN</td>\n",
       "      <td>NaN</td>\n",
       "      <td>NaN</td>\n",
       "      <td>NaN</td>\n",
       "      <td>NaN</td>\n",
       "      <td>NaN</td>\n",
       "    </tr>\n",
       "    <tr>\n",
       "      <th>1991</th>\n",
       "      <td>NaN</td>\n",
       "      <td>NaN</td>\n",
       "      <td>NaN</td>\n",
       "      <td>NaN</td>\n",
       "      <td>NaN</td>\n",
       "      <td>NaN</td>\n",
       "    </tr>\n",
       "    <tr>\n",
       "      <th>1992</th>\n",
       "      <td>NaN</td>\n",
       "      <td>NaN</td>\n",
       "      <td>NaN</td>\n",
       "      <td>NaN</td>\n",
       "      <td>NaN</td>\n",
       "      <td>NaN</td>\n",
       "    </tr>\n",
       "    <tr>\n",
       "      <th>1993</th>\n",
       "      <td>NaN</td>\n",
       "      <td>NaN</td>\n",
       "      <td>NaN</td>\n",
       "      <td>NaN</td>\n",
       "      <td>NaN</td>\n",
       "      <td>NaN</td>\n",
       "    </tr>\n",
       "    <tr>\n",
       "      <th>1994</th>\n",
       "      <td>NaN</td>\n",
       "      <td>NaN</td>\n",
       "      <td>NaN</td>\n",
       "      <td>NaN</td>\n",
       "      <td>NaN</td>\n",
       "      <td>6.03</td>\n",
       "    </tr>\n",
       "    <tr>\n",
       "      <th>1995</th>\n",
       "      <td>NaN</td>\n",
       "      <td>NaN</td>\n",
       "      <td>NaN</td>\n",
       "      <td>NaN</td>\n",
       "      <td>NaN</td>\n",
       "      <td>35.96</td>\n",
       "    </tr>\n",
       "    <tr>\n",
       "      <th>1996</th>\n",
       "      <td>NaN</td>\n",
       "      <td>NaN</td>\n",
       "      <td>NaN</td>\n",
       "      <td>NaN</td>\n",
       "      <td>NaN</td>\n",
       "      <td>94.70</td>\n",
       "    </tr>\n",
       "    <tr>\n",
       "      <th>1997</th>\n",
       "      <td>NaN</td>\n",
       "      <td>NaN</td>\n",
       "      <td>NaN</td>\n",
       "      <td>NaN</td>\n",
       "      <td>NaN</td>\n",
       "      <td>136.17</td>\n",
       "    </tr>\n",
       "    <tr>\n",
       "      <th>1998</th>\n",
       "      <td>NaN</td>\n",
       "      <td>NaN</td>\n",
       "      <td>NaN</td>\n",
       "      <td>NaN</td>\n",
       "      <td>NaN</td>\n",
       "      <td>169.49</td>\n",
       "    </tr>\n",
       "    <tr>\n",
       "      <th>1999</th>\n",
       "      <td>NaN</td>\n",
       "      <td>NaN</td>\n",
       "      <td>NaN</td>\n",
       "      <td>NaN</td>\n",
       "      <td>NaN</td>\n",
       "      <td>144.53</td>\n",
       "    </tr>\n",
       "    <tr>\n",
       "      <th>2000</th>\n",
       "      <td>39.17</td>\n",
       "      <td>NaN</td>\n",
       "      <td>NaN</td>\n",
       "      <td>NaN</td>\n",
       "      <td>NaN</td>\n",
       "      <td>96.37</td>\n",
       "    </tr>\n",
       "    <tr>\n",
       "      <th>2001</th>\n",
       "      <td>166.43</td>\n",
       "      <td>NaN</td>\n",
       "      <td>NaN</td>\n",
       "      <td>NaN</td>\n",
       "      <td>NaN</td>\n",
       "      <td>35.59</td>\n",
       "    </tr>\n",
       "    <tr>\n",
       "      <th>2002</th>\n",
       "      <td>205.38</td>\n",
       "      <td>NaN</td>\n",
       "      <td>NaN</td>\n",
       "      <td>NaN</td>\n",
       "      <td>NaN</td>\n",
       "      <td>6.67</td>\n",
       "    </tr>\n",
       "    <tr>\n",
       "      <th>2003</th>\n",
       "      <td>184.31</td>\n",
       "      <td>NaN</td>\n",
       "      <td>NaN</td>\n",
       "      <td>NaN</td>\n",
       "      <td>NaN</td>\n",
       "      <td>2.07</td>\n",
       "    </tr>\n",
       "    <tr>\n",
       "      <th>2004</th>\n",
       "      <td>211.81</td>\n",
       "      <td>NaN</td>\n",
       "      <td>NaN</td>\n",
       "      <td>NaN</td>\n",
       "      <td>17.27</td>\n",
       "      <td>NaN</td>\n",
       "    </tr>\n",
       "    <tr>\n",
       "      <th>2005</th>\n",
       "      <td>160.66</td>\n",
       "      <td>8.25</td>\n",
       "      <td>NaN</td>\n",
       "      <td>NaN</td>\n",
       "      <td>130.14</td>\n",
       "      <td>NaN</td>\n",
       "    </tr>\n",
       "    <tr>\n",
       "      <th>2006</th>\n",
       "      <td>103.42</td>\n",
       "      <td>51.62</td>\n",
       "      <td>20.96</td>\n",
       "      <td>137.15</td>\n",
       "      <td>119.81</td>\n",
       "      <td>NaN</td>\n",
       "    </tr>\n",
       "    <tr>\n",
       "      <th>2007</th>\n",
       "      <td>75.99</td>\n",
       "      <td>95.41</td>\n",
       "      <td>73.19</td>\n",
       "      <td>152.77</td>\n",
       "      <td>146.94</td>\n",
       "      <td>NaN</td>\n",
       "    </tr>\n",
       "    <tr>\n",
       "      <th>2008</th>\n",
       "      <td>53.90</td>\n",
       "      <td>135.26</td>\n",
       "      <td>118.52</td>\n",
       "      <td>171.32</td>\n",
       "      <td>145.31</td>\n",
       "      <td>NaN</td>\n",
       "    </tr>\n",
       "    <tr>\n",
       "      <th>2009</th>\n",
       "      <td>26.40</td>\n",
       "      <td>120.29</td>\n",
       "      <td>130.93</td>\n",
       "      <td>206.97</td>\n",
       "      <td>119.54</td>\n",
       "      <td>NaN</td>\n",
       "    </tr>\n",
       "    <tr>\n",
       "      <th>2010</th>\n",
       "      <td>5.64</td>\n",
       "      <td>170.03</td>\n",
       "      <td>142.17</td>\n",
       "      <td>127.95</td>\n",
       "      <td>85.02</td>\n",
       "      <td>NaN</td>\n",
       "    </tr>\n",
       "    <tr>\n",
       "      <th>2011</th>\n",
       "      <td>0.45</td>\n",
       "      <td>143.84</td>\n",
       "      <td>156.78</td>\n",
       "      <td>59.65</td>\n",
       "      <td>26.18</td>\n",
       "      <td>NaN</td>\n",
       "    </tr>\n",
       "    <tr>\n",
       "      <th>2012</th>\n",
       "      <td>NaN</td>\n",
       "      <td>99.74</td>\n",
       "      <td>107.36</td>\n",
       "      <td>21.71</td>\n",
       "      <td>11.01</td>\n",
       "      <td>NaN</td>\n",
       "    </tr>\n",
       "    <tr>\n",
       "      <th>2013</th>\n",
       "      <td>NaN</td>\n",
       "      <td>88.58</td>\n",
       "      <td>113.25</td>\n",
       "      <td>8.59</td>\n",
       "      <td>1.54</td>\n",
       "      <td>NaN</td>\n",
       "    </tr>\n",
       "    <tr>\n",
       "      <th>2014</th>\n",
       "      <td>NaN</td>\n",
       "      <td>34.74</td>\n",
       "      <td>47.76</td>\n",
       "      <td>3.75</td>\n",
       "      <td>NaN</td>\n",
       "      <td>NaN</td>\n",
       "    </tr>\n",
       "    <tr>\n",
       "      <th>2015</th>\n",
       "      <td>NaN</td>\n",
       "      <td>11.96</td>\n",
       "      <td>16.82</td>\n",
       "      <td>1.14</td>\n",
       "      <td>NaN</td>\n",
       "      <td>NaN</td>\n",
       "    </tr>\n",
       "    <tr>\n",
       "      <th>2016</th>\n",
       "      <td>NaN</td>\n",
       "      <td>1.52</td>\n",
       "      <td>3.60</td>\n",
       "      <td>0.18</td>\n",
       "      <td>NaN</td>\n",
       "      <td>NaN</td>\n",
       "    </tr>\n",
       "  </tbody>\n",
       "</table>\n",
       "</div>"
      ],
      "text/plain": [
       "platform            PS2    X360     PS3     Wii      DS      PS\n",
       "year_of_release                                                \n",
       "1980                NaN     NaN     NaN     NaN     NaN     NaN\n",
       "1981                NaN     NaN     NaN     NaN     NaN     NaN\n",
       "1982                NaN     NaN     NaN     NaN     NaN     NaN\n",
       "1983                NaN     NaN     NaN     NaN     NaN     NaN\n",
       "1984                NaN     NaN     NaN     NaN     NaN     NaN\n",
       "1985                NaN     NaN     NaN     NaN    0.02     NaN\n",
       "1986                NaN     NaN     NaN     NaN     NaN     NaN\n",
       "1987                NaN     NaN     NaN     NaN     NaN     NaN\n",
       "1988                NaN     NaN     NaN     NaN     NaN     NaN\n",
       "1989                NaN     NaN     NaN     NaN     NaN     NaN\n",
       "1990                NaN     NaN     NaN     NaN     NaN     NaN\n",
       "1991                NaN     NaN     NaN     NaN     NaN     NaN\n",
       "1992                NaN     NaN     NaN     NaN     NaN     NaN\n",
       "1993                NaN     NaN     NaN     NaN     NaN     NaN\n",
       "1994                NaN     NaN     NaN     NaN     NaN    6.03\n",
       "1995                NaN     NaN     NaN     NaN     NaN   35.96\n",
       "1996                NaN     NaN     NaN     NaN     NaN   94.70\n",
       "1997                NaN     NaN     NaN     NaN     NaN  136.17\n",
       "1998                NaN     NaN     NaN     NaN     NaN  169.49\n",
       "1999                NaN     NaN     NaN     NaN     NaN  144.53\n",
       "2000              39.17     NaN     NaN     NaN     NaN   96.37\n",
       "2001             166.43     NaN     NaN     NaN     NaN   35.59\n",
       "2002             205.38     NaN     NaN     NaN     NaN    6.67\n",
       "2003             184.31     NaN     NaN     NaN     NaN    2.07\n",
       "2004             211.81     NaN     NaN     NaN   17.27     NaN\n",
       "2005             160.66    8.25     NaN     NaN  130.14     NaN\n",
       "2006             103.42   51.62   20.96  137.15  119.81     NaN\n",
       "2007              75.99   95.41   73.19  152.77  146.94     NaN\n",
       "2008              53.90  135.26  118.52  171.32  145.31     NaN\n",
       "2009              26.40  120.29  130.93  206.97  119.54     NaN\n",
       "2010               5.64  170.03  142.17  127.95   85.02     NaN\n",
       "2011               0.45  143.84  156.78   59.65   26.18     NaN\n",
       "2012                NaN   99.74  107.36   21.71   11.01     NaN\n",
       "2013                NaN   88.58  113.25    8.59    1.54     NaN\n",
       "2014                NaN   34.74   47.76    3.75     NaN     NaN\n",
       "2015                NaN   11.96   16.82    1.14     NaN     NaN\n",
       "2016                NaN    1.52    3.60    0.18     NaN     NaN"
      ]
     },
     "execution_count": 24,
     "metadata": {},
     "output_type": "execute_result"
    }
   ],
   "source": [
    "# создадим сводную таблицу по продажам на платформах в год\n",
    "# и передадим ей индексы интересующих нас платформ\n",
    "sales_per_year = (\n",
    "    games\n",
    "    .pivot_table(index = 'year_of_release', columns = 'platform', values = 'total_sales', aggfunc = 'sum')\n",
    ")    \n",
    "sales_per_year = sales_per_year[top_6_platforms.index]\n",
    "sales_per_year"
   ]
  },
  {
   "cell_type": "code",
   "execution_count": 25,
   "id": "44f1213a",
   "metadata": {},
   "outputs": [
    {
     "data": {
      "text/plain": [
       "Text(0, 0.5, 'Количество проданных игр, млн. копий')"
      ]
     },
     "execution_count": 25,
     "metadata": {},
     "output_type": "execute_result"
    },
    {
     "data": {
      "image/png": "[encoded data removed]",
      "text/plain": [
       "<Figure size 720x360 with 1 Axes>"
      ]
     },
     "metadata": {
      "needs_background": "light"
     },
     "output_type": "display_data"
    }
   ],
   "source": [
    "sales_per_year.plot(grid=True, alpha=0.7, figsize=(10, 5), style='.-', linewidth=3)\n",
    "plt.title(\"Распределение продаж игр по годам среди наиболее популярных платформ\")\n",
    "plt.xlabel(\"Год выпуска игры\")\n",
    "plt.ylabel(\"Количество проданных игр, млн. копий\")"
   ]
  },
  {
   "cell_type": "markdown",
   "id": "e5f363c3",
   "metadata": {},
   "source": [
    "Посмотрим, за какой характерный срок появляются и исчезают платформы:\n",
    "* PS с 1994 по 2003;\n",
    "* PS2 с 2000 по 2011;\n",
    "* DS с 2004 по 2013;\n",
    "* X360 с 2005 по 2016;\n",
    "* Wii с 2006 по 2016;\n",
    "* PS3 с 2006 по 2016.\n",
    "\n",
    "Таким образом, средняя продолжительность существования платформы около 10 лет. Затем на смену приходит следующее поколение консолей с улучшенными характеристиками."
   ]
  },
  {
   "cell_type": "markdown",
   "id": "fcc9e70b",
   "metadata": {},
   "source": [
    "### Анализ продаж за актуальный период"
   ]
  },
  {
   "cell_type": "code",
   "execution_count": 26,
   "id": "7b4f3735",
   "metadata": {},
   "outputs": [],
   "source": [
    "new_games = games.query('year_of_release >= 2014')"
   ]
  },
  {
   "cell_type": "code",
   "execution_count": 27,
   "id": "31e0572e",
   "metadata": {},
   "outputs": [
    {
     "data": {
      "text/plain": [
       "platform\n",
       "PS4     288.15\n",
       "XOne    140.36\n",
       "3DS      86.68\n",
       "PS3      68.18\n",
       "X360     48.22\n",
       "WiiU     42.98\n",
       "PC       27.05\n",
       "PSV      22.40\n",
       "Wii       5.07\n",
       "PSP       0.36\n",
       "Name: total_sales, dtype: float64"
      ]
     },
     "execution_count": 27,
     "metadata": {},
     "output_type": "execute_result"
    }
   ],
   "source": [
    "platforms = new_games.groupby('platform')['total_sales'].sum().sort_values(ascending=False)\n",
    "platforms"
   ]
  },
  {
   "cell_type": "code",
   "execution_count": 28,
   "id": "374b66a4",
   "metadata": {},
   "outputs": [
    {
     "data": {
      "text/html": [
       "<div>\n",
       "<style scoped>\n",
       "    .dataframe tbody tr th:only-of-type {\n",
       "        vertical-align: middle;\n",
       "    }\n",
       "\n",
       "    .dataframe tbody tr th {\n",
       "        vertical-align: top;\n",
       "    }\n",
       "\n",
       "    .dataframe thead th {\n",
       "        text-align: right;\n",
       "    }\n",
       "</style>\n",
       "<table border=\"1\" class=\"dataframe\">\n",
       "  <thead>\n",
       "    <tr style=\"text-align: right;\">\n",
       "      <th>platform</th>\n",
       "      <th>PS4</th>\n",
       "      <th>XOne</th>\n",
       "      <th>3DS</th>\n",
       "      <th>PS3</th>\n",
       "      <th>X360</th>\n",
       "      <th>WiiU</th>\n",
       "      <th>PC</th>\n",
       "      <th>PSV</th>\n",
       "      <th>Wii</th>\n",
       "      <th>PSP</th>\n",
       "    </tr>\n",
       "    <tr>\n",
       "      <th>year_of_release</th>\n",
       "      <th></th>\n",
       "      <th></th>\n",
       "      <th></th>\n",
       "      <th></th>\n",
       "      <th></th>\n",
       "      <th></th>\n",
       "      <th></th>\n",
       "      <th></th>\n",
       "      <th></th>\n",
       "      <th></th>\n",
       "    </tr>\n",
       "  </thead>\n",
       "  <tbody>\n",
       "    <tr>\n",
       "      <th>2014</th>\n",
       "      <td>100.00</td>\n",
       "      <td>54.07</td>\n",
       "      <td>43.76</td>\n",
       "      <td>47.76</td>\n",
       "      <td>34.74</td>\n",
       "      <td>22.03</td>\n",
       "      <td>13.28</td>\n",
       "      <td>11.90</td>\n",
       "      <td>3.75</td>\n",
       "      <td>0.24</td>\n",
       "    </tr>\n",
       "    <tr>\n",
       "      <th>2015</th>\n",
       "      <td>118.90</td>\n",
       "      <td>60.14</td>\n",
       "      <td>27.78</td>\n",
       "      <td>16.82</td>\n",
       "      <td>11.96</td>\n",
       "      <td>16.35</td>\n",
       "      <td>8.52</td>\n",
       "      <td>6.25</td>\n",
       "      <td>1.14</td>\n",
       "      <td>0.12</td>\n",
       "    </tr>\n",
       "    <tr>\n",
       "      <th>2016</th>\n",
       "      <td>69.25</td>\n",
       "      <td>26.15</td>\n",
       "      <td>15.14</td>\n",
       "      <td>3.60</td>\n",
       "      <td>1.52</td>\n",
       "      <td>4.60</td>\n",
       "      <td>5.25</td>\n",
       "      <td>4.25</td>\n",
       "      <td>0.18</td>\n",
       "      <td>NaN</td>\n",
       "    </tr>\n",
       "  </tbody>\n",
       "</table>\n",
       "</div>"
      ],
      "text/plain": [
       "platform            PS4   XOne    3DS    PS3   X360   WiiU     PC    PSV  \\\n",
       "year_of_release                                                            \n",
       "2014             100.00  54.07  43.76  47.76  34.74  22.03  13.28  11.90   \n",
       "2015             118.90  60.14  27.78  16.82  11.96  16.35   8.52   6.25   \n",
       "2016              69.25  26.15  15.14   3.60   1.52   4.60   5.25   4.25   \n",
       "\n",
       "platform          Wii   PSP  \n",
       "year_of_release              \n",
       "2014             3.75  0.24  \n",
       "2015             1.14  0.12  \n",
       "2016             0.18   NaN  "
      ]
     },
     "execution_count": 28,
     "metadata": {},
     "output_type": "execute_result"
    }
   ],
   "source": [
    "sales_per_year = (\n",
    "    new_games\n",
    "    .pivot_table(index = 'year_of_release', columns = 'platform', values = 'total_sales', aggfunc = 'sum')\n",
    ")\n",
    "sales_per_year = sales_per_year[platforms.index]\n",
    "sales_per_year"
   ]
  },
  {
   "cell_type": "code",
   "execution_count": 29,
   "id": "3c85b90a",
   "metadata": {},
   "outputs": [
    {
     "data": {
      "text/plain": [
       "<AxesSubplot:xlabel='year_of_release'>"
      ]
     },
     "execution_count": 29,
     "metadata": {},
     "output_type": "execute_result"
    },
    {
     "data": {
      "image/png": "[encoded data removed]",
      "text/plain": [
       "<Figure size 1008x648 with 1 Axes>"
      ]
     },
     "metadata": {
      "needs_background": "light"
     },
     "output_type": "display_data"
    }
   ],
   "source": [
    "sales_per_year.plot(grid=True, alpha=0.7, figsize=(14, 9), style='.-', linewidth=3)"
   ]
  },
  {
   "cell_type": "markdown",
   "id": "b83bed8e",
   "metadata": {},
   "source": [
    "На графике видно, что все платформы к 2016 году показали падение. Среди лидеров по продажам можно отметить PS4, XOne и 3DS. Выделим их как потенциально прибыльные платформы."
   ]
  },
  {
   "cell_type": "markdown",
   "id": "f602c8ba",
   "metadata": {},
   "source": [
    "### Диаграммы размаха "
   ]
  },
  {
   "cell_type": "code",
   "execution_count": 30,
   "id": "00e0dfaf",
   "metadata": {},
   "outputs": [
    {
     "data": {
      "text/plain": [
       "count    1689.000000\n",
       "mean        0.431883\n",
       "std         1.056109\n",
       "min         0.010000\n",
       "25%         0.030000\n",
       "50%         0.100000\n",
       "75%         0.350000\n",
       "max        14.630000\n",
       "Name: total_sales, dtype: float64"
      ]
     },
     "execution_count": 30,
     "metadata": {},
     "output_type": "execute_result"
    }
   ],
   "source": [
    "new_games['total_sales'].describe()"
   ]
  },
  {
   "cell_type": "code",
   "execution_count": 31,
   "id": "a232ea42",
   "metadata": {},
   "outputs": [
    {
     "data": {
      "text/plain": [
       "<AxesSubplot:>"
      ]
     },
     "execution_count": 31,
     "metadata": {},
     "output_type": "execute_result"
    },
    {
     "data": {
      "image/png": "[encoded data removed]",
      "text/plain": [
       "<Figure size 432x288 with 1 Axes>"
      ]
     },
     "metadata": {
      "needs_background": "light"
     },
     "output_type": "display_data"
    }
   ],
   "source": [
    "new_games.boxplot(column='total_sales')"
   ]
  },
  {
   "cell_type": "code",
   "execution_count": 32,
   "id": "9c2bfc3a",
   "metadata": {},
   "outputs": [
    {
     "data": {
      "text/plain": [
       "(0.0, 1.5)"
      ]
     },
     "execution_count": 32,
     "metadata": {},
     "output_type": "execute_result"
    },
    {
     "data": {
      "image/png": "[encoded data removed]",
      "text/plain": [
       "<Figure size 432x288 with 1 Axes>"
      ]
     },
     "metadata": {
      "needs_background": "light"
     },
     "output_type": "display_data"
    }
   ],
   "source": [
    "new_games.boxplot(column='total_sales').set_ylim(0, 1.5)"
   ]
  },
  {
   "cell_type": "markdown",
   "id": "3ff584d4",
   "metadata": {},
   "source": [
    "Нормальные значения всех продаж доходят до 810 тыс. копий. Медиана находится на значении около 100 тыс. копий."
   ]
  },
  {
   "cell_type": "code",
   "execution_count": 33,
   "id": "26836cde",
   "metadata": {},
   "outputs": [],
   "source": [
    "top_3 = (new_games[(new_games['platform'] == 'PS4') | \n",
    "                   (new_games['platform'] == 'XOne') | \n",
    "                   (new_games['platform'] == '3DS')].reset_index())"
   ]
  },
  {
   "cell_type": "code",
   "execution_count": 34,
   "id": "ec7b8744",
   "metadata": {},
   "outputs": [
    {
     "data": {
      "text/plain": [
       "Text(0, 0.5, 'Количество проданных игр, млн. копий')"
      ]
     },
     "execution_count": 34,
     "metadata": {},
     "output_type": "execute_result"
    },
    {
     "data": {
      "image/png": "[encoded data removed]",
      "text/plain": [
       "<Figure size 864x504 with 1 Axes>"
      ]
     },
     "metadata": {
      "needs_background": "light"
     },
     "output_type": "display_data"
    }
   ],
   "source": [
    "top_3.boxplot(column = 'total_sales', by='platform', figsize=(12, 7))\n",
    "plt.title('Диаграммы размаха по глобальным продажам игр в разбивке по платформам')\n",
    "plt.xlabel(\"Потенциально прибыльные платформы\")\n",
    "plt.ylabel(\"Количество проданных игр, млн. копий\")"
   ]
  },
  {
   "cell_type": "code",
   "execution_count": 35,
   "id": "8885e40e",
   "metadata": {},
   "outputs": [
    {
     "data": {
      "text/plain": [
       "Text(0, 0.5, 'Количество проданных игр, млн. копий')"
      ]
     },
     "execution_count": 35,
     "metadata": {},
     "output_type": "execute_result"
    },
    {
     "data": {
      "image/png": "[encoded data removed]",
      "text/plain": [
       "<Figure size 864x504 with 1 Axes>"
      ]
     },
     "metadata": {
      "needs_background": "light"
     },
     "output_type": "display_data"
    }
   ],
   "source": [
    "top_3.boxplot(column = 'total_sales', by='platform', figsize=(12, 7)).set_ylim(0, 1.8)\n",
    "plt.title('Диаграммы размаха по глобальным продажам игр в разбивке по платформам')\n",
    "plt.xlabel(\"Потенциально прибыльные платформы\")\n",
    "plt.ylabel(\"Количество проданных игр, млн. копий\")"
   ]
  },
  {
   "cell_type": "markdown",
   "id": "0038b83f",
   "metadata": {},
   "source": [
    "Медианные значения проданных копий для платформы 3DS составляют около 100 тыс. копий, PS4 - около 200 тыс. копий, а XOne - 200 тыс копий. Нормальные значения продаж ограничиваются 590 тыс. копий для платформы 3DS, около 1,55 млн. копий для платформы PS4 и около 1,5 млн. копий для XOne."
   ]
  },
  {
   "cell_type": "markdown",
   "id": "e63a272b",
   "metadata": {},
   "source": [
    "### Влияние оценок пользователей и критиков на продажи внутри платформы"
   ]
  },
  {
   "cell_type": "code",
   "execution_count": 36,
   "id": "ed833092",
   "metadata": {},
   "outputs": [
    {
     "data": {
      "text/plain": [
       "Text(0, 0.5, 'Количество проданных игр, млн. копий')"
      ]
     },
     "execution_count": 36,
     "metadata": {},
     "output_type": "execute_result"
    },
    {
     "data": {
      "image/png": "[encoded data removed]",
      "text/plain": [
       "<Figure size 432x288 with 1 Axes>"
      ]
     },
     "metadata": {
      "needs_background": "light"
     },
     "output_type": "display_data"
    }
   ],
   "source": [
    "top_3.query('platform == \"PS4\"').plot(x='critic_score', y='total_sales', kind='scatter')\n",
    "plt.title('График зависимости продаж от оценки критиков внутри платформы PS4')\n",
    "plt.xlabel(\"Оценки критиков\")\n",
    "plt.ylabel(\"Количество проданных игр, млн. копий\")"
   ]
  },
  {
   "cell_type": "code",
   "execution_count": 37,
   "id": "146adf6c",
   "metadata": {},
   "outputs": [
    {
     "data": {
      "text/plain": [
       "Text(0, 0.5, 'Количество проданных игр, млн. копий')"
      ]
     },
     "execution_count": 37,
     "metadata": {},
     "output_type": "execute_result"
    },
    {
     "data": {
      "image/png": "[encoded data removed]",
      "text/plain": [
       "<Figure size 432x288 with 1 Axes>"
      ]
     },
     "metadata": {
      "needs_background": "light"
     },
     "output_type": "display_data"
    }
   ],
   "source": [
    "top_3.query('platform == \"PS4\"').plot(x='user_score', y='total_sales', kind='scatter')\n",
    "plt.title('График зависимости продаж от оценки игроков внутри платформы PS4')\n",
    "plt.xlabel(\"Оценки игроков\")\n",
    "plt.ylabel(\"Количество проданных игр, млн. копий\")"
   ]
  },
  {
   "cell_type": "code",
   "execution_count": 38,
   "id": "2c7ca962",
   "metadata": {},
   "outputs": [
    {
     "data": {
      "text/html": [
       "<div>\n",
       "<style scoped>\n",
       "    .dataframe tbody tr th:only-of-type {\n",
       "        vertical-align: middle;\n",
       "    }\n",
       "\n",
       "    .dataframe tbody tr th {\n",
       "        vertical-align: top;\n",
       "    }\n",
       "\n",
       "    .dataframe thead th {\n",
       "        text-align: right;\n",
       "    }\n",
       "</style>\n",
       "<table border=\"1\" class=\"dataframe\">\n",
       "  <thead>\n",
       "    <tr style=\"text-align: right;\">\n",
       "      <th></th>\n",
       "      <th>total_sales</th>\n",
       "      <th>critic_score</th>\n",
       "      <th>user_score</th>\n",
       "    </tr>\n",
       "  </thead>\n",
       "  <tbody>\n",
       "    <tr>\n",
       "      <th>total_sales</th>\n",
       "      <td>1.000000</td>\n",
       "      <td>0.402661</td>\n",
       "      <td>-0.040132</td>\n",
       "    </tr>\n",
       "    <tr>\n",
       "      <th>critic_score</th>\n",
       "      <td>0.402661</td>\n",
       "      <td>1.000000</td>\n",
       "      <td>0.546434</td>\n",
       "    </tr>\n",
       "    <tr>\n",
       "      <th>user_score</th>\n",
       "      <td>-0.040132</td>\n",
       "      <td>0.546434</td>\n",
       "      <td>1.000000</td>\n",
       "    </tr>\n",
       "  </tbody>\n",
       "</table>\n",
       "</div>"
      ],
      "text/plain": [
       "              total_sales  critic_score  user_score\n",
       "total_sales      1.000000      0.402661   -0.040132\n",
       "critic_score     0.402661      1.000000    0.546434\n",
       "user_score      -0.040132      0.546434    1.000000"
      ]
     },
     "execution_count": 38,
     "metadata": {},
     "output_type": "execute_result"
    }
   ],
   "source": [
    "top_3.query('platform == \"PS4\"')[['total_sales', 'critic_score', 'user_score']].corr()"
   ]
  },
  {
   "cell_type": "markdown",
   "id": "627632cc",
   "metadata": {},
   "source": [
    "Для платформы PS4 на графике видим положительную корреляцию между продажами и оценкой критиков. На это указывает и коэффициент корреляции в 0,4, что говорит о слабой взаимосвязи. Что касается оценок игроков, то существенной взаимосвязи не замечано."
   ]
  },
  {
   "cell_type": "code",
   "execution_count": 39,
   "id": "b3fe4503",
   "metadata": {},
   "outputs": [
    {
     "data": {
      "text/plain": [
       "Text(0, 0.5, 'Количество проданных игр, млн. копий')"
      ]
     },
     "execution_count": 39,
     "metadata": {},
     "output_type": "execute_result"
    },
    {
     "data": {
      "image/png": "[encoded data removed]",
      "text/plain": [
       "<Figure size 432x288 with 1 Axes>"
      ]
     },
     "metadata": {
      "needs_background": "light"
     },
     "output_type": "display_data"
    }
   ],
   "source": [
    "top_3.query('platform == \"XOne\"').plot(x='critic_score', y='total_sales', kind='scatter')\n",
    "plt.title('График зависимости продаж от оценки критиков внутри платформы XOne')\n",
    "plt.xlabel(\"Оценки критиков\")\n",
    "plt.ylabel(\"Количество проданных игр, млн. копий\")"
   ]
  },
  {
   "cell_type": "code",
   "execution_count": 40,
   "id": "38dc4a8c",
   "metadata": {},
   "outputs": [
    {
     "data": {
      "text/plain": [
       "Text(0, 0.5, 'Количество проданных игр, млн. копий')"
      ]
     },
     "execution_count": 40,
     "metadata": {},
     "output_type": "execute_result"
    },
    {
     "data": {
      "image/png": "[encoded data removed]",
      "text/plain": [
       "<Figure size 432x288 with 1 Axes>"
      ]
     },
     "metadata": {
      "needs_background": "light"
     },
     "output_type": "display_data"
    }
   ],
   "source": [
    "top_3.query('platform == \"XOne\"').plot(x='user_score', y='total_sales', kind='scatter')\n",
    "plt.title('График зависимости продаж от оценки игроков внутри платформы XOne')\n",
    "plt.xlabel(\"Оценки игроков\")\n",
    "plt.ylabel(\"Количество проданных игр, млн. копий\")"
   ]
  },
  {
   "cell_type": "code",
   "execution_count": 41,
   "id": "0260bdf9",
   "metadata": {},
   "outputs": [
    {
     "data": {
      "text/html": [
       "<div>\n",
       "<style scoped>\n",
       "    .dataframe tbody tr th:only-of-type {\n",
       "        vertical-align: middle;\n",
       "    }\n",
       "\n",
       "    .dataframe tbody tr th {\n",
       "        vertical-align: top;\n",
       "    }\n",
       "\n",
       "    .dataframe thead th {\n",
       "        text-align: right;\n",
       "    }\n",
       "</style>\n",
       "<table border=\"1\" class=\"dataframe\">\n",
       "  <thead>\n",
       "    <tr style=\"text-align: right;\">\n",
       "      <th></th>\n",
       "      <th>total_sales</th>\n",
       "      <th>critic_score</th>\n",
       "      <th>user_score</th>\n",
       "    </tr>\n",
       "  </thead>\n",
       "  <tbody>\n",
       "    <tr>\n",
       "      <th>total_sales</th>\n",
       "      <td>1.000000</td>\n",
       "      <td>0.428677</td>\n",
       "      <td>-0.070384</td>\n",
       "    </tr>\n",
       "    <tr>\n",
       "      <th>critic_score</th>\n",
       "      <td>0.428677</td>\n",
       "      <td>1.000000</td>\n",
       "      <td>0.440977</td>\n",
       "    </tr>\n",
       "    <tr>\n",
       "      <th>user_score</th>\n",
       "      <td>-0.070384</td>\n",
       "      <td>0.440977</td>\n",
       "      <td>1.000000</td>\n",
       "    </tr>\n",
       "  </tbody>\n",
       "</table>\n",
       "</div>"
      ],
      "text/plain": [
       "              total_sales  critic_score  user_score\n",
       "total_sales      1.000000      0.428677   -0.070384\n",
       "critic_score     0.428677      1.000000    0.440977\n",
       "user_score      -0.070384      0.440977    1.000000"
      ]
     },
     "execution_count": 41,
     "metadata": {},
     "output_type": "execute_result"
    }
   ],
   "source": [
    "top_3.query('platform == \"XOne\"')[['total_sales', 'critic_score', 'user_score']].corr()"
   ]
  },
  {
   "cell_type": "markdown",
   "id": "44b2d273",
   "metadata": {},
   "source": [
    "Также как и для платформы PS4, на платформе XOne есть слабая взаимосязь между продажами и оценкой критиков, на что указывает коэффициент корреляции в 0,43. Между продажами и оценкой игроков взаимосвязи нет."
   ]
  },
  {
   "cell_type": "code",
   "execution_count": 42,
   "id": "a8a2e0f7",
   "metadata": {},
   "outputs": [
    {
     "data": {
      "text/plain": [
       "Text(0, 0.5, 'Количество проданных игр, млн. копий')"
      ]
     },
     "execution_count": 42,
     "metadata": {},
     "output_type": "execute_result"
    },
    {
     "data": {
      "image/png": "[encoded data removed]",
      "text/plain": [
       "<Figure size 432x288 with 1 Axes>"
      ]
     },
     "metadata": {
      "needs_background": "light"
     },
     "output_type": "display_data"
    }
   ],
   "source": [
    "top_3.query('platform == \"3DS\"').plot(x='critic_score', y='total_sales', kind='scatter')\n",
    "plt.title('График зависимости продаж от оценки критиков внутри платформы 3DS')\n",
    "plt.xlabel(\"Оценки критиков\")\n",
    "plt.ylabel(\"Количество проданных игр, млн. копий\")"
   ]
  },
  {
   "cell_type": "code",
   "execution_count": 43,
   "id": "94e6487e",
   "metadata": {},
   "outputs": [
    {
     "data": {
      "text/plain": [
       "Text(0, 0.5, 'Количество проданных игр, млн. копий')"
      ]
     },
     "execution_count": 43,
     "metadata": {},
     "output_type": "execute_result"
    },
    {
     "data": {
      "image/png": "[encoded data removed]",
      "text/plain": [
       "<Figure size 432x288 with 1 Axes>"
      ]
     },
     "metadata": {
      "needs_background": "light"
     },
     "output_type": "display_data"
    }
   ],
   "source": [
    "top_3.query('platform == \"3DS\"').plot(x='user_score', y='total_sales', kind='scatter')\n",
    "plt.title('График зависимости продаж от оценки игроков внутри платформы 3DS')\n",
    "plt.xlabel(\"Оценки игроков\")\n",
    "plt.ylabel(\"Количество проданных игр, млн. копий\")"
   ]
  },
  {
   "cell_type": "code",
   "execution_count": 44,
   "id": "ce1fa83f",
   "metadata": {},
   "outputs": [
    {
     "data": {
      "text/html": [
       "<div>\n",
       "<style scoped>\n",
       "    .dataframe tbody tr th:only-of-type {\n",
       "        vertical-align: middle;\n",
       "    }\n",
       "\n",
       "    .dataframe tbody tr th {\n",
       "        vertical-align: top;\n",
       "    }\n",
       "\n",
       "    .dataframe thead th {\n",
       "        text-align: right;\n",
       "    }\n",
       "</style>\n",
       "<table border=\"1\" class=\"dataframe\">\n",
       "  <thead>\n",
       "    <tr style=\"text-align: right;\">\n",
       "      <th></th>\n",
       "      <th>total_sales</th>\n",
       "      <th>critic_score</th>\n",
       "      <th>user_score</th>\n",
       "    </tr>\n",
       "  </thead>\n",
       "  <tbody>\n",
       "    <tr>\n",
       "      <th>total_sales</th>\n",
       "      <td>1.000000</td>\n",
       "      <td>0.314117</td>\n",
       "      <td>0.215193</td>\n",
       "    </tr>\n",
       "    <tr>\n",
       "      <th>critic_score</th>\n",
       "      <td>0.314117</td>\n",
       "      <td>1.000000</td>\n",
       "      <td>0.862485</td>\n",
       "    </tr>\n",
       "    <tr>\n",
       "      <th>user_score</th>\n",
       "      <td>0.215193</td>\n",
       "      <td>0.862485</td>\n",
       "      <td>1.000000</td>\n",
       "    </tr>\n",
       "  </tbody>\n",
       "</table>\n",
       "</div>"
      ],
      "text/plain": [
       "              total_sales  critic_score  user_score\n",
       "total_sales      1.000000      0.314117    0.215193\n",
       "critic_score     0.314117      1.000000    0.862485\n",
       "user_score       0.215193      0.862485    1.000000"
      ]
     },
     "execution_count": 44,
     "metadata": {},
     "output_type": "execute_result"
    }
   ],
   "source": [
    "top_3.query('platform == \"3DS\"')[['total_sales', 'critic_score', 'user_score']].corr()"
   ]
  },
  {
   "cell_type": "markdown",
   "id": "f5de7d62",
   "metadata": {},
   "source": [
    "Платформа 3DS схожа с предыдущими в коэффициентах корреляции между продажами и оценками критиков (коэффициент составляет 3,14). Однако здесь также имеет место быть слабая взаимосвязь между продажами и оценками игроков, на что указывает коэффициент корреляции в 0,22, в отличие от предудущих платформ, где этой взаимосвязи не было."
   ]
  },
  {
   "cell_type": "markdown",
   "id": "e1dab552",
   "metadata": {},
   "source": [
    "### Общее распределение игр по жанрам"
   ]
  },
  {
   "cell_type": "code",
   "execution_count": 45,
   "id": "cee9b646",
   "metadata": {},
   "outputs": [
    {
     "data": {
      "text/plain": [
       "Text(0, 0.5, 'Количество проданных игр, шт')"
      ]
     },
     "execution_count": 45,
     "metadata": {},
     "output_type": "execute_result"
    },
    {
     "data": {
      "image/png": "[encoded data removed]",
      "text/plain": [
       "<Figure size 864x432 with 1 Axes>"
      ]
     },
     "metadata": {
      "needs_background": "light"
     },
     "output_type": "display_data"
    }
   ],
   "source": [
    "genre = (new_games\n",
    "         .pivot_table(index='genre', values='total_sales', aggfunc='count')\n",
    "         .sort_values(by = 'total_sales', ascending=False)\n",
    ")\n",
    "\n",
    "genre.plot(kind='bar', figsize=(12, 6))\n",
    "plt.title('Распределение по количеству проданных игр в зависимости от жанра в период 2014-2016 г.')\n",
    "plt.xlabel(\"Жанр игры\")\n",
    "plt.ylabel(\"Количество проданных игр, шт\")"
   ]
  },
  {
   "cell_type": "code",
   "execution_count": 46,
   "id": "6655c335",
   "metadata": {},
   "outputs": [
    {
     "data": {
      "text/plain": [
       "Text(0, 0.5, 'Медианные продажи, млн. копий')"
      ]
     },
     "execution_count": 46,
     "metadata": {},
     "output_type": "execute_result"
    },
    {
     "data": {
      "image/png": "[encoded data removed]",
      "text/plain": [
       "<Figure size 864x432 with 1 Axes>"
      ]
     },
     "metadata": {
      "needs_background": "light"
     },
     "output_type": "display_data"
    }
   ],
   "source": [
    "genre = (new_games\n",
    "         .pivot_table(index='genre', values='total_sales', aggfunc='median')\n",
    "         .sort_values(by = 'total_sales', ascending=False)\n",
    ")\n",
    "\n",
    "genre.plot(kind='bar', figsize=(12, 6))\n",
    "plt.title('Распределение медианных продаж игр в зависимости от жанра в период 2014-2016 г.')\n",
    "plt.xlabel(\"Жанр игры\")\n",
    "plt.ylabel(\"Медианные продажи, млн. копий\")"
   ]
  },
  {
   "cell_type": "markdown",
   "id": "08ac40d0",
   "metadata": {},
   "source": [
    "Медианный показатель выделил жанр Шутер в качестве явного лидера среди продаж. Если говорить о количестве проданных игр, то выделяется жанр Экшн."
   ]
  },
  {
   "cell_type": "markdown",
   "id": "f3cd9e28",
   "metadata": {},
   "source": [
    "### Вывод"
   ]
  },
  {
   "cell_type": "markdown",
   "id": "374958b0",
   "metadata": {},
   "source": [
    "Был проведен исследовательский анализ данных, в ходе которого был выявлен характерный период существования платформ, а также выделен актуальный период для дальнейшего анализа. Далее были опередены потенциально прибыльные платформы и нормальные значения продаж для каждой из них. А также было рассмотрено влияние оценок критиков и игроков на в продажи на каждой из платформ."
   ]
  },
  {
   "cell_type": "markdown",
   "id": "e2ebea15",
   "metadata": {},
   "source": [
    "## Составление портрета пользователя по каждому региону"
   ]
  },
  {
   "cell_type": "markdown",
   "id": "602ef70a",
   "metadata": {},
   "source": [
    "### Самые популярные платформы"
   ]
  },
  {
   "cell_type": "code",
   "execution_count": 47,
   "id": "25855686",
   "metadata": {},
   "outputs": [
    {
     "data": {
      "image/png": "[encoded data removed]",
      "text/plain": [
       "<Figure size 1080x360 with 3 Axes>"
      ]
     },
     "metadata": {},
     "output_type": "display_data"
    }
   ],
   "source": [
    "countries = ['na_sales', 'eu_sales', 'jp_sales']\n",
    "fig, axs = plt.subplots(1, 3, figsize=(15, 5))\n",
    "for i in range (3):\n",
    "    res = (new_games\n",
    "           .groupby('platform')[countries[i]]\n",
    "           .sum()\n",
    "           .reset_index()\n",
    "           .sort_values(countries[i], ascending=False, ignore_index=True)\n",
    "           .head(5))\n",
    "    axs[i].pie(res[countries[i]], labels=res['platform'], autopct='%1.2f%%')\n",
    "    axs[i].set_title(countries[i])"
   ]
  },
  {
   "cell_type": "code",
   "execution_count": 48,
   "id": "74818df3",
   "metadata": {},
   "outputs": [
    {
     "data": {
      "image/png": "[encoded data removed]",
      "text/plain": [
       "<Figure size 1080x360 with 3 Axes>"
      ]
     },
     "metadata": {},
     "output_type": "display_data"
    }
   ],
   "source": [
    "countries = ['na_sales', 'eu_sales', 'jp_sales']\n",
    "fig, axs = plt.subplots(1, 3, figsize=(15, 5))\n",
    "for i in range (3):\n",
    "    res = (new_games\n",
    "           .groupby('platform')[countries[i]]\n",
    "           .sum()\n",
    "           .reset_index()\n",
    "           .sort_values(countries[i], ascending=False, ignore_index=True)\n",
    "           .head(5))\n",
    "    axs[i].pie(res[countries[i]], labels=res['platform'], autopct='%1.2f%%')\n",
    "    axs[i].set_title(countries[i])"
   ]
  },
  {
   "cell_type": "markdown",
   "id": "bffe384c",
   "metadata": {},
   "source": [
    "В Северной Америке более всего распространены игры для платформы PS4. Далее расположились платформы XOne и X360. Это может быть связано с тем, что Xbox их отечественный производитель. Разница между первым и вторым и местом приблизительно 7%.\n",
    "\n",
    "В Европе на первом месте также стоит японская PS4 и занимает больше половины рынка. Второе и третье место занимают платформы XOne и PS3.\n",
    "\n",
    "В Японии же первое место занимает платформа 3DS, что составляет почти половину рынка. Далее, второе место занимает PS4 и третье - PSV. Разница в долях между вторым и третьем местом незначительная (менее 1%)."
   ]
  },
  {
   "cell_type": "markdown",
   "id": "c710eee9",
   "metadata": {},
   "source": [
    "### Самые популярные жанры"
   ]
  },
  {
   "cell_type": "code",
   "execution_count": 49,
   "id": "44ca268b",
   "metadata": {},
   "outputs": [
    {
     "data": {
      "text/plain": [
       "Text(0.5, 1.0, 'ТОП-5 жанров игр по продажам в Северной Америке')"
      ]
     },
     "execution_count": 49,
     "metadata": {},
     "output_type": "execute_result"
    },
    {
     "data": {
      "image/png": "[encoded data removed]",
      "text/plain": [
       "<Figure size 720x360 with 1 Axes>"
      ]
     },
     "metadata": {
      "needs_background": "light"
     },
     "output_type": "display_data"
    }
   ],
   "source": [
    "(new_games\n",
    " .pivot_table(index='genre', values = 'na_sales', aggfunc='median')\n",
    " .sort_values(by='na_sales', ascending=False)\n",
    " .head(5)\n",
    " .plot(kind='bar', subplots=True, figsize=(10, 5))\n",
    ")\n",
    "plt.title('ТОП-5 жанров игр по продажам в Северной Америке')"
   ]
  },
  {
   "cell_type": "code",
   "execution_count": 50,
   "id": "96220de0",
   "metadata": {},
   "outputs": [
    {
     "data": {
      "text/plain": [
       "Text(0.5, 1.0, 'ТОП-5 жанров игр по продажам в Европе')"
      ]
     },
     "execution_count": 50,
     "metadata": {},
     "output_type": "execute_result"
    },
    {
     "data": {
      "image/png": "[encoded data removed]",
      "text/plain": [
       "<Figure size 720x360 with 1 Axes>"
      ]
     },
     "metadata": {
      "needs_background": "light"
     },
     "output_type": "display_data"
    }
   ],
   "source": [
    "(new_games\n",
    " .pivot_table(index='genre', values = 'eu_sales', aggfunc='median')\n",
    " .sort_values(by='eu_sales', ascending=False)\n",
    " .head(5)\n",
    " .plot(kind='bar', subplots=True, figsize=(10, 5))\n",
    ")\n",
    "plt.title('ТОП-5 жанров игр по продажам в Европе')"
   ]
  },
  {
   "cell_type": "code",
   "execution_count": 51,
   "id": "31dd14f8",
   "metadata": {},
   "outputs": [
    {
     "data": {
      "text/plain": [
       "Text(0.5, 1.0, 'ТОП-5 жанров игр по продажам в Японии')"
      ]
     },
     "execution_count": 51,
     "metadata": {},
     "output_type": "execute_result"
    },
    {
     "data": {
      "image/png": "[encoded data removed]",
      "text/plain": [
       "<Figure size 720x360 with 1 Axes>"
      ]
     },
     "metadata": {
      "needs_background": "light"
     },
     "output_type": "display_data"
    }
   ],
   "source": [
    "(new_games\n",
    " .pivot_table(index='genre', values = 'jp_sales', aggfunc='median')\n",
    " .sort_values(by='jp_sales', ascending=False)\n",
    " .head(5)\n",
    " .plot(kind='bar', subplots=True, figsize=(10, 5))\n",
    ")\n",
    "plt.title('ТОП-5 жанров игр по продажам в Японии')"
   ]
  },
  {
   "cell_type": "markdown",
   "id": "625ca633",
   "metadata": {},
   "source": [
    "В Северной Америке и Европе схожая картина: первое место с большим отрывом занимает жанр Shooter.\n",
    "\n",
    "Япония отличается от других регионов. Здесь на первом месте идет жанр Role-Playing. Погуглив, узнаю, что действительно ролевые игры в Японии очень распространены и даже есть отдельный поджанр игр JRPG (японская ролевая игра)."
   ]
  },
  {
   "cell_type": "markdown",
   "id": "099c984b",
   "metadata": {},
   "source": [
    "### Влияние рейтинга ESRB на продажи в регионе"
   ]
  },
  {
   "cell_type": "code",
   "execution_count": 52,
   "id": "82607b66",
   "metadata": {},
   "outputs": [
    {
     "data": {
      "text/plain": [
       "no_esrb_rating    749\n",
       "T                 271\n",
       "M                 265\n",
       "E                 219\n",
       "E10+              185\n",
       "Name: rating, dtype: int64"
      ]
     },
     "execution_count": 52,
     "metadata": {},
     "output_type": "execute_result"
    }
   ],
   "source": [
    "new_games['rating'].value_counts()"
   ]
  },
  {
   "cell_type": "code",
   "execution_count": 53,
   "id": "7f8f09c9",
   "metadata": {},
   "outputs": [],
   "source": [
    "def rating_rus(rating):\n",
    "    if rating == 'no_esrb_rating':\n",
    "        return 'Нет рейтинга'\n",
    "    if rating == 'T':\n",
    "        return '13+'\n",
    "    if rating == 'M':\n",
    "        return '17+'\n",
    "    if rating == 'E':\n",
    "        return 'Для всех'\n",
    "    if rating == 'E10+':\n",
    "        return '10+'"
   ]
  },
  {
   "cell_type": "code",
   "execution_count": 54,
   "id": "fce06559",
   "metadata": {},
   "outputs": [
    {
     "data": {
      "text/plain": [
       "Нет рейтинга    749\n",
       "13+             271\n",
       "17+             265\n",
       "Для всех        219\n",
       "10+             185\n",
       "Name: rating_rus, dtype: int64"
      ]
     },
     "execution_count": 54,
     "metadata": {},
     "output_type": "execute_result"
    }
   ],
   "source": [
    "new_games['rating_rus'] = new_games['rating'].apply(rating_rus)\n",
    "new_games['rating_rus'].value_counts()"
   ]
  },
  {
   "cell_type": "code",
   "execution_count": 55,
   "id": "58cebfa3",
   "metadata": {},
   "outputs": [
    {
     "data": {
      "text/plain": [
       "Text(0.5, 1.0, 'Распределение продаж по ESRB рейтингу в Северной Америке')"
      ]
     },
     "execution_count": 55,
     "metadata": {},
     "output_type": "execute_result"
    },
    {
     "data": {
      "image/png": "[encoded data removed]",
      "text/plain": [
       "<Figure size 720x360 with 1 Axes>"
      ]
     },
     "metadata": {
      "needs_background": "light"
     },
     "output_type": "display_data"
    }
   ],
   "source": [
    "(new_games\n",
    " .pivot_table(index='rating_rus', values = 'na_sales', aggfunc='sum')\n",
    " .sort_values(by='na_sales', ascending=False)\n",
    " .head(5)\n",
    " .plot(kind='bar', subplots=True, figsize=(10, 5))\n",
    ")\n",
    "plt.title('Распределение продаж по ESRB рейтингу в Северной Америке')"
   ]
  },
  {
   "cell_type": "code",
   "execution_count": 56,
   "id": "50ed4ef1",
   "metadata": {},
   "outputs": [
    {
     "data": {
      "text/plain": [
       "Text(0.5, 1.0, 'Распределение продаж по ESRB рейтингу в Европе')"
      ]
     },
     "execution_count": 56,
     "metadata": {},
     "output_type": "execute_result"
    },
    {
     "data": {
      "image/png": "[encoded data removed]",
      "text/plain": [
       "<Figure size 720x360 with 1 Axes>"
      ]
     },
     "metadata": {
      "needs_background": "light"
     },
     "output_type": "display_data"
    }
   ],
   "source": [
    "(new_games\n",
    " .pivot_table(index='rating_rus', values = 'eu_sales', aggfunc='sum')\n",
    " .sort_values(by='eu_sales', ascending=False)\n",
    " .head(5)\n",
    " .plot(kind='bar', subplots=True, figsize=(10, 5))\n",
    ")\n",
    "plt.title('Распределение продаж по ESRB рейтингу в Европе')"
   ]
  },
  {
   "cell_type": "code",
   "execution_count": 57,
   "id": "737ca7b6",
   "metadata": {},
   "outputs": [
    {
     "data": {
      "text/plain": [
       "Text(0.5, 1.0, 'Распределение продаж по ESRB рейтингу в Японии')"
      ]
     },
     "execution_count": 57,
     "metadata": {},
     "output_type": "execute_result"
    },
    {
     "data": {
      "image/png": "[encoded data removed]",
      "text/plain": [
       "<Figure size 720x360 with 1 Axes>"
      ]
     },
     "metadata": {
      "needs_background": "light"
     },
     "output_type": "display_data"
    }
   ],
   "source": [
    "(new_games\n",
    " .pivot_table(index='rating_rus', values = 'jp_sales', aggfunc='sum')\n",
    " .sort_values(by='jp_sales', ascending=False)\n",
    " .head(5)\n",
    " .plot(kind='bar', subplots=True, figsize=(10, 5))\n",
    ")\n",
    "plt.title('Распределение продаж по ESRB рейтингу в Японии')"
   ]
  },
  {
   "cell_type": "markdown",
   "id": "45a2885a",
   "metadata": {},
   "source": [
    "В Северной Америке и Европе рейтинг оказывает влияние на продажи. Здесь на первом месте идут игры для взрослых, материалы игры не подходят для подростков младше 17 лет.\n",
    "Однако в Японии на первом месте по продажам стоят игры, неразмеченные оранизацией ESRB, соответвенно влияние на продажи рейтинг не оказывает."
   ]
  },
  {
   "cell_type": "markdown",
   "id": "31839d1e",
   "metadata": {},
   "source": [
    "### Вывод"
   ]
  },
  {
   "cell_type": "markdown",
   "id": "02ea1d91",
   "metadata": {},
   "source": [
    "В этом пункте были рассмотрены три основных региона: Северная Америка, Европа и Япония. Анализ проводился в разрезе наиболее популярных платформ, жанров, а также влияния рейтинга ESRB на продажи в каждом из регионов. В ходе анализа было выявлено, что Европа и Северная Америка во многом схожи, а Япония имеет существенные отличия."
   ]
  },
  {
   "cell_type": "markdown",
   "id": "8658e913",
   "metadata": {},
   "source": [
    "## Проверка гипотез"
   ]
  },
  {
   "cell_type": "markdown",
   "id": "764addd8",
   "metadata": {},
   "source": [
    "### Гипотеза 1"
   ]
  },
  {
   "cell_type": "code",
   "execution_count": 58,
   "id": "70ae3afb",
   "metadata": {},
   "outputs": [
    {
     "data": {
      "text/plain": [
       "165"
      ]
     },
     "execution_count": 58,
     "metadata": {},
     "output_type": "execute_result"
    }
   ],
   "source": [
    "xone = new_games.query('platform == \"XOne\"')['user_score'].dropna()\n",
    "len(xone)                     "
   ]
  },
  {
   "cell_type": "code",
   "execution_count": 59,
   "id": "e01450cc",
   "metadata": {},
   "outputs": [
    {
     "data": {
      "text/plain": [
       "122"
      ]
     },
     "execution_count": 59,
     "metadata": {},
     "output_type": "execute_result"
    }
   ],
   "source": [
    "pc = new_games.query('platform == \"PC\"')['user_score'].dropna()\n",
    "len(pc)"
   ]
  },
  {
   "cell_type": "markdown",
   "id": "831476cc",
   "metadata": {},
   "source": [
    "У нас имеются две достаточно большие выборки, а значит выборочные средние распределены нормально. Достаточно большими считаются выборки более 30 элементов.  Будем проверять гипотезу о равенстве средних двух генеральных совокупностей, при условии, что выборки не зависят друг от друга. Т.к. выборки разного размера, предроложим, что дисперсии генеральных совокупностей не равны. Для проверки будем применять t-тест.\n",
    "Нулевая гипотеза всегда содержит знак равенства. Сформулируем нулевую и альтернативную гипотезу:\n",
    "* H0: Средние пользовательские рейтинги платформ Xbox One и PC равны;\n",
    "* H1: Средние пользовательские рейтинги платформ Xbox One и PC не равны."
   ]
  },
  {
   "cell_type": "code",
   "execution_count": 60,
   "id": "184a6bd3",
   "metadata": {},
   "outputs": [],
   "source": [
    "# зададим критический уровень значимости\n",
    "alpha = 0.05"
   ]
  },
  {
   "cell_type": "code",
   "execution_count": 61,
   "id": "854bc5ca",
   "metadata": {},
   "outputs": [],
   "source": [
    "results = st.ttest_ind(xone, pc, equal_var = False)"
   ]
  },
  {
   "cell_type": "code",
   "execution_count": 62,
   "id": "2d5e8bb6",
   "metadata": {},
   "outputs": [
    {
     "name": "stdout",
     "output_type": "stream",
     "text": [
      "p-значение: 0.11601398086668832\n",
      "Не получилось отвергнуть нулевую гипотезу\n"
     ]
    }
   ],
   "source": [
    "print('p-значение:', results.pvalue)\n",
    "\n",
    "if (results.pvalue < alpha):\n",
    "    print(\"Отвергаем нулевую гипотезу\")\n",
    "else:\n",
    "    print(\"Не получилось отвергнуть нулевую гипотезу\")"
   ]
  },
  {
   "cell_type": "markdown",
   "id": "8c35d1c3",
   "metadata": {},
   "source": [
    "Проверка показала, что средние пользовательские рейтинги на платформах Xbox One и PC не отличаются."
   ]
  },
  {
   "cell_type": "markdown",
   "id": "a1e18629",
   "metadata": {},
   "source": [
    "### Гипотеза 2"
   ]
  },
  {
   "cell_type": "code",
   "execution_count": 63,
   "id": "1b6cad36",
   "metadata": {},
   "outputs": [
    {
     "data": {
      "text/plain": [
       "297"
      ]
     },
     "execution_count": 63,
     "metadata": {},
     "output_type": "execute_result"
    }
   ],
   "source": [
    "action = new_games.query('genre == \"Action\"')['user_score'].dropna()\n",
    "len(action)"
   ]
  },
  {
   "cell_type": "code",
   "execution_count": 64,
   "id": "a96054fe",
   "metadata": {},
   "outputs": [
    {
     "data": {
      "text/plain": [
       "127"
      ]
     },
     "execution_count": 64,
     "metadata": {},
     "output_type": "execute_result"
    }
   ],
   "source": [
    "sports = new_games.query('genre == \"Sports\"')['user_score'].dropna()\n",
    "len(sports)"
   ]
  },
  {
   "cell_type": "markdown",
   "id": "10a8d9bb",
   "metadata": {},
   "source": [
    "Будем также проверять гипотезу о равенстве средних. Сформулируем нулевую и альтернативную гипотезы:\n",
    "* H0: Средние пользовательские рейтинги жанров Action и Sports равны;\n",
    "* H1: Средние пользовательские рейтинги жанров Action и Sports не равны."
   ]
  },
  {
   "cell_type": "code",
   "execution_count": 65,
   "id": "333a75af",
   "metadata": {},
   "outputs": [],
   "source": [
    "results_2 = st.ttest_ind(action, sports, equal_var = False)"
   ]
  },
  {
   "cell_type": "code",
   "execution_count": 66,
   "id": "26817f49",
   "metadata": {},
   "outputs": [
    {
     "name": "stdout",
     "output_type": "stream",
     "text": [
      "p-значение: 1.1825550382644557e-14\n",
      "Отвергаем нулевую гипотезу\n"
     ]
    }
   ],
   "source": [
    "# оставим критический уровень значимости прежним\n",
    "print('p-значение:', results_2.pvalue)\n",
    "\n",
    "if (results_2.pvalue < alpha):\n",
    "    print(\"Отвергаем нулевую гипотезу\")\n",
    "else:\n",
    "    print(\"Не получилось отвергнуть нулевую гипотезу\")"
   ]
  },
  {
   "cell_type": "markdown",
   "id": "0341b84f",
   "metadata": {},
   "source": [
    "Проверка показала, что средние пользовательские рейтинги жанров Action и Sports отличаются."
   ]
  },
  {
   "cell_type": "markdown",
   "id": "d2db120d",
   "metadata": {},
   "source": [
    "## Общий вывод"
   ]
  },
  {
   "cell_type": "markdown",
   "id": "6fd25f72",
   "metadata": {},
   "source": [
    "Было проведено исследование продаж компьютерных игр в интернет магазине. На момент 2016 года отмечается общий спад в продажах по всем платформам. Это может быть связано с тем, что все консоли имеют свои собственные сервисы цифровой дистрибьюции (магазины) и игрокам удобнее покупать прямо из консоли, а для платформы ПК есть крупнейший Steam. А также рынок развивается в сторону мобильных игр.\n",
    "\n",
    "Из проведенного анализа мы узнали, что характерный период существования платформы около 10 лет. Затем на смену приходит следующее поколение консолей с улучшенными характеристиками. Для анализа был выбран период с 2014 года по 2016 год. В ходе анализа были выявлены потенциально прибыльные платформы: PS4, XOne и 3DS.\n",
    "\n",
    "На продажи в Северной Америке и Европе больше всего влияют оценки критиков, в том время как в Японии покупатели учитывают оценки и критиков, и игроков.\n",
    "\n",
    "При составлении портрета пользователя было выявлено, что рынок продаж компьютерных игр в Северной Америке и Европе во многом схож, в то время как в Японии имеются существенные отличия.\n",
    "\n",
    "Самыми популярными платформами за исследуемый период стали:\n",
    "* В Северной Америке - PS4, XOne, X360, 3DS, PS3;\n",
    "* В Европе - PS4, XOne, PS3, PC, 3DS;\n",
    "* В Японии - 3DS, PS4, PSV, PS3, WiiU.\n",
    "\n",
    "Самыми популярными жанрами за исследуемый период стали:\n",
    "* В Северной Америке - Shooter, Platform, Sports, Fighting, Racing;\n",
    "* В Европе - Shooter, Platform, Racing, Sports, Simulation; \n",
    "* В Японии - Role-Playing, Fighting, Puzzle, Action, Adventure.\n",
    "\n",
    "Что касается рейтинга ESRB, то он оказывается влияние на продажи в Северной Америке и Европе. Самыми популярыми стали игры с рейтингом 17+. \n",
    "\n",
    "Можно сделать вывод, что хорошо продаваться в Северной Америке и Европе будет игра с высокими оценками критиков, категорией \"17+\", жанром Шутер и выпущенная для платформ PS4, XOne. Для японского рынка успешной станет игра, выпущенная в жанре Role-Playing для платформы 3DS."
   ]
  }
 ],
 "metadata": {
  "ExecuteTimeLog": [
   {
    "duration": 476,
    "start_time": "2022-03-17T11:19:04.593Z"
   },
   {
    "duration": 59,
    "start_time": "2022-03-17T11:24:43.158Z"
   },
   {
    "duration": 22,
    "start_time": "2022-03-17T11:24:52.107Z"
   },
   {
    "duration": 434,
    "start_time": "2022-03-17T11:32:25.809Z"
   },
   {
    "duration": 48,
    "start_time": "2022-03-17T11:32:26.245Z"
   },
   {
    "duration": 27,
    "start_time": "2022-03-17T11:32:26.295Z"
   },
   {
    "duration": 20,
    "start_time": "2022-03-17T11:32:44.605Z"
   },
   {
    "duration": 24,
    "start_time": "2022-03-17T11:33:24.054Z"
   },
   {
    "duration": 36,
    "start_time": "2022-03-17T11:37:03.725Z"
   },
   {
    "duration": 699,
    "start_time": "2022-03-17T11:38:20.548Z"
   },
   {
    "duration": 17,
    "start_time": "2022-03-17T11:38:35.226Z"
   },
   {
    "duration": 181,
    "start_time": "2022-03-17T11:39:02.045Z"
   },
   {
    "duration": 10,
    "start_time": "2022-03-17T11:44:40.470Z"
   },
   {
    "duration": 4,
    "start_time": "2022-03-17T11:53:42.082Z"
   },
   {
    "duration": 6,
    "start_time": "2022-03-17T11:53:51.801Z"
   },
   {
    "duration": 6,
    "start_time": "2022-03-17T11:55:25.762Z"
   },
   {
    "duration": 106,
    "start_time": "2022-03-17T11:57:01.686Z"
   },
   {
    "duration": 18,
    "start_time": "2022-03-17T11:59:12.360Z"
   },
   {
    "duration": 8,
    "start_time": "2022-03-17T11:59:40.874Z"
   },
   {
    "duration": 18,
    "start_time": "2022-03-17T12:00:08.398Z"
   },
   {
    "duration": 41,
    "start_time": "2022-03-17T12:02:43.427Z"
   },
   {
    "duration": 3314,
    "start_time": "2022-03-17T12:04:53.899Z"
   },
   {
    "duration": 6,
    "start_time": "2022-03-17T12:05:05.152Z"
   },
   {
    "duration": 15,
    "start_time": "2022-03-17T12:09:24.683Z"
   },
   {
    "duration": 16,
    "start_time": "2022-03-17T12:10:41.000Z"
   },
   {
    "duration": 7,
    "start_time": "2022-03-17T12:14:23.118Z"
   },
   {
    "duration": 19,
    "start_time": "2022-03-17T12:31:51.932Z"
   },
   {
    "duration": 9,
    "start_time": "2022-03-17T12:32:38.489Z"
   },
   {
    "duration": 12,
    "start_time": "2022-03-17T12:32:59.189Z"
   },
   {
    "duration": 3,
    "start_time": "2022-03-17T12:33:42.815Z"
   },
   {
    "duration": 14,
    "start_time": "2022-03-17T12:33:55.031Z"
   },
   {
    "duration": 6,
    "start_time": "2022-03-17T12:34:21.513Z"
   },
   {
    "duration": 8,
    "start_time": "2022-03-17T12:34:29.861Z"
   },
   {
    "duration": 5,
    "start_time": "2022-03-17T12:34:41.444Z"
   },
   {
    "duration": 6,
    "start_time": "2022-03-17T12:34:42.620Z"
   },
   {
    "duration": 5,
    "start_time": "2022-03-17T12:35:05.147Z"
   },
   {
    "duration": 19,
    "start_time": "2022-03-17T12:35:31.715Z"
   },
   {
    "duration": 4,
    "start_time": "2022-03-17T12:54:18.095Z"
   },
   {
    "duration": 1666,
    "start_time": "2022-03-17T13:08:42.827Z"
   },
   {
    "duration": 8,
    "start_time": "2022-03-17T13:10:41.744Z"
   },
   {
    "duration": 409,
    "start_time": "2022-03-17T13:10:54.204Z"
   },
   {
    "duration": 52,
    "start_time": "2022-03-17T13:10:54.615Z"
   },
   {
    "duration": 27,
    "start_time": "2022-03-17T13:10:54.669Z"
   },
   {
    "duration": 34,
    "start_time": "2022-03-17T13:10:54.699Z"
   },
   {
    "duration": 31,
    "start_time": "2022-03-17T13:10:54.738Z"
   },
   {
    "duration": 10,
    "start_time": "2022-03-17T13:10:54.771Z"
   },
   {
    "duration": 12,
    "start_time": "2022-03-17T13:10:54.782Z"
   },
   {
    "duration": 56,
    "start_time": "2022-03-17T13:10:54.796Z"
   },
   {
    "duration": 5,
    "start_time": "2022-03-17T13:10:54.854Z"
   },
   {
    "duration": 10,
    "start_time": "2022-03-17T13:10:54.862Z"
   },
   {
    "duration": 15,
    "start_time": "2022-03-17T13:10:54.874Z"
   },
   {
    "duration": 8,
    "start_time": "2022-03-17T13:10:54.891Z"
   },
   {
    "duration": 43,
    "start_time": "2022-03-17T13:10:54.901Z"
   },
   {
    "duration": 83,
    "start_time": "2022-03-17T13:31:02.659Z"
   },
   {
    "duration": 16,
    "start_time": "2022-03-17T13:31:13.239Z"
   },
   {
    "duration": 12,
    "start_time": "2022-03-17T13:32:51.008Z"
   },
   {
    "duration": 454,
    "start_time": "2022-03-17T13:33:19.705Z"
   },
   {
    "duration": 163,
    "start_time": "2022-03-17T13:33:34.054Z"
   },
   {
    "duration": 178,
    "start_time": "2022-03-17T13:33:58.968Z"
   },
   {
    "duration": 167,
    "start_time": "2022-03-17T13:34:16.068Z"
   },
   {
    "duration": 4,
    "start_time": "2022-03-17T13:55:46.441Z"
   },
   {
    "duration": 12,
    "start_time": "2022-03-17T14:00:03.425Z"
   },
   {
    "duration": 9,
    "start_time": "2022-03-17T14:04:15.234Z"
   },
   {
    "duration": 14,
    "start_time": "2022-03-17T14:05:48.655Z"
   },
   {
    "duration": 473,
    "start_time": "2022-03-17T14:06:02.038Z"
   },
   {
    "duration": 52,
    "start_time": "2022-03-17T14:06:02.513Z"
   },
   {
    "duration": 30,
    "start_time": "2022-03-17T14:06:02.567Z"
   },
   {
    "duration": 33,
    "start_time": "2022-03-17T14:06:02.599Z"
   },
   {
    "duration": 36,
    "start_time": "2022-03-17T14:06:02.634Z"
   },
   {
    "duration": 13,
    "start_time": "2022-03-17T14:06:02.672Z"
   },
   {
    "duration": 8,
    "start_time": "2022-03-17T14:06:02.687Z"
   },
   {
    "duration": 61,
    "start_time": "2022-03-17T14:06:02.697Z"
   },
   {
    "duration": 7,
    "start_time": "2022-03-17T14:06:02.760Z"
   },
   {
    "duration": 13,
    "start_time": "2022-03-17T14:06:02.771Z"
   },
   {
    "duration": 17,
    "start_time": "2022-03-17T14:06:02.786Z"
   },
   {
    "duration": 27,
    "start_time": "2022-03-17T14:06:02.805Z"
   },
   {
    "duration": 33,
    "start_time": "2022-03-17T14:06:02.835Z"
   },
   {
    "duration": 15,
    "start_time": "2022-03-17T14:06:02.870Z"
   },
   {
    "duration": 57,
    "start_time": "2022-03-17T14:06:02.887Z"
   },
   {
    "duration": 22,
    "start_time": "2022-03-17T14:06:02.946Z"
   },
   {
    "duration": 19,
    "start_time": "2022-03-17T14:06:57.736Z"
   },
   {
    "duration": 15,
    "start_time": "2022-03-17T14:07:05.765Z"
   },
   {
    "duration": 17,
    "start_time": "2022-03-17T14:09:09.118Z"
   },
   {
    "duration": 463,
    "start_time": "2022-03-17T14:09:31.519Z"
   },
   {
    "duration": 48,
    "start_time": "2022-03-17T14:09:31.984Z"
   },
   {
    "duration": 29,
    "start_time": "2022-03-17T14:09:32.034Z"
   },
   {
    "duration": 15,
    "start_time": "2022-03-17T14:09:32.066Z"
   },
   {
    "duration": 51,
    "start_time": "2022-03-17T14:09:32.083Z"
   },
   {
    "duration": 11,
    "start_time": "2022-03-17T14:09:32.136Z"
   },
   {
    "duration": 26,
    "start_time": "2022-03-17T14:09:32.149Z"
   },
   {
    "duration": 7,
    "start_time": "2022-03-17T14:09:32.177Z"
   },
   {
    "duration": 55,
    "start_time": "2022-03-17T14:09:32.185Z"
   },
   {
    "duration": 9,
    "start_time": "2022-03-17T14:09:32.243Z"
   },
   {
    "duration": 19,
    "start_time": "2022-03-17T14:09:32.255Z"
   },
   {
    "duration": 17,
    "start_time": "2022-03-17T14:09:32.276Z"
   },
   {
    "duration": 19,
    "start_time": "2022-03-17T14:09:32.295Z"
   },
   {
    "duration": 52,
    "start_time": "2022-03-17T14:09:32.317Z"
   },
   {
    "duration": 10,
    "start_time": "2022-03-17T14:09:32.371Z"
   },
   {
    "duration": 25,
    "start_time": "2022-03-17T14:09:32.383Z"
   },
   {
    "duration": 17,
    "start_time": "2022-03-17T14:09:32.410Z"
   },
   {
    "duration": 11,
    "start_time": "2022-03-17T14:09:32.429Z"
   },
   {
    "duration": 25,
    "start_time": "2022-03-17T14:12:22.760Z"
   },
   {
    "duration": 10,
    "start_time": "2022-03-17T14:16:53.775Z"
   },
   {
    "duration": 7,
    "start_time": "2022-03-17T14:18:37.744Z"
   },
   {
    "duration": 10,
    "start_time": "2022-03-17T14:18:38.443Z"
   },
   {
    "duration": 2,
    "start_time": "2022-03-17T14:19:33.817Z"
   },
   {
    "duration": 18,
    "start_time": "2022-03-17T14:22:35.413Z"
   },
   {
    "duration": 2,
    "start_time": "2022-03-17T15:25:51.548Z"
   },
   {
    "duration": 70,
    "start_time": "2022-03-17T15:28:27.688Z"
   },
   {
    "duration": 7,
    "start_time": "2022-03-17T15:28:42.829Z"
   },
   {
    "duration": 4,
    "start_time": "2022-03-17T15:28:56.787Z"
   },
   {
    "duration": 8,
    "start_time": "2022-03-17T15:30:07.002Z"
   },
   {
    "duration": 641,
    "start_time": "2022-03-17T15:30:25.829Z"
   },
   {
    "duration": 170,
    "start_time": "2022-03-17T15:30:38.128Z"
   },
   {
    "duration": 358,
    "start_time": "2022-03-17T15:31:06.979Z"
   },
   {
    "duration": 18,
    "start_time": "2022-03-17T15:33:54.886Z"
   },
   {
    "duration": 8,
    "start_time": "2022-03-17T15:34:01.774Z"
   },
   {
    "duration": 14,
    "start_time": "2022-03-17T15:34:50.385Z"
   },
   {
    "duration": 1266,
    "start_time": "2022-03-17T15:34:59.395Z"
   },
   {
    "duration": 315,
    "start_time": "2022-03-17T15:35:35.785Z"
   },
   {
    "duration": 347,
    "start_time": "2022-03-17T15:36:09.245Z"
   },
   {
    "duration": 393,
    "start_time": "2022-03-17T15:38:29.617Z"
   },
   {
    "duration": 207,
    "start_time": "2022-03-17T15:57:20.034Z"
   },
   {
    "duration": 231,
    "start_time": "2022-03-17T15:58:08.811Z"
   },
   {
    "duration": 161,
    "start_time": "2022-03-17T15:58:14.562Z"
   },
   {
    "duration": 165,
    "start_time": "2022-03-17T15:58:52.727Z"
   },
   {
    "duration": 13,
    "start_time": "2022-03-17T15:59:26.615Z"
   },
   {
    "duration": 14,
    "start_time": "2022-03-17T15:59:52.007Z"
   },
   {
    "duration": 13,
    "start_time": "2022-03-17T16:00:11.008Z"
   },
   {
    "duration": 47,
    "start_time": "2022-03-21T12:14:47.415Z"
   },
   {
    "duration": 399,
    "start_time": "2022-03-21T12:14:59.647Z"
   },
   {
    "duration": 43,
    "start_time": "2022-03-21T12:15:00.048Z"
   },
   {
    "duration": 23,
    "start_time": "2022-03-21T12:15:00.093Z"
   },
   {
    "duration": 17,
    "start_time": "2022-03-21T12:15:00.118Z"
   },
   {
    "duration": 42,
    "start_time": "2022-03-21T12:15:00.137Z"
   },
   {
    "duration": 10,
    "start_time": "2022-03-21T12:15:00.181Z"
   },
   {
    "duration": 21,
    "start_time": "2022-03-21T12:15:00.193Z"
   },
   {
    "duration": 9,
    "start_time": "2022-03-21T12:15:00.216Z"
   },
   {
    "duration": 32,
    "start_time": "2022-03-21T12:15:00.226Z"
   },
   {
    "duration": 6,
    "start_time": "2022-03-21T12:15:00.260Z"
   },
   {
    "duration": 11,
    "start_time": "2022-03-21T12:15:00.268Z"
   },
   {
    "duration": 9,
    "start_time": "2022-03-21T12:15:00.281Z"
   },
   {
    "duration": 8,
    "start_time": "2022-03-21T12:15:00.292Z"
   },
   {
    "duration": 39,
    "start_time": "2022-03-21T12:15:00.302Z"
   },
   {
    "duration": 8,
    "start_time": "2022-03-21T12:15:00.343Z"
   },
   {
    "duration": 22,
    "start_time": "2022-03-21T12:15:00.353Z"
   },
   {
    "duration": 23,
    "start_time": "2022-03-21T12:15:00.376Z"
   },
   {
    "duration": 24,
    "start_time": "2022-03-21T12:15:00.401Z"
   },
   {
    "duration": 28,
    "start_time": "2022-03-21T12:15:00.426Z"
   },
   {
    "duration": 26,
    "start_time": "2022-03-21T12:15:00.455Z"
   },
   {
    "duration": 697,
    "start_time": "2022-03-21T12:15:00.482Z"
   },
   {
    "duration": 187,
    "start_time": "2022-03-21T12:15:01.180Z"
   },
   {
    "duration": 79,
    "start_time": "2022-03-21T12:16:10.131Z"
   },
   {
    "duration": 11,
    "start_time": "2022-03-21T12:17:12.035Z"
   },
   {
    "duration": 11,
    "start_time": "2022-03-21T12:17:36.310Z"
   },
   {
    "duration": 143,
    "start_time": "2022-03-21T12:21:03.423Z"
   },
   {
    "duration": 298,
    "start_time": "2022-03-21T12:27:38.577Z"
   },
   {
    "duration": 238,
    "start_time": "2022-03-21T12:28:12.816Z"
   },
   {
    "duration": 125,
    "start_time": "2022-03-21T12:29:42.778Z"
   },
   {
    "duration": 113,
    "start_time": "2022-03-21T12:43:22.892Z"
   },
   {
    "duration": 125,
    "start_time": "2022-03-21T12:43:53.268Z"
   },
   {
    "duration": 120,
    "start_time": "2022-03-21T12:44:32.859Z"
   },
   {
    "duration": 125,
    "start_time": "2022-03-21T12:44:52.233Z"
   },
   {
    "duration": 119,
    "start_time": "2022-03-21T12:45:16.009Z"
   },
   {
    "duration": 8,
    "start_time": "2022-03-21T12:47:16.964Z"
   },
   {
    "duration": 22,
    "start_time": "2022-03-21T12:47:28.627Z"
   },
   {
    "duration": 424,
    "start_time": "2022-03-21T12:48:09.418Z"
   },
   {
    "duration": 37,
    "start_time": "2022-03-21T12:48:09.844Z"
   },
   {
    "duration": 24,
    "start_time": "2022-03-21T12:48:09.883Z"
   },
   {
    "duration": 27,
    "start_time": "2022-03-21T12:48:09.909Z"
   },
   {
    "duration": 31,
    "start_time": "2022-03-21T12:48:09.939Z"
   },
   {
    "duration": 10,
    "start_time": "2022-03-21T12:48:09.972Z"
   },
   {
    "duration": 22,
    "start_time": "2022-03-21T12:48:09.983Z"
   },
   {
    "duration": 30,
    "start_time": "2022-03-21T12:48:10.006Z"
   },
   {
    "duration": 36,
    "start_time": "2022-03-21T12:48:10.037Z"
   },
   {
    "duration": 5,
    "start_time": "2022-03-21T12:48:10.075Z"
   },
   {
    "duration": 7,
    "start_time": "2022-03-21T12:48:10.082Z"
   },
   {
    "duration": 9,
    "start_time": "2022-03-21T12:48:10.091Z"
   },
   {
    "duration": 30,
    "start_time": "2022-03-21T12:48:10.102Z"
   },
   {
    "duration": 14,
    "start_time": "2022-03-21T12:48:10.135Z"
   },
   {
    "duration": 9,
    "start_time": "2022-03-21T12:48:10.151Z"
   },
   {
    "duration": 19,
    "start_time": "2022-03-21T12:48:10.162Z"
   },
   {
    "duration": 16,
    "start_time": "2022-03-21T12:48:10.183Z"
   },
   {
    "duration": 37,
    "start_time": "2022-03-21T12:48:10.200Z"
   },
   {
    "duration": 10,
    "start_time": "2022-03-21T12:48:10.238Z"
   },
   {
    "duration": 16,
    "start_time": "2022-03-21T12:48:10.249Z"
   },
   {
    "duration": 555,
    "start_time": "2022-03-21T12:48:10.266Z"
   },
   {
    "duration": 246,
    "start_time": "2022-03-21T12:48:10.824Z"
   },
   {
    "duration": 94,
    "start_time": "2022-03-21T12:48:11.072Z"
   },
   {
    "duration": 19,
    "start_time": "2022-03-21T12:48:32.243Z"
   },
   {
    "duration": 21,
    "start_time": "2022-03-21T12:49:15.901Z"
   },
   {
    "duration": 56,
    "start_time": "2022-03-21T12:50:01.585Z"
   },
   {
    "duration": 29,
    "start_time": "2022-03-21T12:50:53.463Z"
   },
   {
    "duration": 52,
    "start_time": "2022-03-21T12:55:11.654Z"
   },
   {
    "duration": 11,
    "start_time": "2022-03-21T13:06:22.597Z"
   },
   {
    "duration": 10,
    "start_time": "2022-03-21T13:06:47.900Z"
   },
   {
    "duration": 13,
    "start_time": "2022-03-21T13:09:48.985Z"
   },
   {
    "duration": 15,
    "start_time": "2022-03-21T13:10:27.932Z"
   },
   {
    "duration": 12,
    "start_time": "2022-03-21T13:10:40.018Z"
   },
   {
    "duration": 115,
    "start_time": "2022-03-21T13:12:46.583Z"
   },
   {
    "duration": 11,
    "start_time": "2022-03-21T13:14:00.696Z"
   },
   {
    "duration": 10,
    "start_time": "2022-03-21T13:19:05.801Z"
   },
   {
    "duration": 1014,
    "start_time": "2022-03-21T13:23:00.472Z"
   },
   {
    "duration": 17,
    "start_time": "2022-03-21T13:23:13.293Z"
   },
   {
    "duration": 14,
    "start_time": "2022-03-21T13:24:24.267Z"
   },
   {
    "duration": 17,
    "start_time": "2022-03-21T13:24:37.714Z"
   },
   {
    "duration": 18,
    "start_time": "2022-03-21T13:26:06.361Z"
   },
   {
    "duration": 19,
    "start_time": "2022-03-21T13:26:28.916Z"
   },
   {
    "duration": 165,
    "start_time": "2022-03-21T13:31:08.347Z"
   },
   {
    "duration": 114,
    "start_time": "2022-03-21T13:31:23.118Z"
   },
   {
    "duration": 6,
    "start_time": "2022-03-21T13:36:26.136Z"
   },
   {
    "duration": 7,
    "start_time": "2022-03-21T13:36:36.961Z"
   },
   {
    "duration": 16,
    "start_time": "2022-03-21T13:42:09.334Z"
   },
   {
    "duration": 42,
    "start_time": "2022-03-21T13:42:17.273Z"
   },
   {
    "duration": 249,
    "start_time": "2022-03-21T13:43:54.359Z"
   },
   {
    "duration": 293,
    "start_time": "2022-03-21T13:45:02.140Z"
   },
   {
    "duration": 179,
    "start_time": "2022-03-21T13:45:24.677Z"
   },
   {
    "duration": 187,
    "start_time": "2022-03-21T13:45:37.701Z"
   },
   {
    "duration": 185,
    "start_time": "2022-03-21T13:45:44.821Z"
   },
   {
    "duration": 186,
    "start_time": "2022-03-21T13:48:34.853Z"
   },
   {
    "duration": 185,
    "start_time": "2022-03-21T13:49:05.467Z"
   },
   {
    "duration": 182,
    "start_time": "2022-03-21T13:49:13.768Z"
   },
   {
    "duration": 194,
    "start_time": "2022-03-21T13:49:23.124Z"
   },
   {
    "duration": 187,
    "start_time": "2022-03-21T13:50:29.246Z"
   },
   {
    "duration": 10,
    "start_time": "2022-03-21T13:51:04.563Z"
   },
   {
    "duration": 185,
    "start_time": "2022-03-21T13:51:13.322Z"
   },
   {
    "duration": 353,
    "start_time": "2022-03-21T14:02:34.985Z"
   },
   {
    "duration": 37,
    "start_time": "2022-03-21T14:02:35.340Z"
   },
   {
    "duration": 23,
    "start_time": "2022-03-21T14:02:35.379Z"
   },
   {
    "duration": 30,
    "start_time": "2022-03-21T14:02:35.404Z"
   },
   {
    "duration": 29,
    "start_time": "2022-03-21T14:02:35.436Z"
   },
   {
    "duration": 9,
    "start_time": "2022-03-21T14:02:35.467Z"
   },
   {
    "duration": 20,
    "start_time": "2022-03-21T14:02:35.478Z"
   },
   {
    "duration": 5,
    "start_time": "2022-03-21T14:02:35.500Z"
   },
   {
    "duration": 26,
    "start_time": "2022-03-21T14:02:35.533Z"
   },
   {
    "duration": 6,
    "start_time": "2022-03-21T14:02:35.561Z"
   },
   {
    "duration": 7,
    "start_time": "2022-03-21T14:02:35.568Z"
   },
   {
    "duration": 8,
    "start_time": "2022-03-21T14:02:35.577Z"
   },
   {
    "duration": 8,
    "start_time": "2022-03-21T14:02:35.587Z"
   },
   {
    "duration": 47,
    "start_time": "2022-03-21T14:02:35.597Z"
   },
   {
    "duration": 9,
    "start_time": "2022-03-21T14:02:35.645Z"
   },
   {
    "duration": 22,
    "start_time": "2022-03-21T14:02:35.656Z"
   },
   {
    "duration": 16,
    "start_time": "2022-03-21T14:02:35.680Z"
   },
   {
    "duration": 34,
    "start_time": "2022-03-21T14:02:35.699Z"
   },
   {
    "duration": 11,
    "start_time": "2022-03-21T14:02:35.734Z"
   },
   {
    "duration": 19,
    "start_time": "2022-03-21T14:02:35.746Z"
   },
   {
    "duration": 572,
    "start_time": "2022-03-21T14:02:35.766Z"
   },
   {
    "duration": 378,
    "start_time": "2022-03-21T14:02:36.341Z"
   },
   {
    "duration": 14,
    "start_time": "2022-03-21T14:02:36.721Z"
   },
   {
    "duration": 32,
    "start_time": "2022-03-21T14:02:36.737Z"
   },
   {
    "duration": 211,
    "start_time": "2022-03-21T14:02:36.771Z"
   },
   {
    "duration": 9,
    "start_time": "2022-03-21T14:06:13.922Z"
   },
   {
    "duration": 74,
    "start_time": "2022-03-21T14:06:36.097Z"
   },
   {
    "duration": 13,
    "start_time": "2022-03-21T14:06:51.296Z"
   },
   {
    "duration": 12,
    "start_time": "2022-03-21T14:06:57.402Z"
   },
   {
    "duration": 9,
    "start_time": "2022-03-21T14:07:04.772Z"
   },
   {
    "duration": 9,
    "start_time": "2022-03-21T14:40:39.930Z"
   },
   {
    "duration": 56,
    "start_time": "2022-03-21T14:46:06.327Z"
   },
   {
    "duration": 32,
    "start_time": "2022-03-21T14:47:46.713Z"
   },
   {
    "duration": 316,
    "start_time": "2022-03-21T14:48:05.086Z"
   },
   {
    "duration": 302,
    "start_time": "2022-03-21T14:48:24.413Z"
   },
   {
    "duration": 300,
    "start_time": "2022-03-21T14:52:46.842Z"
   },
   {
    "duration": 282,
    "start_time": "2022-03-21T14:52:56.492Z"
   },
   {
    "duration": 8,
    "start_time": "2022-03-21T15:03:28.923Z"
   },
   {
    "duration": 101,
    "start_time": "2022-03-21T15:04:59.542Z"
   },
   {
    "duration": 218,
    "start_time": "2022-03-21T15:05:12.705Z"
   },
   {
    "duration": 113,
    "start_time": "2022-03-21T15:05:31.043Z"
   },
   {
    "duration": 3,
    "start_time": "2022-03-21T15:06:19.916Z"
   },
   {
    "duration": 700,
    "start_time": "2022-03-21T15:06:26.015Z"
   },
   {
    "duration": 44,
    "start_time": "2022-03-21T15:06:26.717Z"
   },
   {
    "duration": 21,
    "start_time": "2022-03-21T15:06:26.763Z"
   },
   {
    "duration": 15,
    "start_time": "2022-03-21T15:06:26.786Z"
   },
   {
    "duration": 53,
    "start_time": "2022-03-21T15:06:26.803Z"
   },
   {
    "duration": 8,
    "start_time": "2022-03-21T15:06:26.858Z"
   },
   {
    "duration": 18,
    "start_time": "2022-03-21T15:06:26.868Z"
   },
   {
    "duration": 5,
    "start_time": "2022-03-21T15:06:26.887Z"
   },
   {
    "duration": 55,
    "start_time": "2022-03-21T15:06:26.894Z"
   },
   {
    "duration": 5,
    "start_time": "2022-03-21T15:06:26.952Z"
   },
   {
    "duration": 7,
    "start_time": "2022-03-21T15:06:26.959Z"
   },
   {
    "duration": 15,
    "start_time": "2022-03-21T15:06:26.967Z"
   },
   {
    "duration": 10,
    "start_time": "2022-03-21T15:06:26.983Z"
   },
   {
    "duration": 15,
    "start_time": "2022-03-21T15:06:26.995Z"
   },
   {
    "duration": 15,
    "start_time": "2022-03-21T15:06:27.034Z"
   },
   {
    "duration": 17,
    "start_time": "2022-03-21T15:06:27.051Z"
   },
   {
    "duration": 16,
    "start_time": "2022-03-21T15:06:27.070Z"
   },
   {
    "duration": 9,
    "start_time": "2022-03-21T15:06:27.088Z"
   },
   {
    "duration": 39,
    "start_time": "2022-03-21T15:06:27.098Z"
   },
   {
    "duration": 19,
    "start_time": "2022-03-21T15:06:27.139Z"
   },
   {
    "duration": 320,
    "start_time": "2022-03-21T15:06:27.159Z"
   },
   {
    "duration": 267,
    "start_time": "2022-03-21T15:06:27.481Z"
   },
   {
    "duration": 8,
    "start_time": "2022-03-21T15:06:27.750Z"
   },
   {
    "duration": 33,
    "start_time": "2022-03-21T15:06:27.760Z"
   },
   {
    "duration": 287,
    "start_time": "2022-03-21T15:06:27.795Z"
   },
   {
    "duration": 9,
    "start_time": "2022-03-21T15:06:28.084Z"
   },
   {
    "duration": 10,
    "start_time": "2022-03-21T15:06:28.094Z"
   },
   {
    "duration": 60,
    "start_time": "2022-03-21T15:06:28.108Z"
   },
   {
    "duration": 350,
    "start_time": "2022-03-21T15:06:28.170Z"
   },
   {
    "duration": 8,
    "start_time": "2022-03-21T15:06:28.522Z"
   },
   {
    "duration": 186,
    "start_time": "2022-03-21T15:06:28.531Z"
   },
   {
    "duration": 114,
    "start_time": "2022-03-21T15:06:38.967Z"
   },
   {
    "duration": 105,
    "start_time": "2022-03-21T15:06:57.371Z"
   },
   {
    "duration": 20,
    "start_time": "2022-03-21T15:07:18.166Z"
   },
   {
    "duration": 10,
    "start_time": "2022-03-21T15:08:47.717Z"
   },
   {
    "duration": 15,
    "start_time": "2022-03-21T15:10:04.559Z"
   },
   {
    "duration": 47,
    "start_time": "2022-03-22T11:18:44.578Z"
   },
   {
    "duration": 830,
    "start_time": "2022-03-22T11:18:55.917Z"
   },
   {
    "duration": 53,
    "start_time": "2022-03-22T11:18:56.749Z"
   },
   {
    "duration": 22,
    "start_time": "2022-03-22T11:18:56.803Z"
   },
   {
    "duration": 14,
    "start_time": "2022-03-22T11:18:56.827Z"
   },
   {
    "duration": 24,
    "start_time": "2022-03-22T11:18:56.843Z"
   },
   {
    "duration": 35,
    "start_time": "2022-03-22T11:18:56.869Z"
   },
   {
    "duration": 17,
    "start_time": "2022-03-22T11:18:56.906Z"
   },
   {
    "duration": 5,
    "start_time": "2022-03-22T11:18:56.924Z"
   },
   {
    "duration": 24,
    "start_time": "2022-03-22T11:18:56.930Z"
   },
   {
    "duration": 4,
    "start_time": "2022-03-22T11:18:56.957Z"
   },
   {
    "duration": 5,
    "start_time": "2022-03-22T11:18:56.962Z"
   },
   {
    "duration": 37,
    "start_time": "2022-03-22T11:18:56.969Z"
   },
   {
    "duration": 6,
    "start_time": "2022-03-22T11:18:57.007Z"
   },
   {
    "duration": 14,
    "start_time": "2022-03-22T11:18:57.014Z"
   },
   {
    "duration": 9,
    "start_time": "2022-03-22T11:18:57.029Z"
   },
   {
    "duration": 17,
    "start_time": "2022-03-22T11:18:57.040Z"
   },
   {
    "duration": 15,
    "start_time": "2022-03-22T11:18:57.058Z"
   },
   {
    "duration": 7,
    "start_time": "2022-03-22T11:18:57.101Z"
   },
   {
    "duration": 10,
    "start_time": "2022-03-22T11:18:57.110Z"
   },
   {
    "duration": 14,
    "start_time": "2022-03-22T11:18:57.122Z"
   },
   {
    "duration": 312,
    "start_time": "2022-03-22T11:18:57.138Z"
   },
   {
    "duration": 234,
    "start_time": "2022-03-22T11:18:57.451Z"
   },
   {
    "duration": 16,
    "start_time": "2022-03-22T11:18:57.687Z"
   },
   {
    "duration": 30,
    "start_time": "2022-03-22T11:18:57.704Z"
   },
   {
    "duration": 247,
    "start_time": "2022-03-22T11:18:57.736Z"
   },
   {
    "duration": 17,
    "start_time": "2022-03-22T11:18:57.984Z"
   },
   {
    "duration": 8,
    "start_time": "2022-03-22T11:18:58.002Z"
   },
   {
    "duration": 32,
    "start_time": "2022-03-22T11:18:58.012Z"
   },
   {
    "duration": 336,
    "start_time": "2022-03-22T11:18:58.046Z"
   },
   {
    "duration": 10,
    "start_time": "2022-03-22T11:18:58.384Z"
   },
   {
    "duration": 105,
    "start_time": "2022-03-22T11:18:58.395Z"
   },
   {
    "duration": 15,
    "start_time": "2022-03-22T11:19:40.439Z"
   },
   {
    "duration": 137,
    "start_time": "2022-03-22T11:20:04.898Z"
   },
   {
    "duration": 8,
    "start_time": "2022-03-22T11:20:29.176Z"
   },
   {
    "duration": 25,
    "start_time": "2022-03-22T11:20:58.922Z"
   },
   {
    "duration": 10,
    "start_time": "2022-03-22T11:21:54.237Z"
   },
   {
    "duration": 10,
    "start_time": "2022-03-22T11:22:14.272Z"
   },
   {
    "duration": 10,
    "start_time": "2022-03-22T11:22:28.430Z"
   },
   {
    "duration": 268,
    "start_time": "2022-03-22T11:24:07.095Z"
   },
   {
    "duration": 11,
    "start_time": "2022-03-22T11:24:17.695Z"
   },
   {
    "duration": 99,
    "start_time": "2022-03-22T11:25:50.936Z"
   },
   {
    "duration": 11,
    "start_time": "2022-03-22T11:26:36.783Z"
   },
   {
    "duration": 9,
    "start_time": "2022-03-22T11:26:46.943Z"
   },
   {
    "duration": 274,
    "start_time": "2022-03-22T11:26:54.616Z"
   },
   {
    "duration": 93,
    "start_time": "2022-03-22T11:27:11.253Z"
   },
   {
    "duration": 119,
    "start_time": "2022-03-22T11:54:27.314Z"
   },
   {
    "duration": 10,
    "start_time": "2022-03-22T11:56:15.048Z"
   },
   {
    "duration": 151,
    "start_time": "2022-03-22T11:56:16.989Z"
   },
   {
    "duration": 149,
    "start_time": "2022-03-22T12:06:03.668Z"
   },
   {
    "duration": 95,
    "start_time": "2022-03-22T12:07:41.391Z"
   },
   {
    "duration": 135,
    "start_time": "2022-03-22T12:17:15.729Z"
   },
   {
    "duration": 213,
    "start_time": "2022-03-22T12:17:32.667Z"
   },
   {
    "duration": 112,
    "start_time": "2022-03-22T12:17:50.051Z"
   },
   {
    "duration": 296,
    "start_time": "2022-03-22T12:21:31.624Z"
   },
   {
    "duration": 293,
    "start_time": "2022-03-22T12:21:51.674Z"
   },
   {
    "duration": 310,
    "start_time": "2022-03-22T12:22:13.944Z"
   },
   {
    "duration": 138,
    "start_time": "2022-03-22T12:23:11.996Z"
   },
   {
    "duration": 162,
    "start_time": "2022-03-22T12:23:18.431Z"
   },
   {
    "duration": 154,
    "start_time": "2022-03-22T12:23:53.269Z"
   },
   {
    "duration": 299,
    "start_time": "2022-03-22T12:24:09.260Z"
   },
   {
    "duration": 404,
    "start_time": "2022-03-22T12:25:27.899Z"
   },
   {
    "duration": 282,
    "start_time": "2022-03-22T12:26:06.227Z"
   },
   {
    "duration": 278,
    "start_time": "2022-03-22T12:26:49.655Z"
   },
   {
    "duration": 1617,
    "start_time": "2022-03-22T12:27:25.867Z"
   },
   {
    "duration": 679,
    "start_time": "2022-03-22T12:27:27.486Z"
   },
   {
    "duration": 25,
    "start_time": "2022-03-22T12:27:28.167Z"
   },
   {
    "duration": 19,
    "start_time": "2022-03-22T12:27:28.195Z"
   },
   {
    "duration": 33,
    "start_time": "2022-03-22T12:27:28.216Z"
   },
   {
    "duration": 12,
    "start_time": "2022-03-22T12:27:28.250Z"
   },
   {
    "duration": 44,
    "start_time": "2022-03-22T12:27:28.263Z"
   },
   {
    "duration": 6,
    "start_time": "2022-03-22T12:27:28.309Z"
   },
   {
    "duration": 51,
    "start_time": "2022-03-22T12:27:28.316Z"
   },
   {
    "duration": 6,
    "start_time": "2022-03-22T12:27:28.370Z"
   },
   {
    "duration": 17,
    "start_time": "2022-03-22T12:27:28.378Z"
   },
   {
    "duration": 30,
    "start_time": "2022-03-22T12:27:28.397Z"
   },
   {
    "duration": 20,
    "start_time": "2022-03-22T12:27:28.428Z"
   },
   {
    "duration": 37,
    "start_time": "2022-03-22T12:27:28.450Z"
   },
   {
    "duration": 20,
    "start_time": "2022-03-22T12:27:28.490Z"
   },
   {
    "duration": 38,
    "start_time": "2022-03-22T12:27:28.512Z"
   },
   {
    "duration": 24,
    "start_time": "2022-03-22T12:27:28.552Z"
   },
   {
    "duration": 22,
    "start_time": "2022-03-22T12:27:28.578Z"
   },
   {
    "duration": 25,
    "start_time": "2022-03-22T12:27:28.602Z"
   },
   {
    "duration": 34,
    "start_time": "2022-03-22T12:27:28.629Z"
   },
   {
    "duration": 308,
    "start_time": "2022-03-22T12:27:28.666Z"
   },
   {
    "duration": 394,
    "start_time": "2022-03-22T12:27:28.976Z"
   },
   {
    "duration": 11,
    "start_time": "2022-03-22T12:27:29.372Z"
   },
   {
    "duration": 62,
    "start_time": "2022-03-22T12:27:29.385Z"
   },
   {
    "duration": 335,
    "start_time": "2022-03-22T12:27:29.448Z"
   },
   {
    "duration": 16,
    "start_time": "2022-03-22T12:27:29.785Z"
   },
   {
    "duration": 15,
    "start_time": "2022-03-22T12:27:29.803Z"
   },
   {
    "duration": 61,
    "start_time": "2022-03-22T12:27:29.822Z"
   },
   {
    "duration": 328,
    "start_time": "2022-03-22T12:27:29.885Z"
   },
   {
    "duration": 130,
    "start_time": "2022-03-22T12:27:30.215Z"
   },
   {
    "duration": 175,
    "start_time": "2022-03-22T12:27:30.347Z"
   },
   {
    "duration": 13,
    "start_time": "2022-03-22T12:27:30.525Z"
   },
   {
    "duration": 192,
    "start_time": "2022-03-22T12:27:30.541Z"
   },
   {
    "duration": 312,
    "start_time": "2022-03-22T12:27:30.736Z"
   },
   {
    "duration": 210,
    "start_time": "2022-03-22T12:29:45.355Z"
   },
   {
    "duration": 233,
    "start_time": "2022-03-22T12:31:44.680Z"
   },
   {
    "duration": 207,
    "start_time": "2022-03-22T12:31:51.945Z"
   },
   {
    "duration": 140,
    "start_time": "2022-03-22T12:32:41.529Z"
   },
   {
    "duration": 187,
    "start_time": "2022-03-22T12:33:33.279Z"
   },
   {
    "duration": 264,
    "start_time": "2022-03-22T12:33:50.094Z"
   },
   {
    "duration": 121,
    "start_time": "2022-03-22T12:37:23.775Z"
   },
   {
    "duration": 202,
    "start_time": "2022-03-22T13:41:16.952Z"
   },
   {
    "duration": 167,
    "start_time": "2022-03-22T13:41:41.844Z"
   },
   {
    "duration": 29,
    "start_time": "2022-03-22T13:45:35.843Z"
   },
   {
    "duration": 34,
    "start_time": "2022-03-22T13:47:31.166Z"
   },
   {
    "duration": 909,
    "start_time": "2022-03-22T13:47:54.117Z"
   },
   {
    "duration": 197,
    "start_time": "2022-03-22T13:47:55.029Z"
   },
   {
    "duration": 21,
    "start_time": "2022-03-22T13:47:55.227Z"
   },
   {
    "duration": 18,
    "start_time": "2022-03-22T13:47:55.250Z"
   },
   {
    "duration": 60,
    "start_time": "2022-03-22T13:47:55.270Z"
   },
   {
    "duration": 15,
    "start_time": "2022-03-22T13:47:55.332Z"
   },
   {
    "duration": 15,
    "start_time": "2022-03-22T13:47:55.349Z"
   },
   {
    "duration": 6,
    "start_time": "2022-03-22T13:47:55.366Z"
   },
   {
    "duration": 63,
    "start_time": "2022-03-22T13:47:55.374Z"
   },
   {
    "duration": 7,
    "start_time": "2022-03-22T13:47:55.440Z"
   },
   {
    "duration": 8,
    "start_time": "2022-03-22T13:47:55.449Z"
   },
   {
    "duration": 17,
    "start_time": "2022-03-22T13:47:55.490Z"
   },
   {
    "duration": 12,
    "start_time": "2022-03-22T13:47:55.509Z"
   },
   {
    "duration": 15,
    "start_time": "2022-03-22T13:47:55.524Z"
   },
   {
    "duration": 10,
    "start_time": "2022-03-22T13:47:55.540Z"
   },
   {
    "duration": 23,
    "start_time": "2022-03-22T13:47:55.552Z"
   },
   {
    "duration": 47,
    "start_time": "2022-03-22T13:47:55.576Z"
   },
   {
    "duration": 10,
    "start_time": "2022-03-22T13:47:55.625Z"
   },
   {
    "duration": 16,
    "start_time": "2022-03-22T13:47:55.636Z"
   },
   {
    "duration": 22,
    "start_time": "2022-03-22T13:47:55.654Z"
   },
   {
    "duration": 332,
    "start_time": "2022-03-22T13:47:55.702Z"
   },
   {
    "duration": 253,
    "start_time": "2022-03-22T13:47:56.036Z"
   },
   {
    "duration": 12,
    "start_time": "2022-03-22T13:47:56.291Z"
   },
   {
    "duration": 30,
    "start_time": "2022-03-22T13:47:56.305Z"
   },
   {
    "duration": 355,
    "start_time": "2022-03-22T13:47:56.337Z"
   },
   {
    "duration": 14,
    "start_time": "2022-03-22T13:47:56.694Z"
   },
   {
    "duration": 9,
    "start_time": "2022-03-22T13:47:56.710Z"
   },
   {
    "duration": 46,
    "start_time": "2022-03-22T13:47:56.723Z"
   },
   {
    "duration": 493,
    "start_time": "2022-03-22T13:47:56.771Z"
   },
   {
    "duration": 157,
    "start_time": "2022-03-22T13:47:57.265Z"
   },
   {
    "duration": 113,
    "start_time": "2022-03-22T13:47:57.423Z"
   },
   {
    "duration": 10,
    "start_time": "2022-03-22T13:47:57.538Z"
   },
   {
    "duration": 181,
    "start_time": "2022-03-22T13:47:57.549Z"
   },
   {
    "duration": 259,
    "start_time": "2022-03-22T13:47:57.732Z"
   },
   {
    "duration": 96,
    "start_time": "2022-03-22T13:47:57.993Z"
   },
   {
    "duration": 82,
    "start_time": "2022-03-22T13:48:25.617Z"
   },
   {
    "duration": 37,
    "start_time": "2022-03-22T13:49:17.226Z"
   },
   {
    "duration": 21,
    "start_time": "2022-03-22T13:50:40.107Z"
   },
   {
    "duration": 28,
    "start_time": "2022-03-22T13:51:03.034Z"
   },
   {
    "duration": 31,
    "start_time": "2022-03-22T13:52:20.379Z"
   },
   {
    "duration": 25,
    "start_time": "2022-03-22T13:53:21.619Z"
   },
   {
    "duration": 23,
    "start_time": "2022-03-22T13:53:33.971Z"
   },
   {
    "duration": 32,
    "start_time": "2022-03-22T14:03:22.282Z"
   },
   {
    "duration": 7,
    "start_time": "2022-03-22T14:07:50.346Z"
   },
   {
    "duration": 4961,
    "start_time": "2022-03-22T14:08:02.977Z"
   },
   {
    "duration": 28,
    "start_time": "2022-03-22T14:09:26.255Z"
   },
   {
    "duration": 3525,
    "start_time": "2022-03-22T14:09:44.222Z"
   },
   {
    "duration": 3474,
    "start_time": "2022-03-22T14:10:29.363Z"
   },
   {
    "duration": 3896,
    "start_time": "2022-03-22T14:10:38.418Z"
   },
   {
    "duration": 135,
    "start_time": "2022-03-22T14:13:15.261Z"
   },
   {
    "duration": 142,
    "start_time": "2022-03-22T14:16:54.935Z"
   },
   {
    "duration": 147,
    "start_time": "2022-03-22T14:23:12.894Z"
   },
   {
    "duration": 683,
    "start_time": "2022-03-22T14:26:33.209Z"
   },
   {
    "duration": 12,
    "start_time": "2022-03-22T14:32:39.751Z"
   },
   {
    "duration": 12,
    "start_time": "2022-03-22T14:33:45.447Z"
   },
   {
    "duration": 137,
    "start_time": "2022-03-22T14:58:29.166Z"
   },
   {
    "duration": 169,
    "start_time": "2022-03-22T14:59:12.797Z"
   },
   {
    "duration": 12,
    "start_time": "2022-03-22T14:59:53.894Z"
   },
   {
    "duration": 729,
    "start_time": "2022-03-22T15:01:53.494Z"
   },
   {
    "duration": 203,
    "start_time": "2022-03-22T15:01:54.224Z"
   },
   {
    "duration": 21,
    "start_time": "2022-03-22T15:01:54.428Z"
   },
   {
    "duration": 13,
    "start_time": "2022-03-22T15:01:54.451Z"
   },
   {
    "duration": 40,
    "start_time": "2022-03-22T15:01:54.466Z"
   },
   {
    "duration": 13,
    "start_time": "2022-03-22T15:01:54.508Z"
   },
   {
    "duration": 15,
    "start_time": "2022-03-22T15:01:54.522Z"
   },
   {
    "duration": 4,
    "start_time": "2022-03-22T15:01:54.539Z"
   },
   {
    "duration": 23,
    "start_time": "2022-03-22T15:01:54.545Z"
   },
   {
    "duration": 10,
    "start_time": "2022-03-22T15:01:54.606Z"
   },
   {
    "duration": 6,
    "start_time": "2022-03-22T15:01:54.618Z"
   },
   {
    "duration": 7,
    "start_time": "2022-03-22T15:01:54.626Z"
   },
   {
    "duration": 5,
    "start_time": "2022-03-22T15:01:54.634Z"
   },
   {
    "duration": 12,
    "start_time": "2022-03-22T15:01:54.641Z"
   },
   {
    "duration": 8,
    "start_time": "2022-03-22T15:01:54.655Z"
   },
   {
    "duration": 57,
    "start_time": "2022-03-22T15:01:54.664Z"
   },
   {
    "duration": 16,
    "start_time": "2022-03-22T15:01:54.723Z"
   },
   {
    "duration": 9,
    "start_time": "2022-03-22T15:01:54.741Z"
   },
   {
    "duration": 9,
    "start_time": "2022-03-22T15:01:54.751Z"
   },
   {
    "duration": 43,
    "start_time": "2022-03-22T15:01:54.761Z"
   },
   {
    "duration": 323,
    "start_time": "2022-03-22T15:01:54.807Z"
   },
   {
    "duration": 248,
    "start_time": "2022-03-22T15:01:55.132Z"
   },
   {
    "duration": 7,
    "start_time": "2022-03-22T15:01:55.381Z"
   },
   {
    "duration": 42,
    "start_time": "2022-03-22T15:01:55.389Z"
   },
   {
    "duration": 258,
    "start_time": "2022-03-22T15:01:55.433Z"
   },
   {
    "duration": 10,
    "start_time": "2022-03-22T15:01:55.701Z"
   },
   {
    "duration": 15,
    "start_time": "2022-03-22T15:01:55.713Z"
   },
   {
    "duration": 31,
    "start_time": "2022-03-22T15:01:55.733Z"
   },
   {
    "duration": 360,
    "start_time": "2022-03-22T15:01:55.766Z"
   },
   {
    "duration": 115,
    "start_time": "2022-03-22T15:01:56.128Z"
   },
   {
    "duration": 121,
    "start_time": "2022-03-22T15:01:56.244Z"
   },
   {
    "duration": 9,
    "start_time": "2022-03-22T15:01:56.366Z"
   },
   {
    "duration": 173,
    "start_time": "2022-03-22T15:01:56.377Z"
   },
   {
    "duration": 187,
    "start_time": "2022-03-22T15:01:56.552Z"
   },
   {
    "duration": 176,
    "start_time": "2022-03-22T15:01:56.741Z"
   },
   {
    "duration": 158,
    "start_time": "2022-03-22T15:01:56.919Z"
   },
   {
    "duration": 24,
    "start_time": "2022-03-22T15:01:57.079Z"
   },
   {
    "duration": 157,
    "start_time": "2022-03-22T15:01:57.106Z"
   },
   {
    "duration": 165,
    "start_time": "2022-03-22T15:01:57.265Z"
   },
   {
    "duration": 12,
    "start_time": "2022-03-22T15:01:57.432Z"
   },
   {
    "duration": 215,
    "start_time": "2022-03-22T15:01:57.446Z"
   },
   {
    "duration": 157,
    "start_time": "2022-03-22T15:01:57.663Z"
   },
   {
    "duration": 11,
    "start_time": "2022-03-22T15:01:57.822Z"
   },
   {
    "duration": 181,
    "start_time": "2022-03-22T15:21:25.245Z"
   },
   {
    "duration": 69,
    "start_time": "2022-03-22T15:25:31.104Z"
   },
   {
    "duration": 21,
    "start_time": "2022-03-22T15:25:36.789Z"
   },
   {
    "duration": 20,
    "start_time": "2022-03-22T15:26:06.800Z"
   },
   {
    "duration": 28,
    "start_time": "2022-03-22T15:28:23.057Z"
   },
   {
    "duration": 13,
    "start_time": "2022-03-22T15:29:32.947Z"
   },
   {
    "duration": 7,
    "start_time": "2022-03-22T15:29:44.088Z"
   },
   {
    "duration": 11,
    "start_time": "2022-03-22T15:29:53.706Z"
   },
   {
    "duration": 19,
    "start_time": "2022-03-22T15:30:27.096Z"
   },
   {
    "duration": 18,
    "start_time": "2022-03-22T15:30:53.152Z"
   },
   {
    "duration": 17,
    "start_time": "2022-03-22T15:32:39.404Z"
   },
   {
    "duration": 17,
    "start_time": "2022-03-22T15:32:48.762Z"
   },
   {
    "duration": 30,
    "start_time": "2022-03-22T15:32:59.782Z"
   },
   {
    "duration": 18,
    "start_time": "2022-03-22T15:33:25.758Z"
   },
   {
    "duration": 194,
    "start_time": "2022-03-22T15:33:34.734Z"
   },
   {
    "duration": 168,
    "start_time": "2022-03-22T15:34:02.436Z"
   },
   {
    "duration": 182,
    "start_time": "2022-03-22T15:34:58.708Z"
   },
   {
    "duration": 208,
    "start_time": "2022-03-22T15:35:51.482Z"
   },
   {
    "duration": 212,
    "start_time": "2022-03-22T15:37:49.576Z"
   },
   {
    "duration": 229,
    "start_time": "2022-03-22T15:38:01.267Z"
   },
   {
    "duration": 13,
    "start_time": "2022-03-22T16:55:19.840Z"
   },
   {
    "duration": 15,
    "start_time": "2022-03-22T16:55:31.084Z"
   },
   {
    "duration": 14,
    "start_time": "2022-03-22T16:56:39.915Z"
   },
   {
    "duration": 15,
    "start_time": "2022-03-22T16:56:48.090Z"
   },
   {
    "duration": 121,
    "start_time": "2022-03-22T16:57:04.091Z"
   },
   {
    "duration": 203,
    "start_time": "2022-03-22T16:58:37.535Z"
   },
   {
    "duration": 131,
    "start_time": "2022-03-22T17:01:36.306Z"
   },
   {
    "duration": 138,
    "start_time": "2022-03-22T17:08:36.659Z"
   },
   {
    "duration": 126,
    "start_time": "2022-03-22T17:10:00.068Z"
   },
   {
    "duration": 16,
    "start_time": "2022-03-22T17:11:44.134Z"
   },
   {
    "duration": 152,
    "start_time": "2022-03-22T17:12:31.458Z"
   },
   {
    "duration": 181,
    "start_time": "2022-03-22T17:14:22.648Z"
   },
   {
    "duration": 214,
    "start_time": "2022-03-22T17:15:09.546Z"
   },
   {
    "duration": 203,
    "start_time": "2022-03-22T17:15:23.592Z"
   },
   {
    "duration": 194,
    "start_time": "2022-03-22T17:15:38.380Z"
   },
   {
    "duration": 224,
    "start_time": "2022-03-22T17:15:46.317Z"
   },
   {
    "duration": 284,
    "start_time": "2022-03-22T17:17:26.982Z"
   },
   {
    "duration": 210,
    "start_time": "2022-03-22T17:17:43.494Z"
   },
   {
    "duration": 188,
    "start_time": "2022-03-22T17:25:18.169Z"
   },
   {
    "duration": 189,
    "start_time": "2022-03-22T17:26:38.675Z"
   },
   {
    "duration": 201,
    "start_time": "2022-03-22T17:43:00.941Z"
   },
   {
    "duration": 294,
    "start_time": "2022-03-22T17:43:23.862Z"
   },
   {
    "duration": 212,
    "start_time": "2022-03-22T17:43:27.129Z"
   },
   {
    "duration": 346,
    "start_time": "2022-03-22T17:51:33.634Z"
   },
   {
    "duration": 544,
    "start_time": "2022-03-22T17:51:45.684Z"
   },
   {
    "duration": 591,
    "start_time": "2022-03-22T17:54:10.892Z"
   },
   {
    "duration": 760,
    "start_time": "2022-03-22T18:11:01.884Z"
   },
   {
    "duration": 812,
    "start_time": "2022-03-22T18:14:54.522Z"
   },
   {
    "duration": 604,
    "start_time": "2022-03-22T18:16:00.911Z"
   },
   {
    "duration": 222,
    "start_time": "2022-03-22T18:21:45.296Z"
   },
   {
    "duration": 88,
    "start_time": "2022-03-22T18:22:11.295Z"
   },
   {
    "duration": 104,
    "start_time": "2022-03-22T18:22:24.217Z"
   },
   {
    "duration": 16,
    "start_time": "2022-03-22T18:56:54.083Z"
   },
   {
    "duration": 205,
    "start_time": "2022-03-22T18:57:55.556Z"
   },
   {
    "duration": 18,
    "start_time": "2022-03-22T18:58:14.723Z"
   },
   {
    "duration": 19,
    "start_time": "2022-03-22T18:58:35.326Z"
   },
   {
    "duration": 88,
    "start_time": "2022-03-22T18:59:06.960Z"
   },
   {
    "duration": 18,
    "start_time": "2022-03-22T18:59:31.118Z"
   },
   {
    "duration": 551,
    "start_time": "2022-03-22T19:20:27.191Z"
   },
   {
    "duration": 193,
    "start_time": "2022-03-22T19:21:16.750Z"
   },
   {
    "duration": 252,
    "start_time": "2022-03-22T19:22:33.956Z"
   },
   {
    "duration": 211,
    "start_time": "2022-03-22T19:23:48.959Z"
   },
   {
    "duration": 384,
    "start_time": "2022-03-22T19:24:34.272Z"
   },
   {
    "duration": 222,
    "start_time": "2022-03-22T19:24:50.050Z"
   },
   {
    "duration": 218,
    "start_time": "2022-03-22T19:25:41.403Z"
   },
   {
    "duration": 214,
    "start_time": "2022-03-22T19:26:38.551Z"
   },
   {
    "duration": 228,
    "start_time": "2022-03-22T19:27:16.518Z"
   },
   {
    "duration": 233,
    "start_time": "2022-03-22T19:27:27.469Z"
   },
   {
    "duration": 223,
    "start_time": "2022-03-22T19:27:39.196Z"
   },
   {
    "duration": 230,
    "start_time": "2022-03-22T19:30:10.862Z"
   },
   {
    "duration": 225,
    "start_time": "2022-03-22T19:30:53.243Z"
   },
   {
    "duration": 301,
    "start_time": "2022-03-22T19:31:20.368Z"
   },
   {
    "duration": 227,
    "start_time": "2022-03-22T19:31:37.427Z"
   },
   {
    "duration": 401,
    "start_time": "2022-03-22T19:33:16.393Z"
   },
   {
    "duration": 300,
    "start_time": "2022-03-22T19:33:32.014Z"
   },
   {
    "duration": 228,
    "start_time": "2022-03-22T19:34:20.161Z"
   },
   {
    "duration": 226,
    "start_time": "2022-03-22T19:37:16.670Z"
   },
   {
    "duration": 231,
    "start_time": "2022-03-22T19:37:28.752Z"
   },
   {
    "duration": 230,
    "start_time": "2022-03-22T19:37:45.645Z"
   },
   {
    "duration": 231,
    "start_time": "2022-03-22T19:39:32.580Z"
   },
   {
    "duration": 233,
    "start_time": "2022-03-22T19:39:39.325Z"
   },
   {
    "duration": 241,
    "start_time": "2022-03-22T19:40:12.460Z"
   },
   {
    "duration": 254,
    "start_time": "2022-03-22T19:40:30.712Z"
   },
   {
    "duration": 392,
    "start_time": "2022-03-22T19:41:05.217Z"
   },
   {
    "duration": 239,
    "start_time": "2022-03-22T19:42:29.700Z"
   },
   {
    "duration": 227,
    "start_time": "2022-03-22T19:42:39.782Z"
   },
   {
    "duration": 334,
    "start_time": "2022-03-22T19:46:29.833Z"
   },
   {
    "duration": 216,
    "start_time": "2022-03-22T19:46:45.532Z"
   },
   {
    "duration": 4110,
    "start_time": "2022-03-22T19:47:55.179Z"
   },
   {
    "duration": 4384,
    "start_time": "2022-03-22T19:49:09.257Z"
   },
   {
    "duration": 683,
    "start_time": "2022-03-22T19:49:26.396Z"
   },
   {
    "duration": 40,
    "start_time": "2022-03-22T19:49:27.081Z"
   },
   {
    "duration": 20,
    "start_time": "2022-03-22T19:49:27.122Z"
   },
   {
    "duration": 12,
    "start_time": "2022-03-22T19:49:27.144Z"
   },
   {
    "duration": 23,
    "start_time": "2022-03-22T19:49:27.158Z"
   },
   {
    "duration": 25,
    "start_time": "2022-03-22T19:49:27.183Z"
   },
   {
    "duration": 15,
    "start_time": "2022-03-22T19:49:27.209Z"
   },
   {
    "duration": 4,
    "start_time": "2022-03-22T19:49:27.225Z"
   },
   {
    "duration": 24,
    "start_time": "2022-03-22T19:49:27.231Z"
   },
   {
    "duration": 5,
    "start_time": "2022-03-22T19:49:27.257Z"
   },
   {
    "duration": 7,
    "start_time": "2022-03-22T19:49:27.263Z"
   },
   {
    "duration": 6,
    "start_time": "2022-03-22T19:49:27.301Z"
   },
   {
    "duration": 5,
    "start_time": "2022-03-22T19:49:27.309Z"
   },
   {
    "duration": 14,
    "start_time": "2022-03-22T19:49:27.316Z"
   },
   {
    "duration": 10,
    "start_time": "2022-03-22T19:49:27.332Z"
   },
   {
    "duration": 17,
    "start_time": "2022-03-22T19:49:27.343Z"
   },
   {
    "duration": 40,
    "start_time": "2022-03-22T19:49:27.362Z"
   },
   {
    "duration": 7,
    "start_time": "2022-03-22T19:49:27.404Z"
   },
   {
    "duration": 7,
    "start_time": "2022-03-22T19:49:27.413Z"
   },
   {
    "duration": 15,
    "start_time": "2022-03-22T19:49:27.422Z"
   },
   {
    "duration": 285,
    "start_time": "2022-03-22T19:49:27.438Z"
   },
   {
    "duration": 229,
    "start_time": "2022-03-22T19:49:27.725Z"
   },
   {
    "duration": 8,
    "start_time": "2022-03-22T19:49:27.956Z"
   },
   {
    "duration": 45,
    "start_time": "2022-03-22T19:49:27.966Z"
   },
   {
    "duration": 240,
    "start_time": "2022-03-22T19:49:28.012Z"
   },
   {
    "duration": 9,
    "start_time": "2022-03-22T19:49:28.254Z"
   },
   {
    "duration": 8,
    "start_time": "2022-03-22T19:49:28.264Z"
   },
   {
    "duration": 51,
    "start_time": "2022-03-22T19:49:28.276Z"
   },
   {
    "duration": 289,
    "start_time": "2022-03-22T19:49:28.329Z"
   },
   {
    "duration": 107,
    "start_time": "2022-03-22T19:49:28.622Z"
   },
   {
    "duration": 110,
    "start_time": "2022-03-22T19:49:28.731Z"
   },
   {
    "duration": 9,
    "start_time": "2022-03-22T19:49:28.843Z"
   },
   {
    "duration": 165,
    "start_time": "2022-03-22T19:49:28.853Z"
   },
   {
    "duration": 153,
    "start_time": "2022-03-22T19:49:29.020Z"
   },
   {
    "duration": 153,
    "start_time": "2022-03-22T19:49:29.175Z"
   },
   {
    "duration": 146,
    "start_time": "2022-03-22T19:49:29.329Z"
   },
   {
    "duration": 11,
    "start_time": "2022-03-22T19:49:29.477Z"
   },
   {
    "duration": 142,
    "start_time": "2022-03-22T19:49:29.489Z"
   },
   {
    "duration": 145,
    "start_time": "2022-03-22T19:49:29.633Z"
   },
   {
    "duration": 10,
    "start_time": "2022-03-22T19:49:29.780Z"
   },
   {
    "duration": 204,
    "start_time": "2022-03-22T19:49:29.800Z"
   },
   {
    "duration": 140,
    "start_time": "2022-03-22T19:49:30.006Z"
   },
   {
    "duration": 12,
    "start_time": "2022-03-22T19:49:30.148Z"
   },
   {
    "duration": 215,
    "start_time": "2022-03-22T19:49:30.162Z"
   },
   {
    "duration": 201,
    "start_time": "2022-03-22T19:49:30.379Z"
   },
   {
    "duration": 198,
    "start_time": "2022-03-22T19:49:30.582Z"
   },
   {
    "duration": 192,
    "start_time": "2022-03-22T19:49:30.782Z"
   },
   {
    "duration": 231,
    "start_time": "2022-03-22T19:49:30.976Z"
   },
   {
    "duration": 4100,
    "start_time": "2022-03-22T19:49:31.209Z"
   },
   {
    "duration": 4104,
    "start_time": "2022-03-22T19:50:14.828Z"
   },
   {
    "duration": 3843,
    "start_time": "2022-03-22T19:51:40.104Z"
   },
   {
    "duration": 14,
    "start_time": "2022-03-22T19:56:04.700Z"
   },
   {
    "duration": 29,
    "start_time": "2022-03-22T19:56:33.634Z"
   },
   {
    "duration": 29,
    "start_time": "2022-03-22T19:56:47.899Z"
   },
   {
    "duration": 236,
    "start_time": "2022-03-22T19:57:55.498Z"
   },
   {
    "duration": 250,
    "start_time": "2022-03-22T19:58:19.698Z"
   },
   {
    "duration": 234,
    "start_time": "2022-03-22T19:59:16.055Z"
   },
   {
    "duration": 225,
    "start_time": "2022-03-22T20:00:03.330Z"
   },
   {
    "duration": 352,
    "start_time": "2022-03-22T20:02:15.066Z"
   },
   {
    "duration": 552,
    "start_time": "2022-03-22T20:02:27.752Z"
   },
   {
    "duration": 164,
    "start_time": "2022-03-22T20:03:19.948Z"
   },
   {
    "duration": 222,
    "start_time": "2022-03-22T20:11:34.678Z"
   },
   {
    "duration": 239,
    "start_time": "2022-03-22T20:13:21.455Z"
   },
   {
    "duration": 188,
    "start_time": "2022-03-22T20:13:48.720Z"
   },
   {
    "duration": 219,
    "start_time": "2022-03-22T20:21:55.121Z"
   },
   {
    "duration": 236,
    "start_time": "2022-03-22T20:24:52.139Z"
   },
   {
    "duration": 659,
    "start_time": "2022-03-22T20:25:11.584Z"
   },
   {
    "duration": 523,
    "start_time": "2022-03-22T20:25:21.318Z"
   },
   {
    "duration": 218,
    "start_time": "2022-03-22T20:25:28.853Z"
   },
   {
    "duration": 229,
    "start_time": "2022-03-22T20:27:09.543Z"
   },
   {
    "duration": 224,
    "start_time": "2022-03-22T20:27:33.571Z"
   },
   {
    "duration": 346,
    "start_time": "2022-03-22T20:28:34.642Z"
   },
   {
    "duration": 217,
    "start_time": "2022-03-22T20:28:49.345Z"
   },
   {
    "duration": 25,
    "start_time": "2022-03-22T20:33:37.846Z"
   },
   {
    "duration": 309,
    "start_time": "2022-03-22T20:34:01.470Z"
   },
   {
    "duration": 230,
    "start_time": "2022-03-22T20:34:17.147Z"
   },
   {
    "duration": 228,
    "start_time": "2022-03-22T20:34:35.476Z"
   },
   {
    "duration": 212,
    "start_time": "2022-03-22T20:35:18.882Z"
   },
   {
    "duration": 236,
    "start_time": "2022-03-22T20:35:38.523Z"
   },
   {
    "duration": 339,
    "start_time": "2022-03-22T20:36:06.244Z"
   },
   {
    "duration": 224,
    "start_time": "2022-03-22T20:37:21.727Z"
   },
   {
    "duration": 254,
    "start_time": "2022-03-22T20:39:32.734Z"
   },
   {
    "duration": 254,
    "start_time": "2022-03-22T20:41:35.681Z"
   },
   {
    "duration": 426,
    "start_time": "2022-03-22T20:42:49.985Z"
   },
   {
    "duration": 521,
    "start_time": "2022-03-22T20:43:18.523Z"
   },
   {
    "duration": 439,
    "start_time": "2022-03-22T20:45:07.216Z"
   },
   {
    "duration": 242,
    "start_time": "2022-03-22T20:46:20.814Z"
   },
   {
    "duration": 226,
    "start_time": "2022-03-22T20:46:29.520Z"
   },
   {
    "duration": 420,
    "start_time": "2022-03-22T20:46:43.552Z"
   },
   {
    "duration": 540,
    "start_time": "2022-03-22T20:47:18.291Z"
   },
   {
    "duration": 418,
    "start_time": "2022-03-22T20:47:44.480Z"
   },
   {
    "duration": 445,
    "start_time": "2022-03-22T20:48:54.587Z"
   },
   {
    "duration": 577,
    "start_time": "2022-03-22T20:49:14.261Z"
   },
   {
    "duration": 420,
    "start_time": "2022-03-22T20:49:42.788Z"
   },
   {
    "duration": 230,
    "start_time": "2022-03-22T20:49:52.499Z"
   },
   {
    "duration": 473,
    "start_time": "2022-03-22T20:50:29.023Z"
   },
   {
    "duration": 235,
    "start_time": "2022-03-22T20:50:42.577Z"
   },
   {
    "duration": 360,
    "start_time": "2022-03-22T20:50:51.802Z"
   },
   {
    "duration": 253,
    "start_time": "2022-03-22T20:53:21.162Z"
   },
   {
    "duration": 224,
    "start_time": "2022-03-22T20:53:38.813Z"
   },
   {
    "duration": 216,
    "start_time": "2022-03-22T20:54:54.530Z"
   },
   {
    "duration": 224,
    "start_time": "2022-03-22T20:55:05.233Z"
   },
   {
    "duration": 234,
    "start_time": "2022-03-22T20:55:36.443Z"
   },
   {
    "duration": 157,
    "start_time": "2022-03-22T20:58:22.374Z"
   },
   {
    "duration": 282,
    "start_time": "2022-03-22T20:59:25.418Z"
   },
   {
    "duration": 134,
    "start_time": "2022-03-22T21:00:38.981Z"
   },
   {
    "duration": 190,
    "start_time": "2022-03-22T21:04:18.160Z"
   },
   {
    "duration": 148,
    "start_time": "2022-03-22T21:05:57.292Z"
   },
   {
    "duration": 47,
    "start_time": "2022-03-23T10:14:37.650Z"
   },
   {
    "duration": 899,
    "start_time": "2022-03-23T10:14:56.696Z"
   },
   {
    "duration": 36,
    "start_time": "2022-03-23T10:14:57.598Z"
   },
   {
    "duration": 27,
    "start_time": "2022-03-23T10:14:57.636Z"
   },
   {
    "duration": 26,
    "start_time": "2022-03-23T10:14:57.666Z"
   },
   {
    "duration": 42,
    "start_time": "2022-03-23T10:14:57.694Z"
   },
   {
    "duration": 29,
    "start_time": "2022-03-23T10:14:57.737Z"
   },
   {
    "duration": 39,
    "start_time": "2022-03-23T10:14:57.768Z"
   },
   {
    "duration": 20,
    "start_time": "2022-03-23T10:14:57.809Z"
   },
   {
    "duration": 62,
    "start_time": "2022-03-23T10:14:57.831Z"
   },
   {
    "duration": 8,
    "start_time": "2022-03-23T10:14:57.896Z"
   },
   {
    "duration": 28,
    "start_time": "2022-03-23T10:14:57.905Z"
   },
   {
    "duration": 42,
    "start_time": "2022-03-23T10:14:57.935Z"
   },
   {
    "duration": 36,
    "start_time": "2022-03-23T10:14:57.979Z"
   },
   {
    "duration": 47,
    "start_time": "2022-03-23T10:14:58.017Z"
   },
   {
    "duration": 51,
    "start_time": "2022-03-23T10:14:58.065Z"
   },
   {
    "duration": 26,
    "start_time": "2022-03-23T10:14:58.117Z"
   },
   {
    "duration": 32,
    "start_time": "2022-03-23T10:14:58.144Z"
   },
   {
    "duration": 21,
    "start_time": "2022-03-23T10:14:58.178Z"
   },
   {
    "duration": 24,
    "start_time": "2022-03-23T10:14:58.201Z"
   },
   {
    "duration": 30,
    "start_time": "2022-03-23T10:14:58.227Z"
   },
   {
    "duration": 297,
    "start_time": "2022-03-23T10:14:58.259Z"
   },
   {
    "duration": 246,
    "start_time": "2022-03-23T10:14:58.562Z"
   },
   {
    "duration": 8,
    "start_time": "2022-03-23T10:14:58.810Z"
   },
   {
    "duration": 44,
    "start_time": "2022-03-23T10:14:58.820Z"
   },
   {
    "duration": 245,
    "start_time": "2022-03-23T10:14:58.866Z"
   },
   {
    "duration": 7,
    "start_time": "2022-03-23T10:14:59.113Z"
   },
   {
    "duration": 9,
    "start_time": "2022-03-23T10:14:59.122Z"
   },
   {
    "duration": 51,
    "start_time": "2022-03-23T10:14:59.135Z"
   },
   {
    "duration": 327,
    "start_time": "2022-03-23T10:14:59.188Z"
   },
   {
    "duration": 87,
    "start_time": "2022-03-23T10:14:59.517Z"
   },
   {
    "duration": 102,
    "start_time": "2022-03-23T10:14:59.606Z"
   },
   {
    "duration": 9,
    "start_time": "2022-03-23T10:14:59.709Z"
   },
   {
    "duration": 169,
    "start_time": "2022-03-23T10:14:59.719Z"
   },
   {
    "duration": 176,
    "start_time": "2022-03-23T10:14:59.889Z"
   },
   {
    "duration": 160,
    "start_time": "2022-03-23T10:15:00.068Z"
   },
   {
    "duration": 152,
    "start_time": "2022-03-23T10:15:00.230Z"
   },
   {
    "duration": 12,
    "start_time": "2022-03-23T10:15:00.384Z"
   },
   {
    "duration": 159,
    "start_time": "2022-03-23T10:15:00.398Z"
   },
   {
    "duration": 140,
    "start_time": "2022-03-23T10:15:00.562Z"
   },
   {
    "duration": 11,
    "start_time": "2022-03-23T10:15:00.703Z"
   },
   {
    "duration": 214,
    "start_time": "2022-03-23T10:15:00.716Z"
   },
   {
    "duration": 151,
    "start_time": "2022-03-23T10:15:00.932Z"
   },
   {
    "duration": 12,
    "start_time": "2022-03-23T10:15:01.084Z"
   },
   {
    "duration": 212,
    "start_time": "2022-03-23T10:15:01.098Z"
   },
   {
    "duration": 213,
    "start_time": "2022-03-23T10:15:01.312Z"
   },
   {
    "duration": 304,
    "start_time": "2022-03-23T10:15:01.527Z"
   },
   {
    "duration": 207,
    "start_time": "2022-03-23T10:15:01.833Z"
   },
   {
    "duration": 232,
    "start_time": "2022-03-23T10:15:02.042Z"
   },
   {
    "duration": 154,
    "start_time": "2022-03-23T10:15:02.276Z"
   },
   {
    "duration": 152,
    "start_time": "2022-03-23T10:15:02.432Z"
   },
   {
    "duration": 155,
    "start_time": "2022-03-23T10:15:02.586Z"
   },
   {
    "duration": 221,
    "start_time": "2022-03-23T10:15:02.743Z"
   },
   {
    "duration": 70,
    "start_time": "2022-03-23T10:25:04.496Z"
   },
   {
    "duration": 6,
    "start_time": "2022-03-23T10:25:17.682Z"
   },
   {
    "duration": 29,
    "start_time": "2022-03-23T10:33:30.662Z"
   },
   {
    "duration": 140,
    "start_time": "2022-03-23T10:34:18.028Z"
   },
   {
    "duration": 3,
    "start_time": "2022-03-23T10:45:27.036Z"
   },
   {
    "duration": 7,
    "start_time": "2022-03-23T10:46:19.232Z"
   },
   {
    "duration": 4,
    "start_time": "2022-03-23T10:47:24.965Z"
   },
   {
    "duration": 7,
    "start_time": "2022-03-23T10:47:31.645Z"
   },
   {
    "duration": 11,
    "start_time": "2022-03-23T10:48:01.411Z"
   },
   {
    "duration": 164,
    "start_time": "2022-03-23T10:49:01.472Z"
   },
   {
    "duration": 146,
    "start_time": "2022-03-23T10:49:48.672Z"
   },
   {
    "duration": 158,
    "start_time": "2022-03-23T10:50:04.918Z"
   },
   {
    "duration": 4,
    "start_time": "2022-03-23T10:50:48.012Z"
   },
   {
    "duration": 9,
    "start_time": "2022-03-23T10:50:49.199Z"
   },
   {
    "duration": 162,
    "start_time": "2022-03-23T10:50:50.361Z"
   },
   {
    "duration": 206,
    "start_time": "2022-03-23T10:51:48.146Z"
   },
   {
    "duration": 151,
    "start_time": "2022-03-23T10:54:19.051Z"
   },
   {
    "duration": 155,
    "start_time": "2022-03-23T10:55:12.190Z"
   },
   {
    "duration": 146,
    "start_time": "2022-03-23T10:56:03.965Z"
   },
   {
    "duration": 136,
    "start_time": "2022-03-23T10:56:32.293Z"
   },
   {
    "duration": 342,
    "start_time": "2022-03-23T11:04:45.545Z"
   },
   {
    "duration": 226,
    "start_time": "2022-03-23T11:10:30.722Z"
   },
   {
    "duration": 2,
    "start_time": "2022-03-23T11:13:03.175Z"
   },
   {
    "duration": 2,
    "start_time": "2022-03-23T11:17:40.957Z"
   },
   {
    "duration": 7,
    "start_time": "2022-03-23T11:43:38.343Z"
   },
   {
    "duration": 43,
    "start_time": "2022-03-23T11:43:44.418Z"
   },
   {
    "duration": 8,
    "start_time": "2022-03-23T11:44:00.626Z"
   },
   {
    "duration": 10,
    "start_time": "2022-03-23T11:45:37.360Z"
   },
   {
    "duration": 8,
    "start_time": "2022-03-23T11:46:02.501Z"
   },
   {
    "duration": 139,
    "start_time": "2022-03-23T11:46:45.954Z"
   },
   {
    "duration": 686,
    "start_time": "2022-03-23T11:48:35.956Z"
   },
   {
    "duration": 40,
    "start_time": "2022-03-23T11:48:36.645Z"
   },
   {
    "duration": 20,
    "start_time": "2022-03-23T11:48:36.686Z"
   },
   {
    "duration": 16,
    "start_time": "2022-03-23T11:48:36.708Z"
   },
   {
    "duration": 40,
    "start_time": "2022-03-23T11:48:36.725Z"
   },
   {
    "duration": 10,
    "start_time": "2022-03-23T11:48:36.767Z"
   },
   {
    "duration": 23,
    "start_time": "2022-03-23T11:48:36.779Z"
   },
   {
    "duration": 5,
    "start_time": "2022-03-23T11:48:36.803Z"
   },
   {
    "duration": 54,
    "start_time": "2022-03-23T11:48:36.809Z"
   },
   {
    "duration": 6,
    "start_time": "2022-03-23T11:48:36.865Z"
   },
   {
    "duration": 14,
    "start_time": "2022-03-23T11:48:36.872Z"
   },
   {
    "duration": 12,
    "start_time": "2022-03-23T11:48:36.888Z"
   },
   {
    "duration": 9,
    "start_time": "2022-03-23T11:48:36.901Z"
   },
   {
    "duration": 24,
    "start_time": "2022-03-23T11:48:36.912Z"
   },
   {
    "duration": 9,
    "start_time": "2022-03-23T11:48:36.938Z"
   },
   {
    "duration": 30,
    "start_time": "2022-03-23T11:48:36.949Z"
   },
   {
    "duration": 15,
    "start_time": "2022-03-23T11:48:36.981Z"
   },
   {
    "duration": 10,
    "start_time": "2022-03-23T11:48:36.998Z"
   },
   {
    "duration": 17,
    "start_time": "2022-03-23T11:48:37.010Z"
   },
   {
    "duration": 15,
    "start_time": "2022-03-23T11:48:37.029Z"
   },
   {
    "duration": 446,
    "start_time": "2022-03-23T11:48:37.064Z"
   },
   {
    "duration": 241,
    "start_time": "2022-03-23T11:48:37.512Z"
   },
   {
    "duration": 7,
    "start_time": "2022-03-23T11:48:37.763Z"
   },
   {
    "duration": 32,
    "start_time": "2022-03-23T11:48:37.772Z"
   },
   {
    "duration": 258,
    "start_time": "2022-03-23T11:48:37.805Z"
   },
   {
    "duration": 8,
    "start_time": "2022-03-23T11:48:38.065Z"
   },
   {
    "duration": 9,
    "start_time": "2022-03-23T11:48:38.075Z"
   },
   {
    "duration": 32,
    "start_time": "2022-03-23T11:48:38.087Z"
   },
   {
    "duration": 330,
    "start_time": "2022-03-23T11:48:38.120Z"
   },
   {
    "duration": 110,
    "start_time": "2022-03-23T11:48:38.452Z"
   },
   {
    "duration": 129,
    "start_time": "2022-03-23T11:48:38.564Z"
   },
   {
    "duration": 9,
    "start_time": "2022-03-23T11:48:38.695Z"
   },
   {
    "duration": 164,
    "start_time": "2022-03-23T11:48:38.705Z"
   },
   {
    "duration": 169,
    "start_time": "2022-03-23T11:48:38.871Z"
   },
   {
    "duration": 160,
    "start_time": "2022-03-23T11:48:39.042Z"
   },
   {
    "duration": 150,
    "start_time": "2022-03-23T11:48:39.204Z"
   },
   {
    "duration": 16,
    "start_time": "2022-03-23T11:48:39.356Z"
   },
   {
    "duration": 151,
    "start_time": "2022-03-23T11:48:39.373Z"
   },
   {
    "duration": 153,
    "start_time": "2022-03-23T11:48:39.525Z"
   },
   {
    "duration": 12,
    "start_time": "2022-03-23T11:48:39.680Z"
   },
   {
    "duration": 228,
    "start_time": "2022-03-23T11:48:39.694Z"
   },
   {
    "duration": 159,
    "start_time": "2022-03-23T11:48:39.924Z"
   },
   {
    "duration": 13,
    "start_time": "2022-03-23T11:48:40.084Z"
   },
   {
    "duration": 227,
    "start_time": "2022-03-23T11:48:40.099Z"
   },
   {
    "duration": 210,
    "start_time": "2022-03-23T11:48:40.328Z"
   },
   {
    "duration": 203,
    "start_time": "2022-03-23T11:48:40.540Z"
   },
   {
    "duration": 200,
    "start_time": "2022-03-23T11:48:40.745Z"
   },
   {
    "duration": 246,
    "start_time": "2022-03-23T11:48:40.947Z"
   },
   {
    "duration": 150,
    "start_time": "2022-03-23T11:48:41.195Z"
   },
   {
    "duration": 155,
    "start_time": "2022-03-23T11:48:41.347Z"
   },
   {
    "duration": 156,
    "start_time": "2022-03-23T11:48:41.504Z"
   },
   {
    "duration": 7,
    "start_time": "2022-03-23T11:48:41.662Z"
   },
   {
    "duration": 5,
    "start_time": "2022-03-23T11:48:41.671Z"
   },
   {
    "duration": 13,
    "start_time": "2022-03-23T11:48:41.677Z"
   },
   {
    "duration": 241,
    "start_time": "2022-03-23T11:48:41.691Z"
   },
   {
    "duration": 151,
    "start_time": "2022-03-23T11:48:41.934Z"
   },
   {
    "duration": 147,
    "start_time": "2022-03-23T11:48:42.087Z"
   },
   {
    "duration": 34,
    "start_time": "2022-03-23T11:48:42.236Z"
   },
   {
    "duration": 7,
    "start_time": "2022-03-23T11:48:42.272Z"
   },
   {
    "duration": 8,
    "start_time": "2022-03-23T11:49:15.840Z"
   },
   {
    "duration": 8,
    "start_time": "2022-03-23T11:49:59.305Z"
   },
   {
    "duration": 8,
    "start_time": "2022-03-23T11:53:12.722Z"
   },
   {
    "duration": 727,
    "start_time": "2022-03-23T11:53:26.981Z"
   },
   {
    "duration": 39,
    "start_time": "2022-03-23T11:53:27.711Z"
   },
   {
    "duration": 27,
    "start_time": "2022-03-23T11:53:27.752Z"
   },
   {
    "duration": 14,
    "start_time": "2022-03-23T11:53:27.781Z"
   },
   {
    "duration": 48,
    "start_time": "2022-03-23T11:53:27.796Z"
   },
   {
    "duration": 17,
    "start_time": "2022-03-23T11:53:27.846Z"
   },
   {
    "duration": 25,
    "start_time": "2022-03-23T11:53:27.864Z"
   },
   {
    "duration": 28,
    "start_time": "2022-03-23T11:53:27.892Z"
   },
   {
    "duration": 46,
    "start_time": "2022-03-23T11:53:27.922Z"
   },
   {
    "duration": 9,
    "start_time": "2022-03-23T11:53:27.972Z"
   },
   {
    "duration": 7,
    "start_time": "2022-03-23T11:53:27.983Z"
   },
   {
    "duration": 29,
    "start_time": "2022-03-23T11:53:27.991Z"
   },
   {
    "duration": 20,
    "start_time": "2022-03-23T11:53:28.022Z"
   },
   {
    "duration": 16,
    "start_time": "2022-03-23T11:53:28.044Z"
   },
   {
    "duration": 15,
    "start_time": "2022-03-23T11:53:28.062Z"
   },
   {
    "duration": 24,
    "start_time": "2022-03-23T11:53:28.079Z"
   },
   {
    "duration": 19,
    "start_time": "2022-03-23T11:53:28.105Z"
   },
   {
    "duration": 14,
    "start_time": "2022-03-23T11:53:28.125Z"
   },
   {
    "duration": 20,
    "start_time": "2022-03-23T11:53:28.141Z"
   },
   {
    "duration": 25,
    "start_time": "2022-03-23T11:53:28.163Z"
   },
   {
    "duration": 297,
    "start_time": "2022-03-23T11:53:28.190Z"
   },
   {
    "duration": 243,
    "start_time": "2022-03-23T11:53:28.489Z"
   },
   {
    "duration": 8,
    "start_time": "2022-03-23T11:53:28.734Z"
   },
   {
    "duration": 43,
    "start_time": "2022-03-23T11:53:28.744Z"
   },
   {
    "duration": 253,
    "start_time": "2022-03-23T11:53:28.789Z"
   },
   {
    "duration": 8,
    "start_time": "2022-03-23T11:53:29.043Z"
   },
   {
    "duration": 17,
    "start_time": "2022-03-23T11:53:29.062Z"
   },
   {
    "duration": 33,
    "start_time": "2022-03-23T11:53:29.084Z"
   },
   {
    "duration": 412,
    "start_time": "2022-03-23T11:53:29.119Z"
   },
   {
    "duration": 103,
    "start_time": "2022-03-23T11:53:29.533Z"
   },
   {
    "duration": 104,
    "start_time": "2022-03-23T11:53:29.638Z"
   },
   {
    "duration": 19,
    "start_time": "2022-03-23T11:53:29.744Z"
   },
   {
    "duration": 173,
    "start_time": "2022-03-23T11:53:29.765Z"
   },
   {
    "duration": 181,
    "start_time": "2022-03-23T11:53:29.941Z"
   },
   {
    "duration": 167,
    "start_time": "2022-03-23T11:53:30.123Z"
   },
   {
    "duration": 157,
    "start_time": "2022-03-23T11:53:30.292Z"
   },
   {
    "duration": 18,
    "start_time": "2022-03-23T11:53:30.451Z"
   },
   {
    "duration": 154,
    "start_time": "2022-03-23T11:53:30.470Z"
   },
   {
    "duration": 141,
    "start_time": "2022-03-23T11:53:30.626Z"
   },
   {
    "duration": 12,
    "start_time": "2022-03-23T11:53:30.769Z"
   },
   {
    "duration": 226,
    "start_time": "2022-03-23T11:53:30.782Z"
   },
   {
    "duration": 148,
    "start_time": "2022-03-23T11:53:31.010Z"
   },
   {
    "duration": 12,
    "start_time": "2022-03-23T11:53:31.163Z"
   },
   {
    "duration": 225,
    "start_time": "2022-03-23T11:53:31.176Z"
   },
   {
    "duration": 214,
    "start_time": "2022-03-23T11:53:31.403Z"
   },
   {
    "duration": 194,
    "start_time": "2022-03-23T11:53:31.618Z"
   },
   {
    "duration": 193,
    "start_time": "2022-03-23T11:53:31.814Z"
   },
   {
    "duration": 232,
    "start_time": "2022-03-23T11:53:32.009Z"
   },
   {
    "duration": 147,
    "start_time": "2022-03-23T11:53:32.243Z"
   },
   {
    "duration": 154,
    "start_time": "2022-03-23T11:53:32.391Z"
   },
   {
    "duration": 158,
    "start_time": "2022-03-23T11:53:32.547Z"
   },
   {
    "duration": 7,
    "start_time": "2022-03-23T11:53:32.706Z"
   },
   {
    "duration": 19,
    "start_time": "2022-03-23T11:53:32.714Z"
   },
   {
    "duration": 32,
    "start_time": "2022-03-23T11:53:32.734Z"
   },
   {
    "duration": 244,
    "start_time": "2022-03-23T11:53:32.768Z"
   },
   {
    "duration": 143,
    "start_time": "2022-03-23T11:53:33.014Z"
   },
   {
    "duration": 155,
    "start_time": "2022-03-23T11:53:33.158Z"
   },
   {
    "duration": 8,
    "start_time": "2022-03-23T11:53:33.314Z"
   },
   {
    "duration": 16,
    "start_time": "2022-03-23T11:53:33.323Z"
   },
   {
    "duration": 8,
    "start_time": "2022-03-23T11:55:13.061Z"
   },
   {
    "duration": 3,
    "start_time": "2022-03-23T11:58:02.396Z"
   },
   {
    "duration": 75,
    "start_time": "2022-03-23T11:58:32.450Z"
   },
   {
    "duration": 402,
    "start_time": "2022-03-23T11:59:03.654Z"
   },
   {
    "duration": 3,
    "start_time": "2022-03-23T11:59:09.397Z"
   },
   {
    "duration": 4,
    "start_time": "2022-03-23T11:59:36.665Z"
   },
   {
    "duration": 8,
    "start_time": "2022-03-23T12:07:00.848Z"
   },
   {
    "duration": 7,
    "start_time": "2022-03-23T12:07:22.684Z"
   },
   {
    "duration": 7,
    "start_time": "2022-03-23T12:07:31.532Z"
   },
   {
    "duration": 8,
    "start_time": "2022-03-23T12:07:42.863Z"
   },
   {
    "duration": 8,
    "start_time": "2022-03-23T12:07:51.942Z"
   },
   {
    "duration": 8,
    "start_time": "2022-03-23T12:09:48.822Z"
   },
   {
    "duration": 4,
    "start_time": "2022-03-23T12:21:36.828Z"
   },
   {
    "duration": 4,
    "start_time": "2022-03-23T12:21:48.451Z"
   },
   {
    "duration": 1408,
    "start_time": "2022-03-29T14:21:23.705Z"
   },
   {
    "duration": 54,
    "start_time": "2022-03-29T14:21:25.115Z"
   },
   {
    "duration": 24,
    "start_time": "2022-03-29T14:21:25.171Z"
   },
   {
    "duration": 15,
    "start_time": "2022-03-29T14:21:25.197Z"
   },
   {
    "duration": 41,
    "start_time": "2022-03-29T14:21:25.214Z"
   },
   {
    "duration": 11,
    "start_time": "2022-03-29T14:21:25.257Z"
   },
   {
    "duration": 18,
    "start_time": "2022-03-29T14:21:25.270Z"
   },
   {
    "duration": 3,
    "start_time": "2022-03-29T14:21:25.290Z"
   },
   {
    "duration": 40,
    "start_time": "2022-03-29T14:21:25.295Z"
   },
   {
    "duration": 27,
    "start_time": "2022-03-29T14:21:25.339Z"
   },
   {
    "duration": 8,
    "start_time": "2022-03-29T14:21:25.368Z"
   },
   {
    "duration": 10,
    "start_time": "2022-03-29T14:21:25.377Z"
   },
   {
    "duration": 10,
    "start_time": "2022-03-29T14:21:25.388Z"
   },
   {
    "duration": 8,
    "start_time": "2022-03-29T14:21:25.431Z"
   },
   {
    "duration": 16,
    "start_time": "2022-03-29T14:21:25.441Z"
   },
   {
    "duration": 12,
    "start_time": "2022-03-29T14:21:25.459Z"
   },
   {
    "duration": 17,
    "start_time": "2022-03-29T14:21:25.473Z"
   },
   {
    "duration": 51,
    "start_time": "2022-03-29T14:21:25.492Z"
   },
   {
    "duration": 8,
    "start_time": "2022-03-29T14:21:25.544Z"
   },
   {
    "duration": 13,
    "start_time": "2022-03-29T14:21:25.553Z"
   },
   {
    "duration": 18,
    "start_time": "2022-03-29T14:21:25.567Z"
   },
   {
    "duration": 350,
    "start_time": "2022-03-29T14:21:25.586Z"
   },
   {
    "duration": 278,
    "start_time": "2022-03-29T14:21:25.937Z"
   },
   {
    "duration": 19,
    "start_time": "2022-03-29T14:21:26.216Z"
   },
   {
    "duration": 34,
    "start_time": "2022-03-29T14:21:26.236Z"
   },
   {
    "duration": 242,
    "start_time": "2022-03-29T14:21:26.272Z"
   },
   {
    "duration": 16,
    "start_time": "2022-03-29T14:21:26.516Z"
   },
   {
    "duration": 8,
    "start_time": "2022-03-29T14:21:26.537Z"
   },
   {
    "duration": 36,
    "start_time": "2022-03-29T14:21:26.547Z"
   },
   {
    "duration": 383,
    "start_time": "2022-03-29T14:21:26.585Z"
   },
   {
    "duration": 106,
    "start_time": "2022-03-29T14:21:26.970Z"
   },
   {
    "duration": 125,
    "start_time": "2022-03-29T14:21:27.078Z"
   },
   {
    "duration": 10,
    "start_time": "2022-03-29T14:21:27.205Z"
   },
   {
    "duration": 188,
    "start_time": "2022-03-29T14:21:27.232Z"
   },
   {
    "duration": 260,
    "start_time": "2022-03-29T14:21:27.421Z"
   },
   {
    "duration": 179,
    "start_time": "2022-03-29T14:21:27.683Z"
   },
   {
    "duration": 165,
    "start_time": "2022-03-29T14:21:27.864Z"
   },
   {
    "duration": 12,
    "start_time": "2022-03-29T14:21:28.032Z"
   },
   {
    "duration": 179,
    "start_time": "2022-03-29T14:21:28.045Z"
   },
   {
    "duration": 174,
    "start_time": "2022-03-29T14:21:28.225Z"
   },
   {
    "duration": 15,
    "start_time": "2022-03-29T14:21:28.401Z"
   },
   {
    "duration": 175,
    "start_time": "2022-03-29T14:21:28.417Z"
   },
   {
    "duration": 164,
    "start_time": "2022-03-29T14:21:28.594Z"
   },
   {
    "duration": 12,
    "start_time": "2022-03-29T14:21:28.760Z"
   },
   {
    "duration": 250,
    "start_time": "2022-03-29T14:21:28.774Z"
   },
   {
    "duration": 235,
    "start_time": "2022-03-29T14:21:29.026Z"
   },
   {
    "duration": 226,
    "start_time": "2022-03-29T14:21:29.263Z"
   },
   {
    "duration": 228,
    "start_time": "2022-03-29T14:21:29.491Z"
   },
   {
    "duration": 286,
    "start_time": "2022-03-29T14:21:29.721Z"
   },
   {
    "duration": 260,
    "start_time": "2022-03-29T14:21:30.009Z"
   },
   {
    "duration": 179,
    "start_time": "2022-03-29T14:21:30.271Z"
   },
   {
    "duration": 181,
    "start_time": "2022-03-29T14:21:30.452Z"
   },
   {
    "duration": 7,
    "start_time": "2022-03-29T14:21:30.635Z"
   },
   {
    "duration": 15,
    "start_time": "2022-03-29T14:21:30.643Z"
   },
   {
    "duration": 22,
    "start_time": "2022-03-29T14:21:30.660Z"
   },
   {
    "duration": 179,
    "start_time": "2022-03-29T14:21:30.684Z"
   },
   {
    "duration": 170,
    "start_time": "2022-03-29T14:21:30.864Z"
   },
   {
    "duration": 180,
    "start_time": "2022-03-29T14:21:31.036Z"
   },
   {
    "duration": 18,
    "start_time": "2022-03-29T14:21:31.218Z"
   },
   {
    "duration": 15,
    "start_time": "2022-03-29T14:21:31.238Z"
   },
   {
    "duration": 15,
    "start_time": "2022-03-29T14:21:31.255Z"
   },
   {
    "duration": 14,
    "start_time": "2022-03-29T14:21:31.272Z"
   },
   {
    "duration": 22,
    "start_time": "2022-03-29T14:21:31.288Z"
   },
   {
    "duration": 42,
    "start_time": "2022-03-29T14:21:31.312Z"
   },
   {
    "duration": 22,
    "start_time": "2022-03-29T14:21:31.356Z"
   },
   {
    "duration": 29,
    "start_time": "2022-03-29T14:21:31.380Z"
   },
   {
    "duration": 15,
    "start_time": "2022-03-29T14:21:31.411Z"
   },
   {
    "duration": 8,
    "start_time": "2022-03-29T14:45:40.494Z"
   },
   {
    "duration": 71,
    "start_time": "2022-03-29T18:57:58.595Z"
   },
   {
    "duration": 1730,
    "start_time": "2022-03-29T18:58:10.165Z"
   },
   {
    "duration": 49,
    "start_time": "2022-03-29T18:58:11.898Z"
   },
   {
    "duration": 45,
    "start_time": "2022-03-29T18:58:11.949Z"
   },
   {
    "duration": 21,
    "start_time": "2022-03-29T18:58:11.997Z"
   },
   {
    "duration": 66,
    "start_time": "2022-03-29T18:58:12.020Z"
   },
   {
    "duration": 14,
    "start_time": "2022-03-29T18:58:12.088Z"
   },
   {
    "duration": 23,
    "start_time": "2022-03-29T18:58:12.105Z"
   },
   {
    "duration": 7,
    "start_time": "2022-03-29T18:58:12.130Z"
   },
   {
    "duration": 80,
    "start_time": "2022-03-29T18:58:12.139Z"
   },
   {
    "duration": 7,
    "start_time": "2022-03-29T18:58:12.223Z"
   },
   {
    "duration": 9,
    "start_time": "2022-03-29T18:58:12.232Z"
   },
   {
    "duration": 43,
    "start_time": "2022-03-29T18:58:12.243Z"
   },
   {
    "duration": 9,
    "start_time": "2022-03-29T18:58:12.289Z"
   },
   {
    "duration": 26,
    "start_time": "2022-03-29T18:58:12.300Z"
   },
   {
    "duration": 15,
    "start_time": "2022-03-29T18:58:12.329Z"
   },
   {
    "duration": 58,
    "start_time": "2022-03-29T18:58:12.347Z"
   },
   {
    "duration": 25,
    "start_time": "2022-03-29T18:58:12.407Z"
   },
   {
    "duration": 13,
    "start_time": "2022-03-29T18:58:12.434Z"
   },
   {
    "duration": 40,
    "start_time": "2022-03-29T18:58:12.449Z"
   },
   {
    "duration": 25,
    "start_time": "2022-03-29T18:58:12.491Z"
   },
   {
    "duration": 512,
    "start_time": "2022-03-29T18:58:12.519Z"
   },
   {
    "duration": 419,
    "start_time": "2022-03-29T18:58:13.034Z"
   },
   {
    "duration": 12,
    "start_time": "2022-03-29T18:58:13.455Z"
   },
   {
    "duration": 71,
    "start_time": "2022-03-29T18:58:13.484Z"
   },
   {
    "duration": 528,
    "start_time": "2022-03-29T18:58:13.558Z"
   },
   {
    "duration": 12,
    "start_time": "2022-03-29T18:58:14.089Z"
   },
   {
    "duration": 12,
    "start_time": "2022-03-29T18:58:14.104Z"
   },
   {
    "duration": 84,
    "start_time": "2022-03-29T18:58:14.123Z"
   },
   {
    "duration": 556,
    "start_time": "2022-03-29T18:58:14.209Z"
   },
   {
    "duration": 11,
    "start_time": "2022-03-29T18:58:14.767Z"
   },
   {
    "duration": 168,
    "start_time": "2022-03-29T18:58:14.784Z"
   },
   {
    "duration": 194,
    "start_time": "2022-03-29T18:58:14.955Z"
   },
   {
    "duration": 14,
    "start_time": "2022-03-29T18:58:15.152Z"
   },
   {
    "duration": 307,
    "start_time": "2022-03-29T18:58:15.168Z"
   },
   {
    "duration": 381,
    "start_time": "2022-03-29T18:58:15.483Z"
   },
   {
    "duration": 282,
    "start_time": "2022-03-29T18:58:15.866Z"
   },
   {
    "duration": 328,
    "start_time": "2022-03-29T18:58:16.151Z"
   },
   {
    "duration": 18,
    "start_time": "2022-03-29T18:58:16.484Z"
   },
   {
    "duration": 279,
    "start_time": "2022-03-29T18:58:16.504Z"
   },
   {
    "duration": 268,
    "start_time": "2022-03-29T18:58:16.786Z"
   },
   {
    "duration": 33,
    "start_time": "2022-03-29T18:58:17.056Z"
   },
   {
    "duration": 266,
    "start_time": "2022-03-29T18:58:17.092Z"
   },
   {
    "duration": 252,
    "start_time": "2022-03-29T18:58:17.361Z"
   },
   {
    "duration": 17,
    "start_time": "2022-03-29T18:58:17.616Z"
   },
   {
    "duration": 403,
    "start_time": "2022-03-29T18:58:17.636Z"
   },
   {
    "duration": 358,
    "start_time": "2022-03-29T18:58:18.041Z"
   },
   {
    "duration": 348,
    "start_time": "2022-03-29T18:58:18.401Z"
   },
   {
    "duration": 356,
    "start_time": "2022-03-29T18:58:18.752Z"
   },
   {
    "duration": 421,
    "start_time": "2022-03-29T18:58:19.111Z"
   },
   {
    "duration": 366,
    "start_time": "2022-03-29T18:58:19.534Z"
   },
   {
    "duration": 268,
    "start_time": "2022-03-29T18:58:19.902Z"
   },
   {
    "duration": 276,
    "start_time": "2022-03-29T18:58:20.172Z"
   },
   {
    "duration": 9,
    "start_time": "2022-03-29T18:58:20.450Z"
   },
   {
    "duration": 23,
    "start_time": "2022-03-29T18:58:20.461Z"
   },
   {
    "duration": 14,
    "start_time": "2022-03-29T18:58:20.486Z"
   },
   {
    "duration": 292,
    "start_time": "2022-03-29T18:58:20.503Z"
   },
   {
    "duration": 264,
    "start_time": "2022-03-29T18:58:20.797Z"
   },
   {
    "duration": 265,
    "start_time": "2022-03-29T18:58:21.063Z"
   },
   {
    "duration": 11,
    "start_time": "2022-03-29T18:58:21.330Z"
   },
   {
    "duration": 16,
    "start_time": "2022-03-29T18:58:21.344Z"
   },
   {
    "duration": 22,
    "start_time": "2022-03-29T18:58:21.362Z"
   },
   {
    "duration": 7,
    "start_time": "2022-03-29T18:58:21.386Z"
   },
   {
    "duration": 6,
    "start_time": "2022-03-29T18:58:21.396Z"
   },
   {
    "duration": 11,
    "start_time": "2022-03-29T18:58:21.404Z"
   },
   {
    "duration": 12,
    "start_time": "2022-03-29T18:58:21.417Z"
   },
   {
    "duration": 3,
    "start_time": "2022-03-29T18:58:21.432Z"
   },
   {
    "duration": 51,
    "start_time": "2022-03-29T18:58:21.437Z"
   },
   {
    "duration": 53,
    "start_time": "2022-03-29T19:05:15.993Z"
   },
   {
    "duration": 12,
    "start_time": "2022-03-29T19:05:46.001Z"
   },
   {
    "duration": 126,
    "start_time": "2022-03-29T19:58:07.986Z"
   },
   {
    "duration": 1694,
    "start_time": "2022-03-29T20:00:24.430Z"
   },
   {
    "duration": 53,
    "start_time": "2022-03-29T20:00:26.127Z"
   },
   {
    "duration": 34,
    "start_time": "2022-03-29T20:00:26.182Z"
   },
   {
    "duration": 21,
    "start_time": "2022-03-29T20:00:26.219Z"
   },
   {
    "duration": 65,
    "start_time": "2022-03-29T20:00:26.242Z"
   },
   {
    "duration": 11,
    "start_time": "2022-03-29T20:00:26.309Z"
   },
   {
    "duration": 21,
    "start_time": "2022-03-29T20:00:26.322Z"
   },
   {
    "duration": 30,
    "start_time": "2022-03-29T20:00:26.345Z"
   },
   {
    "duration": 40,
    "start_time": "2022-03-29T20:00:26.377Z"
   },
   {
    "duration": 8,
    "start_time": "2022-03-29T20:00:26.420Z"
   },
   {
    "duration": 8,
    "start_time": "2022-03-29T20:00:26.430Z"
   },
   {
    "duration": 9,
    "start_time": "2022-03-29T20:00:26.475Z"
   },
   {
    "duration": 14,
    "start_time": "2022-03-29T20:00:26.486Z"
   },
   {
    "duration": 19,
    "start_time": "2022-03-29T20:00:26.502Z"
   },
   {
    "duration": 13,
    "start_time": "2022-03-29T20:00:26.523Z"
   },
   {
    "duration": 58,
    "start_time": "2022-03-29T20:00:26.538Z"
   },
   {
    "duration": 22,
    "start_time": "2022-03-29T20:00:26.598Z"
   },
   {
    "duration": 10,
    "start_time": "2022-03-29T20:00:26.622Z"
   },
   {
    "duration": 41,
    "start_time": "2022-03-29T20:00:26.634Z"
   },
   {
    "duration": 25,
    "start_time": "2022-03-29T20:00:26.677Z"
   },
   {
    "duration": 528,
    "start_time": "2022-03-29T20:00:26.704Z"
   },
   {
    "duration": 426,
    "start_time": "2022-03-29T20:00:27.234Z"
   },
   {
    "duration": 22,
    "start_time": "2022-03-29T20:00:27.663Z"
   },
   {
    "duration": 45,
    "start_time": "2022-03-29T20:00:27.687Z"
   },
   {
    "duration": 342,
    "start_time": "2022-03-29T20:00:27.735Z"
   },
   {
    "duration": 10,
    "start_time": "2022-03-29T20:00:28.079Z"
   },
   {
    "duration": 11,
    "start_time": "2022-03-29T20:00:28.091Z"
   },
   {
    "duration": 77,
    "start_time": "2022-03-29T20:00:28.108Z"
   },
   {
    "duration": 539,
    "start_time": "2022-03-29T20:00:28.187Z"
   },
   {
    "duration": 10,
    "start_time": "2022-03-29T20:00:28.729Z"
   },
   {
    "duration": 164,
    "start_time": "2022-03-29T20:00:28.742Z"
   },
   {
    "duration": 184,
    "start_time": "2022-03-29T20:00:28.909Z"
   },
   {
    "duration": 11,
    "start_time": "2022-03-29T20:00:29.096Z"
   },
   {
    "duration": 290,
    "start_time": "2022-03-29T20:00:29.110Z"
   },
   {
    "duration": 372,
    "start_time": "2022-03-29T20:00:29.402Z"
   },
   {
    "duration": 251,
    "start_time": "2022-03-29T20:00:29.776Z"
   },
   {
    "duration": 247,
    "start_time": "2022-03-29T20:00:30.029Z"
   },
   {
    "duration": 17,
    "start_time": "2022-03-29T20:00:30.278Z"
   },
   {
    "duration": 259,
    "start_time": "2022-03-29T20:00:30.297Z"
   },
   {
    "duration": 263,
    "start_time": "2022-03-29T20:00:30.558Z"
   },
   {
    "duration": 17,
    "start_time": "2022-03-29T20:00:30.823Z"
   },
   {
    "duration": 261,
    "start_time": "2022-03-29T20:00:30.843Z"
   },
   {
    "duration": 259,
    "start_time": "2022-03-29T20:00:31.108Z"
   },
   {
    "duration": 18,
    "start_time": "2022-03-29T20:00:31.370Z"
   },
   {
    "duration": 584,
    "start_time": "2022-03-29T20:00:31.390Z"
   },
   {
    "duration": 0,
    "start_time": "2022-03-29T20:00:31.976Z"
   },
   {
    "duration": 0,
    "start_time": "2022-03-29T20:00:31.978Z"
   },
   {
    "duration": 0,
    "start_time": "2022-03-29T20:00:31.980Z"
   },
   {
    "duration": 0,
    "start_time": "2022-03-29T20:00:31.982Z"
   },
   {
    "duration": 0,
    "start_time": "2022-03-29T20:00:31.983Z"
   },
   {
    "duration": 0,
    "start_time": "2022-03-29T20:00:31.985Z"
   },
   {
    "duration": 0,
    "start_time": "2022-03-29T20:00:31.987Z"
   },
   {
    "duration": 0,
    "start_time": "2022-03-29T20:00:31.989Z"
   },
   {
    "duration": 0,
    "start_time": "2022-03-29T20:00:31.991Z"
   },
   {
    "duration": 0,
    "start_time": "2022-03-29T20:00:31.992Z"
   },
   {
    "duration": 0,
    "start_time": "2022-03-29T20:00:31.994Z"
   },
   {
    "duration": 0,
    "start_time": "2022-03-29T20:00:31.995Z"
   },
   {
    "duration": 0,
    "start_time": "2022-03-29T20:00:31.997Z"
   },
   {
    "duration": 0,
    "start_time": "2022-03-29T20:00:31.999Z"
   },
   {
    "duration": 0,
    "start_time": "2022-03-29T20:00:32.001Z"
   },
   {
    "duration": 0,
    "start_time": "2022-03-29T20:00:32.003Z"
   },
   {
    "duration": 0,
    "start_time": "2022-03-29T20:00:32.005Z"
   },
   {
    "duration": 0,
    "start_time": "2022-03-29T20:00:32.007Z"
   },
   {
    "duration": 0,
    "start_time": "2022-03-29T20:00:32.008Z"
   },
   {
    "duration": 0,
    "start_time": "2022-03-29T20:00:32.009Z"
   },
   {
    "duration": 1,
    "start_time": "2022-03-29T20:00:32.010Z"
   },
   {
    "duration": 0,
    "start_time": "2022-03-29T20:00:32.012Z"
   },
   {
    "duration": 1485,
    "start_time": "2022-03-29T20:00:49.850Z"
   },
   {
    "duration": 58,
    "start_time": "2022-03-29T20:00:51.338Z"
   },
   {
    "duration": 31,
    "start_time": "2022-03-29T20:00:51.398Z"
   },
   {
    "duration": 20,
    "start_time": "2022-03-29T20:00:51.432Z"
   },
   {
    "duration": 39,
    "start_time": "2022-03-29T20:00:51.475Z"
   },
   {
    "duration": 13,
    "start_time": "2022-03-29T20:00:51.516Z"
   },
   {
    "duration": 52,
    "start_time": "2022-03-29T20:00:51.531Z"
   },
   {
    "duration": 7,
    "start_time": "2022-03-29T20:00:51.585Z"
   },
   {
    "duration": 40,
    "start_time": "2022-03-29T20:00:51.594Z"
   },
   {
    "duration": 38,
    "start_time": "2022-03-29T20:00:51.638Z"
   },
   {
    "duration": 14,
    "start_time": "2022-03-29T20:00:51.678Z"
   },
   {
    "duration": 12,
    "start_time": "2022-03-29T20:00:51.695Z"
   },
   {
    "duration": 9,
    "start_time": "2022-03-29T20:00:51.709Z"
   },
   {
    "duration": 24,
    "start_time": "2022-03-29T20:00:51.720Z"
   },
   {
    "duration": 38,
    "start_time": "2022-03-29T20:00:51.746Z"
   },
   {
    "duration": 24,
    "start_time": "2022-03-29T20:00:51.786Z"
   },
   {
    "duration": 24,
    "start_time": "2022-03-29T20:00:51.812Z"
   },
   {
    "duration": 12,
    "start_time": "2022-03-29T20:00:51.873Z"
   },
   {
    "duration": 13,
    "start_time": "2022-03-29T20:00:51.888Z"
   },
   {
    "duration": 27,
    "start_time": "2022-03-29T20:00:51.904Z"
   },
   {
    "duration": 541,
    "start_time": "2022-03-29T20:00:51.933Z"
   },
   {
    "duration": 438,
    "start_time": "2022-03-29T20:00:52.476Z"
   },
   {
    "duration": 11,
    "start_time": "2022-03-29T20:00:52.917Z"
   },
   {
    "duration": 89,
    "start_time": "2022-03-29T20:00:52.930Z"
   },
   {
    "duration": 341,
    "start_time": "2022-03-29T20:00:53.021Z"
   },
   {
    "duration": 16,
    "start_time": "2022-03-29T20:00:53.365Z"
   },
   {
    "duration": 11,
    "start_time": "2022-03-29T20:00:53.384Z"
   },
   {
    "duration": 81,
    "start_time": "2022-03-29T20:00:53.401Z"
   },
   {
    "duration": 562,
    "start_time": "2022-03-29T20:00:53.484Z"
   },
   {
    "duration": 11,
    "start_time": "2022-03-29T20:00:54.048Z"
   },
   {
    "duration": 158,
    "start_time": "2022-03-29T20:00:54.061Z"
   },
   {
    "duration": 185,
    "start_time": "2022-03-29T20:00:54.221Z"
   },
   {
    "duration": 13,
    "start_time": "2022-03-29T20:00:54.408Z"
   },
   {
    "duration": 300,
    "start_time": "2022-03-29T20:00:54.423Z"
   },
   {
    "duration": 364,
    "start_time": "2022-03-29T20:00:54.725Z"
   },
   {
    "duration": 264,
    "start_time": "2022-03-29T20:00:55.092Z"
   },
   {
    "duration": 260,
    "start_time": "2022-03-29T20:00:55.360Z"
   },
   {
    "duration": 18,
    "start_time": "2022-03-29T20:00:55.623Z"
   },
   {
    "duration": 272,
    "start_time": "2022-03-29T20:00:55.644Z"
   },
   {
    "duration": 261,
    "start_time": "2022-03-29T20:00:55.919Z"
   },
   {
    "duration": 18,
    "start_time": "2022-03-29T20:00:56.183Z"
   },
   {
    "duration": 258,
    "start_time": "2022-03-29T20:00:56.203Z"
   },
   {
    "duration": 240,
    "start_time": "2022-03-29T20:00:56.473Z"
   },
   {
    "duration": 20,
    "start_time": "2022-03-29T20:00:56.716Z"
   },
   {
    "duration": 392,
    "start_time": "2022-03-29T20:00:56.739Z"
   },
   {
    "duration": 355,
    "start_time": "2022-03-29T20:00:57.134Z"
   },
   {
    "duration": 362,
    "start_time": "2022-03-29T20:00:57.491Z"
   },
   {
    "duration": 341,
    "start_time": "2022-03-29T20:00:57.856Z"
   },
   {
    "duration": 409,
    "start_time": "2022-03-29T20:00:58.199Z"
   },
   {
    "duration": 348,
    "start_time": "2022-03-29T20:00:58.610Z"
   },
   {
    "duration": 263,
    "start_time": "2022-03-29T20:00:58.961Z"
   },
   {
    "duration": 276,
    "start_time": "2022-03-29T20:00:59.227Z"
   },
   {
    "duration": 12,
    "start_time": "2022-03-29T20:00:59.506Z"
   },
   {
    "duration": 6,
    "start_time": "2022-03-29T20:00:59.521Z"
   },
   {
    "duration": 46,
    "start_time": "2022-03-29T20:00:59.529Z"
   },
   {
    "duration": 280,
    "start_time": "2022-03-29T20:00:59.577Z"
   },
   {
    "duration": 264,
    "start_time": "2022-03-29T20:00:59.860Z"
   },
   {
    "duration": 266,
    "start_time": "2022-03-29T20:01:00.127Z"
   },
   {
    "duration": 11,
    "start_time": "2022-03-29T20:01:00.395Z"
   },
   {
    "duration": 34,
    "start_time": "2022-03-29T20:01:00.408Z"
   },
   {
    "duration": 16,
    "start_time": "2022-03-29T20:01:00.445Z"
   },
   {
    "duration": 30,
    "start_time": "2022-03-29T20:01:00.463Z"
   },
   {
    "duration": 21,
    "start_time": "2022-03-29T20:01:00.495Z"
   },
   {
    "duration": 27,
    "start_time": "2022-03-29T20:01:00.518Z"
   },
   {
    "duration": 20,
    "start_time": "2022-03-29T20:01:00.547Z"
   },
   {
    "duration": 22,
    "start_time": "2022-03-29T20:01:00.569Z"
   },
   {
    "duration": 28,
    "start_time": "2022-03-29T20:01:00.593Z"
   },
   {
    "duration": 360,
    "start_time": "2022-03-29T20:01:55.852Z"
   },
   {
    "duration": 526,
    "start_time": "2022-03-29T20:02:40.570Z"
   },
   {
    "duration": 359,
    "start_time": "2022-03-29T20:02:49.697Z"
   },
   {
    "duration": 91,
    "start_time": "2022-03-29T20:05:05.338Z"
   },
   {
    "duration": 173,
    "start_time": "2022-03-30T12:37:25.017Z"
   },
   {
    "duration": 168,
    "start_time": "2022-03-30T12:44:44.152Z"
   },
   {
    "duration": 1363,
    "start_time": "2022-03-30T12:45:09.082Z"
   },
   {
    "duration": 44,
    "start_time": "2022-03-30T12:45:10.448Z"
   },
   {
    "duration": 22,
    "start_time": "2022-03-30T12:45:10.494Z"
   },
   {
    "duration": 20,
    "start_time": "2022-03-30T12:45:10.518Z"
   },
   {
    "duration": 30,
    "start_time": "2022-03-30T12:45:10.540Z"
   },
   {
    "duration": 10,
    "start_time": "2022-03-30T12:45:10.571Z"
   },
   {
    "duration": 26,
    "start_time": "2022-03-30T12:45:10.583Z"
   },
   {
    "duration": 22,
    "start_time": "2022-03-30T12:45:10.611Z"
   },
   {
    "duration": 40,
    "start_time": "2022-03-30T12:45:10.635Z"
   },
   {
    "duration": 5,
    "start_time": "2022-03-30T12:45:10.678Z"
   },
   {
    "duration": 26,
    "start_time": "2022-03-30T12:45:10.685Z"
   },
   {
    "duration": 22,
    "start_time": "2022-03-30T12:45:10.713Z"
   },
   {
    "duration": 20,
    "start_time": "2022-03-30T12:45:10.737Z"
   },
   {
    "duration": 22,
    "start_time": "2022-03-30T12:45:10.759Z"
   },
   {
    "duration": 22,
    "start_time": "2022-03-30T12:45:10.783Z"
   },
   {
    "duration": 30,
    "start_time": "2022-03-30T12:45:10.807Z"
   },
   {
    "duration": 25,
    "start_time": "2022-03-30T12:45:10.839Z"
   },
   {
    "duration": 21,
    "start_time": "2022-03-30T12:45:10.867Z"
   },
   {
    "duration": 33,
    "start_time": "2022-03-30T12:45:10.890Z"
   },
   {
    "duration": 35,
    "start_time": "2022-03-30T12:45:10.925Z"
   },
   {
    "duration": 329,
    "start_time": "2022-03-30T12:45:10.962Z"
   },
   {
    "duration": 288,
    "start_time": "2022-03-30T12:45:11.293Z"
   },
   {
    "duration": 8,
    "start_time": "2022-03-30T12:45:11.583Z"
   },
   {
    "duration": 52,
    "start_time": "2022-03-30T12:45:11.592Z"
   },
   {
    "duration": 229,
    "start_time": "2022-03-30T12:45:11.646Z"
   },
   {
    "duration": 8,
    "start_time": "2022-03-30T12:45:11.876Z"
   },
   {
    "duration": 11,
    "start_time": "2022-03-30T12:45:11.885Z"
   },
   {
    "duration": 55,
    "start_time": "2022-03-30T12:45:11.900Z"
   },
   {
    "duration": 382,
    "start_time": "2022-03-30T12:45:11.958Z"
   },
   {
    "duration": 9,
    "start_time": "2022-03-30T12:45:12.342Z"
   },
   {
    "duration": 117,
    "start_time": "2022-03-30T12:45:12.353Z"
   },
   {
    "duration": 119,
    "start_time": "2022-03-30T12:45:12.472Z"
   },
   {
    "duration": 9,
    "start_time": "2022-03-30T12:45:12.593Z"
   },
   {
    "duration": 264,
    "start_time": "2022-03-30T12:45:12.604Z"
   },
   {
    "duration": 197,
    "start_time": "2022-03-30T12:45:12.870Z"
   },
   {
    "duration": 178,
    "start_time": "2022-03-30T12:45:13.068Z"
   },
   {
    "duration": 174,
    "start_time": "2022-03-30T12:45:13.247Z"
   },
   {
    "duration": 17,
    "start_time": "2022-03-30T12:45:13.422Z"
   },
   {
    "duration": 180,
    "start_time": "2022-03-30T12:45:13.440Z"
   },
   {
    "duration": 176,
    "start_time": "2022-03-30T12:45:13.622Z"
   },
   {
    "duration": 13,
    "start_time": "2022-03-30T12:45:13.800Z"
   },
   {
    "duration": 195,
    "start_time": "2022-03-30T12:45:13.814Z"
   },
   {
    "duration": 158,
    "start_time": "2022-03-30T12:45:14.011Z"
   },
   {
    "duration": 13,
    "start_time": "2022-03-30T12:45:14.171Z"
   },
   {
    "duration": 279,
    "start_time": "2022-03-30T12:45:14.185Z"
   },
   {
    "duration": 262,
    "start_time": "2022-03-30T12:45:14.466Z"
   },
   {
    "duration": 243,
    "start_time": "2022-03-30T12:45:14.731Z"
   },
   {
    "duration": 238,
    "start_time": "2022-03-30T12:45:14.975Z"
   },
   {
    "duration": 363,
    "start_time": "2022-03-30T12:45:15.215Z"
   },
   {
    "duration": 180,
    "start_time": "2022-03-30T12:45:15.580Z"
   },
   {
    "duration": 176,
    "start_time": "2022-03-30T12:45:15.761Z"
   },
   {
    "duration": 185,
    "start_time": "2022-03-30T12:45:15.939Z"
   },
   {
    "duration": 9,
    "start_time": "2022-03-30T12:45:16.126Z"
   },
   {
    "duration": 7,
    "start_time": "2022-03-30T12:45:16.137Z"
   },
   {
    "duration": 25,
    "start_time": "2022-03-30T12:45:16.146Z"
   },
   {
    "duration": 189,
    "start_time": "2022-03-30T12:45:16.173Z"
   },
   {
    "duration": 163,
    "start_time": "2022-03-30T12:45:16.364Z"
   },
   {
    "duration": 165,
    "start_time": "2022-03-30T12:45:16.532Z"
   },
   {
    "duration": 9,
    "start_time": "2022-03-30T12:45:16.698Z"
   },
   {
    "duration": 26,
    "start_time": "2022-03-30T12:45:16.708Z"
   },
   {
    "duration": 3,
    "start_time": "2022-03-30T12:45:16.735Z"
   },
   {
    "duration": 8,
    "start_time": "2022-03-30T12:45:16.740Z"
   },
   {
    "duration": 7,
    "start_time": "2022-03-30T12:45:16.749Z"
   },
   {
    "duration": 11,
    "start_time": "2022-03-30T12:45:16.757Z"
   },
   {
    "duration": 8,
    "start_time": "2022-03-30T12:45:16.770Z"
   },
   {
    "duration": 6,
    "start_time": "2022-03-30T12:45:16.780Z"
   },
   {
    "duration": 6,
    "start_time": "2022-03-30T12:45:16.787Z"
   },
   {
    "duration": 117,
    "start_time": "2022-04-10T14:47:58.259Z"
   },
   {
    "duration": 1664,
    "start_time": "2022-04-10T14:48:06.545Z"
   },
   {
    "duration": 70,
    "start_time": "2022-04-10T14:48:08.212Z"
   },
   {
    "duration": 32,
    "start_time": "2022-04-10T14:48:08.284Z"
   },
   {
    "duration": 19,
    "start_time": "2022-04-10T14:48:08.319Z"
   },
   {
    "duration": 62,
    "start_time": "2022-04-10T14:48:08.340Z"
   },
   {
    "duration": 12,
    "start_time": "2022-04-10T14:48:08.404Z"
   },
   {
    "duration": 25,
    "start_time": "2022-04-10T14:48:08.418Z"
   },
   {
    "duration": 6,
    "start_time": "2022-04-10T14:48:08.445Z"
   },
   {
    "duration": 41,
    "start_time": "2022-04-10T14:48:08.468Z"
   },
   {
    "duration": 7,
    "start_time": "2022-04-10T14:48:08.512Z"
   },
   {
    "duration": 9,
    "start_time": "2022-04-10T14:48:08.521Z"
   },
   {
    "duration": 9,
    "start_time": "2022-04-10T14:48:08.532Z"
   },
   {
    "duration": 25,
    "start_time": "2022-04-10T14:48:08.544Z"
   },
   {
    "duration": 18,
    "start_time": "2022-04-10T14:48:08.571Z"
   },
   {
    "duration": 12,
    "start_time": "2022-04-10T14:48:08.592Z"
   },
   {
    "duration": 25,
    "start_time": "2022-04-10T14:48:08.606Z"
   },
   {
    "duration": 22,
    "start_time": "2022-04-10T14:48:08.633Z"
   },
   {
    "duration": 11,
    "start_time": "2022-04-10T14:48:08.668Z"
   },
   {
    "duration": 18,
    "start_time": "2022-04-10T14:48:08.681Z"
   },
   {
    "duration": 24,
    "start_time": "2022-04-10T14:48:08.701Z"
   },
   {
    "duration": 588,
    "start_time": "2022-04-10T14:48:08.727Z"
   },
   {
    "duration": 388,
    "start_time": "2022-04-10T14:48:09.317Z"
   },
   {
    "duration": 10,
    "start_time": "2022-04-10T14:48:09.708Z"
   },
   {
    "duration": 62,
    "start_time": "2022-04-10T14:48:09.720Z"
   },
   {
    "duration": 305,
    "start_time": "2022-04-10T14:48:09.785Z"
   },
   {
    "duration": 9,
    "start_time": "2022-04-10T14:48:10.092Z"
   },
   {
    "duration": 11,
    "start_time": "2022-04-10T14:48:10.103Z"
   },
   {
    "duration": 74,
    "start_time": "2022-04-10T14:48:10.119Z"
   },
   {
    "duration": 6,
    "start_time": "2022-04-10T15:15:10.942Z"
   },
   {
    "duration": 61,
    "start_time": "2022-04-10T15:15:10.952Z"
   },
   {
    "duration": 27,
    "start_time": "2022-04-10T15:15:11.015Z"
   },
   {
    "duration": 44,
    "start_time": "2022-04-10T15:15:11.045Z"
   },
   {
    "duration": 59,
    "start_time": "2022-04-10T15:15:11.094Z"
   },
   {
    "duration": 25,
    "start_time": "2022-04-10T15:15:11.156Z"
   },
   {
    "duration": 31,
    "start_time": "2022-04-10T15:15:11.184Z"
   },
   {
    "duration": 11,
    "start_time": "2022-04-10T15:15:11.217Z"
   },
   {
    "duration": 74,
    "start_time": "2022-04-10T15:15:11.231Z"
   },
   {
    "duration": 7,
    "start_time": "2022-04-10T15:15:11.307Z"
   },
   {
    "duration": 10,
    "start_time": "2022-04-10T15:15:11.316Z"
   },
   {
    "duration": 14,
    "start_time": "2022-04-10T15:15:11.369Z"
   },
   {
    "duration": 13,
    "start_time": "2022-04-10T15:15:11.386Z"
   },
   {
    "duration": 18,
    "start_time": "2022-04-10T15:15:11.403Z"
   },
   {
    "duration": 13,
    "start_time": "2022-04-10T15:15:11.423Z"
   },
   {
    "duration": 33,
    "start_time": "2022-04-10T15:15:11.470Z"
   },
   {
    "duration": 25,
    "start_time": "2022-04-10T15:15:11.506Z"
   },
   {
    "duration": 51,
    "start_time": "2022-04-10T15:15:11.533Z"
   },
   {
    "duration": 17,
    "start_time": "2022-04-10T15:15:11.587Z"
   },
   {
    "duration": 24,
    "start_time": "2022-04-10T15:15:11.606Z"
   },
   {
    "duration": 523,
    "start_time": "2022-04-10T15:15:11.633Z"
   },
   {
    "duration": 438,
    "start_time": "2022-04-10T15:15:12.159Z"
   },
   {
    "duration": 13,
    "start_time": "2022-04-10T15:15:12.600Z"
   },
   {
    "duration": 90,
    "start_time": "2022-04-10T15:15:12.616Z"
   },
   {
    "duration": 349,
    "start_time": "2022-04-10T15:15:12.708Z"
   },
   {
    "duration": 19,
    "start_time": "2022-04-10T15:15:13.059Z"
   },
   {
    "duration": 18,
    "start_time": "2022-04-10T15:15:13.082Z"
   },
   {
    "duration": 73,
    "start_time": "2022-04-10T15:15:13.102Z"
   },
   {
    "duration": 537,
    "start_time": "2022-04-10T15:15:13.178Z"
   },
   {
    "duration": 14,
    "start_time": "2022-04-10T15:15:13.718Z"
   },
   {
    "duration": 195,
    "start_time": "2022-04-10T15:15:13.734Z"
   },
   {
    "duration": 256,
    "start_time": "2022-04-10T15:15:13.932Z"
   },
   {
    "duration": 13,
    "start_time": "2022-04-10T15:15:14.191Z"
   },
   {
    "duration": 315,
    "start_time": "2022-04-10T15:15:14.207Z"
   },
   {
    "duration": 319,
    "start_time": "2022-04-10T15:15:14.525Z"
   },
   {
    "duration": 361,
    "start_time": "2022-04-10T15:15:14.846Z"
   },
   {
    "duration": 276,
    "start_time": "2022-04-10T15:15:15.209Z"
   },
   {
    "duration": 18,
    "start_time": "2022-04-10T15:15:15.487Z"
   },
   {
    "duration": 293,
    "start_time": "2022-04-10T15:15:15.507Z"
   },
   {
    "duration": 257,
    "start_time": "2022-04-10T15:15:15.803Z"
   },
   {
    "duration": 20,
    "start_time": "2022-04-10T15:15:16.077Z"
   },
   {
    "duration": 296,
    "start_time": "2022-04-10T15:15:16.101Z"
   },
   {
    "duration": 271,
    "start_time": "2022-04-10T15:15:16.399Z"
   },
   {
    "duration": 22,
    "start_time": "2022-04-10T15:15:16.673Z"
   },
   {
    "duration": 410,
    "start_time": "2022-04-10T15:15:16.697Z"
   },
   {
    "duration": 394,
    "start_time": "2022-04-10T15:15:17.109Z"
   },
   {
    "duration": 509,
    "start_time": "2022-04-10T15:15:17.505Z"
   },
   {
    "duration": 879,
    "start_time": "2022-04-10T15:15:18.016Z"
   },
   {
    "duration": 1018,
    "start_time": "2022-04-10T15:15:18.898Z"
   },
   {
    "duration": 955,
    "start_time": "2022-04-10T15:15:19.919Z"
   },
   {
    "duration": 315,
    "start_time": "2022-04-10T15:15:20.877Z"
   },
   {
    "duration": 273,
    "start_time": "2022-04-10T15:15:21.194Z"
   },
   {
    "duration": 295,
    "start_time": "2022-04-10T15:15:21.470Z"
   },
   {
    "duration": 14,
    "start_time": "2022-04-10T15:15:21.768Z"
   },
   {
    "duration": 6,
    "start_time": "2022-04-10T15:15:21.785Z"
   },
   {
    "duration": 17,
    "start_time": "2022-04-10T15:15:21.793Z"
   },
   {
    "duration": 439,
    "start_time": "2022-04-10T15:15:21.812Z"
   },
   {
    "duration": 289,
    "start_time": "2022-04-10T15:15:22.255Z"
   },
   {
    "duration": 269,
    "start_time": "2022-04-10T15:15:22.547Z"
   },
   {
    "duration": 11,
    "start_time": "2022-04-10T15:15:22.818Z"
   },
   {
    "duration": 12,
    "start_time": "2022-04-10T15:15:22.832Z"
   },
   {
    "duration": 7,
    "start_time": "2022-04-10T15:15:22.869Z"
   },
   {
    "duration": 13,
    "start_time": "2022-04-10T15:15:22.879Z"
   },
   {
    "duration": 9,
    "start_time": "2022-04-10T15:15:22.895Z"
   },
   {
    "duration": 12,
    "start_time": "2022-04-10T15:15:22.906Z"
   },
   {
    "duration": 12,
    "start_time": "2022-04-10T15:15:22.921Z"
   },
   {
    "duration": 38,
    "start_time": "2022-04-10T15:15:22.935Z"
   },
   {
    "duration": 16,
    "start_time": "2022-04-10T15:15:22.976Z"
   },
   {
    "duration": 541,
    "start_time": "2022-04-10T15:16:49.399Z"
   },
   {
    "duration": 683,
    "start_time": "2022-04-10T15:16:58.484Z"
   },
   {
    "duration": 542,
    "start_time": "2022-04-10T15:17:07.204Z"
   },
   {
    "duration": 126,
    "start_time": "2022-04-10T15:21:40.563Z"
   },
   {
    "duration": 451,
    "start_time": "2022-04-10T15:27:12.056Z"
   },
   {
    "duration": 527,
    "start_time": "2022-04-10T15:27:43.128Z"
   },
   {
    "duration": 413,
    "start_time": "2022-04-10T15:28:02.933Z"
   },
   {
    "duration": 395,
    "start_time": "2022-04-10T15:30:30.022Z"
   },
   {
    "duration": 50,
    "start_time": "2022-04-10T18:36:23.716Z"
   },
   {
    "duration": 1414,
    "start_time": "2022-04-10T19:15:28.700Z"
   },
   {
    "duration": 45,
    "start_time": "2022-04-10T19:15:30.117Z"
   },
   {
    "duration": 23,
    "start_time": "2022-04-10T19:15:30.164Z"
   },
   {
    "duration": 19,
    "start_time": "2022-04-10T19:15:30.190Z"
   },
   {
    "duration": 44,
    "start_time": "2022-04-10T19:15:30.211Z"
   },
   {
    "duration": 9,
    "start_time": "2022-04-10T19:15:30.257Z"
   },
   {
    "duration": 43,
    "start_time": "2022-04-10T19:15:30.268Z"
   },
   {
    "duration": 17,
    "start_time": "2022-04-10T19:15:30.312Z"
   },
   {
    "duration": 46,
    "start_time": "2022-04-10T19:15:30.330Z"
   },
   {
    "duration": 11,
    "start_time": "2022-04-10T19:15:30.380Z"
   },
   {
    "duration": 21,
    "start_time": "2022-04-10T19:15:30.393Z"
   },
   {
    "duration": 23,
    "start_time": "2022-04-10T19:15:30.417Z"
   },
   {
    "duration": 32,
    "start_time": "2022-04-10T19:15:30.443Z"
   },
   {
    "duration": 35,
    "start_time": "2022-04-10T19:15:30.477Z"
   },
   {
    "duration": 29,
    "start_time": "2022-04-10T19:15:30.514Z"
   },
   {
    "duration": 40,
    "start_time": "2022-04-10T19:15:30.545Z"
   },
   {
    "duration": 26,
    "start_time": "2022-04-10T19:15:30.587Z"
   },
   {
    "duration": 24,
    "start_time": "2022-04-10T19:15:30.615Z"
   },
   {
    "duration": 31,
    "start_time": "2022-04-10T19:15:30.642Z"
   },
   {
    "duration": 29,
    "start_time": "2022-04-10T19:15:30.675Z"
   },
   {
    "duration": 328,
    "start_time": "2022-04-10T19:15:30.707Z"
   },
   {
    "duration": 293,
    "start_time": "2022-04-10T19:15:31.038Z"
   },
   {
    "duration": 11,
    "start_time": "2022-04-10T19:15:31.333Z"
   },
   {
    "duration": 58,
    "start_time": "2022-04-10T19:15:31.346Z"
   },
   {
    "duration": 258,
    "start_time": "2022-04-10T19:15:31.406Z"
   },
   {
    "duration": 7,
    "start_time": "2022-04-10T19:15:31.666Z"
   },
   {
    "duration": 28,
    "start_time": "2022-04-10T19:15:31.675Z"
   },
   {
    "duration": 38,
    "start_time": "2022-04-10T19:15:31.707Z"
   },
   {
    "duration": 357,
    "start_time": "2022-04-10T19:15:31.747Z"
   },
   {
    "duration": 10,
    "start_time": "2022-04-10T19:15:32.106Z"
   },
   {
    "duration": 136,
    "start_time": "2022-04-10T19:15:32.117Z"
   },
   {
    "duration": 122,
    "start_time": "2022-04-10T19:15:32.254Z"
   },
   {
    "duration": 7,
    "start_time": "2022-04-10T19:15:32.378Z"
   },
   {
    "duration": 206,
    "start_time": "2022-04-10T19:15:32.386Z"
   },
   {
    "duration": 200,
    "start_time": "2022-04-10T19:15:32.594Z"
   },
   {
    "duration": 250,
    "start_time": "2022-04-10T19:15:32.795Z"
   },
   {
    "duration": 183,
    "start_time": "2022-04-10T19:15:33.047Z"
   },
   {
    "duration": 13,
    "start_time": "2022-04-10T19:15:33.232Z"
   },
   {
    "duration": 181,
    "start_time": "2022-04-10T19:15:33.246Z"
   },
   {
    "duration": 174,
    "start_time": "2022-04-10T19:15:33.429Z"
   },
   {
    "duration": 12,
    "start_time": "2022-04-10T19:15:33.605Z"
   },
   {
    "duration": 194,
    "start_time": "2022-04-10T19:15:33.619Z"
   },
   {
    "duration": 194,
    "start_time": "2022-04-10T19:15:33.815Z"
   },
   {
    "duration": 22,
    "start_time": "2022-04-10T19:15:34.011Z"
   },
   {
    "duration": 262,
    "start_time": "2022-04-10T19:15:34.036Z"
   },
   {
    "duration": 293,
    "start_time": "2022-04-10T19:15:34.300Z"
   },
   {
    "duration": 296,
    "start_time": "2022-04-10T19:15:34.596Z"
   },
   {
    "duration": 202,
    "start_time": "2022-04-10T19:15:34.894Z"
   },
   {
    "duration": 279,
    "start_time": "2022-04-10T19:15:35.099Z"
   },
   {
    "duration": 193,
    "start_time": "2022-04-10T19:15:35.380Z"
   },
   {
    "duration": 6,
    "start_time": "2022-04-10T19:15:35.575Z"
   },
   {
    "duration": 6,
    "start_time": "2022-04-10T19:15:35.583Z"
   },
   {
    "duration": 15,
    "start_time": "2022-04-10T19:15:35.591Z"
   },
   {
    "duration": 184,
    "start_time": "2022-04-10T19:15:35.608Z"
   },
   {
    "duration": 170,
    "start_time": "2022-04-10T19:15:35.794Z"
   },
   {
    "duration": 207,
    "start_time": "2022-04-10T19:15:35.966Z"
   },
   {
    "duration": 9,
    "start_time": "2022-04-10T19:15:36.175Z"
   },
   {
    "duration": 12,
    "start_time": "2022-04-10T19:15:36.186Z"
   },
   {
    "duration": 6,
    "start_time": "2022-04-10T19:15:36.200Z"
   },
   {
    "duration": 25,
    "start_time": "2022-04-10T19:15:36.208Z"
   },
   {
    "duration": 7,
    "start_time": "2022-04-10T19:15:36.236Z"
   },
   {
    "duration": 11,
    "start_time": "2022-04-10T19:15:36.245Z"
   },
   {
    "duration": 11,
    "start_time": "2022-04-10T19:15:36.257Z"
   },
   {
    "duration": 5,
    "start_time": "2022-04-10T19:15:36.270Z"
   },
   {
    "duration": 7,
    "start_time": "2022-04-10T19:15:36.277Z"
   },
   {
    "duration": 156,
    "start_time": "2022-04-10T19:19:42.148Z"
   },
   {
    "duration": 180,
    "start_time": "2022-04-10T19:31:23.700Z"
   },
   {
    "duration": 191,
    "start_time": "2022-04-10T19:35:35.688Z"
   },
   {
    "duration": 199,
    "start_time": "2022-04-10T19:36:17.141Z"
   },
   {
    "duration": 176,
    "start_time": "2022-04-10T19:44:46.221Z"
   },
   {
    "duration": 161,
    "start_time": "2022-04-10T19:45:06.555Z"
   },
   {
    "duration": 161,
    "start_time": "2022-04-10T19:45:27.049Z"
   },
   {
    "duration": 170,
    "start_time": "2022-04-10T19:45:56.939Z"
   },
   {
    "duration": 174,
    "start_time": "2022-04-10T19:46:09.796Z"
   },
   {
    "duration": 168,
    "start_time": "2022-04-10T19:47:42.017Z"
   },
   {
    "duration": 111,
    "start_time": "2022-04-10T19:50:48.243Z"
   },
   {
    "duration": 16,
    "start_time": "2022-04-10T19:53:29.245Z"
   },
   {
    "duration": 1215,
    "start_time": "2022-04-10T19:53:44.493Z"
   },
   {
    "duration": 44,
    "start_time": "2022-04-10T19:53:45.710Z"
   },
   {
    "duration": 22,
    "start_time": "2022-04-10T19:53:45.756Z"
   },
   {
    "duration": 18,
    "start_time": "2022-04-10T19:53:45.780Z"
   },
   {
    "duration": 45,
    "start_time": "2022-04-10T19:53:45.800Z"
   },
   {
    "duration": 11,
    "start_time": "2022-04-10T19:53:45.846Z"
   },
   {
    "duration": 21,
    "start_time": "2022-04-10T19:53:45.859Z"
   },
   {
    "duration": 5,
    "start_time": "2022-04-10T19:53:45.882Z"
   },
   {
    "duration": 56,
    "start_time": "2022-04-10T19:53:45.889Z"
   },
   {
    "duration": 6,
    "start_time": "2022-04-10T19:53:45.947Z"
   },
   {
    "duration": 8,
    "start_time": "2022-04-10T19:53:45.954Z"
   },
   {
    "duration": 16,
    "start_time": "2022-04-10T19:53:45.964Z"
   },
   {
    "duration": 9,
    "start_time": "2022-04-10T19:53:45.982Z"
   },
   {
    "duration": 38,
    "start_time": "2022-04-10T19:53:45.994Z"
   },
   {
    "duration": 10,
    "start_time": "2022-04-10T19:53:46.034Z"
   },
   {
    "duration": 27,
    "start_time": "2022-04-10T19:53:46.046Z"
   },
   {
    "duration": 17,
    "start_time": "2022-04-10T19:53:46.075Z"
   },
   {
    "duration": 10,
    "start_time": "2022-04-10T19:53:46.094Z"
   },
   {
    "duration": 33,
    "start_time": "2022-04-10T19:53:46.106Z"
   },
   {
    "duration": 22,
    "start_time": "2022-04-10T19:53:46.142Z"
   },
   {
    "duration": 388,
    "start_time": "2022-04-10T19:53:46.166Z"
   },
   {
    "duration": 294,
    "start_time": "2022-04-10T19:53:46.555Z"
   },
   {
    "duration": 9,
    "start_time": "2022-04-10T19:53:46.851Z"
   },
   {
    "duration": 42,
    "start_time": "2022-04-10T19:53:46.862Z"
   },
   {
    "duration": 273,
    "start_time": "2022-04-10T19:53:46.906Z"
   },
   {
    "duration": 9,
    "start_time": "2022-04-10T19:53:47.181Z"
   },
   {
    "duration": 9,
    "start_time": "2022-04-10T19:53:47.192Z"
   },
   {
    "duration": 51,
    "start_time": "2022-04-10T19:53:47.203Z"
   },
   {
    "duration": 347,
    "start_time": "2022-04-10T19:53:47.257Z"
   },
   {
    "duration": 9,
    "start_time": "2022-04-10T19:53:47.606Z"
   },
   {
    "duration": 118,
    "start_time": "2022-04-10T19:53:47.617Z"
   },
   {
    "duration": 131,
    "start_time": "2022-04-10T19:53:47.737Z"
   },
   {
    "duration": 7,
    "start_time": "2022-04-10T19:53:47.870Z"
   },
   {
    "duration": 233,
    "start_time": "2022-04-10T19:53:47.879Z"
   },
   {
    "duration": 226,
    "start_time": "2022-04-10T19:53:48.115Z"
   },
   {
    "duration": 271,
    "start_time": "2022-04-10T19:53:48.343Z"
   },
   {
    "duration": 185,
    "start_time": "2022-04-10T19:53:48.616Z"
   },
   {
    "duration": 13,
    "start_time": "2022-04-10T19:53:48.803Z"
   },
   {
    "duration": 186,
    "start_time": "2022-04-10T19:53:48.817Z"
   },
   {
    "duration": 175,
    "start_time": "2022-04-10T19:53:49.004Z"
   },
   {
    "duration": 12,
    "start_time": "2022-04-10T19:53:49.184Z"
   },
   {
    "duration": 207,
    "start_time": "2022-04-10T19:53:49.198Z"
   },
   {
    "duration": 190,
    "start_time": "2022-04-10T19:53:49.407Z"
   },
   {
    "duration": 13,
    "start_time": "2022-04-10T19:53:49.599Z"
   },
   {
    "duration": 128,
    "start_time": "2022-04-10T19:53:49.613Z"
   },
   {
    "duration": 0,
    "start_time": "2022-04-10T19:53:49.743Z"
   },
   {
    "duration": 0,
    "start_time": "2022-04-10T19:53:49.744Z"
   },
   {
    "duration": 0,
    "start_time": "2022-04-10T19:53:49.745Z"
   },
   {
    "duration": 0,
    "start_time": "2022-04-10T19:53:49.746Z"
   },
   {
    "duration": 0,
    "start_time": "2022-04-10T19:53:49.747Z"
   },
   {
    "duration": 0,
    "start_time": "2022-04-10T19:53:49.748Z"
   },
   {
    "duration": 0,
    "start_time": "2022-04-10T19:53:49.749Z"
   },
   {
    "duration": 0,
    "start_time": "2022-04-10T19:53:49.750Z"
   },
   {
    "duration": 0,
    "start_time": "2022-04-10T19:53:49.751Z"
   },
   {
    "duration": 0,
    "start_time": "2022-04-10T19:53:49.752Z"
   },
   {
    "duration": 0,
    "start_time": "2022-04-10T19:53:49.753Z"
   },
   {
    "duration": 0,
    "start_time": "2022-04-10T19:53:49.754Z"
   },
   {
    "duration": 0,
    "start_time": "2022-04-10T19:53:49.755Z"
   },
   {
    "duration": 0,
    "start_time": "2022-04-10T19:53:49.756Z"
   },
   {
    "duration": 0,
    "start_time": "2022-04-10T19:53:49.757Z"
   },
   {
    "duration": 0,
    "start_time": "2022-04-10T19:53:49.758Z"
   },
   {
    "duration": 0,
    "start_time": "2022-04-10T19:53:49.759Z"
   },
   {
    "duration": 0,
    "start_time": "2022-04-10T19:53:49.760Z"
   },
   {
    "duration": 0,
    "start_time": "2022-04-10T19:53:49.761Z"
   },
   {
    "duration": 0,
    "start_time": "2022-04-10T19:53:49.763Z"
   },
   {
    "duration": 0,
    "start_time": "2022-04-10T19:53:49.764Z"
   },
   {
    "duration": 14,
    "start_time": "2022-04-10T19:55:36.925Z"
   },
   {
    "duration": 190,
    "start_time": "2022-04-10T19:56:09.846Z"
   },
   {
    "duration": 13,
    "start_time": "2022-04-10T19:56:26.386Z"
   },
   {
    "duration": 201,
    "start_time": "2022-04-10T19:57:14.591Z"
   },
   {
    "duration": 223,
    "start_time": "2022-04-10T20:01:14.446Z"
   },
   {
    "duration": 246,
    "start_time": "2022-04-10T20:01:31.685Z"
   },
   {
    "duration": 239,
    "start_time": "2022-04-10T20:02:03.299Z"
   },
   {
    "duration": 244,
    "start_time": "2022-04-10T20:04:04.914Z"
   },
   {
    "duration": 223,
    "start_time": "2022-04-10T20:05:00.066Z"
   },
   {
    "duration": 318,
    "start_time": "2022-04-10T20:08:45.228Z"
   },
   {
    "duration": 289,
    "start_time": "2022-04-10T20:15:57.506Z"
   },
   {
    "duration": 296,
    "start_time": "2022-04-10T20:16:01.472Z"
   },
   {
    "duration": 296,
    "start_time": "2022-04-10T20:17:11.121Z"
   },
   {
    "duration": 183,
    "start_time": "2022-04-10T20:31:30.727Z"
   },
   {
    "duration": 163,
    "start_time": "2022-04-10T20:32:33.282Z"
   },
   {
    "duration": 161,
    "start_time": "2022-04-10T20:32:43.284Z"
   },
   {
    "duration": 161,
    "start_time": "2022-04-10T20:33:29.382Z"
   },
   {
    "duration": 166,
    "start_time": "2022-04-10T20:33:31.150Z"
   },
   {
    "duration": 176,
    "start_time": "2022-04-10T20:33:42.930Z"
   },
   {
    "duration": 6,
    "start_time": "2022-04-10T20:40:44.545Z"
   },
   {
    "duration": 3,
    "start_time": "2022-04-10T20:43:46.673Z"
   },
   {
    "duration": 8,
    "start_time": "2022-04-10T20:43:48.801Z"
   },
   {
    "duration": 164,
    "start_time": "2022-04-10T20:44:06.190Z"
   },
   {
    "duration": 271,
    "start_time": "2022-04-10T20:44:17.749Z"
   },
   {
    "duration": 161,
    "start_time": "2022-04-10T20:44:21.213Z"
   },
   {
    "duration": 176,
    "start_time": "2022-04-10T21:01:38.397Z"
   },
   {
    "duration": 165,
    "start_time": "2022-04-10T21:02:59.963Z"
   },
   {
    "duration": 1197,
    "start_time": "2022-04-10T21:55:16.505Z"
   },
   {
    "duration": 54,
    "start_time": "2022-04-10T21:55:17.704Z"
   },
   {
    "duration": 24,
    "start_time": "2022-04-10T21:55:17.760Z"
   },
   {
    "duration": 17,
    "start_time": "2022-04-10T21:55:17.786Z"
   },
   {
    "duration": 49,
    "start_time": "2022-04-10T21:55:17.805Z"
   },
   {
    "duration": 9,
    "start_time": "2022-04-10T21:55:17.856Z"
   },
   {
    "duration": 18,
    "start_time": "2022-04-10T21:55:17.867Z"
   },
   {
    "duration": 5,
    "start_time": "2022-04-10T21:55:17.887Z"
   },
   {
    "duration": 54,
    "start_time": "2022-04-10T21:55:17.894Z"
   },
   {
    "duration": 5,
    "start_time": "2022-04-10T21:55:17.950Z"
   },
   {
    "duration": 9,
    "start_time": "2022-04-10T21:55:17.958Z"
   },
   {
    "duration": 11,
    "start_time": "2022-04-10T21:55:17.969Z"
   },
   {
    "duration": 10,
    "start_time": "2022-04-10T21:55:17.982Z"
   },
   {
    "duration": 44,
    "start_time": "2022-04-10T21:55:17.996Z"
   },
   {
    "duration": 11,
    "start_time": "2022-04-10T21:55:18.042Z"
   },
   {
    "duration": 19,
    "start_time": "2022-04-10T21:55:18.055Z"
   },
   {
    "duration": 18,
    "start_time": "2022-04-10T21:55:18.076Z"
   },
   {
    "duration": 43,
    "start_time": "2022-04-10T21:55:18.096Z"
   },
   {
    "duration": 15,
    "start_time": "2022-04-10T21:55:18.141Z"
   },
   {
    "duration": 21,
    "start_time": "2022-04-10T21:55:18.157Z"
   },
   {
    "duration": 337,
    "start_time": "2022-04-10T21:55:18.180Z"
   },
   {
    "duration": 275,
    "start_time": "2022-04-10T21:55:18.519Z"
   },
   {
    "duration": 8,
    "start_time": "2022-04-10T21:55:18.796Z"
   },
   {
    "duration": 48,
    "start_time": "2022-04-10T21:55:18.806Z"
   },
   {
    "duration": 258,
    "start_time": "2022-04-10T21:55:18.855Z"
   },
   {
    "duration": 17,
    "start_time": "2022-04-10T21:55:19.115Z"
   },
   {
    "duration": 9,
    "start_time": "2022-04-10T21:55:19.133Z"
   },
   {
    "duration": 30,
    "start_time": "2022-04-10T21:55:19.143Z"
   },
   {
    "duration": 337,
    "start_time": "2022-04-10T21:55:19.175Z"
   },
   {
    "duration": 8,
    "start_time": "2022-04-10T21:55:19.514Z"
   },
   {
    "duration": 110,
    "start_time": "2022-04-10T21:55:19.524Z"
   },
   {
    "duration": 121,
    "start_time": "2022-04-10T21:55:19.636Z"
   },
   {
    "duration": 6,
    "start_time": "2022-04-10T21:55:19.759Z"
   },
   {
    "duration": 207,
    "start_time": "2022-04-10T21:55:19.767Z"
   },
   {
    "duration": 211,
    "start_time": "2022-04-10T21:55:19.976Z"
   },
   {
    "duration": 257,
    "start_time": "2022-04-10T21:55:20.189Z"
   },
   {
    "duration": 190,
    "start_time": "2022-04-10T21:55:20.448Z"
   },
   {
    "duration": 14,
    "start_time": "2022-04-10T21:55:20.640Z"
   },
   {
    "duration": 194,
    "start_time": "2022-04-10T21:55:20.656Z"
   },
   {
    "duration": 180,
    "start_time": "2022-04-10T21:55:20.853Z"
   },
   {
    "duration": 13,
    "start_time": "2022-04-10T21:55:21.039Z"
   },
   {
    "duration": 193,
    "start_time": "2022-04-10T21:55:21.055Z"
   },
   {
    "duration": 190,
    "start_time": "2022-04-10T21:55:21.250Z"
   },
   {
    "duration": 12,
    "start_time": "2022-04-10T21:55:21.442Z"
   },
   {
    "duration": 244,
    "start_time": "2022-04-10T21:55:21.455Z"
   },
   {
    "duration": 254,
    "start_time": "2022-04-10T21:55:21.701Z"
   },
   {
    "duration": 282,
    "start_time": "2022-04-10T21:55:21.956Z"
   },
   {
    "duration": 270,
    "start_time": "2022-04-10T21:55:22.240Z"
   },
   {
    "duration": 249,
    "start_time": "2022-04-10T21:55:22.512Z"
   },
   {
    "duration": 162,
    "start_time": "2022-04-10T21:55:22.763Z"
   },
   {
    "duration": 171,
    "start_time": "2022-04-10T21:55:22.932Z"
   },
   {
    "duration": 6,
    "start_time": "2022-04-10T21:55:23.105Z"
   },
   {
    "duration": 6,
    "start_time": "2022-04-10T21:55:23.113Z"
   },
   {
    "duration": 9,
    "start_time": "2022-04-10T21:55:23.132Z"
   },
   {
    "duration": 175,
    "start_time": "2022-04-10T21:55:23.143Z"
   },
   {
    "duration": 165,
    "start_time": "2022-04-10T21:55:23.320Z"
   },
   {
    "duration": 171,
    "start_time": "2022-04-10T21:55:23.487Z"
   },
   {
    "duration": 7,
    "start_time": "2022-04-10T21:55:23.660Z"
   },
   {
    "duration": 9,
    "start_time": "2022-04-10T21:55:23.669Z"
   },
   {
    "duration": 6,
    "start_time": "2022-04-10T21:55:23.680Z"
   },
   {
    "duration": 5,
    "start_time": "2022-04-10T21:55:23.688Z"
   },
   {
    "duration": 5,
    "start_time": "2022-04-10T21:55:23.695Z"
   },
   {
    "duration": 35,
    "start_time": "2022-04-10T21:55:23.702Z"
   },
   {
    "duration": 7,
    "start_time": "2022-04-10T21:55:23.739Z"
   },
   {
    "duration": 6,
    "start_time": "2022-04-10T21:55:23.748Z"
   },
   {
    "duration": 6,
    "start_time": "2022-04-10T21:55:23.755Z"
   },
   {
    "duration": 1193,
    "start_time": "2022-04-10T22:20:40.912Z"
   },
   {
    "duration": 45,
    "start_time": "2022-04-10T22:20:42.107Z"
   },
   {
    "duration": 23,
    "start_time": "2022-04-10T22:20:42.155Z"
   },
   {
    "duration": 16,
    "start_time": "2022-04-10T22:20:42.180Z"
   },
   {
    "duration": 51,
    "start_time": "2022-04-10T22:20:42.199Z"
   },
   {
    "duration": 11,
    "start_time": "2022-04-10T22:20:42.251Z"
   },
   {
    "duration": 20,
    "start_time": "2022-04-10T22:20:42.263Z"
   },
   {
    "duration": 5,
    "start_time": "2022-04-10T22:20:42.286Z"
   },
   {
    "duration": 56,
    "start_time": "2022-04-10T22:20:42.293Z"
   },
   {
    "duration": 5,
    "start_time": "2022-04-10T22:20:42.351Z"
   },
   {
    "duration": 8,
    "start_time": "2022-04-10T22:20:42.358Z"
   },
   {
    "duration": 16,
    "start_time": "2022-04-10T22:20:42.368Z"
   },
   {
    "duration": 12,
    "start_time": "2022-04-10T22:20:42.385Z"
   },
   {
    "duration": 39,
    "start_time": "2022-04-10T22:20:42.400Z"
   },
   {
    "duration": 11,
    "start_time": "2022-04-10T22:20:42.441Z"
   },
   {
    "duration": 20,
    "start_time": "2022-04-10T22:20:42.453Z"
   },
   {
    "duration": 19,
    "start_time": "2022-04-10T22:20:42.474Z"
   },
   {
    "duration": 40,
    "start_time": "2022-04-10T22:20:42.494Z"
   },
   {
    "duration": 11,
    "start_time": "2022-04-10T22:20:42.536Z"
   },
   {
    "duration": 20,
    "start_time": "2022-04-10T22:20:42.549Z"
   },
   {
    "duration": 349,
    "start_time": "2022-04-10T22:20:42.570Z"
   },
   {
    "duration": 275,
    "start_time": "2022-04-10T22:20:42.921Z"
   },
   {
    "duration": 9,
    "start_time": "2022-04-10T22:20:43.198Z"
   },
   {
    "duration": 45,
    "start_time": "2022-04-10T22:20:43.209Z"
   },
   {
    "duration": 245,
    "start_time": "2022-04-10T22:20:43.256Z"
   },
   {
    "duration": 7,
    "start_time": "2022-04-10T22:20:43.503Z"
   },
   {
    "duration": 21,
    "start_time": "2022-04-10T22:20:43.512Z"
   },
   {
    "duration": 30,
    "start_time": "2022-04-10T22:20:43.534Z"
   },
   {
    "duration": 331,
    "start_time": "2022-04-10T22:20:43.565Z"
   },
   {
    "duration": 9,
    "start_time": "2022-04-10T22:20:43.898Z"
   },
   {
    "duration": 116,
    "start_time": "2022-04-10T22:20:43.908Z"
   },
   {
    "duration": 133,
    "start_time": "2022-04-10T22:20:44.025Z"
   },
   {
    "duration": 7,
    "start_time": "2022-04-10T22:20:44.160Z"
   },
   {
    "duration": 212,
    "start_time": "2022-04-10T22:20:44.169Z"
   },
   {
    "duration": 212,
    "start_time": "2022-04-10T22:20:44.383Z"
   },
   {
    "duration": 266,
    "start_time": "2022-04-10T22:20:44.596Z"
   },
   {
    "duration": 191,
    "start_time": "2022-04-10T22:20:44.864Z"
   },
   {
    "duration": 14,
    "start_time": "2022-04-10T22:20:45.057Z"
   },
   {
    "duration": 193,
    "start_time": "2022-04-10T22:20:45.073Z"
   },
   {
    "duration": 172,
    "start_time": "2022-04-10T22:20:45.268Z"
   },
   {
    "duration": 13,
    "start_time": "2022-04-10T22:20:45.444Z"
   },
   {
    "duration": 190,
    "start_time": "2022-04-10T22:20:45.459Z"
   },
   {
    "duration": 195,
    "start_time": "2022-04-10T22:20:45.651Z"
   },
   {
    "duration": 13,
    "start_time": "2022-04-10T22:20:45.848Z"
   },
   {
    "duration": 261,
    "start_time": "2022-04-10T22:20:45.862Z"
   },
   {
    "duration": 254,
    "start_time": "2022-04-10T22:20:46.124Z"
   },
   {
    "duration": 288,
    "start_time": "2022-04-10T22:20:46.379Z"
   },
   {
    "duration": 282,
    "start_time": "2022-04-10T22:20:46.669Z"
   },
   {
    "duration": 264,
    "start_time": "2022-04-10T22:20:46.953Z"
   },
   {
    "duration": 171,
    "start_time": "2022-04-10T22:20:47.219Z"
   },
   {
    "duration": 167,
    "start_time": "2022-04-10T22:20:47.391Z"
   },
   {
    "duration": 6,
    "start_time": "2022-04-10T22:20:47.560Z"
   },
   {
    "duration": 7,
    "start_time": "2022-04-10T22:20:47.567Z"
   },
   {
    "duration": 11,
    "start_time": "2022-04-10T22:20:47.576Z"
   },
   {
    "duration": 179,
    "start_time": "2022-04-10T22:20:47.589Z"
   },
   {
    "duration": 178,
    "start_time": "2022-04-10T22:20:47.769Z"
   },
   {
    "duration": 176,
    "start_time": "2022-04-10T22:20:47.949Z"
   },
   {
    "duration": 10,
    "start_time": "2022-04-10T22:20:48.127Z"
   },
   {
    "duration": 11,
    "start_time": "2022-04-10T22:20:48.138Z"
   },
   {
    "duration": 9,
    "start_time": "2022-04-10T22:20:48.152Z"
   },
   {
    "duration": 10,
    "start_time": "2022-04-10T22:20:48.163Z"
   },
   {
    "duration": 5,
    "start_time": "2022-04-10T22:20:48.176Z"
   },
   {
    "duration": 15,
    "start_time": "2022-04-10T22:20:48.183Z"
   },
   {
    "duration": 34,
    "start_time": "2022-04-10T22:20:48.200Z"
   },
   {
    "duration": 4,
    "start_time": "2022-04-10T22:20:48.236Z"
   },
   {
    "duration": 6,
    "start_time": "2022-04-10T22:20:48.243Z"
   },
   {
    "duration": 108,
    "start_time": "2022-04-11T08:27:44.188Z"
   },
   {
    "duration": 100,
    "start_time": "2022-04-11T08:29:05.786Z"
   },
   {
    "duration": 1257,
    "start_time": "2023-02-07T10:27:37.700Z"
   },
   {
    "duration": 97,
    "start_time": "2023-02-07T10:27:38.959Z"
   },
   {
    "duration": 24,
    "start_time": "2023-02-07T10:27:39.057Z"
   },
   {
    "duration": 14,
    "start_time": "2023-02-07T10:27:39.083Z"
   },
   {
    "duration": 26,
    "start_time": "2023-02-07T10:27:39.099Z"
   },
   {
    "duration": 8,
    "start_time": "2023-02-07T10:27:39.127Z"
   },
   {
    "duration": 16,
    "start_time": "2023-02-07T10:27:39.136Z"
   },
   {
    "duration": 4,
    "start_time": "2023-02-07T10:27:39.154Z"
   },
   {
    "duration": 50,
    "start_time": "2023-02-07T10:27:39.160Z"
   },
   {
    "duration": 4,
    "start_time": "2023-02-07T10:27:39.213Z"
   },
   {
    "duration": 7,
    "start_time": "2023-02-07T10:27:39.219Z"
   },
   {
    "duration": 10,
    "start_time": "2023-02-07T10:27:39.227Z"
   },
   {
    "duration": 6,
    "start_time": "2023-02-07T10:27:39.239Z"
   },
   {
    "duration": 13,
    "start_time": "2023-02-07T10:27:39.246Z"
   },
   {
    "duration": 33,
    "start_time": "2023-02-07T10:27:39.261Z"
   },
   {
    "duration": 16,
    "start_time": "2023-02-07T10:27:39.296Z"
   },
   {
    "duration": 15,
    "start_time": "2023-02-07T10:27:39.313Z"
   },
   {
    "duration": 7,
    "start_time": "2023-02-07T10:27:39.330Z"
   },
   {
    "duration": 9,
    "start_time": "2023-02-07T10:27:39.339Z"
   },
   {
    "duration": 53,
    "start_time": "2023-02-07T10:27:39.350Z"
   },
   {
    "duration": 300,
    "start_time": "2023-02-07T10:27:39.405Z"
   },
   {
    "duration": 251,
    "start_time": "2023-02-07T10:27:39.706Z"
   },
   {
    "duration": 7,
    "start_time": "2023-02-07T10:27:39.959Z"
   },
   {
    "duration": 40,
    "start_time": "2023-02-07T10:27:39.968Z"
   },
   {
    "duration": 217,
    "start_time": "2023-02-07T10:27:40.009Z"
   },
   {
    "duration": 6,
    "start_time": "2023-02-07T10:27:40.228Z"
   },
   {
    "duration": 10,
    "start_time": "2023-02-07T10:27:40.236Z"
   },
   {
    "duration": 23,
    "start_time": "2023-02-07T10:27:40.250Z"
   },
   {
    "duration": 299,
    "start_time": "2023-02-07T10:27:40.274Z"
   },
   {
    "duration": 9,
    "start_time": "2023-02-07T10:27:40.575Z"
   },
   {
    "duration": 97,
    "start_time": "2023-02-07T10:27:40.586Z"
   },
   {
    "duration": 112,
    "start_time": "2023-02-07T10:27:40.685Z"
   },
   {
    "duration": 6,
    "start_time": "2023-02-07T10:27:40.799Z"
   },
   {
    "duration": 191,
    "start_time": "2023-02-07T10:27:40.807Z"
   },
   {
    "duration": 262,
    "start_time": "2023-02-07T10:27:41.000Z"
   },
   {
    "duration": 168,
    "start_time": "2023-02-07T10:27:41.264Z"
   },
   {
    "duration": 163,
    "start_time": "2023-02-07T10:27:41.434Z"
   },
   {
    "duration": 14,
    "start_time": "2023-02-07T10:27:41.599Z"
   },
   {
    "duration": 164,
    "start_time": "2023-02-07T10:27:41.614Z"
   },
   {
    "duration": 160,
    "start_time": "2023-02-07T10:27:41.780Z"
   },
   {
    "duration": 11,
    "start_time": "2023-02-07T10:27:41.941Z"
   },
   {
    "duration": 174,
    "start_time": "2023-02-07T10:27:41.953Z"
   },
   {
    "duration": 158,
    "start_time": "2023-02-07T10:27:42.128Z"
   },
   {
    "duration": 13,
    "start_time": "2023-02-07T10:27:42.287Z"
   },
   {
    "duration": 220,
    "start_time": "2023-02-07T10:27:42.302Z"
   },
   {
    "duration": 201,
    "start_time": "2023-02-07T10:27:42.524Z"
   },
   {
    "duration": 259,
    "start_time": "2023-02-07T10:27:42.726Z"
   },
   {
    "duration": 253,
    "start_time": "2023-02-07T10:27:42.987Z"
   },
   {
    "duration": 257,
    "start_time": "2023-02-07T10:27:43.242Z"
   },
   {
    "duration": 150,
    "start_time": "2023-02-07T10:27:43.501Z"
   },
   {
    "duration": 142,
    "start_time": "2023-02-07T10:27:43.653Z"
   },
   {
    "duration": 5,
    "start_time": "2023-02-07T10:27:43.797Z"
   },
   {
    "duration": 8,
    "start_time": "2023-02-07T10:27:43.804Z"
   },
   {
    "duration": 10,
    "start_time": "2023-02-07T10:27:43.813Z"
   },
   {
    "duration": 159,
    "start_time": "2023-02-07T10:27:43.824Z"
   },
   {
    "duration": 156,
    "start_time": "2023-02-07T10:27:43.985Z"
   },
   {
    "duration": 191,
    "start_time": "2023-02-07T10:27:44.143Z"
   },
   {
    "duration": 8,
    "start_time": "2023-02-07T10:27:44.336Z"
   },
   {
    "duration": 12,
    "start_time": "2023-02-07T10:27:44.345Z"
   },
   {
    "duration": 4,
    "start_time": "2023-02-07T10:27:44.358Z"
   },
   {
    "duration": 5,
    "start_time": "2023-02-07T10:27:44.364Z"
   },
   {
    "duration": 5,
    "start_time": "2023-02-07T10:27:44.370Z"
   },
   {
    "duration": 7,
    "start_time": "2023-02-07T10:27:44.393Z"
   },
   {
    "duration": 8,
    "start_time": "2023-02-07T10:27:44.402Z"
   },
   {
    "duration": 16,
    "start_time": "2023-02-07T10:27:44.411Z"
   },
   {
    "duration": 8,
    "start_time": "2023-02-07T10:27:44.429Z"
   },
   {
    "duration": 1032,
    "start_time": "2023-02-07T10:31:02.127Z"
   },
   {
    "duration": 49,
    "start_time": "2023-02-07T10:31:03.160Z"
   },
   {
    "duration": 22,
    "start_time": "2023-02-07T10:31:03.211Z"
   },
   {
    "duration": 14,
    "start_time": "2023-02-07T10:31:03.235Z"
   },
   {
    "duration": 45,
    "start_time": "2023-02-07T10:31:03.251Z"
   },
   {
    "duration": 10,
    "start_time": "2023-02-07T10:31:03.298Z"
   },
   {
    "duration": 16,
    "start_time": "2023-02-07T10:31:03.310Z"
   },
   {
    "duration": 4,
    "start_time": "2023-02-07T10:31:03.328Z"
   },
   {
    "duration": 26,
    "start_time": "2023-02-07T10:31:03.333Z"
   },
   {
    "duration": 5,
    "start_time": "2023-02-07T10:31:03.361Z"
   },
   {
    "duration": 5,
    "start_time": "2023-02-07T10:31:03.394Z"
   },
   {
    "duration": 9,
    "start_time": "2023-02-07T10:31:03.401Z"
   },
   {
    "duration": 6,
    "start_time": "2023-02-07T10:31:03.796Z"
   },
   {
    "duration": 16,
    "start_time": "2023-02-07T10:31:03.804Z"
   },
   {
    "duration": 10,
    "start_time": "2023-02-07T10:31:03.822Z"
   },
   {
    "duration": 17,
    "start_time": "2023-02-07T10:31:03.833Z"
   },
   {
    "duration": 15,
    "start_time": "2023-02-07T10:31:03.852Z"
   },
   {
    "duration": 9,
    "start_time": "2023-02-07T10:31:03.894Z"
   },
   {
    "duration": 12,
    "start_time": "2023-02-07T10:31:03.904Z"
   },
   {
    "duration": 20,
    "start_time": "2023-02-07T10:31:03.917Z"
   },
   {
    "duration": 372,
    "start_time": "2023-02-07T10:31:03.939Z"
   },
   {
    "duration": 257,
    "start_time": "2023-02-07T10:31:04.313Z"
   },
   {
    "duration": 21,
    "start_time": "2023-02-07T10:31:04.573Z"
   },
   {
    "duration": 30,
    "start_time": "2023-02-07T10:31:04.595Z"
   },
   {
    "duration": 231,
    "start_time": "2023-02-07T10:31:04.626Z"
   },
   {
    "duration": 6,
    "start_time": "2023-02-07T10:31:04.858Z"
   },
   {
    "duration": 10,
    "start_time": "2023-02-07T10:31:04.866Z"
   },
   {
    "duration": 32,
    "start_time": "2023-02-07T10:31:04.878Z"
   },
   {
    "duration": 421,
    "start_time": "2023-02-07T10:31:04.912Z"
   },
   {
    "duration": 9,
    "start_time": "2023-02-07T10:31:05.335Z"
   },
   {
    "duration": 104,
    "start_time": "2023-02-07T10:31:05.346Z"
   },
   {
    "duration": 115,
    "start_time": "2023-02-07T10:31:05.451Z"
   },
   {
    "duration": 6,
    "start_time": "2023-02-07T10:31:05.567Z"
   },
   {
    "duration": 197,
    "start_time": "2023-02-07T10:31:05.575Z"
   },
   {
    "duration": 256,
    "start_time": "2023-02-07T10:31:05.774Z"
   },
   {
    "duration": 166,
    "start_time": "2023-02-07T10:31:06.032Z"
   },
   {
    "duration": 143,
    "start_time": "2023-02-07T10:31:06.707Z"
   },
   {
    "duration": 12,
    "start_time": "2023-02-07T10:31:06.852Z"
   },
   {
    "duration": 152,
    "start_time": "2023-02-07T10:31:07.071Z"
   },
   {
    "duration": 156,
    "start_time": "2023-02-07T10:31:07.225Z"
   },
   {
    "duration": 20,
    "start_time": "2023-02-07T10:31:07.383Z"
   },
   {
    "duration": 163,
    "start_time": "2023-02-07T10:31:07.404Z"
   },
   {
    "duration": 166,
    "start_time": "2023-02-07T10:31:07.569Z"
   },
   {
    "duration": 12,
    "start_time": "2023-02-07T10:31:07.736Z"
   },
   {
    "duration": 218,
    "start_time": "2023-02-07T10:31:07.750Z"
   },
   {
    "duration": 215,
    "start_time": "2023-02-07T10:31:07.970Z"
   },
   {
    "duration": 265,
    "start_time": "2023-02-07T10:31:08.186Z"
   },
   {
    "duration": 267,
    "start_time": "2023-02-07T10:31:08.452Z"
   },
   {
    "duration": 234,
    "start_time": "2023-02-07T10:31:08.721Z"
   },
   {
    "duration": 145,
    "start_time": "2023-02-07T10:31:08.956Z"
   },
   {
    "duration": 153,
    "start_time": "2023-02-07T10:31:09.103Z"
   },
   {
    "duration": 5,
    "start_time": "2023-02-07T10:31:09.259Z"
   },
   {
    "duration": 4,
    "start_time": "2023-02-07T10:31:09.266Z"
   },
   {
    "duration": 25,
    "start_time": "2023-02-07T10:31:09.272Z"
   },
   {
    "duration": 154,
    "start_time": "2023-02-07T10:31:09.299Z"
   },
   {
    "duration": 154,
    "start_time": "2023-02-07T10:31:09.455Z"
   },
   {
    "duration": 154,
    "start_time": "2023-02-07T10:31:09.610Z"
   },
   {
    "duration": 8,
    "start_time": "2023-02-07T10:31:09.765Z"
   },
   {
    "duration": 21,
    "start_time": "2023-02-07T10:31:09.775Z"
   },
   {
    "duration": 6,
    "start_time": "2023-02-07T10:31:09.798Z"
   },
   {
    "duration": 5,
    "start_time": "2023-02-07T10:31:09.806Z"
   },
   {
    "duration": 6,
    "start_time": "2023-02-07T10:31:09.813Z"
   },
   {
    "duration": 8,
    "start_time": "2023-02-07T10:31:09.821Z"
   },
   {
    "duration": 7,
    "start_time": "2023-02-07T10:31:09.830Z"
   },
   {
    "duration": 5,
    "start_time": "2023-02-07T10:31:09.838Z"
   },
   {
    "duration": 7,
    "start_time": "2023-02-07T10:31:09.844Z"
   }
  ],
  "kernelspec": {
   "display_name": "Python 3 (ipykernel)",
   "language": "python",
   "name": "python3"
  },
  "language_info": {
   "codemirror_mode": {
    "name": "ipython",
    "version": 3
   },
   "file_extension": ".py",
   "mimetype": "text/x-python",
   "name": "python",
   "nbconvert_exporter": "python",
   "pygments_lexer": "ipython3",
   "version": "3.9.5"
  },
  "toc": {
   "base_numbering": 1,
   "nav_menu": {},
   "number_sections": true,
   "sideBar": true,
   "skip_h1_title": true,
   "title_cell": "Содержание",
   "title_sidebar": "Contents",
   "toc_cell": true,
   "toc_position": {
    "height": "calc(100% - 180px)",
    "left": "10px",
    "top": "150px",
    "width": "414.797px"
   },
   "toc_section_display": true,
   "toc_window_display": true
  }
 },
 "nbformat": 4,
 "nbformat_minor": 5
}
