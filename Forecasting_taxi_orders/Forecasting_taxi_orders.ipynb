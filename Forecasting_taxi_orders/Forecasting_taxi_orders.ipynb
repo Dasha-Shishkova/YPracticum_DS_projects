{
 "cells": [
  {
   "cell_type": "markdown",
   "metadata": {},
   "source": [
    "## Подготовка"
   ]
  },
  {
   "cell_type": "code",
   "execution_count": 1,
   "metadata": {},
   "outputs": [],
   "source": [
    "import pandas as pd\n",
    "import numpy as np\n",
    "from statsmodels.tsa.seasonal import seasonal_decompose\n",
    "import matplotlib.pyplot as plt\n",
    "from statsmodels.tsa.stattools import adfuller\n",
    "from sklearn.model_selection import train_test_split\n",
    "from sklearn.model_selection import TimeSeriesSplit\n",
    "from sklearn.linear_model import LinearRegression\n",
    "from sklearn.tree import DecisionTreeRegressor\n",
    "from sklearn.ensemble import RandomForestRegressor\n",
    "from sklearn.model_selection import GridSearchCV\n",
    "from sklearn.metrics import mean_squared_error\n",
    "from catboost import CatBoostRegressor"
   ]
  },
  {
   "cell_type": "code",
   "execution_count": 2,
   "metadata": {},
   "outputs": [
    {
     "data": {
      "text/html": [
       "<div>\n",
       "<style scoped>\n",
       "    .dataframe tbody tr th:only-of-type {\n",
       "        vertical-align: middle;\n",
       "    }\n",
       "\n",
       "    .dataframe tbody tr th {\n",
       "        vertical-align: top;\n",
       "    }\n",
       "\n",
       "    .dataframe thead th {\n",
       "        text-align: right;\n",
       "    }\n",
       "</style>\n",
       "<table border=\"1\" class=\"dataframe\">\n",
       "  <thead>\n",
       "    <tr style=\"text-align: right;\">\n",
       "      <th></th>\n",
       "      <th>num_orders</th>\n",
       "    </tr>\n",
       "    <tr>\n",
       "      <th>datetime</th>\n",
       "      <th></th>\n",
       "    </tr>\n",
       "  </thead>\n",
       "  <tbody>\n",
       "    <tr>\n",
       "      <th>2018-03-01 00:00:00</th>\n",
       "      <td>9</td>\n",
       "    </tr>\n",
       "    <tr>\n",
       "      <th>2018-03-01 00:10:00</th>\n",
       "      <td>14</td>\n",
       "    </tr>\n",
       "    <tr>\n",
       "      <th>2018-03-01 00:20:00</th>\n",
       "      <td>28</td>\n",
       "    </tr>\n",
       "    <tr>\n",
       "      <th>2018-03-01 00:30:00</th>\n",
       "      <td>20</td>\n",
       "    </tr>\n",
       "    <tr>\n",
       "      <th>2018-03-01 00:40:00</th>\n",
       "      <td>32</td>\n",
       "    </tr>\n",
       "  </tbody>\n",
       "</table>\n",
       "</div>"
      ],
      "text/plain": [
       "                     num_orders\n",
       "datetime                       \n",
       "2018-03-01 00:00:00           9\n",
       "2018-03-01 00:10:00          14\n",
       "2018-03-01 00:20:00          28\n",
       "2018-03-01 00:30:00          20\n",
       "2018-03-01 00:40:00          32"
      ]
     },
     "execution_count": 2,
     "metadata": {},
     "output_type": "execute_result"
    }
   ],
   "source": [
    "# прочитаем файл таким образом, чтобы столбец с датой был индексом и имел тип datetime\n",
    "data = pd.read_csv('/datasets/taxi.csv', index_col=[0], parse_dates=[0])\n",
    "data.head()"
   ]
  },
  {
   "cell_type": "code",
   "execution_count": 3,
   "metadata": {},
   "outputs": [
    {
     "name": "stdout",
     "output_type": "stream",
     "text": [
      "<class 'pandas.core.frame.DataFrame'>\n",
      "DatetimeIndex: 26496 entries, 2018-03-01 00:00:00 to 2018-08-31 23:50:00\n",
      "Data columns (total 1 columns):\n",
      " #   Column      Non-Null Count  Dtype\n",
      "---  ------      --------------  -----\n",
      " 0   num_orders  26496 non-null  int64\n",
      "dtypes: int64(1)\n",
      "memory usage: 414.0 KB\n"
     ]
    }
   ],
   "source": [
    "data.info()"
   ]
  },
  {
   "cell_type": "code",
   "execution_count": 4,
   "metadata": {},
   "outputs": [],
   "source": [
    "# отсоортируем индексы таблицы\n",
    "data = data.sort_index()"
   ]
  },
  {
   "cell_type": "code",
   "execution_count": 5,
   "metadata": {},
   "outputs": [
    {
     "data": {
      "text/plain": [
       "True"
      ]
     },
     "execution_count": 5,
     "metadata": {},
     "output_type": "execute_result"
    }
   ],
   "source": [
    "# проверим, в хронологическом ли порядке расположены даты и время\n",
    "data.index.is_monotonic"
   ]
  },
  {
   "cell_type": "code",
   "execution_count": 6,
   "metadata": {},
   "outputs": [
    {
     "data": {
      "text/plain": [
       "(Timestamp('2018-03-01 00:00:00'), Timestamp('2018-08-31 23:50:00'))"
      ]
     },
     "execution_count": 6,
     "metadata": {},
     "output_type": "execute_result"
    }
   ],
   "source": [
    "data.index.min(), data.index.max()"
   ]
  },
  {
   "cell_type": "markdown",
   "metadata": {},
   "source": [
    "У нас имеются данные с начала марта 2018 года по конец августа 2018 года. Даты и время расположены в хронологическом порядке, с интервалом в 10 мин. Необходимо изменить интервал на 1 час."
   ]
  },
  {
   "cell_type": "code",
   "execution_count": 7,
   "metadata": {},
   "outputs": [
    {
     "data": {
      "text/html": [
       "<div>\n",
       "<style scoped>\n",
       "    .dataframe tbody tr th:only-of-type {\n",
       "        vertical-align: middle;\n",
       "    }\n",
       "\n",
       "    .dataframe tbody tr th {\n",
       "        vertical-align: top;\n",
       "    }\n",
       "\n",
       "    .dataframe thead th {\n",
       "        text-align: right;\n",
       "    }\n",
       "</style>\n",
       "<table border=\"1\" class=\"dataframe\">\n",
       "  <thead>\n",
       "    <tr style=\"text-align: right;\">\n",
       "      <th></th>\n",
       "      <th>num_orders</th>\n",
       "    </tr>\n",
       "    <tr>\n",
       "      <th>datetime</th>\n",
       "      <th></th>\n",
       "    </tr>\n",
       "  </thead>\n",
       "  <tbody>\n",
       "    <tr>\n",
       "      <th>2018-03-01 00:00:00</th>\n",
       "      <td>124</td>\n",
       "    </tr>\n",
       "    <tr>\n",
       "      <th>2018-03-01 01:00:00</th>\n",
       "      <td>85</td>\n",
       "    </tr>\n",
       "    <tr>\n",
       "      <th>2018-03-01 02:00:00</th>\n",
       "      <td>71</td>\n",
       "    </tr>\n",
       "    <tr>\n",
       "      <th>2018-03-01 03:00:00</th>\n",
       "      <td>66</td>\n",
       "    </tr>\n",
       "    <tr>\n",
       "      <th>2018-03-01 04:00:00</th>\n",
       "      <td>43</td>\n",
       "    </tr>\n",
       "  </tbody>\n",
       "</table>\n",
       "</div>"
      ],
      "text/plain": [
       "                     num_orders\n",
       "datetime                       \n",
       "2018-03-01 00:00:00         124\n",
       "2018-03-01 01:00:00          85\n",
       "2018-03-01 02:00:00          71\n",
       "2018-03-01 03:00:00          66\n",
       "2018-03-01 04:00:00          43"
      ]
     },
     "execution_count": 7,
     "metadata": {},
     "output_type": "execute_result"
    }
   ],
   "source": [
    "data = data.resample('1H').sum()\n",
    "data.head()"
   ]
  },
  {
   "cell_type": "code",
   "execution_count": 8,
   "metadata": {},
   "outputs": [
    {
     "data": {
      "text/html": [
       "<div>\n",
       "<style scoped>\n",
       "    .dataframe tbody tr th:only-of-type {\n",
       "        vertical-align: middle;\n",
       "    }\n",
       "\n",
       "    .dataframe tbody tr th {\n",
       "        vertical-align: top;\n",
       "    }\n",
       "\n",
       "    .dataframe thead th {\n",
       "        text-align: right;\n",
       "    }\n",
       "</style>\n",
       "<table border=\"1\" class=\"dataframe\">\n",
       "  <thead>\n",
       "    <tr style=\"text-align: right;\">\n",
       "      <th></th>\n",
       "      <th>num_orders</th>\n",
       "    </tr>\n",
       "  </thead>\n",
       "  <tbody>\n",
       "    <tr>\n",
       "      <th>count</th>\n",
       "      <td>4416.000000</td>\n",
       "    </tr>\n",
       "    <tr>\n",
       "      <th>mean</th>\n",
       "      <td>84.422781</td>\n",
       "    </tr>\n",
       "    <tr>\n",
       "      <th>std</th>\n",
       "      <td>45.023853</td>\n",
       "    </tr>\n",
       "    <tr>\n",
       "      <th>min</th>\n",
       "      <td>0.000000</td>\n",
       "    </tr>\n",
       "    <tr>\n",
       "      <th>25%</th>\n",
       "      <td>54.000000</td>\n",
       "    </tr>\n",
       "    <tr>\n",
       "      <th>50%</th>\n",
       "      <td>78.000000</td>\n",
       "    </tr>\n",
       "    <tr>\n",
       "      <th>75%</th>\n",
       "      <td>107.000000</td>\n",
       "    </tr>\n",
       "    <tr>\n",
       "      <th>max</th>\n",
       "      <td>462.000000</td>\n",
       "    </tr>\n",
       "  </tbody>\n",
       "</table>\n",
       "</div>"
      ],
      "text/plain": [
       "        num_orders\n",
       "count  4416.000000\n",
       "mean     84.422781\n",
       "std      45.023853\n",
       "min       0.000000\n",
       "25%      54.000000\n",
       "50%      78.000000\n",
       "75%     107.000000\n",
       "max     462.000000"
      ]
     },
     "execution_count": 8,
     "metadata": {},
     "output_type": "execute_result"
    }
   ],
   "source": [
    "data.describe()"
   ]
  },
  {
   "cell_type": "markdown",
   "metadata": {},
   "source": [
    "### Вывод"
   ]
  },
  {
   "cell_type": "markdown",
   "metadata": {},
   "source": [
    "Данные были загружены и приведены к надлежащему типу, была проведена проверка на хронологию и был изменен интервал на 1 час."
   ]
  },
  {
   "cell_type": "markdown",
   "metadata": {},
   "source": [
    "## Анализ"
   ]
  },
  {
   "cell_type": "code",
   "execution_count": 9,
   "metadata": {},
   "outputs": [
    {
     "data": {
      "text/plain": [
       "<AxesSubplot:xlabel='datetime'>"
      ]
     },
     "execution_count": 9,
     "metadata": {},
     "output_type": "execute_result"
    },
    {
     "data": {
      "image/png": "[encoded data removed]",
      "text/plain": [
       "<Figure size 432x288 with 1 Axes>"
      ]
     },
     "metadata": {
      "needs_background": "light"
     },
     "output_type": "display_data"
    }
   ],
   "source": [
    "data.plot()"
   ]
  },
  {
   "cell_type": "markdown",
   "metadata": {},
   "source": [
    "### Скользящее среднее"
   ]
  },
  {
   "cell_type": "code",
   "execution_count": 10,
   "metadata": {},
   "outputs": [
    {
     "data": {
      "text/plain": [
       "Text(0.5, 1.0, 'График скользящего среднего с размером окна 10')"
      ]
     },
     "execution_count": 10,
     "metadata": {},
     "output_type": "execute_result"
    },
    {
     "data": {
      "image/png": "[encoded data removed]",
      "text/plain": [
       "<Figure size 432x288 with 1 Axes>"
      ]
     },
     "metadata": {
      "needs_background": "light"
     },
     "output_type": "display_data"
    }
   ],
   "source": [
    "# снизим колебания временного ряда с помощью скользящего среднего\n",
    "data.rolling(10).mean().plot()\n",
    "plt.title('График скользящего среднего с размером окна 10')"
   ]
  },
  {
   "cell_type": "code",
   "execution_count": 11,
   "metadata": {},
   "outputs": [
    {
     "data": {
      "text/plain": [
       "Text(0.5, 1.0, 'График скользящего среднего с размером окна 100')"
      ]
     },
     "execution_count": 11,
     "metadata": {},
     "output_type": "execute_result"
    },
    {
     "data": {
      "image/png": "[encoded data removed]",
      "text/plain": [
       "<Figure size 432x288 with 1 Axes>"
      ]
     },
     "metadata": {
      "needs_background": "light"
     },
     "output_type": "display_data"
    }
   ],
   "source": [
    "data.rolling(100).mean().plot()\n",
    "plt.title('График скользящего среднего с размером окна 100')"
   ]
  },
  {
   "cell_type": "markdown",
   "metadata": {},
   "source": [
    "### Тренды и сезонность"
   ]
  },
  {
   "cell_type": "code",
   "execution_count": 12,
   "metadata": {},
   "outputs": [],
   "source": [
    "# посмотрим на тренды и сезонность\n",
    "decomposed = seasonal_decompose(data)"
   ]
  },
  {
   "cell_type": "code",
   "execution_count": 13,
   "metadata": {},
   "outputs": [
    {
     "data": {
      "image/png": "[encoded data removed]",
      "text/plain": [
       "<Figure size 432x576 with 3 Axes>"
      ]
     },
     "metadata": {
      "needs_background": "light"
     },
     "output_type": "display_data"
    }
   ],
   "source": [
    "plt.figure(figsize=(6, 8))\n",
    "plt.subplot(311)\n",
    "decomposed.trend.plot(ax=plt.gca())\n",
    "plt.title('Тренд')\n",
    "plt.subplot(312)\n",
    "decomposed.seasonal.plot(ax=plt.gca())\n",
    "plt.title('Сезонность')\n",
    "plt.subplot(313)\n",
    "decomposed.resid.plot(ax=plt.gca())\n",
    "plt.title('Остаток')\n",
    "plt.tight_layout()"
   ]
  },
  {
   "cell_type": "markdown",
   "metadata": {},
   "source": [
    "Наблюдается тенденция увеличения числа заказов с каждым месяцем. Сезонность необходимо рассмотреть более подробно."
   ]
  },
  {
   "cell_type": "code",
   "execution_count": 14,
   "metadata": {},
   "outputs": [
    {
     "data": {
      "text/plain": [
       "Text(0.5, 1.0, 'График сезонности за месяц')"
      ]
     },
     "execution_count": 14,
     "metadata": {},
     "output_type": "execute_result"
    },
    {
     "data": {
      "image/png": "[encoded data removed]",
      "text/plain": [
       "<Figure size 432x288 with 1 Axes>"
      ]
     },
     "metadata": {
      "needs_background": "light"
     },
     "output_type": "display_data"
    }
   ],
   "source": [
    "decomposed.seasonal['2018-03-01':'2018-03-31'].plot()\n",
    "plt.title('График сезонности за месяц')"
   ]
  },
  {
   "cell_type": "code",
   "execution_count": 15,
   "metadata": {},
   "outputs": [
    {
     "data": {
      "text/plain": [
       "Text(0.5, 1.0, 'График сезонности за две недели')"
      ]
     },
     "execution_count": 15,
     "metadata": {},
     "output_type": "execute_result"
    },
    {
     "data": {
      "image/png": "[encoded data removed]",
      "text/plain": [
       "<Figure size 432x288 with 1 Axes>"
      ]
     },
     "metadata": {
      "needs_background": "light"
     },
     "output_type": "display_data"
    }
   ],
   "source": [
    "decomposed.seasonal['2018-03-01':'2018-03-14'].plot()\n",
    "plt.title('График сезонности за две недели')"
   ]
  },
  {
   "cell_type": "code",
   "execution_count": 16,
   "metadata": {},
   "outputs": [
    {
     "data": {
      "text/plain": [
       "Text(0.5, 1.0, 'График сезонности за сутки 1.03')"
      ]
     },
     "execution_count": 16,
     "metadata": {},
     "output_type": "execute_result"
    },
    {
     "data": {
      "image/png": "[encoded data removed]",
      "text/plain": [
       "<Figure size 432x288 with 1 Axes>"
      ]
     },
     "metadata": {
      "needs_background": "light"
     },
     "output_type": "display_data"
    }
   ],
   "source": [
    "decomposed.seasonal['2018-03-01':'2018-03-01'].plot()\n",
    "plt.title('График сезонности за сутки 1.03')"
   ]
  },
  {
   "cell_type": "code",
   "execution_count": 17,
   "metadata": {},
   "outputs": [
    {
     "data": {
      "text/plain": [
       "Text(0.5, 1.0, 'График сезонности за сутки 14.08')"
      ]
     },
     "execution_count": 17,
     "metadata": {},
     "output_type": "execute_result"
    },
    {
     "data": {
      "image/png": "[encoded data removed]",
      "text/plain": [
       "<Figure size 432x288 with 1 Axes>"
      ]
     },
     "metadata": {
      "needs_background": "light"
     },
     "output_type": "display_data"
    }
   ],
   "source": [
    "decomposed.seasonal['2018-08-14':'2018-08-14'].plot()\n",
    "plt.title('График сезонности за сутки 14.08')"
   ]
  },
  {
   "cell_type": "markdown",
   "metadata": {},
   "source": [
    "Сезонность наблюдается в течение суток. Увеличение числа заказов происходит после 6 часов утра и после 18 часов вечера, а также в обеденное время с 12 часов дня. Пики приходятся на 00 часов, 2 часа ночи, 10 часов утра, 16 часов дня, далее следуют спады."
   ]
  },
  {
   "cell_type": "markdown",
   "metadata": {},
   "source": [
    "### Исследование стационарности ряда"
   ]
  },
  {
   "cell_type": "code",
   "execution_count": 18,
   "metadata": {},
   "outputs": [
    {
     "data": {
      "text/plain": [
       "<AxesSubplot:xlabel='datetime'>"
      ]
     },
     "execution_count": 18,
     "metadata": {},
     "output_type": "execute_result"
    },
    {
     "data": {
      "image/png": "[encoded data removed]",
      "text/plain": [
       "<Figure size 864x432 with 1 Axes>"
      ]
     },
     "metadata": {
      "needs_background": "light"
     },
     "output_type": "display_data"
    }
   ],
   "source": [
    "data['rolling_mean'] = data['num_orders'].rolling(15).mean()\n",
    "data['rolling_std'] = data['num_orders'].rolling(15).std()\n",
    "data.plot(figsize=(12, 6))"
   ]
  },
  {
   "cell_type": "code",
   "execution_count": 19,
   "metadata": {},
   "outputs": [
    {
     "data": {
      "text/html": [
       "<div>\n",
       "<style scoped>\n",
       "    .dataframe tbody tr th:only-of-type {\n",
       "        vertical-align: middle;\n",
       "    }\n",
       "\n",
       "    .dataframe tbody tr th {\n",
       "        vertical-align: top;\n",
       "    }\n",
       "\n",
       "    .dataframe thead th {\n",
       "        text-align: right;\n",
       "    }\n",
       "</style>\n",
       "<table border=\"1\" class=\"dataframe\">\n",
       "  <thead>\n",
       "    <tr style=\"text-align: right;\">\n",
       "      <th></th>\n",
       "      <th>num_orders</th>\n",
       "    </tr>\n",
       "    <tr>\n",
       "      <th>datetime</th>\n",
       "      <th></th>\n",
       "    </tr>\n",
       "  </thead>\n",
       "  <tbody>\n",
       "    <tr>\n",
       "      <th>2018-03-01 00:00:00</th>\n",
       "      <td>124</td>\n",
       "    </tr>\n",
       "    <tr>\n",
       "      <th>2018-03-01 01:00:00</th>\n",
       "      <td>85</td>\n",
       "    </tr>\n",
       "    <tr>\n",
       "      <th>2018-03-01 02:00:00</th>\n",
       "      <td>71</td>\n",
       "    </tr>\n",
       "    <tr>\n",
       "      <th>2018-03-01 03:00:00</th>\n",
       "      <td>66</td>\n",
       "    </tr>\n",
       "    <tr>\n",
       "      <th>2018-03-01 04:00:00</th>\n",
       "      <td>43</td>\n",
       "    </tr>\n",
       "  </tbody>\n",
       "</table>\n",
       "</div>"
      ],
      "text/plain": [
       "                     num_orders\n",
       "datetime                       \n",
       "2018-03-01 00:00:00         124\n",
       "2018-03-01 01:00:00          85\n",
       "2018-03-01 02:00:00          71\n",
       "2018-03-01 03:00:00          66\n",
       "2018-03-01 04:00:00          43"
      ]
     },
     "execution_count": 19,
     "metadata": {},
     "output_type": "execute_result"
    }
   ],
   "source": [
    "data = data.drop(['rolling_std', 'rolling_mean'], axis=1)\n",
    "data.head()"
   ]
  },
  {
   "cell_type": "code",
   "execution_count": 20,
   "metadata": {},
   "outputs": [
    {
     "name": "stdout",
     "output_type": "stream",
     "text": [
      "Ряд стационарный\n"
     ]
    }
   ],
   "source": [
    "# проверим наш ряд на стационарность тестом Дики Фуллера\n",
    "series = data['num_orders']\n",
    "test = adfuller(series)\n",
    "# p-value в тесте выводится вторым, значит имеет индекс 1\n",
    "if test[1] < 0.05:\n",
    "    print('Ряд стационарный')\n",
    "else:\n",
    "    print('Ряд нестационарный')"
   ]
  },
  {
   "cell_type": "markdown",
   "metadata": {},
   "source": [
    "### Вывод"
   ]
  },
  {
   "cell_type": "markdown",
   "metadata": {},
   "source": [
    "В исследуемом ряду наблюдается тренд на увеличение заказов от месяца к месяцу. Также имеется суточная сезонность: утром и вечером число заказов растет, а ночью падает. Ряд стационарный, поэтому его можно прогнозировать."
   ]
  },
  {
   "cell_type": "markdown",
   "metadata": {},
   "source": [
    "## Обучение"
   ]
  },
  {
   "cell_type": "markdown",
   "metadata": {},
   "source": [
    "### Подготовка признаков"
   ]
  },
  {
   "cell_type": "code",
   "execution_count": 21,
   "metadata": {},
   "outputs": [],
   "source": [
    "# напишем функцию для создания признаков\n",
    "def make_features(data, max_lag, rolling_mean_size):\n",
    "    new_data = data.copy()\n",
    "    new_data['year'] = new_data.index.year\n",
    "    new_data['month'] = new_data.index.month\n",
    "    new_data['day'] = new_data.index.day\n",
    "    new_data['dayofweek'] = new_data.index.dayofweek\n",
    "    \n",
    "    for lag in range(1, max_lag + 1):\n",
    "        new_data['lag_{}'.format(lag)] = new_data['num_orders'].shift(lag)\n",
    "\n",
    "    new_data['rolling_mean'] = new_data['num_orders'].shift().rolling(rolling_mean_size).mean()\n",
    "    return new_data"
   ]
  },
  {
   "cell_type": "code",
   "execution_count": 22,
   "metadata": {},
   "outputs": [
    {
     "data": {
      "text/html": [
       "<div>\n",
       "<style scoped>\n",
       "    .dataframe tbody tr th:only-of-type {\n",
       "        vertical-align: middle;\n",
       "    }\n",
       "\n",
       "    .dataframe tbody tr th {\n",
       "        vertical-align: top;\n",
       "    }\n",
       "\n",
       "    .dataframe thead th {\n",
       "        text-align: right;\n",
       "    }\n",
       "</style>\n",
       "<table border=\"1\" class=\"dataframe\">\n",
       "  <thead>\n",
       "    <tr style=\"text-align: right;\">\n",
       "      <th></th>\n",
       "      <th>num_orders</th>\n",
       "      <th>year</th>\n",
       "      <th>month</th>\n",
       "      <th>day</th>\n",
       "      <th>dayofweek</th>\n",
       "      <th>lag_1</th>\n",
       "      <th>lag_2</th>\n",
       "      <th>lag_3</th>\n",
       "      <th>lag_4</th>\n",
       "      <th>lag_5</th>\n",
       "      <th>...</th>\n",
       "      <th>lag_16</th>\n",
       "      <th>lag_17</th>\n",
       "      <th>lag_18</th>\n",
       "      <th>lag_19</th>\n",
       "      <th>lag_20</th>\n",
       "      <th>lag_21</th>\n",
       "      <th>lag_22</th>\n",
       "      <th>lag_23</th>\n",
       "      <th>lag_24</th>\n",
       "      <th>rolling_mean</th>\n",
       "    </tr>\n",
       "    <tr>\n",
       "      <th>datetime</th>\n",
       "      <th></th>\n",
       "      <th></th>\n",
       "      <th></th>\n",
       "      <th></th>\n",
       "      <th></th>\n",
       "      <th></th>\n",
       "      <th></th>\n",
       "      <th></th>\n",
       "      <th></th>\n",
       "      <th></th>\n",
       "      <th></th>\n",
       "      <th></th>\n",
       "      <th></th>\n",
       "      <th></th>\n",
       "      <th></th>\n",
       "      <th></th>\n",
       "      <th></th>\n",
       "      <th></th>\n",
       "      <th></th>\n",
       "      <th></th>\n",
       "      <th></th>\n",
       "    </tr>\n",
       "  </thead>\n",
       "  <tbody>\n",
       "    <tr>\n",
       "      <th>2018-03-01 00:00:00</th>\n",
       "      <td>124</td>\n",
       "      <td>2018</td>\n",
       "      <td>3</td>\n",
       "      <td>1</td>\n",
       "      <td>3</td>\n",
       "      <td>NaN</td>\n",
       "      <td>NaN</td>\n",
       "      <td>NaN</td>\n",
       "      <td>NaN</td>\n",
       "      <td>NaN</td>\n",
       "      <td>...</td>\n",
       "      <td>NaN</td>\n",
       "      <td>NaN</td>\n",
       "      <td>NaN</td>\n",
       "      <td>NaN</td>\n",
       "      <td>NaN</td>\n",
       "      <td>NaN</td>\n",
       "      <td>NaN</td>\n",
       "      <td>NaN</td>\n",
       "      <td>NaN</td>\n",
       "      <td>NaN</td>\n",
       "    </tr>\n",
       "    <tr>\n",
       "      <th>2018-03-01 01:00:00</th>\n",
       "      <td>85</td>\n",
       "      <td>2018</td>\n",
       "      <td>3</td>\n",
       "      <td>1</td>\n",
       "      <td>3</td>\n",
       "      <td>124.0</td>\n",
       "      <td>NaN</td>\n",
       "      <td>NaN</td>\n",
       "      <td>NaN</td>\n",
       "      <td>NaN</td>\n",
       "      <td>...</td>\n",
       "      <td>NaN</td>\n",
       "      <td>NaN</td>\n",
       "      <td>NaN</td>\n",
       "      <td>NaN</td>\n",
       "      <td>NaN</td>\n",
       "      <td>NaN</td>\n",
       "      <td>NaN</td>\n",
       "      <td>NaN</td>\n",
       "      <td>NaN</td>\n",
       "      <td>NaN</td>\n",
       "    </tr>\n",
       "    <tr>\n",
       "      <th>2018-03-01 02:00:00</th>\n",
       "      <td>71</td>\n",
       "      <td>2018</td>\n",
       "      <td>3</td>\n",
       "      <td>1</td>\n",
       "      <td>3</td>\n",
       "      <td>85.0</td>\n",
       "      <td>124.0</td>\n",
       "      <td>NaN</td>\n",
       "      <td>NaN</td>\n",
       "      <td>NaN</td>\n",
       "      <td>...</td>\n",
       "      <td>NaN</td>\n",
       "      <td>NaN</td>\n",
       "      <td>NaN</td>\n",
       "      <td>NaN</td>\n",
       "      <td>NaN</td>\n",
       "      <td>NaN</td>\n",
       "      <td>NaN</td>\n",
       "      <td>NaN</td>\n",
       "      <td>NaN</td>\n",
       "      <td>NaN</td>\n",
       "    </tr>\n",
       "    <tr>\n",
       "      <th>2018-03-01 03:00:00</th>\n",
       "      <td>66</td>\n",
       "      <td>2018</td>\n",
       "      <td>3</td>\n",
       "      <td>1</td>\n",
       "      <td>3</td>\n",
       "      <td>71.0</td>\n",
       "      <td>85.0</td>\n",
       "      <td>124.0</td>\n",
       "      <td>NaN</td>\n",
       "      <td>NaN</td>\n",
       "      <td>...</td>\n",
       "      <td>NaN</td>\n",
       "      <td>NaN</td>\n",
       "      <td>NaN</td>\n",
       "      <td>NaN</td>\n",
       "      <td>NaN</td>\n",
       "      <td>NaN</td>\n",
       "      <td>NaN</td>\n",
       "      <td>NaN</td>\n",
       "      <td>NaN</td>\n",
       "      <td>NaN</td>\n",
       "    </tr>\n",
       "    <tr>\n",
       "      <th>2018-03-01 04:00:00</th>\n",
       "      <td>43</td>\n",
       "      <td>2018</td>\n",
       "      <td>3</td>\n",
       "      <td>1</td>\n",
       "      <td>3</td>\n",
       "      <td>66.0</td>\n",
       "      <td>71.0</td>\n",
       "      <td>85.0</td>\n",
       "      <td>124.0</td>\n",
       "      <td>NaN</td>\n",
       "      <td>...</td>\n",
       "      <td>NaN</td>\n",
       "      <td>NaN</td>\n",
       "      <td>NaN</td>\n",
       "      <td>NaN</td>\n",
       "      <td>NaN</td>\n",
       "      <td>NaN</td>\n",
       "      <td>NaN</td>\n",
       "      <td>NaN</td>\n",
       "      <td>NaN</td>\n",
       "      <td>NaN</td>\n",
       "    </tr>\n",
       "  </tbody>\n",
       "</table>\n",
       "<p>5 rows × 30 columns</p>\n",
       "</div>"
      ],
      "text/plain": [
       "                     num_orders  year  month  day  dayofweek  lag_1  lag_2  \\\n",
       "datetime                                                                     \n",
       "2018-03-01 00:00:00         124  2018      3    1          3    NaN    NaN   \n",
       "2018-03-01 01:00:00          85  2018      3    1          3  124.0    NaN   \n",
       "2018-03-01 02:00:00          71  2018      3    1          3   85.0  124.0   \n",
       "2018-03-01 03:00:00          66  2018      3    1          3   71.0   85.0   \n",
       "2018-03-01 04:00:00          43  2018      3    1          3   66.0   71.0   \n",
       "\n",
       "                     lag_3  lag_4  lag_5  ...  lag_16  lag_17  lag_18  lag_19  \\\n",
       "datetime                                  ...                                   \n",
       "2018-03-01 00:00:00    NaN    NaN    NaN  ...     NaN     NaN     NaN     NaN   \n",
       "2018-03-01 01:00:00    NaN    NaN    NaN  ...     NaN     NaN     NaN     NaN   \n",
       "2018-03-01 02:00:00    NaN    NaN    NaN  ...     NaN     NaN     NaN     NaN   \n",
       "2018-03-01 03:00:00  124.0    NaN    NaN  ...     NaN     NaN     NaN     NaN   \n",
       "2018-03-01 04:00:00   85.0  124.0    NaN  ...     NaN     NaN     NaN     NaN   \n",
       "\n",
       "                     lag_20  lag_21  lag_22  lag_23  lag_24  rolling_mean  \n",
       "datetime                                                                   \n",
       "2018-03-01 00:00:00     NaN     NaN     NaN     NaN     NaN           NaN  \n",
       "2018-03-01 01:00:00     NaN     NaN     NaN     NaN     NaN           NaN  \n",
       "2018-03-01 02:00:00     NaN     NaN     NaN     NaN     NaN           NaN  \n",
       "2018-03-01 03:00:00     NaN     NaN     NaN     NaN     NaN           NaN  \n",
       "2018-03-01 04:00:00     NaN     NaN     NaN     NaN     NaN           NaN  \n",
       "\n",
       "[5 rows x 30 columns]"
      ]
     },
     "execution_count": 22,
     "metadata": {},
     "output_type": "execute_result"
    }
   ],
   "source": [
    "# создадим новый датасет с признаками\n",
    "new_data = make_features(data, 24, 20)\n",
    "new_data.head()"
   ]
  },
  {
   "cell_type": "code",
   "execution_count": 23,
   "metadata": {},
   "outputs": [
    {
     "data": {
      "text/html": [
       "<div>\n",
       "<style scoped>\n",
       "    .dataframe tbody tr th:only-of-type {\n",
       "        vertical-align: middle;\n",
       "    }\n",
       "\n",
       "    .dataframe tbody tr th {\n",
       "        vertical-align: top;\n",
       "    }\n",
       "\n",
       "    .dataframe thead th {\n",
       "        text-align: right;\n",
       "    }\n",
       "</style>\n",
       "<table border=\"1\" class=\"dataframe\">\n",
       "  <thead>\n",
       "    <tr style=\"text-align: right;\">\n",
       "      <th></th>\n",
       "      <th>num_orders</th>\n",
       "    </tr>\n",
       "    <tr>\n",
       "      <th>datetime</th>\n",
       "      <th></th>\n",
       "    </tr>\n",
       "  </thead>\n",
       "  <tbody>\n",
       "    <tr>\n",
       "      <th>2018-03-01 00:00:00</th>\n",
       "      <td>124</td>\n",
       "    </tr>\n",
       "    <tr>\n",
       "      <th>2018-03-01 01:00:00</th>\n",
       "      <td>85</td>\n",
       "    </tr>\n",
       "    <tr>\n",
       "      <th>2018-03-01 02:00:00</th>\n",
       "      <td>71</td>\n",
       "    </tr>\n",
       "    <tr>\n",
       "      <th>2018-03-01 03:00:00</th>\n",
       "      <td>66</td>\n",
       "    </tr>\n",
       "    <tr>\n",
       "      <th>2018-03-01 04:00:00</th>\n",
       "      <td>43</td>\n",
       "    </tr>\n",
       "  </tbody>\n",
       "</table>\n",
       "</div>"
      ],
      "text/plain": [
       "                     num_orders\n",
       "datetime                       \n",
       "2018-03-01 00:00:00         124\n",
       "2018-03-01 01:00:00          85\n",
       "2018-03-01 02:00:00          71\n",
       "2018-03-01 03:00:00          66\n",
       "2018-03-01 04:00:00          43"
      ]
     },
     "execution_count": 23,
     "metadata": {},
     "output_type": "execute_result"
    }
   ],
   "source": [
    "# исходный датасет остался в переменной data\n",
    "data.head()"
   ]
  },
  {
   "cell_type": "code",
   "execution_count": 24,
   "metadata": {},
   "outputs": [],
   "source": [
    "# разделим данные на выборки, тестовая часть должна составлять 10 процентов от всего датасета\n",
    "train, test = train_test_split(new_data, shuffle = False, random_state = 12345, test_size = 0.2)\n",
    "valid, test = train_test_split(test, shuffle = False, random_state = 12345, test_size = 0.5)"
   ]
  },
  {
   "cell_type": "code",
   "execution_count": 25,
   "metadata": {},
   "outputs": [],
   "source": [
    "# удалим пропуски в первых значениях обучающей выборки\n",
    "train = train.dropna()"
   ]
  },
  {
   "cell_type": "code",
   "execution_count": 26,
   "metadata": {},
   "outputs": [
    {
     "name": "stdout",
     "output_type": "stream",
     "text": [
      "(3508, 29) (442, 29) (442, 29)\n"
     ]
    },
    {
     "data": {
      "text/plain": [
       "(True, True, True)"
      ]
     },
     "execution_count": 26,
     "metadata": {},
     "output_type": "execute_result"
    }
   ],
   "source": [
    "features_train, features_valid, features_test = (train.drop('num_orders', axis=1),\n",
    "                                                valid.drop('num_orders', axis=1), \n",
    "                                                test.drop('num_orders', axis=1))\n",
    "\n",
    "\n",
    "target_train, target_valid, target_test = (train['num_orders'],\n",
    "                                          valid['num_orders'],\n",
    "                                          test['num_orders'])\n",
    "\n",
    "\n",
    "print(features_train.shape, features_valid.shape, features_test.shape)\n",
    "features_train.index.is_monotonic, features_valid.index.is_monotonic, features_test.index.is_monotonic"
   ]
  },
  {
   "cell_type": "markdown",
   "metadata": {},
   "source": [
    "### Линейная регрессия"
   ]
  },
  {
   "cell_type": "code",
   "execution_count": 27,
   "metadata": {},
   "outputs": [
    {
     "name": "stdout",
     "output_type": "stream",
     "text": [
      "RMSE Линейной регрессии: 34.067570373060725\n"
     ]
    }
   ],
   "source": [
    "model_lr = LinearRegression()\n",
    "model_lr.fit(features_train, target_train)\n",
    "predictions_lr = model_lr.predict(features_valid)\n",
    "rmse_lr = mean_squared_error(target_valid, predictions_lr, squared=False)\n",
    "print('RMSE Линейной регрессии:', rmse_lr)"
   ]
  },
  {
   "cell_type": "markdown",
   "metadata": {},
   "source": [
    "### Случайный лес"
   ]
  },
  {
   "cell_type": "code",
   "execution_count": 28,
   "metadata": {},
   "outputs": [],
   "source": [
    "# при подборе параметров модели будем использовать специальную кроссвалидацию\n",
    "# для временных рядов\n",
    "tscv = TimeSeriesSplit(n_splits=3)"
   ]
  },
  {
   "cell_type": "code",
   "execution_count": 29,
   "metadata": {},
   "outputs": [
    {
     "name": "stdout",
     "output_type": "stream",
     "text": [
      "CPU times: user 12 s, sys: 61.2 ms, total: 12.1 s\n",
      "Wall time: 12.1 s\n"
     ]
    },
    {
     "data": {
      "text/plain": [
       "{'max_depth': 15, 'n_estimators': 100}"
      ]
     },
     "execution_count": 29,
     "metadata": {},
     "output_type": "execute_result"
    }
   ],
   "source": [
    "%%time\n",
    "\n",
    "model_rf = RandomForestRegressor()\n",
    "parametrs = {'n_estimators': [1, 100], 'max_depth': [1, 15]}\n",
    "grid_rf = GridSearchCV(model_rf, parametrs, cv=tscv)\n",
    "grid_rf.fit(features_train, target_train)\n",
    "grid_rf.best_params_"
   ]
  },
  {
   "cell_type": "code",
   "execution_count": 30,
   "metadata": {
    "scrolled": true
   },
   "outputs": [
    {
     "name": "stdout",
     "output_type": "stream",
     "text": [
      "RMSE модели Случайный лес: 33.06392513733966\n"
     ]
    }
   ],
   "source": [
    "# инициализируем модель с наилучшими гиперпараметрами\n",
    "model_rf = RandomForestRegressor(random_state=12345, n_estimators = 100, max_depth = 15)\n",
    "model_rf.fit(features_train, target_train)\n",
    "predictions_rf = model_rf.predict(features_valid)\n",
    "rmse_rf = mean_squared_error(target_valid, predictions_rf, squared=False)\n",
    "print('RMSE модели Случайный лес:', rmse_rf)"
   ]
  },
  {
   "cell_type": "markdown",
   "metadata": {},
   "source": [
    "### CatBoost"
   ]
  },
  {
   "cell_type": "code",
   "execution_count": 31,
   "metadata": {
    "scrolled": true
   },
   "outputs": [
    {
     "name": "stdout",
     "output_type": "stream",
     "text": [
      "0:\tlearn: 70.1748907\ttest: 95.5852400\tbest: 95.5852400 (0)\ttotal: 51.3ms\tremaining: 2.51s\n",
      "1:\tlearn: 64.6882325\ttest: 89.1964008\tbest: 89.1964008 (1)\ttotal: 55ms\tremaining: 1.32s\n",
      "2:\tlearn: 59.5368884\ttest: 83.2461306\tbest: 83.2461306 (2)\ttotal: 58.3ms\tremaining: 913ms\n",
      "3:\tlearn: 54.9001930\ttest: 77.7449296\tbest: 77.7449296 (3)\ttotal: 61.5ms\tremaining: 707ms\n",
      "4:\tlearn: 50.7192900\ttest: 72.5298636\tbest: 72.5298636 (4)\ttotal: 64.5ms\tremaining: 581ms\n",
      "5:\tlearn: 47.0514249\ttest: 68.1430681\tbest: 68.1430681 (5)\ttotal: 67.6ms\tremaining: 495ms\n",
      "6:\tlearn: 43.8675402\ttest: 64.3176977\tbest: 64.3176977 (6)\ttotal: 71.9ms\tremaining: 442ms\n",
      "7:\tlearn: 40.8908159\ttest: 60.2192273\tbest: 60.2192273 (7)\ttotal: 75.3ms\tremaining: 396ms\n",
      "8:\tlearn: 38.3342028\ttest: 56.8763343\tbest: 56.8763343 (8)\ttotal: 80ms\tremaining: 365ms\n",
      "9:\tlearn: 36.1040702\ttest: 53.9750544\tbest: 53.9750544 (9)\ttotal: 86ms\tremaining: 344ms\n",
      "10:\tlearn: 34.1317479\ttest: 51.0236864\tbest: 51.0236864 (10)\ttotal: 91ms\tremaining: 323ms\n",
      "11:\tlearn: 32.3972041\ttest: 48.6667689\tbest: 48.6667689 (11)\ttotal: 95.5ms\tremaining: 302ms\n",
      "12:\tlearn: 30.9048185\ttest: 46.6262599\tbest: 46.6262599 (12)\ttotal: 99.8ms\tremaining: 284ms\n",
      "13:\tlearn: 29.6125770\ttest: 44.8053153\tbest: 44.8053153 (13)\ttotal: 103ms\tremaining: 265ms\n",
      "14:\tlearn: 28.5253330\ttest: 43.3203112\tbest: 43.3203112 (14)\ttotal: 106ms\tremaining: 248ms\n",
      "15:\tlearn: 27.5984937\ttest: 41.8734079\tbest: 41.8734079 (15)\ttotal: 110ms\tremaining: 233ms\n",
      "16:\tlearn: 26.7888181\ttest: 40.6144663\tbest: 40.6144663 (16)\ttotal: 113ms\tremaining: 219ms\n",
      "17:\tlearn: 26.0843729\ttest: 39.7502315\tbest: 39.7502315 (17)\ttotal: 116ms\tremaining: 206ms\n",
      "18:\tlearn: 25.4390739\ttest: 38.8646238\tbest: 38.8646238 (18)\ttotal: 119ms\tremaining: 194ms\n",
      "19:\tlearn: 24.8467885\ttest: 37.9174708\tbest: 37.9174708 (19)\ttotal: 122ms\tremaining: 183ms\n",
      "20:\tlearn: 24.4125099\ttest: 37.1240939\tbest: 37.1240939 (20)\ttotal: 126ms\tremaining: 174ms\n",
      "21:\tlearn: 24.0087102\ttest: 36.2658525\tbest: 36.2658525 (21)\ttotal: 129ms\tremaining: 164ms\n",
      "22:\tlearn: 23.6330545\ttest: 35.5478723\tbest: 35.5478723 (22)\ttotal: 132ms\tremaining: 155ms\n",
      "23:\tlearn: 23.3086725\ttest: 35.0499737\tbest: 35.0499737 (23)\ttotal: 136ms\tremaining: 147ms\n",
      "24:\tlearn: 23.0447493\ttest: 34.5832908\tbest: 34.5832908 (24)\ttotal: 139ms\tremaining: 139ms\n",
      "25:\tlearn: 22.7830237\ttest: 34.1886569\tbest: 34.1886569 (25)\ttotal: 142ms\tremaining: 131ms\n",
      "26:\tlearn: 22.5522942\ttest: 33.7218276\tbest: 33.7218276 (26)\ttotal: 145ms\tremaining: 124ms\n",
      "27:\tlearn: 22.3769336\ttest: 33.2069271\tbest: 33.2069271 (27)\ttotal: 148ms\tremaining: 117ms\n",
      "28:\tlearn: 22.2113709\ttest: 32.8438437\tbest: 32.8438437 (28)\ttotal: 151ms\tremaining: 110ms\n",
      "29:\tlearn: 22.0623936\ttest: 32.4872426\tbest: 32.4872426 (29)\ttotal: 154ms\tremaining: 103ms\n",
      "30:\tlearn: 21.9222317\ttest: 32.2331934\tbest: 32.2331934 (30)\ttotal: 159ms\tremaining: 97.2ms\n",
      "31:\tlearn: 21.7745515\ttest: 32.1004226\tbest: 32.1004226 (31)\ttotal: 163ms\tremaining: 91.6ms\n",
      "32:\tlearn: 21.6577027\ttest: 31.8619653\tbest: 31.8619653 (32)\ttotal: 166ms\tremaining: 85.8ms\n",
      "33:\tlearn: 21.5189708\ttest: 31.6213903\tbest: 31.6213903 (33)\ttotal: 171ms\tremaining: 80.5ms\n",
      "34:\tlearn: 21.4366671\ttest: 31.4213103\tbest: 31.4213103 (34)\ttotal: 175ms\tremaining: 74.8ms\n",
      "35:\tlearn: 21.3301085\ttest: 31.3264155\tbest: 31.3264155 (35)\ttotal: 180ms\tremaining: 70ms\n",
      "36:\tlearn: 21.2421183\ttest: 31.0867737\tbest: 31.0867737 (36)\ttotal: 185ms\tremaining: 65ms\n",
      "37:\tlearn: 21.1593433\ttest: 30.9393268\tbest: 30.9393268 (37)\ttotal: 190ms\tremaining: 59.9ms\n",
      "38:\tlearn: 21.0681416\ttest: 30.6817103\tbest: 30.6817103 (38)\ttotal: 194ms\tremaining: 54.7ms\n",
      "39:\tlearn: 20.9563580\ttest: 30.5771934\tbest: 30.5771934 (39)\ttotal: 199ms\tremaining: 49.6ms\n",
      "40:\tlearn: 20.8644197\ttest: 30.5133781\tbest: 30.5133781 (40)\ttotal: 202ms\tremaining: 44.3ms\n",
      "41:\tlearn: 20.7903485\ttest: 30.3207759\tbest: 30.3207759 (41)\ttotal: 205ms\tremaining: 39ms\n",
      "42:\tlearn: 20.7324472\ttest: 30.2042628\tbest: 30.2042628 (42)\ttotal: 208ms\tremaining: 33.9ms\n",
      "43:\tlearn: 20.6473840\ttest: 30.0883297\tbest: 30.0883297 (43)\ttotal: 211ms\tremaining: 28.8ms\n",
      "44:\tlearn: 20.5845501\ttest: 29.9789911\tbest: 29.9789911 (44)\ttotal: 214ms\tremaining: 23.8ms\n",
      "45:\tlearn: 20.5312805\ttest: 29.8182975\tbest: 29.8182975 (45)\ttotal: 217ms\tremaining: 18.9ms\n",
      "46:\tlearn: 20.4694125\ttest: 29.7591280\tbest: 29.7591280 (46)\ttotal: 220ms\tremaining: 14.1ms\n",
      "47:\tlearn: 20.4176548\ttest: 29.7026913\tbest: 29.7026913 (47)\ttotal: 223ms\tremaining: 9.31ms\n",
      "48:\tlearn: 20.3472668\ttest: 29.6369968\tbest: 29.6369968 (48)\ttotal: 227ms\tremaining: 4.63ms\n",
      "49:\tlearn: 20.3029238\ttest: 29.6005139\tbest: 29.6005139 (49)\ttotal: 230ms\tremaining: 0us\n",
      "\n",
      "bestTest = 29.6005139\n",
      "bestIteration = 49\n",
      "\n",
      "0:\tloss: 29.6005139\tbest: 29.6005139 (0)\ttotal: 617ms\tremaining: 1.85s\n",
      "0:\tlearn: 29.0689494\ttest: 39.1808953\tbest: 39.1808953 (0)\ttotal: 3.94ms\tremaining: 193ms\n",
      "1:\tlearn: 25.0091719\ttest: 34.8708806\tbest: 34.8708806 (1)\ttotal: 7.34ms\tremaining: 176ms\n",
      "2:\tlearn: 23.5478696\ttest: 34.3271997\tbest: 34.3271997 (2)\ttotal: 10.8ms\tremaining: 170ms\n",
      "3:\tlearn: 22.6158507\ttest: 33.2971985\tbest: 33.2971985 (3)\ttotal: 14.1ms\tremaining: 162ms\n",
      "4:\tlearn: 22.0504734\ttest: 33.2977892\tbest: 33.2971985 (3)\ttotal: 17.2ms\tremaining: 155ms\n",
      "5:\tlearn: 21.3049979\ttest: 33.2109922\tbest: 33.2109922 (5)\ttotal: 20.9ms\tremaining: 153ms\n",
      "6:\tlearn: 20.8763798\ttest: 33.4575977\tbest: 33.2109922 (5)\ttotal: 23.9ms\tremaining: 147ms\n",
      "7:\tlearn: 20.4970615\ttest: 32.7411490\tbest: 32.7411490 (7)\ttotal: 27.3ms\tremaining: 143ms\n",
      "8:\tlearn: 20.1678759\ttest: 32.6274182\tbest: 32.6274182 (8)\ttotal: 31.7ms\tremaining: 145ms\n",
      "9:\tlearn: 19.9357262\ttest: 32.7289343\tbest: 32.6274182 (8)\ttotal: 36.2ms\tremaining: 145ms\n",
      "10:\tlearn: 19.5214921\ttest: 32.9561353\tbest: 32.6274182 (8)\ttotal: 41ms\tremaining: 145ms\n",
      "11:\tlearn: 19.1458814\ttest: 32.5058509\tbest: 32.5058509 (11)\ttotal: 45.6ms\tremaining: 144ms\n",
      "12:\tlearn: 18.7830635\ttest: 32.7340546\tbest: 32.5058509 (11)\ttotal: 49.1ms\tremaining: 140ms\n",
      "13:\tlearn: 18.4084938\ttest: 32.7666662\tbest: 32.5058509 (11)\ttotal: 52.1ms\tremaining: 134ms\n",
      "14:\tlearn: 18.1192556\ttest: 32.8657173\tbest: 32.5058509 (11)\ttotal: 55.4ms\tremaining: 129ms\n",
      "15:\tlearn: 17.9096291\ttest: 32.3208801\tbest: 32.3208801 (15)\ttotal: 58.8ms\tremaining: 125ms\n",
      "16:\tlearn: 17.6492585\ttest: 32.3032797\tbest: 32.3032797 (16)\ttotal: 62.2ms\tremaining: 121ms\n",
      "17:\tlearn: 17.3439492\ttest: 32.3756958\tbest: 32.3032797 (16)\ttotal: 65.4ms\tremaining: 116ms\n",
      "18:\tlearn: 17.0839562\ttest: 32.1119661\tbest: 32.1119661 (18)\ttotal: 68.6ms\tremaining: 112ms\n",
      "19:\tlearn: 16.8794368\ttest: 32.2733592\tbest: 32.1119661 (18)\ttotal: 71.7ms\tremaining: 108ms\n",
      "20:\tlearn: 16.6378607\ttest: 32.4886266\tbest: 32.1119661 (18)\ttotal: 74.9ms\tremaining: 103ms\n",
      "21:\tlearn: 16.4206609\ttest: 32.8818203\tbest: 32.1119661 (18)\ttotal: 78.3ms\tremaining: 99.7ms\n",
      "22:\tlearn: 16.2695528\ttest: 32.7114227\tbest: 32.1119661 (18)\ttotal: 81.7ms\tremaining: 95.9ms\n",
      "23:\tlearn: 16.2337056\ttest: 32.7047666\tbest: 32.1119661 (18)\ttotal: 85ms\tremaining: 92.1ms\n",
      "24:\tlearn: 16.1433669\ttest: 32.7900051\tbest: 32.1119661 (18)\ttotal: 88.5ms\tremaining: 88.5ms\n",
      "25:\tlearn: 16.0179052\ttest: 32.9138559\tbest: 32.1119661 (18)\ttotal: 92ms\tremaining: 84.9ms\n",
      "26:\tlearn: 15.8012538\ttest: 32.8282350\tbest: 32.1119661 (18)\ttotal: 95.5ms\tremaining: 81.4ms\n",
      "27:\tlearn: 15.6176730\ttest: 32.8233509\tbest: 32.1119661 (18)\ttotal: 98.9ms\tremaining: 77.7ms\n",
      "28:\tlearn: 15.4456849\ttest: 33.1154755\tbest: 32.1119661 (18)\ttotal: 103ms\tremaining: 74.4ms\n",
      "29:\tlearn: 15.3095898\ttest: 33.1509868\tbest: 32.1119661 (18)\ttotal: 106ms\tremaining: 70.8ms\n",
      "30:\tlearn: 15.0731380\ttest: 33.0717072\tbest: 32.1119661 (18)\ttotal: 110ms\tremaining: 67.2ms\n",
      "31:\tlearn: 15.0460402\ttest: 33.0552939\tbest: 32.1119661 (18)\ttotal: 113ms\tremaining: 63.8ms\n",
      "32:\tlearn: 14.9703144\ttest: 33.0503961\tbest: 32.1119661 (18)\ttotal: 117ms\tremaining: 60.2ms\n",
      "33:\tlearn: 14.7581327\ttest: 33.9310466\tbest: 32.1119661 (18)\ttotal: 120ms\tremaining: 56.6ms\n",
      "34:\tlearn: 14.6800783\ttest: 33.9768333\tbest: 32.1119661 (18)\ttotal: 123ms\tremaining: 52.9ms\n",
      "35:\tlearn: 14.5787543\ttest: 33.8283319\tbest: 32.1119661 (18)\ttotal: 129ms\tremaining: 50.1ms\n",
      "36:\tlearn: 14.3946091\ttest: 33.7376836\tbest: 32.1119661 (18)\ttotal: 133ms\tremaining: 46.9ms\n",
      "37:\tlearn: 14.2174497\ttest: 34.0025984\tbest: 32.1119661 (18)\ttotal: 138ms\tremaining: 43.7ms\n",
      "38:\tlearn: 14.0850208\ttest: 34.0384032\tbest: 32.1119661 (18)\ttotal: 143ms\tremaining: 40.3ms\n",
      "39:\tlearn: 13.8387781\ttest: 33.8170512\tbest: 32.1119661 (18)\ttotal: 147ms\tremaining: 36.7ms\n",
      "40:\tlearn: 13.7179438\ttest: 33.8213000\tbest: 32.1119661 (18)\ttotal: 150ms\tremaining: 33ms\n",
      "41:\tlearn: 13.6282974\ttest: 33.8002706\tbest: 32.1119661 (18)\ttotal: 153ms\tremaining: 29.2ms\n",
      "42:\tlearn: 13.5049071\ttest: 33.8756563\tbest: 32.1119661 (18)\ttotal: 157ms\tremaining: 25.5ms\n",
      "43:\tlearn: 13.4788696\ttest: 33.8885546\tbest: 32.1119661 (18)\ttotal: 160ms\tremaining: 21.8ms\n",
      "44:\tlearn: 13.3239947\ttest: 33.8853438\tbest: 32.1119661 (18)\ttotal: 163ms\tremaining: 18.1ms\n",
      "45:\tlearn: 13.1586499\ttest: 33.8042610\tbest: 32.1119661 (18)\ttotal: 166ms\tremaining: 14.4ms\n",
      "46:\tlearn: 12.9895317\ttest: 33.9366194\tbest: 32.1119661 (18)\ttotal: 169ms\tremaining: 10.8ms\n",
      "47:\tlearn: 12.8280279\ttest: 34.1545385\tbest: 32.1119661 (18)\ttotal: 172ms\tremaining: 7.17ms\n",
      "48:\tlearn: 12.7104354\ttest: 34.3911191\tbest: 32.1119661 (18)\ttotal: 175ms\tremaining: 3.57ms\n",
      "49:\tlearn: 12.6980856\ttest: 34.3983672\tbest: 32.1119661 (18)\ttotal: 178ms\tremaining: 0us\n",
      "\n",
      "bestTest = 32.11196611\n",
      "bestIteration = 18\n",
      "\n",
      "0:\tlearn: 70.6913212\ttest: 97.8883232\tbest: 97.8883232 (0)\ttotal: 65.9ms\tremaining: 3.23s\n",
      "1:\tlearn: 65.3016868\ttest: 92.1249436\tbest: 92.1249436 (1)\ttotal: 121ms\tremaining: 2.9s\n",
      "2:\tlearn: 60.2731541\ttest: 85.9795440\tbest: 85.9795440 (2)\ttotal: 174ms\tremaining: 2.72s\n",
      "3:\tlearn: 56.0970118\ttest: 80.7481465\tbest: 80.7481465 (3)\ttotal: 226ms\tremaining: 2.6s\n",
      "4:\tlearn: 52.0477023\ttest: 76.1020142\tbest: 76.1020142 (4)\ttotal: 281ms\tremaining: 2.53s\n",
      "5:\tlearn: 48.2052797\ttest: 71.7944449\tbest: 71.7944449 (5)\ttotal: 326ms\tremaining: 2.39s\n",
      "6:\tlearn: 45.0385225\ttest: 67.9465749\tbest: 67.9465749 (6)\ttotal: 381ms\tremaining: 2.34s\n",
      "7:\tlearn: 42.0425889\ttest: 64.4122493\tbest: 64.4122493 (7)\ttotal: 425ms\tremaining: 2.23s\n",
      "8:\tlearn: 39.4348997\ttest: 61.5358430\tbest: 61.5358430 (8)\ttotal: 478ms\tremaining: 2.17s\n",
      "9:\tlearn: 37.1710660\ttest: 58.5318748\tbest: 58.5318748 (9)\ttotal: 526ms\tremaining: 2.1s\n",
      "10:\tlearn: 35.0782195\ttest: 56.0593548\tbest: 56.0593548 (10)\ttotal: 583ms\tremaining: 2.07s\n",
      "11:\tlearn: 33.1306622\ttest: 53.9931197\tbest: 53.9931197 (11)\ttotal: 628ms\tremaining: 1.99s\n",
      "12:\tlearn: 31.3758442\ttest: 52.0713078\tbest: 52.0713078 (12)\ttotal: 682ms\tremaining: 1.94s\n",
      "13:\tlearn: 29.9561708\ttest: 50.1563014\tbest: 50.1563014 (13)\ttotal: 684ms\tremaining: 1.76s\n",
      "14:\tlearn: 28.6470379\ttest: 48.3449935\tbest: 48.3449935 (14)\ttotal: 730ms\tremaining: 1.7s\n",
      "15:\tlearn: 27.5262704\ttest: 46.6772149\tbest: 46.6772149 (15)\ttotal: 788ms\tremaining: 1.67s\n",
      "16:\tlearn: 26.4762391\ttest: 45.2535205\tbest: 45.2535205 (16)\ttotal: 836ms\tremaining: 1.62s\n",
      "17:\tlearn: 25.5948819\ttest: 43.9099353\tbest: 43.9099353 (17)\ttotal: 887ms\tremaining: 1.58s\n",
      "18:\tlearn: 24.8460734\ttest: 43.0179731\tbest: 43.0179731 (18)\ttotal: 940ms\tremaining: 1.53s\n",
      "19:\tlearn: 24.1433238\ttest: 41.9646526\tbest: 41.9646526 (19)\ttotal: 994ms\tremaining: 1.49s\n",
      "20:\tlearn: 23.4706904\ttest: 40.8947535\tbest: 40.8947535 (20)\ttotal: 1.04s\tremaining: 1.44s\n",
      "21:\tlearn: 22.8835310\ttest: 40.0860565\tbest: 40.0860565 (21)\ttotal: 1.1s\tremaining: 1.4s\n",
      "22:\tlearn: 22.3696605\ttest: 39.4401653\tbest: 39.4401653 (22)\ttotal: 1.14s\tremaining: 1.34s\n",
      "23:\tlearn: 21.8720466\ttest: 38.7809500\tbest: 38.7809500 (23)\ttotal: 1.2s\tremaining: 1.3s\n",
      "24:\tlearn: 21.4402598\ttest: 38.2911400\tbest: 38.2911400 (24)\ttotal: 1.25s\tremaining: 1.25s\n",
      "25:\tlearn: 21.0633528\ttest: 37.7596803\tbest: 37.7596803 (25)\ttotal: 1.3s\tremaining: 1.2s\n",
      "26:\tlearn: 20.7157332\ttest: 37.2786723\tbest: 37.2786723 (26)\ttotal: 1.36s\tremaining: 1.16s\n",
      "27:\tlearn: 20.3861579\ttest: 36.6465267\tbest: 36.6465267 (27)\ttotal: 1.4s\tremaining: 1.1s\n",
      "28:\tlearn: 20.0725858\ttest: 36.3063811\tbest: 36.3063811 (28)\ttotal: 1.46s\tremaining: 1.06s\n",
      "29:\tlearn: 19.7857675\ttest: 36.1038897\tbest: 36.1038897 (29)\ttotal: 1.51s\tremaining: 1s\n",
      "30:\tlearn: 19.5371782\ttest: 35.7833127\tbest: 35.7833127 (30)\ttotal: 1.56s\tremaining: 956ms\n",
      "31:\tlearn: 19.2720732\ttest: 35.5156280\tbest: 35.5156280 (31)\ttotal: 1.61s\tremaining: 906ms\n",
      "32:\tlearn: 19.0406699\ttest: 35.2240898\tbest: 35.2240898 (32)\ttotal: 1.67s\tremaining: 861ms\n",
      "33:\tlearn: 18.7854744\ttest: 34.9625794\tbest: 34.9625794 (33)\ttotal: 1.73s\tremaining: 814ms\n",
      "34:\tlearn: 18.5757144\ttest: 34.6213976\tbest: 34.6213976 (34)\ttotal: 1.78s\tremaining: 763ms\n",
      "35:\tlearn: 18.3679612\ttest: 34.4814954\tbest: 34.4814954 (35)\ttotal: 1.83s\tremaining: 710ms\n",
      "36:\tlearn: 18.1690060\ttest: 34.2522706\tbest: 34.2522706 (36)\ttotal: 1.88s\tremaining: 662ms\n",
      "37:\tlearn: 17.9685835\ttest: 34.1393195\tbest: 34.1393195 (37)\ttotal: 1.93s\tremaining: 609ms\n",
      "38:\tlearn: 17.7931406\ttest: 33.8531620\tbest: 33.8531620 (38)\ttotal: 1.98s\tremaining: 560ms\n",
      "39:\tlearn: 17.6095466\ttest: 33.7252711\tbest: 33.7252711 (39)\ttotal: 2.03s\tremaining: 507ms\n",
      "40:\tlearn: 17.4672045\ttest: 33.5048173\tbest: 33.5048173 (40)\ttotal: 2.08s\tremaining: 458ms\n",
      "41:\tlearn: 17.3181637\ttest: 33.3810648\tbest: 33.3810648 (41)\ttotal: 2.14s\tremaining: 408ms\n",
      "42:\tlearn: 17.1996484\ttest: 33.2337674\tbest: 33.2337674 (42)\ttotal: 2.19s\tremaining: 357ms\n",
      "43:\tlearn: 17.0960727\ttest: 33.1697724\tbest: 33.1697724 (43)\ttotal: 2.25s\tremaining: 307ms\n",
      "44:\tlearn: 16.9785206\ttest: 33.0647843\tbest: 33.0647843 (44)\ttotal: 2.3s\tremaining: 255ms\n",
      "45:\tlearn: 16.8598052\ttest: 32.8942954\tbest: 32.8942954 (45)\ttotal: 2.35s\tremaining: 204ms\n",
      "46:\tlearn: 16.7391073\ttest: 32.7791149\tbest: 32.7791149 (46)\ttotal: 2.4s\tremaining: 153ms\n",
      "47:\tlearn: 16.5797110\ttest: 32.6214696\tbest: 32.6214696 (47)\ttotal: 2.45s\tremaining: 102ms\n",
      "48:\tlearn: 16.4713037\ttest: 32.5297980\tbest: 32.5297980 (48)\ttotal: 2.5s\tremaining: 51ms\n",
      "49:\tlearn: 16.3791384\ttest: 32.4921455\tbest: 32.4921455 (49)\ttotal: 2.55s\tremaining: 0us\n",
      "\n",
      "bestTest = 32.49214554\n",
      "bestIteration = 49\n",
      "\n",
      "0:\tlearn: 31.1596749\ttest: 58.6658253\tbest: 58.6658253 (0)\ttotal: 43.9ms\tremaining: 2.15s\n",
      "1:\tlearn: 25.2902350\ttest: 47.2695928\tbest: 47.2695928 (1)\ttotal: 104ms\tremaining: 2.5s\n",
      "2:\tlearn: 22.2111230\ttest: 45.8216060\tbest: 45.8216060 (2)\ttotal: 150ms\tremaining: 2.36s\n",
      "3:\tlearn: 20.8486887\ttest: 43.5565043\tbest: 43.5565043 (3)\ttotal: 216ms\tremaining: 2.48s\n",
      "4:\tlearn: 19.0060801\ttest: 43.2224352\tbest: 43.2224352 (4)\ttotal: 260ms\tremaining: 2.34s\n",
      "5:\tlearn: 17.4957183\ttest: 42.6700397\tbest: 42.6700397 (5)\ttotal: 321ms\tremaining: 2.35s\n",
      "6:\tlearn: 16.2075106\ttest: 42.4061666\tbest: 42.4061666 (6)\ttotal: 369ms\tremaining: 2.27s\n",
      "7:\tlearn: 15.1319783\ttest: 42.8583113\tbest: 42.4061666 (6)\ttotal: 422ms\tremaining: 2.21s\n",
      "8:\tlearn: 14.4435639\ttest: 42.3670279\tbest: 42.3670279 (8)\ttotal: 468ms\tremaining: 2.13s\n",
      "9:\tlearn: 13.8920258\ttest: 42.6389248\tbest: 42.3670279 (8)\ttotal: 519ms\tremaining: 2.08s\n",
      "10:\tlearn: 13.2022900\ttest: 43.1097719\tbest: 42.3670279 (8)\ttotal: 575ms\tremaining: 2.04s\n",
      "11:\tlearn: 12.8061468\ttest: 42.7920278\tbest: 42.3670279 (8)\ttotal: 633ms\tremaining: 2s\n",
      "12:\tlearn: 11.9062837\ttest: 43.0907511\tbest: 42.3670279 (8)\ttotal: 690ms\tremaining: 1.96s\n",
      "13:\tlearn: 11.1444984\ttest: 43.0323392\tbest: 42.3670279 (8)\ttotal: 737ms\tremaining: 1.9s\n",
      "14:\tlearn: 11.0818973\ttest: 42.9545874\tbest: 42.3670279 (8)\ttotal: 790ms\tremaining: 1.84s\n",
      "15:\tlearn: 10.5056365\ttest: 43.0966781\tbest: 42.3670279 (8)\ttotal: 834ms\tremaining: 1.77s\n",
      "16:\tlearn: 10.0664363\ttest: 43.3417663\tbest: 42.3670279 (8)\ttotal: 888ms\tremaining: 1.72s\n",
      "17:\tlearn: 9.6766094\ttest: 43.2244627\tbest: 42.3670279 (8)\ttotal: 933ms\tremaining: 1.66s\n",
      "18:\tlearn: 9.0982202\ttest: 43.4224243\tbest: 42.3670279 (8)\ttotal: 990ms\tremaining: 1.61s\n",
      "19:\tlearn: 8.9119579\ttest: 43.3772930\tbest: 42.3670279 (8)\ttotal: 1.05s\tremaining: 1.58s\n",
      "20:\tlearn: 8.4362551\ttest: 43.3710378\tbest: 42.3670279 (8)\ttotal: 1.12s\tremaining: 1.55s\n",
      "21:\tlearn: 8.0005824\ttest: 43.2990007\tbest: 42.3670279 (8)\ttotal: 1.19s\tremaining: 1.52s\n",
      "22:\tlearn: 7.6652753\ttest: 43.2466890\tbest: 42.3670279 (8)\ttotal: 1.25s\tremaining: 1.47s\n",
      "23:\tlearn: 7.4166880\ttest: 43.2918420\tbest: 42.3670279 (8)\ttotal: 1.31s\tremaining: 1.42s\n",
      "24:\tlearn: 7.0973694\ttest: 43.3523972\tbest: 42.3670279 (8)\ttotal: 1.36s\tremaining: 1.36s\n",
      "25:\tlearn: 6.8730283\ttest: 43.3115896\tbest: 42.3670279 (8)\ttotal: 1.42s\tremaining: 1.31s\n",
      "26:\tlearn: 6.5029064\ttest: 43.2505378\tbest: 42.3670279 (8)\ttotal: 1.47s\tremaining: 1.25s\n",
      "27:\tlearn: 6.2231246\ttest: 43.2462775\tbest: 42.3670279 (8)\ttotal: 1.52s\tremaining: 1.19s\n",
      "28:\tlearn: 6.0772659\ttest: 43.1635946\tbest: 42.3670279 (8)\ttotal: 1.57s\tremaining: 1.14s\n",
      "29:\tlearn: 5.8257100\ttest: 43.1701279\tbest: 42.3670279 (8)\ttotal: 1.63s\tremaining: 1.09s\n",
      "30:\tlearn: 5.5619360\ttest: 43.3696442\tbest: 42.3670279 (8)\ttotal: 1.69s\tremaining: 1.03s\n",
      "31:\tlearn: 5.5492153\ttest: 43.3582634\tbest: 42.3670279 (8)\ttotal: 1.74s\tremaining: 981ms\n",
      "32:\tlearn: 5.2197095\ttest: 43.4955030\tbest: 42.3670279 (8)\ttotal: 1.81s\tremaining: 931ms\n",
      "33:\tlearn: 5.1894041\ttest: 43.4972676\tbest: 42.3670279 (8)\ttotal: 1.85s\tremaining: 872ms\n",
      "34:\tlearn: 4.9671243\ttest: 43.4637379\tbest: 42.3670279 (8)\ttotal: 1.91s\tremaining: 817ms\n",
      "35:\tlearn: 4.7498040\ttest: 43.4236718\tbest: 42.3670279 (8)\ttotal: 1.95s\tremaining: 759ms\n",
      "36:\tlearn: 4.5233449\ttest: 43.4601726\tbest: 42.3670279 (8)\ttotal: 2.01s\tremaining: 706ms\n",
      "37:\tlearn: 4.2523926\ttest: 43.4138289\tbest: 42.3670279 (8)\ttotal: 2.06s\tremaining: 649ms\n",
      "38:\tlearn: 4.0156350\ttest: 43.4971974\tbest: 42.3670279 (8)\ttotal: 2.11s\tremaining: 596ms\n",
      "39:\tlearn: 3.8534543\ttest: 43.5344915\tbest: 42.3670279 (8)\ttotal: 2.17s\tremaining: 542ms\n",
      "40:\tlearn: 3.6562388\ttest: 43.4445388\tbest: 42.3670279 (8)\ttotal: 2.22s\tremaining: 488ms\n",
      "41:\tlearn: 3.4577469\ttest: 43.5187999\tbest: 42.3670279 (8)\ttotal: 2.27s\tremaining: 433ms\n",
      "42:\tlearn: 3.2991140\ttest: 43.5457177\tbest: 42.3670279 (8)\ttotal: 2.32s\tremaining: 378ms\n",
      "43:\tlearn: 3.0858806\ttest: 43.4663364\tbest: 42.3670279 (8)\ttotal: 2.37s\tremaining: 323ms\n",
      "44:\tlearn: 2.9112464\ttest: 43.4616518\tbest: 42.3670279 (8)\ttotal: 2.42s\tremaining: 269ms\n",
      "45:\tlearn: 2.7624760\ttest: 43.4549918\tbest: 42.3670279 (8)\ttotal: 2.47s\tremaining: 215ms\n",
      "46:\tlearn: 2.7027809\ttest: 43.4648699\tbest: 42.3670279 (8)\ttotal: 2.52s\tremaining: 161ms\n",
      "47:\tlearn: 2.6199623\ttest: 43.4208958\tbest: 42.3670279 (8)\ttotal: 2.57s\tremaining: 107ms\n",
      "48:\tlearn: 2.4857387\ttest: 43.3555879\tbest: 42.3670279 (8)\ttotal: 2.62s\tremaining: 53.5ms\n",
      "49:\tlearn: 2.4269901\ttest: 43.3145936\tbest: 42.3670279 (8)\ttotal: 2.68s\tremaining: 0us\n",
      "\n",
      "bestTest = 42.36702794\n",
      "bestIteration = 8\n",
      "\n",
      "3:\tloss: 42.3670279\tbest: 29.6005139 (0)\ttotal: 6.06s\tremaining: 0us\n",
      "Estimating final quality...\n",
      "Training on fold [0/3]\n",
      "0:\tlearn: 59.4304680\ttest: 68.9998091\tbest: 68.9998091 (0)\ttotal: 2.43ms\tremaining: 119ms\n",
      "1:\tlearn: 54.7384290\ttest: 64.4075635\tbest: 64.4075635 (1)\ttotal: 4.51ms\tremaining: 108ms\n",
      "2:\tlearn: 50.9943309\ttest: 61.2129068\tbest: 61.2129068 (2)\ttotal: 6.71ms\tremaining: 105ms\n",
      "3:\tlearn: 47.2093360\ttest: 57.2610919\tbest: 57.2610919 (3)\ttotal: 8.84ms\tremaining: 102ms\n",
      "4:\tlearn: 43.7461524\ttest: 53.7503198\tbest: 53.7503198 (4)\ttotal: 11.5ms\tremaining: 103ms\n",
      "5:\tlearn: 40.8284821\ttest: 50.4527659\tbest: 50.4527659 (5)\ttotal: 19.4ms\tremaining: 142ms\n",
      "6:\tlearn: 38.2582037\ttest: 47.6664150\tbest: 47.6664150 (6)\ttotal: 24.2ms\tremaining: 149ms\n",
      "7:\tlearn: 35.7727310\ttest: 44.8732104\tbest: 44.8732104 (7)\ttotal: 28.6ms\tremaining: 150ms\n",
      "8:\tlearn: 34.0157915\ttest: 43.0751796\tbest: 43.0751796 (8)\ttotal: 33.6ms\tremaining: 153ms\n",
      "9:\tlearn: 32.0488823\ttest: 41.0412092\tbest: 41.0412092 (9)\ttotal: 38.3ms\tremaining: 153ms\n",
      "10:\tlearn: 30.3194093\ttest: 39.0449344\tbest: 39.0449344 (10)\ttotal: 42.9ms\tremaining: 152ms\n",
      "11:\tlearn: 28.9033010\ttest: 37.4592404\tbest: 37.4592404 (11)\ttotal: 47.4ms\tremaining: 150ms\n",
      "12:\tlearn: 27.6036461\ttest: 36.0219201\tbest: 36.0219201 (12)\ttotal: 52.1ms\tremaining: 148ms\n",
      "13:\tlearn: 26.4178202\ttest: 34.6661499\tbest: 34.6661499 (13)\ttotal: 57ms\tremaining: 147ms\n",
      "14:\tlearn: 25.4114747\ttest: 33.4547875\tbest: 33.4547875 (14)\ttotal: 61.6ms\tremaining: 144ms\n",
      "15:\tlearn: 24.4278238\ttest: 32.4869284\tbest: 32.4869284 (15)\ttotal: 66.2ms\tremaining: 141ms\n",
      "16:\tlearn: 23.7177212\ttest: 31.7322867\tbest: 31.7322867 (16)\ttotal: 71.3ms\tremaining: 138ms\n",
      "17:\tlearn: 23.0727471\ttest: 31.1149703\tbest: 31.1149703 (17)\ttotal: 75.9ms\tremaining: 135ms\n",
      "18:\tlearn: 22.4752112\ttest: 30.3956659\tbest: 30.3956659 (18)\ttotal: 80.3ms\tremaining: 131ms\n",
      "19:\tlearn: 21.8935278\ttest: 29.8370851\tbest: 29.8370851 (19)\ttotal: 84.9ms\tremaining: 127ms\n",
      "20:\tlearn: 21.3844697\ttest: 29.3106796\tbest: 29.3106796 (20)\ttotal: 90ms\tremaining: 124ms\n",
      "21:\tlearn: 20.9649396\ttest: 28.7084876\tbest: 28.7084876 (21)\ttotal: 94.7ms\tremaining: 120ms\n",
      "22:\tlearn: 20.6341573\ttest: 28.2280117\tbest: 28.2280117 (22)\ttotal: 99.5ms\tremaining: 117ms\n",
      "23:\tlearn: 20.3558305\ttest: 27.9989195\tbest: 27.9989195 (23)\ttotal: 104ms\tremaining: 113ms\n",
      "24:\tlearn: 20.0078925\ttest: 27.5366438\tbest: 27.5366438 (24)\ttotal: 109ms\tremaining: 109ms\n",
      "25:\tlearn: 19.7764018\ttest: 27.2305847\tbest: 27.2305847 (25)\ttotal: 114ms\tremaining: 105ms\n",
      "26:\tlearn: 19.5040350\ttest: 26.8752679\tbest: 26.8752679 (26)\ttotal: 119ms\tremaining: 101ms\n",
      "27:\tlearn: 19.2511005\ttest: 26.6973660\tbest: 26.6973660 (27)\ttotal: 123ms\tremaining: 96.6ms\n",
      "28:\tlearn: 19.0802965\ttest: 26.4377935\tbest: 26.4377935 (28)\ttotal: 128ms\tremaining: 92.7ms\n",
      "29:\tlearn: 18.9049852\ttest: 26.1995502\tbest: 26.1995502 (29)\ttotal: 133ms\tremaining: 88.4ms\n",
      "30:\tlearn: 18.7443393\ttest: 26.1169562\tbest: 26.1169562 (30)\ttotal: 137ms\tremaining: 84.2ms\n",
      "31:\tlearn: 18.5814649\ttest: 25.9127734\tbest: 25.9127734 (31)\ttotal: 142ms\tremaining: 80ms\n",
      "32:\tlearn: 18.4347579\ttest: 25.7039365\tbest: 25.7039365 (32)\ttotal: 147ms\tremaining: 75.8ms\n",
      "33:\tlearn: 18.2539940\ttest: 25.5076496\tbest: 25.5076496 (33)\ttotal: 152ms\tremaining: 71.5ms\n",
      "34:\tlearn: 18.1252764\ttest: 25.3654259\tbest: 25.3654259 (34)\ttotal: 157ms\tremaining: 67.3ms\n",
      "35:\tlearn: 18.0206491\ttest: 25.2034289\tbest: 25.2034289 (35)\ttotal: 160ms\tremaining: 62.3ms\n",
      "36:\tlearn: 17.9119197\ttest: 25.1083722\tbest: 25.1083722 (36)\ttotal: 162ms\tremaining: 57.1ms\n",
      "37:\tlearn: 17.8222090\ttest: 25.0233190\tbest: 25.0233190 (37)\ttotal: 165ms\tremaining: 52ms\n",
      "38:\tlearn: 17.6901842\ttest: 24.8935585\tbest: 24.8935585 (38)\ttotal: 167ms\tremaining: 47ms\n",
      "39:\tlearn: 17.5469715\ttest: 24.8384834\tbest: 24.8384834 (39)\ttotal: 169ms\tremaining: 42.2ms\n",
      "40:\tlearn: 17.4480484\ttest: 24.7599290\tbest: 24.7599290 (40)\ttotal: 171ms\tremaining: 37.5ms\n",
      "41:\tlearn: 17.3618991\ttest: 24.6845722\tbest: 24.6845722 (41)\ttotal: 173ms\tremaining: 33ms\n",
      "42:\tlearn: 17.1982744\ttest: 24.5306139\tbest: 24.5306139 (42)\ttotal: 175ms\tremaining: 28.5ms\n",
      "43:\tlearn: 17.0944626\ttest: 24.3916492\tbest: 24.3916492 (43)\ttotal: 177ms\tremaining: 24.2ms\n",
      "44:\tlearn: 16.9824187\ttest: 24.3470044\tbest: 24.3470044 (44)\ttotal: 180ms\tremaining: 20ms\n",
      "45:\tlearn: 16.8774530\ttest: 24.2530014\tbest: 24.2530014 (45)\ttotal: 182ms\tremaining: 15.8ms\n",
      "46:\tlearn: 16.8042153\ttest: 24.2190454\tbest: 24.2190454 (46)\ttotal: 184ms\tremaining: 11.7ms\n",
      "47:\tlearn: 16.7249787\ttest: 24.1775098\tbest: 24.1775098 (47)\ttotal: 186ms\tremaining: 7.77ms\n",
      "48:\tlearn: 16.6526099\ttest: 24.1431774\tbest: 24.1431774 (48)\ttotal: 189ms\tremaining: 3.86ms\n",
      "49:\tlearn: 16.6172996\ttest: 24.1128841\tbest: 24.1128841 (49)\ttotal: 191ms\tremaining: 0us\n",
      "\n",
      "bestTest = 24.11288411\n",
      "bestIteration = 49\n",
      "\n",
      "Training on fold [1/3]\n",
      "0:\tlearn: 63.6915686\ttest: 80.2840745\tbest: 80.2840745 (0)\ttotal: 2.63ms\tremaining: 129ms\n",
      "1:\tlearn: 58.8275923\ttest: 75.6519758\tbest: 75.6519758 (1)\ttotal: 9.98ms\tremaining: 240ms\n",
      "2:\tlearn: 54.3089413\ttest: 70.5285263\tbest: 70.5285263 (2)\ttotal: 13.7ms\tremaining: 215ms\n",
      "3:\tlearn: 50.1822131\ttest: 65.9931918\tbest: 65.9931918 (3)\ttotal: 17.3ms\tremaining: 199ms\n",
      "4:\tlearn: 46.4831414\ttest: 61.7326291\tbest: 61.7326291 (4)\ttotal: 22.6ms\tremaining: 203ms\n",
      "5:\tlearn: 43.2747013\ttest: 58.0153576\tbest: 58.0153576 (5)\ttotal: 27.7ms\tremaining: 203ms\n",
      "6:\tlearn: 40.4046101\ttest: 54.6906049\tbest: 54.6906049 (6)\ttotal: 32.9ms\tremaining: 202ms\n",
      "7:\tlearn: 37.6908652\ttest: 51.0943746\tbest: 51.0943746 (7)\ttotal: 37.1ms\tremaining: 195ms\n",
      "8:\tlearn: 35.3358024\ttest: 48.2112180\tbest: 48.2112180 (8)\ttotal: 41.4ms\tremaining: 188ms\n",
      "9:\tlearn: 33.3707468\ttest: 45.7750321\tbest: 45.7750321 (9)\ttotal: 45.9ms\tremaining: 183ms\n",
      "10:\tlearn: 31.5776692\ttest: 43.7885691\tbest: 43.7885691 (10)\ttotal: 50.1ms\tremaining: 177ms\n",
      "11:\tlearn: 29.9911885\ttest: 41.5889529\tbest: 41.5889529 (11)\ttotal: 54.4ms\tremaining: 172ms\n",
      "12:\tlearn: 28.6563299\ttest: 40.0495170\tbest: 40.0495170 (12)\ttotal: 58.8ms\tremaining: 167ms\n",
      "13:\tlearn: 27.4664077\ttest: 38.5703842\tbest: 38.5703842 (13)\ttotal: 63.6ms\tremaining: 163ms\n",
      "14:\tlearn: 26.5040416\ttest: 37.1810402\tbest: 37.1810402 (14)\ttotal: 66.8ms\tremaining: 156ms\n",
      "15:\tlearn: 25.7009420\ttest: 36.0811270\tbest: 36.0811270 (15)\ttotal: 69.5ms\tremaining: 148ms\n",
      "16:\tlearn: 24.9612664\ttest: 35.1414742\tbest: 35.1414742 (16)\ttotal: 72.1ms\tremaining: 140ms\n",
      "17:\tlearn: 24.2965796\ttest: 34.1983580\tbest: 34.1983580 (17)\ttotal: 74.8ms\tremaining: 133ms\n",
      "18:\tlearn: 23.6972019\ttest: 33.4438043\tbest: 33.4438043 (18)\ttotal: 77.3ms\tremaining: 126ms\n",
      "19:\tlearn: 23.1492240\ttest: 32.7310106\tbest: 32.7310106 (19)\ttotal: 80ms\tremaining: 120ms\n",
      "20:\tlearn: 22.6283918\ttest: 31.9317693\tbest: 31.9317693 (20)\ttotal: 83ms\tremaining: 115ms\n",
      "21:\tlearn: 22.2676276\ttest: 31.2483912\tbest: 31.2483912 (21)\ttotal: 85.5ms\tremaining: 109ms\n",
      "22:\tlearn: 21.9365217\ttest: 30.6866220\tbest: 30.6866220 (22)\ttotal: 88ms\tremaining: 103ms\n",
      "23:\tlearn: 21.6153051\ttest: 30.2377875\tbest: 30.2377875 (23)\ttotal: 90.8ms\tremaining: 98.4ms\n",
      "24:\tlearn: 21.3125859\ttest: 29.5538085\tbest: 29.5538085 (24)\ttotal: 93.3ms\tremaining: 93.3ms\n",
      "25:\tlearn: 21.0891335\ttest: 29.2007655\tbest: 29.2007655 (25)\ttotal: 95.8ms\tremaining: 88.4ms\n",
      "26:\tlearn: 20.8952032\ttest: 28.8472081\tbest: 28.8472081 (26)\ttotal: 98.3ms\tremaining: 83.7ms\n",
      "27:\tlearn: 20.6962751\ttest: 28.3723985\tbest: 28.3723985 (27)\ttotal: 101ms\tremaining: 79.3ms\n",
      "28:\tlearn: 20.4984638\ttest: 27.9490205\tbest: 27.9490205 (28)\ttotal: 104ms\tremaining: 75.1ms\n",
      "29:\tlearn: 20.3380533\ttest: 27.6690143\tbest: 27.6690143 (29)\ttotal: 108ms\tremaining: 71.7ms\n",
      "30:\tlearn: 20.1875867\ttest: 27.5179428\tbest: 27.5179428 (30)\ttotal: 111ms\tremaining: 68.3ms\n",
      "31:\tlearn: 20.0767552\ttest: 27.3514127\tbest: 27.3514127 (31)\ttotal: 115ms\tremaining: 64.9ms\n",
      "32:\tlearn: 19.9347471\ttest: 27.2911010\tbest: 27.2911010 (32)\ttotal: 119ms\tremaining: 61.3ms\n",
      "33:\tlearn: 19.7733947\ttest: 26.9924932\tbest: 26.9924932 (33)\ttotal: 123ms\tremaining: 57.8ms\n",
      "34:\tlearn: 19.6250820\ttest: 26.7962097\tbest: 26.7962097 (34)\ttotal: 126ms\tremaining: 53.9ms\n",
      "35:\tlearn: 19.5053636\ttest: 26.5070298\tbest: 26.5070298 (35)\ttotal: 129ms\tremaining: 50ms\n",
      "36:\tlearn: 19.4229691\ttest: 26.3752448\tbest: 26.3752448 (36)\ttotal: 131ms\tremaining: 46.1ms\n",
      "37:\tlearn: 19.3348513\ttest: 26.2407077\tbest: 26.2407077 (37)\ttotal: 134ms\tremaining: 42.3ms\n",
      "38:\tlearn: 19.2454071\ttest: 26.0732489\tbest: 26.0732489 (38)\ttotal: 137ms\tremaining: 38.6ms\n",
      "39:\tlearn: 19.1531687\ttest: 25.9048293\tbest: 25.9048293 (39)\ttotal: 139ms\tremaining: 34.9ms\n",
      "40:\tlearn: 19.0635480\ttest: 25.8306928\tbest: 25.8306928 (40)\ttotal: 142ms\tremaining: 31.2ms\n",
      "41:\tlearn: 18.9864774\ttest: 25.7314425\tbest: 25.7314425 (41)\ttotal: 145ms\tremaining: 27.6ms\n",
      "42:\tlearn: 18.8865120\ttest: 25.5550338\tbest: 25.5550338 (42)\ttotal: 148ms\tremaining: 24ms\n",
      "43:\tlearn: 18.7806629\ttest: 25.4572040\tbest: 25.4572040 (43)\ttotal: 150ms\tremaining: 20.5ms\n",
      "44:\tlearn: 18.7383027\ttest: 25.3894521\tbest: 25.3894521 (44)\ttotal: 153ms\tremaining: 17ms\n",
      "45:\tlearn: 18.6674629\ttest: 25.3583839\tbest: 25.3583839 (45)\ttotal: 156ms\tremaining: 13.6ms\n",
      "46:\tlearn: 18.5775205\ttest: 25.3579937\tbest: 25.3579937 (46)\ttotal: 159ms\tremaining: 10.1ms\n",
      "47:\tlearn: 18.5152588\ttest: 25.2963134\tbest: 25.2963134 (47)\ttotal: 161ms\tremaining: 6.71ms\n",
      "48:\tlearn: 18.4640619\ttest: 25.2750278\tbest: 25.2750278 (48)\ttotal: 164ms\tremaining: 3.34ms\n",
      "49:\tlearn: 18.3921954\ttest: 25.2195477\tbest: 25.2195477 (49)\ttotal: 166ms\tremaining: 0us\n",
      "\n",
      "bestTest = 25.21954772\n",
      "bestIteration = 49\n",
      "\n",
      "Training on fold [2/3]\n",
      "0:\tlearn: 69.2517661\ttest: 93.1420789\tbest: 93.1420789 (0)\ttotal: 3.82ms\tremaining: 187ms\n",
      "1:\tlearn: 63.8863399\ttest: 87.7386188\tbest: 87.7386188 (1)\ttotal: 7ms\tremaining: 168ms\n",
      "2:\tlearn: 58.8194758\ttest: 81.8238238\tbest: 81.8238238 (2)\ttotal: 9.95ms\tremaining: 156ms\n",
      "3:\tlearn: 54.2383717\ttest: 76.3692784\tbest: 76.3692784 (3)\ttotal: 13.1ms\tremaining: 151ms\n",
      "4:\tlearn: 50.1274888\ttest: 71.2871935\tbest: 71.2871935 (4)\ttotal: 16.1ms\tremaining: 145ms\n",
      "5:\tlearn: 46.4899230\ttest: 66.5941706\tbest: 66.5941706 (5)\ttotal: 24.8ms\tremaining: 182ms\n",
      "6:\tlearn: 43.3445462\ttest: 62.8352120\tbest: 62.8352120 (6)\ttotal: 29.2ms\tremaining: 179ms\n",
      "7:\tlearn: 40.4039176\ttest: 58.8418674\tbest: 58.8418674 (7)\ttotal: 33.6ms\tremaining: 177ms\n",
      "8:\tlearn: 38.0025051\ttest: 55.6367688\tbest: 55.6367688 (8)\ttotal: 37.9ms\tremaining: 173ms\n",
      "9:\tlearn: 35.7493328\ttest: 52.5516802\tbest: 52.5516802 (9)\ttotal: 42.3ms\tremaining: 169ms\n",
      "10:\tlearn: 33.7982832\ttest: 49.6089200\tbest: 49.6089200 (10)\ttotal: 45.6ms\tremaining: 162ms\n",
      "11:\tlearn: 32.0744400\ttest: 47.2779773\tbest: 47.2779773 (11)\ttotal: 48.8ms\tremaining: 155ms\n",
      "12:\tlearn: 30.5586923\ttest: 45.3735329\tbest: 45.3735329 (12)\ttotal: 51.8ms\tremaining: 147ms\n",
      "13:\tlearn: 29.2895441\ttest: 43.6833126\tbest: 43.6833126 (13)\ttotal: 54.6ms\tremaining: 140ms\n",
      "14:\tlearn: 28.2414395\ttest: 42.1943250\tbest: 42.1943250 (14)\ttotal: 57.4ms\tremaining: 134ms\n",
      "15:\tlearn: 27.3241465\ttest: 40.9774442\tbest: 40.9774442 (15)\ttotal: 60.3ms\tremaining: 128ms\n",
      "16:\tlearn: 26.5217667\ttest: 39.7100913\tbest: 39.7100913 (16)\ttotal: 63.2ms\tremaining: 123ms\n",
      "17:\tlearn: 25.8056008\ttest: 38.7519151\tbest: 38.7519151 (17)\ttotal: 66.2ms\tremaining: 118ms\n",
      "18:\tlearn: 25.1729869\ttest: 37.8909521\tbest: 37.8909521 (18)\ttotal: 69.2ms\tremaining: 113ms\n",
      "19:\tlearn: 24.5700041\ttest: 36.9427040\tbest: 36.9427040 (19)\ttotal: 72.2ms\tremaining: 108ms\n",
      "20:\tlearn: 24.0861433\ttest: 36.0383619\tbest: 36.0383619 (20)\ttotal: 75.3ms\tremaining: 104ms\n",
      "21:\tlearn: 23.6508275\ttest: 35.1707394\tbest: 35.1707394 (21)\ttotal: 78.3ms\tremaining: 99.7ms\n",
      "22:\tlearn: 23.2657127\ttest: 34.5658072\tbest: 34.5658072 (22)\ttotal: 81.4ms\tremaining: 95.6ms\n",
      "23:\tlearn: 22.9790506\ttest: 34.1160886\tbest: 34.1160886 (23)\ttotal: 84.3ms\tremaining: 91.3ms\n",
      "24:\tlearn: 22.7134134\ttest: 33.6263312\tbest: 33.6263312 (24)\ttotal: 87.1ms\tremaining: 87.1ms\n",
      "25:\tlearn: 22.4327769\ttest: 33.0768445\tbest: 33.0768445 (25)\ttotal: 90ms\tremaining: 83.1ms\n",
      "26:\tlearn: 22.2124179\ttest: 32.7233223\tbest: 32.7233223 (26)\ttotal: 93ms\tremaining: 79.2ms\n",
      "27:\tlearn: 22.0247116\ttest: 32.2171198\tbest: 32.2171198 (27)\ttotal: 95.8ms\tremaining: 75.3ms\n",
      "28:\tlearn: 21.8623128\ttest: 31.8686294\tbest: 31.8686294 (28)\ttotal: 98.9ms\tremaining: 71.6ms\n",
      "29:\tlearn: 21.7112959\ttest: 31.6351182\tbest: 31.6351182 (29)\ttotal: 102ms\tremaining: 67.8ms\n",
      "30:\tlearn: 21.5951012\ttest: 31.4580806\tbest: 31.4580806 (30)\ttotal: 105ms\tremaining: 64.1ms\n",
      "31:\tlearn: 21.4477231\ttest: 31.3216247\tbest: 31.3216247 (31)\ttotal: 108ms\tremaining: 60.5ms\n",
      "32:\tlearn: 21.3083243\ttest: 31.1990389\tbest: 31.1990389 (32)\ttotal: 110ms\tremaining: 56.9ms\n",
      "33:\tlearn: 21.1439675\ttest: 31.0460776\tbest: 31.0460776 (33)\ttotal: 114ms\tremaining: 53.4ms\n",
      "34:\tlearn: 21.0520180\ttest: 30.8250038\tbest: 30.8250038 (34)\ttotal: 117ms\tremaining: 50ms\n",
      "35:\tlearn: 20.9470963\ttest: 30.7083645\tbest: 30.7083645 (35)\ttotal: 125ms\tremaining: 48.6ms\n",
      "36:\tlearn: 20.8616618\ttest: 30.5883130\tbest: 30.5883130 (36)\ttotal: 129ms\tremaining: 45.4ms\n",
      "37:\tlearn: 20.7870475\ttest: 30.4818227\tbest: 30.4818227 (37)\ttotal: 134ms\tremaining: 42.2ms\n",
      "38:\tlearn: 20.6905762\ttest: 30.2079906\tbest: 30.2079906 (38)\ttotal: 138ms\tremaining: 38.9ms\n",
      "39:\tlearn: 20.6110559\ttest: 30.0728611\tbest: 30.0728611 (39)\ttotal: 142ms\tremaining: 35.5ms\n",
      "40:\tlearn: 20.5364739\ttest: 30.0268169\tbest: 30.0268169 (40)\ttotal: 145ms\tremaining: 31.9ms\n",
      "41:\tlearn: 20.4592934\ttest: 29.9380193\tbest: 29.9380193 (41)\ttotal: 148ms\tremaining: 28.2ms\n",
      "42:\tlearn: 20.3844511\ttest: 29.8162446\tbest: 29.8162446 (42)\ttotal: 151ms\tremaining: 24.6ms\n",
      "43:\tlearn: 20.2909378\ttest: 29.6883716\tbest: 29.6883716 (43)\ttotal: 154ms\tremaining: 21ms\n",
      "44:\tlearn: 20.2463127\ttest: 29.5946494\tbest: 29.5946494 (44)\ttotal: 157ms\tremaining: 17.5ms\n",
      "45:\tlearn: 20.1955886\ttest: 29.4599655\tbest: 29.4599655 (45)\ttotal: 160ms\tremaining: 13.9ms\n",
      "46:\tlearn: 20.1328639\ttest: 29.3887478\tbest: 29.3887478 (46)\ttotal: 163ms\tremaining: 10.4ms\n",
      "47:\tlearn: 20.0804115\ttest: 29.3413354\tbest: 29.3413354 (47)\ttotal: 166ms\tremaining: 6.92ms\n",
      "48:\tlearn: 20.0274415\ttest: 29.3048416\tbest: 29.3048416 (48)\ttotal: 169ms\tremaining: 3.45ms\n",
      "49:\tlearn: 19.9866430\ttest: 29.2806380\tbest: 29.2806380 (49)\ttotal: 172ms\tremaining: 0us\n",
      "\n",
      "bestTest = 29.28063797\n",
      "bestIteration = 49\n",
      "\n",
      "CPU times: user 6.26 s, sys: 108 ms, total: 6.37 s\n",
      "Wall time: 7.39 s\n"
     ]
    }
   ],
   "source": [
    "%%time\n",
    "\n",
    "model_cat = CatBoostRegressor(loss_function=\"RMSE\")\n",
    "\n",
    "parametrs = {'iterations': [50],\n",
    "             'depth': [5, 10],\n",
    "             'learning_rate': [0.1, 1]}\n",
    "\n",
    "grid_cat = model_cat.grid_search(parametrs, features_train, target_train, cv=tscv,\n",
    "                                 verbose=10, plot=False)"
   ]
  },
  {
   "cell_type": "code",
   "execution_count": 32,
   "metadata": {},
   "outputs": [
    {
     "data": {
      "text/plain": [
       "{'depth': 5, 'iterations': 50, 'learning_rate': 0.1}"
      ]
     },
     "execution_count": 32,
     "metadata": {},
     "output_type": "execute_result"
    }
   ],
   "source": [
    "grid_cat['params']"
   ]
  },
  {
   "cell_type": "code",
   "execution_count": 33,
   "metadata": {},
   "outputs": [
    {
     "name": "stdout",
     "output_type": "stream",
     "text": [
      "0:\tlearn: 34.1812595\ttotal: 3.54ms\tremaining: 173ms\n",
      "10:\tlearn: 26.3601084\ttotal: 36.5ms\tremaining: 129ms\n",
      "20:\tlearn: 23.7824114\ttotal: 76.5ms\tremaining: 106ms\n",
      "30:\tlearn: 22.7276957\ttotal: 109ms\tremaining: 66.6ms\n",
      "40:\tlearn: 22.0567394\ttotal: 160ms\tremaining: 35.2ms\n",
      "49:\tlearn: 21.6252992\ttotal: 189ms\tremaining: 0us\n"
     ]
    },
    {
     "data": {
      "text/plain": [
       "<catboost.core.CatBoostRegressor at 0x7f90ea63c400>"
      ]
     },
     "execution_count": 33,
     "metadata": {},
     "output_type": "execute_result"
    }
   ],
   "source": [
    "model_cat = CatBoostRegressor(loss_function=\"RMSE\", depth=5, iterations=50, learning_rate=0.1)\n",
    "model_cat.fit(features_train, target_train, verbose=10) "
   ]
  },
  {
   "cell_type": "code",
   "execution_count": 34,
   "metadata": {},
   "outputs": [
    {
     "name": "stdout",
     "output_type": "stream",
     "text": [
      "RMSE модели CatBoost: 35.92180570126945\n"
     ]
    }
   ],
   "source": [
    "predictions_cat = model_cat.predict(features_valid)\n",
    "rmse_cat = mean_squared_error(target_valid, predictions_cat, squared=False)\n",
    "print('RMSE модели CatBoost:', rmse_cat)"
   ]
  },
  {
   "cell_type": "markdown",
   "metadata": {},
   "source": [
    "### Вывод"
   ]
  },
  {
   "cell_type": "markdown",
   "metadata": {},
   "source": [
    "Были обучены и проверены на валидационной выборке несколько моделей. При проверке на валидационной выборке все модели прошли пороговые значения метрики RMSE не больше 48."
   ]
  },
  {
   "cell_type": "markdown",
   "metadata": {},
   "source": [
    "## Тестирование"
   ]
  },
  {
   "cell_type": "code",
   "execution_count": 35,
   "metadata": {},
   "outputs": [
    {
     "name": "stdout",
     "output_type": "stream",
     "text": [
      "RMSE Линейной регрессии на тестовой выборке: 46.11407885308614\n"
     ]
    }
   ],
   "source": [
    "pred_test_lr = model_lr.predict(features_test)\n",
    "rmse_test_lr = mean_squared_error(target_test, pred_test_lr, squared=False)\n",
    "print('RMSE Линейной регрессии на тестовой выборке:', rmse_test_lr)"
   ]
  },
  {
   "cell_type": "code",
   "execution_count": 36,
   "metadata": {},
   "outputs": [
    {
     "name": "stdout",
     "output_type": "stream",
     "text": [
      "RMSE модели Случайный лес на тестовой выборке: 50.53481226602903\n"
     ]
    }
   ],
   "source": [
    "pred_test_rf = model_rf.predict(features_test)\n",
    "rmse_test_rf = mean_squared_error(target_test, pred_test_rf, squared=False)\n",
    "print('RMSE модели Случайный лес на тестовой выборке:', rmse_test_rf)"
   ]
  },
  {
   "cell_type": "code",
   "execution_count": 37,
   "metadata": {},
   "outputs": [
    {
     "name": "stdout",
     "output_type": "stream",
     "text": [
      "RMSE модели CatBoost на тестовой выборке: 55.44891582296288\n"
     ]
    }
   ],
   "source": [
    "pred_test_cat = model_cat.predict(features_test)\n",
    "rmse_test_cat = mean_squared_error(target_test, pred_test_cat, squared=False)\n",
    "print('RMSE модели CatBoost на тестовой выборке:', rmse_test_cat)"
   ]
  },
  {
   "cell_type": "code",
   "execution_count": 38,
   "metadata": {},
   "outputs": [
    {
     "data": {
      "text/plain": [
       "<AxesSubplot:xlabel='datetime'>"
      ]
     },
     "execution_count": 38,
     "metadata": {},
     "output_type": "execute_result"
    },
    {
     "data": {
      "image/png": "[encoded data removed]",
      "text/plain": [
       "<Figure size 1152x432 with 1 Axes>"
      ]
     },
     "metadata": {
      "needs_background": "light"
     },
     "output_type": "display_data"
    }
   ],
   "source": [
    "plt.figure()\n",
    "target_test.plot(figsize=(16, 6), alpha=0.7, legend=True, linewidth=3, label='true')\n",
    "pd.Series(pred_test_lr, index=target_test.index).plot(figsize=(16, 6), alpha=0.7, legend=True, linewidth=3, label='pred_lr')\n",
    "pd.Series(pred_test_rf, index=target_test.index).plot(figsize=(16, 6), alpha=0.7, legend=True, linewidth=3, label='pred_rf')\n",
    "pd.Series(pred_test_cat, index=target_test.index).plot(figsize=(16, 6), alpha=0.7, legend=True, linewidth=2, label='pred_cat')"
   ]
  },
  {
   "cell_type": "markdown",
   "metadata": {},
   "source": [
    "При проверке качества модели на тестовой выборке проходной результат показала только модель Линейная регрессия."
   ]
  }
 ],
 "metadata": {
  "ExecuteTimeLog": [
   {
    "duration": 1471,
    "start_time": "2022-06-22T13:36:24.284Z"
   },
   {
    "duration": 134,
    "start_time": "2022-06-22T13:37:16.703Z"
   },
   {
    "duration": 14,
    "start_time": "2022-06-22T13:38:46.223Z"
   },
   {
    "duration": 66,
    "start_time": "2022-06-22T13:39:46.141Z"
   },
   {
    "duration": 9,
    "start_time": "2022-06-22T13:39:49.446Z"
   },
   {
    "duration": 45,
    "start_time": "2022-06-22T13:41:23.300Z"
   },
   {
    "duration": 9,
    "start_time": "2022-06-22T13:41:24.698Z"
   },
   {
    "duration": 4,
    "start_time": "2022-06-22T13:43:26.131Z"
   },
   {
    "duration": 4,
    "start_time": "2022-06-22T13:44:28.259Z"
   },
   {
    "duration": 735,
    "start_time": "2022-06-22T13:48:05.873Z"
   },
   {
    "duration": 31,
    "start_time": "2022-06-22T13:51:17.350Z"
   },
   {
    "duration": 10,
    "start_time": "2022-06-22T13:51:30.785Z"
   },
   {
    "duration": 203,
    "start_time": "2022-06-22T13:51:41.159Z"
   },
   {
    "duration": 14,
    "start_time": "2022-06-22T13:52:23.384Z"
   },
   {
    "duration": 227,
    "start_time": "2022-06-22T13:57:29.336Z"
   },
   {
    "duration": 207,
    "start_time": "2022-06-22T14:00:12.092Z"
   },
   {
    "duration": 218,
    "start_time": "2022-06-22T14:00:32.478Z"
   },
   {
    "duration": 133,
    "start_time": "2022-06-22T14:01:49.668Z"
   },
   {
    "duration": 3,
    "start_time": "2022-06-22T14:03:04.879Z"
   },
   {
    "duration": 4,
    "start_time": "2022-06-22T14:03:27.036Z"
   },
   {
    "duration": 306,
    "start_time": "2022-06-22T14:05:25.316Z"
   },
   {
    "duration": 239,
    "start_time": "2022-06-22T14:05:45.851Z"
   },
   {
    "duration": 213,
    "start_time": "2022-06-22T14:06:13.441Z"
   },
   {
    "duration": 7,
    "start_time": "2022-06-22T14:10:46.285Z"
   },
   {
    "duration": 185,
    "start_time": "2022-06-22T14:11:56.504Z"
   },
   {
    "duration": 751,
    "start_time": "2022-06-22T14:14:10.503Z"
   },
   {
    "duration": 326,
    "start_time": "2022-06-22T14:18:15.105Z"
   },
   {
    "duration": 231,
    "start_time": "2022-06-22T14:18:21.417Z"
   },
   {
    "duration": 196,
    "start_time": "2022-06-22T14:22:25.400Z"
   },
   {
    "duration": 226,
    "start_time": "2022-06-22T14:23:03.295Z"
   },
   {
    "duration": 609,
    "start_time": "2022-06-22T14:33:00.163Z"
   },
   {
    "duration": 493,
    "start_time": "2022-06-22T14:33:39.582Z"
   },
   {
    "duration": 190,
    "start_time": "2022-06-22T14:37:14.289Z"
   },
   {
    "duration": 157,
    "start_time": "2022-06-22T14:37:41.272Z"
   },
   {
    "duration": 141,
    "start_time": "2022-06-22T14:38:06.572Z"
   },
   {
    "duration": 148,
    "start_time": "2022-06-22T14:38:54.612Z"
   },
   {
    "duration": 12,
    "start_time": "2022-06-22T14:40:21.848Z"
   },
   {
    "duration": 163,
    "start_time": "2022-06-22T14:40:27.822Z"
   },
   {
    "duration": 327,
    "start_time": "2022-06-22T14:40:46.966Z"
   },
   {
    "duration": 157,
    "start_time": "2022-06-22T14:40:56.895Z"
   },
   {
    "duration": 181,
    "start_time": "2022-06-22T14:41:26.365Z"
   },
   {
    "duration": 153,
    "start_time": "2022-06-22T14:42:51.823Z"
   },
   {
    "duration": 192,
    "start_time": "2022-06-22T14:43:26.096Z"
   },
   {
    "duration": 141,
    "start_time": "2022-06-22T14:43:38.313Z"
   },
   {
    "duration": 128,
    "start_time": "2022-06-22T14:54:08.662Z"
   },
   {
    "duration": 138,
    "start_time": "2022-06-22T14:54:11.889Z"
   },
   {
    "duration": 192,
    "start_time": "2022-06-22T15:00:11.580Z"
   },
   {
    "duration": 209,
    "start_time": "2022-06-22T15:00:23.778Z"
   },
   {
    "duration": 191,
    "start_time": "2022-06-22T15:00:47.401Z"
   },
   {
    "duration": 222,
    "start_time": "2022-06-22T15:01:29.583Z"
   },
   {
    "duration": 257,
    "start_time": "2022-06-22T15:03:13.679Z"
   },
   {
    "duration": 387,
    "start_time": "2022-06-22T15:03:46.407Z"
   },
   {
    "duration": 242,
    "start_time": "2022-06-22T15:03:55.489Z"
   },
   {
    "duration": 330,
    "start_time": "2022-06-22T15:04:07.509Z"
   },
   {
    "duration": 305,
    "start_time": "2022-06-22T15:04:19.600Z"
   },
   {
    "duration": 271,
    "start_time": "2022-06-22T15:20:39.208Z"
   },
   {
    "duration": 38,
    "start_time": "2022-06-22T15:21:22.883Z"
   },
   {
    "duration": 269,
    "start_time": "2022-06-22T15:30:14.419Z"
   },
   {
    "duration": 1308,
    "start_time": "2022-06-22T15:30:23.048Z"
   },
   {
    "duration": 50,
    "start_time": "2022-06-22T15:30:24.358Z"
   },
   {
    "duration": 10,
    "start_time": "2022-06-22T15:30:24.410Z"
   },
   {
    "duration": 3,
    "start_time": "2022-06-22T15:30:24.421Z"
   },
   {
    "duration": 5,
    "start_time": "2022-06-22T15:30:24.425Z"
   },
   {
    "duration": 5,
    "start_time": "2022-06-22T15:30:24.432Z"
   },
   {
    "duration": 11,
    "start_time": "2022-06-22T15:30:24.438Z"
   },
   {
    "duration": 204,
    "start_time": "2022-06-22T15:30:24.451Z"
   },
   {
    "duration": 235,
    "start_time": "2022-06-22T15:30:24.656Z"
   },
   {
    "duration": 289,
    "start_time": "2022-06-22T15:30:24.893Z"
   },
   {
    "duration": 8,
    "start_time": "2022-06-22T15:30:25.184Z"
   },
   {
    "duration": 653,
    "start_time": "2022-06-22T15:30:25.193Z"
   },
   {
    "duration": 217,
    "start_time": "2022-06-22T15:30:25.848Z"
   },
   {
    "duration": 211,
    "start_time": "2022-06-22T15:30:26.067Z"
   },
   {
    "duration": 157,
    "start_time": "2022-06-22T15:30:26.280Z"
   },
   {
    "duration": 146,
    "start_time": "2022-06-22T15:30:26.439Z"
   },
   {
    "duration": 423,
    "start_time": "2022-06-22T15:30:26.587Z"
   },
   {
    "duration": 3,
    "start_time": "2022-06-22T15:30:27.012Z"
   },
   {
    "duration": 8,
    "start_time": "2022-06-22T15:31:08.997Z"
   },
   {
    "duration": 260,
    "start_time": "2022-06-22T15:31:44.232Z"
   },
   {
    "duration": 8,
    "start_time": "2022-06-22T15:31:48.341Z"
   },
   {
    "duration": 1350,
    "start_time": "2022-06-22T15:32:02.191Z"
   },
   {
    "duration": 51,
    "start_time": "2022-06-22T15:32:03.542Z"
   },
   {
    "duration": 11,
    "start_time": "2022-06-22T15:32:03.595Z"
   },
   {
    "duration": 6,
    "start_time": "2022-06-22T15:32:03.607Z"
   },
   {
    "duration": 8,
    "start_time": "2022-06-22T15:32:03.614Z"
   },
   {
    "duration": 6,
    "start_time": "2022-06-22T15:32:03.623Z"
   },
   {
    "duration": 13,
    "start_time": "2022-06-22T15:32:03.631Z"
   },
   {
    "duration": 214,
    "start_time": "2022-06-22T15:32:03.645Z"
   },
   {
    "duration": 270,
    "start_time": "2022-06-22T15:32:03.860Z"
   },
   {
    "duration": 192,
    "start_time": "2022-06-22T15:32:04.131Z"
   },
   {
    "duration": 8,
    "start_time": "2022-06-22T15:32:04.325Z"
   },
   {
    "duration": 616,
    "start_time": "2022-06-22T15:32:04.335Z"
   },
   {
    "duration": 186,
    "start_time": "2022-06-22T15:32:04.952Z"
   },
   {
    "duration": 173,
    "start_time": "2022-06-22T15:32:05.140Z"
   },
   {
    "duration": 138,
    "start_time": "2022-06-22T15:32:05.314Z"
   },
   {
    "duration": 134,
    "start_time": "2022-06-22T15:32:05.454Z"
   },
   {
    "duration": 369,
    "start_time": "2022-06-22T15:32:05.590Z"
   },
   {
    "duration": 8,
    "start_time": "2022-06-22T15:32:05.961Z"
   },
   {
    "duration": 5,
    "start_time": "2022-06-22T15:32:05.970Z"
   },
   {
    "duration": 2137,
    "start_time": "2022-06-22T15:36:34.699Z"
   },
   {
    "duration": 5276,
    "start_time": "2022-06-22T15:37:00.062Z"
   },
   {
    "duration": 3585,
    "start_time": "2022-06-22T15:38:29.248Z"
   },
   {
    "duration": 1339,
    "start_time": "2022-06-22T15:42:51.700Z"
   },
   {
    "duration": 1713,
    "start_time": "2022-06-22T15:43:09.021Z"
   },
   {
    "duration": 2696,
    "start_time": "2022-06-22T15:45:32.953Z"
   },
   {
    "duration": 17,
    "start_time": "2022-06-22T15:48:11.322Z"
   },
   {
    "duration": 9,
    "start_time": "2022-06-22T16:00:30.995Z"
   },
   {
    "duration": 135,
    "start_time": "2022-06-22T16:00:38.426Z"
   },
   {
    "duration": 1423,
    "start_time": "2022-06-22T16:00:59.504Z"
   },
   {
    "duration": 52,
    "start_time": "2022-06-22T16:01:00.928Z"
   },
   {
    "duration": 11,
    "start_time": "2022-06-22T16:01:00.982Z"
   },
   {
    "duration": 3,
    "start_time": "2022-06-22T16:01:00.994Z"
   },
   {
    "duration": 23,
    "start_time": "2022-06-22T16:01:00.998Z"
   },
   {
    "duration": 14,
    "start_time": "2022-06-22T16:01:01.022Z"
   },
   {
    "duration": 23,
    "start_time": "2022-06-22T16:01:01.038Z"
   },
   {
    "duration": 11,
    "start_time": "2022-06-22T16:01:01.063Z"
   },
   {
    "duration": 248,
    "start_time": "2022-06-22T16:01:01.075Z"
   },
   {
    "duration": 348,
    "start_time": "2022-06-22T16:01:01.326Z"
   },
   {
    "duration": 209,
    "start_time": "2022-06-22T16:01:01.676Z"
   },
   {
    "duration": 6,
    "start_time": "2022-06-22T16:01:01.887Z"
   },
   {
    "duration": 616,
    "start_time": "2022-06-22T16:01:01.894Z"
   },
   {
    "duration": 218,
    "start_time": "2022-06-22T16:01:02.511Z"
   },
   {
    "duration": 176,
    "start_time": "2022-06-22T16:01:02.730Z"
   },
   {
    "duration": 160,
    "start_time": "2022-06-22T16:01:02.907Z"
   },
   {
    "duration": 162,
    "start_time": "2022-06-22T16:01:03.069Z"
   },
   {
    "duration": 440,
    "start_time": "2022-06-22T16:01:03.232Z"
   },
   {
    "duration": 13,
    "start_time": "2022-06-22T16:01:03.674Z"
   },
   {
    "duration": 1943,
    "start_time": "2022-06-22T16:01:03.689Z"
   },
   {
    "duration": 97,
    "start_time": "2022-06-22T16:01:05.634Z"
   },
   {
    "duration": 114,
    "start_time": "2022-06-22T16:01:12.519Z"
   },
   {
    "duration": 1489,
    "start_time": "2022-06-22T16:01:18.986Z"
   },
   {
    "duration": 67,
    "start_time": "2022-06-22T16:01:20.477Z"
   },
   {
    "duration": 13,
    "start_time": "2022-06-22T16:01:20.548Z"
   },
   {
    "duration": 4,
    "start_time": "2022-06-22T16:01:20.562Z"
   },
   {
    "duration": 6,
    "start_time": "2022-06-22T16:01:20.568Z"
   },
   {
    "duration": 8,
    "start_time": "2022-06-22T16:01:20.575Z"
   },
   {
    "duration": 14,
    "start_time": "2022-06-22T16:01:20.585Z"
   },
   {
    "duration": 12,
    "start_time": "2022-06-22T16:01:20.601Z"
   },
   {
    "duration": 262,
    "start_time": "2022-06-22T16:01:20.614Z"
   },
   {
    "duration": 344,
    "start_time": "2022-06-22T16:01:20.878Z"
   },
   {
    "duration": 226,
    "start_time": "2022-06-22T16:01:21.234Z"
   },
   {
    "duration": 7,
    "start_time": "2022-06-22T16:01:21.462Z"
   },
   {
    "duration": 726,
    "start_time": "2022-06-22T16:01:21.470Z"
   },
   {
    "duration": 227,
    "start_time": "2022-06-22T16:01:22.199Z"
   },
   {
    "duration": 218,
    "start_time": "2022-06-22T16:01:22.431Z"
   },
   {
    "duration": 161,
    "start_time": "2022-06-22T16:01:22.651Z"
   },
   {
    "duration": 163,
    "start_time": "2022-06-22T16:01:22.814Z"
   },
   {
    "duration": 448,
    "start_time": "2022-06-22T16:01:22.979Z"
   },
   {
    "duration": 16,
    "start_time": "2022-06-22T16:01:23.430Z"
   },
   {
    "duration": 3779,
    "start_time": "2022-06-22T16:01:23.449Z"
   },
   {
    "duration": 21,
    "start_time": "2022-06-22T16:01:27.231Z"
   },
   {
    "duration": 125,
    "start_time": "2022-06-22T16:02:06.185Z"
   },
   {
    "duration": 1482,
    "start_time": "2022-06-22T16:02:12.627Z"
   },
   {
    "duration": 58,
    "start_time": "2022-06-22T16:02:14.111Z"
   },
   {
    "duration": 12,
    "start_time": "2022-06-22T16:02:14.171Z"
   },
   {
    "duration": 3,
    "start_time": "2022-06-22T16:02:14.185Z"
   },
   {
    "duration": 11,
    "start_time": "2022-06-22T16:02:14.189Z"
   },
   {
    "duration": 19,
    "start_time": "2022-06-22T16:02:14.201Z"
   },
   {
    "duration": 37,
    "start_time": "2022-06-22T16:02:14.222Z"
   },
   {
    "duration": 11,
    "start_time": "2022-06-22T16:02:14.260Z"
   },
   {
    "duration": 222,
    "start_time": "2022-06-22T16:02:14.273Z"
   },
   {
    "duration": 308,
    "start_time": "2022-06-22T16:02:14.498Z"
   },
   {
    "duration": 221,
    "start_time": "2022-06-22T16:02:14.808Z"
   },
   {
    "duration": 15,
    "start_time": "2022-06-22T16:02:15.032Z"
   },
   {
    "duration": 662,
    "start_time": "2022-06-22T16:02:15.049Z"
   },
   {
    "duration": 208,
    "start_time": "2022-06-22T16:02:15.712Z"
   },
   {
    "duration": 204,
    "start_time": "2022-06-22T16:02:15.922Z"
   },
   {
    "duration": 210,
    "start_time": "2022-06-22T16:02:16.127Z"
   },
   {
    "duration": 153,
    "start_time": "2022-06-22T16:02:16.339Z"
   },
   {
    "duration": 418,
    "start_time": "2022-06-22T16:02:16.493Z"
   },
   {
    "duration": 2538,
    "start_time": "2022-06-22T16:02:16.913Z"
   },
   {
    "duration": 93,
    "start_time": "2022-06-22T16:02:19.453Z"
   },
   {
    "duration": 4,
    "start_time": "2022-06-22T16:04:15.103Z"
   },
   {
    "duration": 1502,
    "start_time": "2022-06-22T16:05:25.809Z"
   },
   {
    "duration": 4,
    "start_time": "2022-06-22T16:06:01.893Z"
   },
   {
    "duration": 14,
    "start_time": "2022-06-22T16:06:03.469Z"
   },
   {
    "duration": 76,
    "start_time": "2022-06-22T16:07:38.096Z"
   },
   {
    "duration": 9,
    "start_time": "2022-06-22T16:07:54.442Z"
   },
   {
    "duration": 5,
    "start_time": "2022-06-22T16:10:15.178Z"
   },
   {
    "duration": 11,
    "start_time": "2022-06-22T16:10:15.989Z"
   },
   {
    "duration": 23,
    "start_time": "2022-06-22T16:10:31.215Z"
   },
   {
    "duration": 25,
    "start_time": "2022-06-22T16:10:54.735Z"
   },
   {
    "duration": 1377,
    "start_time": "2022-06-22T16:11:33.072Z"
   },
   {
    "duration": 51,
    "start_time": "2022-06-22T16:11:34.451Z"
   },
   {
    "duration": 10,
    "start_time": "2022-06-22T16:11:34.504Z"
   },
   {
    "duration": 5,
    "start_time": "2022-06-22T16:11:34.516Z"
   },
   {
    "duration": 6,
    "start_time": "2022-06-22T16:11:34.523Z"
   },
   {
    "duration": 7,
    "start_time": "2022-06-22T16:11:34.531Z"
   },
   {
    "duration": 14,
    "start_time": "2022-06-22T16:11:34.539Z"
   },
   {
    "duration": 10,
    "start_time": "2022-06-22T16:11:34.554Z"
   },
   {
    "duration": 225,
    "start_time": "2022-06-22T16:11:34.565Z"
   },
   {
    "duration": 288,
    "start_time": "2022-06-22T16:11:34.791Z"
   },
   {
    "duration": 202,
    "start_time": "2022-06-22T16:11:35.080Z"
   },
   {
    "duration": 7,
    "start_time": "2022-06-22T16:11:35.283Z"
   },
   {
    "duration": 601,
    "start_time": "2022-06-22T16:11:35.291Z"
   },
   {
    "duration": 218,
    "start_time": "2022-06-22T16:11:35.894Z"
   },
   {
    "duration": 194,
    "start_time": "2022-06-22T16:11:36.114Z"
   },
   {
    "duration": 142,
    "start_time": "2022-06-22T16:11:36.310Z"
   },
   {
    "duration": 136,
    "start_time": "2022-06-22T16:11:36.454Z"
   },
   {
    "duration": 392,
    "start_time": "2022-06-22T16:11:36.591Z"
   },
   {
    "duration": 104,
    "start_time": "2022-06-22T16:11:36.985Z"
   },
   {
    "duration": 0,
    "start_time": "2022-06-22T16:11:37.091Z"
   },
   {
    "duration": 0,
    "start_time": "2022-06-22T16:11:37.092Z"
   },
   {
    "duration": 0,
    "start_time": "2022-06-22T16:11:37.093Z"
   },
   {
    "duration": 1,
    "start_time": "2022-06-22T16:11:37.094Z"
   },
   {
    "duration": 9,
    "start_time": "2022-06-22T16:11:57.990Z"
   },
   {
    "duration": 12,
    "start_time": "2022-06-22T16:12:28.882Z"
   },
   {
    "duration": 1785,
    "start_time": "2022-06-22T16:12:30.855Z"
   },
   {
    "duration": 5,
    "start_time": "2022-06-22T16:12:42.413Z"
   },
   {
    "duration": 14,
    "start_time": "2022-06-22T16:12:43.571Z"
   },
   {
    "duration": 18,
    "start_time": "2022-06-22T16:12:45.894Z"
   },
   {
    "duration": 19,
    "start_time": "2022-06-22T16:13:23.902Z"
   },
   {
    "duration": 4,
    "start_time": "2022-06-22T16:17:01.998Z"
   },
   {
    "duration": 8,
    "start_time": "2022-06-22T16:17:02.901Z"
   },
   {
    "duration": 19,
    "start_time": "2022-06-22T16:17:04.133Z"
   },
   {
    "duration": 1401,
    "start_time": "2022-06-22T16:17:16.518Z"
   },
   {
    "duration": 50,
    "start_time": "2022-06-22T16:17:17.921Z"
   },
   {
    "duration": 12,
    "start_time": "2022-06-22T16:17:17.972Z"
   },
   {
    "duration": 5,
    "start_time": "2022-06-22T16:17:17.986Z"
   },
   {
    "duration": 8,
    "start_time": "2022-06-22T16:17:17.993Z"
   },
   {
    "duration": 9,
    "start_time": "2022-06-22T16:17:18.002Z"
   },
   {
    "duration": 13,
    "start_time": "2022-06-22T16:17:18.013Z"
   },
   {
    "duration": 10,
    "start_time": "2022-06-22T16:17:18.028Z"
   },
   {
    "duration": 209,
    "start_time": "2022-06-22T16:17:18.039Z"
   },
   {
    "duration": 272,
    "start_time": "2022-06-22T16:17:18.250Z"
   },
   {
    "duration": 199,
    "start_time": "2022-06-22T16:17:18.523Z"
   },
   {
    "duration": 10,
    "start_time": "2022-06-22T16:17:18.724Z"
   },
   {
    "duration": 622,
    "start_time": "2022-06-22T16:17:18.736Z"
   },
   {
    "duration": 182,
    "start_time": "2022-06-22T16:17:19.360Z"
   },
   {
    "duration": 159,
    "start_time": "2022-06-22T16:17:19.544Z"
   },
   {
    "duration": 140,
    "start_time": "2022-06-22T16:17:19.705Z"
   },
   {
    "duration": 144,
    "start_time": "2022-06-22T16:17:19.847Z"
   },
   {
    "duration": 378,
    "start_time": "2022-06-22T16:17:19.993Z"
   },
   {
    "duration": 9,
    "start_time": "2022-06-22T16:17:20.373Z"
   },
   {
    "duration": 1653,
    "start_time": "2022-06-22T16:17:20.383Z"
   },
   {
    "duration": 94,
    "start_time": "2022-06-22T16:17:22.039Z"
   },
   {
    "duration": 106,
    "start_time": "2022-06-22T16:17:22.137Z"
   },
   {
    "duration": 18,
    "start_time": "2022-06-22T16:17:22.244Z"
   },
   {
    "duration": 26,
    "start_time": "2022-06-22T16:18:17.213Z"
   },
   {
    "duration": 11,
    "start_time": "2022-06-22T16:18:43.001Z"
   },
   {
    "duration": 30,
    "start_time": "2022-06-22T16:18:43.713Z"
   },
   {
    "duration": 20,
    "start_time": "2022-06-22T16:18:58.311Z"
   },
   {
    "duration": 8,
    "start_time": "2022-06-22T16:22:33.214Z"
   },
   {
    "duration": 10,
    "start_time": "2022-06-22T16:23:54.577Z"
   },
   {
    "duration": 10,
    "start_time": "2022-06-22T16:25:01.828Z"
   },
   {
    "duration": 11,
    "start_time": "2022-06-22T16:27:03.151Z"
   },
   {
    "duration": 130,
    "start_time": "2022-06-22T16:27:44.868Z"
   },
   {
    "duration": 10,
    "start_time": "2022-06-22T16:27:53.445Z"
   },
   {
    "duration": 4,
    "start_time": "2022-06-22T16:32:27.395Z"
   },
   {
    "duration": 11,
    "start_time": "2022-06-22T16:38:22.133Z"
   },
   {
    "duration": 14,
    "start_time": "2022-06-22T16:43:33.607Z"
   },
   {
    "duration": 12,
    "start_time": "2022-06-22T16:46:09.678Z"
   },
   {
    "duration": 13,
    "start_time": "2022-06-22T16:46:39.763Z"
   },
   {
    "duration": 12,
    "start_time": "2022-06-22T16:48:03.684Z"
   },
   {
    "duration": 1356,
    "start_time": "2022-06-22T16:48:16.399Z"
   },
   {
    "duration": 52,
    "start_time": "2022-06-22T16:48:17.757Z"
   },
   {
    "duration": 12,
    "start_time": "2022-06-22T16:48:17.810Z"
   },
   {
    "duration": 2,
    "start_time": "2022-06-22T16:48:17.824Z"
   },
   {
    "duration": 6,
    "start_time": "2022-06-22T16:48:17.828Z"
   },
   {
    "duration": 4,
    "start_time": "2022-06-22T16:48:17.836Z"
   },
   {
    "duration": 14,
    "start_time": "2022-06-22T16:48:17.841Z"
   },
   {
    "duration": 12,
    "start_time": "2022-06-22T16:48:17.856Z"
   },
   {
    "duration": 230,
    "start_time": "2022-06-22T16:48:17.869Z"
   },
   {
    "duration": 296,
    "start_time": "2022-06-22T16:48:18.101Z"
   },
   {
    "duration": 215,
    "start_time": "2022-06-22T16:48:18.399Z"
   },
   {
    "duration": 8,
    "start_time": "2022-06-22T16:48:18.616Z"
   },
   {
    "duration": 668,
    "start_time": "2022-06-22T16:48:18.630Z"
   },
   {
    "duration": 201,
    "start_time": "2022-06-22T16:48:19.300Z"
   },
   {
    "duration": 181,
    "start_time": "2022-06-22T16:48:19.503Z"
   },
   {
    "duration": 157,
    "start_time": "2022-06-22T16:48:19.686Z"
   },
   {
    "duration": 152,
    "start_time": "2022-06-22T16:48:19.844Z"
   },
   {
    "duration": 385,
    "start_time": "2022-06-22T16:48:19.998Z"
   },
   {
    "duration": 8,
    "start_time": "2022-06-22T16:48:20.386Z"
   },
   {
    "duration": 1442,
    "start_time": "2022-06-22T16:48:20.395Z"
   },
   {
    "duration": 5,
    "start_time": "2022-06-22T16:48:21.928Z"
   },
   {
    "duration": 119,
    "start_time": "2022-06-22T16:48:21.934Z"
   },
   {
    "duration": 12,
    "start_time": "2022-06-22T16:48:22.054Z"
   },
   {
    "duration": 6,
    "start_time": "2022-06-22T16:48:22.067Z"
   },
   {
    "duration": 11,
    "start_time": "2022-06-22T16:48:22.074Z"
   },
   {
    "duration": 10,
    "start_time": "2022-06-22T16:48:22.086Z"
   },
   {
    "duration": 31,
    "start_time": "2022-06-22T16:48:22.098Z"
   },
   {
    "duration": 11,
    "start_time": "2022-06-22T16:48:22.132Z"
   },
   {
    "duration": 109,
    "start_time": "2022-06-22T16:48:22.144Z"
   },
   {
    "duration": 1297,
    "start_time": "2022-06-22T16:49:01.940Z"
   },
   {
    "duration": 49,
    "start_time": "2022-06-22T16:49:03.240Z"
   },
   {
    "duration": 11,
    "start_time": "2022-06-22T16:49:03.291Z"
   },
   {
    "duration": 3,
    "start_time": "2022-06-22T16:49:03.303Z"
   },
   {
    "duration": 9,
    "start_time": "2022-06-22T16:49:03.307Z"
   },
   {
    "duration": 9,
    "start_time": "2022-06-22T16:49:03.318Z"
   },
   {
    "duration": 13,
    "start_time": "2022-06-22T16:49:03.329Z"
   },
   {
    "duration": 10,
    "start_time": "2022-06-22T16:49:03.343Z"
   },
   {
    "duration": 226,
    "start_time": "2022-06-22T16:49:03.354Z"
   },
   {
    "duration": 280,
    "start_time": "2022-06-22T16:49:03.583Z"
   },
   {
    "duration": 187,
    "start_time": "2022-06-22T16:49:03.864Z"
   },
   {
    "duration": 7,
    "start_time": "2022-06-22T16:49:04.053Z"
   },
   {
    "duration": 606,
    "start_time": "2022-06-22T16:49:04.061Z"
   },
   {
    "duration": 189,
    "start_time": "2022-06-22T16:49:04.668Z"
   },
   {
    "duration": 160,
    "start_time": "2022-06-22T16:49:04.859Z"
   },
   {
    "duration": 129,
    "start_time": "2022-06-22T16:49:05.020Z"
   },
   {
    "duration": 136,
    "start_time": "2022-06-22T16:49:05.151Z"
   },
   {
    "duration": 362,
    "start_time": "2022-06-22T16:49:05.289Z"
   },
   {
    "duration": 9,
    "start_time": "2022-06-22T16:49:05.653Z"
   },
   {
    "duration": 1373,
    "start_time": "2022-06-22T16:49:05.663Z"
   },
   {
    "duration": 5,
    "start_time": "2022-06-22T16:49:07.128Z"
   },
   {
    "duration": 117,
    "start_time": "2022-06-22T16:49:07.135Z"
   },
   {
    "duration": 18,
    "start_time": "2022-06-22T16:49:07.254Z"
   },
   {
    "duration": 5,
    "start_time": "2022-06-22T16:49:07.273Z"
   },
   {
    "duration": 10,
    "start_time": "2022-06-22T16:49:07.279Z"
   },
   {
    "duration": 15,
    "start_time": "2022-06-22T16:49:07.291Z"
   },
   {
    "duration": 40,
    "start_time": "2022-06-22T16:49:07.308Z"
   },
   {
    "duration": 14,
    "start_time": "2022-06-22T16:49:07.351Z"
   },
   {
    "duration": 109,
    "start_time": "2022-06-22T16:49:07.367Z"
   },
   {
    "duration": 17,
    "start_time": "2022-06-22T16:49:28.965Z"
   },
   {
    "duration": 6,
    "start_time": "2022-06-22T16:52:38.197Z"
   },
   {
    "duration": 7,
    "start_time": "2022-06-22T16:52:59.195Z"
   },
   {
    "duration": 6,
    "start_time": "2022-06-22T16:53:55.712Z"
   },
   {
    "duration": 8,
    "start_time": "2022-06-22T16:58:33.264Z"
   },
   {
    "duration": 13,
    "start_time": "2022-06-22T16:59:08.038Z"
   },
   {
    "duration": 11,
    "start_time": "2022-06-22T17:00:44.449Z"
   },
   {
    "duration": 1379,
    "start_time": "2022-06-22T17:00:55.812Z"
   },
   {
    "duration": 49,
    "start_time": "2022-06-22T17:00:57.193Z"
   },
   {
    "duration": 10,
    "start_time": "2022-06-22T17:00:57.244Z"
   },
   {
    "duration": 2,
    "start_time": "2022-06-22T17:00:57.256Z"
   },
   {
    "duration": 6,
    "start_time": "2022-06-22T17:00:57.261Z"
   },
   {
    "duration": 6,
    "start_time": "2022-06-22T17:00:57.268Z"
   },
   {
    "duration": 13,
    "start_time": "2022-06-22T17:00:57.275Z"
   },
   {
    "duration": 11,
    "start_time": "2022-06-22T17:00:57.289Z"
   },
   {
    "duration": 222,
    "start_time": "2022-06-22T17:00:57.301Z"
   },
   {
    "duration": 280,
    "start_time": "2022-06-22T17:00:57.528Z"
   },
   {
    "duration": 195,
    "start_time": "2022-06-22T17:00:57.809Z"
   },
   {
    "duration": 7,
    "start_time": "2022-06-22T17:00:58.005Z"
   },
   {
    "duration": 645,
    "start_time": "2022-06-22T17:00:58.013Z"
   },
   {
    "duration": 203,
    "start_time": "2022-06-22T17:00:58.660Z"
   },
   {
    "duration": 178,
    "start_time": "2022-06-22T17:00:58.865Z"
   },
   {
    "duration": 142,
    "start_time": "2022-06-22T17:00:59.044Z"
   },
   {
    "duration": 135,
    "start_time": "2022-06-22T17:00:59.188Z"
   },
   {
    "duration": 387,
    "start_time": "2022-06-22T17:00:59.329Z"
   },
   {
    "duration": 8,
    "start_time": "2022-06-22T17:00:59.717Z"
   },
   {
    "duration": 1705,
    "start_time": "2022-06-22T17:00:59.727Z"
   },
   {
    "duration": 4,
    "start_time": "2022-06-22T17:01:01.434Z"
   },
   {
    "duration": 118,
    "start_time": "2022-06-22T17:01:01.530Z"
   },
   {
    "duration": 19,
    "start_time": "2022-06-22T17:01:01.650Z"
   },
   {
    "duration": 6,
    "start_time": "2022-06-22T17:01:01.670Z"
   },
   {
    "duration": 24,
    "start_time": "2022-06-22T17:01:01.678Z"
   },
   {
    "duration": 17,
    "start_time": "2022-06-22T17:01:01.703Z"
   },
   {
    "duration": 14,
    "start_time": "2022-06-22T17:01:01.721Z"
   },
   {
    "duration": 3,
    "start_time": "2022-06-22T17:03:09.322Z"
   },
   {
    "duration": 1366,
    "start_time": "2022-06-22T17:03:35.965Z"
   },
   {
    "duration": 52,
    "start_time": "2022-06-22T17:03:37.332Z"
   },
   {
    "duration": 11,
    "start_time": "2022-06-22T17:03:37.386Z"
   },
   {
    "duration": 3,
    "start_time": "2022-06-22T17:03:37.399Z"
   },
   {
    "duration": 19,
    "start_time": "2022-06-22T17:03:37.404Z"
   },
   {
    "duration": 16,
    "start_time": "2022-06-22T17:03:37.424Z"
   },
   {
    "duration": 18,
    "start_time": "2022-06-22T17:03:37.441Z"
   },
   {
    "duration": 10,
    "start_time": "2022-06-22T17:03:37.460Z"
   },
   {
    "duration": 218,
    "start_time": "2022-06-22T17:03:37.472Z"
   },
   {
    "duration": 281,
    "start_time": "2022-06-22T17:03:37.692Z"
   },
   {
    "duration": 205,
    "start_time": "2022-06-22T17:03:37.974Z"
   },
   {
    "duration": 8,
    "start_time": "2022-06-22T17:03:38.180Z"
   },
   {
    "duration": 637,
    "start_time": "2022-06-22T17:03:38.189Z"
   },
   {
    "duration": 223,
    "start_time": "2022-06-22T17:03:38.829Z"
   },
   {
    "duration": 190,
    "start_time": "2022-06-22T17:03:39.053Z"
   },
   {
    "duration": 141,
    "start_time": "2022-06-22T17:03:39.245Z"
   },
   {
    "duration": 132,
    "start_time": "2022-06-22T17:03:39.388Z"
   },
   {
    "duration": 430,
    "start_time": "2022-06-22T17:03:39.521Z"
   },
   {
    "duration": 8,
    "start_time": "2022-06-22T17:03:39.953Z"
   },
   {
    "duration": 1568,
    "start_time": "2022-06-22T17:03:39.962Z"
   },
   {
    "duration": 5,
    "start_time": "2022-06-22T17:03:41.531Z"
   },
   {
    "duration": 112,
    "start_time": "2022-06-22T17:03:41.539Z"
   },
   {
    "duration": 18,
    "start_time": "2022-06-22T17:03:41.652Z"
   },
   {
    "duration": 7,
    "start_time": "2022-06-22T17:03:41.672Z"
   },
   {
    "duration": 13,
    "start_time": "2022-06-22T17:03:41.681Z"
   },
   {
    "duration": 9,
    "start_time": "2022-06-22T17:03:41.696Z"
   },
   {
    "duration": 33,
    "start_time": "2022-06-22T17:03:41.706Z"
   },
   {
    "duration": 2556,
    "start_time": "2022-06-22T17:03:41.740Z"
   },
   {
    "duration": 27,
    "start_time": "2022-06-22T17:06:28.018Z"
   },
   {
    "duration": 1435,
    "start_time": "2022-06-22T17:06:52.166Z"
   },
   {
    "duration": 54,
    "start_time": "2022-06-22T17:06:53.604Z"
   },
   {
    "duration": 13,
    "start_time": "2022-06-22T17:06:53.659Z"
   },
   {
    "duration": 3,
    "start_time": "2022-06-22T17:06:53.674Z"
   },
   {
    "duration": 6,
    "start_time": "2022-06-22T17:06:53.679Z"
   },
   {
    "duration": 5,
    "start_time": "2022-06-22T17:06:53.687Z"
   },
   {
    "duration": 41,
    "start_time": "2022-06-22T17:06:53.694Z"
   },
   {
    "duration": 12,
    "start_time": "2022-06-22T17:06:53.744Z"
   },
   {
    "duration": 237,
    "start_time": "2022-06-22T17:06:53.758Z"
   },
   {
    "duration": 314,
    "start_time": "2022-06-22T17:06:53.997Z"
   },
   {
    "duration": 225,
    "start_time": "2022-06-22T17:06:54.313Z"
   },
   {
    "duration": 6,
    "start_time": "2022-06-22T17:06:54.540Z"
   },
   {
    "duration": 679,
    "start_time": "2022-06-22T17:06:54.548Z"
   },
   {
    "duration": 217,
    "start_time": "2022-06-22T17:06:55.229Z"
   },
   {
    "duration": 191,
    "start_time": "2022-06-22T17:06:55.447Z"
   },
   {
    "duration": 141,
    "start_time": "2022-06-22T17:06:55.640Z"
   },
   {
    "duration": 153,
    "start_time": "2022-06-22T17:06:55.783Z"
   },
   {
    "duration": 447,
    "start_time": "2022-06-22T17:06:55.937Z"
   },
   {
    "duration": 10,
    "start_time": "2022-06-22T17:06:56.385Z"
   },
   {
    "duration": 1534,
    "start_time": "2022-06-22T17:06:56.396Z"
   },
   {
    "duration": 7,
    "start_time": "2022-06-22T17:06:57.932Z"
   },
   {
    "duration": 25,
    "start_time": "2022-06-22T17:06:58.030Z"
   },
   {
    "duration": 21,
    "start_time": "2022-06-22T17:06:58.057Z"
   },
   {
    "duration": 7,
    "start_time": "2022-06-22T17:06:58.080Z"
   },
   {
    "duration": 7,
    "start_time": "2022-06-22T17:06:58.088Z"
   },
   {
    "duration": 11,
    "start_time": "2022-06-22T17:06:58.096Z"
   },
   {
    "duration": 13,
    "start_time": "2022-06-22T17:06:58.130Z"
   },
   {
    "duration": 4400,
    "start_time": "2022-06-22T17:06:58.145Z"
   },
   {
    "duration": 31,
    "start_time": "2022-06-22T17:07:02.546Z"
   },
   {
    "duration": 36,
    "start_time": "2022-06-22T17:07:09.969Z"
   },
   {
    "duration": 7494,
    "start_time": "2022-06-22T17:07:23.800Z"
   },
   {
    "duration": 2562,
    "start_time": "2022-06-22T17:07:40.311Z"
   },
   {
    "duration": 42,
    "start_time": "2022-06-22T17:07:46.069Z"
   },
   {
    "duration": 1384,
    "start_time": "2022-06-22T17:09:43.270Z"
   },
   {
    "duration": 56,
    "start_time": "2022-06-22T17:09:44.656Z"
   },
   {
    "duration": 12,
    "start_time": "2022-06-22T17:09:44.713Z"
   },
   {
    "duration": 3,
    "start_time": "2022-06-22T17:09:44.728Z"
   },
   {
    "duration": 8,
    "start_time": "2022-06-22T17:09:44.733Z"
   },
   {
    "duration": 6,
    "start_time": "2022-06-22T17:09:44.742Z"
   },
   {
    "duration": 13,
    "start_time": "2022-06-22T17:09:44.750Z"
   },
   {
    "duration": 12,
    "start_time": "2022-06-22T17:09:44.765Z"
   },
   {
    "duration": 243,
    "start_time": "2022-06-22T17:09:44.779Z"
   },
   {
    "duration": 306,
    "start_time": "2022-06-22T17:09:45.025Z"
   },
   {
    "duration": 218,
    "start_time": "2022-06-22T17:09:45.333Z"
   },
   {
    "duration": 7,
    "start_time": "2022-06-22T17:09:45.553Z"
   },
   {
    "duration": 688,
    "start_time": "2022-06-22T17:09:45.562Z"
   },
   {
    "duration": 209,
    "start_time": "2022-06-22T17:09:46.252Z"
   },
   {
    "duration": 191,
    "start_time": "2022-06-22T17:09:46.462Z"
   },
   {
    "duration": 174,
    "start_time": "2022-06-22T17:09:46.655Z"
   },
   {
    "duration": 158,
    "start_time": "2022-06-22T17:09:46.831Z"
   },
   {
    "duration": 434,
    "start_time": "2022-06-22T17:09:46.990Z"
   },
   {
    "duration": 9,
    "start_time": "2022-06-22T17:09:47.425Z"
   },
   {
    "duration": 1999,
    "start_time": "2022-06-22T17:09:47.435Z"
   },
   {
    "duration": 95,
    "start_time": "2022-06-22T17:09:49.437Z"
   },
   {
    "duration": 34,
    "start_time": "2022-06-22T17:09:49.628Z"
   },
   {
    "duration": 27,
    "start_time": "2022-06-22T17:09:49.664Z"
   },
   {
    "duration": 8,
    "start_time": "2022-06-22T17:09:49.692Z"
   },
   {
    "duration": 5,
    "start_time": "2022-06-22T17:09:49.702Z"
   },
   {
    "duration": 21,
    "start_time": "2022-06-22T17:09:49.709Z"
   },
   {
    "duration": 14,
    "start_time": "2022-06-22T17:09:49.732Z"
   },
   {
    "duration": 2686,
    "start_time": "2022-06-22T17:09:49.751Z"
   },
   {
    "duration": 31,
    "start_time": "2022-06-22T17:09:52.439Z"
   },
   {
    "duration": 23455,
    "start_time": "2022-06-22T17:09:52.472Z"
   },
   {
    "duration": 4280,
    "start_time": "2022-06-22T17:13:59.332Z"
   },
   {
    "duration": 3,
    "start_time": "2022-06-22T17:22:28.555Z"
   },
   {
    "duration": 1399,
    "start_time": "2022-06-22T17:23:51.056Z"
   },
   {
    "duration": 51,
    "start_time": "2022-06-22T17:23:52.457Z"
   },
   {
    "duration": 10,
    "start_time": "2022-06-22T17:23:52.509Z"
   },
   {
    "duration": 4,
    "start_time": "2022-06-22T17:23:52.521Z"
   },
   {
    "duration": 5,
    "start_time": "2022-06-22T17:23:52.526Z"
   },
   {
    "duration": 5,
    "start_time": "2022-06-22T17:23:52.532Z"
   },
   {
    "duration": 13,
    "start_time": "2022-06-22T17:23:52.538Z"
   },
   {
    "duration": 10,
    "start_time": "2022-06-22T17:23:52.553Z"
   },
   {
    "duration": 220,
    "start_time": "2022-06-22T17:23:52.564Z"
   },
   {
    "duration": 290,
    "start_time": "2022-06-22T17:23:52.787Z"
   },
   {
    "duration": 214,
    "start_time": "2022-06-22T17:23:53.078Z"
   },
   {
    "duration": 7,
    "start_time": "2022-06-22T17:23:53.293Z"
   },
   {
    "duration": 632,
    "start_time": "2022-06-22T17:23:53.301Z"
   },
   {
    "duration": 198,
    "start_time": "2022-06-22T17:23:53.935Z"
   },
   {
    "duration": 174,
    "start_time": "2022-06-22T17:23:54.134Z"
   },
   {
    "duration": 150,
    "start_time": "2022-06-22T17:23:54.310Z"
   },
   {
    "duration": 142,
    "start_time": "2022-06-22T17:23:54.462Z"
   },
   {
    "duration": 385,
    "start_time": "2022-06-22T17:23:54.606Z"
   },
   {
    "duration": 8,
    "start_time": "2022-06-22T17:23:54.993Z"
   },
   {
    "duration": 1435,
    "start_time": "2022-06-22T17:23:55.002Z"
   },
   {
    "duration": 92,
    "start_time": "2022-06-22T17:23:56.438Z"
   },
   {
    "duration": 116,
    "start_time": "2022-06-22T17:23:56.532Z"
   },
   {
    "duration": 22,
    "start_time": "2022-06-22T17:23:56.650Z"
   },
   {
    "duration": 8,
    "start_time": "2022-06-22T17:23:56.674Z"
   },
   {
    "duration": 10,
    "start_time": "2022-06-22T17:23:56.683Z"
   },
   {
    "duration": 9,
    "start_time": "2022-06-22T17:23:56.694Z"
   },
   {
    "duration": 35,
    "start_time": "2022-06-22T17:23:56.705Z"
   },
   {
    "duration": 86,
    "start_time": "2022-06-22T17:23:56.743Z"
   },
   {
    "duration": 1672,
    "start_time": "2022-06-22T17:23:56.831Z"
   },
   {
    "duration": 37,
    "start_time": "2022-06-22T17:23:58.504Z"
   },
   {
    "duration": 16248,
    "start_time": "2022-06-22T17:23:58.542Z"
   },
   {
    "duration": 4414,
    "start_time": "2022-06-22T17:24:14.792Z"
   },
   {
    "duration": 3,
    "start_time": "2022-06-22T17:28:46.404Z"
   },
   {
    "duration": 16078,
    "start_time": "2022-06-22T17:28:54.076Z"
   },
   {
    "duration": 7698,
    "start_time": "2022-06-22T17:29:28.004Z"
   },
   {
    "duration": 4,
    "start_time": "2022-06-22T17:30:20.153Z"
   },
   {
    "duration": 8107,
    "start_time": "2022-06-22T17:32:02.510Z"
   },
   {
    "duration": 4,
    "start_time": "2022-06-22T17:32:30.206Z"
   },
   {
    "duration": 711,
    "start_time": "2022-06-22T17:34:40.507Z"
   },
   {
    "duration": 6,
    "start_time": "2022-06-22T17:35:29.125Z"
   },
   {
    "duration": 1412,
    "start_time": "2022-06-22T17:35:47.531Z"
   },
   {
    "duration": 51,
    "start_time": "2022-06-22T17:35:48.945Z"
   },
   {
    "duration": 10,
    "start_time": "2022-06-22T17:35:48.997Z"
   },
   {
    "duration": 3,
    "start_time": "2022-06-22T17:35:49.008Z"
   },
   {
    "duration": 4,
    "start_time": "2022-06-22T17:35:49.013Z"
   },
   {
    "duration": 9,
    "start_time": "2022-06-22T17:35:49.019Z"
   },
   {
    "duration": 13,
    "start_time": "2022-06-22T17:35:49.029Z"
   },
   {
    "duration": 11,
    "start_time": "2022-06-22T17:35:49.043Z"
   },
   {
    "duration": 234,
    "start_time": "2022-06-22T17:35:49.055Z"
   },
   {
    "duration": 238,
    "start_time": "2022-06-22T17:35:49.292Z"
   },
   {
    "duration": 291,
    "start_time": "2022-06-22T17:35:49.532Z"
   },
   {
    "duration": 7,
    "start_time": "2022-06-22T17:35:49.830Z"
   },
   {
    "duration": 672,
    "start_time": "2022-06-22T17:35:49.838Z"
   },
   {
    "duration": 224,
    "start_time": "2022-06-22T17:35:50.512Z"
   },
   {
    "duration": 196,
    "start_time": "2022-06-22T17:35:50.738Z"
   },
   {
    "duration": 160,
    "start_time": "2022-06-22T17:35:50.936Z"
   },
   {
    "duration": 167,
    "start_time": "2022-06-22T17:35:51.097Z"
   },
   {
    "duration": 425,
    "start_time": "2022-06-22T17:35:51.266Z"
   },
   {
    "duration": 8,
    "start_time": "2022-06-22T17:35:51.693Z"
   },
   {
    "duration": 1528,
    "start_time": "2022-06-22T17:35:51.702Z"
   },
   {
    "duration": 5,
    "start_time": "2022-06-22T17:35:53.232Z"
   },
   {
    "duration": 127,
    "start_time": "2022-06-22T17:35:53.239Z"
   },
   {
    "duration": 20,
    "start_time": "2022-06-22T17:35:53.367Z"
   },
   {
    "duration": 6,
    "start_time": "2022-06-22T17:35:53.389Z"
   },
   {
    "duration": 13,
    "start_time": "2022-06-22T17:35:53.397Z"
   },
   {
    "duration": 20,
    "start_time": "2022-06-22T17:35:53.411Z"
   },
   {
    "duration": 27,
    "start_time": "2022-06-22T17:35:53.432Z"
   },
   {
    "duration": 69,
    "start_time": "2022-06-22T17:35:53.461Z"
   },
   {
    "duration": 1675,
    "start_time": "2022-06-22T17:35:53.532Z"
   },
   {
    "duration": 38,
    "start_time": "2022-06-22T17:35:55.209Z"
   },
   {
    "duration": 16301,
    "start_time": "2022-06-22T17:35:55.249Z"
   },
   {
    "duration": 4317,
    "start_time": "2022-06-22T17:36:11.552Z"
   },
   {
    "duration": 7508,
    "start_time": "2022-06-22T17:36:15.870Z"
   },
   {
    "duration": 3,
    "start_time": "2022-06-22T17:36:23.379Z"
   },
   {
    "duration": 679,
    "start_time": "2022-06-22T17:36:23.384Z"
   },
   {
    "duration": 6,
    "start_time": "2022-06-22T17:36:24.065Z"
   },
   {
    "duration": 770,
    "start_time": "2022-06-22T17:38:00.177Z"
   },
   {
    "duration": 5,
    "start_time": "2022-06-22T17:38:01.805Z"
   },
   {
    "duration": 696,
    "start_time": "2022-06-22T17:38:08.442Z"
   },
   {
    "duration": 6,
    "start_time": "2022-06-22T17:38:09.640Z"
   },
   {
    "duration": 17,
    "start_time": "2022-06-22T17:42:29.229Z"
   },
   {
    "duration": 24,
    "start_time": "2022-06-22T17:43:46.052Z"
   },
   {
    "duration": 6,
    "start_time": "2022-06-22T17:44:33.477Z"
   },
   {
    "duration": 111,
    "start_time": "2022-06-22T17:44:48.490Z"
   },
   {
    "duration": 1436,
    "start_time": "2022-06-22T17:45:03.600Z"
   },
   {
    "duration": 55,
    "start_time": "2022-06-22T17:45:05.038Z"
   },
   {
    "duration": 11,
    "start_time": "2022-06-22T17:45:05.095Z"
   },
   {
    "duration": 3,
    "start_time": "2022-06-22T17:45:05.108Z"
   },
   {
    "duration": 6,
    "start_time": "2022-06-22T17:45:05.113Z"
   },
   {
    "duration": 9,
    "start_time": "2022-06-22T17:45:05.121Z"
   },
   {
    "duration": 13,
    "start_time": "2022-06-22T17:45:05.131Z"
   },
   {
    "duration": 11,
    "start_time": "2022-06-22T17:45:05.146Z"
   },
   {
    "duration": 242,
    "start_time": "2022-06-22T17:45:05.159Z"
   },
   {
    "duration": 232,
    "start_time": "2022-06-22T17:45:05.403Z"
   },
   {
    "duration": 289,
    "start_time": "2022-06-22T17:45:05.636Z"
   },
   {
    "duration": 7,
    "start_time": "2022-06-22T17:45:05.929Z"
   },
   {
    "duration": 670,
    "start_time": "2022-06-22T17:45:05.938Z"
   },
   {
    "duration": 204,
    "start_time": "2022-06-22T17:45:06.609Z"
   },
   {
    "duration": 199,
    "start_time": "2022-06-22T17:45:06.815Z"
   },
   {
    "duration": 149,
    "start_time": "2022-06-22T17:45:07.015Z"
   },
   {
    "duration": 156,
    "start_time": "2022-06-22T17:45:07.166Z"
   },
   {
    "duration": 430,
    "start_time": "2022-06-22T17:45:07.329Z"
   },
   {
    "duration": 9,
    "start_time": "2022-06-22T17:45:07.761Z"
   },
   {
    "duration": 1757,
    "start_time": "2022-06-22T17:45:07.772Z"
   },
   {
    "duration": 5,
    "start_time": "2022-06-22T17:45:09.531Z"
   },
   {
    "duration": 116,
    "start_time": "2022-06-22T17:45:09.539Z"
   },
   {
    "duration": 23,
    "start_time": "2022-06-22T17:45:09.657Z"
   },
   {
    "duration": 8,
    "start_time": "2022-06-22T17:45:09.681Z"
   },
   {
    "duration": 6,
    "start_time": "2022-06-22T17:45:09.690Z"
   },
   {
    "duration": 9,
    "start_time": "2022-06-22T17:45:09.698Z"
   },
   {
    "duration": 100,
    "start_time": "2022-06-22T17:45:09.729Z"
   },
   {
    "duration": 7,
    "start_time": "2022-06-22T17:45:09.833Z"
   },
   {
    "duration": 1824,
    "start_time": "2022-06-22T17:45:09.841Z"
   },
   {
    "duration": 32,
    "start_time": "2022-06-22T17:45:11.666Z"
   },
   {
    "duration": 17093,
    "start_time": "2022-06-22T17:45:11.699Z"
   },
   {
    "duration": 4780,
    "start_time": "2022-06-22T17:45:28.793Z"
   },
   {
    "duration": 7864,
    "start_time": "2022-06-22T17:45:33.575Z"
   },
   {
    "duration": 4,
    "start_time": "2022-06-22T17:45:41.440Z"
   },
   {
    "duration": 819,
    "start_time": "2022-06-22T17:45:41.446Z"
   },
   {
    "duration": 7,
    "start_time": "2022-06-22T17:45:42.267Z"
   },
   {
    "duration": 22,
    "start_time": "2022-06-22T17:45:42.275Z"
   },
   {
    "duration": 114,
    "start_time": "2022-06-22T17:45:42.298Z"
   },
   {
    "duration": 6,
    "start_time": "2022-06-22T17:46:04.876Z"
   },
   {
    "duration": 1412,
    "start_time": "2022-06-22T17:46:13.658Z"
   },
   {
    "duration": 53,
    "start_time": "2022-06-22T17:46:15.072Z"
   },
   {
    "duration": 9,
    "start_time": "2022-06-22T17:46:15.127Z"
   },
   {
    "duration": 3,
    "start_time": "2022-06-22T17:46:15.138Z"
   },
   {
    "duration": 6,
    "start_time": "2022-06-22T17:46:15.143Z"
   },
   {
    "duration": 7,
    "start_time": "2022-06-22T17:46:15.151Z"
   },
   {
    "duration": 24,
    "start_time": "2022-06-22T17:46:15.159Z"
   },
   {
    "duration": 12,
    "start_time": "2022-06-22T17:46:15.185Z"
   },
   {
    "duration": 237,
    "start_time": "2022-06-22T17:46:15.198Z"
   },
   {
    "duration": 224,
    "start_time": "2022-06-22T17:46:15.437Z"
   },
   {
    "duration": 285,
    "start_time": "2022-06-22T17:46:15.663Z"
   },
   {
    "duration": 6,
    "start_time": "2022-06-22T17:46:15.949Z"
   },
   {
    "duration": 685,
    "start_time": "2022-06-22T17:46:15.957Z"
   },
   {
    "duration": 203,
    "start_time": "2022-06-22T17:46:16.645Z"
   },
   {
    "duration": 179,
    "start_time": "2022-06-22T17:46:16.850Z"
   },
   {
    "duration": 161,
    "start_time": "2022-06-22T17:46:17.031Z"
   },
   {
    "duration": 160,
    "start_time": "2022-06-22T17:46:17.194Z"
   },
   {
    "duration": 407,
    "start_time": "2022-06-22T17:46:17.356Z"
   },
   {
    "duration": 8,
    "start_time": "2022-06-22T17:46:17.765Z"
   },
   {
    "duration": 1658,
    "start_time": "2022-06-22T17:46:17.775Z"
   },
   {
    "duration": 94,
    "start_time": "2022-06-22T17:46:19.435Z"
   },
   {
    "duration": 117,
    "start_time": "2022-06-22T17:46:19.534Z"
   },
   {
    "duration": 24,
    "start_time": "2022-06-22T17:46:19.652Z"
   },
   {
    "duration": 9,
    "start_time": "2022-06-22T17:46:19.678Z"
   },
   {
    "duration": 7,
    "start_time": "2022-06-22T17:46:19.688Z"
   },
   {
    "duration": 39,
    "start_time": "2022-06-22T17:46:19.696Z"
   },
   {
    "duration": 14,
    "start_time": "2022-06-22T17:46:19.737Z"
   },
   {
    "duration": 81,
    "start_time": "2022-06-22T17:46:19.753Z"
   },
   {
    "duration": 1801,
    "start_time": "2022-06-22T17:46:19.836Z"
   },
   {
    "duration": 36,
    "start_time": "2022-06-22T17:46:21.639Z"
   },
   {
    "duration": 16868,
    "start_time": "2022-06-22T17:46:21.676Z"
   },
   {
    "duration": 4342,
    "start_time": "2022-06-22T17:46:38.545Z"
   },
   {
    "duration": 7708,
    "start_time": "2022-06-22T17:46:42.889Z"
   },
   {
    "duration": 4,
    "start_time": "2022-06-22T17:46:50.599Z"
   },
   {
    "duration": 708,
    "start_time": "2022-06-22T17:46:50.604Z"
   },
   {
    "duration": 7,
    "start_time": "2022-06-22T17:46:51.314Z"
   },
   {
    "duration": 25,
    "start_time": "2022-06-22T17:46:51.323Z"
   },
   {
    "duration": 8,
    "start_time": "2022-06-22T17:46:51.349Z"
   },
   {
    "duration": 1412,
    "start_time": "2022-06-22T17:48:13.136Z"
   },
   {
    "duration": 53,
    "start_time": "2022-06-22T17:48:14.550Z"
   },
   {
    "duration": 10,
    "start_time": "2022-06-22T17:48:14.605Z"
   },
   {
    "duration": 3,
    "start_time": "2022-06-22T17:48:14.617Z"
   },
   {
    "duration": 8,
    "start_time": "2022-06-22T17:48:14.622Z"
   },
   {
    "duration": 6,
    "start_time": "2022-06-22T17:48:14.631Z"
   },
   {
    "duration": 13,
    "start_time": "2022-06-22T17:48:14.638Z"
   },
   {
    "duration": 12,
    "start_time": "2022-06-22T17:48:14.653Z"
   },
   {
    "duration": 233,
    "start_time": "2022-06-22T17:48:14.667Z"
   },
   {
    "duration": 248,
    "start_time": "2022-06-22T17:48:14.902Z"
   },
   {
    "duration": 298,
    "start_time": "2022-06-22T17:48:15.152Z"
   },
   {
    "duration": 7,
    "start_time": "2022-06-22T17:48:15.451Z"
   },
   {
    "duration": 672,
    "start_time": "2022-06-22T17:48:15.459Z"
   },
   {
    "duration": 208,
    "start_time": "2022-06-22T17:48:16.134Z"
   },
   {
    "duration": 177,
    "start_time": "2022-06-22T17:48:16.344Z"
   },
   {
    "duration": 142,
    "start_time": "2022-06-22T17:48:16.523Z"
   },
   {
    "duration": 144,
    "start_time": "2022-06-22T17:48:16.666Z"
   },
   {
    "duration": 427,
    "start_time": "2022-06-22T17:48:16.812Z"
   },
   {
    "duration": 9,
    "start_time": "2022-06-22T17:48:17.241Z"
   },
   {
    "duration": 1781,
    "start_time": "2022-06-22T17:48:17.251Z"
   },
   {
    "duration": 5,
    "start_time": "2022-06-22T17:48:19.034Z"
   },
   {
    "duration": 129,
    "start_time": "2022-06-22T17:48:19.130Z"
   },
   {
    "duration": 22,
    "start_time": "2022-06-22T17:48:19.260Z"
   },
   {
    "duration": 8,
    "start_time": "2022-06-22T17:48:19.284Z"
   },
   {
    "duration": 14,
    "start_time": "2022-06-22T17:48:19.293Z"
   },
   {
    "duration": 21,
    "start_time": "2022-06-22T17:48:19.309Z"
   },
   {
    "duration": 15,
    "start_time": "2022-06-22T17:48:19.332Z"
   },
   {
    "duration": 85,
    "start_time": "2022-06-22T17:48:19.349Z"
   },
   {
    "duration": 1820,
    "start_time": "2022-06-22T17:48:19.436Z"
   },
   {
    "duration": 34,
    "start_time": "2022-06-22T17:48:21.258Z"
   },
   {
    "duration": 18739,
    "start_time": "2022-06-22T17:48:21.294Z"
   },
   {
    "duration": 4364,
    "start_time": "2022-06-22T17:48:40.034Z"
   },
   {
    "duration": 7728,
    "start_time": "2022-06-22T17:48:44.400Z"
   },
   {
    "duration": 4,
    "start_time": "2022-06-22T17:48:52.129Z"
   },
   {
    "duration": 660,
    "start_time": "2022-06-22T17:48:52.134Z"
   },
   {
    "duration": 6,
    "start_time": "2022-06-22T17:48:52.795Z"
   },
   {
    "duration": 28,
    "start_time": "2022-06-22T17:48:52.803Z"
   },
   {
    "duration": 30,
    "start_time": "2022-06-22T17:48:52.833Z"
   },
   {
    "duration": 1853,
    "start_time": "2022-06-22T17:51:54.006Z"
   },
   {
    "duration": 52,
    "start_time": "2022-06-22T17:51:55.861Z"
   },
   {
    "duration": 13,
    "start_time": "2022-06-22T17:51:55.914Z"
   },
   {
    "duration": 3,
    "start_time": "2022-06-22T17:51:55.929Z"
   },
   {
    "duration": 8,
    "start_time": "2022-06-22T17:51:55.934Z"
   },
   {
    "duration": 8,
    "start_time": "2022-06-22T17:51:55.944Z"
   },
   {
    "duration": 16,
    "start_time": "2022-06-22T17:51:55.954Z"
   },
   {
    "duration": 13,
    "start_time": "2022-06-22T17:51:55.971Z"
   },
   {
    "duration": 266,
    "start_time": "2022-06-22T17:51:55.985Z"
   },
   {
    "duration": 228,
    "start_time": "2022-06-22T17:51:56.254Z"
   },
   {
    "duration": 287,
    "start_time": "2022-06-22T17:51:56.483Z"
   },
   {
    "duration": 7,
    "start_time": "2022-06-22T17:51:56.772Z"
   },
   {
    "duration": 640,
    "start_time": "2022-06-22T17:51:56.780Z"
   },
   {
    "duration": 199,
    "start_time": "2022-06-22T17:51:57.422Z"
   },
   {
    "duration": 185,
    "start_time": "2022-06-22T17:51:57.628Z"
   },
   {
    "duration": 146,
    "start_time": "2022-06-22T17:51:57.814Z"
   },
   {
    "duration": 144,
    "start_time": "2022-06-22T17:51:57.961Z"
   },
   {
    "duration": 392,
    "start_time": "2022-06-22T17:51:58.107Z"
   },
   {
    "duration": 8,
    "start_time": "2022-06-22T17:51:58.501Z"
   },
   {
    "duration": 1427,
    "start_time": "2022-06-22T17:51:58.511Z"
   },
   {
    "duration": 5,
    "start_time": "2022-06-22T17:52:00.030Z"
   },
   {
    "duration": 103,
    "start_time": "2022-06-22T17:52:00.037Z"
   },
   {
    "duration": 22,
    "start_time": "2022-06-22T17:52:00.141Z"
   },
   {
    "duration": 21,
    "start_time": "2022-06-22T17:52:00.164Z"
   },
   {
    "duration": 27,
    "start_time": "2022-06-22T17:52:00.187Z"
   },
   {
    "duration": 32,
    "start_time": "2022-06-22T17:52:00.216Z"
   },
   {
    "duration": 18,
    "start_time": "2022-06-22T17:52:00.250Z"
   },
   {
    "duration": 22,
    "start_time": "2022-06-22T17:52:00.272Z"
   },
   {
    "duration": 942,
    "start_time": "2022-06-22T17:52:00.330Z"
   },
   {
    "duration": 19,
    "start_time": "2022-06-22T17:52:01.274Z"
   },
   {
    "duration": 7313,
    "start_time": "2022-06-22T17:52:01.294Z"
   },
   {
    "duration": 1827,
    "start_time": "2022-06-22T17:52:08.608Z"
   },
   {
    "duration": 3552,
    "start_time": "2022-06-22T17:52:10.437Z"
   },
   {
    "duration": 3,
    "start_time": "2022-06-22T17:52:13.991Z"
   },
   {
    "duration": 531,
    "start_time": "2022-06-22T17:52:13.996Z"
   },
   {
    "duration": 5,
    "start_time": "2022-06-22T17:52:14.529Z"
   },
   {
    "duration": 20,
    "start_time": "2022-06-22T17:52:14.535Z"
   },
   {
    "duration": 6,
    "start_time": "2022-06-22T17:52:14.557Z"
   },
   {
    "duration": 1337,
    "start_time": "2022-06-22T17:52:51.434Z"
   },
   {
    "duration": 49,
    "start_time": "2022-06-22T17:52:52.773Z"
   },
   {
    "duration": 9,
    "start_time": "2022-06-22T17:52:52.824Z"
   },
   {
    "duration": 3,
    "start_time": "2022-06-22T17:52:52.834Z"
   },
   {
    "duration": 5,
    "start_time": "2022-06-22T17:52:52.838Z"
   },
   {
    "duration": 7,
    "start_time": "2022-06-22T17:52:52.844Z"
   },
   {
    "duration": 12,
    "start_time": "2022-06-22T17:52:52.852Z"
   },
   {
    "duration": 9,
    "start_time": "2022-06-22T17:52:52.866Z"
   },
   {
    "duration": 227,
    "start_time": "2022-06-22T17:52:52.876Z"
   },
   {
    "duration": 232,
    "start_time": "2022-06-22T17:52:53.106Z"
   },
   {
    "duration": 270,
    "start_time": "2022-06-22T17:52:53.340Z"
   },
   {
    "duration": 9,
    "start_time": "2022-06-22T17:52:53.612Z"
   },
   {
    "duration": 629,
    "start_time": "2022-06-22T17:52:53.629Z"
   },
   {
    "duration": 194,
    "start_time": "2022-06-22T17:52:54.260Z"
   },
   {
    "duration": 175,
    "start_time": "2022-06-22T17:52:54.456Z"
   },
   {
    "duration": 141,
    "start_time": "2022-06-22T17:52:54.633Z"
   },
   {
    "duration": 135,
    "start_time": "2022-06-22T17:52:54.776Z"
   },
   {
    "duration": 386,
    "start_time": "2022-06-22T17:52:54.913Z"
   },
   {
    "duration": 8,
    "start_time": "2022-06-22T17:52:55.301Z"
   },
   {
    "duration": 1426,
    "start_time": "2022-06-22T17:52:55.310Z"
   },
   {
    "duration": 92,
    "start_time": "2022-06-22T17:52:56.738Z"
   },
   {
    "duration": 124,
    "start_time": "2022-06-22T17:52:56.832Z"
   },
   {
    "duration": 19,
    "start_time": "2022-06-22T17:52:56.957Z"
   },
   {
    "duration": 7,
    "start_time": "2022-06-22T17:52:56.977Z"
   },
   {
    "duration": 6,
    "start_time": "2022-06-22T17:52:56.985Z"
   },
   {
    "duration": 9,
    "start_time": "2022-06-22T17:52:56.992Z"
   },
   {
    "duration": 36,
    "start_time": "2022-06-22T17:52:57.002Z"
   },
   {
    "duration": 88,
    "start_time": "2022-06-22T17:52:57.042Z"
   },
   {
    "duration": 1663,
    "start_time": "2022-06-22T17:52:57.133Z"
   },
   {
    "duration": 43,
    "start_time": "2022-06-22T17:52:58.798Z"
   },
   {
    "duration": 16114,
    "start_time": "2022-06-22T17:52:58.843Z"
   },
   {
    "duration": 4464,
    "start_time": "2022-06-22T17:53:14.959Z"
   },
   {
    "duration": 7291,
    "start_time": "2022-06-22T17:53:19.424Z"
   },
   {
    "duration": 4,
    "start_time": "2022-06-22T17:53:26.716Z"
   },
   {
    "duration": 733,
    "start_time": "2022-06-22T17:53:26.721Z"
   },
   {
    "duration": 6,
    "start_time": "2022-06-22T17:53:27.456Z"
   },
   {
    "duration": 19,
    "start_time": "2022-06-22T17:53:27.463Z"
   },
   {
    "duration": 6,
    "start_time": "2022-06-22T17:53:27.484Z"
   },
   {
    "duration": 7,
    "start_time": "2022-06-22T17:56:21.974Z"
   },
   {
    "duration": 8,
    "start_time": "2022-06-22T17:57:26.810Z"
   },
   {
    "duration": 52,
    "start_time": "2022-06-22T17:58:03.666Z"
   },
   {
    "duration": 1399,
    "start_time": "2022-06-22T17:58:51.067Z"
   },
   {
    "duration": 53,
    "start_time": "2022-06-22T17:58:52.467Z"
   },
   {
    "duration": 10,
    "start_time": "2022-06-22T17:58:52.521Z"
   },
   {
    "duration": 2,
    "start_time": "2022-06-22T17:58:52.533Z"
   },
   {
    "duration": 5,
    "start_time": "2022-06-22T17:58:52.537Z"
   },
   {
    "duration": 4,
    "start_time": "2022-06-22T17:58:52.544Z"
   },
   {
    "duration": 12,
    "start_time": "2022-06-22T17:58:52.549Z"
   },
   {
    "duration": 10,
    "start_time": "2022-06-22T17:58:52.563Z"
   },
   {
    "duration": 245,
    "start_time": "2022-06-22T17:58:52.574Z"
   },
   {
    "duration": 243,
    "start_time": "2022-06-22T17:58:52.822Z"
   },
   {
    "duration": 306,
    "start_time": "2022-06-22T17:58:53.066Z"
   },
   {
    "duration": 9,
    "start_time": "2022-06-22T17:58:53.374Z"
   },
   {
    "duration": 713,
    "start_time": "2022-06-22T17:58:53.385Z"
   },
   {
    "duration": 221,
    "start_time": "2022-06-22T17:58:54.100Z"
   },
   {
    "duration": 192,
    "start_time": "2022-06-22T17:58:54.322Z"
   },
   {
    "duration": 154,
    "start_time": "2022-06-22T17:58:54.515Z"
   },
   {
    "duration": 163,
    "start_time": "2022-06-22T17:58:54.671Z"
   },
   {
    "duration": 415,
    "start_time": "2022-06-22T17:58:54.836Z"
   },
   {
    "duration": 9,
    "start_time": "2022-06-22T17:58:55.253Z"
   },
   {
    "duration": 1474,
    "start_time": "2022-06-22T17:58:55.263Z"
   },
   {
    "duration": 91,
    "start_time": "2022-06-22T17:58:56.739Z"
   },
   {
    "duration": 134,
    "start_time": "2022-06-22T17:58:56.832Z"
   },
   {
    "duration": 21,
    "start_time": "2022-06-22T17:58:56.967Z"
   },
   {
    "duration": 39,
    "start_time": "2022-06-22T17:58:56.989Z"
   },
   {
    "duration": 5,
    "start_time": "2022-06-22T17:58:57.030Z"
   },
   {
    "duration": 6,
    "start_time": "2022-06-22T17:58:57.037Z"
   },
   {
    "duration": 8,
    "start_time": "2022-06-22T17:58:57.044Z"
   },
   {
    "duration": 15,
    "start_time": "2022-06-22T17:58:57.055Z"
   },
   {
    "duration": 3,
    "start_time": "2022-06-22T17:58:57.129Z"
   },
   {
    "duration": 1632,
    "start_time": "2022-06-22T17:58:57.134Z"
   },
   {
    "duration": 33,
    "start_time": "2022-06-22T17:58:58.768Z"
   },
   {
    "duration": 16183,
    "start_time": "2022-06-22T17:58:58.803Z"
   },
   {
    "duration": 4329,
    "start_time": "2022-06-22T17:59:14.988Z"
   },
   {
    "duration": 7339,
    "start_time": "2022-06-22T17:59:19.319Z"
   },
   {
    "duration": 5,
    "start_time": "2022-06-22T17:59:26.660Z"
   },
   {
    "duration": 652,
    "start_time": "2022-06-22T17:59:26.667Z"
   },
   {
    "duration": 8,
    "start_time": "2022-06-22T17:59:27.320Z"
   },
   {
    "duration": 9,
    "start_time": "2022-06-22T17:59:27.329Z"
   },
   {
    "duration": 22,
    "start_time": "2022-06-22T17:59:27.340Z"
   },
   {
    "duration": 8,
    "start_time": "2022-06-22T17:59:27.363Z"
   },
   {
    "duration": 1314,
    "start_time": "2022-06-22T18:02:21.008Z"
   },
   {
    "duration": 51,
    "start_time": "2022-06-22T18:02:22.323Z"
   },
   {
    "duration": 10,
    "start_time": "2022-06-22T18:02:22.375Z"
   },
   {
    "duration": 2,
    "start_time": "2022-06-22T18:02:22.386Z"
   },
   {
    "duration": 5,
    "start_time": "2022-06-22T18:02:22.390Z"
   },
   {
    "duration": 7,
    "start_time": "2022-06-22T18:02:22.396Z"
   },
   {
    "duration": 11,
    "start_time": "2022-06-22T18:02:22.404Z"
   },
   {
    "duration": 15,
    "start_time": "2022-06-22T18:02:22.417Z"
   },
   {
    "duration": 202,
    "start_time": "2022-06-22T18:02:22.434Z"
   },
   {
    "duration": 212,
    "start_time": "2022-06-22T18:02:22.638Z"
   },
   {
    "duration": 262,
    "start_time": "2022-06-22T18:02:22.852Z"
   },
   {
    "duration": 7,
    "start_time": "2022-06-22T18:02:23.115Z"
   },
   {
    "duration": 657,
    "start_time": "2022-06-22T18:02:23.128Z"
   },
   {
    "duration": 191,
    "start_time": "2022-06-22T18:02:23.788Z"
   },
   {
    "duration": 165,
    "start_time": "2022-06-22T18:02:23.980Z"
   },
   {
    "duration": 134,
    "start_time": "2022-06-22T18:02:24.146Z"
   },
   {
    "duration": 134,
    "start_time": "2022-06-22T18:02:24.282Z"
   },
   {
    "duration": 379,
    "start_time": "2022-06-22T18:02:24.418Z"
   },
   {
    "duration": 8,
    "start_time": "2022-06-22T18:02:24.799Z"
   },
   {
    "duration": 1428,
    "start_time": "2022-06-22T18:02:24.808Z"
   },
   {
    "duration": 92,
    "start_time": "2022-06-22T18:02:26.238Z"
   },
   {
    "duration": 104,
    "start_time": "2022-06-22T18:02:26.334Z"
   },
   {
    "duration": 10,
    "start_time": "2022-06-22T18:02:26.440Z"
   },
   {
    "duration": 6,
    "start_time": "2022-06-22T18:02:26.452Z"
   },
   {
    "duration": 5,
    "start_time": "2022-06-22T18:02:26.459Z"
   },
   {
    "duration": 12,
    "start_time": "2022-06-22T18:02:26.465Z"
   },
   {
    "duration": 11,
    "start_time": "2022-06-22T18:02:26.478Z"
   },
   {
    "duration": 39,
    "start_time": "2022-06-22T18:02:26.490Z"
   },
   {
    "duration": 777,
    "start_time": "2022-06-22T18:02:26.531Z"
   },
   {
    "duration": 21,
    "start_time": "2022-06-22T18:02:27.310Z"
   },
   {
    "duration": 6525,
    "start_time": "2022-06-22T18:02:27.333Z"
   },
   {
    "duration": 1499,
    "start_time": "2022-06-22T18:02:33.860Z"
   },
   {
    "duration": 3141,
    "start_time": "2022-06-22T18:02:35.360Z"
   },
   {
    "duration": 4,
    "start_time": "2022-06-22T18:02:38.503Z"
   },
   {
    "duration": 595,
    "start_time": "2022-06-22T18:02:38.508Z"
   },
   {
    "duration": 5,
    "start_time": "2022-06-22T18:02:39.104Z"
   },
   {
    "duration": 11,
    "start_time": "2022-06-22T18:02:39.110Z"
   },
   {
    "duration": 18,
    "start_time": "2022-06-22T18:02:39.122Z"
   },
   {
    "duration": 6,
    "start_time": "2022-06-22T18:02:39.142Z"
   },
   {
    "duration": 1402,
    "start_time": "2022-06-22T18:03:00.829Z"
   },
   {
    "duration": 50,
    "start_time": "2022-06-22T18:03:02.232Z"
   },
   {
    "duration": 8,
    "start_time": "2022-06-22T18:03:02.284Z"
   },
   {
    "duration": 13,
    "start_time": "2022-06-22T18:03:02.294Z"
   },
   {
    "duration": 6,
    "start_time": "2022-06-22T18:03:02.308Z"
   },
   {
    "duration": 9,
    "start_time": "2022-06-22T18:03:02.315Z"
   },
   {
    "duration": 13,
    "start_time": "2022-06-22T18:03:02.325Z"
   },
   {
    "duration": 9,
    "start_time": "2022-06-22T18:03:02.339Z"
   },
   {
    "duration": 211,
    "start_time": "2022-06-22T18:03:02.350Z"
   },
   {
    "duration": 209,
    "start_time": "2022-06-22T18:03:02.563Z"
   },
   {
    "duration": 273,
    "start_time": "2022-06-22T18:03:02.774Z"
   },
   {
    "duration": 7,
    "start_time": "2022-06-22T18:03:03.049Z"
   },
   {
    "duration": 656,
    "start_time": "2022-06-22T18:03:03.057Z"
   },
   {
    "duration": 184,
    "start_time": "2022-06-22T18:03:03.714Z"
   },
   {
    "duration": 163,
    "start_time": "2022-06-22T18:03:03.900Z"
   },
   {
    "duration": 146,
    "start_time": "2022-06-22T18:03:04.064Z"
   },
   {
    "duration": 136,
    "start_time": "2022-06-22T18:03:04.212Z"
   },
   {
    "duration": 389,
    "start_time": "2022-06-22T18:03:04.350Z"
   },
   {
    "duration": 8,
    "start_time": "2022-06-22T18:03:04.741Z"
   },
   {
    "duration": 1386,
    "start_time": "2022-06-22T18:03:04.751Z"
   },
   {
    "duration": 5,
    "start_time": "2022-06-22T18:03:06.228Z"
   },
   {
    "duration": 118,
    "start_time": "2022-06-22T18:03:06.234Z"
   },
   {
    "duration": 19,
    "start_time": "2022-06-22T18:03:06.354Z"
   },
   {
    "duration": 7,
    "start_time": "2022-06-22T18:03:06.374Z"
   },
   {
    "duration": 5,
    "start_time": "2022-06-22T18:03:06.382Z"
   },
   {
    "duration": 8,
    "start_time": "2022-06-22T18:03:06.388Z"
   },
   {
    "duration": 37,
    "start_time": "2022-06-22T18:03:06.397Z"
   },
   {
    "duration": 2,
    "start_time": "2022-06-22T18:03:06.437Z"
   },
   {
    "duration": 1601,
    "start_time": "2022-06-22T18:03:06.530Z"
   },
   {
    "duration": 29,
    "start_time": "2022-06-22T18:03:08.133Z"
   },
   {
    "duration": 15244,
    "start_time": "2022-06-22T18:03:08.164Z"
   },
   {
    "duration": 4077,
    "start_time": "2022-06-22T18:03:23.409Z"
   },
   {
    "duration": 7322,
    "start_time": "2022-06-22T18:03:27.487Z"
   },
   {
    "duration": 4,
    "start_time": "2022-06-22T18:03:34.811Z"
   },
   {
    "duration": 660,
    "start_time": "2022-06-22T18:03:34.817Z"
   },
   {
    "duration": 6,
    "start_time": "2022-06-22T18:03:35.479Z"
   },
   {
    "duration": 7,
    "start_time": "2022-06-22T18:03:35.486Z"
   },
   {
    "duration": 18,
    "start_time": "2022-06-22T18:03:35.494Z"
   },
   {
    "duration": 6,
    "start_time": "2022-06-22T18:03:35.513Z"
   },
   {
    "duration": 1346,
    "start_time": "2022-06-22T18:04:04.419Z"
   },
   {
    "duration": 51,
    "start_time": "2022-06-22T18:04:05.766Z"
   },
   {
    "duration": 9,
    "start_time": "2022-06-22T18:04:05.818Z"
   },
   {
    "duration": 3,
    "start_time": "2022-06-22T18:04:05.829Z"
   },
   {
    "duration": 8,
    "start_time": "2022-06-22T18:04:05.834Z"
   },
   {
    "duration": 6,
    "start_time": "2022-06-22T18:04:05.843Z"
   },
   {
    "duration": 13,
    "start_time": "2022-06-22T18:04:05.850Z"
   },
   {
    "duration": 10,
    "start_time": "2022-06-22T18:04:05.865Z"
   },
   {
    "duration": 250,
    "start_time": "2022-06-22T18:04:05.877Z"
   },
   {
    "duration": 215,
    "start_time": "2022-06-22T18:04:06.129Z"
   },
   {
    "duration": 256,
    "start_time": "2022-06-22T18:04:06.346Z"
   },
   {
    "duration": 6,
    "start_time": "2022-06-22T18:04:06.604Z"
   },
   {
    "duration": 618,
    "start_time": "2022-06-22T18:04:06.611Z"
   },
   {
    "duration": 201,
    "start_time": "2022-06-22T18:04:07.230Z"
   },
   {
    "duration": 167,
    "start_time": "2022-06-22T18:04:07.432Z"
   },
   {
    "duration": 138,
    "start_time": "2022-06-22T18:04:07.601Z"
   },
   {
    "duration": 145,
    "start_time": "2022-06-22T18:04:07.741Z"
   },
   {
    "duration": 372,
    "start_time": "2022-06-22T18:04:07.887Z"
   },
   {
    "duration": 9,
    "start_time": "2022-06-22T18:04:08.261Z"
   },
   {
    "duration": 1462,
    "start_time": "2022-06-22T18:04:08.271Z"
   },
   {
    "duration": 5,
    "start_time": "2022-06-22T18:04:09.735Z"
   },
   {
    "duration": 114,
    "start_time": "2022-06-22T18:04:09.834Z"
   },
   {
    "duration": 20,
    "start_time": "2022-06-22T18:04:09.950Z"
   },
   {
    "duration": 7,
    "start_time": "2022-06-22T18:04:09.971Z"
   },
   {
    "duration": 6,
    "start_time": "2022-06-22T18:04:09.980Z"
   },
   {
    "duration": 8,
    "start_time": "2022-06-22T18:04:09.988Z"
   },
   {
    "duration": 39,
    "start_time": "2022-06-22T18:04:09.997Z"
   },
   {
    "duration": 89,
    "start_time": "2022-06-22T18:04:10.040Z"
   },
   {
    "duration": 1588,
    "start_time": "2022-06-22T18:04:10.131Z"
   },
   {
    "duration": 36,
    "start_time": "2022-06-22T18:04:11.720Z"
   },
   {
    "duration": 15094,
    "start_time": "2022-06-22T18:04:11.758Z"
   },
   {
    "duration": 4122,
    "start_time": "2022-06-22T18:04:26.853Z"
   },
   {
    "duration": 6921,
    "start_time": "2022-06-22T18:04:30.976Z"
   },
   {
    "duration": 4,
    "start_time": "2022-06-22T18:04:37.899Z"
   },
   {
    "duration": 734,
    "start_time": "2022-06-22T18:04:37.904Z"
   },
   {
    "duration": 5,
    "start_time": "2022-06-22T18:04:38.640Z"
   },
   {
    "duration": 11,
    "start_time": "2022-06-22T18:04:38.646Z"
   },
   {
    "duration": 16,
    "start_time": "2022-06-22T18:04:38.659Z"
   },
   {
    "duration": 5,
    "start_time": "2022-06-22T18:04:38.676Z"
   },
   {
    "duration": 1318,
    "start_time": "2022-06-22T18:07:15.268Z"
   },
   {
    "duration": 50,
    "start_time": "2022-06-22T18:07:16.588Z"
   },
   {
    "duration": 9,
    "start_time": "2022-06-22T18:07:16.639Z"
   },
   {
    "duration": 3,
    "start_time": "2022-06-22T18:07:16.649Z"
   },
   {
    "duration": 5,
    "start_time": "2022-06-22T18:07:16.653Z"
   },
   {
    "duration": 5,
    "start_time": "2022-06-22T18:07:16.660Z"
   },
   {
    "duration": 12,
    "start_time": "2022-06-22T18:07:16.666Z"
   },
   {
    "duration": 10,
    "start_time": "2022-06-22T18:07:16.679Z"
   },
   {
    "duration": 225,
    "start_time": "2022-06-22T18:07:16.690Z"
   },
   {
    "duration": 248,
    "start_time": "2022-06-22T18:07:16.917Z"
   },
   {
    "duration": 278,
    "start_time": "2022-06-22T18:07:17.167Z"
   },
   {
    "duration": 7,
    "start_time": "2022-06-22T18:07:17.446Z"
   },
   {
    "duration": 622,
    "start_time": "2022-06-22T18:07:17.454Z"
   },
   {
    "duration": 204,
    "start_time": "2022-06-22T18:07:18.078Z"
   },
   {
    "duration": 181,
    "start_time": "2022-06-22T18:07:18.283Z"
   },
   {
    "duration": 148,
    "start_time": "2022-06-22T18:07:18.465Z"
   },
   {
    "duration": 139,
    "start_time": "2022-06-22T18:07:18.614Z"
   },
   {
    "duration": 369,
    "start_time": "2022-06-22T18:07:18.754Z"
   },
   {
    "duration": 8,
    "start_time": "2022-06-22T18:07:19.125Z"
   },
   {
    "duration": 1496,
    "start_time": "2022-06-22T18:07:19.134Z"
   },
   {
    "duration": 5,
    "start_time": "2022-06-22T18:07:20.631Z"
   },
   {
    "duration": 115,
    "start_time": "2022-06-22T18:07:20.639Z"
   },
   {
    "duration": 19,
    "start_time": "2022-06-22T18:07:20.756Z"
   },
   {
    "duration": 6,
    "start_time": "2022-06-22T18:07:20.776Z"
   },
   {
    "duration": 10,
    "start_time": "2022-06-22T18:07:20.783Z"
   },
   {
    "duration": 7,
    "start_time": "2022-06-22T18:07:20.794Z"
   },
   {
    "duration": 32,
    "start_time": "2022-06-22T18:07:20.803Z"
   },
   {
    "duration": 2,
    "start_time": "2022-06-22T18:07:20.838Z"
   },
   {
    "duration": 1607,
    "start_time": "2022-06-22T18:07:20.930Z"
   },
   {
    "duration": 30,
    "start_time": "2022-06-22T18:07:22.539Z"
   },
   {
    "duration": 15622,
    "start_time": "2022-06-22T18:07:22.571Z"
   },
   {
    "duration": 4078,
    "start_time": "2022-06-22T18:07:38.194Z"
   },
   {
    "duration": 7379,
    "start_time": "2022-06-22T18:07:42.274Z"
   },
   {
    "duration": 5,
    "start_time": "2022-06-22T18:07:49.654Z"
   },
   {
    "duration": 660,
    "start_time": "2022-06-22T18:07:49.660Z"
   },
   {
    "duration": 7,
    "start_time": "2022-06-22T18:07:50.322Z"
   },
   {
    "duration": 14,
    "start_time": "2022-06-22T18:07:50.330Z"
   },
   {
    "duration": 23,
    "start_time": "2022-06-22T18:07:50.345Z"
   },
   {
    "duration": 6,
    "start_time": "2022-06-22T18:07:50.369Z"
   },
   {
    "duration": 6,
    "start_time": "2022-06-22T18:11:20.453Z"
   },
   {
    "duration": 5,
    "start_time": "2022-06-22T18:12:39.988Z"
   },
   {
    "duration": 1325,
    "start_time": "2022-06-22T18:12:48.006Z"
   },
   {
    "duration": 52,
    "start_time": "2022-06-22T18:12:49.332Z"
   },
   {
    "duration": 10,
    "start_time": "2022-06-22T18:12:49.385Z"
   },
   {
    "duration": 3,
    "start_time": "2022-06-22T18:12:49.396Z"
   },
   {
    "duration": 6,
    "start_time": "2022-06-22T18:12:49.400Z"
   },
   {
    "duration": 5,
    "start_time": "2022-06-22T18:12:49.407Z"
   },
   {
    "duration": 17,
    "start_time": "2022-06-22T18:12:49.413Z"
   },
   {
    "duration": 11,
    "start_time": "2022-06-22T18:12:49.431Z"
   },
   {
    "duration": 213,
    "start_time": "2022-06-22T18:12:49.443Z"
   },
   {
    "duration": 218,
    "start_time": "2022-06-22T18:12:49.657Z"
   },
   {
    "duration": 277,
    "start_time": "2022-06-22T18:12:49.876Z"
   },
   {
    "duration": 7,
    "start_time": "2022-06-22T18:12:50.154Z"
   },
   {
    "duration": 631,
    "start_time": "2022-06-22T18:12:50.162Z"
   },
   {
    "duration": 199,
    "start_time": "2022-06-22T18:12:50.795Z"
   },
   {
    "duration": 177,
    "start_time": "2022-06-22T18:12:50.996Z"
   },
   {
    "duration": 134,
    "start_time": "2022-06-22T18:12:51.175Z"
   },
   {
    "duration": 132,
    "start_time": "2022-06-22T18:12:51.311Z"
   },
   {
    "duration": 359,
    "start_time": "2022-06-22T18:12:51.444Z"
   },
   {
    "duration": 7,
    "start_time": "2022-06-22T18:12:51.805Z"
   },
   {
    "duration": 1324,
    "start_time": "2022-06-22T18:12:51.813Z"
   },
   {
    "duration": 95,
    "start_time": "2022-06-22T18:12:53.138Z"
   },
   {
    "duration": 115,
    "start_time": "2022-06-22T18:12:53.237Z"
   },
   {
    "duration": 19,
    "start_time": "2022-06-22T18:12:53.353Z"
   },
   {
    "duration": 6,
    "start_time": "2022-06-22T18:12:53.373Z"
   },
   {
    "duration": 6,
    "start_time": "2022-06-22T18:12:53.380Z"
   },
   {
    "duration": 8,
    "start_time": "2022-06-22T18:12:53.387Z"
   },
   {
    "duration": 38,
    "start_time": "2022-06-22T18:12:53.396Z"
   },
   {
    "duration": 95,
    "start_time": "2022-06-22T18:12:53.435Z"
   },
   {
    "duration": 1578,
    "start_time": "2022-06-22T18:12:53.531Z"
   },
   {
    "duration": 36,
    "start_time": "2022-06-22T18:12:55.110Z"
   },
   {
    "duration": 15278,
    "start_time": "2022-06-22T18:12:55.148Z"
   },
   {
    "duration": 4028,
    "start_time": "2022-06-22T18:13:10.430Z"
   },
   {
    "duration": 7251,
    "start_time": "2022-06-22T18:13:14.459Z"
   },
   {
    "duration": 3,
    "start_time": "2022-06-22T18:13:21.712Z"
   },
   {
    "duration": 660,
    "start_time": "2022-06-22T18:13:21.716Z"
   },
   {
    "duration": 5,
    "start_time": "2022-06-22T18:13:22.378Z"
   },
   {
    "duration": 12,
    "start_time": "2022-06-22T18:13:22.384Z"
   },
   {
    "duration": 27,
    "start_time": "2022-06-22T18:13:22.397Z"
   },
   {
    "duration": 6,
    "start_time": "2022-06-22T18:13:22.427Z"
   },
   {
    "duration": 1363,
    "start_time": "2022-06-22T18:15:11.626Z"
   },
   {
    "duration": 52,
    "start_time": "2022-06-22T18:15:12.991Z"
   },
   {
    "duration": 10,
    "start_time": "2022-06-22T18:15:13.044Z"
   },
   {
    "duration": 2,
    "start_time": "2022-06-22T18:15:13.056Z"
   },
   {
    "duration": 5,
    "start_time": "2022-06-22T18:15:13.059Z"
   },
   {
    "duration": 4,
    "start_time": "2022-06-22T18:15:13.065Z"
   },
   {
    "duration": 11,
    "start_time": "2022-06-22T18:15:13.071Z"
   },
   {
    "duration": 10,
    "start_time": "2022-06-22T18:15:13.083Z"
   },
   {
    "duration": 227,
    "start_time": "2022-06-22T18:15:13.094Z"
   },
   {
    "duration": 204,
    "start_time": "2022-06-22T18:15:13.328Z"
   },
   {
    "duration": 265,
    "start_time": "2022-06-22T18:15:13.533Z"
   },
   {
    "duration": 6,
    "start_time": "2022-06-22T18:15:13.800Z"
   },
   {
    "duration": 593,
    "start_time": "2022-06-22T18:15:13.808Z"
   },
   {
    "duration": 180,
    "start_time": "2022-06-22T18:15:14.402Z"
   },
   {
    "duration": 167,
    "start_time": "2022-06-22T18:15:14.584Z"
   },
   {
    "duration": 136,
    "start_time": "2022-06-22T18:15:14.752Z"
   },
   {
    "duration": 141,
    "start_time": "2022-06-22T18:15:14.890Z"
   },
   {
    "duration": 370,
    "start_time": "2022-06-22T18:15:15.033Z"
   },
   {
    "duration": 8,
    "start_time": "2022-06-22T18:15:15.405Z"
   },
   {
    "duration": 1322,
    "start_time": "2022-06-22T18:15:15.415Z"
   },
   {
    "duration": 91,
    "start_time": "2022-06-22T18:15:16.739Z"
   },
   {
    "duration": 109,
    "start_time": "2022-06-22T18:15:16.832Z"
   },
   {
    "duration": 10,
    "start_time": "2022-06-22T18:15:16.943Z"
   },
   {
    "duration": 6,
    "start_time": "2022-06-22T18:15:16.955Z"
   },
   {
    "duration": 5,
    "start_time": "2022-06-22T18:15:16.962Z"
   },
   {
    "duration": 8,
    "start_time": "2022-06-22T18:15:16.969Z"
   },
   {
    "duration": 10,
    "start_time": "2022-06-22T18:15:16.979Z"
   },
   {
    "duration": 3,
    "start_time": "2022-06-22T18:15:17.028Z"
   },
   {
    "duration": 660,
    "start_time": "2022-06-22T18:15:17.032Z"
   },
   {
    "duration": 14,
    "start_time": "2022-06-22T18:15:17.694Z"
   },
   {
    "duration": 4664,
    "start_time": "2022-06-22T18:15:17.710Z"
   },
   {
    "duration": 1036,
    "start_time": "2022-06-22T18:15:22.376Z"
   },
   {
    "duration": 2411,
    "start_time": "2022-06-22T18:15:23.414Z"
   },
   {
    "duration": 3,
    "start_time": "2022-06-22T18:15:25.827Z"
   },
   {
    "duration": 596,
    "start_time": "2022-06-22T18:15:25.831Z"
   },
   {
    "duration": 5,
    "start_time": "2022-06-22T18:15:26.429Z"
   },
   {
    "duration": 7,
    "start_time": "2022-06-22T18:15:26.435Z"
   },
   {
    "duration": 17,
    "start_time": "2022-06-22T18:15:26.443Z"
   },
   {
    "duration": 4,
    "start_time": "2022-06-22T18:15:26.461Z"
   },
   {
    "duration": 1302,
    "start_time": "2022-06-22T18:15:54.482Z"
   },
   {
    "duration": 51,
    "start_time": "2022-06-22T18:15:55.786Z"
   },
   {
    "duration": 9,
    "start_time": "2022-06-22T18:15:55.839Z"
   },
   {
    "duration": 2,
    "start_time": "2022-06-22T18:15:55.850Z"
   },
   {
    "duration": 5,
    "start_time": "2022-06-22T18:15:55.853Z"
   },
   {
    "duration": 4,
    "start_time": "2022-06-22T18:15:55.860Z"
   },
   {
    "duration": 13,
    "start_time": "2022-06-22T18:15:55.865Z"
   },
   {
    "duration": 10,
    "start_time": "2022-06-22T18:15:55.879Z"
   },
   {
    "duration": 244,
    "start_time": "2022-06-22T18:15:55.890Z"
   },
   {
    "duration": 200,
    "start_time": "2022-06-22T18:15:56.137Z"
   },
   {
    "duration": 254,
    "start_time": "2022-06-22T18:15:56.338Z"
   },
   {
    "duration": 10,
    "start_time": "2022-06-22T18:15:56.593Z"
   },
   {
    "duration": 582,
    "start_time": "2022-06-22T18:15:56.604Z"
   },
   {
    "duration": 178,
    "start_time": "2022-06-22T18:15:57.188Z"
   },
   {
    "duration": 168,
    "start_time": "2022-06-22T18:15:57.368Z"
   },
   {
    "duration": 135,
    "start_time": "2022-06-22T18:15:57.538Z"
   },
   {
    "duration": 132,
    "start_time": "2022-06-22T18:15:57.675Z"
   },
   {
    "duration": 363,
    "start_time": "2022-06-22T18:15:57.808Z"
   },
   {
    "duration": 7,
    "start_time": "2022-06-22T18:15:58.173Z"
   },
   {
    "duration": 1355,
    "start_time": "2022-06-22T18:15:58.181Z"
   },
   {
    "duration": 94,
    "start_time": "2022-06-22T18:15:59.538Z"
   },
   {
    "duration": 117,
    "start_time": "2022-06-22T18:15:59.637Z"
   },
   {
    "duration": 18,
    "start_time": "2022-06-22T18:15:59.756Z"
   },
   {
    "duration": 6,
    "start_time": "2022-06-22T18:15:59.775Z"
   },
   {
    "duration": 6,
    "start_time": "2022-06-22T18:15:59.782Z"
   },
   {
    "duration": 7,
    "start_time": "2022-06-22T18:15:59.790Z"
   },
   {
    "duration": 35,
    "start_time": "2022-06-22T18:15:59.798Z"
   },
   {
    "duration": 93,
    "start_time": "2022-06-22T18:15:59.837Z"
   },
   {
    "duration": 1569,
    "start_time": "2022-06-22T18:15:59.932Z"
   },
   {
    "duration": 36,
    "start_time": "2022-06-22T18:16:01.502Z"
   },
   {
    "duration": 15071,
    "start_time": "2022-06-22T18:16:01.539Z"
   },
   {
    "duration": 4167,
    "start_time": "2022-06-22T18:16:16.612Z"
   },
   {
    "duration": 7012,
    "start_time": "2022-06-22T18:16:20.780Z"
   },
   {
    "duration": 3,
    "start_time": "2022-06-22T18:16:27.793Z"
   },
   {
    "duration": 613,
    "start_time": "2022-06-22T18:16:27.798Z"
   },
   {
    "duration": 5,
    "start_time": "2022-06-22T18:16:28.413Z"
   },
   {
    "duration": 9,
    "start_time": "2022-06-22T18:16:28.420Z"
   },
   {
    "duration": 18,
    "start_time": "2022-06-22T18:16:28.430Z"
   },
   {
    "duration": 5,
    "start_time": "2022-06-22T18:16:28.449Z"
   },
   {
    "duration": 1312,
    "start_time": "2022-06-22T18:16:58.741Z"
   },
   {
    "duration": 49,
    "start_time": "2022-06-22T18:17:00.055Z"
   },
   {
    "duration": 9,
    "start_time": "2022-06-22T18:17:00.105Z"
   },
   {
    "duration": 2,
    "start_time": "2022-06-22T18:17:00.116Z"
   },
   {
    "duration": 8,
    "start_time": "2022-06-22T18:17:00.119Z"
   },
   {
    "duration": 11,
    "start_time": "2022-06-22T18:17:00.128Z"
   },
   {
    "duration": 22,
    "start_time": "2022-06-22T18:17:00.141Z"
   },
   {
    "duration": 10,
    "start_time": "2022-06-22T18:17:00.164Z"
   },
   {
    "duration": 198,
    "start_time": "2022-06-22T18:17:00.175Z"
   },
   {
    "duration": 200,
    "start_time": "2022-06-22T18:17:00.375Z"
   },
   {
    "duration": 257,
    "start_time": "2022-06-22T18:17:00.577Z"
   },
   {
    "duration": 8,
    "start_time": "2022-06-22T18:17:00.836Z"
   },
   {
    "duration": 627,
    "start_time": "2022-06-22T18:17:00.846Z"
   },
   {
    "duration": 209,
    "start_time": "2022-06-22T18:17:01.475Z"
   },
   {
    "duration": 179,
    "start_time": "2022-06-22T18:17:01.686Z"
   },
   {
    "duration": 135,
    "start_time": "2022-06-22T18:17:01.866Z"
   },
   {
    "duration": 127,
    "start_time": "2022-06-22T18:17:02.002Z"
   },
   {
    "duration": 368,
    "start_time": "2022-06-22T18:17:02.131Z"
   },
   {
    "duration": 7,
    "start_time": "2022-06-22T18:17:02.501Z"
   },
   {
    "duration": 1326,
    "start_time": "2022-06-22T18:17:02.510Z"
   },
   {
    "duration": 92,
    "start_time": "2022-06-22T18:17:03.838Z"
   },
   {
    "duration": 115,
    "start_time": "2022-06-22T18:17:03.932Z"
   },
   {
    "duration": 20,
    "start_time": "2022-06-22T18:17:04.048Z"
   },
   {
    "duration": 6,
    "start_time": "2022-06-22T18:17:04.069Z"
   },
   {
    "duration": 5,
    "start_time": "2022-06-22T18:17:04.077Z"
   },
   {
    "duration": 10,
    "start_time": "2022-06-22T18:17:04.084Z"
   },
   {
    "duration": 41,
    "start_time": "2022-06-22T18:17:04.095Z"
   },
   {
    "duration": 2,
    "start_time": "2022-06-22T18:17:04.139Z"
   },
   {
    "duration": 1569,
    "start_time": "2022-06-22T18:17:04.231Z"
   },
   {
    "duration": 36,
    "start_time": "2022-06-22T18:17:05.801Z"
   },
   {
    "duration": 1293,
    "start_time": "2022-06-22T18:17:22.768Z"
   },
   {
    "duration": 48,
    "start_time": "2022-06-22T18:17:24.063Z"
   },
   {
    "duration": 9,
    "start_time": "2022-06-22T18:17:24.113Z"
   },
   {
    "duration": 50,
    "start_time": "2022-06-22T18:17:24.123Z"
   },
   {
    "duration": 5,
    "start_time": "2022-06-22T18:17:24.175Z"
   },
   {
    "duration": 6,
    "start_time": "2022-06-22T18:17:24.181Z"
   },
   {
    "duration": 13,
    "start_time": "2022-06-22T18:17:24.189Z"
   },
   {
    "duration": 10,
    "start_time": "2022-06-22T18:17:24.203Z"
   },
   {
    "duration": 195,
    "start_time": "2022-06-22T18:17:24.215Z"
   },
   {
    "duration": 202,
    "start_time": "2022-06-22T18:17:24.412Z"
   },
   {
    "duration": 251,
    "start_time": "2022-06-22T18:17:24.616Z"
   },
   {
    "duration": 6,
    "start_time": "2022-06-22T18:17:24.868Z"
   },
   {
    "duration": 586,
    "start_time": "2022-06-22T18:17:24.875Z"
   },
   {
    "duration": 178,
    "start_time": "2022-06-22T18:17:25.463Z"
   },
   {
    "duration": 158,
    "start_time": "2022-06-22T18:17:25.642Z"
   },
   {
    "duration": 150,
    "start_time": "2022-06-22T18:17:25.802Z"
   },
   {
    "duration": 161,
    "start_time": "2022-06-22T18:17:25.954Z"
   },
   {
    "duration": 422,
    "start_time": "2022-06-22T18:17:26.117Z"
   },
   {
    "duration": 8,
    "start_time": "2022-06-22T18:17:26.541Z"
   },
   {
    "duration": 1289,
    "start_time": "2022-06-22T18:17:26.550Z"
   },
   {
    "duration": 5,
    "start_time": "2022-06-22T18:17:27.930Z"
   },
   {
    "duration": 113,
    "start_time": "2022-06-22T18:17:27.939Z"
   },
   {
    "duration": 19,
    "start_time": "2022-06-22T18:17:28.054Z"
   },
   {
    "duration": 7,
    "start_time": "2022-06-22T18:17:28.074Z"
   },
   {
    "duration": 5,
    "start_time": "2022-06-22T18:17:28.083Z"
   },
   {
    "duration": 10,
    "start_time": "2022-06-22T18:17:28.089Z"
   },
   {
    "duration": 36,
    "start_time": "2022-06-22T18:17:28.100Z"
   },
   {
    "duration": 91,
    "start_time": "2022-06-22T18:17:28.138Z"
   },
   {
    "duration": 1044,
    "start_time": "2022-06-22T18:17:28.231Z"
   },
   {
    "duration": 31,
    "start_time": "2022-06-22T18:17:29.276Z"
   },
   {
    "duration": 10769,
    "start_time": "2022-06-22T18:17:29.308Z"
   },
   {
    "duration": 4006,
    "start_time": "2022-06-22T18:17:40.079Z"
   },
   {
    "duration": 6926,
    "start_time": "2022-06-22T18:17:44.086Z"
   },
   {
    "duration": 5,
    "start_time": "2022-06-22T18:17:51.014Z"
   },
   {
    "duration": 708,
    "start_time": "2022-06-22T18:17:51.020Z"
   },
   {
    "duration": 7,
    "start_time": "2022-06-22T18:17:51.730Z"
   },
   {
    "duration": 8,
    "start_time": "2022-06-22T18:17:51.738Z"
   },
   {
    "duration": 16,
    "start_time": "2022-06-22T18:17:51.747Z"
   },
   {
    "duration": 6,
    "start_time": "2022-06-22T18:17:51.764Z"
   },
   {
    "duration": 4,
    "start_time": "2022-06-22T18:19:11.788Z"
   },
   {
    "duration": 35,
    "start_time": "2022-06-22T18:23:24.323Z"
   },
   {
    "duration": 6,
    "start_time": "2022-06-22T18:27:43.377Z"
   },
   {
    "duration": 1349,
    "start_time": "2022-06-22T18:27:55.245Z"
   },
   {
    "duration": 50,
    "start_time": "2022-06-22T18:27:56.596Z"
   },
   {
    "duration": 9,
    "start_time": "2022-06-22T18:27:56.647Z"
   },
   {
    "duration": 2,
    "start_time": "2022-06-22T18:27:56.658Z"
   },
   {
    "duration": 7,
    "start_time": "2022-06-22T18:27:56.662Z"
   },
   {
    "duration": 5,
    "start_time": "2022-06-22T18:27:56.670Z"
   },
   {
    "duration": 14,
    "start_time": "2022-06-22T18:27:56.676Z"
   },
   {
    "duration": 9,
    "start_time": "2022-06-22T18:27:56.691Z"
   },
   {
    "duration": 235,
    "start_time": "2022-06-22T18:27:56.701Z"
   },
   {
    "duration": 206,
    "start_time": "2022-06-22T18:27:56.937Z"
   },
   {
    "duration": 255,
    "start_time": "2022-06-22T18:27:57.145Z"
   },
   {
    "duration": 6,
    "start_time": "2022-06-22T18:27:57.401Z"
   },
   {
    "duration": 591,
    "start_time": "2022-06-22T18:27:57.408Z"
   },
   {
    "duration": 187,
    "start_time": "2022-06-22T18:27:58.002Z"
   },
   {
    "duration": 154,
    "start_time": "2022-06-22T18:27:58.190Z"
   },
   {
    "duration": 137,
    "start_time": "2022-06-22T18:27:58.345Z"
   },
   {
    "duration": 128,
    "start_time": "2022-06-22T18:27:58.483Z"
   },
   {
    "duration": 362,
    "start_time": "2022-06-22T18:27:58.613Z"
   },
   {
    "duration": 7,
    "start_time": "2022-06-22T18:27:58.977Z"
   },
   {
    "duration": 1352,
    "start_time": "2022-06-22T18:27:58.985Z"
   },
   {
    "duration": 92,
    "start_time": "2022-06-22T18:28:00.338Z"
   },
   {
    "duration": 115,
    "start_time": "2022-06-22T18:28:00.432Z"
   },
   {
    "duration": 19,
    "start_time": "2022-06-22T18:28:00.549Z"
   },
   {
    "duration": 6,
    "start_time": "2022-06-22T18:28:00.569Z"
   },
   {
    "duration": 14,
    "start_time": "2022-06-22T18:28:00.577Z"
   },
   {
    "duration": 23,
    "start_time": "2022-06-22T18:28:00.593Z"
   },
   {
    "duration": 18,
    "start_time": "2022-06-22T18:28:00.618Z"
   },
   {
    "duration": 5,
    "start_time": "2022-06-22T18:28:00.638Z"
   },
   {
    "duration": 1020,
    "start_time": "2022-06-22T18:28:00.730Z"
   },
   {
    "duration": 36,
    "start_time": "2022-06-22T18:28:01.752Z"
   },
   {
    "duration": 10748,
    "start_time": "2022-06-22T18:28:01.789Z"
   },
   {
    "duration": 4016,
    "start_time": "2022-06-22T18:28:12.538Z"
   },
   {
    "duration": 6923,
    "start_time": "2022-06-22T18:28:16.555Z"
   },
   {
    "duration": 3,
    "start_time": "2022-06-22T18:28:23.480Z"
   },
   {
    "duration": 623,
    "start_time": "2022-06-22T18:28:23.484Z"
   },
   {
    "duration": 6,
    "start_time": "2022-06-22T18:28:24.109Z"
   },
   {
    "duration": 8,
    "start_time": "2022-06-22T18:28:24.116Z"
   },
   {
    "duration": 7,
    "start_time": "2022-06-22T18:28:24.125Z"
   },
   {
    "duration": 17,
    "start_time": "2022-06-22T18:28:24.133Z"
   },
   {
    "duration": 4,
    "start_time": "2022-06-22T18:28:24.151Z"
   },
   {
    "duration": 27,
    "start_time": "2022-06-22T18:29:39.011Z"
   },
   {
    "duration": 1324,
    "start_time": "2022-06-22T18:29:47.544Z"
   },
   {
    "duration": 51,
    "start_time": "2022-06-22T18:29:48.869Z"
   },
   {
    "duration": 9,
    "start_time": "2022-06-22T18:29:48.921Z"
   },
   {
    "duration": 6,
    "start_time": "2022-06-22T18:29:48.932Z"
   },
   {
    "duration": 5,
    "start_time": "2022-06-22T18:29:48.940Z"
   },
   {
    "duration": 6,
    "start_time": "2022-06-22T18:29:48.947Z"
   },
   {
    "duration": 13,
    "start_time": "2022-06-22T18:29:48.955Z"
   },
   {
    "duration": 10,
    "start_time": "2022-06-22T18:29:48.969Z"
   },
   {
    "duration": 229,
    "start_time": "2022-06-22T18:29:48.980Z"
   },
   {
    "duration": 217,
    "start_time": "2022-06-22T18:29:49.212Z"
   },
   {
    "duration": 271,
    "start_time": "2022-06-22T18:29:49.430Z"
   },
   {
    "duration": 7,
    "start_time": "2022-06-22T18:29:49.703Z"
   },
   {
    "duration": 653,
    "start_time": "2022-06-22T18:29:49.711Z"
   },
   {
    "duration": 203,
    "start_time": "2022-06-22T18:29:50.366Z"
   },
   {
    "duration": 175,
    "start_time": "2022-06-22T18:29:50.571Z"
   },
   {
    "duration": 141,
    "start_time": "2022-06-22T18:29:50.747Z"
   },
   {
    "duration": 145,
    "start_time": "2022-06-22T18:29:50.890Z"
   },
   {
    "duration": 398,
    "start_time": "2022-06-22T18:29:51.037Z"
   },
   {
    "duration": 8,
    "start_time": "2022-06-22T18:29:51.437Z"
   },
   {
    "duration": 1391,
    "start_time": "2022-06-22T18:29:51.446Z"
   },
   {
    "duration": 4,
    "start_time": "2022-06-22T18:29:52.930Z"
   },
   {
    "duration": 118,
    "start_time": "2022-06-22T18:29:52.936Z"
   },
   {
    "duration": 19,
    "start_time": "2022-06-22T18:29:53.056Z"
   },
   {
    "duration": 8,
    "start_time": "2022-06-22T18:29:53.076Z"
   },
   {
    "duration": 6,
    "start_time": "2022-06-22T18:29:53.085Z"
   },
   {
    "duration": 8,
    "start_time": "2022-06-22T18:29:53.093Z"
   },
   {
    "duration": 13,
    "start_time": "2022-06-22T18:29:53.128Z"
   },
   {
    "duration": 85,
    "start_time": "2022-06-22T18:29:53.145Z"
   },
   {
    "duration": 1023,
    "start_time": "2022-06-22T18:29:53.231Z"
   },
   {
    "duration": 25,
    "start_time": "2022-06-22T18:29:54.256Z"
   },
   {
    "duration": 10622,
    "start_time": "2022-06-22T18:29:54.283Z"
   },
   {
    "duration": 4038,
    "start_time": "2022-06-22T18:30:04.906Z"
   },
   {
    "duration": 6824,
    "start_time": "2022-06-22T18:30:08.945Z"
   },
   {
    "duration": 4,
    "start_time": "2022-06-22T18:30:15.770Z"
   },
   {
    "duration": 762,
    "start_time": "2022-06-22T18:30:15.775Z"
   },
   {
    "duration": 6,
    "start_time": "2022-06-22T18:30:16.538Z"
   },
   {
    "duration": 8,
    "start_time": "2022-06-22T18:30:16.545Z"
   },
   {
    "duration": 6,
    "start_time": "2022-06-22T18:30:16.555Z"
   },
   {
    "duration": 16,
    "start_time": "2022-06-22T18:30:16.562Z"
   },
   {
    "duration": 5,
    "start_time": "2022-06-22T18:30:16.579Z"
   },
   {
    "duration": 1312,
    "start_time": "2022-06-22T19:00:08.203Z"
   },
   {
    "duration": 49,
    "start_time": "2022-06-22T19:00:09.516Z"
   },
   {
    "duration": 9,
    "start_time": "2022-06-22T19:00:09.566Z"
   },
   {
    "duration": 2,
    "start_time": "2022-06-22T19:00:09.576Z"
   },
   {
    "duration": 6,
    "start_time": "2022-06-22T19:00:09.579Z"
   },
   {
    "duration": 5,
    "start_time": "2022-06-22T19:00:09.586Z"
   },
   {
    "duration": 12,
    "start_time": "2022-06-22T19:00:09.593Z"
   },
   {
    "duration": 11,
    "start_time": "2022-06-22T19:00:09.606Z"
   },
   {
    "duration": 201,
    "start_time": "2022-06-22T19:00:09.629Z"
   },
   {
    "duration": 206,
    "start_time": "2022-06-22T19:00:09.833Z"
   },
   {
    "duration": 250,
    "start_time": "2022-06-22T19:00:10.040Z"
   },
   {
    "duration": 6,
    "start_time": "2022-06-22T19:00:10.292Z"
   },
   {
    "duration": 618,
    "start_time": "2022-06-22T19:00:10.299Z"
   },
   {
    "duration": 182,
    "start_time": "2022-06-22T19:00:10.918Z"
   },
   {
    "duration": 172,
    "start_time": "2022-06-22T19:00:11.101Z"
   },
   {
    "duration": 131,
    "start_time": "2022-06-22T19:00:11.275Z"
   },
   {
    "duration": 135,
    "start_time": "2022-06-22T19:00:11.408Z"
   },
   {
    "duration": 362,
    "start_time": "2022-06-22T19:00:11.545Z"
   },
   {
    "duration": 7,
    "start_time": "2022-06-22T19:00:11.909Z"
   },
   {
    "duration": 1319,
    "start_time": "2022-06-22T19:00:11.918Z"
   },
   {
    "duration": 92,
    "start_time": "2022-06-22T19:00:13.239Z"
   },
   {
    "duration": 22,
    "start_time": "2022-06-22T19:00:13.429Z"
   },
   {
    "duration": 78,
    "start_time": "2022-06-22T19:00:13.453Z"
   },
   {
    "duration": 6,
    "start_time": "2022-06-22T19:00:13.532Z"
   },
   {
    "duration": 5,
    "start_time": "2022-06-22T19:00:13.540Z"
   },
   {
    "duration": 8,
    "start_time": "2022-06-22T19:00:13.546Z"
   },
   {
    "duration": 75,
    "start_time": "2022-06-22T19:00:13.555Z"
   },
   {
    "duration": 99,
    "start_time": "2022-06-22T19:00:13.633Z"
   },
   {
    "duration": 1818,
    "start_time": "2022-06-22T19:00:13.734Z"
   },
   {
    "duration": 80,
    "start_time": "2022-06-22T19:00:15.553Z"
   },
   {
    "duration": 11349,
    "start_time": "2022-06-22T19:00:15.635Z"
   },
   {
    "duration": 4119,
    "start_time": "2022-06-22T19:00:26.986Z"
   },
   {
    "duration": 7250,
    "start_time": "2022-06-22T19:00:31.107Z"
   },
   {
    "duration": 4,
    "start_time": "2022-06-22T19:00:38.359Z"
   },
   {
    "duration": 672,
    "start_time": "2022-06-22T19:00:38.364Z"
   },
   {
    "duration": 6,
    "start_time": "2022-06-22T19:00:39.038Z"
   },
   {
    "duration": 7,
    "start_time": "2022-06-22T19:00:39.045Z"
   },
   {
    "duration": 6,
    "start_time": "2022-06-22T19:00:39.053Z"
   },
   {
    "duration": 16,
    "start_time": "2022-06-22T19:00:39.060Z"
   },
   {
    "duration": 5,
    "start_time": "2022-06-22T19:00:39.077Z"
   },
   {
    "duration": 1410,
    "start_time": "2022-06-22T19:02:19.880Z"
   },
   {
    "duration": 48,
    "start_time": "2022-06-22T19:02:21.292Z"
   },
   {
    "duration": 9,
    "start_time": "2022-06-22T19:02:21.342Z"
   },
   {
    "duration": 8,
    "start_time": "2022-06-22T19:02:21.352Z"
   },
   {
    "duration": 7,
    "start_time": "2022-06-22T19:02:21.362Z"
   },
   {
    "duration": 6,
    "start_time": "2022-06-22T19:02:21.370Z"
   },
   {
    "duration": 17,
    "start_time": "2022-06-22T19:02:21.377Z"
   },
   {
    "duration": 10,
    "start_time": "2022-06-22T19:02:21.395Z"
   },
   {
    "duration": 205,
    "start_time": "2022-06-22T19:02:21.406Z"
   },
   {
    "duration": 195,
    "start_time": "2022-06-22T19:02:21.613Z"
   },
   {
    "duration": 262,
    "start_time": "2022-06-22T19:02:21.810Z"
   },
   {
    "duration": 6,
    "start_time": "2022-06-22T19:02:22.074Z"
   },
   {
    "duration": 585,
    "start_time": "2022-06-22T19:02:22.081Z"
   },
   {
    "duration": 188,
    "start_time": "2022-06-22T19:02:22.669Z"
   },
   {
    "duration": 156,
    "start_time": "2022-06-22T19:02:22.858Z"
   },
   {
    "duration": 132,
    "start_time": "2022-06-22T19:02:23.016Z"
   },
   {
    "duration": 139,
    "start_time": "2022-06-22T19:02:23.150Z"
   },
   {
    "duration": 374,
    "start_time": "2022-06-22T19:02:23.290Z"
   },
   {
    "duration": 9,
    "start_time": "2022-06-22T19:02:23.666Z"
   },
   {
    "duration": 1461,
    "start_time": "2022-06-22T19:02:23.677Z"
   },
   {
    "duration": 4,
    "start_time": "2022-06-22T19:02:25.232Z"
   },
   {
    "duration": 119,
    "start_time": "2022-06-22T19:02:25.238Z"
   },
   {
    "duration": 19,
    "start_time": "2022-06-22T19:02:25.359Z"
   },
   {
    "duration": 7,
    "start_time": "2022-06-22T19:02:25.379Z"
   },
   {
    "duration": 10,
    "start_time": "2022-06-22T19:02:25.387Z"
   },
   {
    "duration": 12,
    "start_time": "2022-06-22T19:02:25.399Z"
   },
   {
    "duration": 29,
    "start_time": "2022-06-22T19:02:25.412Z"
   },
   {
    "duration": 86,
    "start_time": "2022-06-22T19:02:25.443Z"
   },
   {
    "duration": 1028,
    "start_time": "2022-06-22T19:02:25.531Z"
   },
   {
    "duration": 26,
    "start_time": "2022-06-22T19:02:26.560Z"
   },
   {
    "duration": 12416,
    "start_time": "2022-06-22T19:02:26.588Z"
   },
   {
    "duration": 4096,
    "start_time": "2022-06-22T19:02:39.005Z"
   },
   {
    "duration": 6881,
    "start_time": "2022-06-22T19:02:43.103Z"
   },
   {
    "duration": 4,
    "start_time": "2022-06-22T19:02:49.985Z"
   },
   {
    "duration": 663,
    "start_time": "2022-06-22T19:02:49.990Z"
   },
   {
    "duration": 5,
    "start_time": "2022-06-22T19:02:50.655Z"
   },
   {
    "duration": 5,
    "start_time": "2022-06-22T19:02:50.662Z"
   },
   {
    "duration": 6,
    "start_time": "2022-06-22T19:02:50.669Z"
   },
   {
    "duration": 18,
    "start_time": "2022-06-22T19:02:50.676Z"
   },
   {
    "duration": 5,
    "start_time": "2022-06-22T19:02:50.696Z"
   },
   {
    "duration": 1439,
    "start_time": "2022-06-22T19:03:55.797Z"
   },
   {
    "duration": 49,
    "start_time": "2022-06-22T19:03:57.237Z"
   },
   {
    "duration": 8,
    "start_time": "2022-06-22T19:03:57.287Z"
   },
   {
    "duration": 2,
    "start_time": "2022-06-22T19:03:57.297Z"
   },
   {
    "duration": 6,
    "start_time": "2022-06-22T19:03:57.300Z"
   },
   {
    "duration": 5,
    "start_time": "2022-06-22T19:03:57.307Z"
   },
   {
    "duration": 16,
    "start_time": "2022-06-22T19:03:57.313Z"
   },
   {
    "duration": 10,
    "start_time": "2022-06-22T19:03:57.330Z"
   },
   {
    "duration": 214,
    "start_time": "2022-06-22T19:03:57.341Z"
   },
   {
    "duration": 222,
    "start_time": "2022-06-22T19:03:57.558Z"
   },
   {
    "duration": 273,
    "start_time": "2022-06-22T19:03:57.782Z"
   },
   {
    "duration": 7,
    "start_time": "2022-06-22T19:03:58.057Z"
   },
   {
    "duration": 604,
    "start_time": "2022-06-22T19:03:58.066Z"
   },
   {
    "duration": 188,
    "start_time": "2022-06-22T19:03:58.672Z"
   },
   {
    "duration": 162,
    "start_time": "2022-06-22T19:03:58.862Z"
   },
   {
    "duration": 138,
    "start_time": "2022-06-22T19:03:59.029Z"
   },
   {
    "duration": 138,
    "start_time": "2022-06-22T19:03:59.169Z"
   },
   {
    "duration": 359,
    "start_time": "2022-06-22T19:03:59.308Z"
   },
   {
    "duration": 7,
    "start_time": "2022-06-22T19:03:59.669Z"
   },
   {
    "duration": 1360,
    "start_time": "2022-06-22T19:03:59.677Z"
   },
   {
    "duration": 91,
    "start_time": "2022-06-22T19:04:01.039Z"
   },
   {
    "duration": 115,
    "start_time": "2022-06-22T19:04:01.132Z"
   },
   {
    "duration": 19,
    "start_time": "2022-06-22T19:04:01.249Z"
   },
   {
    "duration": 7,
    "start_time": "2022-06-22T19:04:01.269Z"
   },
   {
    "duration": 7,
    "start_time": "2022-06-22T19:04:01.277Z"
   },
   {
    "duration": 7,
    "start_time": "2022-06-22T19:04:01.286Z"
   },
   {
    "duration": 39,
    "start_time": "2022-06-22T19:04:01.294Z"
   },
   {
    "duration": 2,
    "start_time": "2022-06-22T19:04:01.337Z"
   },
   {
    "duration": 284,
    "start_time": "2022-06-22T19:04:01.429Z"
   },
   {
    "duration": 32,
    "start_time": "2022-06-22T19:04:01.714Z"
   },
   {
    "duration": 10723,
    "start_time": "2022-06-22T19:04:01.748Z"
   },
   {
    "duration": 5729,
    "start_time": "2022-06-22T19:04:12.472Z"
   },
   {
    "duration": 6614,
    "start_time": "2022-06-22T19:04:18.202Z"
   },
   {
    "duration": 4,
    "start_time": "2022-06-22T19:04:24.817Z"
   },
   {
    "duration": 707,
    "start_time": "2022-06-22T19:04:24.822Z"
   },
   {
    "duration": 5,
    "start_time": "2022-06-22T19:04:25.531Z"
   },
   {
    "duration": 8,
    "start_time": "2022-06-22T19:04:25.537Z"
   },
   {
    "duration": 8,
    "start_time": "2022-06-22T19:04:25.546Z"
   },
   {
    "duration": 16,
    "start_time": "2022-06-22T19:04:25.555Z"
   },
   {
    "duration": 5,
    "start_time": "2022-06-22T19:04:25.572Z"
   },
   {
    "duration": 88,
    "start_time": "2022-06-22T19:04:25.579Z"
   },
   {
    "duration": 1350,
    "start_time": "2022-06-22T19:04:32.742Z"
   },
   {
    "duration": 49,
    "start_time": "2022-06-22T19:04:34.094Z"
   },
   {
    "duration": 9,
    "start_time": "2022-06-22T19:04:34.144Z"
   },
   {
    "duration": 3,
    "start_time": "2022-06-22T19:04:34.154Z"
   },
   {
    "duration": 5,
    "start_time": "2022-06-22T19:04:34.158Z"
   },
   {
    "duration": 5,
    "start_time": "2022-06-22T19:04:34.164Z"
   },
   {
    "duration": 13,
    "start_time": "2022-06-22T19:04:34.170Z"
   },
   {
    "duration": 9,
    "start_time": "2022-06-22T19:04:34.184Z"
   },
   {
    "duration": 217,
    "start_time": "2022-06-22T19:04:34.194Z"
   },
   {
    "duration": 201,
    "start_time": "2022-06-22T19:04:34.413Z"
   },
   {
    "duration": 264,
    "start_time": "2022-06-22T19:04:34.616Z"
   },
   {
    "duration": 6,
    "start_time": "2022-06-22T19:04:34.882Z"
   },
   {
    "duration": 592,
    "start_time": "2022-06-22T19:04:34.889Z"
   },
   {
    "duration": 188,
    "start_time": "2022-06-22T19:04:35.482Z"
   },
   {
    "duration": 170,
    "start_time": "2022-06-22T19:04:35.672Z"
   },
   {
    "duration": 137,
    "start_time": "2022-06-22T19:04:35.844Z"
   },
   {
    "duration": 165,
    "start_time": "2022-06-22T19:04:35.982Z"
   },
   {
    "duration": 358,
    "start_time": "2022-06-22T19:04:36.149Z"
   },
   {
    "duration": 7,
    "start_time": "2022-06-22T19:04:36.509Z"
   },
   {
    "duration": 1514,
    "start_time": "2022-06-22T19:04:36.517Z"
   },
   {
    "duration": 4,
    "start_time": "2022-06-22T19:04:38.033Z"
   },
   {
    "duration": 25,
    "start_time": "2022-06-22T19:04:38.129Z"
   },
   {
    "duration": 19,
    "start_time": "2022-06-22T19:04:38.155Z"
   },
   {
    "duration": 6,
    "start_time": "2022-06-22T19:04:38.175Z"
   },
   {
    "duration": 5,
    "start_time": "2022-06-22T19:04:38.182Z"
   },
   {
    "duration": 7,
    "start_time": "2022-06-22T19:04:38.189Z"
   },
   {
    "duration": 38,
    "start_time": "2022-06-22T19:04:38.197Z"
   },
   {
    "duration": 2,
    "start_time": "2022-06-22T19:04:38.238Z"
   },
   {
    "duration": 390,
    "start_time": "2022-06-22T19:04:38.241Z"
   },
   {
    "duration": 69,
    "start_time": "2022-06-22T19:04:38.632Z"
   },
   {
    "duration": 10779,
    "start_time": "2022-06-22T19:04:38.703Z"
   },
   {
    "duration": 4100,
    "start_time": "2022-06-22T19:04:49.484Z"
   },
   {
    "duration": 8431,
    "start_time": "2022-06-22T19:04:53.586Z"
   },
   {
    "duration": 4,
    "start_time": "2022-06-22T19:05:02.018Z"
   },
   {
    "duration": 1307,
    "start_time": "2022-06-22T19:05:02.023Z"
   },
   {
    "duration": 5,
    "start_time": "2022-06-22T19:05:03.332Z"
   },
   {
    "duration": 29,
    "start_time": "2022-06-22T19:05:03.338Z"
   },
   {
    "duration": 19,
    "start_time": "2022-06-22T19:05:03.368Z"
   },
   {
    "duration": 18,
    "start_time": "2022-06-22T19:05:03.389Z"
   },
   {
    "duration": 5,
    "start_time": "2022-06-22T19:05:03.408Z"
   },
   {
    "duration": 168,
    "start_time": "2022-06-22T19:05:09.024Z"
   },
   {
    "duration": 75,
    "start_time": "2022-06-22T19:05:10.323Z"
   },
   {
    "duration": 54,
    "start_time": "2022-06-22T19:05:15.675Z"
   },
   {
    "duration": 104,
    "start_time": "2022-06-22T19:05:23.295Z"
   },
   {
    "duration": 63,
    "start_time": "2022-06-22T19:05:24.529Z"
   },
   {
    "duration": 33,
    "start_time": "2022-06-22T19:05:30.228Z"
   },
   {
    "duration": 21,
    "start_time": "2022-06-22T19:05:45.706Z"
   },
   {
    "duration": 26,
    "start_time": "2022-06-22T19:05:51.575Z"
   },
   {
    "duration": 1302,
    "start_time": "2022-06-22T19:06:32.870Z"
   },
   {
    "duration": 49,
    "start_time": "2022-06-22T19:06:34.174Z"
   },
   {
    "duration": 8,
    "start_time": "2022-06-22T19:06:34.225Z"
   },
   {
    "duration": 3,
    "start_time": "2022-06-22T19:06:34.235Z"
   },
   {
    "duration": 4,
    "start_time": "2022-06-22T19:06:34.241Z"
   },
   {
    "duration": 5,
    "start_time": "2022-06-22T19:06:34.246Z"
   },
   {
    "duration": 12,
    "start_time": "2022-06-22T19:06:34.252Z"
   },
   {
    "duration": 10,
    "start_time": "2022-06-22T19:06:34.265Z"
   },
   {
    "duration": 219,
    "start_time": "2022-06-22T19:06:34.277Z"
   },
   {
    "duration": 202,
    "start_time": "2022-06-22T19:06:34.498Z"
   },
   {
    "duration": 255,
    "start_time": "2022-06-22T19:06:34.701Z"
   },
   {
    "duration": 6,
    "start_time": "2022-06-22T19:06:34.957Z"
   },
   {
    "duration": 599,
    "start_time": "2022-06-22T19:06:34.965Z"
   },
   {
    "duration": 184,
    "start_time": "2022-06-22T19:06:35.566Z"
   },
   {
    "duration": 155,
    "start_time": "2022-06-22T19:06:35.751Z"
   },
   {
    "duration": 159,
    "start_time": "2022-06-22T19:06:35.907Z"
   },
   {
    "duration": 151,
    "start_time": "2022-06-22T19:06:36.068Z"
   },
   {
    "duration": 351,
    "start_time": "2022-06-22T19:06:36.220Z"
   },
   {
    "duration": 7,
    "start_time": "2022-06-22T19:06:36.573Z"
   },
   {
    "duration": 1751,
    "start_time": "2022-06-22T19:06:36.582Z"
   },
   {
    "duration": 94,
    "start_time": "2022-06-22T19:06:38.335Z"
   },
   {
    "duration": 22,
    "start_time": "2022-06-22T19:06:38.430Z"
   },
   {
    "duration": 92,
    "start_time": "2022-06-22T19:06:38.453Z"
   },
   {
    "duration": 6,
    "start_time": "2022-06-22T19:06:38.546Z"
   },
   {
    "duration": 5,
    "start_time": "2022-06-22T19:06:38.554Z"
   },
   {
    "duration": 8,
    "start_time": "2022-06-22T19:06:38.561Z"
   },
   {
    "duration": 60,
    "start_time": "2022-06-22T19:06:38.570Z"
   },
   {
    "duration": 3,
    "start_time": "2022-06-22T19:06:38.631Z"
   },
   {
    "duration": 193,
    "start_time": "2022-06-22T19:06:38.636Z"
   },
   {
    "duration": 24,
    "start_time": "2022-06-22T19:06:38.831Z"
   },
   {
    "duration": 12330,
    "start_time": "2022-06-22T19:06:38.856Z"
   },
   {
    "duration": 4041,
    "start_time": "2022-06-22T19:06:51.188Z"
   },
   {
    "duration": 6809,
    "start_time": "2022-06-22T19:06:55.230Z"
   },
   {
    "duration": 3,
    "start_time": "2022-06-22T19:07:02.041Z"
   },
   {
    "duration": 683,
    "start_time": "2022-06-22T19:07:02.045Z"
   },
   {
    "duration": 6,
    "start_time": "2022-06-22T19:07:02.729Z"
   },
   {
    "duration": 9,
    "start_time": "2022-06-22T19:07:02.736Z"
   },
   {
    "duration": 8,
    "start_time": "2022-06-22T19:07:02.746Z"
   },
   {
    "duration": 21,
    "start_time": "2022-06-22T19:07:02.755Z"
   },
   {
    "duration": 5,
    "start_time": "2022-06-22T19:07:02.777Z"
   },
   {
    "duration": 1360,
    "start_time": "2022-06-22T19:08:51.335Z"
   },
   {
    "duration": 64,
    "start_time": "2022-06-22T19:08:52.697Z"
   },
   {
    "duration": 10,
    "start_time": "2022-06-22T19:08:52.762Z"
   },
   {
    "duration": 3,
    "start_time": "2022-06-22T19:08:52.774Z"
   },
   {
    "duration": 4,
    "start_time": "2022-06-22T19:08:52.780Z"
   },
   {
    "duration": 5,
    "start_time": "2022-06-22T19:08:52.786Z"
   },
   {
    "duration": 13,
    "start_time": "2022-06-22T19:08:52.792Z"
   },
   {
    "duration": 11,
    "start_time": "2022-06-22T19:08:52.829Z"
   },
   {
    "duration": 215,
    "start_time": "2022-06-22T19:08:52.841Z"
   },
   {
    "duration": 209,
    "start_time": "2022-06-22T19:08:53.058Z"
   },
   {
    "duration": 262,
    "start_time": "2022-06-22T19:08:53.269Z"
   },
   {
    "duration": 8,
    "start_time": "2022-06-22T19:08:53.533Z"
   },
   {
    "duration": 648,
    "start_time": "2022-06-22T19:08:53.543Z"
   },
   {
    "duration": 195,
    "start_time": "2022-06-22T19:08:54.194Z"
   },
   {
    "duration": 170,
    "start_time": "2022-06-22T19:08:54.390Z"
   },
   {
    "duration": 134,
    "start_time": "2022-06-22T19:08:54.562Z"
   },
   {
    "duration": 136,
    "start_time": "2022-06-22T19:08:54.697Z"
   },
   {
    "duration": 384,
    "start_time": "2022-06-22T19:08:54.835Z"
   },
   {
    "duration": 8,
    "start_time": "2022-06-22T19:08:55.221Z"
   },
   {
    "duration": 3107,
    "start_time": "2022-06-22T19:08:55.231Z"
   },
   {
    "duration": 5,
    "start_time": "2022-06-22T19:08:58.429Z"
   },
   {
    "duration": 116,
    "start_time": "2022-06-22T19:08:58.435Z"
   },
   {
    "duration": 19,
    "start_time": "2022-06-22T19:08:58.553Z"
   },
   {
    "duration": 11,
    "start_time": "2022-06-22T19:08:58.574Z"
   },
   {
    "duration": 12,
    "start_time": "2022-06-22T19:08:58.586Z"
   },
   {
    "duration": 11,
    "start_time": "2022-06-22T19:08:58.599Z"
   },
   {
    "duration": 19,
    "start_time": "2022-06-22T19:08:58.611Z"
   },
   {
    "duration": 95,
    "start_time": "2022-06-22T19:08:58.634Z"
   },
   {
    "duration": 12726,
    "start_time": "2022-06-22T19:08:58.731Z"
   },
   {
    "duration": 4111,
    "start_time": "2022-06-22T19:09:11.458Z"
   },
   {
    "duration": 6859,
    "start_time": "2022-06-22T19:09:15.570Z"
   },
   {
    "duration": 3,
    "start_time": "2022-06-22T19:09:22.431Z"
   },
   {
    "duration": 664,
    "start_time": "2022-06-22T19:09:22.436Z"
   },
   {
    "duration": 7,
    "start_time": "2022-06-22T19:09:23.102Z"
   },
   {
    "duration": 10,
    "start_time": "2022-06-22T19:09:23.110Z"
   },
   {
    "duration": 105,
    "start_time": "2022-06-22T19:09:23.121Z"
   },
   {
    "duration": 0,
    "start_time": "2022-06-22T19:09:23.228Z"
   },
   {
    "duration": 0,
    "start_time": "2022-06-22T19:09:23.229Z"
   },
   {
    "duration": 16,
    "start_time": "2022-06-22T19:11:16.600Z"
   },
   {
    "duration": 7,
    "start_time": "2022-06-22T19:11:17.685Z"
   },
   {
    "duration": 1332,
    "start_time": "2022-06-22T19:12:09.182Z"
   },
   {
    "duration": 54,
    "start_time": "2022-06-22T19:12:10.516Z"
   },
   {
    "duration": 10,
    "start_time": "2022-06-22T19:12:10.572Z"
   },
   {
    "duration": 6,
    "start_time": "2022-06-22T19:12:10.584Z"
   },
   {
    "duration": 5,
    "start_time": "2022-06-22T19:12:10.592Z"
   },
   {
    "duration": 5,
    "start_time": "2022-06-22T19:12:10.599Z"
   },
   {
    "duration": 32,
    "start_time": "2022-06-22T19:12:10.606Z"
   },
   {
    "duration": 13,
    "start_time": "2022-06-22T19:12:10.639Z"
   },
   {
    "duration": 249,
    "start_time": "2022-06-22T19:12:10.654Z"
   },
   {
    "duration": 225,
    "start_time": "2022-06-22T19:12:10.905Z"
   },
   {
    "duration": 297,
    "start_time": "2022-06-22T19:12:11.132Z"
   },
   {
    "duration": 7,
    "start_time": "2022-06-22T19:12:11.430Z"
   },
   {
    "duration": 630,
    "start_time": "2022-06-22T19:12:11.439Z"
   },
   {
    "duration": 179,
    "start_time": "2022-06-22T19:12:12.070Z"
   },
   {
    "duration": 160,
    "start_time": "2022-06-22T19:12:12.250Z"
   },
   {
    "duration": 132,
    "start_time": "2022-06-22T19:12:12.412Z"
   },
   {
    "duration": 133,
    "start_time": "2022-06-22T19:12:12.545Z"
   },
   {
    "duration": 363,
    "start_time": "2022-06-22T19:12:12.680Z"
   },
   {
    "duration": 7,
    "start_time": "2022-06-22T19:12:13.045Z"
   },
   {
    "duration": 1679,
    "start_time": "2022-06-22T19:12:13.053Z"
   },
   {
    "duration": 4,
    "start_time": "2022-06-22T19:12:14.734Z"
   },
   {
    "duration": 126,
    "start_time": "2022-06-22T19:12:14.830Z"
   },
   {
    "duration": 72,
    "start_time": "2022-06-22T19:12:14.958Z"
   },
   {
    "duration": 7,
    "start_time": "2022-06-22T19:12:15.032Z"
   },
   {
    "duration": 9,
    "start_time": "2022-06-22T19:12:15.040Z"
   },
   {
    "duration": 11,
    "start_time": "2022-06-22T19:12:15.050Z"
   },
   {
    "duration": 72,
    "start_time": "2022-06-22T19:12:15.062Z"
   },
   {
    "duration": 92,
    "start_time": "2022-06-22T19:12:15.140Z"
   },
   {
    "duration": 12477,
    "start_time": "2022-06-22T19:12:15.234Z"
   },
   {
    "duration": 4314,
    "start_time": "2022-06-22T19:12:27.713Z"
   },
   {
    "duration": 6905,
    "start_time": "2022-06-22T19:12:32.029Z"
   },
   {
    "duration": 4,
    "start_time": "2022-06-22T19:12:38.936Z"
   },
   {
    "duration": 704,
    "start_time": "2022-06-22T19:12:38.941Z"
   },
   {
    "duration": 5,
    "start_time": "2022-06-22T19:12:39.647Z"
   },
   {
    "duration": 9,
    "start_time": "2022-06-22T19:12:39.653Z"
   },
   {
    "duration": 18,
    "start_time": "2022-06-22T19:12:39.663Z"
   },
   {
    "duration": 4,
    "start_time": "2022-06-22T19:12:39.683Z"
   },
   {
    "duration": 3758,
    "start_time": "2022-06-23T17:25:21.733Z"
   },
   {
    "duration": 398,
    "start_time": "2022-06-23T17:25:25.499Z"
   },
   {
    "duration": 37,
    "start_time": "2022-06-23T17:25:25.903Z"
   },
   {
    "duration": 8,
    "start_time": "2022-06-23T17:25:25.969Z"
   },
   {
    "duration": 151,
    "start_time": "2022-06-23T17:25:25.985Z"
   },
   {
    "duration": 99,
    "start_time": "2022-06-23T17:25:26.141Z"
   },
   {
    "duration": 128,
    "start_time": "2022-06-23T17:25:26.248Z"
   },
   {
    "duration": 87,
    "start_time": "2022-06-23T17:25:26.382Z"
   },
   {
    "duration": 430,
    "start_time": "2022-06-23T17:25:26.476Z"
   },
   {
    "duration": 507,
    "start_time": "2022-06-23T17:25:26.913Z"
   },
   {
    "duration": 329,
    "start_time": "2022-06-23T17:25:27.427Z"
   },
   {
    "duration": 204,
    "start_time": "2022-06-23T17:25:27.763Z"
   },
   {
    "duration": 1409,
    "start_time": "2022-06-23T17:25:27.972Z"
   },
   {
    "duration": 413,
    "start_time": "2022-06-23T17:25:29.391Z"
   },
   {
    "duration": 449,
    "start_time": "2022-06-23T17:25:29.817Z"
   },
   {
    "duration": 289,
    "start_time": "2022-06-23T17:25:30.268Z"
   },
   {
    "duration": 378,
    "start_time": "2022-06-23T17:25:30.561Z"
   },
   {
    "duration": 750,
    "start_time": "2022-06-23T17:25:30.946Z"
   },
   {
    "duration": 38,
    "start_time": "2022-06-23T17:25:31.698Z"
   },
   {
    "duration": 7122,
    "start_time": "2022-06-23T17:25:31.738Z"
   },
   {
    "duration": 32,
    "start_time": "2022-06-23T17:25:38.890Z"
   },
   {
    "duration": 110,
    "start_time": "2022-06-23T17:25:38.938Z"
   },
   {
    "duration": 109,
    "start_time": "2022-06-23T17:25:39.060Z"
   },
   {
    "duration": 26,
    "start_time": "2022-06-23T17:25:39.175Z"
   },
   {
    "duration": 28,
    "start_time": "2022-06-23T17:25:39.211Z"
   },
   {
    "duration": 175,
    "start_time": "2022-06-23T17:25:39.242Z"
   },
   {
    "duration": 446,
    "start_time": "2022-06-23T17:25:39.422Z"
   },
   {
    "duration": 6,
    "start_time": "2022-06-23T17:25:39.915Z"
   },
   {
    "duration": 16150,
    "start_time": "2022-06-23T17:25:39.932Z"
   },
   {
    "duration": 5926,
    "start_time": "2022-06-23T17:25:56.084Z"
   },
   {
    "duration": 12855,
    "start_time": "2022-06-23T17:26:02.019Z"
   },
   {
    "duration": 20,
    "start_time": "2022-06-23T17:26:14.883Z"
   },
   {
    "duration": 1721,
    "start_time": "2022-06-23T17:26:14.913Z"
   },
   {
    "duration": 17,
    "start_time": "2022-06-23T17:26:16.636Z"
   },
   {
    "duration": 74,
    "start_time": "2022-06-23T17:26:16.665Z"
   },
   {
    "duration": 196,
    "start_time": "2022-06-23T17:26:16.742Z"
   },
   {
    "duration": 41,
    "start_time": "2022-06-23T17:26:16.941Z"
   },
   {
    "duration": 164,
    "start_time": "2022-06-23T17:42:37.407Z"
   },
   {
    "duration": 1752,
    "start_time": "2022-06-23T19:59:18.916Z"
   },
   {
    "duration": 139,
    "start_time": "2022-06-23T19:59:20.671Z"
   },
   {
    "duration": 11,
    "start_time": "2022-06-23T19:59:20.811Z"
   },
   {
    "duration": 4,
    "start_time": "2022-06-23T19:59:20.823Z"
   },
   {
    "duration": 17,
    "start_time": "2022-06-23T19:59:20.839Z"
   },
   {
    "duration": 7,
    "start_time": "2022-06-23T19:59:20.858Z"
   },
   {
    "duration": 16,
    "start_time": "2022-06-23T19:59:20.866Z"
   },
   {
    "duration": 12,
    "start_time": "2022-06-23T19:59:20.884Z"
   },
   {
    "duration": 261,
    "start_time": "2022-06-23T19:59:20.898Z"
   },
   {
    "duration": 357,
    "start_time": "2022-06-23T19:59:21.161Z"
   },
   {
    "duration": 284,
    "start_time": "2022-06-23T19:59:21.521Z"
   },
   {
    "duration": 33,
    "start_time": "2022-06-23T19:59:21.807Z"
   },
   {
    "duration": 708,
    "start_time": "2022-06-23T19:59:21.842Z"
   },
   {
    "duration": 225,
    "start_time": "2022-06-23T19:59:22.553Z"
   },
   {
    "duration": 223,
    "start_time": "2022-06-23T19:59:22.780Z"
   },
   {
    "duration": 162,
    "start_time": "2022-06-23T19:59:23.005Z"
   },
   {
    "duration": 276,
    "start_time": "2022-06-23T19:59:23.169Z"
   },
   {
    "duration": 396,
    "start_time": "2022-06-23T19:59:23.447Z"
   },
   {
    "duration": 10,
    "start_time": "2022-06-23T19:59:23.845Z"
   },
   {
    "duration": 4677,
    "start_time": "2022-06-23T19:59:23.857Z"
   },
   {
    "duration": 88,
    "start_time": "2022-06-23T19:59:28.545Z"
   },
   {
    "duration": 54,
    "start_time": "2022-06-23T19:59:28.637Z"
   },
   {
    "duration": 87,
    "start_time": "2022-06-23T19:59:28.694Z"
   },
   {
    "duration": 0,
    "start_time": "2022-06-23T19:59:28.783Z"
   },
   {
    "duration": 0,
    "start_time": "2022-06-23T19:59:28.784Z"
   },
   {
    "duration": 0,
    "start_time": "2022-06-23T19:59:28.786Z"
   },
   {
    "duration": 0,
    "start_time": "2022-06-23T19:59:28.788Z"
   },
   {
    "duration": 0,
    "start_time": "2022-06-23T19:59:28.790Z"
   },
   {
    "duration": 0,
    "start_time": "2022-06-23T19:59:28.792Z"
   },
   {
    "duration": 0,
    "start_time": "2022-06-23T19:59:28.793Z"
   },
   {
    "duration": 0,
    "start_time": "2022-06-23T19:59:28.794Z"
   },
   {
    "duration": 0,
    "start_time": "2022-06-23T19:59:28.796Z"
   },
   {
    "duration": 0,
    "start_time": "2022-06-23T19:59:28.798Z"
   },
   {
    "duration": 0,
    "start_time": "2022-06-23T19:59:28.799Z"
   },
   {
    "duration": 0,
    "start_time": "2022-06-23T19:59:28.801Z"
   },
   {
    "duration": 0,
    "start_time": "2022-06-23T19:59:28.802Z"
   },
   {
    "duration": 0,
    "start_time": "2022-06-23T19:59:28.804Z"
   },
   {
    "duration": 0,
    "start_time": "2022-06-23T19:59:28.809Z"
   },
   {
    "duration": 0,
    "start_time": "2022-06-23T19:59:28.813Z"
   },
   {
    "duration": 25,
    "start_time": "2022-06-23T20:00:00.762Z"
   },
   {
    "duration": 8,
    "start_time": "2022-06-23T20:00:01.908Z"
   },
   {
    "duration": 122,
    "start_time": "2022-06-23T20:05:59.766Z"
   },
   {
    "duration": 1609,
    "start_time": "2022-06-23T20:06:15.873Z"
   },
   {
    "duration": 79,
    "start_time": "2022-06-23T20:06:17.484Z"
   },
   {
    "duration": 16,
    "start_time": "2022-06-23T20:06:17.565Z"
   },
   {
    "duration": 4,
    "start_time": "2022-06-23T20:06:17.585Z"
   },
   {
    "duration": 5,
    "start_time": "2022-06-23T20:06:17.592Z"
   },
   {
    "duration": 37,
    "start_time": "2022-06-23T20:06:17.598Z"
   },
   {
    "duration": 19,
    "start_time": "2022-06-23T20:06:17.639Z"
   },
   {
    "duration": 13,
    "start_time": "2022-06-23T20:06:17.660Z"
   },
   {
    "duration": 279,
    "start_time": "2022-06-23T20:06:17.675Z"
   },
   {
    "duration": 256,
    "start_time": "2022-06-23T20:06:17.956Z"
   },
   {
    "duration": 344,
    "start_time": "2022-06-23T20:06:18.213Z"
   },
   {
    "duration": 9,
    "start_time": "2022-06-23T20:06:18.558Z"
   },
   {
    "duration": 796,
    "start_time": "2022-06-23T20:06:18.570Z"
   },
   {
    "duration": 284,
    "start_time": "2022-06-23T20:06:19.368Z"
   },
   {
    "duration": 208,
    "start_time": "2022-06-23T20:06:19.655Z"
   },
   {
    "duration": 182,
    "start_time": "2022-06-23T20:06:19.864Z"
   },
   {
    "duration": 172,
    "start_time": "2022-06-23T20:06:20.049Z"
   },
   {
    "duration": 494,
    "start_time": "2022-06-23T20:06:20.223Z"
   },
   {
    "duration": 19,
    "start_time": "2022-06-23T20:06:20.719Z"
   },
   {
    "duration": 5710,
    "start_time": "2022-06-23T20:06:20.741Z"
   },
   {
    "duration": 74,
    "start_time": "2022-06-23T20:06:26.453Z"
   },
   {
    "duration": 178,
    "start_time": "2022-06-23T20:06:26.530Z"
   },
   {
    "duration": 7,
    "start_time": "2022-06-23T20:06:26.709Z"
   },
   {
    "duration": 21,
    "start_time": "2022-06-23T20:06:26.718Z"
   },
   {
    "duration": 10,
    "start_time": "2022-06-23T20:06:26.745Z"
   },
   {
    "duration": 21,
    "start_time": "2022-06-23T20:06:26.757Z"
   },
   {
    "duration": 169,
    "start_time": "2022-06-23T20:06:26.781Z"
   },
   {
    "duration": 16,
    "start_time": "2022-06-23T20:06:27.026Z"
   },
   {
    "duration": 12120,
    "start_time": "2022-06-23T20:06:27.048Z"
   },
   {
    "duration": 4421,
    "start_time": "2022-06-23T20:06:39.170Z"
   },
   {
    "duration": 7805,
    "start_time": "2022-06-23T20:06:43.593Z"
   },
   {
    "duration": 4,
    "start_time": "2022-06-23T20:06:51.400Z"
   },
   {
    "duration": 690,
    "start_time": "2022-06-23T20:06:51.406Z"
   },
   {
    "duration": 8,
    "start_time": "2022-06-23T20:06:52.098Z"
   },
   {
    "duration": 21,
    "start_time": "2022-06-23T20:06:52.108Z"
   },
   {
    "duration": 145,
    "start_time": "2022-06-23T20:06:52.134Z"
   },
   {
    "duration": 7,
    "start_time": "2022-06-23T20:06:52.280Z"
   },
   {
    "duration": 209,
    "start_time": "2022-06-23T20:06:52.326Z"
   },
   {
    "duration": 305,
    "start_time": "2022-06-23T20:07:20.846Z"
   },
   {
    "duration": 7,
    "start_time": "2022-06-23T20:08:04.384Z"
   },
   {
    "duration": 12,
    "start_time": "2022-06-23T20:08:23.959Z"
   },
   {
    "duration": 10,
    "start_time": "2022-06-23T20:09:28.448Z"
   },
   {
    "duration": 271,
    "start_time": "2022-06-23T20:09:44.290Z"
   },
   {
    "duration": 176,
    "start_time": "2022-06-23T20:09:59.697Z"
   },
   {
    "duration": 191,
    "start_time": "2022-06-23T20:10:14.690Z"
   },
   {
    "duration": 144,
    "start_time": "2022-06-23T20:10:55.993Z"
   },
   {
    "duration": 7,
    "start_time": "2022-06-23T20:11:31.065Z"
   },
   {
    "duration": 128,
    "start_time": "2022-06-23T20:11:36.625Z"
   },
   {
    "duration": 178,
    "start_time": "2022-06-23T20:12:16.122Z"
   },
   {
    "duration": 124,
    "start_time": "2022-06-23T20:13:16.211Z"
   },
   {
    "duration": 194,
    "start_time": "2022-06-23T20:13:43.547Z"
   },
   {
    "duration": 150,
    "start_time": "2022-06-23T20:14:19.744Z"
   },
   {
    "duration": 200,
    "start_time": "2022-06-23T20:14:35.490Z"
   },
   {
    "duration": 211,
    "start_time": "2022-06-23T20:15:11.358Z"
   },
   {
    "duration": 449,
    "start_time": "2022-06-23T20:15:41.903Z"
   },
   {
    "duration": 214,
    "start_time": "2022-06-23T20:16:08.565Z"
   },
   {
    "duration": 239,
    "start_time": "2022-06-23T20:16:42.924Z"
   },
   {
    "duration": 287,
    "start_time": "2022-06-23T20:17:30.325Z"
   },
   {
    "duration": 317,
    "start_time": "2022-06-23T20:17:49.485Z"
   },
   {
    "duration": 296,
    "start_time": "2022-06-23T20:18:13.249Z"
   },
   {
    "duration": 298,
    "start_time": "2022-06-23T20:18:20.374Z"
   },
   {
    "duration": 6,
    "start_time": "2022-06-23T20:18:40.687Z"
   },
   {
    "duration": 314,
    "start_time": "2022-06-23T20:18:49.469Z"
   },
   {
    "duration": 331,
    "start_time": "2022-06-23T20:21:33.917Z"
   },
   {
    "duration": 335,
    "start_time": "2022-06-23T20:22:09.004Z"
   },
   {
    "duration": 320,
    "start_time": "2022-06-23T20:22:26.177Z"
   },
   {
    "duration": 295,
    "start_time": "2022-06-23T20:23:08.775Z"
   },
   {
    "duration": 622,
    "start_time": "2022-06-23T20:23:59.777Z"
   },
   {
    "duration": 13,
    "start_time": "2022-06-23T20:27:06.905Z"
   },
   {
    "duration": 18,
    "start_time": "2022-06-23T20:27:42.122Z"
   },
   {
    "duration": 20,
    "start_time": "2022-06-23T20:28:02.821Z"
   },
   {
    "duration": 284,
    "start_time": "2022-06-23T20:29:06.995Z"
   },
   {
    "duration": 318,
    "start_time": "2022-06-23T20:30:17.515Z"
   },
   {
    "duration": 357,
    "start_time": "2022-06-23T20:30:33.263Z"
   },
   {
    "duration": 343,
    "start_time": "2022-06-23T20:32:00.582Z"
   },
   {
    "duration": 181,
    "start_time": "2022-06-23T20:33:07.563Z"
   },
   {
    "duration": 170,
    "start_time": "2022-06-23T20:33:20.310Z"
   },
   {
    "duration": 200,
    "start_time": "2022-06-23T20:33:26.069Z"
   },
   {
    "duration": 234,
    "start_time": "2022-06-23T20:35:00.887Z"
   },
   {
    "duration": 312,
    "start_time": "2022-06-23T20:38:56.385Z"
   },
   {
    "duration": 170,
    "start_time": "2022-06-23T20:39:35.275Z"
   },
   {
    "duration": 292,
    "start_time": "2022-06-23T20:39:57.169Z"
   },
   {
    "duration": 130,
    "start_time": "2022-06-23T20:48:47.748Z"
   },
   {
    "duration": 318,
    "start_time": "2022-06-23T20:49:55.485Z"
   },
   {
    "duration": 306,
    "start_time": "2022-06-23T20:56:02.751Z"
   },
   {
    "duration": 319,
    "start_time": "2022-06-23T20:56:22.043Z"
   },
   {
    "duration": 301,
    "start_time": "2022-06-23T20:57:06.746Z"
   },
   {
    "duration": 527,
    "start_time": "2022-06-23T20:58:07.576Z"
   },
   {
    "duration": 364,
    "start_time": "2022-06-23T20:58:25.354Z"
   },
   {
    "duration": 324,
    "start_time": "2022-06-23T20:59:45.042Z"
   },
   {
    "duration": 181,
    "start_time": "2022-06-23T21:00:29.882Z"
   },
   {
    "duration": 336,
    "start_time": "2022-06-23T21:01:18.459Z"
   },
   {
    "duration": 341,
    "start_time": "2022-06-23T21:01:27.326Z"
   },
   {
    "duration": 328,
    "start_time": "2022-06-23T21:01:35.980Z"
   },
   {
    "duration": 371,
    "start_time": "2022-06-23T21:01:50.247Z"
   },
   {
    "duration": 340,
    "start_time": "2022-06-23T21:02:00.499Z"
   },
   {
    "duration": 348,
    "start_time": "2022-06-23T21:02:27.158Z"
   },
   {
    "duration": 4,
    "start_time": "2022-06-23T21:09:03.685Z"
   },
   {
    "duration": 9,
    "start_time": "2022-06-23T21:09:09.766Z"
   },
   {
    "duration": 18,
    "start_time": "2022-06-23T21:09:15.647Z"
   },
   {
    "duration": 10,
    "start_time": "2022-06-23T21:10:13.892Z"
   },
   {
    "duration": 21,
    "start_time": "2022-06-23T21:10:19.474Z"
   },
   {
    "duration": 13,
    "start_time": "2022-06-23T21:10:34.473Z"
   },
   {
    "duration": 17,
    "start_time": "2022-06-23T21:10:42.319Z"
   },
   {
    "duration": 14,
    "start_time": "2022-06-23T21:11:07.568Z"
   },
   {
    "duration": 314,
    "start_time": "2022-06-23T21:15:05.793Z"
   },
   {
    "duration": 398,
    "start_time": "2022-06-23T21:20:11.171Z"
   },
   {
    "duration": 360,
    "start_time": "2022-06-23T21:20:26.345Z"
   },
   {
    "duration": 357,
    "start_time": "2022-06-23T21:20:59.891Z"
   },
   {
    "duration": 342,
    "start_time": "2022-06-23T21:21:11.972Z"
   },
   {
    "duration": 364,
    "start_time": "2022-06-23T21:22:17.493Z"
   },
   {
    "duration": 71,
    "start_time": "2022-06-23T21:23:31.169Z"
   },
   {
    "duration": 1678,
    "start_time": "2022-06-23T21:23:50.305Z"
   },
   {
    "duration": 65,
    "start_time": "2022-06-23T21:23:51.985Z"
   },
   {
    "duration": 11,
    "start_time": "2022-06-23T21:23:52.052Z"
   },
   {
    "duration": 4,
    "start_time": "2022-06-23T21:23:52.066Z"
   },
   {
    "duration": 8,
    "start_time": "2022-06-23T21:23:52.072Z"
   },
   {
    "duration": 9,
    "start_time": "2022-06-23T21:23:52.081Z"
   },
   {
    "duration": 39,
    "start_time": "2022-06-23T21:23:52.092Z"
   },
   {
    "duration": 18,
    "start_time": "2022-06-23T21:23:52.133Z"
   },
   {
    "duration": 275,
    "start_time": "2022-06-23T21:23:52.153Z"
   },
   {
    "duration": 300,
    "start_time": "2022-06-23T21:23:52.431Z"
   },
   {
    "duration": 357,
    "start_time": "2022-06-23T21:23:52.735Z"
   },
   {
    "duration": 7,
    "start_time": "2022-06-23T21:23:53.094Z"
   },
   {
    "duration": 766,
    "start_time": "2022-06-23T21:23:53.103Z"
   },
   {
    "duration": 226,
    "start_time": "2022-06-23T21:23:53.871Z"
   },
   {
    "duration": 259,
    "start_time": "2022-06-23T21:23:54.099Z"
   },
   {
    "duration": 202,
    "start_time": "2022-06-23T21:23:54.360Z"
   },
   {
    "duration": 194,
    "start_time": "2022-06-23T21:23:54.564Z"
   },
   {
    "duration": 464,
    "start_time": "2022-06-23T21:23:54.760Z"
   },
   {
    "duration": 26,
    "start_time": "2022-06-23T21:23:55.230Z"
   },
   {
    "duration": 4775,
    "start_time": "2022-06-23T21:23:55.258Z"
   },
   {
    "duration": 9,
    "start_time": "2022-06-23T21:24:00.039Z"
   },
   {
    "duration": 149,
    "start_time": "2022-06-23T21:24:00.054Z"
   },
   {
    "duration": 6,
    "start_time": "2022-06-23T21:24:00.205Z"
   },
   {
    "duration": 26,
    "start_time": "2022-06-23T21:24:00.213Z"
   },
   {
    "duration": 33,
    "start_time": "2022-06-23T21:24:00.241Z"
   },
   {
    "duration": 20,
    "start_time": "2022-06-23T21:24:00.276Z"
   },
   {
    "duration": 56,
    "start_time": "2022-06-23T21:24:00.298Z"
   },
   {
    "duration": 99,
    "start_time": "2022-06-23T21:24:00.358Z"
   },
   {
    "duration": 12195,
    "start_time": "2022-06-23T21:24:00.460Z"
   },
   {
    "duration": 4413,
    "start_time": "2022-06-23T21:24:12.656Z"
   },
   {
    "duration": 7390,
    "start_time": "2022-06-23T21:24:17.071Z"
   },
   {
    "duration": 4,
    "start_time": "2022-06-23T21:24:24.464Z"
   },
   {
    "duration": 630,
    "start_time": "2022-06-23T21:24:24.470Z"
   },
   {
    "duration": 11,
    "start_time": "2022-06-23T21:24:25.103Z"
   },
   {
    "duration": 15,
    "start_time": "2022-06-23T21:24:25.117Z"
   },
   {
    "duration": 193,
    "start_time": "2022-06-23T21:24:25.134Z"
   },
   {
    "duration": 17,
    "start_time": "2022-06-23T21:24:25.329Z"
   },
   {
    "duration": 347,
    "start_time": "2022-06-23T21:24:25.348Z"
   }
  ],
  "kernelspec": {
   "display_name": "Python 3 (ipykernel)",
   "language": "python",
   "name": "python3"
  },
  "language_info": {
   "codemirror_mode": {
    "name": "ipython",
    "version": 3
   },
   "file_extension": ".py",
   "mimetype": "text/x-python",
   "name": "python",
   "nbconvert_exporter": "python",
   "pygments_lexer": "ipython3",
   "version": "3.9.5"
  },
  "toc": {
   "base_numbering": 1,
   "nav_menu": {},
   "number_sections": true,
   "sideBar": true,
   "skip_h1_title": true,
   "title_cell": "Содержание",
   "title_sidebar": "Contents",
   "toc_cell": true,
   "toc_position": {
    "height": "calc(100% - 180px)",
    "left": "10px",
    "top": "150px",
    "width": "289.6px"
   },
   "toc_section_display": true,
   "toc_window_display": true
  }
 },
 "nbformat": 4,
 "nbformat_minor": 2
}
