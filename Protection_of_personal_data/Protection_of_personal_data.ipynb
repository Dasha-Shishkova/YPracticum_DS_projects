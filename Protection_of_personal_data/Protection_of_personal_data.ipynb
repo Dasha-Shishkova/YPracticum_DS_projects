{
 "cells": [
  {
   "cell_type": "markdown",
   "metadata": {},
   "source": [
    "## Загрузка данных"
   ]
  },
  {
   "cell_type": "code",
   "execution_count": 1,
   "metadata": {},
   "outputs": [],
   "source": [
    "import pandas as pd\n",
    "import numpy as np\n",
    "from numpy import linalg as LA\n",
    "from sklearn.model_selection import train_test_split\n",
    "from sklearn.linear_model import LinearRegression\n",
    "from sklearn.metrics import r2_score"
   ]
  },
  {
   "cell_type": "code",
   "execution_count": 2,
   "metadata": {},
   "outputs": [
    {
     "data": {
      "text/html": [
       "<div>\n",
       "<style scoped>\n",
       "    .dataframe tbody tr th:only-of-type {\n",
       "        vertical-align: middle;\n",
       "    }\n",
       "\n",
       "    .dataframe tbody tr th {\n",
       "        vertical-align: top;\n",
       "    }\n",
       "\n",
       "    .dataframe thead th {\n",
       "        text-align: right;\n",
       "    }\n",
       "</style>\n",
       "<table border=\"1\" class=\"dataframe\">\n",
       "  <thead>\n",
       "    <tr style=\"text-align: right;\">\n",
       "      <th></th>\n",
       "      <th>Пол</th>\n",
       "      <th>Возраст</th>\n",
       "      <th>Зарплата</th>\n",
       "      <th>Члены семьи</th>\n",
       "      <th>Страховые выплаты</th>\n",
       "    </tr>\n",
       "  </thead>\n",
       "  <tbody>\n",
       "    <tr>\n",
       "      <th>0</th>\n",
       "      <td>1</td>\n",
       "      <td>41.0</td>\n",
       "      <td>49600.0</td>\n",
       "      <td>1</td>\n",
       "      <td>0</td>\n",
       "    </tr>\n",
       "    <tr>\n",
       "      <th>1</th>\n",
       "      <td>0</td>\n",
       "      <td>46.0</td>\n",
       "      <td>38000.0</td>\n",
       "      <td>1</td>\n",
       "      <td>1</td>\n",
       "    </tr>\n",
       "    <tr>\n",
       "      <th>2</th>\n",
       "      <td>0</td>\n",
       "      <td>29.0</td>\n",
       "      <td>21000.0</td>\n",
       "      <td>0</td>\n",
       "      <td>0</td>\n",
       "    </tr>\n",
       "    <tr>\n",
       "      <th>3</th>\n",
       "      <td>0</td>\n",
       "      <td>21.0</td>\n",
       "      <td>41700.0</td>\n",
       "      <td>2</td>\n",
       "      <td>0</td>\n",
       "    </tr>\n",
       "    <tr>\n",
       "      <th>4</th>\n",
       "      <td>1</td>\n",
       "      <td>28.0</td>\n",
       "      <td>26100.0</td>\n",
       "      <td>0</td>\n",
       "      <td>0</td>\n",
       "    </tr>\n",
       "  </tbody>\n",
       "</table>\n",
       "</div>"
      ],
      "text/plain": [
       "   Пол  Возраст  Зарплата  Члены семьи  Страховые выплаты\n",
       "0    1     41.0   49600.0            1                  0\n",
       "1    0     46.0   38000.0            1                  1\n",
       "2    0     29.0   21000.0            0                  0\n",
       "3    0     21.0   41700.0            2                  0\n",
       "4    1     28.0   26100.0            0                  0"
      ]
     },
     "execution_count": 2,
     "metadata": {},
     "output_type": "execute_result"
    }
   ],
   "source": [
    "# прочитаем файл\n",
    "data = pd.read_csv('/datasets/insurance.csv')\n",
    "data.head()"
   ]
  },
  {
   "cell_type": "code",
   "execution_count": 3,
   "metadata": {},
   "outputs": [
    {
     "data": {
      "text/plain": [
       "Пол                  0\n",
       "Возраст              0\n",
       "Зарплата             0\n",
       "Члены семьи          0\n",
       "Страховые выплаты    0\n",
       "dtype: int64"
      ]
     },
     "execution_count": 3,
     "metadata": {},
     "output_type": "execute_result"
    }
   ],
   "source": [
    "# проверим пропуски\n",
    "data.isna().sum()"
   ]
  },
  {
   "cell_type": "code",
   "execution_count": 4,
   "metadata": {},
   "outputs": [
    {
     "data": {
      "text/plain": [
       "153"
      ]
     },
     "execution_count": 4,
     "metadata": {},
     "output_type": "execute_result"
    }
   ],
   "source": [
    "# проверим дубликаты\n",
    "data.duplicated().sum()"
   ]
  },
  {
   "cell_type": "code",
   "execution_count": 5,
   "metadata": {},
   "outputs": [],
   "source": [
    "# удалим дубликаты\n",
    "data = data.drop_duplicates().reset_index(drop=True)"
   ]
  },
  {
   "cell_type": "code",
   "execution_count": 6,
   "metadata": {},
   "outputs": [
    {
     "data": {
      "text/plain": [
       "0"
      ]
     },
     "execution_count": 6,
     "metadata": {},
     "output_type": "execute_result"
    }
   ],
   "source": [
    "data.duplicated().sum()"
   ]
  },
  {
   "cell_type": "code",
   "execution_count": 7,
   "metadata": {},
   "outputs": [
    {
     "name": "stdout",
     "output_type": "stream",
     "text": [
      "<class 'pandas.core.frame.DataFrame'>\n",
      "RangeIndex: 4847 entries, 0 to 4846\n",
      "Data columns (total 5 columns):\n",
      " #   Column             Non-Null Count  Dtype  \n",
      "---  ------             --------------  -----  \n",
      " 0   Пол                4847 non-null   int64  \n",
      " 1   Возраст            4847 non-null   float64\n",
      " 2   Зарплата           4847 non-null   float64\n",
      " 3   Члены семьи        4847 non-null   int64  \n",
      " 4   Страховые выплаты  4847 non-null   int64  \n",
      "dtypes: float64(2), int64(3)\n",
      "memory usage: 189.5 KB\n"
     ]
    }
   ],
   "source": [
    "# посмотрим общую информацию\n",
    "data.info()"
   ]
  },
  {
   "cell_type": "code",
   "execution_count": 8,
   "metadata": {},
   "outputs": [
    {
     "data": {
      "text/html": [
       "<div>\n",
       "<style scoped>\n",
       "    .dataframe tbody tr th:only-of-type {\n",
       "        vertical-align: middle;\n",
       "    }\n",
       "\n",
       "    .dataframe tbody tr th {\n",
       "        vertical-align: top;\n",
       "    }\n",
       "\n",
       "    .dataframe thead th {\n",
       "        text-align: right;\n",
       "    }\n",
       "</style>\n",
       "<table border=\"1\" class=\"dataframe\">\n",
       "  <thead>\n",
       "    <tr style=\"text-align: right;\">\n",
       "      <th></th>\n",
       "      <th>Возраст</th>\n",
       "      <th>Зарплата</th>\n",
       "    </tr>\n",
       "  </thead>\n",
       "  <tbody>\n",
       "    <tr>\n",
       "      <th>4842</th>\n",
       "      <td>28</td>\n",
       "      <td>35700</td>\n",
       "    </tr>\n",
       "    <tr>\n",
       "      <th>4843</th>\n",
       "      <td>34</td>\n",
       "      <td>52400</td>\n",
       "    </tr>\n",
       "    <tr>\n",
       "      <th>4844</th>\n",
       "      <td>20</td>\n",
       "      <td>33900</td>\n",
       "    </tr>\n",
       "    <tr>\n",
       "      <th>4845</th>\n",
       "      <td>22</td>\n",
       "      <td>32700</td>\n",
       "    </tr>\n",
       "    <tr>\n",
       "      <th>4846</th>\n",
       "      <td>28</td>\n",
       "      <td>40600</td>\n",
       "    </tr>\n",
       "  </tbody>\n",
       "</table>\n",
       "</div>"
      ],
      "text/plain": [
       "      Возраст  Зарплата\n",
       "4842       28     35700\n",
       "4843       34     52400\n",
       "4844       20     33900\n",
       "4845       22     32700\n",
       "4846       28     40600"
      ]
     },
     "execution_count": 8,
     "metadata": {},
     "output_type": "execute_result"
    }
   ],
   "source": [
    "# приведем данные к нужным типам\n",
    "data['Возраст'] = data['Возраст'].astype('int')\n",
    "data['Зарплата'] = data['Зарплата'].astype('int')\n",
    "data[['Возраст', 'Зарплата']].tail()"
   ]
  },
  {
   "cell_type": "code",
   "execution_count": 9,
   "metadata": {},
   "outputs": [
    {
     "data": {
      "text/html": [
       "<div>\n",
       "<style scoped>\n",
       "    .dataframe tbody tr th:only-of-type {\n",
       "        vertical-align: middle;\n",
       "    }\n",
       "\n",
       "    .dataframe tbody tr th {\n",
       "        vertical-align: top;\n",
       "    }\n",
       "\n",
       "    .dataframe thead th {\n",
       "        text-align: right;\n",
       "    }\n",
       "</style>\n",
       "<table border=\"1\" class=\"dataframe\">\n",
       "  <thead>\n",
       "    <tr style=\"text-align: right;\">\n",
       "      <th></th>\n",
       "      <th>Пол</th>\n",
       "      <th>Возраст</th>\n",
       "      <th>Зарплата</th>\n",
       "      <th>Члены семьи</th>\n",
       "      <th>Страховые выплаты</th>\n",
       "    </tr>\n",
       "  </thead>\n",
       "  <tbody>\n",
       "    <tr>\n",
       "      <th>count</th>\n",
       "      <td>4847.000000</td>\n",
       "      <td>4847.000000</td>\n",
       "      <td>4847.000000</td>\n",
       "      <td>4847.000000</td>\n",
       "      <td>4847.000000</td>\n",
       "    </tr>\n",
       "    <tr>\n",
       "      <th>mean</th>\n",
       "      <td>0.498453</td>\n",
       "      <td>31.023932</td>\n",
       "      <td>39895.811223</td>\n",
       "      <td>1.203425</td>\n",
       "      <td>0.152259</td>\n",
       "    </tr>\n",
       "    <tr>\n",
       "      <th>std</th>\n",
       "      <td>0.500049</td>\n",
       "      <td>8.487995</td>\n",
       "      <td>9972.952441</td>\n",
       "      <td>1.098664</td>\n",
       "      <td>0.468934</td>\n",
       "    </tr>\n",
       "    <tr>\n",
       "      <th>min</th>\n",
       "      <td>0.000000</td>\n",
       "      <td>18.000000</td>\n",
       "      <td>5300.000000</td>\n",
       "      <td>0.000000</td>\n",
       "      <td>0.000000</td>\n",
       "    </tr>\n",
       "    <tr>\n",
       "      <th>25%</th>\n",
       "      <td>0.000000</td>\n",
       "      <td>24.000000</td>\n",
       "      <td>33200.000000</td>\n",
       "      <td>0.000000</td>\n",
       "      <td>0.000000</td>\n",
       "    </tr>\n",
       "    <tr>\n",
       "      <th>50%</th>\n",
       "      <td>0.000000</td>\n",
       "      <td>30.000000</td>\n",
       "      <td>40200.000000</td>\n",
       "      <td>1.000000</td>\n",
       "      <td>0.000000</td>\n",
       "    </tr>\n",
       "    <tr>\n",
       "      <th>75%</th>\n",
       "      <td>1.000000</td>\n",
       "      <td>37.000000</td>\n",
       "      <td>46600.000000</td>\n",
       "      <td>2.000000</td>\n",
       "      <td>0.000000</td>\n",
       "    </tr>\n",
       "    <tr>\n",
       "      <th>max</th>\n",
       "      <td>1.000000</td>\n",
       "      <td>65.000000</td>\n",
       "      <td>79000.000000</td>\n",
       "      <td>6.000000</td>\n",
       "      <td>5.000000</td>\n",
       "    </tr>\n",
       "  </tbody>\n",
       "</table>\n",
       "</div>"
      ],
      "text/plain": [
       "               Пол      Возраст      Зарплата  Члены семьи  Страховые выплаты\n",
       "count  4847.000000  4847.000000   4847.000000  4847.000000        4847.000000\n",
       "mean      0.498453    31.023932  39895.811223     1.203425           0.152259\n",
       "std       0.500049     8.487995   9972.952441     1.098664           0.468934\n",
       "min       0.000000    18.000000   5300.000000     0.000000           0.000000\n",
       "25%       0.000000    24.000000  33200.000000     0.000000           0.000000\n",
       "50%       0.000000    30.000000  40200.000000     1.000000           0.000000\n",
       "75%       1.000000    37.000000  46600.000000     2.000000           0.000000\n",
       "max       1.000000    65.000000  79000.000000     6.000000           5.000000"
      ]
     },
     "execution_count": 9,
     "metadata": {},
     "output_type": "execute_result"
    }
   ],
   "source": [
    "# проверим аномалии\n",
    "data.describe()"
   ]
  },
  {
   "cell_type": "markdown",
   "metadata": {},
   "source": [
    "Данные корректны, аномалий нет, пропусков нет. Были обнаружены и удалены дубликаты."
   ]
  },
  {
   "cell_type": "markdown",
   "metadata": {},
   "source": [
    "## Умножение матриц"
   ]
  },
  {
   "cell_type": "markdown",
   "metadata": {},
   "source": [
    "Признаки умножают на обратимую матрицу. Изменится ли качество линейной регрессии?"
   ]
  },
  {
   "cell_type": "markdown",
   "metadata": {},
   "source": [
    "**Ответ:** b) Не изменится.\n",
    "\n",
    "**Обоснование:** "
   ]
  },
  {
   "cell_type": "markdown",
   "metadata": {},
   "source": [
    "Обозначения:\n",
    "\n",
    "- $X$ — матрица признаков (нулевой столбец состоит из единиц)\n",
    "\n",
    "- $y_1, y_2$ — векторы целевого признака\n",
    "\n",
    "- $P$ — матрица, на которую умножаются признаки\n",
    "\n",
    "- $w_1, w_2$ — векторы весов линейной регрессии (нулевой элемент равен сдвигу)"
   ]
  },
  {
   "cell_type": "markdown",
   "metadata": {},
   "source": [
    "Предсказания:\n",
    "\n",
    "$$\n",
    "a_1 = Xw_1$$\n",
    "$$\n",
    "a_2 = XPw_2\n",
    "$$\n",
    "\n",
    "\n",
    "Формула вычисления весов:\n",
    "\n",
    "$$\n",
    "w_1 = (X^T X)^{-1} X^T y_1$$\n",
    "$$\n",
    "w_2 = ((XP)^T (XP))^{-1} (XP)^T y_2$$\n",
    "\n",
    "\n",
    "Из теории нам известно:\n",
    "\n",
    "$$\n",
    "AE = EA = A$$\n",
    "$$\n",
    "AA^{-1} = A^{-1}A = E$$\n",
    "$$ \n",
    "(AB)^{-1} = B^{-1}A^{-1}$$\n",
    "$$\n",
    "(AB)^T = B^TA^T$$\n",
    "\n",
    "\n",
    "Необходимо доказать, что предсказания не изменятся (равны):\n",
    "\n",
    "$$\n",
    "a_1 = a_2$$\n",
    "$$\n",
    "Xw_1 = XPw_2$$\n",
    "\n",
    "\n",
    "Пользуясь теорией, произведем преобразования:\n",
    "$$\n",
    "w_2 = ((XP)^T (XP))^{-1} (XP)^T y_2 =$$\n",
    "$$\n",
    "(P^TX^TXP)^{-1}P^TX^Ty_2 =$$\n",
    "$$\n",
    "P^{-1}(P^TX^TX)^{-1}P^TX^Ty_2 =$$\n",
    "$$\n",
    "P^{-1}(X^TX)^{-1}(P^T)^{-1}P^TX^Ty_2 =$$\n",
    "$$\n",
    "P^{-1}(X^TX)^{-1}EX^Ty_2 =$$\n",
    "$$\n",
    "P^{-1}(X^TX)^{-1}X^Ty_2$$\n",
    "\n",
    "\n",
    "Произведем доказательство:\n",
    "\n",
    "$$\n",
    "X(X^T X)^{-1} X^T y_1 = XPP^{-1}(X^TX)^{-1}X^Ty_2$$\n",
    "$$\n",
    "X(X^T X)^{-1} X^T y_1 = XE(X^TX)^{-1}X^Ty_2$$\n",
    "$$\n",
    "X(X^T X)^{-1} X^T y_1 = X(X^TX)^{-1}X^Ty_2$$\n",
    "\n",
    "\n",
    "Получается, что $a_1 = a_2$, а это значит, что качество модели не изменится."
   ]
  },
  {
   "cell_type": "markdown",
   "metadata": {},
   "source": [
    "## Алгоритм преобразования"
   ]
  },
  {
   "cell_type": "markdown",
   "metadata": {},
   "source": [
    "**Алгоритм**\n",
    "\n",
    "1. Отделить матрицу признаков и вектор целевого признака.\n",
    "2. Так как обратная матрица может быть найдена только для квадратной матрицы, нужно создать случайную обратимую квадратную матрицу со стороной, равной колучеству признаков.\n",
    "3. В отдельную переменную сохранить обратную матрицу от случайной квадратной матрицы, чтобы иметь возможность восстановить исходную матрицу признаков.\n",
    "4. Создать собственный класс модели, внутри которого происходит умножение матрицы признаков на случайную обратимую матрицу."
   ]
  },
  {
   "cell_type": "markdown",
   "metadata": {},
   "source": [
    "**Обоснование**\n",
    "\n",
    "При вычислении предсказания, случайная матрица как бы \"съедается\", превращаясь в единичную. Таким образом формула вычесления весов становится такой, как была до преобразования."
   ]
  },
  {
   "cell_type": "markdown",
   "metadata": {},
   "source": [
    "## Проверка алгоритма"
   ]
  },
  {
   "cell_type": "markdown",
   "metadata": {},
   "source": [
    "### Создание необходимых переменных"
   ]
  },
  {
   "cell_type": "code",
   "execution_count": 10,
   "metadata": {},
   "outputs": [],
   "source": [
    "# разобьем на признаки и целевой признак\n",
    "features = data.drop(['Страховые выплаты'], axis=1)\n",
    "target = data['Страховые выплаты']"
   ]
  },
  {
   "cell_type": "code",
   "execution_count": 11,
   "metadata": {},
   "outputs": [],
   "source": [
    "# разделим на обучающую и тестовую выборки\n",
    "features_train, features_test, target_train, target_test = (\n",
    "    train_test_split(features, target, test_size=0.25, random_state=5))"
   ]
  },
  {
   "cell_type": "code",
   "execution_count": 12,
   "metadata": {},
   "outputs": [
    {
     "data": {
      "text/plain": [
       "array([[-2.33908378, -0.21287071,  0.36323943, -1.86473796],\n",
       "       [-0.99206804, -0.24075521,  1.15621615, -0.82664708],\n",
       "       [ 0.34534724, -0.83526248,  1.55435592, -0.3662362 ],\n",
       "       [ 0.33337049,  0.24623838, -0.12758269, -0.25483428]])"
      ]
     },
     "execution_count": 12,
     "metadata": {},
     "output_type": "execute_result"
    }
   ],
   "source": [
    "# создадим случаную обратимую матрицу\n",
    "random_matrix = np.random.normal(size=(features.shape[1], features.shape[1]))\n",
    "random_matrix"
   ]
  },
  {
   "cell_type": "code",
   "execution_count": 13,
   "metadata": {},
   "outputs": [
    {
     "data": {
      "text/plain": [
       "array([[-0.01476484, -0.47675392,  0.44178067,  1.01965759],\n",
       "       [-0.82581566,  1.97874102, -1.17156418,  1.30782466],\n",
       "       [-0.56625583,  1.31738786, -0.19224602,  0.14641427],\n",
       "       [-0.53377917,  0.62876317, -0.45786682, -1.3998099 ]])"
      ]
     },
     "execution_count": 13,
     "metadata": {},
     "output_type": "execute_result"
    }
   ],
   "source": [
    "# сохраним в отдельную переменную обратную от random_matrix\n",
    "decrypt_matrix = LA.inv(random_matrix)\n",
    "decrypt_matrix"
   ]
  },
  {
   "cell_type": "markdown",
   "metadata": {},
   "source": [
    "### Проверка восстановления исходных данных"
   ]
  },
  {
   "cell_type": "code",
   "execution_count": 14,
   "metadata": {},
   "outputs": [
    {
     "data": {
      "text/html": [
       "<div>\n",
       "<style scoped>\n",
       "    .dataframe tbody tr th:only-of-type {\n",
       "        vertical-align: middle;\n",
       "    }\n",
       "\n",
       "    .dataframe tbody tr th {\n",
       "        vertical-align: top;\n",
       "    }\n",
       "\n",
       "    .dataframe thead th {\n",
       "        text-align: right;\n",
       "    }\n",
       "</style>\n",
       "<table border=\"1\" class=\"dataframe\">\n",
       "  <thead>\n",
       "    <tr style=\"text-align: right;\">\n",
       "      <th></th>\n",
       "      <th>Пол</th>\n",
       "      <th>Возраст</th>\n",
       "      <th>Зарплата</th>\n",
       "      <th>Члены семьи</th>\n",
       "    </tr>\n",
       "  </thead>\n",
       "  <tbody>\n",
       "    <tr>\n",
       "      <th>4494</th>\n",
       "      <td>0</td>\n",
       "      <td>35</td>\n",
       "      <td>55000</td>\n",
       "      <td>1</td>\n",
       "    </tr>\n",
       "    <tr>\n",
       "      <th>1911</th>\n",
       "      <td>1</td>\n",
       "      <td>27</td>\n",
       "      <td>44900</td>\n",
       "      <td>1</td>\n",
       "    </tr>\n",
       "    <tr>\n",
       "      <th>3646</th>\n",
       "      <td>0</td>\n",
       "      <td>29</td>\n",
       "      <td>42900</td>\n",
       "      <td>4</td>\n",
       "    </tr>\n",
       "    <tr>\n",
       "      <th>2577</th>\n",
       "      <td>0</td>\n",
       "      <td>30</td>\n",
       "      <td>41300</td>\n",
       "      <td>1</td>\n",
       "    </tr>\n",
       "    <tr>\n",
       "      <th>3148</th>\n",
       "      <td>1</td>\n",
       "      <td>41</td>\n",
       "      <td>38700</td>\n",
       "      <td>2</td>\n",
       "    </tr>\n",
       "  </tbody>\n",
       "</table>\n",
       "</div>"
      ],
      "text/plain": [
       "      Пол  Возраст  Зарплата  Члены семьи\n",
       "4494    0       35     55000            1\n",
       "1911    1       27     44900            1\n",
       "3646    0       29     42900            4\n",
       "2577    0       30     41300            1\n",
       "3148    1       41     38700            2"
      ]
     },
     "execution_count": 14,
     "metadata": {},
     "output_type": "execute_result"
    }
   ],
   "source": [
    "# посмотрим, как выглядит исходная матрица признаков\n",
    "features_train.head()"
   ]
  },
  {
   "cell_type": "code",
   "execution_count": 15,
   "metadata": {},
   "outputs": [
    {
     "data": {
      "text/html": [
       "<div>\n",
       "<style scoped>\n",
       "    .dataframe tbody tr th:only-of-type {\n",
       "        vertical-align: middle;\n",
       "    }\n",
       "\n",
       "    .dataframe tbody tr th {\n",
       "        vertical-align: top;\n",
       "    }\n",
       "\n",
       "    .dataframe thead th {\n",
       "        text-align: right;\n",
       "    }\n",
       "</style>\n",
       "<table border=\"1\" class=\"dataframe\">\n",
       "  <thead>\n",
       "    <tr style=\"text-align: right;\">\n",
       "      <th></th>\n",
       "      <th>0</th>\n",
       "      <th>1</th>\n",
       "      <th>2</th>\n",
       "      <th>3</th>\n",
       "    </tr>\n",
       "  </thead>\n",
       "  <tbody>\n",
       "    <tr>\n",
       "      <th>4494</th>\n",
       "      <td>18959.708926</td>\n",
       "      <td>-45947.616840</td>\n",
       "      <td>85529.915503</td>\n",
       "      <td>-20172.178614</td>\n",
       "    </tr>\n",
       "    <tr>\n",
       "      <th>1911</th>\n",
       "      <td>15477.299311</td>\n",
       "      <td>-37509.752576</td>\n",
       "      <td>69822.034235</td>\n",
       "      <td>-16468.444531</td>\n",
       "    </tr>\n",
       "    <tr>\n",
       "      <th>3646</th>\n",
       "      <td>14787.959900</td>\n",
       "      <td>-35838.757532</td>\n",
       "      <td>66714.888843</td>\n",
       "      <td>-15736.525186</td>\n",
       "    </tr>\n",
       "    <tr>\n",
       "      <th>2577</th>\n",
       "      <td>14233.412144</td>\n",
       "      <td>-34503.317027</td>\n",
       "      <td>64229.458338</td>\n",
       "      <td>-15150.609406</td>\n",
       "    </tr>\n",
       "    <tr>\n",
       "      <th>3148</th>\n",
       "      <td>13322.590870</td>\n",
       "      <td>-32334.249507</td>\n",
       "      <td>60201.086984</td>\n",
       "      <td>-14209.607970</td>\n",
       "    </tr>\n",
       "  </tbody>\n",
       "</table>\n",
       "</div>"
      ],
      "text/plain": [
       "                 0             1             2             3\n",
       "4494  18959.708926 -45947.616840  85529.915503 -20172.178614\n",
       "1911  15477.299311 -37509.752576  69822.034235 -16468.444531\n",
       "3646  14787.959900 -35838.757532  66714.888843 -15736.525186\n",
       "2577  14233.412144 -34503.317027  64229.458338 -15150.609406\n",
       "3148  13322.590870 -32334.249507  60201.086984 -14209.607970"
      ]
     },
     "execution_count": 15,
     "metadata": {},
     "output_type": "execute_result"
    }
   ],
   "source": [
    "# посмотрим, как выглядит матрица признаков, умноженная на случайную матрицу\n",
    "A = features_train@random_matrix\n",
    "A.head()"
   ]
  },
  {
   "cell_type": "code",
   "execution_count": 16,
   "metadata": {},
   "outputs": [
    {
     "data": {
      "text/html": [
       "<div>\n",
       "<style scoped>\n",
       "    .dataframe tbody tr th:only-of-type {\n",
       "        vertical-align: middle;\n",
       "    }\n",
       "\n",
       "    .dataframe tbody tr th {\n",
       "        vertical-align: top;\n",
       "    }\n",
       "\n",
       "    .dataframe thead th {\n",
       "        text-align: right;\n",
       "    }\n",
       "</style>\n",
       "<table border=\"1\" class=\"dataframe\">\n",
       "  <thead>\n",
       "    <tr style=\"text-align: right;\">\n",
       "      <th></th>\n",
       "      <th>0</th>\n",
       "      <th>1</th>\n",
       "      <th>2</th>\n",
       "      <th>3</th>\n",
       "    </tr>\n",
       "  </thead>\n",
       "  <tbody>\n",
       "    <tr>\n",
       "      <th>4494</th>\n",
       "      <td>0</td>\n",
       "      <td>35</td>\n",
       "      <td>55000</td>\n",
       "      <td>1</td>\n",
       "    </tr>\n",
       "    <tr>\n",
       "      <th>1911</th>\n",
       "      <td>1</td>\n",
       "      <td>27</td>\n",
       "      <td>44900</td>\n",
       "      <td>1</td>\n",
       "    </tr>\n",
       "    <tr>\n",
       "      <th>3646</th>\n",
       "      <td>0</td>\n",
       "      <td>29</td>\n",
       "      <td>42900</td>\n",
       "      <td>4</td>\n",
       "    </tr>\n",
       "    <tr>\n",
       "      <th>2577</th>\n",
       "      <td>0</td>\n",
       "      <td>30</td>\n",
       "      <td>41300</td>\n",
       "      <td>1</td>\n",
       "    </tr>\n",
       "    <tr>\n",
       "      <th>3148</th>\n",
       "      <td>1</td>\n",
       "      <td>41</td>\n",
       "      <td>38700</td>\n",
       "      <td>2</td>\n",
       "    </tr>\n",
       "  </tbody>\n",
       "</table>\n",
       "</div>"
      ],
      "text/plain": [
       "      0   1      2  3\n",
       "4494  0  35  55000  1\n",
       "1911  1  27  44900  1\n",
       "3646  0  29  42900  4\n",
       "2577  0  30  41300  1\n",
       "3148  1  41  38700  2"
      ]
     },
     "execution_count": 16,
     "metadata": {},
     "output_type": "execute_result"
    }
   ],
   "source": [
    "# умножим матрицу A на дешифрующую матрицу \n",
    "B = A@decrypt_matrix\n",
    "B = B.round().astype('int')\n",
    "B.head()"
   ]
  },
  {
   "cell_type": "markdown",
   "metadata": {},
   "source": [
    "Как видим, матрица B совпадает с исходной матрицей признаков."
   ]
  },
  {
   "cell_type": "markdown",
   "metadata": {},
   "source": [
    "### Создание класса модели"
   ]
  },
  {
   "cell_type": "code",
   "execution_count": 17,
   "metadata": {},
   "outputs": [],
   "source": [
    "class My_LinearRegression:\n",
    "    def fit(self, features, target, rnd_matrix):\n",
    "        features = features @ rnd_matrix\n",
    "        X = np.concatenate((np.ones((features.shape[0], 1)), features), axis=1)\n",
    "        y = target\n",
    "        w = LA.inv(X.T.dot(X)).dot(X.T).dot(y) \n",
    "        self.w = w[1:]\n",
    "        self.w0 = w[0]\n",
    " \n",
    "    def predict(self, test, rnd_matrix):\n",
    "        return test.dot(rnd_matrix).dot(self.w) + self.w0"
   ]
  },
  {
   "cell_type": "code",
   "execution_count": 18,
   "metadata": {},
   "outputs": [
    {
     "name": "stdout",
     "output_type": "stream",
     "text": [
      "Метрика R2 по зашифрованным данным 0.4361718726663325\n"
     ]
    }
   ],
   "source": [
    "model_my_lr = My_LinearRegression()\n",
    "model_my_lr.fit(features_train, target_train, random_matrix)\n",
    "predictions_my_lr = model_my_lr.predict(features_test, random_matrix)\n",
    "print('Метрика R2 по зашифрованным данным', r2_score(target_test, predictions_my_lr))"
   ]
  },
  {
   "cell_type": "code",
   "execution_count": 19,
   "metadata": {},
   "outputs": [
    {
     "name": "stdout",
     "output_type": "stream",
     "text": [
      "Метрика R2 по исходным данным 0.4361718739985623\n"
     ]
    }
   ],
   "source": [
    "model_lr = LinearRegression()\n",
    "model_lr.fit(features_train, target_train)\n",
    "predictions_lr = model_lr.predict(features_test)\n",
    "print('Метрика R2 по исходным данным', r2_score(target_test, predictions_lr))"
   ]
  },
  {
   "cell_type": "markdown",
   "metadata": {},
   "source": [
    "##  Вывод"
   ]
  },
  {
   "cell_type": "markdown",
   "metadata": {},
   "source": [
    "Метрики, полученные по зашифрованным и исходным данным почти идентичные, разняться лишь на 7-ом знаке после запятой, а значит качество модели не меняется. Матричное умножение можно использовать как рабочий метод для шифрования данных, а за счет того, что матрица шифрования генерируется случайным образом, восстановить исходные данные будет сложно. "
   ]
  }
 ],
 "metadata": {
  "ExecuteTimeLog": [
   {
    "duration": 476,
    "start_time": "2022-05-19T15:26:30.048Z"
   },
   {
    "duration": 72,
    "start_time": "2022-05-19T15:26:30.526Z"
   },
   {
    "duration": 5,
    "start_time": "2022-05-19T15:26:30.600Z"
   },
   {
    "duration": 19,
    "start_time": "2022-05-19T15:26:30.607Z"
   },
   {
    "duration": 20,
    "start_time": "2022-05-19T15:26:30.628Z"
   },
   {
    "duration": 28,
    "start_time": "2022-05-19T15:26:30.649Z"
   },
   {
    "duration": 16,
    "start_time": "2022-05-19T15:26:30.679Z"
   },
   {
    "duration": 111,
    "start_time": "2022-05-19T15:26:30.697Z"
   },
   {
    "duration": 0,
    "start_time": "2022-05-19T15:26:30.810Z"
   },
   {
    "duration": 10,
    "start_time": "2022-05-19T15:27:35.001Z"
   },
   {
    "duration": 22,
    "start_time": "2022-05-19T15:27:38.075Z"
   },
   {
    "duration": 74,
    "start_time": "2022-05-27T12:16:54.815Z"
   },
   {
    "duration": 2,
    "start_time": "2022-05-27T12:18:06.061Z"
   },
   {
    "duration": 835,
    "start_time": "2022-05-27T12:18:50.953Z"
   },
   {
    "duration": 4,
    "start_time": "2022-05-27T12:18:59.043Z"
   },
   {
    "duration": 8,
    "start_time": "2022-05-27T12:18:59.816Z"
   },
   {
    "duration": 5,
    "start_time": "2022-05-27T12:25:05.521Z"
   },
   {
    "duration": 5,
    "start_time": "2022-05-27T12:25:10.962Z"
   },
   {
    "duration": 3,
    "start_time": "2022-05-27T12:25:26.014Z"
   },
   {
    "duration": 4,
    "start_time": "2022-05-27T12:26:05.616Z"
   },
   {
    "duration": 5,
    "start_time": "2022-05-27T12:26:14.818Z"
   },
   {
    "duration": 2,
    "start_time": "2022-05-27T12:26:16.441Z"
   },
   {
    "duration": 6,
    "start_time": "2022-05-27T12:26:25.139Z"
   },
   {
    "duration": 6,
    "start_time": "2022-05-27T12:26:30.402Z"
   },
   {
    "duration": 5,
    "start_time": "2022-05-27T12:26:31.519Z"
   },
   {
    "duration": 4,
    "start_time": "2022-05-27T12:27:31.434Z"
   },
   {
    "duration": 4,
    "start_time": "2022-05-27T12:29:24.473Z"
   },
   {
    "duration": 4,
    "start_time": "2022-05-27T12:30:20.642Z"
   },
   {
    "duration": 976,
    "start_time": "2022-05-28T18:12:36.337Z"
   },
   {
    "duration": 105,
    "start_time": "2022-05-28T18:12:37.316Z"
   },
   {
    "duration": 7,
    "start_time": "2022-05-28T18:12:37.423Z"
   },
   {
    "duration": 13,
    "start_time": "2022-05-28T18:12:37.433Z"
   },
   {
    "duration": 12,
    "start_time": "2022-05-28T18:12:37.447Z"
   },
   {
    "duration": 34,
    "start_time": "2022-05-28T18:12:37.462Z"
   },
   {
    "duration": 30,
    "start_time": "2022-05-28T18:12:37.498Z"
   },
   {
    "duration": 12,
    "start_time": "2022-05-28T18:12:37.531Z"
   },
   {
    "duration": 35,
    "start_time": "2022-05-28T18:12:37.545Z"
   },
   {
    "duration": 4,
    "start_time": "2022-05-28T18:12:37.583Z"
   },
   {
    "duration": 16,
    "start_time": "2022-05-28T18:12:37.588Z"
   },
   {
    "duration": 18,
    "start_time": "2022-05-28T18:12:37.605Z"
   },
   {
    "duration": 19,
    "start_time": "2022-05-28T18:12:37.624Z"
   },
   {
    "duration": 23,
    "start_time": "2022-05-28T18:12:37.658Z"
   },
   {
    "duration": 104,
    "start_time": "2022-05-28T18:14:00.718Z"
   },
   {
    "duration": 3,
    "start_time": "2022-05-28T18:14:29.792Z"
   },
   {
    "duration": 108,
    "start_time": "2022-05-28T18:18:56.105Z"
   },
   {
    "duration": 5,
    "start_time": "2022-05-28T18:19:06.705Z"
   },
   {
    "duration": 13,
    "start_time": "2022-05-28T18:21:49.059Z"
   },
   {
    "duration": 11,
    "start_time": "2022-05-28T18:21:49.907Z"
   },
   {
    "duration": 261,
    "start_time": "2022-05-28T18:21:58.896Z"
   },
   {
    "duration": 5,
    "start_time": "2022-05-28T18:22:48.535Z"
   },
   {
    "duration": 8,
    "start_time": "2022-05-28T18:23:48.243Z"
   },
   {
    "duration": 7,
    "start_time": "2022-05-28T18:25:02.087Z"
   },
   {
    "duration": 9,
    "start_time": "2022-05-28T18:27:12.580Z"
   },
   {
    "duration": 9,
    "start_time": "2022-05-28T18:27:23.207Z"
   },
   {
    "duration": 10,
    "start_time": "2022-05-28T18:29:01.922Z"
   },
   {
    "duration": 6,
    "start_time": "2022-05-28T18:34:05.835Z"
   },
   {
    "duration": 14,
    "start_time": "2022-05-28T18:34:51.928Z"
   },
   {
    "duration": 5,
    "start_time": "2022-05-28T18:35:07.686Z"
   },
   {
    "duration": 14,
    "start_time": "2022-05-28T18:36:02.558Z"
   },
   {
    "duration": 3,
    "start_time": "2022-05-28T18:36:18.140Z"
   },
   {
    "duration": 14,
    "start_time": "2022-05-28T18:36:22.899Z"
   },
   {
    "duration": 5,
    "start_time": "2022-05-28T18:36:56.198Z"
   },
   {
    "duration": 11,
    "start_time": "2022-05-28T18:38:01.661Z"
   },
   {
    "duration": 8,
    "start_time": "2022-05-28T18:38:18.704Z"
   },
   {
    "duration": 9,
    "start_time": "2022-05-28T18:38:36.948Z"
   },
   {
    "duration": 8,
    "start_time": "2022-05-28T18:38:49.158Z"
   },
   {
    "duration": 45,
    "start_time": "2022-05-28T18:39:01.047Z"
   },
   {
    "duration": 5,
    "start_time": "2022-05-28T18:39:10.087Z"
   },
   {
    "duration": 13,
    "start_time": "2022-05-28T18:39:15.520Z"
   },
   {
    "duration": 10,
    "start_time": "2022-05-28T18:39:29.313Z"
   },
   {
    "duration": 1005,
    "start_time": "2022-05-28T18:39:55.241Z"
   },
   {
    "duration": 139,
    "start_time": "2022-05-28T18:39:56.248Z"
   },
   {
    "duration": 10,
    "start_time": "2022-05-28T18:39:56.389Z"
   },
   {
    "duration": 7,
    "start_time": "2022-05-28T18:39:56.401Z"
   },
   {
    "duration": 6,
    "start_time": "2022-05-28T18:39:56.410Z"
   },
   {
    "duration": 6,
    "start_time": "2022-05-28T18:39:56.418Z"
   },
   {
    "duration": 36,
    "start_time": "2022-05-28T18:39:56.426Z"
   },
   {
    "duration": 36,
    "start_time": "2022-05-28T18:39:56.464Z"
   },
   {
    "duration": 24,
    "start_time": "2022-05-28T18:39:56.503Z"
   },
   {
    "duration": 4,
    "start_time": "2022-05-28T18:39:56.531Z"
   },
   {
    "duration": 10,
    "start_time": "2022-05-28T18:39:56.537Z"
   },
   {
    "duration": 16,
    "start_time": "2022-05-28T18:39:56.548Z"
   },
   {
    "duration": 34,
    "start_time": "2022-05-28T18:39:56.565Z"
   },
   {
    "duration": 72,
    "start_time": "2022-05-28T18:39:56.601Z"
   },
   {
    "duration": 99,
    "start_time": "2022-05-28T18:39:56.678Z"
   },
   {
    "duration": 29,
    "start_time": "2022-05-28T18:39:56.779Z"
   },
   {
    "duration": 14,
    "start_time": "2022-05-28T18:39:56.810Z"
   },
   {
    "duration": 15,
    "start_time": "2022-05-28T18:39:56.826Z"
   },
   {
    "duration": 99,
    "start_time": "2022-05-28T18:39:56.868Z"
   },
   {
    "duration": 11,
    "start_time": "2022-05-28T18:41:18.889Z"
   },
   {
    "duration": 12,
    "start_time": "2022-05-28T18:42:09.578Z"
   },
   {
    "duration": 11,
    "start_time": "2022-05-28T18:47:41.492Z"
   },
   {
    "duration": 995,
    "start_time": "2022-05-28T19:39:12.865Z"
   },
   {
    "duration": 104,
    "start_time": "2022-05-28T19:39:13.862Z"
   },
   {
    "duration": 8,
    "start_time": "2022-05-28T19:39:13.968Z"
   },
   {
    "duration": 13,
    "start_time": "2022-05-28T19:39:13.979Z"
   },
   {
    "duration": 6,
    "start_time": "2022-05-28T19:39:13.994Z"
   },
   {
    "duration": 10,
    "start_time": "2022-05-28T19:39:14.001Z"
   },
   {
    "duration": 12,
    "start_time": "2022-05-28T19:39:14.012Z"
   },
   {
    "duration": 43,
    "start_time": "2022-05-28T19:39:14.027Z"
   },
   {
    "duration": 26,
    "start_time": "2022-05-28T19:39:14.072Z"
   },
   {
    "duration": 4,
    "start_time": "2022-05-28T19:39:14.101Z"
   },
   {
    "duration": 9,
    "start_time": "2022-05-28T19:39:14.107Z"
   },
   {
    "duration": 9,
    "start_time": "2022-05-28T19:39:14.118Z"
   },
   {
    "duration": 8,
    "start_time": "2022-05-28T19:39:14.160Z"
   },
   {
    "duration": 96,
    "start_time": "2022-05-28T19:39:14.171Z"
   },
   {
    "duration": 99,
    "start_time": "2022-05-28T19:39:14.275Z"
   },
   {
    "duration": 112,
    "start_time": "2022-05-28T19:39:14.376Z"
   },
   {
    "duration": 0,
    "start_time": "2022-05-28T19:39:14.490Z"
   },
   {
    "duration": 0,
    "start_time": "2022-05-28T19:39:14.491Z"
   },
   {
    "duration": 0,
    "start_time": "2022-05-28T19:39:14.493Z"
   },
   {
    "duration": 12,
    "start_time": "2022-05-28T19:39:33.779Z"
   },
   {
    "duration": 934,
    "start_time": "2022-05-28T19:39:45.664Z"
   },
   {
    "duration": 107,
    "start_time": "2022-05-28T19:39:46.600Z"
   },
   {
    "duration": 7,
    "start_time": "2022-05-28T19:39:46.709Z"
   },
   {
    "duration": 27,
    "start_time": "2022-05-28T19:39:46.718Z"
   },
   {
    "duration": 14,
    "start_time": "2022-05-28T19:39:46.747Z"
   },
   {
    "duration": 16,
    "start_time": "2022-05-28T19:39:46.763Z"
   },
   {
    "duration": 19,
    "start_time": "2022-05-28T19:39:46.781Z"
   },
   {
    "duration": 10,
    "start_time": "2022-05-28T19:39:46.802Z"
   },
   {
    "duration": 50,
    "start_time": "2022-05-28T19:39:46.815Z"
   },
   {
    "duration": 5,
    "start_time": "2022-05-28T19:39:46.870Z"
   },
   {
    "duration": 9,
    "start_time": "2022-05-28T19:39:46.878Z"
   },
   {
    "duration": 6,
    "start_time": "2022-05-28T19:39:46.891Z"
   },
   {
    "duration": 10,
    "start_time": "2022-05-28T19:39:46.899Z"
   },
   {
    "duration": 15,
    "start_time": "2022-05-28T19:39:46.960Z"
   },
   {
    "duration": 101,
    "start_time": "2022-05-28T19:39:46.977Z"
   },
   {
    "duration": 12,
    "start_time": "2022-05-28T19:39:47.080Z"
   },
   {
    "duration": 6,
    "start_time": "2022-05-28T19:39:47.094Z"
   },
   {
    "duration": 10,
    "start_time": "2022-05-28T19:39:47.102Z"
   },
   {
    "duration": 103,
    "start_time": "2022-05-28T19:39:47.165Z"
   },
   {
    "duration": 969,
    "start_time": "2022-05-28T19:41:35.633Z"
   },
   {
    "duration": 99,
    "start_time": "2022-05-28T19:41:36.604Z"
   },
   {
    "duration": 7,
    "start_time": "2022-05-28T19:41:36.705Z"
   },
   {
    "duration": 12,
    "start_time": "2022-05-28T19:41:36.714Z"
   },
   {
    "duration": 6,
    "start_time": "2022-05-28T19:41:36.728Z"
   },
   {
    "duration": 29,
    "start_time": "2022-05-28T19:41:36.735Z"
   },
   {
    "duration": 14,
    "start_time": "2022-05-28T19:41:36.766Z"
   },
   {
    "duration": 12,
    "start_time": "2022-05-28T19:41:36.781Z"
   },
   {
    "duration": 23,
    "start_time": "2022-05-28T19:41:36.794Z"
   },
   {
    "duration": 3,
    "start_time": "2022-05-28T19:41:36.820Z"
   },
   {
    "duration": 37,
    "start_time": "2022-05-28T19:41:36.825Z"
   },
   {
    "duration": 6,
    "start_time": "2022-05-28T19:41:36.864Z"
   },
   {
    "duration": 8,
    "start_time": "2022-05-28T19:41:36.872Z"
   },
   {
    "duration": 83,
    "start_time": "2022-05-28T19:41:36.882Z"
   },
   {
    "duration": 98,
    "start_time": "2022-05-28T19:41:36.967Z"
   },
   {
    "duration": 7,
    "start_time": "2022-05-28T19:41:37.067Z"
   },
   {
    "duration": 6,
    "start_time": "2022-05-28T19:41:37.075Z"
   },
   {
    "duration": 12,
    "start_time": "2022-05-28T19:41:37.083Z"
   },
   {
    "duration": 103,
    "start_time": "2022-05-28T19:41:37.164Z"
   },
   {
    "duration": 13,
    "start_time": "2022-05-28T19:42:19.013Z"
   },
   {
    "duration": 153,
    "start_time": "2022-05-28T19:43:16.712Z"
   },
   {
    "duration": 19,
    "start_time": "2022-05-28T19:43:40.454Z"
   },
   {
    "duration": 11,
    "start_time": "2022-05-28T19:44:28.989Z"
   },
   {
    "duration": 14,
    "start_time": "2022-05-28T19:44:46.048Z"
   },
   {
    "duration": 7,
    "start_time": "2022-05-28T19:44:54.884Z"
   },
   {
    "duration": 875,
    "start_time": "2022-05-28T19:45:34.024Z"
   },
   {
    "duration": 103,
    "start_time": "2022-05-28T19:45:34.900Z"
   },
   {
    "duration": 7,
    "start_time": "2022-05-28T19:45:35.005Z"
   },
   {
    "duration": 13,
    "start_time": "2022-05-28T19:45:35.014Z"
   },
   {
    "duration": 9,
    "start_time": "2022-05-28T19:45:35.029Z"
   },
   {
    "duration": 22,
    "start_time": "2022-05-28T19:45:35.040Z"
   },
   {
    "duration": 12,
    "start_time": "2022-05-28T19:45:35.064Z"
   },
   {
    "duration": 13,
    "start_time": "2022-05-28T19:45:35.077Z"
   },
   {
    "duration": 28,
    "start_time": "2022-05-28T19:45:35.091Z"
   },
   {
    "duration": 4,
    "start_time": "2022-05-28T19:45:35.121Z"
   },
   {
    "duration": 9,
    "start_time": "2022-05-28T19:45:35.127Z"
   },
   {
    "duration": 5,
    "start_time": "2022-05-28T19:45:35.159Z"
   },
   {
    "duration": 10,
    "start_time": "2022-05-28T19:45:35.166Z"
   },
   {
    "duration": 85,
    "start_time": "2022-05-28T19:45:35.177Z"
   },
   {
    "duration": 95,
    "start_time": "2022-05-28T19:45:35.265Z"
   },
   {
    "duration": 16,
    "start_time": "2022-05-28T19:45:35.363Z"
   },
   {
    "duration": 5,
    "start_time": "2022-05-28T19:45:35.381Z"
   },
   {
    "duration": 13,
    "start_time": "2022-05-28T19:45:35.387Z"
   },
   {
    "duration": 159,
    "start_time": "2022-05-28T19:45:35.403Z"
   },
   {
    "duration": 21,
    "start_time": "2022-05-28T19:46:03.525Z"
   },
   {
    "duration": 4,
    "start_time": "2022-05-28T19:46:40.765Z"
   },
   {
    "duration": 8,
    "start_time": "2022-05-28T19:46:51.088Z"
   },
   {
    "duration": 998,
    "start_time": "2022-05-28T19:47:36.239Z"
   },
   {
    "duration": 138,
    "start_time": "2022-05-28T19:47:37.240Z"
   },
   {
    "duration": 8,
    "start_time": "2022-05-28T19:47:37.381Z"
   },
   {
    "duration": 21,
    "start_time": "2022-05-28T19:47:37.392Z"
   },
   {
    "duration": 11,
    "start_time": "2022-05-28T19:47:37.415Z"
   },
   {
    "duration": 8,
    "start_time": "2022-05-28T19:47:37.429Z"
   },
   {
    "duration": 46,
    "start_time": "2022-05-28T19:47:37.439Z"
   },
   {
    "duration": 21,
    "start_time": "2022-05-28T19:47:37.488Z"
   },
   {
    "duration": 44,
    "start_time": "2022-05-28T19:47:37.513Z"
   },
   {
    "duration": 6,
    "start_time": "2022-05-28T19:47:37.562Z"
   },
   {
    "duration": 48,
    "start_time": "2022-05-28T19:47:37.570Z"
   },
   {
    "duration": 23,
    "start_time": "2022-05-28T19:47:37.623Z"
   },
   {
    "duration": 25,
    "start_time": "2022-05-28T19:47:37.649Z"
   },
   {
    "duration": 140,
    "start_time": "2022-05-28T19:47:37.679Z"
   },
   {
    "duration": 42,
    "start_time": "2022-05-28T19:47:37.821Z"
   },
   {
    "duration": 11,
    "start_time": "2022-05-28T19:47:37.866Z"
   },
   {
    "duration": 8,
    "start_time": "2022-05-28T19:47:37.879Z"
   },
   {
    "duration": 12,
    "start_time": "2022-05-28T19:47:37.888Z"
   },
   {
    "duration": 156,
    "start_time": "2022-05-28T19:47:37.906Z"
   },
   {
    "duration": 11,
    "start_time": "2022-05-28T19:48:24.681Z"
   },
   {
    "duration": 1019,
    "start_time": "2022-05-28T19:48:41.379Z"
   },
   {
    "duration": 123,
    "start_time": "2022-05-28T19:48:42.400Z"
   },
   {
    "duration": 7,
    "start_time": "2022-05-28T19:48:42.524Z"
   },
   {
    "duration": 9,
    "start_time": "2022-05-28T19:48:42.532Z"
   },
   {
    "duration": 11,
    "start_time": "2022-05-28T19:48:42.559Z"
   },
   {
    "duration": 19,
    "start_time": "2022-05-28T19:48:42.572Z"
   },
   {
    "duration": 12,
    "start_time": "2022-05-28T19:48:42.592Z"
   },
   {
    "duration": 10,
    "start_time": "2022-05-28T19:48:42.605Z"
   },
   {
    "duration": 55,
    "start_time": "2022-05-28T19:48:42.616Z"
   },
   {
    "duration": 6,
    "start_time": "2022-05-28T19:48:42.673Z"
   },
   {
    "duration": 9,
    "start_time": "2022-05-28T19:48:42.681Z"
   },
   {
    "duration": 20,
    "start_time": "2022-05-28T19:48:42.692Z"
   },
   {
    "duration": 13,
    "start_time": "2022-05-28T19:48:42.714Z"
   },
   {
    "duration": 134,
    "start_time": "2022-05-28T19:48:42.732Z"
   },
   {
    "duration": 28,
    "start_time": "2022-05-28T19:48:42.869Z"
   },
   {
    "duration": 8,
    "start_time": "2022-05-28T19:48:42.899Z"
   },
   {
    "duration": 6,
    "start_time": "2022-05-28T19:48:42.908Z"
   },
   {
    "duration": 51,
    "start_time": "2022-05-28T19:48:42.916Z"
   },
   {
    "duration": 101,
    "start_time": "2022-05-28T19:48:42.972Z"
   },
   {
    "duration": 120,
    "start_time": "2022-05-28T19:49:38.033Z"
   },
   {
    "duration": 5,
    "start_time": "2022-05-28T19:50:08.580Z"
   },
   {
    "duration": 6,
    "start_time": "2022-05-28T19:50:35.355Z"
   },
   {
    "duration": 952,
    "start_time": "2022-05-28T19:50:50.753Z"
   },
   {
    "duration": 113,
    "start_time": "2022-05-28T19:50:51.707Z"
   },
   {
    "duration": 7,
    "start_time": "2022-05-28T19:50:51.821Z"
   },
   {
    "duration": 10,
    "start_time": "2022-05-28T19:50:51.830Z"
   },
   {
    "duration": 20,
    "start_time": "2022-05-28T19:50:51.841Z"
   },
   {
    "duration": 18,
    "start_time": "2022-05-28T19:50:51.864Z"
   },
   {
    "duration": 12,
    "start_time": "2022-05-28T19:50:51.884Z"
   },
   {
    "duration": 11,
    "start_time": "2022-05-28T19:50:51.898Z"
   },
   {
    "duration": 29,
    "start_time": "2022-05-28T19:50:51.910Z"
   },
   {
    "duration": 23,
    "start_time": "2022-05-28T19:50:51.941Z"
   },
   {
    "duration": 16,
    "start_time": "2022-05-28T19:50:51.969Z"
   },
   {
    "duration": 8,
    "start_time": "2022-05-28T19:50:51.987Z"
   },
   {
    "duration": 9,
    "start_time": "2022-05-28T19:50:51.997Z"
   },
   {
    "duration": 60,
    "start_time": "2022-05-28T19:50:52.009Z"
   },
   {
    "duration": 99,
    "start_time": "2022-05-28T19:50:52.072Z"
   },
   {
    "duration": 12,
    "start_time": "2022-05-28T19:50:52.175Z"
   },
   {
    "duration": 4,
    "start_time": "2022-05-28T19:50:52.189Z"
   },
   {
    "duration": 66,
    "start_time": "2022-05-28T19:50:52.195Z"
   },
   {
    "duration": 107,
    "start_time": "2022-05-28T19:50:52.263Z"
   },
   {
    "duration": 7,
    "start_time": "2022-05-28T19:53:18.409Z"
   },
   {
    "duration": 3,
    "start_time": "2022-05-28T19:53:45.132Z"
   },
   {
    "duration": 22,
    "start_time": "2022-05-28T19:53:49.920Z"
   },
   {
    "duration": 165,
    "start_time": "2022-05-28T19:54:37.340Z"
   },
   {
    "duration": 943,
    "start_time": "2022-05-28T19:54:59.516Z"
   },
   {
    "duration": 114,
    "start_time": "2022-05-28T19:55:00.462Z"
   },
   {
    "duration": 6,
    "start_time": "2022-05-28T19:55:00.578Z"
   },
   {
    "duration": 27,
    "start_time": "2022-05-28T19:55:00.587Z"
   },
   {
    "duration": 11,
    "start_time": "2022-05-28T19:55:00.617Z"
   },
   {
    "duration": 13,
    "start_time": "2022-05-28T19:55:00.630Z"
   },
   {
    "duration": 50,
    "start_time": "2022-05-28T19:55:00.646Z"
   },
   {
    "duration": 23,
    "start_time": "2022-05-28T19:55:00.698Z"
   },
   {
    "duration": 38,
    "start_time": "2022-05-28T19:55:00.723Z"
   },
   {
    "duration": 7,
    "start_time": "2022-05-28T19:55:00.768Z"
   },
   {
    "duration": 24,
    "start_time": "2022-05-28T19:55:00.777Z"
   },
   {
    "duration": 25,
    "start_time": "2022-05-28T19:55:00.803Z"
   },
   {
    "duration": 25,
    "start_time": "2022-05-28T19:55:00.830Z"
   },
   {
    "duration": 105,
    "start_time": "2022-05-28T19:55:00.858Z"
   },
   {
    "duration": 38,
    "start_time": "2022-05-28T19:55:00.966Z"
   },
   {
    "duration": 168,
    "start_time": "2022-05-28T19:55:01.006Z"
   },
   {
    "duration": 0,
    "start_time": "2022-05-28T19:55:01.176Z"
   },
   {
    "duration": 0,
    "start_time": "2022-05-28T19:55:01.178Z"
   },
   {
    "duration": 0,
    "start_time": "2022-05-28T19:55:01.180Z"
   },
   {
    "duration": 25,
    "start_time": "2022-05-28T19:55:38.337Z"
   },
   {
    "duration": 12,
    "start_time": "2022-05-28T19:55:52.018Z"
   },
   {
    "duration": 977,
    "start_time": "2022-05-28T19:56:14.444Z"
   },
   {
    "duration": 113,
    "start_time": "2022-05-28T19:56:15.424Z"
   },
   {
    "duration": 10,
    "start_time": "2022-05-28T19:56:15.539Z"
   },
   {
    "duration": 23,
    "start_time": "2022-05-28T19:56:15.559Z"
   },
   {
    "duration": 6,
    "start_time": "2022-05-28T19:56:15.585Z"
   },
   {
    "duration": 7,
    "start_time": "2022-05-28T19:56:15.592Z"
   },
   {
    "duration": 14,
    "start_time": "2022-05-28T19:56:15.601Z"
   },
   {
    "duration": 17,
    "start_time": "2022-05-28T19:56:15.617Z"
   },
   {
    "duration": 32,
    "start_time": "2022-05-28T19:56:15.659Z"
   },
   {
    "duration": 4,
    "start_time": "2022-05-28T19:56:15.693Z"
   },
   {
    "duration": 8,
    "start_time": "2022-05-28T19:56:15.698Z"
   },
   {
    "duration": 11,
    "start_time": "2022-05-28T19:56:15.708Z"
   },
   {
    "duration": 55,
    "start_time": "2022-05-28T19:56:15.721Z"
   },
   {
    "duration": 83,
    "start_time": "2022-05-28T19:56:15.780Z"
   },
   {
    "duration": 25,
    "start_time": "2022-05-28T19:56:15.865Z"
   },
   {
    "duration": 13,
    "start_time": "2022-05-28T19:56:15.892Z"
   },
   {
    "duration": 4,
    "start_time": "2022-05-28T19:56:15.907Z"
   },
   {
    "duration": 47,
    "start_time": "2022-05-28T19:56:15.913Z"
   },
   {
    "duration": 129,
    "start_time": "2022-05-28T19:56:15.962Z"
   },
   {
    "duration": 36,
    "start_time": "2022-05-28T19:58:01.345Z"
   },
   {
    "duration": 10,
    "start_time": "2022-05-28T19:58:07.747Z"
   },
   {
    "duration": 924,
    "start_time": "2022-05-28T19:58:27.424Z"
   },
   {
    "duration": 108,
    "start_time": "2022-05-28T19:58:28.351Z"
   },
   {
    "duration": 9,
    "start_time": "2022-05-28T19:58:28.461Z"
   },
   {
    "duration": 15,
    "start_time": "2022-05-28T19:58:28.473Z"
   },
   {
    "duration": 5,
    "start_time": "2022-05-28T19:58:28.490Z"
   },
   {
    "duration": 7,
    "start_time": "2022-05-28T19:58:28.497Z"
   },
   {
    "duration": 10,
    "start_time": "2022-05-28T19:58:28.505Z"
   },
   {
    "duration": 9,
    "start_time": "2022-05-28T19:58:28.516Z"
   },
   {
    "duration": 64,
    "start_time": "2022-05-28T19:58:28.527Z"
   },
   {
    "duration": 4,
    "start_time": "2022-05-28T19:58:28.593Z"
   },
   {
    "duration": 8,
    "start_time": "2022-05-28T19:58:28.599Z"
   },
   {
    "duration": 5,
    "start_time": "2022-05-28T19:58:28.609Z"
   },
   {
    "duration": 11,
    "start_time": "2022-05-28T19:58:28.616Z"
   },
   {
    "duration": 22,
    "start_time": "2022-05-28T19:58:28.665Z"
   },
   {
    "duration": 37,
    "start_time": "2022-05-28T19:58:28.759Z"
   },
   {
    "duration": 13,
    "start_time": "2022-05-28T19:58:28.798Z"
   },
   {
    "duration": 5,
    "start_time": "2022-05-28T19:58:28.814Z"
   },
   {
    "duration": 13,
    "start_time": "2022-05-28T19:58:28.820Z"
   },
   {
    "duration": 104,
    "start_time": "2022-05-28T19:58:28.860Z"
   },
   {
    "duration": 960,
    "start_time": "2022-05-28T19:59:13.746Z"
   },
   {
    "duration": 114,
    "start_time": "2022-05-28T19:59:14.708Z"
   },
   {
    "duration": 6,
    "start_time": "2022-05-28T19:59:14.824Z"
   },
   {
    "duration": 9,
    "start_time": "2022-05-28T19:59:14.831Z"
   },
   {
    "duration": 33,
    "start_time": "2022-05-28T19:59:14.842Z"
   },
   {
    "duration": 9,
    "start_time": "2022-05-28T19:59:14.877Z"
   },
   {
    "duration": 13,
    "start_time": "2022-05-28T19:59:14.888Z"
   },
   {
    "duration": 10,
    "start_time": "2022-05-28T19:59:14.903Z"
   },
   {
    "duration": 23,
    "start_time": "2022-05-28T19:59:14.915Z"
   },
   {
    "duration": 3,
    "start_time": "2022-05-28T19:59:14.940Z"
   },
   {
    "duration": 23,
    "start_time": "2022-05-28T19:59:14.959Z"
   },
   {
    "duration": 8,
    "start_time": "2022-05-28T19:59:14.983Z"
   },
   {
    "duration": 9,
    "start_time": "2022-05-28T19:59:14.993Z"
   },
   {
    "duration": 59,
    "start_time": "2022-05-28T19:59:15.005Z"
   },
   {
    "duration": 102,
    "start_time": "2022-05-28T19:59:15.066Z"
   },
   {
    "duration": 18,
    "start_time": "2022-05-28T19:59:15.170Z"
   },
   {
    "duration": 4,
    "start_time": "2022-05-28T19:59:15.190Z"
   },
   {
    "duration": 13,
    "start_time": "2022-05-28T19:59:15.195Z"
   },
   {
    "duration": 109,
    "start_time": "2022-05-28T19:59:15.259Z"
   },
   {
    "duration": 125,
    "start_time": "2022-05-28T20:00:52.311Z"
   },
   {
    "duration": 35,
    "start_time": "2022-05-28T20:01:37.352Z"
   },
   {
    "duration": 1090,
    "start_time": "2022-05-28T20:01:47.119Z"
   },
   {
    "duration": 114,
    "start_time": "2022-05-28T20:01:48.211Z"
   },
   {
    "duration": 8,
    "start_time": "2022-05-28T20:01:48.327Z"
   },
   {
    "duration": 25,
    "start_time": "2022-05-28T20:01:48.336Z"
   },
   {
    "duration": 7,
    "start_time": "2022-05-28T20:01:48.368Z"
   },
   {
    "duration": 17,
    "start_time": "2022-05-28T20:01:48.378Z"
   },
   {
    "duration": 12,
    "start_time": "2022-05-28T20:01:48.398Z"
   },
   {
    "duration": 17,
    "start_time": "2022-05-28T20:01:48.412Z"
   },
   {
    "duration": 52,
    "start_time": "2022-05-28T20:01:48.431Z"
   },
   {
    "duration": 4,
    "start_time": "2022-05-28T20:01:48.485Z"
   },
   {
    "duration": 13,
    "start_time": "2022-05-28T20:01:48.491Z"
   },
   {
    "duration": 7,
    "start_time": "2022-05-28T20:01:48.506Z"
   },
   {
    "duration": 44,
    "start_time": "2022-05-28T20:01:48.515Z"
   },
   {
    "duration": 12,
    "start_time": "2022-05-28T20:01:48.562Z"
   },
   {
    "duration": 96,
    "start_time": "2022-05-28T20:01:48.576Z"
   },
   {
    "duration": 152,
    "start_time": "2022-05-28T20:01:48.675Z"
   },
   {
    "duration": 0,
    "start_time": "2022-05-28T20:01:48.829Z"
   },
   {
    "duration": 0,
    "start_time": "2022-05-28T20:01:48.830Z"
   },
   {
    "duration": 0,
    "start_time": "2022-05-28T20:01:48.832Z"
   },
   {
    "duration": 12,
    "start_time": "2022-05-28T20:02:08.493Z"
   },
   {
    "duration": 14,
    "start_time": "2022-05-28T20:02:30.310Z"
   },
   {
    "duration": 952,
    "start_time": "2022-05-28T20:02:43.088Z"
   },
   {
    "duration": 145,
    "start_time": "2022-05-28T20:02:44.042Z"
   },
   {
    "duration": 8,
    "start_time": "2022-05-28T20:02:44.190Z"
   },
   {
    "duration": 18,
    "start_time": "2022-05-28T20:02:44.201Z"
   },
   {
    "duration": 12,
    "start_time": "2022-05-28T20:02:44.221Z"
   },
   {
    "duration": 24,
    "start_time": "2022-05-28T20:02:44.236Z"
   },
   {
    "duration": 16,
    "start_time": "2022-05-28T20:02:44.262Z"
   },
   {
    "duration": 23,
    "start_time": "2022-05-28T20:02:44.280Z"
   },
   {
    "duration": 27,
    "start_time": "2022-05-28T20:02:44.305Z"
   },
   {
    "duration": 4,
    "start_time": "2022-05-28T20:02:44.333Z"
   },
   {
    "duration": 7,
    "start_time": "2022-05-28T20:02:44.360Z"
   },
   {
    "duration": 23,
    "start_time": "2022-05-28T20:02:44.369Z"
   },
   {
    "duration": 18,
    "start_time": "2022-05-28T20:02:44.393Z"
   },
   {
    "duration": 12,
    "start_time": "2022-05-28T20:02:44.461Z"
   },
   {
    "duration": 114,
    "start_time": "2022-05-28T20:02:44.475Z"
   },
   {
    "duration": 18,
    "start_time": "2022-05-28T20:02:44.591Z"
   },
   {
    "duration": 10,
    "start_time": "2022-05-28T20:02:44.611Z"
   },
   {
    "duration": 15,
    "start_time": "2022-05-28T20:02:44.623Z"
   },
   {
    "duration": 116,
    "start_time": "2022-05-28T20:02:44.660Z"
   },
   {
    "duration": 136,
    "start_time": "2022-05-28T20:03:28.714Z"
   },
   {
    "duration": 9,
    "start_time": "2022-05-28T20:04:15.319Z"
   },
   {
    "duration": 9,
    "start_time": "2022-05-28T20:06:13.473Z"
   },
   {
    "duration": 4,
    "start_time": "2022-05-28T20:06:17.602Z"
   },
   {
    "duration": 6,
    "start_time": "2022-05-28T20:06:41.758Z"
   },
   {
    "duration": 11,
    "start_time": "2022-05-28T20:07:16.950Z"
   },
   {
    "duration": 20,
    "start_time": "2022-05-28T20:08:10.236Z"
   },
   {
    "duration": 14,
    "start_time": "2022-05-28T20:08:28.593Z"
   },
   {
    "duration": 1054,
    "start_time": "2022-05-28T20:08:36.318Z"
   },
   {
    "duration": 141,
    "start_time": "2022-05-28T20:08:37.375Z"
   },
   {
    "duration": 9,
    "start_time": "2022-05-28T20:08:37.519Z"
   },
   {
    "duration": 32,
    "start_time": "2022-05-28T20:08:37.531Z"
   },
   {
    "duration": 66,
    "start_time": "2022-05-28T20:08:37.565Z"
   },
   {
    "duration": 38,
    "start_time": "2022-05-28T20:08:37.633Z"
   },
   {
    "duration": 45,
    "start_time": "2022-05-28T20:08:37.673Z"
   },
   {
    "duration": 26,
    "start_time": "2022-05-28T20:08:37.721Z"
   },
   {
    "duration": 55,
    "start_time": "2022-05-28T20:08:37.749Z"
   },
   {
    "duration": 5,
    "start_time": "2022-05-28T20:08:37.807Z"
   },
   {
    "duration": 30,
    "start_time": "2022-05-28T20:08:37.813Z"
   },
   {
    "duration": 35,
    "start_time": "2022-05-28T20:08:37.845Z"
   },
   {
    "duration": 23,
    "start_time": "2022-05-28T20:08:37.881Z"
   },
   {
    "duration": 61,
    "start_time": "2022-05-28T20:08:37.907Z"
   },
   {
    "duration": 120,
    "start_time": "2022-05-28T20:08:37.971Z"
   },
   {
    "duration": 21,
    "start_time": "2022-05-28T20:08:38.093Z"
   },
   {
    "duration": 131,
    "start_time": "2022-05-28T20:08:38.115Z"
   },
   {
    "duration": 0,
    "start_time": "2022-05-28T20:08:38.247Z"
   },
   {
    "duration": 0,
    "start_time": "2022-05-28T20:08:38.249Z"
   },
   {
    "duration": 0,
    "start_time": "2022-05-28T20:08:38.250Z"
   },
   {
    "duration": 1067,
    "start_time": "2022-05-28T20:09:54.732Z"
   },
   {
    "duration": 125,
    "start_time": "2022-05-28T20:09:55.801Z"
   },
   {
    "duration": 7,
    "start_time": "2022-05-28T20:09:55.927Z"
   },
   {
    "duration": 9,
    "start_time": "2022-05-28T20:09:55.936Z"
   },
   {
    "duration": 19,
    "start_time": "2022-05-28T20:09:55.946Z"
   },
   {
    "duration": 34,
    "start_time": "2022-05-28T20:09:55.967Z"
   },
   {
    "duration": 13,
    "start_time": "2022-05-28T20:09:56.004Z"
   },
   {
    "duration": 17,
    "start_time": "2022-05-28T20:09:56.019Z"
   },
   {
    "duration": 43,
    "start_time": "2022-05-28T20:09:56.038Z"
   },
   {
    "duration": 4,
    "start_time": "2022-05-28T20:09:56.085Z"
   },
   {
    "duration": 12,
    "start_time": "2022-05-28T20:09:56.091Z"
   },
   {
    "duration": 8,
    "start_time": "2022-05-28T20:09:56.105Z"
   },
   {
    "duration": 44,
    "start_time": "2022-05-28T20:09:56.115Z"
   },
   {
    "duration": 33,
    "start_time": "2022-05-28T20:09:56.162Z"
   },
   {
    "duration": 70,
    "start_time": "2022-05-28T20:09:56.198Z"
   },
   {
    "duration": 26,
    "start_time": "2022-05-28T20:09:56.271Z"
   },
   {
    "duration": 7,
    "start_time": "2022-05-28T20:09:56.299Z"
   },
   {
    "duration": 54,
    "start_time": "2022-05-28T20:09:56.308Z"
   },
   {
    "duration": 102,
    "start_time": "2022-05-28T20:09:56.366Z"
   },
   {
    "duration": 14,
    "start_time": "2022-05-28T20:10:39.395Z"
   },
   {
    "duration": 1005,
    "start_time": "2022-05-28T20:11:09.552Z"
   },
   {
    "duration": 119,
    "start_time": "2022-05-28T20:11:10.563Z"
   },
   {
    "duration": 7,
    "start_time": "2022-05-28T20:11:10.684Z"
   },
   {
    "duration": 17,
    "start_time": "2022-05-28T20:11:10.694Z"
   },
   {
    "duration": 8,
    "start_time": "2022-05-28T20:11:10.713Z"
   },
   {
    "duration": 8,
    "start_time": "2022-05-28T20:11:10.723Z"
   },
   {
    "duration": 22,
    "start_time": "2022-05-28T20:11:10.760Z"
   },
   {
    "duration": 14,
    "start_time": "2022-05-28T20:11:10.784Z"
   },
   {
    "duration": 25,
    "start_time": "2022-05-28T20:11:10.800Z"
   },
   {
    "duration": 4,
    "start_time": "2022-05-28T20:11:10.828Z"
   },
   {
    "duration": 35,
    "start_time": "2022-05-28T20:11:10.835Z"
   },
   {
    "duration": 17,
    "start_time": "2022-05-28T20:11:10.872Z"
   },
   {
    "duration": 9,
    "start_time": "2022-05-28T20:11:10.891Z"
   },
   {
    "duration": 66,
    "start_time": "2022-05-28T20:11:10.903Z"
   },
   {
    "duration": 99,
    "start_time": "2022-05-28T20:11:10.972Z"
   },
   {
    "duration": 16,
    "start_time": "2022-05-28T20:11:11.073Z"
   },
   {
    "duration": 6,
    "start_time": "2022-05-28T20:11:11.091Z"
   },
   {
    "duration": 63,
    "start_time": "2022-05-28T20:11:11.099Z"
   },
   {
    "duration": 92,
    "start_time": "2022-05-28T20:11:11.169Z"
   },
   {
    "duration": 15,
    "start_time": "2022-05-28T20:11:57.155Z"
   },
   {
    "duration": 1016,
    "start_time": "2022-05-28T20:12:08.154Z"
   },
   {
    "duration": 115,
    "start_time": "2022-05-28T20:12:09.172Z"
   },
   {
    "duration": 7,
    "start_time": "2022-05-28T20:12:09.289Z"
   },
   {
    "duration": 11,
    "start_time": "2022-05-28T20:12:09.299Z"
   },
   {
    "duration": 11,
    "start_time": "2022-05-28T20:12:09.311Z"
   },
   {
    "duration": 9,
    "start_time": "2022-05-28T20:12:09.323Z"
   },
   {
    "duration": 35,
    "start_time": "2022-05-28T20:12:09.333Z"
   },
   {
    "duration": 20,
    "start_time": "2022-05-28T20:12:09.370Z"
   },
   {
    "duration": 45,
    "start_time": "2022-05-28T20:12:09.392Z"
   },
   {
    "duration": 5,
    "start_time": "2022-05-28T20:12:09.442Z"
   },
   {
    "duration": 35,
    "start_time": "2022-05-28T20:12:09.449Z"
   },
   {
    "duration": 15,
    "start_time": "2022-05-28T20:12:09.486Z"
   },
   {
    "duration": 17,
    "start_time": "2022-05-28T20:12:09.503Z"
   },
   {
    "duration": 43,
    "start_time": "2022-05-28T20:12:09.522Z"
   },
   {
    "duration": 124,
    "start_time": "2022-05-28T20:12:09.568Z"
   },
   {
    "duration": 11,
    "start_time": "2022-05-28T20:12:09.696Z"
   },
   {
    "duration": 7,
    "start_time": "2022-05-28T20:12:09.709Z"
   },
   {
    "duration": 11,
    "start_time": "2022-05-28T20:12:09.718Z"
   },
   {
    "duration": 111,
    "start_time": "2022-05-28T20:12:09.760Z"
   },
   {
    "duration": 939,
    "start_time": "2022-05-28T20:13:58.674Z"
   },
   {
    "duration": 110,
    "start_time": "2022-05-28T20:13:59.615Z"
   },
   {
    "duration": 8,
    "start_time": "2022-05-28T20:13:59.727Z"
   },
   {
    "duration": 25,
    "start_time": "2022-05-28T20:13:59.737Z"
   },
   {
    "duration": 19,
    "start_time": "2022-05-28T20:13:59.766Z"
   },
   {
    "duration": 9,
    "start_time": "2022-05-28T20:13:59.786Z"
   },
   {
    "duration": 12,
    "start_time": "2022-05-28T20:13:59.796Z"
   },
   {
    "duration": 21,
    "start_time": "2022-05-28T20:13:59.810Z"
   },
   {
    "duration": 28,
    "start_time": "2022-05-28T20:13:59.833Z"
   },
   {
    "duration": 6,
    "start_time": "2022-05-28T20:13:59.863Z"
   },
   {
    "duration": 13,
    "start_time": "2022-05-28T20:13:59.871Z"
   },
   {
    "duration": 7,
    "start_time": "2022-05-28T20:13:59.886Z"
   },
   {
    "duration": 9,
    "start_time": "2022-05-28T20:13:59.894Z"
   },
   {
    "duration": 12,
    "start_time": "2022-05-28T20:13:59.963Z"
   },
   {
    "duration": 93,
    "start_time": "2022-05-28T20:13:59.978Z"
   },
   {
    "duration": 24,
    "start_time": "2022-05-28T20:14:00.073Z"
   },
   {
    "duration": 4,
    "start_time": "2022-05-28T20:14:00.099Z"
   },
   {
    "duration": 12,
    "start_time": "2022-05-28T20:14:00.104Z"
   },
   {
    "duration": 104,
    "start_time": "2022-05-28T20:14:00.159Z"
   },
   {
    "duration": 1041,
    "start_time": "2023-02-20T13:30:07.838Z"
   },
   {
    "duration": 91,
    "start_time": "2023-02-20T13:30:08.881Z"
   },
   {
    "duration": 6,
    "start_time": "2023-02-20T13:30:08.973Z"
   },
   {
    "duration": 18,
    "start_time": "2023-02-20T13:30:08.981Z"
   },
   {
    "duration": 9,
    "start_time": "2023-02-20T13:30:09.000Z"
   },
   {
    "duration": 16,
    "start_time": "2023-02-20T13:30:09.010Z"
   },
   {
    "duration": 16,
    "start_time": "2023-02-20T13:30:09.028Z"
   },
   {
    "duration": 45,
    "start_time": "2023-02-20T13:30:09.046Z"
   },
   {
    "duration": 37,
    "start_time": "2023-02-20T13:30:09.092Z"
   },
   {
    "duration": 4,
    "start_time": "2023-02-20T13:30:09.131Z"
   },
   {
    "duration": 47,
    "start_time": "2023-02-20T13:30:09.136Z"
   },
   {
    "duration": 10,
    "start_time": "2023-02-20T13:30:09.185Z"
   },
   {
    "duration": 19,
    "start_time": "2023-02-20T13:30:09.197Z"
   },
   {
    "duration": 11,
    "start_time": "2023-02-20T13:30:09.218Z"
   },
   {
    "duration": 76,
    "start_time": "2023-02-20T13:30:09.231Z"
   },
   {
    "duration": 93,
    "start_time": "2023-02-20T13:30:09.308Z"
   },
   {
    "duration": 4,
    "start_time": "2023-02-20T13:30:09.402Z"
   },
   {
    "duration": 18,
    "start_time": "2023-02-20T13:30:09.408Z"
   },
   {
    "duration": 81,
    "start_time": "2023-02-20T13:30:09.428Z"
   }
  ],
  "kernelspec": {
   "display_name": "Python 3 (ipykernel)",
   "language": "python",
   "name": "python3"
  },
  "language_info": {
   "codemirror_mode": {
    "name": "ipython",
    "version": 3
   },
   "file_extension": ".py",
   "mimetype": "text/x-python",
   "name": "python",
   "nbconvert_exporter": "python",
   "pygments_lexer": "ipython3",
   "version": "3.9.5"
  },
  "toc": {
   "base_numbering": 1,
   "nav_menu": {},
   "number_sections": true,
   "sideBar": true,
   "skip_h1_title": true,
   "title_cell": "Содержание",
   "title_sidebar": "Contents",
   "toc_cell": true,
   "toc_position": {},
   "toc_section_display": true,
   "toc_window_display": true
  }
 },
 "nbformat": 4,
 "nbformat_minor": 2
}
