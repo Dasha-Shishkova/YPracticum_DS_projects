{
 "cells": [
  {
   "cell_type": "markdown",
   "metadata": {
    "id": "E0vqbgi9ay0H"
   },
   "source": [
    "# Яндекс.Музыка"
   ]
  },
  {
   "cell_type": "markdown",
   "metadata": {
    "id": "VUC88oWjTJw2"
   },
   "source": [
    "На данных Яндекс.Музыки сравнить поведение пользователей из Москвы и Санкт-Петербурга.\n",
    "\n",
    "**Цель исследования** — проверить три гипотезы:\n",
    "1. Активность пользователей зависит от дня недели. Причём в Москве и Петербурге это проявляется по-разному.\n",
    "2. В понедельник утром в Москве преобладают одни жанры, а в Петербурге — другие. Так же и вечером пятницы преобладают разные жанры — в зависимости от города. \n",
    "3. Москва и Петербург предпочитают разные жанры музыки. В Москве чаще слушают поп-музыку, в Петербурге — русский рэп."
   ]
  },
  {
   "cell_type": "markdown",
   "metadata": {
    "id": "Ml1hmfXC_Zcs"
   },
   "source": [
    "## Обзор данных"
   ]
  },
  {
   "cell_type": "code",
   "execution_count": 1,
   "metadata": {
    "id": "AXN7PHPN_Zcs"
   },
   "outputs": [],
   "source": [
    "import pandas as pd # импорт библиотеки pandas"
   ]
  },
  {
   "cell_type": "code",
   "execution_count": 2,
   "metadata": {
    "id": "fFVu7vqh_Zct"
   },
   "outputs": [],
   "source": [
    "df = pd.read_csv('/datasets/yandex_music_project.csv') # чтение файла с данными и сохранение в df"
   ]
  },
  {
   "cell_type": "code",
   "execution_count": 3,
   "metadata": {
    "id": "oWTVX3gW_Zct"
   },
   "outputs": [
    {
     "data": {
      "text/html": [
       "<div>\n",
       "<style scoped>\n",
       "    .dataframe tbody tr th:only-of-type {\n",
       "        vertical-align: middle;\n",
       "    }\n",
       "\n",
       "    .dataframe tbody tr th {\n",
       "        vertical-align: top;\n",
       "    }\n",
       "\n",
       "    .dataframe thead th {\n",
       "        text-align: right;\n",
       "    }\n",
       "</style>\n",
       "<table border=\"1\" class=\"dataframe\">\n",
       "  <thead>\n",
       "    <tr style=\"text-align: right;\">\n",
       "      <th></th>\n",
       "      <th>userID</th>\n",
       "      <th>Track</th>\n",
       "      <th>artist</th>\n",
       "      <th>genre</th>\n",
       "      <th>City</th>\n",
       "      <th>time</th>\n",
       "      <th>Day</th>\n",
       "    </tr>\n",
       "  </thead>\n",
       "  <tbody>\n",
       "    <tr>\n",
       "      <th>0</th>\n",
       "      <td>FFB692EC</td>\n",
       "      <td>Kamigata To Boots</td>\n",
       "      <td>The Mass Missile</td>\n",
       "      <td>rock</td>\n",
       "      <td>Saint-Petersburg</td>\n",
       "      <td>20:28:33</td>\n",
       "      <td>Wednesday</td>\n",
       "    </tr>\n",
       "    <tr>\n",
       "      <th>1</th>\n",
       "      <td>55204538</td>\n",
       "      <td>Delayed Because of Accident</td>\n",
       "      <td>Andreas Rönnberg</td>\n",
       "      <td>rock</td>\n",
       "      <td>Moscow</td>\n",
       "      <td>14:07:09</td>\n",
       "      <td>Friday</td>\n",
       "    </tr>\n",
       "    <tr>\n",
       "      <th>2</th>\n",
       "      <td>20EC38</td>\n",
       "      <td>Funiculì funiculà</td>\n",
       "      <td>Mario Lanza</td>\n",
       "      <td>pop</td>\n",
       "      <td>Saint-Petersburg</td>\n",
       "      <td>20:58:07</td>\n",
       "      <td>Wednesday</td>\n",
       "    </tr>\n",
       "    <tr>\n",
       "      <th>3</th>\n",
       "      <td>A3DD03C9</td>\n",
       "      <td>Dragons in the Sunset</td>\n",
       "      <td>Fire + Ice</td>\n",
       "      <td>folk</td>\n",
       "      <td>Saint-Petersburg</td>\n",
       "      <td>08:37:09</td>\n",
       "      <td>Monday</td>\n",
       "    </tr>\n",
       "    <tr>\n",
       "      <th>4</th>\n",
       "      <td>E2DC1FAE</td>\n",
       "      <td>Soul People</td>\n",
       "      <td>Space Echo</td>\n",
       "      <td>dance</td>\n",
       "      <td>Moscow</td>\n",
       "      <td>08:34:34</td>\n",
       "      <td>Monday</td>\n",
       "    </tr>\n",
       "    <tr>\n",
       "      <th>5</th>\n",
       "      <td>842029A1</td>\n",
       "      <td>Преданная</td>\n",
       "      <td>IMPERVTOR</td>\n",
       "      <td>rusrap</td>\n",
       "      <td>Saint-Petersburg</td>\n",
       "      <td>13:09:41</td>\n",
       "      <td>Friday</td>\n",
       "    </tr>\n",
       "    <tr>\n",
       "      <th>6</th>\n",
       "      <td>4CB90AA5</td>\n",
       "      <td>True</td>\n",
       "      <td>Roman Messer</td>\n",
       "      <td>dance</td>\n",
       "      <td>Moscow</td>\n",
       "      <td>13:00:07</td>\n",
       "      <td>Wednesday</td>\n",
       "    </tr>\n",
       "    <tr>\n",
       "      <th>7</th>\n",
       "      <td>F03E1C1F</td>\n",
       "      <td>Feeling This Way</td>\n",
       "      <td>Polina Griffith</td>\n",
       "      <td>dance</td>\n",
       "      <td>Moscow</td>\n",
       "      <td>20:47:49</td>\n",
       "      <td>Wednesday</td>\n",
       "    </tr>\n",
       "    <tr>\n",
       "      <th>8</th>\n",
       "      <td>8FA1D3BE</td>\n",
       "      <td>И вновь продолжается бой</td>\n",
       "      <td>NaN</td>\n",
       "      <td>ruspop</td>\n",
       "      <td>Moscow</td>\n",
       "      <td>09:17:40</td>\n",
       "      <td>Friday</td>\n",
       "    </tr>\n",
       "    <tr>\n",
       "      <th>9</th>\n",
       "      <td>E772D5C0</td>\n",
       "      <td>Pessimist</td>\n",
       "      <td>NaN</td>\n",
       "      <td>dance</td>\n",
       "      <td>Saint-Petersburg</td>\n",
       "      <td>21:20:49</td>\n",
       "      <td>Wednesday</td>\n",
       "    </tr>\n",
       "  </tbody>\n",
       "</table>\n",
       "</div>"
      ],
      "text/plain": [
       "     userID                        Track            artist   genre  \\\n",
       "0  FFB692EC            Kamigata To Boots  The Mass Missile    rock   \n",
       "1  55204538  Delayed Because of Accident  Andreas Rönnberg    rock   \n",
       "2    20EC38            Funiculì funiculà       Mario Lanza     pop   \n",
       "3  A3DD03C9        Dragons in the Sunset        Fire + Ice    folk   \n",
       "4  E2DC1FAE                  Soul People        Space Echo   dance   \n",
       "5  842029A1                    Преданная         IMPERVTOR  rusrap   \n",
       "6  4CB90AA5                         True      Roman Messer   dance   \n",
       "7  F03E1C1F             Feeling This Way   Polina Griffith   dance   \n",
       "8  8FA1D3BE     И вновь продолжается бой               NaN  ruspop   \n",
       "9  E772D5C0                    Pessimist               NaN   dance   \n",
       "\n",
       "             City        time        Day  \n",
       "0  Saint-Petersburg  20:28:33  Wednesday  \n",
       "1            Moscow  14:07:09     Friday  \n",
       "2  Saint-Petersburg  20:58:07  Wednesday  \n",
       "3  Saint-Petersburg  08:37:09     Monday  \n",
       "4            Moscow  08:34:34     Monday  \n",
       "5  Saint-Petersburg  13:09:41     Friday  \n",
       "6            Moscow  13:00:07  Wednesday  \n",
       "7            Moscow  20:47:49  Wednesday  \n",
       "8            Moscow  09:17:40     Friday  \n",
       "9  Saint-Petersburg  21:20:49  Wednesday  "
      ]
     },
     "metadata": {},
     "output_type": "display_data"
    }
   ],
   "source": [
    "display(df.head(10)) # получение первых 10 строк таблицы df"
   ]
  },
  {
   "cell_type": "code",
   "execution_count": 4,
   "metadata": {
    "id": "DSf2kIb-_Zct"
   },
   "outputs": [
    {
     "name": "stdout",
     "output_type": "stream",
     "text": [
      "<class 'pandas.core.frame.DataFrame'>\n",
      "RangeIndex: 65079 entries, 0 to 65078\n",
      "Data columns (total 7 columns):\n",
      " #   Column    Non-Null Count  Dtype \n",
      "---  ------    --------------  ----- \n",
      " 0     userID  65079 non-null  object\n",
      " 1   Track     63848 non-null  object\n",
      " 2   artist    57876 non-null  object\n",
      " 3   genre     63881 non-null  object\n",
      " 4     City    65079 non-null  object\n",
      " 5   time      65079 non-null  object\n",
      " 6   Day       65079 non-null  object\n",
      "dtypes: object(7)\n",
      "memory usage: 3.5+ MB\n"
     ]
    }
   ],
   "source": [
    "df.info() # получение общей информации о данных в таблице df"
   ]
  },
  {
   "cell_type": "markdown",
   "metadata": {
    "id": "TaQ2Iwbr_Zct"
   },
   "source": [
    "Итак, в таблице семь столбцов. Тип данных во всех столбцах — `object`.\n",
    "\n",
    "Согласно документации к данным:\n",
    "* `userID` — идентификатор пользователя;\n",
    "* `Track` — название трека;  \n",
    "* `artist` — имя исполнителя;\n",
    "* `genre` — название жанра;\n",
    "* `City` — город пользователя;\n",
    "* `time` — время начала прослушивания;\n",
    "* `Day` — день недели.\n",
    "\n",
    "В названиях колонок видны три нарушения стиля:\n",
    "1. Строчные буквы сочетаются с прописными.\n",
    "2. Встречаются пробелы.\n",
    "3. Имя `userID` написано слитно. Лучше использовать змеиный регистр и разделить слова нижним подчеркиванием.\n",
    "\n",
    "\n",
    "\n",
    "Количество значений в столбцах различается. Значит, в данных есть пропущенные значения.\n"
   ]
  },
  {
   "cell_type": "markdown",
   "metadata": {
    "id": "MCB6-dXG_Zct"
   },
   "source": [
    "**Выводы**\n",
    "\n",
    "В каждой строке таблицы — данные о прослушанном треке. Часть колонок описывает саму композицию: название, исполнителя и жанр. Остальные данные рассказывают о пользователе: из какого он города, когда он слушал музыку. \n",
    "\n",
    "Предварительно можно утверждать, что, данных достаточно для проверки гипотез. Но встречаются пропуски в данных, а в названиях колонок — расхождения с хорошим стилем.\n",
    "\n",
    "Чтобы двигаться дальше, нужно устранить проблемы в данных."
   ]
  },
  {
   "cell_type": "markdown",
   "metadata": {
    "id": "SjYF6Ub9_Zct"
   },
   "source": [
    "## Предобработка данных"
   ]
  },
  {
   "cell_type": "markdown",
   "metadata": {
    "id": "dIaKXr29_Zct"
   },
   "source": [
    "### Стиль заголовков"
   ]
  },
  {
   "cell_type": "code",
   "execution_count": 5,
   "metadata": {
    "id": "oKOTdF_Q_Zct"
   },
   "outputs": [
    {
     "data": {
      "text/plain": [
       "Index(['  userID', 'Track', 'artist', 'genre', '  City  ', 'time', 'Day'], dtype='object')"
      ]
     },
     "execution_count": 5,
     "metadata": {},
     "output_type": "execute_result"
    }
   ],
   "source": [
    "df.columns # перечень названий столбцов таблицы df"
   ]
  },
  {
   "cell_type": "markdown",
   "metadata": {
    "id": "zj5534cv_Zct"
   },
   "source": [
    "Приведем названия в соответствие с хорошим стилем:\n",
    "* несколько слов в названии запишем в «змеином_регистре»,\n",
    "* все символы сделаем строчными,\n",
    "* устраним пробелы."
   ]
  },
  {
   "cell_type": "code",
   "execution_count": 6,
   "metadata": {
    "id": "ISlFqs5y_Zct"
   },
   "outputs": [],
   "source": [
    "# переименование столбцов\n",
    "df = df.rename(columns = {'  userID': 'user_id', 'Track': 'track', '  City  ': 'city', 'Day': 'day'}) "
   ]
  },
  {
   "cell_type": "code",
   "execution_count": 7,
   "metadata": {
    "id": "d4NOAmTW_Zct"
   },
   "outputs": [
    {
     "data": {
      "text/plain": [
       "Index(['user_id', 'track', 'artist', 'genre', 'city', 'time', 'day'], dtype='object')"
      ]
     },
     "execution_count": 7,
     "metadata": {},
     "output_type": "execute_result"
    }
   ],
   "source": [
    "df.columns # проверка результатов - перечень названий столбцов"
   ]
  },
  {
   "cell_type": "markdown",
   "metadata": {
    "id": "5ISfbcfY_Zct"
   },
   "source": [
    "### Пропуски значений"
   ]
  },
  {
   "cell_type": "code",
   "execution_count": 8,
   "metadata": {
    "id": "RskX29qr_Zct"
   },
   "outputs": [
    {
     "data": {
      "text/plain": [
       "user_id       0\n",
       "track      1231\n",
       "artist     7203\n",
       "genre      1198\n",
       "city          0\n",
       "time          0\n",
       "day           0\n",
       "dtype: int64"
      ]
     },
     "execution_count": 8,
     "metadata": {},
     "output_type": "execute_result"
    }
   ],
   "source": [
    "df.isna().sum() # подсчёт пропусков"
   ]
  },
  {
   "cell_type": "markdown",
   "metadata": {
    "id": "qubhgnlO_Zct"
   },
   "source": [
    "Заменим пропущенные значения в столбцах `track`, `artist` и `genre` на строку `'unknown'`."
   ]
  },
  {
   "cell_type": "code",
   "execution_count": 9,
   "metadata": {
    "id": "KplB5qWs_Zct"
   },
   "outputs": [],
   "source": [
    "# перебор названий столбцов в цикле и замена пропущенных значений на 'unknown'\n",
    "columns_to_replace = ['track', 'artist', 'genre']\n",
    "\n",
    "for column in columns_to_replace:\n",
    "    df[column] = df[column].fillna('unknown')"
   ]
  },
  {
   "cell_type": "code",
   "execution_count": 10,
   "metadata": {
    "id": "Tq4nYRX4_Zct"
   },
   "outputs": [
    {
     "data": {
      "text/plain": [
       "user_id    0\n",
       "track      0\n",
       "artist     0\n",
       "genre      0\n",
       "city       0\n",
       "time       0\n",
       "day        0\n",
       "dtype: int64"
      ]
     },
     "execution_count": 10,
     "metadata": {},
     "output_type": "execute_result"
    }
   ],
   "source": [
    "df.isna().sum() # подсчёт пропусков"
   ]
  },
  {
   "cell_type": "markdown",
   "metadata": {
    "id": "BWKRtBJ3_Zct"
   },
   "source": [
    "### Дубликаты"
   ]
  },
  {
   "cell_type": "code",
   "execution_count": 11,
   "metadata": {
    "id": "36eES_S0_Zct"
   },
   "outputs": [
    {
     "data": {
      "text/plain": [
       "3826"
      ]
     },
     "execution_count": 11,
     "metadata": {},
     "output_type": "execute_result"
    }
   ],
   "source": [
    "df.duplicated().sum() # подсчёт явных дубликатов"
   ]
  },
  {
   "cell_type": "code",
   "execution_count": 12,
   "metadata": {
    "id": "exFHq6tt_Zct"
   },
   "outputs": [],
   "source": [
    "# удаление явных дубликатов (с удалением старых индексов и формированием новых)\n",
    "df = df.drop_duplicates().reset_index(drop = True) "
   ]
  },
  {
   "cell_type": "code",
   "execution_count": 13,
   "metadata": {
    "id": "-8PuNWQ0_Zct"
   },
   "outputs": [
    {
     "data": {
      "text/plain": [
       "0"
      ]
     },
     "execution_count": 13,
     "metadata": {},
     "output_type": "execute_result"
    }
   ],
   "source": [
    "df.duplicated().sum() # проверка на отсутствие дубликатов"
   ]
  },
  {
   "cell_type": "markdown",
   "metadata": {
    "id": "QlFBsxAr_Zct"
   },
   "source": [
    "Теперь избавимся от неявных дубликатов в колонке `genre`. Например, название одного и того же жанра может быть записано немного по-разному. Такие ошибки тоже повлияют на результат исследования."
   ]
  },
  {
   "cell_type": "code",
   "execution_count": 15,
   "metadata": {},
   "outputs": [
    {
     "data": {
      "text/plain": [
       "array(['acid', 'acoustic', 'action', 'adult', 'africa', 'afrikaans',\n",
       "       'alternative', 'alternativepunk', 'ambient', 'americana',\n",
       "       'animated', 'anime', 'arabesk', 'arabic', 'arena',\n",
       "       'argentinetango', 'art', 'audiobook', 'author', 'avantgarde',\n",
       "       'axé', 'baile', 'balkan', 'beats', 'bigroom', 'black', 'bluegrass',\n",
       "       'blues', 'bollywood', 'bossa', 'brazilian', 'breakbeat', 'breaks',\n",
       "       'broadway', 'cantautori', 'cantopop', 'canzone', 'caribbean',\n",
       "       'caucasian', 'celtic', 'chamber', 'chanson', 'children', 'chill',\n",
       "       'chinese', 'choral', 'christian', 'christmas', 'classical',\n",
       "       'classicmetal', 'club', 'colombian', 'comedy', 'conjazz',\n",
       "       'contemporary', 'country', 'cuban', 'dance', 'dancehall',\n",
       "       'dancepop', 'dark', 'death', 'deep', 'deutschrock', 'deutschspr',\n",
       "       'dirty', 'disco', 'dnb', 'documentary', 'downbeat', 'downtempo',\n",
       "       'drum', 'dub', 'dubstep', 'eastern', 'easy', 'electronic',\n",
       "       'electropop', 'emo', 'entehno', 'epicmetal', 'estrada', 'ethnic',\n",
       "       'eurofolk', 'european', 'experimental', 'extrememetal', 'fado',\n",
       "       'fairytail', 'film', 'fitness', 'flamenco', 'folk', 'folklore',\n",
       "       'folkmetal', 'folkrock', 'folktronica', 'forró', 'frankreich',\n",
       "       'französisch', 'french', 'funk', 'future', 'gangsta', 'garage',\n",
       "       'german', 'ghazal', 'gitarre', 'glitch', 'gospel', 'gothic',\n",
       "       'grime', 'grunge', 'gypsy', 'handsup', \"hard'n'heavy\", 'hardcore',\n",
       "       'hardstyle', 'hardtechno', 'hip', 'hip-hop', 'hiphop',\n",
       "       'historisch', 'holiday', 'hop', 'horror', 'house', 'hymn', 'idm',\n",
       "       'independent', 'indian', 'indie', 'indipop', 'industrial',\n",
       "       'inspirational', 'instrumental', 'international', 'irish', 'jam',\n",
       "       'japanese', 'jazz', 'jewish', 'jpop', 'jungle', 'k-pop',\n",
       "       'karadeniz', 'karaoke', 'kayokyoku', 'korean', 'laiko', 'latin',\n",
       "       'latino', 'leftfield', 'local', 'lounge', 'loungeelectronic',\n",
       "       'lovers', 'malaysian', 'mandopop', 'marschmusik', 'meditative',\n",
       "       'mediterranean', 'melodic', 'metal', 'metalcore', 'mexican',\n",
       "       'middle', 'minimal', 'miscellaneous', 'modern', 'mood', 'mpb',\n",
       "       'muslim', 'native', 'neoklassik', 'neue', 'new', 'newage',\n",
       "       'newwave', 'nu', 'nujazz', 'numetal', 'oceania', 'old', 'opera',\n",
       "       'orchestral', 'other', 'piano', 'podcasts', 'pop', 'popdance',\n",
       "       'popelectronic', 'popeurodance', 'poprussian', 'post',\n",
       "       'posthardcore', 'postrock', 'power', 'progmetal', 'progressive',\n",
       "       'psychedelic', 'punjabi', 'punk', 'quebecois', 'ragga', 'ram',\n",
       "       'rancheras', 'rap', 'rave', 'reggae', 'reggaeton', 'regional',\n",
       "       'relax', 'religious', 'retro', 'rhythm', 'rnb', 'rnr', 'rock',\n",
       "       'rockabilly', 'rockalternative', 'rockindie', 'rockother',\n",
       "       'romance', 'roots', 'ruspop', 'rusrap', 'rusrock', 'russian',\n",
       "       'salsa', 'samba', 'scenic', 'schlager', 'self', 'sertanejo',\n",
       "       'shanson', 'shoegazing', 'showtunes', 'singer', 'ska', 'skarock',\n",
       "       'slow', 'smooth', 'soft', 'soul', 'soulful', 'sound', 'soundtrack',\n",
       "       'southern', 'specialty', 'speech', 'spiritual', 'sport',\n",
       "       'stonerrock', 'surf', 'swing', 'synthpop', 'synthrock',\n",
       "       'sängerportrait', 'tango', 'tanzorchester', 'taraftar', 'tatar',\n",
       "       'tech', 'techno', 'teen', 'thrash', 'top', 'traditional',\n",
       "       'tradjazz', 'trance', 'tribal', 'trip', 'triphop', 'tropical',\n",
       "       'türk', 'türkçe', 'ukrrock', 'unknown', 'urban', 'uzbek',\n",
       "       'variété', 'vi', 'videogame', 'vocal', 'western', 'world',\n",
       "       'worldbeat', 'ïîï', 'электроника'], dtype=object)"
      ]
     },
     "execution_count": 15,
     "metadata": {},
     "output_type": "execute_result"
    }
   ],
   "source": [
    "#Просмотр уникальных названий жанров\n",
    "df['genre'].sort_values().unique()"
   ]
  },
  {
   "cell_type": "markdown",
   "metadata": {
    "id": "qej-Qmuo_Zct"
   },
   "source": [
    "Видим следующие неявные дубликаты:\n",
    "* *hip*,\n",
    "* *hop*,\n",
    "* *hip-hop*.\n",
    "\n",
    "Чтобы очистить от них таблицу, напишем функцию `replace_wrong_genres()` с двумя параметрами: \n",
    "* `wrong_genres` — список дубликатов,\n",
    "* `correct_genre` — строка с правильным значением."
   ]
  },
  {
   "cell_type": "code",
   "execution_count": 17,
   "metadata": {
    "id": "ErNDkmns_Zct"
   },
   "outputs": [],
   "source": [
    "# Функция для замены неявных дубликатов\n",
    "def replace_wrong_genres(wrong_genres, correct_genre):\n",
    "    for wrong_genre in wrong_genres:\n",
    "        df['genre'] = df['genre'].replace(wrong_genre, correct_genre)"
   ]
  },
  {
   "cell_type": "code",
   "execution_count": 18,
   "metadata": {
    "id": "YN5i2hpmSo09"
   },
   "outputs": [],
   "source": [
    "# Устранение неявных дубликатов\n",
    "wrong_names = ['hip', 'hop', 'hip-hop']\n",
    "correct_name = 'hiphop'\n",
    "replace_wrong_genres(wrong_names, correct_name)"
   ]
  },
  {
   "cell_type": "code",
   "execution_count": 19,
   "metadata": {
    "id": "wvixALnFG15m"
   },
   "outputs": [
    {
     "data": {
      "text/plain": [
       "array(['acid', 'acoustic', 'action', 'adult', 'africa', 'afrikaans',\n",
       "       'alternative', 'alternativepunk', 'ambient', 'americana',\n",
       "       'animated', 'anime', 'arabesk', 'arabic', 'arena',\n",
       "       'argentinetango', 'art', 'audiobook', 'author', 'avantgarde',\n",
       "       'axé', 'baile', 'balkan', 'beats', 'bigroom', 'black', 'bluegrass',\n",
       "       'blues', 'bollywood', 'bossa', 'brazilian', 'breakbeat', 'breaks',\n",
       "       'broadway', 'cantautori', 'cantopop', 'canzone', 'caribbean',\n",
       "       'caucasian', 'celtic', 'chamber', 'chanson', 'children', 'chill',\n",
       "       'chinese', 'choral', 'christian', 'christmas', 'classical',\n",
       "       'classicmetal', 'club', 'colombian', 'comedy', 'conjazz',\n",
       "       'contemporary', 'country', 'cuban', 'dance', 'dancehall',\n",
       "       'dancepop', 'dark', 'death', 'deep', 'deutschrock', 'deutschspr',\n",
       "       'dirty', 'disco', 'dnb', 'documentary', 'downbeat', 'downtempo',\n",
       "       'drum', 'dub', 'dubstep', 'eastern', 'easy', 'electronic',\n",
       "       'electropop', 'emo', 'entehno', 'epicmetal', 'estrada', 'ethnic',\n",
       "       'eurofolk', 'european', 'experimental', 'extrememetal', 'fado',\n",
       "       'fairytail', 'film', 'fitness', 'flamenco', 'folk', 'folklore',\n",
       "       'folkmetal', 'folkrock', 'folktronica', 'forró', 'frankreich',\n",
       "       'französisch', 'french', 'funk', 'future', 'gangsta', 'garage',\n",
       "       'german', 'ghazal', 'gitarre', 'glitch', 'gospel', 'gothic',\n",
       "       'grime', 'grunge', 'gypsy', 'handsup', \"hard'n'heavy\", 'hardcore',\n",
       "       'hardstyle', 'hardtechno', 'hiphop', 'historisch', 'holiday',\n",
       "       'horror', 'house', 'hymn', 'idm', 'independent', 'indian', 'indie',\n",
       "       'indipop', 'industrial', 'inspirational', 'instrumental',\n",
       "       'international', 'irish', 'jam', 'japanese', 'jazz', 'jewish',\n",
       "       'jpop', 'jungle', 'k-pop', 'karadeniz', 'karaoke', 'kayokyoku',\n",
       "       'korean', 'laiko', 'latin', 'latino', 'leftfield', 'local',\n",
       "       'lounge', 'loungeelectronic', 'lovers', 'malaysian', 'mandopop',\n",
       "       'marschmusik', 'meditative', 'mediterranean', 'melodic', 'metal',\n",
       "       'metalcore', 'mexican', 'middle', 'minimal', 'miscellaneous',\n",
       "       'modern', 'mood', 'mpb', 'muslim', 'native', 'neoklassik', 'neue',\n",
       "       'new', 'newage', 'newwave', 'nu', 'nujazz', 'numetal', 'oceania',\n",
       "       'old', 'opera', 'orchestral', 'other', 'piano', 'podcasts', 'pop',\n",
       "       'popdance', 'popelectronic', 'popeurodance', 'poprussian', 'post',\n",
       "       'posthardcore', 'postrock', 'power', 'progmetal', 'progressive',\n",
       "       'psychedelic', 'punjabi', 'punk', 'quebecois', 'ragga', 'ram',\n",
       "       'rancheras', 'rap', 'rave', 'reggae', 'reggaeton', 'regional',\n",
       "       'relax', 'religious', 'retro', 'rhythm', 'rnb', 'rnr', 'rock',\n",
       "       'rockabilly', 'rockalternative', 'rockindie', 'rockother',\n",
       "       'romance', 'roots', 'ruspop', 'rusrap', 'rusrock', 'russian',\n",
       "       'salsa', 'samba', 'scenic', 'schlager', 'self', 'sertanejo',\n",
       "       'shanson', 'shoegazing', 'showtunes', 'singer', 'ska', 'skarock',\n",
       "       'slow', 'smooth', 'soft', 'soul', 'soulful', 'sound', 'soundtrack',\n",
       "       'southern', 'specialty', 'speech', 'spiritual', 'sport',\n",
       "       'stonerrock', 'surf', 'swing', 'synthpop', 'synthrock',\n",
       "       'sängerportrait', 'tango', 'tanzorchester', 'taraftar', 'tatar',\n",
       "       'tech', 'techno', 'teen', 'thrash', 'top', 'traditional',\n",
       "       'tradjazz', 'trance', 'tribal', 'trip', 'triphop', 'tropical',\n",
       "       'türk', 'türkçe', 'ukrrock', 'unknown', 'urban', 'uzbek',\n",
       "       'variété', 'vi', 'videogame', 'vocal', 'western', 'world',\n",
       "       'worldbeat', 'ïîï', 'электроника'], dtype=object)"
      ]
     },
     "execution_count": 19,
     "metadata": {},
     "output_type": "execute_result"
    }
   ],
   "source": [
    "df['genre'].unique() # Проверка на неявные дубликаты"
   ]
  },
  {
   "cell_type": "markdown",
   "metadata": {
    "id": "jz6a9-7HQUDd"
   },
   "source": [
    "**Выводы**\n",
    "\n",
    "Предобработка обнаружила три проблемы в данных:\n",
    "\n",
    "- нарушения в стиле заголовков,\n",
    "- пропущенные значения,\n",
    "- дубликаты — явные и неявные.\n",
    "\n",
    "Были исправлены заголовки, чтобы упростить работу с таблицей. Без дубликатов исследование станет более точным.\n",
    "\n",
    "Пропущенные значения заменили на `'unknown'`. Ещё предстоит увидеть, не повредят ли исследованию пропуски в колонке `genre`.\n",
    "\n",
    "Теперь можно перейти к проверке гипотез. "
   ]
  },
  {
   "cell_type": "markdown",
   "metadata": {
    "id": "WttZHXH0SqKk"
   },
   "source": [
    "## Проверка гипотез"
   ]
  },
  {
   "cell_type": "markdown",
   "metadata": {
    "id": "Im936VVi_Zcu"
   },
   "source": [
    "### Сравнение поведения пользователей двух столиц"
   ]
  },
  {
   "cell_type": "markdown",
   "metadata": {
    "id": "nwt_MuaL_Zcu"
   },
   "source": [
    "Первая гипотеза утверждает, что пользователи по-разному слушают музыку в Москве и Санкт-Петербурге. Проверим это предположение по данным о трёх днях недели — понедельнике, среде и пятнице. Для этого:\n",
    "\n",
    "* Разделим пользователей Москвы и Санкт-Петербурга\n",
    "* Сравним, сколько треков послушала каждая группа пользователей в понедельник, среду и пятницу.\n"
   ]
  },
  {
   "cell_type": "code",
   "execution_count": 21,
   "metadata": {
    "id": "0_Qs96oh_Zcu",
    "scrolled": true
   },
   "outputs": [
    {
     "data": {
      "text/plain": [
       "city\n",
       "Moscow              42741\n",
       "Saint-Petersburg    18512\n",
       "Name: genre, dtype: int64"
      ]
     },
     "execution_count": 21,
     "metadata": {},
     "output_type": "execute_result"
    }
   ],
   "source": [
    "# Подсчёт прослушиваний в каждом городе\n",
    "\n",
    "df.groupby('city')['genre'].count()"
   ]
  },
  {
   "cell_type": "markdown",
   "metadata": {
    "id": "dzli3w8o_Zcu"
   },
   "source": [
    "В Москве прослушиваний больше, чем в Петербурге. Из этого не следует, что московские пользователи чаще слушают музыку. Просто самих пользователей в Москве больше.\n",
    "\n",
    "Теперь сгруппируем данные по дню недели и подсчитаем прослушивания в понедельник, среду и пятницу."
   ]
  },
  {
   "cell_type": "code",
   "execution_count": 22,
   "metadata": {
    "id": "uZMKjiJz_Zcu"
   },
   "outputs": [
    {
     "data": {
      "text/plain": [
       "day\n",
       "Friday       21840\n",
       "Monday       21354\n",
       "Wednesday    18059\n",
       "Name: genre, dtype: int64"
      ]
     },
     "execution_count": 22,
     "metadata": {},
     "output_type": "execute_result"
    }
   ],
   "source": [
    "# Подсчёт прослушиваний в каждый из трёх дней\n",
    "df.groupby('day')['genre'].count()"
   ]
  },
  {
   "cell_type": "markdown",
   "metadata": {
    "id": "POzs8bGa_Zcu"
   },
   "source": [
    "Вы видели, как работает группировка по городу и по дням недели. Теперь напишите функцию, которая объединит два эти расчёта.\n",
    "\n",
    "Создайте функцию `number_tracks()`, которая посчитает прослушивания для заданного дня и города. Ей понадобятся два параметра:\n",
    "* день недели,\n",
    "* название города.\n",
    "\n",
    "В функции сохраните в переменную строки исходной таблицы, у которых значение:\n",
    "  * в колонке `day` равно параметру `day`,\n",
    "  * в колонке `city` равно параметру `city`.\n",
    "\n",
    "Для этого примените последовательную фильтрацию с логической индексацией.\n",
    "\n",
    "Затем посчитайте значения в столбце `user_id` получившейся таблицы. Результат сохраните в новую переменную. Верните эту переменную из функции."
   ]
  },
  {
   "cell_type": "code",
   "execution_count": null,
   "metadata": {
    "id": "Nz3GdQB1_Zcu"
   },
   "outputs": [],
   "source": [
    "# <создание функции number_tracks()>\n",
    "# Объявляется функция с двумя параметрами: day, city.\n",
    "# В переменной track_list сохраняются те строки таблицы df, для которых \n",
    "# значение в столбце 'day' равно параметру day и одновременно значение\n",
    "# в столбце 'city' равно параметру city (используйте последовательную фильтрацию\n",
    "# с помощью логической индексации).\n",
    "# В переменной track_list_count сохраняется число значений столбца 'user_id',\n",
    "# рассчитанное методом count() для таблицы track_list.\n",
    "# Функция возвращает число - значение track_list_count.\n",
    "\n",
    "# Функция для подсчёта прослушиваний для конкретного города и дня.\n",
    "# С помощью последовательной фильтрации с логической индексацией она \n",
    "# сначала получит из исходной таблицы строки с нужным днём,\n",
    "# затем из результата отфильтрует строки с нужным городом,\n",
    "# методом count() посчитает количество значений в колонке user_id. \n",
    "# Это количество функция вернёт в качестве результата\n",
    "\n",
    "def number_tracks(day, city):\n",
    "    track_list = df[df['day'] == day]\n",
    "    track_list = track_list[track_list['city'] == city]\n",
    "    track_list_count = track_list['user_id'].count()\n",
    "    return track_list_count"
   ]
  },
  {
   "cell_type": "markdown",
   "metadata": {},
   "source": [
    "<div class=\"alert alert-block alert-success\">\n",
    "✔️ И с этой функцией всё в порядке!\n",
    "</div>"
   ]
  },
  {
   "cell_type": "markdown",
   "metadata": {
    "id": "ytf7xFrFJQ2r"
   },
   "source": [
    "Вызовите `number_tracks()` шесть раз, меняя значение параметров — так, чтобы получить данные для каждого города в каждый из трёх дней."
   ]
  },
  {
   "cell_type": "code",
   "execution_count": null,
   "metadata": {
    "id": "rJcRATNQ_Zcu"
   },
   "outputs": [],
   "source": [
    "# количество прослушиваний в Москве по понедельникам\n",
    "number_tracks('Monday', 'Moscow')"
   ]
  },
  {
   "cell_type": "code",
   "execution_count": null,
   "metadata": {
    "id": "hq_ncZ5T_Zcu"
   },
   "outputs": [],
   "source": [
    "# количество прослушиваний в Санкт-Петербурге по понедельникам\n",
    "number_tracks('Monday', 'Saint-Petersburg')"
   ]
  },
  {
   "cell_type": "code",
   "execution_count": null,
   "metadata": {
    "id": "_NTy2VPU_Zcu"
   },
   "outputs": [],
   "source": [
    "# количество прослушиваний в Москве по средам\n",
    "number_tracks('Wednesday', 'Moscow')"
   ]
  },
  {
   "cell_type": "code",
   "execution_count": null,
   "metadata": {
    "id": "j2y3TAwo_Zcu"
   },
   "outputs": [],
   "source": [
    "# количество прослушиваний в Санкт-Петербурге по средам\n",
    "number_tracks('Wednesday', 'Saint-Petersburg')"
   ]
  },
  {
   "cell_type": "code",
   "execution_count": null,
   "metadata": {
    "id": "vYDw5u_K_Zcu"
   },
   "outputs": [],
   "source": [
    "# количество прослушиваний в Москве по пятницам\n",
    "number_tracks('Friday', 'Moscow')"
   ]
  },
  {
   "cell_type": "code",
   "execution_count": null,
   "metadata": {
    "id": "8_yzFtW3_Zcu"
   },
   "outputs": [],
   "source": [
    "# количество прослушиваний в Санкт-Петербурге по пятницам\n",
    "number_tracks('Friday', 'Saint-Petersburg')"
   ]
  },
  {
   "cell_type": "markdown",
   "metadata": {
    "id": "7QXffbO-_Zcu"
   },
   "source": [
    "Создайте c помощью конструктора `pd.DataFrame` таблицу, где\n",
    "* названия колонок — `['city', 'monday', 'wednesday', 'friday']`;\n",
    "* данные — результаты, которые вы получили с помощью `number_tracks`."
   ]
  },
  {
   "cell_type": "code",
   "execution_count": null,
   "metadata": {
    "id": "APAcLpOr_Zcu"
   },
   "outputs": [],
   "source": [
    "# Таблица с результатами\n",
    "columns_for_df = ['city', 'monday', 'wednesday', 'friday']\n",
    "data_for_df = [\n",
    "    ['Moscow', 15740, 11056, 15945],\n",
    "    ['Saint-Petersburg', 5614, 7003, 5895]\n",
    "]\n",
    "pd.DataFrame(data = data_for_df, columns = columns_for_df)"
   ]
  },
  {
   "cell_type": "markdown",
   "metadata": {},
   "source": [
    "<div class=\"alert alert-block alert-success\">\n",
    "✔️ К массиву замечаний нет! Данные посчитаны верно.\n",
    "</div>"
   ]
  },
  {
   "cell_type": "markdown",
   "metadata": {},
   "source": [
    "<div class=\"alert alert-block alert-warning\">\n",
    "⚠️ Внизу привожу вариант кода, чтобы не переписывать уже посчитанные значения руками. Данные ведь не стоят на месте. Вдруг тебе пришлют другой масссив и попросят повторить вычисления.\n",
    "</div>"
   ]
  },
  {
   "cell_type": "code",
   "execution_count": null,
   "metadata": {},
   "outputs": [],
   "source": [
    "# код ревьюера для объяснения\n",
    "head = ['city', 'monday', 'wednesday', 'friday']\n",
    "\n",
    "data_table = [\n",
    "    ['Moscow',\n",
    "     number_tracks('Monday', 'Moscow'),\n",
    "     number_tracks('Wednesday', 'Moscow'),\n",
    "     number_tracks('Friday', 'Moscow')],\n",
    "\n",
    "    ['Saint-Petersburg',\n",
    "     number_tracks('Monday', 'Saint-Petersburg'),\n",
    "     number_tracks('Wednesday', 'Saint-Petersburg'),\n",
    "     number_tracks('Friday', 'Saint-Petersburg')]\n",
    "]\n",
    "\n",
    "table = pd.DataFrame(data=data_table, columns=head)\n",
    "\n",
    "display(table)"
   ]
  },
  {
   "cell_type": "markdown",
   "metadata": {
    "id": "-EgPIHYu_Zcu"
   },
   "source": [
    "**Выводы**\n",
    "\n",
    "Данные показывают разницу поведения пользователей:\n",
    "\n",
    "- В Москве пик прослушиваний приходится на понедельник и пятницу, а в среду заметен спад.\n",
    "- В Петербурге, наоборот, больше слушают музыку по средам. Активность в понедельник и пятницу здесь почти в равной мере уступает среде.\n",
    "\n",
    "Значит, данные говорят в пользу первой гипотезы."
   ]
  },
  {
   "cell_type": "markdown",
   "metadata": {
    "id": "atZAxtq4_Zcu"
   },
   "source": [
    "### Музыка в начале и в конце недели"
   ]
  },
  {
   "cell_type": "markdown",
   "metadata": {
    "id": "eXrQqXFH_Zcu"
   },
   "source": [
    "Согласно второй гипотезе, утром в понедельник в Москве преобладают одни жанры, а в Петербурге — другие. Так же и вечером пятницы преобладают разные жанры — в зависимости от города."
   ]
  },
  {
   "cell_type": "markdown",
   "metadata": {
    "id": "S8UcW6Hw_Zcu"
   },
   "source": [
    "Сохраните таблицы с данными в две переменные:\n",
    "* по Москве — в `moscow_general`;\n",
    "* по Санкт-Петербургу — в `spb_general`."
   ]
  },
  {
   "cell_type": "code",
   "execution_count": null,
   "metadata": {
    "id": "qeaFfM_P_Zcu"
   },
   "outputs": [],
   "source": [
    "# получение таблицы moscow_general из тех строк таблицы df, \n",
    "# для которых значение в столбце 'city' равно 'Moscow'\n",
    "moscow_general = df[df['city'] == 'Moscow']\n"
   ]
  },
  {
   "cell_type": "code",
   "execution_count": null,
   "metadata": {
    "id": "ORaVRKto_Zcu"
   },
   "outputs": [],
   "source": [
    "# получение таблицы spb_general из тех строк таблицы df,\n",
    "# для которых значение в столбце 'city' равно 'Saint-Petersburg'\n",
    "spb_general = df[df['city'] == 'Saint-Petersburg']\n"
   ]
  },
  {
   "cell_type": "markdown",
   "metadata": {
    "id": "MEJV-CX2_Zcu"
   },
   "source": [
    "Создайте функцию `genre_weekday()` с четырьмя параметрами:\n",
    "* таблица (датафрейм) с данными,\n",
    "* день недели,\n",
    "* начальная временная метка в формате 'hh:mm', \n",
    "* последняя временная метка в формате 'hh:mm'.\n",
    "\n",
    "Функция должна вернуть информацию о топ-10 жанров тех треков, которые прослушивали в указанный день, в промежутке между двумя отметками времени."
   ]
  },
  {
   "cell_type": "code",
   "execution_count": null,
   "metadata": {
    "id": "laJT9BYl_Zcu"
   },
   "outputs": [],
   "source": [
    "# Объявление функции genre_weekday() с параметрами table, day, time1, time2,\n",
    "# которая возвращает информацию о самых популярных жанрах в указанный день в\n",
    "# заданное время:\n",
    "# 1) в переменную genre_df сохраняются те строки переданного датафрейма table, для\n",
    "#    которых одновременно:\n",
    "#    - значение в столбце day равно значению аргумента day\n",
    "#    - значение в столбце time больше значения аргумента time1\n",
    "#    - значение в столбце time меньше значения аргумента time2\n",
    "#    Используйте последовательную фильтрацию с помощью логической индексации.\n",
    "# 2) сгруппировать датафрейм genre_df по столбцу genre, взять один из его\n",
    "#    столбцов и посчитать методом count() количество записей для каждого из\n",
    "#    присутствующих жанров, получившийся Series записать в переменную\n",
    "#    genre_df_count\n",
    "# 3) отсортировать genre_df_count по убыванию встречаемости и сохранить\n",
    "#    в переменную genre_df_sorted\n",
    "# 4) вернуть Series из 10 первых значений genre_df_sorted, это будут топ-10\n",
    "#    популярных жанров (в указанный день, в заданное время)\n",
    "\n",
    "# пыталась написать логическую индексацию для genre_df в одну строчку, но постоянно выходила ошибка ValueError: \n",
    "# The truth value of a Series is ambiguous. Use a.empty, a.bool(), a.item(), a.any() or a.all().\n",
    "# код был такой: genre_df = table[table['day'] == day and time1 < table['time'] < time2]\n",
    "\n",
    "def genre_weekday(table, day, time1, time2):\n",
    "    genre_df = table[table['day'] == day]\n",
    "    genre_df = genre_df[genre_df['time'] > time1]\n",
    "    genre_df = genre_df[genre_df['time'] < time2]\n",
    "    genre_df_count = genre_df.groupby('genre')['user_id'].count()\n",
    "    genre_df_sorted = genre_df_count.sort_values(ascending = False)\n",
    "    return genre_df_sorted.head(10)"
   ]
  },
  {
   "cell_type": "markdown",
   "metadata": {},
   "source": [
    "<div class=\"alert alert-block alert-success\">\n",
    "✔️ Функция описана верно!\n",
    "</div>"
   ]
  },
  {
   "cell_type": "markdown",
   "metadata": {
    "id": "la2s2_PF_Zcu"
   },
   "source": [
    "Cравните результаты функции `genre_weekday()` для Москвы и Санкт-Петербурга в понедельник утром (с 7:00 до 11:00) и в пятницу вечером (с 17:00 до 23:00):"
   ]
  },
  {
   "cell_type": "code",
   "execution_count": null,
   "metadata": {
    "id": "yz7itPUQ_Zcu"
   },
   "outputs": [],
   "source": [
    "# вызов функции для утра понедельника в Москве (вместо df — таблица moscow_general)\n",
    "# объекты, хранящие время, являются строками и сравниваются как строки\n",
    "# пример вызова: genre_weekday(moscow_general, 'Monday', '07:00', '11:00')\n",
    "\n",
    "genre_weekday(moscow_general, 'Monday', '07:00', '11:00')"
   ]
  },
  {
   "cell_type": "code",
   "execution_count": null,
   "metadata": {
    "id": "kwUcHPdy_Zcu"
   },
   "outputs": [],
   "source": [
    "# вызов функции для утра понедельника в Петербурге (вместо df — таблица spb_general)\n",
    "\n",
    "genre_weekday(spb_general, 'Monday', '07:00', '11:00')"
   ]
  },
  {
   "cell_type": "code",
   "execution_count": null,
   "metadata": {
    "id": "EzXVRE1o_Zcu"
   },
   "outputs": [],
   "source": [
    "# вызов функции для вечера пятницы в Москве\n",
    "\n",
    "genre_weekday(moscow_general, 'Friday', '17:00', '23:00')"
   ]
  },
  {
   "cell_type": "code",
   "execution_count": null,
   "metadata": {
    "id": "JZaEKu5v_Zcu"
   },
   "outputs": [],
   "source": [
    "# вызов функции для вечера пятницы в Петербурге\n",
    "\n",
    "genre_weekday(spb_general, 'Friday', '17:00', '23:00')"
   ]
  },
  {
   "cell_type": "markdown",
   "metadata": {},
   "source": [
    "<div class=\"alert alert-block alert-success\">\n",
    "✔️ Одна функция сделала столько заданий!\n",
    "</div>"
   ]
  },
  {
   "cell_type": "markdown",
   "metadata": {
    "id": "wrCe4MNX_Zcu"
   },
   "source": [
    "**Выводы**\n",
    "\n",
    "Если сравнить топ-10 жанров в понедельник утром, можно сделать такие выводы:\n",
    "\n",
    "1. В Москве и Петербурге слушают похожую музыку. Единственное отличие — в московский рейтинг вошёл жанр “world”, а в петербургский — джаз и классика.\n",
    "\n",
    "2. В Москве пропущенных значений оказалось так много, что значение `'unknown'` заняло десятое место среди самых популярных жанров. Значит, пропущенные значения занимают существенную долю в данных и угрожают достоверности исследования.\n",
    "\n",
    "Вечер пятницы не меняет эту картину. Некоторые жанры поднимаются немного выше, другие спускаются, но в целом топ-10 остаётся тем же самым.\n",
    "\n",
    "Таким образом, вторая гипотеза подтвердилась лишь частично:\n",
    "* Пользователи слушают похожую музыку в начале недели и в конце.\n",
    "* Разница между Москвой и Петербургом не слишком выражена. В Москве чаще слушают русскую популярную музыку, в Петербурге — джаз.\n",
    "\n",
    "Однако пропуски в данных ставят под сомнение этот результат. В Москве их так много, что рейтинг топ-10 мог бы выглядеть иначе, если бы не утерянные  данные о жанрах."
   ]
  },
  {
   "cell_type": "markdown",
   "metadata": {
    "id": "JolODAqr_Zcu"
   },
   "source": [
    "### Жанровые предпочтения в Москве и Петербурге\n",
    "\n",
    "Гипотеза: Петербург — столица рэпа, музыку этого жанра там слушают чаще, чем в Москве.  А Москва — город контрастов, в котором, тем не менее, преобладает поп-музыка."
   ]
  },
  {
   "cell_type": "markdown",
   "metadata": {
    "id": "DlegSvaT_Zcu"
   },
   "source": [
    "Сгруппируйте таблицу `moscow_general` по жанру и посчитайте прослушивания треков каждого жанра методом `count()`. Затем отсортируйте результат в порядке убывания и сохраните его в таблице `moscow_genres`."
   ]
  },
  {
   "cell_type": "code",
   "execution_count": null,
   "metadata": {
    "id": "r19lIPke_Zcu"
   },
   "outputs": [],
   "source": [
    "# одной строкой: группировка таблицы moscow_general по столбцу 'genre', \n",
    "# подсчёт числа значений 'genre' в этой группировке методом count(), \n",
    "# сортировка получившегося Series в порядке убывания и сохранение в moscow_genres\n",
    "\n",
    "moscow_genres = moscow_general.groupby('genre')['genre'].count().sort_values(ascending = False)\n"
   ]
  },
  {
   "cell_type": "markdown",
   "metadata": {},
   "source": [
    "<div class=\"alert alert-block alert-success\">\n",
    "✔️ Великолепно! Мне понравилось, что ты объединяешь операции через точку. Если когда-нибудь их будет много, то можно перенести некоторые на следующую строчку через наклонную черту, как, например, в ячейке снизу:    \n",
    "</div>\n",
    "\n",
    "```python\n",
    "moscow_genres = moscow_general.groupby('genre')['genre'].count() \\\n",
    "                    .sort_values(ascending=False)\n",
    "```"
   ]
  },
  {
   "cell_type": "markdown",
   "metadata": {
    "id": "6kMuomxTiIr8"
   },
   "source": [
    "Выведите на экран первые десять строк `moscow_genres`:"
   ]
  },
  {
   "cell_type": "code",
   "execution_count": null,
   "metadata": {
    "id": "WhCSooF8_Zcv"
   },
   "outputs": [],
   "source": [
    "# просмотр первых 10 строк moscow_genres\n",
    "\n",
    "moscow_genres.head(10)"
   ]
  },
  {
   "cell_type": "markdown",
   "metadata": {},
   "source": [
    "<div class=\"alert alert-block alert-success\">\n",
    "✔️ Данные о Москве у тебя в кармане!\n",
    "</div>"
   ]
  },
  {
   "cell_type": "markdown",
   "metadata": {
    "id": "cnPG2vnN_Zcv"
   },
   "source": [
    "Теперь повторите то же и для Петербурга.\n",
    "\n",
    "Сгруппируйте таблицу `spb_general` по жанру. Посчитайте прослушивания треков каждого жанра. Результат отсортируйте в порядке убывания и сохраните в таблице `spb_genres`:\n"
   ]
  },
  {
   "cell_type": "code",
   "execution_count": null,
   "metadata": {
    "id": "gluLIpE7_Zcv"
   },
   "outputs": [],
   "source": [
    "# одной строкой: группировка таблицы spb_general по столбцу 'genre', \n",
    "# подсчёт числа значений 'genre' в этой группировке методом count(), \n",
    "# сортировка получившегося Series в порядке убывания и сохранение в spb_genres\n",
    "\n",
    "spb_genres = spb_general.groupby('genre')['genre'].count().sort_values(ascending = False)"
   ]
  },
  {
   "cell_type": "markdown",
   "metadata": {
    "id": "5Doha_ODgyQ8"
   },
   "source": [
    "Выведите на экран первые десять строк `spb_genres`:"
   ]
  },
  {
   "cell_type": "code",
   "execution_count": null,
   "metadata": {
    "id": "uaGJHjVU_Zcv"
   },
   "outputs": [],
   "source": [
    "# просмотр первых 10 строк spb_genres\n",
    "\n",
    "spb_genres.head(10)"
   ]
  },
  {
   "cell_type": "markdown",
   "metadata": {},
   "source": [
    "<div class=\"alert alert-block alert-success\">\n",
    "✔️ Данные о Санкт-Петербурге тоже получены верно!\n",
    "</div>"
   ]
  },
  {
   "cell_type": "markdown",
   "metadata": {
    "id": "RY51YJYu_Zcv"
   },
   "source": [
    "**Выводы**"
   ]
  },
  {
   "cell_type": "markdown",
   "metadata": {
    "id": "nVhnJEm__Zcv"
   },
   "source": [
    "Гипотеза частично подтвердилась:\n",
    "* Поп-музыка — самый популярный жанр в Москве, как и предполагала гипотеза. Более того, в топ-10 жанров встречается близкий жанр — русская популярная музыка.\n",
    "* Вопреки ожиданиям, рэп одинаково популярен в Москве и Петербурге. \n"
   ]
  },
  {
   "cell_type": "markdown",
   "metadata": {
    "id": "ykKQ0N65_Zcv"
   },
   "source": [
    "## Итоги исследования"
   ]
  },
  {
   "cell_type": "markdown",
   "metadata": {
    "id": "tjUwbHb3_Zcv"
   },
   "source": [
    "Вы проверили три гипотезы и установили:\n",
    "\n",
    "1. День недели по-разному влияет на активность пользователей в Москве и Петербурге. \n",
    "\n",
    "Первая гипотеза полностью подтвердилась.\n",
    "\n",
    "2. Музыкальные предпочтения не сильно меняются в течение недели — будь то Москва или Петербург. Небольшие различия заметны в начале недели, по понедельникам:\n",
    "* в Москве слушают музыку жанра “world”,\n",
    "* в Петербурге — джаз и классику.\n",
    "\n",
    "Таким образом, вторая гипотеза подтвердилась лишь отчасти. Этот результат мог оказаться иным, если бы не пропуски в данных.\n",
    "\n",
    "3. Во вкусах пользователей Москвы и Петербурга больше общего чем различий. Вопреки ожиданиям, предпочтения жанров в Петербурге напоминают московские.\n",
    "\n",
    "Третья гипотеза не подтвердилась. Если различия в предпочтениях и существуют, на основной массе пользователей они незаметны.\n",
    "\n",
    "**На практике исследования содержат проверки статистических гипотез.**\n",
    "Из данных одного сервиса не всегда можно сделать вывод о всех жителях города.\n",
    "Проверки статистических гипотез покажут, насколько они достоверны, исходя из имеющихся данных. \n",
    "С методами проверок гипотез вы ещё познакомитесь в следующих темах."
   ]
  },
  {
   "cell_type": "markdown",
   "metadata": {},
   "source": [
    "<div class=\"alert alert-block alert-success\">\n",
    "✔️ Дарья, поздравляю тебя с выполнением этого задания и наступающим Новым годом! Пусть он принесет новые знания и новые успехи в освоении курса.\n",
    "</div>"
   ]
  },
  {
   "cell_type": "code",
   "execution_count": null,
   "metadata": {},
   "outputs": [],
   "source": [
    "import random\n",
    "for v in ['!'] + [' '.join(random.choice(['*', '*', '^', '^', '@', '+']) * i) for i in range(1, 20, 1)] \\\n",
    "                                          + ['|', '|', '[___]']:\n",
    "  print('{:~^37}'.format(v))"
   ]
  }
 ],
 "metadata": {
  "ExecuteTimeLog": [
   {
    "duration": 436,
    "start_time": "2021-12-19T17:07:54.458Z"
   },
   {
    "duration": 791,
    "start_time": "2021-12-19T17:08:22.393Z"
   },
   {
    "duration": 179,
    "start_time": "2021-12-19T17:08:42.573Z"
   },
   {
    "duration": 32,
    "start_time": "2021-12-19T17:08:47.218Z"
   },
   {
    "duration": 13,
    "start_time": "2021-12-19T17:09:49.646Z"
   },
   {
    "duration": 7,
    "start_time": "2021-12-19T17:11:15.136Z"
   },
   {
    "duration": 12,
    "start_time": "2021-12-19T17:11:31.565Z"
   },
   {
    "duration": 38,
    "start_time": "2021-12-19T17:12:06.290Z"
   },
   {
    "duration": 6,
    "start_time": "2021-12-19T19:05:40.065Z"
   },
   {
    "duration": 5,
    "start_time": "2021-12-19T19:08:52.976Z"
   },
   {
    "duration": 6,
    "start_time": "2021-12-19T19:08:59.727Z"
   },
   {
    "duration": 6,
    "start_time": "2021-12-19T19:09:13.184Z"
   },
   {
    "duration": 6,
    "start_time": "2021-12-19T19:12:37.657Z"
   },
   {
    "duration": 4,
    "start_time": "2021-12-19T19:13:09.306Z"
   },
   {
    "duration": 201,
    "start_time": "2021-12-19T19:13:09.312Z"
   },
   {
    "duration": 14,
    "start_time": "2021-12-19T19:13:09.516Z"
   },
   {
    "duration": 52,
    "start_time": "2021-12-19T19:13:09.533Z"
   },
   {
    "duration": 5,
    "start_time": "2021-12-19T19:13:09.588Z"
   },
   {
    "duration": 28,
    "start_time": "2021-12-19T19:13:09.595Z"
   },
   {
    "duration": 33,
    "start_time": "2021-12-19T19:13:09.627Z"
   },
   {
    "duration": 3,
    "start_time": "2021-12-19T19:13:09.663Z"
   },
   {
    "duration": 5,
    "start_time": "2021-12-19T19:13:09.668Z"
   },
   {
    "duration": 3,
    "start_time": "2021-12-19T19:13:09.676Z"
   },
   {
    "duration": 4,
    "start_time": "2021-12-19T19:13:09.682Z"
   },
   {
    "duration": 8,
    "start_time": "2021-12-19T19:13:09.689Z"
   },
   {
    "duration": 5,
    "start_time": "2021-12-19T19:13:09.700Z"
   },
   {
    "duration": 51,
    "start_time": "2021-12-19T19:13:09.708Z"
   },
   {
    "duration": 4,
    "start_time": "2021-12-19T19:13:09.762Z"
   },
   {
    "duration": 3,
    "start_time": "2021-12-19T19:13:09.769Z"
   },
   {
    "duration": 5,
    "start_time": "2021-12-19T19:13:09.775Z"
   },
   {
    "duration": 5,
    "start_time": "2021-12-19T19:13:09.782Z"
   },
   {
    "duration": 3,
    "start_time": "2021-12-19T19:13:09.792Z"
   },
   {
    "duration": 3,
    "start_time": "2021-12-19T19:13:09.798Z"
   },
   {
    "duration": 60,
    "start_time": "2021-12-19T19:13:09.803Z"
   },
   {
    "duration": 6,
    "start_time": "2021-12-19T19:13:09.866Z"
   },
   {
    "duration": 9,
    "start_time": "2021-12-19T19:13:09.874Z"
   },
   {
    "duration": 16,
    "start_time": "2021-12-19T19:13:09.885Z"
   },
   {
    "duration": 3,
    "start_time": "2021-12-19T19:13:09.904Z"
   },
   {
    "duration": 8,
    "start_time": "2021-12-19T19:13:09.910Z"
   },
   {
    "duration": 15,
    "start_time": "2021-12-19T19:13:09.921Z"
   },
   {
    "duration": 23,
    "start_time": "2021-12-19T19:13:09.939Z"
   },
   {
    "duration": 5,
    "start_time": "2021-12-19T19:13:09.965Z"
   },
   {
    "duration": 5,
    "start_time": "2021-12-19T19:13:09.972Z"
   },
   {
    "duration": 10,
    "start_time": "2021-12-19T19:13:09.980Z"
   },
   {
    "duration": 8,
    "start_time": "2021-12-19T19:13:09.993Z"
   },
   {
    "duration": 12,
    "start_time": "2021-12-19T19:13:10.003Z"
   },
   {
    "duration": 6,
    "start_time": "2021-12-19T19:13:10.017Z"
   },
   {
    "duration": 5,
    "start_time": "2021-12-19T19:13:10.026Z"
   },
   {
    "duration": 4,
    "start_time": "2021-12-19T19:13:10.060Z"
   },
   {
    "duration": 5,
    "start_time": "2021-12-19T19:13:10.066Z"
   },
   {
    "duration": 7,
    "start_time": "2021-12-19T19:13:10.074Z"
   },
   {
    "duration": 32,
    "start_time": "2021-12-19T19:15:05.310Z"
   },
   {
    "duration": 30,
    "start_time": "2021-12-19T19:28:09.733Z"
   },
   {
    "duration": 48,
    "start_time": "2021-12-19T19:28:24.772Z"
   },
   {
    "duration": 125,
    "start_time": "2021-12-19T19:54:59.040Z"
   },
   {
    "duration": 112,
    "start_time": "2021-12-19T19:59:05.823Z"
   },
   {
    "duration": 89,
    "start_time": "2021-12-19T19:59:28.033Z"
   },
   {
    "duration": 305,
    "start_time": "2021-12-21T20:41:00.488Z"
   },
   {
    "duration": 706,
    "start_time": "2021-12-21T20:41:23.615Z"
   },
   {
    "duration": 152,
    "start_time": "2021-12-21T20:41:28.255Z"
   },
   {
    "duration": 28,
    "start_time": "2021-12-21T20:41:32.737Z"
   },
   {
    "duration": 35,
    "start_time": "2021-12-21T20:41:39.939Z"
   },
   {
    "duration": 4,
    "start_time": "2021-12-21T20:41:50.180Z"
   },
   {
    "duration": 23,
    "start_time": "2021-12-21T20:41:57.757Z"
   },
   {
    "duration": 4,
    "start_time": "2021-12-21T20:42:03.718Z"
   },
   {
    "duration": 23,
    "start_time": "2021-12-21T20:42:14.376Z"
   },
   {
    "duration": 23,
    "start_time": "2021-12-21T20:42:45.430Z"
   },
   {
    "duration": 27,
    "start_time": "2021-12-21T20:42:51.423Z"
   },
   {
    "duration": 63,
    "start_time": "2021-12-21T20:42:58.168Z"
   },
   {
    "duration": 87,
    "start_time": "2021-12-21T20:43:08.463Z"
   },
   {
    "duration": 65,
    "start_time": "2021-12-21T20:43:18.448Z"
   },
   {
    "duration": 71,
    "start_time": "2021-12-21T20:45:19.897Z"
   },
   {
    "duration": 68,
    "start_time": "2021-12-21T20:45:59.489Z"
   },
   {
    "duration": 68,
    "start_time": "2021-12-21T20:46:24.467Z"
   },
   {
    "duration": 82,
    "start_time": "2021-12-21T20:46:56.220Z"
   },
   {
    "duration": 75,
    "start_time": "2021-12-21T20:47:01.785Z"
   },
   {
    "duration": 54,
    "start_time": "2021-12-21T20:47:07.242Z"
   },
   {
    "duration": 69,
    "start_time": "2021-12-21T20:47:46.003Z"
   },
   {
    "duration": 49,
    "start_time": "2021-12-21T20:47:49.474Z"
   },
   {
    "duration": 384,
    "start_time": "2021-12-21T20:53:37.202Z"
   },
   {
    "duration": 44,
    "start_time": "2021-12-21T20:54:36.582Z"
   },
   {
    "duration": 52,
    "start_time": "2021-12-21T20:54:52.377Z"
   },
   {
    "duration": 53,
    "start_time": "2021-12-21T20:55:07.419Z"
   },
   {
    "duration": 46,
    "start_time": "2021-12-21T20:57:19.085Z"
   },
   {
    "duration": 43,
    "start_time": "2021-12-21T20:57:28.428Z"
   },
   {
    "duration": 3,
    "start_time": "2021-12-21T21:05:24.141Z"
   },
   {
    "duration": 11,
    "start_time": "2021-12-21T21:09:54.831Z"
   },
   {
    "duration": 7,
    "start_time": "2021-12-21T21:10:37.177Z"
   },
   {
    "duration": 41,
    "start_time": "2021-12-21T21:22:32.755Z"
   },
   {
    "duration": 56,
    "start_time": "2021-12-21T21:23:25.141Z"
   },
   {
    "duration": 63,
    "start_time": "2021-12-21T21:24:00.456Z"
   },
   {
    "duration": 599,
    "start_time": "2021-12-22T19:09:02.602Z"
   },
   {
    "duration": 142,
    "start_time": "2021-12-22T19:09:03.203Z"
   },
   {
    "duration": 19,
    "start_time": "2021-12-22T19:09:03.347Z"
   },
   {
    "duration": 37,
    "start_time": "2021-12-22T19:09:03.368Z"
   },
   {
    "duration": 5,
    "start_time": "2021-12-22T19:09:03.407Z"
   },
   {
    "duration": 25,
    "start_time": "2021-12-22T19:09:03.413Z"
   },
   {
    "duration": 9,
    "start_time": "2021-12-22T19:09:03.440Z"
   },
   {
    "duration": 64,
    "start_time": "2021-12-22T19:09:03.452Z"
   },
   {
    "duration": 27,
    "start_time": "2021-12-22T19:09:03.520Z"
   },
   {
    "duration": 27,
    "start_time": "2021-12-22T19:09:03.549Z"
   },
   {
    "duration": 71,
    "start_time": "2021-12-22T19:09:03.591Z"
   },
   {
    "duration": 80,
    "start_time": "2021-12-22T19:09:03.664Z"
   },
   {
    "duration": 61,
    "start_time": "2021-12-22T19:09:03.746Z"
   },
   {
    "duration": 54,
    "start_time": "2021-12-22T19:09:03.808Z"
   },
   {
    "duration": 3,
    "start_time": "2021-12-22T19:09:03.864Z"
   },
   {
    "duration": 32,
    "start_time": "2021-12-22T19:09:03.869Z"
   },
   {
    "duration": 6,
    "start_time": "2021-12-22T19:09:03.903Z"
   },
   {
    "duration": 51,
    "start_time": "2021-12-22T19:09:03.911Z"
   },
   {
    "duration": 3,
    "start_time": "2021-12-22T19:09:03.964Z"
   },
   {
    "duration": 24,
    "start_time": "2021-12-22T19:09:03.969Z"
   },
   {
    "duration": 7,
    "start_time": "2021-12-22T19:09:03.995Z"
   },
   {
    "duration": 4,
    "start_time": "2021-12-22T19:09:04.004Z"
   },
   {
    "duration": 3,
    "start_time": "2021-12-22T19:09:04.012Z"
   },
   {
    "duration": 4,
    "start_time": "2021-12-22T19:09:04.018Z"
   },
   {
    "duration": 7,
    "start_time": "2021-12-22T19:09:04.023Z"
   },
   {
    "duration": 8,
    "start_time": "2021-12-22T19:09:04.031Z"
   },
   {
    "duration": 6,
    "start_time": "2021-12-22T19:09:04.041Z"
   },
   {
    "duration": 6,
    "start_time": "2021-12-22T19:09:04.049Z"
   },
   {
    "duration": 4,
    "start_time": "2021-12-22T19:09:04.057Z"
   },
   {
    "duration": 32,
    "start_time": "2021-12-22T19:09:04.063Z"
   },
   {
    "duration": 8,
    "start_time": "2021-12-22T19:09:04.097Z"
   },
   {
    "duration": 7,
    "start_time": "2021-12-22T19:09:04.107Z"
   },
   {
    "duration": 13,
    "start_time": "2021-12-22T19:09:04.115Z"
   },
   {
    "duration": 10,
    "start_time": "2021-12-22T19:09:04.130Z"
   },
   {
    "duration": 5,
    "start_time": "2021-12-22T19:09:04.141Z"
   },
   {
    "duration": 6,
    "start_time": "2021-12-22T19:09:04.148Z"
   },
   {
    "duration": 6,
    "start_time": "2021-12-22T19:09:04.155Z"
   },
   {
    "duration": 5,
    "start_time": "2021-12-22T19:09:04.162Z"
   },
   {
    "duration": 244,
    "start_time": "2021-12-22T19:25:25.840Z"
   },
   {
    "duration": 26,
    "start_time": "2021-12-22T19:25:56.963Z"
   },
   {
    "duration": 28,
    "start_time": "2021-12-22T19:26:51.241Z"
   },
   {
    "duration": 181,
    "start_time": "2021-12-22T19:35:07.619Z"
   },
   {
    "duration": 11,
    "start_time": "2021-12-22T19:37:53.742Z"
   },
   {
    "duration": 14,
    "start_time": "2021-12-22T19:40:47.854Z"
   },
   {
    "duration": 4,
    "start_time": "2021-12-22T19:56:00.028Z"
   },
   {
    "duration": 20,
    "start_time": "2021-12-22T19:56:07.361Z"
   },
   {
    "duration": 17,
    "start_time": "2021-12-22T19:57:05.451Z"
   },
   {
    "duration": 19,
    "start_time": "2021-12-22T19:57:54.228Z"
   },
   {
    "duration": 16,
    "start_time": "2021-12-22T19:58:26.116Z"
   },
   {
    "duration": 24,
    "start_time": "2021-12-22T19:59:01.670Z"
   },
   {
    "duration": 18,
    "start_time": "2021-12-22T20:00:35.817Z"
   },
   {
    "duration": 195,
    "start_time": "2021-12-22T20:11:37.525Z"
   },
   {
    "duration": 184,
    "start_time": "2021-12-22T20:12:21.541Z"
   },
   {
    "duration": 203,
    "start_time": "2021-12-22T20:14:15.805Z"
   },
   {
    "duration": 194,
    "start_time": "2021-12-22T20:15:11.029Z"
   },
   {
    "duration": 2,
    "start_time": "2021-12-22T20:15:18.094Z"
   },
   {
    "duration": 175,
    "start_time": "2021-12-22T20:15:18.099Z"
   },
   {
    "duration": 16,
    "start_time": "2021-12-22T20:15:18.277Z"
   },
   {
    "duration": 25,
    "start_time": "2021-12-22T20:15:18.295Z"
   },
   {
    "duration": 5,
    "start_time": "2021-12-22T20:15:18.322Z"
   },
   {
    "duration": 23,
    "start_time": "2021-12-22T20:15:18.329Z"
   },
   {
    "duration": 36,
    "start_time": "2021-12-22T20:15:18.355Z"
   },
   {
    "duration": 24,
    "start_time": "2021-12-22T20:15:18.393Z"
   },
   {
    "duration": 25,
    "start_time": "2021-12-22T20:15:18.419Z"
   },
   {
    "duration": 47,
    "start_time": "2021-12-22T20:15:18.446Z"
   },
   {
    "duration": 56,
    "start_time": "2021-12-22T20:15:18.495Z"
   },
   {
    "duration": 83,
    "start_time": "2021-12-22T20:15:18.555Z"
   },
   {
    "duration": 62,
    "start_time": "2021-12-22T20:15:18.640Z"
   },
   {
    "duration": 50,
    "start_time": "2021-12-22T20:15:18.704Z"
   },
   {
    "duration": 3,
    "start_time": "2021-12-22T20:15:18.757Z"
   },
   {
    "duration": 33,
    "start_time": "2021-12-22T20:15:18.762Z"
   },
   {
    "duration": 7,
    "start_time": "2021-12-22T20:15:18.797Z"
   },
   {
    "duration": 16,
    "start_time": "2021-12-22T20:15:18.805Z"
   },
   {
    "duration": 15,
    "start_time": "2021-12-22T20:15:18.825Z"
   },
   {
    "duration": 4,
    "start_time": "2021-12-22T20:15:18.843Z"
   },
   {
    "duration": 51,
    "start_time": "2021-12-22T20:15:18.850Z"
   },
   {
    "duration": 15,
    "start_time": "2021-12-22T20:15:18.903Z"
   },
   {
    "duration": 16,
    "start_time": "2021-12-22T20:15:18.920Z"
   },
   {
    "duration": 15,
    "start_time": "2021-12-22T20:15:18.938Z"
   },
   {
    "duration": 52,
    "start_time": "2021-12-22T20:15:18.954Z"
   },
   {
    "duration": 20,
    "start_time": "2021-12-22T20:15:19.008Z"
   },
   {
    "duration": 185,
    "start_time": "2021-12-22T20:15:19.030Z"
   },
   {
    "duration": 2331,
    "start_time": "2021-12-22T20:15:16.886Z"
   },
   {
    "duration": 2326,
    "start_time": "2021-12-22T20:15:16.892Z"
   },
   {
    "duration": 2321,
    "start_time": "2021-12-22T20:15:16.898Z"
   },
   {
    "duration": 2217,
    "start_time": "2021-12-22T20:15:17.003Z"
   },
   {
    "duration": 2179,
    "start_time": "2021-12-22T20:15:17.042Z"
   },
   {
    "duration": 2172,
    "start_time": "2021-12-22T20:15:17.050Z"
   },
   {
    "duration": 2165,
    "start_time": "2021-12-22T20:15:17.057Z"
   },
   {
    "duration": 2162,
    "start_time": "2021-12-22T20:15:17.062Z"
   },
   {
    "duration": 2155,
    "start_time": "2021-12-22T20:15:17.070Z"
   },
   {
    "duration": 2151,
    "start_time": "2021-12-22T20:15:17.075Z"
   },
   {
    "duration": 2145,
    "start_time": "2021-12-22T20:15:17.082Z"
   },
   {
    "duration": 175,
    "start_time": "2021-12-22T20:16:38.608Z"
   },
   {
    "duration": 173,
    "start_time": "2021-12-22T20:18:54.225Z"
   },
   {
    "duration": 5,
    "start_time": "2021-12-22T20:21:32.268Z"
   },
   {
    "duration": 4,
    "start_time": "2021-12-22T20:21:39.758Z"
   },
   {
    "duration": 13,
    "start_time": "2021-12-22T20:21:46.342Z"
   },
   {
    "duration": 11,
    "start_time": "2021-12-22T20:22:22.624Z"
   },
   {
    "duration": 11,
    "start_time": "2021-12-22T20:23:05.325Z"
   },
   {
    "duration": 562,
    "start_time": "2021-12-25T14:30:28.388Z"
   },
   {
    "duration": 132,
    "start_time": "2021-12-25T14:30:28.953Z"
   },
   {
    "duration": 17,
    "start_time": "2021-12-25T14:30:29.087Z"
   },
   {
    "duration": 23,
    "start_time": "2021-12-25T14:30:29.106Z"
   },
   {
    "duration": 13,
    "start_time": "2021-12-25T14:30:29.130Z"
   },
   {
    "duration": 23,
    "start_time": "2021-12-25T14:30:29.145Z"
   },
   {
    "duration": 5,
    "start_time": "2021-12-25T14:30:29.170Z"
   },
   {
    "duration": 22,
    "start_time": "2021-12-25T14:30:29.177Z"
   },
   {
    "duration": 46,
    "start_time": "2021-12-25T14:30:29.201Z"
   },
   {
    "duration": 24,
    "start_time": "2021-12-25T14:30:29.249Z"
   },
   {
    "duration": 69,
    "start_time": "2021-12-25T14:30:29.275Z"
   },
   {
    "duration": 62,
    "start_time": "2021-12-25T14:30:29.346Z"
   },
   {
    "duration": 61,
    "start_time": "2021-12-25T14:30:29.409Z"
   },
   {
    "duration": 46,
    "start_time": "2021-12-25T14:30:29.472Z"
   },
   {
    "duration": 2,
    "start_time": "2021-12-25T14:30:29.520Z"
   },
   {
    "duration": 25,
    "start_time": "2021-12-25T14:30:29.524Z"
   },
   {
    "duration": 14,
    "start_time": "2021-12-25T14:30:29.550Z"
   },
   {
    "duration": 18,
    "start_time": "2021-12-25T14:30:29.565Z"
   },
   {
    "duration": 9,
    "start_time": "2021-12-25T14:30:29.585Z"
   },
   {
    "duration": 3,
    "start_time": "2021-12-25T14:30:29.595Z"
   },
   {
    "duration": 22,
    "start_time": "2021-12-25T14:30:29.600Z"
   },
   {
    "duration": 27,
    "start_time": "2021-12-25T14:30:29.624Z"
   },
   {
    "duration": 15,
    "start_time": "2021-12-25T14:30:29.655Z"
   },
   {
    "duration": 21,
    "start_time": "2021-12-25T14:30:29.672Z"
   },
   {
    "duration": 28,
    "start_time": "2021-12-25T14:30:29.695Z"
   },
   {
    "duration": 18,
    "start_time": "2021-12-25T14:30:29.725Z"
   },
   {
    "duration": 22,
    "start_time": "2021-12-25T14:30:29.745Z"
   },
   {
    "duration": 31,
    "start_time": "2021-12-25T14:30:29.769Z"
   },
   {
    "duration": 2,
    "start_time": "2021-12-25T14:30:29.802Z"
   },
   {
    "duration": 13,
    "start_time": "2021-12-25T14:30:29.805Z"
   },
   {
    "duration": 11,
    "start_time": "2021-12-25T14:30:29.819Z"
   },
   {
    "duration": 12,
    "start_time": "2021-12-25T14:30:29.831Z"
   },
   {
    "duration": 25,
    "start_time": "2021-12-25T14:30:29.844Z"
   },
   {
    "duration": 7,
    "start_time": "2021-12-25T14:30:29.871Z"
   },
   {
    "duration": 12,
    "start_time": "2021-12-25T14:30:29.880Z"
   },
   {
    "duration": 9,
    "start_time": "2021-12-25T14:30:29.893Z"
   },
   {
    "duration": 9,
    "start_time": "2021-12-25T14:30:29.904Z"
   },
   {
    "duration": 9,
    "start_time": "2021-12-25T14:30:29.915Z"
   },
   {
    "duration": 15,
    "start_time": "2021-12-25T14:30:49.704Z"
   },
   {
    "duration": 4,
    "start_time": "2021-12-25T14:54:30.195Z"
   },
   {
    "duration": 628,
    "start_time": "2021-12-25T14:55:00.450Z"
   },
   {
    "duration": 4,
    "start_time": "2021-12-25T14:56:00.283Z"
   },
   {
    "duration": 1946,
    "start_time": "2021-12-25T14:56:03.682Z"
   },
   {
    "duration": 4,
    "start_time": "2021-12-25T14:56:49.958Z"
   },
   {
    "duration": 506,
    "start_time": "2021-12-25T14:56:54.549Z"
   },
   {
    "duration": 5,
    "start_time": "2021-12-25T15:04:22.739Z"
   },
   {
    "duration": 568,
    "start_time": "2021-12-25T15:04:25.844Z"
   },
   {
    "duration": 4,
    "start_time": "2021-12-25T15:08:04.657Z"
   },
   {
    "duration": 629,
    "start_time": "2021-12-25T15:08:07.497Z"
   },
   {
    "duration": 4,
    "start_time": "2021-12-25T15:13:42.300Z"
   },
   {
    "duration": 20,
    "start_time": "2021-12-25T15:13:59.563Z"
   },
   {
    "duration": 3,
    "start_time": "2021-12-25T15:24:34.498Z"
   },
   {
    "duration": 20,
    "start_time": "2021-12-25T15:24:37.127Z"
   },
   {
    "duration": 244,
    "start_time": "2021-12-25T15:24:40.017Z"
   },
   {
    "duration": 9,
    "start_time": "2021-12-25T15:24:55.384Z"
   },
   {
    "duration": 13,
    "start_time": "2021-12-25T15:24:57.997Z"
   },
   {
    "duration": 10,
    "start_time": "2021-12-25T15:25:01.248Z"
   },
   {
    "duration": 4,
    "start_time": "2021-12-25T15:25:05.424Z"
   },
   {
    "duration": 18,
    "start_time": "2021-12-25T15:25:08.352Z"
   },
   {
    "duration": 12,
    "start_time": "2021-12-25T15:25:11.819Z"
   },
   {
    "duration": 17,
    "start_time": "2021-12-25T15:26:10.530Z"
   },
   {
    "duration": 13,
    "start_time": "2021-12-25T15:27:16.460Z"
   },
   {
    "duration": 245,
    "start_time": "2021-12-25T15:33:05.704Z"
   },
   {
    "duration": 3,
    "start_time": "2021-12-25T15:33:28.395Z"
   },
   {
    "duration": 131,
    "start_time": "2021-12-25T15:33:28.399Z"
   },
   {
    "duration": 17,
    "start_time": "2021-12-25T15:33:28.532Z"
   },
   {
    "duration": 23,
    "start_time": "2021-12-25T15:33:28.551Z"
   },
   {
    "duration": 3,
    "start_time": "2021-12-25T15:33:28.576Z"
   },
   {
    "duration": 28,
    "start_time": "2021-12-25T15:33:28.581Z"
   },
   {
    "duration": 4,
    "start_time": "2021-12-25T15:33:28.610Z"
   },
   {
    "duration": 33,
    "start_time": "2021-12-25T15:33:28.616Z"
   },
   {
    "duration": 15,
    "start_time": "2021-12-25T15:33:28.651Z"
   },
   {
    "duration": 19,
    "start_time": "2021-12-25T15:33:28.668Z"
   },
   {
    "duration": 67,
    "start_time": "2021-12-25T15:33:28.688Z"
   },
   {
    "duration": 56,
    "start_time": "2021-12-25T15:33:28.757Z"
   },
   {
    "duration": 57,
    "start_time": "2021-12-25T15:33:28.814Z"
   },
   {
    "duration": 44,
    "start_time": "2021-12-25T15:33:28.872Z"
   },
   {
    "duration": 2,
    "start_time": "2021-12-25T15:33:28.918Z"
   },
   {
    "duration": 27,
    "start_time": "2021-12-25T15:33:28.922Z"
   },
   {
    "duration": 7,
    "start_time": "2021-12-25T15:33:28.950Z"
   },
   {
    "duration": 19,
    "start_time": "2021-12-25T15:33:28.958Z"
   },
   {
    "duration": 11,
    "start_time": "2021-12-25T15:33:28.978Z"
   },
   {
    "duration": 10,
    "start_time": "2021-12-25T15:33:28.991Z"
   },
   {
    "duration": 32,
    "start_time": "2021-12-25T15:33:29.002Z"
   },
   {
    "duration": 11,
    "start_time": "2021-12-25T15:33:29.036Z"
   },
   {
    "duration": 30,
    "start_time": "2021-12-25T15:33:29.050Z"
   },
   {
    "duration": 24,
    "start_time": "2021-12-25T15:33:29.082Z"
   },
   {
    "duration": 19,
    "start_time": "2021-12-25T15:33:29.107Z"
   },
   {
    "duration": 20,
    "start_time": "2021-12-25T15:33:29.128Z"
   },
   {
    "duration": 10,
    "start_time": "2021-12-25T15:33:29.149Z"
   },
   {
    "duration": 27,
    "start_time": "2021-12-25T15:33:29.160Z"
   },
   {
    "duration": 22,
    "start_time": "2021-12-25T15:33:29.188Z"
   },
   {
    "duration": 14,
    "start_time": "2021-12-25T15:33:29.211Z"
   },
   {
    "duration": 39,
    "start_time": "2021-12-25T15:33:29.226Z"
   },
   {
    "duration": 20,
    "start_time": "2021-12-25T15:33:29.266Z"
   },
   {
    "duration": 32,
    "start_time": "2021-12-25T15:33:29.287Z"
   },
   {
    "duration": 14,
    "start_time": "2021-12-25T15:33:29.320Z"
   },
   {
    "duration": 895,
    "start_time": "2021-12-25T15:33:29.336Z"
   },
   {
    "duration": 6186,
    "start_time": "2021-12-25T15:33:24.047Z"
   },
   {
    "duration": 6164,
    "start_time": "2021-12-25T15:33:24.070Z"
   },
   {
    "duration": 6163,
    "start_time": "2021-12-25T15:33:24.072Z"
   },
   {
    "duration": 271,
    "start_time": "2021-12-25T15:34:11.739Z"
   },
   {
    "duration": 273,
    "start_time": "2021-12-25T15:37:10.685Z"
   },
   {
    "duration": 34,
    "start_time": "2021-12-25T15:38:22.039Z"
   },
   {
    "duration": 327,
    "start_time": "2021-12-25T15:38:59.175Z"
   },
   {
    "duration": 10,
    "start_time": "2021-12-25T15:39:16.136Z"
   },
   {
    "duration": 8,
    "start_time": "2021-12-25T15:40:05.768Z"
   },
   {
    "duration": 6,
    "start_time": "2021-12-25T15:40:08.536Z"
   },
   {
    "duration": 7,
    "start_time": "2021-12-25T15:41:56.718Z"
   },
   {
    "duration": 4,
    "start_time": "2021-12-25T15:42:13.298Z"
   },
   {
    "duration": 4,
    "start_time": "2021-12-26T15:05:39.258Z"
   },
   {
    "duration": 185,
    "start_time": "2021-12-26T15:05:39.263Z"
   },
   {
    "duration": 10,
    "start_time": "2021-12-26T15:05:39.450Z"
   },
   {
    "duration": 44,
    "start_time": "2021-12-26T15:05:39.461Z"
   },
   {
    "duration": 4,
    "start_time": "2021-12-26T15:05:39.507Z"
   },
   {
    "duration": 21,
    "start_time": "2021-12-26T15:05:39.512Z"
   },
   {
    "duration": 4,
    "start_time": "2021-12-26T15:05:39.535Z"
   },
   {
    "duration": 25,
    "start_time": "2021-12-26T15:05:39.540Z"
   },
   {
    "duration": 44,
    "start_time": "2021-12-26T15:05:39.567Z"
   },
   {
    "duration": 22,
    "start_time": "2021-12-26T15:05:39.613Z"
   },
   {
    "duration": 76,
    "start_time": "2021-12-26T15:05:39.637Z"
   },
   {
    "duration": 62,
    "start_time": "2021-12-26T15:05:39.714Z"
   },
   {
    "duration": 61,
    "start_time": "2021-12-26T15:05:39.777Z"
   },
   {
    "duration": 68,
    "start_time": "2021-12-26T15:05:39.840Z"
   },
   {
    "duration": 3,
    "start_time": "2021-12-26T15:05:39.909Z"
   },
   {
    "duration": 14,
    "start_time": "2021-12-26T15:05:39.914Z"
   },
   {
    "duration": 9,
    "start_time": "2021-12-26T15:05:39.929Z"
   },
   {
    "duration": 18,
    "start_time": "2021-12-26T15:05:39.939Z"
   },
   {
    "duration": 10,
    "start_time": "2021-12-26T15:05:39.958Z"
   },
   {
    "duration": 32,
    "start_time": "2021-12-26T15:05:39.970Z"
   },
   {
    "duration": 37,
    "start_time": "2021-12-26T15:05:40.005Z"
   },
   {
    "duration": 16,
    "start_time": "2021-12-26T15:05:40.044Z"
   },
   {
    "duration": 19,
    "start_time": "2021-12-26T15:05:40.061Z"
   },
   {
    "duration": 21,
    "start_time": "2021-12-26T15:05:40.082Z"
   },
   {
    "duration": 18,
    "start_time": "2021-12-26T15:05:40.105Z"
   },
   {
    "duration": 15,
    "start_time": "2021-12-26T15:05:40.124Z"
   },
   {
    "duration": 8,
    "start_time": "2021-12-26T15:05:40.141Z"
   },
   {
    "duration": 55,
    "start_time": "2021-12-26T15:05:40.150Z"
   },
   {
    "duration": 15,
    "start_time": "2021-12-26T15:05:40.207Z"
   },
   {
    "duration": 4,
    "start_time": "2021-12-26T15:05:40.227Z"
   },
   {
    "duration": 24,
    "start_time": "2021-12-26T15:05:40.233Z"
   },
   {
    "duration": 12,
    "start_time": "2021-12-26T15:05:40.259Z"
   },
   {
    "duration": 41,
    "start_time": "2021-12-26T15:05:40.273Z"
   },
   {
    "duration": 11,
    "start_time": "2021-12-26T15:05:40.316Z"
   },
   {
    "duration": 8,
    "start_time": "2021-12-26T15:05:40.328Z"
   },
   {
    "duration": 5,
    "start_time": "2021-12-26T15:05:40.337Z"
   },
   {
    "duration": 8,
    "start_time": "2021-12-26T15:05:40.343Z"
   },
   {
    "duration": 6,
    "start_time": "2021-12-26T15:05:40.352Z"
   },
   {
    "duration": 59,
    "start_time": "2021-12-26T15:07:40.501Z"
   },
   {
    "duration": 583,
    "start_time": "2021-12-26T15:07:45.192Z"
   },
   {
    "duration": 33,
    "start_time": "2021-12-26T15:08:02.791Z"
   },
   {
    "duration": 33,
    "start_time": "2021-12-26T15:10:03.714Z"
   },
   {
    "duration": 72,
    "start_time": "2021-12-26T15:13:30.976Z"
   },
   {
    "duration": 6,
    "start_time": "2021-12-26T15:17:26.937Z"
   },
   {
    "duration": 585,
    "start_time": "2021-12-26T15:17:42.821Z"
   },
   {
    "duration": 153,
    "start_time": "2021-12-26T15:17:43.408Z"
   },
   {
    "duration": 18,
    "start_time": "2021-12-26T15:17:43.563Z"
   },
   {
    "duration": 39,
    "start_time": "2021-12-26T15:17:43.583Z"
   },
   {
    "duration": 4,
    "start_time": "2021-12-26T15:17:43.624Z"
   },
   {
    "duration": 24,
    "start_time": "2021-12-26T15:17:43.630Z"
   },
   {
    "duration": 5,
    "start_time": "2021-12-26T15:17:43.656Z"
   },
   {
    "duration": 57,
    "start_time": "2021-12-26T15:17:43.663Z"
   },
   {
    "duration": 16,
    "start_time": "2021-12-26T15:17:43.723Z"
   },
   {
    "duration": 22,
    "start_time": "2021-12-26T15:17:43.742Z"
   },
   {
    "duration": 88,
    "start_time": "2021-12-26T15:17:43.766Z"
   },
   {
    "duration": 93,
    "start_time": "2021-12-26T15:17:43.855Z"
   },
   {
    "duration": 60,
    "start_time": "2021-12-26T15:17:43.950Z"
   },
   {
    "duration": 46,
    "start_time": "2021-12-26T15:17:44.012Z"
   },
   {
    "duration": 54,
    "start_time": "2021-12-26T15:17:44.059Z"
   },
   {
    "duration": 3,
    "start_time": "2021-12-26T15:17:44.115Z"
   },
   {
    "duration": 11,
    "start_time": "2021-12-26T15:17:44.119Z"
   },
   {
    "duration": 6,
    "start_time": "2021-12-26T15:17:44.132Z"
   },
   {
    "duration": 10,
    "start_time": "2021-12-26T15:17:44.140Z"
   },
   {
    "duration": 9,
    "start_time": "2021-12-26T15:17:44.151Z"
   },
   {
    "duration": 6,
    "start_time": "2021-12-26T15:17:44.202Z"
   },
   {
    "duration": 22,
    "start_time": "2021-12-26T15:17:44.210Z"
   },
   {
    "duration": 15,
    "start_time": "2021-12-26T15:17:44.233Z"
   },
   {
    "duration": 16,
    "start_time": "2021-12-26T15:17:44.249Z"
   },
   {
    "duration": 36,
    "start_time": "2021-12-26T15:17:44.266Z"
   },
   {
    "duration": 20,
    "start_time": "2021-12-26T15:17:44.305Z"
   },
   {
    "duration": 17,
    "start_time": "2021-12-26T15:17:44.328Z"
   },
   {
    "duration": 9,
    "start_time": "2021-12-26T15:17:44.348Z"
   },
   {
    "duration": 81,
    "start_time": "2021-12-26T15:17:44.393Z"
   },
   {
    "duration": 30,
    "start_time": "2021-12-26T15:17:44.477Z"
   },
   {
    "duration": 11,
    "start_time": "2021-12-26T15:17:44.509Z"
   },
   {
    "duration": 5,
    "start_time": "2021-12-26T15:17:44.522Z"
   },
   {
    "duration": 24,
    "start_time": "2021-12-26T15:17:44.529Z"
   },
   {
    "duration": 48,
    "start_time": "2021-12-26T15:17:44.555Z"
   },
   {
    "duration": 21,
    "start_time": "2021-12-26T15:17:44.606Z"
   },
   {
    "duration": 13,
    "start_time": "2021-12-26T15:17:44.628Z"
   },
   {
    "duration": 8,
    "start_time": "2021-12-26T15:17:44.643Z"
   },
   {
    "duration": 5,
    "start_time": "2021-12-26T15:17:44.652Z"
   },
   {
    "duration": 41,
    "start_time": "2021-12-26T15:17:44.658Z"
   },
   {
    "duration": 6,
    "start_time": "2021-12-26T15:17:44.704Z"
   },
   {
    "duration": 13,
    "start_time": "2021-12-26T15:17:44.712Z"
   },
   {
    "duration": 441,
    "start_time": "2022-09-22T19:51:16.677Z"
   },
   {
    "duration": 483,
    "start_time": "2022-09-22T19:51:17.120Z"
   },
   {
    "duration": 17,
    "start_time": "2022-09-22T19:51:17.605Z"
   },
   {
    "duration": 33,
    "start_time": "2022-09-22T19:51:17.624Z"
   },
   {
    "duration": 4,
    "start_time": "2022-09-22T19:51:17.658Z"
   },
   {
    "duration": 15,
    "start_time": "2022-09-22T19:51:17.664Z"
   },
   {
    "duration": 10,
    "start_time": "2022-09-22T19:51:17.681Z"
   },
   {
    "duration": 31,
    "start_time": "2022-09-22T19:51:17.693Z"
   },
   {
    "duration": 18,
    "start_time": "2022-09-22T19:51:17.726Z"
   },
   {
    "duration": 48,
    "start_time": "2022-09-22T19:51:17.746Z"
   },
   {
    "duration": 77,
    "start_time": "2022-09-22T19:51:17.796Z"
   },
   {
    "duration": 89,
    "start_time": "2022-09-22T19:51:17.881Z"
   },
   {
    "duration": 71,
    "start_time": "2022-09-22T19:51:17.972Z"
   },
   {
    "duration": 68,
    "start_time": "2022-09-22T19:51:18.045Z"
   },
   {
    "duration": 34,
    "start_time": "2022-09-22T19:51:18.114Z"
   },
   {
    "duration": 3,
    "start_time": "2022-09-22T19:51:18.150Z"
   },
   {
    "duration": 13,
    "start_time": "2022-09-22T19:51:18.155Z"
   },
   {
    "duration": 30,
    "start_time": "2022-09-22T19:51:18.169Z"
   },
   {
    "duration": 17,
    "start_time": "2022-09-22T19:51:18.200Z"
   },
   {
    "duration": 14,
    "start_time": "2022-09-22T19:51:18.219Z"
   },
   {
    "duration": 7,
    "start_time": "2022-09-22T19:51:18.235Z"
   },
   {
    "duration": 48,
    "start_time": "2022-09-22T19:51:18.244Z"
   },
   {
    "duration": 25,
    "start_time": "2022-09-22T19:51:18.294Z"
   },
   {
    "duration": 16,
    "start_time": "2022-09-22T19:51:18.322Z"
   },
   {
    "duration": 16,
    "start_time": "2022-09-22T19:51:18.340Z"
   },
   {
    "duration": 48,
    "start_time": "2022-09-22T19:51:18.358Z"
   },
   {
    "duration": 20,
    "start_time": "2022-09-22T19:51:18.408Z"
   },
   {
    "duration": 9,
    "start_time": "2022-09-22T19:51:18.431Z"
   },
   {
    "duration": 104,
    "start_time": "2022-09-22T19:51:18.442Z"
   },
   {
    "duration": 14,
    "start_time": "2022-09-22T19:51:18.549Z"
   },
   {
    "duration": 27,
    "start_time": "2022-09-22T19:51:18.565Z"
   },
   {
    "duration": 5,
    "start_time": "2022-09-22T19:51:18.596Z"
   },
   {
    "duration": 29,
    "start_time": "2022-09-22T19:51:18.604Z"
   },
   {
    "duration": 13,
    "start_time": "2022-09-22T19:51:18.635Z"
   },
   {
    "duration": 18,
    "start_time": "2022-09-22T19:51:18.649Z"
   },
   {
    "duration": 31,
    "start_time": "2022-09-22T19:51:18.669Z"
   },
   {
    "duration": 15,
    "start_time": "2022-09-22T19:51:18.702Z"
   },
   {
    "duration": 5,
    "start_time": "2022-09-22T19:51:18.719Z"
   },
   {
    "duration": 6,
    "start_time": "2022-09-22T19:51:18.726Z"
   },
   {
    "duration": 7,
    "start_time": "2022-09-22T19:51:18.734Z"
   },
   {
    "duration": 7,
    "start_time": "2022-09-22T19:51:18.743Z"
   },
   {
    "duration": 69,
    "start_time": "2022-09-22T19:53:34.872Z"
   },
   {
    "duration": 439,
    "start_time": "2022-09-22T19:53:47.177Z"
   },
   {
    "duration": 182,
    "start_time": "2022-09-22T19:53:47.618Z"
   },
   {
    "duration": 18,
    "start_time": "2022-09-22T19:53:47.802Z"
   },
   {
    "duration": 32,
    "start_time": "2022-09-22T19:53:47.823Z"
   },
   {
    "duration": 5,
    "start_time": "2022-09-22T19:53:47.857Z"
   },
   {
    "duration": 45,
    "start_time": "2022-09-22T19:53:47.863Z"
   },
   {
    "duration": 4,
    "start_time": "2022-09-22T19:53:47.909Z"
   },
   {
    "duration": 27,
    "start_time": "2022-09-22T19:53:47.915Z"
   },
   {
    "duration": 18,
    "start_time": "2022-09-22T19:53:47.944Z"
   },
   {
    "duration": 47,
    "start_time": "2022-09-22T19:53:47.965Z"
   },
   {
    "duration": 77,
    "start_time": "2022-09-22T19:53:48.014Z"
   },
   {
    "duration": 83,
    "start_time": "2022-09-22T19:53:48.093Z"
   },
   {
    "duration": 79,
    "start_time": "2022-09-22T19:53:48.177Z"
   },
   {
    "duration": 93,
    "start_time": "2022-09-22T19:53:48.258Z"
   },
   {
    "duration": 0,
    "start_time": "2022-09-22T19:53:48.353Z"
   },
   {
    "duration": 0,
    "start_time": "2022-09-22T19:53:48.354Z"
   },
   {
    "duration": 0,
    "start_time": "2022-09-22T19:53:48.356Z"
   },
   {
    "duration": 0,
    "start_time": "2022-09-22T19:53:48.357Z"
   },
   {
    "duration": 0,
    "start_time": "2022-09-22T19:53:48.358Z"
   },
   {
    "duration": 0,
    "start_time": "2022-09-22T19:53:48.359Z"
   },
   {
    "duration": 0,
    "start_time": "2022-09-22T19:53:48.361Z"
   },
   {
    "duration": 0,
    "start_time": "2022-09-22T19:53:48.362Z"
   },
   {
    "duration": 0,
    "start_time": "2022-09-22T19:53:48.363Z"
   },
   {
    "duration": 0,
    "start_time": "2022-09-22T19:53:48.364Z"
   },
   {
    "duration": 0,
    "start_time": "2022-09-22T19:53:48.365Z"
   },
   {
    "duration": 0,
    "start_time": "2022-09-22T19:53:48.392Z"
   },
   {
    "duration": 0,
    "start_time": "2022-09-22T19:53:48.392Z"
   },
   {
    "duration": 0,
    "start_time": "2022-09-22T19:53:48.400Z"
   },
   {
    "duration": 0,
    "start_time": "2022-09-22T19:53:48.400Z"
   },
   {
    "duration": 0,
    "start_time": "2022-09-22T19:53:48.401Z"
   },
   {
    "duration": 0,
    "start_time": "2022-09-22T19:53:48.402Z"
   },
   {
    "duration": 0,
    "start_time": "2022-09-22T19:53:48.402Z"
   },
   {
    "duration": 0,
    "start_time": "2022-09-22T19:53:48.403Z"
   },
   {
    "duration": 0,
    "start_time": "2022-09-22T19:53:48.405Z"
   },
   {
    "duration": 0,
    "start_time": "2022-09-22T19:53:48.407Z"
   },
   {
    "duration": 0,
    "start_time": "2022-09-22T19:53:48.408Z"
   },
   {
    "duration": 0,
    "start_time": "2022-09-22T19:53:48.409Z"
   },
   {
    "duration": 0,
    "start_time": "2022-09-22T19:53:48.410Z"
   },
   {
    "duration": 0,
    "start_time": "2022-09-22T19:53:48.411Z"
   },
   {
    "duration": 0,
    "start_time": "2022-09-22T19:53:48.412Z"
   },
   {
    "duration": 0,
    "start_time": "2022-09-22T19:53:48.413Z"
   },
   {
    "duration": 0,
    "start_time": "2022-09-22T19:53:48.414Z"
   },
   {
    "duration": 43,
    "start_time": "2022-09-22T19:54:34.596Z"
   },
   {
    "duration": 56,
    "start_time": "2022-09-22T19:54:38.760Z"
   },
   {
    "duration": 3,
    "start_time": "2022-09-22T19:57:26.202Z"
   },
   {
    "duration": 10,
    "start_time": "2022-09-22T19:57:31.232Z"
   },
   {
    "duration": 7,
    "start_time": "2022-09-22T19:58:31.668Z"
   },
   {
    "duration": 10,
    "start_time": "2022-09-22T20:03:18.468Z"
   },
   {
    "duration": 11,
    "start_time": "2022-09-22T20:03:34.020Z"
   },
   {
    "duration": 12,
    "start_time": "2022-09-22T20:08:37.551Z"
   }
  ],
  "colab": {
   "collapsed_sections": [
    "E0vqbgi9ay0H",
    "VUC88oWjTJw2"
   ],
   "name": "yandex_music_project_2021.2.ipynb",
   "provenance": []
  },
  "kernelspec": {
   "display_name": "Python 3 (ipykernel)",
   "language": "python",
   "name": "python3"
  },
  "language_info": {
   "codemirror_mode": {
    "name": "ipython",
    "version": 3
   },
   "file_extension": ".py",
   "mimetype": "text/x-python",
   "name": "python",
   "nbconvert_exporter": "python",
   "pygments_lexer": "ipython3",
   "version": "3.9.5"
  },
  "toc": {
   "base_numbering": 1,
   "nav_menu": {},
   "number_sections": true,
   "sideBar": true,
   "skip_h1_title": true,
   "title_cell": "Table of Contents",
   "title_sidebar": "Contents",
   "toc_cell": false,
   "toc_position": {},
   "toc_section_display": true,
   "toc_window_display": true
  }
 },
 "nbformat": 4,
 "nbformat_minor": 1
}
